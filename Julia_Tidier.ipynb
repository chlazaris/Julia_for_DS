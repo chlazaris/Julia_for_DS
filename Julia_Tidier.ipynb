{
 "cells": [
  {
   "cell_type": "markdown",
   "metadata": {},
   "source": [
    "Here is something in Julia"
   ]
  },
  {
   "cell_type": "code",
   "execution_count": null,
   "metadata": {},
   "outputs": [],
   "source": [
    "println(\"Hello julia!\")"
   ]
  },
  {
   "cell_type": "markdown",
   "metadata": {},
   "source": [
    "Now, here is a for loop in Julia"
   ]
  },
  {
   "cell_type": "code",
   "execution_count": null,
   "metadata": {},
   "outputs": [],
   "source": [
    "for i in 1:1_000_000\n",
    "    println(i)\n",
    "end"
   ]
  },
  {
   "cell_type": "markdown",
   "metadata": {},
   "source": [
    "Now, we start working with `Tidier`"
   ]
  },
  {
   "cell_type": "code",
   "execution_count": 3,
   "metadata": {},
   "outputs": [],
   "source": [
    "# Load the required libraries\n",
    "using RDatasets\n",
    "using Tidier\n",
    "using Chain"
   ]
  },
  {
   "cell_type": "markdown",
   "metadata": {},
   "source": [
    "We will work with the `movies` dataset"
   ]
  },
  {
   "cell_type": "code",
   "execution_count": 6,
   "metadata": {},
   "outputs": [],
   "source": [
    "movies = dataset(\"ggplot2\", \"movies\");"
   ]
  },
  {
   "cell_type": "code",
   "execution_count": 7,
   "metadata": {},
   "outputs": [
    {
     "data": {
      "text/html": [
       "<div><div style = \"float: left;\"><span>10×24 DataFrame</span></div><div style = \"clear: both;\"></div></div><div class = \"data-frame\" style = \"overflow-x: scroll;\"><table class = \"data-frame\" style = \"margin-bottom: 6px;\"><thead><tr class = \"header\"><th class = \"rowNumber\" style = \"font-weight: bold; text-align: right;\">Row</th><th style = \"text-align: left;\">Title</th><th style = \"text-align: left;\">Year</th><th style = \"text-align: left;\">Length</th><th style = \"text-align: left;\">Budget</th><th style = \"text-align: left;\">Rating</th><th style = \"text-align: left;\">Votes</th><th style = \"text-align: left;\">R1</th><th style = \"text-align: left;\">R2</th><th style = \"text-align: left;\">R3</th><th style = \"text-align: left;\">R4</th><th style = \"text-align: left;\">R5</th><th style = \"text-align: left;\">R6</th><th style = \"text-align: left;\">R7</th><th style = \"text-align: left;\">R8</th><th style = \"text-align: left;\">R9</th><th style = \"text-align: left;\">R10</th><th style = \"text-align: left;\">MPAA</th><th style = \"text-align: left;\">Action</th><th style = \"text-align: left;\">Animation</th><th style = \"text-align: left;\">Comedy</th><th style = \"text-align: left;\">Drama</th><th style = \"text-align: left;\">Documentary</th><th style = \"text-align: left;\">Romance</th><th style = \"text-align: left;\">Short</th></tr><tr class = \"subheader headerLastRow\"><th class = \"rowNumber\" style = \"font-weight: bold; text-align: right;\"></th><th title = \"String\" style = \"text-align: left;\">String</th><th title = \"Int32\" style = \"text-align: left;\">Int32</th><th title = \"Int32\" style = \"text-align: left;\">Int32</th><th title = \"Union{Missing, Int32}\" style = \"text-align: left;\">Int32?</th><th title = \"Float64\" style = \"text-align: left;\">Float64</th><th title = \"Int32\" style = \"text-align: left;\">Int32</th><th title = \"Float64\" style = \"text-align: left;\">Float64</th><th title = \"Float64\" style = \"text-align: left;\">Float64</th><th title = \"Float64\" style = \"text-align: left;\">Float64</th><th title = \"Float64\" style = \"text-align: left;\">Float64</th><th title = \"Float64\" style = \"text-align: left;\">Float64</th><th title = \"Float64\" style = \"text-align: left;\">Float64</th><th title = \"Float64\" style = \"text-align: left;\">Float64</th><th title = \"Float64\" style = \"text-align: left;\">Float64</th><th title = \"Float64\" style = \"text-align: left;\">Float64</th><th title = \"Float64\" style = \"text-align: left;\">Float64</th><th title = \"CategoricalValue{String, UInt8}\" style = \"text-align: left;\">Cat…</th><th title = \"Int32\" style = \"text-align: left;\">Int32</th><th title = \"Int32\" style = \"text-align: left;\">Int32</th><th title = \"Int32\" style = \"text-align: left;\">Int32</th><th title = \"Int32\" style = \"text-align: left;\">Int32</th><th title = \"Int32\" style = \"text-align: left;\">Int32</th><th title = \"Int32\" style = \"text-align: left;\">Int32</th><th title = \"Int32\" style = \"text-align: left;\">Int32</th></tr></thead><tbody><tr><td class = \"rowNumber\" style = \"font-weight: bold; text-align: right;\">1</td><td style = \"text-align: left;\">$</td><td style = \"text-align: right;\">1971</td><td style = \"text-align: right;\">121</td><td style = \"font-style: italic; text-align: right;\">missing</td><td style = \"text-align: right;\">6.4</td><td style = \"text-align: right;\">348</td><td style = \"text-align: right;\">4.5</td><td style = \"text-align: right;\">4.5</td><td style = \"text-align: right;\">4.5</td><td style = \"text-align: right;\">4.5</td><td style = \"text-align: right;\">14.5</td><td style = \"text-align: right;\">24.5</td><td style = \"text-align: right;\">24.5</td><td style = \"text-align: right;\">14.5</td><td style = \"text-align: right;\">4.5</td><td style = \"text-align: right;\">4.5</td><td style = \"text-align: left;\"></td><td style = \"text-align: right;\">0</td><td style = \"text-align: right;\">0</td><td style = \"text-align: right;\">1</td><td style = \"text-align: right;\">1</td><td style = \"text-align: right;\">0</td><td style = \"text-align: right;\">0</td><td style = \"text-align: right;\">0</td></tr><tr><td class = \"rowNumber\" style = \"font-weight: bold; text-align: right;\">2</td><td style = \"text-align: left;\">$1000 a Touchdown</td><td style = \"text-align: right;\">1939</td><td style = \"text-align: right;\">71</td><td style = \"font-style: italic; text-align: right;\">missing</td><td style = \"text-align: right;\">6.0</td><td style = \"text-align: right;\">20</td><td style = \"text-align: right;\">0.0</td><td style = \"text-align: right;\">14.5</td><td style = \"text-align: right;\">4.5</td><td style = \"text-align: right;\">24.5</td><td style = \"text-align: right;\">14.5</td><td style = \"text-align: right;\">14.5</td><td style = \"text-align: right;\">14.5</td><td style = \"text-align: right;\">4.5</td><td style = \"text-align: right;\">4.5</td><td style = \"text-align: right;\">14.5</td><td style = \"text-align: left;\"></td><td style = \"text-align: right;\">0</td><td style = \"text-align: right;\">0</td><td style = \"text-align: right;\">1</td><td style = \"text-align: right;\">0</td><td style = \"text-align: right;\">0</td><td style = \"text-align: right;\">0</td><td style = \"text-align: right;\">0</td></tr><tr><td class = \"rowNumber\" style = \"font-weight: bold; text-align: right;\">3</td><td style = \"text-align: left;\">$21 a Day Once a Month</td><td style = \"text-align: right;\">1941</td><td style = \"text-align: right;\">7</td><td style = \"font-style: italic; text-align: right;\">missing</td><td style = \"text-align: right;\">8.2</td><td style = \"text-align: right;\">5</td><td style = \"text-align: right;\">0.0</td><td style = \"text-align: right;\">0.0</td><td style = \"text-align: right;\">0.0</td><td style = \"text-align: right;\">0.0</td><td style = \"text-align: right;\">0.0</td><td style = \"text-align: right;\">24.5</td><td style = \"text-align: right;\">0.0</td><td style = \"text-align: right;\">44.5</td><td style = \"text-align: right;\">24.5</td><td style = \"text-align: right;\">24.5</td><td style = \"text-align: left;\"></td><td style = \"text-align: right;\">0</td><td style = \"text-align: right;\">1</td><td style = \"text-align: right;\">0</td><td style = \"text-align: right;\">0</td><td style = \"text-align: right;\">0</td><td style = \"text-align: right;\">0</td><td style = \"text-align: right;\">1</td></tr><tr><td class = \"rowNumber\" style = \"font-weight: bold; text-align: right;\">4</td><td style = \"text-align: left;\">$40,000</td><td style = \"text-align: right;\">1996</td><td style = \"text-align: right;\">70</td><td style = \"font-style: italic; text-align: right;\">missing</td><td style = \"text-align: right;\">8.2</td><td style = \"text-align: right;\">6</td><td style = \"text-align: right;\">14.5</td><td style = \"text-align: right;\">0.0</td><td style = \"text-align: right;\">0.0</td><td style = \"text-align: right;\">0.0</td><td style = \"text-align: right;\">0.0</td><td style = \"text-align: right;\">0.0</td><td style = \"text-align: right;\">0.0</td><td style = \"text-align: right;\">0.0</td><td style = \"text-align: right;\">34.5</td><td style = \"text-align: right;\">45.5</td><td style = \"text-align: left;\"></td><td style = \"text-align: right;\">0</td><td style = \"text-align: right;\">0</td><td style = \"text-align: right;\">1</td><td style = \"text-align: right;\">0</td><td style = \"text-align: right;\">0</td><td style = \"text-align: right;\">0</td><td style = \"text-align: right;\">0</td></tr><tr><td class = \"rowNumber\" style = \"font-weight: bold; text-align: right;\">5</td><td style = \"text-align: left;\">$50,000 Climax Show, The</td><td style = \"text-align: right;\">1975</td><td style = \"text-align: right;\">71</td><td style = \"font-style: italic; text-align: right;\">missing</td><td style = \"text-align: right;\">3.4</td><td style = \"text-align: right;\">17</td><td style = \"text-align: right;\">24.5</td><td style = \"text-align: right;\">4.5</td><td style = \"text-align: right;\">0.0</td><td style = \"text-align: right;\">14.5</td><td style = \"text-align: right;\">14.5</td><td style = \"text-align: right;\">4.5</td><td style = \"text-align: right;\">0.0</td><td style = \"text-align: right;\">0.0</td><td style = \"text-align: right;\">0.0</td><td style = \"text-align: right;\">24.5</td><td style = \"text-align: left;\"></td><td style = \"text-align: right;\">0</td><td style = \"text-align: right;\">0</td><td style = \"text-align: right;\">0</td><td style = \"text-align: right;\">0</td><td style = \"text-align: right;\">0</td><td style = \"text-align: right;\">0</td><td style = \"text-align: right;\">0</td></tr><tr><td class = \"rowNumber\" style = \"font-weight: bold; text-align: right;\">6</td><td style = \"text-align: left;\">$pent</td><td style = \"text-align: right;\">2000</td><td style = \"text-align: right;\">91</td><td style = \"font-style: italic; text-align: right;\">missing</td><td style = \"text-align: right;\">4.3</td><td style = \"text-align: right;\">45</td><td style = \"text-align: right;\">4.5</td><td style = \"text-align: right;\">4.5</td><td style = \"text-align: right;\">4.5</td><td style = \"text-align: right;\">14.5</td><td style = \"text-align: right;\">14.5</td><td style = \"text-align: right;\">14.5</td><td style = \"text-align: right;\">4.5</td><td style = \"text-align: right;\">4.5</td><td style = \"text-align: right;\">14.5</td><td style = \"text-align: right;\">14.5</td><td style = \"text-align: left;\"></td><td style = \"text-align: right;\">0</td><td style = \"text-align: right;\">0</td><td style = \"text-align: right;\">0</td><td style = \"text-align: right;\">1</td><td style = \"text-align: right;\">0</td><td style = \"text-align: right;\">0</td><td style = \"text-align: right;\">0</td></tr><tr><td class = \"rowNumber\" style = \"font-weight: bold; text-align: right;\">7</td><td style = \"text-align: left;\">$windle</td><td style = \"text-align: right;\">2002</td><td style = \"text-align: right;\">93</td><td style = \"font-style: italic; text-align: right;\">missing</td><td style = \"text-align: right;\">5.3</td><td style = \"text-align: right;\">200</td><td style = \"text-align: right;\">4.5</td><td style = \"text-align: right;\">0.0</td><td style = \"text-align: right;\">4.5</td><td style = \"text-align: right;\">4.5</td><td style = \"text-align: right;\">24.5</td><td style = \"text-align: right;\">24.5</td><td style = \"text-align: right;\">14.5</td><td style = \"text-align: right;\">4.5</td><td style = \"text-align: right;\">4.5</td><td style = \"text-align: right;\">14.5</td><td style = \"text-align: left;\">R</td><td style = \"text-align: right;\">1</td><td style = \"text-align: right;\">0</td><td style = \"text-align: right;\">0</td><td style = \"text-align: right;\">1</td><td style = \"text-align: right;\">0</td><td style = \"text-align: right;\">0</td><td style = \"text-align: right;\">0</td></tr><tr><td class = \"rowNumber\" style = \"font-weight: bold; text-align: right;\">8</td><td style = \"text-align: left;\">&apos;15&apos;</td><td style = \"text-align: right;\">2002</td><td style = \"text-align: right;\">25</td><td style = \"font-style: italic; text-align: right;\">missing</td><td style = \"text-align: right;\">6.7</td><td style = \"text-align: right;\">24</td><td style = \"text-align: right;\">4.5</td><td style = \"text-align: right;\">4.5</td><td style = \"text-align: right;\">4.5</td><td style = \"text-align: right;\">4.5</td><td style = \"text-align: right;\">4.5</td><td style = \"text-align: right;\">14.5</td><td style = \"text-align: right;\">14.5</td><td style = \"text-align: right;\">14.5</td><td style = \"text-align: right;\">4.5</td><td style = \"text-align: right;\">14.5</td><td style = \"text-align: left;\"></td><td style = \"text-align: right;\">0</td><td style = \"text-align: right;\">0</td><td style = \"text-align: right;\">0</td><td style = \"text-align: right;\">0</td><td style = \"text-align: right;\">1</td><td style = \"text-align: right;\">0</td><td style = \"text-align: right;\">1</td></tr><tr><td class = \"rowNumber\" style = \"font-weight: bold; text-align: right;\">9</td><td style = \"text-align: left;\">&apos;38</td><td style = \"text-align: right;\">1987</td><td style = \"text-align: right;\">97</td><td style = \"font-style: italic; text-align: right;\">missing</td><td style = \"text-align: right;\">6.6</td><td style = \"text-align: right;\">18</td><td style = \"text-align: right;\">4.5</td><td style = \"text-align: right;\">4.5</td><td style = \"text-align: right;\">4.5</td><td style = \"text-align: right;\">0.0</td><td style = \"text-align: right;\">0.0</td><td style = \"text-align: right;\">0.0</td><td style = \"text-align: right;\">34.5</td><td style = \"text-align: right;\">14.5</td><td style = \"text-align: right;\">4.5</td><td style = \"text-align: right;\">24.5</td><td style = \"text-align: left;\"></td><td style = \"text-align: right;\">0</td><td style = \"text-align: right;\">0</td><td style = \"text-align: right;\">0</td><td style = \"text-align: right;\">1</td><td style = \"text-align: right;\">0</td><td style = \"text-align: right;\">0</td><td style = \"text-align: right;\">0</td></tr><tr><td class = \"rowNumber\" style = \"font-weight: bold; text-align: right;\">10</td><td style = \"text-align: left;\">&apos;49-&apos;17</td><td style = \"text-align: right;\">1917</td><td style = \"text-align: right;\">61</td><td style = \"font-style: italic; text-align: right;\">missing</td><td style = \"text-align: right;\">6.0</td><td style = \"text-align: right;\">51</td><td style = \"text-align: right;\">4.5</td><td style = \"text-align: right;\">0.0</td><td style = \"text-align: right;\">4.5</td><td style = \"text-align: right;\">4.5</td><td style = \"text-align: right;\">4.5</td><td style = \"text-align: right;\">44.5</td><td style = \"text-align: right;\">14.5</td><td style = \"text-align: right;\">4.5</td><td style = \"text-align: right;\">4.5</td><td style = \"text-align: right;\">4.5</td><td style = \"text-align: left;\"></td><td style = \"text-align: right;\">0</td><td style = \"text-align: right;\">0</td><td style = \"text-align: right;\">0</td><td style = \"text-align: right;\">0</td><td style = \"text-align: right;\">0</td><td style = \"text-align: right;\">0</td><td style = \"text-align: right;\">0</td></tr></tbody></table></div>"
      ],
      "text/latex": [
       "\\begin{tabular}{r|ccccccccc}\n",
       "\t& Title & Year & Length & Budget & Rating & Votes & R1 & R2 & \\\\\n",
       "\t\\hline\n",
       "\t& String & Int32 & Int32 & Int32? & Float64 & Int32 & Float64 & Float64 & \\\\\n",
       "\t\\hline\n",
       "\t1 & \\$ & 1971 & 121 & \\emph{missing} & 6.4 & 348 & 4.5 & 4.5 & $\\dots$ \\\\\n",
       "\t2 & \\$1000 a Touchdown & 1939 & 71 & \\emph{missing} & 6.0 & 20 & 0.0 & 14.5 & $\\dots$ \\\\\n",
       "\t3 & \\$21 a Day Once a Month & 1941 & 7 & \\emph{missing} & 8.2 & 5 & 0.0 & 0.0 & $\\dots$ \\\\\n",
       "\t4 & \\$40,000 & 1996 & 70 & \\emph{missing} & 8.2 & 6 & 14.5 & 0.0 & $\\dots$ \\\\\n",
       "\t5 & \\$50,000 Climax Show, The & 1975 & 71 & \\emph{missing} & 3.4 & 17 & 24.5 & 4.5 & $\\dots$ \\\\\n",
       "\t6 & \\$pent & 2000 & 91 & \\emph{missing} & 4.3 & 45 & 4.5 & 4.5 & $\\dots$ \\\\\n",
       "\t7 & \\$windle & 2002 & 93 & \\emph{missing} & 5.3 & 200 & 4.5 & 0.0 & $\\dots$ \\\\\n",
       "\t8 & '15' & 2002 & 25 & \\emph{missing} & 6.7 & 24 & 4.5 & 4.5 & $\\dots$ \\\\\n",
       "\t9 & '38 & 1987 & 97 & \\emph{missing} & 6.6 & 18 & 4.5 & 4.5 & $\\dots$ \\\\\n",
       "\t10 & '49-'17 & 1917 & 61 & \\emph{missing} & 6.0 & 51 & 4.5 & 0.0 & $\\dots$ \\\\\n",
       "\\end{tabular}\n"
      ],
      "text/plain": [
       "\u001b[1m10×24 DataFrame\u001b[0m\n",
       "\u001b[1m Row \u001b[0m│\u001b[1m Title                    \u001b[0m\u001b[1m Year  \u001b[0m\u001b[1m Length \u001b[0m\u001b[1m Budget  \u001b[0m\u001b[1m Rating  \u001b[0m\u001b[1m Votes \u001b[0m\u001b[1m R1   \u001b[0m ⋯\n",
       "     │\u001b[90m String                   \u001b[0m\u001b[90m Int32 \u001b[0m\u001b[90m Int32  \u001b[0m\u001b[90m Int32?  \u001b[0m\u001b[90m Float64 \u001b[0m\u001b[90m Int32 \u001b[0m\u001b[90m Float\u001b[0m ⋯\n",
       "─────┼──────────────────────────────────────────────────────────────────────────\n",
       "   1 │ $                          1971     121 \u001b[90m missing \u001b[0m     6.4    348      4 ⋯\n",
       "   2 │ $1000 a Touchdown          1939      71 \u001b[90m missing \u001b[0m     6.0     20      0\n",
       "   3 │ $21 a Day Once a Month     1941       7 \u001b[90m missing \u001b[0m     8.2      5      0\n",
       "   4 │ $40,000                    1996      70 \u001b[90m missing \u001b[0m     8.2      6     14\n",
       "   5 │ $50,000 Climax Show, The   1975      71 \u001b[90m missing \u001b[0m     3.4     17     24 ⋯\n",
       "   6 │ $pent                      2000      91 \u001b[90m missing \u001b[0m     4.3     45      4\n",
       "   7 │ $windle                    2002      93 \u001b[90m missing \u001b[0m     5.3    200      4\n",
       "   8 │ '15'                       2002      25 \u001b[90m missing \u001b[0m     6.7     24      4\n",
       "   9 │ '38                        1987      97 \u001b[90m missing \u001b[0m     6.6     18      4 ⋯\n",
       "  10 │ '49-'17                    1917      61 \u001b[90m missing \u001b[0m     6.0     51      4\n",
       "\u001b[36m                                                              18 columns omitted\u001b[0m"
      ]
     },
     "metadata": {},
     "output_type": "display_data"
    }
   ],
   "source": [
    "# Check the first 10 lines\n",
    "first(movies, 10)"
   ]
  },
  {
   "cell_type": "code",
   "execution_count": 8,
   "metadata": {},
   "outputs": [
    {
     "data": {
      "text/html": [
       "<div><div style = \"float: left;\"><span>24×2 DataFrame</span></div><div style = \"clear: both;\"></div></div><div class = \"data-frame\" style = \"overflow-x: scroll;\"><table class = \"data-frame\" style = \"margin-bottom: 6px;\"><thead><tr class = \"header\"><th class = \"rowNumber\" style = \"font-weight: bold; text-align: right;\">Row</th><th style = \"text-align: left;\">variable</th><th style = \"text-align: left;\">nmissing</th></tr><tr class = \"subheader headerLastRow\"><th class = \"rowNumber\" style = \"font-weight: bold; text-align: right;\"></th><th title = \"Symbol\" style = \"text-align: left;\">Symbol</th><th title = \"Int64\" style = \"text-align: left;\">Int64</th></tr></thead><tbody><tr><td class = \"rowNumber\" style = \"font-weight: bold; text-align: right;\">1</td><td style = \"text-align: left;\">Title</td><td style = \"text-align: right;\">0</td></tr><tr><td class = \"rowNumber\" style = \"font-weight: bold; text-align: right;\">2</td><td style = \"text-align: left;\">Year</td><td style = \"text-align: right;\">0</td></tr><tr><td class = \"rowNumber\" style = \"font-weight: bold; text-align: right;\">3</td><td style = \"text-align: left;\">Length</td><td style = \"text-align: right;\">0</td></tr><tr><td class = \"rowNumber\" style = \"font-weight: bold; text-align: right;\">4</td><td style = \"text-align: left;\">Budget</td><td style = \"text-align: right;\">53573</td></tr><tr><td class = \"rowNumber\" style = \"font-weight: bold; text-align: right;\">5</td><td style = \"text-align: left;\">Rating</td><td style = \"text-align: right;\">0</td></tr><tr><td class = \"rowNumber\" style = \"font-weight: bold; text-align: right;\">6</td><td style = \"text-align: left;\">Votes</td><td style = \"text-align: right;\">0</td></tr><tr><td class = \"rowNumber\" style = \"font-weight: bold; text-align: right;\">7</td><td style = \"text-align: left;\">R1</td><td style = \"text-align: right;\">0</td></tr><tr><td class = \"rowNumber\" style = \"font-weight: bold; text-align: right;\">8</td><td style = \"text-align: left;\">R2</td><td style = \"text-align: right;\">0</td></tr><tr><td class = \"rowNumber\" style = \"font-weight: bold; text-align: right;\">9</td><td style = \"text-align: left;\">R3</td><td style = \"text-align: right;\">0</td></tr><tr><td class = \"rowNumber\" style = \"font-weight: bold; text-align: right;\">10</td><td style = \"text-align: left;\">R4</td><td style = \"text-align: right;\">0</td></tr><tr><td class = \"rowNumber\" style = \"font-weight: bold; text-align: right;\">11</td><td style = \"text-align: left;\">R5</td><td style = \"text-align: right;\">0</td></tr><tr><td class = \"rowNumber\" style = \"font-weight: bold; text-align: right;\">12</td><td style = \"text-align: left;\">R6</td><td style = \"text-align: right;\">0</td></tr><tr><td class = \"rowNumber\" style = \"font-weight: bold; text-align: right;\">13</td><td style = \"text-align: left;\">R7</td><td style = \"text-align: right;\">0</td></tr><tr><td class = \"rowNumber\" style = \"font-weight: bold; text-align: right;\">14</td><td style = \"text-align: left;\">R8</td><td style = \"text-align: right;\">0</td></tr><tr><td class = \"rowNumber\" style = \"font-weight: bold; text-align: right;\">15</td><td style = \"text-align: left;\">R9</td><td style = \"text-align: right;\">0</td></tr><tr><td class = \"rowNumber\" style = \"font-weight: bold; text-align: right;\">16</td><td style = \"text-align: left;\">R10</td><td style = \"text-align: right;\">0</td></tr><tr><td class = \"rowNumber\" style = \"font-weight: bold; text-align: right;\">17</td><td style = \"text-align: left;\">MPAA</td><td style = \"text-align: right;\">0</td></tr><tr><td class = \"rowNumber\" style = \"font-weight: bold; text-align: right;\">18</td><td style = \"text-align: left;\">Action</td><td style = \"text-align: right;\">0</td></tr><tr><td class = \"rowNumber\" style = \"font-weight: bold; text-align: right;\">19</td><td style = \"text-align: left;\">Animation</td><td style = \"text-align: right;\">0</td></tr><tr><td class = \"rowNumber\" style = \"font-weight: bold; text-align: right;\">20</td><td style = \"text-align: left;\">Comedy</td><td style = \"text-align: right;\">0</td></tr><tr><td class = \"rowNumber\" style = \"font-weight: bold; text-align: right;\">21</td><td style = \"text-align: left;\">Drama</td><td style = \"text-align: right;\">0</td></tr><tr><td class = \"rowNumber\" style = \"font-weight: bold; text-align: right;\">22</td><td style = \"text-align: left;\">Documentary</td><td style = \"text-align: right;\">0</td></tr><tr><td class = \"rowNumber\" style = \"font-weight: bold; text-align: right;\">23</td><td style = \"text-align: left;\">Romance</td><td style = \"text-align: right;\">0</td></tr><tr><td class = \"rowNumber\" style = \"font-weight: bold; text-align: right;\">24</td><td style = \"text-align: left;\">Short</td><td style = \"text-align: right;\">0</td></tr></tbody></table></div>"
      ],
      "text/latex": [
       "\\begin{tabular}{r|cc}\n",
       "\t& variable & nmissing\\\\\n",
       "\t\\hline\n",
       "\t& Symbol & Int64\\\\\n",
       "\t\\hline\n",
       "\t1 & Title & 0 \\\\\n",
       "\t2 & Year & 0 \\\\\n",
       "\t3 & Length & 0 \\\\\n",
       "\t4 & Budget & 53573 \\\\\n",
       "\t5 & Rating & 0 \\\\\n",
       "\t6 & Votes & 0 \\\\\n",
       "\t7 & R1 & 0 \\\\\n",
       "\t8 & R2 & 0 \\\\\n",
       "\t9 & R3 & 0 \\\\\n",
       "\t10 & R4 & 0 \\\\\n",
       "\t11 & R5 & 0 \\\\\n",
       "\t12 & R6 & 0 \\\\\n",
       "\t13 & R7 & 0 \\\\\n",
       "\t14 & R8 & 0 \\\\\n",
       "\t15 & R9 & 0 \\\\\n",
       "\t16 & R10 & 0 \\\\\n",
       "\t17 & MPAA & 0 \\\\\n",
       "\t18 & Action & 0 \\\\\n",
       "\t19 & Animation & 0 \\\\\n",
       "\t20 & Comedy & 0 \\\\\n",
       "\t21 & Drama & 0 \\\\\n",
       "\t22 & Documentary & 0 \\\\\n",
       "\t23 & Romance & 0 \\\\\n",
       "\t24 & Short & 0 \\\\\n",
       "\\end{tabular}\n"
      ],
      "text/plain": [
       "\u001b[1m24×2 DataFrame\u001b[0m\n",
       "\u001b[1m Row \u001b[0m│\u001b[1m variable    \u001b[0m\u001b[1m nmissing \u001b[0m\n",
       "     │\u001b[90m Symbol      \u001b[0m\u001b[90m Int64    \u001b[0m\n",
       "─────┼───────────────────────\n",
       "   1 │ Title               0\n",
       "   2 │ Year                0\n",
       "   3 │ Length              0\n",
       "   4 │ Budget          53573\n",
       "   5 │ Rating              0\n",
       "   6 │ Votes               0\n",
       "   7 │ R1                  0\n",
       "   8 │ R2                  0\n",
       "  ⋮  │      ⋮          ⋮\n",
       "  18 │ Action              0\n",
       "  19 │ Animation           0\n",
       "  20 │ Comedy              0\n",
       "  21 │ Drama               0\n",
       "  22 │ Documentary         0\n",
       "  23 │ Romance             0\n",
       "  24 │ Short               0\n",
       "\u001b[36m               9 rows omitted\u001b[0m"
      ]
     },
     "metadata": {},
     "output_type": "display_data"
    }
   ],
   "source": [
    "# Describe the dataset\n",
    "describe(movies, :nmissing)"
   ]
  },
  {
   "cell_type": "markdown",
   "metadata": {},
   "source": [
    "We find the movies with budget"
   ]
  },
  {
   "cell_type": "code",
   "execution_count": 9,
   "metadata": {},
   "outputs": [
    {
     "data": {
      "text/html": [
       "<div><div style = \"float: left;\"><span>5183×24 DataFrame</span></div><div style = \"float: right;\"><span style = \"font-style: italic;\">5158 rows omitted</span></div><div style = \"clear: both;\"></div></div><div class = \"data-frame\" style = \"overflow-x: scroll;\"><table class = \"data-frame\" style = \"margin-bottom: 6px;\"><thead><tr class = \"header\"><th class = \"rowNumber\" style = \"font-weight: bold; text-align: right;\">Row</th><th style = \"text-align: left;\">Title</th><th style = \"text-align: left;\">Year</th><th style = \"text-align: left;\">Length</th><th style = \"text-align: left;\">Budget</th><th style = \"text-align: left;\">Rating</th><th style = \"text-align: left;\">Votes</th><th style = \"text-align: left;\">R1</th><th style = \"text-align: left;\">R2</th><th style = \"text-align: left;\">R3</th><th style = \"text-align: left;\">R4</th><th style = \"text-align: left;\">R5</th><th style = \"text-align: left;\">R6</th><th style = \"text-align: left;\">R7</th><th style = \"text-align: left;\">R8</th><th style = \"text-align: left;\">R9</th><th style = \"text-align: left;\">R10</th><th style = \"text-align: left;\">MPAA</th><th style = \"text-align: left;\">Action</th><th style = \"text-align: left;\">Animation</th><th style = \"text-align: left;\">Comedy</th><th style = \"text-align: left;\">Drama</th><th style = \"text-align: left;\">Documentary</th><th style = \"text-align: left;\">Romance</th><th style = \"text-align: left;\">Short</th></tr><tr class = \"subheader headerLastRow\"><th class = \"rowNumber\" style = \"font-weight: bold; text-align: right;\"></th><th title = \"String\" style = \"text-align: left;\">String</th><th title = \"Int32\" style = \"text-align: left;\">Int32</th><th title = \"Int32\" style = \"text-align: left;\">Int32</th><th title = \"Union{Missing, Int32}\" style = \"text-align: left;\">Int32?</th><th title = \"Float64\" style = \"text-align: left;\">Float64</th><th title = \"Int32\" style = \"text-align: left;\">Int32</th><th title = \"Float64\" style = \"text-align: left;\">Float64</th><th title = \"Float64\" style = \"text-align: left;\">Float64</th><th title = \"Float64\" style = \"text-align: left;\">Float64</th><th title = \"Float64\" style = \"text-align: left;\">Float64</th><th title = \"Float64\" style = \"text-align: left;\">Float64</th><th title = \"Float64\" style = \"text-align: left;\">Float64</th><th title = \"Float64\" style = \"text-align: left;\">Float64</th><th title = \"Float64\" style = \"text-align: left;\">Float64</th><th title = \"Float64\" style = \"text-align: left;\">Float64</th><th title = \"Float64\" style = \"text-align: left;\">Float64</th><th title = \"CategoricalValue{String, UInt8}\" style = \"text-align: left;\">Cat…</th><th title = \"Int32\" style = \"text-align: left;\">Int32</th><th title = \"Int32\" style = \"text-align: left;\">Int32</th><th title = \"Int32\" style = \"text-align: left;\">Int32</th><th title = \"Int32\" style = \"text-align: left;\">Int32</th><th title = \"Int32\" style = \"text-align: left;\">Int32</th><th title = \"Int32\" style = \"text-align: left;\">Int32</th><th title = \"Int32\" style = \"text-align: left;\">Int32</th></tr></thead><tbody><tr><td class = \"rowNumber\" style = \"font-weight: bold; text-align: right;\">1</td><td style = \"text-align: left;\">&apos;G&apos; Men</td><td style = \"text-align: right;\">1935</td><td style = \"text-align: right;\">85</td><td style = \"text-align: right;\">450000</td><td style = \"text-align: right;\">7.2</td><td style = \"text-align: right;\">281</td><td style = \"text-align: right;\">0.0</td><td style = \"text-align: right;\">4.5</td><td style = \"text-align: right;\">4.5</td><td style = \"text-align: right;\">4.5</td><td style = \"text-align: right;\">4.5</td><td style = \"text-align: right;\">14.5</td><td style = \"text-align: right;\">34.5</td><td style = \"text-align: right;\">34.5</td><td style = \"text-align: right;\">4.5</td><td style = \"text-align: right;\">4.5</td><td style = \"text-align: left;\"></td><td style = \"text-align: right;\">0</td><td style = \"text-align: right;\">0</td><td style = \"text-align: right;\">0</td><td style = \"text-align: right;\">1</td><td style = \"text-align: right;\">0</td><td style = \"text-align: right;\">0</td><td style = \"text-align: right;\">0</td></tr><tr><td class = \"rowNumber\" style = \"font-weight: bold; text-align: right;\">2</td><td style = \"text-align: left;\">&apos;Manos&apos; the Hands of Fate</td><td style = \"text-align: right;\">1966</td><td style = \"text-align: right;\">74</td><td style = \"text-align: right;\">19000</td><td style = \"text-align: right;\">1.6</td><td style = \"text-align: right;\">7996</td><td style = \"text-align: right;\">74.5</td><td style = \"text-align: right;\">4.5</td><td style = \"text-align: right;\">4.5</td><td style = \"text-align: right;\">4.5</td><td style = \"text-align: right;\">4.5</td><td style = \"text-align: right;\">4.5</td><td style = \"text-align: right;\">4.5</td><td style = \"text-align: right;\">4.5</td><td style = \"text-align: right;\">4.5</td><td style = \"text-align: right;\">14.5</td><td style = \"text-align: left;\"></td><td style = \"text-align: right;\">0</td><td style = \"text-align: right;\">0</td><td style = \"text-align: right;\">0</td><td style = \"text-align: right;\">0</td><td style = \"text-align: right;\">0</td><td style = \"text-align: right;\">0</td><td style = \"text-align: right;\">0</td></tr><tr><td class = \"rowNumber\" style = \"font-weight: bold; text-align: right;\">3</td><td style = \"text-align: left;\">&apos;Til There Was You</td><td style = \"text-align: right;\">1997</td><td style = \"text-align: right;\">113</td><td style = \"text-align: right;\">23000000</td><td style = \"text-align: right;\">4.8</td><td style = \"text-align: right;\">799</td><td style = \"text-align: right;\">4.5</td><td style = \"text-align: right;\">4.5</td><td style = \"text-align: right;\">4.5</td><td style = \"text-align: right;\">14.5</td><td style = \"text-align: right;\">14.5</td><td style = \"text-align: right;\">14.5</td><td style = \"text-align: right;\">14.5</td><td style = \"text-align: right;\">4.5</td><td style = \"text-align: right;\">4.5</td><td style = \"text-align: right;\">14.5</td><td style = \"text-align: left;\">PG-13</td><td style = \"text-align: right;\">0</td><td style = \"text-align: right;\">0</td><td style = \"text-align: right;\">1</td><td style = \"text-align: right;\">0</td><td style = \"text-align: right;\">0</td><td style = \"text-align: right;\">1</td><td style = \"text-align: right;\">0</td></tr><tr><td class = \"rowNumber\" style = \"font-weight: bold; text-align: right;\">4</td><td style = \"text-align: left;\">.com for Murder</td><td style = \"text-align: right;\">2002</td><td style = \"text-align: right;\">96</td><td style = \"text-align: right;\">5000000</td><td style = \"text-align: right;\">3.7</td><td style = \"text-align: right;\">271</td><td style = \"text-align: right;\">64.5</td><td style = \"text-align: right;\">4.5</td><td style = \"text-align: right;\">4.5</td><td style = \"text-align: right;\">4.5</td><td style = \"text-align: right;\">4.5</td><td style = \"text-align: right;\">4.5</td><td style = \"text-align: right;\">4.5</td><td style = \"text-align: right;\">4.5</td><td style = \"text-align: right;\">4.5</td><td style = \"text-align: right;\">4.5</td><td style = \"text-align: left;\"></td><td style = \"text-align: right;\">0</td><td style = \"text-align: right;\">0</td><td style = \"text-align: right;\">0</td><td style = \"text-align: right;\">0</td><td style = \"text-align: right;\">0</td><td style = \"text-align: right;\">0</td><td style = \"text-align: right;\">0</td></tr><tr><td class = \"rowNumber\" style = \"font-weight: bold; text-align: right;\">5</td><td style = \"text-align: left;\">10 Things I Hate About You</td><td style = \"text-align: right;\">1999</td><td style = \"text-align: right;\">97</td><td style = \"text-align: right;\">16000000</td><td style = \"text-align: right;\">6.7</td><td style = \"text-align: right;\">19095</td><td style = \"text-align: right;\">4.5</td><td style = \"text-align: right;\">4.5</td><td style = \"text-align: right;\">4.5</td><td style = \"text-align: right;\">4.5</td><td style = \"text-align: right;\">4.5</td><td style = \"text-align: right;\">14.5</td><td style = \"text-align: right;\">24.5</td><td style = \"text-align: right;\">14.5</td><td style = \"text-align: right;\">14.5</td><td style = \"text-align: right;\">14.5</td><td style = \"text-align: left;\">PG-13</td><td style = \"text-align: right;\">0</td><td style = \"text-align: right;\">0</td><td style = \"text-align: right;\">1</td><td style = \"text-align: right;\">0</td><td style = \"text-align: right;\">0</td><td style = \"text-align: right;\">1</td><td style = \"text-align: right;\">0</td></tr><tr><td class = \"rowNumber\" style = \"font-weight: bold; text-align: right;\">6</td><td style = \"text-align: left;\">100 Mile Rule</td><td style = \"text-align: right;\">2002</td><td style = \"text-align: right;\">98</td><td style = \"text-align: right;\">1100000</td><td style = \"text-align: right;\">5.6</td><td style = \"text-align: right;\">181</td><td style = \"text-align: right;\">4.5</td><td style = \"text-align: right;\">4.5</td><td style = \"text-align: right;\">4.5</td><td style = \"text-align: right;\">4.5</td><td style = \"text-align: right;\">14.5</td><td style = \"text-align: right;\">24.5</td><td style = \"text-align: right;\">14.5</td><td style = \"text-align: right;\">14.5</td><td style = \"text-align: right;\">4.5</td><td style = \"text-align: right;\">14.5</td><td style = \"text-align: left;\">R</td><td style = \"text-align: right;\">0</td><td style = \"text-align: right;\">0</td><td style = \"text-align: right;\">1</td><td style = \"text-align: right;\">0</td><td style = \"text-align: right;\">0</td><td style = \"text-align: right;\">0</td><td style = \"text-align: right;\">0</td></tr><tr><td class = \"rowNumber\" style = \"font-weight: bold; text-align: right;\">7</td><td style = \"text-align: left;\">100 Proof</td><td style = \"text-align: right;\">1997</td><td style = \"text-align: right;\">94</td><td style = \"text-align: right;\">140000</td><td style = \"text-align: right;\">3.3</td><td style = \"text-align: right;\">19</td><td style = \"text-align: right;\">14.5</td><td style = \"text-align: right;\">14.5</td><td style = \"text-align: right;\">4.5</td><td style = \"text-align: right;\">14.5</td><td style = \"text-align: right;\">14.5</td><td style = \"text-align: right;\">14.5</td><td style = \"text-align: right;\">14.5</td><td style = \"text-align: right;\">0.0</td><td style = \"text-align: right;\">0.0</td><td style = \"text-align: right;\">24.5</td><td style = \"text-align: left;\"></td><td style = \"text-align: right;\">0</td><td style = \"text-align: right;\">0</td><td style = \"text-align: right;\">0</td><td style = \"text-align: right;\">1</td><td style = \"text-align: right;\">0</td><td style = \"text-align: right;\">0</td><td style = \"text-align: right;\">0</td></tr><tr><td class = \"rowNumber\" style = \"font-weight: bold; text-align: right;\">8</td><td style = \"text-align: left;\">101</td><td style = \"text-align: right;\">1989</td><td style = \"text-align: right;\">117</td><td style = \"text-align: right;\">200000</td><td style = \"text-align: right;\">7.8</td><td style = \"text-align: right;\">299</td><td style = \"text-align: right;\">4.5</td><td style = \"text-align: right;\">0.0</td><td style = \"text-align: right;\">4.5</td><td style = \"text-align: right;\">4.5</td><td style = \"text-align: right;\">4.5</td><td style = \"text-align: right;\">4.5</td><td style = \"text-align: right;\">4.5</td><td style = \"text-align: right;\">14.5</td><td style = \"text-align: right;\">14.5</td><td style = \"text-align: right;\">45.5</td><td style = \"text-align: left;\"></td><td style = \"text-align: right;\">0</td><td style = \"text-align: right;\">0</td><td style = \"text-align: right;\">0</td><td style = \"text-align: right;\">0</td><td style = \"text-align: right;\">1</td><td style = \"text-align: right;\">0</td><td style = \"text-align: right;\">0</td></tr><tr><td class = \"rowNumber\" style = \"font-weight: bold; text-align: right;\">9</td><td style = \"text-align: left;\">101-vy kilometer</td><td style = \"text-align: right;\">2001</td><td style = \"text-align: right;\">103</td><td style = \"text-align: right;\">200000</td><td style = \"text-align: right;\">5.8</td><td style = \"text-align: right;\">7</td><td style = \"text-align: right;\">0.0</td><td style = \"text-align: right;\">0.0</td><td style = \"text-align: right;\">14.5</td><td style = \"text-align: right;\">0.0</td><td style = \"text-align: right;\">0.0</td><td style = \"text-align: right;\">44.5</td><td style = \"text-align: right;\">0.0</td><td style = \"text-align: right;\">14.5</td><td style = \"text-align: right;\">0.0</td><td style = \"text-align: right;\">24.5</td><td style = \"text-align: left;\"></td><td style = \"text-align: right;\">0</td><td style = \"text-align: right;\">0</td><td style = \"text-align: right;\">0</td><td style = \"text-align: right;\">1</td><td style = \"text-align: right;\">0</td><td style = \"text-align: right;\">0</td><td style = \"text-align: right;\">0</td></tr><tr><td class = \"rowNumber\" style = \"font-weight: bold; text-align: right;\">10</td><td style = \"text-align: left;\">102 Dalmatians</td><td style = \"text-align: right;\">2000</td><td style = \"text-align: right;\">100</td><td style = \"text-align: right;\">85000000</td><td style = \"text-align: right;\">4.7</td><td style = \"text-align: right;\">1987</td><td style = \"text-align: right;\">4.5</td><td style = \"text-align: right;\">4.5</td><td style = \"text-align: right;\">14.5</td><td style = \"text-align: right;\">14.5</td><td style = \"text-align: right;\">24.5</td><td style = \"text-align: right;\">14.5</td><td style = \"text-align: right;\">14.5</td><td style = \"text-align: right;\">4.5</td><td style = \"text-align: right;\">4.5</td><td style = \"text-align: right;\">4.5</td><td style = \"text-align: left;\"></td><td style = \"text-align: right;\">0</td><td style = \"text-align: right;\">0</td><td style = \"text-align: right;\">1</td><td style = \"text-align: right;\">0</td><td style = \"text-align: right;\">0</td><td style = \"text-align: right;\">0</td><td style = \"text-align: right;\">0</td></tr><tr><td class = \"rowNumber\" style = \"font-weight: bold; text-align: right;\">11</td><td style = \"text-align: left;\">11:14</td><td style = \"text-align: right;\">2003</td><td style = \"text-align: right;\">95</td><td style = \"text-align: right;\">6000000</td><td style = \"text-align: right;\">7.1</td><td style = \"text-align: right;\">605</td><td style = \"text-align: right;\">4.5</td><td style = \"text-align: right;\">4.5</td><td style = \"text-align: right;\">4.5</td><td style = \"text-align: right;\">4.5</td><td style = \"text-align: right;\">4.5</td><td style = \"text-align: right;\">14.5</td><td style = \"text-align: right;\">24.5</td><td style = \"text-align: right;\">24.5</td><td style = \"text-align: right;\">4.5</td><td style = \"text-align: right;\">14.5</td><td style = \"text-align: left;\"></td><td style = \"text-align: right;\">0</td><td style = \"text-align: right;\">0</td><td style = \"text-align: right;\">1</td><td style = \"text-align: right;\">1</td><td style = \"text-align: right;\">0</td><td style = \"text-align: right;\">0</td><td style = \"text-align: right;\">0</td></tr><tr><td class = \"rowNumber\" style = \"font-weight: bold; text-align: right;\">12</td><td style = \"text-align: left;\">12 Angry Men</td><td style = \"text-align: right;\">1957</td><td style = \"text-align: right;\">96</td><td style = \"text-align: right;\">340000</td><td style = \"text-align: right;\">8.7</td><td style = \"text-align: right;\">29278</td><td style = \"text-align: right;\">4.5</td><td style = \"text-align: right;\">4.5</td><td style = \"text-align: right;\">4.5</td><td style = \"text-align: right;\">4.5</td><td style = \"text-align: right;\">4.5</td><td style = \"text-align: right;\">4.5</td><td style = \"text-align: right;\">4.5</td><td style = \"text-align: right;\">24.5</td><td style = \"text-align: right;\">24.5</td><td style = \"text-align: right;\">34.5</td><td style = \"text-align: left;\"></td><td style = \"text-align: right;\">0</td><td style = \"text-align: right;\">0</td><td style = \"text-align: right;\">0</td><td style = \"text-align: right;\">1</td><td style = \"text-align: right;\">0</td><td style = \"text-align: right;\">0</td><td style = \"text-align: right;\">0</td></tr><tr><td class = \"rowNumber\" style = \"font-weight: bold; text-align: right;\">13</td><td style = \"text-align: left;\">12 to the Moon</td><td style = \"text-align: right;\">1960</td><td style = \"text-align: right;\">74</td><td style = \"text-align: right;\">150000</td><td style = \"text-align: right;\">2.8</td><td style = \"text-align: right;\">89</td><td style = \"text-align: right;\">34.5</td><td style = \"text-align: right;\">24.5</td><td style = \"text-align: right;\">14.5</td><td style = \"text-align: right;\">4.5</td><td style = \"text-align: right;\">14.5</td><td style = \"text-align: right;\">4.5</td><td style = \"text-align: right;\">4.5</td><td style = \"text-align: right;\">4.5</td><td style = \"text-align: right;\">4.5</td><td style = \"text-align: right;\">4.5</td><td style = \"text-align: left;\"></td><td style = \"text-align: right;\">0</td><td style = \"text-align: right;\">0</td><td style = \"text-align: right;\">0</td><td style = \"text-align: right;\">0</td><td style = \"text-align: right;\">0</td><td style = \"text-align: right;\">0</td><td style = \"text-align: right;\">0</td></tr><tr><td style = \"text-align: right;\">&vellip;</td><td style = \"text-align: right;\">&vellip;</td><td style = \"text-align: right;\">&vellip;</td><td style = \"text-align: right;\">&vellip;</td><td style = \"text-align: right;\">&vellip;</td><td style = \"text-align: right;\">&vellip;</td><td style = \"text-align: right;\">&vellip;</td><td style = \"text-align: right;\">&vellip;</td><td style = \"text-align: right;\">&vellip;</td><td style = \"text-align: right;\">&vellip;</td><td style = \"text-align: right;\">&vellip;</td><td style = \"text-align: right;\">&vellip;</td><td style = \"text-align: right;\">&vellip;</td><td style = \"text-align: right;\">&vellip;</td><td style = \"text-align: right;\">&vellip;</td><td style = \"text-align: right;\">&vellip;</td><td style = \"text-align: right;\">&vellip;</td><td style = \"text-align: right;\">&vellip;</td><td style = \"text-align: right;\">&vellip;</td><td style = \"text-align: right;\">&vellip;</td><td style = \"text-align: right;\">&vellip;</td><td style = \"text-align: right;\">&vellip;</td><td style = \"text-align: right;\">&vellip;</td><td style = \"text-align: right;\">&vellip;</td><td style = \"text-align: right;\">&vellip;</td></tr><tr><td class = \"rowNumber\" style = \"font-weight: bold; text-align: right;\">5172</td><td style = \"text-align: left;\">Ziegfeld Follies</td><td style = \"text-align: right;\">1946</td><td style = \"text-align: right;\">110</td><td style = \"text-align: right;\">3240816</td><td style = \"text-align: right;\">6.5</td><td style = \"text-align: right;\">335</td><td style = \"text-align: right;\">4.5</td><td style = \"text-align: right;\">4.5</td><td style = \"text-align: right;\">4.5</td><td style = \"text-align: right;\">4.5</td><td style = \"text-align: right;\">14.5</td><td style = \"text-align: right;\">24.5</td><td style = \"text-align: right;\">24.5</td><td style = \"text-align: right;\">14.5</td><td style = \"text-align: right;\">4.5</td><td style = \"text-align: right;\">4.5</td><td style = \"text-align: left;\"></td><td style = \"text-align: right;\">0</td><td style = \"text-align: right;\">0</td><td style = \"text-align: right;\">1</td><td style = \"text-align: right;\">0</td><td style = \"text-align: right;\">0</td><td style = \"text-align: right;\">0</td><td style = \"text-align: right;\">0</td></tr><tr><td class = \"rowNumber\" style = \"font-weight: bold; text-align: right;\">5173</td><td style = \"text-align: left;\">Zimmer Feri</td><td style = \"text-align: right;\">1998</td><td style = \"text-align: right;\">97</td><td style = \"text-align: right;\">500000</td><td style = \"text-align: right;\">6.3</td><td style = \"text-align: right;\">61</td><td style = \"text-align: right;\">14.5</td><td style = \"text-align: right;\">4.5</td><td style = \"text-align: right;\">4.5</td><td style = \"text-align: right;\">4.5</td><td style = \"text-align: right;\">4.5</td><td style = \"text-align: right;\">14.5</td><td style = \"text-align: right;\">4.5</td><td style = \"text-align: right;\">14.5</td><td style = \"text-align: right;\">4.5</td><td style = \"text-align: right;\">34.5</td><td style = \"text-align: left;\"></td><td style = \"text-align: right;\">0</td><td style = \"text-align: right;\">0</td><td style = \"text-align: right;\">1</td><td style = \"text-align: right;\">0</td><td style = \"text-align: right;\">0</td><td style = \"text-align: right;\">0</td><td style = \"text-align: right;\">0</td></tr><tr><td class = \"rowNumber\" style = \"font-weight: bold; text-align: right;\">5174</td><td style = \"text-align: left;\">Zivot je cudo</td><td style = \"text-align: right;\">2004</td><td style = \"text-align: right;\">155</td><td style = \"text-align: right;\">8000000</td><td style = \"text-align: right;\">7.8</td><td style = \"text-align: right;\">844</td><td style = \"text-align: right;\">4.5</td><td style = \"text-align: right;\">4.5</td><td style = \"text-align: right;\">4.5</td><td style = \"text-align: right;\">4.5</td><td style = \"text-align: right;\">4.5</td><td style = \"text-align: right;\">4.5</td><td style = \"text-align: right;\">14.5</td><td style = \"text-align: right;\">24.5</td><td style = \"text-align: right;\">24.5</td><td style = \"text-align: right;\">24.5</td><td style = \"text-align: left;\"></td><td style = \"text-align: right;\">0</td><td style = \"text-align: right;\">0</td><td style = \"text-align: right;\">1</td><td style = \"text-align: right;\">1</td><td style = \"text-align: right;\">0</td><td style = \"text-align: right;\">1</td><td style = \"text-align: right;\">0</td></tr><tr><td class = \"rowNumber\" style = \"font-weight: bold; text-align: right;\">5175</td><td style = \"text-align: left;\">Zohar</td><td style = \"text-align: right;\">1993</td><td style = \"text-align: right;\">116</td><td style = \"text-align: right;\">800000</td><td style = \"text-align: right;\">5.9</td><td style = \"text-align: right;\">26</td><td style = \"text-align: right;\">0.0</td><td style = \"text-align: right;\">0.0</td><td style = \"text-align: right;\">4.5</td><td style = \"text-align: right;\">4.5</td><td style = \"text-align: right;\">4.5</td><td style = \"text-align: right;\">4.5</td><td style = \"text-align: right;\">4.5</td><td style = \"text-align: right;\">24.5</td><td style = \"text-align: right;\">14.5</td><td style = \"text-align: right;\">34.5</td><td style = \"text-align: left;\"></td><td style = \"text-align: right;\">0</td><td style = \"text-align: right;\">0</td><td style = \"text-align: right;\">0</td><td style = \"text-align: right;\">1</td><td style = \"text-align: right;\">0</td><td style = \"text-align: right;\">0</td><td style = \"text-align: right;\">0</td></tr><tr><td class = \"rowNumber\" style = \"font-weight: bold; text-align: right;\">5176</td><td style = \"text-align: left;\">Zombies of the Stratosphere</td><td style = \"text-align: right;\">1952</td><td style = \"text-align: right;\">167</td><td style = \"text-align: right;\">176357</td><td style = \"text-align: right;\">4.4</td><td style = \"text-align: right;\">49</td><td style = \"text-align: right;\">4.5</td><td style = \"text-align: right;\">14.5</td><td style = \"text-align: right;\">4.5</td><td style = \"text-align: right;\">14.5</td><td style = \"text-align: right;\">14.5</td><td style = \"text-align: right;\">14.5</td><td style = \"text-align: right;\">14.5</td><td style = \"text-align: right;\">4.5</td><td style = \"text-align: right;\">4.5</td><td style = \"text-align: right;\">14.5</td><td style = \"text-align: left;\"></td><td style = \"text-align: right;\">1</td><td style = \"text-align: right;\">0</td><td style = \"text-align: right;\">0</td><td style = \"text-align: right;\">0</td><td style = \"text-align: right;\">0</td><td style = \"text-align: right;\">0</td><td style = \"text-align: right;\">0</td></tr><tr><td class = \"rowNumber\" style = \"font-weight: bold; text-align: right;\">5177</td><td style = \"text-align: left;\">Zoo Radio</td><td style = \"text-align: right;\">1990</td><td style = \"text-align: right;\">90</td><td style = \"text-align: right;\">100000</td><td style = \"text-align: right;\">4.6</td><td style = \"text-align: right;\">13</td><td style = \"text-align: right;\">14.5</td><td style = \"text-align: right;\">14.5</td><td style = \"text-align: right;\">14.5</td><td style = \"text-align: right;\">4.5</td><td style = \"text-align: right;\">14.5</td><td style = \"text-align: right;\">14.5</td><td style = \"text-align: right;\">0.0</td><td style = \"text-align: right;\">0.0</td><td style = \"text-align: right;\">0.0</td><td style = \"text-align: right;\">14.5</td><td style = \"text-align: left;\"></td><td style = \"text-align: right;\">0</td><td style = \"text-align: right;\">0</td><td style = \"text-align: right;\">0</td><td style = \"text-align: right;\">0</td><td style = \"text-align: right;\">0</td><td style = \"text-align: right;\">0</td><td style = \"text-align: right;\">0</td></tr><tr><td class = \"rowNumber\" style = \"font-weight: bold; text-align: right;\">5178</td><td style = \"text-align: left;\">Zookeeper, The</td><td style = \"text-align: right;\">2001</td><td style = \"text-align: right;\">108</td><td style = \"text-align: right;\">6000000</td><td style = \"text-align: right;\">7.7</td><td style = \"text-align: right;\">633</td><td style = \"text-align: right;\">4.5</td><td style = \"text-align: right;\">4.5</td><td style = \"text-align: right;\">4.5</td><td style = \"text-align: right;\">4.5</td><td style = \"text-align: right;\">4.5</td><td style = \"text-align: right;\">4.5</td><td style = \"text-align: right;\">14.5</td><td style = \"text-align: right;\">24.5</td><td style = \"text-align: right;\">24.5</td><td style = \"text-align: right;\">14.5</td><td style = \"text-align: left;\"></td><td style = \"text-align: right;\">0</td><td style = \"text-align: right;\">0</td><td style = \"text-align: right;\">0</td><td style = \"text-align: right;\">1</td><td style = \"text-align: right;\">0</td><td style = \"text-align: right;\">0</td><td style = \"text-align: right;\">0</td></tr><tr><td class = \"rowNumber\" style = \"font-weight: bold; text-align: right;\">5179</td><td style = \"text-align: left;\">Zoolander</td><td style = \"text-align: right;\">2001</td><td style = \"text-align: right;\">89</td><td style = \"text-align: right;\">28000000</td><td style = \"text-align: right;\">6.1</td><td style = \"text-align: right;\">18277</td><td style = \"text-align: right;\">4.5</td><td style = \"text-align: right;\">4.5</td><td style = \"text-align: right;\">4.5</td><td style = \"text-align: right;\">4.5</td><td style = \"text-align: right;\">4.5</td><td style = \"text-align: right;\">14.5</td><td style = \"text-align: right;\">24.5</td><td style = \"text-align: right;\">14.5</td><td style = \"text-align: right;\">4.5</td><td style = \"text-align: right;\">4.5</td><td style = \"text-align: left;\">PG-13</td><td style = \"text-align: right;\">0</td><td style = \"text-align: right;\">0</td><td style = \"text-align: right;\">1</td><td style = \"text-align: right;\">0</td><td style = \"text-align: right;\">0</td><td style = \"text-align: right;\">0</td><td style = \"text-align: right;\">0</td></tr><tr><td class = \"rowNumber\" style = \"font-weight: bold; text-align: right;\">5180</td><td style = \"text-align: left;\">Zvezda</td><td style = \"text-align: right;\">2002</td><td style = \"text-align: right;\">97</td><td style = \"text-align: right;\">1300000</td><td style = \"text-align: right;\">7.5</td><td style = \"text-align: right;\">168</td><td style = \"text-align: right;\">4.5</td><td style = \"text-align: right;\">4.5</td><td style = \"text-align: right;\">4.5</td><td style = \"text-align: right;\">4.5</td><td style = \"text-align: right;\">4.5</td><td style = \"text-align: right;\">14.5</td><td style = \"text-align: right;\">24.5</td><td style = \"text-align: right;\">14.5</td><td style = \"text-align: right;\">14.5</td><td style = \"text-align: right;\">24.5</td><td style = \"text-align: left;\"></td><td style = \"text-align: right;\">1</td><td style = \"text-align: right;\">0</td><td style = \"text-align: right;\">0</td><td style = \"text-align: right;\">1</td><td style = \"text-align: right;\">0</td><td style = \"text-align: right;\">0</td><td style = \"text-align: right;\">0</td></tr><tr><td class = \"rowNumber\" style = \"font-weight: bold; text-align: right;\">5181</td><td style = \"text-align: left;\">Zzyzx</td><td style = \"text-align: right;\">2005</td><td style = \"text-align: right;\">90</td><td style = \"text-align: right;\">1000000</td><td style = \"text-align: right;\">8.0</td><td style = \"text-align: right;\">10</td><td style = \"text-align: right;\">24.5</td><td style = \"text-align: right;\">0.0</td><td style = \"text-align: right;\">0.0</td><td style = \"text-align: right;\">0.0</td><td style = \"text-align: right;\">0.0</td><td style = \"text-align: right;\">0.0</td><td style = \"text-align: right;\">0.0</td><td style = \"text-align: right;\">0.0</td><td style = \"text-align: right;\">24.5</td><td style = \"text-align: right;\">64.5</td><td style = \"text-align: left;\"></td><td style = \"text-align: right;\">0</td><td style = \"text-align: right;\">0</td><td style = \"text-align: right;\">0</td><td style = \"text-align: right;\">0</td><td style = \"text-align: right;\">0</td><td style = \"text-align: right;\">0</td><td style = \"text-align: right;\">0</td></tr><tr><td class = \"rowNumber\" style = \"font-weight: bold; text-align: right;\">5182</td><td style = \"text-align: left;\">xXx</td><td style = \"text-align: right;\">2002</td><td style = \"text-align: right;\">132</td><td style = \"text-align: right;\">85000000</td><td style = \"text-align: right;\">5.5</td><td style = \"text-align: right;\">18514</td><td style = \"text-align: right;\">4.5</td><td style = \"text-align: right;\">4.5</td><td style = \"text-align: right;\">4.5</td><td style = \"text-align: right;\">4.5</td><td style = \"text-align: right;\">14.5</td><td style = \"text-align: right;\">14.5</td><td style = \"text-align: right;\">14.5</td><td style = \"text-align: right;\">14.5</td><td style = \"text-align: right;\">4.5</td><td style = \"text-align: right;\">4.5</td><td style = \"text-align: left;\">PG-13</td><td style = \"text-align: right;\">1</td><td style = \"text-align: right;\">0</td><td style = \"text-align: right;\">0</td><td style = \"text-align: right;\">0</td><td style = \"text-align: right;\">0</td><td style = \"text-align: right;\">0</td><td style = \"text-align: right;\">0</td></tr><tr><td class = \"rowNumber\" style = \"font-weight: bold; text-align: right;\">5183</td><td style = \"text-align: left;\">xXx: State of the Union</td><td style = \"text-align: right;\">2005</td><td style = \"text-align: right;\">101</td><td style = \"text-align: right;\">87000000</td><td style = \"text-align: right;\">3.9</td><td style = \"text-align: right;\">1584</td><td style = \"text-align: right;\">24.5</td><td style = \"text-align: right;\">4.5</td><td style = \"text-align: right;\">4.5</td><td style = \"text-align: right;\">4.5</td><td style = \"text-align: right;\">4.5</td><td style = \"text-align: right;\">14.5</td><td style = \"text-align: right;\">4.5</td><td style = \"text-align: right;\">4.5</td><td style = \"text-align: right;\">4.5</td><td style = \"text-align: right;\">14.5</td><td style = \"text-align: left;\">PG-13</td><td style = \"text-align: right;\">1</td><td style = \"text-align: right;\">0</td><td style = \"text-align: right;\">0</td><td style = \"text-align: right;\">0</td><td style = \"text-align: right;\">0</td><td style = \"text-align: right;\">0</td><td style = \"text-align: right;\">0</td></tr></tbody></table></div>"
      ],
      "text/latex": [
       "\\begin{tabular}{r|cccccccc}\n",
       "\t& Title & Year & Length & Budget & Rating & Votes & R1 & \\\\\n",
       "\t\\hline\n",
       "\t& String & Int32 & Int32 & Int32? & Float64 & Int32 & Float64 & \\\\\n",
       "\t\\hline\n",
       "\t1 & 'G' Men & 1935 & 85 & 450000 & 7.2 & 281 & 0.0 & $\\dots$ \\\\\n",
       "\t2 & 'Manos' the Hands of Fate & 1966 & 74 & 19000 & 1.6 & 7996 & 74.5 & $\\dots$ \\\\\n",
       "\t3 & 'Til There Was You & 1997 & 113 & 23000000 & 4.8 & 799 & 4.5 & $\\dots$ \\\\\n",
       "\t4 & .com for Murder & 2002 & 96 & 5000000 & 3.7 & 271 & 64.5 & $\\dots$ \\\\\n",
       "\t5 & 10 Things I Hate About You & 1999 & 97 & 16000000 & 6.7 & 19095 & 4.5 & $\\dots$ \\\\\n",
       "\t6 & 100 Mile Rule & 2002 & 98 & 1100000 & 5.6 & 181 & 4.5 & $\\dots$ \\\\\n",
       "\t7 & 100 Proof & 1997 & 94 & 140000 & 3.3 & 19 & 14.5 & $\\dots$ \\\\\n",
       "\t8 & 101 & 1989 & 117 & 200000 & 7.8 & 299 & 4.5 & $\\dots$ \\\\\n",
       "\t9 & 101-vy kilometer & 2001 & 103 & 200000 & 5.8 & 7 & 0.0 & $\\dots$ \\\\\n",
       "\t10 & 102 Dalmatians & 2000 & 100 & 85000000 & 4.7 & 1987 & 4.5 & $\\dots$ \\\\\n",
       "\t11 & 11:14 & 2003 & 95 & 6000000 & 7.1 & 605 & 4.5 & $\\dots$ \\\\\n",
       "\t12 & 12 Angry Men & 1957 & 96 & 340000 & 8.7 & 29278 & 4.5 & $\\dots$ \\\\\n",
       "\t13 & 12 to the Moon & 1960 & 74 & 150000 & 2.8 & 89 & 34.5 & $\\dots$ \\\\\n",
       "\t14 & 13 Going On 30 & 2004 & 98 & 37000000 & 6.4 & 7859 & 4.5 & $\\dots$ \\\\\n",
       "\t15 & 13th Warrior, The & 1999 & 102 & 85000000 & 6.1 & 14344 & 4.5 & $\\dots$ \\\\\n",
       "\t16 & 1492: Conquest of Paradise & 1992 & 154 & 47000000 & 6.0 & 3379 & 4.5 & $\\dots$ \\\\\n",
       "\t17 & 15 Minutes & 2001 & 120 & 42000000 & 6.1 & 10866 & 4.5 & $\\dots$ \\\\\n",
       "\t18 & 1776 & 1972 & 180 & 4000000 & 7.3 & 1754 & 4.5 & $\\dots$ \\\\\n",
       "\t19 & 1900 & 1976 & 245 & 9000000 & 7.5 & 2408 & 4.5 & $\\dots$ \\\\\n",
       "\t20 & 1941 & 1979 & 146 & 35000000 & 5.6 & 5536 & 4.5 & $\\dots$ \\\\\n",
       "\t21 & 2 Fast 2 Furious & 2003 & 107 & 76000000 & 5.1 & 9556 & 14.5 & $\\dots$ \\\\\n",
       "\t22 & 20 Dates & 1998 & 87 & 60000 & 5.4 & 841 & 4.5 & $\\dots$ \\\\\n",
       "\t23 & 20,000 Leagues Under the Sea & 1916 & 105 & 200000 & 6.2 & 135 & 4.5 & $\\dots$ \\\\\n",
       "\t24 & 200 Cigarettes & 1999 & 101 & 6000000 & 5.4 & 4514 & 4.5 & $\\dots$ \\\\\n",
       "\t$\\dots$ & $\\dots$ & $\\dots$ & $\\dots$ & $\\dots$ & $\\dots$ & $\\dots$ & $\\dots$ &  \\\\\n",
       "\\end{tabular}\n"
      ],
      "text/plain": [
       "\u001b[1m5183×24 DataFrame\u001b[0m\n",
       "\u001b[1m  Row \u001b[0m│\u001b[1m Title                       \u001b[0m\u001b[1m Year  \u001b[0m\u001b[1m Length \u001b[0m\u001b[1m Budget   \u001b[0m\u001b[1m Rating  \u001b[0m\u001b[1m Votes \u001b[0m\u001b[1m \u001b[0m ⋯\n",
       "      │\u001b[90m String                      \u001b[0m\u001b[90m Int32 \u001b[0m\u001b[90m Int32  \u001b[0m\u001b[90m Int32?   \u001b[0m\u001b[90m Float64 \u001b[0m\u001b[90m Int32 \u001b[0m\u001b[90m \u001b[0m ⋯\n",
       "──────┼─────────────────────────────────────────────────────────────────────────\n",
       "    1 │ 'G' Men                       1935      85    450000      7.2    281   ⋯\n",
       "    2 │ 'Manos' the Hands of Fate     1966      74     19000      1.6   7996\n",
       "    3 │ 'Til There Was You            1997     113  23000000      4.8    799\n",
       "    4 │ .com for Murder               2002      96   5000000      3.7    271\n",
       "    5 │ 10 Things I Hate About You    1999      97  16000000      6.7  19095   ⋯\n",
       "    6 │ 100 Mile Rule                 2002      98   1100000      5.6    181\n",
       "    7 │ 100 Proof                     1997      94    140000      3.3     19\n",
       "    8 │ 101                           1989     117    200000      7.8    299\n",
       "  ⋮   │              ⋮                 ⋮      ⋮        ⋮         ⋮       ⋮     ⋱\n",
       " 5177 │ Zoo Radio                     1990      90    100000      4.6     13   ⋯\n",
       " 5178 │ Zookeeper, The                2001     108   6000000      7.7    633\n",
       " 5179 │ Zoolander                     2001      89  28000000      6.1  18277\n",
       " 5180 │ Zvezda                        2002      97   1300000      7.5    168\n",
       " 5181 │ Zzyzx                         2005      90   1000000      8.0     10   ⋯\n",
       " 5182 │ xXx                           2002     132  85000000      5.5  18514\n",
       " 5183 │ xXx: State of the Union       2005     101  87000000      3.9   1584\n",
       "\u001b[36m                                                18 columns and 5168 rows omitted\u001b[0m"
      ]
     },
     "metadata": {},
     "output_type": "display_data"
    }
   ],
   "source": [
    "movies_with_budget = @chain movies begin\n",
    "    @filter(Budget != ismissing(Budget))\n",
    "end"
   ]
  },
  {
   "cell_type": "code",
   "execution_count": 10,
   "metadata": {},
   "outputs": [
    {
     "data": {
      "text/html": [
       "<div><div style = \"float: left;\"><span>24×2 DataFrame</span></div><div style = \"clear: both;\"></div></div><div class = \"data-frame\" style = \"overflow-x: scroll;\"><table class = \"data-frame\" style = \"margin-bottom: 6px;\"><thead><tr class = \"header\"><th class = \"rowNumber\" style = \"font-weight: bold; text-align: right;\">Row</th><th style = \"text-align: left;\">variable</th><th style = \"text-align: left;\">nmissing</th></tr><tr class = \"subheader headerLastRow\"><th class = \"rowNumber\" style = \"font-weight: bold; text-align: right;\"></th><th title = \"Symbol\" style = \"text-align: left;\">Symbol</th><th title = \"Int64\" style = \"text-align: left;\">Int64</th></tr></thead><tbody><tr><td class = \"rowNumber\" style = \"font-weight: bold; text-align: right;\">1</td><td style = \"text-align: left;\">Title</td><td style = \"text-align: right;\">0</td></tr><tr><td class = \"rowNumber\" style = \"font-weight: bold; text-align: right;\">2</td><td style = \"text-align: left;\">Year</td><td style = \"text-align: right;\">0</td></tr><tr><td class = \"rowNumber\" style = \"font-weight: bold; text-align: right;\">3</td><td style = \"text-align: left;\">Length</td><td style = \"text-align: right;\">0</td></tr><tr><td class = \"rowNumber\" style = \"font-weight: bold; text-align: right;\">4</td><td style = \"text-align: left;\">Budget</td><td style = \"text-align: right;\">0</td></tr><tr><td class = \"rowNumber\" style = \"font-weight: bold; text-align: right;\">5</td><td style = \"text-align: left;\">Rating</td><td style = \"text-align: right;\">0</td></tr><tr><td class = \"rowNumber\" style = \"font-weight: bold; text-align: right;\">6</td><td style = \"text-align: left;\">Votes</td><td style = \"text-align: right;\">0</td></tr><tr><td class = \"rowNumber\" style = \"font-weight: bold; text-align: right;\">7</td><td style = \"text-align: left;\">R1</td><td style = \"text-align: right;\">0</td></tr><tr><td class = \"rowNumber\" style = \"font-weight: bold; text-align: right;\">8</td><td style = \"text-align: left;\">R2</td><td style = \"text-align: right;\">0</td></tr><tr><td class = \"rowNumber\" style = \"font-weight: bold; text-align: right;\">9</td><td style = \"text-align: left;\">R3</td><td style = \"text-align: right;\">0</td></tr><tr><td class = \"rowNumber\" style = \"font-weight: bold; text-align: right;\">10</td><td style = \"text-align: left;\">R4</td><td style = \"text-align: right;\">0</td></tr><tr><td class = \"rowNumber\" style = \"font-weight: bold; text-align: right;\">11</td><td style = \"text-align: left;\">R5</td><td style = \"text-align: right;\">0</td></tr><tr><td class = \"rowNumber\" style = \"font-weight: bold; text-align: right;\">12</td><td style = \"text-align: left;\">R6</td><td style = \"text-align: right;\">0</td></tr><tr><td class = \"rowNumber\" style = \"font-weight: bold; text-align: right;\">13</td><td style = \"text-align: left;\">R7</td><td style = \"text-align: right;\">0</td></tr><tr><td class = \"rowNumber\" style = \"font-weight: bold; text-align: right;\">14</td><td style = \"text-align: left;\">R8</td><td style = \"text-align: right;\">0</td></tr><tr><td class = \"rowNumber\" style = \"font-weight: bold; text-align: right;\">15</td><td style = \"text-align: left;\">R9</td><td style = \"text-align: right;\">0</td></tr><tr><td class = \"rowNumber\" style = \"font-weight: bold; text-align: right;\">16</td><td style = \"text-align: left;\">R10</td><td style = \"text-align: right;\">0</td></tr><tr><td class = \"rowNumber\" style = \"font-weight: bold; text-align: right;\">17</td><td style = \"text-align: left;\">MPAA</td><td style = \"text-align: right;\">0</td></tr><tr><td class = \"rowNumber\" style = \"font-weight: bold; text-align: right;\">18</td><td style = \"text-align: left;\">Action</td><td style = \"text-align: right;\">0</td></tr><tr><td class = \"rowNumber\" style = \"font-weight: bold; text-align: right;\">19</td><td style = \"text-align: left;\">Animation</td><td style = \"text-align: right;\">0</td></tr><tr><td class = \"rowNumber\" style = \"font-weight: bold; text-align: right;\">20</td><td style = \"text-align: left;\">Comedy</td><td style = \"text-align: right;\">0</td></tr><tr><td class = \"rowNumber\" style = \"font-weight: bold; text-align: right;\">21</td><td style = \"text-align: left;\">Drama</td><td style = \"text-align: right;\">0</td></tr><tr><td class = \"rowNumber\" style = \"font-weight: bold; text-align: right;\">22</td><td style = \"text-align: left;\">Documentary</td><td style = \"text-align: right;\">0</td></tr><tr><td class = \"rowNumber\" style = \"font-weight: bold; text-align: right;\">23</td><td style = \"text-align: left;\">Romance</td><td style = \"text-align: right;\">0</td></tr><tr><td class = \"rowNumber\" style = \"font-weight: bold; text-align: right;\">24</td><td style = \"text-align: left;\">Short</td><td style = \"text-align: right;\">0</td></tr></tbody></table></div>"
      ],
      "text/latex": [
       "\\begin{tabular}{r|cc}\n",
       "\t& variable & nmissing\\\\\n",
       "\t\\hline\n",
       "\t& Symbol & Int64\\\\\n",
       "\t\\hline\n",
       "\t1 & Title & 0 \\\\\n",
       "\t2 & Year & 0 \\\\\n",
       "\t3 & Length & 0 \\\\\n",
       "\t4 & Budget & 0 \\\\\n",
       "\t5 & Rating & 0 \\\\\n",
       "\t6 & Votes & 0 \\\\\n",
       "\t7 & R1 & 0 \\\\\n",
       "\t8 & R2 & 0 \\\\\n",
       "\t9 & R3 & 0 \\\\\n",
       "\t10 & R4 & 0 \\\\\n",
       "\t11 & R5 & 0 \\\\\n",
       "\t12 & R6 & 0 \\\\\n",
       "\t13 & R7 & 0 \\\\\n",
       "\t14 & R8 & 0 \\\\\n",
       "\t15 & R9 & 0 \\\\\n",
       "\t16 & R10 & 0 \\\\\n",
       "\t17 & MPAA & 0 \\\\\n",
       "\t18 & Action & 0 \\\\\n",
       "\t19 & Animation & 0 \\\\\n",
       "\t20 & Comedy & 0 \\\\\n",
       "\t21 & Drama & 0 \\\\\n",
       "\t22 & Documentary & 0 \\\\\n",
       "\t23 & Romance & 0 \\\\\n",
       "\t24 & Short & 0 \\\\\n",
       "\\end{tabular}\n"
      ],
      "text/plain": [
       "\u001b[1m24×2 DataFrame\u001b[0m\n",
       "\u001b[1m Row \u001b[0m│\u001b[1m variable    \u001b[0m\u001b[1m nmissing \u001b[0m\n",
       "     │\u001b[90m Symbol      \u001b[0m\u001b[90m Int64    \u001b[0m\n",
       "─────┼───────────────────────\n",
       "   1 │ Title               0\n",
       "   2 │ Year                0\n",
       "   3 │ Length              0\n",
       "   4 │ Budget              0\n",
       "   5 │ Rating              0\n",
       "   6 │ Votes               0\n",
       "   7 │ R1                  0\n",
       "   8 │ R2                  0\n",
       "  ⋮  │      ⋮          ⋮\n",
       "  18 │ Action              0\n",
       "  19 │ Animation           0\n",
       "  20 │ Comedy              0\n",
       "  21 │ Drama               0\n",
       "  22 │ Documentary         0\n",
       "  23 │ Romance             0\n",
       "  24 │ Short               0\n",
       "\u001b[36m               9 rows omitted\u001b[0m"
      ]
     },
     "metadata": {},
     "output_type": "display_data"
    }
   ],
   "source": [
    "# Describe the movies_with_budget dataset\n",
    "describe(movies_with_budget, :nmissing) # We observe that there is no missing budget now for any of the movies"
   ]
  },
  {
   "cell_type": "markdown",
   "metadata": {},
   "source": [
    "We report how many movies with budget exist in the dataset"
   ]
  },
  {
   "cell_type": "code",
   "execution_count": 19,
   "metadata": {},
   "outputs": [
    {
     "name": "stdout",
     "output_type": "stream",
     "text": [
      "There are 5183 movies with budget in the \"movies\" dataset\n"
     ]
    }
   ],
   "source": [
    "(nrow, ncol) = size(movies_with_budget)\n",
    "println(\"There are $nrow movies with budget in the \\\"movies\\\" dataset\")"
   ]
  },
  {
   "cell_type": "markdown",
   "metadata": {},
   "source": [
    "Now, we select certain columns for movies that meet certain criteria, as described in the `Tidier` documentation:"
   ]
  },
  {
   "cell_type": "code",
   "execution_count": 20,
   "metadata": {},
   "outputs": [
    {
     "data": {
      "text/html": [
       "<div><div style = \"float: left;\"><span>10×2 DataFrame</span></div><div style = \"clear: both;\"></div></div><div class = \"data-frame\" style = \"overflow-x: scroll;\"><table class = \"data-frame\" style = \"margin-bottom: 6px;\"><thead><tr class = \"header\"><th class = \"rowNumber\" style = \"font-weight: bold; text-align: right;\">Row</th><th style = \"text-align: left;\">Title</th><th style = \"text-align: left;\">Budget_in_mil</th></tr><tr class = \"subheader headerLastRow\"><th class = \"rowNumber\" style = \"font-weight: bold; text-align: right;\"></th><th title = \"String\" style = \"text-align: left;\">String</th><th title = \"Float64\" style = \"text-align: left;\">Float64</th></tr></thead><tbody><tr><td class = \"rowNumber\" style = \"font-weight: bold; text-align: right;\">1</td><td style = \"text-align: left;\">&apos;Til There Was You</td><td style = \"text-align: right;\">23.0</td></tr><tr><td class = \"rowNumber\" style = \"font-weight: bold; text-align: right;\">2</td><td style = \"text-align: left;\">10 Things I Hate About You</td><td style = \"text-align: right;\">16.0</td></tr><tr><td class = \"rowNumber\" style = \"font-weight: bold; text-align: right;\">3</td><td style = \"text-align: left;\">102 Dalmatians</td><td style = \"text-align: right;\">85.0</td></tr><tr><td class = \"rowNumber\" style = \"font-weight: bold; text-align: right;\">4</td><td style = \"text-align: left;\">13 Going On 30</td><td style = \"text-align: right;\">37.0</td></tr><tr><td class = \"rowNumber\" style = \"font-weight: bold; text-align: right;\">5</td><td style = \"text-align: left;\">13th Warrior, The</td><td style = \"text-align: right;\">85.0</td></tr><tr><td class = \"rowNumber\" style = \"font-weight: bold; text-align: right;\">6</td><td style = \"text-align: left;\">1492: Conquest of Paradise</td><td style = \"text-align: right;\">47.0</td></tr><tr><td class = \"rowNumber\" style = \"font-weight: bold; text-align: right;\">7</td><td style = \"text-align: left;\">15 Minutes</td><td style = \"text-align: right;\">42.0</td></tr><tr><td class = \"rowNumber\" style = \"font-weight: bold; text-align: right;\">8</td><td style = \"text-align: left;\">1941</td><td style = \"text-align: right;\">35.0</td></tr><tr><td class = \"rowNumber\" style = \"font-weight: bold; text-align: right;\">9</td><td style = \"text-align: left;\">2 Fast 2 Furious</td><td style = \"text-align: right;\">76.0</td></tr><tr><td class = \"rowNumber\" style = \"font-weight: bold; text-align: right;\">10</td><td style = \"text-align: left;\">2001: A Space Travesty</td><td style = \"text-align: right;\">26.0</td></tr></tbody></table></div>"
      ],
      "text/latex": [
       "\\begin{tabular}{r|cc}\n",
       "\t& Title & Budget\\_in\\_mil\\\\\n",
       "\t\\hline\n",
       "\t& String & Float64\\\\\n",
       "\t\\hline\n",
       "\t1 & 'Til There Was You & 23.0 \\\\\n",
       "\t2 & 10 Things I Hate About You & 16.0 \\\\\n",
       "\t3 & 102 Dalmatians & 85.0 \\\\\n",
       "\t4 & 13 Going On 30 & 37.0 \\\\\n",
       "\t5 & 13th Warrior, The & 85.0 \\\\\n",
       "\t6 & 1492: Conquest of Paradise & 47.0 \\\\\n",
       "\t7 & 15 Minutes & 42.0 \\\\\n",
       "\t8 & 1941 & 35.0 \\\\\n",
       "\t9 & 2 Fast 2 Furious & 76.0 \\\\\n",
       "\t10 & 2001: A Space Travesty & 26.0 \\\\\n",
       "\\end{tabular}\n"
      ],
      "text/plain": [
       "\u001b[1m10×2 DataFrame\u001b[0m\n",
       "\u001b[1m Row \u001b[0m│\u001b[1m Title                      \u001b[0m\u001b[1m Budget_in_mil \u001b[0m\n",
       "     │\u001b[90m String                     \u001b[0m\u001b[90m Float64       \u001b[0m\n",
       "─────┼───────────────────────────────────────────\n",
       "   1 │ 'Til There Was You                   23.0\n",
       "   2 │ 10 Things I Hate About You           16.0\n",
       "   3 │ 102 Dalmatians                       85.0\n",
       "   4 │ 13 Going On 30                       37.0\n",
       "   5 │ 13th Warrior, The                    85.0\n",
       "   6 │ 1492: Conquest of Paradise           47.0\n",
       "   7 │ 15 Minutes                           42.0\n",
       "   8 │ 1941                                 35.0\n",
       "   9 │ 2 Fast 2 Furious                     76.0\n",
       "  10 │ 2001: A Space Travesty               26.0"
      ]
     },
     "metadata": {},
     "output_type": "display_data"
    }
   ],
   "source": [
    "select_movies = @chain movies_with_budget begin\n",
    "    @mutate(Budget_in_mil = Budget /1_000_000)\n",
    "    @filter(Budget >= mean(Budget))\n",
    "    @select(Title, Budget_in_mil)\n",
    "    @slice(1:10)\n",
    "end"
   ]
  },
  {
   "cell_type": "code",
   "execution_count": 21,
   "metadata": {},
   "outputs": [
    {
     "data": {
      "text/html": [
       "<div><div style = \"float: left;\"><span>10×2 DataFrame</span></div><div style = \"clear: both;\"></div></div><div class = \"data-frame\" style = \"overflow-x: scroll;\"><table class = \"data-frame\" style = \"margin-bottom: 6px;\"><thead><tr class = \"header\"><th class = \"rowNumber\" style = \"font-weight: bold; text-align: right;\">Row</th><th style = \"text-align: left;\">Title</th><th style = \"text-align: left;\">Budget_in_mil</th></tr><tr class = \"subheader headerLastRow\"><th class = \"rowNumber\" style = \"font-weight: bold; text-align: right;\"></th><th title = \"String\" style = \"text-align: left;\">String</th><th title = \"Float64\" style = \"text-align: left;\">Float64</th></tr></thead><tbody><tr><td class = \"rowNumber\" style = \"font-weight: bold; text-align: right;\">1</td><td style = \"text-align: left;\">Spider-Man 2</td><td style = \"text-align: right;\">200.0</td></tr><tr><td class = \"rowNumber\" style = \"font-weight: bold; text-align: right;\">2</td><td style = \"text-align: left;\">Titanic</td><td style = \"text-align: right;\">200.0</td></tr><tr><td class = \"rowNumber\" style = \"font-weight: bold; text-align: right;\">3</td><td style = \"text-align: left;\">Troy</td><td style = \"text-align: right;\">185.0</td></tr><tr><td class = \"rowNumber\" style = \"font-weight: bold; text-align: right;\">4</td><td style = \"text-align: left;\">Terminator 3: Rise of the Machines</td><td style = \"text-align: right;\">175.0</td></tr><tr><td class = \"rowNumber\" style = \"font-weight: bold; text-align: right;\">5</td><td style = \"text-align: left;\">Waterworld</td><td style = \"text-align: right;\">175.0</td></tr><tr><td class = \"rowNumber\" style = \"font-weight: bold; text-align: right;\">6</td><td style = \"text-align: left;\">Wild Wild West</td><td style = \"text-align: right;\">170.0</td></tr><tr><td class = \"rowNumber\" style = \"font-weight: bold; text-align: right;\">7</td><td style = \"text-align: left;\">Van Helsing</td><td style = \"text-align: right;\">160.0</td></tr><tr><td class = \"rowNumber\" style = \"font-weight: bold; text-align: right;\">8</td><td style = \"text-align: left;\">Alexander</td><td style = \"text-align: right;\">150.0</td></tr><tr><td class = \"rowNumber\" style = \"font-weight: bold; text-align: right;\">9</td><td style = \"text-align: left;\">Master and Commander: The Far Side of the World</td><td style = \"text-align: right;\">150.0</td></tr><tr><td class = \"rowNumber\" style = \"font-weight: bold; text-align: right;\">10</td><td style = \"text-align: left;\">Polar Express, The</td><td style = \"text-align: right;\">150.0</td></tr></tbody></table></div>"
      ],
      "text/latex": [
       "\\begin{tabular}{r|cc}\n",
       "\t& Title & Budget\\_in\\_mil\\\\\n",
       "\t\\hline\n",
       "\t& String & Float64\\\\\n",
       "\t\\hline\n",
       "\t1 & Spider-Man 2 & 200.0 \\\\\n",
       "\t2 & Titanic & 200.0 \\\\\n",
       "\t3 & Troy & 185.0 \\\\\n",
       "\t4 & Terminator 3: Rise of the Machines & 175.0 \\\\\n",
       "\t5 & Waterworld & 175.0 \\\\\n",
       "\t6 & Wild Wild West & 170.0 \\\\\n",
       "\t7 & Van Helsing & 160.0 \\\\\n",
       "\t8 & Alexander & 150.0 \\\\\n",
       "\t9 & Master and Commander: The Far Side of the World & 150.0 \\\\\n",
       "\t10 & Polar Express, The & 150.0 \\\\\n",
       "\\end{tabular}\n"
      ],
      "text/plain": [
       "\u001b[1m10×2 DataFrame\u001b[0m\n",
       "\u001b[1m Row \u001b[0m│\u001b[1m Title                             \u001b[0m\u001b[1m Budget_in_mil \u001b[0m\n",
       "     │\u001b[90m String                            \u001b[0m\u001b[90m Float64       \u001b[0m\n",
       "─────┼──────────────────────────────────────────────────\n",
       "   1 │ Spider-Man 2                               200.0\n",
       "   2 │ Titanic                                    200.0\n",
       "   3 │ Troy                                       185.0\n",
       "   4 │ Terminator 3: Rise of the Machin…          175.0\n",
       "   5 │ Waterworld                                 175.0\n",
       "   6 │ Wild Wild West                             170.0\n",
       "   7 │ Van Helsing                                160.0\n",
       "   8 │ Alexander                                  150.0\n",
       "   9 │ Master and Commander: The Far Si…          150.0\n",
       "  10 │ Polar Express, The                         150.0"
      ]
     },
     "metadata": {},
     "output_type": "display_data"
    }
   ],
   "source": [
    "# We find the top 10 movies based on Budget\n",
    "top10_budget = @chain movies_with_budget begin\n",
    "    @mutate(Budget_in_mil = Budget /1_000_000)\n",
    "    @arrange(desc(Budget_in_mil))\n",
    "    @select(Title, Budget_in_mil)\n",
    "    @slice(1:10)\n",
    "end"
   ]
  },
  {
   "cell_type": "code",
   "execution_count": 22,
   "metadata": {},
   "outputs": [
    {
     "data": {
      "text/html": [
       "<div><div style = \"float: left;\"><span>1×24 DataFrame</span></div><div style = \"clear: both;\"></div></div><div class = \"data-frame\" style = \"overflow-x: scroll;\"><table class = \"data-frame\" style = \"margin-bottom: 6px;\"><thead><tr class = \"header\"><th class = \"rowNumber\" style = \"font-weight: bold; text-align: right;\">Row</th><th style = \"text-align: left;\">Title</th><th style = \"text-align: left;\">Year</th><th style = \"text-align: left;\">Length</th><th style = \"text-align: left;\">Budget</th><th style = \"text-align: left;\">Rating</th><th style = \"text-align: left;\">Votes</th><th style = \"text-align: left;\">R1</th><th style = \"text-align: left;\">R2</th><th style = \"text-align: left;\">R3</th><th style = \"text-align: left;\">R4</th><th style = \"text-align: left;\">R5</th><th style = \"text-align: left;\">R6</th><th style = \"text-align: left;\">R7</th><th style = \"text-align: left;\">R8</th><th style = \"text-align: left;\">R9</th><th style = \"text-align: left;\">R10</th><th style = \"text-align: left;\">MPAA</th><th style = \"text-align: left;\">Action</th><th style = \"text-align: left;\">Animation</th><th style = \"text-align: left;\">Comedy</th><th style = \"text-align: left;\">Drama</th><th style = \"text-align: left;\">Documentary</th><th style = \"text-align: left;\">Romance</th><th style = \"text-align: left;\">Short</th></tr><tr class = \"subheader headerLastRow\"><th class = \"rowNumber\" style = \"font-weight: bold; text-align: right;\"></th><th title = \"String\" style = \"text-align: left;\">String</th><th title = \"Int32\" style = \"text-align: left;\">Int32</th><th title = \"Int32\" style = \"text-align: left;\">Int32</th><th title = \"Union{Missing, Int32}\" style = \"text-align: left;\">Int32?</th><th title = \"Float64\" style = \"text-align: left;\">Float64</th><th title = \"Int32\" style = \"text-align: left;\">Int32</th><th title = \"Float64\" style = \"text-align: left;\">Float64</th><th title = \"Float64\" style = \"text-align: left;\">Float64</th><th title = \"Float64\" style = \"text-align: left;\">Float64</th><th title = \"Float64\" style = \"text-align: left;\">Float64</th><th title = \"Float64\" style = \"text-align: left;\">Float64</th><th title = \"Float64\" style = \"text-align: left;\">Float64</th><th title = \"Float64\" style = \"text-align: left;\">Float64</th><th title = \"Float64\" style = \"text-align: left;\">Float64</th><th title = \"Float64\" style = \"text-align: left;\">Float64</th><th title = \"Float64\" style = \"text-align: left;\">Float64</th><th title = \"CategoricalValue{String, UInt8}\" style = \"text-align: left;\">Cat…</th><th title = \"Int32\" style = \"text-align: left;\">Int32</th><th title = \"Int32\" style = \"text-align: left;\">Int32</th><th title = \"Int32\" style = \"text-align: left;\">Int32</th><th title = \"Int32\" style = \"text-align: left;\">Int32</th><th title = \"Int32\" style = \"text-align: left;\">Int32</th><th title = \"Int32\" style = \"text-align: left;\">Int32</th><th title = \"Int32\" style = \"text-align: left;\">Int32</th></tr></thead><tbody><tr><td class = \"rowNumber\" style = \"font-weight: bold; text-align: right;\">1</td><td style = \"text-align: left;\">Alexander</td><td style = \"text-align: right;\">2004</td><td style = \"text-align: right;\">175</td><td style = \"text-align: right;\">150000000</td><td style = \"text-align: right;\">5.5</td><td style = \"text-align: right;\">11254</td><td style = \"text-align: right;\">14.5</td><td style = \"text-align: right;\">4.5</td><td style = \"text-align: right;\">4.5</td><td style = \"text-align: right;\">4.5</td><td style = \"text-align: right;\">14.5</td><td style = \"text-align: right;\">14.5</td><td style = \"text-align: right;\">14.5</td><td style = \"text-align: right;\">4.5</td><td style = \"text-align: right;\">4.5</td><td style = \"text-align: right;\">14.5</td><td style = \"text-align: left;\">R</td><td style = \"text-align: right;\">0</td><td style = \"text-align: right;\">0</td><td style = \"text-align: right;\">0</td><td style = \"text-align: right;\">1</td><td style = \"text-align: right;\">0</td><td style = \"text-align: right;\">0</td><td style = \"text-align: right;\">0</td></tr></tbody></table></div>"
      ],
      "text/latex": [
       "\\begin{tabular}{r|cccccccccc}\n",
       "\t& Title & Year & Length & Budget & Rating & Votes & R1 & R2 & R3 & \\\\\n",
       "\t\\hline\n",
       "\t& String & Int32 & Int32 & Int32? & Float64 & Int32 & Float64 & Float64 & Float64 & \\\\\n",
       "\t\\hline\n",
       "\t1 & Alexander & 2004 & 175 & 150000000 & 5.5 & 11254 & 14.5 & 4.5 & 4.5 & $\\dots$ \\\\\n",
       "\\end{tabular}\n"
      ],
      "text/plain": [
       "\u001b[1m1×24 DataFrame\u001b[0m\n",
       "\u001b[1m Row \u001b[0m│\u001b[1m Title     \u001b[0m\u001b[1m Year  \u001b[0m\u001b[1m Length \u001b[0m\u001b[1m Budget    \u001b[0m\u001b[1m Rating  \u001b[0m\u001b[1m Votes \u001b[0m\u001b[1m R1      \u001b[0m\u001b[1m R2      \u001b[0m\u001b[1m \u001b[0m ⋯\n",
       "     │\u001b[90m String    \u001b[0m\u001b[90m Int32 \u001b[0m\u001b[90m Int32  \u001b[0m\u001b[90m Int32?    \u001b[0m\u001b[90m Float64 \u001b[0m\u001b[90m Int32 \u001b[0m\u001b[90m Float64 \u001b[0m\u001b[90m Float64 \u001b[0m\u001b[90m \u001b[0m ⋯\n",
       "─────┼──────────────────────────────────────────────────────────────────────────\n",
       "   1 │ Alexander   2004     175  150000000      5.5  11254     14.5      4.5   ⋯\n",
       "\u001b[36m                                                              16 columns omitted\u001b[0m"
      ]
     },
     "metadata": {},
     "output_type": "display_data"
    }
   ],
   "source": [
    "# We select everything related to \"Alexander\"\n",
    "alexander_movie = @chain movies_with_budget begin\n",
    "    @filter(Title == \"Alexander\")\n",
    "end"
   ]
  }
 ],
 "metadata": {
  "kernelspec": {
   "display_name": "Julia 1.9.4",
   "language": "julia",
   "name": "julia-1.9"
  },
  "language_info": {
   "file_extension": ".jl",
   "mimetype": "application/julia",
   "name": "julia",
   "version": "1.9.4"
  }
 },
 "nbformat": 4,
 "nbformat_minor": 2
}
