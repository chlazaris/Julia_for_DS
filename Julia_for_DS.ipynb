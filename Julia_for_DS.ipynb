{
 "cells": [
  {
   "cell_type": "code",
   "execution_count": 1,
   "metadata": {},
   "outputs": [],
   "source": [
    "#= This is a multi-line comment in Julia.\n",
    "Isn't it? =#"
   ]
  },
  {
   "attachments": {},
   "cell_type": "markdown",
   "metadata": {},
   "source": [
    "We install the required packages"
   ]
  },
  {
   "cell_type": "code",
   "execution_count": 2,
   "metadata": {},
   "outputs": [
    {
     "name": "stderr",
     "output_type": "stream",
     "text": [
      "\u001b[32m\u001b[1m   Resolving\u001b[22m\u001b[39m package versions...\n"
     ]
    },
    {
     "name": "stderr",
     "output_type": "stream",
     "text": [
      "\u001b[32m\u001b[1m  No Changes\u001b[22m\u001b[39m to `~/anaconda3/envs/julia_env/share/julia/environments/julia_env/Project.toml`\n",
      "\u001b[32m\u001b[1m  No Changes\u001b[22m\u001b[39m to `~/anaconda3/envs/julia_env/share/julia/environments/julia_env/Manifest.toml`\n"
     ]
    }
   ],
   "source": [
    "using Pkg\n",
    "Pkg.add(\"DataFrames\")"
   ]
  },
  {
   "cell_type": "code",
   "execution_count": 3,
   "metadata": {},
   "outputs": [
    {
     "name": "stderr",
     "output_type": "stream",
     "text": [
      "\u001b[32m\u001b[1m   Resolving\u001b[22m\u001b[39m package versions...\n"
     ]
    },
    {
     "name": "stderr",
     "output_type": "stream",
     "text": [
      "\u001b[32m\u001b[1m  No Changes\u001b[22m\u001b[39m to `~/anaconda3/envs/julia_env/share/julia/environments/julia_env/Project.toml`\n",
      "\u001b[32m\u001b[1m  No Changes\u001b[22m\u001b[39m to `~/anaconda3/envs/julia_env/share/julia/environments/julia_env/Manifest.toml`\n"
     ]
    },
    {
     "name": "stderr",
     "output_type": "stream",
     "text": [
      "\u001b[32m\u001b[1m   Resolving\u001b[22m\u001b[39m package versions...\n"
     ]
    },
    {
     "name": "stderr",
     "output_type": "stream",
     "text": [
      "\u001b[32m\u001b[1m  No Changes\u001b[22m\u001b[39m to `~/anaconda3/envs/julia_env/share/julia/environments/julia_env/Project.toml`\n",
      "\u001b[32m\u001b[1m  No Changes\u001b[22m\u001b[39m to `~/anaconda3/envs/julia_env/share/julia/environments/julia_env/Manifest.toml`\n"
     ]
    }
   ],
   "source": [
    "Pkg.add(\"CSV\")\n",
    "Pkg.add(\"Queryverse\")"
   ]
  },
  {
   "cell_type": "code",
   "execution_count": 4,
   "metadata": {},
   "outputs": [
    {
     "name": "stderr",
     "output_type": "stream",
     "text": [
      "\u001b[32m\u001b[1m   Resolving\u001b[22m\u001b[39m package versions...\n"
     ]
    },
    {
     "name": "stderr",
     "output_type": "stream",
     "text": [
      "\u001b[32m\u001b[1m  No Changes\u001b[22m\u001b[39m to `~/anaconda3/envs/julia_env/share/julia/environments/julia_env/Project.toml`\n",
      "\u001b[32m\u001b[1m  No Changes\u001b[22m\u001b[39m to `~/anaconda3/envs/julia_env/share/julia/environments/julia_env/Manifest.toml`\n"
     ]
    }
   ],
   "source": [
    "Pkg.add(\"Downloads\")"
   ]
  },
  {
   "cell_type": "code",
   "execution_count": 5,
   "metadata": {},
   "outputs": [],
   "source": [
    "# Load the required packages\n",
    "using DataFrames\n",
    "using CSV\n",
    "using Pkg\n",
    "using Queryverse"
   ]
  },
  {
   "cell_type": "code",
   "execution_count": null,
   "metadata": {},
   "outputs": [],
   "source": [
    "Pkg.add(\"FreqTables\")"
   ]
  },
  {
   "cell_type": "code",
   "execution_count": 54,
   "metadata": {},
   "outputs": [],
   "source": [
    "using FreqTables # To calculate frequencies"
   ]
  },
  {
   "cell_type": "code",
   "execution_count": null,
   "metadata": {},
   "outputs": [],
   "source": [
    "Pkg.add(\"Random\")"
   ]
  },
  {
   "cell_type": "code",
   "execution_count": 61,
   "metadata": {},
   "outputs": [],
   "source": [
    "using Random"
   ]
  },
  {
   "cell_type": "code",
   "execution_count": null,
   "metadata": {},
   "outputs": [],
   "source": [
    "Pkg.add(\"InlineStrings\") # To generate memory-efficient large collections of strings"
   ]
  },
  {
   "cell_type": "code",
   "execution_count": 65,
   "metadata": {},
   "outputs": [],
   "source": [
    "using InlineStrings"
   ]
  },
  {
   "cell_type": "code",
   "execution_count": 6,
   "metadata": {},
   "outputs": [
    {
     "data": {
      "text/html": [
       "<div><div style = \"float: left;\"><span>2748×13 DataFrame</span></div><div style = \"float: right;\"><span style = \"font-style: italic;\">2723 rows omitted</span></div><div style = \"clear: both;\"></div></div><div class = \"data-frame\" style = \"overflow-x: scroll;\"><table class = \"data-frame\" style = \"margin-bottom: 6px;\"><thead><tr class = \"header\"><th class = \"rowNumber\" style = \"font-weight: bold; text-align: right;\">Row</th><th style = \"text-align: left;\">Series_reference</th><th style = \"text-align: left;\">Period</th><th style = \"text-align: left;\">Type</th><th style = \"text-align: left;\">Data_value</th><th style = \"text-align: left;\">Lower_CI</th><th style = \"text-align: left;\">Upper_CI</th><th style = \"text-align: left;\">Units</th><th style = \"text-align: left;\">Indicator</th><th style = \"text-align: left;\">Cause</th><th style = \"text-align: left;\">Validation</th><th style = \"text-align: left;\">Population</th><th style = \"text-align: left;\">Age</th><th style = \"text-align: left;\">Severity</th></tr><tr class = \"subheader headerLastRow\"><th class = \"rowNumber\" style = \"font-weight: bold; text-align: right;\"></th><th title = \"String7\" style = \"text-align: left;\">String7</th><th title = \"String7\" style = \"text-align: left;\">String7</th><th title = \"String15\" style = \"text-align: left;\">String15</th><th title = \"Float64\" style = \"text-align: left;\">Float64</th><th title = \"Float64\" style = \"text-align: left;\">Float64</th><th title = \"Float64\" style = \"text-align: left;\">Float64</th><th title = \"String\" style = \"text-align: left;\">String</th><th title = \"String\" style = \"text-align: left;\">String</th><th title = \"String31\" style = \"text-align: left;\">String31</th><th title = \"String15\" style = \"text-align: left;\">String15</th><th title = \"String15\" style = \"text-align: left;\">String15</th><th title = \"String15\" style = \"text-align: left;\">String15</th><th title = \"String31\" style = \"text-align: left;\">String31</th></tr></thead><tbody><tr><td class = \"rowNumber\" style = \"font-weight: bold; text-align: right;\">1</td><td style = \"text-align: left;\">W_A11</td><td style = \"text-align: left;\">2000-02</td><td style = \"text-align: left;\">Moving average</td><td style = \"text-align: right;\">59.6667</td><td style = \"text-align: right;\">50.9258</td><td style = \"text-align: right;\">68.4075</td><td style = \"text-align: left;\">Injuries</td><td style = \"text-align: left;\">Number</td><td style = \"text-align: left;\">Assault</td><td style = \"text-align: left;\">Validated</td><td style = \"text-align: left;\">Whole pop</td><td style = \"text-align: left;\">All ages</td><td style = \"text-align: left;\">Fatal</td></tr><tr><td class = \"rowNumber\" style = \"font-weight: bold; text-align: right;\">2</td><td style = \"text-align: left;\">W_A11</td><td style = \"text-align: left;\">2001-03</td><td style = \"text-align: left;\">Moving average</td><td style = \"text-align: right;\">60.0</td><td style = \"text-align: right;\">51.2348</td><td style = \"text-align: right;\">68.7652</td><td style = \"text-align: left;\">Injuries</td><td style = \"text-align: left;\">Number</td><td style = \"text-align: left;\">Assault</td><td style = \"text-align: left;\">Validated</td><td style = \"text-align: left;\">Whole pop</td><td style = \"text-align: left;\">All ages</td><td style = \"text-align: left;\">Fatal</td></tr><tr><td class = \"rowNumber\" style = \"font-weight: bold; text-align: right;\">3</td><td style = \"text-align: left;\">W_A11</td><td style = \"text-align: left;\">2002-04</td><td style = \"text-align: left;\">Moving average</td><td style = \"text-align: right;\">59.0</td><td style = \"text-align: right;\">50.3081</td><td style = \"text-align: right;\">67.6919</td><td style = \"text-align: left;\">Injuries</td><td style = \"text-align: left;\">Number</td><td style = \"text-align: left;\">Assault</td><td style = \"text-align: left;\">Validated</td><td style = \"text-align: left;\">Whole pop</td><td style = \"text-align: left;\">All ages</td><td style = \"text-align: left;\">Fatal</td></tr><tr><td class = \"rowNumber\" style = \"font-weight: bold; text-align: right;\">4</td><td style = \"text-align: left;\">W_A11</td><td style = \"text-align: left;\">2003-05</td><td style = \"text-align: left;\">Moving average</td><td style = \"text-align: right;\">59.0</td><td style = \"text-align: right;\">50.3081</td><td style = \"text-align: right;\">67.6919</td><td style = \"text-align: left;\">Injuries</td><td style = \"text-align: left;\">Number</td><td style = \"text-align: left;\">Assault</td><td style = \"text-align: left;\">Validated</td><td style = \"text-align: left;\">Whole pop</td><td style = \"text-align: left;\">All ages</td><td style = \"text-align: left;\">Fatal</td></tr><tr><td class = \"rowNumber\" style = \"font-weight: bold; text-align: right;\">5</td><td style = \"text-align: left;\">W_A11</td><td style = \"text-align: left;\">2004-06</td><td style = \"text-align: left;\">Moving average</td><td style = \"text-align: right;\">61.3333</td><td style = \"text-align: right;\">52.4713</td><td style = \"text-align: right;\">70.1954</td><td style = \"text-align: left;\">Injuries</td><td style = \"text-align: left;\">Number</td><td style = \"text-align: left;\">Assault</td><td style = \"text-align: left;\">Validated</td><td style = \"text-align: left;\">Whole pop</td><td style = \"text-align: left;\">All ages</td><td style = \"text-align: left;\">Fatal</td></tr><tr><td class = \"rowNumber\" style = \"font-weight: bold; text-align: right;\">6</td><td style = \"text-align: left;\">W_A11</td><td style = \"text-align: left;\">2005-07</td><td style = \"text-align: left;\">Moving average</td><td style = \"text-align: right;\">63.0</td><td style = \"text-align: right;\">54.0183</td><td style = \"text-align: right;\">71.9817</td><td style = \"text-align: left;\">Injuries</td><td style = \"text-align: left;\">Number</td><td style = \"text-align: left;\">Assault</td><td style = \"text-align: left;\">Validated</td><td style = \"text-align: left;\">Whole pop</td><td style = \"text-align: left;\">All ages</td><td style = \"text-align: left;\">Fatal</td></tr><tr><td class = \"rowNumber\" style = \"font-weight: bold; text-align: right;\">7</td><td style = \"text-align: left;\">W_A11</td><td style = \"text-align: left;\">2006-08</td><td style = \"text-align: left;\">Moving average</td><td style = \"text-align: right;\">57.3333</td><td style = \"text-align: right;\">48.7651</td><td style = \"text-align: right;\">65.9016</td><td style = \"text-align: left;\">Injuries</td><td style = \"text-align: left;\">Number</td><td style = \"text-align: left;\">Assault</td><td style = \"text-align: left;\">Validated</td><td style = \"text-align: left;\">Whole pop</td><td style = \"text-align: left;\">All ages</td><td style = \"text-align: left;\">Fatal</td></tr><tr><td class = \"rowNumber\" style = \"font-weight: bold; text-align: right;\">8</td><td style = \"text-align: left;\">W_A11</td><td style = \"text-align: left;\">2007-09</td><td style = \"text-align: left;\">Moving average</td><td style = \"text-align: right;\">63.6667</td><td style = \"text-align: right;\">54.6376</td><td style = \"text-align: right;\">72.6957</td><td style = \"text-align: left;\">Injuries</td><td style = \"text-align: left;\">Number</td><td style = \"text-align: left;\">Assault</td><td style = \"text-align: left;\">Validated</td><td style = \"text-align: left;\">Whole pop</td><td style = \"text-align: left;\">All ages</td><td style = \"text-align: left;\">Fatal</td></tr><tr><td class = \"rowNumber\" style = \"font-weight: bold; text-align: right;\">9</td><td style = \"text-align: left;\">W_A11</td><td style = \"text-align: left;\">2008-10</td><td style = \"text-align: left;\">Moving average</td><td style = \"text-align: right;\">64.0</td><td style = \"text-align: right;\">54.9473</td><td style = \"text-align: right;\">73.0527</td><td style = \"text-align: left;\">Injuries</td><td style = \"text-align: left;\">Number</td><td style = \"text-align: left;\">Assault</td><td style = \"text-align: left;\">Validated</td><td style = \"text-align: left;\">Whole pop</td><td style = \"text-align: left;\">All ages</td><td style = \"text-align: left;\">Fatal</td></tr><tr><td class = \"rowNumber\" style = \"font-weight: bold; text-align: right;\">10</td><td style = \"text-align: left;\">W_A11</td><td style = \"text-align: left;\">2009-11</td><td style = \"text-align: left;\">Moving average</td><td style = \"text-align: right;\">64.3333</td><td style = \"text-align: right;\">55.2571</td><td style = \"text-align: right;\">73.4096</td><td style = \"text-align: left;\">Injuries</td><td style = \"text-align: left;\">Number</td><td style = \"text-align: left;\">Assault</td><td style = \"text-align: left;\">Validated</td><td style = \"text-align: left;\">Whole pop</td><td style = \"text-align: left;\">All ages</td><td style = \"text-align: left;\">Fatal</td></tr><tr><td class = \"rowNumber\" style = \"font-weight: bold; text-align: right;\">11</td><td style = \"text-align: left;\">W_A11</td><td style = \"text-align: left;\">2010-12</td><td style = \"text-align: left;\">Moving average</td><td style = \"text-align: right;\">55.3333</td><td style = \"text-align: right;\">46.9159</td><td style = \"text-align: right;\">63.7508</td><td style = \"text-align: left;\">Injuries</td><td style = \"text-align: left;\">Number</td><td style = \"text-align: left;\">Assault</td><td style = \"text-align: left;\">Validated</td><td style = \"text-align: left;\">Whole pop</td><td style = \"text-align: left;\">All ages</td><td style = \"text-align: left;\">Fatal</td></tr><tr><td class = \"rowNumber\" style = \"font-weight: bold; text-align: right;\">12</td><td style = \"text-align: left;\">W_A11</td><td style = \"text-align: left;\">2011-13</td><td style = \"text-align: left;\">Moving average</td><td style = \"text-align: right;\">54.3333</td><td style = \"text-align: right;\">45.9923</td><td style = \"text-align: right;\">62.6744</td><td style = \"text-align: left;\">Injuries</td><td style = \"text-align: left;\">Number</td><td style = \"text-align: left;\">Assault</td><td style = \"text-align: left;\">Validated</td><td style = \"text-align: left;\">Whole pop</td><td style = \"text-align: left;\">All ages</td><td style = \"text-align: left;\">Fatal</td></tr><tr><td class = \"rowNumber\" style = \"font-weight: bold; text-align: right;\">13</td><td style = \"text-align: left;\">W_A11</td><td style = \"text-align: left;\">2012-14</td><td style = \"text-align: left;\">Moving average</td><td style = \"text-align: right;\">51.3333</td><td style = \"text-align: right;\">43.2258</td><td style = \"text-align: right;\">59.4408</td><td style = \"text-align: left;\">Injuries</td><td style = \"text-align: left;\">Number</td><td style = \"text-align: left;\">Assault</td><td style = \"text-align: left;\">Validated</td><td style = \"text-align: left;\">Whole pop</td><td style = \"text-align: left;\">All ages</td><td style = \"text-align: left;\">Fatal</td></tr><tr><td style = \"text-align: right;\">&vellip;</td><td style = \"text-align: right;\">&vellip;</td><td style = \"text-align: right;\">&vellip;</td><td style = \"text-align: right;\">&vellip;</td><td style = \"text-align: right;\">&vellip;</td><td style = \"text-align: right;\">&vellip;</td><td style = \"text-align: right;\">&vellip;</td><td style = \"text-align: right;\">&vellip;</td><td style = \"text-align: right;\">&vellip;</td><td style = \"text-align: right;\">&vellip;</td><td style = \"text-align: right;\">&vellip;</td><td style = \"text-align: right;\">&vellip;</td><td style = \"text-align: right;\">&vellip;</td><td style = \"text-align: right;\">&vellip;</td></tr><tr><td class = \"rowNumber\" style = \"font-weight: bold; text-align: right;\">2737</td><td style = \"text-align: left;\">p21</td><td style = \"text-align: left;\">2007</td><td style = \"text-align: left;\">Single year</td><td style = \"text-align: right;\">51.0</td><td style = \"text-align: right;\">37.0031</td><td style = \"text-align: right;\">64.9969</td><td style = \"text-align: left;\">Injuries</td><td style = \"text-align: left;\">Number</td><td style = \"text-align: left;\">Pedestrian</td><td style = \"text-align: left;\">Validated</td><td style = \"text-align: left;\">Children</td><td style = \"text-align: left;\">0-14 years</td><td style = \"text-align: left;\">Serious</td></tr><tr><td class = \"rowNumber\" style = \"font-weight: bold; text-align: right;\">2738</td><td style = \"text-align: left;\">p21</td><td style = \"text-align: left;\">2008</td><td style = \"text-align: left;\">Single year</td><td style = \"text-align: right;\">34.0</td><td style = \"text-align: right;\">22.5715</td><td style = \"text-align: right;\">45.4285</td><td style = \"text-align: left;\">Injuries</td><td style = \"text-align: left;\">Number</td><td style = \"text-align: left;\">Pedestrian</td><td style = \"text-align: left;\">Validated</td><td style = \"text-align: left;\">Children</td><td style = \"text-align: left;\">0-14 years</td><td style = \"text-align: left;\">Serious</td></tr><tr><td class = \"rowNumber\" style = \"font-weight: bold; text-align: right;\">2739</td><td style = \"text-align: left;\">p21</td><td style = \"text-align: left;\">2009</td><td style = \"text-align: left;\">Single year</td><td style = \"text-align: right;\">41.0</td><td style = \"text-align: right;\">28.4501</td><td style = \"text-align: right;\">53.5499</td><td style = \"text-align: left;\">Injuries</td><td style = \"text-align: left;\">Number</td><td style = \"text-align: left;\">Pedestrian</td><td style = \"text-align: left;\">Validated</td><td style = \"text-align: left;\">Children</td><td style = \"text-align: left;\">0-14 years</td><td style = \"text-align: left;\">Serious</td></tr><tr><td class = \"rowNumber\" style = \"font-weight: bold; text-align: right;\">2740</td><td style = \"text-align: left;\">p21</td><td style = \"text-align: left;\">2010</td><td style = \"text-align: left;\">Single year</td><td style = \"text-align: right;\">48.0</td><td style = \"text-align: right;\">34.421</td><td style = \"text-align: right;\">61.579</td><td style = \"text-align: left;\">Injuries</td><td style = \"text-align: left;\">Number</td><td style = \"text-align: left;\">Pedestrian</td><td style = \"text-align: left;\">Validated</td><td style = \"text-align: left;\">Children</td><td style = \"text-align: left;\">0-14 years</td><td style = \"text-align: left;\">Serious</td></tr><tr><td class = \"rowNumber\" style = \"font-weight: bold; text-align: right;\">2741</td><td style = \"text-align: left;\">p21</td><td style = \"text-align: left;\">2011</td><td style = \"text-align: left;\">Single year</td><td style = \"text-align: right;\">39.0</td><td style = \"text-align: right;\">26.76</td><td style = \"text-align: right;\">51.24</td><td style = \"text-align: left;\">Injuries</td><td style = \"text-align: left;\">Number</td><td style = \"text-align: left;\">Pedestrian</td><td style = \"text-align: left;\">Validated</td><td style = \"text-align: left;\">Children</td><td style = \"text-align: left;\">0-14 years</td><td style = \"text-align: left;\">Serious</td></tr><tr><td class = \"rowNumber\" style = \"font-weight: bold; text-align: right;\">2742</td><td style = \"text-align: left;\">p21</td><td style = \"text-align: left;\">2012</td><td style = \"text-align: left;\">Single year</td><td style = \"text-align: right;\">32.0</td><td style = \"text-align: right;\">20.9128</td><td style = \"text-align: right;\">43.0872</td><td style = \"text-align: left;\">Injuries</td><td style = \"text-align: left;\">Number</td><td style = \"text-align: left;\">Pedestrian</td><td style = \"text-align: left;\">Validated</td><td style = \"text-align: left;\">Children</td><td style = \"text-align: left;\">0-14 years</td><td style = \"text-align: left;\">Serious</td></tr><tr><td class = \"rowNumber\" style = \"font-weight: bold; text-align: right;\">2743</td><td style = \"text-align: left;\">p21</td><td style = \"text-align: left;\">2013</td><td style = \"text-align: left;\">Single year</td><td style = \"text-align: right;\">37.0</td><td style = \"text-align: right;\">25.078</td><td style = \"text-align: right;\">48.922</td><td style = \"text-align: left;\">Injuries</td><td style = \"text-align: left;\">Number</td><td style = \"text-align: left;\">Pedestrian</td><td style = \"text-align: left;\">Validated</td><td style = \"text-align: left;\">Children</td><td style = \"text-align: left;\">0-14 years</td><td style = \"text-align: left;\">Serious</td></tr><tr><td class = \"rowNumber\" style = \"font-weight: bold; text-align: right;\">2744</td><td style = \"text-align: left;\">p21</td><td style = \"text-align: left;\">2014</td><td style = \"text-align: left;\">Single year</td><td style = \"text-align: right;\">46.0</td><td style = \"text-align: right;\">32.7069</td><td style = \"text-align: right;\">59.2931</td><td style = \"text-align: left;\">Injuries</td><td style = \"text-align: left;\">Number</td><td style = \"text-align: left;\">Pedestrian</td><td style = \"text-align: left;\">Validated</td><td style = \"text-align: left;\">Children</td><td style = \"text-align: left;\">0-14 years</td><td style = \"text-align: left;\">Serious</td></tr><tr><td class = \"rowNumber\" style = \"font-weight: bold; text-align: right;\">2745</td><td style = \"text-align: left;\">p21</td><td style = \"text-align: left;\">2015</td><td style = \"text-align: left;\">Single year</td><td style = \"text-align: right;\">41.0</td><td style = \"text-align: right;\">28.4501</td><td style = \"text-align: right;\">53.5499</td><td style = \"text-align: left;\">Injuries</td><td style = \"text-align: left;\">Number</td><td style = \"text-align: left;\">Pedestrian</td><td style = \"text-align: left;\">Validated</td><td style = \"text-align: left;\">Children</td><td style = \"text-align: left;\">0-14 years</td><td style = \"text-align: left;\">Serious</td></tr><tr><td class = \"rowNumber\" style = \"font-weight: bold; text-align: right;\">2746</td><td style = \"text-align: left;\">p21</td><td style = \"text-align: left;\">2016</td><td style = \"text-align: left;\">Single year</td><td style = \"text-align: right;\">36.0</td><td style = \"text-align: right;\">24.2402</td><td style = \"text-align: right;\">47.7598</td><td style = \"text-align: left;\">Injuries</td><td style = \"text-align: left;\">Number</td><td style = \"text-align: left;\">Pedestrian</td><td style = \"text-align: left;\">Validated</td><td style = \"text-align: left;\">Children</td><td style = \"text-align: left;\">0-14 years</td><td style = \"text-align: left;\">Serious</td></tr><tr><td class = \"rowNumber\" style = \"font-weight: bold; text-align: right;\">2747</td><td style = \"text-align: left;\">p21</td><td style = \"text-align: left;\">2017</td><td style = \"text-align: left;\">Single year</td><td style = \"text-align: right;\">40.0</td><td style = \"text-align: right;\">27.6041</td><td style = \"text-align: right;\">52.3959</td><td style = \"text-align: left;\">Injuries</td><td style = \"text-align: left;\">Number</td><td style = \"text-align: left;\">Pedestrian</td><td style = \"text-align: left;\">Validated</td><td style = \"text-align: left;\">Children</td><td style = \"text-align: left;\">0-14 years</td><td style = \"text-align: left;\">Serious</td></tr><tr><td class = \"rowNumber\" style = \"font-weight: bold; text-align: right;\">2748</td><td style = \"text-align: left;\">p21</td><td style = \"text-align: left;\">2018</td><td style = \"text-align: left;\">Single year</td><td style = \"text-align: right;\">41.0</td><td style = \"text-align: right;\">28.4501</td><td style = \"text-align: right;\">53.5499</td><td style = \"text-align: left;\">Injuries</td><td style = \"text-align: left;\">Number</td><td style = \"text-align: left;\">Pedestrian</td><td style = \"text-align: left;\">Validated</td><td style = \"text-align: left;\">Children</td><td style = \"text-align: left;\">0-14 years</td><td style = \"text-align: left;\">Serious</td></tr></tbody></table></div>"
      ],
      "text/latex": [
       "\\begin{tabular}{r|cccccccc}\n",
       "\t& Series\\_reference & Period & Type & Data\\_value & Lower\\_CI & Upper\\_CI & Units & \\\\\n",
       "\t\\hline\n",
       "\t& String7 & String7 & String15 & Float64 & Float64 & Float64 & String & \\\\\n",
       "\t\\hline\n",
       "\t1 & W\\_A11 & 2000-02 & Moving average & 59.6667 & 50.9258 & 68.4075 & Injuries & $\\dots$ \\\\\n",
       "\t2 & W\\_A11 & 2001-03 & Moving average & 60.0 & 51.2348 & 68.7652 & Injuries & $\\dots$ \\\\\n",
       "\t3 & W\\_A11 & 2002-04 & Moving average & 59.0 & 50.3081 & 67.6919 & Injuries & $\\dots$ \\\\\n",
       "\t4 & W\\_A11 & 2003-05 & Moving average & 59.0 & 50.3081 & 67.6919 & Injuries & $\\dots$ \\\\\n",
       "\t5 & W\\_A11 & 2004-06 & Moving average & 61.3333 & 52.4713 & 70.1954 & Injuries & $\\dots$ \\\\\n",
       "\t6 & W\\_A11 & 2005-07 & Moving average & 63.0 & 54.0183 & 71.9817 & Injuries & $\\dots$ \\\\\n",
       "\t7 & W\\_A11 & 2006-08 & Moving average & 57.3333 & 48.7651 & 65.9016 & Injuries & $\\dots$ \\\\\n",
       "\t8 & W\\_A11 & 2007-09 & Moving average & 63.6667 & 54.6376 & 72.6957 & Injuries & $\\dots$ \\\\\n",
       "\t9 & W\\_A11 & 2008-10 & Moving average & 64.0 & 54.9473 & 73.0527 & Injuries & $\\dots$ \\\\\n",
       "\t10 & W\\_A11 & 2009-11 & Moving average & 64.3333 & 55.2571 & 73.4096 & Injuries & $\\dots$ \\\\\n",
       "\t11 & W\\_A11 & 2010-12 & Moving average & 55.3333 & 46.9159 & 63.7508 & Injuries & $\\dots$ \\\\\n",
       "\t12 & W\\_A11 & 2011-13 & Moving average & 54.3333 & 45.9923 & 62.6744 & Injuries & $\\dots$ \\\\\n",
       "\t13 & W\\_A11 & 2012-14 & Moving average & 51.3333 & 43.2258 & 59.4408 & Injuries & $\\dots$ \\\\\n",
       "\t14 & W\\_A11 & 2013-15 & Moving average & 52.0 & 43.84 & 60.16 & Injuries & $\\dots$ \\\\\n",
       "\t15 & W\\_A11 & 2014-16 & Moving average & 54.0 & 45.6846 & 62.3154 & Injuries & $\\dots$ \\\\\n",
       "\t16 & W\\_A11 & 2015-17 & Moving average & 52.3333 & 44.1472 & 60.5194 & Injuries & $\\dots$ \\\\\n",
       "\t17 & W\\_A11 & 2016-18 & Moving average & 53.3333 & 45.0694 & 61.5973 & Injuries & $\\dots$ \\\\\n",
       "\t18 & W\\_A12 & 2000-02 & Moving average & 1.54334 & 1.31706 & 1.76962 & Per 100,000 people & $\\dots$ \\\\\n",
       "\t19 & W\\_A12 & 2001-03 & Moving average & 1.52551 & 1.30261 & 1.74841 & Per 100,000 people & $\\dots$ \\\\\n",
       "\t20 & W\\_A12 & 2002-04 & Moving average & 1.46486 & 1.24905 & 1.68066 & Per 100,000 people & $\\dots$ \\\\\n",
       "\t21 & W\\_A12 & 2003-05 & Moving average & 1.44434 & 1.23154 & 1.65714 & Per 100,000 people & $\\dots$ \\\\\n",
       "\t22 & W\\_A12 & 2004-06 & Moving average & 1.48814 & 1.27303 & 1.70324 & Per 100,000 people & $\\dots$ \\\\\n",
       "\t23 & W\\_A12 & 2005-07 & Moving average & 1.50869 & 1.29341 & 1.72398 & Per 100,000 people & $\\dots$ \\\\\n",
       "\t24 & W\\_A12 & 2006-08 & Moving average & 1.35602 & 1.15307 & 1.55898 & Per 100,000 people & $\\dots$ \\\\\n",
       "\t$\\dots$ & $\\dots$ & $\\dots$ & $\\dots$ & $\\dots$ & $\\dots$ & $\\dots$ & $\\dots$ &  \\\\\n",
       "\\end{tabular}\n"
      ],
      "text/plain": [
       "\u001b[1m2748×13 DataFrame\u001b[0m\n",
       "\u001b[1m  Row \u001b[0m│\u001b[1m Series_reference \u001b[0m\u001b[1m Period  \u001b[0m\u001b[1m Type           \u001b[0m\u001b[1m Data_value \u001b[0m\u001b[1m Lower_CI \u001b[0m\u001b[1m Upper\u001b[0m ⋯\n",
       "      │\u001b[90m String7          \u001b[0m\u001b[90m String7 \u001b[0m\u001b[90m String15       \u001b[0m\u001b[90m Float64    \u001b[0m\u001b[90m Float64  \u001b[0m\u001b[90m Float\u001b[0m ⋯\n",
       "──────┼─────────────────────────────────────────────────────────────────────────\n",
       "    1 │ W_A11             2000-02  Moving average     59.6667   50.9258   68.4 ⋯\n",
       "    2 │ W_A11             2001-03  Moving average     60.0      51.2348   68.7\n",
       "    3 │ W_A11             2002-04  Moving average     59.0      50.3081   67.6\n",
       "    4 │ W_A11             2003-05  Moving average     59.0      50.3081   67.6\n",
       "    5 │ W_A11             2004-06  Moving average     61.3333   52.4713   70.1 ⋯\n",
       "    6 │ W_A11             2005-07  Moving average     63.0      54.0183   71.9\n",
       "    7 │ W_A11             2006-08  Moving average     57.3333   48.7651   65.9\n",
       "    8 │ W_A11             2007-09  Moving average     63.6667   54.6376   72.6\n",
       "  ⋮   │        ⋮             ⋮           ⋮             ⋮          ⋮         ⋮  ⋱\n",
       " 2742 │ p21               2012     Single year        32.0      20.9128   43.0 ⋯\n",
       " 2743 │ p21               2013     Single year        37.0      25.078    48.9\n",
       " 2744 │ p21               2014     Single year        46.0      32.7069   59.2\n",
       " 2745 │ p21               2015     Single year        41.0      28.4501   53.5\n",
       " 2746 │ p21               2016     Single year        36.0      24.2402   47.7 ⋯\n",
       " 2747 │ p21               2017     Single year        40.0      27.6041   52.3\n",
       " 2748 │ p21               2018     Single year        41.0      28.4501   53.5\n",
       "\u001b[36m                                                 8 columns and 2733 rows omitted\u001b[0m"
      ]
     },
     "metadata": {},
     "output_type": "display_data"
    }
   ],
   "source": [
    "# Load the dataset\n",
    "df = DataFrame(CSV.File(\"serious-injury-outcome-indicators-2000-2020-CSV.csv\"))"
   ]
  },
  {
   "cell_type": "code",
   "execution_count": 7,
   "metadata": {},
   "outputs": [
    {
     "data": {
      "text/html": [
       "<div><div style = \"float: left;\"><span>13×7 DataFrame</span></div><div style = \"clear: both;\"></div></div><div class = \"data-frame\" style = \"overflow-x: scroll;\"><table class = \"data-frame\" style = \"margin-bottom: 6px;\"><thead><tr class = \"header\"><th class = \"rowNumber\" style = \"font-weight: bold; text-align: right;\">Row</th><th style = \"text-align: left;\">variable</th><th style = \"text-align: left;\">mean</th><th style = \"text-align: left;\">min</th><th style = \"text-align: left;\">median</th><th style = \"text-align: left;\">max</th><th style = \"text-align: left;\">nmissing</th><th style = \"text-align: left;\">eltype</th></tr><tr class = \"subheader headerLastRow\"><th class = \"rowNumber\" style = \"font-weight: bold; text-align: right;\"></th><th title = \"Symbol\" style = \"text-align: left;\">Symbol</th><th title = \"Union{Nothing, Float64}\" style = \"text-align: left;\">Union…</th><th title = \"Any\" style = \"text-align: left;\">Any</th><th title = \"Union{Nothing, Float64}\" style = \"text-align: left;\">Union…</th><th title = \"Any\" style = \"text-align: left;\">Any</th><th title = \"Int64\" style = \"text-align: left;\">Int64</th><th title = \"DataType\" style = \"text-align: left;\">DataType</th></tr></thead><tbody><tr><td class = \"rowNumber\" style = \"font-weight: bold; text-align: right;\">1</td><td style = \"text-align: left;\">Series_reference</td><td style = \"font-style: italic; text-align: left;\"></td><td style = \"text-align: left;\">C_A21</td><td style = \"font-style: italic; text-align: left;\"></td><td style = \"text-align: left;\">wf02</td><td style = \"text-align: right;\">0</td><td style = \"text-align: left;\">String7</td></tr><tr><td class = \"rowNumber\" style = \"font-weight: bold; text-align: right;\">2</td><td style = \"text-align: left;\">Period</td><td style = \"font-style: italic; text-align: left;\"></td><td style = \"text-align: left;\">2000</td><td style = \"font-style: italic; text-align: left;\"></td><td style = \"text-align: left;\">2020</td><td style = \"text-align: right;\">0</td><td style = \"text-align: left;\">String7</td></tr><tr><td class = \"rowNumber\" style = \"font-weight: bold; text-align: right;\">3</td><td style = \"text-align: left;\">Type</td><td style = \"font-style: italic; text-align: left;\"></td><td style = \"text-align: left;\">Moving average</td><td style = \"font-style: italic; text-align: left;\"></td><td style = \"text-align: left;\">Single year</td><td style = \"text-align: right;\">0</td><td style = \"text-align: left;\">String15</td></tr><tr><td class = \"rowNumber\" style = \"font-weight: bold; text-align: right;\">4</td><td style = \"text-align: left;\">Data_value</td><td style = \"text-align: left;\">490.518</td><td style = \"text-align: left;\">0.713333</td><td style = \"text-align: left;\">63.0</td><td style = \"text-align: left;\">14141.0</td><td style = \"text-align: right;\">0</td><td style = \"text-align: left;\">Float64</td></tr><tr><td class = \"rowNumber\" style = \"font-weight: bold; text-align: right;\">5</td><td style = \"text-align: left;\">Lower_CI</td><td style = \"text-align: left;\">464.676</td><td style = \"text-align: left;\">0.191677</td><td style = \"text-align: left;\">50.9238</td><td style = \"text-align: left;\">13907.9</td><td style = \"text-align: right;\">0</td><td style = \"text-align: left;\">Float64</td></tr><tr><td class = \"rowNumber\" style = \"font-weight: bold; text-align: right;\">6</td><td style = \"text-align: left;\">Upper_CI</td><td style = \"text-align: left;\">516.36</td><td style = \"text-align: left;\">0.801232</td><td style = \"text-align: left;\">72.9266</td><td style = \"text-align: left;\">14374.1</td><td style = \"text-align: right;\">0</td><td style = \"text-align: left;\">Float64</td></tr><tr><td class = \"rowNumber\" style = \"font-weight: bold; text-align: right;\">7</td><td style = \"text-align: left;\">Units</td><td style = \"font-style: italic; text-align: left;\"></td><td style = \"text-align: left;\">Injuries</td><td style = \"font-style: italic; text-align: left;\"></td><td style = \"text-align: left;\">Per thousand registered vehicles</td><td style = \"text-align: right;\">0</td><td style = \"text-align: left;\">String</td></tr><tr><td class = \"rowNumber\" style = \"font-weight: bold; text-align: right;\">8</td><td style = \"text-align: left;\">Indicator</td><td style = \"font-style: italic; text-align: left;\"></td><td style = \"text-align: left;\">Age-standardised rate</td><td style = \"font-style: italic; text-align: left;\"></td><td style = \"text-align: left;\">Rate per thousand registered vehicles</td><td style = \"text-align: right;\">0</td><td style = \"text-align: left;\">String</td></tr><tr><td class = \"rowNumber\" style = \"font-weight: bold; text-align: right;\">9</td><td style = \"text-align: left;\">Cause</td><td style = \"font-style: italic; text-align: left;\"></td><td style = \"text-align: left;\">All</td><td style = \"font-style: italic; text-align: left;\"></td><td style = \"text-align: left;\">Work</td><td style = \"text-align: right;\">0</td><td style = \"text-align: left;\">String31</td></tr><tr><td class = \"rowNumber\" style = \"font-weight: bold; text-align: right;\">10</td><td style = \"text-align: left;\">Validation</td><td style = \"font-style: italic; text-align: left;\"></td><td style = \"text-align: left;\">Provisional</td><td style = \"font-style: italic; text-align: left;\"></td><td style = \"text-align: left;\">Validated</td><td style = \"text-align: right;\">0</td><td style = \"text-align: left;\">String15</td></tr><tr><td class = \"rowNumber\" style = \"font-weight: bold; text-align: right;\">11</td><td style = \"text-align: left;\">Population</td><td style = \"font-style: italic; text-align: left;\"></td><td style = \"text-align: left;\">Children</td><td style = \"font-style: italic; text-align: left;\"></td><td style = \"text-align: left;\">Whole pop</td><td style = \"text-align: right;\">0</td><td style = \"text-align: left;\">String15</td></tr><tr><td class = \"rowNumber\" style = \"font-weight: bold; text-align: right;\">12</td><td style = \"text-align: left;\">Age</td><td style = \"font-style: italic; text-align: left;\"></td><td style = \"text-align: left;\">0-14 years</td><td style = \"font-style: italic; text-align: left;\"></td><td style = \"text-align: left;\">All ages</td><td style = \"text-align: right;\">0</td><td style = \"text-align: left;\">String15</td></tr><tr><td class = \"rowNumber\" style = \"font-weight: bold; text-align: right;\">13</td><td style = \"text-align: left;\">Severity</td><td style = \"font-style: italic; text-align: left;\"></td><td style = \"text-align: left;\">Fatal</td><td style = \"font-style: italic; text-align: left;\"></td><td style = \"text-align: left;\">Serious non-fatal</td><td style = \"text-align: right;\">0</td><td style = \"text-align: left;\">String31</td></tr></tbody></table></div>"
      ],
      "text/latex": [
       "\\begin{tabular}{r|cccccc}\n",
       "\t& variable & mean & min & median & max & \\\\\n",
       "\t\\hline\n",
       "\t& Symbol & Union… & Any & Union… & Any & \\\\\n",
       "\t\\hline\n",
       "\t1 & Series\\_reference &  & C\\_A21 &  & wf02 & $\\dots$ \\\\\n",
       "\t2 & Period &  & 2000 &  & 2020 & $\\dots$ \\\\\n",
       "\t3 & Type &  & Moving average &  & Single year & $\\dots$ \\\\\n",
       "\t4 & Data\\_value & 490.518 & 0.713333 & 63.0 & 14141.0 & $\\dots$ \\\\\n",
       "\t5 & Lower\\_CI & 464.676 & 0.191677 & 50.9238 & 13907.9 & $\\dots$ \\\\\n",
       "\t6 & Upper\\_CI & 516.36 & 0.801232 & 72.9266 & 14374.1 & $\\dots$ \\\\\n",
       "\t7 & Units &  & Injuries &  & Per thousand registered vehicles & $\\dots$ \\\\\n",
       "\t8 & Indicator &  & Age-standardised rate &  & Rate per thousand registered vehicles & $\\dots$ \\\\\n",
       "\t9 & Cause &  & All &  & Work & $\\dots$ \\\\\n",
       "\t10 & Validation &  & Provisional &  & Validated & $\\dots$ \\\\\n",
       "\t11 & Population &  & Children &  & Whole pop & $\\dots$ \\\\\n",
       "\t12 & Age &  & 0-14 years &  & All ages & $\\dots$ \\\\\n",
       "\t13 & Severity &  & Fatal &  & Serious non-fatal & $\\dots$ \\\\\n",
       "\\end{tabular}\n"
      ],
      "text/plain": [
       "\u001b[1m13×7 DataFrame\u001b[0m\n",
       "\u001b[1m Row \u001b[0m│\u001b[1m variable         \u001b[0m\u001b[1m mean    \u001b[0m\u001b[1m min                   \u001b[0m\u001b[1m median  \u001b[0m\u001b[1m max         \u001b[0m ⋯\n",
       "     │\u001b[90m Symbol           \u001b[0m\u001b[90m Union…  \u001b[0m\u001b[90m Any                   \u001b[0m\u001b[90m Union…  \u001b[0m\u001b[90m Any         \u001b[0m ⋯\n",
       "─────┼──────────────────────────────────────────────────────────────────────────\n",
       "   1 │ Series_reference \u001b[90m         \u001b[0m C_A21                 \u001b[90m         \u001b[0m wf02         ⋯\n",
       "   2 │ Period           \u001b[90m         \u001b[0m 2000                  \u001b[90m         \u001b[0m 2020\n",
       "   3 │ Type             \u001b[90m         \u001b[0m Moving average        \u001b[90m         \u001b[0m Single year\n",
       "   4 │ Data_value        490.518  0.713333               63.0     14141.0\n",
       "   5 │ Lower_CI          464.676  0.191677               50.9238  13907.9      ⋯\n",
       "   6 │ Upper_CI          516.36   0.801232               72.9266  14374.1\n",
       "   7 │ Units            \u001b[90m         \u001b[0m Injuries              \u001b[90m         \u001b[0m Per thousand\n",
       "   8 │ Indicator        \u001b[90m         \u001b[0m Age-standardised rate \u001b[90m         \u001b[0m Rate per tho\n",
       "   9 │ Cause            \u001b[90m         \u001b[0m All                   \u001b[90m         \u001b[0m Work         ⋯\n",
       "  10 │ Validation       \u001b[90m         \u001b[0m Provisional           \u001b[90m         \u001b[0m Validated\n",
       "  11 │ Population       \u001b[90m         \u001b[0m Children              \u001b[90m         \u001b[0m Whole pop\n",
       "  12 │ Age              \u001b[90m         \u001b[0m 0-14 years            \u001b[90m         \u001b[0m All ages\n",
       "  13 │ Severity         \u001b[90m         \u001b[0m Fatal                 \u001b[90m         \u001b[0m Serious non- ⋯\n",
       "\u001b[36m                                                               3 columns omitted\u001b[0m"
      ]
     },
     "metadata": {},
     "output_type": "display_data"
    }
   ],
   "source": [
    "# Describe the dataframe\n",
    "describe(df)"
   ]
  },
  {
   "cell_type": "code",
   "execution_count": 8,
   "metadata": {},
   "outputs": [
    {
     "data": {
      "text/html": [
       "<div><div style = \"float: left;\"><span>DataFrameRow (13 columns)</span></div><div style = \"clear: both;\"></div></div><div class = \"data-frame\" style = \"overflow-x: scroll;\"><table class = \"data-frame\" style = \"margin-bottom: 6px;\"><thead><tr class = \"header\"><th class = \"rowLabel\" style = \"font-weight: bold; text-align: right;\">Row</th><th style = \"text-align: left;\">Series_reference</th><th style = \"text-align: left;\">Period</th><th style = \"text-align: left;\">Type</th><th style = \"text-align: left;\">Data_value</th><th style = \"text-align: left;\">Lower_CI</th><th style = \"text-align: left;\">Upper_CI</th><th style = \"text-align: left;\">Units</th><th style = \"text-align: left;\">Indicator</th><th style = \"text-align: left;\">Cause</th><th style = \"text-align: left;\">Validation</th><th style = \"text-align: left;\">Population</th><th style = \"text-align: left;\">Age</th><th style = \"text-align: left;\">Severity</th></tr><tr class = \"subheader headerLastRow\"><th class = \"rowLabel\" style = \"font-weight: bold; text-align: right;\"></th><th title = \"String7\" style = \"text-align: left;\">String7</th><th title = \"String7\" style = \"text-align: left;\">String7</th><th title = \"String15\" style = \"text-align: left;\">String15</th><th title = \"Float64\" style = \"text-align: left;\">Float64</th><th title = \"Float64\" style = \"text-align: left;\">Float64</th><th title = \"Float64\" style = \"text-align: left;\">Float64</th><th title = \"String\" style = \"text-align: left;\">String</th><th title = \"String\" style = \"text-align: left;\">String</th><th title = \"String31\" style = \"text-align: left;\">String31</th><th title = \"String15\" style = \"text-align: left;\">String15</th><th title = \"String15\" style = \"text-align: left;\">String15</th><th title = \"String15\" style = \"text-align: left;\">String15</th><th title = \"String31\" style = \"text-align: left;\">String31</th></tr></thead><tbody><tr><td class = \"rowLabel\" style = \"font-weight: bold; text-align: right;\">1</td><td style = \"text-align: left;\">W_A11</td><td style = \"text-align: left;\">2000-02</td><td style = \"text-align: left;\">Moving average</td><td style = \"text-align: right;\">59.6667</td><td style = \"text-align: right;\">50.9258</td><td style = \"text-align: right;\">68.4075</td><td style = \"text-align: left;\">Injuries</td><td style = \"text-align: left;\">Number</td><td style = \"text-align: left;\">Assault</td><td style = \"text-align: left;\">Validated</td><td style = \"text-align: left;\">Whole pop</td><td style = \"text-align: left;\">All ages</td><td style = \"text-align: left;\">Fatal</td></tr></tbody></table></div>"
      ],
      "text/latex": [
       "\\begin{tabular}{r|cccccccc}\n",
       "\t& Series\\_reference & Period & Type & Data\\_value & Lower\\_CI & Upper\\_CI & Units & \\\\\n",
       "\t\\hline\n",
       "\t& String7 & String7 & String15 & Float64 & Float64 & Float64 & String & \\\\\n",
       "\t\\hline\n",
       "\t1 & W\\_A11 & 2000-02 & Moving average & 59.6667 & 50.9258 & 68.4075 & Injuries & $\\dots$ \\\\\n",
       "\\end{tabular}\n"
      ],
      "text/plain": [
       "\u001b[1mDataFrameRow\u001b[0m\n",
       "\u001b[1m Row \u001b[0m│\u001b[1m Series_reference \u001b[0m\u001b[1m Period  \u001b[0m\u001b[1m Type           \u001b[0m\u001b[1m Data_value \u001b[0m\u001b[1m Lower_CI \u001b[0m\u001b[1m Upper_\u001b[0m ⋯\n",
       "     │\u001b[90m String7          \u001b[0m\u001b[90m String7 \u001b[0m\u001b[90m String15       \u001b[0m\u001b[90m Float64    \u001b[0m\u001b[90m Float64  \u001b[0m\u001b[90m Float6\u001b[0m ⋯\n",
       "─────┼──────────────────────────────────────────────────────────────────────────\n",
       "   1 │ W_A11             2000-02  Moving average     59.6667   50.9258   68.40 ⋯\n",
       "\u001b[36m                                                               8 columns omitted\u001b[0m"
      ]
     },
     "metadata": {},
     "output_type": "display_data"
    }
   ],
   "source": [
    "first(df)"
   ]
  },
  {
   "cell_type": "code",
   "execution_count": 9,
   "metadata": {},
   "outputs": [
    {
     "data": {
      "application/vnd.dataresource+json": {
       "data": [
        {
         "Age": "0-14 years",
         "Cause": "Intentional",
         "Data_value": 40,
         "Indicator": "Number",
         "Lower_CI": 32.8432234251313,
         "Period": "2004-06",
         "Population": "Children",
         "Series_reference": "C_IN01",
         "Severity": "Serious non-fatal",
         "Type": "Moving average",
         "Units": "Injuries",
         "Upper_CI": 47.1567765748686,
         "Validation": "Validated"
        },
        {
         "Age": "0-14 years",
         "Cause": "Assault",
         "Data_value": 40,
         "Indicator": "Number",
         "Lower_CI": 32.8432234251313,
         "Period": "2003-05",
         "Population": "Children",
         "Series_reference": "C_A21",
         "Severity": "Serious",
         "Type": "Moving average",
         "Units": "Injuries",
         "Upper_CI": 47.1567765748686,
         "Validation": "Validated"
        },
        {
         "Age": "All ages",
         "Cause": "Assault",
         "Data_value": 40,
         "Indicator": "Number",
         "Lower_CI": 27.6040993539087,
         "Period": "2017",
         "Population": "Whole pop",
         "Series_reference": "a11",
         "Severity": "Fatal",
         "Type": "Single year",
         "Units": "Injuries",
         "Upper_CI": 52.3959006460912,
         "Validation": "Validated"
        },
        {
         "Age": "0-14 years",
         "Cause": "Intentional",
         "Data_value": 40,
         "Indicator": "Number",
         "Lower_CI": 27.6040993539087,
         "Period": "2005",
         "Population": "Children",
         "Series_reference": "in01",
         "Severity": "Serious non-fatal",
         "Type": "Single year",
         "Units": "Injuries",
         "Upper_CI": 52.3959006460912,
         "Validation": "Validated"
        },
        {
         "Age": "0-14 years",
         "Cause": "Intentional",
         "Data_value": 40,
         "Indicator": "Number",
         "Lower_CI": 27.6040993539087,
         "Period": "2012",
         "Population": "Children",
         "Series_reference": "in01",
         "Severity": "Serious non-fatal",
         "Type": "Single year",
         "Units": "Injuries",
         "Upper_CI": 52.3959006460912,
         "Validation": "Validated"
        },
        {
         "Age": "0-14 years",
         "Cause": "Intentional",
         "Data_value": 40,
         "Indicator": "Number",
         "Lower_CI": 27.6040993539087,
         "Period": "2016",
         "Population": "Children",
         "Series_reference": "in01",
         "Severity": "Serious non-fatal",
         "Type": "Single year",
         "Units": "Injuries",
         "Upper_CI": 52.3959006460912,
         "Validation": "Validated"
        },
        {
         "Age": "0-14 years",
         "Cause": "Intentional",
         "Data_value": 40,
         "Indicator": "Number",
         "Lower_CI": 27.6040993539087,
         "Period": "2019",
         "Population": "Children",
         "Series_reference": "in01",
         "Severity": "Serious non-fatal",
         "Type": "Single year",
         "Units": "Injuries",
         "Upper_CI": 52.3959006460912,
         "Validation": "Validated"
        },
        {
         "Age": "0-14 years",
         "Cause": "Assault",
         "Data_value": 40,
         "Indicator": "Number",
         "Lower_CI": 27.6040993539087,
         "Period": "2017",
         "Population": "Children",
         "Series_reference": "a21",
         "Severity": "Serious",
         "Type": "Single year",
         "Units": "Injuries",
         "Upper_CI": 52.3959006460912,
         "Validation": "Validated"
        },
        {
         "Age": "0-14 years",
         "Cause": "Pedestrian",
         "Data_value": 40,
         "Indicator": "Number",
         "Lower_CI": 27.6040993539087,
         "Period": "2017",
         "Population": "Children",
         "Series_reference": "p21",
         "Severity": "Serious",
         "Type": "Single year",
         "Units": "Injuries",
         "Upper_CI": 52.3959006460912,
         "Validation": "Validated"
        },
        {
         "Age": "0-14 years",
         "Cause": "Intentional",
         "Data_value": 39.6666666666666,
         "Indicator": "Number",
         "Lower_CI": 32.5397723791994,
         "Period": "2011-13",
         "Population": "Children",
         "Series_reference": "C_IN01",
         "Severity": "Serious non-fatal",
         "Type": "Moving average",
         "Units": "Injuries",
         "Upper_CI": 46.7935609541339,
         "Validation": "Validated"
        },
        {
         "Age": "0-14 years",
         "Cause": "Pedestrian",
         "Data_value": 39.6666666666666,
         "Indicator": "Number",
         "Lower_CI": 32.5397723791994,
         "Period": "2010-12",
         "Population": "Children",
         "Series_reference": "C_P21",
         "Severity": "Serious",
         "Type": "Moving average",
         "Units": "Injuries",
         "Upper_CI": 46.7935609541339,
         "Validation": "Validated"
        },
        {
         "Age": "0-14 years",
         "Cause": "Pedestrian",
         "Data_value": 39,
         "Indicator": "Number",
         "Lower_CI": 31.9332493556781,
         "Period": "2015-17",
         "Population": "Children",
         "Series_reference": "C_P21",
         "Severity": "Serious",
         "Type": "Moving average",
         "Units": "Injuries",
         "Upper_CI": 46.0667506443218,
         "Validation": "Validated"
        },
        {
         "Age": "0-14 years",
         "Cause": "Pedestrian",
         "Data_value": 39,
         "Indicator": "Number",
         "Lower_CI": 31.9332493556781,
         "Period": "2016-18",
         "Population": "Children",
         "Series_reference": "C_P21",
         "Severity": "Serious",
         "Type": "Moving average",
         "Units": "Injuries",
         "Upper_CI": 46.0667506443218,
         "Validation": "Validated"
        },
        {
         "Age": "75+ years",
         "Cause": "Falls",
         "Data_value": 39,
         "Indicator": "Number",
         "Lower_CI": 26.7600288396144,
         "Period": "2004",
         "Population": "Maori",
         "Series_reference": "f01c",
         "Severity": "Serious non-fatal",
         "Type": "Single year",
         "Units": "Injuries",
         "Upper_CI": 51.2399711603856,
         "Validation": "Validated"
        },
        {
         "Age": "0-14 years",
         "Cause": "Intentional",
         "Data_value": 39,
         "Indicator": "Number",
         "Lower_CI": 26.7600288396144,
         "Period": "2013",
         "Population": "Children",
         "Series_reference": "in21",
         "Severity": "Serious",
         "Type": "Single year",
         "Units": "Injuries",
         "Upper_CI": 51.2399711603856,
         "Validation": "Validated"
        },
        {
         "Age": "0-14 years",
         "Cause": "Pedestrian",
         "Data_value": 39,
         "Indicator": "Number",
         "Lower_CI": 26.7600288396144,
         "Period": "2011",
         "Population": "Children",
         "Series_reference": "p21",
         "Severity": "Serious",
         "Type": "Single year",
         "Units": "Injuries",
         "Upper_CI": 51.2399711603856,
         "Validation": "Validated"
        },
        {
         "Age": "0-14 years",
         "Cause": "Intentional",
         "Data_value": 38.6666666666666,
         "Indicator": "Number",
         "Lower_CI": 31.6301806181358,
         "Period": "2002-04",
         "Population": "Children",
         "Series_reference": "C_IN01",
         "Severity": "Serious non-fatal",
         "Type": "Moving average",
         "Units": "Injuries",
         "Upper_CI": 45.7031527151974,
         "Validation": "Validated"
        },
        {
         "Age": "0-14 years",
         "Cause": "Pedestrian",
         "Data_value": 38.3333333333333,
         "Indicator": "Number",
         "Lower_CI": 31.3272426150144,
         "Period": "2012-14",
         "Population": "Children",
         "Series_reference": "C_P21",
         "Severity": "Serious",
         "Type": "Moving average",
         "Units": "Injuries",
         "Upper_CI": 45.3394240516522,
         "Validation": "Validated"
        },
        {
         "Age": "75+ years",
         "Cause": "Falls",
         "Data_value": 38,
         "Indicator": "Number",
         "Lower_CI": 31.0244370553009,
         "Period": "2003-05",
         "Population": "Maori",
         "Series_reference": "M_F01C",
         "Severity": "Serious non-fatal",
         "Type": "Moving average",
         "Units": "Injuries",
         "Upper_CI": 44.975562944699,
         "Validation": "Validated"
        },
        {
         "Age": "75+ years",
         "Cause": "Falls",
         "Data_value": 38,
         "Indicator": "Number",
         "Lower_CI": 31.0244370553009,
         "Period": "2002-04",
         "Population": "Maori",
         "Series_reference": "M_F21C",
         "Severity": "Serious",
         "Type": "Moving average",
         "Units": "Injuries",
         "Upper_CI": 44.975562944699,
         "Validation": "Validated"
        },
        {
         "Age": "0-14 years",
         "Cause": "Intentional",
         "Data_value": 38,
         "Indicator": "Number",
         "Lower_CI": 25.9179705683864,
         "Period": "2004",
         "Population": "Children",
         "Series_reference": "in01",
         "Severity": "Serious non-fatal",
         "Type": "Single year",
         "Units": "Injuries",
         "Upper_CI": 50.0820294316135,
         "Validation": "Validated"
        },
        {
         "Age": "0-14 years",
         "Cause": "Assault",
         "Data_value": 37.3333333333333,
         "Indicator": "Number",
         "Lower_CI": 30.4192302910183,
         "Period": "2011-13",
         "Population": "Children",
         "Series_reference": "C_A21",
         "Severity": "Serious",
         "Type": "Moving average",
         "Units": "Injuries",
         "Upper_CI": 44.2474363756483,
         "Validation": "Validated"
        },
        {
         "Age": "0-14 years",
         "Cause": "Intentional",
         "Data_value": 37,
         "Indicator": "Number",
         "Lower_CI": 25.0780045141057,
         "Period": "2008",
         "Population": "Children",
         "Series_reference": "in01",
         "Severity": "Serious non-fatal",
         "Type": "Single year",
         "Units": "Injuries",
         "Upper_CI": 48.9219954858942,
         "Validation": "Validated"
        },
        {
         "Age": "0-14 years",
         "Cause": "Intentional",
         "Data_value": 37,
         "Indicator": "Number",
         "Lower_CI": 25.0780045141057,
         "Period": "2013",
         "Population": "Children",
         "Series_reference": "in01",
         "Severity": "Serious non-fatal",
         "Type": "Single year",
         "Units": "Injuries",
         "Upper_CI": 48.9219954858942,
         "Validation": "Validated"
        },
        {
         "Age": "0-14 years",
         "Cause": "Assault",
         "Data_value": 37,
         "Indicator": "Number",
         "Lower_CI": 25.0780045141057,
         "Period": "2015",
         "Population": "Children",
         "Series_reference": "a21",
         "Severity": "Serious",
         "Type": "Single year",
         "Units": "Injuries",
         "Upper_CI": 48.9219954858942,
         "Validation": "Validated"
        },
        {
         "Age": "0-14 years",
         "Cause": "Pedestrian",
         "Data_value": 37,
         "Indicator": "Number",
         "Lower_CI": 25.0780045141057,
         "Period": "2013",
         "Population": "Children",
         "Series_reference": "p21",
         "Severity": "Serious",
         "Type": "Single year",
         "Units": "Injuries",
         "Upper_CI": 48.9219954858942,
         "Validation": "Validated"
        },
        {
         "Age": "0-14 years",
         "Cause": "Assault",
         "Data_value": 36,
         "Indicator": "Number",
         "Lower_CI": 29.2104855955429,
         "Period": "2015-17",
         "Population": "Children",
         "Series_reference": "C_A21",
         "Severity": "Serious",
         "Type": "Moving average",
         "Units": "Injuries",
         "Upper_CI": 42.789514404457,
         "Validation": "Validated"
        },
        {
         "Age": "0-14 years",
         "Cause": "Pedestrian",
         "Data_value": 36,
         "Indicator": "Number",
         "Lower_CI": 29.2104855955429,
         "Period": "2011-13",
         "Population": "Children",
         "Series_reference": "C_P21",
         "Severity": "Serious",
         "Type": "Moving average",
         "Units": "Injuries",
         "Upper_CI": 42.789514404457,
         "Validation": "Validated"
        },
        {
         "Age": "0-14 years",
         "Cause": "Motor vehicle traffic crashes",
         "Data_value": 36,
         "Indicator": "Number",
         "Lower_CI": 24.2402160927596,
         "Period": "2000",
         "Population": "Children",
         "Series_reference": "m11",
         "Severity": "Fatal",
         "Type": "Single year",
         "Units": "Injuries",
         "Upper_CI": 47.7597839072403,
         "Validation": "Validated"
        },
        {
         "Age": "0-14 years",
         "Cause": "Assault",
         "Data_value": 36,
         "Indicator": "Number",
         "Lower_CI": 24.2402160927596,
         "Period": "2000",
         "Population": "Children",
         "Series_reference": "a21",
         "Severity": "Serious",
         "Type": "Single year",
         "Units": "Injuries",
         "Upper_CI": 47.7597839072403,
         "Validation": "Validated"
        },
        {
         "Age": "0-14 years",
         "Cause": "Assault",
         "Data_value": 36,
         "Indicator": "Number",
         "Lower_CI": 24.2402160927596,
         "Period": "2008",
         "Population": "Children",
         "Series_reference": "a21",
         "Severity": "Serious",
         "Type": "Single year",
         "Units": "Injuries",
         "Upper_CI": 47.7597839072403,
         "Validation": "Validated"
        },
        {
         "Age": "0-14 years",
         "Cause": "Assault",
         "Data_value": 36,
         "Indicator": "Number",
         "Lower_CI": 24.2402160927596,
         "Period": "2012",
         "Population": "Children",
         "Series_reference": "a21",
         "Severity": "Serious",
         "Type": "Single year",
         "Units": "Injuries",
         "Upper_CI": 47.7597839072403,
         "Validation": "Validated"
        },
        {
         "Age": "0-14 years",
         "Cause": "Intentional",
         "Data_value": 36,
         "Indicator": "Number",
         "Lower_CI": 24.2402160927596,
         "Period": "2003",
         "Population": "Children",
         "Series_reference": "in21",
         "Severity": "Serious",
         "Type": "Single year",
         "Units": "Injuries",
         "Upper_CI": 47.7597839072403,
         "Validation": "Validated"
        },
        {
         "Age": "0-14 years",
         "Cause": "Pedestrian",
         "Data_value": 36,
         "Indicator": "Number",
         "Lower_CI": 24.2402160927596,
         "Period": "2016",
         "Population": "Children",
         "Series_reference": "p21",
         "Severity": "Serious",
         "Type": "Single year",
         "Units": "Injuries",
         "Upper_CI": 47.7597839072403,
         "Validation": "Validated"
        },
        {
         "Age": "0-14 years",
         "Cause": "Intentional",
         "Data_value": 35.6666666666666,
         "Indicator": "Number",
         "Lower_CI": 28.9086582995162,
         "Period": "2003-05",
         "Population": "Children",
         "Series_reference": "C_IN01",
         "Severity": "Serious non-fatal",
         "Type": "Moving average",
         "Units": "Injuries",
         "Upper_CI": 42.424675033817,
         "Validation": "Validated"
        },
        {
         "Age": "75+ years",
         "Cause": "Falls",
         "Data_value": 35,
         "Indicator": "Number",
         "Lower_CI": 23.4046966954592,
         "Period": "2003",
         "Population": "Maori",
         "Series_reference": "f21c",
         "Severity": "Serious",
         "Type": "Single year",
         "Units": "Injuries",
         "Upper_CI": 46.5953033045407,
         "Validation": "Validated"
        },
        {
         "Age": "0-14 years",
         "Cause": "Pedestrian",
         "Data_value": 34,
         "Indicator": "Number",
         "Lower_CI": 22.5715442905176,
         "Period": "2008",
         "Population": "Children",
         "Series_reference": "p21",
         "Severity": "Serious",
         "Type": "Single year",
         "Units": "Injuries",
         "Upper_CI": 45.4284557094823,
         "Validation": "Validated"
        },
        {
         "Age": "0-14 years",
         "Cause": "Assault",
         "Data_value": 33.3333333333333,
         "Indicator": "Number",
         "Lower_CI": 26.8001200515331,
         "Period": "2016-18",
         "Population": "Children",
         "Series_reference": "C_A21",
         "Severity": "Serious",
         "Type": "Moving average",
         "Units": "Injuries",
         "Upper_CI": 39.8665466151335,
         "Validation": "Validated"
        },
        {
         "Age": "0-14 years",
         "Cause": "Intentional",
         "Data_value": 33,
         "Indicator": "Number",
         "Lower_CI": 21.7408641058513,
         "Period": "2015",
         "Population": "Children",
         "Series_reference": "in01",
         "Severity": "Serious non-fatal",
         "Type": "Single year",
         "Units": "Injuries",
         "Upper_CI": 44.2591358941486,
         "Validation": "Validated"
        },
        {
         "Age": "75+ years",
         "Cause": "Falls",
         "Data_value": 33,
         "Indicator": "Number",
         "Lower_CI": 21.7408641058513,
         "Period": "2000",
         "Population": "Maori",
         "Series_reference": "f21c",
         "Severity": "Serious",
         "Type": "Single year",
         "Units": "Injuries",
         "Upper_CI": 44.2591358941486,
         "Validation": "Validated"
        },
        {
         "Age": "75+ years",
         "Cause": "Falls",
         "Data_value": 33,
         "Indicator": "Number",
         "Lower_CI": 21.7408641058513,
         "Period": "2002",
         "Population": "Maori",
         "Series_reference": "f21c",
         "Severity": "Serious",
         "Type": "Single year",
         "Units": "Injuries",
         "Upper_CI": 44.2591358941486,
         "Validation": "Validated"
        },
        {
         "Age": "75+ years",
         "Cause": "Falls",
         "Data_value": 32.3333333333333,
         "Indicator": "Number",
         "Lower_CI": 25.8988644732077,
         "Period": "2002-04",
         "Population": "Maori",
         "Series_reference": "M_F01C",
         "Severity": "Serious non-fatal",
         "Type": "Moving average",
         "Units": "Injuries",
         "Upper_CI": 38.7678021934588,
         "Validation": "Validated"
        },
        {
         "Age": "0-14 years",
         "Cause": "Motor vehicle traffic crashes",
         "Data_value": 32.3333333333333,
         "Indicator": "Number",
         "Lower_CI": 25.8988644732077,
         "Period": "2000-02",
         "Population": "Children",
         "Series_reference": "C_M11",
         "Severity": "Fatal",
         "Type": "Moving average",
         "Units": "Injuries",
         "Upper_CI": 38.7678021934588,
         "Validation": "Validated"
        },
        {
         "Age": "0-14 years",
         "Cause": "Motor vehicle traffic crashes",
         "Data_value": 32,
         "Indicator": "Number",
         "Lower_CI": 20.9127694052025,
         "Period": "2002",
         "Population": "Children",
         "Series_reference": "m11",
         "Severity": "Fatal",
         "Type": "Single year",
         "Units": "Injuries",
         "Upper_CI": 43.0872305947974,
         "Validation": "Validated"
        },
        {
         "Age": "0-14 years",
         "Cause": "Pedestrian",
         "Data_value": 32,
         "Indicator": "Number",
         "Lower_CI": 20.9127694052025,
         "Period": "2012",
         "Population": "Children",
         "Series_reference": "p21",
         "Severity": "Serious",
         "Type": "Single year",
         "Units": "Injuries",
         "Upper_CI": 43.0872305947974,
         "Validation": "Validated"
        },
        {
         "Age": "75+ years",
         "Cause": "Falls",
         "Data_value": 31.6666666666666,
         "Indicator": "Number",
         "Lower_CI": 25.2988780398185,
         "Period": "2001-03",
         "Population": "Maori",
         "Series_reference": "M_F21C",
         "Severity": "Serious",
         "Type": "Moving average",
         "Units": "Injuries",
         "Upper_CI": 38.0344552935147,
         "Validation": "Validated"
        },
        {
         "Age": "75+ years",
         "Cause": "Falls",
         "Data_value": 31,
         "Indicator": "Number",
         "Lower_CI": 24.6995972763238,
         "Period": "2000-02",
         "Population": "Maori",
         "Series_reference": "M_F21C",
         "Severity": "Serious",
         "Type": "Moving average",
         "Units": "Injuries",
         "Upper_CI": 37.3004027236761,
         "Validation": "Validated"
        },
        {
         "Age": "0-14 years",
         "Cause": "Intentional",
         "Data_value": 31,
         "Indicator": "Number",
         "Lower_CI": 20.0873823744475,
         "Period": "2018",
         "Population": "Children",
         "Series_reference": "in01",
         "Severity": "Serious non-fatal",
         "Type": "Single year",
         "Units": "Injuries",
         "Upper_CI": 41.9126176255524,
         "Validation": "Validated"
        },
        {
         "Age": "0-14 years",
         "Cause": "Assault",
         "Data_value": 31,
         "Indicator": "Number",
         "Lower_CI": 20.0873823744475,
         "Period": "2013",
         "Population": "Children",
         "Series_reference": "a21",
         "Severity": "Serious",
         "Type": "Single year",
         "Units": "Injuries",
         "Upper_CI": 41.9126176255524,
         "Validation": "Validated"
        },
        {
         "Age": "0-14 years",
         "Cause": "Assault",
         "Data_value": 31,
         "Indicator": "Number",
         "Lower_CI": 20.0873823744475,
         "Period": "2016",
         "Population": "Children",
         "Series_reference": "a21",
         "Severity": "Serious",
         "Type": "Single year",
         "Units": "Injuries",
         "Upper_CI": 41.9126176255524,
         "Validation": "Validated"
        },
        {
         "Age": "0-14 years",
         "Cause": "Motor vehicle traffic crashes",
         "Data_value": 30,
         "Indicator": "Number",
         "Lower_CI": 19.264835137697,
         "Period": "2007",
         "Population": "Children",
         "Series_reference": "m11",
         "Severity": "Fatal",
         "Type": "Single year",
         "Units": "Injuries",
         "Upper_CI": 40.7351648623029,
         "Validation": "Validated"
        },
        {
         "Age": "75+ years",
         "Cause": "Falls",
         "Data_value": 30,
         "Indicator": "Number",
         "Lower_CI": 19.264835137697,
         "Period": "2000",
         "Population": "Maori",
         "Series_reference": "f01c",
         "Severity": "Serious non-fatal",
         "Type": "Single year",
         "Units": "Injuries",
         "Upper_CI": 40.7351648623029,
         "Validation": "Validated"
        },
        {
         "Age": "75+ years",
         "Cause": "Falls",
         "Data_value": 30,
         "Indicator": "Number",
         "Lower_CI": 19.264835137697,
         "Period": "2002",
         "Population": "Maori",
         "Series_reference": "f01c",
         "Severity": "Serious non-fatal",
         "Type": "Single year",
         "Units": "Injuries",
         "Upper_CI": 40.7351648623029,
         "Validation": "Validated"
        },
        {
         "Age": "0-14 years",
         "Cause": "Motor vehicle traffic crashes",
         "Data_value": 29.3333333333333,
         "Indicator": "Number",
         "Lower_CI": 23.2046360254846,
         "Period": "2001-03",
         "Population": "Children",
         "Series_reference": "C_M11",
         "Severity": "Fatal",
         "Type": "Moving average",
         "Units": "Injuries",
         "Upper_CI": 35.4620306411819,
         "Validation": "Validated"
        },
        {
         "Age": "0-14 years",
         "Cause": "Motor vehicle traffic crashes",
         "Data_value": 29,
         "Indicator": "Number",
         "Lower_CI": 18.4452709272037,
         "Period": "2001",
         "Population": "Children",
         "Series_reference": "m11",
         "Severity": "Fatal",
         "Type": "Single year",
         "Units": "Injuries",
         "Upper_CI": 39.5547290727962,
         "Validation": "Validated"
        },
        {
         "Age": "0-14 years",
         "Cause": "Motor vehicle traffic crashes",
         "Data_value": 29,
         "Indicator": "Number",
         "Lower_CI": 18.4452709272037,
         "Period": "2005",
         "Population": "Children",
         "Series_reference": "m11",
         "Severity": "Fatal",
         "Type": "Single year",
         "Units": "Injuries",
         "Upper_CI": 39.5547290727962,
         "Validation": "Validated"
        },
        {
         "Age": "0-14 years",
         "Cause": "Intentional",
         "Data_value": 29,
         "Indicator": "Number",
         "Lower_CI": 18.4452709272037,
         "Period": "2000",
         "Population": "Children",
         "Series_reference": "in01",
         "Severity": "Serious non-fatal",
         "Type": "Single year",
         "Units": "Injuries",
         "Upper_CI": 39.5547290727962,
         "Validation": "Validated"
        },
        {
         "Age": "0-14 years",
         "Cause": "Intentional",
         "Data_value": 29,
         "Indicator": "Number",
         "Lower_CI": 18.4452709272037,
         "Period": "2003",
         "Population": "Children",
         "Series_reference": "in01",
         "Severity": "Serious non-fatal",
         "Type": "Single year",
         "Units": "Injuries",
         "Upper_CI": 39.5547290727962,
         "Validation": "Validated"
        },
        {
         "Age": "0-14 years",
         "Cause": "Assault",
         "Data_value": 29,
         "Indicator": "Number",
         "Lower_CI": 18.4452709272037,
         "Period": "2003",
         "Population": "Children",
         "Series_reference": "a21",
         "Severity": "Serious",
         "Type": "Single year",
         "Units": "Injuries",
         "Upper_CI": 39.5547290727962,
         "Validation": "Validated"
        },
        {
         "Age": "0-14 years",
         "Cause": "Assault",
         "Data_value": 29,
         "Indicator": "Number",
         "Lower_CI": 18.4452709272037,
         "Period": "2018",
         "Population": "Children",
         "Series_reference": "a21",
         "Severity": "Serious",
         "Type": "Single year",
         "Units": "Injuries",
         "Upper_CI": 39.5547290727962,
         "Validation": "Validated"
        },
        {
         "Age": "75+ years",
         "Cause": "Falls",
         "Data_value": 28.6666666666666,
         "Indicator": "Number",
         "Lower_CI": 22.6080139141546,
         "Period": "2000-02",
         "Population": "Maori",
         "Series_reference": "M_F01C",
         "Severity": "Serious non-fatal",
         "Type": "Moving average",
         "Units": "Injuries",
         "Upper_CI": 34.7253194191787,
         "Validation": "Validated"
        },
        {
         "Age": "75+ years",
         "Cause": "Falls",
         "Data_value": 28,
         "Indicator": "Number",
         "Lower_CI": 22.0122111209719,
         "Period": "2001-03",
         "Population": "Maori",
         "Series_reference": "M_F01C",
         "Severity": "Serious non-fatal",
         "Type": "Moving average",
         "Units": "Injuries",
         "Upper_CI": 33.987788879028,
         "Validation": "Validated"
        },
        {
         "Age": "75+ years",
         "Cause": "Falls",
         "Data_value": 28,
         "Indicator": "Number",
         "Lower_CI": 17.6288454365275,
         "Period": "2003",
         "Population": "Maori",
         "Series_reference": "f01c",
         "Severity": "Serious non-fatal",
         "Type": "Single year",
         "Units": "Injuries",
         "Upper_CI": 38.3711545634724,
         "Validation": "Validated"
        },
        {
         "Age": "0-14 years",
         "Cause": "Motor vehicle traffic crashes",
         "Data_value": 27.6666666666666,
         "Indicator": "Number",
         "Lower_CI": 21.7146261004442,
         "Period": "2005-07",
         "Population": "Children",
         "Series_reference": "C_M11",
         "Severity": "Fatal",
         "Type": "Moving average",
         "Units": "Injuries",
         "Upper_CI": 33.618707232889,
         "Validation": "Validated"
        },
        {
         "Age": "0-14 years",
         "Cause": "Motor vehicle traffic crashes",
         "Data_value": 27,
         "Indicator": "Number",
         "Lower_CI": 16.8157283933144,
         "Period": "2003",
         "Population": "Children",
         "Series_reference": "m11",
         "Severity": "Fatal",
         "Type": "Single year",
         "Units": "Injuries",
         "Upper_CI": 37.1842716066855,
         "Validation": "Validated"
        },
        {
         "Age": "75+ years",
         "Cause": "Falls",
         "Data_value": 27,
         "Indicator": "Number",
         "Lower_CI": 16.8157283933144,
         "Period": "2001",
         "Population": "Maori",
         "Series_reference": "f21c",
         "Severity": "Serious",
         "Type": "Single year",
         "Units": "Injuries",
         "Upper_CI": 37.1842716066855,
         "Validation": "Validated"
        },
        {
         "Age": "75+ years",
         "Cause": "Falls",
         "Data_value": 26,
         "Indicator": "Number",
         "Lower_CI": 16.0061053968912,
         "Period": "2001",
         "Population": "Maori",
         "Series_reference": "f01c",
         "Severity": "Serious non-fatal",
         "Type": "Single year",
         "Units": "Injuries",
         "Upper_CI": 35.9938946031088,
         "Validation": "Validated"
        },
        {
         "Age": "0-14 years",
         "Cause": "Motor vehicle traffic crashes",
         "Data_value": 25.6666666666666,
         "Indicator": "Number",
         "Lower_CI": 19.9337952783632,
         "Period": "2002-04",
         "Population": "Children",
         "Series_reference": "C_M11",
         "Severity": "Fatal",
         "Type": "Moving average",
         "Units": "Injuries",
         "Upper_CI": 31.39953805497,
         "Validation": "Validated"
        },
        {
         "Age": "0-14 years",
         "Cause": "Motor vehicle traffic crashes",
         "Data_value": 25,
         "Indicator": "Number",
         "Lower_CI": 19.3420713296191,
         "Period": "2006-08",
         "Population": "Children",
         "Series_reference": "C_M11",
         "Severity": "Fatal",
         "Type": "Moving average",
         "Units": "Injuries",
         "Upper_CI": 30.6579286703808,
         "Validation": "Validated"
        },
        {
         "Age": "0-14 years",
         "Cause": "Motor vehicle traffic crashes",
         "Data_value": 24.6666666666666,
         "Indicator": "Number",
         "Lower_CI": 19.0465840977658,
         "Period": "2003-05",
         "Population": "Children",
         "Series_reference": "C_M11",
         "Severity": "Fatal",
         "Type": "Moving average",
         "Units": "Injuries",
         "Upper_CI": 30.2867492355674,
         "Validation": "Validated"
        },
        {
         "Age": "0-14 years",
         "Cause": "Motor vehicle traffic crashes",
         "Data_value": 24.3333333333333,
         "Indicator": "Number",
         "Lower_CI": 18.7513534584674,
         "Period": "2007-09",
         "Population": "Children",
         "Series_reference": "C_M11",
         "Severity": "Fatal",
         "Type": "Moving average",
         "Units": "Injuries",
         "Upper_CI": 29.9153132081992,
         "Validation": "Validated"
        },
        {
         "Age": "0-14 years",
         "Cause": "Motor vehicle traffic crashes",
         "Data_value": 24,
         "Indicator": "Number",
         "Lower_CI": 14.3981766472893,
         "Period": "2006",
         "Population": "Children",
         "Series_reference": "m11",
         "Severity": "Fatal",
         "Type": "Single year",
         "Units": "Injuries",
         "Upper_CI": 33.6018233527106,
         "Validation": "Validated"
        },
        {
         "Age": "0-14 years",
         "Cause": "Motor vehicle traffic crashes",
         "Data_value": 23.6666666666666,
         "Indicator": "Number",
         "Lower_CI": 18.1616833054113,
         "Period": "2004-06",
         "Population": "Children",
         "Series_reference": "C_M11",
         "Severity": "Fatal",
         "Type": "Moving average",
         "Units": "Injuries",
         "Upper_CI": 29.171650027922,
         "Validation": "Validated"
        },
        {
         "Age": "0-14 years",
         "Cause": "Motor vehicle traffic crashes",
         "Data_value": 22,
         "Indicator": "Number",
         "Lower_CI": 12.806954038227,
         "Period": "2009",
         "Population": "Children",
         "Series_reference": "m11",
         "Severity": "Fatal",
         "Type": "Single year",
         "Units": "Injuries",
         "Upper_CI": 31.193045961773,
         "Validation": "Validated"
        },
        {
         "Age": "0-14 years",
         "Cause": "Motor vehicle traffic crashes",
         "Data_value": 21,
         "Indicator": "Number",
         "Lower_CI": 12.0183166814579,
         "Period": "2008",
         "Population": "Children",
         "Series_reference": "m11",
         "Severity": "Fatal",
         "Type": "Single year",
         "Units": "Injuries",
         "Upper_CI": 29.981683318542,
         "Validation": "Validated"
        },
        {
         "Age": "0-14 years",
         "Cause": "Motor vehicle traffic crashes",
         "Data_value": 19.3333333333333,
         "Indicator": "Number",
         "Lower_CI": 14.3577863326926,
         "Period": "2008-10",
         "Population": "Children",
         "Series_reference": "C_M11",
         "Severity": "Fatal",
         "Type": "Moving average",
         "Units": "Injuries",
         "Upper_CI": 24.308880333974,
         "Validation": "Validated"
        },
        {
         "Age": "0-14 years",
         "Cause": "Motor vehicle traffic crashes",
         "Data_value": 18,
         "Indicator": "Number",
         "Lower_CI": 9.68457705390193,
         "Period": "2004",
         "Population": "Children",
         "Series_reference": "m11",
         "Severity": "Fatal",
         "Type": "Single year",
         "Units": "Injuries",
         "Upper_CI": 26.315422946098,
         "Validation": "Validated"
        },
        {
         "Age": "0-14 years",
         "Cause": "Motor vehicle traffic crashes",
         "Data_value": 15.6666666666666,
         "Indicator": "Number",
         "Lower_CI": 11.1877212975892,
         "Period": "2009-11",
         "Population": "Children",
         "Series_reference": "C_M11",
         "Severity": "Fatal",
         "Type": "Moving average",
         "Units": "Injuries",
         "Upper_CI": 20.1456120357441,
         "Validation": "Validated"
        },
        {
         "Age": "0-14 years",
         "Cause": "Motor vehicle traffic crashes",
         "Data_value": 15,
         "Indicator": "Number",
         "Lower_CI": 7.40909212871004,
         "Period": "2010",
         "Population": "Children",
         "Series_reference": "m11",
         "Severity": "Fatal",
         "Type": "Single year",
         "Units": "Injuries",
         "Upper_CI": 22.5909078712899,
         "Validation": "Validated"
        },
        {
         "Age": "0-14 years",
         "Cause": "Motor vehicle traffic crashes",
         "Data_value": 15,
         "Indicator": "Number",
         "Lower_CI": 7.40909212871004,
         "Period": "2016",
         "Population": "Children",
         "Series_reference": "m11",
         "Severity": "Fatal",
         "Type": "Single year",
         "Units": "Injuries",
         "Upper_CI": 22.5909078712899,
         "Validation": "Validated"
        },
        {
         "Age": "0-14 years",
         "Cause": "Motor vehicle traffic crashes",
         "Data_value": 15,
         "Indicator": "Number",
         "Lower_CI": 7.40909212871004,
         "Period": "2018",
         "Population": "Children",
         "Series_reference": "m11",
         "Severity": "Fatal",
         "Type": "Single year",
         "Units": "Injuries",
         "Upper_CI": 22.5909078712899,
         "Validation": "Validated"
        },
        {
         "Age": "0-14 years",
         "Cause": "Motor vehicle traffic crashes",
         "Data_value": 14.3333333333333,
         "Indicator": "Number",
         "Lower_CI": 10.0492188871775,
         "Period": "2016-18",
         "Population": "Children",
         "Series_reference": "C_M11",
         "Severity": "Fatal",
         "Type": "Moving average",
         "Units": "Injuries",
         "Upper_CI": 18.6174477794891,
         "Validation": "Validated"
        },
        {
         "Age": "0-14 years",
         "Cause": "Motor vehicle traffic crashes",
         "Data_value": 14,
         "Indicator": "Number",
         "Lower_CI": 6.66648627943482,
         "Period": "2012",
         "Population": "Children",
         "Series_reference": "m11",
         "Severity": "Fatal",
         "Type": "Single year",
         "Units": "Injuries",
         "Upper_CI": 21.3335137205651,
         "Validation": "Validated"
        },
        {
         "Age": "0-14 years",
         "Cause": "Motor vehicle traffic crashes",
         "Data_value": 13,
         "Indicator": "Number",
         "Lower_CI": 8.9200096132048,
         "Period": "2010-12",
         "Population": "Children",
         "Series_reference": "C_M11",
         "Severity": "Fatal",
         "Type": "Moving average",
         "Units": "Injuries",
         "Upper_CI": 17.0799903867951,
         "Validation": "Validated"
        },
        {
         "Age": "0-14 years",
         "Cause": "Motor vehicle traffic crashes",
         "Data_value": 13,
         "Indicator": "Number",
         "Lower_CI": 5.93324935567812,
         "Period": "2014",
         "Population": "Children",
         "Series_reference": "m11",
         "Severity": "Fatal",
         "Type": "Single year",
         "Units": "Injuries",
         "Upper_CI": 20.0667506443218,
         "Validation": "Validated"
        },
        {
         "Age": "0-14 years",
         "Cause": "Motor vehicle traffic crashes",
         "Data_value": 13,
         "Indicator": "Number",
         "Lower_CI": 5.93324935567812,
         "Period": "2017",
         "Population": "Children",
         "Series_reference": "m11",
         "Severity": "Fatal",
         "Type": "Single year",
         "Units": "Injuries",
         "Upper_CI": 20.0667506443218,
         "Validation": "Validated"
        },
        {
         "Age": "0-14 years",
         "Cause": "Motor vehicle traffic crashes",
         "Data_value": 12.6666666666666,
         "Indicator": "Number",
         "Lower_CI": 8.63932352279547,
         "Period": "2014-16",
         "Population": "Children",
         "Series_reference": "C_M11",
         "Severity": "Fatal",
         "Type": "Moving average",
         "Units": "Injuries",
         "Upper_CI": 16.6940098105378,
         "Validation": "Validated"
        },
        {
         "Age": "0-14 years",
         "Cause": "Motor vehicle traffic crashes",
         "Data_value": 12.6666666666666,
         "Indicator": "Number",
         "Lower_CI": 8.63932352279547,
         "Period": "2015-17",
         "Population": "Children",
         "Series_reference": "C_M11",
         "Severity": "Fatal",
         "Type": "Moving average",
         "Units": "Injuries",
         "Upper_CI": 16.6940098105378,
         "Validation": "Validated"
        },
        {
         "Age": "0-14 years",
         "Cause": "Motor vehicle traffic crashes",
         "Data_value": 11.3333333333333,
         "Indicator": "Number",
         "Lower_CI": 7.52384809683921,
         "Period": "2012-14",
         "Population": "Children",
         "Series_reference": "C_M11",
         "Severity": "Fatal",
         "Type": "Moving average",
         "Units": "Injuries",
         "Upper_CI": 15.1428185698274,
         "Validation": "Validated"
        },
        {
         "Age": "0-14 years",
         "Cause": "Motor vehicle traffic crashes",
         "Data_value": 10.3333333333333,
         "Indicator": "Number",
         "Lower_CI": 6.69579412481585,
         "Period": "2011-13",
         "Population": "Children",
         "Series_reference": "C_M11",
         "Severity": "Fatal",
         "Type": "Moving average",
         "Units": "Injuries",
         "Upper_CI": 13.9708725418508,
         "Validation": "Validated"
        },
        {
         "Age": "0-14 years",
         "Cause": "Motor vehicle traffic crashes",
         "Data_value": 10,
         "Indicator": "Number",
         "Lower_CI": 6.42161171256568,
         "Period": "2013-15",
         "Population": "Children",
         "Series_reference": "C_M11",
         "Severity": "Fatal",
         "Type": "Moving average",
         "Units": "Injuries",
         "Upper_CI": 13.5783882874343,
         "Validation": "Validated"
        },
        {
         "Age": "0-14 years",
         "Cause": "Motor vehicle traffic crashes",
         "Data_value": 10,
         "Indicator": "Number",
         "Lower_CI": 3.80204967695438,
         "Period": "2011",
         "Population": "Children",
         "Series_reference": "m11",
         "Severity": "Fatal",
         "Type": "Single year",
         "Units": "Injuries",
         "Upper_CI": 16.1979503230456,
         "Validation": "Validated"
        },
        {
         "Age": "0-14 years",
         "Cause": "Motor vehicle traffic crashes",
         "Data_value": 10,
         "Indicator": "Number",
         "Lower_CI": 3.80204967695438,
         "Period": "2015",
         "Population": "Children",
         "Series_reference": "m11",
         "Severity": "Fatal",
         "Type": "Single year",
         "Units": "Injuries",
         "Upper_CI": 16.1979503230456,
         "Validation": "Validated"
        },
        {
         "Age": "0-14 years",
         "Cause": "Motor vehicle traffic crashes",
         "Data_value": 7,
         "Indicator": "Number",
         "Lower_CI": 1.81442271826377,
         "Period": "2013",
         "Population": "Children",
         "Series_reference": "m11",
         "Severity": "Fatal",
         "Type": "Single year",
         "Units": "Injuries",
         "Upper_CI": 12.1855772817362,
         "Validation": "Validated"
        }
       ],
       "schema": {
        "fields": [
         {
          "name": "Series_reference",
          "type": "string"
         },
         {
          "name": "Period",
          "type": "string"
         },
         {
          "name": "Type",
          "type": "string"
         },
         {
          "name": "Data_value",
          "type": "number"
         },
         {
          "name": "Lower_CI",
          "type": "number"
         },
         {
          "name": "Upper_CI",
          "type": "number"
         },
         {
          "name": "Units",
          "type": "string"
         },
         {
          "name": "Indicator",
          "type": "string"
         },
         {
          "name": "Cause",
          "type": "string"
         },
         {
          "name": "Validation",
          "type": "string"
         },
         {
          "name": "Population",
          "type": "string"
         },
         {
          "name": "Age",
          "type": "string"
         },
         {
          "name": "Severity",
          "type": "string"
         }
        ]
       }
      },
      "text/html": [
       "<table><thead><tr><th>Series_reference</th><th>Period</th><th>Type</th><th>Data_value</th><th>Lower_CI</th><th>Upper_CI</th><th>Units</th><th>Indicator</th><th>Cause</th><th>Validation</th><th>Population</th><th>Age</th><th>Severity</th></tr></thead><tbody><tr><td>String7&#40;&quot;C_IN01&quot;&#41;</td><td>String7&#40;&quot;2004-06&quot;&#41;</td><td>String15&#40;&quot;Moving average&quot;&#41;</td><td>40.0</td><td>32.8432</td><td>47.1568</td><td>&quot;Injuries&quot;</td><td>&quot;Number&quot;</td><td>String31&#40;&quot;Intentional&quot;&#41;</td><td>String15&#40;&quot;Validated&quot;&#41;</td><td>String15&#40;&quot;Children&quot;&#41;</td><td>String15&#40;&quot;0-14 years&quot;&#41;</td><td>String31&#40;&quot;Serious non-fatal&quot;&#41;</td></tr><tr><td>String7&#40;&quot;C_A21&quot;&#41;</td><td>String7&#40;&quot;2003-05&quot;&#41;</td><td>String15&#40;&quot;Moving average&quot;&#41;</td><td>40.0</td><td>32.8432</td><td>47.1568</td><td>&quot;Injuries&quot;</td><td>&quot;Number&quot;</td><td>String31&#40;&quot;Assault&quot;&#41;</td><td>String15&#40;&quot;Validated&quot;&#41;</td><td>String15&#40;&quot;Children&quot;&#41;</td><td>String15&#40;&quot;0-14 years&quot;&#41;</td><td>String31&#40;&quot;Serious&quot;&#41;</td></tr><tr><td>String7&#40;&quot;a11&quot;&#41;</td><td>String7&#40;&quot;2017&quot;&#41;</td><td>String15&#40;&quot;Single year&quot;&#41;</td><td>40.0</td><td>27.6041</td><td>52.3959</td><td>&quot;Injuries&quot;</td><td>&quot;Number&quot;</td><td>String31&#40;&quot;Assault&quot;&#41;</td><td>String15&#40;&quot;Validated&quot;&#41;</td><td>String15&#40;&quot;Whole pop&quot;&#41;</td><td>String15&#40;&quot;All ages&quot;&#41;</td><td>String31&#40;&quot;Fatal&quot;&#41;</td></tr><tr><td>String7&#40;&quot;in01&quot;&#41;</td><td>String7&#40;&quot;2005&quot;&#41;</td><td>String15&#40;&quot;Single year&quot;&#41;</td><td>40.0</td><td>27.6041</td><td>52.3959</td><td>&quot;Injuries&quot;</td><td>&quot;Number&quot;</td><td>String31&#40;&quot;Intentional&quot;&#41;</td><td>String15&#40;&quot;Validated&quot;&#41;</td><td>String15&#40;&quot;Children&quot;&#41;</td><td>String15&#40;&quot;0-14 years&quot;&#41;</td><td>String31&#40;&quot;Serious non-fatal&quot;&#41;</td></tr><tr><td>String7&#40;&quot;in01&quot;&#41;</td><td>String7&#40;&quot;2012&quot;&#41;</td><td>String15&#40;&quot;Single year&quot;&#41;</td><td>40.0</td><td>27.6041</td><td>52.3959</td><td>&quot;Injuries&quot;</td><td>&quot;Number&quot;</td><td>String31&#40;&quot;Intentional&quot;&#41;</td><td>String15&#40;&quot;Validated&quot;&#41;</td><td>String15&#40;&quot;Children&quot;&#41;</td><td>String15&#40;&quot;0-14 years&quot;&#41;</td><td>String31&#40;&quot;Serious non-fatal&quot;&#41;</td></tr><tr><td>String7&#40;&quot;in01&quot;&#41;</td><td>String7&#40;&quot;2016&quot;&#41;</td><td>String15&#40;&quot;Single year&quot;&#41;</td><td>40.0</td><td>27.6041</td><td>52.3959</td><td>&quot;Injuries&quot;</td><td>&quot;Number&quot;</td><td>String31&#40;&quot;Intentional&quot;&#41;</td><td>String15&#40;&quot;Validated&quot;&#41;</td><td>String15&#40;&quot;Children&quot;&#41;</td><td>String15&#40;&quot;0-14 years&quot;&#41;</td><td>String31&#40;&quot;Serious non-fatal&quot;&#41;</td></tr><tr><td>String7&#40;&quot;in01&quot;&#41;</td><td>String7&#40;&quot;2019&quot;&#41;</td><td>String15&#40;&quot;Single year&quot;&#41;</td><td>40.0</td><td>27.6041</td><td>52.3959</td><td>&quot;Injuries&quot;</td><td>&quot;Number&quot;</td><td>String31&#40;&quot;Intentional&quot;&#41;</td><td>String15&#40;&quot;Validated&quot;&#41;</td><td>String15&#40;&quot;Children&quot;&#41;</td><td>String15&#40;&quot;0-14 years&quot;&#41;</td><td>String31&#40;&quot;Serious non-fatal&quot;&#41;</td></tr><tr><td>String7&#40;&quot;a21&quot;&#41;</td><td>String7&#40;&quot;2017&quot;&#41;</td><td>String15&#40;&quot;Single year&quot;&#41;</td><td>40.0</td><td>27.6041</td><td>52.3959</td><td>&quot;Injuries&quot;</td><td>&quot;Number&quot;</td><td>String31&#40;&quot;Assault&quot;&#41;</td><td>String15&#40;&quot;Validated&quot;&#41;</td><td>String15&#40;&quot;Children&quot;&#41;</td><td>String15&#40;&quot;0-14 years&quot;&#41;</td><td>String31&#40;&quot;Serious&quot;&#41;</td></tr><tr><td>String7&#40;&quot;p21&quot;&#41;</td><td>String7&#40;&quot;2017&quot;&#41;</td><td>String15&#40;&quot;Single year&quot;&#41;</td><td>40.0</td><td>27.6041</td><td>52.3959</td><td>&quot;Injuries&quot;</td><td>&quot;Number&quot;</td><td>String31&#40;&quot;Pedestrian&quot;&#41;</td><td>String15&#40;&quot;Validated&quot;&#41;</td><td>String15&#40;&quot;Children&quot;&#41;</td><td>String15&#40;&quot;0-14 years&quot;&#41;</td><td>String31&#40;&quot;Serious&quot;&#41;</td></tr><tr><td>String7&#40;&quot;C_IN01&quot;&#41;</td><td>String7&#40;&quot;2011-13&quot;&#41;</td><td>String15&#40;&quot;Moving average&quot;&#41;</td><td>39.6667</td><td>32.5398</td><td>46.7936</td><td>&quot;Injuries&quot;</td><td>&quot;Number&quot;</td><td>String31&#40;&quot;Intentional&quot;&#41;</td><td>String15&#40;&quot;Validated&quot;&#41;</td><td>String15&#40;&quot;Children&quot;&#41;</td><td>String15&#40;&quot;0-14 years&quot;&#41;</td><td>String31&#40;&quot;Serious non-fatal&quot;&#41;</td></tr><tr><td>&vellip;</td><td>&vellip;</td><td>&vellip;</td><td>&vellip;</td><td>&vellip;</td><td>&vellip;</td><td>&vellip;</td><td>&vellip;</td><td>&vellip;</td><td>&vellip;</td><td>&vellip;</td><td>&vellip;</td><td>&vellip;</td></tr></tbody></table><p>... with more rows.</p>"
      ],
      "text/plain": [
       "?x13 query result\n",
       "Series_reference │ Period  │ Type           │ Data_value │ Lower_CI │ Upper_CI\n",
       "─────────────────┼─────────┼────────────────┼────────────┼──────────┼─────────\n",
       "C_IN01           │ 2004-06 │ Moving average │ 40.0       │ 32.8432  │ 47.1568 \n",
       "C_A21            │ 2003-05 │ Moving average │ 40.0       │ 32.8432  │ 47.1568 \n",
       "a11              │ 2017    │ Single year    │ 40.0       │ 27.6041  │ 52.3959 \n",
       "in01             │ 2005    │ Single year    │ 40.0       │ 27.6041  │ 52.3959 \n",
       "in01             │ 2012    │ Single year    │ 40.0       │ 27.6041  │ 52.3959 \n",
       "in01             │ 2016    │ Single year    │ 40.0       │ 27.6041  │ 52.3959 \n",
       "in01             │ 2019    │ Single year    │ 40.0       │ 27.6041  │ 52.3959 \n",
       "a21              │ 2017    │ Single year    │ 40.0       │ 27.6041  │ 52.3959 \n",
       "p21              │ 2017    │ Single year    │ 40.0       │ 27.6041  │ 52.3959 \n",
       "C_IN01           │ 2011-13 │ Moving average │ 39.6667    │ 32.5398  │ 46.7936 \n",
       "... with more rows, and 7 more columns: Units, Indicator, Cause, Validation, Population, Age, Severity"
      ]
     },
     "metadata": {},
     "output_type": "display_data"
    }
   ],
   "source": [
    "# Select only the ones that correspond to injuries\n",
    "q1 = df |>\n",
    "    @filter(_.Units == \"Injuries\" && _.Data_value <= 40.0) |>\n",
    "    @orderby_descending(_.Data_value)"
   ]
  },
  {
   "cell_type": "code",
   "execution_count": 10,
   "metadata": {},
   "outputs": [
    {
     "data": {
      "text/html": [
       "<div><div style = \"float: left;\"><span>94×13 DataFrame</span></div><div style = \"float: right;\"><span style = \"font-style: italic;\">69 rows omitted</span></div><div style = \"clear: both;\"></div></div><div class = \"data-frame\" style = \"overflow-x: scroll;\"><table class = \"data-frame\" style = \"margin-bottom: 6px;\"><thead><tr class = \"header\"><th class = \"rowNumber\" style = \"font-weight: bold; text-align: right;\">Row</th><th style = \"text-align: left;\">Series_reference</th><th style = \"text-align: left;\">Period</th><th style = \"text-align: left;\">Type</th><th style = \"text-align: left;\">Data_value</th><th style = \"text-align: left;\">Lower_CI</th><th style = \"text-align: left;\">Upper_CI</th><th style = \"text-align: left;\">Units</th><th style = \"text-align: left;\">Indicator</th><th style = \"text-align: left;\">Cause</th><th style = \"text-align: left;\">Validation</th><th style = \"text-align: left;\">Population</th><th style = \"text-align: left;\">Age</th><th style = \"text-align: left;\">Severity</th></tr><tr class = \"subheader headerLastRow\"><th class = \"rowNumber\" style = \"font-weight: bold; text-align: right;\"></th><th title = \"String7\" style = \"text-align: left;\">String7</th><th title = \"String7\" style = \"text-align: left;\">String7</th><th title = \"String15\" style = \"text-align: left;\">String15</th><th title = \"Float64\" style = \"text-align: left;\">Float64</th><th title = \"Float64\" style = \"text-align: left;\">Float64</th><th title = \"Float64\" style = \"text-align: left;\">Float64</th><th title = \"String\" style = \"text-align: left;\">String</th><th title = \"String\" style = \"text-align: left;\">String</th><th title = \"String31\" style = \"text-align: left;\">String31</th><th title = \"String15\" style = \"text-align: left;\">String15</th><th title = \"String15\" style = \"text-align: left;\">String15</th><th title = \"String15\" style = \"text-align: left;\">String15</th><th title = \"String31\" style = \"text-align: left;\">String31</th></tr></thead><tbody><tr><td class = \"rowNumber\" style = \"font-weight: bold; text-align: right;\">1</td><td style = \"text-align: left;\">C_IN01</td><td style = \"text-align: left;\">2004-06</td><td style = \"text-align: left;\">Moving average</td><td style = \"text-align: right;\">40.0</td><td style = \"text-align: right;\">32.8432</td><td style = \"text-align: right;\">47.1568</td><td style = \"text-align: left;\">Injuries</td><td style = \"text-align: left;\">Number</td><td style = \"text-align: left;\">Intentional</td><td style = \"text-align: left;\">Validated</td><td style = \"text-align: left;\">Children</td><td style = \"text-align: left;\">0-14 years</td><td style = \"text-align: left;\">Serious non-fatal</td></tr><tr><td class = \"rowNumber\" style = \"font-weight: bold; text-align: right;\">2</td><td style = \"text-align: left;\">C_A21</td><td style = \"text-align: left;\">2003-05</td><td style = \"text-align: left;\">Moving average</td><td style = \"text-align: right;\">40.0</td><td style = \"text-align: right;\">32.8432</td><td style = \"text-align: right;\">47.1568</td><td style = \"text-align: left;\">Injuries</td><td style = \"text-align: left;\">Number</td><td style = \"text-align: left;\">Assault</td><td style = \"text-align: left;\">Validated</td><td style = \"text-align: left;\">Children</td><td style = \"text-align: left;\">0-14 years</td><td style = \"text-align: left;\">Serious</td></tr><tr><td class = \"rowNumber\" style = \"font-weight: bold; text-align: right;\">3</td><td style = \"text-align: left;\">a11</td><td style = \"text-align: left;\">2017</td><td style = \"text-align: left;\">Single year</td><td style = \"text-align: right;\">40.0</td><td style = \"text-align: right;\">27.6041</td><td style = \"text-align: right;\">52.3959</td><td style = \"text-align: left;\">Injuries</td><td style = \"text-align: left;\">Number</td><td style = \"text-align: left;\">Assault</td><td style = \"text-align: left;\">Validated</td><td style = \"text-align: left;\">Whole pop</td><td style = \"text-align: left;\">All ages</td><td style = \"text-align: left;\">Fatal</td></tr><tr><td class = \"rowNumber\" style = \"font-weight: bold; text-align: right;\">4</td><td style = \"text-align: left;\">in01</td><td style = \"text-align: left;\">2005</td><td style = \"text-align: left;\">Single year</td><td style = \"text-align: right;\">40.0</td><td style = \"text-align: right;\">27.6041</td><td style = \"text-align: right;\">52.3959</td><td style = \"text-align: left;\">Injuries</td><td style = \"text-align: left;\">Number</td><td style = \"text-align: left;\">Intentional</td><td style = \"text-align: left;\">Validated</td><td style = \"text-align: left;\">Children</td><td style = \"text-align: left;\">0-14 years</td><td style = \"text-align: left;\">Serious non-fatal</td></tr><tr><td class = \"rowNumber\" style = \"font-weight: bold; text-align: right;\">5</td><td style = \"text-align: left;\">in01</td><td style = \"text-align: left;\">2012</td><td style = \"text-align: left;\">Single year</td><td style = \"text-align: right;\">40.0</td><td style = \"text-align: right;\">27.6041</td><td style = \"text-align: right;\">52.3959</td><td style = \"text-align: left;\">Injuries</td><td style = \"text-align: left;\">Number</td><td style = \"text-align: left;\">Intentional</td><td style = \"text-align: left;\">Validated</td><td style = \"text-align: left;\">Children</td><td style = \"text-align: left;\">0-14 years</td><td style = \"text-align: left;\">Serious non-fatal</td></tr><tr><td class = \"rowNumber\" style = \"font-weight: bold; text-align: right;\">6</td><td style = \"text-align: left;\">in01</td><td style = \"text-align: left;\">2016</td><td style = \"text-align: left;\">Single year</td><td style = \"text-align: right;\">40.0</td><td style = \"text-align: right;\">27.6041</td><td style = \"text-align: right;\">52.3959</td><td style = \"text-align: left;\">Injuries</td><td style = \"text-align: left;\">Number</td><td style = \"text-align: left;\">Intentional</td><td style = \"text-align: left;\">Validated</td><td style = \"text-align: left;\">Children</td><td style = \"text-align: left;\">0-14 years</td><td style = \"text-align: left;\">Serious non-fatal</td></tr><tr><td class = \"rowNumber\" style = \"font-weight: bold; text-align: right;\">7</td><td style = \"text-align: left;\">in01</td><td style = \"text-align: left;\">2019</td><td style = \"text-align: left;\">Single year</td><td style = \"text-align: right;\">40.0</td><td style = \"text-align: right;\">27.6041</td><td style = \"text-align: right;\">52.3959</td><td style = \"text-align: left;\">Injuries</td><td style = \"text-align: left;\">Number</td><td style = \"text-align: left;\">Intentional</td><td style = \"text-align: left;\">Validated</td><td style = \"text-align: left;\">Children</td><td style = \"text-align: left;\">0-14 years</td><td style = \"text-align: left;\">Serious non-fatal</td></tr><tr><td class = \"rowNumber\" style = \"font-weight: bold; text-align: right;\">8</td><td style = \"text-align: left;\">a21</td><td style = \"text-align: left;\">2017</td><td style = \"text-align: left;\">Single year</td><td style = \"text-align: right;\">40.0</td><td style = \"text-align: right;\">27.6041</td><td style = \"text-align: right;\">52.3959</td><td style = \"text-align: left;\">Injuries</td><td style = \"text-align: left;\">Number</td><td style = \"text-align: left;\">Assault</td><td style = \"text-align: left;\">Validated</td><td style = \"text-align: left;\">Children</td><td style = \"text-align: left;\">0-14 years</td><td style = \"text-align: left;\">Serious</td></tr><tr><td class = \"rowNumber\" style = \"font-weight: bold; text-align: right;\">9</td><td style = \"text-align: left;\">p21</td><td style = \"text-align: left;\">2017</td><td style = \"text-align: left;\">Single year</td><td style = \"text-align: right;\">40.0</td><td style = \"text-align: right;\">27.6041</td><td style = \"text-align: right;\">52.3959</td><td style = \"text-align: left;\">Injuries</td><td style = \"text-align: left;\">Number</td><td style = \"text-align: left;\">Pedestrian</td><td style = \"text-align: left;\">Validated</td><td style = \"text-align: left;\">Children</td><td style = \"text-align: left;\">0-14 years</td><td style = \"text-align: left;\">Serious</td></tr><tr><td class = \"rowNumber\" style = \"font-weight: bold; text-align: right;\">10</td><td style = \"text-align: left;\">C_IN01</td><td style = \"text-align: left;\">2011-13</td><td style = \"text-align: left;\">Moving average</td><td style = \"text-align: right;\">39.6667</td><td style = \"text-align: right;\">32.5398</td><td style = \"text-align: right;\">46.7936</td><td style = \"text-align: left;\">Injuries</td><td style = \"text-align: left;\">Number</td><td style = \"text-align: left;\">Intentional</td><td style = \"text-align: left;\">Validated</td><td style = \"text-align: left;\">Children</td><td style = \"text-align: left;\">0-14 years</td><td style = \"text-align: left;\">Serious non-fatal</td></tr><tr><td class = \"rowNumber\" style = \"font-weight: bold; text-align: right;\">11</td><td style = \"text-align: left;\">C_P21</td><td style = \"text-align: left;\">2010-12</td><td style = \"text-align: left;\">Moving average</td><td style = \"text-align: right;\">39.6667</td><td style = \"text-align: right;\">32.5398</td><td style = \"text-align: right;\">46.7936</td><td style = \"text-align: left;\">Injuries</td><td style = \"text-align: left;\">Number</td><td style = \"text-align: left;\">Pedestrian</td><td style = \"text-align: left;\">Validated</td><td style = \"text-align: left;\">Children</td><td style = \"text-align: left;\">0-14 years</td><td style = \"text-align: left;\">Serious</td></tr><tr><td class = \"rowNumber\" style = \"font-weight: bold; text-align: right;\">12</td><td style = \"text-align: left;\">C_P21</td><td style = \"text-align: left;\">2015-17</td><td style = \"text-align: left;\">Moving average</td><td style = \"text-align: right;\">39.0</td><td style = \"text-align: right;\">31.9332</td><td style = \"text-align: right;\">46.0668</td><td style = \"text-align: left;\">Injuries</td><td style = \"text-align: left;\">Number</td><td style = \"text-align: left;\">Pedestrian</td><td style = \"text-align: left;\">Validated</td><td style = \"text-align: left;\">Children</td><td style = \"text-align: left;\">0-14 years</td><td style = \"text-align: left;\">Serious</td></tr><tr><td class = \"rowNumber\" style = \"font-weight: bold; text-align: right;\">13</td><td style = \"text-align: left;\">C_P21</td><td style = \"text-align: left;\">2016-18</td><td style = \"text-align: left;\">Moving average</td><td style = \"text-align: right;\">39.0</td><td style = \"text-align: right;\">31.9332</td><td style = \"text-align: right;\">46.0668</td><td style = \"text-align: left;\">Injuries</td><td style = \"text-align: left;\">Number</td><td style = \"text-align: left;\">Pedestrian</td><td style = \"text-align: left;\">Validated</td><td style = \"text-align: left;\">Children</td><td style = \"text-align: left;\">0-14 years</td><td style = \"text-align: left;\">Serious</td></tr><tr><td style = \"text-align: right;\">&vellip;</td><td style = \"text-align: right;\">&vellip;</td><td style = \"text-align: right;\">&vellip;</td><td style = \"text-align: right;\">&vellip;</td><td style = \"text-align: right;\">&vellip;</td><td style = \"text-align: right;\">&vellip;</td><td style = \"text-align: right;\">&vellip;</td><td style = \"text-align: right;\">&vellip;</td><td style = \"text-align: right;\">&vellip;</td><td style = \"text-align: right;\">&vellip;</td><td style = \"text-align: right;\">&vellip;</td><td style = \"text-align: right;\">&vellip;</td><td style = \"text-align: right;\">&vellip;</td><td style = \"text-align: right;\">&vellip;</td></tr><tr><td class = \"rowNumber\" style = \"font-weight: bold; text-align: right;\">83</td><td style = \"text-align: left;\">m11</td><td style = \"text-align: left;\">2012</td><td style = \"text-align: left;\">Single year</td><td style = \"text-align: right;\">14.0</td><td style = \"text-align: right;\">6.66649</td><td style = \"text-align: right;\">21.3335</td><td style = \"text-align: left;\">Injuries</td><td style = \"text-align: left;\">Number</td><td style = \"text-align: left;\">Motor vehicle traffic crashes</td><td style = \"text-align: left;\">Validated</td><td style = \"text-align: left;\">Children</td><td style = \"text-align: left;\">0-14 years</td><td style = \"text-align: left;\">Fatal</td></tr><tr><td class = \"rowNumber\" style = \"font-weight: bold; text-align: right;\">84</td><td style = \"text-align: left;\">C_M11</td><td style = \"text-align: left;\">2010-12</td><td style = \"text-align: left;\">Moving average</td><td style = \"text-align: right;\">13.0</td><td style = \"text-align: right;\">8.92001</td><td style = \"text-align: right;\">17.08</td><td style = \"text-align: left;\">Injuries</td><td style = \"text-align: left;\">Number</td><td style = \"text-align: left;\">Motor vehicle traffic crashes</td><td style = \"text-align: left;\">Validated</td><td style = \"text-align: left;\">Children</td><td style = \"text-align: left;\">0-14 years</td><td style = \"text-align: left;\">Fatal</td></tr><tr><td class = \"rowNumber\" style = \"font-weight: bold; text-align: right;\">85</td><td style = \"text-align: left;\">m11</td><td style = \"text-align: left;\">2014</td><td style = \"text-align: left;\">Single year</td><td style = \"text-align: right;\">13.0</td><td style = \"text-align: right;\">5.93325</td><td style = \"text-align: right;\">20.0668</td><td style = \"text-align: left;\">Injuries</td><td style = \"text-align: left;\">Number</td><td style = \"text-align: left;\">Motor vehicle traffic crashes</td><td style = \"text-align: left;\">Validated</td><td style = \"text-align: left;\">Children</td><td style = \"text-align: left;\">0-14 years</td><td style = \"text-align: left;\">Fatal</td></tr><tr><td class = \"rowNumber\" style = \"font-weight: bold; text-align: right;\">86</td><td style = \"text-align: left;\">m11</td><td style = \"text-align: left;\">2017</td><td style = \"text-align: left;\">Single year</td><td style = \"text-align: right;\">13.0</td><td style = \"text-align: right;\">5.93325</td><td style = \"text-align: right;\">20.0668</td><td style = \"text-align: left;\">Injuries</td><td style = \"text-align: left;\">Number</td><td style = \"text-align: left;\">Motor vehicle traffic crashes</td><td style = \"text-align: left;\">Validated</td><td style = \"text-align: left;\">Children</td><td style = \"text-align: left;\">0-14 years</td><td style = \"text-align: left;\">Fatal</td></tr><tr><td class = \"rowNumber\" style = \"font-weight: bold; text-align: right;\">87</td><td style = \"text-align: left;\">C_M11</td><td style = \"text-align: left;\">2014-16</td><td style = \"text-align: left;\">Moving average</td><td style = \"text-align: right;\">12.6667</td><td style = \"text-align: right;\">8.63932</td><td style = \"text-align: right;\">16.694</td><td style = \"text-align: left;\">Injuries</td><td style = \"text-align: left;\">Number</td><td style = \"text-align: left;\">Motor vehicle traffic crashes</td><td style = \"text-align: left;\">Validated</td><td style = \"text-align: left;\">Children</td><td style = \"text-align: left;\">0-14 years</td><td style = \"text-align: left;\">Fatal</td></tr><tr><td class = \"rowNumber\" style = \"font-weight: bold; text-align: right;\">88</td><td style = \"text-align: left;\">C_M11</td><td style = \"text-align: left;\">2015-17</td><td style = \"text-align: left;\">Moving average</td><td style = \"text-align: right;\">12.6667</td><td style = \"text-align: right;\">8.63932</td><td style = \"text-align: right;\">16.694</td><td style = \"text-align: left;\">Injuries</td><td style = \"text-align: left;\">Number</td><td style = \"text-align: left;\">Motor vehicle traffic crashes</td><td style = \"text-align: left;\">Validated</td><td style = \"text-align: left;\">Children</td><td style = \"text-align: left;\">0-14 years</td><td style = \"text-align: left;\">Fatal</td></tr><tr><td class = \"rowNumber\" style = \"font-weight: bold; text-align: right;\">89</td><td style = \"text-align: left;\">C_M11</td><td style = \"text-align: left;\">2012-14</td><td style = \"text-align: left;\">Moving average</td><td style = \"text-align: right;\">11.3333</td><td style = \"text-align: right;\">7.52385</td><td style = \"text-align: right;\">15.1428</td><td style = \"text-align: left;\">Injuries</td><td style = \"text-align: left;\">Number</td><td style = \"text-align: left;\">Motor vehicle traffic crashes</td><td style = \"text-align: left;\">Validated</td><td style = \"text-align: left;\">Children</td><td style = \"text-align: left;\">0-14 years</td><td style = \"text-align: left;\">Fatal</td></tr><tr><td class = \"rowNumber\" style = \"font-weight: bold; text-align: right;\">90</td><td style = \"text-align: left;\">C_M11</td><td style = \"text-align: left;\">2011-13</td><td style = \"text-align: left;\">Moving average</td><td style = \"text-align: right;\">10.3333</td><td style = \"text-align: right;\">6.69579</td><td style = \"text-align: right;\">13.9709</td><td style = \"text-align: left;\">Injuries</td><td style = \"text-align: left;\">Number</td><td style = \"text-align: left;\">Motor vehicle traffic crashes</td><td style = \"text-align: left;\">Validated</td><td style = \"text-align: left;\">Children</td><td style = \"text-align: left;\">0-14 years</td><td style = \"text-align: left;\">Fatal</td></tr><tr><td class = \"rowNumber\" style = \"font-weight: bold; text-align: right;\">91</td><td style = \"text-align: left;\">C_M11</td><td style = \"text-align: left;\">2013-15</td><td style = \"text-align: left;\">Moving average</td><td style = \"text-align: right;\">10.0</td><td style = \"text-align: right;\">6.42161</td><td style = \"text-align: right;\">13.5784</td><td style = \"text-align: left;\">Injuries</td><td style = \"text-align: left;\">Number</td><td style = \"text-align: left;\">Motor vehicle traffic crashes</td><td style = \"text-align: left;\">Validated</td><td style = \"text-align: left;\">Children</td><td style = \"text-align: left;\">0-14 years</td><td style = \"text-align: left;\">Fatal</td></tr><tr><td class = \"rowNumber\" style = \"font-weight: bold; text-align: right;\">92</td><td style = \"text-align: left;\">m11</td><td style = \"text-align: left;\">2011</td><td style = \"text-align: left;\">Single year</td><td style = \"text-align: right;\">10.0</td><td style = \"text-align: right;\">3.80205</td><td style = \"text-align: right;\">16.198</td><td style = \"text-align: left;\">Injuries</td><td style = \"text-align: left;\">Number</td><td style = \"text-align: left;\">Motor vehicle traffic crashes</td><td style = \"text-align: left;\">Validated</td><td style = \"text-align: left;\">Children</td><td style = \"text-align: left;\">0-14 years</td><td style = \"text-align: left;\">Fatal</td></tr><tr><td class = \"rowNumber\" style = \"font-weight: bold; text-align: right;\">93</td><td style = \"text-align: left;\">m11</td><td style = \"text-align: left;\">2015</td><td style = \"text-align: left;\">Single year</td><td style = \"text-align: right;\">10.0</td><td style = \"text-align: right;\">3.80205</td><td style = \"text-align: right;\">16.198</td><td style = \"text-align: left;\">Injuries</td><td style = \"text-align: left;\">Number</td><td style = \"text-align: left;\">Motor vehicle traffic crashes</td><td style = \"text-align: left;\">Validated</td><td style = \"text-align: left;\">Children</td><td style = \"text-align: left;\">0-14 years</td><td style = \"text-align: left;\">Fatal</td></tr><tr><td class = \"rowNumber\" style = \"font-weight: bold; text-align: right;\">94</td><td style = \"text-align: left;\">m11</td><td style = \"text-align: left;\">2013</td><td style = \"text-align: left;\">Single year</td><td style = \"text-align: right;\">7.0</td><td style = \"text-align: right;\">1.81442</td><td style = \"text-align: right;\">12.1856</td><td style = \"text-align: left;\">Injuries</td><td style = \"text-align: left;\">Number</td><td style = \"text-align: left;\">Motor vehicle traffic crashes</td><td style = \"text-align: left;\">Validated</td><td style = \"text-align: left;\">Children</td><td style = \"text-align: left;\">0-14 years</td><td style = \"text-align: left;\">Fatal</td></tr></tbody></table></div>"
      ],
      "text/latex": [
       "\\begin{tabular}{r|cccccccc}\n",
       "\t& Series\\_reference & Period & Type & Data\\_value & Lower\\_CI & Upper\\_CI & Units & \\\\\n",
       "\t\\hline\n",
       "\t& String7 & String7 & String15 & Float64 & Float64 & Float64 & String & \\\\\n",
       "\t\\hline\n",
       "\t1 & C\\_IN01 & 2004-06 & Moving average & 40.0 & 32.8432 & 47.1568 & Injuries & $\\dots$ \\\\\n",
       "\t2 & C\\_A21 & 2003-05 & Moving average & 40.0 & 32.8432 & 47.1568 & Injuries & $\\dots$ \\\\\n",
       "\t3 & a11 & 2017 & Single year & 40.0 & 27.6041 & 52.3959 & Injuries & $\\dots$ \\\\\n",
       "\t4 & in01 & 2005 & Single year & 40.0 & 27.6041 & 52.3959 & Injuries & $\\dots$ \\\\\n",
       "\t5 & in01 & 2012 & Single year & 40.0 & 27.6041 & 52.3959 & Injuries & $\\dots$ \\\\\n",
       "\t6 & in01 & 2016 & Single year & 40.0 & 27.6041 & 52.3959 & Injuries & $\\dots$ \\\\\n",
       "\t7 & in01 & 2019 & Single year & 40.0 & 27.6041 & 52.3959 & Injuries & $\\dots$ \\\\\n",
       "\t8 & a21 & 2017 & Single year & 40.0 & 27.6041 & 52.3959 & Injuries & $\\dots$ \\\\\n",
       "\t9 & p21 & 2017 & Single year & 40.0 & 27.6041 & 52.3959 & Injuries & $\\dots$ \\\\\n",
       "\t10 & C\\_IN01 & 2011-13 & Moving average & 39.6667 & 32.5398 & 46.7936 & Injuries & $\\dots$ \\\\\n",
       "\t11 & C\\_P21 & 2010-12 & Moving average & 39.6667 & 32.5398 & 46.7936 & Injuries & $\\dots$ \\\\\n",
       "\t12 & C\\_P21 & 2015-17 & Moving average & 39.0 & 31.9332 & 46.0668 & Injuries & $\\dots$ \\\\\n",
       "\t13 & C\\_P21 & 2016-18 & Moving average & 39.0 & 31.9332 & 46.0668 & Injuries & $\\dots$ \\\\\n",
       "\t14 & f01c & 2004 & Single year & 39.0 & 26.76 & 51.24 & Injuries & $\\dots$ \\\\\n",
       "\t15 & in21 & 2013 & Single year & 39.0 & 26.76 & 51.24 & Injuries & $\\dots$ \\\\\n",
       "\t16 & p21 & 2011 & Single year & 39.0 & 26.76 & 51.24 & Injuries & $\\dots$ \\\\\n",
       "\t17 & C\\_IN01 & 2002-04 & Moving average & 38.6667 & 31.6302 & 45.7032 & Injuries & $\\dots$ \\\\\n",
       "\t18 & C\\_P21 & 2012-14 & Moving average & 38.3333 & 31.3272 & 45.3394 & Injuries & $\\dots$ \\\\\n",
       "\t19 & M\\_F01C & 2003-05 & Moving average & 38.0 & 31.0244 & 44.9756 & Injuries & $\\dots$ \\\\\n",
       "\t20 & M\\_F21C & 2002-04 & Moving average & 38.0 & 31.0244 & 44.9756 & Injuries & $\\dots$ \\\\\n",
       "\t21 & in01 & 2004 & Single year & 38.0 & 25.918 & 50.082 & Injuries & $\\dots$ \\\\\n",
       "\t22 & C\\_A21 & 2011-13 & Moving average & 37.3333 & 30.4192 & 44.2474 & Injuries & $\\dots$ \\\\\n",
       "\t23 & in01 & 2008 & Single year & 37.0 & 25.078 & 48.922 & Injuries & $\\dots$ \\\\\n",
       "\t24 & in01 & 2013 & Single year & 37.0 & 25.078 & 48.922 & Injuries & $\\dots$ \\\\\n",
       "\t$\\dots$ & $\\dots$ & $\\dots$ & $\\dots$ & $\\dots$ & $\\dots$ & $\\dots$ & $\\dots$ &  \\\\\n",
       "\\end{tabular}\n"
      ],
      "text/plain": [
       "\u001b[1m94×13 DataFrame\u001b[0m\n",
       "\u001b[1m Row \u001b[0m│\u001b[1m Series_reference \u001b[0m\u001b[1m Period  \u001b[0m\u001b[1m Type           \u001b[0m\u001b[1m Data_value \u001b[0m\u001b[1m Lower_CI \u001b[0m\u001b[1m Upper_\u001b[0m ⋯\n",
       "     │\u001b[90m String7          \u001b[0m\u001b[90m String7 \u001b[0m\u001b[90m String15       \u001b[0m\u001b[90m Float64    \u001b[0m\u001b[90m Float64  \u001b[0m\u001b[90m Float6\u001b[0m ⋯\n",
       "─────┼──────────────────────────────────────────────────────────────────────────\n",
       "   1 │ C_IN01            2004-06  Moving average     40.0     32.8432    47.15 ⋯\n",
       "   2 │ C_A21             2003-05  Moving average     40.0     32.8432    47.15\n",
       "   3 │ a11               2017     Single year        40.0     27.6041    52.39\n",
       "   4 │ in01              2005     Single year        40.0     27.6041    52.39\n",
       "   5 │ in01              2012     Single year        40.0     27.6041    52.39 ⋯\n",
       "   6 │ in01              2016     Single year        40.0     27.6041    52.39\n",
       "   7 │ in01              2019     Single year        40.0     27.6041    52.39\n",
       "   8 │ a21               2017     Single year        40.0     27.6041    52.39\n",
       "  ⋮  │        ⋮             ⋮           ⋮             ⋮          ⋮         ⋮   ⋱\n",
       "  88 │ C_M11             2015-17  Moving average     12.6667   8.63932   16.69 ⋯\n",
       "  89 │ C_M11             2012-14  Moving average     11.3333   7.52385   15.14\n",
       "  90 │ C_M11             2011-13  Moving average     10.3333   6.69579   13.97\n",
       "  91 │ C_M11             2013-15  Moving average     10.0      6.42161   13.57\n",
       "  92 │ m11               2011     Single year        10.0      3.80205   16.19 ⋯\n",
       "  93 │ m11               2015     Single year        10.0      3.80205   16.19\n",
       "  94 │ m11               2013     Single year         7.0      1.81442   12.18\n",
       "\u001b[36m                                                   8 columns and 79 rows omitted\u001b[0m"
      ]
     },
     "metadata": {},
     "output_type": "display_data"
    }
   ],
   "source": [
    "q1 |> DataFrame"
   ]
  },
  {
   "cell_type": "code",
   "execution_count": 11,
   "metadata": {},
   "outputs": [
    {
     "data": {
      "application/vnd.dataresource+json": {
       "data": [
        {
         "Age": "0-14 years",
         "Cause": "Intentional",
         "Data_value": 40,
         "Indicator": "Number",
         "Lower_CI": 32.8432234251313,
         "Period": "2004-06",
         "Population": "Children",
         "Series_reference": "C_IN01",
         "Severity": "Serious non-fatal",
         "Type": "Moving average",
         "Units": "Injuries",
         "Upper_CI": 47.1567765748686,
         "Validation": "Validated"
        },
        {
         "Age": "0-14 years",
         "Cause": "Assault",
         "Data_value": 40,
         "Indicator": "Number",
         "Lower_CI": 32.8432234251313,
         "Period": "2003-05",
         "Population": "Children",
         "Series_reference": "C_A21",
         "Severity": "Serious",
         "Type": "Moving average",
         "Units": "Injuries",
         "Upper_CI": 47.1567765748686,
         "Validation": "Validated"
        },
        {
         "Age": "All ages",
         "Cause": "Assault",
         "Data_value": 40,
         "Indicator": "Number",
         "Lower_CI": 27.6040993539087,
         "Period": "2017",
         "Population": "Whole pop",
         "Series_reference": "a11",
         "Severity": "Fatal",
         "Type": "Single year",
         "Units": "Injuries",
         "Upper_CI": 52.3959006460912,
         "Validation": "Validated"
        },
        {
         "Age": "0-14 years",
         "Cause": "Intentional",
         "Data_value": 40,
         "Indicator": "Number",
         "Lower_CI": 27.6040993539087,
         "Period": "2005",
         "Population": "Children",
         "Series_reference": "in01",
         "Severity": "Serious non-fatal",
         "Type": "Single year",
         "Units": "Injuries",
         "Upper_CI": 52.3959006460912,
         "Validation": "Validated"
        },
        {
         "Age": "0-14 years",
         "Cause": "Intentional",
         "Data_value": 40,
         "Indicator": "Number",
         "Lower_CI": 27.6040993539087,
         "Period": "2012",
         "Population": "Children",
         "Series_reference": "in01",
         "Severity": "Serious non-fatal",
         "Type": "Single year",
         "Units": "Injuries",
         "Upper_CI": 52.3959006460912,
         "Validation": "Validated"
        }
       ],
       "schema": {
        "fields": [
         {
          "name": "Series_reference",
          "type": "string"
         },
         {
          "name": "Period",
          "type": "string"
         },
         {
          "name": "Type",
          "type": "string"
         },
         {
          "name": "Data_value",
          "type": "number"
         },
         {
          "name": "Lower_CI",
          "type": "number"
         },
         {
          "name": "Upper_CI",
          "type": "number"
         },
         {
          "name": "Units",
          "type": "string"
         },
         {
          "name": "Indicator",
          "type": "string"
         },
         {
          "name": "Cause",
          "type": "string"
         },
         {
          "name": "Validation",
          "type": "string"
         },
         {
          "name": "Population",
          "type": "string"
         },
         {
          "name": "Age",
          "type": "string"
         },
         {
          "name": "Severity",
          "type": "string"
         }
        ]
       }
      },
      "text/html": [
       "<table><thead><tr><th>Series_reference</th><th>Period</th><th>Type</th><th>Data_value</th><th>Lower_CI</th><th>Upper_CI</th><th>Units</th><th>Indicator</th><th>Cause</th><th>Validation</th><th>Population</th><th>Age</th><th>Severity</th></tr></thead><tbody><tr><td>String7&#40;&quot;C_IN01&quot;&#41;</td><td>String7&#40;&quot;2004-06&quot;&#41;</td><td>String15&#40;&quot;Moving average&quot;&#41;</td><td>40.0</td><td>32.8432</td><td>47.1568</td><td>&quot;Injuries&quot;</td><td>&quot;Number&quot;</td><td>String31&#40;&quot;Intentional&quot;&#41;</td><td>String15&#40;&quot;Validated&quot;&#41;</td><td>String15&#40;&quot;Children&quot;&#41;</td><td>String15&#40;&quot;0-14 years&quot;&#41;</td><td>String31&#40;&quot;Serious non-fatal&quot;&#41;</td></tr><tr><td>String7&#40;&quot;C_A21&quot;&#41;</td><td>String7&#40;&quot;2003-05&quot;&#41;</td><td>String15&#40;&quot;Moving average&quot;&#41;</td><td>40.0</td><td>32.8432</td><td>47.1568</td><td>&quot;Injuries&quot;</td><td>&quot;Number&quot;</td><td>String31&#40;&quot;Assault&quot;&#41;</td><td>String15&#40;&quot;Validated&quot;&#41;</td><td>String15&#40;&quot;Children&quot;&#41;</td><td>String15&#40;&quot;0-14 years&quot;&#41;</td><td>String31&#40;&quot;Serious&quot;&#41;</td></tr><tr><td>String7&#40;&quot;a11&quot;&#41;</td><td>String7&#40;&quot;2017&quot;&#41;</td><td>String15&#40;&quot;Single year&quot;&#41;</td><td>40.0</td><td>27.6041</td><td>52.3959</td><td>&quot;Injuries&quot;</td><td>&quot;Number&quot;</td><td>String31&#40;&quot;Assault&quot;&#41;</td><td>String15&#40;&quot;Validated&quot;&#41;</td><td>String15&#40;&quot;Whole pop&quot;&#41;</td><td>String15&#40;&quot;All ages&quot;&#41;</td><td>String31&#40;&quot;Fatal&quot;&#41;</td></tr><tr><td>String7&#40;&quot;in01&quot;&#41;</td><td>String7&#40;&quot;2005&quot;&#41;</td><td>String15&#40;&quot;Single year&quot;&#41;</td><td>40.0</td><td>27.6041</td><td>52.3959</td><td>&quot;Injuries&quot;</td><td>&quot;Number&quot;</td><td>String31&#40;&quot;Intentional&quot;&#41;</td><td>String15&#40;&quot;Validated&quot;&#41;</td><td>String15&#40;&quot;Children&quot;&#41;</td><td>String15&#40;&quot;0-14 years&quot;&#41;</td><td>String31&#40;&quot;Serious non-fatal&quot;&#41;</td></tr><tr><td>String7&#40;&quot;in01&quot;&#41;</td><td>String7&#40;&quot;2012&quot;&#41;</td><td>String15&#40;&quot;Single year&quot;&#41;</td><td>40.0</td><td>27.6041</td><td>52.3959</td><td>&quot;Injuries&quot;</td><td>&quot;Number&quot;</td><td>String31&#40;&quot;Intentional&quot;&#41;</td><td>String15&#40;&quot;Validated&quot;&#41;</td><td>String15&#40;&quot;Children&quot;&#41;</td><td>String15&#40;&quot;0-14 years&quot;&#41;</td><td>String31&#40;&quot;Serious non-fatal&quot;&#41;</td></tr></tbody></table>"
      ],
      "text/plain": [
       "5x13 query result\n",
       "Series_reference │ Period  │ Type           │ Data_value │ Lower_CI │ Upper_CI\n",
       "─────────────────┼─────────┼────────────────┼────────────┼──────────┼─────────\n",
       "C_IN01           │ 2004-06 │ Moving average │ 40.0       │ 32.8432  │ 47.1568 \n",
       "C_A21            │ 2003-05 │ Moving average │ 40.0       │ 32.8432  │ 47.1568 \n",
       "a11              │ 2017    │ Single year    │ 40.0       │ 27.6041  │ 52.3959 \n",
       "in01             │ 2005    │ Single year    │ 40.0       │ 27.6041  │ 52.3959 \n",
       "in01             │ 2012    │ Single year    │ 40.0       │ 27.6041  │ 52.3959 \n",
       "... with 7 more columns: Units, Indicator, Cause, Validation, Population, Age, Severity"
      ]
     },
     "metadata": {},
     "output_type": "display_data"
    }
   ],
   "source": [
    "q1 |>\n",
    "    @take(5)"
   ]
  },
  {
   "cell_type": "code",
   "execution_count": 12,
   "metadata": {},
   "outputs": [
    {
     "data": {
      "text/plain": [
       "1000-element Vector{Int64}:\n",
       "       1\n",
       "       4\n",
       "       9\n",
       "      16\n",
       "      25\n",
       "      36\n",
       "      49\n",
       "      64\n",
       "      81\n",
       "     100\n",
       "       ⋮\n",
       "  984064\n",
       "  986049\n",
       "  988036\n",
       "  990025\n",
       "  992016\n",
       "  994009\n",
       "  996004\n",
       "  998001\n",
       " 1000000"
      ]
     },
     "metadata": {},
     "output_type": "display_data"
    }
   ],
   "source": [
    "squares = (1:1000).^2"
   ]
  },
  {
   "cell_type": "code",
   "execution_count": 13,
   "metadata": {},
   "outputs": [
    {
     "data": {
      "text/plain": [
       "5-element Vector{Int64}:\n",
       " 1000000\n",
       "  998001\n",
       "  996004\n",
       "  994009\n",
       "  992016"
      ]
     },
     "metadata": {},
     "output_type": "display_data"
    }
   ],
   "source": [
    "reverse(squares[end-4:end])"
   ]
  },
  {
   "cell_type": "code",
   "execution_count": 14,
   "metadata": {},
   "outputs": [
    {
     "data": {
      "text/plain": [
       "Vector{Int64}\u001b[90m (alias for \u001b[39m\u001b[90mArray{Int64, 1}\u001b[39m\u001b[90m)\u001b[39m"
      ]
     },
     "metadata": {},
     "output_type": "display_data"
    }
   ],
   "source": [
    "typeof(squares)"
   ]
  },
  {
   "cell_type": "code",
   "execution_count": 15,
   "metadata": {},
   "outputs": [
    {
     "data": {
      "text/plain": [
       "Dict{Int64, Int64} with 10 entries:\n",
       "  5  => 25\n",
       "  4  => 16\n",
       "  6  => 36\n",
       "  7  => 49\n",
       "  2  => 4\n",
       "  10 => 100\n",
       "  9  => 81\n",
       "  8  => 64\n",
       "  3  => 9\n",
       "  1  => 1"
      ]
     },
     "metadata": {},
     "output_type": "display_data"
    }
   ],
   "source": [
    "squares = 1:10 |>\n",
    "    @map(_=>_^2) |>\n",
    "    Dict"
   ]
  },
  {
   "cell_type": "code",
   "execution_count": 16,
   "metadata": {},
   "outputs": [
    {
     "data": {
      "application/vnd.dataresource+json": {
       "data": [
        {
         "num_squared": 1,
         "number": 1
        },
        {
         "num_squared": 4,
         "number": 2
        },
        {
         "num_squared": 9,
         "number": 3
        },
        {
         "num_squared": 16,
         "number": 4
        },
        {
         "num_squared": 25,
         "number": 5
        },
        {
         "num_squared": 36,
         "number": 6
        },
        {
         "num_squared": 49,
         "number": 7
        },
        {
         "num_squared": 64,
         "number": 8
        },
        {
         "num_squared": 81,
         "number": 9
        },
        {
         "num_squared": 100,
         "number": 10
        }
       ],
       "schema": {
        "fields": [
         {
          "name": "number",
          "type": "integer"
         },
         {
          "name": "num_squared",
          "type": "integer"
         }
        ]
       }
      },
      "text/html": [
       "<table><thead><tr><th>number</th><th>num_squared</th></tr></thead><tbody><tr><td>1</td><td>1</td></tr><tr><td>2</td><td>4</td></tr><tr><td>3</td><td>9</td></tr><tr><td>4</td><td>16</td></tr><tr><td>5</td><td>25</td></tr><tr><td>6</td><td>36</td></tr><tr><td>7</td><td>49</td></tr><tr><td>8</td><td>64</td></tr><tr><td>9</td><td>81</td></tr><tr><td>10</td><td>100</td></tr></tbody></table>"
      ],
      "text/plain": [
       "10x2 query result\n",
       "number │ num_squared\n",
       "───────┼────────────\n",
       "1      │ 1          \n",
       "2      │ 4          \n",
       "3      │ 9          \n",
       "4      │ 16         \n",
       "5      │ 25         \n",
       "6      │ 36         \n",
       "7      │ 49         \n",
       "8      │ 64         \n",
       "9      │ 81         \n",
       "10     │ 100        "
      ]
     },
     "metadata": {},
     "output_type": "display_data"
    }
   ],
   "source": [
    "# Named tuples\n",
    "1:10 |> @map({number=_, num_squared=_^2})"
   ]
  },
  {
   "cell_type": "code",
   "execution_count": 17,
   "metadata": {},
   "outputs": [
    {
     "data": {
      "text/plain": [
       "Dict{Int64, Int64}"
      ]
     },
     "metadata": {},
     "output_type": "display_data"
    }
   ],
   "source": [
    "typeof(squares)"
   ]
  },
  {
   "cell_type": "code",
   "execution_count": 18,
   "metadata": {},
   "outputs": [
    {
     "data": {
      "text/plain": [
       "25"
      ]
     },
     "metadata": {},
     "output_type": "display_data"
    }
   ],
   "source": [
    "squares[5]"
   ]
  },
  {
   "cell_type": "code",
   "execution_count": 19,
   "metadata": {},
   "outputs": [
    {
     "data": {
      "text/plain": [
       "Dict{Int64, Int64}()"
      ]
     },
     "metadata": {},
     "output_type": "display_data"
    }
   ],
   "source": [
    "x = Dict{Int64, Int64}()"
   ]
  },
  {
   "cell_type": "code",
   "execution_count": 20,
   "metadata": {},
   "outputs": [
    {
     "data": {
      "text/plain": [
       "Dict{Int64, Int64}()"
      ]
     },
     "metadata": {},
     "output_type": "display_data"
    }
   ],
   "source": [
    "x"
   ]
  },
  {
   "cell_type": "code",
   "execution_count": 21,
   "metadata": {},
   "outputs": [
    {
     "data": {
      "text/plain": [
       "5-element Vector{Int64}:\n",
       "  2\n",
       "  4\n",
       "  6\n",
       "  8\n",
       " 10"
      ]
     },
     "metadata": {},
     "output_type": "display_data"
    }
   ],
   "source": [
    "x = [1,2,3,4,5]\n",
    "y = [2,4,6,8,10]"
   ]
  },
  {
   "cell_type": "code",
   "execution_count": 22,
   "metadata": {},
   "outputs": [
    {
     "data": {
      "text/plain": [
       "Dict{Int64, Int64} with 5 entries:\n",
       "  5 => 10\n",
       "  4 => 8\n",
       "  2 => 4\n",
       "  3 => 6\n",
       "  1 => 2"
      ]
     },
     "metadata": {},
     "output_type": "display_data"
    }
   ],
   "source": [
    "z = Dict(zip(x,y))"
   ]
  },
  {
   "cell_type": "code",
   "execution_count": 23,
   "metadata": {},
   "outputs": [
    {
     "data": {
      "text/plain": [
       "Dict{Int64, Int64} with 5 entries:\n",
       "  5 => 10\n",
       "  4 => 8\n",
       "  2 => 4\n",
       "  3 => 6\n",
       "  1 => 2"
      ]
     },
     "metadata": {},
     "output_type": "display_data"
    }
   ],
   "source": [
    "z = Dict(x .=> y)"
   ]
  },
  {
   "cell_type": "code",
   "execution_count": 24,
   "metadata": {},
   "outputs": [
    {
     "name": "stdout",
     "output_type": "stream",
     "text": [
      "5\n",
      "4\n",
      "2\n",
      "3\n",
      "1\n"
     ]
    }
   ],
   "source": [
    "for k in keys(z)\n",
    "    println(k)\n",
    "end"
   ]
  },
  {
   "cell_type": "code",
   "execution_count": 25,
   "metadata": {},
   "outputs": [
    {
     "data": {
      "text/plain": [
       "KeySet for a Dict{Int64, Int64} with 5 entries. Keys:\n",
       "  5\n",
       "  4\n",
       "  2\n",
       "  3\n",
       "  1"
      ]
     },
     "metadata": {},
     "output_type": "display_data"
    }
   ],
   "source": [
    "# This will print the keyset but it is not a vector\n",
    "keys(z)"
   ]
  },
  {
   "cell_type": "code",
   "execution_count": 26,
   "metadata": {},
   "outputs": [
    {
     "data": {
      "text/plain": [
       "5-element Vector{Int64}:\n",
       " 5\n",
       " 4\n",
       " 2\n",
       " 3\n",
       " 1"
      ]
     },
     "metadata": {},
     "output_type": "display_data"
    }
   ],
   "source": [
    "# We use collect to create a vector\n",
    "k = collect(keys(z))\n",
    "k"
   ]
  },
  {
   "attachments": {},
   "cell_type": "markdown",
   "metadata": {},
   "source": [
    "Now we extract the corresponding values from the dictionary:"
   ]
  },
  {
   "cell_type": "code",
   "execution_count": 27,
   "metadata": {},
   "outputs": [
    {
     "data": {
      "text/plain": [
       "5-element Vector{Int64}:\n",
       " 10\n",
       "  8\n",
       "  4\n",
       "  6\n",
       "  2"
      ]
     },
     "metadata": {},
     "output_type": "display_data"
    }
   ],
   "source": [
    "v = collect(values(z))\n",
    "v"
   ]
  },
  {
   "cell_type": "code",
   "execution_count": 28,
   "metadata": {},
   "outputs": [
    {
     "data": {
      "text/plain": [
       "1000-element Vector{Int64}:\n",
       "       1\n",
       "       4\n",
       "       9\n",
       "      16\n",
       "      25\n",
       "      36\n",
       "      49\n",
       "      64\n",
       "      81\n",
       "     100\n",
       "       ⋮\n",
       "  984064\n",
       "  986049\n",
       "  988036\n",
       "  990025\n",
       "  992016\n",
       "  994009\n",
       "  996004\n",
       "  998001\n",
       " 1000000"
      ]
     },
     "metadata": {},
     "output_type": "display_data"
    }
   ],
   "source": [
    "# List comprehension\n",
    "i = [x^2 for x in 1:1000]"
   ]
  },
  {
   "cell_type": "code",
   "execution_count": 29,
   "metadata": {},
   "outputs": [
    {
     "name": "stdout",
     "output_type": "stream",
     "text": [
      "120\n"
     ]
    }
   ],
   "source": [
    "x = 1\n",
    "product = 1\n",
    "\n",
    "for x in 1:5\n",
    "    product = product * x\n",
    "end\n",
    "\n",
    "println(product)"
   ]
  },
  {
   "attachments": {},
   "cell_type": "markdown",
   "metadata": {},
   "source": [
    "Calculate the sum"
   ]
  },
  {
   "cell_type": "code",
   "execution_count": 30,
   "metadata": {},
   "outputs": [
    {
     "name": "stdout",
     "output_type": "stream",
     "text": [
      "15"
     ]
    }
   ],
   "source": [
    "x = 1\n",
    "sum = 0\n",
    "\n",
    "for x in 1:5\n",
    "    sum = sum + x\n",
    "end\n",
    "\n",
    "print(sum)"
   ]
  },
  {
   "attachments": {},
   "cell_type": "markdown",
   "metadata": {},
   "source": [
    "Now, we are going to do some work using examples from \"Julia for Data Analysis\" "
   ]
  },
  {
   "cell_type": "code",
   "execution_count": 31,
   "metadata": {},
   "outputs": [
    {
     "data": {
      "text/plain": [
       "\"movies.dat\""
      ]
     },
     "metadata": {},
     "output_type": "display_data"
    }
   ],
   "source": [
    "using Downloads\n",
    "\n",
    "data = Downloads.download(\"https://raw.githubusercontent.com/\\\n",
    "sidooms/MovieTweetings/\\\n",
    "44c525d0c766944910686c60697203cda39305d6/\\\n",
    "snapshots/10K/movies.dat\",\n",
    "\"movies.dat\")"
   ]
  },
  {
   "cell_type": "code",
   "execution_count": 32,
   "metadata": {},
   "outputs": [
    {
     "data": {
      "text/plain": [
       "3096-element Vector{String}:\n",
       " \"0002844::Fantômas - À l'ombre de la guillotine (1913)::Crime|Drama\"\n",
       " \"0007264::The Rink (1916)::Comedy|Short\"\n",
       " \"0008133::The Immigrant (1917)::Short|Comedy|Drama|Romance\"\n",
       " \"0012349::The Kid (1921)::Comedy|Drama|Family\"\n",
       " \"0013427::Nanook of the North (1922)::Documentary\"\n",
       " \"0014142::The Hunchback of Notre Dame (1923)::Drama|Romance\"\n",
       " \"0014538::Three Ages (1923)::Comedy\"\n",
       " \"0014872::Entr'acte (1924)::Short\"\n",
       " \"0015163::The Navigator (1924)::Action|Comedy\"\n",
       " \"0015324::Sherlock Jr. (1924)::Comedy|Fantasy\"\n",
       " ⋮\n",
       " \"2646378::The Frankenstein Theory (2013)::Horror|Sci-Fi\"\n",
       " \"2649128::Metro (2013)::Thriller\"\n",
       " \"2670226::Jîn (2013)::Drama\"\n",
       " \"2700330::The Two Escobars (2010)::Documentary\"\n",
       " \"2735466::Pickett's Charge (2012)::Short|Comedy|Drama|Family\"\n",
       " \"2748368::Neil (2013)::Short|Comedy\"\n",
       " \"2750600::A Different Tree (2013)::Short|Drama|Family\"\n",
       " \"2763252::Broken Night (2013)::Short|Drama\"\n",
       " \"2769592::Kiss Shot Truth or Dare (2013)::Short\""
      ]
     },
     "metadata": {},
     "output_type": "display_data"
    }
   ],
   "source": [
    "movie_data = readlines(data)"
   ]
  },
  {
   "attachments": {},
   "cell_type": "markdown",
   "metadata": {},
   "source": [
    "## String manipulation"
   ]
  },
  {
   "attachments": {},
   "cell_type": "markdown",
   "metadata": {},
   "source": [
    "This is a string vector. So, to get the first element:"
   ]
  },
  {
   "cell_type": "code",
   "execution_count": 33,
   "metadata": {},
   "outputs": [
    {
     "data": {
      "text/plain": [
       "\"[\\\"0002844::Fantômas - À l'ombre de la guillotine (1913)::Crime|Drama\\\"]\""
      ]
     },
     "metadata": {},
     "output_type": "display_data"
    }
   ],
   "source": [
    "first_line = string(first(movie_data, 1))"
   ]
  },
  {
   "cell_type": "code",
   "execution_count": 34,
   "metadata": {},
   "outputs": [
    {
     "data": {
      "text/plain": [
       "\"Crime|Drama\""
      ]
     },
     "metadata": {},
     "output_type": "display_data"
    }
   ],
   "source": [
    "genre = split(first_line, \"::\")[3]\n",
    "genre = split(genre, \"\\\"\")[1]"
   ]
  },
  {
   "cell_type": "code",
   "execution_count": 35,
   "metadata": {},
   "outputs": [
    {
     "data": {
      "text/plain": [
       "true"
      ]
     },
     "metadata": {},
     "output_type": "display_data"
    }
   ],
   "source": [
    "contains(genre,\"Drama\")"
   ]
  },
  {
   "cell_type": "code",
   "execution_count": 36,
   "metadata": {},
   "outputs": [
    {
     "data": {
      "text/plain": [
       "true"
      ]
     },
     "metadata": {},
     "output_type": "display_data"
    }
   ],
   "source": [
    "startswith(genre, \"Crime\")"
   ]
  },
  {
   "cell_type": "code",
   "execution_count": 37,
   "metadata": {},
   "outputs": [
    {
     "data": {
      "text/plain": [
       "true"
      ]
     },
     "metadata": {},
     "output_type": "display_data"
    }
   ],
   "source": [
    "endswith(genre, \"ma\")"
   ]
  },
  {
   "cell_type": "code",
   "execution_count": 38,
   "metadata": {},
   "outputs": [
    {
     "data": {
      "text/plain": [
       "\"C_r_i_m_e_|_D_r_a_m_a\""
      ]
     },
     "metadata": {},
     "output_type": "display_data"
    }
   ],
   "source": [
    "join(genre, \"_\")"
   ]
  },
  {
   "cell_type": "code",
   "execution_count": 39,
   "metadata": {},
   "outputs": [
    {
     "data": {
      "text/plain": [
       "\"CRIME|DRAMA\""
      ]
     },
     "metadata": {},
     "output_type": "display_data"
    }
   ],
   "source": [
    "uppercase(genre)"
   ]
  },
  {
   "cell_type": "code",
   "execution_count": 40,
   "metadata": {},
   "outputs": [
    {
     "data": {
      "text/plain": [
       "\"crime|Drama\""
      ]
     },
     "metadata": {},
     "output_type": "display_data"
    }
   ],
   "source": [
    "lowercasefirst(genre)"
   ]
  },
  {
   "cell_type": "code",
   "execution_count": 41,
   "metadata": {},
   "outputs": [
    {
     "data": {
      "text/plain": [
       "\"Crime|Comedy\""
      ]
     },
     "metadata": {},
     "output_type": "display_data"
    }
   ],
   "source": [
    "replace(genre, \"Drama\" => \"Comedy\")"
   ]
  },
  {
   "cell_type": "code",
   "execution_count": 42,
   "metadata": {},
   "outputs": [
    {
     "data": {
      "text/plain": [
       "\"Crime\""
      ]
     },
     "metadata": {},
     "output_type": "display_data"
    }
   ],
   "source": [
    "# To get part of the string, we use first. For example to extract Crime for genre:\n",
    "first(genre, 5)"
   ]
  },
  {
   "cell_type": "code",
   "execution_count": 43,
   "metadata": {},
   "outputs": [
    {
     "name": "stdout",
     "output_type": "stream",
     "text": [
      "true\n",
      "false\n"
     ]
    }
   ],
   "source": [
    "# To check for ASCII strings\n",
    "println(isascii(\"hello\"))\n",
    "println(isascii(\"∀ x: x≥0\"))"
   ]
  },
  {
   "cell_type": "code",
   "execution_count": 44,
   "metadata": {},
   "outputs": [
    {
     "data": {
      "text/plain": [
       "parseline (generic function with 1 method)"
      ]
     },
     "metadata": {},
     "output_type": "display_data"
    }
   ],
   "source": [
    "# Define a function to parse the lines of the file\n",
    "function parseline(line::AbstractString)\n",
    "    parts = split(line, \"::\")\n",
    "    m = match(r\"(.+) \\((\\d{4})\\)\", parts[2])\n",
    "    return (id=parts[1],\n",
    "            name=m[1],\n",
    "            year=parse(Int, m[2]),\n",
    "            genres=split(parts[3], \"|\"))\n",
    "end"
   ]
  },
  {
   "cell_type": "code",
   "execution_count": 45,
   "metadata": {},
   "outputs": [
    {
     "data": {
      "text/plain": [
       "3096-element Vector{NamedTuple{(:id, :name, :year, :genres), Tuple{SubString{String}, SubString{String}, Int64, Vector{SubString{String}}}}}:\n",
       " (id = \"0002844\", name = \"Fantômas - À l'ombre de la guillotine\", year = 1913, genres = [\"Crime\", \"Drama\"])\n",
       " (id = \"0007264\", name = \"The Rink\", year = 1916, genres = [\"Comedy\", \"Short\"])\n",
       " (id = \"0008133\", name = \"The Immigrant\", year = 1917, genres = [\"Short\", \"Comedy\", \"Drama\", \"Romance\"])\n",
       " (id = \"0012349\", name = \"The Kid\", year = 1921, genres = [\"Comedy\", \"Drama\", \"Family\"])\n",
       " (id = \"0013427\", name = \"Nanook of the North\", year = 1922, genres = [\"Documentary\"])\n",
       " (id = \"0014142\", name = \"The Hunchback of Notre Dame\", year = 1923, genres = [\"Drama\", \"Romance\"])\n",
       " (id = \"0014538\", name = \"Three Ages\", year = 1923, genres = [\"Comedy\"])\n",
       " (id = \"0014872\", name = \"Entr'acte\", year = 1924, genres = [\"Short\"])\n",
       " (id = \"0015163\", name = \"The Navigator\", year = 1924, genres = [\"Action\", \"Comedy\"])\n",
       " (id = \"0015324\", name = \"Sherlock Jr.\", year = 1924, genres = [\"Comedy\", \"Fantasy\"])\n",
       " ⋮\n",
       " (id = \"2646378\", name = \"The Frankenstein Theory\", year = 2013, genres = [\"Horror\", \"Sci-Fi\"])\n",
       " (id = \"2649128\", name = \"Metro\", year = 2013, genres = [\"Thriller\"])\n",
       " (id = \"2670226\", name = \"Jîn\", year = 2013, genres = [\"Drama\"])\n",
       " (id = \"2700330\", name = \"The Two Escobars\", year = 2010, genres = [\"Documentary\"])\n",
       " (id = \"2735466\", name = \"Pickett's Charge\", year = 2012, genres = [\"Short\", \"Comedy\", \"Drama\", \"Family\"])\n",
       " (id = \"2748368\", name = \"Neil\", year = 2013, genres = [\"Short\", \"Comedy\"])\n",
       " (id = \"2750600\", name = \"A Different Tree\", year = 2013, genres = [\"Short\", \"Drama\", \"Family\"])\n",
       " (id = \"2763252\", name = \"Broken Night\", year = 2013, genres = [\"Short\", \"Drama\"])\n",
       " (id = \"2769592\", name = \"Kiss Shot Truth or Dare\", year = 2013, genres = [\"Short\"])"
      ]
     },
     "metadata": {},
     "output_type": "display_data"
    }
   ],
   "source": [
    "records = parseline.(movie_data)"
   ]
  },
  {
   "cell_type": "code",
   "execution_count": 46,
   "metadata": {},
   "outputs": [
    {
     "data": {
      "text/plain": [
       "\"Fantômas - À l'ombre de la guillotine\""
      ]
     },
     "metadata": {},
     "output_type": "display_data"
    }
   ],
   "source": [
    "# To get the name of the first movie\n",
    "records[1].name"
   ]
  },
  {
   "cell_type": "code",
   "execution_count": 47,
   "metadata": {},
   "outputs": [
    {
     "data": {
      "text/plain": [
       "1913"
      ]
     },
     "metadata": {},
     "output_type": "display_data"
    }
   ],
   "source": [
    "# To get the year of the first movie\n",
    "records[1].year"
   ]
  },
  {
   "attachments": {},
   "cell_type": "markdown",
   "metadata": {},
   "source": [
    "Now, we create an array to store all the genres"
   ]
  },
  {
   "cell_type": "code",
   "execution_count": 49,
   "metadata": {},
   "outputs": [
    {
     "data": {
      "text/plain": [
       "String[]"
      ]
     },
     "metadata": {},
     "output_type": "display_data"
    }
   ],
   "source": [
    "genres = String[]"
   ]
  },
  {
   "cell_type": "code",
   "execution_count": 50,
   "metadata": {},
   "outputs": [],
   "source": [
    "for record in records\n",
    "    append!(genres, record.genres)\n",
    "end"
   ]
  },
  {
   "cell_type": "code",
   "execution_count": 51,
   "metadata": {},
   "outputs": [
    {
     "data": {
      "text/plain": [
       "8121-element Vector{String}:\n",
       " \"Crime\"\n",
       " \"Drama\"\n",
       " \"Comedy\"\n",
       " \"Short\"\n",
       " \"Short\"\n",
       " \"Comedy\"\n",
       " \"Drama\"\n",
       " \"Romance\"\n",
       " \"Comedy\"\n",
       " \"Drama\"\n",
       " ⋮\n",
       " \"Family\"\n",
       " \"Short\"\n",
       " \"Comedy\"\n",
       " \"Short\"\n",
       " \"Drama\"\n",
       " \"Family\"\n",
       " \"Short\"\n",
       " \"Drama\"\n",
       " \"Short\""
      ]
     },
     "metadata": {},
     "output_type": "display_data"
    }
   ],
   "source": [
    "genres"
   ]
  },
  {
   "cell_type": "code",
   "execution_count": 55,
   "metadata": {},
   "outputs": [
    {
     "data": {
      "text/plain": [
       "25-element Named Vector{Int64}\n",
       "Dim1        │ \n",
       "────────────┼─────\n",
       "            │   14\n",
       "Action      │  635\n",
       "Adventure   │  443\n",
       "Animation   │  137\n",
       "Biography   │  166\n",
       "Comedy      │ 1001\n",
       "Crime       │  550\n",
       "Documentary │  126\n",
       "⋮                ⋮\n",
       "News        │    4\n",
       "Romance     │  558\n",
       "Sci-Fi      │  305\n",
       "Short       │   46\n",
       "Sport       │   84\n",
       "Thriller    │  910\n",
       "War         │  126\n",
       "Western     │   35"
      ]
     },
     "metadata": {},
     "output_type": "display_data"
    }
   ],
   "source": [
    "genre_frequencies = freqtable(genres)"
   ]
  },
  {
   "cell_type": "code",
   "execution_count": 57,
   "metadata": {},
   "outputs": [
    {
     "data": {
      "text/plain": [
       "25-element Named Vector{Int64}\n",
       "Dim1        │ \n",
       "────────────┼─────\n",
       "Drama       │ 1583\n",
       "Comedy      │ 1001\n",
       "Thriller    │  910\n",
       "Action      │  635\n",
       "Romance     │  558\n",
       "Crime       │  550\n",
       "Adventure   │  443\n",
       "Horror      │  325\n",
       "⋮                ⋮\n",
       "Sport       │   84\n",
       "Music       │   83\n",
       "Musical     │   58\n",
       "Short       │   46\n",
       "Western     │   35\n",
       "            │   14\n",
       "Film-Noir   │   13\n",
       "News        │    4"
      ]
     },
     "metadata": {},
     "output_type": "display_data"
    }
   ],
   "source": [
    "sort(genre_frequencies, rev=true)"
   ]
  },
  {
   "cell_type": "code",
   "execution_count": 58,
   "metadata": {},
   "outputs": [
    {
     "data": {
      "text/plain": [
       "25-element Named Vector{Int64}\n",
       "Dim1        │ \n",
       "────────────┼─────\n",
       "            │   14\n",
       "Action      │  635\n",
       "Adventure   │  443\n",
       "Animation   │  137\n",
       "Biography   │  166\n",
       "Comedy      │ 1001\n",
       "Crime       │  550\n",
       "Documentary │  126\n",
       "⋮                ⋮\n",
       "News        │    4\n",
       "Romance     │  558\n",
       "Sci-Fi      │  305\n",
       "Short       │   46\n",
       "Sport       │   84\n",
       "Thriller    │  910\n",
       "War         │  126\n",
       "Western     │   35"
      ]
     },
     "metadata": {},
     "output_type": "display_data"
    }
   ],
   "source": [
    "genre_frequencies"
   ]
  },
  {
   "attachments": {},
   "cell_type": "markdown",
   "metadata": {},
   "source": [
    "We "
   ]
  },
  {
   "cell_type": "code",
   "execution_count": 62,
   "metadata": {},
   "outputs": [
    {
     "data": {
      "text/plain": [
       "1000000-element Vector{String}:\n",
       " \"5HN\"\n",
       " \"NO0\"\n",
       " \"ILj\"\n",
       " \"Fvi\"\n",
       " \"aqj\"\n",
       " \"Sd2\"\n",
       " \"kgc\"\n",
       " \"6aq\"\n",
       " \"b9O\"\n",
       " \"GJB\"\n",
       " ⋮\n",
       " \"mSe\"\n",
       " \"47h\"\n",
       " \"hCG\"\n",
       " \"fjx\"\n",
       " \"pZ7\"\n",
       " \"C3x\"\n",
       " \"VGt\"\n",
       " \"xhb\"\n",
       " \"9RO\""
      ]
     },
     "metadata": {},
     "output_type": "display_data"
    }
   ],
   "source": [
    "strings_size_3 = [randstring(3) for i in 1:10^6]"
   ]
  },
  {
   "cell_type": "code",
   "execution_count": 66,
   "metadata": {},
   "outputs": [
    {
     "data": {
      "text/plain": [
       "1000000-element Vector{String3}:\n",
       " \"5HN\"\n",
       " \"NO0\"\n",
       " \"ILj\"\n",
       " \"Fvi\"\n",
       " \"aqj\"\n",
       " \"Sd2\"\n",
       " \"kgc\"\n",
       " \"6aq\"\n",
       " \"b9O\"\n",
       " \"GJB\"\n",
       " ⋮\n",
       " \"mSe\"\n",
       " \"47h\"\n",
       " \"hCG\"\n",
       " \"fjx\"\n",
       " \"pZ7\"\n",
       " \"C3x\"\n",
       " \"VGt\"\n",
       " \"xhb\"\n",
       " \"9RO\""
      ]
     },
     "metadata": {},
     "output_type": "display_data"
    }
   ],
   "source": [
    "inline_strings_size_3 = inlinestrings(strings_size_3)"
   ]
  },
  {
   "cell_type": "code",
   "execution_count": null,
   "metadata": {},
   "outputs": [],
   "source": [
    "println(Base.summarysize(strings_size_3)) \n",
    "println(Base.summarysize(inline_strings_size_3))"
   ]
  },
  {
   "attachments": {},
   "cell_type": "markdown",
   "metadata": {},
   "source": [
    "## Data Science"
   ]
  },
  {
   "attachments": {},
   "cell_type": "markdown",
   "metadata": {},
   "source": [
    "We read in a file (checking if it exists)"
   ]
  },
  {
   "cell_type": "code",
   "execution_count": 26,
   "metadata": {},
   "outputs": [],
   "source": [
    "using Queryverse"
   ]
  },
  {
   "cell_type": "code",
   "execution_count": 32,
   "metadata": {},
   "outputs": [
    {
     "data": {
      "text/html": [
       "<div class=\"data-frame\"><p>14,758 rows × 6 columns (omitted printing of 4 columns)</p><table class=\"data-frame\"><thead><tr><th></th><th>description</th><th>industry</th></tr><tr><th></th><th title=\"String\">String</th><th title=\"String\">String</th></tr></thead><tbody><tr><th>1</th><td>Business main customer: individuals or households</td><td>total</td></tr><tr><th>2</th><td>Business main customer: individuals or households</td><td>total</td></tr><tr><th>3</th><td>Business main customer: individuals or households</td><td>total</td></tr><tr><th>4</th><td>Business main customer: individuals or households</td><td>total</td></tr><tr><th>5</th><td>Business main customer: individuals or households</td><td>Agriculture, forestry, &amp; fishing</td></tr><tr><th>6</th><td>Business main customer: individuals or households</td><td>Agriculture</td></tr><tr><th>7</th><td>Business main customer: individuals or households</td><td>Commercial fishing</td></tr><tr><th>8</th><td>Business main customer: individuals or households</td><td>Forestry &amp; logging</td></tr><tr><th>9</th><td>Business main customer: individuals or households</td><td>Agriculture, forestry, &amp; fishing support services</td></tr><tr><th>10</th><td>Business main customer: individuals or households</td><td>Mining</td></tr><tr><th>11</th><td>Business main customer: individuals or households</td><td>Manufacturing</td></tr><tr><th>12</th><td>Business main customer: individuals or households</td><td>Food, beverage, &amp; tobacco</td></tr><tr><th>13</th><td>Business main customer: individuals or households</td><td>Textile, clothing, footwear, &amp; leather</td></tr><tr><th>14</th><td>Business main customer: individuals or households</td><td>Wood &amp; paper product</td></tr><tr><th>15</th><td>Business main customer: individuals or households</td><td>Printing, publishing, &amp; recorded media</td></tr><tr><th>16</th><td>Business main customer: individuals or households</td><td>Petroleum, coal, chemical, &amp; associated product</td></tr><tr><th>17</th><td>Business main customer: individuals or households</td><td>Non-metallic mineral product</td></tr><tr><th>18</th><td>Business main customer: individuals or households</td><td>Metal product</td></tr><tr><th>19</th><td>Business main customer: individuals or households</td><td>Transport and industrial machinery &amp; equipment</td></tr><tr><th>20</th><td>Business main customer: individuals or households</td><td>Other machinery &amp; equipment</td></tr><tr><th>21</th><td>Business main customer: individuals or households</td><td>Other manufacturing</td></tr><tr><th>22</th><td>Business main customer: individuals or households</td><td>Electricity, gas, water, &amp; waste services</td></tr><tr><th>23</th><td>Business main customer: individuals or households</td><td>Construction</td></tr><tr><th>24</th><td>Business main customer: individuals or households</td><td>Wholesale trade</td></tr><tr><th>&vellip;</th><td>&vellip;</td><td>&vellip;</td></tr></tbody></table></div>"
      ],
      "text/latex": [
       "\\begin{tabular}{r|ccc}\n",
       "\t& description & industry & \\\\\n",
       "\t\\hline\n",
       "\t& String & String & \\\\\n",
       "\t\\hline\n",
       "\t1 & Business main customer: individuals or households & total & $\\dots$ \\\\\n",
       "\t2 & Business main customer: individuals or households & total & $\\dots$ \\\\\n",
       "\t3 & Business main customer: individuals or households & total & $\\dots$ \\\\\n",
       "\t4 & Business main customer: individuals or households & total & $\\dots$ \\\\\n",
       "\t5 & Business main customer: individuals or households & Agriculture, forestry, \\& fishing & $\\dots$ \\\\\n",
       "\t6 & Business main customer: individuals or households & Agriculture & $\\dots$ \\\\\n",
       "\t7 & Business main customer: individuals or households & Commercial fishing & $\\dots$ \\\\\n",
       "\t8 & Business main customer: individuals or households & Forestry \\& logging & $\\dots$ \\\\\n",
       "\t9 & Business main customer: individuals or households & Agriculture, forestry, \\& fishing support services & $\\dots$ \\\\\n",
       "\t10 & Business main customer: individuals or households & Mining & $\\dots$ \\\\\n",
       "\t11 & Business main customer: individuals or households & Manufacturing & $\\dots$ \\\\\n",
       "\t12 & Business main customer: individuals or households & Food, beverage, \\& tobacco & $\\dots$ \\\\\n",
       "\t13 & Business main customer: individuals or households & Textile, clothing, footwear, \\& leather & $\\dots$ \\\\\n",
       "\t14 & Business main customer: individuals or households & Wood \\& paper product & $\\dots$ \\\\\n",
       "\t15 & Business main customer: individuals or households & Printing, publishing, \\& recorded media & $\\dots$ \\\\\n",
       "\t16 & Business main customer: individuals or households & Petroleum, coal, chemical, \\& associated product & $\\dots$ \\\\\n",
       "\t17 & Business main customer: individuals or households & Non-metallic mineral product & $\\dots$ \\\\\n",
       "\t18 & Business main customer: individuals or households & Metal product & $\\dots$ \\\\\n",
       "\t19 & Business main customer: individuals or households & Transport and industrial machinery \\& equipment & $\\dots$ \\\\\n",
       "\t20 & Business main customer: individuals or households & Other machinery \\& equipment & $\\dots$ \\\\\n",
       "\t21 & Business main customer: individuals or households & Other manufacturing & $\\dots$ \\\\\n",
       "\t22 & Business main customer: individuals or households & Electricity, gas, water, \\& waste services & $\\dots$ \\\\\n",
       "\t23 & Business main customer: individuals or households & Construction & $\\dots$ \\\\\n",
       "\t24 & Business main customer: individuals or households & Wholesale trade & $\\dots$ \\\\\n",
       "\t$\\dots$ & $\\dots$ & $\\dots$ &  \\\\\n",
       "\\end{tabular}\n"
      ],
      "text/plain": [
       "\u001b[1m14758×6 DataFrame\u001b[0m\n",
       "\u001b[1m   Row \u001b[0m│\u001b[1m description                       \u001b[0m\u001b[1m industry                          \u001b[0m\u001b[1m\u001b[0m ⋯\n",
       "\u001b[1m       \u001b[0m│\u001b[90m String                            \u001b[0m\u001b[90m String                            \u001b[0m\u001b[90m\u001b[0m ⋯\n",
       "───────┼────────────────────────────────────────────────────────────────────────\n",
       "     1 │ Business main customer: individu…  total                              ⋯\n",
       "     2 │ Business main customer: individu…  total\n",
       "     3 │ Business main customer: individu…  total\n",
       "     4 │ Business main customer: individu…  total\n",
       "     5 │ Business main customer: individu…  Agriculture, forestry, & fishing   ⋯\n",
       "     6 │ Business main customer: individu…  Agriculture\n",
       "     7 │ Business main customer: individu…  Commercial fishing\n",
       "     8 │ Business main customer: individu…  Forestry & logging\n",
       "   ⋮   │                 ⋮                                  ⋮                  ⋱\n",
       " 14752 │ How union representation of empl…  Other professional scientific      ⋯\n",
       " 14753 │ How union representation of empl…  Administrative & support services\n",
       " 14754 │ How union representation of empl…  Education & training\n",
       " 14755 │ How union representation of empl…  Health care & social assistance\n",
       " 14756 │ How union representation of empl…  Arts & recreation services         ⋯\n",
       " 14757 │ How union representation of empl…  Other services\n",
       " 14758 │ How union representation of empl…  total\n",
       "\u001b[36m                                                4 columns and 14743 rows omitted\u001b[0m"
      ]
     },
     "metadata": {},
     "output_type": "display_data"
    }
   ],
   "source": [
    "df = load(\"https://www.stats.govt.nz/assets/Uploads/Business-operations-survey/Business-operations-survey-2022/Download-data/business-operations-survey-2022-price-and-wage-setting.csv\") |> \n",
    "    DataFrame"
   ]
  },
  {
   "cell_type": "code",
   "execution_count": 33,
   "metadata": {},
   "outputs": [
    {
     "data": {
      "text/html": [
       "<div class=\"data-frame\"><p>6 rows × 7 columns (omitted printing of 4 columns)</p><table class=\"data-frame\"><thead><tr><th></th><th>variable</th><th>mean</th><th>min</th></tr><tr><th></th><th title=\"Symbol\">Symbol</th><th title=\"Union{Nothing, Float64}\">Union…</th><th title=\"Any\">Any</th></tr></thead><tbody><tr><th>1</th><td>description</td><td></td><td>Are answers applicable to pricing processes used for business&apos;s other products: no</td></tr><tr><th>2</th><td>industry</td><td></td><td>Accommodation &amp; food services</td></tr><tr><th>3</th><td>level</td><td>1.40426</td><td>0</td></tr><tr><th>4</th><td>size</td><td></td><td>100+ employees</td></tr><tr><th>5</th><td>line_code</td><td></td><td>C0300.01</td></tr><tr><th>6</th><td>value</td><td>669.344</td><td>0</td></tr></tbody></table></div>"
      ],
      "text/latex": [
       "\\begin{tabular}{r|cccc}\n",
       "\t& variable & mean & min & \\\\\n",
       "\t\\hline\n",
       "\t& Symbol & Union… & Any & \\\\\n",
       "\t\\hline\n",
       "\t1 & description &  & Are answers applicable to pricing processes used for business's other products: no & $\\dots$ \\\\\n",
       "\t2 & industry &  & Accommodation \\& food services & $\\dots$ \\\\\n",
       "\t3 & level & 1.40426 & 0 & $\\dots$ \\\\\n",
       "\t4 & size &  & 100+ employees & $\\dots$ \\\\\n",
       "\t5 & line\\_code &  & C0300.01 & $\\dots$ \\\\\n",
       "\t6 & value & 669.344 & 0 & $\\dots$ \\\\\n",
       "\\end{tabular}\n"
      ],
      "text/plain": [
       "\u001b[1m6×7 DataFrame\u001b[0m\n",
       "\u001b[1m Row \u001b[0m│\u001b[1m variable    \u001b[0m\u001b[1m mean    \u001b[0m\u001b[1m min                               \u001b[0m\u001b[1m median \u001b[0m\u001b[1m max   \u001b[0m ⋯\n",
       "\u001b[1m     \u001b[0m│\u001b[90m Symbol      \u001b[0m\u001b[90m Union…  \u001b[0m\u001b[90m Any                               \u001b[0m\u001b[90m Union… \u001b[0m\u001b[90m Any   \u001b[0m ⋯\n",
       "─────┼──────────────────────────────────────────────────────────────────────────\n",
       "   1 │ description \u001b[90m         \u001b[0m Are answers applicable to pricin… \u001b[90m        \u001b[0m Who re ⋯\n",
       "   2 │ industry    \u001b[90m         \u001b[0m Accommodation & food services     \u001b[90m        \u001b[0m total\n",
       "   3 │ level        1.40426  0                                  2.0     2\n",
       "   4 │ size        \u001b[90m         \u001b[0m 100+ employees                    \u001b[90m        \u001b[0m total\n",
       "   5 │ line_code   \u001b[90m         \u001b[0m C0300.01                          \u001b[90m        \u001b[0m C3307. ⋯\n",
       "   6 │ value        669.344  0                                  90.0    44877\n",
       "\u001b[36m                                                               3 columns omitted\u001b[0m"
      ]
     },
     "metadata": {},
     "output_type": "display_data"
    }
   ],
   "source": [
    "describe(df)"
   ]
  },
  {
   "cell_type": "code",
   "execution_count": 35,
   "metadata": {},
   "outputs": [
    {
     "data": {
      "text/plain": [
       "14758"
      ]
     },
     "metadata": {},
     "output_type": "display_data"
    }
   ],
   "source": [
    "# Find the number of rows\n",
    "nrow(df)"
   ]
  },
  {
   "cell_type": "code",
   "execution_count": 36,
   "metadata": {},
   "outputs": [
    {
     "data": {
      "text/plain": [
       "6"
      ]
     },
     "metadata": {},
     "output_type": "display_data"
    }
   ],
   "source": [
    "# Find the number of columns\n",
    "ncol(df)"
   ]
  },
  {
   "cell_type": "code",
   "execution_count": 38,
   "metadata": {},
   "outputs": [
    {
     "data": {
      "text/plain": [
       "6-element Vector{String}:\n",
       " \"description\"\n",
       " \"industry\"\n",
       " \"level\"\n",
       " \"size\"\n",
       " \"line_code\"\n",
       " \"value\""
      ]
     },
     "metadata": {},
     "output_type": "display_data"
    }
   ],
   "source": [
    "names(df)"
   ]
  },
  {
   "cell_type": "code",
   "execution_count": 39,
   "metadata": {},
   "outputs": [
    {
     "data": {
      "text/plain": [
       "5-element Vector{String}:\n",
       " \"total\"\n",
       " \"total\"\n",
       " \"total\"\n",
       " \"total\"\n",
       " \"Agriculture, forestry, & fishing\""
      ]
     },
     "metadata": {},
     "output_type": "display_data"
    }
   ],
   "source": [
    "# Get the first five entries in the second column\n",
    "first(df[:,2], 5)"
   ]
  },
  {
   "cell_type": "code",
   "execution_count": 40,
   "metadata": {},
   "outputs": [
    {
     "data": {
      "text/plain": [
       "5-element Vector{Int64}:\n",
       " 15639\n",
       "  2943\n",
       "   639\n",
       "   555\n",
       "   348"
      ]
     },
     "metadata": {},
     "output_type": "display_data"
    }
   ],
   "source": [
    "# Get the first 5 entries in the last column\n",
    "first(df[:,end], 5)"
   ]
  },
  {
   "cell_type": "code",
   "execution_count": 41,
   "metadata": {},
   "outputs": [
    {
     "data": {
      "text/plain": [
       "43-element Vector{String}:\n",
       " \"total\"\n",
       " \"Agriculture, forestry, & fishing\"\n",
       " \"Agriculture\"\n",
       " \"Commercial fishing\"\n",
       " \"Forestry & logging\"\n",
       " \"Agriculture, forestry, & fishing support services\"\n",
       " \"Mining\"\n",
       " \"Manufacturing\"\n",
       " \"Food, beverage, & tobacco\"\n",
       " \"Textile, clothing, footwear, & leather\"\n",
       " ⋮\n",
       " \"Rental, hiring, & real estate services\"\n",
       " \"Professional, scientific, & technical services\"\n",
       " \"Computer systems design\"\n",
       " \"Other professional scientific\"\n",
       " \"Administrative & support services\"\n",
       " \"Education & training\"\n",
       " \"Health care & social assistance\"\n",
       " \"Arts & recreation services\"\n",
       " \"Other services\""
      ]
     },
     "metadata": {},
     "output_type": "display_data"
    }
   ],
   "source": [
    "# Find the unique entries in the industry column\n",
    "unique(df.industry)"
   ]
  },
  {
   "cell_type": "code",
   "execution_count": 43,
   "metadata": {},
   "outputs": [
    {
     "data": {
      "text/plain": [
       "14758-element Vector{String}:\n",
       " \"total\"\n",
       " \"total\"\n",
       " \"total\"\n",
       " \"total\"\n",
       " \"Agriculture, forestry, & fishing\"\n",
       " \"Agriculture\"\n",
       " \"Commercial fishing\"\n",
       " \"Forestry & logging\"\n",
       " \"Agriculture, forestry, & fishing support services\"\n",
       " \"Mining\"\n",
       " ⋮\n",
       " \"Professional, scientific, & technical services\"\n",
       " \"Computer systems design\"\n",
       " \"Other professional scientific\"\n",
       " \"Administrative & support services\"\n",
       " \"Education & training\"\n",
       " \"Health care & social assistance\"\n",
       " \"Arts & recreation services\"\n",
       " \"Other services\"\n",
       " \"total\""
      ]
     },
     "metadata": {},
     "output_type": "display_data"
    }
   ],
   "source": [
    "# Another way to get the industry column is\n",
    "industry = df[:, \"industry\"]"
   ]
  },
  {
   "cell_type": "code",
   "execution_count": 44,
   "metadata": {},
   "outputs": [
    {
     "data": {
      "text/plain": [
       "14758-element Vector{String}:\n",
       " \"total\"\n",
       " \"total\"\n",
       " \"total\"\n",
       " \"total\"\n",
       " \"Agriculture, forestry, & fishing\"\n",
       " \"Agriculture\"\n",
       " \"Commercial fishing\"\n",
       " \"Forestry & logging\"\n",
       " \"Agriculture, forestry, & fishing support services\"\n",
       " \"Mining\"\n",
       " ⋮\n",
       " \"Professional, scientific, & technical services\"\n",
       " \"Computer systems design\"\n",
       " \"Other professional scientific\"\n",
       " \"Administrative & support services\"\n",
       " \"Education & training\"\n",
       " \"Health care & social assistance\"\n",
       " \"Arts & recreation services\"\n",
       " \"Other services\"\n",
       " \"total\""
      ]
     },
     "metadata": {},
     "output_type": "display_data"
    }
   ],
   "source": [
    "industry = df[:, :industry]"
   ]
  },
  {
   "cell_type": "code",
   "execution_count": 45,
   "metadata": {},
   "outputs": [
    {
     "data": {
      "text/plain": [
       "true"
      ]
     },
     "metadata": {},
     "output_type": "display_data"
    }
   ],
   "source": [
    "# To find if a column is present\n",
    "hasproperty(df, \"industry\")"
   ]
  },
  {
   "cell_type": "code",
   "execution_count": 46,
   "metadata": {},
   "outputs": [
    {
     "data": {
      "text/plain": [
       "2"
      ]
     },
     "metadata": {},
     "output_type": "display_data"
    }
   ],
   "source": [
    "# To find the index of the column\n",
    "columnindex(df, \"industry\")"
   ]
  }
 ],
 "metadata": {
  "kernelspec": {
   "display_name": "Julia 1.7.2",
   "language": "julia",
   "name": "julia-1.7"
  },
  "language_info": {
   "file_extension": ".jl",
   "mimetype": "application/julia",
   "name": "julia",
   "version": "1.7.2"
  },
  "orig_nbformat": 4
 },
 "nbformat": 4,
 "nbformat_minor": 2
}
