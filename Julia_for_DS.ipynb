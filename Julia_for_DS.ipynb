{
 "cells": [
  {
   "cell_type": "code",
   "execution_count": 1,
   "metadata": {},
   "outputs": [],
   "source": [
    "#= This is a multi-line comment in Julia.\n",
    "Isn't it? =#"
   ]
  },
  {
   "cell_type": "code",
   "execution_count": 5,
   "metadata": {},
   "outputs": [],
   "source": [
    "# Load the required packages\n",
    "using DataFrames\n",
    "using CSV\n",
    "using Pkg\n",
    "#Pkg.add(\"DataFramesMeta\")\n",
    "#using DataFramesMeta\n",
    "#Pkg.add(\"Queryverse\")\n",
    "using Queryverse"
   ]
  },
  {
   "cell_type": "code",
   "execution_count": 6,
   "metadata": {},
   "outputs": [
    {
     "data": {
      "text/html": [
       "<div class=\"data-frame\"><p>2,748 rows × 13 columns (omitted printing of 6 columns)</p><table class=\"data-frame\"><thead><tr><th></th><th>Series_reference</th><th>Period</th><th>Type</th><th>Data_value</th><th>Lower_CI</th><th>Upper_CI</th><th>Units</th></tr><tr><th></th><th title=\"String7\">String7</th><th title=\"String7\">String7</th><th title=\"String15\">String15</th><th title=\"Float64\">Float64</th><th title=\"Float64\">Float64</th><th title=\"Float64\">Float64</th><th title=\"String\">String</th></tr></thead><tbody><tr><th>1</th><td>W_A11</td><td>2000-02</td><td>Moving average</td><td>59.6667</td><td>50.9258</td><td>68.4075</td><td>Injuries</td></tr><tr><th>2</th><td>W_A11</td><td>2001-03</td><td>Moving average</td><td>60.0</td><td>51.2348</td><td>68.7652</td><td>Injuries</td></tr><tr><th>3</th><td>W_A11</td><td>2002-04</td><td>Moving average</td><td>59.0</td><td>50.3081</td><td>67.6919</td><td>Injuries</td></tr><tr><th>4</th><td>W_A11</td><td>2003-05</td><td>Moving average</td><td>59.0</td><td>50.3081</td><td>67.6919</td><td>Injuries</td></tr><tr><th>5</th><td>W_A11</td><td>2004-06</td><td>Moving average</td><td>61.3333</td><td>52.4713</td><td>70.1954</td><td>Injuries</td></tr><tr><th>6</th><td>W_A11</td><td>2005-07</td><td>Moving average</td><td>63.0</td><td>54.0183</td><td>71.9817</td><td>Injuries</td></tr><tr><th>7</th><td>W_A11</td><td>2006-08</td><td>Moving average</td><td>57.3333</td><td>48.7651</td><td>65.9016</td><td>Injuries</td></tr><tr><th>8</th><td>W_A11</td><td>2007-09</td><td>Moving average</td><td>63.6667</td><td>54.6376</td><td>72.6957</td><td>Injuries</td></tr><tr><th>9</th><td>W_A11</td><td>2008-10</td><td>Moving average</td><td>64.0</td><td>54.9473</td><td>73.0527</td><td>Injuries</td></tr><tr><th>10</th><td>W_A11</td><td>2009-11</td><td>Moving average</td><td>64.3333</td><td>55.2571</td><td>73.4096</td><td>Injuries</td></tr><tr><th>11</th><td>W_A11</td><td>2010-12</td><td>Moving average</td><td>55.3333</td><td>46.9159</td><td>63.7508</td><td>Injuries</td></tr><tr><th>12</th><td>W_A11</td><td>2011-13</td><td>Moving average</td><td>54.3333</td><td>45.9923</td><td>62.6744</td><td>Injuries</td></tr><tr><th>13</th><td>W_A11</td><td>2012-14</td><td>Moving average</td><td>51.3333</td><td>43.2258</td><td>59.4408</td><td>Injuries</td></tr><tr><th>14</th><td>W_A11</td><td>2013-15</td><td>Moving average</td><td>52.0</td><td>43.84</td><td>60.16</td><td>Injuries</td></tr><tr><th>15</th><td>W_A11</td><td>2014-16</td><td>Moving average</td><td>54.0</td><td>45.6846</td><td>62.3154</td><td>Injuries</td></tr><tr><th>16</th><td>W_A11</td><td>2015-17</td><td>Moving average</td><td>52.3333</td><td>44.1472</td><td>60.5194</td><td>Injuries</td></tr><tr><th>17</th><td>W_A11</td><td>2016-18</td><td>Moving average</td><td>53.3333</td><td>45.0694</td><td>61.5973</td><td>Injuries</td></tr><tr><th>18</th><td>W_A12</td><td>2000-02</td><td>Moving average</td><td>1.54334</td><td>1.31706</td><td>1.76962</td><td>Per 100,000 people</td></tr><tr><th>19</th><td>W_A12</td><td>2001-03</td><td>Moving average</td><td>1.52551</td><td>1.30261</td><td>1.74841</td><td>Per 100,000 people</td></tr><tr><th>20</th><td>W_A12</td><td>2002-04</td><td>Moving average</td><td>1.46486</td><td>1.24905</td><td>1.68066</td><td>Per 100,000 people</td></tr><tr><th>21</th><td>W_A12</td><td>2003-05</td><td>Moving average</td><td>1.44434</td><td>1.23154</td><td>1.65714</td><td>Per 100,000 people</td></tr><tr><th>22</th><td>W_A12</td><td>2004-06</td><td>Moving average</td><td>1.48814</td><td>1.27303</td><td>1.70324</td><td>Per 100,000 people</td></tr><tr><th>23</th><td>W_A12</td><td>2005-07</td><td>Moving average</td><td>1.50869</td><td>1.29341</td><td>1.72398</td><td>Per 100,000 people</td></tr><tr><th>24</th><td>W_A12</td><td>2006-08</td><td>Moving average</td><td>1.35602</td><td>1.15307</td><td>1.55898</td><td>Per 100,000 people</td></tr><tr><th>25</th><td>W_A12</td><td>2007-09</td><td>Moving average</td><td>1.50409</td><td>1.29034</td><td>1.71785</td><td>Per 100,000 people</td></tr><tr><th>26</th><td>W_A12</td><td>2008-10</td><td>Moving average</td><td>1.50308</td><td>1.28976</td><td>1.7164</td><td>Per 100,000 people</td></tr><tr><th>27</th><td>W_A12</td><td>2009-11</td><td>Moving average</td><td>1.49111</td><td>1.27982</td><td>1.7024</td><td>Per 100,000 people</td></tr><tr><th>28</th><td>W_A12</td><td>2010-12</td><td>Moving average</td><td>1.25985</td><td>1.06708</td><td>1.45261</td><td>Per 100,000 people</td></tr><tr><th>29</th><td>W_A12</td><td>2011-13</td><td>Moving average</td><td>1.23824</td><td>1.04678</td><td>1.42971</td><td>Per 100,000 people</td></tr><tr><th>30</th><td>W_A12</td><td>2012-14</td><td>Moving average</td><td>1.16604</td><td>0.980176</td><td>1.35191</td><td>Per 100,000 people</td></tr><tr><th>&vellip;</th><td>&vellip;</td><td>&vellip;</td><td>&vellip;</td><td>&vellip;</td><td>&vellip;</td><td>&vellip;</td><td>&vellip;</td></tr></tbody></table></div>"
      ],
      "text/latex": [
       "\\begin{tabular}{r|cccccccc}\n",
       "\t& Series\\_reference & Period & Type & Data\\_value & Lower\\_CI & Upper\\_CI & Units & \\\\\n",
       "\t\\hline\n",
       "\t& String7 & String7 & String15 & Float64 & Float64 & Float64 & String & \\\\\n",
       "\t\\hline\n",
       "\t1 & W\\_A11 & 2000-02 & Moving average & 59.6667 & 50.9258 & 68.4075 & Injuries & $\\dots$ \\\\\n",
       "\t2 & W\\_A11 & 2001-03 & Moving average & 60.0 & 51.2348 & 68.7652 & Injuries & $\\dots$ \\\\\n",
       "\t3 & W\\_A11 & 2002-04 & Moving average & 59.0 & 50.3081 & 67.6919 & Injuries & $\\dots$ \\\\\n",
       "\t4 & W\\_A11 & 2003-05 & Moving average & 59.0 & 50.3081 & 67.6919 & Injuries & $\\dots$ \\\\\n",
       "\t5 & W\\_A11 & 2004-06 & Moving average & 61.3333 & 52.4713 & 70.1954 & Injuries & $\\dots$ \\\\\n",
       "\t6 & W\\_A11 & 2005-07 & Moving average & 63.0 & 54.0183 & 71.9817 & Injuries & $\\dots$ \\\\\n",
       "\t7 & W\\_A11 & 2006-08 & Moving average & 57.3333 & 48.7651 & 65.9016 & Injuries & $\\dots$ \\\\\n",
       "\t8 & W\\_A11 & 2007-09 & Moving average & 63.6667 & 54.6376 & 72.6957 & Injuries & $\\dots$ \\\\\n",
       "\t9 & W\\_A11 & 2008-10 & Moving average & 64.0 & 54.9473 & 73.0527 & Injuries & $\\dots$ \\\\\n",
       "\t10 & W\\_A11 & 2009-11 & Moving average & 64.3333 & 55.2571 & 73.4096 & Injuries & $\\dots$ \\\\\n",
       "\t11 & W\\_A11 & 2010-12 & Moving average & 55.3333 & 46.9159 & 63.7508 & Injuries & $\\dots$ \\\\\n",
       "\t12 & W\\_A11 & 2011-13 & Moving average & 54.3333 & 45.9923 & 62.6744 & Injuries & $\\dots$ \\\\\n",
       "\t13 & W\\_A11 & 2012-14 & Moving average & 51.3333 & 43.2258 & 59.4408 & Injuries & $\\dots$ \\\\\n",
       "\t14 & W\\_A11 & 2013-15 & Moving average & 52.0 & 43.84 & 60.16 & Injuries & $\\dots$ \\\\\n",
       "\t15 & W\\_A11 & 2014-16 & Moving average & 54.0 & 45.6846 & 62.3154 & Injuries & $\\dots$ \\\\\n",
       "\t16 & W\\_A11 & 2015-17 & Moving average & 52.3333 & 44.1472 & 60.5194 & Injuries & $\\dots$ \\\\\n",
       "\t17 & W\\_A11 & 2016-18 & Moving average & 53.3333 & 45.0694 & 61.5973 & Injuries & $\\dots$ \\\\\n",
       "\t18 & W\\_A12 & 2000-02 & Moving average & 1.54334 & 1.31706 & 1.76962 & Per 100,000 people & $\\dots$ \\\\\n",
       "\t19 & W\\_A12 & 2001-03 & Moving average & 1.52551 & 1.30261 & 1.74841 & Per 100,000 people & $\\dots$ \\\\\n",
       "\t20 & W\\_A12 & 2002-04 & Moving average & 1.46486 & 1.24905 & 1.68066 & Per 100,000 people & $\\dots$ \\\\\n",
       "\t21 & W\\_A12 & 2003-05 & Moving average & 1.44434 & 1.23154 & 1.65714 & Per 100,000 people & $\\dots$ \\\\\n",
       "\t22 & W\\_A12 & 2004-06 & Moving average & 1.48814 & 1.27303 & 1.70324 & Per 100,000 people & $\\dots$ \\\\\n",
       "\t23 & W\\_A12 & 2005-07 & Moving average & 1.50869 & 1.29341 & 1.72398 & Per 100,000 people & $\\dots$ \\\\\n",
       "\t24 & W\\_A12 & 2006-08 & Moving average & 1.35602 & 1.15307 & 1.55898 & Per 100,000 people & $\\dots$ \\\\\n",
       "\t25 & W\\_A12 & 2007-09 & Moving average & 1.50409 & 1.29034 & 1.71785 & Per 100,000 people & $\\dots$ \\\\\n",
       "\t26 & W\\_A12 & 2008-10 & Moving average & 1.50308 & 1.28976 & 1.7164 & Per 100,000 people & $\\dots$ \\\\\n",
       "\t27 & W\\_A12 & 2009-11 & Moving average & 1.49111 & 1.27982 & 1.7024 & Per 100,000 people & $\\dots$ \\\\\n",
       "\t28 & W\\_A12 & 2010-12 & Moving average & 1.25985 & 1.06708 & 1.45261 & Per 100,000 people & $\\dots$ \\\\\n",
       "\t29 & W\\_A12 & 2011-13 & Moving average & 1.23824 & 1.04678 & 1.42971 & Per 100,000 people & $\\dots$ \\\\\n",
       "\t30 & W\\_A12 & 2012-14 & Moving average & 1.16604 & 0.980176 & 1.35191 & Per 100,000 people & $\\dots$ \\\\\n",
       "\t$\\dots$ & $\\dots$ & $\\dots$ & $\\dots$ & $\\dots$ & $\\dots$ & $\\dots$ & $\\dots$ &  \\\\\n",
       "\\end{tabular}\n"
      ],
      "text/plain": [
       "\u001b[1m2748×13 DataFrame\u001b[0m\n",
       "\u001b[1m  Row \u001b[0m│\u001b[1m Series_reference \u001b[0m\u001b[1m Period  \u001b[0m\u001b[1m Type           \u001b[0m\u001b[1m Data_value \u001b[0m\u001b[1m Lower_CI \u001b[0m\u001b[1m Upper\u001b[0m ⋯\n",
       "\u001b[1m      \u001b[0m│\u001b[90m String7          \u001b[0m\u001b[90m String7 \u001b[0m\u001b[90m String15       \u001b[0m\u001b[90m Float64    \u001b[0m\u001b[90m Float64  \u001b[0m\u001b[90m Float\u001b[0m ⋯\n",
       "──────┼─────────────────────────────────────────────────────────────────────────\n",
       "    1 │ W_A11             2000-02  Moving average     59.6667   50.9258   68.4 ⋯\n",
       "    2 │ W_A11             2001-03  Moving average     60.0      51.2348   68.7\n",
       "    3 │ W_A11             2002-04  Moving average     59.0      50.3081   67.6\n",
       "    4 │ W_A11             2003-05  Moving average     59.0      50.3081   67.6\n",
       "    5 │ W_A11             2004-06  Moving average     61.3333   52.4713   70.1 ⋯\n",
       "    6 │ W_A11             2005-07  Moving average     63.0      54.0183   71.9\n",
       "    7 │ W_A11             2006-08  Moving average     57.3333   48.7651   65.9\n",
       "    8 │ W_A11             2007-09  Moving average     63.6667   54.6376   72.6\n",
       "    9 │ W_A11             2008-10  Moving average     64.0      54.9473   73.0 ⋯\n",
       "   10 │ W_A11             2009-11  Moving average     64.3333   55.2571   73.4\n",
       "   11 │ W_A11             2010-12  Moving average     55.3333   46.9159   63.7\n",
       "  ⋮   │        ⋮             ⋮           ⋮             ⋮          ⋮         ⋮  ⋱\n",
       " 2739 │ p21               2009     Single year        41.0      28.4501   53.5\n",
       " 2740 │ p21               2010     Single year        48.0      34.421    61.5 ⋯\n",
       " 2741 │ p21               2011     Single year        39.0      26.76     51.2\n",
       " 2742 │ p21               2012     Single year        32.0      20.9128   43.0\n",
       " 2743 │ p21               2013     Single year        37.0      25.078    48.9\n",
       " 2744 │ p21               2014     Single year        46.0      32.7069   59.2 ⋯\n",
       " 2745 │ p21               2015     Single year        41.0      28.4501   53.5\n",
       " 2746 │ p21               2016     Single year        36.0      24.2402   47.7\n",
       " 2747 │ p21               2017     Single year        40.0      27.6041   52.3\n",
       " 2748 │ p21               2018     Single year        41.0      28.4501   53.5 ⋯\n",
       "\u001b[36m                                                 8 columns and 2727 rows omitted\u001b[0m"
      ]
     },
     "execution_count": 6,
     "metadata": {},
     "output_type": "execute_result"
    }
   ],
   "source": [
    "# Load the dataset\n",
    "df = DataFrame(CSV.File(\"serious-injury-outcome-indicators-2000-2020-CSV.csv\"))"
   ]
  },
  {
   "cell_type": "code",
   "execution_count": 7,
   "metadata": {},
   "outputs": [
    {
     "data": {
      "text/html": [
       "<div class=\"data-frame\"><p>13 rows × 7 columns (omitted printing of 2 columns)</p><table class=\"data-frame\"><thead><tr><th></th><th>variable</th><th>mean</th><th>min</th><th>median</th><th>max</th></tr><tr><th></th><th title=\"Symbol\">Symbol</th><th title=\"Union{Nothing, Float64}\">Union…</th><th title=\"Any\">Any</th><th title=\"Union{Nothing, Float64}\">Union…</th><th title=\"Any\">Any</th></tr></thead><tbody><tr><th>1</th><td>Series_reference</td><td></td><td>C_A21</td><td></td><td>wf02</td></tr><tr><th>2</th><td>Period</td><td></td><td>2000</td><td></td><td>2020</td></tr><tr><th>3</th><td>Type</td><td></td><td>Moving average</td><td></td><td>Single year</td></tr><tr><th>4</th><td>Data_value</td><td>490.518</td><td>0.713333</td><td>63.0</td><td>14141.0</td></tr><tr><th>5</th><td>Lower_CI</td><td>464.676</td><td>0.191677</td><td>50.9238</td><td>13907.9</td></tr><tr><th>6</th><td>Upper_CI</td><td>516.36</td><td>0.801232</td><td>72.9266</td><td>14374.1</td></tr><tr><th>7</th><td>Units</td><td></td><td>Injuries</td><td></td><td>Per thousand registered vehicles</td></tr><tr><th>8</th><td>Indicator</td><td></td><td>Age-standardised rate</td><td></td><td>Rate per thousand registered vehicles</td></tr><tr><th>9</th><td>Cause</td><td></td><td>All</td><td></td><td>Work</td></tr><tr><th>10</th><td>Validation</td><td></td><td>Provisional</td><td></td><td>Validated</td></tr><tr><th>11</th><td>Population</td><td></td><td>Children</td><td></td><td>Whole pop</td></tr><tr><th>12</th><td>Age</td><td></td><td>0-14 years</td><td></td><td>All ages</td></tr><tr><th>13</th><td>Severity</td><td></td><td>Fatal</td><td></td><td>Serious non-fatal</td></tr></tbody></table></div>"
      ],
      "text/latex": [
       "\\begin{tabular}{r|cccccc}\n",
       "\t& variable & mean & min & median & max & \\\\\n",
       "\t\\hline\n",
       "\t& Symbol & Union… & Any & Union… & Any & \\\\\n",
       "\t\\hline\n",
       "\t1 & Series\\_reference &  & C\\_A21 &  & wf02 & $\\dots$ \\\\\n",
       "\t2 & Period &  & 2000 &  & 2020 & $\\dots$ \\\\\n",
       "\t3 & Type &  & Moving average &  & Single year & $\\dots$ \\\\\n",
       "\t4 & Data\\_value & 490.518 & 0.713333 & 63.0 & 14141.0 & $\\dots$ \\\\\n",
       "\t5 & Lower\\_CI & 464.676 & 0.191677 & 50.9238 & 13907.9 & $\\dots$ \\\\\n",
       "\t6 & Upper\\_CI & 516.36 & 0.801232 & 72.9266 & 14374.1 & $\\dots$ \\\\\n",
       "\t7 & Units &  & Injuries &  & Per thousand registered vehicles & $\\dots$ \\\\\n",
       "\t8 & Indicator &  & Age-standardised rate &  & Rate per thousand registered vehicles & $\\dots$ \\\\\n",
       "\t9 & Cause &  & All &  & Work & $\\dots$ \\\\\n",
       "\t10 & Validation &  & Provisional &  & Validated & $\\dots$ \\\\\n",
       "\t11 & Population &  & Children &  & Whole pop & $\\dots$ \\\\\n",
       "\t12 & Age &  & 0-14 years &  & All ages & $\\dots$ \\\\\n",
       "\t13 & Severity &  & Fatal &  & Serious non-fatal & $\\dots$ \\\\\n",
       "\\end{tabular}\n"
      ],
      "text/plain": [
       "\u001b[1m13×7 DataFrame\u001b[0m\n",
       "\u001b[1m Row \u001b[0m│\u001b[1m variable         \u001b[0m\u001b[1m mean    \u001b[0m\u001b[1m min                   \u001b[0m\u001b[1m median  \u001b[0m\u001b[1m max         \u001b[0m ⋯\n",
       "\u001b[1m     \u001b[0m│\u001b[90m Symbol           \u001b[0m\u001b[90m Union…  \u001b[0m\u001b[90m Any                   \u001b[0m\u001b[90m Union…  \u001b[0m\u001b[90m Any         \u001b[0m ⋯\n",
       "─────┼──────────────────────────────────────────────────────────────────────────\n",
       "   1 │ Series_reference \u001b[90m         \u001b[0m C_A21                 \u001b[90m         \u001b[0m wf02         ⋯\n",
       "   2 │ Period           \u001b[90m         \u001b[0m 2000                  \u001b[90m         \u001b[0m 2020\n",
       "   3 │ Type             \u001b[90m         \u001b[0m Moving average        \u001b[90m         \u001b[0m Single year\n",
       "   4 │ Data_value        490.518  0.713333               63.0     14141.0\n",
       "   5 │ Lower_CI          464.676  0.191677               50.9238  13907.9      ⋯\n",
       "   6 │ Upper_CI          516.36   0.801232               72.9266  14374.1\n",
       "   7 │ Units            \u001b[90m         \u001b[0m Injuries              \u001b[90m         \u001b[0m Per thousand\n",
       "   8 │ Indicator        \u001b[90m         \u001b[0m Age-standardised rate \u001b[90m         \u001b[0m Rate per tho\n",
       "   9 │ Cause            \u001b[90m         \u001b[0m All                   \u001b[90m         \u001b[0m Work         ⋯\n",
       "  10 │ Validation       \u001b[90m         \u001b[0m Provisional           \u001b[90m         \u001b[0m Validated\n",
       "  11 │ Population       \u001b[90m         \u001b[0m Children              \u001b[90m         \u001b[0m Whole pop\n",
       "  12 │ Age              \u001b[90m         \u001b[0m 0-14 years            \u001b[90m         \u001b[0m All ages\n",
       "  13 │ Severity         \u001b[90m         \u001b[0m Fatal                 \u001b[90m         \u001b[0m Serious non- ⋯\n",
       "\u001b[36m                                                               3 columns omitted\u001b[0m"
      ]
     },
     "execution_count": 7,
     "metadata": {},
     "output_type": "execute_result"
    }
   ],
   "source": [
    "# Describe the dataframe\n",
    "describe(df)"
   ]
  },
  {
   "cell_type": "code",
   "execution_count": 8,
   "metadata": {},
   "outputs": [
    {
     "data": {
      "text/html": [
       "<p>DataFrameRow (13 columns)</p><div class=\"data-frame\"><table class=\"data-frame\"><thead><tr><th></th><th>Series_reference</th><th>Period</th><th>Type</th><th>Data_value</th><th>Lower_CI</th><th>Upper_CI</th><th>Units</th></tr><tr><th></th><th title=\"String7\">String7</th><th title=\"String7\">String7</th><th title=\"String15\">String15</th><th title=\"Float64\">Float64</th><th title=\"Float64\">Float64</th><th title=\"Float64\">Float64</th><th title=\"String\">String</th></tr></thead><tbody><tr><th>1</th><td>W_A11</td><td>2000-02</td><td>Moving average</td><td>59.6667</td><td>50.9258</td><td>68.4075</td><td>Injuries</td></tr></tbody></table></div>"
      ],
      "text/latex": [
       "\\begin{tabular}{r|cccccccc}\n",
       "\t& Series\\_reference & Period & Type & Data\\_value & Lower\\_CI & Upper\\_CI & Units & \\\\\n",
       "\t\\hline\n",
       "\t& String7 & String7 & String15 & Float64 & Float64 & Float64 & String & \\\\\n",
       "\t\\hline\n",
       "\t1 & W\\_A11 & 2000-02 & Moving average & 59.6667 & 50.9258 & 68.4075 & Injuries & $\\dots$ \\\\\n",
       "\\end{tabular}\n"
      ],
      "text/plain": [
       "\u001b[1mDataFrameRow\u001b[0m\n",
       "\u001b[1m Row \u001b[0m│\u001b[1m Series_reference \u001b[0m\u001b[1m Period  \u001b[0m\u001b[1m Type           \u001b[0m\u001b[1m Data_value \u001b[0m\u001b[1m Lower_CI \u001b[0m\u001b[1m Upper_\u001b[0m ⋯\n",
       "\u001b[1m     \u001b[0m│\u001b[90m String7          \u001b[0m\u001b[90m String7 \u001b[0m\u001b[90m String15       \u001b[0m\u001b[90m Float64    \u001b[0m\u001b[90m Float64  \u001b[0m\u001b[90m Float6\u001b[0m ⋯\n",
       "─────┼──────────────────────────────────────────────────────────────────────────\n",
       "   1 │ W_A11             2000-02  Moving average     59.6667   50.9258   68.40 ⋯\n",
       "\u001b[36m                                                               8 columns omitted\u001b[0m"
      ]
     },
     "execution_count": 8,
     "metadata": {},
     "output_type": "execute_result"
    }
   ],
   "source": [
    "first(df)"
   ]
  },
  {
   "cell_type": "code",
   "execution_count": 9,
   "metadata": {},
   "outputs": [
    {
     "data": {
      "application/vnd.dataresource+json": {
       "data": [
        {
         "Age": "0-14 years",
         "Cause": "Intentional",
         "Data_value": 40,
         "Indicator": "Number",
         "Lower_CI": 32.8432234251313,
         "Period": "2004-06",
         "Population": "Children",
         "Series_reference": "C_IN01",
         "Severity": "Serious non-fatal",
         "Type": "Moving average",
         "Units": "Injuries",
         "Upper_CI": 47.1567765748686,
         "Validation": "Validated"
        },
        {
         "Age": "0-14 years",
         "Cause": "Assault",
         "Data_value": 40,
         "Indicator": "Number",
         "Lower_CI": 32.8432234251313,
         "Period": "2003-05",
         "Population": "Children",
         "Series_reference": "C_A21",
         "Severity": "Serious",
         "Type": "Moving average",
         "Units": "Injuries",
         "Upper_CI": 47.1567765748686,
         "Validation": "Validated"
        },
        {
         "Age": "All ages",
         "Cause": "Assault",
         "Data_value": 40,
         "Indicator": "Number",
         "Lower_CI": 27.6040993539087,
         "Period": "2017",
         "Population": "Whole pop",
         "Series_reference": "a11",
         "Severity": "Fatal",
         "Type": "Single year",
         "Units": "Injuries",
         "Upper_CI": 52.3959006460912,
         "Validation": "Validated"
        },
        {
         "Age": "0-14 years",
         "Cause": "Intentional",
         "Data_value": 40,
         "Indicator": "Number",
         "Lower_CI": 27.6040993539087,
         "Period": "2005",
         "Population": "Children",
         "Series_reference": "in01",
         "Severity": "Serious non-fatal",
         "Type": "Single year",
         "Units": "Injuries",
         "Upper_CI": 52.3959006460912,
         "Validation": "Validated"
        },
        {
         "Age": "0-14 years",
         "Cause": "Intentional",
         "Data_value": 40,
         "Indicator": "Number",
         "Lower_CI": 27.6040993539087,
         "Period": "2012",
         "Population": "Children",
         "Series_reference": "in01",
         "Severity": "Serious non-fatal",
         "Type": "Single year",
         "Units": "Injuries",
         "Upper_CI": 52.3959006460912,
         "Validation": "Validated"
        },
        {
         "Age": "0-14 years",
         "Cause": "Intentional",
         "Data_value": 40,
         "Indicator": "Number",
         "Lower_CI": 27.6040993539087,
         "Period": "2016",
         "Population": "Children",
         "Series_reference": "in01",
         "Severity": "Serious non-fatal",
         "Type": "Single year",
         "Units": "Injuries",
         "Upper_CI": 52.3959006460912,
         "Validation": "Validated"
        },
        {
         "Age": "0-14 years",
         "Cause": "Intentional",
         "Data_value": 40,
         "Indicator": "Number",
         "Lower_CI": 27.6040993539087,
         "Period": "2019",
         "Population": "Children",
         "Series_reference": "in01",
         "Severity": "Serious non-fatal",
         "Type": "Single year",
         "Units": "Injuries",
         "Upper_CI": 52.3959006460912,
         "Validation": "Validated"
        },
        {
         "Age": "0-14 years",
         "Cause": "Assault",
         "Data_value": 40,
         "Indicator": "Number",
         "Lower_CI": 27.6040993539087,
         "Period": "2017",
         "Population": "Children",
         "Series_reference": "a21",
         "Severity": "Serious",
         "Type": "Single year",
         "Units": "Injuries",
         "Upper_CI": 52.3959006460912,
         "Validation": "Validated"
        },
        {
         "Age": "0-14 years",
         "Cause": "Pedestrian",
         "Data_value": 40,
         "Indicator": "Number",
         "Lower_CI": 27.6040993539087,
         "Period": "2017",
         "Population": "Children",
         "Series_reference": "p21",
         "Severity": "Serious",
         "Type": "Single year",
         "Units": "Injuries",
         "Upper_CI": 52.3959006460912,
         "Validation": "Validated"
        },
        {
         "Age": "0-14 years",
         "Cause": "Intentional",
         "Data_value": 39.6666666666666,
         "Indicator": "Number",
         "Lower_CI": 32.5397723791994,
         "Period": "2011-13",
         "Population": "Children",
         "Series_reference": "C_IN01",
         "Severity": "Serious non-fatal",
         "Type": "Moving average",
         "Units": "Injuries",
         "Upper_CI": 46.7935609541339,
         "Validation": "Validated"
        },
        {
         "Age": "0-14 years",
         "Cause": "Pedestrian",
         "Data_value": 39.6666666666666,
         "Indicator": "Number",
         "Lower_CI": 32.5397723791994,
         "Period": "2010-12",
         "Population": "Children",
         "Series_reference": "C_P21",
         "Severity": "Serious",
         "Type": "Moving average",
         "Units": "Injuries",
         "Upper_CI": 46.7935609541339,
         "Validation": "Validated"
        },
        {
         "Age": "0-14 years",
         "Cause": "Pedestrian",
         "Data_value": 39,
         "Indicator": "Number",
         "Lower_CI": 31.9332493556781,
         "Period": "2015-17",
         "Population": "Children",
         "Series_reference": "C_P21",
         "Severity": "Serious",
         "Type": "Moving average",
         "Units": "Injuries",
         "Upper_CI": 46.0667506443218,
         "Validation": "Validated"
        },
        {
         "Age": "0-14 years",
         "Cause": "Pedestrian",
         "Data_value": 39,
         "Indicator": "Number",
         "Lower_CI": 31.9332493556781,
         "Period": "2016-18",
         "Population": "Children",
         "Series_reference": "C_P21",
         "Severity": "Serious",
         "Type": "Moving average",
         "Units": "Injuries",
         "Upper_CI": 46.0667506443218,
         "Validation": "Validated"
        },
        {
         "Age": "75+ years",
         "Cause": "Falls",
         "Data_value": 39,
         "Indicator": "Number",
         "Lower_CI": 26.7600288396144,
         "Period": "2004",
         "Population": "Maori",
         "Series_reference": "f01c",
         "Severity": "Serious non-fatal",
         "Type": "Single year",
         "Units": "Injuries",
         "Upper_CI": 51.2399711603856,
         "Validation": "Validated"
        },
        {
         "Age": "0-14 years",
         "Cause": "Intentional",
         "Data_value": 39,
         "Indicator": "Number",
         "Lower_CI": 26.7600288396144,
         "Period": "2013",
         "Population": "Children",
         "Series_reference": "in21",
         "Severity": "Serious",
         "Type": "Single year",
         "Units": "Injuries",
         "Upper_CI": 51.2399711603856,
         "Validation": "Validated"
        },
        {
         "Age": "0-14 years",
         "Cause": "Pedestrian",
         "Data_value": 39,
         "Indicator": "Number",
         "Lower_CI": 26.7600288396144,
         "Period": "2011",
         "Population": "Children",
         "Series_reference": "p21",
         "Severity": "Serious",
         "Type": "Single year",
         "Units": "Injuries",
         "Upper_CI": 51.2399711603856,
         "Validation": "Validated"
        },
        {
         "Age": "0-14 years",
         "Cause": "Intentional",
         "Data_value": 38.6666666666666,
         "Indicator": "Number",
         "Lower_CI": 31.6301806181358,
         "Period": "2002-04",
         "Population": "Children",
         "Series_reference": "C_IN01",
         "Severity": "Serious non-fatal",
         "Type": "Moving average",
         "Units": "Injuries",
         "Upper_CI": 45.7031527151974,
         "Validation": "Validated"
        },
        {
         "Age": "0-14 years",
         "Cause": "Pedestrian",
         "Data_value": 38.3333333333333,
         "Indicator": "Number",
         "Lower_CI": 31.3272426150144,
         "Period": "2012-14",
         "Population": "Children",
         "Series_reference": "C_P21",
         "Severity": "Serious",
         "Type": "Moving average",
         "Units": "Injuries",
         "Upper_CI": 45.3394240516522,
         "Validation": "Validated"
        },
        {
         "Age": "75+ years",
         "Cause": "Falls",
         "Data_value": 38,
         "Indicator": "Number",
         "Lower_CI": 31.0244370553009,
         "Period": "2003-05",
         "Population": "Maori",
         "Series_reference": "M_F01C",
         "Severity": "Serious non-fatal",
         "Type": "Moving average",
         "Units": "Injuries",
         "Upper_CI": 44.975562944699,
         "Validation": "Validated"
        },
        {
         "Age": "75+ years",
         "Cause": "Falls",
         "Data_value": 38,
         "Indicator": "Number",
         "Lower_CI": 31.0244370553009,
         "Period": "2002-04",
         "Population": "Maori",
         "Series_reference": "M_F21C",
         "Severity": "Serious",
         "Type": "Moving average",
         "Units": "Injuries",
         "Upper_CI": 44.975562944699,
         "Validation": "Validated"
        },
        {
         "Age": "0-14 years",
         "Cause": "Intentional",
         "Data_value": 38,
         "Indicator": "Number",
         "Lower_CI": 25.9179705683864,
         "Period": "2004",
         "Population": "Children",
         "Series_reference": "in01",
         "Severity": "Serious non-fatal",
         "Type": "Single year",
         "Units": "Injuries",
         "Upper_CI": 50.0820294316135,
         "Validation": "Validated"
        },
        {
         "Age": "0-14 years",
         "Cause": "Assault",
         "Data_value": 37.3333333333333,
         "Indicator": "Number",
         "Lower_CI": 30.4192302910183,
         "Period": "2011-13",
         "Population": "Children",
         "Series_reference": "C_A21",
         "Severity": "Serious",
         "Type": "Moving average",
         "Units": "Injuries",
         "Upper_CI": 44.2474363756483,
         "Validation": "Validated"
        },
        {
         "Age": "0-14 years",
         "Cause": "Intentional",
         "Data_value": 37,
         "Indicator": "Number",
         "Lower_CI": 25.0780045141057,
         "Period": "2008",
         "Population": "Children",
         "Series_reference": "in01",
         "Severity": "Serious non-fatal",
         "Type": "Single year",
         "Units": "Injuries",
         "Upper_CI": 48.9219954858942,
         "Validation": "Validated"
        },
        {
         "Age": "0-14 years",
         "Cause": "Intentional",
         "Data_value": 37,
         "Indicator": "Number",
         "Lower_CI": 25.0780045141057,
         "Period": "2013",
         "Population": "Children",
         "Series_reference": "in01",
         "Severity": "Serious non-fatal",
         "Type": "Single year",
         "Units": "Injuries",
         "Upper_CI": 48.9219954858942,
         "Validation": "Validated"
        },
        {
         "Age": "0-14 years",
         "Cause": "Assault",
         "Data_value": 37,
         "Indicator": "Number",
         "Lower_CI": 25.0780045141057,
         "Period": "2015",
         "Population": "Children",
         "Series_reference": "a21",
         "Severity": "Serious",
         "Type": "Single year",
         "Units": "Injuries",
         "Upper_CI": 48.9219954858942,
         "Validation": "Validated"
        },
        {
         "Age": "0-14 years",
         "Cause": "Pedestrian",
         "Data_value": 37,
         "Indicator": "Number",
         "Lower_CI": 25.0780045141057,
         "Period": "2013",
         "Population": "Children",
         "Series_reference": "p21",
         "Severity": "Serious",
         "Type": "Single year",
         "Units": "Injuries",
         "Upper_CI": 48.9219954858942,
         "Validation": "Validated"
        },
        {
         "Age": "0-14 years",
         "Cause": "Assault",
         "Data_value": 36,
         "Indicator": "Number",
         "Lower_CI": 29.2104855955429,
         "Period": "2015-17",
         "Population": "Children",
         "Series_reference": "C_A21",
         "Severity": "Serious",
         "Type": "Moving average",
         "Units": "Injuries",
         "Upper_CI": 42.789514404457,
         "Validation": "Validated"
        },
        {
         "Age": "0-14 years",
         "Cause": "Pedestrian",
         "Data_value": 36,
         "Indicator": "Number",
         "Lower_CI": 29.2104855955429,
         "Period": "2011-13",
         "Population": "Children",
         "Series_reference": "C_P21",
         "Severity": "Serious",
         "Type": "Moving average",
         "Units": "Injuries",
         "Upper_CI": 42.789514404457,
         "Validation": "Validated"
        },
        {
         "Age": "0-14 years",
         "Cause": "Motor vehicle traffic crashes",
         "Data_value": 36,
         "Indicator": "Number",
         "Lower_CI": 24.2402160927596,
         "Period": "2000",
         "Population": "Children",
         "Series_reference": "m11",
         "Severity": "Fatal",
         "Type": "Single year",
         "Units": "Injuries",
         "Upper_CI": 47.7597839072403,
         "Validation": "Validated"
        },
        {
         "Age": "0-14 years",
         "Cause": "Assault",
         "Data_value": 36,
         "Indicator": "Number",
         "Lower_CI": 24.2402160927596,
         "Period": "2000",
         "Population": "Children",
         "Series_reference": "a21",
         "Severity": "Serious",
         "Type": "Single year",
         "Units": "Injuries",
         "Upper_CI": 47.7597839072403,
         "Validation": "Validated"
        },
        {
         "Age": "0-14 years",
         "Cause": "Assault",
         "Data_value": 36,
         "Indicator": "Number",
         "Lower_CI": 24.2402160927596,
         "Period": "2008",
         "Population": "Children",
         "Series_reference": "a21",
         "Severity": "Serious",
         "Type": "Single year",
         "Units": "Injuries",
         "Upper_CI": 47.7597839072403,
         "Validation": "Validated"
        },
        {
         "Age": "0-14 years",
         "Cause": "Assault",
         "Data_value": 36,
         "Indicator": "Number",
         "Lower_CI": 24.2402160927596,
         "Period": "2012",
         "Population": "Children",
         "Series_reference": "a21",
         "Severity": "Serious",
         "Type": "Single year",
         "Units": "Injuries",
         "Upper_CI": 47.7597839072403,
         "Validation": "Validated"
        },
        {
         "Age": "0-14 years",
         "Cause": "Intentional",
         "Data_value": 36,
         "Indicator": "Number",
         "Lower_CI": 24.2402160927596,
         "Period": "2003",
         "Population": "Children",
         "Series_reference": "in21",
         "Severity": "Serious",
         "Type": "Single year",
         "Units": "Injuries",
         "Upper_CI": 47.7597839072403,
         "Validation": "Validated"
        },
        {
         "Age": "0-14 years",
         "Cause": "Pedestrian",
         "Data_value": 36,
         "Indicator": "Number",
         "Lower_CI": 24.2402160927596,
         "Period": "2016",
         "Population": "Children",
         "Series_reference": "p21",
         "Severity": "Serious",
         "Type": "Single year",
         "Units": "Injuries",
         "Upper_CI": 47.7597839072403,
         "Validation": "Validated"
        },
        {
         "Age": "0-14 years",
         "Cause": "Intentional",
         "Data_value": 35.6666666666666,
         "Indicator": "Number",
         "Lower_CI": 28.9086582995162,
         "Period": "2003-05",
         "Population": "Children",
         "Series_reference": "C_IN01",
         "Severity": "Serious non-fatal",
         "Type": "Moving average",
         "Units": "Injuries",
         "Upper_CI": 42.424675033817,
         "Validation": "Validated"
        },
        {
         "Age": "75+ years",
         "Cause": "Falls",
         "Data_value": 35,
         "Indicator": "Number",
         "Lower_CI": 23.4046966954592,
         "Period": "2003",
         "Population": "Maori",
         "Series_reference": "f21c",
         "Severity": "Serious",
         "Type": "Single year",
         "Units": "Injuries",
         "Upper_CI": 46.5953033045407,
         "Validation": "Validated"
        },
        {
         "Age": "0-14 years",
         "Cause": "Pedestrian",
         "Data_value": 34,
         "Indicator": "Number",
         "Lower_CI": 22.5715442905176,
         "Period": "2008",
         "Population": "Children",
         "Series_reference": "p21",
         "Severity": "Serious",
         "Type": "Single year",
         "Units": "Injuries",
         "Upper_CI": 45.4284557094823,
         "Validation": "Validated"
        },
        {
         "Age": "0-14 years",
         "Cause": "Assault",
         "Data_value": 33.3333333333333,
         "Indicator": "Number",
         "Lower_CI": 26.8001200515331,
         "Period": "2016-18",
         "Population": "Children",
         "Series_reference": "C_A21",
         "Severity": "Serious",
         "Type": "Moving average",
         "Units": "Injuries",
         "Upper_CI": 39.8665466151335,
         "Validation": "Validated"
        },
        {
         "Age": "0-14 years",
         "Cause": "Intentional",
         "Data_value": 33,
         "Indicator": "Number",
         "Lower_CI": 21.7408641058513,
         "Period": "2015",
         "Population": "Children",
         "Series_reference": "in01",
         "Severity": "Serious non-fatal",
         "Type": "Single year",
         "Units": "Injuries",
         "Upper_CI": 44.2591358941486,
         "Validation": "Validated"
        },
        {
         "Age": "75+ years",
         "Cause": "Falls",
         "Data_value": 33,
         "Indicator": "Number",
         "Lower_CI": 21.7408641058513,
         "Period": "2000",
         "Population": "Maori",
         "Series_reference": "f21c",
         "Severity": "Serious",
         "Type": "Single year",
         "Units": "Injuries",
         "Upper_CI": 44.2591358941486,
         "Validation": "Validated"
        },
        {
         "Age": "75+ years",
         "Cause": "Falls",
         "Data_value": 33,
         "Indicator": "Number",
         "Lower_CI": 21.7408641058513,
         "Period": "2002",
         "Population": "Maori",
         "Series_reference": "f21c",
         "Severity": "Serious",
         "Type": "Single year",
         "Units": "Injuries",
         "Upper_CI": 44.2591358941486,
         "Validation": "Validated"
        },
        {
         "Age": "75+ years",
         "Cause": "Falls",
         "Data_value": 32.3333333333333,
         "Indicator": "Number",
         "Lower_CI": 25.8988644732077,
         "Period": "2002-04",
         "Population": "Maori",
         "Series_reference": "M_F01C",
         "Severity": "Serious non-fatal",
         "Type": "Moving average",
         "Units": "Injuries",
         "Upper_CI": 38.7678021934588,
         "Validation": "Validated"
        },
        {
         "Age": "0-14 years",
         "Cause": "Motor vehicle traffic crashes",
         "Data_value": 32.3333333333333,
         "Indicator": "Number",
         "Lower_CI": 25.8988644732077,
         "Period": "2000-02",
         "Population": "Children",
         "Series_reference": "C_M11",
         "Severity": "Fatal",
         "Type": "Moving average",
         "Units": "Injuries",
         "Upper_CI": 38.7678021934588,
         "Validation": "Validated"
        },
        {
         "Age": "0-14 years",
         "Cause": "Motor vehicle traffic crashes",
         "Data_value": 32,
         "Indicator": "Number",
         "Lower_CI": 20.9127694052025,
         "Period": "2002",
         "Population": "Children",
         "Series_reference": "m11",
         "Severity": "Fatal",
         "Type": "Single year",
         "Units": "Injuries",
         "Upper_CI": 43.0872305947974,
         "Validation": "Validated"
        },
        {
         "Age": "0-14 years",
         "Cause": "Pedestrian",
         "Data_value": 32,
         "Indicator": "Number",
         "Lower_CI": 20.9127694052025,
         "Period": "2012",
         "Population": "Children",
         "Series_reference": "p21",
         "Severity": "Serious",
         "Type": "Single year",
         "Units": "Injuries",
         "Upper_CI": 43.0872305947974,
         "Validation": "Validated"
        },
        {
         "Age": "75+ years",
         "Cause": "Falls",
         "Data_value": 31.6666666666666,
         "Indicator": "Number",
         "Lower_CI": 25.2988780398185,
         "Period": "2001-03",
         "Population": "Maori",
         "Series_reference": "M_F21C",
         "Severity": "Serious",
         "Type": "Moving average",
         "Units": "Injuries",
         "Upper_CI": 38.0344552935147,
         "Validation": "Validated"
        },
        {
         "Age": "75+ years",
         "Cause": "Falls",
         "Data_value": 31,
         "Indicator": "Number",
         "Lower_CI": 24.6995972763238,
         "Period": "2000-02",
         "Population": "Maori",
         "Series_reference": "M_F21C",
         "Severity": "Serious",
         "Type": "Moving average",
         "Units": "Injuries",
         "Upper_CI": 37.3004027236761,
         "Validation": "Validated"
        },
        {
         "Age": "0-14 years",
         "Cause": "Intentional",
         "Data_value": 31,
         "Indicator": "Number",
         "Lower_CI": 20.0873823744475,
         "Period": "2018",
         "Population": "Children",
         "Series_reference": "in01",
         "Severity": "Serious non-fatal",
         "Type": "Single year",
         "Units": "Injuries",
         "Upper_CI": 41.9126176255524,
         "Validation": "Validated"
        },
        {
         "Age": "0-14 years",
         "Cause": "Assault",
         "Data_value": 31,
         "Indicator": "Number",
         "Lower_CI": 20.0873823744475,
         "Period": "2013",
         "Population": "Children",
         "Series_reference": "a21",
         "Severity": "Serious",
         "Type": "Single year",
         "Units": "Injuries",
         "Upper_CI": 41.9126176255524,
         "Validation": "Validated"
        },
        {
         "Age": "0-14 years",
         "Cause": "Assault",
         "Data_value": 31,
         "Indicator": "Number",
         "Lower_CI": 20.0873823744475,
         "Period": "2016",
         "Population": "Children",
         "Series_reference": "a21",
         "Severity": "Serious",
         "Type": "Single year",
         "Units": "Injuries",
         "Upper_CI": 41.9126176255524,
         "Validation": "Validated"
        },
        {
         "Age": "0-14 years",
         "Cause": "Motor vehicle traffic crashes",
         "Data_value": 30,
         "Indicator": "Number",
         "Lower_CI": 19.264835137697,
         "Period": "2007",
         "Population": "Children",
         "Series_reference": "m11",
         "Severity": "Fatal",
         "Type": "Single year",
         "Units": "Injuries",
         "Upper_CI": 40.7351648623029,
         "Validation": "Validated"
        },
        {
         "Age": "75+ years",
         "Cause": "Falls",
         "Data_value": 30,
         "Indicator": "Number",
         "Lower_CI": 19.264835137697,
         "Period": "2000",
         "Population": "Maori",
         "Series_reference": "f01c",
         "Severity": "Serious non-fatal",
         "Type": "Single year",
         "Units": "Injuries",
         "Upper_CI": 40.7351648623029,
         "Validation": "Validated"
        },
        {
         "Age": "75+ years",
         "Cause": "Falls",
         "Data_value": 30,
         "Indicator": "Number",
         "Lower_CI": 19.264835137697,
         "Period": "2002",
         "Population": "Maori",
         "Series_reference": "f01c",
         "Severity": "Serious non-fatal",
         "Type": "Single year",
         "Units": "Injuries",
         "Upper_CI": 40.7351648623029,
         "Validation": "Validated"
        },
        {
         "Age": "0-14 years",
         "Cause": "Motor vehicle traffic crashes",
         "Data_value": 29.3333333333333,
         "Indicator": "Number",
         "Lower_CI": 23.2046360254846,
         "Period": "2001-03",
         "Population": "Children",
         "Series_reference": "C_M11",
         "Severity": "Fatal",
         "Type": "Moving average",
         "Units": "Injuries",
         "Upper_CI": 35.4620306411819,
         "Validation": "Validated"
        },
        {
         "Age": "0-14 years",
         "Cause": "Motor vehicle traffic crashes",
         "Data_value": 29,
         "Indicator": "Number",
         "Lower_CI": 18.4452709272037,
         "Period": "2001",
         "Population": "Children",
         "Series_reference": "m11",
         "Severity": "Fatal",
         "Type": "Single year",
         "Units": "Injuries",
         "Upper_CI": 39.5547290727962,
         "Validation": "Validated"
        },
        {
         "Age": "0-14 years",
         "Cause": "Motor vehicle traffic crashes",
         "Data_value": 29,
         "Indicator": "Number",
         "Lower_CI": 18.4452709272037,
         "Period": "2005",
         "Population": "Children",
         "Series_reference": "m11",
         "Severity": "Fatal",
         "Type": "Single year",
         "Units": "Injuries",
         "Upper_CI": 39.5547290727962,
         "Validation": "Validated"
        },
        {
         "Age": "0-14 years",
         "Cause": "Intentional",
         "Data_value": 29,
         "Indicator": "Number",
         "Lower_CI": 18.4452709272037,
         "Period": "2000",
         "Population": "Children",
         "Series_reference": "in01",
         "Severity": "Serious non-fatal",
         "Type": "Single year",
         "Units": "Injuries",
         "Upper_CI": 39.5547290727962,
         "Validation": "Validated"
        },
        {
         "Age": "0-14 years",
         "Cause": "Intentional",
         "Data_value": 29,
         "Indicator": "Number",
         "Lower_CI": 18.4452709272037,
         "Period": "2003",
         "Population": "Children",
         "Series_reference": "in01",
         "Severity": "Serious non-fatal",
         "Type": "Single year",
         "Units": "Injuries",
         "Upper_CI": 39.5547290727962,
         "Validation": "Validated"
        },
        {
         "Age": "0-14 years",
         "Cause": "Assault",
         "Data_value": 29,
         "Indicator": "Number",
         "Lower_CI": 18.4452709272037,
         "Period": "2003",
         "Population": "Children",
         "Series_reference": "a21",
         "Severity": "Serious",
         "Type": "Single year",
         "Units": "Injuries",
         "Upper_CI": 39.5547290727962,
         "Validation": "Validated"
        },
        {
         "Age": "0-14 years",
         "Cause": "Assault",
         "Data_value": 29,
         "Indicator": "Number",
         "Lower_CI": 18.4452709272037,
         "Period": "2018",
         "Population": "Children",
         "Series_reference": "a21",
         "Severity": "Serious",
         "Type": "Single year",
         "Units": "Injuries",
         "Upper_CI": 39.5547290727962,
         "Validation": "Validated"
        },
        {
         "Age": "75+ years",
         "Cause": "Falls",
         "Data_value": 28.6666666666666,
         "Indicator": "Number",
         "Lower_CI": 22.6080139141546,
         "Period": "2000-02",
         "Population": "Maori",
         "Series_reference": "M_F01C",
         "Severity": "Serious non-fatal",
         "Type": "Moving average",
         "Units": "Injuries",
         "Upper_CI": 34.7253194191787,
         "Validation": "Validated"
        },
        {
         "Age": "75+ years",
         "Cause": "Falls",
         "Data_value": 28,
         "Indicator": "Number",
         "Lower_CI": 22.0122111209719,
         "Period": "2001-03",
         "Population": "Maori",
         "Series_reference": "M_F01C",
         "Severity": "Serious non-fatal",
         "Type": "Moving average",
         "Units": "Injuries",
         "Upper_CI": 33.987788879028,
         "Validation": "Validated"
        },
        {
         "Age": "75+ years",
         "Cause": "Falls",
         "Data_value": 28,
         "Indicator": "Number",
         "Lower_CI": 17.6288454365275,
         "Period": "2003",
         "Population": "Maori",
         "Series_reference": "f01c",
         "Severity": "Serious non-fatal",
         "Type": "Single year",
         "Units": "Injuries",
         "Upper_CI": 38.3711545634724,
         "Validation": "Validated"
        },
        {
         "Age": "0-14 years",
         "Cause": "Motor vehicle traffic crashes",
         "Data_value": 27.6666666666666,
         "Indicator": "Number",
         "Lower_CI": 21.7146261004442,
         "Period": "2005-07",
         "Population": "Children",
         "Series_reference": "C_M11",
         "Severity": "Fatal",
         "Type": "Moving average",
         "Units": "Injuries",
         "Upper_CI": 33.618707232889,
         "Validation": "Validated"
        },
        {
         "Age": "0-14 years",
         "Cause": "Motor vehicle traffic crashes",
         "Data_value": 27,
         "Indicator": "Number",
         "Lower_CI": 16.8157283933144,
         "Period": "2003",
         "Population": "Children",
         "Series_reference": "m11",
         "Severity": "Fatal",
         "Type": "Single year",
         "Units": "Injuries",
         "Upper_CI": 37.1842716066855,
         "Validation": "Validated"
        },
        {
         "Age": "75+ years",
         "Cause": "Falls",
         "Data_value": 27,
         "Indicator": "Number",
         "Lower_CI": 16.8157283933144,
         "Period": "2001",
         "Population": "Maori",
         "Series_reference": "f21c",
         "Severity": "Serious",
         "Type": "Single year",
         "Units": "Injuries",
         "Upper_CI": 37.1842716066855,
         "Validation": "Validated"
        },
        {
         "Age": "75+ years",
         "Cause": "Falls",
         "Data_value": 26,
         "Indicator": "Number",
         "Lower_CI": 16.0061053968912,
         "Period": "2001",
         "Population": "Maori",
         "Series_reference": "f01c",
         "Severity": "Serious non-fatal",
         "Type": "Single year",
         "Units": "Injuries",
         "Upper_CI": 35.9938946031088,
         "Validation": "Validated"
        },
        {
         "Age": "0-14 years",
         "Cause": "Motor vehicle traffic crashes",
         "Data_value": 25.6666666666666,
         "Indicator": "Number",
         "Lower_CI": 19.9337952783632,
         "Period": "2002-04",
         "Population": "Children",
         "Series_reference": "C_M11",
         "Severity": "Fatal",
         "Type": "Moving average",
         "Units": "Injuries",
         "Upper_CI": 31.39953805497,
         "Validation": "Validated"
        },
        {
         "Age": "0-14 years",
         "Cause": "Motor vehicle traffic crashes",
         "Data_value": 25,
         "Indicator": "Number",
         "Lower_CI": 19.3420713296191,
         "Period": "2006-08",
         "Population": "Children",
         "Series_reference": "C_M11",
         "Severity": "Fatal",
         "Type": "Moving average",
         "Units": "Injuries",
         "Upper_CI": 30.6579286703808,
         "Validation": "Validated"
        },
        {
         "Age": "0-14 years",
         "Cause": "Motor vehicle traffic crashes",
         "Data_value": 24.6666666666666,
         "Indicator": "Number",
         "Lower_CI": 19.0465840977658,
         "Period": "2003-05",
         "Population": "Children",
         "Series_reference": "C_M11",
         "Severity": "Fatal",
         "Type": "Moving average",
         "Units": "Injuries",
         "Upper_CI": 30.2867492355674,
         "Validation": "Validated"
        },
        {
         "Age": "0-14 years",
         "Cause": "Motor vehicle traffic crashes",
         "Data_value": 24.3333333333333,
         "Indicator": "Number",
         "Lower_CI": 18.7513534584674,
         "Period": "2007-09",
         "Population": "Children",
         "Series_reference": "C_M11",
         "Severity": "Fatal",
         "Type": "Moving average",
         "Units": "Injuries",
         "Upper_CI": 29.9153132081992,
         "Validation": "Validated"
        },
        {
         "Age": "0-14 years",
         "Cause": "Motor vehicle traffic crashes",
         "Data_value": 24,
         "Indicator": "Number",
         "Lower_CI": 14.3981766472893,
         "Period": "2006",
         "Population": "Children",
         "Series_reference": "m11",
         "Severity": "Fatal",
         "Type": "Single year",
         "Units": "Injuries",
         "Upper_CI": 33.6018233527106,
         "Validation": "Validated"
        },
        {
         "Age": "0-14 years",
         "Cause": "Motor vehicle traffic crashes",
         "Data_value": 23.6666666666666,
         "Indicator": "Number",
         "Lower_CI": 18.1616833054113,
         "Period": "2004-06",
         "Population": "Children",
         "Series_reference": "C_M11",
         "Severity": "Fatal",
         "Type": "Moving average",
         "Units": "Injuries",
         "Upper_CI": 29.171650027922,
         "Validation": "Validated"
        },
        {
         "Age": "0-14 years",
         "Cause": "Motor vehicle traffic crashes",
         "Data_value": 22,
         "Indicator": "Number",
         "Lower_CI": 12.806954038227,
         "Period": "2009",
         "Population": "Children",
         "Series_reference": "m11",
         "Severity": "Fatal",
         "Type": "Single year",
         "Units": "Injuries",
         "Upper_CI": 31.193045961773,
         "Validation": "Validated"
        },
        {
         "Age": "0-14 years",
         "Cause": "Motor vehicle traffic crashes",
         "Data_value": 21,
         "Indicator": "Number",
         "Lower_CI": 12.0183166814579,
         "Period": "2008",
         "Population": "Children",
         "Series_reference": "m11",
         "Severity": "Fatal",
         "Type": "Single year",
         "Units": "Injuries",
         "Upper_CI": 29.981683318542,
         "Validation": "Validated"
        },
        {
         "Age": "0-14 years",
         "Cause": "Motor vehicle traffic crashes",
         "Data_value": 19.3333333333333,
         "Indicator": "Number",
         "Lower_CI": 14.3577863326926,
         "Period": "2008-10",
         "Population": "Children",
         "Series_reference": "C_M11",
         "Severity": "Fatal",
         "Type": "Moving average",
         "Units": "Injuries",
         "Upper_CI": 24.308880333974,
         "Validation": "Validated"
        },
        {
         "Age": "0-14 years",
         "Cause": "Motor vehicle traffic crashes",
         "Data_value": 18,
         "Indicator": "Number",
         "Lower_CI": 9.68457705390193,
         "Period": "2004",
         "Population": "Children",
         "Series_reference": "m11",
         "Severity": "Fatal",
         "Type": "Single year",
         "Units": "Injuries",
         "Upper_CI": 26.315422946098,
         "Validation": "Validated"
        },
        {
         "Age": "0-14 years",
         "Cause": "Motor vehicle traffic crashes",
         "Data_value": 15.6666666666666,
         "Indicator": "Number",
         "Lower_CI": 11.1877212975892,
         "Period": "2009-11",
         "Population": "Children",
         "Series_reference": "C_M11",
         "Severity": "Fatal",
         "Type": "Moving average",
         "Units": "Injuries",
         "Upper_CI": 20.1456120357441,
         "Validation": "Validated"
        },
        {
         "Age": "0-14 years",
         "Cause": "Motor vehicle traffic crashes",
         "Data_value": 15,
         "Indicator": "Number",
         "Lower_CI": 7.40909212871004,
         "Period": "2010",
         "Population": "Children",
         "Series_reference": "m11",
         "Severity": "Fatal",
         "Type": "Single year",
         "Units": "Injuries",
         "Upper_CI": 22.5909078712899,
         "Validation": "Validated"
        },
        {
         "Age": "0-14 years",
         "Cause": "Motor vehicle traffic crashes",
         "Data_value": 15,
         "Indicator": "Number",
         "Lower_CI": 7.40909212871004,
         "Period": "2016",
         "Population": "Children",
         "Series_reference": "m11",
         "Severity": "Fatal",
         "Type": "Single year",
         "Units": "Injuries",
         "Upper_CI": 22.5909078712899,
         "Validation": "Validated"
        },
        {
         "Age": "0-14 years",
         "Cause": "Motor vehicle traffic crashes",
         "Data_value": 15,
         "Indicator": "Number",
         "Lower_CI": 7.40909212871004,
         "Period": "2018",
         "Population": "Children",
         "Series_reference": "m11",
         "Severity": "Fatal",
         "Type": "Single year",
         "Units": "Injuries",
         "Upper_CI": 22.5909078712899,
         "Validation": "Validated"
        },
        {
         "Age": "0-14 years",
         "Cause": "Motor vehicle traffic crashes",
         "Data_value": 14.3333333333333,
         "Indicator": "Number",
         "Lower_CI": 10.0492188871775,
         "Period": "2016-18",
         "Population": "Children",
         "Series_reference": "C_M11",
         "Severity": "Fatal",
         "Type": "Moving average",
         "Units": "Injuries",
         "Upper_CI": 18.6174477794891,
         "Validation": "Validated"
        },
        {
         "Age": "0-14 years",
         "Cause": "Motor vehicle traffic crashes",
         "Data_value": 14,
         "Indicator": "Number",
         "Lower_CI": 6.66648627943482,
         "Period": "2012",
         "Population": "Children",
         "Series_reference": "m11",
         "Severity": "Fatal",
         "Type": "Single year",
         "Units": "Injuries",
         "Upper_CI": 21.3335137205651,
         "Validation": "Validated"
        },
        {
         "Age": "0-14 years",
         "Cause": "Motor vehicle traffic crashes",
         "Data_value": 13,
         "Indicator": "Number",
         "Lower_CI": 8.9200096132048,
         "Period": "2010-12",
         "Population": "Children",
         "Series_reference": "C_M11",
         "Severity": "Fatal",
         "Type": "Moving average",
         "Units": "Injuries",
         "Upper_CI": 17.0799903867951,
         "Validation": "Validated"
        },
        {
         "Age": "0-14 years",
         "Cause": "Motor vehicle traffic crashes",
         "Data_value": 13,
         "Indicator": "Number",
         "Lower_CI": 5.93324935567812,
         "Period": "2014",
         "Population": "Children",
         "Series_reference": "m11",
         "Severity": "Fatal",
         "Type": "Single year",
         "Units": "Injuries",
         "Upper_CI": 20.0667506443218,
         "Validation": "Validated"
        },
        {
         "Age": "0-14 years",
         "Cause": "Motor vehicle traffic crashes",
         "Data_value": 13,
         "Indicator": "Number",
         "Lower_CI": 5.93324935567812,
         "Period": "2017",
         "Population": "Children",
         "Series_reference": "m11",
         "Severity": "Fatal",
         "Type": "Single year",
         "Units": "Injuries",
         "Upper_CI": 20.0667506443218,
         "Validation": "Validated"
        },
        {
         "Age": "0-14 years",
         "Cause": "Motor vehicle traffic crashes",
         "Data_value": 12.6666666666666,
         "Indicator": "Number",
         "Lower_CI": 8.63932352279547,
         "Period": "2014-16",
         "Population": "Children",
         "Series_reference": "C_M11",
         "Severity": "Fatal",
         "Type": "Moving average",
         "Units": "Injuries",
         "Upper_CI": 16.6940098105378,
         "Validation": "Validated"
        },
        {
         "Age": "0-14 years",
         "Cause": "Motor vehicle traffic crashes",
         "Data_value": 12.6666666666666,
         "Indicator": "Number",
         "Lower_CI": 8.63932352279547,
         "Period": "2015-17",
         "Population": "Children",
         "Series_reference": "C_M11",
         "Severity": "Fatal",
         "Type": "Moving average",
         "Units": "Injuries",
         "Upper_CI": 16.6940098105378,
         "Validation": "Validated"
        },
        {
         "Age": "0-14 years",
         "Cause": "Motor vehicle traffic crashes",
         "Data_value": 11.3333333333333,
         "Indicator": "Number",
         "Lower_CI": 7.52384809683921,
         "Period": "2012-14",
         "Population": "Children",
         "Series_reference": "C_M11",
         "Severity": "Fatal",
         "Type": "Moving average",
         "Units": "Injuries",
         "Upper_CI": 15.1428185698274,
         "Validation": "Validated"
        },
        {
         "Age": "0-14 years",
         "Cause": "Motor vehicle traffic crashes",
         "Data_value": 10.3333333333333,
         "Indicator": "Number",
         "Lower_CI": 6.69579412481585,
         "Period": "2011-13",
         "Population": "Children",
         "Series_reference": "C_M11",
         "Severity": "Fatal",
         "Type": "Moving average",
         "Units": "Injuries",
         "Upper_CI": 13.9708725418508,
         "Validation": "Validated"
        },
        {
         "Age": "0-14 years",
         "Cause": "Motor vehicle traffic crashes",
         "Data_value": 10,
         "Indicator": "Number",
         "Lower_CI": 6.42161171256568,
         "Period": "2013-15",
         "Population": "Children",
         "Series_reference": "C_M11",
         "Severity": "Fatal",
         "Type": "Moving average",
         "Units": "Injuries",
         "Upper_CI": 13.5783882874343,
         "Validation": "Validated"
        },
        {
         "Age": "0-14 years",
         "Cause": "Motor vehicle traffic crashes",
         "Data_value": 10,
         "Indicator": "Number",
         "Lower_CI": 3.80204967695438,
         "Period": "2011",
         "Population": "Children",
         "Series_reference": "m11",
         "Severity": "Fatal",
         "Type": "Single year",
         "Units": "Injuries",
         "Upper_CI": 16.1979503230456,
         "Validation": "Validated"
        },
        {
         "Age": "0-14 years",
         "Cause": "Motor vehicle traffic crashes",
         "Data_value": 10,
         "Indicator": "Number",
         "Lower_CI": 3.80204967695438,
         "Period": "2015",
         "Population": "Children",
         "Series_reference": "m11",
         "Severity": "Fatal",
         "Type": "Single year",
         "Units": "Injuries",
         "Upper_CI": 16.1979503230456,
         "Validation": "Validated"
        },
        {
         "Age": "0-14 years",
         "Cause": "Motor vehicle traffic crashes",
         "Data_value": 7,
         "Indicator": "Number",
         "Lower_CI": 1.81442271826377,
         "Period": "2013",
         "Population": "Children",
         "Series_reference": "m11",
         "Severity": "Fatal",
         "Type": "Single year",
         "Units": "Injuries",
         "Upper_CI": 12.1855772817362,
         "Validation": "Validated"
        }
       ],
       "schema": {
        "fields": [
         {
          "name": "Series_reference",
          "type": "string"
         },
         {
          "name": "Period",
          "type": "string"
         },
         {
          "name": "Type",
          "type": "string"
         },
         {
          "name": "Data_value",
          "type": "number"
         },
         {
          "name": "Lower_CI",
          "type": "number"
         },
         {
          "name": "Upper_CI",
          "type": "number"
         },
         {
          "name": "Units",
          "type": "string"
         },
         {
          "name": "Indicator",
          "type": "string"
         },
         {
          "name": "Cause",
          "type": "string"
         },
         {
          "name": "Validation",
          "type": "string"
         },
         {
          "name": "Population",
          "type": "string"
         },
         {
          "name": "Age",
          "type": "string"
         },
         {
          "name": "Severity",
          "type": "string"
         }
        ]
       }
      },
      "text/html": [
       "<table><thead><tr><th>Series_reference</th><th>Period</th><th>Type</th><th>Data_value</th><th>Lower_CI</th><th>Upper_CI</th><th>Units</th><th>Indicator</th><th>Cause</th><th>Validation</th><th>Population</th><th>Age</th><th>Severity</th></tr></thead><tbody><tr><td>String7&#40;&quot;C_IN01&quot;&#41;</td><td>String7&#40;&quot;2004-06&quot;&#41;</td><td>String15&#40;&quot;Moving average&quot;&#41;</td><td>40.0</td><td>32.8432</td><td>47.1568</td><td>&quot;Injuries&quot;</td><td>&quot;Number&quot;</td><td>String31&#40;&quot;Intentional&quot;&#41;</td><td>String15&#40;&quot;Validated&quot;&#41;</td><td>String15&#40;&quot;Children&quot;&#41;</td><td>String15&#40;&quot;0-14 years&quot;&#41;</td><td>String31&#40;&quot;Serious non-fatal&quot;&#41;</td></tr><tr><td>String7&#40;&quot;C_A21&quot;&#41;</td><td>String7&#40;&quot;2003-05&quot;&#41;</td><td>String15&#40;&quot;Moving average&quot;&#41;</td><td>40.0</td><td>32.8432</td><td>47.1568</td><td>&quot;Injuries&quot;</td><td>&quot;Number&quot;</td><td>String31&#40;&quot;Assault&quot;&#41;</td><td>String15&#40;&quot;Validated&quot;&#41;</td><td>String15&#40;&quot;Children&quot;&#41;</td><td>String15&#40;&quot;0-14 years&quot;&#41;</td><td>String31&#40;&quot;Serious&quot;&#41;</td></tr><tr><td>String7&#40;&quot;a11&quot;&#41;</td><td>String7&#40;&quot;2017&quot;&#41;</td><td>String15&#40;&quot;Single year&quot;&#41;</td><td>40.0</td><td>27.6041</td><td>52.3959</td><td>&quot;Injuries&quot;</td><td>&quot;Number&quot;</td><td>String31&#40;&quot;Assault&quot;&#41;</td><td>String15&#40;&quot;Validated&quot;&#41;</td><td>String15&#40;&quot;Whole pop&quot;&#41;</td><td>String15&#40;&quot;All ages&quot;&#41;</td><td>String31&#40;&quot;Fatal&quot;&#41;</td></tr><tr><td>String7&#40;&quot;in01&quot;&#41;</td><td>String7&#40;&quot;2005&quot;&#41;</td><td>String15&#40;&quot;Single year&quot;&#41;</td><td>40.0</td><td>27.6041</td><td>52.3959</td><td>&quot;Injuries&quot;</td><td>&quot;Number&quot;</td><td>String31&#40;&quot;Intentional&quot;&#41;</td><td>String15&#40;&quot;Validated&quot;&#41;</td><td>String15&#40;&quot;Children&quot;&#41;</td><td>String15&#40;&quot;0-14 years&quot;&#41;</td><td>String31&#40;&quot;Serious non-fatal&quot;&#41;</td></tr><tr><td>String7&#40;&quot;in01&quot;&#41;</td><td>String7&#40;&quot;2012&quot;&#41;</td><td>String15&#40;&quot;Single year&quot;&#41;</td><td>40.0</td><td>27.6041</td><td>52.3959</td><td>&quot;Injuries&quot;</td><td>&quot;Number&quot;</td><td>String31&#40;&quot;Intentional&quot;&#41;</td><td>String15&#40;&quot;Validated&quot;&#41;</td><td>String15&#40;&quot;Children&quot;&#41;</td><td>String15&#40;&quot;0-14 years&quot;&#41;</td><td>String31&#40;&quot;Serious non-fatal&quot;&#41;</td></tr><tr><td>String7&#40;&quot;in01&quot;&#41;</td><td>String7&#40;&quot;2016&quot;&#41;</td><td>String15&#40;&quot;Single year&quot;&#41;</td><td>40.0</td><td>27.6041</td><td>52.3959</td><td>&quot;Injuries&quot;</td><td>&quot;Number&quot;</td><td>String31&#40;&quot;Intentional&quot;&#41;</td><td>String15&#40;&quot;Validated&quot;&#41;</td><td>String15&#40;&quot;Children&quot;&#41;</td><td>String15&#40;&quot;0-14 years&quot;&#41;</td><td>String31&#40;&quot;Serious non-fatal&quot;&#41;</td></tr><tr><td>String7&#40;&quot;in01&quot;&#41;</td><td>String7&#40;&quot;2019&quot;&#41;</td><td>String15&#40;&quot;Single year&quot;&#41;</td><td>40.0</td><td>27.6041</td><td>52.3959</td><td>&quot;Injuries&quot;</td><td>&quot;Number&quot;</td><td>String31&#40;&quot;Intentional&quot;&#41;</td><td>String15&#40;&quot;Validated&quot;&#41;</td><td>String15&#40;&quot;Children&quot;&#41;</td><td>String15&#40;&quot;0-14 years&quot;&#41;</td><td>String31&#40;&quot;Serious non-fatal&quot;&#41;</td></tr><tr><td>String7&#40;&quot;a21&quot;&#41;</td><td>String7&#40;&quot;2017&quot;&#41;</td><td>String15&#40;&quot;Single year&quot;&#41;</td><td>40.0</td><td>27.6041</td><td>52.3959</td><td>&quot;Injuries&quot;</td><td>&quot;Number&quot;</td><td>String31&#40;&quot;Assault&quot;&#41;</td><td>String15&#40;&quot;Validated&quot;&#41;</td><td>String15&#40;&quot;Children&quot;&#41;</td><td>String15&#40;&quot;0-14 years&quot;&#41;</td><td>String31&#40;&quot;Serious&quot;&#41;</td></tr><tr><td>String7&#40;&quot;p21&quot;&#41;</td><td>String7&#40;&quot;2017&quot;&#41;</td><td>String15&#40;&quot;Single year&quot;&#41;</td><td>40.0</td><td>27.6041</td><td>52.3959</td><td>&quot;Injuries&quot;</td><td>&quot;Number&quot;</td><td>String31&#40;&quot;Pedestrian&quot;&#41;</td><td>String15&#40;&quot;Validated&quot;&#41;</td><td>String15&#40;&quot;Children&quot;&#41;</td><td>String15&#40;&quot;0-14 years&quot;&#41;</td><td>String31&#40;&quot;Serious&quot;&#41;</td></tr><tr><td>String7&#40;&quot;C_IN01&quot;&#41;</td><td>String7&#40;&quot;2011-13&quot;&#41;</td><td>String15&#40;&quot;Moving average&quot;&#41;</td><td>39.6667</td><td>32.5398</td><td>46.7936</td><td>&quot;Injuries&quot;</td><td>&quot;Number&quot;</td><td>String31&#40;&quot;Intentional&quot;&#41;</td><td>String15&#40;&quot;Validated&quot;&#41;</td><td>String15&#40;&quot;Children&quot;&#41;</td><td>String15&#40;&quot;0-14 years&quot;&#41;</td><td>String31&#40;&quot;Serious non-fatal&quot;&#41;</td></tr><tr><td>&vellip;</td><td>&vellip;</td><td>&vellip;</td><td>&vellip;</td><td>&vellip;</td><td>&vellip;</td><td>&vellip;</td><td>&vellip;</td><td>&vellip;</td><td>&vellip;</td><td>&vellip;</td><td>&vellip;</td><td>&vellip;</td></tr></tbody></table><p>... with more rows.</p>"
      ],
      "text/plain": [
       "?x13 query result\n",
       "Series_reference │ Period  │ Type           │ Data_value │ Lower_CI │ Upper_CI\n",
       "─────────────────┼─────────┼────────────────┼────────────┼──────────┼─────────\n",
       "C_IN01           │ 2004-06 │ Moving average │ 40.0       │ 32.8432  │ 47.1568 \n",
       "C_A21            │ 2003-05 │ Moving average │ 40.0       │ 32.8432  │ 47.1568 \n",
       "a11              │ 2017    │ Single year    │ 40.0       │ 27.6041  │ 52.3959 \n",
       "in01             │ 2005    │ Single year    │ 40.0       │ 27.6041  │ 52.3959 \n",
       "in01             │ 2012    │ Single year    │ 40.0       │ 27.6041  │ 52.3959 \n",
       "in01             │ 2016    │ Single year    │ 40.0       │ 27.6041  │ 52.3959 \n",
       "in01             │ 2019    │ Single year    │ 40.0       │ 27.6041  │ 52.3959 \n",
       "a21              │ 2017    │ Single year    │ 40.0       │ 27.6041  │ 52.3959 \n",
       "p21              │ 2017    │ Single year    │ 40.0       │ 27.6041  │ 52.3959 \n",
       "C_IN01           │ 2011-13 │ Moving average │ 39.6667    │ 32.5398  │ 46.7936 \n",
       "... with more rows, and 7 more columns: Units, Indicator, Cause, Validation, Population, Age, Severity"
      ]
     },
     "execution_count": 9,
     "metadata": {},
     "output_type": "execute_result"
    }
   ],
   "source": [
    "# Select only the ones that correspond to injuries\n",
    "q1 = df |>\n",
    "    @filter(_.Units == \"Injuries\" && _.Data_value <= 40.0) |>\n",
    "    @orderby_descending(_.Data_value)"
   ]
  },
  {
   "cell_type": "code",
   "execution_count": 10,
   "metadata": {},
   "outputs": [
    {
     "data": {
      "text/html": [
       "<div class=\"data-frame\"><p>94 rows × 13 columns (omitted printing of 6 columns)</p><table class=\"data-frame\"><thead><tr><th></th><th>Series_reference</th><th>Period</th><th>Type</th><th>Data_value</th><th>Lower_CI</th><th>Upper_CI</th><th>Units</th></tr><tr><th></th><th title=\"String7\">String7</th><th title=\"String7\">String7</th><th title=\"String15\">String15</th><th title=\"Float64\">Float64</th><th title=\"Float64\">Float64</th><th title=\"Float64\">Float64</th><th title=\"String\">String</th></tr></thead><tbody><tr><th>1</th><td>C_IN01</td><td>2004-06</td><td>Moving average</td><td>40.0</td><td>32.8432</td><td>47.1568</td><td>Injuries</td></tr><tr><th>2</th><td>C_A21</td><td>2003-05</td><td>Moving average</td><td>40.0</td><td>32.8432</td><td>47.1568</td><td>Injuries</td></tr><tr><th>3</th><td>a11</td><td>2017</td><td>Single year</td><td>40.0</td><td>27.6041</td><td>52.3959</td><td>Injuries</td></tr><tr><th>4</th><td>in01</td><td>2005</td><td>Single year</td><td>40.0</td><td>27.6041</td><td>52.3959</td><td>Injuries</td></tr><tr><th>5</th><td>in01</td><td>2012</td><td>Single year</td><td>40.0</td><td>27.6041</td><td>52.3959</td><td>Injuries</td></tr><tr><th>6</th><td>in01</td><td>2016</td><td>Single year</td><td>40.0</td><td>27.6041</td><td>52.3959</td><td>Injuries</td></tr><tr><th>7</th><td>in01</td><td>2019</td><td>Single year</td><td>40.0</td><td>27.6041</td><td>52.3959</td><td>Injuries</td></tr><tr><th>8</th><td>a21</td><td>2017</td><td>Single year</td><td>40.0</td><td>27.6041</td><td>52.3959</td><td>Injuries</td></tr><tr><th>9</th><td>p21</td><td>2017</td><td>Single year</td><td>40.0</td><td>27.6041</td><td>52.3959</td><td>Injuries</td></tr><tr><th>10</th><td>C_IN01</td><td>2011-13</td><td>Moving average</td><td>39.6667</td><td>32.5398</td><td>46.7936</td><td>Injuries</td></tr><tr><th>11</th><td>C_P21</td><td>2010-12</td><td>Moving average</td><td>39.6667</td><td>32.5398</td><td>46.7936</td><td>Injuries</td></tr><tr><th>12</th><td>C_P21</td><td>2015-17</td><td>Moving average</td><td>39.0</td><td>31.9332</td><td>46.0668</td><td>Injuries</td></tr><tr><th>13</th><td>C_P21</td><td>2016-18</td><td>Moving average</td><td>39.0</td><td>31.9332</td><td>46.0668</td><td>Injuries</td></tr><tr><th>14</th><td>f01c</td><td>2004</td><td>Single year</td><td>39.0</td><td>26.76</td><td>51.24</td><td>Injuries</td></tr><tr><th>15</th><td>in21</td><td>2013</td><td>Single year</td><td>39.0</td><td>26.76</td><td>51.24</td><td>Injuries</td></tr><tr><th>16</th><td>p21</td><td>2011</td><td>Single year</td><td>39.0</td><td>26.76</td><td>51.24</td><td>Injuries</td></tr><tr><th>17</th><td>C_IN01</td><td>2002-04</td><td>Moving average</td><td>38.6667</td><td>31.6302</td><td>45.7032</td><td>Injuries</td></tr><tr><th>18</th><td>C_P21</td><td>2012-14</td><td>Moving average</td><td>38.3333</td><td>31.3272</td><td>45.3394</td><td>Injuries</td></tr><tr><th>19</th><td>M_F01C</td><td>2003-05</td><td>Moving average</td><td>38.0</td><td>31.0244</td><td>44.9756</td><td>Injuries</td></tr><tr><th>20</th><td>M_F21C</td><td>2002-04</td><td>Moving average</td><td>38.0</td><td>31.0244</td><td>44.9756</td><td>Injuries</td></tr><tr><th>21</th><td>in01</td><td>2004</td><td>Single year</td><td>38.0</td><td>25.918</td><td>50.082</td><td>Injuries</td></tr><tr><th>22</th><td>C_A21</td><td>2011-13</td><td>Moving average</td><td>37.3333</td><td>30.4192</td><td>44.2474</td><td>Injuries</td></tr><tr><th>23</th><td>in01</td><td>2008</td><td>Single year</td><td>37.0</td><td>25.078</td><td>48.922</td><td>Injuries</td></tr><tr><th>24</th><td>in01</td><td>2013</td><td>Single year</td><td>37.0</td><td>25.078</td><td>48.922</td><td>Injuries</td></tr><tr><th>25</th><td>a21</td><td>2015</td><td>Single year</td><td>37.0</td><td>25.078</td><td>48.922</td><td>Injuries</td></tr><tr><th>26</th><td>p21</td><td>2013</td><td>Single year</td><td>37.0</td><td>25.078</td><td>48.922</td><td>Injuries</td></tr><tr><th>27</th><td>C_A21</td><td>2015-17</td><td>Moving average</td><td>36.0</td><td>29.2105</td><td>42.7895</td><td>Injuries</td></tr><tr><th>28</th><td>C_P21</td><td>2011-13</td><td>Moving average</td><td>36.0</td><td>29.2105</td><td>42.7895</td><td>Injuries</td></tr><tr><th>29</th><td>m11</td><td>2000</td><td>Single year</td><td>36.0</td><td>24.2402</td><td>47.7598</td><td>Injuries</td></tr><tr><th>30</th><td>a21</td><td>2000</td><td>Single year</td><td>36.0</td><td>24.2402</td><td>47.7598</td><td>Injuries</td></tr><tr><th>&vellip;</th><td>&vellip;</td><td>&vellip;</td><td>&vellip;</td><td>&vellip;</td><td>&vellip;</td><td>&vellip;</td><td>&vellip;</td></tr></tbody></table></div>"
      ],
      "text/latex": [
       "\\begin{tabular}{r|cccccccc}\n",
       "\t& Series\\_reference & Period & Type & Data\\_value & Lower\\_CI & Upper\\_CI & Units & \\\\\n",
       "\t\\hline\n",
       "\t& String7 & String7 & String15 & Float64 & Float64 & Float64 & String & \\\\\n",
       "\t\\hline\n",
       "\t1 & C\\_IN01 & 2004-06 & Moving average & 40.0 & 32.8432 & 47.1568 & Injuries & $\\dots$ \\\\\n",
       "\t2 & C\\_A21 & 2003-05 & Moving average & 40.0 & 32.8432 & 47.1568 & Injuries & $\\dots$ \\\\\n",
       "\t3 & a11 & 2017 & Single year & 40.0 & 27.6041 & 52.3959 & Injuries & $\\dots$ \\\\\n",
       "\t4 & in01 & 2005 & Single year & 40.0 & 27.6041 & 52.3959 & Injuries & $\\dots$ \\\\\n",
       "\t5 & in01 & 2012 & Single year & 40.0 & 27.6041 & 52.3959 & Injuries & $\\dots$ \\\\\n",
       "\t6 & in01 & 2016 & Single year & 40.0 & 27.6041 & 52.3959 & Injuries & $\\dots$ \\\\\n",
       "\t7 & in01 & 2019 & Single year & 40.0 & 27.6041 & 52.3959 & Injuries & $\\dots$ \\\\\n",
       "\t8 & a21 & 2017 & Single year & 40.0 & 27.6041 & 52.3959 & Injuries & $\\dots$ \\\\\n",
       "\t9 & p21 & 2017 & Single year & 40.0 & 27.6041 & 52.3959 & Injuries & $\\dots$ \\\\\n",
       "\t10 & C\\_IN01 & 2011-13 & Moving average & 39.6667 & 32.5398 & 46.7936 & Injuries & $\\dots$ \\\\\n",
       "\t11 & C\\_P21 & 2010-12 & Moving average & 39.6667 & 32.5398 & 46.7936 & Injuries & $\\dots$ \\\\\n",
       "\t12 & C\\_P21 & 2015-17 & Moving average & 39.0 & 31.9332 & 46.0668 & Injuries & $\\dots$ \\\\\n",
       "\t13 & C\\_P21 & 2016-18 & Moving average & 39.0 & 31.9332 & 46.0668 & Injuries & $\\dots$ \\\\\n",
       "\t14 & f01c & 2004 & Single year & 39.0 & 26.76 & 51.24 & Injuries & $\\dots$ \\\\\n",
       "\t15 & in21 & 2013 & Single year & 39.0 & 26.76 & 51.24 & Injuries & $\\dots$ \\\\\n",
       "\t16 & p21 & 2011 & Single year & 39.0 & 26.76 & 51.24 & Injuries & $\\dots$ \\\\\n",
       "\t17 & C\\_IN01 & 2002-04 & Moving average & 38.6667 & 31.6302 & 45.7032 & Injuries & $\\dots$ \\\\\n",
       "\t18 & C\\_P21 & 2012-14 & Moving average & 38.3333 & 31.3272 & 45.3394 & Injuries & $\\dots$ \\\\\n",
       "\t19 & M\\_F01C & 2003-05 & Moving average & 38.0 & 31.0244 & 44.9756 & Injuries & $\\dots$ \\\\\n",
       "\t20 & M\\_F21C & 2002-04 & Moving average & 38.0 & 31.0244 & 44.9756 & Injuries & $\\dots$ \\\\\n",
       "\t21 & in01 & 2004 & Single year & 38.0 & 25.918 & 50.082 & Injuries & $\\dots$ \\\\\n",
       "\t22 & C\\_A21 & 2011-13 & Moving average & 37.3333 & 30.4192 & 44.2474 & Injuries & $\\dots$ \\\\\n",
       "\t23 & in01 & 2008 & Single year & 37.0 & 25.078 & 48.922 & Injuries & $\\dots$ \\\\\n",
       "\t24 & in01 & 2013 & Single year & 37.0 & 25.078 & 48.922 & Injuries & $\\dots$ \\\\\n",
       "\t25 & a21 & 2015 & Single year & 37.0 & 25.078 & 48.922 & Injuries & $\\dots$ \\\\\n",
       "\t26 & p21 & 2013 & Single year & 37.0 & 25.078 & 48.922 & Injuries & $\\dots$ \\\\\n",
       "\t27 & C\\_A21 & 2015-17 & Moving average & 36.0 & 29.2105 & 42.7895 & Injuries & $\\dots$ \\\\\n",
       "\t28 & C\\_P21 & 2011-13 & Moving average & 36.0 & 29.2105 & 42.7895 & Injuries & $\\dots$ \\\\\n",
       "\t29 & m11 & 2000 & Single year & 36.0 & 24.2402 & 47.7598 & Injuries & $\\dots$ \\\\\n",
       "\t30 & a21 & 2000 & Single year & 36.0 & 24.2402 & 47.7598 & Injuries & $\\dots$ \\\\\n",
       "\t$\\dots$ & $\\dots$ & $\\dots$ & $\\dots$ & $\\dots$ & $\\dots$ & $\\dots$ & $\\dots$ &  \\\\\n",
       "\\end{tabular}\n"
      ],
      "text/plain": [
       "\u001b[1m94×13 DataFrame\u001b[0m\n",
       "\u001b[1m Row \u001b[0m│\u001b[1m Series_reference \u001b[0m\u001b[1m Period  \u001b[0m\u001b[1m Type           \u001b[0m\u001b[1m Data_value \u001b[0m\u001b[1m Lower_CI \u001b[0m\u001b[1m Upper_\u001b[0m ⋯\n",
       "\u001b[1m     \u001b[0m│\u001b[90m String7          \u001b[0m\u001b[90m String7 \u001b[0m\u001b[90m String15       \u001b[0m\u001b[90m Float64    \u001b[0m\u001b[90m Float64  \u001b[0m\u001b[90m Float6\u001b[0m ⋯\n",
       "─────┼──────────────────────────────────────────────────────────────────────────\n",
       "   1 │ C_IN01            2004-06  Moving average     40.0     32.8432    47.15 ⋯\n",
       "   2 │ C_A21             2003-05  Moving average     40.0     32.8432    47.15\n",
       "   3 │ a11               2017     Single year        40.0     27.6041    52.39\n",
       "   4 │ in01              2005     Single year        40.0     27.6041    52.39\n",
       "   5 │ in01              2012     Single year        40.0     27.6041    52.39 ⋯\n",
       "   6 │ in01              2016     Single year        40.0     27.6041    52.39\n",
       "   7 │ in01              2019     Single year        40.0     27.6041    52.39\n",
       "   8 │ a21               2017     Single year        40.0     27.6041    52.39\n",
       "   9 │ p21               2017     Single year        40.0     27.6041    52.39 ⋯\n",
       "  10 │ C_IN01            2011-13  Moving average     39.6667  32.5398    46.79\n",
       "  11 │ C_P21             2010-12  Moving average     39.6667  32.5398    46.79\n",
       "  ⋮  │        ⋮             ⋮           ⋮             ⋮          ⋮         ⋮   ⋱\n",
       "  85 │ m11               2014     Single year        13.0      5.93325   20.06\n",
       "  86 │ m11               2017     Single year        13.0      5.93325   20.06 ⋯\n",
       "  87 │ C_M11             2014-16  Moving average     12.6667   8.63932   16.69\n",
       "  88 │ C_M11             2015-17  Moving average     12.6667   8.63932   16.69\n",
       "  89 │ C_M11             2012-14  Moving average     11.3333   7.52385   15.14\n",
       "  90 │ C_M11             2011-13  Moving average     10.3333   6.69579   13.97 ⋯\n",
       "  91 │ C_M11             2013-15  Moving average     10.0      6.42161   13.57\n",
       "  92 │ m11               2011     Single year        10.0      3.80205   16.19\n",
       "  93 │ m11               2015     Single year        10.0      3.80205   16.19\n",
       "  94 │ m11               2013     Single year         7.0      1.81442   12.18 ⋯\n",
       "\u001b[36m                                                   8 columns and 73 rows omitted\u001b[0m"
      ]
     },
     "execution_count": 10,
     "metadata": {},
     "output_type": "execute_result"
    }
   ],
   "source": [
    "q1 |> DataFrame"
   ]
  },
  {
   "cell_type": "code",
   "execution_count": 56,
   "metadata": {},
   "outputs": [
    {
     "data": {
      "application/vnd.dataresource+json": {
       "data": [
        {
         "Age": "0-14 years",
         "Cause": "Intentional",
         "Data_value": 40,
         "Indicator": "Number",
         "Lower_CI": 32.8432234251313,
         "Period": "2004-06",
         "Population": "Children",
         "Series_reference": "C_IN01",
         "Severity": "Serious non-fatal",
         "Type": "Moving average",
         "Units": "Injuries",
         "Upper_CI": 47.1567765748686,
         "Validation": "Validated"
        },
        {
         "Age": "0-14 years",
         "Cause": "Assault",
         "Data_value": 40,
         "Indicator": "Number",
         "Lower_CI": 32.8432234251313,
         "Period": "2003-05",
         "Population": "Children",
         "Series_reference": "C_A21",
         "Severity": "Serious",
         "Type": "Moving average",
         "Units": "Injuries",
         "Upper_CI": 47.1567765748686,
         "Validation": "Validated"
        },
        {
         "Age": "All ages",
         "Cause": "Assault",
         "Data_value": 40,
         "Indicator": "Number",
         "Lower_CI": 27.6040993539087,
         "Period": "2017",
         "Population": "Whole pop",
         "Series_reference": "a11",
         "Severity": "Fatal",
         "Type": "Single year",
         "Units": "Injuries",
         "Upper_CI": 52.3959006460912,
         "Validation": "Validated"
        },
        {
         "Age": "0-14 years",
         "Cause": "Intentional",
         "Data_value": 40,
         "Indicator": "Number",
         "Lower_CI": 27.6040993539087,
         "Period": "2005",
         "Population": "Children",
         "Series_reference": "in01",
         "Severity": "Serious non-fatal",
         "Type": "Single year",
         "Units": "Injuries",
         "Upper_CI": 52.3959006460912,
         "Validation": "Validated"
        },
        {
         "Age": "0-14 years",
         "Cause": "Intentional",
         "Data_value": 40,
         "Indicator": "Number",
         "Lower_CI": 27.6040993539087,
         "Period": "2012",
         "Population": "Children",
         "Series_reference": "in01",
         "Severity": "Serious non-fatal",
         "Type": "Single year",
         "Units": "Injuries",
         "Upper_CI": 52.3959006460912,
         "Validation": "Validated"
        }
       ],
       "schema": {
        "fields": [
         {
          "name": "Series_reference",
          "type": "string"
         },
         {
          "name": "Period",
          "type": "string"
         },
         {
          "name": "Type",
          "type": "string"
         },
         {
          "name": "Data_value",
          "type": "number"
         },
         {
          "name": "Lower_CI",
          "type": "number"
         },
         {
          "name": "Upper_CI",
          "type": "number"
         },
         {
          "name": "Units",
          "type": "string"
         },
         {
          "name": "Indicator",
          "type": "string"
         },
         {
          "name": "Cause",
          "type": "string"
         },
         {
          "name": "Validation",
          "type": "string"
         },
         {
          "name": "Population",
          "type": "string"
         },
         {
          "name": "Age",
          "type": "string"
         },
         {
          "name": "Severity",
          "type": "string"
         }
        ]
       }
      },
      "text/html": [
       "<table><thead><tr><th>Series_reference</th><th>Period</th><th>Type</th><th>Data_value</th><th>Lower_CI</th><th>Upper_CI</th><th>Units</th><th>Indicator</th><th>Cause</th><th>Validation</th><th>Population</th><th>Age</th><th>Severity</th></tr></thead><tbody><tr><td>String7&#40;&quot;C_IN01&quot;&#41;</td><td>String7&#40;&quot;2004-06&quot;&#41;</td><td>String15&#40;&quot;Moving average&quot;&#41;</td><td>40.0</td><td>32.8432</td><td>47.1568</td><td>&quot;Injuries&quot;</td><td>&quot;Number&quot;</td><td>String31&#40;&quot;Intentional&quot;&#41;</td><td>String15&#40;&quot;Validated&quot;&#41;</td><td>String15&#40;&quot;Children&quot;&#41;</td><td>String15&#40;&quot;0-14 years&quot;&#41;</td><td>String31&#40;&quot;Serious non-fatal&quot;&#41;</td></tr><tr><td>String7&#40;&quot;C_A21&quot;&#41;</td><td>String7&#40;&quot;2003-05&quot;&#41;</td><td>String15&#40;&quot;Moving average&quot;&#41;</td><td>40.0</td><td>32.8432</td><td>47.1568</td><td>&quot;Injuries&quot;</td><td>&quot;Number&quot;</td><td>String31&#40;&quot;Assault&quot;&#41;</td><td>String15&#40;&quot;Validated&quot;&#41;</td><td>String15&#40;&quot;Children&quot;&#41;</td><td>String15&#40;&quot;0-14 years&quot;&#41;</td><td>String31&#40;&quot;Serious&quot;&#41;</td></tr><tr><td>String7&#40;&quot;a11&quot;&#41;</td><td>String7&#40;&quot;2017&quot;&#41;</td><td>String15&#40;&quot;Single year&quot;&#41;</td><td>40.0</td><td>27.6041</td><td>52.3959</td><td>&quot;Injuries&quot;</td><td>&quot;Number&quot;</td><td>String31&#40;&quot;Assault&quot;&#41;</td><td>String15&#40;&quot;Validated&quot;&#41;</td><td>String15&#40;&quot;Whole pop&quot;&#41;</td><td>String15&#40;&quot;All ages&quot;&#41;</td><td>String31&#40;&quot;Fatal&quot;&#41;</td></tr><tr><td>String7&#40;&quot;in01&quot;&#41;</td><td>String7&#40;&quot;2005&quot;&#41;</td><td>String15&#40;&quot;Single year&quot;&#41;</td><td>40.0</td><td>27.6041</td><td>52.3959</td><td>&quot;Injuries&quot;</td><td>&quot;Number&quot;</td><td>String31&#40;&quot;Intentional&quot;&#41;</td><td>String15&#40;&quot;Validated&quot;&#41;</td><td>String15&#40;&quot;Children&quot;&#41;</td><td>String15&#40;&quot;0-14 years&quot;&#41;</td><td>String31&#40;&quot;Serious non-fatal&quot;&#41;</td></tr><tr><td>String7&#40;&quot;in01&quot;&#41;</td><td>String7&#40;&quot;2012&quot;&#41;</td><td>String15&#40;&quot;Single year&quot;&#41;</td><td>40.0</td><td>27.6041</td><td>52.3959</td><td>&quot;Injuries&quot;</td><td>&quot;Number&quot;</td><td>String31&#40;&quot;Intentional&quot;&#41;</td><td>String15&#40;&quot;Validated&quot;&#41;</td><td>String15&#40;&quot;Children&quot;&#41;</td><td>String15&#40;&quot;0-14 years&quot;&#41;</td><td>String31&#40;&quot;Serious non-fatal&quot;&#41;</td></tr></tbody></table>"
      ],
      "text/plain": [
       "5x13 query result\n",
       "Series_reference │ Period  │ Type           │ Data_value │ Lower_CI │ Upper_CI\n",
       "─────────────────┼─────────┼────────────────┼────────────┼──────────┼─────────\n",
       "C_IN01           │ 2004-06 │ Moving average │ 40.0       │ 32.8432  │ 47.1568 \n",
       "C_A21            │ 2003-05 │ Moving average │ 40.0       │ 32.8432  │ 47.1568 \n",
       "a11              │ 2017    │ Single year    │ 40.0       │ 27.6041  │ 52.3959 \n",
       "in01             │ 2005    │ Single year    │ 40.0       │ 27.6041  │ 52.3959 \n",
       "in01             │ 2012    │ Single year    │ 40.0       │ 27.6041  │ 52.3959 \n",
       "... with 7 more columns: Units, Indicator, Cause, Validation, Population, Age, Severity"
      ]
     },
     "execution_count": 56,
     "metadata": {},
     "output_type": "execute_result"
    }
   ],
   "source": [
    "q1 |>\n",
    "    @take(5)"
   ]
  },
  {
   "cell_type": "code",
   "execution_count": 57,
   "metadata": {},
   "outputs": [
    {
     "data": {
      "text/plain": [
       "1000-element Vector{Int64}:\n",
       "       1\n",
       "       4\n",
       "       9\n",
       "      16\n",
       "      25\n",
       "      36\n",
       "      49\n",
       "      64\n",
       "      81\n",
       "     100\n",
       "     121\n",
       "     144\n",
       "     169\n",
       "       ⋮\n",
       "  978121\n",
       "  980100\n",
       "  982081\n",
       "  984064\n",
       "  986049\n",
       "  988036\n",
       "  990025\n",
       "  992016\n",
       "  994009\n",
       "  996004\n",
       "  998001\n",
       " 1000000"
      ]
     },
     "execution_count": 57,
     "metadata": {},
     "output_type": "execute_result"
    }
   ],
   "source": [
    "squares = (1:1000).^2"
   ]
  },
  {
   "cell_type": "code",
   "execution_count": 58,
   "metadata": {},
   "outputs": [
    {
     "data": {
      "text/plain": [
       "5-element Vector{Int64}:\n",
       " 1000000\n",
       "  998001\n",
       "  996004\n",
       "  994009\n",
       "  992016"
      ]
     },
     "execution_count": 58,
     "metadata": {},
     "output_type": "execute_result"
    }
   ],
   "source": [
    "reverse(squares[end-4:end])"
   ]
  },
  {
   "cell_type": "code",
   "execution_count": 59,
   "metadata": {},
   "outputs": [
    {
     "data": {
      "text/plain": [
       "Vector{Int64} (alias for Array{Int64, 1})"
      ]
     },
     "execution_count": 59,
     "metadata": {},
     "output_type": "execute_result"
    }
   ],
   "source": [
    "typeof(squares)"
   ]
  },
  {
   "cell_type": "code",
   "execution_count": 60,
   "metadata": {},
   "outputs": [
    {
     "data": {
      "text/plain": [
       "Dict{Int64, Int64} with 10 entries:\n",
       "  5  => 25\n",
       "  4  => 16\n",
       "  6  => 36\n",
       "  7  => 49\n",
       "  2  => 4\n",
       "  10 => 100\n",
       "  9  => 81\n",
       "  8  => 64\n",
       "  3  => 9\n",
       "  1  => 1"
      ]
     },
     "execution_count": 60,
     "metadata": {},
     "output_type": "execute_result"
    }
   ],
   "source": [
    "squares = 1:10 |>\n",
    "    @map(_=>_^2) |>\n",
    "    Dict"
   ]
  },
  {
   "cell_type": "code",
   "execution_count": 61,
   "metadata": {},
   "outputs": [
    {
     "data": {
      "application/vnd.dataresource+json": {
       "data": [
        {
         "num_squared": 1,
         "number": 1
        },
        {
         "num_squared": 4,
         "number": 2
        },
        {
         "num_squared": 9,
         "number": 3
        },
        {
         "num_squared": 16,
         "number": 4
        },
        {
         "num_squared": 25,
         "number": 5
        },
        {
         "num_squared": 36,
         "number": 6
        },
        {
         "num_squared": 49,
         "number": 7
        },
        {
         "num_squared": 64,
         "number": 8
        },
        {
         "num_squared": 81,
         "number": 9
        },
        {
         "num_squared": 100,
         "number": 10
        }
       ],
       "schema": {
        "fields": [
         {
          "name": "number",
          "type": "integer"
         },
         {
          "name": "num_squared",
          "type": "integer"
         }
        ]
       }
      },
      "text/html": [
       "<table><thead><tr><th>number</th><th>num_squared</th></tr></thead><tbody><tr><td>1</td><td>1</td></tr><tr><td>2</td><td>4</td></tr><tr><td>3</td><td>9</td></tr><tr><td>4</td><td>16</td></tr><tr><td>5</td><td>25</td></tr><tr><td>6</td><td>36</td></tr><tr><td>7</td><td>49</td></tr><tr><td>8</td><td>64</td></tr><tr><td>9</td><td>81</td></tr><tr><td>10</td><td>100</td></tr></tbody></table>"
      ],
      "text/plain": [
       "10x2 query result\n",
       "number │ num_squared\n",
       "───────┼────────────\n",
       "1      │ 1          \n",
       "2      │ 4          \n",
       "3      │ 9          \n",
       "4      │ 16         \n",
       "5      │ 25         \n",
       "6      │ 36         \n",
       "7      │ 49         \n",
       "8      │ 64         \n",
       "9      │ 81         \n",
       "10     │ 100        "
      ]
     },
     "execution_count": 61,
     "metadata": {},
     "output_type": "execute_result"
    }
   ],
   "source": [
    "# Named tuples\n",
    "1:10 |> @map({number=_, num_squared=_^2})"
   ]
  },
  {
   "cell_type": "code",
   "execution_count": 62,
   "metadata": {},
   "outputs": [
    {
     "data": {
      "text/plain": [
       "Dict{Int64, Int64}"
      ]
     },
     "execution_count": 62,
     "metadata": {},
     "output_type": "execute_result"
    }
   ],
   "source": [
    "typeof(squares)"
   ]
  },
  {
   "cell_type": "code",
   "execution_count": 63,
   "metadata": {},
   "outputs": [
    {
     "data": {
      "text/plain": [
       "25"
      ]
     },
     "execution_count": 63,
     "metadata": {},
     "output_type": "execute_result"
    }
   ],
   "source": [
    "squares[5]"
   ]
  },
  {
   "cell_type": "code",
   "execution_count": 1,
   "metadata": {},
   "outputs": [
    {
     "data": {
      "text/plain": [
       "Dict{Int64, Int64}()"
      ]
     },
     "metadata": {},
     "output_type": "display_data"
    }
   ],
   "source": [
    "x = Dict{Int64, Int64}()"
   ]
  },
  {
   "cell_type": "code",
   "execution_count": 2,
   "metadata": {},
   "outputs": [
    {
     "data": {
      "text/plain": [
       "Dict{Int64, Int64}()"
      ]
     },
     "metadata": {},
     "output_type": "display_data"
    }
   ],
   "source": [
    "x"
   ]
  },
  {
   "cell_type": "code",
   "execution_count": 3,
   "metadata": {},
   "outputs": [
    {
     "data": {
      "text/plain": [
       "5-element Vector{Int64}:\n",
       "  2\n",
       "  4\n",
       "  6\n",
       "  8\n",
       " 10"
      ]
     },
     "metadata": {},
     "output_type": "display_data"
    }
   ],
   "source": [
    "x = [1,2,3,4,5]\n",
    "y = [2,4,6,8,10]"
   ]
  },
  {
   "cell_type": "code",
   "execution_count": 4,
   "metadata": {},
   "outputs": [
    {
     "data": {
      "text/plain": [
       "Dict{Int64, Int64} with 5 entries:\n",
       "  5 => 10\n",
       "  4 => 8\n",
       "  2 => 4\n",
       "  3 => 6\n",
       "  1 => 2"
      ]
     },
     "metadata": {},
     "output_type": "display_data"
    }
   ],
   "source": [
    "z = Dict(zip(x,y))"
   ]
  },
  {
   "cell_type": "code",
   "execution_count": 6,
   "metadata": {},
   "outputs": [
    {
     "data": {
      "text/plain": [
       "Dict{Int64, Int64} with 5 entries:\n",
       "  5 => 10\n",
       "  4 => 8\n",
       "  2 => 4\n",
       "  3 => 6\n",
       "  1 => 2"
      ]
     },
     "metadata": {},
     "output_type": "display_data"
    }
   ],
   "source": [
    "z = Dict(x .=> y)"
   ]
  },
  {
   "cell_type": "code",
   "execution_count": 7,
   "metadata": {},
   "outputs": [
    {
     "name": "stdout",
     "output_type": "stream",
     "text": [
      "5\n",
      "4\n",
      "2\n",
      "3\n",
      "1\n"
     ]
    }
   ],
   "source": [
    "for k in keys(z)\n",
    "    println(k)\n",
    "end"
   ]
  },
  {
   "cell_type": "code",
   "execution_count": 8,
   "metadata": {},
   "outputs": [
    {
     "data": {
      "text/plain": [
       "KeySet for a Dict{Int64, Int64} with 5 entries. Keys:\n",
       "  5\n",
       "  4\n",
       "  2\n",
       "  3\n",
       "  1"
      ]
     },
     "metadata": {},
     "output_type": "display_data"
    }
   ],
   "source": [
    "# This will print the keyset but it is not a vector\n",
    "keys(z)"
   ]
  },
  {
   "cell_type": "code",
   "execution_count": 11,
   "metadata": {},
   "outputs": [
    {
     "data": {
      "text/plain": [
       "5-element Vector{Int64}:\n",
       " 5\n",
       " 4\n",
       " 2\n",
       " 3\n",
       " 1"
      ]
     },
     "metadata": {},
     "output_type": "display_data"
    }
   ],
   "source": [
    "# We use collect to create a vector\n",
    "k = collect(keys(z))\n",
    "k"
   ]
  },
  {
   "attachments": {},
   "cell_type": "markdown",
   "metadata": {},
   "source": [
    "Now we extract the corresponding values from the dictionary:"
   ]
  },
  {
   "cell_type": "code",
   "execution_count": 13,
   "metadata": {},
   "outputs": [
    {
     "data": {
      "text/plain": [
       "5-element Vector{Int64}:\n",
       " 10\n",
       "  8\n",
       "  4\n",
       "  6\n",
       "  2"
      ]
     },
     "metadata": {},
     "output_type": "display_data"
    }
   ],
   "source": [
    "v = collect(values(z))\n",
    "v"
   ]
  },
  {
   "cell_type": "code",
   "execution_count": 14,
   "metadata": {},
   "outputs": [
    {
     "data": {
      "text/plain": [
       "1000-element Vector{Int64}:\n",
       "       1\n",
       "       4\n",
       "       9\n",
       "      16\n",
       "      25\n",
       "      36\n",
       "      49\n",
       "      64\n",
       "      81\n",
       "     100\n",
       "       ⋮\n",
       "  984064\n",
       "  986049\n",
       "  988036\n",
       "  990025\n",
       "  992016\n",
       "  994009\n",
       "  996004\n",
       "  998001\n",
       " 1000000"
      ]
     },
     "metadata": {},
     "output_type": "display_data"
    }
   ],
   "source": [
    "# List comprehension\n",
    "i = [x^2 for x in 1:1000]"
   ]
  },
  {
   "cell_type": "code",
   "execution_count": 20,
   "metadata": {},
   "outputs": [
    {
     "name": "stdout",
     "output_type": "stream",
     "text": [
      "120\n"
     ]
    }
   ],
   "source": [
    "x = 1\n",
    "product = 1\n",
    "\n",
    "for x in 1:5\n",
    "    product = product * x\n",
    "end\n",
    "\n",
    "println(product)"
   ]
  },
  {
   "attachments": {},
   "cell_type": "markdown",
   "metadata": {},
   "source": [
    "Calculate the sum"
   ]
  },
  {
   "cell_type": "code",
   "execution_count": 22,
   "metadata": {},
   "outputs": [
    {
     "name": "stdout",
     "output_type": "stream",
     "text": [
      "15"
     ]
    }
   ],
   "source": [
    "x = 1\n",
    "sum = 0\n",
    "\n",
    "for x in 1:5\n",
    "    sum = sum + x\n",
    "end\n",
    "\n",
    "print(sum)"
   ]
  }
 ],
 "metadata": {
  "kernelspec": {
   "display_name": "Julia 1.7.2",
   "language": "julia",
   "name": "julia-1.7"
  },
  "language_info": {
   "file_extension": ".jl",
   "mimetype": "application/julia",
   "name": "julia",
   "version": "1.7.2"
  },
  "orig_nbformat": 4
 },
 "nbformat": 4,
 "nbformat_minor": 2
}
