{
 "cells": [
  {
   "cell_type": "code",
   "execution_count": 1,
   "metadata": {},
   "outputs": [],
   "source": [
    "#= This is a multi-line comment in Julia.\n",
    "Isn't it? =#"
   ]
  },
  {
   "attachments": {},
   "cell_type": "markdown",
   "metadata": {},
   "source": [
    "We install the required packages"
   ]
  },
  {
   "cell_type": "code",
   "execution_count": 2,
   "metadata": {},
   "outputs": [
    {
     "name": "stderr",
     "output_type": "stream",
     "text": [
      "\u001b[32m\u001b[1m   Resolving\u001b[22m\u001b[39m package versions...\n"
     ]
    },
    {
     "name": "stderr",
     "output_type": "stream",
     "text": [
      "\u001b[32m\u001b[1m  No Changes\u001b[22m\u001b[39m to `~/anaconda3/envs/julia_env/share/julia/environments/julia_env/Project.toml`\n",
      "\u001b[32m\u001b[1m  No Changes\u001b[22m\u001b[39m to `~/anaconda3/envs/julia_env/share/julia/environments/julia_env/Manifest.toml`\n"
     ]
    }
   ],
   "source": [
    "using Pkg\n",
    "Pkg.add(\"DataFrames\")"
   ]
  },
  {
   "cell_type": "code",
   "execution_count": 3,
   "metadata": {},
   "outputs": [
    {
     "name": "stderr",
     "output_type": "stream",
     "text": [
      "\u001b[32m\u001b[1m   Resolving\u001b[22m\u001b[39m package versions...\n"
     ]
    },
    {
     "name": "stderr",
     "output_type": "stream",
     "text": [
      "\u001b[32m\u001b[1m  No Changes\u001b[22m\u001b[39m to `~/anaconda3/envs/julia_env/share/julia/environments/julia_env/Project.toml`\n",
      "\u001b[32m\u001b[1m  No Changes\u001b[22m\u001b[39m to `~/anaconda3/envs/julia_env/share/julia/environments/julia_env/Manifest.toml`\n"
     ]
    },
    {
     "name": "stderr",
     "output_type": "stream",
     "text": [
      "\u001b[32m\u001b[1m   Resolving\u001b[22m\u001b[39m package versions...\n"
     ]
    },
    {
     "name": "stderr",
     "output_type": "stream",
     "text": [
      "\u001b[32m\u001b[1m  No Changes\u001b[22m\u001b[39m to `~/anaconda3/envs/julia_env/share/julia/environments/julia_env/Project.toml`\n",
      "\u001b[32m\u001b[1m  No Changes\u001b[22m\u001b[39m to `~/anaconda3/envs/julia_env/share/julia/environments/julia_env/Manifest.toml`\n"
     ]
    }
   ],
   "source": [
    "Pkg.add(\"CSV\")\n",
    "Pkg.add(\"Queryverse\")"
   ]
  },
  {
   "cell_type": "code",
   "execution_count": 4,
   "metadata": {},
   "outputs": [
    {
     "name": "stderr",
     "output_type": "stream",
     "text": [
      "\u001b[32m\u001b[1m   Resolving\u001b[22m\u001b[39m package versions...\n"
     ]
    },
    {
     "name": "stderr",
     "output_type": "stream",
     "text": [
      "\u001b[32m\u001b[1m  No Changes\u001b[22m\u001b[39m to `~/anaconda3/envs/julia_env/share/julia/environments/julia_env/Project.toml`\n",
      "\u001b[32m\u001b[1m  No Changes\u001b[22m\u001b[39m to `~/anaconda3/envs/julia_env/share/julia/environments/julia_env/Manifest.toml`\n"
     ]
    }
   ],
   "source": [
    "Pkg.add(\"Downloads\")"
   ]
  },
  {
   "cell_type": "code",
   "execution_count": 5,
   "metadata": {},
   "outputs": [],
   "source": [
    "# Load the required packages\n",
    "using DataFrames\n",
    "using CSV\n",
    "using Pkg\n",
    "using Queryverse"
   ]
  },
  {
   "cell_type": "code",
   "execution_count": 6,
   "metadata": {},
   "outputs": [
    {
     "name": "stderr",
     "output_type": "stream",
     "text": [
      "\u001b[32m\u001b[1m   Resolving\u001b[22m\u001b[39m package versions...\n"
     ]
    },
    {
     "name": "stderr",
     "output_type": "stream",
     "text": [
      "\u001b[32m\u001b[1m  No Changes\u001b[22m\u001b[39m to `~/anaconda3/envs/julia_env/share/julia/environments/julia_env/Project.toml`\n",
      "\u001b[32m\u001b[1m  No Changes\u001b[22m\u001b[39m to `~/anaconda3/envs/julia_env/share/julia/environments/julia_env/Manifest.toml`\n"
     ]
    }
   ],
   "source": [
    "Pkg.add(\"FreqTables\")"
   ]
  },
  {
   "cell_type": "code",
   "execution_count": 7,
   "metadata": {},
   "outputs": [],
   "source": [
    "using FreqTables # To calculate frequencies"
   ]
  },
  {
   "cell_type": "code",
   "execution_count": 8,
   "metadata": {},
   "outputs": [
    {
     "name": "stderr",
     "output_type": "stream",
     "text": [
      "\u001b[32m\u001b[1m   Resolving\u001b[22m\u001b[39m package versions...\n"
     ]
    },
    {
     "name": "stderr",
     "output_type": "stream",
     "text": [
      "\u001b[32m\u001b[1m  No Changes\u001b[22m\u001b[39m to `~/anaconda3/envs/julia_env/share/julia/environments/julia_env/Project.toml`\n",
      "\u001b[32m\u001b[1m  No Changes\u001b[22m\u001b[39m to `~/anaconda3/envs/julia_env/share/julia/environments/julia_env/Manifest.toml`\n"
     ]
    }
   ],
   "source": [
    "Pkg.add(\"Random\")"
   ]
  },
  {
   "cell_type": "code",
   "execution_count": 9,
   "metadata": {},
   "outputs": [],
   "source": [
    "using Random"
   ]
  },
  {
   "cell_type": "code",
   "execution_count": 10,
   "metadata": {},
   "outputs": [
    {
     "name": "stderr",
     "output_type": "stream",
     "text": [
      "\u001b[32m\u001b[1m   Resolving\u001b[22m\u001b[39m package versions...\n"
     ]
    },
    {
     "name": "stderr",
     "output_type": "stream",
     "text": [
      "\u001b[32m\u001b[1m  No Changes\u001b[22m\u001b[39m to `~/anaconda3/envs/julia_env/share/julia/environments/julia_env/Project.toml`\n",
      "\u001b[32m\u001b[1m  No Changes\u001b[22m\u001b[39m to `~/anaconda3/envs/julia_env/share/julia/environments/julia_env/Manifest.toml`\n"
     ]
    }
   ],
   "source": [
    "Pkg.add(\"InlineStrings\") # To generate memory-efficient large collections of strings"
   ]
  },
  {
   "cell_type": "code",
   "execution_count": 11,
   "metadata": {},
   "outputs": [],
   "source": [
    "using InlineStrings"
   ]
  },
  {
   "cell_type": "code",
   "execution_count": 12,
   "metadata": {},
   "outputs": [
    {
     "name": "stderr",
     "output_type": "stream",
     "text": [
      "\u001b[32m\u001b[1m   Resolving\u001b[22m\u001b[39m package versions...\n"
     ]
    },
    {
     "name": "stderr",
     "output_type": "stream",
     "text": [
      "\u001b[32m\u001b[1m  No Changes\u001b[22m\u001b[39m to `~/anaconda3/envs/julia_env/share/julia/environments/julia_env/Project.toml`\n",
      "\u001b[32m\u001b[1m  No Changes\u001b[22m\u001b[39m to `~/anaconda3/envs/julia_env/share/julia/environments/julia_env/Manifest.toml`\n"
     ]
    }
   ],
   "source": [
    "Pkg.add(\"Statistics\")"
   ]
  },
  {
   "cell_type": "code",
   "execution_count": 13,
   "metadata": {},
   "outputs": [],
   "source": [
    "using Statistics"
   ]
  },
  {
   "cell_type": "code",
   "execution_count": 14,
   "metadata": {},
   "outputs": [
    {
     "data": {
      "text/html": [
       "<div><div style = \"float: left;\"><span>2748×13 DataFrame</span></div><div style = \"float: right;\"><span style = \"font-style: italic;\">2723 rows omitted</span></div><div style = \"clear: both;\"></div></div><div class = \"data-frame\" style = \"overflow-x: scroll;\"><table class = \"data-frame\" style = \"margin-bottom: 6px;\"><thead><tr class = \"header\"><th class = \"rowNumber\" style = \"font-weight: bold; text-align: right;\">Row</th><th style = \"text-align: left;\">Series_reference</th><th style = \"text-align: left;\">Period</th><th style = \"text-align: left;\">Type</th><th style = \"text-align: left;\">Data_value</th><th style = \"text-align: left;\">Lower_CI</th><th style = \"text-align: left;\">Upper_CI</th><th style = \"text-align: left;\">Units</th><th style = \"text-align: left;\">Indicator</th><th style = \"text-align: left;\">Cause</th><th style = \"text-align: left;\">Validation</th><th style = \"text-align: left;\">Population</th><th style = \"text-align: left;\">Age</th><th style = \"text-align: left;\">Severity</th></tr><tr class = \"subheader headerLastRow\"><th class = \"rowNumber\" style = \"font-weight: bold; text-align: right;\"></th><th title = \"String7\" style = \"text-align: left;\">String7</th><th title = \"String7\" style = \"text-align: left;\">String7</th><th title = \"String15\" style = \"text-align: left;\">String15</th><th title = \"Float64\" style = \"text-align: left;\">Float64</th><th title = \"Float64\" style = \"text-align: left;\">Float64</th><th title = \"Float64\" style = \"text-align: left;\">Float64</th><th title = \"String\" style = \"text-align: left;\">String</th><th title = \"String\" style = \"text-align: left;\">String</th><th title = \"String31\" style = \"text-align: left;\">String31</th><th title = \"String15\" style = \"text-align: left;\">String15</th><th title = \"String15\" style = \"text-align: left;\">String15</th><th title = \"String15\" style = \"text-align: left;\">String15</th><th title = \"String31\" style = \"text-align: left;\">String31</th></tr></thead><tbody><tr><td class = \"rowNumber\" style = \"font-weight: bold; text-align: right;\">1</td><td style = \"text-align: left;\">W_A11</td><td style = \"text-align: left;\">2000-02</td><td style = \"text-align: left;\">Moving average</td><td style = \"text-align: right;\">59.6667</td><td style = \"text-align: right;\">50.9258</td><td style = \"text-align: right;\">68.4075</td><td style = \"text-align: left;\">Injuries</td><td style = \"text-align: left;\">Number</td><td style = \"text-align: left;\">Assault</td><td style = \"text-align: left;\">Validated</td><td style = \"text-align: left;\">Whole pop</td><td style = \"text-align: left;\">All ages</td><td style = \"text-align: left;\">Fatal</td></tr><tr><td class = \"rowNumber\" style = \"font-weight: bold; text-align: right;\">2</td><td style = \"text-align: left;\">W_A11</td><td style = \"text-align: left;\">2001-03</td><td style = \"text-align: left;\">Moving average</td><td style = \"text-align: right;\">60.0</td><td style = \"text-align: right;\">51.2348</td><td style = \"text-align: right;\">68.7652</td><td style = \"text-align: left;\">Injuries</td><td style = \"text-align: left;\">Number</td><td style = \"text-align: left;\">Assault</td><td style = \"text-align: left;\">Validated</td><td style = \"text-align: left;\">Whole pop</td><td style = \"text-align: left;\">All ages</td><td style = \"text-align: left;\">Fatal</td></tr><tr><td class = \"rowNumber\" style = \"font-weight: bold; text-align: right;\">3</td><td style = \"text-align: left;\">W_A11</td><td style = \"text-align: left;\">2002-04</td><td style = \"text-align: left;\">Moving average</td><td style = \"text-align: right;\">59.0</td><td style = \"text-align: right;\">50.3081</td><td style = \"text-align: right;\">67.6919</td><td style = \"text-align: left;\">Injuries</td><td style = \"text-align: left;\">Number</td><td style = \"text-align: left;\">Assault</td><td style = \"text-align: left;\">Validated</td><td style = \"text-align: left;\">Whole pop</td><td style = \"text-align: left;\">All ages</td><td style = \"text-align: left;\">Fatal</td></tr><tr><td class = \"rowNumber\" style = \"font-weight: bold; text-align: right;\">4</td><td style = \"text-align: left;\">W_A11</td><td style = \"text-align: left;\">2003-05</td><td style = \"text-align: left;\">Moving average</td><td style = \"text-align: right;\">59.0</td><td style = \"text-align: right;\">50.3081</td><td style = \"text-align: right;\">67.6919</td><td style = \"text-align: left;\">Injuries</td><td style = \"text-align: left;\">Number</td><td style = \"text-align: left;\">Assault</td><td style = \"text-align: left;\">Validated</td><td style = \"text-align: left;\">Whole pop</td><td style = \"text-align: left;\">All ages</td><td style = \"text-align: left;\">Fatal</td></tr><tr><td class = \"rowNumber\" style = \"font-weight: bold; text-align: right;\">5</td><td style = \"text-align: left;\">W_A11</td><td style = \"text-align: left;\">2004-06</td><td style = \"text-align: left;\">Moving average</td><td style = \"text-align: right;\">61.3333</td><td style = \"text-align: right;\">52.4713</td><td style = \"text-align: right;\">70.1954</td><td style = \"text-align: left;\">Injuries</td><td style = \"text-align: left;\">Number</td><td style = \"text-align: left;\">Assault</td><td style = \"text-align: left;\">Validated</td><td style = \"text-align: left;\">Whole pop</td><td style = \"text-align: left;\">All ages</td><td style = \"text-align: left;\">Fatal</td></tr><tr><td class = \"rowNumber\" style = \"font-weight: bold; text-align: right;\">6</td><td style = \"text-align: left;\">W_A11</td><td style = \"text-align: left;\">2005-07</td><td style = \"text-align: left;\">Moving average</td><td style = \"text-align: right;\">63.0</td><td style = \"text-align: right;\">54.0183</td><td style = \"text-align: right;\">71.9817</td><td style = \"text-align: left;\">Injuries</td><td style = \"text-align: left;\">Number</td><td style = \"text-align: left;\">Assault</td><td style = \"text-align: left;\">Validated</td><td style = \"text-align: left;\">Whole pop</td><td style = \"text-align: left;\">All ages</td><td style = \"text-align: left;\">Fatal</td></tr><tr><td class = \"rowNumber\" style = \"font-weight: bold; text-align: right;\">7</td><td style = \"text-align: left;\">W_A11</td><td style = \"text-align: left;\">2006-08</td><td style = \"text-align: left;\">Moving average</td><td style = \"text-align: right;\">57.3333</td><td style = \"text-align: right;\">48.7651</td><td style = \"text-align: right;\">65.9016</td><td style = \"text-align: left;\">Injuries</td><td style = \"text-align: left;\">Number</td><td style = \"text-align: left;\">Assault</td><td style = \"text-align: left;\">Validated</td><td style = \"text-align: left;\">Whole pop</td><td style = \"text-align: left;\">All ages</td><td style = \"text-align: left;\">Fatal</td></tr><tr><td class = \"rowNumber\" style = \"font-weight: bold; text-align: right;\">8</td><td style = \"text-align: left;\">W_A11</td><td style = \"text-align: left;\">2007-09</td><td style = \"text-align: left;\">Moving average</td><td style = \"text-align: right;\">63.6667</td><td style = \"text-align: right;\">54.6376</td><td style = \"text-align: right;\">72.6957</td><td style = \"text-align: left;\">Injuries</td><td style = \"text-align: left;\">Number</td><td style = \"text-align: left;\">Assault</td><td style = \"text-align: left;\">Validated</td><td style = \"text-align: left;\">Whole pop</td><td style = \"text-align: left;\">All ages</td><td style = \"text-align: left;\">Fatal</td></tr><tr><td class = \"rowNumber\" style = \"font-weight: bold; text-align: right;\">9</td><td style = \"text-align: left;\">W_A11</td><td style = \"text-align: left;\">2008-10</td><td style = \"text-align: left;\">Moving average</td><td style = \"text-align: right;\">64.0</td><td style = \"text-align: right;\">54.9473</td><td style = \"text-align: right;\">73.0527</td><td style = \"text-align: left;\">Injuries</td><td style = \"text-align: left;\">Number</td><td style = \"text-align: left;\">Assault</td><td style = \"text-align: left;\">Validated</td><td style = \"text-align: left;\">Whole pop</td><td style = \"text-align: left;\">All ages</td><td style = \"text-align: left;\">Fatal</td></tr><tr><td class = \"rowNumber\" style = \"font-weight: bold; text-align: right;\">10</td><td style = \"text-align: left;\">W_A11</td><td style = \"text-align: left;\">2009-11</td><td style = \"text-align: left;\">Moving average</td><td style = \"text-align: right;\">64.3333</td><td style = \"text-align: right;\">55.2571</td><td style = \"text-align: right;\">73.4096</td><td style = \"text-align: left;\">Injuries</td><td style = \"text-align: left;\">Number</td><td style = \"text-align: left;\">Assault</td><td style = \"text-align: left;\">Validated</td><td style = \"text-align: left;\">Whole pop</td><td style = \"text-align: left;\">All ages</td><td style = \"text-align: left;\">Fatal</td></tr><tr><td class = \"rowNumber\" style = \"font-weight: bold; text-align: right;\">11</td><td style = \"text-align: left;\">W_A11</td><td style = \"text-align: left;\">2010-12</td><td style = \"text-align: left;\">Moving average</td><td style = \"text-align: right;\">55.3333</td><td style = \"text-align: right;\">46.9159</td><td style = \"text-align: right;\">63.7508</td><td style = \"text-align: left;\">Injuries</td><td style = \"text-align: left;\">Number</td><td style = \"text-align: left;\">Assault</td><td style = \"text-align: left;\">Validated</td><td style = \"text-align: left;\">Whole pop</td><td style = \"text-align: left;\">All ages</td><td style = \"text-align: left;\">Fatal</td></tr><tr><td class = \"rowNumber\" style = \"font-weight: bold; text-align: right;\">12</td><td style = \"text-align: left;\">W_A11</td><td style = \"text-align: left;\">2011-13</td><td style = \"text-align: left;\">Moving average</td><td style = \"text-align: right;\">54.3333</td><td style = \"text-align: right;\">45.9923</td><td style = \"text-align: right;\">62.6744</td><td style = \"text-align: left;\">Injuries</td><td style = \"text-align: left;\">Number</td><td style = \"text-align: left;\">Assault</td><td style = \"text-align: left;\">Validated</td><td style = \"text-align: left;\">Whole pop</td><td style = \"text-align: left;\">All ages</td><td style = \"text-align: left;\">Fatal</td></tr><tr><td class = \"rowNumber\" style = \"font-weight: bold; text-align: right;\">13</td><td style = \"text-align: left;\">W_A11</td><td style = \"text-align: left;\">2012-14</td><td style = \"text-align: left;\">Moving average</td><td style = \"text-align: right;\">51.3333</td><td style = \"text-align: right;\">43.2258</td><td style = \"text-align: right;\">59.4408</td><td style = \"text-align: left;\">Injuries</td><td style = \"text-align: left;\">Number</td><td style = \"text-align: left;\">Assault</td><td style = \"text-align: left;\">Validated</td><td style = \"text-align: left;\">Whole pop</td><td style = \"text-align: left;\">All ages</td><td style = \"text-align: left;\">Fatal</td></tr><tr><td style = \"text-align: right;\">&vellip;</td><td style = \"text-align: right;\">&vellip;</td><td style = \"text-align: right;\">&vellip;</td><td style = \"text-align: right;\">&vellip;</td><td style = \"text-align: right;\">&vellip;</td><td style = \"text-align: right;\">&vellip;</td><td style = \"text-align: right;\">&vellip;</td><td style = \"text-align: right;\">&vellip;</td><td style = \"text-align: right;\">&vellip;</td><td style = \"text-align: right;\">&vellip;</td><td style = \"text-align: right;\">&vellip;</td><td style = \"text-align: right;\">&vellip;</td><td style = \"text-align: right;\">&vellip;</td><td style = \"text-align: right;\">&vellip;</td></tr><tr><td class = \"rowNumber\" style = \"font-weight: bold; text-align: right;\">2737</td><td style = \"text-align: left;\">p21</td><td style = \"text-align: left;\">2007</td><td style = \"text-align: left;\">Single year</td><td style = \"text-align: right;\">51.0</td><td style = \"text-align: right;\">37.0031</td><td style = \"text-align: right;\">64.9969</td><td style = \"text-align: left;\">Injuries</td><td style = \"text-align: left;\">Number</td><td style = \"text-align: left;\">Pedestrian</td><td style = \"text-align: left;\">Validated</td><td style = \"text-align: left;\">Children</td><td style = \"text-align: left;\">0-14 years</td><td style = \"text-align: left;\">Serious</td></tr><tr><td class = \"rowNumber\" style = \"font-weight: bold; text-align: right;\">2738</td><td style = \"text-align: left;\">p21</td><td style = \"text-align: left;\">2008</td><td style = \"text-align: left;\">Single year</td><td style = \"text-align: right;\">34.0</td><td style = \"text-align: right;\">22.5715</td><td style = \"text-align: right;\">45.4285</td><td style = \"text-align: left;\">Injuries</td><td style = \"text-align: left;\">Number</td><td style = \"text-align: left;\">Pedestrian</td><td style = \"text-align: left;\">Validated</td><td style = \"text-align: left;\">Children</td><td style = \"text-align: left;\">0-14 years</td><td style = \"text-align: left;\">Serious</td></tr><tr><td class = \"rowNumber\" style = \"font-weight: bold; text-align: right;\">2739</td><td style = \"text-align: left;\">p21</td><td style = \"text-align: left;\">2009</td><td style = \"text-align: left;\">Single year</td><td style = \"text-align: right;\">41.0</td><td style = \"text-align: right;\">28.4501</td><td style = \"text-align: right;\">53.5499</td><td style = \"text-align: left;\">Injuries</td><td style = \"text-align: left;\">Number</td><td style = \"text-align: left;\">Pedestrian</td><td style = \"text-align: left;\">Validated</td><td style = \"text-align: left;\">Children</td><td style = \"text-align: left;\">0-14 years</td><td style = \"text-align: left;\">Serious</td></tr><tr><td class = \"rowNumber\" style = \"font-weight: bold; text-align: right;\">2740</td><td style = \"text-align: left;\">p21</td><td style = \"text-align: left;\">2010</td><td style = \"text-align: left;\">Single year</td><td style = \"text-align: right;\">48.0</td><td style = \"text-align: right;\">34.421</td><td style = \"text-align: right;\">61.579</td><td style = \"text-align: left;\">Injuries</td><td style = \"text-align: left;\">Number</td><td style = \"text-align: left;\">Pedestrian</td><td style = \"text-align: left;\">Validated</td><td style = \"text-align: left;\">Children</td><td style = \"text-align: left;\">0-14 years</td><td style = \"text-align: left;\">Serious</td></tr><tr><td class = \"rowNumber\" style = \"font-weight: bold; text-align: right;\">2741</td><td style = \"text-align: left;\">p21</td><td style = \"text-align: left;\">2011</td><td style = \"text-align: left;\">Single year</td><td style = \"text-align: right;\">39.0</td><td style = \"text-align: right;\">26.76</td><td style = \"text-align: right;\">51.24</td><td style = \"text-align: left;\">Injuries</td><td style = \"text-align: left;\">Number</td><td style = \"text-align: left;\">Pedestrian</td><td style = \"text-align: left;\">Validated</td><td style = \"text-align: left;\">Children</td><td style = \"text-align: left;\">0-14 years</td><td style = \"text-align: left;\">Serious</td></tr><tr><td class = \"rowNumber\" style = \"font-weight: bold; text-align: right;\">2742</td><td style = \"text-align: left;\">p21</td><td style = \"text-align: left;\">2012</td><td style = \"text-align: left;\">Single year</td><td style = \"text-align: right;\">32.0</td><td style = \"text-align: right;\">20.9128</td><td style = \"text-align: right;\">43.0872</td><td style = \"text-align: left;\">Injuries</td><td style = \"text-align: left;\">Number</td><td style = \"text-align: left;\">Pedestrian</td><td style = \"text-align: left;\">Validated</td><td style = \"text-align: left;\">Children</td><td style = \"text-align: left;\">0-14 years</td><td style = \"text-align: left;\">Serious</td></tr><tr><td class = \"rowNumber\" style = \"font-weight: bold; text-align: right;\">2743</td><td style = \"text-align: left;\">p21</td><td style = \"text-align: left;\">2013</td><td style = \"text-align: left;\">Single year</td><td style = \"text-align: right;\">37.0</td><td style = \"text-align: right;\">25.078</td><td style = \"text-align: right;\">48.922</td><td style = \"text-align: left;\">Injuries</td><td style = \"text-align: left;\">Number</td><td style = \"text-align: left;\">Pedestrian</td><td style = \"text-align: left;\">Validated</td><td style = \"text-align: left;\">Children</td><td style = \"text-align: left;\">0-14 years</td><td style = \"text-align: left;\">Serious</td></tr><tr><td class = \"rowNumber\" style = \"font-weight: bold; text-align: right;\">2744</td><td style = \"text-align: left;\">p21</td><td style = \"text-align: left;\">2014</td><td style = \"text-align: left;\">Single year</td><td style = \"text-align: right;\">46.0</td><td style = \"text-align: right;\">32.7069</td><td style = \"text-align: right;\">59.2931</td><td style = \"text-align: left;\">Injuries</td><td style = \"text-align: left;\">Number</td><td style = \"text-align: left;\">Pedestrian</td><td style = \"text-align: left;\">Validated</td><td style = \"text-align: left;\">Children</td><td style = \"text-align: left;\">0-14 years</td><td style = \"text-align: left;\">Serious</td></tr><tr><td class = \"rowNumber\" style = \"font-weight: bold; text-align: right;\">2745</td><td style = \"text-align: left;\">p21</td><td style = \"text-align: left;\">2015</td><td style = \"text-align: left;\">Single year</td><td style = \"text-align: right;\">41.0</td><td style = \"text-align: right;\">28.4501</td><td style = \"text-align: right;\">53.5499</td><td style = \"text-align: left;\">Injuries</td><td style = \"text-align: left;\">Number</td><td style = \"text-align: left;\">Pedestrian</td><td style = \"text-align: left;\">Validated</td><td style = \"text-align: left;\">Children</td><td style = \"text-align: left;\">0-14 years</td><td style = \"text-align: left;\">Serious</td></tr><tr><td class = \"rowNumber\" style = \"font-weight: bold; text-align: right;\">2746</td><td style = \"text-align: left;\">p21</td><td style = \"text-align: left;\">2016</td><td style = \"text-align: left;\">Single year</td><td style = \"text-align: right;\">36.0</td><td style = \"text-align: right;\">24.2402</td><td style = \"text-align: right;\">47.7598</td><td style = \"text-align: left;\">Injuries</td><td style = \"text-align: left;\">Number</td><td style = \"text-align: left;\">Pedestrian</td><td style = \"text-align: left;\">Validated</td><td style = \"text-align: left;\">Children</td><td style = \"text-align: left;\">0-14 years</td><td style = \"text-align: left;\">Serious</td></tr><tr><td class = \"rowNumber\" style = \"font-weight: bold; text-align: right;\">2747</td><td style = \"text-align: left;\">p21</td><td style = \"text-align: left;\">2017</td><td style = \"text-align: left;\">Single year</td><td style = \"text-align: right;\">40.0</td><td style = \"text-align: right;\">27.6041</td><td style = \"text-align: right;\">52.3959</td><td style = \"text-align: left;\">Injuries</td><td style = \"text-align: left;\">Number</td><td style = \"text-align: left;\">Pedestrian</td><td style = \"text-align: left;\">Validated</td><td style = \"text-align: left;\">Children</td><td style = \"text-align: left;\">0-14 years</td><td style = \"text-align: left;\">Serious</td></tr><tr><td class = \"rowNumber\" style = \"font-weight: bold; text-align: right;\">2748</td><td style = \"text-align: left;\">p21</td><td style = \"text-align: left;\">2018</td><td style = \"text-align: left;\">Single year</td><td style = \"text-align: right;\">41.0</td><td style = \"text-align: right;\">28.4501</td><td style = \"text-align: right;\">53.5499</td><td style = \"text-align: left;\">Injuries</td><td style = \"text-align: left;\">Number</td><td style = \"text-align: left;\">Pedestrian</td><td style = \"text-align: left;\">Validated</td><td style = \"text-align: left;\">Children</td><td style = \"text-align: left;\">0-14 years</td><td style = \"text-align: left;\">Serious</td></tr></tbody></table></div>"
      ],
      "text/latex": [
       "\\begin{tabular}{r|cccccccc}\n",
       "\t& Series\\_reference & Period & Type & Data\\_value & Lower\\_CI & Upper\\_CI & Units & \\\\\n",
       "\t\\hline\n",
       "\t& String7 & String7 & String15 & Float64 & Float64 & Float64 & String & \\\\\n",
       "\t\\hline\n",
       "\t1 & W\\_A11 & 2000-02 & Moving average & 59.6667 & 50.9258 & 68.4075 & Injuries & $\\dots$ \\\\\n",
       "\t2 & W\\_A11 & 2001-03 & Moving average & 60.0 & 51.2348 & 68.7652 & Injuries & $\\dots$ \\\\\n",
       "\t3 & W\\_A11 & 2002-04 & Moving average & 59.0 & 50.3081 & 67.6919 & Injuries & $\\dots$ \\\\\n",
       "\t4 & W\\_A11 & 2003-05 & Moving average & 59.0 & 50.3081 & 67.6919 & Injuries & $\\dots$ \\\\\n",
       "\t5 & W\\_A11 & 2004-06 & Moving average & 61.3333 & 52.4713 & 70.1954 & Injuries & $\\dots$ \\\\\n",
       "\t6 & W\\_A11 & 2005-07 & Moving average & 63.0 & 54.0183 & 71.9817 & Injuries & $\\dots$ \\\\\n",
       "\t7 & W\\_A11 & 2006-08 & Moving average & 57.3333 & 48.7651 & 65.9016 & Injuries & $\\dots$ \\\\\n",
       "\t8 & W\\_A11 & 2007-09 & Moving average & 63.6667 & 54.6376 & 72.6957 & Injuries & $\\dots$ \\\\\n",
       "\t9 & W\\_A11 & 2008-10 & Moving average & 64.0 & 54.9473 & 73.0527 & Injuries & $\\dots$ \\\\\n",
       "\t10 & W\\_A11 & 2009-11 & Moving average & 64.3333 & 55.2571 & 73.4096 & Injuries & $\\dots$ \\\\\n",
       "\t11 & W\\_A11 & 2010-12 & Moving average & 55.3333 & 46.9159 & 63.7508 & Injuries & $\\dots$ \\\\\n",
       "\t12 & W\\_A11 & 2011-13 & Moving average & 54.3333 & 45.9923 & 62.6744 & Injuries & $\\dots$ \\\\\n",
       "\t13 & W\\_A11 & 2012-14 & Moving average & 51.3333 & 43.2258 & 59.4408 & Injuries & $\\dots$ \\\\\n",
       "\t14 & W\\_A11 & 2013-15 & Moving average & 52.0 & 43.84 & 60.16 & Injuries & $\\dots$ \\\\\n",
       "\t15 & W\\_A11 & 2014-16 & Moving average & 54.0 & 45.6846 & 62.3154 & Injuries & $\\dots$ \\\\\n",
       "\t16 & W\\_A11 & 2015-17 & Moving average & 52.3333 & 44.1472 & 60.5194 & Injuries & $\\dots$ \\\\\n",
       "\t17 & W\\_A11 & 2016-18 & Moving average & 53.3333 & 45.0694 & 61.5973 & Injuries & $\\dots$ \\\\\n",
       "\t18 & W\\_A12 & 2000-02 & Moving average & 1.54334 & 1.31706 & 1.76962 & Per 100,000 people & $\\dots$ \\\\\n",
       "\t19 & W\\_A12 & 2001-03 & Moving average & 1.52551 & 1.30261 & 1.74841 & Per 100,000 people & $\\dots$ \\\\\n",
       "\t20 & W\\_A12 & 2002-04 & Moving average & 1.46486 & 1.24905 & 1.68066 & Per 100,000 people & $\\dots$ \\\\\n",
       "\t21 & W\\_A12 & 2003-05 & Moving average & 1.44434 & 1.23154 & 1.65714 & Per 100,000 people & $\\dots$ \\\\\n",
       "\t22 & W\\_A12 & 2004-06 & Moving average & 1.48814 & 1.27303 & 1.70324 & Per 100,000 people & $\\dots$ \\\\\n",
       "\t23 & W\\_A12 & 2005-07 & Moving average & 1.50869 & 1.29341 & 1.72398 & Per 100,000 people & $\\dots$ \\\\\n",
       "\t24 & W\\_A12 & 2006-08 & Moving average & 1.35602 & 1.15307 & 1.55898 & Per 100,000 people & $\\dots$ \\\\\n",
       "\t$\\dots$ & $\\dots$ & $\\dots$ & $\\dots$ & $\\dots$ & $\\dots$ & $\\dots$ & $\\dots$ &  \\\\\n",
       "\\end{tabular}\n"
      ],
      "text/plain": [
       "\u001b[1m2748×13 DataFrame\u001b[0m\n",
       "\u001b[1m  Row \u001b[0m│\u001b[1m Series_reference \u001b[0m\u001b[1m Period  \u001b[0m\u001b[1m Type           \u001b[0m\u001b[1m Data_value \u001b[0m\u001b[1m Lower_CI \u001b[0m\u001b[1m Upper\u001b[0m ⋯\n",
       "      │\u001b[90m String7          \u001b[0m\u001b[90m String7 \u001b[0m\u001b[90m String15       \u001b[0m\u001b[90m Float64    \u001b[0m\u001b[90m Float64  \u001b[0m\u001b[90m Float\u001b[0m ⋯\n",
       "──────┼─────────────────────────────────────────────────────────────────────────\n",
       "    1 │ W_A11             2000-02  Moving average     59.6667   50.9258   68.4 ⋯\n",
       "    2 │ W_A11             2001-03  Moving average     60.0      51.2348   68.7\n",
       "    3 │ W_A11             2002-04  Moving average     59.0      50.3081   67.6\n",
       "    4 │ W_A11             2003-05  Moving average     59.0      50.3081   67.6\n",
       "    5 │ W_A11             2004-06  Moving average     61.3333   52.4713   70.1 ⋯\n",
       "    6 │ W_A11             2005-07  Moving average     63.0      54.0183   71.9\n",
       "    7 │ W_A11             2006-08  Moving average     57.3333   48.7651   65.9\n",
       "    8 │ W_A11             2007-09  Moving average     63.6667   54.6376   72.6\n",
       "  ⋮   │        ⋮             ⋮           ⋮             ⋮          ⋮         ⋮  ⋱\n",
       " 2742 │ p21               2012     Single year        32.0      20.9128   43.0 ⋯\n",
       " 2743 │ p21               2013     Single year        37.0      25.078    48.9\n",
       " 2744 │ p21               2014     Single year        46.0      32.7069   59.2\n",
       " 2745 │ p21               2015     Single year        41.0      28.4501   53.5\n",
       " 2746 │ p21               2016     Single year        36.0      24.2402   47.7 ⋯\n",
       " 2747 │ p21               2017     Single year        40.0      27.6041   52.3\n",
       " 2748 │ p21               2018     Single year        41.0      28.4501   53.5\n",
       "\u001b[36m                                                 8 columns and 2733 rows omitted\u001b[0m"
      ]
     },
     "metadata": {},
     "output_type": "display_data"
    }
   ],
   "source": [
    "# Load the dataset\n",
    "df = DataFrame(CSV.File(\"serious-injury-outcome-indicators-2000-2020-CSV.csv\"))"
   ]
  },
  {
   "cell_type": "code",
   "execution_count": 15,
   "metadata": {},
   "outputs": [
    {
     "data": {
      "text/html": [
       "<div><div style = \"float: left;\"><span>13×7 DataFrame</span></div><div style = \"clear: both;\"></div></div><div class = \"data-frame\" style = \"overflow-x: scroll;\"><table class = \"data-frame\" style = \"margin-bottom: 6px;\"><thead><tr class = \"header\"><th class = \"rowNumber\" style = \"font-weight: bold; text-align: right;\">Row</th><th style = \"text-align: left;\">variable</th><th style = \"text-align: left;\">mean</th><th style = \"text-align: left;\">min</th><th style = \"text-align: left;\">median</th><th style = \"text-align: left;\">max</th><th style = \"text-align: left;\">nmissing</th><th style = \"text-align: left;\">eltype</th></tr><tr class = \"subheader headerLastRow\"><th class = \"rowNumber\" style = \"font-weight: bold; text-align: right;\"></th><th title = \"Symbol\" style = \"text-align: left;\">Symbol</th><th title = \"Union{Nothing, Float64}\" style = \"text-align: left;\">Union…</th><th title = \"Any\" style = \"text-align: left;\">Any</th><th title = \"Union{Nothing, Float64}\" style = \"text-align: left;\">Union…</th><th title = \"Any\" style = \"text-align: left;\">Any</th><th title = \"Int64\" style = \"text-align: left;\">Int64</th><th title = \"DataType\" style = \"text-align: left;\">DataType</th></tr></thead><tbody><tr><td class = \"rowNumber\" style = \"font-weight: bold; text-align: right;\">1</td><td style = \"text-align: left;\">Series_reference</td><td style = \"font-style: italic; text-align: left;\"></td><td style = \"text-align: left;\">C_A21</td><td style = \"font-style: italic; text-align: left;\"></td><td style = \"text-align: left;\">wf02</td><td style = \"text-align: right;\">0</td><td style = \"text-align: left;\">String7</td></tr><tr><td class = \"rowNumber\" style = \"font-weight: bold; text-align: right;\">2</td><td style = \"text-align: left;\">Period</td><td style = \"font-style: italic; text-align: left;\"></td><td style = \"text-align: left;\">2000</td><td style = \"font-style: italic; text-align: left;\"></td><td style = \"text-align: left;\">2020</td><td style = \"text-align: right;\">0</td><td style = \"text-align: left;\">String7</td></tr><tr><td class = \"rowNumber\" style = \"font-weight: bold; text-align: right;\">3</td><td style = \"text-align: left;\">Type</td><td style = \"font-style: italic; text-align: left;\"></td><td style = \"text-align: left;\">Moving average</td><td style = \"font-style: italic; text-align: left;\"></td><td style = \"text-align: left;\">Single year</td><td style = \"text-align: right;\">0</td><td style = \"text-align: left;\">String15</td></tr><tr><td class = \"rowNumber\" style = \"font-weight: bold; text-align: right;\">4</td><td style = \"text-align: left;\">Data_value</td><td style = \"text-align: left;\">490.518</td><td style = \"text-align: left;\">0.713333</td><td style = \"text-align: left;\">63.0</td><td style = \"text-align: left;\">14141.0</td><td style = \"text-align: right;\">0</td><td style = \"text-align: left;\">Float64</td></tr><tr><td class = \"rowNumber\" style = \"font-weight: bold; text-align: right;\">5</td><td style = \"text-align: left;\">Lower_CI</td><td style = \"text-align: left;\">464.676</td><td style = \"text-align: left;\">0.191677</td><td style = \"text-align: left;\">50.9238</td><td style = \"text-align: left;\">13907.9</td><td style = \"text-align: right;\">0</td><td style = \"text-align: left;\">Float64</td></tr><tr><td class = \"rowNumber\" style = \"font-weight: bold; text-align: right;\">6</td><td style = \"text-align: left;\">Upper_CI</td><td style = \"text-align: left;\">516.36</td><td style = \"text-align: left;\">0.801232</td><td style = \"text-align: left;\">72.9266</td><td style = \"text-align: left;\">14374.1</td><td style = \"text-align: right;\">0</td><td style = \"text-align: left;\">Float64</td></tr><tr><td class = \"rowNumber\" style = \"font-weight: bold; text-align: right;\">7</td><td style = \"text-align: left;\">Units</td><td style = \"font-style: italic; text-align: left;\"></td><td style = \"text-align: left;\">Injuries</td><td style = \"font-style: italic; text-align: left;\"></td><td style = \"text-align: left;\">Per thousand registered vehicles</td><td style = \"text-align: right;\">0</td><td style = \"text-align: left;\">String</td></tr><tr><td class = \"rowNumber\" style = \"font-weight: bold; text-align: right;\">8</td><td style = \"text-align: left;\">Indicator</td><td style = \"font-style: italic; text-align: left;\"></td><td style = \"text-align: left;\">Age-standardised rate</td><td style = \"font-style: italic; text-align: left;\"></td><td style = \"text-align: left;\">Rate per thousand registered vehicles</td><td style = \"text-align: right;\">0</td><td style = \"text-align: left;\">String</td></tr><tr><td class = \"rowNumber\" style = \"font-weight: bold; text-align: right;\">9</td><td style = \"text-align: left;\">Cause</td><td style = \"font-style: italic; text-align: left;\"></td><td style = \"text-align: left;\">All</td><td style = \"font-style: italic; text-align: left;\"></td><td style = \"text-align: left;\">Work</td><td style = \"text-align: right;\">0</td><td style = \"text-align: left;\">String31</td></tr><tr><td class = \"rowNumber\" style = \"font-weight: bold; text-align: right;\">10</td><td style = \"text-align: left;\">Validation</td><td style = \"font-style: italic; text-align: left;\"></td><td style = \"text-align: left;\">Provisional</td><td style = \"font-style: italic; text-align: left;\"></td><td style = \"text-align: left;\">Validated</td><td style = \"text-align: right;\">0</td><td style = \"text-align: left;\">String15</td></tr><tr><td class = \"rowNumber\" style = \"font-weight: bold; text-align: right;\">11</td><td style = \"text-align: left;\">Population</td><td style = \"font-style: italic; text-align: left;\"></td><td style = \"text-align: left;\">Children</td><td style = \"font-style: italic; text-align: left;\"></td><td style = \"text-align: left;\">Whole pop</td><td style = \"text-align: right;\">0</td><td style = \"text-align: left;\">String15</td></tr><tr><td class = \"rowNumber\" style = \"font-weight: bold; text-align: right;\">12</td><td style = \"text-align: left;\">Age</td><td style = \"font-style: italic; text-align: left;\"></td><td style = \"text-align: left;\">0-14 years</td><td style = \"font-style: italic; text-align: left;\"></td><td style = \"text-align: left;\">All ages</td><td style = \"text-align: right;\">0</td><td style = \"text-align: left;\">String15</td></tr><tr><td class = \"rowNumber\" style = \"font-weight: bold; text-align: right;\">13</td><td style = \"text-align: left;\">Severity</td><td style = \"font-style: italic; text-align: left;\"></td><td style = \"text-align: left;\">Fatal</td><td style = \"font-style: italic; text-align: left;\"></td><td style = \"text-align: left;\">Serious non-fatal</td><td style = \"text-align: right;\">0</td><td style = \"text-align: left;\">String31</td></tr></tbody></table></div>"
      ],
      "text/latex": [
       "\\begin{tabular}{r|cccccc}\n",
       "\t& variable & mean & min & median & max & \\\\\n",
       "\t\\hline\n",
       "\t& Symbol & Union… & Any & Union… & Any & \\\\\n",
       "\t\\hline\n",
       "\t1 & Series\\_reference &  & C\\_A21 &  & wf02 & $\\dots$ \\\\\n",
       "\t2 & Period &  & 2000 &  & 2020 & $\\dots$ \\\\\n",
       "\t3 & Type &  & Moving average &  & Single year & $\\dots$ \\\\\n",
       "\t4 & Data\\_value & 490.518 & 0.713333 & 63.0 & 14141.0 & $\\dots$ \\\\\n",
       "\t5 & Lower\\_CI & 464.676 & 0.191677 & 50.9238 & 13907.9 & $\\dots$ \\\\\n",
       "\t6 & Upper\\_CI & 516.36 & 0.801232 & 72.9266 & 14374.1 & $\\dots$ \\\\\n",
       "\t7 & Units &  & Injuries &  & Per thousand registered vehicles & $\\dots$ \\\\\n",
       "\t8 & Indicator &  & Age-standardised rate &  & Rate per thousand registered vehicles & $\\dots$ \\\\\n",
       "\t9 & Cause &  & All &  & Work & $\\dots$ \\\\\n",
       "\t10 & Validation &  & Provisional &  & Validated & $\\dots$ \\\\\n",
       "\t11 & Population &  & Children &  & Whole pop & $\\dots$ \\\\\n",
       "\t12 & Age &  & 0-14 years &  & All ages & $\\dots$ \\\\\n",
       "\t13 & Severity &  & Fatal &  & Serious non-fatal & $\\dots$ \\\\\n",
       "\\end{tabular}\n"
      ],
      "text/plain": [
       "\u001b[1m13×7 DataFrame\u001b[0m\n",
       "\u001b[1m Row \u001b[0m│\u001b[1m variable         \u001b[0m\u001b[1m mean    \u001b[0m\u001b[1m min                   \u001b[0m\u001b[1m median  \u001b[0m\u001b[1m max         \u001b[0m ⋯\n",
       "     │\u001b[90m Symbol           \u001b[0m\u001b[90m Union…  \u001b[0m\u001b[90m Any                   \u001b[0m\u001b[90m Union…  \u001b[0m\u001b[90m Any         \u001b[0m ⋯\n",
       "─────┼──────────────────────────────────────────────────────────────────────────\n",
       "   1 │ Series_reference \u001b[90m         \u001b[0m C_A21                 \u001b[90m         \u001b[0m wf02         ⋯\n",
       "   2 │ Period           \u001b[90m         \u001b[0m 2000                  \u001b[90m         \u001b[0m 2020\n",
       "   3 │ Type             \u001b[90m         \u001b[0m Moving average        \u001b[90m         \u001b[0m Single year\n",
       "   4 │ Data_value        490.518  0.713333               63.0     14141.0\n",
       "   5 │ Lower_CI          464.676  0.191677               50.9238  13907.9      ⋯\n",
       "   6 │ Upper_CI          516.36   0.801232               72.9266  14374.1\n",
       "   7 │ Units            \u001b[90m         \u001b[0m Injuries              \u001b[90m         \u001b[0m Per thousand\n",
       "   8 │ Indicator        \u001b[90m         \u001b[0m Age-standardised rate \u001b[90m         \u001b[0m Rate per tho\n",
       "   9 │ Cause            \u001b[90m         \u001b[0m All                   \u001b[90m         \u001b[0m Work         ⋯\n",
       "  10 │ Validation       \u001b[90m         \u001b[0m Provisional           \u001b[90m         \u001b[0m Validated\n",
       "  11 │ Population       \u001b[90m         \u001b[0m Children              \u001b[90m         \u001b[0m Whole pop\n",
       "  12 │ Age              \u001b[90m         \u001b[0m 0-14 years            \u001b[90m         \u001b[0m All ages\n",
       "  13 │ Severity         \u001b[90m         \u001b[0m Fatal                 \u001b[90m         \u001b[0m Serious non- ⋯\n",
       "\u001b[36m                                                               3 columns omitted\u001b[0m"
      ]
     },
     "metadata": {},
     "output_type": "display_data"
    }
   ],
   "source": [
    "# Describe the dataframe\n",
    "describe(df)"
   ]
  },
  {
   "cell_type": "code",
   "execution_count": 16,
   "metadata": {},
   "outputs": [
    {
     "data": {
      "text/html": [
       "<div><div style = \"float: left;\"><span>DataFrameRow (13 columns)</span></div><div style = \"clear: both;\"></div></div><div class = \"data-frame\" style = \"overflow-x: scroll;\"><table class = \"data-frame\" style = \"margin-bottom: 6px;\"><thead><tr class = \"header\"><th class = \"rowLabel\" style = \"font-weight: bold; text-align: right;\">Row</th><th style = \"text-align: left;\">Series_reference</th><th style = \"text-align: left;\">Period</th><th style = \"text-align: left;\">Type</th><th style = \"text-align: left;\">Data_value</th><th style = \"text-align: left;\">Lower_CI</th><th style = \"text-align: left;\">Upper_CI</th><th style = \"text-align: left;\">Units</th><th style = \"text-align: left;\">Indicator</th><th style = \"text-align: left;\">Cause</th><th style = \"text-align: left;\">Validation</th><th style = \"text-align: left;\">Population</th><th style = \"text-align: left;\">Age</th><th style = \"text-align: left;\">Severity</th></tr><tr class = \"subheader headerLastRow\"><th class = \"rowLabel\" style = \"font-weight: bold; text-align: right;\"></th><th title = \"String7\" style = \"text-align: left;\">String7</th><th title = \"String7\" style = \"text-align: left;\">String7</th><th title = \"String15\" style = \"text-align: left;\">String15</th><th title = \"Float64\" style = \"text-align: left;\">Float64</th><th title = \"Float64\" style = \"text-align: left;\">Float64</th><th title = \"Float64\" style = \"text-align: left;\">Float64</th><th title = \"String\" style = \"text-align: left;\">String</th><th title = \"String\" style = \"text-align: left;\">String</th><th title = \"String31\" style = \"text-align: left;\">String31</th><th title = \"String15\" style = \"text-align: left;\">String15</th><th title = \"String15\" style = \"text-align: left;\">String15</th><th title = \"String15\" style = \"text-align: left;\">String15</th><th title = \"String31\" style = \"text-align: left;\">String31</th></tr></thead><tbody><tr><td class = \"rowLabel\" style = \"font-weight: bold; text-align: right;\">1</td><td style = \"text-align: left;\">W_A11</td><td style = \"text-align: left;\">2000-02</td><td style = \"text-align: left;\">Moving average</td><td style = \"text-align: right;\">59.6667</td><td style = \"text-align: right;\">50.9258</td><td style = \"text-align: right;\">68.4075</td><td style = \"text-align: left;\">Injuries</td><td style = \"text-align: left;\">Number</td><td style = \"text-align: left;\">Assault</td><td style = \"text-align: left;\">Validated</td><td style = \"text-align: left;\">Whole pop</td><td style = \"text-align: left;\">All ages</td><td style = \"text-align: left;\">Fatal</td></tr></tbody></table></div>"
      ],
      "text/latex": [
       "\\begin{tabular}{r|cccccccc}\n",
       "\t& Series\\_reference & Period & Type & Data\\_value & Lower\\_CI & Upper\\_CI & Units & \\\\\n",
       "\t\\hline\n",
       "\t& String7 & String7 & String15 & Float64 & Float64 & Float64 & String & \\\\\n",
       "\t\\hline\n",
       "\t1 & W\\_A11 & 2000-02 & Moving average & 59.6667 & 50.9258 & 68.4075 & Injuries & $\\dots$ \\\\\n",
       "\\end{tabular}\n"
      ],
      "text/plain": [
       "\u001b[1mDataFrameRow\u001b[0m\n",
       "\u001b[1m Row \u001b[0m│\u001b[1m Series_reference \u001b[0m\u001b[1m Period  \u001b[0m\u001b[1m Type           \u001b[0m\u001b[1m Data_value \u001b[0m\u001b[1m Lower_CI \u001b[0m\u001b[1m Upper_\u001b[0m ⋯\n",
       "     │\u001b[90m String7          \u001b[0m\u001b[90m String7 \u001b[0m\u001b[90m String15       \u001b[0m\u001b[90m Float64    \u001b[0m\u001b[90m Float64  \u001b[0m\u001b[90m Float6\u001b[0m ⋯\n",
       "─────┼──────────────────────────────────────────────────────────────────────────\n",
       "   1 │ W_A11             2000-02  Moving average     59.6667   50.9258   68.40 ⋯\n",
       "\u001b[36m                                                               8 columns omitted\u001b[0m"
      ]
     },
     "metadata": {},
     "output_type": "display_data"
    }
   ],
   "source": [
    "first(df)"
   ]
  },
  {
   "cell_type": "code",
   "execution_count": 17,
   "metadata": {},
   "outputs": [
    {
     "data": {
      "application/vnd.dataresource+json": {
       "data": [
        {
         "Age": "0-14 years",
         "Cause": "Intentional",
         "Data_value": 40,
         "Indicator": "Number",
         "Lower_CI": 32.8432234251313,
         "Period": "2004-06",
         "Population": "Children",
         "Series_reference": "C_IN01",
         "Severity": "Serious non-fatal",
         "Type": "Moving average",
         "Units": "Injuries",
         "Upper_CI": 47.1567765748686,
         "Validation": "Validated"
        },
        {
         "Age": "0-14 years",
         "Cause": "Assault",
         "Data_value": 40,
         "Indicator": "Number",
         "Lower_CI": 32.8432234251313,
         "Period": "2003-05",
         "Population": "Children",
         "Series_reference": "C_A21",
         "Severity": "Serious",
         "Type": "Moving average",
         "Units": "Injuries",
         "Upper_CI": 47.1567765748686,
         "Validation": "Validated"
        },
        {
         "Age": "All ages",
         "Cause": "Assault",
         "Data_value": 40,
         "Indicator": "Number",
         "Lower_CI": 27.6040993539087,
         "Period": "2017",
         "Population": "Whole pop",
         "Series_reference": "a11",
         "Severity": "Fatal",
         "Type": "Single year",
         "Units": "Injuries",
         "Upper_CI": 52.3959006460912,
         "Validation": "Validated"
        },
        {
         "Age": "0-14 years",
         "Cause": "Intentional",
         "Data_value": 40,
         "Indicator": "Number",
         "Lower_CI": 27.6040993539087,
         "Period": "2005",
         "Population": "Children",
         "Series_reference": "in01",
         "Severity": "Serious non-fatal",
         "Type": "Single year",
         "Units": "Injuries",
         "Upper_CI": 52.3959006460912,
         "Validation": "Validated"
        },
        {
         "Age": "0-14 years",
         "Cause": "Intentional",
         "Data_value": 40,
         "Indicator": "Number",
         "Lower_CI": 27.6040993539087,
         "Period": "2012",
         "Population": "Children",
         "Series_reference": "in01",
         "Severity": "Serious non-fatal",
         "Type": "Single year",
         "Units": "Injuries",
         "Upper_CI": 52.3959006460912,
         "Validation": "Validated"
        },
        {
         "Age": "0-14 years",
         "Cause": "Intentional",
         "Data_value": 40,
         "Indicator": "Number",
         "Lower_CI": 27.6040993539087,
         "Period": "2016",
         "Population": "Children",
         "Series_reference": "in01",
         "Severity": "Serious non-fatal",
         "Type": "Single year",
         "Units": "Injuries",
         "Upper_CI": 52.3959006460912,
         "Validation": "Validated"
        },
        {
         "Age": "0-14 years",
         "Cause": "Intentional",
         "Data_value": 40,
         "Indicator": "Number",
         "Lower_CI": 27.6040993539087,
         "Period": "2019",
         "Population": "Children",
         "Series_reference": "in01",
         "Severity": "Serious non-fatal",
         "Type": "Single year",
         "Units": "Injuries",
         "Upper_CI": 52.3959006460912,
         "Validation": "Validated"
        },
        {
         "Age": "0-14 years",
         "Cause": "Assault",
         "Data_value": 40,
         "Indicator": "Number",
         "Lower_CI": 27.6040993539087,
         "Period": "2017",
         "Population": "Children",
         "Series_reference": "a21",
         "Severity": "Serious",
         "Type": "Single year",
         "Units": "Injuries",
         "Upper_CI": 52.3959006460912,
         "Validation": "Validated"
        },
        {
         "Age": "0-14 years",
         "Cause": "Pedestrian",
         "Data_value": 40,
         "Indicator": "Number",
         "Lower_CI": 27.6040993539087,
         "Period": "2017",
         "Population": "Children",
         "Series_reference": "p21",
         "Severity": "Serious",
         "Type": "Single year",
         "Units": "Injuries",
         "Upper_CI": 52.3959006460912,
         "Validation": "Validated"
        },
        {
         "Age": "0-14 years",
         "Cause": "Intentional",
         "Data_value": 39.6666666666666,
         "Indicator": "Number",
         "Lower_CI": 32.5397723791994,
         "Period": "2011-13",
         "Population": "Children",
         "Series_reference": "C_IN01",
         "Severity": "Serious non-fatal",
         "Type": "Moving average",
         "Units": "Injuries",
         "Upper_CI": 46.7935609541339,
         "Validation": "Validated"
        },
        {
         "Age": "0-14 years",
         "Cause": "Pedestrian",
         "Data_value": 39.6666666666666,
         "Indicator": "Number",
         "Lower_CI": 32.5397723791994,
         "Period": "2010-12",
         "Population": "Children",
         "Series_reference": "C_P21",
         "Severity": "Serious",
         "Type": "Moving average",
         "Units": "Injuries",
         "Upper_CI": 46.7935609541339,
         "Validation": "Validated"
        },
        {
         "Age": "0-14 years",
         "Cause": "Pedestrian",
         "Data_value": 39,
         "Indicator": "Number",
         "Lower_CI": 31.9332493556781,
         "Period": "2015-17",
         "Population": "Children",
         "Series_reference": "C_P21",
         "Severity": "Serious",
         "Type": "Moving average",
         "Units": "Injuries",
         "Upper_CI": 46.0667506443218,
         "Validation": "Validated"
        },
        {
         "Age": "0-14 years",
         "Cause": "Pedestrian",
         "Data_value": 39,
         "Indicator": "Number",
         "Lower_CI": 31.9332493556781,
         "Period": "2016-18",
         "Population": "Children",
         "Series_reference": "C_P21",
         "Severity": "Serious",
         "Type": "Moving average",
         "Units": "Injuries",
         "Upper_CI": 46.0667506443218,
         "Validation": "Validated"
        },
        {
         "Age": "75+ years",
         "Cause": "Falls",
         "Data_value": 39,
         "Indicator": "Number",
         "Lower_CI": 26.7600288396144,
         "Period": "2004",
         "Population": "Maori",
         "Series_reference": "f01c",
         "Severity": "Serious non-fatal",
         "Type": "Single year",
         "Units": "Injuries",
         "Upper_CI": 51.2399711603856,
         "Validation": "Validated"
        },
        {
         "Age": "0-14 years",
         "Cause": "Intentional",
         "Data_value": 39,
         "Indicator": "Number",
         "Lower_CI": 26.7600288396144,
         "Period": "2013",
         "Population": "Children",
         "Series_reference": "in21",
         "Severity": "Serious",
         "Type": "Single year",
         "Units": "Injuries",
         "Upper_CI": 51.2399711603856,
         "Validation": "Validated"
        },
        {
         "Age": "0-14 years",
         "Cause": "Pedestrian",
         "Data_value": 39,
         "Indicator": "Number",
         "Lower_CI": 26.7600288396144,
         "Period": "2011",
         "Population": "Children",
         "Series_reference": "p21",
         "Severity": "Serious",
         "Type": "Single year",
         "Units": "Injuries",
         "Upper_CI": 51.2399711603856,
         "Validation": "Validated"
        },
        {
         "Age": "0-14 years",
         "Cause": "Intentional",
         "Data_value": 38.6666666666666,
         "Indicator": "Number",
         "Lower_CI": 31.6301806181358,
         "Period": "2002-04",
         "Population": "Children",
         "Series_reference": "C_IN01",
         "Severity": "Serious non-fatal",
         "Type": "Moving average",
         "Units": "Injuries",
         "Upper_CI": 45.7031527151974,
         "Validation": "Validated"
        },
        {
         "Age": "0-14 years",
         "Cause": "Pedestrian",
         "Data_value": 38.3333333333333,
         "Indicator": "Number",
         "Lower_CI": 31.3272426150144,
         "Period": "2012-14",
         "Population": "Children",
         "Series_reference": "C_P21",
         "Severity": "Serious",
         "Type": "Moving average",
         "Units": "Injuries",
         "Upper_CI": 45.3394240516522,
         "Validation": "Validated"
        },
        {
         "Age": "75+ years",
         "Cause": "Falls",
         "Data_value": 38,
         "Indicator": "Number",
         "Lower_CI": 31.0244370553009,
         "Period": "2003-05",
         "Population": "Maori",
         "Series_reference": "M_F01C",
         "Severity": "Serious non-fatal",
         "Type": "Moving average",
         "Units": "Injuries",
         "Upper_CI": 44.975562944699,
         "Validation": "Validated"
        },
        {
         "Age": "75+ years",
         "Cause": "Falls",
         "Data_value": 38,
         "Indicator": "Number",
         "Lower_CI": 31.0244370553009,
         "Period": "2002-04",
         "Population": "Maori",
         "Series_reference": "M_F21C",
         "Severity": "Serious",
         "Type": "Moving average",
         "Units": "Injuries",
         "Upper_CI": 44.975562944699,
         "Validation": "Validated"
        },
        {
         "Age": "0-14 years",
         "Cause": "Intentional",
         "Data_value": 38,
         "Indicator": "Number",
         "Lower_CI": 25.9179705683864,
         "Period": "2004",
         "Population": "Children",
         "Series_reference": "in01",
         "Severity": "Serious non-fatal",
         "Type": "Single year",
         "Units": "Injuries",
         "Upper_CI": 50.0820294316135,
         "Validation": "Validated"
        },
        {
         "Age": "0-14 years",
         "Cause": "Assault",
         "Data_value": 37.3333333333333,
         "Indicator": "Number",
         "Lower_CI": 30.4192302910183,
         "Period": "2011-13",
         "Population": "Children",
         "Series_reference": "C_A21",
         "Severity": "Serious",
         "Type": "Moving average",
         "Units": "Injuries",
         "Upper_CI": 44.2474363756483,
         "Validation": "Validated"
        },
        {
         "Age": "0-14 years",
         "Cause": "Intentional",
         "Data_value": 37,
         "Indicator": "Number",
         "Lower_CI": 25.0780045141057,
         "Period": "2008",
         "Population": "Children",
         "Series_reference": "in01",
         "Severity": "Serious non-fatal",
         "Type": "Single year",
         "Units": "Injuries",
         "Upper_CI": 48.9219954858942,
         "Validation": "Validated"
        },
        {
         "Age": "0-14 years",
         "Cause": "Intentional",
         "Data_value": 37,
         "Indicator": "Number",
         "Lower_CI": 25.0780045141057,
         "Period": "2013",
         "Population": "Children",
         "Series_reference": "in01",
         "Severity": "Serious non-fatal",
         "Type": "Single year",
         "Units": "Injuries",
         "Upper_CI": 48.9219954858942,
         "Validation": "Validated"
        },
        {
         "Age": "0-14 years",
         "Cause": "Assault",
         "Data_value": 37,
         "Indicator": "Number",
         "Lower_CI": 25.0780045141057,
         "Period": "2015",
         "Population": "Children",
         "Series_reference": "a21",
         "Severity": "Serious",
         "Type": "Single year",
         "Units": "Injuries",
         "Upper_CI": 48.9219954858942,
         "Validation": "Validated"
        },
        {
         "Age": "0-14 years",
         "Cause": "Pedestrian",
         "Data_value": 37,
         "Indicator": "Number",
         "Lower_CI": 25.0780045141057,
         "Period": "2013",
         "Population": "Children",
         "Series_reference": "p21",
         "Severity": "Serious",
         "Type": "Single year",
         "Units": "Injuries",
         "Upper_CI": 48.9219954858942,
         "Validation": "Validated"
        },
        {
         "Age": "0-14 years",
         "Cause": "Assault",
         "Data_value": 36,
         "Indicator": "Number",
         "Lower_CI": 29.2104855955429,
         "Period": "2015-17",
         "Population": "Children",
         "Series_reference": "C_A21",
         "Severity": "Serious",
         "Type": "Moving average",
         "Units": "Injuries",
         "Upper_CI": 42.789514404457,
         "Validation": "Validated"
        },
        {
         "Age": "0-14 years",
         "Cause": "Pedestrian",
         "Data_value": 36,
         "Indicator": "Number",
         "Lower_CI": 29.2104855955429,
         "Period": "2011-13",
         "Population": "Children",
         "Series_reference": "C_P21",
         "Severity": "Serious",
         "Type": "Moving average",
         "Units": "Injuries",
         "Upper_CI": 42.789514404457,
         "Validation": "Validated"
        },
        {
         "Age": "0-14 years",
         "Cause": "Motor vehicle traffic crashes",
         "Data_value": 36,
         "Indicator": "Number",
         "Lower_CI": 24.2402160927596,
         "Period": "2000",
         "Population": "Children",
         "Series_reference": "m11",
         "Severity": "Fatal",
         "Type": "Single year",
         "Units": "Injuries",
         "Upper_CI": 47.7597839072403,
         "Validation": "Validated"
        },
        {
         "Age": "0-14 years",
         "Cause": "Assault",
         "Data_value": 36,
         "Indicator": "Number",
         "Lower_CI": 24.2402160927596,
         "Period": "2000",
         "Population": "Children",
         "Series_reference": "a21",
         "Severity": "Serious",
         "Type": "Single year",
         "Units": "Injuries",
         "Upper_CI": 47.7597839072403,
         "Validation": "Validated"
        },
        {
         "Age": "0-14 years",
         "Cause": "Assault",
         "Data_value": 36,
         "Indicator": "Number",
         "Lower_CI": 24.2402160927596,
         "Period": "2008",
         "Population": "Children",
         "Series_reference": "a21",
         "Severity": "Serious",
         "Type": "Single year",
         "Units": "Injuries",
         "Upper_CI": 47.7597839072403,
         "Validation": "Validated"
        },
        {
         "Age": "0-14 years",
         "Cause": "Assault",
         "Data_value": 36,
         "Indicator": "Number",
         "Lower_CI": 24.2402160927596,
         "Period": "2012",
         "Population": "Children",
         "Series_reference": "a21",
         "Severity": "Serious",
         "Type": "Single year",
         "Units": "Injuries",
         "Upper_CI": 47.7597839072403,
         "Validation": "Validated"
        },
        {
         "Age": "0-14 years",
         "Cause": "Intentional",
         "Data_value": 36,
         "Indicator": "Number",
         "Lower_CI": 24.2402160927596,
         "Period": "2003",
         "Population": "Children",
         "Series_reference": "in21",
         "Severity": "Serious",
         "Type": "Single year",
         "Units": "Injuries",
         "Upper_CI": 47.7597839072403,
         "Validation": "Validated"
        },
        {
         "Age": "0-14 years",
         "Cause": "Pedestrian",
         "Data_value": 36,
         "Indicator": "Number",
         "Lower_CI": 24.2402160927596,
         "Period": "2016",
         "Population": "Children",
         "Series_reference": "p21",
         "Severity": "Serious",
         "Type": "Single year",
         "Units": "Injuries",
         "Upper_CI": 47.7597839072403,
         "Validation": "Validated"
        },
        {
         "Age": "0-14 years",
         "Cause": "Intentional",
         "Data_value": 35.6666666666666,
         "Indicator": "Number",
         "Lower_CI": 28.9086582995162,
         "Period": "2003-05",
         "Population": "Children",
         "Series_reference": "C_IN01",
         "Severity": "Serious non-fatal",
         "Type": "Moving average",
         "Units": "Injuries",
         "Upper_CI": 42.424675033817,
         "Validation": "Validated"
        },
        {
         "Age": "75+ years",
         "Cause": "Falls",
         "Data_value": 35,
         "Indicator": "Number",
         "Lower_CI": 23.4046966954592,
         "Period": "2003",
         "Population": "Maori",
         "Series_reference": "f21c",
         "Severity": "Serious",
         "Type": "Single year",
         "Units": "Injuries",
         "Upper_CI": 46.5953033045407,
         "Validation": "Validated"
        },
        {
         "Age": "0-14 years",
         "Cause": "Pedestrian",
         "Data_value": 34,
         "Indicator": "Number",
         "Lower_CI": 22.5715442905176,
         "Period": "2008",
         "Population": "Children",
         "Series_reference": "p21",
         "Severity": "Serious",
         "Type": "Single year",
         "Units": "Injuries",
         "Upper_CI": 45.4284557094823,
         "Validation": "Validated"
        },
        {
         "Age": "0-14 years",
         "Cause": "Assault",
         "Data_value": 33.3333333333333,
         "Indicator": "Number",
         "Lower_CI": 26.8001200515331,
         "Period": "2016-18",
         "Population": "Children",
         "Series_reference": "C_A21",
         "Severity": "Serious",
         "Type": "Moving average",
         "Units": "Injuries",
         "Upper_CI": 39.8665466151335,
         "Validation": "Validated"
        },
        {
         "Age": "0-14 years",
         "Cause": "Intentional",
         "Data_value": 33,
         "Indicator": "Number",
         "Lower_CI": 21.7408641058513,
         "Period": "2015",
         "Population": "Children",
         "Series_reference": "in01",
         "Severity": "Serious non-fatal",
         "Type": "Single year",
         "Units": "Injuries",
         "Upper_CI": 44.2591358941486,
         "Validation": "Validated"
        },
        {
         "Age": "75+ years",
         "Cause": "Falls",
         "Data_value": 33,
         "Indicator": "Number",
         "Lower_CI": 21.7408641058513,
         "Period": "2000",
         "Population": "Maori",
         "Series_reference": "f21c",
         "Severity": "Serious",
         "Type": "Single year",
         "Units": "Injuries",
         "Upper_CI": 44.2591358941486,
         "Validation": "Validated"
        },
        {
         "Age": "75+ years",
         "Cause": "Falls",
         "Data_value": 33,
         "Indicator": "Number",
         "Lower_CI": 21.7408641058513,
         "Period": "2002",
         "Population": "Maori",
         "Series_reference": "f21c",
         "Severity": "Serious",
         "Type": "Single year",
         "Units": "Injuries",
         "Upper_CI": 44.2591358941486,
         "Validation": "Validated"
        },
        {
         "Age": "75+ years",
         "Cause": "Falls",
         "Data_value": 32.3333333333333,
         "Indicator": "Number",
         "Lower_CI": 25.8988644732077,
         "Period": "2002-04",
         "Population": "Maori",
         "Series_reference": "M_F01C",
         "Severity": "Serious non-fatal",
         "Type": "Moving average",
         "Units": "Injuries",
         "Upper_CI": 38.7678021934588,
         "Validation": "Validated"
        },
        {
         "Age": "0-14 years",
         "Cause": "Motor vehicle traffic crashes",
         "Data_value": 32.3333333333333,
         "Indicator": "Number",
         "Lower_CI": 25.8988644732077,
         "Period": "2000-02",
         "Population": "Children",
         "Series_reference": "C_M11",
         "Severity": "Fatal",
         "Type": "Moving average",
         "Units": "Injuries",
         "Upper_CI": 38.7678021934588,
         "Validation": "Validated"
        },
        {
         "Age": "0-14 years",
         "Cause": "Motor vehicle traffic crashes",
         "Data_value": 32,
         "Indicator": "Number",
         "Lower_CI": 20.9127694052025,
         "Period": "2002",
         "Population": "Children",
         "Series_reference": "m11",
         "Severity": "Fatal",
         "Type": "Single year",
         "Units": "Injuries",
         "Upper_CI": 43.0872305947974,
         "Validation": "Validated"
        },
        {
         "Age": "0-14 years",
         "Cause": "Pedestrian",
         "Data_value": 32,
         "Indicator": "Number",
         "Lower_CI": 20.9127694052025,
         "Period": "2012",
         "Population": "Children",
         "Series_reference": "p21",
         "Severity": "Serious",
         "Type": "Single year",
         "Units": "Injuries",
         "Upper_CI": 43.0872305947974,
         "Validation": "Validated"
        },
        {
         "Age": "75+ years",
         "Cause": "Falls",
         "Data_value": 31.6666666666666,
         "Indicator": "Number",
         "Lower_CI": 25.2988780398185,
         "Period": "2001-03",
         "Population": "Maori",
         "Series_reference": "M_F21C",
         "Severity": "Serious",
         "Type": "Moving average",
         "Units": "Injuries",
         "Upper_CI": 38.0344552935147,
         "Validation": "Validated"
        },
        {
         "Age": "75+ years",
         "Cause": "Falls",
         "Data_value": 31,
         "Indicator": "Number",
         "Lower_CI": 24.6995972763238,
         "Period": "2000-02",
         "Population": "Maori",
         "Series_reference": "M_F21C",
         "Severity": "Serious",
         "Type": "Moving average",
         "Units": "Injuries",
         "Upper_CI": 37.3004027236761,
         "Validation": "Validated"
        },
        {
         "Age": "0-14 years",
         "Cause": "Intentional",
         "Data_value": 31,
         "Indicator": "Number",
         "Lower_CI": 20.0873823744475,
         "Period": "2018",
         "Population": "Children",
         "Series_reference": "in01",
         "Severity": "Serious non-fatal",
         "Type": "Single year",
         "Units": "Injuries",
         "Upper_CI": 41.9126176255524,
         "Validation": "Validated"
        },
        {
         "Age": "0-14 years",
         "Cause": "Assault",
         "Data_value": 31,
         "Indicator": "Number",
         "Lower_CI": 20.0873823744475,
         "Period": "2013",
         "Population": "Children",
         "Series_reference": "a21",
         "Severity": "Serious",
         "Type": "Single year",
         "Units": "Injuries",
         "Upper_CI": 41.9126176255524,
         "Validation": "Validated"
        },
        {
         "Age": "0-14 years",
         "Cause": "Assault",
         "Data_value": 31,
         "Indicator": "Number",
         "Lower_CI": 20.0873823744475,
         "Period": "2016",
         "Population": "Children",
         "Series_reference": "a21",
         "Severity": "Serious",
         "Type": "Single year",
         "Units": "Injuries",
         "Upper_CI": 41.9126176255524,
         "Validation": "Validated"
        },
        {
         "Age": "0-14 years",
         "Cause": "Motor vehicle traffic crashes",
         "Data_value": 30,
         "Indicator": "Number",
         "Lower_CI": 19.264835137697,
         "Period": "2007",
         "Population": "Children",
         "Series_reference": "m11",
         "Severity": "Fatal",
         "Type": "Single year",
         "Units": "Injuries",
         "Upper_CI": 40.7351648623029,
         "Validation": "Validated"
        },
        {
         "Age": "75+ years",
         "Cause": "Falls",
         "Data_value": 30,
         "Indicator": "Number",
         "Lower_CI": 19.264835137697,
         "Period": "2000",
         "Population": "Maori",
         "Series_reference": "f01c",
         "Severity": "Serious non-fatal",
         "Type": "Single year",
         "Units": "Injuries",
         "Upper_CI": 40.7351648623029,
         "Validation": "Validated"
        },
        {
         "Age": "75+ years",
         "Cause": "Falls",
         "Data_value": 30,
         "Indicator": "Number",
         "Lower_CI": 19.264835137697,
         "Period": "2002",
         "Population": "Maori",
         "Series_reference": "f01c",
         "Severity": "Serious non-fatal",
         "Type": "Single year",
         "Units": "Injuries",
         "Upper_CI": 40.7351648623029,
         "Validation": "Validated"
        },
        {
         "Age": "0-14 years",
         "Cause": "Motor vehicle traffic crashes",
         "Data_value": 29.3333333333333,
         "Indicator": "Number",
         "Lower_CI": 23.2046360254846,
         "Period": "2001-03",
         "Population": "Children",
         "Series_reference": "C_M11",
         "Severity": "Fatal",
         "Type": "Moving average",
         "Units": "Injuries",
         "Upper_CI": 35.4620306411819,
         "Validation": "Validated"
        },
        {
         "Age": "0-14 years",
         "Cause": "Motor vehicle traffic crashes",
         "Data_value": 29,
         "Indicator": "Number",
         "Lower_CI": 18.4452709272037,
         "Period": "2001",
         "Population": "Children",
         "Series_reference": "m11",
         "Severity": "Fatal",
         "Type": "Single year",
         "Units": "Injuries",
         "Upper_CI": 39.5547290727962,
         "Validation": "Validated"
        },
        {
         "Age": "0-14 years",
         "Cause": "Motor vehicle traffic crashes",
         "Data_value": 29,
         "Indicator": "Number",
         "Lower_CI": 18.4452709272037,
         "Period": "2005",
         "Population": "Children",
         "Series_reference": "m11",
         "Severity": "Fatal",
         "Type": "Single year",
         "Units": "Injuries",
         "Upper_CI": 39.5547290727962,
         "Validation": "Validated"
        },
        {
         "Age": "0-14 years",
         "Cause": "Intentional",
         "Data_value": 29,
         "Indicator": "Number",
         "Lower_CI": 18.4452709272037,
         "Period": "2000",
         "Population": "Children",
         "Series_reference": "in01",
         "Severity": "Serious non-fatal",
         "Type": "Single year",
         "Units": "Injuries",
         "Upper_CI": 39.5547290727962,
         "Validation": "Validated"
        },
        {
         "Age": "0-14 years",
         "Cause": "Intentional",
         "Data_value": 29,
         "Indicator": "Number",
         "Lower_CI": 18.4452709272037,
         "Period": "2003",
         "Population": "Children",
         "Series_reference": "in01",
         "Severity": "Serious non-fatal",
         "Type": "Single year",
         "Units": "Injuries",
         "Upper_CI": 39.5547290727962,
         "Validation": "Validated"
        },
        {
         "Age": "0-14 years",
         "Cause": "Assault",
         "Data_value": 29,
         "Indicator": "Number",
         "Lower_CI": 18.4452709272037,
         "Period": "2003",
         "Population": "Children",
         "Series_reference": "a21",
         "Severity": "Serious",
         "Type": "Single year",
         "Units": "Injuries",
         "Upper_CI": 39.5547290727962,
         "Validation": "Validated"
        },
        {
         "Age": "0-14 years",
         "Cause": "Assault",
         "Data_value": 29,
         "Indicator": "Number",
         "Lower_CI": 18.4452709272037,
         "Period": "2018",
         "Population": "Children",
         "Series_reference": "a21",
         "Severity": "Serious",
         "Type": "Single year",
         "Units": "Injuries",
         "Upper_CI": 39.5547290727962,
         "Validation": "Validated"
        },
        {
         "Age": "75+ years",
         "Cause": "Falls",
         "Data_value": 28.6666666666666,
         "Indicator": "Number",
         "Lower_CI": 22.6080139141546,
         "Period": "2000-02",
         "Population": "Maori",
         "Series_reference": "M_F01C",
         "Severity": "Serious non-fatal",
         "Type": "Moving average",
         "Units": "Injuries",
         "Upper_CI": 34.7253194191787,
         "Validation": "Validated"
        },
        {
         "Age": "75+ years",
         "Cause": "Falls",
         "Data_value": 28,
         "Indicator": "Number",
         "Lower_CI": 22.0122111209719,
         "Period": "2001-03",
         "Population": "Maori",
         "Series_reference": "M_F01C",
         "Severity": "Serious non-fatal",
         "Type": "Moving average",
         "Units": "Injuries",
         "Upper_CI": 33.987788879028,
         "Validation": "Validated"
        },
        {
         "Age": "75+ years",
         "Cause": "Falls",
         "Data_value": 28,
         "Indicator": "Number",
         "Lower_CI": 17.6288454365275,
         "Period": "2003",
         "Population": "Maori",
         "Series_reference": "f01c",
         "Severity": "Serious non-fatal",
         "Type": "Single year",
         "Units": "Injuries",
         "Upper_CI": 38.3711545634724,
         "Validation": "Validated"
        },
        {
         "Age": "0-14 years",
         "Cause": "Motor vehicle traffic crashes",
         "Data_value": 27.6666666666666,
         "Indicator": "Number",
         "Lower_CI": 21.7146261004442,
         "Period": "2005-07",
         "Population": "Children",
         "Series_reference": "C_M11",
         "Severity": "Fatal",
         "Type": "Moving average",
         "Units": "Injuries",
         "Upper_CI": 33.618707232889,
         "Validation": "Validated"
        },
        {
         "Age": "0-14 years",
         "Cause": "Motor vehicle traffic crashes",
         "Data_value": 27,
         "Indicator": "Number",
         "Lower_CI": 16.8157283933144,
         "Period": "2003",
         "Population": "Children",
         "Series_reference": "m11",
         "Severity": "Fatal",
         "Type": "Single year",
         "Units": "Injuries",
         "Upper_CI": 37.1842716066855,
         "Validation": "Validated"
        },
        {
         "Age": "75+ years",
         "Cause": "Falls",
         "Data_value": 27,
         "Indicator": "Number",
         "Lower_CI": 16.8157283933144,
         "Period": "2001",
         "Population": "Maori",
         "Series_reference": "f21c",
         "Severity": "Serious",
         "Type": "Single year",
         "Units": "Injuries",
         "Upper_CI": 37.1842716066855,
         "Validation": "Validated"
        },
        {
         "Age": "75+ years",
         "Cause": "Falls",
         "Data_value": 26,
         "Indicator": "Number",
         "Lower_CI": 16.0061053968912,
         "Period": "2001",
         "Population": "Maori",
         "Series_reference": "f01c",
         "Severity": "Serious non-fatal",
         "Type": "Single year",
         "Units": "Injuries",
         "Upper_CI": 35.9938946031088,
         "Validation": "Validated"
        },
        {
         "Age": "0-14 years",
         "Cause": "Motor vehicle traffic crashes",
         "Data_value": 25.6666666666666,
         "Indicator": "Number",
         "Lower_CI": 19.9337952783632,
         "Period": "2002-04",
         "Population": "Children",
         "Series_reference": "C_M11",
         "Severity": "Fatal",
         "Type": "Moving average",
         "Units": "Injuries",
         "Upper_CI": 31.39953805497,
         "Validation": "Validated"
        },
        {
         "Age": "0-14 years",
         "Cause": "Motor vehicle traffic crashes",
         "Data_value": 25,
         "Indicator": "Number",
         "Lower_CI": 19.3420713296191,
         "Period": "2006-08",
         "Population": "Children",
         "Series_reference": "C_M11",
         "Severity": "Fatal",
         "Type": "Moving average",
         "Units": "Injuries",
         "Upper_CI": 30.6579286703808,
         "Validation": "Validated"
        },
        {
         "Age": "0-14 years",
         "Cause": "Motor vehicle traffic crashes",
         "Data_value": 24.6666666666666,
         "Indicator": "Number",
         "Lower_CI": 19.0465840977658,
         "Period": "2003-05",
         "Population": "Children",
         "Series_reference": "C_M11",
         "Severity": "Fatal",
         "Type": "Moving average",
         "Units": "Injuries",
         "Upper_CI": 30.2867492355674,
         "Validation": "Validated"
        },
        {
         "Age": "0-14 years",
         "Cause": "Motor vehicle traffic crashes",
         "Data_value": 24.3333333333333,
         "Indicator": "Number",
         "Lower_CI": 18.7513534584674,
         "Period": "2007-09",
         "Population": "Children",
         "Series_reference": "C_M11",
         "Severity": "Fatal",
         "Type": "Moving average",
         "Units": "Injuries",
         "Upper_CI": 29.9153132081992,
         "Validation": "Validated"
        },
        {
         "Age": "0-14 years",
         "Cause": "Motor vehicle traffic crashes",
         "Data_value": 24,
         "Indicator": "Number",
         "Lower_CI": 14.3981766472893,
         "Period": "2006",
         "Population": "Children",
         "Series_reference": "m11",
         "Severity": "Fatal",
         "Type": "Single year",
         "Units": "Injuries",
         "Upper_CI": 33.6018233527106,
         "Validation": "Validated"
        },
        {
         "Age": "0-14 years",
         "Cause": "Motor vehicle traffic crashes",
         "Data_value": 23.6666666666666,
         "Indicator": "Number",
         "Lower_CI": 18.1616833054113,
         "Period": "2004-06",
         "Population": "Children",
         "Series_reference": "C_M11",
         "Severity": "Fatal",
         "Type": "Moving average",
         "Units": "Injuries",
         "Upper_CI": 29.171650027922,
         "Validation": "Validated"
        },
        {
         "Age": "0-14 years",
         "Cause": "Motor vehicle traffic crashes",
         "Data_value": 22,
         "Indicator": "Number",
         "Lower_CI": 12.806954038227,
         "Period": "2009",
         "Population": "Children",
         "Series_reference": "m11",
         "Severity": "Fatal",
         "Type": "Single year",
         "Units": "Injuries",
         "Upper_CI": 31.193045961773,
         "Validation": "Validated"
        },
        {
         "Age": "0-14 years",
         "Cause": "Motor vehicle traffic crashes",
         "Data_value": 21,
         "Indicator": "Number",
         "Lower_CI": 12.0183166814579,
         "Period": "2008",
         "Population": "Children",
         "Series_reference": "m11",
         "Severity": "Fatal",
         "Type": "Single year",
         "Units": "Injuries",
         "Upper_CI": 29.981683318542,
         "Validation": "Validated"
        },
        {
         "Age": "0-14 years",
         "Cause": "Motor vehicle traffic crashes",
         "Data_value": 19.3333333333333,
         "Indicator": "Number",
         "Lower_CI": 14.3577863326926,
         "Period": "2008-10",
         "Population": "Children",
         "Series_reference": "C_M11",
         "Severity": "Fatal",
         "Type": "Moving average",
         "Units": "Injuries",
         "Upper_CI": 24.308880333974,
         "Validation": "Validated"
        },
        {
         "Age": "0-14 years",
         "Cause": "Motor vehicle traffic crashes",
         "Data_value": 18,
         "Indicator": "Number",
         "Lower_CI": 9.68457705390193,
         "Period": "2004",
         "Population": "Children",
         "Series_reference": "m11",
         "Severity": "Fatal",
         "Type": "Single year",
         "Units": "Injuries",
         "Upper_CI": 26.315422946098,
         "Validation": "Validated"
        },
        {
         "Age": "0-14 years",
         "Cause": "Motor vehicle traffic crashes",
         "Data_value": 15.6666666666666,
         "Indicator": "Number",
         "Lower_CI": 11.1877212975892,
         "Period": "2009-11",
         "Population": "Children",
         "Series_reference": "C_M11",
         "Severity": "Fatal",
         "Type": "Moving average",
         "Units": "Injuries",
         "Upper_CI": 20.1456120357441,
         "Validation": "Validated"
        },
        {
         "Age": "0-14 years",
         "Cause": "Motor vehicle traffic crashes",
         "Data_value": 15,
         "Indicator": "Number",
         "Lower_CI": 7.40909212871004,
         "Period": "2010",
         "Population": "Children",
         "Series_reference": "m11",
         "Severity": "Fatal",
         "Type": "Single year",
         "Units": "Injuries",
         "Upper_CI": 22.5909078712899,
         "Validation": "Validated"
        },
        {
         "Age": "0-14 years",
         "Cause": "Motor vehicle traffic crashes",
         "Data_value": 15,
         "Indicator": "Number",
         "Lower_CI": 7.40909212871004,
         "Period": "2016",
         "Population": "Children",
         "Series_reference": "m11",
         "Severity": "Fatal",
         "Type": "Single year",
         "Units": "Injuries",
         "Upper_CI": 22.5909078712899,
         "Validation": "Validated"
        },
        {
         "Age": "0-14 years",
         "Cause": "Motor vehicle traffic crashes",
         "Data_value": 15,
         "Indicator": "Number",
         "Lower_CI": 7.40909212871004,
         "Period": "2018",
         "Population": "Children",
         "Series_reference": "m11",
         "Severity": "Fatal",
         "Type": "Single year",
         "Units": "Injuries",
         "Upper_CI": 22.5909078712899,
         "Validation": "Validated"
        },
        {
         "Age": "0-14 years",
         "Cause": "Motor vehicle traffic crashes",
         "Data_value": 14.3333333333333,
         "Indicator": "Number",
         "Lower_CI": 10.0492188871775,
         "Period": "2016-18",
         "Population": "Children",
         "Series_reference": "C_M11",
         "Severity": "Fatal",
         "Type": "Moving average",
         "Units": "Injuries",
         "Upper_CI": 18.6174477794891,
         "Validation": "Validated"
        },
        {
         "Age": "0-14 years",
         "Cause": "Motor vehicle traffic crashes",
         "Data_value": 14,
         "Indicator": "Number",
         "Lower_CI": 6.66648627943482,
         "Period": "2012",
         "Population": "Children",
         "Series_reference": "m11",
         "Severity": "Fatal",
         "Type": "Single year",
         "Units": "Injuries",
         "Upper_CI": 21.3335137205651,
         "Validation": "Validated"
        },
        {
         "Age": "0-14 years",
         "Cause": "Motor vehicle traffic crashes",
         "Data_value": 13,
         "Indicator": "Number",
         "Lower_CI": 8.9200096132048,
         "Period": "2010-12",
         "Population": "Children",
         "Series_reference": "C_M11",
         "Severity": "Fatal",
         "Type": "Moving average",
         "Units": "Injuries",
         "Upper_CI": 17.0799903867951,
         "Validation": "Validated"
        },
        {
         "Age": "0-14 years",
         "Cause": "Motor vehicle traffic crashes",
         "Data_value": 13,
         "Indicator": "Number",
         "Lower_CI": 5.93324935567812,
         "Period": "2014",
         "Population": "Children",
         "Series_reference": "m11",
         "Severity": "Fatal",
         "Type": "Single year",
         "Units": "Injuries",
         "Upper_CI": 20.0667506443218,
         "Validation": "Validated"
        },
        {
         "Age": "0-14 years",
         "Cause": "Motor vehicle traffic crashes",
         "Data_value": 13,
         "Indicator": "Number",
         "Lower_CI": 5.93324935567812,
         "Period": "2017",
         "Population": "Children",
         "Series_reference": "m11",
         "Severity": "Fatal",
         "Type": "Single year",
         "Units": "Injuries",
         "Upper_CI": 20.0667506443218,
         "Validation": "Validated"
        },
        {
         "Age": "0-14 years",
         "Cause": "Motor vehicle traffic crashes",
         "Data_value": 12.6666666666666,
         "Indicator": "Number",
         "Lower_CI": 8.63932352279547,
         "Period": "2014-16",
         "Population": "Children",
         "Series_reference": "C_M11",
         "Severity": "Fatal",
         "Type": "Moving average",
         "Units": "Injuries",
         "Upper_CI": 16.6940098105378,
         "Validation": "Validated"
        },
        {
         "Age": "0-14 years",
         "Cause": "Motor vehicle traffic crashes",
         "Data_value": 12.6666666666666,
         "Indicator": "Number",
         "Lower_CI": 8.63932352279547,
         "Period": "2015-17",
         "Population": "Children",
         "Series_reference": "C_M11",
         "Severity": "Fatal",
         "Type": "Moving average",
         "Units": "Injuries",
         "Upper_CI": 16.6940098105378,
         "Validation": "Validated"
        },
        {
         "Age": "0-14 years",
         "Cause": "Motor vehicle traffic crashes",
         "Data_value": 11.3333333333333,
         "Indicator": "Number",
         "Lower_CI": 7.52384809683921,
         "Period": "2012-14",
         "Population": "Children",
         "Series_reference": "C_M11",
         "Severity": "Fatal",
         "Type": "Moving average",
         "Units": "Injuries",
         "Upper_CI": 15.1428185698274,
         "Validation": "Validated"
        },
        {
         "Age": "0-14 years",
         "Cause": "Motor vehicle traffic crashes",
         "Data_value": 10.3333333333333,
         "Indicator": "Number",
         "Lower_CI": 6.69579412481585,
         "Period": "2011-13",
         "Population": "Children",
         "Series_reference": "C_M11",
         "Severity": "Fatal",
         "Type": "Moving average",
         "Units": "Injuries",
         "Upper_CI": 13.9708725418508,
         "Validation": "Validated"
        },
        {
         "Age": "0-14 years",
         "Cause": "Motor vehicle traffic crashes",
         "Data_value": 10,
         "Indicator": "Number",
         "Lower_CI": 6.42161171256568,
         "Period": "2013-15",
         "Population": "Children",
         "Series_reference": "C_M11",
         "Severity": "Fatal",
         "Type": "Moving average",
         "Units": "Injuries",
         "Upper_CI": 13.5783882874343,
         "Validation": "Validated"
        },
        {
         "Age": "0-14 years",
         "Cause": "Motor vehicle traffic crashes",
         "Data_value": 10,
         "Indicator": "Number",
         "Lower_CI": 3.80204967695438,
         "Period": "2011",
         "Population": "Children",
         "Series_reference": "m11",
         "Severity": "Fatal",
         "Type": "Single year",
         "Units": "Injuries",
         "Upper_CI": 16.1979503230456,
         "Validation": "Validated"
        },
        {
         "Age": "0-14 years",
         "Cause": "Motor vehicle traffic crashes",
         "Data_value": 10,
         "Indicator": "Number",
         "Lower_CI": 3.80204967695438,
         "Period": "2015",
         "Population": "Children",
         "Series_reference": "m11",
         "Severity": "Fatal",
         "Type": "Single year",
         "Units": "Injuries",
         "Upper_CI": 16.1979503230456,
         "Validation": "Validated"
        },
        {
         "Age": "0-14 years",
         "Cause": "Motor vehicle traffic crashes",
         "Data_value": 7,
         "Indicator": "Number",
         "Lower_CI": 1.81442271826377,
         "Period": "2013",
         "Population": "Children",
         "Series_reference": "m11",
         "Severity": "Fatal",
         "Type": "Single year",
         "Units": "Injuries",
         "Upper_CI": 12.1855772817362,
         "Validation": "Validated"
        }
       ],
       "schema": {
        "fields": [
         {
          "name": "Series_reference",
          "type": "string"
         },
         {
          "name": "Period",
          "type": "string"
         },
         {
          "name": "Type",
          "type": "string"
         },
         {
          "name": "Data_value",
          "type": "number"
         },
         {
          "name": "Lower_CI",
          "type": "number"
         },
         {
          "name": "Upper_CI",
          "type": "number"
         },
         {
          "name": "Units",
          "type": "string"
         },
         {
          "name": "Indicator",
          "type": "string"
         },
         {
          "name": "Cause",
          "type": "string"
         },
         {
          "name": "Validation",
          "type": "string"
         },
         {
          "name": "Population",
          "type": "string"
         },
         {
          "name": "Age",
          "type": "string"
         },
         {
          "name": "Severity",
          "type": "string"
         }
        ]
       }
      },
      "text/html": [
       "<table><thead><tr><th>Series_reference</th><th>Period</th><th>Type</th><th>Data_value</th><th>Lower_CI</th><th>Upper_CI</th><th>Units</th><th>Indicator</th><th>Cause</th><th>Validation</th><th>Population</th><th>Age</th><th>Severity</th></tr></thead><tbody><tr><td>String7&#40;&quot;C_IN01&quot;&#41;</td><td>String7&#40;&quot;2004-06&quot;&#41;</td><td>String15&#40;&quot;Moving average&quot;&#41;</td><td>40.0</td><td>32.8432</td><td>47.1568</td><td>&quot;Injuries&quot;</td><td>&quot;Number&quot;</td><td>String31&#40;&quot;Intentional&quot;&#41;</td><td>String15&#40;&quot;Validated&quot;&#41;</td><td>String15&#40;&quot;Children&quot;&#41;</td><td>String15&#40;&quot;0-14 years&quot;&#41;</td><td>String31&#40;&quot;Serious non-fatal&quot;&#41;</td></tr><tr><td>String7&#40;&quot;C_A21&quot;&#41;</td><td>String7&#40;&quot;2003-05&quot;&#41;</td><td>String15&#40;&quot;Moving average&quot;&#41;</td><td>40.0</td><td>32.8432</td><td>47.1568</td><td>&quot;Injuries&quot;</td><td>&quot;Number&quot;</td><td>String31&#40;&quot;Assault&quot;&#41;</td><td>String15&#40;&quot;Validated&quot;&#41;</td><td>String15&#40;&quot;Children&quot;&#41;</td><td>String15&#40;&quot;0-14 years&quot;&#41;</td><td>String31&#40;&quot;Serious&quot;&#41;</td></tr><tr><td>String7&#40;&quot;a11&quot;&#41;</td><td>String7&#40;&quot;2017&quot;&#41;</td><td>String15&#40;&quot;Single year&quot;&#41;</td><td>40.0</td><td>27.6041</td><td>52.3959</td><td>&quot;Injuries&quot;</td><td>&quot;Number&quot;</td><td>String31&#40;&quot;Assault&quot;&#41;</td><td>String15&#40;&quot;Validated&quot;&#41;</td><td>String15&#40;&quot;Whole pop&quot;&#41;</td><td>String15&#40;&quot;All ages&quot;&#41;</td><td>String31&#40;&quot;Fatal&quot;&#41;</td></tr><tr><td>String7&#40;&quot;in01&quot;&#41;</td><td>String7&#40;&quot;2005&quot;&#41;</td><td>String15&#40;&quot;Single year&quot;&#41;</td><td>40.0</td><td>27.6041</td><td>52.3959</td><td>&quot;Injuries&quot;</td><td>&quot;Number&quot;</td><td>String31&#40;&quot;Intentional&quot;&#41;</td><td>String15&#40;&quot;Validated&quot;&#41;</td><td>String15&#40;&quot;Children&quot;&#41;</td><td>String15&#40;&quot;0-14 years&quot;&#41;</td><td>String31&#40;&quot;Serious non-fatal&quot;&#41;</td></tr><tr><td>String7&#40;&quot;in01&quot;&#41;</td><td>String7&#40;&quot;2012&quot;&#41;</td><td>String15&#40;&quot;Single year&quot;&#41;</td><td>40.0</td><td>27.6041</td><td>52.3959</td><td>&quot;Injuries&quot;</td><td>&quot;Number&quot;</td><td>String31&#40;&quot;Intentional&quot;&#41;</td><td>String15&#40;&quot;Validated&quot;&#41;</td><td>String15&#40;&quot;Children&quot;&#41;</td><td>String15&#40;&quot;0-14 years&quot;&#41;</td><td>String31&#40;&quot;Serious non-fatal&quot;&#41;</td></tr><tr><td>String7&#40;&quot;in01&quot;&#41;</td><td>String7&#40;&quot;2016&quot;&#41;</td><td>String15&#40;&quot;Single year&quot;&#41;</td><td>40.0</td><td>27.6041</td><td>52.3959</td><td>&quot;Injuries&quot;</td><td>&quot;Number&quot;</td><td>String31&#40;&quot;Intentional&quot;&#41;</td><td>String15&#40;&quot;Validated&quot;&#41;</td><td>String15&#40;&quot;Children&quot;&#41;</td><td>String15&#40;&quot;0-14 years&quot;&#41;</td><td>String31&#40;&quot;Serious non-fatal&quot;&#41;</td></tr><tr><td>String7&#40;&quot;in01&quot;&#41;</td><td>String7&#40;&quot;2019&quot;&#41;</td><td>String15&#40;&quot;Single year&quot;&#41;</td><td>40.0</td><td>27.6041</td><td>52.3959</td><td>&quot;Injuries&quot;</td><td>&quot;Number&quot;</td><td>String31&#40;&quot;Intentional&quot;&#41;</td><td>String15&#40;&quot;Validated&quot;&#41;</td><td>String15&#40;&quot;Children&quot;&#41;</td><td>String15&#40;&quot;0-14 years&quot;&#41;</td><td>String31&#40;&quot;Serious non-fatal&quot;&#41;</td></tr><tr><td>String7&#40;&quot;a21&quot;&#41;</td><td>String7&#40;&quot;2017&quot;&#41;</td><td>String15&#40;&quot;Single year&quot;&#41;</td><td>40.0</td><td>27.6041</td><td>52.3959</td><td>&quot;Injuries&quot;</td><td>&quot;Number&quot;</td><td>String31&#40;&quot;Assault&quot;&#41;</td><td>String15&#40;&quot;Validated&quot;&#41;</td><td>String15&#40;&quot;Children&quot;&#41;</td><td>String15&#40;&quot;0-14 years&quot;&#41;</td><td>String31&#40;&quot;Serious&quot;&#41;</td></tr><tr><td>String7&#40;&quot;p21&quot;&#41;</td><td>String7&#40;&quot;2017&quot;&#41;</td><td>String15&#40;&quot;Single year&quot;&#41;</td><td>40.0</td><td>27.6041</td><td>52.3959</td><td>&quot;Injuries&quot;</td><td>&quot;Number&quot;</td><td>String31&#40;&quot;Pedestrian&quot;&#41;</td><td>String15&#40;&quot;Validated&quot;&#41;</td><td>String15&#40;&quot;Children&quot;&#41;</td><td>String15&#40;&quot;0-14 years&quot;&#41;</td><td>String31&#40;&quot;Serious&quot;&#41;</td></tr><tr><td>String7&#40;&quot;C_IN01&quot;&#41;</td><td>String7&#40;&quot;2011-13&quot;&#41;</td><td>String15&#40;&quot;Moving average&quot;&#41;</td><td>39.6667</td><td>32.5398</td><td>46.7936</td><td>&quot;Injuries&quot;</td><td>&quot;Number&quot;</td><td>String31&#40;&quot;Intentional&quot;&#41;</td><td>String15&#40;&quot;Validated&quot;&#41;</td><td>String15&#40;&quot;Children&quot;&#41;</td><td>String15&#40;&quot;0-14 years&quot;&#41;</td><td>String31&#40;&quot;Serious non-fatal&quot;&#41;</td></tr><tr><td>&vellip;</td><td>&vellip;</td><td>&vellip;</td><td>&vellip;</td><td>&vellip;</td><td>&vellip;</td><td>&vellip;</td><td>&vellip;</td><td>&vellip;</td><td>&vellip;</td><td>&vellip;</td><td>&vellip;</td><td>&vellip;</td></tr></tbody></table><p>... with more rows.</p>"
      ],
      "text/plain": [
       "?x13 query result\n",
       "Series_reference │ Period  │ Type           │ Data_value │ Lower_CI │ Upper_CI\n",
       "─────────────────┼─────────┼────────────────┼────────────┼──────────┼─────────\n",
       "C_IN01           │ 2004-06 │ Moving average │ 40.0       │ 32.8432  │ 47.1568 \n",
       "C_A21            │ 2003-05 │ Moving average │ 40.0       │ 32.8432  │ 47.1568 \n",
       "a11              │ 2017    │ Single year    │ 40.0       │ 27.6041  │ 52.3959 \n",
       "in01             │ 2005    │ Single year    │ 40.0       │ 27.6041  │ 52.3959 \n",
       "in01             │ 2012    │ Single year    │ 40.0       │ 27.6041  │ 52.3959 \n",
       "in01             │ 2016    │ Single year    │ 40.0       │ 27.6041  │ 52.3959 \n",
       "in01             │ 2019    │ Single year    │ 40.0       │ 27.6041  │ 52.3959 \n",
       "a21              │ 2017    │ Single year    │ 40.0       │ 27.6041  │ 52.3959 \n",
       "p21              │ 2017    │ Single year    │ 40.0       │ 27.6041  │ 52.3959 \n",
       "C_IN01           │ 2011-13 │ Moving average │ 39.6667    │ 32.5398  │ 46.7936 \n",
       "... with more rows, and 7 more columns: Units, Indicator, Cause, Validation, Population, Age, Severity"
      ]
     },
     "metadata": {},
     "output_type": "display_data"
    }
   ],
   "source": [
    "# Select only the ones that correspond to injuries\n",
    "q1 = df |>\n",
    "    @filter(_.Units == \"Injuries\" && _.Data_value <= 40.0) |>\n",
    "    @orderby_descending(_.Data_value)"
   ]
  },
  {
   "cell_type": "code",
   "execution_count": 18,
   "metadata": {},
   "outputs": [
    {
     "data": {
      "text/html": [
       "<div><div style = \"float: left;\"><span>94×13 DataFrame</span></div><div style = \"float: right;\"><span style = \"font-style: italic;\">69 rows omitted</span></div><div style = \"clear: both;\"></div></div><div class = \"data-frame\" style = \"overflow-x: scroll;\"><table class = \"data-frame\" style = \"margin-bottom: 6px;\"><thead><tr class = \"header\"><th class = \"rowNumber\" style = \"font-weight: bold; text-align: right;\">Row</th><th style = \"text-align: left;\">Series_reference</th><th style = \"text-align: left;\">Period</th><th style = \"text-align: left;\">Type</th><th style = \"text-align: left;\">Data_value</th><th style = \"text-align: left;\">Lower_CI</th><th style = \"text-align: left;\">Upper_CI</th><th style = \"text-align: left;\">Units</th><th style = \"text-align: left;\">Indicator</th><th style = \"text-align: left;\">Cause</th><th style = \"text-align: left;\">Validation</th><th style = \"text-align: left;\">Population</th><th style = \"text-align: left;\">Age</th><th style = \"text-align: left;\">Severity</th></tr><tr class = \"subheader headerLastRow\"><th class = \"rowNumber\" style = \"font-weight: bold; text-align: right;\"></th><th title = \"String7\" style = \"text-align: left;\">String7</th><th title = \"String7\" style = \"text-align: left;\">String7</th><th title = \"String15\" style = \"text-align: left;\">String15</th><th title = \"Float64\" style = \"text-align: left;\">Float64</th><th title = \"Float64\" style = \"text-align: left;\">Float64</th><th title = \"Float64\" style = \"text-align: left;\">Float64</th><th title = \"String\" style = \"text-align: left;\">String</th><th title = \"String\" style = \"text-align: left;\">String</th><th title = \"String31\" style = \"text-align: left;\">String31</th><th title = \"String15\" style = \"text-align: left;\">String15</th><th title = \"String15\" style = \"text-align: left;\">String15</th><th title = \"String15\" style = \"text-align: left;\">String15</th><th title = \"String31\" style = \"text-align: left;\">String31</th></tr></thead><tbody><tr><td class = \"rowNumber\" style = \"font-weight: bold; text-align: right;\">1</td><td style = \"text-align: left;\">C_IN01</td><td style = \"text-align: left;\">2004-06</td><td style = \"text-align: left;\">Moving average</td><td style = \"text-align: right;\">40.0</td><td style = \"text-align: right;\">32.8432</td><td style = \"text-align: right;\">47.1568</td><td style = \"text-align: left;\">Injuries</td><td style = \"text-align: left;\">Number</td><td style = \"text-align: left;\">Intentional</td><td style = \"text-align: left;\">Validated</td><td style = \"text-align: left;\">Children</td><td style = \"text-align: left;\">0-14 years</td><td style = \"text-align: left;\">Serious non-fatal</td></tr><tr><td class = \"rowNumber\" style = \"font-weight: bold; text-align: right;\">2</td><td style = \"text-align: left;\">C_A21</td><td style = \"text-align: left;\">2003-05</td><td style = \"text-align: left;\">Moving average</td><td style = \"text-align: right;\">40.0</td><td style = \"text-align: right;\">32.8432</td><td style = \"text-align: right;\">47.1568</td><td style = \"text-align: left;\">Injuries</td><td style = \"text-align: left;\">Number</td><td style = \"text-align: left;\">Assault</td><td style = \"text-align: left;\">Validated</td><td style = \"text-align: left;\">Children</td><td style = \"text-align: left;\">0-14 years</td><td style = \"text-align: left;\">Serious</td></tr><tr><td class = \"rowNumber\" style = \"font-weight: bold; text-align: right;\">3</td><td style = \"text-align: left;\">a11</td><td style = \"text-align: left;\">2017</td><td style = \"text-align: left;\">Single year</td><td style = \"text-align: right;\">40.0</td><td style = \"text-align: right;\">27.6041</td><td style = \"text-align: right;\">52.3959</td><td style = \"text-align: left;\">Injuries</td><td style = \"text-align: left;\">Number</td><td style = \"text-align: left;\">Assault</td><td style = \"text-align: left;\">Validated</td><td style = \"text-align: left;\">Whole pop</td><td style = \"text-align: left;\">All ages</td><td style = \"text-align: left;\">Fatal</td></tr><tr><td class = \"rowNumber\" style = \"font-weight: bold; text-align: right;\">4</td><td style = \"text-align: left;\">in01</td><td style = \"text-align: left;\">2005</td><td style = \"text-align: left;\">Single year</td><td style = \"text-align: right;\">40.0</td><td style = \"text-align: right;\">27.6041</td><td style = \"text-align: right;\">52.3959</td><td style = \"text-align: left;\">Injuries</td><td style = \"text-align: left;\">Number</td><td style = \"text-align: left;\">Intentional</td><td style = \"text-align: left;\">Validated</td><td style = \"text-align: left;\">Children</td><td style = \"text-align: left;\">0-14 years</td><td style = \"text-align: left;\">Serious non-fatal</td></tr><tr><td class = \"rowNumber\" style = \"font-weight: bold; text-align: right;\">5</td><td style = \"text-align: left;\">in01</td><td style = \"text-align: left;\">2012</td><td style = \"text-align: left;\">Single year</td><td style = \"text-align: right;\">40.0</td><td style = \"text-align: right;\">27.6041</td><td style = \"text-align: right;\">52.3959</td><td style = \"text-align: left;\">Injuries</td><td style = \"text-align: left;\">Number</td><td style = \"text-align: left;\">Intentional</td><td style = \"text-align: left;\">Validated</td><td style = \"text-align: left;\">Children</td><td style = \"text-align: left;\">0-14 years</td><td style = \"text-align: left;\">Serious non-fatal</td></tr><tr><td class = \"rowNumber\" style = \"font-weight: bold; text-align: right;\">6</td><td style = \"text-align: left;\">in01</td><td style = \"text-align: left;\">2016</td><td style = \"text-align: left;\">Single year</td><td style = \"text-align: right;\">40.0</td><td style = \"text-align: right;\">27.6041</td><td style = \"text-align: right;\">52.3959</td><td style = \"text-align: left;\">Injuries</td><td style = \"text-align: left;\">Number</td><td style = \"text-align: left;\">Intentional</td><td style = \"text-align: left;\">Validated</td><td style = \"text-align: left;\">Children</td><td style = \"text-align: left;\">0-14 years</td><td style = \"text-align: left;\">Serious non-fatal</td></tr><tr><td class = \"rowNumber\" style = \"font-weight: bold; text-align: right;\">7</td><td style = \"text-align: left;\">in01</td><td style = \"text-align: left;\">2019</td><td style = \"text-align: left;\">Single year</td><td style = \"text-align: right;\">40.0</td><td style = \"text-align: right;\">27.6041</td><td style = \"text-align: right;\">52.3959</td><td style = \"text-align: left;\">Injuries</td><td style = \"text-align: left;\">Number</td><td style = \"text-align: left;\">Intentional</td><td style = \"text-align: left;\">Validated</td><td style = \"text-align: left;\">Children</td><td style = \"text-align: left;\">0-14 years</td><td style = \"text-align: left;\">Serious non-fatal</td></tr><tr><td class = \"rowNumber\" style = \"font-weight: bold; text-align: right;\">8</td><td style = \"text-align: left;\">a21</td><td style = \"text-align: left;\">2017</td><td style = \"text-align: left;\">Single year</td><td style = \"text-align: right;\">40.0</td><td style = \"text-align: right;\">27.6041</td><td style = \"text-align: right;\">52.3959</td><td style = \"text-align: left;\">Injuries</td><td style = \"text-align: left;\">Number</td><td style = \"text-align: left;\">Assault</td><td style = \"text-align: left;\">Validated</td><td style = \"text-align: left;\">Children</td><td style = \"text-align: left;\">0-14 years</td><td style = \"text-align: left;\">Serious</td></tr><tr><td class = \"rowNumber\" style = \"font-weight: bold; text-align: right;\">9</td><td style = \"text-align: left;\">p21</td><td style = \"text-align: left;\">2017</td><td style = \"text-align: left;\">Single year</td><td style = \"text-align: right;\">40.0</td><td style = \"text-align: right;\">27.6041</td><td style = \"text-align: right;\">52.3959</td><td style = \"text-align: left;\">Injuries</td><td style = \"text-align: left;\">Number</td><td style = \"text-align: left;\">Pedestrian</td><td style = \"text-align: left;\">Validated</td><td style = \"text-align: left;\">Children</td><td style = \"text-align: left;\">0-14 years</td><td style = \"text-align: left;\">Serious</td></tr><tr><td class = \"rowNumber\" style = \"font-weight: bold; text-align: right;\">10</td><td style = \"text-align: left;\">C_IN01</td><td style = \"text-align: left;\">2011-13</td><td style = \"text-align: left;\">Moving average</td><td style = \"text-align: right;\">39.6667</td><td style = \"text-align: right;\">32.5398</td><td style = \"text-align: right;\">46.7936</td><td style = \"text-align: left;\">Injuries</td><td style = \"text-align: left;\">Number</td><td style = \"text-align: left;\">Intentional</td><td style = \"text-align: left;\">Validated</td><td style = \"text-align: left;\">Children</td><td style = \"text-align: left;\">0-14 years</td><td style = \"text-align: left;\">Serious non-fatal</td></tr><tr><td class = \"rowNumber\" style = \"font-weight: bold; text-align: right;\">11</td><td style = \"text-align: left;\">C_P21</td><td style = \"text-align: left;\">2010-12</td><td style = \"text-align: left;\">Moving average</td><td style = \"text-align: right;\">39.6667</td><td style = \"text-align: right;\">32.5398</td><td style = \"text-align: right;\">46.7936</td><td style = \"text-align: left;\">Injuries</td><td style = \"text-align: left;\">Number</td><td style = \"text-align: left;\">Pedestrian</td><td style = \"text-align: left;\">Validated</td><td style = \"text-align: left;\">Children</td><td style = \"text-align: left;\">0-14 years</td><td style = \"text-align: left;\">Serious</td></tr><tr><td class = \"rowNumber\" style = \"font-weight: bold; text-align: right;\">12</td><td style = \"text-align: left;\">C_P21</td><td style = \"text-align: left;\">2015-17</td><td style = \"text-align: left;\">Moving average</td><td style = \"text-align: right;\">39.0</td><td style = \"text-align: right;\">31.9332</td><td style = \"text-align: right;\">46.0668</td><td style = \"text-align: left;\">Injuries</td><td style = \"text-align: left;\">Number</td><td style = \"text-align: left;\">Pedestrian</td><td style = \"text-align: left;\">Validated</td><td style = \"text-align: left;\">Children</td><td style = \"text-align: left;\">0-14 years</td><td style = \"text-align: left;\">Serious</td></tr><tr><td class = \"rowNumber\" style = \"font-weight: bold; text-align: right;\">13</td><td style = \"text-align: left;\">C_P21</td><td style = \"text-align: left;\">2016-18</td><td style = \"text-align: left;\">Moving average</td><td style = \"text-align: right;\">39.0</td><td style = \"text-align: right;\">31.9332</td><td style = \"text-align: right;\">46.0668</td><td style = \"text-align: left;\">Injuries</td><td style = \"text-align: left;\">Number</td><td style = \"text-align: left;\">Pedestrian</td><td style = \"text-align: left;\">Validated</td><td style = \"text-align: left;\">Children</td><td style = \"text-align: left;\">0-14 years</td><td style = \"text-align: left;\">Serious</td></tr><tr><td style = \"text-align: right;\">&vellip;</td><td style = \"text-align: right;\">&vellip;</td><td style = \"text-align: right;\">&vellip;</td><td style = \"text-align: right;\">&vellip;</td><td style = \"text-align: right;\">&vellip;</td><td style = \"text-align: right;\">&vellip;</td><td style = \"text-align: right;\">&vellip;</td><td style = \"text-align: right;\">&vellip;</td><td style = \"text-align: right;\">&vellip;</td><td style = \"text-align: right;\">&vellip;</td><td style = \"text-align: right;\">&vellip;</td><td style = \"text-align: right;\">&vellip;</td><td style = \"text-align: right;\">&vellip;</td><td style = \"text-align: right;\">&vellip;</td></tr><tr><td class = \"rowNumber\" style = \"font-weight: bold; text-align: right;\">83</td><td style = \"text-align: left;\">m11</td><td style = \"text-align: left;\">2012</td><td style = \"text-align: left;\">Single year</td><td style = \"text-align: right;\">14.0</td><td style = \"text-align: right;\">6.66649</td><td style = \"text-align: right;\">21.3335</td><td style = \"text-align: left;\">Injuries</td><td style = \"text-align: left;\">Number</td><td style = \"text-align: left;\">Motor vehicle traffic crashes</td><td style = \"text-align: left;\">Validated</td><td style = \"text-align: left;\">Children</td><td style = \"text-align: left;\">0-14 years</td><td style = \"text-align: left;\">Fatal</td></tr><tr><td class = \"rowNumber\" style = \"font-weight: bold; text-align: right;\">84</td><td style = \"text-align: left;\">C_M11</td><td style = \"text-align: left;\">2010-12</td><td style = \"text-align: left;\">Moving average</td><td style = \"text-align: right;\">13.0</td><td style = \"text-align: right;\">8.92001</td><td style = \"text-align: right;\">17.08</td><td style = \"text-align: left;\">Injuries</td><td style = \"text-align: left;\">Number</td><td style = \"text-align: left;\">Motor vehicle traffic crashes</td><td style = \"text-align: left;\">Validated</td><td style = \"text-align: left;\">Children</td><td style = \"text-align: left;\">0-14 years</td><td style = \"text-align: left;\">Fatal</td></tr><tr><td class = \"rowNumber\" style = \"font-weight: bold; text-align: right;\">85</td><td style = \"text-align: left;\">m11</td><td style = \"text-align: left;\">2014</td><td style = \"text-align: left;\">Single year</td><td style = \"text-align: right;\">13.0</td><td style = \"text-align: right;\">5.93325</td><td style = \"text-align: right;\">20.0668</td><td style = \"text-align: left;\">Injuries</td><td style = \"text-align: left;\">Number</td><td style = \"text-align: left;\">Motor vehicle traffic crashes</td><td style = \"text-align: left;\">Validated</td><td style = \"text-align: left;\">Children</td><td style = \"text-align: left;\">0-14 years</td><td style = \"text-align: left;\">Fatal</td></tr><tr><td class = \"rowNumber\" style = \"font-weight: bold; text-align: right;\">86</td><td style = \"text-align: left;\">m11</td><td style = \"text-align: left;\">2017</td><td style = \"text-align: left;\">Single year</td><td style = \"text-align: right;\">13.0</td><td style = \"text-align: right;\">5.93325</td><td style = \"text-align: right;\">20.0668</td><td style = \"text-align: left;\">Injuries</td><td style = \"text-align: left;\">Number</td><td style = \"text-align: left;\">Motor vehicle traffic crashes</td><td style = \"text-align: left;\">Validated</td><td style = \"text-align: left;\">Children</td><td style = \"text-align: left;\">0-14 years</td><td style = \"text-align: left;\">Fatal</td></tr><tr><td class = \"rowNumber\" style = \"font-weight: bold; text-align: right;\">87</td><td style = \"text-align: left;\">C_M11</td><td style = \"text-align: left;\">2014-16</td><td style = \"text-align: left;\">Moving average</td><td style = \"text-align: right;\">12.6667</td><td style = \"text-align: right;\">8.63932</td><td style = \"text-align: right;\">16.694</td><td style = \"text-align: left;\">Injuries</td><td style = \"text-align: left;\">Number</td><td style = \"text-align: left;\">Motor vehicle traffic crashes</td><td style = \"text-align: left;\">Validated</td><td style = \"text-align: left;\">Children</td><td style = \"text-align: left;\">0-14 years</td><td style = \"text-align: left;\">Fatal</td></tr><tr><td class = \"rowNumber\" style = \"font-weight: bold; text-align: right;\">88</td><td style = \"text-align: left;\">C_M11</td><td style = \"text-align: left;\">2015-17</td><td style = \"text-align: left;\">Moving average</td><td style = \"text-align: right;\">12.6667</td><td style = \"text-align: right;\">8.63932</td><td style = \"text-align: right;\">16.694</td><td style = \"text-align: left;\">Injuries</td><td style = \"text-align: left;\">Number</td><td style = \"text-align: left;\">Motor vehicle traffic crashes</td><td style = \"text-align: left;\">Validated</td><td style = \"text-align: left;\">Children</td><td style = \"text-align: left;\">0-14 years</td><td style = \"text-align: left;\">Fatal</td></tr><tr><td class = \"rowNumber\" style = \"font-weight: bold; text-align: right;\">89</td><td style = \"text-align: left;\">C_M11</td><td style = \"text-align: left;\">2012-14</td><td style = \"text-align: left;\">Moving average</td><td style = \"text-align: right;\">11.3333</td><td style = \"text-align: right;\">7.52385</td><td style = \"text-align: right;\">15.1428</td><td style = \"text-align: left;\">Injuries</td><td style = \"text-align: left;\">Number</td><td style = \"text-align: left;\">Motor vehicle traffic crashes</td><td style = \"text-align: left;\">Validated</td><td style = \"text-align: left;\">Children</td><td style = \"text-align: left;\">0-14 years</td><td style = \"text-align: left;\">Fatal</td></tr><tr><td class = \"rowNumber\" style = \"font-weight: bold; text-align: right;\">90</td><td style = \"text-align: left;\">C_M11</td><td style = \"text-align: left;\">2011-13</td><td style = \"text-align: left;\">Moving average</td><td style = \"text-align: right;\">10.3333</td><td style = \"text-align: right;\">6.69579</td><td style = \"text-align: right;\">13.9709</td><td style = \"text-align: left;\">Injuries</td><td style = \"text-align: left;\">Number</td><td style = \"text-align: left;\">Motor vehicle traffic crashes</td><td style = \"text-align: left;\">Validated</td><td style = \"text-align: left;\">Children</td><td style = \"text-align: left;\">0-14 years</td><td style = \"text-align: left;\">Fatal</td></tr><tr><td class = \"rowNumber\" style = \"font-weight: bold; text-align: right;\">91</td><td style = \"text-align: left;\">C_M11</td><td style = \"text-align: left;\">2013-15</td><td style = \"text-align: left;\">Moving average</td><td style = \"text-align: right;\">10.0</td><td style = \"text-align: right;\">6.42161</td><td style = \"text-align: right;\">13.5784</td><td style = \"text-align: left;\">Injuries</td><td style = \"text-align: left;\">Number</td><td style = \"text-align: left;\">Motor vehicle traffic crashes</td><td style = \"text-align: left;\">Validated</td><td style = \"text-align: left;\">Children</td><td style = \"text-align: left;\">0-14 years</td><td style = \"text-align: left;\">Fatal</td></tr><tr><td class = \"rowNumber\" style = \"font-weight: bold; text-align: right;\">92</td><td style = \"text-align: left;\">m11</td><td style = \"text-align: left;\">2011</td><td style = \"text-align: left;\">Single year</td><td style = \"text-align: right;\">10.0</td><td style = \"text-align: right;\">3.80205</td><td style = \"text-align: right;\">16.198</td><td style = \"text-align: left;\">Injuries</td><td style = \"text-align: left;\">Number</td><td style = \"text-align: left;\">Motor vehicle traffic crashes</td><td style = \"text-align: left;\">Validated</td><td style = \"text-align: left;\">Children</td><td style = \"text-align: left;\">0-14 years</td><td style = \"text-align: left;\">Fatal</td></tr><tr><td class = \"rowNumber\" style = \"font-weight: bold; text-align: right;\">93</td><td style = \"text-align: left;\">m11</td><td style = \"text-align: left;\">2015</td><td style = \"text-align: left;\">Single year</td><td style = \"text-align: right;\">10.0</td><td style = \"text-align: right;\">3.80205</td><td style = \"text-align: right;\">16.198</td><td style = \"text-align: left;\">Injuries</td><td style = \"text-align: left;\">Number</td><td style = \"text-align: left;\">Motor vehicle traffic crashes</td><td style = \"text-align: left;\">Validated</td><td style = \"text-align: left;\">Children</td><td style = \"text-align: left;\">0-14 years</td><td style = \"text-align: left;\">Fatal</td></tr><tr><td class = \"rowNumber\" style = \"font-weight: bold; text-align: right;\">94</td><td style = \"text-align: left;\">m11</td><td style = \"text-align: left;\">2013</td><td style = \"text-align: left;\">Single year</td><td style = \"text-align: right;\">7.0</td><td style = \"text-align: right;\">1.81442</td><td style = \"text-align: right;\">12.1856</td><td style = \"text-align: left;\">Injuries</td><td style = \"text-align: left;\">Number</td><td style = \"text-align: left;\">Motor vehicle traffic crashes</td><td style = \"text-align: left;\">Validated</td><td style = \"text-align: left;\">Children</td><td style = \"text-align: left;\">0-14 years</td><td style = \"text-align: left;\">Fatal</td></tr></tbody></table></div>"
      ],
      "text/latex": [
       "\\begin{tabular}{r|cccccccc}\n",
       "\t& Series\\_reference & Period & Type & Data\\_value & Lower\\_CI & Upper\\_CI & Units & \\\\\n",
       "\t\\hline\n",
       "\t& String7 & String7 & String15 & Float64 & Float64 & Float64 & String & \\\\\n",
       "\t\\hline\n",
       "\t1 & C\\_IN01 & 2004-06 & Moving average & 40.0 & 32.8432 & 47.1568 & Injuries & $\\dots$ \\\\\n",
       "\t2 & C\\_A21 & 2003-05 & Moving average & 40.0 & 32.8432 & 47.1568 & Injuries & $\\dots$ \\\\\n",
       "\t3 & a11 & 2017 & Single year & 40.0 & 27.6041 & 52.3959 & Injuries & $\\dots$ \\\\\n",
       "\t4 & in01 & 2005 & Single year & 40.0 & 27.6041 & 52.3959 & Injuries & $\\dots$ \\\\\n",
       "\t5 & in01 & 2012 & Single year & 40.0 & 27.6041 & 52.3959 & Injuries & $\\dots$ \\\\\n",
       "\t6 & in01 & 2016 & Single year & 40.0 & 27.6041 & 52.3959 & Injuries & $\\dots$ \\\\\n",
       "\t7 & in01 & 2019 & Single year & 40.0 & 27.6041 & 52.3959 & Injuries & $\\dots$ \\\\\n",
       "\t8 & a21 & 2017 & Single year & 40.0 & 27.6041 & 52.3959 & Injuries & $\\dots$ \\\\\n",
       "\t9 & p21 & 2017 & Single year & 40.0 & 27.6041 & 52.3959 & Injuries & $\\dots$ \\\\\n",
       "\t10 & C\\_IN01 & 2011-13 & Moving average & 39.6667 & 32.5398 & 46.7936 & Injuries & $\\dots$ \\\\\n",
       "\t11 & C\\_P21 & 2010-12 & Moving average & 39.6667 & 32.5398 & 46.7936 & Injuries & $\\dots$ \\\\\n",
       "\t12 & C\\_P21 & 2015-17 & Moving average & 39.0 & 31.9332 & 46.0668 & Injuries & $\\dots$ \\\\\n",
       "\t13 & C\\_P21 & 2016-18 & Moving average & 39.0 & 31.9332 & 46.0668 & Injuries & $\\dots$ \\\\\n",
       "\t14 & f01c & 2004 & Single year & 39.0 & 26.76 & 51.24 & Injuries & $\\dots$ \\\\\n",
       "\t15 & in21 & 2013 & Single year & 39.0 & 26.76 & 51.24 & Injuries & $\\dots$ \\\\\n",
       "\t16 & p21 & 2011 & Single year & 39.0 & 26.76 & 51.24 & Injuries & $\\dots$ \\\\\n",
       "\t17 & C\\_IN01 & 2002-04 & Moving average & 38.6667 & 31.6302 & 45.7032 & Injuries & $\\dots$ \\\\\n",
       "\t18 & C\\_P21 & 2012-14 & Moving average & 38.3333 & 31.3272 & 45.3394 & Injuries & $\\dots$ \\\\\n",
       "\t19 & M\\_F01C & 2003-05 & Moving average & 38.0 & 31.0244 & 44.9756 & Injuries & $\\dots$ \\\\\n",
       "\t20 & M\\_F21C & 2002-04 & Moving average & 38.0 & 31.0244 & 44.9756 & Injuries & $\\dots$ \\\\\n",
       "\t21 & in01 & 2004 & Single year & 38.0 & 25.918 & 50.082 & Injuries & $\\dots$ \\\\\n",
       "\t22 & C\\_A21 & 2011-13 & Moving average & 37.3333 & 30.4192 & 44.2474 & Injuries & $\\dots$ \\\\\n",
       "\t23 & in01 & 2008 & Single year & 37.0 & 25.078 & 48.922 & Injuries & $\\dots$ \\\\\n",
       "\t24 & in01 & 2013 & Single year & 37.0 & 25.078 & 48.922 & Injuries & $\\dots$ \\\\\n",
       "\t$\\dots$ & $\\dots$ & $\\dots$ & $\\dots$ & $\\dots$ & $\\dots$ & $\\dots$ & $\\dots$ &  \\\\\n",
       "\\end{tabular}\n"
      ],
      "text/plain": [
       "\u001b[1m94×13 DataFrame\u001b[0m\n",
       "\u001b[1m Row \u001b[0m│\u001b[1m Series_reference \u001b[0m\u001b[1m Period  \u001b[0m\u001b[1m Type           \u001b[0m\u001b[1m Data_value \u001b[0m\u001b[1m Lower_CI \u001b[0m\u001b[1m Upper_\u001b[0m ⋯\n",
       "     │\u001b[90m String7          \u001b[0m\u001b[90m String7 \u001b[0m\u001b[90m String15       \u001b[0m\u001b[90m Float64    \u001b[0m\u001b[90m Float64  \u001b[0m\u001b[90m Float6\u001b[0m ⋯\n",
       "─────┼──────────────────────────────────────────────────────────────────────────\n",
       "   1 │ C_IN01            2004-06  Moving average     40.0     32.8432    47.15 ⋯\n",
       "   2 │ C_A21             2003-05  Moving average     40.0     32.8432    47.15\n",
       "   3 │ a11               2017     Single year        40.0     27.6041    52.39\n",
       "   4 │ in01              2005     Single year        40.0     27.6041    52.39\n",
       "   5 │ in01              2012     Single year        40.0     27.6041    52.39 ⋯\n",
       "   6 │ in01              2016     Single year        40.0     27.6041    52.39\n",
       "   7 │ in01              2019     Single year        40.0     27.6041    52.39\n",
       "   8 │ a21               2017     Single year        40.0     27.6041    52.39\n",
       "  ⋮  │        ⋮             ⋮           ⋮             ⋮          ⋮         ⋮   ⋱\n",
       "  88 │ C_M11             2015-17  Moving average     12.6667   8.63932   16.69 ⋯\n",
       "  89 │ C_M11             2012-14  Moving average     11.3333   7.52385   15.14\n",
       "  90 │ C_M11             2011-13  Moving average     10.3333   6.69579   13.97\n",
       "  91 │ C_M11             2013-15  Moving average     10.0      6.42161   13.57\n",
       "  92 │ m11               2011     Single year        10.0      3.80205   16.19 ⋯\n",
       "  93 │ m11               2015     Single year        10.0      3.80205   16.19\n",
       "  94 │ m11               2013     Single year         7.0      1.81442   12.18\n",
       "\u001b[36m                                                   8 columns and 79 rows omitted\u001b[0m"
      ]
     },
     "metadata": {},
     "output_type": "display_data"
    }
   ],
   "source": [
    "q1 |> DataFrame"
   ]
  },
  {
   "cell_type": "code",
   "execution_count": 19,
   "metadata": {},
   "outputs": [
    {
     "data": {
      "application/vnd.dataresource+json": {
       "data": [
        {
         "Age": "0-14 years",
         "Cause": "Intentional",
         "Data_value": 40,
         "Indicator": "Number",
         "Lower_CI": 32.8432234251313,
         "Period": "2004-06",
         "Population": "Children",
         "Series_reference": "C_IN01",
         "Severity": "Serious non-fatal",
         "Type": "Moving average",
         "Units": "Injuries",
         "Upper_CI": 47.1567765748686,
         "Validation": "Validated"
        },
        {
         "Age": "0-14 years",
         "Cause": "Assault",
         "Data_value": 40,
         "Indicator": "Number",
         "Lower_CI": 32.8432234251313,
         "Period": "2003-05",
         "Population": "Children",
         "Series_reference": "C_A21",
         "Severity": "Serious",
         "Type": "Moving average",
         "Units": "Injuries",
         "Upper_CI": 47.1567765748686,
         "Validation": "Validated"
        },
        {
         "Age": "All ages",
         "Cause": "Assault",
         "Data_value": 40,
         "Indicator": "Number",
         "Lower_CI": 27.6040993539087,
         "Period": "2017",
         "Population": "Whole pop",
         "Series_reference": "a11",
         "Severity": "Fatal",
         "Type": "Single year",
         "Units": "Injuries",
         "Upper_CI": 52.3959006460912,
         "Validation": "Validated"
        },
        {
         "Age": "0-14 years",
         "Cause": "Intentional",
         "Data_value": 40,
         "Indicator": "Number",
         "Lower_CI": 27.6040993539087,
         "Period": "2005",
         "Population": "Children",
         "Series_reference": "in01",
         "Severity": "Serious non-fatal",
         "Type": "Single year",
         "Units": "Injuries",
         "Upper_CI": 52.3959006460912,
         "Validation": "Validated"
        },
        {
         "Age": "0-14 years",
         "Cause": "Intentional",
         "Data_value": 40,
         "Indicator": "Number",
         "Lower_CI": 27.6040993539087,
         "Period": "2012",
         "Population": "Children",
         "Series_reference": "in01",
         "Severity": "Serious non-fatal",
         "Type": "Single year",
         "Units": "Injuries",
         "Upper_CI": 52.3959006460912,
         "Validation": "Validated"
        }
       ],
       "schema": {
        "fields": [
         {
          "name": "Series_reference",
          "type": "string"
         },
         {
          "name": "Period",
          "type": "string"
         },
         {
          "name": "Type",
          "type": "string"
         },
         {
          "name": "Data_value",
          "type": "number"
         },
         {
          "name": "Lower_CI",
          "type": "number"
         },
         {
          "name": "Upper_CI",
          "type": "number"
         },
         {
          "name": "Units",
          "type": "string"
         },
         {
          "name": "Indicator",
          "type": "string"
         },
         {
          "name": "Cause",
          "type": "string"
         },
         {
          "name": "Validation",
          "type": "string"
         },
         {
          "name": "Population",
          "type": "string"
         },
         {
          "name": "Age",
          "type": "string"
         },
         {
          "name": "Severity",
          "type": "string"
         }
        ]
       }
      },
      "text/html": [
       "<table><thead><tr><th>Series_reference</th><th>Period</th><th>Type</th><th>Data_value</th><th>Lower_CI</th><th>Upper_CI</th><th>Units</th><th>Indicator</th><th>Cause</th><th>Validation</th><th>Population</th><th>Age</th><th>Severity</th></tr></thead><tbody><tr><td>String7&#40;&quot;C_IN01&quot;&#41;</td><td>String7&#40;&quot;2004-06&quot;&#41;</td><td>String15&#40;&quot;Moving average&quot;&#41;</td><td>40.0</td><td>32.8432</td><td>47.1568</td><td>&quot;Injuries&quot;</td><td>&quot;Number&quot;</td><td>String31&#40;&quot;Intentional&quot;&#41;</td><td>String15&#40;&quot;Validated&quot;&#41;</td><td>String15&#40;&quot;Children&quot;&#41;</td><td>String15&#40;&quot;0-14 years&quot;&#41;</td><td>String31&#40;&quot;Serious non-fatal&quot;&#41;</td></tr><tr><td>String7&#40;&quot;C_A21&quot;&#41;</td><td>String7&#40;&quot;2003-05&quot;&#41;</td><td>String15&#40;&quot;Moving average&quot;&#41;</td><td>40.0</td><td>32.8432</td><td>47.1568</td><td>&quot;Injuries&quot;</td><td>&quot;Number&quot;</td><td>String31&#40;&quot;Assault&quot;&#41;</td><td>String15&#40;&quot;Validated&quot;&#41;</td><td>String15&#40;&quot;Children&quot;&#41;</td><td>String15&#40;&quot;0-14 years&quot;&#41;</td><td>String31&#40;&quot;Serious&quot;&#41;</td></tr><tr><td>String7&#40;&quot;a11&quot;&#41;</td><td>String7&#40;&quot;2017&quot;&#41;</td><td>String15&#40;&quot;Single year&quot;&#41;</td><td>40.0</td><td>27.6041</td><td>52.3959</td><td>&quot;Injuries&quot;</td><td>&quot;Number&quot;</td><td>String31&#40;&quot;Assault&quot;&#41;</td><td>String15&#40;&quot;Validated&quot;&#41;</td><td>String15&#40;&quot;Whole pop&quot;&#41;</td><td>String15&#40;&quot;All ages&quot;&#41;</td><td>String31&#40;&quot;Fatal&quot;&#41;</td></tr><tr><td>String7&#40;&quot;in01&quot;&#41;</td><td>String7&#40;&quot;2005&quot;&#41;</td><td>String15&#40;&quot;Single year&quot;&#41;</td><td>40.0</td><td>27.6041</td><td>52.3959</td><td>&quot;Injuries&quot;</td><td>&quot;Number&quot;</td><td>String31&#40;&quot;Intentional&quot;&#41;</td><td>String15&#40;&quot;Validated&quot;&#41;</td><td>String15&#40;&quot;Children&quot;&#41;</td><td>String15&#40;&quot;0-14 years&quot;&#41;</td><td>String31&#40;&quot;Serious non-fatal&quot;&#41;</td></tr><tr><td>String7&#40;&quot;in01&quot;&#41;</td><td>String7&#40;&quot;2012&quot;&#41;</td><td>String15&#40;&quot;Single year&quot;&#41;</td><td>40.0</td><td>27.6041</td><td>52.3959</td><td>&quot;Injuries&quot;</td><td>&quot;Number&quot;</td><td>String31&#40;&quot;Intentional&quot;&#41;</td><td>String15&#40;&quot;Validated&quot;&#41;</td><td>String15&#40;&quot;Children&quot;&#41;</td><td>String15&#40;&quot;0-14 years&quot;&#41;</td><td>String31&#40;&quot;Serious non-fatal&quot;&#41;</td></tr></tbody></table>"
      ],
      "text/plain": [
       "5x13 query result\n",
       "Series_reference │ Period  │ Type           │ Data_value │ Lower_CI │ Upper_CI\n",
       "─────────────────┼─────────┼────────────────┼────────────┼──────────┼─────────\n",
       "C_IN01           │ 2004-06 │ Moving average │ 40.0       │ 32.8432  │ 47.1568 \n",
       "C_A21            │ 2003-05 │ Moving average │ 40.0       │ 32.8432  │ 47.1568 \n",
       "a11              │ 2017    │ Single year    │ 40.0       │ 27.6041  │ 52.3959 \n",
       "in01             │ 2005    │ Single year    │ 40.0       │ 27.6041  │ 52.3959 \n",
       "in01             │ 2012    │ Single year    │ 40.0       │ 27.6041  │ 52.3959 \n",
       "... with 7 more columns: Units, Indicator, Cause, Validation, Population, Age, Severity"
      ]
     },
     "metadata": {},
     "output_type": "display_data"
    }
   ],
   "source": [
    "q1 |>\n",
    "    @take(5)"
   ]
  },
  {
   "cell_type": "code",
   "execution_count": 20,
   "metadata": {},
   "outputs": [
    {
     "data": {
      "text/plain": [
       "1000-element Vector{Int64}:\n",
       "       1\n",
       "       4\n",
       "       9\n",
       "      16\n",
       "      25\n",
       "      36\n",
       "      49\n",
       "      64\n",
       "      81\n",
       "     100\n",
       "       ⋮\n",
       "  984064\n",
       "  986049\n",
       "  988036\n",
       "  990025\n",
       "  992016\n",
       "  994009\n",
       "  996004\n",
       "  998001\n",
       " 1000000"
      ]
     },
     "metadata": {},
     "output_type": "display_data"
    }
   ],
   "source": [
    "squares = (1:1000).^2"
   ]
  },
  {
   "cell_type": "code",
   "execution_count": 21,
   "metadata": {},
   "outputs": [
    {
     "data": {
      "text/plain": [
       "5-element Vector{Int64}:\n",
       " 1000000\n",
       "  998001\n",
       "  996004\n",
       "  994009\n",
       "  992016"
      ]
     },
     "metadata": {},
     "output_type": "display_data"
    }
   ],
   "source": [
    "reverse(squares[end-4:end])"
   ]
  },
  {
   "cell_type": "code",
   "execution_count": 22,
   "metadata": {},
   "outputs": [
    {
     "data": {
      "text/plain": [
       "Vector{Int64}\u001b[90m (alias for \u001b[39m\u001b[90mArray{Int64, 1}\u001b[39m\u001b[90m)\u001b[39m"
      ]
     },
     "metadata": {},
     "output_type": "display_data"
    }
   ],
   "source": [
    "typeof(squares)"
   ]
  },
  {
   "cell_type": "code",
   "execution_count": 23,
   "metadata": {},
   "outputs": [
    {
     "data": {
      "text/plain": [
       "Dict{Int64, Int64} with 10 entries:\n",
       "  5  => 25\n",
       "  4  => 16\n",
       "  6  => 36\n",
       "  7  => 49\n",
       "  2  => 4\n",
       "  10 => 100\n",
       "  9  => 81\n",
       "  8  => 64\n",
       "  3  => 9\n",
       "  1  => 1"
      ]
     },
     "metadata": {},
     "output_type": "display_data"
    }
   ],
   "source": [
    "squares = 1:10 |>\n",
    "    @map(_=>_^2) |>\n",
    "    Dict"
   ]
  },
  {
   "cell_type": "code",
   "execution_count": 24,
   "metadata": {},
   "outputs": [
    {
     "data": {
      "application/vnd.dataresource+json": {
       "data": [
        {
         "num_squared": 1,
         "number": 1
        },
        {
         "num_squared": 4,
         "number": 2
        },
        {
         "num_squared": 9,
         "number": 3
        },
        {
         "num_squared": 16,
         "number": 4
        },
        {
         "num_squared": 25,
         "number": 5
        },
        {
         "num_squared": 36,
         "number": 6
        },
        {
         "num_squared": 49,
         "number": 7
        },
        {
         "num_squared": 64,
         "number": 8
        },
        {
         "num_squared": 81,
         "number": 9
        },
        {
         "num_squared": 100,
         "number": 10
        }
       ],
       "schema": {
        "fields": [
         {
          "name": "number",
          "type": "integer"
         },
         {
          "name": "num_squared",
          "type": "integer"
         }
        ]
       }
      },
      "text/html": [
       "<table><thead><tr><th>number</th><th>num_squared</th></tr></thead><tbody><tr><td>1</td><td>1</td></tr><tr><td>2</td><td>4</td></tr><tr><td>3</td><td>9</td></tr><tr><td>4</td><td>16</td></tr><tr><td>5</td><td>25</td></tr><tr><td>6</td><td>36</td></tr><tr><td>7</td><td>49</td></tr><tr><td>8</td><td>64</td></tr><tr><td>9</td><td>81</td></tr><tr><td>10</td><td>100</td></tr></tbody></table>"
      ],
      "text/plain": [
       "10x2 query result\n",
       "number │ num_squared\n",
       "───────┼────────────\n",
       "1      │ 1          \n",
       "2      │ 4          \n",
       "3      │ 9          \n",
       "4      │ 16         \n",
       "5      │ 25         \n",
       "6      │ 36         \n",
       "7      │ 49         \n",
       "8      │ 64         \n",
       "9      │ 81         \n",
       "10     │ 100        "
      ]
     },
     "metadata": {},
     "output_type": "display_data"
    }
   ],
   "source": [
    "# Named tuples\n",
    "1:10 |> @map({number=_, num_squared=_^2})"
   ]
  },
  {
   "cell_type": "code",
   "execution_count": 25,
   "metadata": {},
   "outputs": [
    {
     "data": {
      "text/plain": [
       "Dict{Int64, Int64}"
      ]
     },
     "metadata": {},
     "output_type": "display_data"
    }
   ],
   "source": [
    "typeof(squares)"
   ]
  },
  {
   "cell_type": "code",
   "execution_count": 26,
   "metadata": {},
   "outputs": [
    {
     "data": {
      "text/plain": [
       "25"
      ]
     },
     "metadata": {},
     "output_type": "display_data"
    }
   ],
   "source": [
    "squares[5]"
   ]
  },
  {
   "cell_type": "code",
   "execution_count": 27,
   "metadata": {},
   "outputs": [
    {
     "data": {
      "text/plain": [
       "Dict{Int64, Int64}()"
      ]
     },
     "metadata": {},
     "output_type": "display_data"
    }
   ],
   "source": [
    "x = Dict{Int64, Int64}()"
   ]
  },
  {
   "cell_type": "code",
   "execution_count": 28,
   "metadata": {},
   "outputs": [
    {
     "data": {
      "text/plain": [
       "Dict{Int64, Int64}()"
      ]
     },
     "metadata": {},
     "output_type": "display_data"
    }
   ],
   "source": [
    "x"
   ]
  },
  {
   "cell_type": "code",
   "execution_count": 29,
   "metadata": {},
   "outputs": [
    {
     "data": {
      "text/plain": [
       "5-element Vector{Int64}:\n",
       "  2\n",
       "  4\n",
       "  6\n",
       "  8\n",
       " 10"
      ]
     },
     "metadata": {},
     "output_type": "display_data"
    }
   ],
   "source": [
    "x = [1,2,3,4,5]\n",
    "y = [2,4,6,8,10]"
   ]
  },
  {
   "cell_type": "code",
   "execution_count": 30,
   "metadata": {},
   "outputs": [
    {
     "data": {
      "text/plain": [
       "Dict{Int64, Int64} with 5 entries:\n",
       "  5 => 10\n",
       "  4 => 8\n",
       "  2 => 4\n",
       "  3 => 6\n",
       "  1 => 2"
      ]
     },
     "metadata": {},
     "output_type": "display_data"
    }
   ],
   "source": [
    "z = Dict(zip(x,y))"
   ]
  },
  {
   "cell_type": "code",
   "execution_count": 31,
   "metadata": {},
   "outputs": [
    {
     "data": {
      "text/plain": [
       "Dict{Int64, Int64} with 5 entries:\n",
       "  5 => 10\n",
       "  4 => 8\n",
       "  2 => 4\n",
       "  3 => 6\n",
       "  1 => 2"
      ]
     },
     "metadata": {},
     "output_type": "display_data"
    }
   ],
   "source": [
    "z = Dict(x .=> y)"
   ]
  },
  {
   "cell_type": "code",
   "execution_count": 32,
   "metadata": {},
   "outputs": [
    {
     "name": "stdout",
     "output_type": "stream",
     "text": [
      "5\n",
      "4\n",
      "2\n",
      "3\n",
      "1\n"
     ]
    }
   ],
   "source": [
    "for k in keys(z)\n",
    "    println(k)\n",
    "end"
   ]
  },
  {
   "cell_type": "code",
   "execution_count": 33,
   "metadata": {},
   "outputs": [
    {
     "data": {
      "text/plain": [
       "KeySet for a Dict{Int64, Int64} with 5 entries. Keys:\n",
       "  5\n",
       "  4\n",
       "  2\n",
       "  3\n",
       "  1"
      ]
     },
     "metadata": {},
     "output_type": "display_data"
    }
   ],
   "source": [
    "# This will print the keyset but it is not a vector\n",
    "keys(z)"
   ]
  },
  {
   "cell_type": "code",
   "execution_count": 34,
   "metadata": {},
   "outputs": [
    {
     "data": {
      "text/plain": [
       "5-element Vector{Int64}:\n",
       " 5\n",
       " 4\n",
       " 2\n",
       " 3\n",
       " 1"
      ]
     },
     "metadata": {},
     "output_type": "display_data"
    }
   ],
   "source": [
    "# We use collect to create a vector\n",
    "k = collect(keys(z))\n",
    "k"
   ]
  },
  {
   "attachments": {},
   "cell_type": "markdown",
   "metadata": {},
   "source": [
    "Now we extract the corresponding values from the dictionary:"
   ]
  },
  {
   "cell_type": "code",
   "execution_count": 35,
   "metadata": {},
   "outputs": [
    {
     "data": {
      "text/plain": [
       "5-element Vector{Int64}:\n",
       " 10\n",
       "  8\n",
       "  4\n",
       "  6\n",
       "  2"
      ]
     },
     "metadata": {},
     "output_type": "display_data"
    }
   ],
   "source": [
    "v = collect(values(z))\n",
    "v"
   ]
  },
  {
   "cell_type": "code",
   "execution_count": 36,
   "metadata": {},
   "outputs": [
    {
     "data": {
      "text/plain": [
       "1000-element Vector{Int64}:\n",
       "       1\n",
       "       4\n",
       "       9\n",
       "      16\n",
       "      25\n",
       "      36\n",
       "      49\n",
       "      64\n",
       "      81\n",
       "     100\n",
       "       ⋮\n",
       "  984064\n",
       "  986049\n",
       "  988036\n",
       "  990025\n",
       "  992016\n",
       "  994009\n",
       "  996004\n",
       "  998001\n",
       " 1000000"
      ]
     },
     "metadata": {},
     "output_type": "display_data"
    }
   ],
   "source": [
    "# List comprehension\n",
    "i = [x^2 for x in 1:1000]"
   ]
  },
  {
   "cell_type": "code",
   "execution_count": 37,
   "metadata": {},
   "outputs": [
    {
     "name": "stdout",
     "output_type": "stream",
     "text": [
      "120\n"
     ]
    }
   ],
   "source": [
    "x = 1\n",
    "product = 1\n",
    "\n",
    "for x in 1:5\n",
    "    product = product * x\n",
    "end\n",
    "\n",
    "println(product)"
   ]
  },
  {
   "attachments": {},
   "cell_type": "markdown",
   "metadata": {},
   "source": [
    "Calculate the sum"
   ]
  },
  {
   "cell_type": "code",
   "execution_count": 38,
   "metadata": {},
   "outputs": [
    {
     "name": "stdout",
     "output_type": "stream",
     "text": [
      "15"
     ]
    }
   ],
   "source": [
    "x = 1\n",
    "sum = 0\n",
    "\n",
    "for x in 1:5\n",
    "    sum = sum + x\n",
    "end\n",
    "\n",
    "print(sum)"
   ]
  },
  {
   "attachments": {},
   "cell_type": "markdown",
   "metadata": {},
   "source": [
    "Now, we are going to do some work using examples from \"Julia for Data Analysis\" "
   ]
  },
  {
   "cell_type": "code",
   "execution_count": 39,
   "metadata": {},
   "outputs": [
    {
     "data": {
      "text/plain": [
       "\"movies.dat\""
      ]
     },
     "metadata": {},
     "output_type": "display_data"
    }
   ],
   "source": [
    "using Downloads\n",
    "\n",
    "data = Downloads.download(\"https://raw.githubusercontent.com/\\\n",
    "sidooms/MovieTweetings/\\\n",
    "44c525d0c766944910686c60697203cda39305d6/\\\n",
    "snapshots/10K/movies.dat\",\n",
    "\"movies.dat\")"
   ]
  },
  {
   "cell_type": "code",
   "execution_count": 40,
   "metadata": {},
   "outputs": [
    {
     "data": {
      "text/plain": [
       "3096-element Vector{String}:\n",
       " \"0002844::Fantômas - À l'ombre de la guillotine (1913)::Crime|Drama\"\n",
       " \"0007264::The Rink (1916)::Comedy|Short\"\n",
       " \"0008133::The Immigrant (1917)::Short|Comedy|Drama|Romance\"\n",
       " \"0012349::The Kid (1921)::Comedy|Drama|Family\"\n",
       " \"0013427::Nanook of the North (1922)::Documentary\"\n",
       " \"0014142::The Hunchback of Notre Dame (1923)::Drama|Romance\"\n",
       " \"0014538::Three Ages (1923)::Comedy\"\n",
       " \"0014872::Entr'acte (1924)::Short\"\n",
       " \"0015163::The Navigator (1924)::Action|Comedy\"\n",
       " \"0015324::Sherlock Jr. (1924)::Comedy|Fantasy\"\n",
       " ⋮\n",
       " \"2646378::The Frankenstein Theory (2013)::Horror|Sci-Fi\"\n",
       " \"2649128::Metro (2013)::Thriller\"\n",
       " \"2670226::Jîn (2013)::Drama\"\n",
       " \"2700330::The Two Escobars (2010)::Documentary\"\n",
       " \"2735466::Pickett's Charge (2012)::Short|Comedy|Drama|Family\"\n",
       " \"2748368::Neil (2013)::Short|Comedy\"\n",
       " \"2750600::A Different Tree (2013)::Short|Drama|Family\"\n",
       " \"2763252::Broken Night (2013)::Short|Drama\"\n",
       " \"2769592::Kiss Shot Truth or Dare (2013)::Short\""
      ]
     },
     "metadata": {},
     "output_type": "display_data"
    }
   ],
   "source": [
    "movie_data = readlines(data)"
   ]
  },
  {
   "attachments": {},
   "cell_type": "markdown",
   "metadata": {},
   "source": [
    "## String manipulation"
   ]
  },
  {
   "attachments": {},
   "cell_type": "markdown",
   "metadata": {},
   "source": [
    "This is a string vector. So, to get the first element:"
   ]
  },
  {
   "cell_type": "code",
   "execution_count": 41,
   "metadata": {},
   "outputs": [
    {
     "data": {
      "text/plain": [
       "\"[\\\"0002844::Fantômas - À l'ombre de la guillotine (1913)::Crime|Drama\\\"]\""
      ]
     },
     "metadata": {},
     "output_type": "display_data"
    }
   ],
   "source": [
    "first_line = string(first(movie_data, 1))"
   ]
  },
  {
   "cell_type": "code",
   "execution_count": 42,
   "metadata": {},
   "outputs": [
    {
     "data": {
      "text/plain": [
       "\"Crime|Drama\""
      ]
     },
     "metadata": {},
     "output_type": "display_data"
    }
   ],
   "source": [
    "genre = split(first_line, \"::\")[3]\n",
    "genre = split(genre, \"\\\"\")[1]"
   ]
  },
  {
   "cell_type": "code",
   "execution_count": 43,
   "metadata": {},
   "outputs": [
    {
     "data": {
      "text/plain": [
       "true"
      ]
     },
     "metadata": {},
     "output_type": "display_data"
    }
   ],
   "source": [
    "contains(genre,\"Drama\")"
   ]
  },
  {
   "cell_type": "code",
   "execution_count": 44,
   "metadata": {},
   "outputs": [
    {
     "data": {
      "text/plain": [
       "true"
      ]
     },
     "metadata": {},
     "output_type": "display_data"
    }
   ],
   "source": [
    "startswith(genre, \"Crime\")"
   ]
  },
  {
   "cell_type": "code",
   "execution_count": 45,
   "metadata": {},
   "outputs": [
    {
     "data": {
      "text/plain": [
       "true"
      ]
     },
     "metadata": {},
     "output_type": "display_data"
    }
   ],
   "source": [
    "endswith(genre, \"ma\")"
   ]
  },
  {
   "cell_type": "code",
   "execution_count": 46,
   "metadata": {},
   "outputs": [
    {
     "data": {
      "text/plain": [
       "\"C_r_i_m_e_|_D_r_a_m_a\""
      ]
     },
     "metadata": {},
     "output_type": "display_data"
    }
   ],
   "source": [
    "join(genre, \"_\")"
   ]
  },
  {
   "cell_type": "code",
   "execution_count": 47,
   "metadata": {},
   "outputs": [
    {
     "data": {
      "text/plain": [
       "\"CRIME|DRAMA\""
      ]
     },
     "metadata": {},
     "output_type": "display_data"
    }
   ],
   "source": [
    "uppercase(genre)"
   ]
  },
  {
   "cell_type": "code",
   "execution_count": 48,
   "metadata": {},
   "outputs": [
    {
     "data": {
      "text/plain": [
       "\"crime|Drama\""
      ]
     },
     "metadata": {},
     "output_type": "display_data"
    }
   ],
   "source": [
    "lowercasefirst(genre)"
   ]
  },
  {
   "cell_type": "code",
   "execution_count": 49,
   "metadata": {},
   "outputs": [
    {
     "data": {
      "text/plain": [
       "\"Crime|Comedy\""
      ]
     },
     "metadata": {},
     "output_type": "display_data"
    }
   ],
   "source": [
    "replace(genre, \"Drama\" => \"Comedy\")"
   ]
  },
  {
   "cell_type": "code",
   "execution_count": 50,
   "metadata": {},
   "outputs": [
    {
     "data": {
      "text/plain": [
       "\"Crime\""
      ]
     },
     "metadata": {},
     "output_type": "display_data"
    }
   ],
   "source": [
    "# To get part of the string, we use first. For example to extract Crime for genre:\n",
    "first(genre, 5)"
   ]
  },
  {
   "cell_type": "code",
   "execution_count": 51,
   "metadata": {},
   "outputs": [
    {
     "name": "stdout",
     "output_type": "stream",
     "text": [
      "true\n",
      "false\n"
     ]
    }
   ],
   "source": [
    "# To check for ASCII strings\n",
    "println(isascii(\"hello\"))\n",
    "println(isascii(\"∀ x: x≥0\"))"
   ]
  },
  {
   "cell_type": "code",
   "execution_count": 52,
   "metadata": {},
   "outputs": [
    {
     "data": {
      "text/plain": [
       "parseline (generic function with 1 method)"
      ]
     },
     "metadata": {},
     "output_type": "display_data"
    }
   ],
   "source": [
    "# Define a function to parse the lines of the file\n",
    "function parseline(line::AbstractString)\n",
    "    parts = split(line, \"::\")\n",
    "    m = match(r\"(.+) \\((\\d{4})\\)\", parts[2])\n",
    "    return (id=parts[1],\n",
    "            name=m[1],\n",
    "            year=parse(Int, m[2]),\n",
    "            genres=split(parts[3], \"|\"))\n",
    "end"
   ]
  },
  {
   "cell_type": "code",
   "execution_count": 53,
   "metadata": {},
   "outputs": [
    {
     "data": {
      "text/plain": [
       "3096-element Vector{NamedTuple{(:id, :name, :year, :genres), Tuple{SubString{String}, SubString{String}, Int64, Vector{SubString{String}}}}}:\n",
       " (id = \"0002844\", name = \"Fantômas - À l'ombre de la guillotine\", year = 1913, genres = [\"Crime\", \"Drama\"])\n",
       " (id = \"0007264\", name = \"The Rink\", year = 1916, genres = [\"Comedy\", \"Short\"])\n",
       " (id = \"0008133\", name = \"The Immigrant\", year = 1917, genres = [\"Short\", \"Comedy\", \"Drama\", \"Romance\"])\n",
       " (id = \"0012349\", name = \"The Kid\", year = 1921, genres = [\"Comedy\", \"Drama\", \"Family\"])\n",
       " (id = \"0013427\", name = \"Nanook of the North\", year = 1922, genres = [\"Documentary\"])\n",
       " (id = \"0014142\", name = \"The Hunchback of Notre Dame\", year = 1923, genres = [\"Drama\", \"Romance\"])\n",
       " (id = \"0014538\", name = \"Three Ages\", year = 1923, genres = [\"Comedy\"])\n",
       " (id = \"0014872\", name = \"Entr'acte\", year = 1924, genres = [\"Short\"])\n",
       " (id = \"0015163\", name = \"The Navigator\", year = 1924, genres = [\"Action\", \"Comedy\"])\n",
       " (id = \"0015324\", name = \"Sherlock Jr.\", year = 1924, genres = [\"Comedy\", \"Fantasy\"])\n",
       " ⋮\n",
       " (id = \"2646378\", name = \"The Frankenstein Theory\", year = 2013, genres = [\"Horror\", \"Sci-Fi\"])\n",
       " (id = \"2649128\", name = \"Metro\", year = 2013, genres = [\"Thriller\"])\n",
       " (id = \"2670226\", name = \"Jîn\", year = 2013, genres = [\"Drama\"])\n",
       " (id = \"2700330\", name = \"The Two Escobars\", year = 2010, genres = [\"Documentary\"])\n",
       " (id = \"2735466\", name = \"Pickett's Charge\", year = 2012, genres = [\"Short\", \"Comedy\", \"Drama\", \"Family\"])\n",
       " (id = \"2748368\", name = \"Neil\", year = 2013, genres = [\"Short\", \"Comedy\"])\n",
       " (id = \"2750600\", name = \"A Different Tree\", year = 2013, genres = [\"Short\", \"Drama\", \"Family\"])\n",
       " (id = \"2763252\", name = \"Broken Night\", year = 2013, genres = [\"Short\", \"Drama\"])\n",
       " (id = \"2769592\", name = \"Kiss Shot Truth or Dare\", year = 2013, genres = [\"Short\"])"
      ]
     },
     "metadata": {},
     "output_type": "display_data"
    }
   ],
   "source": [
    "records = parseline.(movie_data)"
   ]
  },
  {
   "cell_type": "code",
   "execution_count": 54,
   "metadata": {},
   "outputs": [
    {
     "data": {
      "text/plain": [
       "\"Fantômas - À l'ombre de la guillotine\""
      ]
     },
     "metadata": {},
     "output_type": "display_data"
    }
   ],
   "source": [
    "# To get the name of the first movie\n",
    "records[1].name"
   ]
  },
  {
   "cell_type": "code",
   "execution_count": 55,
   "metadata": {},
   "outputs": [
    {
     "data": {
      "text/plain": [
       "1913"
      ]
     },
     "metadata": {},
     "output_type": "display_data"
    }
   ],
   "source": [
    "# To get the year of the first movie\n",
    "records[1].year"
   ]
  },
  {
   "attachments": {},
   "cell_type": "markdown",
   "metadata": {},
   "source": [
    "Now, we create an array to store all the genres"
   ]
  },
  {
   "cell_type": "code",
   "execution_count": 56,
   "metadata": {},
   "outputs": [
    {
     "data": {
      "text/plain": [
       "String[]"
      ]
     },
     "metadata": {},
     "output_type": "display_data"
    }
   ],
   "source": [
    "genres = String[]"
   ]
  },
  {
   "cell_type": "code",
   "execution_count": 57,
   "metadata": {},
   "outputs": [],
   "source": [
    "for record in records\n",
    "    append!(genres, record.genres)\n",
    "end"
   ]
  },
  {
   "cell_type": "code",
   "execution_count": 58,
   "metadata": {},
   "outputs": [
    {
     "data": {
      "text/plain": [
       "8121-element Vector{String}:\n",
       " \"Crime\"\n",
       " \"Drama\"\n",
       " \"Comedy\"\n",
       " \"Short\"\n",
       " \"Short\"\n",
       " \"Comedy\"\n",
       " \"Drama\"\n",
       " \"Romance\"\n",
       " \"Comedy\"\n",
       " \"Drama\"\n",
       " ⋮\n",
       " \"Family\"\n",
       " \"Short\"\n",
       " \"Comedy\"\n",
       " \"Short\"\n",
       " \"Drama\"\n",
       " \"Family\"\n",
       " \"Short\"\n",
       " \"Drama\"\n",
       " \"Short\""
      ]
     },
     "metadata": {},
     "output_type": "display_data"
    }
   ],
   "source": [
    "genres"
   ]
  },
  {
   "cell_type": "code",
   "execution_count": 59,
   "metadata": {},
   "outputs": [
    {
     "data": {
      "text/plain": [
       "25-element Named Vector{Int64}\n",
       "Dim1        │ \n",
       "────────────┼─────\n",
       "            │   14\n",
       "Action      │  635\n",
       "Adventure   │  443\n",
       "Animation   │  137\n",
       "Biography   │  166\n",
       "Comedy      │ 1001\n",
       "Crime       │  550\n",
       "Documentary │  126\n",
       "⋮                ⋮\n",
       "News        │    4\n",
       "Romance     │  558\n",
       "Sci-Fi      │  305\n",
       "Short       │   46\n",
       "Sport       │   84\n",
       "Thriller    │  910\n",
       "War         │  126\n",
       "Western     │   35"
      ]
     },
     "metadata": {},
     "output_type": "display_data"
    }
   ],
   "source": [
    "genre_frequencies = freqtable(genres)"
   ]
  },
  {
   "cell_type": "code",
   "execution_count": 60,
   "metadata": {},
   "outputs": [
    {
     "data": {
      "text/plain": [
       "25-element Named Vector{Int64}\n",
       "Dim1        │ \n",
       "────────────┼─────\n",
       "Drama       │ 1583\n",
       "Comedy      │ 1001\n",
       "Thriller    │  910\n",
       "Action      │  635\n",
       "Romance     │  558\n",
       "Crime       │  550\n",
       "Adventure   │  443\n",
       "Horror      │  325\n",
       "⋮                ⋮\n",
       "Sport       │   84\n",
       "Music       │   83\n",
       "Musical     │   58\n",
       "Short       │   46\n",
       "Western     │   35\n",
       "            │   14\n",
       "Film-Noir   │   13\n",
       "News        │    4"
      ]
     },
     "metadata": {},
     "output_type": "display_data"
    }
   ],
   "source": [
    "sort(genre_frequencies, rev=true)"
   ]
  },
  {
   "cell_type": "code",
   "execution_count": 61,
   "metadata": {},
   "outputs": [
    {
     "data": {
      "text/plain": [
       "25-element Named Vector{Int64}\n",
       "Dim1        │ \n",
       "────────────┼─────\n",
       "            │   14\n",
       "Action      │  635\n",
       "Adventure   │  443\n",
       "Animation   │  137\n",
       "Biography   │  166\n",
       "Comedy      │ 1001\n",
       "Crime       │  550\n",
       "Documentary │  126\n",
       "⋮                ⋮\n",
       "News        │    4\n",
       "Romance     │  558\n",
       "Sci-Fi      │  305\n",
       "Short       │   46\n",
       "Sport       │   84\n",
       "Thriller    │  910\n",
       "War         │  126\n",
       "Western     │   35"
      ]
     },
     "metadata": {},
     "output_type": "display_data"
    }
   ],
   "source": [
    "genre_frequencies"
   ]
  },
  {
   "attachments": {},
   "cell_type": "markdown",
   "metadata": {},
   "source": [
    "We "
   ]
  },
  {
   "cell_type": "code",
   "execution_count": 62,
   "metadata": {},
   "outputs": [
    {
     "data": {
      "text/plain": [
       "1000000-element Vector{String}:\n",
       " \"ex5\"\n",
       " \"Tcr\"\n",
       " \"aR2\"\n",
       " \"cTn\"\n",
       " \"TsD\"\n",
       " \"7WG\"\n",
       " \"Hgv\"\n",
       " \"MIk\"\n",
       " \"IGb\"\n",
       " \"oek\"\n",
       " ⋮\n",
       " \"GT0\"\n",
       " \"lIV\"\n",
       " \"njq\"\n",
       " \"Uxk\"\n",
       " \"rNS\"\n",
       " \"Whg\"\n",
       " \"qO6\"\n",
       " \"nrh\"\n",
       " \"K9p\""
      ]
     },
     "metadata": {},
     "output_type": "display_data"
    }
   ],
   "source": [
    "strings_size_3 = [randstring(3) for i in 1:10^6]"
   ]
  },
  {
   "cell_type": "code",
   "execution_count": 63,
   "metadata": {},
   "outputs": [
    {
     "data": {
      "text/plain": [
       "1000000-element Vector{String3}:\n",
       " \"ex5\"\n",
       " \"Tcr\"\n",
       " \"aR2\"\n",
       " \"cTn\"\n",
       " \"TsD\"\n",
       " \"7WG\"\n",
       " \"Hgv\"\n",
       " \"MIk\"\n",
       " \"IGb\"\n",
       " \"oek\"\n",
       " ⋮\n",
       " \"GT0\"\n",
       " \"lIV\"\n",
       " \"njq\"\n",
       " \"Uxk\"\n",
       " \"rNS\"\n",
       " \"Whg\"\n",
       " \"qO6\"\n",
       " \"nrh\"\n",
       " \"K9p\""
      ]
     },
     "metadata": {},
     "output_type": "display_data"
    }
   ],
   "source": [
    "inline_strings_size_3 = inlinestrings(strings_size_3)"
   ]
  },
  {
   "cell_type": "code",
   "execution_count": 64,
   "metadata": {},
   "outputs": [
    {
     "name": "stdout",
     "output_type": "stream",
     "text": [
      "19000040\n",
      "4000040\n"
     ]
    }
   ],
   "source": [
    "println(Base.summarysize(strings_size_3)) \n",
    "println(Base.summarysize(inline_strings_size_3))"
   ]
  },
  {
   "attachments": {},
   "cell_type": "markdown",
   "metadata": {},
   "source": [
    "## Data Science"
   ]
  },
  {
   "attachments": {},
   "cell_type": "markdown",
   "metadata": {},
   "source": [
    "We read in a file (checking if it exists)"
   ]
  },
  {
   "cell_type": "code",
   "execution_count": 65,
   "metadata": {},
   "outputs": [],
   "source": [
    "using Queryverse"
   ]
  },
  {
   "cell_type": "code",
   "execution_count": 66,
   "metadata": {},
   "outputs": [
    {
     "data": {
      "text/html": [
       "<div><div style = \"float: left;\"><span>14758×6 DataFrame</span></div><div style = \"float: right;\"><span style = \"font-style: italic;\">14733 rows omitted</span></div><div style = \"clear: both;\"></div></div><div class = \"data-frame\" style = \"overflow-x: scroll;\"><table class = \"data-frame\" style = \"margin-bottom: 6px;\"><thead><tr class = \"header\"><th class = \"rowNumber\" style = \"font-weight: bold; text-align: right;\">Row</th><th style = \"text-align: left;\">description</th><th style = \"text-align: left;\">industry</th><th style = \"text-align: left;\">level</th><th style = \"text-align: left;\">size</th><th style = \"text-align: left;\">line_code</th><th style = \"text-align: left;\">value</th></tr><tr class = \"subheader headerLastRow\"><th class = \"rowNumber\" style = \"font-weight: bold; text-align: right;\"></th><th title = \"String\" style = \"text-align: left;\">String</th><th title = \"String\" style = \"text-align: left;\">String</th><th title = \"Int64\" style = \"text-align: left;\">Int64</th><th title = \"String\" style = \"text-align: left;\">String</th><th title = \"String\" style = \"text-align: left;\">String</th><th title = \"Int64\" style = \"text-align: left;\">Int64</th></tr></thead><tbody><tr><td class = \"rowNumber\" style = \"font-weight: bold; text-align: right;\">1</td><td style = \"text-align: left;\">Business main customer: individuals or households</td><td style = \"text-align: left;\">total</td><td style = \"text-align: right;\">0</td><td style = \"text-align: left;\">6\\x9619 employees</td><td style = \"text-align: left;\">C0300.01</td><td style = \"text-align: right;\">15639</td></tr><tr><td class = \"rowNumber\" style = \"font-weight: bold; text-align: right;\">2</td><td style = \"text-align: left;\">Business main customer: individuals or households</td><td style = \"text-align: left;\">total</td><td style = \"text-align: right;\">0</td><td style = \"text-align: left;\">20\\x9649 employees</td><td style = \"text-align: left;\">C0300.01</td><td style = \"text-align: right;\">2943</td></tr><tr><td class = \"rowNumber\" style = \"font-weight: bold; text-align: right;\">3</td><td style = \"text-align: left;\">Business main customer: individuals or households</td><td style = \"text-align: left;\">total</td><td style = \"text-align: right;\">0</td><td style = \"text-align: left;\">50\\x9699 employees</td><td style = \"text-align: left;\">C0300.01</td><td style = \"text-align: right;\">639</td></tr><tr><td class = \"rowNumber\" style = \"font-weight: bold; text-align: right;\">4</td><td style = \"text-align: left;\">Business main customer: individuals or households</td><td style = \"text-align: left;\">total</td><td style = \"text-align: right;\">0</td><td style = \"text-align: left;\">100+ employees</td><td style = \"text-align: left;\">C0300.01</td><td style = \"text-align: right;\">555</td></tr><tr><td class = \"rowNumber\" style = \"font-weight: bold; text-align: right;\">5</td><td style = \"text-align: left;\">Business main customer: individuals or households</td><td style = \"text-align: left;\">Agriculture, forestry, &amp; fishing</td><td style = \"text-align: right;\">1</td><td style = \"text-align: left;\">total</td><td style = \"text-align: left;\">C0300.01</td><td style = \"text-align: right;\">348</td></tr><tr><td class = \"rowNumber\" style = \"font-weight: bold; text-align: right;\">6</td><td style = \"text-align: left;\">Business main customer: individuals or households</td><td style = \"text-align: left;\">Agriculture</td><td style = \"text-align: right;\">2</td><td style = \"text-align: left;\">total</td><td style = \"text-align: left;\">C0300.01</td><td style = \"text-align: right;\">177</td></tr><tr><td class = \"rowNumber\" style = \"font-weight: bold; text-align: right;\">7</td><td style = \"text-align: left;\">Business main customer: individuals or households</td><td style = \"text-align: left;\">Commercial fishing</td><td style = \"text-align: right;\">2</td><td style = \"text-align: left;\">total</td><td style = \"text-align: left;\">C0300.01</td><td style = \"text-align: right;\">3</td></tr><tr><td class = \"rowNumber\" style = \"font-weight: bold; text-align: right;\">8</td><td style = \"text-align: left;\">Business main customer: individuals or households</td><td style = \"text-align: left;\">Forestry &amp; logging</td><td style = \"text-align: right;\">2</td><td style = \"text-align: left;\">total</td><td style = \"text-align: left;\">C0300.01</td><td style = \"text-align: right;\">12</td></tr><tr><td class = \"rowNumber\" style = \"font-weight: bold; text-align: right;\">9</td><td style = \"text-align: left;\">Business main customer: individuals or households</td><td style = \"text-align: left;\">Agriculture, forestry, &amp; fishing support services</td><td style = \"text-align: right;\">2</td><td style = \"text-align: left;\">total</td><td style = \"text-align: left;\">C0300.01</td><td style = \"text-align: right;\">159</td></tr><tr><td class = \"rowNumber\" style = \"font-weight: bold; text-align: right;\">10</td><td style = \"text-align: left;\">Business main customer: individuals or households</td><td style = \"text-align: left;\">Mining</td><td style = \"text-align: right;\">1</td><td style = \"text-align: left;\">total</td><td style = \"text-align: left;\">C0300.01</td><td style = \"text-align: right;\">12</td></tr><tr><td class = \"rowNumber\" style = \"font-weight: bold; text-align: right;\">11</td><td style = \"text-align: left;\">Business main customer: individuals or households</td><td style = \"text-align: left;\">Manufacturing</td><td style = \"text-align: right;\">1</td><td style = \"text-align: left;\">total</td><td style = \"text-align: left;\">C0300.01</td><td style = \"text-align: right;\">1230</td></tr><tr><td class = \"rowNumber\" style = \"font-weight: bold; text-align: right;\">12</td><td style = \"text-align: left;\">Business main customer: individuals or households</td><td style = \"text-align: left;\">Food, beverage, &amp; tobacco</td><td style = \"text-align: right;\">2</td><td style = \"text-align: left;\">total</td><td style = \"text-align: left;\">C0300.01</td><td style = \"text-align: right;\">462</td></tr><tr><td class = \"rowNumber\" style = \"font-weight: bold; text-align: right;\">13</td><td style = \"text-align: left;\">Business main customer: individuals or households</td><td style = \"text-align: left;\">Textile, clothing, footwear, &amp; leather</td><td style = \"text-align: right;\">2</td><td style = \"text-align: left;\">total</td><td style = \"text-align: left;\">C0300.01</td><td style = \"text-align: right;\">66</td></tr><tr><td style = \"text-align: right;\">&vellip;</td><td style = \"text-align: right;\">&vellip;</td><td style = \"text-align: right;\">&vellip;</td><td style = \"text-align: right;\">&vellip;</td><td style = \"text-align: right;\">&vellip;</td><td style = \"text-align: right;\">&vellip;</td><td style = \"text-align: right;\">&vellip;</td></tr><tr><td class = \"rowNumber\" style = \"font-weight: bold; text-align: right;\">14747</td><td style = \"text-align: left;\">How union representation of employees has affected the level of flexibility/availability to make changes to employment conditions: don&apos;t know</td><td style = \"text-align: left;\">Insurance</td><td style = \"text-align: right;\">2</td><td style = \"text-align: left;\">total</td><td style = \"text-align: left;\">C3307.04</td><td style = \"text-align: right;\">0</td></tr><tr><td class = \"rowNumber\" style = \"font-weight: bold; text-align: right;\">14748</td><td style = \"text-align: left;\">How union representation of employees has affected the level of flexibility/availability to make changes to employment conditions: don&apos;t know</td><td style = \"text-align: left;\">Auxiliary</td><td style = \"text-align: right;\">2</td><td style = \"text-align: left;\">total</td><td style = \"text-align: left;\">C3307.04</td><td style = \"text-align: right;\">0</td></tr><tr><td class = \"rowNumber\" style = \"font-weight: bold; text-align: right;\">14749</td><td style = \"text-align: left;\">How union representation of employees has affected the level of flexibility/availability to make changes to employment conditions: don&apos;t know</td><td style = \"text-align: left;\">Rental, hiring, &amp; real estate services</td><td style = \"text-align: right;\">1</td><td style = \"text-align: left;\">total</td><td style = \"text-align: left;\">C3307.04</td><td style = \"text-align: right;\">0</td></tr><tr><td class = \"rowNumber\" style = \"font-weight: bold; text-align: right;\">14750</td><td style = \"text-align: left;\">How union representation of employees has affected the level of flexibility/availability to make changes to employment conditions: don&apos;t know</td><td style = \"text-align: left;\">Professional, scientific, &amp; technical services</td><td style = \"text-align: right;\">1</td><td style = \"text-align: left;\">total</td><td style = \"text-align: left;\">C3307.04</td><td style = \"text-align: right;\">0</td></tr><tr><td class = \"rowNumber\" style = \"font-weight: bold; text-align: right;\">14751</td><td style = \"text-align: left;\">How union representation of employees has affected the level of flexibility/availability to make changes to employment conditions: don&apos;t know</td><td style = \"text-align: left;\">Computer systems design</td><td style = \"text-align: right;\">2</td><td style = \"text-align: left;\">total</td><td style = \"text-align: left;\">C3307.04</td><td style = \"text-align: right;\">0</td></tr><tr><td class = \"rowNumber\" style = \"font-weight: bold; text-align: right;\">14752</td><td style = \"text-align: left;\">How union representation of employees has affected the level of flexibility/availability to make changes to employment conditions: don&apos;t know</td><td style = \"text-align: left;\">Other professional scientific</td><td style = \"text-align: right;\">2</td><td style = \"text-align: left;\">total</td><td style = \"text-align: left;\">C3307.04</td><td style = \"text-align: right;\">3</td></tr><tr><td class = \"rowNumber\" style = \"font-weight: bold; text-align: right;\">14753</td><td style = \"text-align: left;\">How union representation of employees has affected the level of flexibility/availability to make changes to employment conditions: don&apos;t know</td><td style = \"text-align: left;\">Administrative &amp; support services</td><td style = \"text-align: right;\">1</td><td style = \"text-align: left;\">total</td><td style = \"text-align: left;\">C3307.04</td><td style = \"text-align: right;\">3</td></tr><tr><td class = \"rowNumber\" style = \"font-weight: bold; text-align: right;\">14754</td><td style = \"text-align: left;\">How union representation of employees has affected the level of flexibility/availability to make changes to employment conditions: don&apos;t know</td><td style = \"text-align: left;\">Education &amp; training</td><td style = \"text-align: right;\">1</td><td style = \"text-align: left;\">total</td><td style = \"text-align: left;\">C3307.04</td><td style = \"text-align: right;\">3</td></tr><tr><td class = \"rowNumber\" style = \"font-weight: bold; text-align: right;\">14755</td><td style = \"text-align: left;\">How union representation of employees has affected the level of flexibility/availability to make changes to employment conditions: don&apos;t know</td><td style = \"text-align: left;\">Health care &amp; social assistance</td><td style = \"text-align: right;\">1</td><td style = \"text-align: left;\">total</td><td style = \"text-align: left;\">C3307.04</td><td style = \"text-align: right;\">36</td></tr><tr><td class = \"rowNumber\" style = \"font-weight: bold; text-align: right;\">14756</td><td style = \"text-align: left;\">How union representation of employees has affected the level of flexibility/availability to make changes to employment conditions: don&apos;t know</td><td style = \"text-align: left;\">Arts &amp; recreation services</td><td style = \"text-align: right;\">1</td><td style = \"text-align: left;\">total</td><td style = \"text-align: left;\">C3307.04</td><td style = \"text-align: right;\">0</td></tr><tr><td class = \"rowNumber\" style = \"font-weight: bold; text-align: right;\">14757</td><td style = \"text-align: left;\">How union representation of employees has affected the level of flexibility/availability to make changes to employment conditions: don&apos;t know</td><td style = \"text-align: left;\">Other services</td><td style = \"text-align: right;\">1</td><td style = \"text-align: left;\">total</td><td style = \"text-align: left;\">C3307.04</td><td style = \"text-align: right;\">0</td></tr><tr><td class = \"rowNumber\" style = \"font-weight: bold; text-align: right;\">14758</td><td style = \"text-align: left;\">How union representation of employees has affected the level of flexibility/availability to make changes to employment conditions: don&apos;t know</td><td style = \"text-align: left;\">total</td><td style = \"text-align: right;\">0</td><td style = \"text-align: left;\">total</td><td style = \"text-align: left;\">C3307.04</td><td style = \"text-align: right;\">174</td></tr></tbody></table></div>"
      ],
      "text/latex": [
       "\\begin{tabular}{r|ccc}\n",
       "\t& description & industry & \\\\\n",
       "\t\\hline\n",
       "\t& String & String & \\\\\n",
       "\t\\hline\n",
       "\t1 & Business main customer: individuals or households & total & $\\dots$ \\\\\n",
       "\t2 & Business main customer: individuals or households & total & $\\dots$ \\\\\n",
       "\t3 & Business main customer: individuals or households & total & $\\dots$ \\\\\n",
       "\t4 & Business main customer: individuals or households & total & $\\dots$ \\\\\n",
       "\t5 & Business main customer: individuals or households & Agriculture, forestry, \\& fishing & $\\dots$ \\\\\n",
       "\t6 & Business main customer: individuals or households & Agriculture & $\\dots$ \\\\\n",
       "\t7 & Business main customer: individuals or households & Commercial fishing & $\\dots$ \\\\\n",
       "\t8 & Business main customer: individuals or households & Forestry \\& logging & $\\dots$ \\\\\n",
       "\t9 & Business main customer: individuals or households & Agriculture, forestry, \\& fishing support services & $\\dots$ \\\\\n",
       "\t10 & Business main customer: individuals or households & Mining & $\\dots$ \\\\\n",
       "\t11 & Business main customer: individuals or households & Manufacturing & $\\dots$ \\\\\n",
       "\t12 & Business main customer: individuals or households & Food, beverage, \\& tobacco & $\\dots$ \\\\\n",
       "\t13 & Business main customer: individuals or households & Textile, clothing, footwear, \\& leather & $\\dots$ \\\\\n",
       "\t14 & Business main customer: individuals or households & Wood \\& paper product & $\\dots$ \\\\\n",
       "\t15 & Business main customer: individuals or households & Printing, publishing, \\& recorded media & $\\dots$ \\\\\n",
       "\t16 & Business main customer: individuals or households & Petroleum, coal, chemical, \\& associated product & $\\dots$ \\\\\n",
       "\t17 & Business main customer: individuals or households & Non-metallic mineral product & $\\dots$ \\\\\n",
       "\t18 & Business main customer: individuals or households & Metal product & $\\dots$ \\\\\n",
       "\t19 & Business main customer: individuals or households & Transport and industrial machinery \\& equipment & $\\dots$ \\\\\n",
       "\t20 & Business main customer: individuals or households & Other machinery \\& equipment & $\\dots$ \\\\\n",
       "\t21 & Business main customer: individuals or households & Other manufacturing & $\\dots$ \\\\\n",
       "\t22 & Business main customer: individuals or households & Electricity, gas, water, \\& waste services & $\\dots$ \\\\\n",
       "\t23 & Business main customer: individuals or households & Construction & $\\dots$ \\\\\n",
       "\t24 & Business main customer: individuals or households & Wholesale trade & $\\dots$ \\\\\n",
       "\t$\\dots$ & $\\dots$ & $\\dots$ &  \\\\\n",
       "\\end{tabular}\n"
      ],
      "text/plain": [
       "\u001b[1m14758×6 DataFrame\u001b[0m\n",
       "\u001b[1m   Row \u001b[0m│\u001b[1m description                       \u001b[0m\u001b[1m industry                          \u001b[0m\u001b[1m\u001b[0m ⋯\n",
       "       │\u001b[90m String                            \u001b[0m\u001b[90m String                            \u001b[0m\u001b[90m\u001b[0m ⋯\n",
       "───────┼────────────────────────────────────────────────────────────────────────\n",
       "     1 │ Business main customer: individu…  total                              ⋯\n",
       "     2 │ Business main customer: individu…  total\n",
       "     3 │ Business main customer: individu…  total\n",
       "     4 │ Business main customer: individu…  total\n",
       "     5 │ Business main customer: individu…  Agriculture, forestry, & fishing   ⋯\n",
       "     6 │ Business main customer: individu…  Agriculture\n",
       "     7 │ Business main customer: individu…  Commercial fishing\n",
       "     8 │ Business main customer: individu…  Forestry & logging\n",
       "   ⋮   │                 ⋮                                  ⋮                  ⋱\n",
       " 14752 │ How union representation of empl…  Other professional scientific      ⋯\n",
       " 14753 │ How union representation of empl…  Administrative & support services\n",
       " 14754 │ How union representation of empl…  Education & training\n",
       " 14755 │ How union representation of empl…  Health care & social assistance\n",
       " 14756 │ How union representation of empl…  Arts & recreation services         ⋯\n",
       " 14757 │ How union representation of empl…  Other services\n",
       " 14758 │ How union representation of empl…  total\n",
       "\u001b[36m                                                4 columns and 14743 rows omitted\u001b[0m"
      ]
     },
     "metadata": {},
     "output_type": "display_data"
    }
   ],
   "source": [
    "df = load(\"https://www.stats.govt.nz/assets/Uploads/Business-operations-survey/Business-operations-survey-2022/Download-data/business-operations-survey-2022-price-and-wage-setting.csv\") |> \n",
    "    DataFrame"
   ]
  },
  {
   "cell_type": "code",
   "execution_count": 67,
   "metadata": {},
   "outputs": [
    {
     "data": {
      "text/html": [
       "<div><div style = \"float: left;\"><span>6×7 DataFrame</span></div><div style = \"clear: both;\"></div></div><div class = \"data-frame\" style = \"overflow-x: scroll;\"><table class = \"data-frame\" style = \"margin-bottom: 6px;\"><thead><tr class = \"header\"><th class = \"rowNumber\" style = \"font-weight: bold; text-align: right;\">Row</th><th style = \"text-align: left;\">variable</th><th style = \"text-align: left;\">mean</th><th style = \"text-align: left;\">min</th><th style = \"text-align: left;\">median</th><th style = \"text-align: left;\">max</th><th style = \"text-align: left;\">nmissing</th><th style = \"text-align: left;\">eltype</th></tr><tr class = \"subheader headerLastRow\"><th class = \"rowNumber\" style = \"font-weight: bold; text-align: right;\"></th><th title = \"Symbol\" style = \"text-align: left;\">Symbol</th><th title = \"Union{Nothing, Float64}\" style = \"text-align: left;\">Union…</th><th title = \"Any\" style = \"text-align: left;\">Any</th><th title = \"Union{Nothing, Float64}\" style = \"text-align: left;\">Union…</th><th title = \"Any\" style = \"text-align: left;\">Any</th><th title = \"Int64\" style = \"text-align: left;\">Int64</th><th title = \"DataType\" style = \"text-align: left;\">DataType</th></tr></thead><tbody><tr><td class = \"rowNumber\" style = \"font-weight: bold; text-align: right;\">1</td><td style = \"text-align: left;\">description</td><td style = \"font-style: italic; text-align: left;\"></td><td style = \"text-align: left;\">Are answers applicable to pricing processes used for business&apos;s other products: no</td><td style = \"font-style: italic; text-align: left;\"></td><td style = \"text-align: left;\">Who reviews and sets the price: other</td><td style = \"text-align: right;\">0</td><td style = \"text-align: left;\">String</td></tr><tr><td class = \"rowNumber\" style = \"font-weight: bold; text-align: right;\">2</td><td style = \"text-align: left;\">industry</td><td style = \"font-style: italic; text-align: left;\"></td><td style = \"text-align: left;\">Accommodation &amp; food services</td><td style = \"font-style: italic; text-align: left;\"></td><td style = \"text-align: left;\">total</td><td style = \"text-align: right;\">0</td><td style = \"text-align: left;\">String</td></tr><tr><td class = \"rowNumber\" style = \"font-weight: bold; text-align: right;\">3</td><td style = \"text-align: left;\">level</td><td style = \"text-align: left;\">1.40426</td><td style = \"text-align: left;\">0</td><td style = \"text-align: left;\">2.0</td><td style = \"text-align: left;\">2</td><td style = \"text-align: right;\">0</td><td style = \"text-align: left;\">Int64</td></tr><tr><td class = \"rowNumber\" style = \"font-weight: bold; text-align: right;\">4</td><td style = \"text-align: left;\">size</td><td style = \"font-style: italic; text-align: left;\"></td><td style = \"text-align: left;\">100+ employees</td><td style = \"font-style: italic; text-align: left;\"></td><td style = \"text-align: left;\">total</td><td style = \"text-align: right;\">0</td><td style = \"text-align: left;\">String</td></tr><tr><td class = \"rowNumber\" style = \"font-weight: bold; text-align: right;\">5</td><td style = \"text-align: left;\">line_code</td><td style = \"font-style: italic; text-align: left;\"></td><td style = \"text-align: left;\">C0300.01</td><td style = \"font-style: italic; text-align: left;\"></td><td style = \"text-align: left;\">C3307.04</td><td style = \"text-align: right;\">0</td><td style = \"text-align: left;\">String</td></tr><tr><td class = \"rowNumber\" style = \"font-weight: bold; text-align: right;\">6</td><td style = \"text-align: left;\">value</td><td style = \"text-align: left;\">669.344</td><td style = \"text-align: left;\">0</td><td style = \"text-align: left;\">90.0</td><td style = \"text-align: left;\">44877</td><td style = \"text-align: right;\">0</td><td style = \"text-align: left;\">Int64</td></tr></tbody></table></div>"
      ],
      "text/latex": [
       "\\begin{tabular}{r|cccc}\n",
       "\t& variable & mean & min & \\\\\n",
       "\t\\hline\n",
       "\t& Symbol & Union… & Any & \\\\\n",
       "\t\\hline\n",
       "\t1 & description &  & Are answers applicable to pricing processes used for business's other products: no & $\\dots$ \\\\\n",
       "\t2 & industry &  & Accommodation \\& food services & $\\dots$ \\\\\n",
       "\t3 & level & 1.40426 & 0 & $\\dots$ \\\\\n",
       "\t4 & size &  & 100+ employees & $\\dots$ \\\\\n",
       "\t5 & line\\_code &  & C0300.01 & $\\dots$ \\\\\n",
       "\t6 & value & 669.344 & 0 & $\\dots$ \\\\\n",
       "\\end{tabular}\n"
      ],
      "text/plain": [
       "\u001b[1m6×7 DataFrame\u001b[0m\n",
       "\u001b[1m Row \u001b[0m│\u001b[1m variable    \u001b[0m\u001b[1m mean    \u001b[0m\u001b[1m min                               \u001b[0m\u001b[1m median \u001b[0m\u001b[1m max   \u001b[0m ⋯\n",
       "     │\u001b[90m Symbol      \u001b[0m\u001b[90m Union…  \u001b[0m\u001b[90m Any                               \u001b[0m\u001b[90m Union… \u001b[0m\u001b[90m Any   \u001b[0m ⋯\n",
       "─────┼──────────────────────────────────────────────────────────────────────────\n",
       "   1 │ description \u001b[90m         \u001b[0m Are answers applicable to pricin… \u001b[90m        \u001b[0m Who re ⋯\n",
       "   2 │ industry    \u001b[90m         \u001b[0m Accommodation & food services     \u001b[90m        \u001b[0m total\n",
       "   3 │ level        1.40426  0                                  2.0     2\n",
       "   4 │ size        \u001b[90m         \u001b[0m 100+ employees                    \u001b[90m        \u001b[0m total\n",
       "   5 │ line_code   \u001b[90m         \u001b[0m C0300.01                          \u001b[90m        \u001b[0m C3307. ⋯\n",
       "   6 │ value        669.344  0                                  90.0    44877\n",
       "\u001b[36m                                                               3 columns omitted\u001b[0m"
      ]
     },
     "metadata": {},
     "output_type": "display_data"
    }
   ],
   "source": [
    "describe(df)"
   ]
  },
  {
   "cell_type": "code",
   "execution_count": 68,
   "metadata": {},
   "outputs": [
    {
     "data": {
      "text/plain": [
       "14758"
      ]
     },
     "metadata": {},
     "output_type": "display_data"
    }
   ],
   "source": [
    "# Find the number of rows\n",
    "nrow(df)"
   ]
  },
  {
   "cell_type": "code",
   "execution_count": 69,
   "metadata": {},
   "outputs": [
    {
     "data": {
      "text/plain": [
       "6"
      ]
     },
     "metadata": {},
     "output_type": "display_data"
    }
   ],
   "source": [
    "# Find the number of columns\n",
    "ncol(df)"
   ]
  },
  {
   "cell_type": "code",
   "execution_count": 70,
   "metadata": {},
   "outputs": [
    {
     "data": {
      "text/plain": [
       "6-element Vector{String}:\n",
       " \"description\"\n",
       " \"industry\"\n",
       " \"level\"\n",
       " \"size\"\n",
       " \"line_code\"\n",
       " \"value\""
      ]
     },
     "metadata": {},
     "output_type": "display_data"
    }
   ],
   "source": [
    "names(df)"
   ]
  },
  {
   "cell_type": "code",
   "execution_count": 71,
   "metadata": {},
   "outputs": [
    {
     "data": {
      "text/plain": [
       "5-element Vector{String}:\n",
       " \"total\"\n",
       " \"total\"\n",
       " \"total\"\n",
       " \"total\"\n",
       " \"Agriculture, forestry, & fishing\""
      ]
     },
     "metadata": {},
     "output_type": "display_data"
    }
   ],
   "source": [
    "# Get the first five entries in the second column\n",
    "first(df[:,2], 5)"
   ]
  },
  {
   "cell_type": "code",
   "execution_count": 72,
   "metadata": {},
   "outputs": [
    {
     "data": {
      "text/plain": [
       "5-element Vector{Int64}:\n",
       " 15639\n",
       "  2943\n",
       "   639\n",
       "   555\n",
       "   348"
      ]
     },
     "metadata": {},
     "output_type": "display_data"
    }
   ],
   "source": [
    "# Get the first 5 entries in the last column\n",
    "first(df[:,end], 5)"
   ]
  },
  {
   "cell_type": "code",
   "execution_count": 73,
   "metadata": {},
   "outputs": [
    {
     "data": {
      "text/plain": [
       "43-element Vector{String}:\n",
       " \"total\"\n",
       " \"Agriculture, forestry, & fishing\"\n",
       " \"Agriculture\"\n",
       " \"Commercial fishing\"\n",
       " \"Forestry & logging\"\n",
       " \"Agriculture, forestry, & fishing support services\"\n",
       " \"Mining\"\n",
       " \"Manufacturing\"\n",
       " \"Food, beverage, & tobacco\"\n",
       " \"Textile, clothing, footwear, & leather\"\n",
       " ⋮\n",
       " \"Rental, hiring, & real estate services\"\n",
       " \"Professional, scientific, & technical services\"\n",
       " \"Computer systems design\"\n",
       " \"Other professional scientific\"\n",
       " \"Administrative & support services\"\n",
       " \"Education & training\"\n",
       " \"Health care & social assistance\"\n",
       " \"Arts & recreation services\"\n",
       " \"Other services\""
      ]
     },
     "metadata": {},
     "output_type": "display_data"
    }
   ],
   "source": [
    "# Find the unique entries in the industry column\n",
    "unique(df.industry)"
   ]
  },
  {
   "cell_type": "code",
   "execution_count": 74,
   "metadata": {},
   "outputs": [
    {
     "data": {
      "text/plain": [
       "14758-element Vector{String}:\n",
       " \"total\"\n",
       " \"total\"\n",
       " \"total\"\n",
       " \"total\"\n",
       " \"Agriculture, forestry, & fishing\"\n",
       " \"Agriculture\"\n",
       " \"Commercial fishing\"\n",
       " \"Forestry & logging\"\n",
       " \"Agriculture, forestry, & fishing support services\"\n",
       " \"Mining\"\n",
       " ⋮\n",
       " \"Professional, scientific, & technical services\"\n",
       " \"Computer systems design\"\n",
       " \"Other professional scientific\"\n",
       " \"Administrative & support services\"\n",
       " \"Education & training\"\n",
       " \"Health care & social assistance\"\n",
       " \"Arts & recreation services\"\n",
       " \"Other services\"\n",
       " \"total\""
      ]
     },
     "metadata": {},
     "output_type": "display_data"
    }
   ],
   "source": [
    "# Another way to get the industry column is\n",
    "industry = df[:, \"industry\"]"
   ]
  },
  {
   "cell_type": "code",
   "execution_count": 75,
   "metadata": {},
   "outputs": [
    {
     "data": {
      "text/plain": [
       "14758-element Vector{String}:\n",
       " \"total\"\n",
       " \"total\"\n",
       " \"total\"\n",
       " \"total\"\n",
       " \"Agriculture, forestry, & fishing\"\n",
       " \"Agriculture\"\n",
       " \"Commercial fishing\"\n",
       " \"Forestry & logging\"\n",
       " \"Agriculture, forestry, & fishing support services\"\n",
       " \"Mining\"\n",
       " ⋮\n",
       " \"Professional, scientific, & technical services\"\n",
       " \"Computer systems design\"\n",
       " \"Other professional scientific\"\n",
       " \"Administrative & support services\"\n",
       " \"Education & training\"\n",
       " \"Health care & social assistance\"\n",
       " \"Arts & recreation services\"\n",
       " \"Other services\"\n",
       " \"total\""
      ]
     },
     "metadata": {},
     "output_type": "display_data"
    }
   ],
   "source": [
    "industry = df[:, :industry]"
   ]
  },
  {
   "cell_type": "code",
   "execution_count": 76,
   "metadata": {},
   "outputs": [
    {
     "data": {
      "text/plain": [
       "true"
      ]
     },
     "metadata": {},
     "output_type": "display_data"
    }
   ],
   "source": [
    "# To find if a column is present\n",
    "hasproperty(df, \"industry\")"
   ]
  },
  {
   "cell_type": "code",
   "execution_count": 77,
   "metadata": {},
   "outputs": [
    {
     "data": {
      "text/plain": [
       "2"
      ]
     },
     "metadata": {},
     "output_type": "display_data"
    }
   ],
   "source": [
    "# To find the index of the column\n",
    "columnindex(df, \"industry\")"
   ]
  },
  {
   "attachments": {},
   "cell_type": "markdown",
   "metadata": {},
   "source": [
    "## Column selection and row subsetting"
   ]
  },
  {
   "cell_type": "code",
   "execution_count": 78,
   "metadata": {},
   "outputs": [
    {
     "data": {
      "text/html": [
       "<div><div style = \"float: left;\"><span>6×7 DataFrame</span></div><div style = \"clear: both;\"></div></div><div class = \"data-frame\" style = \"overflow-x: scroll;\"><table class = \"data-frame\" style = \"margin-bottom: 6px;\"><thead><tr class = \"header\"><th class = \"rowNumber\" style = \"font-weight: bold; text-align: right;\">Row</th><th style = \"text-align: left;\">variable</th><th style = \"text-align: left;\">mean</th><th style = \"text-align: left;\">min</th><th style = \"text-align: left;\">median</th><th style = \"text-align: left;\">max</th><th style = \"text-align: left;\">nmissing</th><th style = \"text-align: left;\">eltype</th></tr><tr class = \"subheader headerLastRow\"><th class = \"rowNumber\" style = \"font-weight: bold; text-align: right;\"></th><th title = \"Symbol\" style = \"text-align: left;\">Symbol</th><th title = \"Union{Nothing, Float64}\" style = \"text-align: left;\">Union…</th><th title = \"Any\" style = \"text-align: left;\">Any</th><th title = \"Union{Nothing, Float64}\" style = \"text-align: left;\">Union…</th><th title = \"Any\" style = \"text-align: left;\">Any</th><th title = \"Int64\" style = \"text-align: left;\">Int64</th><th title = \"DataType\" style = \"text-align: left;\">DataType</th></tr></thead><tbody><tr><td class = \"rowNumber\" style = \"font-weight: bold; text-align: right;\">1</td><td style = \"text-align: left;\">description</td><td style = \"font-style: italic; text-align: left;\"></td><td style = \"text-align: left;\">Are answers applicable to pricing processes used for business&apos;s other products: no</td><td style = \"font-style: italic; text-align: left;\"></td><td style = \"text-align: left;\">Who reviews and sets the price: other</td><td style = \"text-align: right;\">0</td><td style = \"text-align: left;\">String</td></tr><tr><td class = \"rowNumber\" style = \"font-weight: bold; text-align: right;\">2</td><td style = \"text-align: left;\">industry</td><td style = \"font-style: italic; text-align: left;\"></td><td style = \"text-align: left;\">Accommodation &amp; food services</td><td style = \"font-style: italic; text-align: left;\"></td><td style = \"text-align: left;\">total</td><td style = \"text-align: right;\">0</td><td style = \"text-align: left;\">String</td></tr><tr><td class = \"rowNumber\" style = \"font-weight: bold; text-align: right;\">3</td><td style = \"text-align: left;\">level</td><td style = \"text-align: left;\">1.40426</td><td style = \"text-align: left;\">0</td><td style = \"text-align: left;\">2.0</td><td style = \"text-align: left;\">2</td><td style = \"text-align: right;\">0</td><td style = \"text-align: left;\">Int64</td></tr><tr><td class = \"rowNumber\" style = \"font-weight: bold; text-align: right;\">4</td><td style = \"text-align: left;\">size</td><td style = \"font-style: italic; text-align: left;\"></td><td style = \"text-align: left;\">100+ employees</td><td style = \"font-style: italic; text-align: left;\"></td><td style = \"text-align: left;\">total</td><td style = \"text-align: right;\">0</td><td style = \"text-align: left;\">String</td></tr><tr><td class = \"rowNumber\" style = \"font-weight: bold; text-align: right;\">5</td><td style = \"text-align: left;\">line_code</td><td style = \"font-style: italic; text-align: left;\"></td><td style = \"text-align: left;\">C0300.01</td><td style = \"font-style: italic; text-align: left;\"></td><td style = \"text-align: left;\">C3307.04</td><td style = \"text-align: right;\">0</td><td style = \"text-align: left;\">String</td></tr><tr><td class = \"rowNumber\" style = \"font-weight: bold; text-align: right;\">6</td><td style = \"text-align: left;\">value</td><td style = \"text-align: left;\">669.344</td><td style = \"text-align: left;\">0</td><td style = \"text-align: left;\">90.0</td><td style = \"text-align: left;\">44877</td><td style = \"text-align: right;\">0</td><td style = \"text-align: left;\">Int64</td></tr></tbody></table></div>"
      ],
      "text/latex": [
       "\\begin{tabular}{r|cccc}\n",
       "\t& variable & mean & min & \\\\\n",
       "\t\\hline\n",
       "\t& Symbol & Union… & Any & \\\\\n",
       "\t\\hline\n",
       "\t1 & description &  & Are answers applicable to pricing processes used for business's other products: no & $\\dots$ \\\\\n",
       "\t2 & industry &  & Accommodation \\& food services & $\\dots$ \\\\\n",
       "\t3 & level & 1.40426 & 0 & $\\dots$ \\\\\n",
       "\t4 & size &  & 100+ employees & $\\dots$ \\\\\n",
       "\t5 & line\\_code &  & C0300.01 & $\\dots$ \\\\\n",
       "\t6 & value & 669.344 & 0 & $\\dots$ \\\\\n",
       "\\end{tabular}\n"
      ],
      "text/plain": [
       "\u001b[1m6×7 DataFrame\u001b[0m\n",
       "\u001b[1m Row \u001b[0m│\u001b[1m variable    \u001b[0m\u001b[1m mean    \u001b[0m\u001b[1m min                               \u001b[0m\u001b[1m median \u001b[0m\u001b[1m max   \u001b[0m ⋯\n",
       "     │\u001b[90m Symbol      \u001b[0m\u001b[90m Union…  \u001b[0m\u001b[90m Any                               \u001b[0m\u001b[90m Union… \u001b[0m\u001b[90m Any   \u001b[0m ⋯\n",
       "─────┼──────────────────────────────────────────────────────────────────────────\n",
       "   1 │ description \u001b[90m         \u001b[0m Are answers applicable to pricin… \u001b[90m        \u001b[0m Who re ⋯\n",
       "   2 │ industry    \u001b[90m         \u001b[0m Accommodation & food services     \u001b[90m        \u001b[0m total\n",
       "   3 │ level        1.40426  0                                  2.0     2\n",
       "   4 │ size        \u001b[90m         \u001b[0m 100+ employees                    \u001b[90m        \u001b[0m total\n",
       "   5 │ line_code   \u001b[90m         \u001b[0m C0300.01                          \u001b[90m        \u001b[0m C3307. ⋯\n",
       "   6 │ value        669.344  0                                  90.0    44877\n",
       "\u001b[36m                                                               3 columns omitted\u001b[0m"
      ]
     },
     "metadata": {},
     "output_type": "display_data"
    }
   ],
   "source": [
    "describe(df)"
   ]
  },
  {
   "cell_type": "code",
   "execution_count": 79,
   "metadata": {},
   "outputs": [
    {
     "data": {
      "text/html": [
       "<div><div style = \"float: left;\"><span>212×6 DataFrame</span></div><div style = \"float: right;\"><span style = \"font-style: italic;\">187 rows omitted</span></div><div style = \"clear: both;\"></div></div><div class = \"data-frame\" style = \"overflow-x: scroll;\"><table class = \"data-frame\" style = \"margin-bottom: 6px;\"><thead><tr class = \"header\"><th class = \"rowNumber\" style = \"font-weight: bold; text-align: right;\">Row</th><th style = \"text-align: left;\">description</th><th style = \"text-align: left;\">industry</th><th style = \"text-align: left;\">level</th><th style = \"text-align: left;\">size</th><th style = \"text-align: left;\">line_code</th><th style = \"text-align: left;\">value</th></tr><tr class = \"subheader headerLastRow\"><th class = \"rowNumber\" style = \"font-weight: bold; text-align: right;\"></th><th title = \"String\" style = \"text-align: left;\">String</th><th title = \"String\" style = \"text-align: left;\">String</th><th title = \"Int64\" style = \"text-align: left;\">Int64</th><th title = \"String\" style = \"text-align: left;\">String</th><th title = \"String\" style = \"text-align: left;\">String</th><th title = \"Int64\" style = \"text-align: left;\">Int64</th></tr></thead><tbody><tr><td class = \"rowNumber\" style = \"font-weight: bold; text-align: right;\">1</td><td style = \"text-align: left;\">Business sales of goods or services from export: no</td><td style = \"text-align: left;\">Accommodation &amp; food services</td><td style = \"text-align: right;\">1</td><td style = \"text-align: left;\">total</td><td style = \"text-align: left;\">C1800.02</td><td style = \"text-align: right;\">6393</td></tr><tr><td class = \"rowNumber\" style = \"font-weight: bold; text-align: right;\">2</td><td style = \"text-align: left;\">Over the last 2 financial years, the majority of employees have had an increase in their base salary or hourly wage</td><td style = \"text-align: left;\">Accommodation &amp; food services</td><td style = \"text-align: right;\">1</td><td style = \"text-align: left;\">total</td><td style = \"text-align: left;\">C2400.01</td><td style = \"text-align: right;\">6384</td></tr><tr><td class = \"rowNumber\" style = \"font-weight: bold; text-align: right;\">3</td><td style = \"text-align: left;\">The business negotiates collective agreements with unions: no</td><td style = \"text-align: left;\">Accommodation &amp; food services</td><td style = \"text-align: right;\">1</td><td style = \"text-align: left;\">total</td><td style = \"text-align: left;\">C3100.02</td><td style = \"text-align: right;\">5997</td></tr><tr><td class = \"rowNumber\" style = \"font-weight: bold; text-align: right;\">4</td><td style = \"text-align: left;\">Who reviews and sets price: this business</td><td style = \"text-align: left;\">Accommodation &amp; food services</td><td style = \"text-align: right;\">1</td><td style = \"text-align: left;\">total</td><td style = \"text-align: left;\">C0700.01</td><td style = \"text-align: right;\">5970</td></tr><tr><td class = \"rowNumber\" style = \"font-weight: bold; text-align: right;\">5</td><td style = \"text-align: left;\">Business main customer: individuals or households</td><td style = \"text-align: left;\">Accommodation &amp; food services</td><td style = \"text-align: right;\">1</td><td style = \"text-align: left;\">total</td><td style = \"text-align: left;\">C0300.01</td><td style = \"text-align: right;\">5598</td></tr><tr><td class = \"rowNumber\" style = \"font-weight: bold; text-align: right;\">6</td><td style = \"text-align: left;\">Proportion of customers on long term price contract: zero</td><td style = \"text-align: left;\">Accommodation &amp; food services</td><td style = \"text-align: right;\">1</td><td style = \"text-align: left;\">total</td><td style = \"text-align: left;\">C0400.01</td><td style = \"text-align: right;\">5433</td></tr><tr><td class = \"rowNumber\" style = \"font-weight: bold; text-align: right;\">7</td><td style = \"text-align: left;\">When considering price changes, importance of change in other costs: very important</td><td style = \"text-align: left;\">Accommodation &amp; food services</td><td style = \"text-align: right;\">1</td><td style = \"text-align: left;\">total</td><td style = \"text-align: left;\">C1503.03</td><td style = \"text-align: right;\">5235</td></tr><tr><td class = \"rowNumber\" style = \"font-weight: bold; text-align: right;\">8</td><td style = \"text-align: left;\">When considering price changes, importance of change in labour cost: very important</td><td style = \"text-align: left;\">Accommodation &amp; food services</td><td style = \"text-align: right;\">1</td><td style = \"text-align: left;\">total</td><td style = \"text-align: left;\">C1501.03</td><td style = \"text-align: right;\">5127</td></tr><tr><td class = \"rowNumber\" style = \"font-weight: bold; text-align: right;\">9</td><td style = \"text-align: left;\">During 2 last financial years, employees had wages increased because of increase in minimum wage: yes, for employees paid the minimum wage</td><td style = \"text-align: left;\">Accommodation &amp; food services</td><td style = \"text-align: right;\">1</td><td style = \"text-align: left;\">total</td><td style = \"text-align: left;\">C2801</td><td style = \"text-align: right;\">5121</td></tr><tr><td class = \"rowNumber\" style = \"font-weight: bold; text-align: right;\">10</td><td style = \"text-align: left;\">In preventing the business from reducing wages or salaries, importance of legislated minimum wages: very important</td><td style = \"text-align: left;\">Accommodation &amp; food services</td><td style = \"text-align: right;\">1</td><td style = \"text-align: left;\">total</td><td style = \"text-align: left;\">C2602.03</td><td style = \"text-align: right;\">4815</td></tr><tr><td class = \"rowNumber\" style = \"font-weight: bold; text-align: right;\">11</td><td style = \"text-align: left;\">Over the last 2 financial years, in setting wages and salaries, importance of retaining hard-to-replace workers: very important</td><td style = \"text-align: left;\">Accommodation &amp; food services</td><td style = \"text-align: right;\">1</td><td style = \"text-align: left;\">total</td><td style = \"text-align: left;\">C2502.03</td><td style = \"text-align: right;\">4767</td></tr><tr><td class = \"rowNumber\" style = \"font-weight: bold; text-align: right;\">12</td><td style = \"text-align: left;\">In determining entry wage of the business&apos;s newly hired employees, importance of minimum wages rates: very important</td><td style = \"text-align: left;\">Accommodation &amp; food services</td><td style = \"text-align: right;\">1</td><td style = \"text-align: left;\">total</td><td style = \"text-align: left;\">C2901.03</td><td style = \"text-align: right;\">4653</td></tr><tr><td class = \"rowNumber\" style = \"font-weight: bold; text-align: right;\">13</td><td style = \"text-align: left;\">Are answers applicable to pricing processes used for business&apos;s other products: yes</td><td style = \"text-align: left;\">Accommodation &amp; food services</td><td style = \"text-align: right;\">1</td><td style = \"text-align: left;\">total</td><td style = \"text-align: left;\">C1700.01</td><td style = \"text-align: right;\">4485</td></tr><tr><td style = \"text-align: right;\">&vellip;</td><td style = \"text-align: right;\">&vellip;</td><td style = \"text-align: right;\">&vellip;</td><td style = \"text-align: right;\">&vellip;</td><td style = \"text-align: right;\">&vellip;</td><td style = \"text-align: right;\">&vellip;</td><td style = \"text-align: right;\">&vellip;</td></tr><tr><td class = \"rowNumber\" style = \"font-weight: bold; text-align: right;\">201</td><td style = \"text-align: left;\">Business main customer: retailers or wholesalers outside business group</td><td style = \"text-align: left;\">Accommodation &amp; food services</td><td style = \"text-align: right;\">1</td><td style = \"text-align: left;\">total</td><td style = \"text-align: left;\">C0300.03</td><td style = \"text-align: right;\">384</td></tr><tr><td class = \"rowNumber\" style = \"font-weight: bold; text-align: right;\">202</td><td style = \"text-align: left;\">Over the last 2 financial years, in setting wages and salaries, importance of changes in productivity: don&apos;t know</td><td style = \"text-align: left;\">Accommodation &amp; food services</td><td style = \"text-align: right;\">1</td><td style = \"text-align: left;\">total</td><td style = \"text-align: left;\">C2507.04</td><td style = \"text-align: right;\">378</td></tr><tr><td class = \"rowNumber\" style = \"font-weight: bold; text-align: right;\">203</td><td style = \"text-align: left;\">In preventing the business from reducing wages or salaries, importance of legislated minimum wages: not important</td><td style = \"text-align: left;\">Accommodation &amp; food services</td><td style = \"text-align: right;\">1</td><td style = \"text-align: left;\">total</td><td style = \"text-align: left;\">C2602.01</td><td style = \"text-align: right;\">372</td></tr><tr><td class = \"rowNumber\" style = \"font-weight: bold; text-align: right;\">204</td><td style = \"text-align: left;\">Over the last 2 financial years, in setting wages and salaries, importance of competing with other firms for staff: don&apos;t know</td><td style = \"text-align: left;\">Accommodation &amp; food services</td><td style = \"text-align: right;\">1</td><td style = \"text-align: left;\">total</td><td style = \"text-align: left;\">C2503.04</td><td style = \"text-align: right;\">363</td></tr><tr><td class = \"rowNumber\" style = \"font-weight: bold; text-align: right;\">205</td><td style = \"text-align: left;\">In preventing the business from reducing wages or salaries, importance of hard-to-replace knowledge is lost because employees would leave: don&apos;t know</td><td style = \"text-align: left;\">Accommodation &amp; food services</td><td style = \"text-align: right;\">1</td><td style = \"text-align: left;\">total</td><td style = \"text-align: left;\">C2608.04</td><td style = \"text-align: right;\">351</td></tr><tr><td class = \"rowNumber\" style = \"font-weight: bold; text-align: right;\">206</td><td style = \"text-align: left;\">Business&apos;s pricing decision rely on: don&apos;t know</td><td style = \"text-align: left;\">Accommodation &amp; food services</td><td style = \"text-align: right;\">1</td><td style = \"text-align: left;\">total</td><td style = \"text-align: left;\">C1400.04</td><td style = \"text-align: right;\">348</td></tr><tr><td class = \"rowNumber\" style = \"font-weight: bold; text-align: right;\">207</td><td style = \"text-align: left;\">In preventing the business from reducing wages or salaries, importance of the best employees would leave: not important</td><td style = \"text-align: left;\">Accommodation &amp; food services</td><td style = \"text-align: right;\">1</td><td style = \"text-align: left;\">total</td><td style = \"text-align: left;\">C2607.01</td><td style = \"text-align: right;\">345</td></tr><tr><td class = \"rowNumber\" style = \"font-weight: bold; text-align: right;\">208</td><td style = \"text-align: left;\">Business sales of goods or services from export: yes</td><td style = \"text-align: left;\">Accommodation &amp; food services</td><td style = \"text-align: right;\">1</td><td style = \"text-align: left;\">total</td><td style = \"text-align: left;\">C1800.01</td><td style = \"text-align: right;\">342</td></tr><tr><td class = \"rowNumber\" style = \"font-weight: bold; text-align: right;\">209</td><td style = \"text-align: left;\">Predominant currency of invoice for the business&apos;s export market contracts: NZ dollar</td><td style = \"text-align: left;\">Accommodation &amp; food services</td><td style = \"text-align: right;\">1</td><td style = \"text-align: left;\">total</td><td style = \"text-align: left;\">C2200.02</td><td style = \"text-align: right;\">330</td></tr><tr><td class = \"rowNumber\" style = \"font-weight: bold; text-align: right;\">210</td><td style = \"text-align: left;\">Frequency of price review: weekly</td><td style = \"text-align: left;\">Accommodation &amp; food services</td><td style = \"text-align: right;\">1</td><td style = \"text-align: left;\">total</td><td style = \"text-align: left;\">C0900.02</td><td style = \"text-align: right;\">312</td></tr><tr><td class = \"rowNumber\" style = \"font-weight: bold; text-align: right;\">211</td><td style = \"text-align: left;\">During last 2 financial years, for the majority of employees, how training opportunities have changed: decreased</td><td style = \"text-align: left;\">Accommodation &amp; food services</td><td style = \"text-align: right;\">1</td><td style = \"text-align: left;\">total</td><td style = \"text-align: left;\">C3003.01</td><td style = \"text-align: right;\">312</td></tr><tr><td class = \"rowNumber\" style = \"font-weight: bold; text-align: right;\">212</td><td style = \"text-align: left;\">Over the last 2 financial years, in setting wages and salaries, importance of government regulations: don&apos;t know</td><td style = \"text-align: left;\">Accommodation &amp; food services</td><td style = \"text-align: right;\">1</td><td style = \"text-align: left;\">total</td><td style = \"text-align: left;\">C2508.04</td><td style = \"text-align: right;\">309</td></tr></tbody></table></div>"
      ],
      "text/latex": [
       "\\begin{tabular}{r|cc}\n",
       "\t& description & \\\\\n",
       "\t\\hline\n",
       "\t& String & \\\\\n",
       "\t\\hline\n",
       "\t1 & Business sales of goods or services from export: no & $\\dots$ \\\\\n",
       "\t2 & Over the last 2 financial years, the majority of employees have had an increase in their base salary or hourly wage & $\\dots$ \\\\\n",
       "\t3 & The business negotiates collective agreements with unions: no & $\\dots$ \\\\\n",
       "\t4 & Who reviews and sets price: this business & $\\dots$ \\\\\n",
       "\t5 & Business main customer: individuals or households & $\\dots$ \\\\\n",
       "\t6 & Proportion of customers on long term price contract: zero & $\\dots$ \\\\\n",
       "\t7 & When considering price changes, importance of change in other costs: very important & $\\dots$ \\\\\n",
       "\t8 & When considering price changes, importance of change in labour cost: very important & $\\dots$ \\\\\n",
       "\t9 & During 2 last financial years, employees had wages increased because of increase in minimum wage: yes, for employees paid the minimum wage & $\\dots$ \\\\\n",
       "\t10 & In preventing the business from reducing wages or salaries, importance of legislated minimum wages: very important & $\\dots$ \\\\\n",
       "\t11 & Over the last 2 financial years, in setting wages and salaries, importance of retaining hard-to-replace workers: very important & $\\dots$ \\\\\n",
       "\t12 & In determining entry wage of the business's newly hired employees, importance of minimum wages rates: very important & $\\dots$ \\\\\n",
       "\t13 & Are answers applicable to pricing processes used for business's other products: yes & $\\dots$ \\\\\n",
       "\t14 & In preventing the business from reducing wages or salaries, importance of the best employees would leave: very important & $\\dots$ \\\\\n",
       "\t15 & When considering price changes, importance of change in exchange rates: not important & $\\dots$ \\\\\n",
       "\t16 & Over the last 2 financial years, in setting wages and salaries, importance of agreements with unions: not important & $\\dots$ \\\\\n",
       "\t17 & During last 2 financial years, for the majority of employees, how training opportunities have changed: stayed the same & $\\dots$ \\\\\n",
       "\t18 & In determining entry wage of the business's newly hired employees, importance of wages and salaries of similar employees within this business: very important & $\\dots$ \\\\\n",
       "\t19 & Comparing current pricing practices with 2019 (pre-COVID), profit margin: decreased & $\\dots$ \\\\\n",
       "\t20 & During last 2 financial years, for the majority of employees, how sick leave entitlements have changed: increased & $\\dots$ \\\\\n",
       "\t21 & Over the last 2 financial years, in setting wages and salaries, importance of government regulations: very important & $\\dots$ \\\\\n",
       "\t22 & During last 2 financial years, for the majority of employees, how employee choice over location of work has changed: stayed the same & $\\dots$ \\\\\n",
       "\t23 & When does business typically review price: regular intervals and in response to specific events & $\\dots$ \\\\\n",
       "\t24 & In determining entry wage of the business's newly hired employees, importance of availability of similar workers in the labour market: very important & $\\dots$ \\\\\n",
       "\t$\\dots$ & $\\dots$ &  \\\\\n",
       "\\end{tabular}\n"
      ],
      "text/plain": [
       "\u001b[1m212×6 DataFrame\u001b[0m\n",
       "\u001b[1m Row \u001b[0m│\u001b[1m description                       \u001b[0m\u001b[1m industry                      \u001b[0m\u001b[1m level\u001b[0m ⋯\n",
       "     │\u001b[90m String                            \u001b[0m\u001b[90m String                        \u001b[0m\u001b[90m Int64\u001b[0m ⋯\n",
       "─────┼──────────────────────────────────────────────────────────────────────────\n",
       "   1 │ Business sales of goods or servi…  Accommodation & food services      1 ⋯\n",
       "   2 │ Over the last 2 financial years,…  Accommodation & food services      1\n",
       "   3 │ The business negotiates collecti…  Accommodation & food services      1\n",
       "   4 │ Who reviews and sets price: this…  Accommodation & food services      1\n",
       "   5 │ Business main customer: individu…  Accommodation & food services      1 ⋯\n",
       "   6 │ Proportion of customers on long …  Accommodation & food services      1\n",
       "   7 │ When considering price changes, …  Accommodation & food services      1\n",
       "   8 │ When considering price changes, …  Accommodation & food services      1\n",
       "  ⋮  │                 ⋮                                ⋮                  ⋮   ⋱\n",
       " 206 │ Business's pricing decision rely…  Accommodation & food services      1 ⋯\n",
       " 207 │ In preventing the business from …  Accommodation & food services      1\n",
       " 208 │ Business sales of goods or servi…  Accommodation & food services      1\n",
       " 209 │ Predominant currency of invoice …  Accommodation & food services      1\n",
       " 210 │ Frequency of price review: weekly  Accommodation & food services      1 ⋯\n",
       " 211 │ During last 2 financial years, f…  Accommodation & food services      1\n",
       " 212 │ Over the last 2 financial years,…  Accommodation & food services      1\n",
       "\u001b[36m                                                  3 columns and 197 rows omitted\u001b[0m"
      ]
     },
     "metadata": {},
     "output_type": "display_data"
    }
   ],
   "source": [
    "subset = df |>\n",
    "    @filter(_.value > 300 && _.industry == \"Accommodation & food services\") |>\n",
    "    @orderby_descending(_.value) |>\n",
    "    DataFrame"
   ]
  },
  {
   "cell_type": "code",
   "execution_count": 80,
   "metadata": {},
   "outputs": [
    {
     "data": {
      "text/html": [
       "<div><div style = \"float: left;\"><span>212×6 DataFrame</span></div><div style = \"float: right;\"><span style = \"font-style: italic;\">187 rows omitted</span></div><div style = \"clear: both;\"></div></div><div class = \"data-frame\" style = \"overflow-x: scroll;\"><table class = \"data-frame\" style = \"margin-bottom: 6px;\"><thead><tr class = \"header\"><th class = \"rowNumber\" style = \"font-weight: bold; text-align: right;\">Row</th><th style = \"text-align: left;\">description</th><th style = \"text-align: left;\">industry</th><th style = \"text-align: left;\">level</th><th style = \"text-align: left;\">size</th><th style = \"text-align: left;\">line_code</th><th style = \"text-align: left;\">value</th></tr><tr class = \"subheader headerLastRow\"><th class = \"rowNumber\" style = \"font-weight: bold; text-align: right;\"></th><th title = \"String\" style = \"text-align: left;\">String</th><th title = \"String\" style = \"text-align: left;\">String</th><th title = \"Int64\" style = \"text-align: left;\">Int64</th><th title = \"String\" style = \"text-align: left;\">String</th><th title = \"String\" style = \"text-align: left;\">String</th><th title = \"Int64\" style = \"text-align: left;\">Int64</th></tr></thead><tbody><tr><td class = \"rowNumber\" style = \"font-weight: bold; text-align: right;\">1</td><td style = \"text-align: left;\">Over the last 2 financial years, in setting wages and salaries, importance of government regulations: don&apos;t know</td><td style = \"text-align: left;\">Accommodation &amp; food services</td><td style = \"text-align: right;\">1</td><td style = \"text-align: left;\">total</td><td style = \"text-align: left;\">C2508.04</td><td style = \"text-align: right;\">309</td></tr><tr><td class = \"rowNumber\" style = \"font-weight: bold; text-align: right;\">2</td><td style = \"text-align: left;\">Frequency of price review: weekly</td><td style = \"text-align: left;\">Accommodation &amp; food services</td><td style = \"text-align: right;\">1</td><td style = \"text-align: left;\">total</td><td style = \"text-align: left;\">C0900.02</td><td style = \"text-align: right;\">312</td></tr><tr><td class = \"rowNumber\" style = \"font-weight: bold; text-align: right;\">3</td><td style = \"text-align: left;\">During last 2 financial years, for the majority of employees, how training opportunities have changed: decreased</td><td style = \"text-align: left;\">Accommodation &amp; food services</td><td style = \"text-align: right;\">1</td><td style = \"text-align: left;\">total</td><td style = \"text-align: left;\">C3003.01</td><td style = \"text-align: right;\">312</td></tr><tr><td class = \"rowNumber\" style = \"font-weight: bold; text-align: right;\">4</td><td style = \"text-align: left;\">Predominant currency of invoice for the business&apos;s export market contracts: NZ dollar</td><td style = \"text-align: left;\">Accommodation &amp; food services</td><td style = \"text-align: right;\">1</td><td style = \"text-align: left;\">total</td><td style = \"text-align: left;\">C2200.02</td><td style = \"text-align: right;\">330</td></tr><tr><td class = \"rowNumber\" style = \"font-weight: bold; text-align: right;\">5</td><td style = \"text-align: left;\">Business sales of goods or services from export: yes</td><td style = \"text-align: left;\">Accommodation &amp; food services</td><td style = \"text-align: right;\">1</td><td style = \"text-align: left;\">total</td><td style = \"text-align: left;\">C1800.01</td><td style = \"text-align: right;\">342</td></tr><tr><td class = \"rowNumber\" style = \"font-weight: bold; text-align: right;\">6</td><td style = \"text-align: left;\">In preventing the business from reducing wages or salaries, importance of the best employees would leave: not important</td><td style = \"text-align: left;\">Accommodation &amp; food services</td><td style = \"text-align: right;\">1</td><td style = \"text-align: left;\">total</td><td style = \"text-align: left;\">C2607.01</td><td style = \"text-align: right;\">345</td></tr><tr><td class = \"rowNumber\" style = \"font-weight: bold; text-align: right;\">7</td><td style = \"text-align: left;\">Business&apos;s pricing decision rely on: don&apos;t know</td><td style = \"text-align: left;\">Accommodation &amp; food services</td><td style = \"text-align: right;\">1</td><td style = \"text-align: left;\">total</td><td style = \"text-align: left;\">C1400.04</td><td style = \"text-align: right;\">348</td></tr><tr><td class = \"rowNumber\" style = \"font-weight: bold; text-align: right;\">8</td><td style = \"text-align: left;\">In preventing the business from reducing wages or salaries, importance of hard-to-replace knowledge is lost because employees would leave: don&apos;t know</td><td style = \"text-align: left;\">Accommodation &amp; food services</td><td style = \"text-align: right;\">1</td><td style = \"text-align: left;\">total</td><td style = \"text-align: left;\">C2608.04</td><td style = \"text-align: right;\">351</td></tr><tr><td class = \"rowNumber\" style = \"font-weight: bold; text-align: right;\">9</td><td style = \"text-align: left;\">Over the last 2 financial years, in setting wages and salaries, importance of competing with other firms for staff: don&apos;t know</td><td style = \"text-align: left;\">Accommodation &amp; food services</td><td style = \"text-align: right;\">1</td><td style = \"text-align: left;\">total</td><td style = \"text-align: left;\">C2503.04</td><td style = \"text-align: right;\">363</td></tr><tr><td class = \"rowNumber\" style = \"font-weight: bold; text-align: right;\">10</td><td style = \"text-align: left;\">In preventing the business from reducing wages or salaries, importance of legislated minimum wages: not important</td><td style = \"text-align: left;\">Accommodation &amp; food services</td><td style = \"text-align: right;\">1</td><td style = \"text-align: left;\">total</td><td style = \"text-align: left;\">C2602.01</td><td style = \"text-align: right;\">372</td></tr><tr><td class = \"rowNumber\" style = \"font-weight: bold; text-align: right;\">11</td><td style = \"text-align: left;\">Over the last 2 financial years, in setting wages and salaries, importance of changes in productivity: don&apos;t know</td><td style = \"text-align: left;\">Accommodation &amp; food services</td><td style = \"text-align: right;\">1</td><td style = \"text-align: left;\">total</td><td style = \"text-align: left;\">C2507.04</td><td style = \"text-align: right;\">378</td></tr><tr><td class = \"rowNumber\" style = \"font-weight: bold; text-align: right;\">12</td><td style = \"text-align: left;\">Business main customer: retailers or wholesalers outside business group</td><td style = \"text-align: left;\">Accommodation &amp; food services</td><td style = \"text-align: right;\">1</td><td style = \"text-align: left;\">total</td><td style = \"text-align: left;\">C0300.03</td><td style = \"text-align: right;\">384</td></tr><tr><td class = \"rowNumber\" style = \"font-weight: bold; text-align: right;\">13</td><td style = \"text-align: left;\">Business main customer: other businesses outside business group</td><td style = \"text-align: left;\">Accommodation &amp; food services</td><td style = \"text-align: right;\">1</td><td style = \"text-align: left;\">total</td><td style = \"text-align: left;\">C0300.04</td><td style = \"text-align: right;\">396</td></tr><tr><td style = \"text-align: right;\">&vellip;</td><td style = \"text-align: right;\">&vellip;</td><td style = \"text-align: right;\">&vellip;</td><td style = \"text-align: right;\">&vellip;</td><td style = \"text-align: right;\">&vellip;</td><td style = \"text-align: right;\">&vellip;</td><td style = \"text-align: right;\">&vellip;</td></tr><tr><td class = \"rowNumber\" style = \"font-weight: bold; text-align: right;\">201</td><td style = \"text-align: left;\">In determining entry wage of the business&apos;s newly hired employees, importance of minimum wages rates: very important</td><td style = \"text-align: left;\">Accommodation &amp; food services</td><td style = \"text-align: right;\">1</td><td style = \"text-align: left;\">total</td><td style = \"text-align: left;\">C2901.03</td><td style = \"text-align: right;\">4653</td></tr><tr><td class = \"rowNumber\" style = \"font-weight: bold; text-align: right;\">202</td><td style = \"text-align: left;\">Over the last 2 financial years, in setting wages and salaries, importance of retaining hard-to-replace workers: very important</td><td style = \"text-align: left;\">Accommodation &amp; food services</td><td style = \"text-align: right;\">1</td><td style = \"text-align: left;\">total</td><td style = \"text-align: left;\">C2502.03</td><td style = \"text-align: right;\">4767</td></tr><tr><td class = \"rowNumber\" style = \"font-weight: bold; text-align: right;\">203</td><td style = \"text-align: left;\">In preventing the business from reducing wages or salaries, importance of legislated minimum wages: very important</td><td style = \"text-align: left;\">Accommodation &amp; food services</td><td style = \"text-align: right;\">1</td><td style = \"text-align: left;\">total</td><td style = \"text-align: left;\">C2602.03</td><td style = \"text-align: right;\">4815</td></tr><tr><td class = \"rowNumber\" style = \"font-weight: bold; text-align: right;\">204</td><td style = \"text-align: left;\">During 2 last financial years, employees had wages increased because of increase in minimum wage: yes, for employees paid the minimum wage</td><td style = \"text-align: left;\">Accommodation &amp; food services</td><td style = \"text-align: right;\">1</td><td style = \"text-align: left;\">total</td><td style = \"text-align: left;\">C2801</td><td style = \"text-align: right;\">5121</td></tr><tr><td class = \"rowNumber\" style = \"font-weight: bold; text-align: right;\">205</td><td style = \"text-align: left;\">When considering price changes, importance of change in labour cost: very important</td><td style = \"text-align: left;\">Accommodation &amp; food services</td><td style = \"text-align: right;\">1</td><td style = \"text-align: left;\">total</td><td style = \"text-align: left;\">C1501.03</td><td style = \"text-align: right;\">5127</td></tr><tr><td class = \"rowNumber\" style = \"font-weight: bold; text-align: right;\">206</td><td style = \"text-align: left;\">When considering price changes, importance of change in other costs: very important</td><td style = \"text-align: left;\">Accommodation &amp; food services</td><td style = \"text-align: right;\">1</td><td style = \"text-align: left;\">total</td><td style = \"text-align: left;\">C1503.03</td><td style = \"text-align: right;\">5235</td></tr><tr><td class = \"rowNumber\" style = \"font-weight: bold; text-align: right;\">207</td><td style = \"text-align: left;\">Proportion of customers on long term price contract: zero</td><td style = \"text-align: left;\">Accommodation &amp; food services</td><td style = \"text-align: right;\">1</td><td style = \"text-align: left;\">total</td><td style = \"text-align: left;\">C0400.01</td><td style = \"text-align: right;\">5433</td></tr><tr><td class = \"rowNumber\" style = \"font-weight: bold; text-align: right;\">208</td><td style = \"text-align: left;\">Business main customer: individuals or households</td><td style = \"text-align: left;\">Accommodation &amp; food services</td><td style = \"text-align: right;\">1</td><td style = \"text-align: left;\">total</td><td style = \"text-align: left;\">C0300.01</td><td style = \"text-align: right;\">5598</td></tr><tr><td class = \"rowNumber\" style = \"font-weight: bold; text-align: right;\">209</td><td style = \"text-align: left;\">Who reviews and sets price: this business</td><td style = \"text-align: left;\">Accommodation &amp; food services</td><td style = \"text-align: right;\">1</td><td style = \"text-align: left;\">total</td><td style = \"text-align: left;\">C0700.01</td><td style = \"text-align: right;\">5970</td></tr><tr><td class = \"rowNumber\" style = \"font-weight: bold; text-align: right;\">210</td><td style = \"text-align: left;\">The business negotiates collective agreements with unions: no</td><td style = \"text-align: left;\">Accommodation &amp; food services</td><td style = \"text-align: right;\">1</td><td style = \"text-align: left;\">total</td><td style = \"text-align: left;\">C3100.02</td><td style = \"text-align: right;\">5997</td></tr><tr><td class = \"rowNumber\" style = \"font-weight: bold; text-align: right;\">211</td><td style = \"text-align: left;\">Over the last 2 financial years, the majority of employees have had an increase in their base salary or hourly wage</td><td style = \"text-align: left;\">Accommodation &amp; food services</td><td style = \"text-align: right;\">1</td><td style = \"text-align: left;\">total</td><td style = \"text-align: left;\">C2400.01</td><td style = \"text-align: right;\">6384</td></tr><tr><td class = \"rowNumber\" style = \"font-weight: bold; text-align: right;\">212</td><td style = \"text-align: left;\">Business sales of goods or services from export: no</td><td style = \"text-align: left;\">Accommodation &amp; food services</td><td style = \"text-align: right;\">1</td><td style = \"text-align: left;\">total</td><td style = \"text-align: left;\">C1800.02</td><td style = \"text-align: right;\">6393</td></tr></tbody></table></div>"
      ],
      "text/latex": [
       "\\begin{tabular}{r|cc}\n",
       "\t& description & \\\\\n",
       "\t\\hline\n",
       "\t& String & \\\\\n",
       "\t\\hline\n",
       "\t1 & Over the last 2 financial years, in setting wages and salaries, importance of government regulations: don't know & $\\dots$ \\\\\n",
       "\t2 & Frequency of price review: weekly & $\\dots$ \\\\\n",
       "\t3 & During last 2 financial years, for the majority of employees, how training opportunities have changed: decreased & $\\dots$ \\\\\n",
       "\t4 & Predominant currency of invoice for the business's export market contracts: NZ dollar & $\\dots$ \\\\\n",
       "\t5 & Business sales of goods or services from export: yes & $\\dots$ \\\\\n",
       "\t6 & In preventing the business from reducing wages or salaries, importance of the best employees would leave: not important & $\\dots$ \\\\\n",
       "\t7 & Business's pricing decision rely on: don't know & $\\dots$ \\\\\n",
       "\t8 & In preventing the business from reducing wages or salaries, importance of hard-to-replace knowledge is lost because employees would leave: don't know & $\\dots$ \\\\\n",
       "\t9 & Over the last 2 financial years, in setting wages and salaries, importance of competing with other firms for staff: don't know & $\\dots$ \\\\\n",
       "\t10 & In preventing the business from reducing wages or salaries, importance of legislated minimum wages: not important & $\\dots$ \\\\\n",
       "\t11 & Over the last 2 financial years, in setting wages and salaries, importance of changes in productivity: don't know & $\\dots$ \\\\\n",
       "\t12 & Business main customer: retailers or wholesalers outside business group & $\\dots$ \\\\\n",
       "\t13 & Business main customer: other businesses outside business group & $\\dots$ \\\\\n",
       "\t14 & Business's pricing decision rely on: expected future economic conditions & $\\dots$ \\\\\n",
       "\t15 & In preventing the business from reducing wages or salaries, importance of legislated minimum wages: don't know & $\\dots$ \\\\\n",
       "\t16 & During last 2 financial years, for the majority of employees, how employee choice over hours of work has changed: decreased & $\\dots$ \\\\\n",
       "\t17 & Proportion of customers on long term price contract: 76-100\\% & $\\dots$ \\\\\n",
       "\t18 & When considering price changes, importance of change in exchange rates: very important & $\\dots$ \\\\\n",
       "\t19 & Proportion of customers on long term price contract: 1-25\\% & $\\dots$ \\\\\n",
       "\t20 & Over the last 2 financial years, in setting wages and salaries, importance of changes in product demand: don't know & $\\dots$ \\\\\n",
       "\t21 & In preventing the business from reducing wages or salaries, importance of hard-to-replace knowledge is lost because employees would leave: not important & $\\dots$ \\\\\n",
       "\t22 & In determining entry wage of the business's newly hired employees, importance of minimum wages rates: not important & $\\dots$ \\\\\n",
       "\t23 & Proportion of customers returning for repeat business: 1-25\\% & $\\dots$ \\\\\n",
       "\t24 & Comparing current pricing practices with 2019 (pre-COVID), frequency of price reviews: decreased & $\\dots$ \\\\\n",
       "\t$\\dots$ & $\\dots$ &  \\\\\n",
       "\\end{tabular}\n"
      ],
      "text/plain": [
       "\u001b[1m212×6 DataFrame\u001b[0m\n",
       "\u001b[1m Row \u001b[0m│\u001b[1m description                       \u001b[0m\u001b[1m industry                      \u001b[0m\u001b[1m level\u001b[0m ⋯\n",
       "     │\u001b[90m String                            \u001b[0m\u001b[90m String                        \u001b[0m\u001b[90m Int64\u001b[0m ⋯\n",
       "─────┼──────────────────────────────────────────────────────────────────────────\n",
       "   1 │ Over the last 2 financial years,…  Accommodation & food services      1 ⋯\n",
       "   2 │ Frequency of price review: weekly  Accommodation & food services      1\n",
       "   3 │ During last 2 financial years, f…  Accommodation & food services      1\n",
       "   4 │ Predominant currency of invoice …  Accommodation & food services      1\n",
       "   5 │ Business sales of goods or servi…  Accommodation & food services      1 ⋯\n",
       "   6 │ In preventing the business from …  Accommodation & food services      1\n",
       "   7 │ Business's pricing decision rely…  Accommodation & food services      1\n",
       "   8 │ In preventing the business from …  Accommodation & food services      1\n",
       "  ⋮  │                 ⋮                                ⋮                  ⋮   ⋱\n",
       " 206 │ When considering price changes, …  Accommodation & food services      1 ⋯\n",
       " 207 │ Proportion of customers on long …  Accommodation & food services      1\n",
       " 208 │ Business main customer: individu…  Accommodation & food services      1\n",
       " 209 │ Who reviews and sets price: this…  Accommodation & food services      1\n",
       " 210 │ The business negotiates collecti…  Accommodation & food services      1 ⋯\n",
       " 211 │ Over the last 2 financial years,…  Accommodation & food services      1\n",
       " 212 │ Business sales of goods or servi…  Accommodation & food services      1\n",
       "\u001b[36m                                                  3 columns and 197 rows omitted\u001b[0m"
      ]
     },
     "metadata": {},
     "output_type": "display_data"
    }
   ],
   "source": [
    "subset = df |>\n",
    "    @filter(_.value > 300 && _.industry == \"Accommodation & food services\") |>\n",
    "    @orderby(_.value) |>\n",
    "    DataFrame"
   ]
  },
  {
   "cell_type": "code",
   "execution_count": 81,
   "metadata": {},
   "outputs": [
    {
     "data": {
      "text/plain": [
       "(212, 6)"
      ]
     },
     "metadata": {},
     "output_type": "display_data"
    }
   ],
   "source": [
    "# Get the dimensions of the dataframe\n",
    "size(subset)"
   ]
  },
  {
   "cell_type": "code",
   "execution_count": 82,
   "metadata": {},
   "outputs": [
    {
     "data": {
      "text/plain": [
       "(212, 6)"
      ]
     },
     "metadata": {},
     "output_type": "display_data"
    }
   ],
   "source": [
    "row_no, col_no = size(subset)"
   ]
  },
  {
   "cell_type": "code",
   "execution_count": 83,
   "metadata": {},
   "outputs": [
    {
     "data": {
      "text/plain": [
       "212"
      ]
     },
     "metadata": {},
     "output_type": "display_data"
    }
   ],
   "source": [
    "row_no"
   ]
  },
  {
   "cell_type": "code",
   "execution_count": 84,
   "metadata": {},
   "outputs": [
    {
     "data": {
      "text/html": [
       "<div><div style = \"float: left;\"><span>212×2 DataFrame</span></div><div style = \"float: right;\"><span style = \"font-style: italic;\">187 rows omitted</span></div><div style = \"clear: both;\"></div></div><div class = \"data-frame\" style = \"overflow-x: scroll;\"><table class = \"data-frame\" style = \"margin-bottom: 6px;\"><thead><tr class = \"header\"><th class = \"rowNumber\" style = \"font-weight: bold; text-align: right;\">Row</th><th style = \"text-align: left;\">description</th><th style = \"text-align: left;\">industry</th></tr><tr class = \"subheader headerLastRow\"><th class = \"rowNumber\" style = \"font-weight: bold; text-align: right;\"></th><th title = \"String\" style = \"text-align: left;\">String</th><th title = \"String\" style = \"text-align: left;\">String</th></tr></thead><tbody><tr><td class = \"rowNumber\" style = \"font-weight: bold; text-align: right;\">1</td><td style = \"text-align: left;\">Over the last 2 financial years, in setting wages and salaries, importance of government regulations: don&apos;t know</td><td style = \"text-align: left;\">Accommodation &amp; food services</td></tr><tr><td class = \"rowNumber\" style = \"font-weight: bold; text-align: right;\">2</td><td style = \"text-align: left;\">Frequency of price review: weekly</td><td style = \"text-align: left;\">Accommodation &amp; food services</td></tr><tr><td class = \"rowNumber\" style = \"font-weight: bold; text-align: right;\">3</td><td style = \"text-align: left;\">During last 2 financial years, for the majority of employees, how training opportunities have changed: decreased</td><td style = \"text-align: left;\">Accommodation &amp; food services</td></tr><tr><td class = \"rowNumber\" style = \"font-weight: bold; text-align: right;\">4</td><td style = \"text-align: left;\">Predominant currency of invoice for the business&apos;s export market contracts: NZ dollar</td><td style = \"text-align: left;\">Accommodation &amp; food services</td></tr><tr><td class = \"rowNumber\" style = \"font-weight: bold; text-align: right;\">5</td><td style = \"text-align: left;\">Business sales of goods or services from export: yes</td><td style = \"text-align: left;\">Accommodation &amp; food services</td></tr><tr><td class = \"rowNumber\" style = \"font-weight: bold; text-align: right;\">6</td><td style = \"text-align: left;\">In preventing the business from reducing wages or salaries, importance of the best employees would leave: not important</td><td style = \"text-align: left;\">Accommodation &amp; food services</td></tr><tr><td class = \"rowNumber\" style = \"font-weight: bold; text-align: right;\">7</td><td style = \"text-align: left;\">Business&apos;s pricing decision rely on: don&apos;t know</td><td style = \"text-align: left;\">Accommodation &amp; food services</td></tr><tr><td class = \"rowNumber\" style = \"font-weight: bold; text-align: right;\">8</td><td style = \"text-align: left;\">In preventing the business from reducing wages or salaries, importance of hard-to-replace knowledge is lost because employees would leave: don&apos;t know</td><td style = \"text-align: left;\">Accommodation &amp; food services</td></tr><tr><td class = \"rowNumber\" style = \"font-weight: bold; text-align: right;\">9</td><td style = \"text-align: left;\">Over the last 2 financial years, in setting wages and salaries, importance of competing with other firms for staff: don&apos;t know</td><td style = \"text-align: left;\">Accommodation &amp; food services</td></tr><tr><td class = \"rowNumber\" style = \"font-weight: bold; text-align: right;\">10</td><td style = \"text-align: left;\">In preventing the business from reducing wages or salaries, importance of legislated minimum wages: not important</td><td style = \"text-align: left;\">Accommodation &amp; food services</td></tr><tr><td class = \"rowNumber\" style = \"font-weight: bold; text-align: right;\">11</td><td style = \"text-align: left;\">Over the last 2 financial years, in setting wages and salaries, importance of changes in productivity: don&apos;t know</td><td style = \"text-align: left;\">Accommodation &amp; food services</td></tr><tr><td class = \"rowNumber\" style = \"font-weight: bold; text-align: right;\">12</td><td style = \"text-align: left;\">Business main customer: retailers or wholesalers outside business group</td><td style = \"text-align: left;\">Accommodation &amp; food services</td></tr><tr><td class = \"rowNumber\" style = \"font-weight: bold; text-align: right;\">13</td><td style = \"text-align: left;\">Business main customer: other businesses outside business group</td><td style = \"text-align: left;\">Accommodation &amp; food services</td></tr><tr><td style = \"text-align: right;\">&vellip;</td><td style = \"text-align: right;\">&vellip;</td><td style = \"text-align: right;\">&vellip;</td></tr><tr><td class = \"rowNumber\" style = \"font-weight: bold; text-align: right;\">201</td><td style = \"text-align: left;\">In determining entry wage of the business&apos;s newly hired employees, importance of minimum wages rates: very important</td><td style = \"text-align: left;\">Accommodation &amp; food services</td></tr><tr><td class = \"rowNumber\" style = \"font-weight: bold; text-align: right;\">202</td><td style = \"text-align: left;\">Over the last 2 financial years, in setting wages and salaries, importance of retaining hard-to-replace workers: very important</td><td style = \"text-align: left;\">Accommodation &amp; food services</td></tr><tr><td class = \"rowNumber\" style = \"font-weight: bold; text-align: right;\">203</td><td style = \"text-align: left;\">In preventing the business from reducing wages or salaries, importance of legislated minimum wages: very important</td><td style = \"text-align: left;\">Accommodation &amp; food services</td></tr><tr><td class = \"rowNumber\" style = \"font-weight: bold; text-align: right;\">204</td><td style = \"text-align: left;\">During 2 last financial years, employees had wages increased because of increase in minimum wage: yes, for employees paid the minimum wage</td><td style = \"text-align: left;\">Accommodation &amp; food services</td></tr><tr><td class = \"rowNumber\" style = \"font-weight: bold; text-align: right;\">205</td><td style = \"text-align: left;\">When considering price changes, importance of change in labour cost: very important</td><td style = \"text-align: left;\">Accommodation &amp; food services</td></tr><tr><td class = \"rowNumber\" style = \"font-weight: bold; text-align: right;\">206</td><td style = \"text-align: left;\">When considering price changes, importance of change in other costs: very important</td><td style = \"text-align: left;\">Accommodation &amp; food services</td></tr><tr><td class = \"rowNumber\" style = \"font-weight: bold; text-align: right;\">207</td><td style = \"text-align: left;\">Proportion of customers on long term price contract: zero</td><td style = \"text-align: left;\">Accommodation &amp; food services</td></tr><tr><td class = \"rowNumber\" style = \"font-weight: bold; text-align: right;\">208</td><td style = \"text-align: left;\">Business main customer: individuals or households</td><td style = \"text-align: left;\">Accommodation &amp; food services</td></tr><tr><td class = \"rowNumber\" style = \"font-weight: bold; text-align: right;\">209</td><td style = \"text-align: left;\">Who reviews and sets price: this business</td><td style = \"text-align: left;\">Accommodation &amp; food services</td></tr><tr><td class = \"rowNumber\" style = \"font-weight: bold; text-align: right;\">210</td><td style = \"text-align: left;\">The business negotiates collective agreements with unions: no</td><td style = \"text-align: left;\">Accommodation &amp; food services</td></tr><tr><td class = \"rowNumber\" style = \"font-weight: bold; text-align: right;\">211</td><td style = \"text-align: left;\">Over the last 2 financial years, the majority of employees have had an increase in their base salary or hourly wage</td><td style = \"text-align: left;\">Accommodation &amp; food services</td></tr><tr><td class = \"rowNumber\" style = \"font-weight: bold; text-align: right;\">212</td><td style = \"text-align: left;\">Business sales of goods or services from export: no</td><td style = \"text-align: left;\">Accommodation &amp; food services</td></tr></tbody></table></div>"
      ],
      "text/latex": [
       "\\begin{tabular}{r|cc}\n",
       "\t& description & \\\\\n",
       "\t\\hline\n",
       "\t& String & \\\\\n",
       "\t\\hline\n",
       "\t1 & Over the last 2 financial years, in setting wages and salaries, importance of government regulations: don't know & $\\dots$ \\\\\n",
       "\t2 & Frequency of price review: weekly & $\\dots$ \\\\\n",
       "\t3 & During last 2 financial years, for the majority of employees, how training opportunities have changed: decreased & $\\dots$ \\\\\n",
       "\t4 & Predominant currency of invoice for the business's export market contracts: NZ dollar & $\\dots$ \\\\\n",
       "\t5 & Business sales of goods or services from export: yes & $\\dots$ \\\\\n",
       "\t6 & In preventing the business from reducing wages or salaries, importance of the best employees would leave: not important & $\\dots$ \\\\\n",
       "\t7 & Business's pricing decision rely on: don't know & $\\dots$ \\\\\n",
       "\t8 & In preventing the business from reducing wages or salaries, importance of hard-to-replace knowledge is lost because employees would leave: don't know & $\\dots$ \\\\\n",
       "\t9 & Over the last 2 financial years, in setting wages and salaries, importance of competing with other firms for staff: don't know & $\\dots$ \\\\\n",
       "\t10 & In preventing the business from reducing wages or salaries, importance of legislated minimum wages: not important & $\\dots$ \\\\\n",
       "\t11 & Over the last 2 financial years, in setting wages and salaries, importance of changes in productivity: don't know & $\\dots$ \\\\\n",
       "\t12 & Business main customer: retailers or wholesalers outside business group & $\\dots$ \\\\\n",
       "\t13 & Business main customer: other businesses outside business group & $\\dots$ \\\\\n",
       "\t14 & Business's pricing decision rely on: expected future economic conditions & $\\dots$ \\\\\n",
       "\t15 & In preventing the business from reducing wages or salaries, importance of legislated minimum wages: don't know & $\\dots$ \\\\\n",
       "\t16 & During last 2 financial years, for the majority of employees, how employee choice over hours of work has changed: decreased & $\\dots$ \\\\\n",
       "\t17 & Proportion of customers on long term price contract: 76-100\\% & $\\dots$ \\\\\n",
       "\t18 & When considering price changes, importance of change in exchange rates: very important & $\\dots$ \\\\\n",
       "\t19 & Proportion of customers on long term price contract: 1-25\\% & $\\dots$ \\\\\n",
       "\t20 & Over the last 2 financial years, in setting wages and salaries, importance of changes in product demand: don't know & $\\dots$ \\\\\n",
       "\t21 & In preventing the business from reducing wages or salaries, importance of hard-to-replace knowledge is lost because employees would leave: not important & $\\dots$ \\\\\n",
       "\t22 & In determining entry wage of the business's newly hired employees, importance of minimum wages rates: not important & $\\dots$ \\\\\n",
       "\t23 & Proportion of customers returning for repeat business: 1-25\\% & $\\dots$ \\\\\n",
       "\t24 & Comparing current pricing practices with 2019 (pre-COVID), frequency of price reviews: decreased & $\\dots$ \\\\\n",
       "\t$\\dots$ & $\\dots$ &  \\\\\n",
       "\\end{tabular}\n"
      ],
      "text/plain": [
       "\u001b[1m212×2 DataFrame\u001b[0m\n",
       "\u001b[1m Row \u001b[0m│\u001b[1m description                       \u001b[0m\u001b[1m industry                      \u001b[0m\n",
       "     │\u001b[90m String                            \u001b[0m\u001b[90m String                        \u001b[0m\n",
       "─────┼──────────────────────────────────────────────────────────────────\n",
       "   1 │ Over the last 2 financial years,…  Accommodation & food services\n",
       "   2 │ Frequency of price review: weekly  Accommodation & food services\n",
       "   3 │ During last 2 financial years, f…  Accommodation & food services\n",
       "   4 │ Predominant currency of invoice …  Accommodation & food services\n",
       "   5 │ Business sales of goods or servi…  Accommodation & food services\n",
       "   6 │ In preventing the business from …  Accommodation & food services\n",
       "   7 │ Business's pricing decision rely…  Accommodation & food services\n",
       "   8 │ In preventing the business from …  Accommodation & food services\n",
       "  ⋮  │                 ⋮                                ⋮\n",
       " 206 │ When considering price changes, …  Accommodation & food services\n",
       " 207 │ Proportion of customers on long …  Accommodation & food services\n",
       " 208 │ Business main customer: individu…  Accommodation & food services\n",
       " 209 │ Who reviews and sets price: this…  Accommodation & food services\n",
       " 210 │ The business negotiates collecti…  Accommodation & food services\n",
       " 211 │ Over the last 2 financial years,…  Accommodation & food services\n",
       " 212 │ Business sales of goods or servi…  Accommodation & food services\n",
       "\u001b[36m                                                        197 rows omitted\u001b[0m"
      ]
     },
     "metadata": {},
     "output_type": "display_data"
    }
   ],
   "source": [
    "subset = df |>\n",
    "    @filter(_.value > 300 && _.industry == \"Accommodation & food services\") |>\n",
    "    @orderby(_.value) |>\n",
    "    @select(1:2) |>\n",
    "    DataFrame"
   ]
  },
  {
   "cell_type": "code",
   "execution_count": 85,
   "metadata": {},
   "outputs": [
    {
     "data": {
      "text/plain": [
       "5-element Vector{String}:\n",
       " \"description\"\n",
       " \"industry\"\n",
       " \"level\"\n",
       " \"size\"\n",
       " \"line_code\""
      ]
     },
     "metadata": {},
     "output_type": "display_data"
    }
   ],
   "source": [
    "names(df, Between(\"description\", \"line_code\"))"
   ]
  },
  {
   "cell_type": "code",
   "execution_count": 86,
   "metadata": {},
   "outputs": [
    {
     "data": {
      "text/html": [
       "<div><div style = \"float: left;\"><span>14758×5 DataFrame</span></div><div style = \"float: right;\"><span style = \"font-style: italic;\">14733 rows omitted</span></div><div style = \"clear: both;\"></div></div><div class = \"data-frame\" style = \"overflow-x: scroll;\"><table class = \"data-frame\" style = \"margin-bottom: 6px;\"><thead><tr class = \"header\"><th class = \"rowNumber\" style = \"font-weight: bold; text-align: right;\">Row</th><th style = \"text-align: left;\">description</th><th style = \"text-align: left;\">industry</th><th style = \"text-align: left;\">level</th><th style = \"text-align: left;\">size</th><th style = \"text-align: left;\">line_code</th></tr><tr class = \"subheader headerLastRow\"><th class = \"rowNumber\" style = \"font-weight: bold; text-align: right;\"></th><th title = \"String\" style = \"text-align: left;\">String</th><th title = \"String\" style = \"text-align: left;\">String</th><th title = \"Int64\" style = \"text-align: left;\">Int64</th><th title = \"String\" style = \"text-align: left;\">String</th><th title = \"String\" style = \"text-align: left;\">String</th></tr></thead><tbody><tr><td class = \"rowNumber\" style = \"font-weight: bold; text-align: right;\">1</td><td style = \"text-align: left;\">Business main customer: individuals or households</td><td style = \"text-align: left;\">total</td><td style = \"text-align: right;\">0</td><td style = \"text-align: left;\">6\\x9619 employees</td><td style = \"text-align: left;\">C0300.01</td></tr><tr><td class = \"rowNumber\" style = \"font-weight: bold; text-align: right;\">2</td><td style = \"text-align: left;\">Business main customer: individuals or households</td><td style = \"text-align: left;\">total</td><td style = \"text-align: right;\">0</td><td style = \"text-align: left;\">20\\x9649 employees</td><td style = \"text-align: left;\">C0300.01</td></tr><tr><td class = \"rowNumber\" style = \"font-weight: bold; text-align: right;\">3</td><td style = \"text-align: left;\">Business main customer: individuals or households</td><td style = \"text-align: left;\">total</td><td style = \"text-align: right;\">0</td><td style = \"text-align: left;\">50\\x9699 employees</td><td style = \"text-align: left;\">C0300.01</td></tr><tr><td class = \"rowNumber\" style = \"font-weight: bold; text-align: right;\">4</td><td style = \"text-align: left;\">Business main customer: individuals or households</td><td style = \"text-align: left;\">total</td><td style = \"text-align: right;\">0</td><td style = \"text-align: left;\">100+ employees</td><td style = \"text-align: left;\">C0300.01</td></tr><tr><td class = \"rowNumber\" style = \"font-weight: bold; text-align: right;\">5</td><td style = \"text-align: left;\">Business main customer: individuals or households</td><td style = \"text-align: left;\">Agriculture, forestry, &amp; fishing</td><td style = \"text-align: right;\">1</td><td style = \"text-align: left;\">total</td><td style = \"text-align: left;\">C0300.01</td></tr><tr><td class = \"rowNumber\" style = \"font-weight: bold; text-align: right;\">6</td><td style = \"text-align: left;\">Business main customer: individuals or households</td><td style = \"text-align: left;\">Agriculture</td><td style = \"text-align: right;\">2</td><td style = \"text-align: left;\">total</td><td style = \"text-align: left;\">C0300.01</td></tr><tr><td class = \"rowNumber\" style = \"font-weight: bold; text-align: right;\">7</td><td style = \"text-align: left;\">Business main customer: individuals or households</td><td style = \"text-align: left;\">Commercial fishing</td><td style = \"text-align: right;\">2</td><td style = \"text-align: left;\">total</td><td style = \"text-align: left;\">C0300.01</td></tr><tr><td class = \"rowNumber\" style = \"font-weight: bold; text-align: right;\">8</td><td style = \"text-align: left;\">Business main customer: individuals or households</td><td style = \"text-align: left;\">Forestry &amp; logging</td><td style = \"text-align: right;\">2</td><td style = \"text-align: left;\">total</td><td style = \"text-align: left;\">C0300.01</td></tr><tr><td class = \"rowNumber\" style = \"font-weight: bold; text-align: right;\">9</td><td style = \"text-align: left;\">Business main customer: individuals or households</td><td style = \"text-align: left;\">Agriculture, forestry, &amp; fishing support services</td><td style = \"text-align: right;\">2</td><td style = \"text-align: left;\">total</td><td style = \"text-align: left;\">C0300.01</td></tr><tr><td class = \"rowNumber\" style = \"font-weight: bold; text-align: right;\">10</td><td style = \"text-align: left;\">Business main customer: individuals or households</td><td style = \"text-align: left;\">Mining</td><td style = \"text-align: right;\">1</td><td style = \"text-align: left;\">total</td><td style = \"text-align: left;\">C0300.01</td></tr><tr><td class = \"rowNumber\" style = \"font-weight: bold; text-align: right;\">11</td><td style = \"text-align: left;\">Business main customer: individuals or households</td><td style = \"text-align: left;\">Manufacturing</td><td style = \"text-align: right;\">1</td><td style = \"text-align: left;\">total</td><td style = \"text-align: left;\">C0300.01</td></tr><tr><td class = \"rowNumber\" style = \"font-weight: bold; text-align: right;\">12</td><td style = \"text-align: left;\">Business main customer: individuals or households</td><td style = \"text-align: left;\">Food, beverage, &amp; tobacco</td><td style = \"text-align: right;\">2</td><td style = \"text-align: left;\">total</td><td style = \"text-align: left;\">C0300.01</td></tr><tr><td class = \"rowNumber\" style = \"font-weight: bold; text-align: right;\">13</td><td style = \"text-align: left;\">Business main customer: individuals or households</td><td style = \"text-align: left;\">Textile, clothing, footwear, &amp; leather</td><td style = \"text-align: right;\">2</td><td style = \"text-align: left;\">total</td><td style = \"text-align: left;\">C0300.01</td></tr><tr><td style = \"text-align: right;\">&vellip;</td><td style = \"text-align: right;\">&vellip;</td><td style = \"text-align: right;\">&vellip;</td><td style = \"text-align: right;\">&vellip;</td><td style = \"text-align: right;\">&vellip;</td><td style = \"text-align: right;\">&vellip;</td></tr><tr><td class = \"rowNumber\" style = \"font-weight: bold; text-align: right;\">14747</td><td style = \"text-align: left;\">How union representation of employees has affected the level of flexibility/availability to make changes to employment conditions: don&apos;t know</td><td style = \"text-align: left;\">Insurance</td><td style = \"text-align: right;\">2</td><td style = \"text-align: left;\">total</td><td style = \"text-align: left;\">C3307.04</td></tr><tr><td class = \"rowNumber\" style = \"font-weight: bold; text-align: right;\">14748</td><td style = \"text-align: left;\">How union representation of employees has affected the level of flexibility/availability to make changes to employment conditions: don&apos;t know</td><td style = \"text-align: left;\">Auxiliary</td><td style = \"text-align: right;\">2</td><td style = \"text-align: left;\">total</td><td style = \"text-align: left;\">C3307.04</td></tr><tr><td class = \"rowNumber\" style = \"font-weight: bold; text-align: right;\">14749</td><td style = \"text-align: left;\">How union representation of employees has affected the level of flexibility/availability to make changes to employment conditions: don&apos;t know</td><td style = \"text-align: left;\">Rental, hiring, &amp; real estate services</td><td style = \"text-align: right;\">1</td><td style = \"text-align: left;\">total</td><td style = \"text-align: left;\">C3307.04</td></tr><tr><td class = \"rowNumber\" style = \"font-weight: bold; text-align: right;\">14750</td><td style = \"text-align: left;\">How union representation of employees has affected the level of flexibility/availability to make changes to employment conditions: don&apos;t know</td><td style = \"text-align: left;\">Professional, scientific, &amp; technical services</td><td style = \"text-align: right;\">1</td><td style = \"text-align: left;\">total</td><td style = \"text-align: left;\">C3307.04</td></tr><tr><td class = \"rowNumber\" style = \"font-weight: bold; text-align: right;\">14751</td><td style = \"text-align: left;\">How union representation of employees has affected the level of flexibility/availability to make changes to employment conditions: don&apos;t know</td><td style = \"text-align: left;\">Computer systems design</td><td style = \"text-align: right;\">2</td><td style = \"text-align: left;\">total</td><td style = \"text-align: left;\">C3307.04</td></tr><tr><td class = \"rowNumber\" style = \"font-weight: bold; text-align: right;\">14752</td><td style = \"text-align: left;\">How union representation of employees has affected the level of flexibility/availability to make changes to employment conditions: don&apos;t know</td><td style = \"text-align: left;\">Other professional scientific</td><td style = \"text-align: right;\">2</td><td style = \"text-align: left;\">total</td><td style = \"text-align: left;\">C3307.04</td></tr><tr><td class = \"rowNumber\" style = \"font-weight: bold; text-align: right;\">14753</td><td style = \"text-align: left;\">How union representation of employees has affected the level of flexibility/availability to make changes to employment conditions: don&apos;t know</td><td style = \"text-align: left;\">Administrative &amp; support services</td><td style = \"text-align: right;\">1</td><td style = \"text-align: left;\">total</td><td style = \"text-align: left;\">C3307.04</td></tr><tr><td class = \"rowNumber\" style = \"font-weight: bold; text-align: right;\">14754</td><td style = \"text-align: left;\">How union representation of employees has affected the level of flexibility/availability to make changes to employment conditions: don&apos;t know</td><td style = \"text-align: left;\">Education &amp; training</td><td style = \"text-align: right;\">1</td><td style = \"text-align: left;\">total</td><td style = \"text-align: left;\">C3307.04</td></tr><tr><td class = \"rowNumber\" style = \"font-weight: bold; text-align: right;\">14755</td><td style = \"text-align: left;\">How union representation of employees has affected the level of flexibility/availability to make changes to employment conditions: don&apos;t know</td><td style = \"text-align: left;\">Health care &amp; social assistance</td><td style = \"text-align: right;\">1</td><td style = \"text-align: left;\">total</td><td style = \"text-align: left;\">C3307.04</td></tr><tr><td class = \"rowNumber\" style = \"font-weight: bold; text-align: right;\">14756</td><td style = \"text-align: left;\">How union representation of employees has affected the level of flexibility/availability to make changes to employment conditions: don&apos;t know</td><td style = \"text-align: left;\">Arts &amp; recreation services</td><td style = \"text-align: right;\">1</td><td style = \"text-align: left;\">total</td><td style = \"text-align: left;\">C3307.04</td></tr><tr><td class = \"rowNumber\" style = \"font-weight: bold; text-align: right;\">14757</td><td style = \"text-align: left;\">How union representation of employees has affected the level of flexibility/availability to make changes to employment conditions: don&apos;t know</td><td style = \"text-align: left;\">Other services</td><td style = \"text-align: right;\">1</td><td style = \"text-align: left;\">total</td><td style = \"text-align: left;\">C3307.04</td></tr><tr><td class = \"rowNumber\" style = \"font-weight: bold; text-align: right;\">14758</td><td style = \"text-align: left;\">How union representation of employees has affected the level of flexibility/availability to make changes to employment conditions: don&apos;t know</td><td style = \"text-align: left;\">total</td><td style = \"text-align: right;\">0</td><td style = \"text-align: left;\">total</td><td style = \"text-align: left;\">C3307.04</td></tr></tbody></table></div>"
      ],
      "text/latex": [
       "\\begin{tabular}{r|ccc}\n",
       "\t& description & industry & \\\\\n",
       "\t\\hline\n",
       "\t& String & String & \\\\\n",
       "\t\\hline\n",
       "\t1 & Business main customer: individuals or households & total & $\\dots$ \\\\\n",
       "\t2 & Business main customer: individuals or households & total & $\\dots$ \\\\\n",
       "\t3 & Business main customer: individuals or households & total & $\\dots$ \\\\\n",
       "\t4 & Business main customer: individuals or households & total & $\\dots$ \\\\\n",
       "\t5 & Business main customer: individuals or households & Agriculture, forestry, \\& fishing & $\\dots$ \\\\\n",
       "\t6 & Business main customer: individuals or households & Agriculture & $\\dots$ \\\\\n",
       "\t7 & Business main customer: individuals or households & Commercial fishing & $\\dots$ \\\\\n",
       "\t8 & Business main customer: individuals or households & Forestry \\& logging & $\\dots$ \\\\\n",
       "\t9 & Business main customer: individuals or households & Agriculture, forestry, \\& fishing support services & $\\dots$ \\\\\n",
       "\t10 & Business main customer: individuals or households & Mining & $\\dots$ \\\\\n",
       "\t11 & Business main customer: individuals or households & Manufacturing & $\\dots$ \\\\\n",
       "\t12 & Business main customer: individuals or households & Food, beverage, \\& tobacco & $\\dots$ \\\\\n",
       "\t13 & Business main customer: individuals or households & Textile, clothing, footwear, \\& leather & $\\dots$ \\\\\n",
       "\t14 & Business main customer: individuals or households & Wood \\& paper product & $\\dots$ \\\\\n",
       "\t15 & Business main customer: individuals or households & Printing, publishing, \\& recorded media & $\\dots$ \\\\\n",
       "\t16 & Business main customer: individuals or households & Petroleum, coal, chemical, \\& associated product & $\\dots$ \\\\\n",
       "\t17 & Business main customer: individuals or households & Non-metallic mineral product & $\\dots$ \\\\\n",
       "\t18 & Business main customer: individuals or households & Metal product & $\\dots$ \\\\\n",
       "\t19 & Business main customer: individuals or households & Transport and industrial machinery \\& equipment & $\\dots$ \\\\\n",
       "\t20 & Business main customer: individuals or households & Other machinery \\& equipment & $\\dots$ \\\\\n",
       "\t21 & Business main customer: individuals or households & Other manufacturing & $\\dots$ \\\\\n",
       "\t22 & Business main customer: individuals or households & Electricity, gas, water, \\& waste services & $\\dots$ \\\\\n",
       "\t23 & Business main customer: individuals or households & Construction & $\\dots$ \\\\\n",
       "\t24 & Business main customer: individuals or households & Wholesale trade & $\\dots$ \\\\\n",
       "\t$\\dots$ & $\\dots$ & $\\dots$ &  \\\\\n",
       "\\end{tabular}\n"
      ],
      "text/plain": [
       "\u001b[1m14758×5 DataFrame\u001b[0m\n",
       "\u001b[1m   Row \u001b[0m│\u001b[1m description                       \u001b[0m\u001b[1m industry                          \u001b[0m\u001b[1m\u001b[0m ⋯\n",
       "       │\u001b[90m String                            \u001b[0m\u001b[90m String                            \u001b[0m\u001b[90m\u001b[0m ⋯\n",
       "───────┼────────────────────────────────────────────────────────────────────────\n",
       "     1 │ Business main customer: individu…  total                              ⋯\n",
       "     2 │ Business main customer: individu…  total\n",
       "     3 │ Business main customer: individu…  total\n",
       "     4 │ Business main customer: individu…  total\n",
       "     5 │ Business main customer: individu…  Agriculture, forestry, & fishing   ⋯\n",
       "     6 │ Business main customer: individu…  Agriculture\n",
       "     7 │ Business main customer: individu…  Commercial fishing\n",
       "     8 │ Business main customer: individu…  Forestry & logging\n",
       "   ⋮   │                 ⋮                                  ⋮                  ⋱\n",
       " 14752 │ How union representation of empl…  Other professional scientific      ⋯\n",
       " 14753 │ How union representation of empl…  Administrative & support services\n",
       " 14754 │ How union representation of empl…  Education & training\n",
       " 14755 │ How union representation of empl…  Health care & social assistance\n",
       " 14756 │ How union representation of empl…  Arts & recreation services         ⋯\n",
       " 14757 │ How union representation of empl…  Other services\n",
       " 14758 │ How union representation of empl…  total\n",
       "\u001b[36m                                                3 columns and 14743 rows omitted\u001b[0m"
      ]
     },
     "metadata": {},
     "output_type": "display_data"
    }
   ],
   "source": [
    "df[:,Between(\"description\", \"line_code\")]"
   ]
  },
  {
   "cell_type": "code",
   "execution_count": 87,
   "metadata": {},
   "outputs": [
    {
     "data": {
      "text/html": [
       "<div><div style = \"float: left;\"><span>14758×1 DataFrame</span></div><div style = \"float: right;\"><span style = \"font-style: italic;\">14733 rows omitted</span></div><div style = \"clear: both;\"></div></div><div class = \"data-frame\" style = \"overflow-x: scroll;\"><table class = \"data-frame\" style = \"margin-bottom: 6px;\"><thead><tr class = \"header\"><th class = \"rowNumber\" style = \"font-weight: bold; text-align: right;\">Row</th><th style = \"text-align: left;\">value</th></tr><tr class = \"subheader headerLastRow\"><th class = \"rowNumber\" style = \"font-weight: bold; text-align: right;\"></th><th title = \"Int64\" style = \"text-align: left;\">Int64</th></tr></thead><tbody><tr><td class = \"rowNumber\" style = \"font-weight: bold; text-align: right;\">1</td><td style = \"text-align: right;\">15639</td></tr><tr><td class = \"rowNumber\" style = \"font-weight: bold; text-align: right;\">2</td><td style = \"text-align: right;\">2943</td></tr><tr><td class = \"rowNumber\" style = \"font-weight: bold; text-align: right;\">3</td><td style = \"text-align: right;\">639</td></tr><tr><td class = \"rowNumber\" style = \"font-weight: bold; text-align: right;\">4</td><td style = \"text-align: right;\">555</td></tr><tr><td class = \"rowNumber\" style = \"font-weight: bold; text-align: right;\">5</td><td style = \"text-align: right;\">348</td></tr><tr><td class = \"rowNumber\" style = \"font-weight: bold; text-align: right;\">6</td><td style = \"text-align: right;\">177</td></tr><tr><td class = \"rowNumber\" style = \"font-weight: bold; text-align: right;\">7</td><td style = \"text-align: right;\">3</td></tr><tr><td class = \"rowNumber\" style = \"font-weight: bold; text-align: right;\">8</td><td style = \"text-align: right;\">12</td></tr><tr><td class = \"rowNumber\" style = \"font-weight: bold; text-align: right;\">9</td><td style = \"text-align: right;\">159</td></tr><tr><td class = \"rowNumber\" style = \"font-weight: bold; text-align: right;\">10</td><td style = \"text-align: right;\">12</td></tr><tr><td class = \"rowNumber\" style = \"font-weight: bold; text-align: right;\">11</td><td style = \"text-align: right;\">1230</td></tr><tr><td class = \"rowNumber\" style = \"font-weight: bold; text-align: right;\">12</td><td style = \"text-align: right;\">462</td></tr><tr><td class = \"rowNumber\" style = \"font-weight: bold; text-align: right;\">13</td><td style = \"text-align: right;\">66</td></tr><tr><td style = \"text-align: right;\">&vellip;</td><td style = \"text-align: right;\">&vellip;</td></tr><tr><td class = \"rowNumber\" style = \"font-weight: bold; text-align: right;\">14747</td><td style = \"text-align: right;\">0</td></tr><tr><td class = \"rowNumber\" style = \"font-weight: bold; text-align: right;\">14748</td><td style = \"text-align: right;\">0</td></tr><tr><td class = \"rowNumber\" style = \"font-weight: bold; text-align: right;\">14749</td><td style = \"text-align: right;\">0</td></tr><tr><td class = \"rowNumber\" style = \"font-weight: bold; text-align: right;\">14750</td><td style = \"text-align: right;\">0</td></tr><tr><td class = \"rowNumber\" style = \"font-weight: bold; text-align: right;\">14751</td><td style = \"text-align: right;\">0</td></tr><tr><td class = \"rowNumber\" style = \"font-weight: bold; text-align: right;\">14752</td><td style = \"text-align: right;\">3</td></tr><tr><td class = \"rowNumber\" style = \"font-weight: bold; text-align: right;\">14753</td><td style = \"text-align: right;\">3</td></tr><tr><td class = \"rowNumber\" style = \"font-weight: bold; text-align: right;\">14754</td><td style = \"text-align: right;\">3</td></tr><tr><td class = \"rowNumber\" style = \"font-weight: bold; text-align: right;\">14755</td><td style = \"text-align: right;\">36</td></tr><tr><td class = \"rowNumber\" style = \"font-weight: bold; text-align: right;\">14756</td><td style = \"text-align: right;\">0</td></tr><tr><td class = \"rowNumber\" style = \"font-weight: bold; text-align: right;\">14757</td><td style = \"text-align: right;\">0</td></tr><tr><td class = \"rowNumber\" style = \"font-weight: bold; text-align: right;\">14758</td><td style = \"text-align: right;\">174</td></tr></tbody></table></div>"
      ],
      "text/latex": [
       "\\begin{tabular}{r|c}\n",
       "\t& value\\\\\n",
       "\t\\hline\n",
       "\t& Int64\\\\\n",
       "\t\\hline\n",
       "\t1 & 15639 \\\\\n",
       "\t2 & 2943 \\\\\n",
       "\t3 & 639 \\\\\n",
       "\t4 & 555 \\\\\n",
       "\t5 & 348 \\\\\n",
       "\t6 & 177 \\\\\n",
       "\t7 & 3 \\\\\n",
       "\t8 & 12 \\\\\n",
       "\t9 & 159 \\\\\n",
       "\t10 & 12 \\\\\n",
       "\t11 & 1230 \\\\\n",
       "\t12 & 462 \\\\\n",
       "\t13 & 66 \\\\\n",
       "\t14 & 117 \\\\\n",
       "\t15 & 3 \\\\\n",
       "\t16 & 54 \\\\\n",
       "\t17 & 54 \\\\\n",
       "\t18 & 153 \\\\\n",
       "\t19 & 189 \\\\\n",
       "\t20 & 12 \\\\\n",
       "\t21 & 120 \\\\\n",
       "\t22 & 51 \\\\\n",
       "\t23 & 2544 \\\\\n",
       "\t24 & 387 \\\\\n",
       "\t$\\dots$ & $\\dots$ \\\\\n",
       "\\end{tabular}\n"
      ],
      "text/plain": [
       "\u001b[1m14758×1 DataFrame\u001b[0m\n",
       "\u001b[1m   Row \u001b[0m│\u001b[1m value \u001b[0m\n",
       "       │\u001b[90m Int64 \u001b[0m\n",
       "───────┼───────\n",
       "     1 │ 15639\n",
       "     2 │  2943\n",
       "     3 │   639\n",
       "     4 │   555\n",
       "     5 │   348\n",
       "     6 │   177\n",
       "     7 │     3\n",
       "     8 │    12\n",
       "   ⋮   │   ⋮\n",
       " 14752 │     3\n",
       " 14753 │     3\n",
       " 14754 │     3\n",
       " 14755 │    36\n",
       " 14756 │     0\n",
       " 14757 │     0\n",
       " 14758 │   174\n",
       "\u001b[36m14743 rows omitted\u001b[0m"
      ]
     },
     "metadata": {},
     "output_type": "display_data"
    }
   ],
   "source": [
    "df[:,Not(Between(\"description\", \"line_code\"))]"
   ]
  },
  {
   "cell_type": "code",
   "execution_count": 88,
   "metadata": {},
   "outputs": [
    {
     "data": {
      "text/html": [
       "<div><div style = \"float: left;\"><span>14758×5 DataFrame</span></div><div style = \"float: right;\"><span style = \"font-style: italic;\">14733 rows omitted</span></div><div style = \"clear: both;\"></div></div><div class = \"data-frame\" style = \"overflow-x: scroll;\"><table class = \"data-frame\" style = \"margin-bottom: 6px;\"><thead><tr class = \"header\"><th class = \"rowNumber\" style = \"font-weight: bold; text-align: right;\">Row</th><th style = \"text-align: left;\">description</th><th style = \"text-align: left;\">level</th><th style = \"text-align: left;\">size</th><th style = \"text-align: left;\">line_code</th><th style = \"text-align: left;\">value</th></tr><tr class = \"subheader headerLastRow\"><th class = \"rowNumber\" style = \"font-weight: bold; text-align: right;\"></th><th title = \"String\" style = \"text-align: left;\">String</th><th title = \"Int64\" style = \"text-align: left;\">Int64</th><th title = \"String\" style = \"text-align: left;\">String</th><th title = \"String\" style = \"text-align: left;\">String</th><th title = \"Int64\" style = \"text-align: left;\">Int64</th></tr></thead><tbody><tr><td class = \"rowNumber\" style = \"font-weight: bold; text-align: right;\">1</td><td style = \"text-align: left;\">Business main customer: individuals or households</td><td style = \"text-align: right;\">0</td><td style = \"text-align: left;\">6\\x9619 employees</td><td style = \"text-align: left;\">C0300.01</td><td style = \"text-align: right;\">15639</td></tr><tr><td class = \"rowNumber\" style = \"font-weight: bold; text-align: right;\">2</td><td style = \"text-align: left;\">Business main customer: individuals or households</td><td style = \"text-align: right;\">0</td><td style = \"text-align: left;\">20\\x9649 employees</td><td style = \"text-align: left;\">C0300.01</td><td style = \"text-align: right;\">2943</td></tr><tr><td class = \"rowNumber\" style = \"font-weight: bold; text-align: right;\">3</td><td style = \"text-align: left;\">Business main customer: individuals or households</td><td style = \"text-align: right;\">0</td><td style = \"text-align: left;\">50\\x9699 employees</td><td style = \"text-align: left;\">C0300.01</td><td style = \"text-align: right;\">639</td></tr><tr><td class = \"rowNumber\" style = \"font-weight: bold; text-align: right;\">4</td><td style = \"text-align: left;\">Business main customer: individuals or households</td><td style = \"text-align: right;\">0</td><td style = \"text-align: left;\">100+ employees</td><td style = \"text-align: left;\">C0300.01</td><td style = \"text-align: right;\">555</td></tr><tr><td class = \"rowNumber\" style = \"font-weight: bold; text-align: right;\">5</td><td style = \"text-align: left;\">Business main customer: individuals or households</td><td style = \"text-align: right;\">1</td><td style = \"text-align: left;\">total</td><td style = \"text-align: left;\">C0300.01</td><td style = \"text-align: right;\">348</td></tr><tr><td class = \"rowNumber\" style = \"font-weight: bold; text-align: right;\">6</td><td style = \"text-align: left;\">Business main customer: individuals or households</td><td style = \"text-align: right;\">2</td><td style = \"text-align: left;\">total</td><td style = \"text-align: left;\">C0300.01</td><td style = \"text-align: right;\">177</td></tr><tr><td class = \"rowNumber\" style = \"font-weight: bold; text-align: right;\">7</td><td style = \"text-align: left;\">Business main customer: individuals or households</td><td style = \"text-align: right;\">2</td><td style = \"text-align: left;\">total</td><td style = \"text-align: left;\">C0300.01</td><td style = \"text-align: right;\">3</td></tr><tr><td class = \"rowNumber\" style = \"font-weight: bold; text-align: right;\">8</td><td style = \"text-align: left;\">Business main customer: individuals or households</td><td style = \"text-align: right;\">2</td><td style = \"text-align: left;\">total</td><td style = \"text-align: left;\">C0300.01</td><td style = \"text-align: right;\">12</td></tr><tr><td class = \"rowNumber\" style = \"font-weight: bold; text-align: right;\">9</td><td style = \"text-align: left;\">Business main customer: individuals or households</td><td style = \"text-align: right;\">2</td><td style = \"text-align: left;\">total</td><td style = \"text-align: left;\">C0300.01</td><td style = \"text-align: right;\">159</td></tr><tr><td class = \"rowNumber\" style = \"font-weight: bold; text-align: right;\">10</td><td style = \"text-align: left;\">Business main customer: individuals or households</td><td style = \"text-align: right;\">1</td><td style = \"text-align: left;\">total</td><td style = \"text-align: left;\">C0300.01</td><td style = \"text-align: right;\">12</td></tr><tr><td class = \"rowNumber\" style = \"font-weight: bold; text-align: right;\">11</td><td style = \"text-align: left;\">Business main customer: individuals or households</td><td style = \"text-align: right;\">1</td><td style = \"text-align: left;\">total</td><td style = \"text-align: left;\">C0300.01</td><td style = \"text-align: right;\">1230</td></tr><tr><td class = \"rowNumber\" style = \"font-weight: bold; text-align: right;\">12</td><td style = \"text-align: left;\">Business main customer: individuals or households</td><td style = \"text-align: right;\">2</td><td style = \"text-align: left;\">total</td><td style = \"text-align: left;\">C0300.01</td><td style = \"text-align: right;\">462</td></tr><tr><td class = \"rowNumber\" style = \"font-weight: bold; text-align: right;\">13</td><td style = \"text-align: left;\">Business main customer: individuals or households</td><td style = \"text-align: right;\">2</td><td style = \"text-align: left;\">total</td><td style = \"text-align: left;\">C0300.01</td><td style = \"text-align: right;\">66</td></tr><tr><td style = \"text-align: right;\">&vellip;</td><td style = \"text-align: right;\">&vellip;</td><td style = \"text-align: right;\">&vellip;</td><td style = \"text-align: right;\">&vellip;</td><td style = \"text-align: right;\">&vellip;</td><td style = \"text-align: right;\">&vellip;</td></tr><tr><td class = \"rowNumber\" style = \"font-weight: bold; text-align: right;\">14747</td><td style = \"text-align: left;\">How union representation of employees has affected the level of flexibility/availability to make changes to employment conditions: don&apos;t know</td><td style = \"text-align: right;\">2</td><td style = \"text-align: left;\">total</td><td style = \"text-align: left;\">C3307.04</td><td style = \"text-align: right;\">0</td></tr><tr><td class = \"rowNumber\" style = \"font-weight: bold; text-align: right;\">14748</td><td style = \"text-align: left;\">How union representation of employees has affected the level of flexibility/availability to make changes to employment conditions: don&apos;t know</td><td style = \"text-align: right;\">2</td><td style = \"text-align: left;\">total</td><td style = \"text-align: left;\">C3307.04</td><td style = \"text-align: right;\">0</td></tr><tr><td class = \"rowNumber\" style = \"font-weight: bold; text-align: right;\">14749</td><td style = \"text-align: left;\">How union representation of employees has affected the level of flexibility/availability to make changes to employment conditions: don&apos;t know</td><td style = \"text-align: right;\">1</td><td style = \"text-align: left;\">total</td><td style = \"text-align: left;\">C3307.04</td><td style = \"text-align: right;\">0</td></tr><tr><td class = \"rowNumber\" style = \"font-weight: bold; text-align: right;\">14750</td><td style = \"text-align: left;\">How union representation of employees has affected the level of flexibility/availability to make changes to employment conditions: don&apos;t know</td><td style = \"text-align: right;\">1</td><td style = \"text-align: left;\">total</td><td style = \"text-align: left;\">C3307.04</td><td style = \"text-align: right;\">0</td></tr><tr><td class = \"rowNumber\" style = \"font-weight: bold; text-align: right;\">14751</td><td style = \"text-align: left;\">How union representation of employees has affected the level of flexibility/availability to make changes to employment conditions: don&apos;t know</td><td style = \"text-align: right;\">2</td><td style = \"text-align: left;\">total</td><td style = \"text-align: left;\">C3307.04</td><td style = \"text-align: right;\">0</td></tr><tr><td class = \"rowNumber\" style = \"font-weight: bold; text-align: right;\">14752</td><td style = \"text-align: left;\">How union representation of employees has affected the level of flexibility/availability to make changes to employment conditions: don&apos;t know</td><td style = \"text-align: right;\">2</td><td style = \"text-align: left;\">total</td><td style = \"text-align: left;\">C3307.04</td><td style = \"text-align: right;\">3</td></tr><tr><td class = \"rowNumber\" style = \"font-weight: bold; text-align: right;\">14753</td><td style = \"text-align: left;\">How union representation of employees has affected the level of flexibility/availability to make changes to employment conditions: don&apos;t know</td><td style = \"text-align: right;\">1</td><td style = \"text-align: left;\">total</td><td style = \"text-align: left;\">C3307.04</td><td style = \"text-align: right;\">3</td></tr><tr><td class = \"rowNumber\" style = \"font-weight: bold; text-align: right;\">14754</td><td style = \"text-align: left;\">How union representation of employees has affected the level of flexibility/availability to make changes to employment conditions: don&apos;t know</td><td style = \"text-align: right;\">1</td><td style = \"text-align: left;\">total</td><td style = \"text-align: left;\">C3307.04</td><td style = \"text-align: right;\">3</td></tr><tr><td class = \"rowNumber\" style = \"font-weight: bold; text-align: right;\">14755</td><td style = \"text-align: left;\">How union representation of employees has affected the level of flexibility/availability to make changes to employment conditions: don&apos;t know</td><td style = \"text-align: right;\">1</td><td style = \"text-align: left;\">total</td><td style = \"text-align: left;\">C3307.04</td><td style = \"text-align: right;\">36</td></tr><tr><td class = \"rowNumber\" style = \"font-weight: bold; text-align: right;\">14756</td><td style = \"text-align: left;\">How union representation of employees has affected the level of flexibility/availability to make changes to employment conditions: don&apos;t know</td><td style = \"text-align: right;\">1</td><td style = \"text-align: left;\">total</td><td style = \"text-align: left;\">C3307.04</td><td style = \"text-align: right;\">0</td></tr><tr><td class = \"rowNumber\" style = \"font-weight: bold; text-align: right;\">14757</td><td style = \"text-align: left;\">How union representation of employees has affected the level of flexibility/availability to make changes to employment conditions: don&apos;t know</td><td style = \"text-align: right;\">1</td><td style = \"text-align: left;\">total</td><td style = \"text-align: left;\">C3307.04</td><td style = \"text-align: right;\">0</td></tr><tr><td class = \"rowNumber\" style = \"font-weight: bold; text-align: right;\">14758</td><td style = \"text-align: left;\">How union representation of employees has affected the level of flexibility/availability to make changes to employment conditions: don&apos;t know</td><td style = \"text-align: right;\">0</td><td style = \"text-align: left;\">total</td><td style = \"text-align: left;\">C3307.04</td><td style = \"text-align: right;\">174</td></tr></tbody></table></div>"
      ],
      "text/latex": [
       "\\begin{tabular}{r|ccccc}\n",
       "\t& description & level & size & line\\_code & \\\\\n",
       "\t\\hline\n",
       "\t& String & Int64 & String & String & \\\\\n",
       "\t\\hline\n",
       "\t1 & Business main customer: individuals or households & 0 & 6\\textbackslash{}x9619 employees & C0300.01 & $\\dots$ \\\\\n",
       "\t2 & Business main customer: individuals or households & 0 & 20\\textbackslash{}x9649 employees & C0300.01 & $\\dots$ \\\\\n",
       "\t3 & Business main customer: individuals or households & 0 & 50\\textbackslash{}x9699 employees & C0300.01 & $\\dots$ \\\\\n",
       "\t4 & Business main customer: individuals or households & 0 & 100+ employees & C0300.01 & $\\dots$ \\\\\n",
       "\t5 & Business main customer: individuals or households & 1 & total & C0300.01 & $\\dots$ \\\\\n",
       "\t6 & Business main customer: individuals or households & 2 & total & C0300.01 & $\\dots$ \\\\\n",
       "\t7 & Business main customer: individuals or households & 2 & total & C0300.01 & $\\dots$ \\\\\n",
       "\t8 & Business main customer: individuals or households & 2 & total & C0300.01 & $\\dots$ \\\\\n",
       "\t9 & Business main customer: individuals or households & 2 & total & C0300.01 & $\\dots$ \\\\\n",
       "\t10 & Business main customer: individuals or households & 1 & total & C0300.01 & $\\dots$ \\\\\n",
       "\t11 & Business main customer: individuals or households & 1 & total & C0300.01 & $\\dots$ \\\\\n",
       "\t12 & Business main customer: individuals or households & 2 & total & C0300.01 & $\\dots$ \\\\\n",
       "\t13 & Business main customer: individuals or households & 2 & total & C0300.01 & $\\dots$ \\\\\n",
       "\t14 & Business main customer: individuals or households & 2 & total & C0300.01 & $\\dots$ \\\\\n",
       "\t15 & Business main customer: individuals or households & 2 & total & C0300.01 & $\\dots$ \\\\\n",
       "\t16 & Business main customer: individuals or households & 2 & total & C0300.01 & $\\dots$ \\\\\n",
       "\t17 & Business main customer: individuals or households & 2 & total & C0300.01 & $\\dots$ \\\\\n",
       "\t18 & Business main customer: individuals or households & 2 & total & C0300.01 & $\\dots$ \\\\\n",
       "\t19 & Business main customer: individuals or households & 2 & total & C0300.01 & $\\dots$ \\\\\n",
       "\t20 & Business main customer: individuals or households & 2 & total & C0300.01 & $\\dots$ \\\\\n",
       "\t21 & Business main customer: individuals or households & 2 & total & C0300.01 & $\\dots$ \\\\\n",
       "\t22 & Business main customer: individuals or households & 1 & total & C0300.01 & $\\dots$ \\\\\n",
       "\t23 & Business main customer: individuals or households & 1 & total & C0300.01 & $\\dots$ \\\\\n",
       "\t24 & Business main customer: individuals or households & 1 & total & C0300.01 & $\\dots$ \\\\\n",
       "\t$\\dots$ & $\\dots$ & $\\dots$ & $\\dots$ & $\\dots$ &  \\\\\n",
       "\\end{tabular}\n"
      ],
      "text/plain": [
       "\u001b[1m14758×5 DataFrame\u001b[0m\n",
       "\u001b[1m   Row \u001b[0m│\u001b[1m description                       \u001b[0m\u001b[1m level \u001b[0m\u001b[1m size               \u001b[0m\u001b[1m line_co\u001b[0m ⋯\n",
       "       │\u001b[90m String                            \u001b[0m\u001b[90m Int64 \u001b[0m\u001b[90m String             \u001b[0m\u001b[90m String \u001b[0m ⋯\n",
       "───────┼────────────────────────────────────────────────────────────────────────\n",
       "     1 │ Business main customer: individu…      0  6\\x9619 employees   C0300.0 ⋯\n",
       "     2 │ Business main customer: individu…      0  20\\x9649 employees  C0300.0\n",
       "     3 │ Business main customer: individu…      0  50\\x9699 employees  C0300.0\n",
       "     4 │ Business main customer: individu…      0  100+ employees      C0300.0\n",
       "     5 │ Business main customer: individu…      1  total               C0300.0 ⋯\n",
       "     6 │ Business main customer: individu…      2  total               C0300.0\n",
       "     7 │ Business main customer: individu…      2  total               C0300.0\n",
       "     8 │ Business main customer: individu…      2  total               C0300.0\n",
       "   ⋮   │                 ⋮                    ⋮            ⋮               ⋮   ⋱\n",
       " 14752 │ How union representation of empl…      2  total               C3307.0 ⋯\n",
       " 14753 │ How union representation of empl…      1  total               C3307.0\n",
       " 14754 │ How union representation of empl…      1  total               C3307.0\n",
       " 14755 │ How union representation of empl…      1  total               C3307.0\n",
       " 14756 │ How union representation of empl…      1  total               C3307.0 ⋯\n",
       " 14757 │ How union representation of empl…      1  total               C3307.0\n",
       " 14758 │ How union representation of empl…      0  total               C3307.0\n",
       "\u001b[36m                                                2 columns and 14743 rows omitted\u001b[0m"
      ]
     },
     "metadata": {},
     "output_type": "display_data"
    }
   ],
   "source": [
    "df[:,Cols(!startswith(\"i\"))]"
   ]
  },
  {
   "cell_type": "code",
   "execution_count": 89,
   "metadata": {},
   "outputs": [
    {
     "data": {
      "text/html": [
       "<div><div style = \"float: left;\"><span>14758×4 DataFrame</span></div><div style = \"float: right;\"><span style = \"font-style: italic;\">14733 rows omitted</span></div><div style = \"clear: both;\"></div></div><div class = \"data-frame\" style = \"overflow-x: scroll;\"><table class = \"data-frame\" style = \"margin-bottom: 6px;\"><thead><tr class = \"header\"><th class = \"rowNumber\" style = \"font-weight: bold; text-align: right;\">Row</th><th style = \"text-align: left;\">description</th><th style = \"text-align: left;\">industry</th><th style = \"text-align: left;\">size</th><th style = \"text-align: left;\">line_code</th></tr><tr class = \"subheader headerLastRow\"><th class = \"rowNumber\" style = \"font-weight: bold; text-align: right;\"></th><th title = \"String\" style = \"text-align: left;\">String</th><th title = \"String\" style = \"text-align: left;\">String</th><th title = \"String\" style = \"text-align: left;\">String</th><th title = \"String\" style = \"text-align: left;\">String</th></tr></thead><tbody><tr><td class = \"rowNumber\" style = \"font-weight: bold; text-align: right;\">1</td><td style = \"text-align: left;\">Business main customer: individuals or households</td><td style = \"text-align: left;\">total</td><td style = \"text-align: left;\">6\\x9619 employees</td><td style = \"text-align: left;\">C0300.01</td></tr><tr><td class = \"rowNumber\" style = \"font-weight: bold; text-align: right;\">2</td><td style = \"text-align: left;\">Business main customer: individuals or households</td><td style = \"text-align: left;\">total</td><td style = \"text-align: left;\">20\\x9649 employees</td><td style = \"text-align: left;\">C0300.01</td></tr><tr><td class = \"rowNumber\" style = \"font-weight: bold; text-align: right;\">3</td><td style = \"text-align: left;\">Business main customer: individuals or households</td><td style = \"text-align: left;\">total</td><td style = \"text-align: left;\">50\\x9699 employees</td><td style = \"text-align: left;\">C0300.01</td></tr><tr><td class = \"rowNumber\" style = \"font-weight: bold; text-align: right;\">4</td><td style = \"text-align: left;\">Business main customer: individuals or households</td><td style = \"text-align: left;\">total</td><td style = \"text-align: left;\">100+ employees</td><td style = \"text-align: left;\">C0300.01</td></tr><tr><td class = \"rowNumber\" style = \"font-weight: bold; text-align: right;\">5</td><td style = \"text-align: left;\">Business main customer: individuals or households</td><td style = \"text-align: left;\">Agriculture, forestry, &amp; fishing</td><td style = \"text-align: left;\">total</td><td style = \"text-align: left;\">C0300.01</td></tr><tr><td class = \"rowNumber\" style = \"font-weight: bold; text-align: right;\">6</td><td style = \"text-align: left;\">Business main customer: individuals or households</td><td style = \"text-align: left;\">Agriculture</td><td style = \"text-align: left;\">total</td><td style = \"text-align: left;\">C0300.01</td></tr><tr><td class = \"rowNumber\" style = \"font-weight: bold; text-align: right;\">7</td><td style = \"text-align: left;\">Business main customer: individuals or households</td><td style = \"text-align: left;\">Commercial fishing</td><td style = \"text-align: left;\">total</td><td style = \"text-align: left;\">C0300.01</td></tr><tr><td class = \"rowNumber\" style = \"font-weight: bold; text-align: right;\">8</td><td style = \"text-align: left;\">Business main customer: individuals or households</td><td style = \"text-align: left;\">Forestry &amp; logging</td><td style = \"text-align: left;\">total</td><td style = \"text-align: left;\">C0300.01</td></tr><tr><td class = \"rowNumber\" style = \"font-weight: bold; text-align: right;\">9</td><td style = \"text-align: left;\">Business main customer: individuals or households</td><td style = \"text-align: left;\">Agriculture, forestry, &amp; fishing support services</td><td style = \"text-align: left;\">total</td><td style = \"text-align: left;\">C0300.01</td></tr><tr><td class = \"rowNumber\" style = \"font-weight: bold; text-align: right;\">10</td><td style = \"text-align: left;\">Business main customer: individuals or households</td><td style = \"text-align: left;\">Mining</td><td style = \"text-align: left;\">total</td><td style = \"text-align: left;\">C0300.01</td></tr><tr><td class = \"rowNumber\" style = \"font-weight: bold; text-align: right;\">11</td><td style = \"text-align: left;\">Business main customer: individuals or households</td><td style = \"text-align: left;\">Manufacturing</td><td style = \"text-align: left;\">total</td><td style = \"text-align: left;\">C0300.01</td></tr><tr><td class = \"rowNumber\" style = \"font-weight: bold; text-align: right;\">12</td><td style = \"text-align: left;\">Business main customer: individuals or households</td><td style = \"text-align: left;\">Food, beverage, &amp; tobacco</td><td style = \"text-align: left;\">total</td><td style = \"text-align: left;\">C0300.01</td></tr><tr><td class = \"rowNumber\" style = \"font-weight: bold; text-align: right;\">13</td><td style = \"text-align: left;\">Business main customer: individuals or households</td><td style = \"text-align: left;\">Textile, clothing, footwear, &amp; leather</td><td style = \"text-align: left;\">total</td><td style = \"text-align: left;\">C0300.01</td></tr><tr><td style = \"text-align: right;\">&vellip;</td><td style = \"text-align: right;\">&vellip;</td><td style = \"text-align: right;\">&vellip;</td><td style = \"text-align: right;\">&vellip;</td><td style = \"text-align: right;\">&vellip;</td></tr><tr><td class = \"rowNumber\" style = \"font-weight: bold; text-align: right;\">14747</td><td style = \"text-align: left;\">How union representation of employees has affected the level of flexibility/availability to make changes to employment conditions: don&apos;t know</td><td style = \"text-align: left;\">Insurance</td><td style = \"text-align: left;\">total</td><td style = \"text-align: left;\">C3307.04</td></tr><tr><td class = \"rowNumber\" style = \"font-weight: bold; text-align: right;\">14748</td><td style = \"text-align: left;\">How union representation of employees has affected the level of flexibility/availability to make changes to employment conditions: don&apos;t know</td><td style = \"text-align: left;\">Auxiliary</td><td style = \"text-align: left;\">total</td><td style = \"text-align: left;\">C3307.04</td></tr><tr><td class = \"rowNumber\" style = \"font-weight: bold; text-align: right;\">14749</td><td style = \"text-align: left;\">How union representation of employees has affected the level of flexibility/availability to make changes to employment conditions: don&apos;t know</td><td style = \"text-align: left;\">Rental, hiring, &amp; real estate services</td><td style = \"text-align: left;\">total</td><td style = \"text-align: left;\">C3307.04</td></tr><tr><td class = \"rowNumber\" style = \"font-weight: bold; text-align: right;\">14750</td><td style = \"text-align: left;\">How union representation of employees has affected the level of flexibility/availability to make changes to employment conditions: don&apos;t know</td><td style = \"text-align: left;\">Professional, scientific, &amp; technical services</td><td style = \"text-align: left;\">total</td><td style = \"text-align: left;\">C3307.04</td></tr><tr><td class = \"rowNumber\" style = \"font-weight: bold; text-align: right;\">14751</td><td style = \"text-align: left;\">How union representation of employees has affected the level of flexibility/availability to make changes to employment conditions: don&apos;t know</td><td style = \"text-align: left;\">Computer systems design</td><td style = \"text-align: left;\">total</td><td style = \"text-align: left;\">C3307.04</td></tr><tr><td class = \"rowNumber\" style = \"font-weight: bold; text-align: right;\">14752</td><td style = \"text-align: left;\">How union representation of employees has affected the level of flexibility/availability to make changes to employment conditions: don&apos;t know</td><td style = \"text-align: left;\">Other professional scientific</td><td style = \"text-align: left;\">total</td><td style = \"text-align: left;\">C3307.04</td></tr><tr><td class = \"rowNumber\" style = \"font-weight: bold; text-align: right;\">14753</td><td style = \"text-align: left;\">How union representation of employees has affected the level of flexibility/availability to make changes to employment conditions: don&apos;t know</td><td style = \"text-align: left;\">Administrative &amp; support services</td><td style = \"text-align: left;\">total</td><td style = \"text-align: left;\">C3307.04</td></tr><tr><td class = \"rowNumber\" style = \"font-weight: bold; text-align: right;\">14754</td><td style = \"text-align: left;\">How union representation of employees has affected the level of flexibility/availability to make changes to employment conditions: don&apos;t know</td><td style = \"text-align: left;\">Education &amp; training</td><td style = \"text-align: left;\">total</td><td style = \"text-align: left;\">C3307.04</td></tr><tr><td class = \"rowNumber\" style = \"font-weight: bold; text-align: right;\">14755</td><td style = \"text-align: left;\">How union representation of employees has affected the level of flexibility/availability to make changes to employment conditions: don&apos;t know</td><td style = \"text-align: left;\">Health care &amp; social assistance</td><td style = \"text-align: left;\">total</td><td style = \"text-align: left;\">C3307.04</td></tr><tr><td class = \"rowNumber\" style = \"font-weight: bold; text-align: right;\">14756</td><td style = \"text-align: left;\">How union representation of employees has affected the level of flexibility/availability to make changes to employment conditions: don&apos;t know</td><td style = \"text-align: left;\">Arts &amp; recreation services</td><td style = \"text-align: left;\">total</td><td style = \"text-align: left;\">C3307.04</td></tr><tr><td class = \"rowNumber\" style = \"font-weight: bold; text-align: right;\">14757</td><td style = \"text-align: left;\">How union representation of employees has affected the level of flexibility/availability to make changes to employment conditions: don&apos;t know</td><td style = \"text-align: left;\">Other services</td><td style = \"text-align: left;\">total</td><td style = \"text-align: left;\">C3307.04</td></tr><tr><td class = \"rowNumber\" style = \"font-weight: bold; text-align: right;\">14758</td><td style = \"text-align: left;\">How union representation of employees has affected the level of flexibility/availability to make changes to employment conditions: don&apos;t know</td><td style = \"text-align: left;\">total</td><td style = \"text-align: left;\">total</td><td style = \"text-align: left;\">C3307.04</td></tr></tbody></table></div>"
      ],
      "text/latex": [
       "\\begin{tabular}{r|ccc}\n",
       "\t& description & industry & \\\\\n",
       "\t\\hline\n",
       "\t& String & String & \\\\\n",
       "\t\\hline\n",
       "\t1 & Business main customer: individuals or households & total & $\\dots$ \\\\\n",
       "\t2 & Business main customer: individuals or households & total & $\\dots$ \\\\\n",
       "\t3 & Business main customer: individuals or households & total & $\\dots$ \\\\\n",
       "\t4 & Business main customer: individuals or households & total & $\\dots$ \\\\\n",
       "\t5 & Business main customer: individuals or households & Agriculture, forestry, \\& fishing & $\\dots$ \\\\\n",
       "\t6 & Business main customer: individuals or households & Agriculture & $\\dots$ \\\\\n",
       "\t7 & Business main customer: individuals or households & Commercial fishing & $\\dots$ \\\\\n",
       "\t8 & Business main customer: individuals or households & Forestry \\& logging & $\\dots$ \\\\\n",
       "\t9 & Business main customer: individuals or households & Agriculture, forestry, \\& fishing support services & $\\dots$ \\\\\n",
       "\t10 & Business main customer: individuals or households & Mining & $\\dots$ \\\\\n",
       "\t11 & Business main customer: individuals or households & Manufacturing & $\\dots$ \\\\\n",
       "\t12 & Business main customer: individuals or households & Food, beverage, \\& tobacco & $\\dots$ \\\\\n",
       "\t13 & Business main customer: individuals or households & Textile, clothing, footwear, \\& leather & $\\dots$ \\\\\n",
       "\t14 & Business main customer: individuals or households & Wood \\& paper product & $\\dots$ \\\\\n",
       "\t15 & Business main customer: individuals or households & Printing, publishing, \\& recorded media & $\\dots$ \\\\\n",
       "\t16 & Business main customer: individuals or households & Petroleum, coal, chemical, \\& associated product & $\\dots$ \\\\\n",
       "\t17 & Business main customer: individuals or households & Non-metallic mineral product & $\\dots$ \\\\\n",
       "\t18 & Business main customer: individuals or households & Metal product & $\\dots$ \\\\\n",
       "\t19 & Business main customer: individuals or households & Transport and industrial machinery \\& equipment & $\\dots$ \\\\\n",
       "\t20 & Business main customer: individuals or households & Other machinery \\& equipment & $\\dots$ \\\\\n",
       "\t21 & Business main customer: individuals or households & Other manufacturing & $\\dots$ \\\\\n",
       "\t22 & Business main customer: individuals or households & Electricity, gas, water, \\& waste services & $\\dots$ \\\\\n",
       "\t23 & Business main customer: individuals or households & Construction & $\\dots$ \\\\\n",
       "\t24 & Business main customer: individuals or households & Wholesale trade & $\\dots$ \\\\\n",
       "\t$\\dots$ & $\\dots$ & $\\dots$ &  \\\\\n",
       "\\end{tabular}\n"
      ],
      "text/plain": [
       "\u001b[1m14758×4 DataFrame\u001b[0m\n",
       "\u001b[1m   Row \u001b[0m│\u001b[1m description                       \u001b[0m\u001b[1m industry                          \u001b[0m\u001b[1m\u001b[0m ⋯\n",
       "       │\u001b[90m String                            \u001b[0m\u001b[90m String                            \u001b[0m\u001b[90m\u001b[0m ⋯\n",
       "───────┼────────────────────────────────────────────────────────────────────────\n",
       "     1 │ Business main customer: individu…  total                              ⋯\n",
       "     2 │ Business main customer: individu…  total\n",
       "     3 │ Business main customer: individu…  total\n",
       "     4 │ Business main customer: individu…  total\n",
       "     5 │ Business main customer: individu…  Agriculture, forestry, & fishing   ⋯\n",
       "     6 │ Business main customer: individu…  Agriculture\n",
       "     7 │ Business main customer: individu…  Commercial fishing\n",
       "     8 │ Business main customer: individu…  Forestry & logging\n",
       "   ⋮   │                 ⋮                                  ⋮                  ⋱\n",
       " 14752 │ How union representation of empl…  Other professional scientific      ⋯\n",
       " 14753 │ How union representation of empl…  Administrative & support services\n",
       " 14754 │ How union representation of empl…  Education & training\n",
       " 14755 │ How union representation of empl…  Health care & social assistance\n",
       " 14756 │ How union representation of empl…  Arts & recreation services         ⋯\n",
       " 14757 │ How union representation of empl…  Other services\n",
       " 14758 │ How union representation of empl…  total\n",
       "\u001b[36m                                                2 columns and 14743 rows omitted\u001b[0m"
      ]
     },
     "metadata": {},
     "output_type": "display_data"
    }
   ],
   "source": [
    "df[:,names(df,String)]"
   ]
  },
  {
   "cell_type": "code",
   "execution_count": 90,
   "metadata": {},
   "outputs": [
    {
     "data": {
      "text/html": [
       "<div><div style = \"float: left;\"><span>14753×6 DataFrame</span></div><div style = \"float: right;\"><span style = \"font-style: italic;\">14728 rows omitted</span></div><div style = \"clear: both;\"></div></div><div class = \"data-frame\" style = \"overflow-x: scroll;\"><table class = \"data-frame\" style = \"margin-bottom: 6px;\"><thead><tr class = \"header\"><th class = \"rowNumber\" style = \"font-weight: bold; text-align: right;\">Row</th><th style = \"text-align: left;\">description</th><th style = \"text-align: left;\">industry</th><th style = \"text-align: left;\">level</th><th style = \"text-align: left;\">size</th><th style = \"text-align: left;\">line_code</th><th style = \"text-align: left;\">value</th></tr><tr class = \"subheader headerLastRow\"><th class = \"rowNumber\" style = \"font-weight: bold; text-align: right;\"></th><th title = \"String\" style = \"text-align: left;\">String</th><th title = \"String\" style = \"text-align: left;\">String</th><th title = \"Int64\" style = \"text-align: left;\">Int64</th><th title = \"String\" style = \"text-align: left;\">String</th><th title = \"String\" style = \"text-align: left;\">String</th><th title = \"Int64\" style = \"text-align: left;\">Int64</th></tr></thead><tbody><tr><td class = \"rowNumber\" style = \"font-weight: bold; text-align: right;\">1</td><td style = \"text-align: left;\">Business main customer: individuals or households</td><td style = \"text-align: left;\">Agriculture</td><td style = \"text-align: right;\">2</td><td style = \"text-align: left;\">total</td><td style = \"text-align: left;\">C0300.01</td><td style = \"text-align: right;\">177</td></tr><tr><td class = \"rowNumber\" style = \"font-weight: bold; text-align: right;\">2</td><td style = \"text-align: left;\">Business main customer: individuals or households</td><td style = \"text-align: left;\">Commercial fishing</td><td style = \"text-align: right;\">2</td><td style = \"text-align: left;\">total</td><td style = \"text-align: left;\">C0300.01</td><td style = \"text-align: right;\">3</td></tr><tr><td class = \"rowNumber\" style = \"font-weight: bold; text-align: right;\">3</td><td style = \"text-align: left;\">Business main customer: individuals or households</td><td style = \"text-align: left;\">Forestry &amp; logging</td><td style = \"text-align: right;\">2</td><td style = \"text-align: left;\">total</td><td style = \"text-align: left;\">C0300.01</td><td style = \"text-align: right;\">12</td></tr><tr><td class = \"rowNumber\" style = \"font-weight: bold; text-align: right;\">4</td><td style = \"text-align: left;\">Business main customer: individuals or households</td><td style = \"text-align: left;\">Agriculture, forestry, &amp; fishing support services</td><td style = \"text-align: right;\">2</td><td style = \"text-align: left;\">total</td><td style = \"text-align: left;\">C0300.01</td><td style = \"text-align: right;\">159</td></tr><tr><td class = \"rowNumber\" style = \"font-weight: bold; text-align: right;\">5</td><td style = \"text-align: left;\">Business main customer: individuals or households</td><td style = \"text-align: left;\">Mining</td><td style = \"text-align: right;\">1</td><td style = \"text-align: left;\">total</td><td style = \"text-align: left;\">C0300.01</td><td style = \"text-align: right;\">12</td></tr><tr><td class = \"rowNumber\" style = \"font-weight: bold; text-align: right;\">6</td><td style = \"text-align: left;\">Business main customer: individuals or households</td><td style = \"text-align: left;\">Manufacturing</td><td style = \"text-align: right;\">1</td><td style = \"text-align: left;\">total</td><td style = \"text-align: left;\">C0300.01</td><td style = \"text-align: right;\">1230</td></tr><tr><td class = \"rowNumber\" style = \"font-weight: bold; text-align: right;\">7</td><td style = \"text-align: left;\">Business main customer: individuals or households</td><td style = \"text-align: left;\">Food, beverage, &amp; tobacco</td><td style = \"text-align: right;\">2</td><td style = \"text-align: left;\">total</td><td style = \"text-align: left;\">C0300.01</td><td style = \"text-align: right;\">462</td></tr><tr><td class = \"rowNumber\" style = \"font-weight: bold; text-align: right;\">8</td><td style = \"text-align: left;\">Business main customer: individuals or households</td><td style = \"text-align: left;\">Textile, clothing, footwear, &amp; leather</td><td style = \"text-align: right;\">2</td><td style = \"text-align: left;\">total</td><td style = \"text-align: left;\">C0300.01</td><td style = \"text-align: right;\">66</td></tr><tr><td class = \"rowNumber\" style = \"font-weight: bold; text-align: right;\">9</td><td style = \"text-align: left;\">Business main customer: individuals or households</td><td style = \"text-align: left;\">Wood &amp; paper product</td><td style = \"text-align: right;\">2</td><td style = \"text-align: left;\">total</td><td style = \"text-align: left;\">C0300.01</td><td style = \"text-align: right;\">117</td></tr><tr><td class = \"rowNumber\" style = \"font-weight: bold; text-align: right;\">10</td><td style = \"text-align: left;\">Business main customer: individuals or households</td><td style = \"text-align: left;\">Printing, publishing, &amp; recorded media</td><td style = \"text-align: right;\">2</td><td style = \"text-align: left;\">total</td><td style = \"text-align: left;\">C0300.01</td><td style = \"text-align: right;\">3</td></tr><tr><td class = \"rowNumber\" style = \"font-weight: bold; text-align: right;\">11</td><td style = \"text-align: left;\">Business main customer: individuals or households</td><td style = \"text-align: left;\">Petroleum, coal, chemical, &amp; associated product</td><td style = \"text-align: right;\">2</td><td style = \"text-align: left;\">total</td><td style = \"text-align: left;\">C0300.01</td><td style = \"text-align: right;\">54</td></tr><tr><td class = \"rowNumber\" style = \"font-weight: bold; text-align: right;\">12</td><td style = \"text-align: left;\">Business main customer: individuals or households</td><td style = \"text-align: left;\">Non-metallic mineral product</td><td style = \"text-align: right;\">2</td><td style = \"text-align: left;\">total</td><td style = \"text-align: left;\">C0300.01</td><td style = \"text-align: right;\">54</td></tr><tr><td class = \"rowNumber\" style = \"font-weight: bold; text-align: right;\">13</td><td style = \"text-align: left;\">Business main customer: individuals or households</td><td style = \"text-align: left;\">Metal product</td><td style = \"text-align: right;\">2</td><td style = \"text-align: left;\">total</td><td style = \"text-align: left;\">C0300.01</td><td style = \"text-align: right;\">153</td></tr><tr><td style = \"text-align: right;\">&vellip;</td><td style = \"text-align: right;\">&vellip;</td><td style = \"text-align: right;\">&vellip;</td><td style = \"text-align: right;\">&vellip;</td><td style = \"text-align: right;\">&vellip;</td><td style = \"text-align: right;\">&vellip;</td><td style = \"text-align: right;\">&vellip;</td></tr><tr><td class = \"rowNumber\" style = \"font-weight: bold; text-align: right;\">14742</td><td style = \"text-align: left;\">How union representation of employees has affected the level of flexibility/availability to make changes to employment conditions: don&apos;t know</td><td style = \"text-align: left;\">Insurance</td><td style = \"text-align: right;\">2</td><td style = \"text-align: left;\">total</td><td style = \"text-align: left;\">C3307.04</td><td style = \"text-align: right;\">0</td></tr><tr><td class = \"rowNumber\" style = \"font-weight: bold; text-align: right;\">14743</td><td style = \"text-align: left;\">How union representation of employees has affected the level of flexibility/availability to make changes to employment conditions: don&apos;t know</td><td style = \"text-align: left;\">Auxiliary</td><td style = \"text-align: right;\">2</td><td style = \"text-align: left;\">total</td><td style = \"text-align: left;\">C3307.04</td><td style = \"text-align: right;\">0</td></tr><tr><td class = \"rowNumber\" style = \"font-weight: bold; text-align: right;\">14744</td><td style = \"text-align: left;\">How union representation of employees has affected the level of flexibility/availability to make changes to employment conditions: don&apos;t know</td><td style = \"text-align: left;\">Rental, hiring, &amp; real estate services</td><td style = \"text-align: right;\">1</td><td style = \"text-align: left;\">total</td><td style = \"text-align: left;\">C3307.04</td><td style = \"text-align: right;\">0</td></tr><tr><td class = \"rowNumber\" style = \"font-weight: bold; text-align: right;\">14745</td><td style = \"text-align: left;\">How union representation of employees has affected the level of flexibility/availability to make changes to employment conditions: don&apos;t know</td><td style = \"text-align: left;\">Professional, scientific, &amp; technical services</td><td style = \"text-align: right;\">1</td><td style = \"text-align: left;\">total</td><td style = \"text-align: left;\">C3307.04</td><td style = \"text-align: right;\">0</td></tr><tr><td class = \"rowNumber\" style = \"font-weight: bold; text-align: right;\">14746</td><td style = \"text-align: left;\">How union representation of employees has affected the level of flexibility/availability to make changes to employment conditions: don&apos;t know</td><td style = \"text-align: left;\">Computer systems design</td><td style = \"text-align: right;\">2</td><td style = \"text-align: left;\">total</td><td style = \"text-align: left;\">C3307.04</td><td style = \"text-align: right;\">0</td></tr><tr><td class = \"rowNumber\" style = \"font-weight: bold; text-align: right;\">14747</td><td style = \"text-align: left;\">How union representation of employees has affected the level of flexibility/availability to make changes to employment conditions: don&apos;t know</td><td style = \"text-align: left;\">Other professional scientific</td><td style = \"text-align: right;\">2</td><td style = \"text-align: left;\">total</td><td style = \"text-align: left;\">C3307.04</td><td style = \"text-align: right;\">3</td></tr><tr><td class = \"rowNumber\" style = \"font-weight: bold; text-align: right;\">14748</td><td style = \"text-align: left;\">How union representation of employees has affected the level of flexibility/availability to make changes to employment conditions: don&apos;t know</td><td style = \"text-align: left;\">Administrative &amp; support services</td><td style = \"text-align: right;\">1</td><td style = \"text-align: left;\">total</td><td style = \"text-align: left;\">C3307.04</td><td style = \"text-align: right;\">3</td></tr><tr><td class = \"rowNumber\" style = \"font-weight: bold; text-align: right;\">14749</td><td style = \"text-align: left;\">How union representation of employees has affected the level of flexibility/availability to make changes to employment conditions: don&apos;t know</td><td style = \"text-align: left;\">Education &amp; training</td><td style = \"text-align: right;\">1</td><td style = \"text-align: left;\">total</td><td style = \"text-align: left;\">C3307.04</td><td style = \"text-align: right;\">3</td></tr><tr><td class = \"rowNumber\" style = \"font-weight: bold; text-align: right;\">14750</td><td style = \"text-align: left;\">How union representation of employees has affected the level of flexibility/availability to make changes to employment conditions: don&apos;t know</td><td style = \"text-align: left;\">Health care &amp; social assistance</td><td style = \"text-align: right;\">1</td><td style = \"text-align: left;\">total</td><td style = \"text-align: left;\">C3307.04</td><td style = \"text-align: right;\">36</td></tr><tr><td class = \"rowNumber\" style = \"font-weight: bold; text-align: right;\">14751</td><td style = \"text-align: left;\">How union representation of employees has affected the level of flexibility/availability to make changes to employment conditions: don&apos;t know</td><td style = \"text-align: left;\">Arts &amp; recreation services</td><td style = \"text-align: right;\">1</td><td style = \"text-align: left;\">total</td><td style = \"text-align: left;\">C3307.04</td><td style = \"text-align: right;\">0</td></tr><tr><td class = \"rowNumber\" style = \"font-weight: bold; text-align: right;\">14752</td><td style = \"text-align: left;\">How union representation of employees has affected the level of flexibility/availability to make changes to employment conditions: don&apos;t know</td><td style = \"text-align: left;\">Other services</td><td style = \"text-align: right;\">1</td><td style = \"text-align: left;\">total</td><td style = \"text-align: left;\">C3307.04</td><td style = \"text-align: right;\">0</td></tr><tr><td class = \"rowNumber\" style = \"font-weight: bold; text-align: right;\">14753</td><td style = \"text-align: left;\">How union representation of employees has affected the level of flexibility/availability to make changes to employment conditions: don&apos;t know</td><td style = \"text-align: left;\">total</td><td style = \"text-align: right;\">0</td><td style = \"text-align: left;\">total</td><td style = \"text-align: left;\">C3307.04</td><td style = \"text-align: right;\">174</td></tr></tbody></table></div>"
      ],
      "text/latex": [
       "\\begin{tabular}{r|ccc}\n",
       "\t& description & industry & \\\\\n",
       "\t\\hline\n",
       "\t& String & String & \\\\\n",
       "\t\\hline\n",
       "\t1 & Business main customer: individuals or households & Agriculture & $\\dots$ \\\\\n",
       "\t2 & Business main customer: individuals or households & Commercial fishing & $\\dots$ \\\\\n",
       "\t3 & Business main customer: individuals or households & Forestry \\& logging & $\\dots$ \\\\\n",
       "\t4 & Business main customer: individuals or households & Agriculture, forestry, \\& fishing support services & $\\dots$ \\\\\n",
       "\t5 & Business main customer: individuals or households & Mining & $\\dots$ \\\\\n",
       "\t6 & Business main customer: individuals or households & Manufacturing & $\\dots$ \\\\\n",
       "\t7 & Business main customer: individuals or households & Food, beverage, \\& tobacco & $\\dots$ \\\\\n",
       "\t8 & Business main customer: individuals or households & Textile, clothing, footwear, \\& leather & $\\dots$ \\\\\n",
       "\t9 & Business main customer: individuals or households & Wood \\& paper product & $\\dots$ \\\\\n",
       "\t10 & Business main customer: individuals or households & Printing, publishing, \\& recorded media & $\\dots$ \\\\\n",
       "\t11 & Business main customer: individuals or households & Petroleum, coal, chemical, \\& associated product & $\\dots$ \\\\\n",
       "\t12 & Business main customer: individuals or households & Non-metallic mineral product & $\\dots$ \\\\\n",
       "\t13 & Business main customer: individuals or households & Metal product & $\\dots$ \\\\\n",
       "\t14 & Business main customer: individuals or households & Transport and industrial machinery \\& equipment & $\\dots$ \\\\\n",
       "\t15 & Business main customer: individuals or households & Other machinery \\& equipment & $\\dots$ \\\\\n",
       "\t16 & Business main customer: individuals or households & Other manufacturing & $\\dots$ \\\\\n",
       "\t17 & Business main customer: individuals or households & Electricity, gas, water, \\& waste services & $\\dots$ \\\\\n",
       "\t18 & Business main customer: individuals or households & Construction & $\\dots$ \\\\\n",
       "\t19 & Business main customer: individuals or households & Wholesale trade & $\\dots$ \\\\\n",
       "\t20 & Business main customer: individuals or households & Machinery \\& equipment wholesaling & $\\dots$ \\\\\n",
       "\t21 & Business main customer: individuals or households & Other wholesale trade & $\\dots$ \\\\\n",
       "\t22 & Business main customer: individuals or households & Retail trade & $\\dots$ \\\\\n",
       "\t23 & Business main customer: individuals or households & Accommodation \\& food services & $\\dots$ \\\\\n",
       "\t24 & Business main customer: individuals or households & Transport, postal, \\& warehousing & $\\dots$ \\\\\n",
       "\t$\\dots$ & $\\dots$ & $\\dots$ &  \\\\\n",
       "\\end{tabular}\n"
      ],
      "text/plain": [
       "\u001b[1m14753×6 DataFrame\u001b[0m\n",
       "\u001b[1m   Row \u001b[0m│\u001b[1m description                       \u001b[0m\u001b[1m industry                          \u001b[0m\u001b[1m\u001b[0m ⋯\n",
       "       │\u001b[90m String                            \u001b[0m\u001b[90m String                            \u001b[0m\u001b[90m\u001b[0m ⋯\n",
       "───────┼────────────────────────────────────────────────────────────────────────\n",
       "     1 │ Business main customer: individu…  Agriculture                        ⋯\n",
       "     2 │ Business main customer: individu…  Commercial fishing\n",
       "     3 │ Business main customer: individu…  Forestry & logging\n",
       "     4 │ Business main customer: individu…  Agriculture, forestry, & fishing…\n",
       "     5 │ Business main customer: individu…  Mining                             ⋯\n",
       "     6 │ Business main customer: individu…  Manufacturing\n",
       "     7 │ Business main customer: individu…  Food, beverage, & tobacco\n",
       "     8 │ Business main customer: individu…  Textile, clothing, footwear, & l…\n",
       "   ⋮   │                 ⋮                                  ⋮                  ⋱\n",
       " 14747 │ How union representation of empl…  Other professional scientific      ⋯\n",
       " 14748 │ How union representation of empl…  Administrative & support services\n",
       " 14749 │ How union representation of empl…  Education & training\n",
       " 14750 │ How union representation of empl…  Health care & social assistance\n",
       " 14751 │ How union representation of empl…  Arts & recreation services         ⋯\n",
       " 14752 │ How union representation of empl…  Other services\n",
       " 14753 │ How union representation of empl…  total\n",
       "\u001b[36m                                                4 columns and 14738 rows omitted\u001b[0m"
      ]
     },
     "metadata": {},
     "output_type": "display_data"
    }
   ],
   "source": [
    "# Exclude the first five rows\n",
    "df[Not(1:5), :]"
   ]
  },
  {
   "cell_type": "code",
   "execution_count": 91,
   "metadata": {},
   "outputs": [],
   "source": [
    "using Statistics"
   ]
  },
  {
   "cell_type": "code",
   "execution_count": 92,
   "metadata": {},
   "outputs": [
    {
     "data": {
      "text/plain": [
       "669.34"
      ]
     },
     "metadata": {},
     "output_type": "display_data"
    }
   ],
   "source": [
    "round(mean(df[:,\"value\"]), digits = 2)"
   ]
  },
  {
   "attachments": {},
   "cell_type": "markdown",
   "metadata": {},
   "source": [
    "## Create a dataframe from a matrix"
   ]
  },
  {
   "cell_type": "code",
   "execution_count": 93,
   "metadata": {},
   "outputs": [],
   "source": [
    "aq = [10.0   8.04  10.0  9.14  10.0   7.46   8.0   6.58\n",
    "8.0   6.95   8.0  8.14   8.0   6.77   8.0   5.76\n",
    "13.0   7.58  13.0  8.74  13.0  12.74   8.0   7.71\n",
    "9.0   8.81   9.0  8.77   9.0   7.11   8.0   8.84\n",
    "11.0   8.33  11.0  9.26  11.0   7.81   8.0   8.47\n",
    "14.0   9.96  14.0  8.1   14.0   8.84   8.0   7.04\n",
    "6.0   7.24   6.0  6.13   6.0   6.08   8.0   5.25\n",
    "4.0   4.26   4.0  3.1    4.0   5.39  19.0  12.50\n",
    "12.0  10.84  12.0  9.13  12.0   8.15   8.0   5.56\n",
    "7.0   4.82   7.0  7.26   7.0   6.42   8.0   7.91\n",
    "5.0   5.68   5.0  4.74   5.0   5.73   8.0   6.89];"
   ]
  },
  {
   "cell_type": "code",
   "execution_count": 94,
   "metadata": {},
   "outputs": [],
   "source": [
    "using DataFrames"
   ]
  },
  {
   "cell_type": "code",
   "execution_count": 95,
   "metadata": {},
   "outputs": [
    {
     "data": {
      "text/html": [
       "<div><div style = \"float: left;\"><span>11×8 DataFrame</span></div><div style = \"clear: both;\"></div></div><div class = \"data-frame\" style = \"overflow-x: scroll;\"><table class = \"data-frame\" style = \"margin-bottom: 6px;\"><thead><tr class = \"header\"><th class = \"rowNumber\" style = \"font-weight: bold; text-align: right;\">Row</th><th style = \"text-align: left;\">x1</th><th style = \"text-align: left;\">x2</th><th style = \"text-align: left;\">x3</th><th style = \"text-align: left;\">x4</th><th style = \"text-align: left;\">x5</th><th style = \"text-align: left;\">x6</th><th style = \"text-align: left;\">x7</th><th style = \"text-align: left;\">x8</th></tr><tr class = \"subheader headerLastRow\"><th class = \"rowNumber\" style = \"font-weight: bold; text-align: right;\"></th><th title = \"Float64\" style = \"text-align: left;\">Float64</th><th title = \"Float64\" style = \"text-align: left;\">Float64</th><th title = \"Float64\" style = \"text-align: left;\">Float64</th><th title = \"Float64\" style = \"text-align: left;\">Float64</th><th title = \"Float64\" style = \"text-align: left;\">Float64</th><th title = \"Float64\" style = \"text-align: left;\">Float64</th><th title = \"Float64\" style = \"text-align: left;\">Float64</th><th title = \"Float64\" style = \"text-align: left;\">Float64</th></tr></thead><tbody><tr><td class = \"rowNumber\" style = \"font-weight: bold; text-align: right;\">1</td><td style = \"text-align: right;\">10.0</td><td style = \"text-align: right;\">8.04</td><td style = \"text-align: right;\">10.0</td><td style = \"text-align: right;\">9.14</td><td style = \"text-align: right;\">10.0</td><td style = \"text-align: right;\">7.46</td><td style = \"text-align: right;\">8.0</td><td style = \"text-align: right;\">6.58</td></tr><tr><td class = \"rowNumber\" style = \"font-weight: bold; text-align: right;\">2</td><td style = \"text-align: right;\">8.0</td><td style = \"text-align: right;\">6.95</td><td style = \"text-align: right;\">8.0</td><td style = \"text-align: right;\">8.14</td><td style = \"text-align: right;\">8.0</td><td style = \"text-align: right;\">6.77</td><td style = \"text-align: right;\">8.0</td><td style = \"text-align: right;\">5.76</td></tr><tr><td class = \"rowNumber\" style = \"font-weight: bold; text-align: right;\">3</td><td style = \"text-align: right;\">13.0</td><td style = \"text-align: right;\">7.58</td><td style = \"text-align: right;\">13.0</td><td style = \"text-align: right;\">8.74</td><td style = \"text-align: right;\">13.0</td><td style = \"text-align: right;\">12.74</td><td style = \"text-align: right;\">8.0</td><td style = \"text-align: right;\">7.71</td></tr><tr><td class = \"rowNumber\" style = \"font-weight: bold; text-align: right;\">4</td><td style = \"text-align: right;\">9.0</td><td style = \"text-align: right;\">8.81</td><td style = \"text-align: right;\">9.0</td><td style = \"text-align: right;\">8.77</td><td style = \"text-align: right;\">9.0</td><td style = \"text-align: right;\">7.11</td><td style = \"text-align: right;\">8.0</td><td style = \"text-align: right;\">8.84</td></tr><tr><td class = \"rowNumber\" style = \"font-weight: bold; text-align: right;\">5</td><td style = \"text-align: right;\">11.0</td><td style = \"text-align: right;\">8.33</td><td style = \"text-align: right;\">11.0</td><td style = \"text-align: right;\">9.26</td><td style = \"text-align: right;\">11.0</td><td style = \"text-align: right;\">7.81</td><td style = \"text-align: right;\">8.0</td><td style = \"text-align: right;\">8.47</td></tr><tr><td class = \"rowNumber\" style = \"font-weight: bold; text-align: right;\">6</td><td style = \"text-align: right;\">14.0</td><td style = \"text-align: right;\">9.96</td><td style = \"text-align: right;\">14.0</td><td style = \"text-align: right;\">8.1</td><td style = \"text-align: right;\">14.0</td><td style = \"text-align: right;\">8.84</td><td style = \"text-align: right;\">8.0</td><td style = \"text-align: right;\">7.04</td></tr><tr><td class = \"rowNumber\" style = \"font-weight: bold; text-align: right;\">7</td><td style = \"text-align: right;\">6.0</td><td style = \"text-align: right;\">7.24</td><td style = \"text-align: right;\">6.0</td><td style = \"text-align: right;\">6.13</td><td style = \"text-align: right;\">6.0</td><td style = \"text-align: right;\">6.08</td><td style = \"text-align: right;\">8.0</td><td style = \"text-align: right;\">5.25</td></tr><tr><td class = \"rowNumber\" style = \"font-weight: bold; text-align: right;\">8</td><td style = \"text-align: right;\">4.0</td><td style = \"text-align: right;\">4.26</td><td style = \"text-align: right;\">4.0</td><td style = \"text-align: right;\">3.1</td><td style = \"text-align: right;\">4.0</td><td style = \"text-align: right;\">5.39</td><td style = \"text-align: right;\">19.0</td><td style = \"text-align: right;\">12.5</td></tr><tr><td class = \"rowNumber\" style = \"font-weight: bold; text-align: right;\">9</td><td style = \"text-align: right;\">12.0</td><td style = \"text-align: right;\">10.84</td><td style = \"text-align: right;\">12.0</td><td style = \"text-align: right;\">9.13</td><td style = \"text-align: right;\">12.0</td><td style = \"text-align: right;\">8.15</td><td style = \"text-align: right;\">8.0</td><td style = \"text-align: right;\">5.56</td></tr><tr><td class = \"rowNumber\" style = \"font-weight: bold; text-align: right;\">10</td><td style = \"text-align: right;\">7.0</td><td style = \"text-align: right;\">4.82</td><td style = \"text-align: right;\">7.0</td><td style = \"text-align: right;\">7.26</td><td style = \"text-align: right;\">7.0</td><td style = \"text-align: right;\">6.42</td><td style = \"text-align: right;\">8.0</td><td style = \"text-align: right;\">7.91</td></tr><tr><td class = \"rowNumber\" style = \"font-weight: bold; text-align: right;\">11</td><td style = \"text-align: right;\">5.0</td><td style = \"text-align: right;\">5.68</td><td style = \"text-align: right;\">5.0</td><td style = \"text-align: right;\">4.74</td><td style = \"text-align: right;\">5.0</td><td style = \"text-align: right;\">5.73</td><td style = \"text-align: right;\">8.0</td><td style = \"text-align: right;\">6.89</td></tr></tbody></table></div>"
      ],
      "text/latex": [
       "\\begin{tabular}{r|cccccccc}\n",
       "\t& x1 & x2 & x3 & x4 & x5 & x6 & x7 & x8\\\\\n",
       "\t\\hline\n",
       "\t& Float64 & Float64 & Float64 & Float64 & Float64 & Float64 & Float64 & Float64\\\\\n",
       "\t\\hline\n",
       "\t1 & 10.0 & 8.04 & 10.0 & 9.14 & 10.0 & 7.46 & 8.0 & 6.58 \\\\\n",
       "\t2 & 8.0 & 6.95 & 8.0 & 8.14 & 8.0 & 6.77 & 8.0 & 5.76 \\\\\n",
       "\t3 & 13.0 & 7.58 & 13.0 & 8.74 & 13.0 & 12.74 & 8.0 & 7.71 \\\\\n",
       "\t4 & 9.0 & 8.81 & 9.0 & 8.77 & 9.0 & 7.11 & 8.0 & 8.84 \\\\\n",
       "\t5 & 11.0 & 8.33 & 11.0 & 9.26 & 11.0 & 7.81 & 8.0 & 8.47 \\\\\n",
       "\t6 & 14.0 & 9.96 & 14.0 & 8.1 & 14.0 & 8.84 & 8.0 & 7.04 \\\\\n",
       "\t7 & 6.0 & 7.24 & 6.0 & 6.13 & 6.0 & 6.08 & 8.0 & 5.25 \\\\\n",
       "\t8 & 4.0 & 4.26 & 4.0 & 3.1 & 4.0 & 5.39 & 19.0 & 12.5 \\\\\n",
       "\t9 & 12.0 & 10.84 & 12.0 & 9.13 & 12.0 & 8.15 & 8.0 & 5.56 \\\\\n",
       "\t10 & 7.0 & 4.82 & 7.0 & 7.26 & 7.0 & 6.42 & 8.0 & 7.91 \\\\\n",
       "\t11 & 5.0 & 5.68 & 5.0 & 4.74 & 5.0 & 5.73 & 8.0 & 6.89 \\\\\n",
       "\\end{tabular}\n"
      ],
      "text/plain": [
       "\u001b[1m11×8 DataFrame\u001b[0m\n",
       "\u001b[1m Row \u001b[0m│\u001b[1m x1      \u001b[0m\u001b[1m x2      \u001b[0m\u001b[1m x3      \u001b[0m\u001b[1m x4      \u001b[0m\u001b[1m x5      \u001b[0m\u001b[1m x6      \u001b[0m\u001b[1m x7      \u001b[0m\u001b[1m x8      \u001b[0m\n",
       "     │\u001b[90m Float64 \u001b[0m\u001b[90m Float64 \u001b[0m\u001b[90m Float64 \u001b[0m\u001b[90m Float64 \u001b[0m\u001b[90m Float64 \u001b[0m\u001b[90m Float64 \u001b[0m\u001b[90m Float64 \u001b[0m\u001b[90m Float64 \u001b[0m\n",
       "─────┼────────────────────────────────────────────────────────────────────────\n",
       "   1 │    10.0     8.04     10.0     9.14     10.0     7.46      8.0     6.58\n",
       "   2 │     8.0     6.95      8.0     8.14      8.0     6.77      8.0     5.76\n",
       "   3 │    13.0     7.58     13.0     8.74     13.0    12.74      8.0     7.71\n",
       "   4 │     9.0     8.81      9.0     8.77      9.0     7.11      8.0     8.84\n",
       "   5 │    11.0     8.33     11.0     9.26     11.0     7.81      8.0     8.47\n",
       "   6 │    14.0     9.96     14.0     8.1      14.0     8.84      8.0     7.04\n",
       "   7 │     6.0     7.24      6.0     6.13      6.0     6.08      8.0     5.25\n",
       "   8 │     4.0     4.26      4.0     3.1       4.0     5.39     19.0    12.5\n",
       "   9 │    12.0    10.84     12.0     9.13     12.0     8.15      8.0     5.56\n",
       "  10 │     7.0     4.82      7.0     7.26      7.0     6.42      8.0     7.91\n",
       "  11 │     5.0     5.68      5.0     4.74      5.0     5.73      8.0     6.89"
      ]
     },
     "metadata": {},
     "output_type": "display_data"
    }
   ],
   "source": [
    "aq_df = DataFrame(aq, :auto)"
   ]
  },
  {
   "cell_type": "code",
   "execution_count": 96,
   "metadata": {},
   "outputs": [
    {
     "data": {
      "text/html": [
       "<div><div style = \"float: left;\"><span>DataFrameRow (8 columns)</span></div><div style = \"clear: both;\"></div></div><div class = \"data-frame\" style = \"overflow-x: scroll;\"><table class = \"data-frame\" style = \"margin-bottom: 6px;\"><thead><tr class = \"header\"><th class = \"rowLabel\" style = \"font-weight: bold; text-align: right;\">Row</th><th style = \"text-align: left;\">x1</th><th style = \"text-align: left;\">x2</th><th style = \"text-align: left;\">x3</th><th style = \"text-align: left;\">x4</th><th style = \"text-align: left;\">x5</th><th style = \"text-align: left;\">x6</th><th style = \"text-align: left;\">x7</th><th style = \"text-align: left;\">x8</th></tr><tr class = \"subheader headerLastRow\"><th class = \"rowLabel\" style = \"font-weight: bold; text-align: right;\"></th><th title = \"Float64\" style = \"text-align: left;\">Float64</th><th title = \"Float64\" style = \"text-align: left;\">Float64</th><th title = \"Float64\" style = \"text-align: left;\">Float64</th><th title = \"Float64\" style = \"text-align: left;\">Float64</th><th title = \"Float64\" style = \"text-align: left;\">Float64</th><th title = \"Float64\" style = \"text-align: left;\">Float64</th><th title = \"Float64\" style = \"text-align: left;\">Float64</th><th title = \"Float64\" style = \"text-align: left;\">Float64</th></tr></thead><tbody><tr><td class = \"rowLabel\" style = \"font-weight: bold; text-align: right;\">2</td><td style = \"text-align: right;\">8.0</td><td style = \"text-align: right;\">6.95</td><td style = \"text-align: right;\">8.0</td><td style = \"text-align: right;\">8.14</td><td style = \"text-align: right;\">8.0</td><td style = \"text-align: right;\">6.77</td><td style = \"text-align: right;\">8.0</td><td style = \"text-align: right;\">5.76</td></tr></tbody></table></div>"
      ],
      "text/latex": [
       "\\begin{tabular}{r|cccccccc}\n",
       "\t& x1 & x2 & x3 & x4 & x5 & x6 & x7 & x8\\\\\n",
       "\t\\hline\n",
       "\t& Float64 & Float64 & Float64 & Float64 & Float64 & Float64 & Float64 & Float64\\\\\n",
       "\t\\hline\n",
       "\t2 & 8.0 & 6.95 & 8.0 & 8.14 & 8.0 & 6.77 & 8.0 & 5.76 \\\\\n",
       "\\end{tabular}\n"
      ],
      "text/plain": [
       "\u001b[1mDataFrameRow\u001b[0m\n",
       "\u001b[1m Row \u001b[0m│\u001b[1m x1      \u001b[0m\u001b[1m x2      \u001b[0m\u001b[1m x3      \u001b[0m\u001b[1m x4      \u001b[0m\u001b[1m x5      \u001b[0m\u001b[1m x6      \u001b[0m\u001b[1m x7      \u001b[0m\u001b[1m x8      \u001b[0m\n",
       "     │\u001b[90m Float64 \u001b[0m\u001b[90m Float64 \u001b[0m\u001b[90m Float64 \u001b[0m\u001b[90m Float64 \u001b[0m\u001b[90m Float64 \u001b[0m\u001b[90m Float64 \u001b[0m\u001b[90m Float64 \u001b[0m\u001b[90m Float64 \u001b[0m\n",
       "─────┼────────────────────────────────────────────────────────────────────────\n",
       "   2 │     8.0     6.95      8.0     8.14      8.0     6.77      8.0     5.76"
      ]
     },
     "metadata": {},
     "output_type": "display_data"
    }
   ],
   "source": [
    "aq_df[2,:]"
   ]
  },
  {
   "cell_type": "code",
   "execution_count": 97,
   "metadata": {},
   "outputs": [
    {
     "data": {
      "text/plain": [
       "8.0"
      ]
     },
     "metadata": {},
     "output_type": "display_data"
    }
   ],
   "source": [
    "aq_df[2,1]"
   ]
  },
  {
   "attachments": {},
   "cell_type": "markdown",
   "metadata": {},
   "source": [
    "## Create a dataframe from a vector"
   ]
  },
  {
   "cell_type": "code",
   "execution_count": 98,
   "metadata": {},
   "outputs": [
    {
     "data": {
      "text/plain": [
       "10-element Vector{Int64}:\n",
       "  2\n",
       "  3\n",
       "  4\n",
       "  5\n",
       "  6\n",
       "  7\n",
       "  8\n",
       "  9\n",
       " 10\n",
       " 11"
      ]
     },
     "metadata": {},
     "output_type": "display_data"
    }
   ],
   "source": [
    "x = collect(1:10)\n",
    "y = collect(2:11)"
   ]
  },
  {
   "cell_type": "markdown",
   "metadata": {},
   "source": []
  },
  {
   "cell_type": "code",
   "execution_count": 99,
   "metadata": {},
   "outputs": [
    {
     "data": {
      "text/html": [
       "<div><div style = \"float: left;\"><span>10×2 DataFrame</span></div><div style = \"clear: both;\"></div></div><div class = \"data-frame\" style = \"overflow-x: scroll;\"><table class = \"data-frame\" style = \"margin-bottom: 6px;\"><thead><tr class = \"header\"><th class = \"rowNumber\" style = \"font-weight: bold; text-align: right;\">Row</th><th style = \"text-align: left;\">x1</th><th style = \"text-align: left;\">y1</th></tr><tr class = \"subheader headerLastRow\"><th class = \"rowNumber\" style = \"font-weight: bold; text-align: right;\"></th><th title = \"Int64\" style = \"text-align: left;\">Int64</th><th title = \"Int64\" style = \"text-align: left;\">Int64</th></tr></thead><tbody><tr><td class = \"rowNumber\" style = \"font-weight: bold; text-align: right;\">1</td><td style = \"text-align: right;\">1</td><td style = \"text-align: right;\">2</td></tr><tr><td class = \"rowNumber\" style = \"font-weight: bold; text-align: right;\">2</td><td style = \"text-align: right;\">2</td><td style = \"text-align: right;\">3</td></tr><tr><td class = \"rowNumber\" style = \"font-weight: bold; text-align: right;\">3</td><td style = \"text-align: right;\">3</td><td style = \"text-align: right;\">4</td></tr><tr><td class = \"rowNumber\" style = \"font-weight: bold; text-align: right;\">4</td><td style = \"text-align: right;\">4</td><td style = \"text-align: right;\">5</td></tr><tr><td class = \"rowNumber\" style = \"font-weight: bold; text-align: right;\">5</td><td style = \"text-align: right;\">5</td><td style = \"text-align: right;\">6</td></tr><tr><td class = \"rowNumber\" style = \"font-weight: bold; text-align: right;\">6</td><td style = \"text-align: right;\">6</td><td style = \"text-align: right;\">7</td></tr><tr><td class = \"rowNumber\" style = \"font-weight: bold; text-align: right;\">7</td><td style = \"text-align: right;\">7</td><td style = \"text-align: right;\">8</td></tr><tr><td class = \"rowNumber\" style = \"font-weight: bold; text-align: right;\">8</td><td style = \"text-align: right;\">8</td><td style = \"text-align: right;\">9</td></tr><tr><td class = \"rowNumber\" style = \"font-weight: bold; text-align: right;\">9</td><td style = \"text-align: right;\">9</td><td style = \"text-align: right;\">10</td></tr><tr><td class = \"rowNumber\" style = \"font-weight: bold; text-align: right;\">10</td><td style = \"text-align: right;\">10</td><td style = \"text-align: right;\">11</td></tr></tbody></table></div>"
      ],
      "text/latex": [
       "\\begin{tabular}{r|cc}\n",
       "\t& x1 & y1\\\\\n",
       "\t\\hline\n",
       "\t& Int64 & Int64\\\\\n",
       "\t\\hline\n",
       "\t1 & 1 & 2 \\\\\n",
       "\t2 & 2 & 3 \\\\\n",
       "\t3 & 3 & 4 \\\\\n",
       "\t4 & 4 & 5 \\\\\n",
       "\t5 & 5 & 6 \\\\\n",
       "\t6 & 6 & 7 \\\\\n",
       "\t7 & 7 & 8 \\\\\n",
       "\t8 & 8 & 9 \\\\\n",
       "\t9 & 9 & 10 \\\\\n",
       "\t10 & 10 & 11 \\\\\n",
       "\\end{tabular}\n"
      ],
      "text/plain": [
       "\u001b[1m10×2 DataFrame\u001b[0m\n",
       "\u001b[1m Row \u001b[0m│\u001b[1m x1    \u001b[0m\u001b[1m y1    \u001b[0m\n",
       "     │\u001b[90m Int64 \u001b[0m\u001b[90m Int64 \u001b[0m\n",
       "─────┼──────────────\n",
       "   1 │     1      2\n",
       "   2 │     2      3\n",
       "   3 │     3      4\n",
       "   4 │     4      5\n",
       "   5 │     5      6\n",
       "   6 │     6      7\n",
       "   7 │     7      8\n",
       "   8 │     8      9\n",
       "   9 │     9     10\n",
       "  10 │    10     11"
      ]
     },
     "metadata": {},
     "output_type": "display_data"
    }
   ],
   "source": [
    "df_v = DataFrame(x1 = x, y1 = y)"
   ]
  },
  {
   "attachments": {},
   "cell_type": "markdown",
   "metadata": {},
   "source": [
    "## Create a dataframe from a data dictionary"
   ]
  },
  {
   "cell_type": "code",
   "execution_count": 100,
   "metadata": {},
   "outputs": [
    {
     "data": {
      "text/plain": [
       "8-element Vector{String}:\n",
       " \"x1\"\n",
       " \"y1\"\n",
       " \"x2\"\n",
       " \"y2\"\n",
       " \"x3\"\n",
       " \"y3\"\n",
       " \"x4\"\n",
       " \"y4\""
      ]
     },
     "metadata": {},
     "output_type": "display_data"
    }
   ],
   "source": [
    "[string(v, i) for i in 1:4 for v in [:x, :y]]"
   ]
  },
  {
   "cell_type": "code",
   "execution_count": 101,
   "metadata": {},
   "outputs": [],
   "source": [
    "data = (set1=(x=aq[:, 1], y=aq[:, 2]),\n",
    "        set2=(x=aq[:, 3], y=aq[:, 4]),\n",
    "        set3=(x=aq[:, 5], y=aq[:, 6]),\n",
    "        set4=(x=aq[:, 7], y=aq[:, 8]));"
   ]
  },
  {
   "cell_type": "code",
   "execution_count": 102,
   "metadata": {},
   "outputs": [
    {
     "data": {
      "text/html": [
       "<div><div style = \"float: left;\"><span>11×8 DataFrame</span></div><div style = \"clear: both;\"></div></div><div class = \"data-frame\" style = \"overflow-x: scroll;\"><table class = \"data-frame\" style = \"margin-bottom: 6px;\"><thead><tr class = \"header\"><th class = \"rowNumber\" style = \"font-weight: bold; text-align: right;\">Row</th><th style = \"text-align: left;\">x1</th><th style = \"text-align: left;\">y1</th><th style = \"text-align: left;\">x2</th><th style = \"text-align: left;\">y2</th><th style = \"text-align: left;\">x3</th><th style = \"text-align: left;\">y3</th><th style = \"text-align: left;\">x4</th><th style = \"text-align: left;\">y4</th></tr><tr class = \"subheader headerLastRow\"><th class = \"rowNumber\" style = \"font-weight: bold; text-align: right;\"></th><th title = \"Float64\" style = \"text-align: left;\">Float64</th><th title = \"Float64\" style = \"text-align: left;\">Float64</th><th title = \"Float64\" style = \"text-align: left;\">Float64</th><th title = \"Float64\" style = \"text-align: left;\">Float64</th><th title = \"Float64\" style = \"text-align: left;\">Float64</th><th title = \"Float64\" style = \"text-align: left;\">Float64</th><th title = \"Float64\" style = \"text-align: left;\">Float64</th><th title = \"Float64\" style = \"text-align: left;\">Float64</th></tr></thead><tbody><tr><td class = \"rowNumber\" style = \"font-weight: bold; text-align: right;\">1</td><td style = \"text-align: right;\">10.0</td><td style = \"text-align: right;\">8.04</td><td style = \"text-align: right;\">10.0</td><td style = \"text-align: right;\">9.14</td><td style = \"text-align: right;\">10.0</td><td style = \"text-align: right;\">7.46</td><td style = \"text-align: right;\">8.0</td><td style = \"text-align: right;\">6.58</td></tr><tr><td class = \"rowNumber\" style = \"font-weight: bold; text-align: right;\">2</td><td style = \"text-align: right;\">8.0</td><td style = \"text-align: right;\">6.95</td><td style = \"text-align: right;\">8.0</td><td style = \"text-align: right;\">8.14</td><td style = \"text-align: right;\">8.0</td><td style = \"text-align: right;\">6.77</td><td style = \"text-align: right;\">8.0</td><td style = \"text-align: right;\">5.76</td></tr><tr><td class = \"rowNumber\" style = \"font-weight: bold; text-align: right;\">3</td><td style = \"text-align: right;\">13.0</td><td style = \"text-align: right;\">7.58</td><td style = \"text-align: right;\">13.0</td><td style = \"text-align: right;\">8.74</td><td style = \"text-align: right;\">13.0</td><td style = \"text-align: right;\">12.74</td><td style = \"text-align: right;\">8.0</td><td style = \"text-align: right;\">7.71</td></tr><tr><td class = \"rowNumber\" style = \"font-weight: bold; text-align: right;\">4</td><td style = \"text-align: right;\">9.0</td><td style = \"text-align: right;\">8.81</td><td style = \"text-align: right;\">9.0</td><td style = \"text-align: right;\">8.77</td><td style = \"text-align: right;\">9.0</td><td style = \"text-align: right;\">7.11</td><td style = \"text-align: right;\">8.0</td><td style = \"text-align: right;\">8.84</td></tr><tr><td class = \"rowNumber\" style = \"font-weight: bold; text-align: right;\">5</td><td style = \"text-align: right;\">11.0</td><td style = \"text-align: right;\">8.33</td><td style = \"text-align: right;\">11.0</td><td style = \"text-align: right;\">9.26</td><td style = \"text-align: right;\">11.0</td><td style = \"text-align: right;\">7.81</td><td style = \"text-align: right;\">8.0</td><td style = \"text-align: right;\">8.47</td></tr><tr><td class = \"rowNumber\" style = \"font-weight: bold; text-align: right;\">6</td><td style = \"text-align: right;\">14.0</td><td style = \"text-align: right;\">9.96</td><td style = \"text-align: right;\">14.0</td><td style = \"text-align: right;\">8.1</td><td style = \"text-align: right;\">14.0</td><td style = \"text-align: right;\">8.84</td><td style = \"text-align: right;\">8.0</td><td style = \"text-align: right;\">7.04</td></tr><tr><td class = \"rowNumber\" style = \"font-weight: bold; text-align: right;\">7</td><td style = \"text-align: right;\">6.0</td><td style = \"text-align: right;\">7.24</td><td style = \"text-align: right;\">6.0</td><td style = \"text-align: right;\">6.13</td><td style = \"text-align: right;\">6.0</td><td style = \"text-align: right;\">6.08</td><td style = \"text-align: right;\">8.0</td><td style = \"text-align: right;\">5.25</td></tr><tr><td class = \"rowNumber\" style = \"font-weight: bold; text-align: right;\">8</td><td style = \"text-align: right;\">4.0</td><td style = \"text-align: right;\">4.26</td><td style = \"text-align: right;\">4.0</td><td style = \"text-align: right;\">3.1</td><td style = \"text-align: right;\">4.0</td><td style = \"text-align: right;\">5.39</td><td style = \"text-align: right;\">19.0</td><td style = \"text-align: right;\">12.5</td></tr><tr><td class = \"rowNumber\" style = \"font-weight: bold; text-align: right;\">9</td><td style = \"text-align: right;\">12.0</td><td style = \"text-align: right;\">10.84</td><td style = \"text-align: right;\">12.0</td><td style = \"text-align: right;\">9.13</td><td style = \"text-align: right;\">12.0</td><td style = \"text-align: right;\">8.15</td><td style = \"text-align: right;\">8.0</td><td style = \"text-align: right;\">5.56</td></tr><tr><td class = \"rowNumber\" style = \"font-weight: bold; text-align: right;\">10</td><td style = \"text-align: right;\">7.0</td><td style = \"text-align: right;\">4.82</td><td style = \"text-align: right;\">7.0</td><td style = \"text-align: right;\">7.26</td><td style = \"text-align: right;\">7.0</td><td style = \"text-align: right;\">6.42</td><td style = \"text-align: right;\">8.0</td><td style = \"text-align: right;\">7.91</td></tr><tr><td class = \"rowNumber\" style = \"font-weight: bold; text-align: right;\">11</td><td style = \"text-align: right;\">5.0</td><td style = \"text-align: right;\">5.68</td><td style = \"text-align: right;\">5.0</td><td style = \"text-align: right;\">4.74</td><td style = \"text-align: right;\">5.0</td><td style = \"text-align: right;\">5.73</td><td style = \"text-align: right;\">8.0</td><td style = \"text-align: right;\">6.89</td></tr></tbody></table></div>"
      ],
      "text/latex": [
       "\\begin{tabular}{r|cccccccc}\n",
       "\t& x1 & y1 & x2 & y2 & x3 & y3 & x4 & y4\\\\\n",
       "\t\\hline\n",
       "\t& Float64 & Float64 & Float64 & Float64 & Float64 & Float64 & Float64 & Float64\\\\\n",
       "\t\\hline\n",
       "\t1 & 10.0 & 8.04 & 10.0 & 9.14 & 10.0 & 7.46 & 8.0 & 6.58 \\\\\n",
       "\t2 & 8.0 & 6.95 & 8.0 & 8.14 & 8.0 & 6.77 & 8.0 & 5.76 \\\\\n",
       "\t3 & 13.0 & 7.58 & 13.0 & 8.74 & 13.0 & 12.74 & 8.0 & 7.71 \\\\\n",
       "\t4 & 9.0 & 8.81 & 9.0 & 8.77 & 9.0 & 7.11 & 8.0 & 8.84 \\\\\n",
       "\t5 & 11.0 & 8.33 & 11.0 & 9.26 & 11.0 & 7.81 & 8.0 & 8.47 \\\\\n",
       "\t6 & 14.0 & 9.96 & 14.0 & 8.1 & 14.0 & 8.84 & 8.0 & 7.04 \\\\\n",
       "\t7 & 6.0 & 7.24 & 6.0 & 6.13 & 6.0 & 6.08 & 8.0 & 5.25 \\\\\n",
       "\t8 & 4.0 & 4.26 & 4.0 & 3.1 & 4.0 & 5.39 & 19.0 & 12.5 \\\\\n",
       "\t9 & 12.0 & 10.84 & 12.0 & 9.13 & 12.0 & 8.15 & 8.0 & 5.56 \\\\\n",
       "\t10 & 7.0 & 4.82 & 7.0 & 7.26 & 7.0 & 6.42 & 8.0 & 7.91 \\\\\n",
       "\t11 & 5.0 & 5.68 & 5.0 & 4.74 & 5.0 & 5.73 & 8.0 & 6.89 \\\\\n",
       "\\end{tabular}\n"
      ],
      "text/plain": [
       "\u001b[1m11×8 DataFrame\u001b[0m\n",
       "\u001b[1m Row \u001b[0m│\u001b[1m x1      \u001b[0m\u001b[1m y1      \u001b[0m\u001b[1m x2      \u001b[0m\u001b[1m y2      \u001b[0m\u001b[1m x3      \u001b[0m\u001b[1m y3      \u001b[0m\u001b[1m x4      \u001b[0m\u001b[1m y4      \u001b[0m\n",
       "     │\u001b[90m Float64 \u001b[0m\u001b[90m Float64 \u001b[0m\u001b[90m Float64 \u001b[0m\u001b[90m Float64 \u001b[0m\u001b[90m Float64 \u001b[0m\u001b[90m Float64 \u001b[0m\u001b[90m Float64 \u001b[0m\u001b[90m Float64 \u001b[0m\n",
       "─────┼────────────────────────────────────────────────────────────────────────\n",
       "   1 │    10.0     8.04     10.0     9.14     10.0     7.46      8.0     6.58\n",
       "   2 │     8.0     6.95      8.0     8.14      8.0     6.77      8.0     5.76\n",
       "   3 │    13.0     7.58     13.0     8.74     13.0    12.74      8.0     7.71\n",
       "   4 │     9.0     8.81      9.0     8.77      9.0     7.11      8.0     8.84\n",
       "   5 │    11.0     8.33     11.0     9.26     11.0     7.81      8.0     8.47\n",
       "   6 │    14.0     9.96     14.0     8.1      14.0     8.84      8.0     7.04\n",
       "   7 │     6.0     7.24      6.0     6.13      6.0     6.08      8.0     5.25\n",
       "   8 │     4.0     4.26      4.0     3.1       4.0     5.39     19.0    12.5\n",
       "   9 │    12.0    10.84     12.0     9.13     12.0     8.15      8.0     5.56\n",
       "  10 │     7.0     4.82      7.0     7.26      7.0     6.42      8.0     7.91\n",
       "  11 │     5.0     5.68      5.0     4.74      5.0     5.73      8.0     6.89"
      ]
     },
     "metadata": {},
     "output_type": "display_data"
    }
   ],
   "source": [
    "DataFrame([string(v, i) => getproperty(data[i], v) for i in 1:4 for v in [:x, :y]])"
   ]
  },
  {
   "cell_type": "code",
   "execution_count": 103,
   "metadata": {},
   "outputs": [
    {
     "data": {
      "text/plain": [
       "Dict{String, Vector{Float64}} with 8 entries:\n",
       "  \"y3\" => [7.46, 6.77, 12.74, 7.11, 7.81, 8.84, 6.08, 5.39, 8.15, 6.42, 5.73]\n",
       "  \"x1\" => [10.0, 8.0, 13.0, 9.0, 11.0, 14.0, 6.0, 4.0, 12.0, 7.0, 5.0]\n",
       "  \"y1\" => [8.04, 6.95, 7.58, 8.81, 8.33, 9.96, 7.24, 4.26, 10.84, 4.82, 5.68]\n",
       "  \"y4\" => [6.58, 5.76, 7.71, 8.84, 8.47, 7.04, 5.25, 12.5, 5.56, 7.91, 6.89]\n",
       "  \"x4\" => [8.0, 8.0, 8.0, 8.0, 8.0, 8.0, 8.0, 19.0, 8.0, 8.0, 8.0]\n",
       "  \"x2\" => [10.0, 8.0, 13.0, 9.0, 11.0, 14.0, 6.0, 4.0, 12.0, 7.0, 5.0]\n",
       "  \"y2\" => [9.14, 8.14, 8.74, 8.77, 9.26, 8.1, 6.13, 3.1, 9.13, 7.26, 4.74]\n",
       "  \"x3\" => [10.0, 8.0, 13.0, 9.0, 11.0, 14.0, 6.0, 4.0, 12.0, 7.0, 5.0]"
      ]
     },
     "metadata": {},
     "output_type": "display_data"
    }
   ],
   "source": [
    "data_dict = Dict([string(v, i) => getproperty(data[i], v) for i in 1:4 for v in [:x, :y]])"
   ]
  },
  {
   "cell_type": "code",
   "execution_count": 104,
   "metadata": {},
   "outputs": [
    {
     "data": {
      "text/html": [
       "<div><div style = \"float: left;\"><span>11×8 DataFrame</span></div><div style = \"clear: both;\"></div></div><div class = \"data-frame\" style = \"overflow-x: scroll;\"><table class = \"data-frame\" style = \"margin-bottom: 6px;\"><thead><tr class = \"header\"><th class = \"rowNumber\" style = \"font-weight: bold; text-align: right;\">Row</th><th style = \"text-align: left;\">x1</th><th style = \"text-align: left;\">x2</th><th style = \"text-align: left;\">x3</th><th style = \"text-align: left;\">x4</th><th style = \"text-align: left;\">y1</th><th style = \"text-align: left;\">y2</th><th style = \"text-align: left;\">y3</th><th style = \"text-align: left;\">y4</th></tr><tr class = \"subheader headerLastRow\"><th class = \"rowNumber\" style = \"font-weight: bold; text-align: right;\"></th><th title = \"Float64\" style = \"text-align: left;\">Float64</th><th title = \"Float64\" style = \"text-align: left;\">Float64</th><th title = \"Float64\" style = \"text-align: left;\">Float64</th><th title = \"Float64\" style = \"text-align: left;\">Float64</th><th title = \"Float64\" style = \"text-align: left;\">Float64</th><th title = \"Float64\" style = \"text-align: left;\">Float64</th><th title = \"Float64\" style = \"text-align: left;\">Float64</th><th title = \"Float64\" style = \"text-align: left;\">Float64</th></tr></thead><tbody><tr><td class = \"rowNumber\" style = \"font-weight: bold; text-align: right;\">1</td><td style = \"text-align: right;\">10.0</td><td style = \"text-align: right;\">10.0</td><td style = \"text-align: right;\">10.0</td><td style = \"text-align: right;\">8.0</td><td style = \"text-align: right;\">8.04</td><td style = \"text-align: right;\">9.14</td><td style = \"text-align: right;\">7.46</td><td style = \"text-align: right;\">6.58</td></tr><tr><td class = \"rowNumber\" style = \"font-weight: bold; text-align: right;\">2</td><td style = \"text-align: right;\">8.0</td><td style = \"text-align: right;\">8.0</td><td style = \"text-align: right;\">8.0</td><td style = \"text-align: right;\">8.0</td><td style = \"text-align: right;\">6.95</td><td style = \"text-align: right;\">8.14</td><td style = \"text-align: right;\">6.77</td><td style = \"text-align: right;\">5.76</td></tr><tr><td class = \"rowNumber\" style = \"font-weight: bold; text-align: right;\">3</td><td style = \"text-align: right;\">13.0</td><td style = \"text-align: right;\">13.0</td><td style = \"text-align: right;\">13.0</td><td style = \"text-align: right;\">8.0</td><td style = \"text-align: right;\">7.58</td><td style = \"text-align: right;\">8.74</td><td style = \"text-align: right;\">12.74</td><td style = \"text-align: right;\">7.71</td></tr><tr><td class = \"rowNumber\" style = \"font-weight: bold; text-align: right;\">4</td><td style = \"text-align: right;\">9.0</td><td style = \"text-align: right;\">9.0</td><td style = \"text-align: right;\">9.0</td><td style = \"text-align: right;\">8.0</td><td style = \"text-align: right;\">8.81</td><td style = \"text-align: right;\">8.77</td><td style = \"text-align: right;\">7.11</td><td style = \"text-align: right;\">8.84</td></tr><tr><td class = \"rowNumber\" style = \"font-weight: bold; text-align: right;\">5</td><td style = \"text-align: right;\">11.0</td><td style = \"text-align: right;\">11.0</td><td style = \"text-align: right;\">11.0</td><td style = \"text-align: right;\">8.0</td><td style = \"text-align: right;\">8.33</td><td style = \"text-align: right;\">9.26</td><td style = \"text-align: right;\">7.81</td><td style = \"text-align: right;\">8.47</td></tr><tr><td class = \"rowNumber\" style = \"font-weight: bold; text-align: right;\">6</td><td style = \"text-align: right;\">14.0</td><td style = \"text-align: right;\">14.0</td><td style = \"text-align: right;\">14.0</td><td style = \"text-align: right;\">8.0</td><td style = \"text-align: right;\">9.96</td><td style = \"text-align: right;\">8.1</td><td style = \"text-align: right;\">8.84</td><td style = \"text-align: right;\">7.04</td></tr><tr><td class = \"rowNumber\" style = \"font-weight: bold; text-align: right;\">7</td><td style = \"text-align: right;\">6.0</td><td style = \"text-align: right;\">6.0</td><td style = \"text-align: right;\">6.0</td><td style = \"text-align: right;\">8.0</td><td style = \"text-align: right;\">7.24</td><td style = \"text-align: right;\">6.13</td><td style = \"text-align: right;\">6.08</td><td style = \"text-align: right;\">5.25</td></tr><tr><td class = \"rowNumber\" style = \"font-weight: bold; text-align: right;\">8</td><td style = \"text-align: right;\">4.0</td><td style = \"text-align: right;\">4.0</td><td style = \"text-align: right;\">4.0</td><td style = \"text-align: right;\">19.0</td><td style = \"text-align: right;\">4.26</td><td style = \"text-align: right;\">3.1</td><td style = \"text-align: right;\">5.39</td><td style = \"text-align: right;\">12.5</td></tr><tr><td class = \"rowNumber\" style = \"font-weight: bold; text-align: right;\">9</td><td style = \"text-align: right;\">12.0</td><td style = \"text-align: right;\">12.0</td><td style = \"text-align: right;\">12.0</td><td style = \"text-align: right;\">8.0</td><td style = \"text-align: right;\">10.84</td><td style = \"text-align: right;\">9.13</td><td style = \"text-align: right;\">8.15</td><td style = \"text-align: right;\">5.56</td></tr><tr><td class = \"rowNumber\" style = \"font-weight: bold; text-align: right;\">10</td><td style = \"text-align: right;\">7.0</td><td style = \"text-align: right;\">7.0</td><td style = \"text-align: right;\">7.0</td><td style = \"text-align: right;\">8.0</td><td style = \"text-align: right;\">4.82</td><td style = \"text-align: right;\">7.26</td><td style = \"text-align: right;\">6.42</td><td style = \"text-align: right;\">7.91</td></tr><tr><td class = \"rowNumber\" style = \"font-weight: bold; text-align: right;\">11</td><td style = \"text-align: right;\">5.0</td><td style = \"text-align: right;\">5.0</td><td style = \"text-align: right;\">5.0</td><td style = \"text-align: right;\">8.0</td><td style = \"text-align: right;\">5.68</td><td style = \"text-align: right;\">4.74</td><td style = \"text-align: right;\">5.73</td><td style = \"text-align: right;\">6.89</td></tr></tbody></table></div>"
      ],
      "text/latex": [
       "\\begin{tabular}{r|cccccccc}\n",
       "\t& x1 & x2 & x3 & x4 & y1 & y2 & y3 & y4\\\\\n",
       "\t\\hline\n",
       "\t& Float64 & Float64 & Float64 & Float64 & Float64 & Float64 & Float64 & Float64\\\\\n",
       "\t\\hline\n",
       "\t1 & 10.0 & 10.0 & 10.0 & 8.0 & 8.04 & 9.14 & 7.46 & 6.58 \\\\\n",
       "\t2 & 8.0 & 8.0 & 8.0 & 8.0 & 6.95 & 8.14 & 6.77 & 5.76 \\\\\n",
       "\t3 & 13.0 & 13.0 & 13.0 & 8.0 & 7.58 & 8.74 & 12.74 & 7.71 \\\\\n",
       "\t4 & 9.0 & 9.0 & 9.0 & 8.0 & 8.81 & 8.77 & 7.11 & 8.84 \\\\\n",
       "\t5 & 11.0 & 11.0 & 11.0 & 8.0 & 8.33 & 9.26 & 7.81 & 8.47 \\\\\n",
       "\t6 & 14.0 & 14.0 & 14.0 & 8.0 & 9.96 & 8.1 & 8.84 & 7.04 \\\\\n",
       "\t7 & 6.0 & 6.0 & 6.0 & 8.0 & 7.24 & 6.13 & 6.08 & 5.25 \\\\\n",
       "\t8 & 4.0 & 4.0 & 4.0 & 19.0 & 4.26 & 3.1 & 5.39 & 12.5 \\\\\n",
       "\t9 & 12.0 & 12.0 & 12.0 & 8.0 & 10.84 & 9.13 & 8.15 & 5.56 \\\\\n",
       "\t10 & 7.0 & 7.0 & 7.0 & 8.0 & 4.82 & 7.26 & 6.42 & 7.91 \\\\\n",
       "\t11 & 5.0 & 5.0 & 5.0 & 8.0 & 5.68 & 4.74 & 5.73 & 6.89 \\\\\n",
       "\\end{tabular}\n"
      ],
      "text/plain": [
       "\u001b[1m11×8 DataFrame\u001b[0m\n",
       "\u001b[1m Row \u001b[0m│\u001b[1m x1      \u001b[0m\u001b[1m x2      \u001b[0m\u001b[1m x3      \u001b[0m\u001b[1m x4      \u001b[0m\u001b[1m y1      \u001b[0m\u001b[1m y2      \u001b[0m\u001b[1m y3      \u001b[0m\u001b[1m y4      \u001b[0m\n",
       "     │\u001b[90m Float64 \u001b[0m\u001b[90m Float64 \u001b[0m\u001b[90m Float64 \u001b[0m\u001b[90m Float64 \u001b[0m\u001b[90m Float64 \u001b[0m\u001b[90m Float64 \u001b[0m\u001b[90m Float64 \u001b[0m\u001b[90m Float64 \u001b[0m\n",
       "─────┼────────────────────────────────────────────────────────────────────────\n",
       "   1 │    10.0     10.0     10.0      8.0     8.04     9.14     7.46     6.58\n",
       "   2 │     8.0      8.0      8.0      8.0     6.95     8.14     6.77     5.76\n",
       "   3 │    13.0     13.0     13.0      8.0     7.58     8.74    12.74     7.71\n",
       "   4 │     9.0      9.0      9.0      8.0     8.81     8.77     7.11     8.84\n",
       "   5 │    11.0     11.0     11.0      8.0     8.33     9.26     7.81     8.47\n",
       "   6 │    14.0     14.0     14.0      8.0     9.96     8.1      8.84     7.04\n",
       "   7 │     6.0      6.0      6.0      8.0     7.24     6.13     6.08     5.25\n",
       "   8 │     4.0      4.0      4.0     19.0     4.26     3.1      5.39    12.5\n",
       "   9 │    12.0     12.0     12.0      8.0    10.84     9.13     8.15     5.56\n",
       "  10 │     7.0      7.0      7.0      8.0     4.82     7.26     6.42     7.91\n",
       "  11 │     5.0      5.0      5.0      8.0     5.68     4.74     5.73     6.89"
      ]
     },
     "metadata": {},
     "output_type": "display_data"
    }
   ],
   "source": [
    "DataFrame(data_dict)"
   ]
  },
  {
   "attachments": {},
   "cell_type": "markdown",
   "metadata": {},
   "source": [
    "## Integrate with R using the RCall package"
   ]
  },
  {
   "cell_type": "code",
   "execution_count": 105,
   "metadata": {},
   "outputs": [
    {
     "name": "stderr",
     "output_type": "stream",
     "text": [
      "\u001b[32m\u001b[1m   Resolving\u001b[22m\u001b[39m package versions...\n"
     ]
    },
    {
     "name": "stderr",
     "output_type": "stream",
     "text": [
      "\u001b[32m\u001b[1m  No Changes\u001b[22m\u001b[39m to `~/anaconda3/envs/julia_env/share/julia/environments/julia_env/Project.toml`\n",
      "\u001b[32m\u001b[1m  No Changes\u001b[22m\u001b[39m to `~/anaconda3/envs/julia_env/share/julia/environments/julia_env/Manifest.toml`\n"
     ]
    }
   ],
   "source": [
    "Pkg.add(\"RCall\")"
   ]
  },
  {
   "cell_type": "code",
   "execution_count": 106,
   "metadata": {},
   "outputs": [],
   "source": [
    "using RCall"
   ]
  },
  {
   "cell_type": "code",
   "execution_count": 107,
   "metadata": {},
   "outputs": [
    {
     "data": {
      "text/plain": [
       "RObject{VecSxp}\n",
       "  x y z\n",
       "1 1 2 3\n",
       "2 2 3 4\n",
       "3 3 4 5\n"
      ]
     },
     "metadata": {},
     "output_type": "display_data"
    }
   ],
   "source": [
    "r_df = R\"data.frame(x=1:3, y=2:4, z=3:5)\""
   ]
  },
  {
   "attachments": {},
   "cell_type": "markdown",
   "metadata": {},
   "source": [
    "Now, we convert this R object to a Julia DataFrame"
   ]
  },
  {
   "cell_type": "code",
   "execution_count": 108,
   "metadata": {},
   "outputs": [
    {
     "data": {
      "text/html": [
       "<div><div style = \"float: left;\"><span>3×3 DataFrame</span></div><div style = \"clear: both;\"></div></div><div class = \"data-frame\" style = \"overflow-x: scroll;\"><table class = \"data-frame\" style = \"margin-bottom: 6px;\"><thead><tr class = \"header\"><th class = \"rowNumber\" style = \"font-weight: bold; text-align: right;\">Row</th><th style = \"text-align: left;\">x</th><th style = \"text-align: left;\">y</th><th style = \"text-align: left;\">z</th></tr><tr class = \"subheader headerLastRow\"><th class = \"rowNumber\" style = \"font-weight: bold; text-align: right;\"></th><th title = \"Int64\" style = \"text-align: left;\">Int64</th><th title = \"Int64\" style = \"text-align: left;\">Int64</th><th title = \"Int64\" style = \"text-align: left;\">Int64</th></tr></thead><tbody><tr><td class = \"rowNumber\" style = \"font-weight: bold; text-align: right;\">1</td><td style = \"text-align: right;\">1</td><td style = \"text-align: right;\">2</td><td style = \"text-align: right;\">3</td></tr><tr><td class = \"rowNumber\" style = \"font-weight: bold; text-align: right;\">2</td><td style = \"text-align: right;\">2</td><td style = \"text-align: right;\">3</td><td style = \"text-align: right;\">4</td></tr><tr><td class = \"rowNumber\" style = \"font-weight: bold; text-align: right;\">3</td><td style = \"text-align: right;\">3</td><td style = \"text-align: right;\">4</td><td style = \"text-align: right;\">5</td></tr></tbody></table></div>"
      ],
      "text/latex": [
       "\\begin{tabular}{r|ccc}\n",
       "\t& x & y & z\\\\\n",
       "\t\\hline\n",
       "\t& Int64 & Int64 & Int64\\\\\n",
       "\t\\hline\n",
       "\t1 & 1 & 2 & 3 \\\\\n",
       "\t2 & 2 & 3 & 4 \\\\\n",
       "\t3 & 3 & 4 & 5 \\\\\n",
       "\\end{tabular}\n"
      ],
      "text/plain": [
       "\u001b[1m3×3 DataFrame\u001b[0m\n",
       "\u001b[1m Row \u001b[0m│\u001b[1m x     \u001b[0m\u001b[1m y     \u001b[0m\u001b[1m z     \u001b[0m\n",
       "     │\u001b[90m Int64 \u001b[0m\u001b[90m Int64 \u001b[0m\u001b[90m Int64 \u001b[0m\n",
       "─────┼─────────────────────\n",
       "   1 │     1      2      3\n",
       "   2 │     2      3      4\n",
       "   3 │     3      4      5"
      ]
     },
     "metadata": {},
     "output_type": "display_data"
    }
   ],
   "source": [
    "julia_df = rcopy(r_df)"
   ]
  },
  {
   "attachments": {},
   "cell_type": "markdown",
   "metadata": {},
   "source": [
    "## Plotting a correlation matrix after calculating correlation from a dataframe"
   ]
  },
  {
   "cell_type": "code",
   "execution_count": 109,
   "metadata": {},
   "outputs": [
    {
     "data": {
      "text/html": [
       "<div><div style = \"float: left;\"><span>11×8 DataFrame</span></div><div style = \"clear: both;\"></div></div><div class = \"data-frame\" style = \"overflow-x: scroll;\"><table class = \"data-frame\" style = \"margin-bottom: 6px;\"><thead><tr class = \"header\"><th class = \"rowNumber\" style = \"font-weight: bold; text-align: right;\">Row</th><th style = \"text-align: left;\">x1</th><th style = \"text-align: left;\">x2</th><th style = \"text-align: left;\">x3</th><th style = \"text-align: left;\">x4</th><th style = \"text-align: left;\">x5</th><th style = \"text-align: left;\">x6</th><th style = \"text-align: left;\">x7</th><th style = \"text-align: left;\">x8</th></tr><tr class = \"subheader headerLastRow\"><th class = \"rowNumber\" style = \"font-weight: bold; text-align: right;\"></th><th title = \"Float64\" style = \"text-align: left;\">Float64</th><th title = \"Float64\" style = \"text-align: left;\">Float64</th><th title = \"Float64\" style = \"text-align: left;\">Float64</th><th title = \"Float64\" style = \"text-align: left;\">Float64</th><th title = \"Float64\" style = \"text-align: left;\">Float64</th><th title = \"Float64\" style = \"text-align: left;\">Float64</th><th title = \"Float64\" style = \"text-align: left;\">Float64</th><th title = \"Float64\" style = \"text-align: left;\">Float64</th></tr></thead><tbody><tr><td class = \"rowNumber\" style = \"font-weight: bold; text-align: right;\">1</td><td style = \"text-align: right;\">10.0</td><td style = \"text-align: right;\">8.04</td><td style = \"text-align: right;\">10.0</td><td style = \"text-align: right;\">9.14</td><td style = \"text-align: right;\">10.0</td><td style = \"text-align: right;\">7.46</td><td style = \"text-align: right;\">8.0</td><td style = \"text-align: right;\">6.58</td></tr><tr><td class = \"rowNumber\" style = \"font-weight: bold; text-align: right;\">2</td><td style = \"text-align: right;\">8.0</td><td style = \"text-align: right;\">6.95</td><td style = \"text-align: right;\">8.0</td><td style = \"text-align: right;\">8.14</td><td style = \"text-align: right;\">8.0</td><td style = \"text-align: right;\">6.77</td><td style = \"text-align: right;\">8.0</td><td style = \"text-align: right;\">5.76</td></tr><tr><td class = \"rowNumber\" style = \"font-weight: bold; text-align: right;\">3</td><td style = \"text-align: right;\">13.0</td><td style = \"text-align: right;\">7.58</td><td style = \"text-align: right;\">13.0</td><td style = \"text-align: right;\">8.74</td><td style = \"text-align: right;\">13.0</td><td style = \"text-align: right;\">12.74</td><td style = \"text-align: right;\">8.0</td><td style = \"text-align: right;\">7.71</td></tr><tr><td class = \"rowNumber\" style = \"font-weight: bold; text-align: right;\">4</td><td style = \"text-align: right;\">9.0</td><td style = \"text-align: right;\">8.81</td><td style = \"text-align: right;\">9.0</td><td style = \"text-align: right;\">8.77</td><td style = \"text-align: right;\">9.0</td><td style = \"text-align: right;\">7.11</td><td style = \"text-align: right;\">8.0</td><td style = \"text-align: right;\">8.84</td></tr><tr><td class = \"rowNumber\" style = \"font-weight: bold; text-align: right;\">5</td><td style = \"text-align: right;\">11.0</td><td style = \"text-align: right;\">8.33</td><td style = \"text-align: right;\">11.0</td><td style = \"text-align: right;\">9.26</td><td style = \"text-align: right;\">11.0</td><td style = \"text-align: right;\">7.81</td><td style = \"text-align: right;\">8.0</td><td style = \"text-align: right;\">8.47</td></tr><tr><td class = \"rowNumber\" style = \"font-weight: bold; text-align: right;\">6</td><td style = \"text-align: right;\">14.0</td><td style = \"text-align: right;\">9.96</td><td style = \"text-align: right;\">14.0</td><td style = \"text-align: right;\">8.1</td><td style = \"text-align: right;\">14.0</td><td style = \"text-align: right;\">8.84</td><td style = \"text-align: right;\">8.0</td><td style = \"text-align: right;\">7.04</td></tr><tr><td class = \"rowNumber\" style = \"font-weight: bold; text-align: right;\">7</td><td style = \"text-align: right;\">6.0</td><td style = \"text-align: right;\">7.24</td><td style = \"text-align: right;\">6.0</td><td style = \"text-align: right;\">6.13</td><td style = \"text-align: right;\">6.0</td><td style = \"text-align: right;\">6.08</td><td style = \"text-align: right;\">8.0</td><td style = \"text-align: right;\">5.25</td></tr><tr><td class = \"rowNumber\" style = \"font-weight: bold; text-align: right;\">8</td><td style = \"text-align: right;\">4.0</td><td style = \"text-align: right;\">4.26</td><td style = \"text-align: right;\">4.0</td><td style = \"text-align: right;\">3.1</td><td style = \"text-align: right;\">4.0</td><td style = \"text-align: right;\">5.39</td><td style = \"text-align: right;\">19.0</td><td style = \"text-align: right;\">12.5</td></tr><tr><td class = \"rowNumber\" style = \"font-weight: bold; text-align: right;\">9</td><td style = \"text-align: right;\">12.0</td><td style = \"text-align: right;\">10.84</td><td style = \"text-align: right;\">12.0</td><td style = \"text-align: right;\">9.13</td><td style = \"text-align: right;\">12.0</td><td style = \"text-align: right;\">8.15</td><td style = \"text-align: right;\">8.0</td><td style = \"text-align: right;\">5.56</td></tr><tr><td class = \"rowNumber\" style = \"font-weight: bold; text-align: right;\">10</td><td style = \"text-align: right;\">7.0</td><td style = \"text-align: right;\">4.82</td><td style = \"text-align: right;\">7.0</td><td style = \"text-align: right;\">7.26</td><td style = \"text-align: right;\">7.0</td><td style = \"text-align: right;\">6.42</td><td style = \"text-align: right;\">8.0</td><td style = \"text-align: right;\">7.91</td></tr><tr><td class = \"rowNumber\" style = \"font-weight: bold; text-align: right;\">11</td><td style = \"text-align: right;\">5.0</td><td style = \"text-align: right;\">5.68</td><td style = \"text-align: right;\">5.0</td><td style = \"text-align: right;\">4.74</td><td style = \"text-align: right;\">5.0</td><td style = \"text-align: right;\">5.73</td><td style = \"text-align: right;\">8.0</td><td style = \"text-align: right;\">6.89</td></tr></tbody></table></div>"
      ],
      "text/latex": [
       "\\begin{tabular}{r|cccccccc}\n",
       "\t& x1 & x2 & x3 & x4 & x5 & x6 & x7 & x8\\\\\n",
       "\t\\hline\n",
       "\t& Float64 & Float64 & Float64 & Float64 & Float64 & Float64 & Float64 & Float64\\\\\n",
       "\t\\hline\n",
       "\t1 & 10.0 & 8.04 & 10.0 & 9.14 & 10.0 & 7.46 & 8.0 & 6.58 \\\\\n",
       "\t2 & 8.0 & 6.95 & 8.0 & 8.14 & 8.0 & 6.77 & 8.0 & 5.76 \\\\\n",
       "\t3 & 13.0 & 7.58 & 13.0 & 8.74 & 13.0 & 12.74 & 8.0 & 7.71 \\\\\n",
       "\t4 & 9.0 & 8.81 & 9.0 & 8.77 & 9.0 & 7.11 & 8.0 & 8.84 \\\\\n",
       "\t5 & 11.0 & 8.33 & 11.0 & 9.26 & 11.0 & 7.81 & 8.0 & 8.47 \\\\\n",
       "\t6 & 14.0 & 9.96 & 14.0 & 8.1 & 14.0 & 8.84 & 8.0 & 7.04 \\\\\n",
       "\t7 & 6.0 & 7.24 & 6.0 & 6.13 & 6.0 & 6.08 & 8.0 & 5.25 \\\\\n",
       "\t8 & 4.0 & 4.26 & 4.0 & 3.1 & 4.0 & 5.39 & 19.0 & 12.5 \\\\\n",
       "\t9 & 12.0 & 10.84 & 12.0 & 9.13 & 12.0 & 8.15 & 8.0 & 5.56 \\\\\n",
       "\t10 & 7.0 & 4.82 & 7.0 & 7.26 & 7.0 & 6.42 & 8.0 & 7.91 \\\\\n",
       "\t11 & 5.0 & 5.68 & 5.0 & 4.74 & 5.0 & 5.73 & 8.0 & 6.89 \\\\\n",
       "\\end{tabular}\n"
      ],
      "text/plain": [
       "\u001b[1m11×8 DataFrame\u001b[0m\n",
       "\u001b[1m Row \u001b[0m│\u001b[1m x1      \u001b[0m\u001b[1m x2      \u001b[0m\u001b[1m x3      \u001b[0m\u001b[1m x4      \u001b[0m\u001b[1m x5      \u001b[0m\u001b[1m x6      \u001b[0m\u001b[1m x7      \u001b[0m\u001b[1m x8      \u001b[0m\n",
       "     │\u001b[90m Float64 \u001b[0m\u001b[90m Float64 \u001b[0m\u001b[90m Float64 \u001b[0m\u001b[90m Float64 \u001b[0m\u001b[90m Float64 \u001b[0m\u001b[90m Float64 \u001b[0m\u001b[90m Float64 \u001b[0m\u001b[90m Float64 \u001b[0m\n",
       "─────┼────────────────────────────────────────────────────────────────────────\n",
       "   1 │    10.0     8.04     10.0     9.14     10.0     7.46      8.0     6.58\n",
       "   2 │     8.0     6.95      8.0     8.14      8.0     6.77      8.0     5.76\n",
       "   3 │    13.0     7.58     13.0     8.74     13.0    12.74      8.0     7.71\n",
       "   4 │     9.0     8.81      9.0     8.77      9.0     7.11      8.0     8.84\n",
       "   5 │    11.0     8.33     11.0     9.26     11.0     7.81      8.0     8.47\n",
       "   6 │    14.0     9.96     14.0     8.1      14.0     8.84      8.0     7.04\n",
       "   7 │     6.0     7.24      6.0     6.13      6.0     6.08      8.0     5.25\n",
       "   8 │     4.0     4.26      4.0     3.1       4.0     5.39     19.0    12.5\n",
       "   9 │    12.0    10.84     12.0     9.13     12.0     8.15      8.0     5.56\n",
       "  10 │     7.0     4.82      7.0     7.26      7.0     6.42      8.0     7.91\n",
       "  11 │     5.0     5.68      5.0     4.74      5.0     5.73      8.0     6.89"
      ]
     },
     "metadata": {},
     "output_type": "display_data"
    }
   ],
   "source": [
    "aq_df"
   ]
  },
  {
   "cell_type": "code",
   "execution_count": 110,
   "metadata": {},
   "outputs": [],
   "source": [
    "using Statistics"
   ]
  },
  {
   "cell_type": "code",
   "execution_count": 111,
   "metadata": {},
   "outputs": [
    {
     "name": "stderr",
     "output_type": "stream",
     "text": [
      "\u001b[32m\u001b[1m   Resolving\u001b[22m\u001b[39m package versions...\n"
     ]
    },
    {
     "name": "stderr",
     "output_type": "stream",
     "text": [
      "\u001b[32m\u001b[1m  No Changes\u001b[22m\u001b[39m to `~/anaconda3/envs/julia_env/share/julia/environments/julia_env/Project.toml`\n",
      "\u001b[32m\u001b[1m  No Changes\u001b[22m\u001b[39m to `~/anaconda3/envs/julia_env/share/julia/environments/julia_env/Manifest.toml`\n"
     ]
    }
   ],
   "source": [
    "Pkg.add(\"StatsBase\")\n"
   ]
  },
  {
   "cell_type": "code",
   "execution_count": 112,
   "metadata": {},
   "outputs": [
    {
     "name": "stderr",
     "output_type": "stream",
     "text": [
      "WARNING: using StatsBase.sum in module Main conflicts with an existing identifier.\n"
     ]
    }
   ],
   "source": [
    "using StatsBase # This is required for pairwise"
   ]
  },
  {
   "cell_type": "code",
   "execution_count": 113,
   "metadata": {},
   "outputs": [
    {
     "data": {
      "text/plain": [
       "8×8 Matrix{Float64}:\n",
       "  1.0        0.816421   1.0       …   0.816287  -0.5       -0.314047\n",
       "  0.816421   1.0        0.816421      0.468717  -0.529093  -0.489116\n",
       "  1.0        0.816421   1.0           0.816287  -0.5       -0.314047\n",
       "  0.816237   0.750005   0.816237      0.587919  -0.718437  -0.478095\n",
       "  1.0        0.816421   1.0           0.816287  -0.5       -0.314047\n",
       "  0.816287   0.468717   0.816287  …   1.0       -0.344661  -0.155472\n",
       " -0.5       -0.529093  -0.5          -0.344661   1.0        0.816521\n",
       " -0.314047  -0.489116  -0.314047     -0.155472   0.816521   1.0"
      ]
     },
     "metadata": {},
     "output_type": "display_data"
    }
   ],
   "source": [
    "cor_matrix = pairwise(cor, eachcol(aq_df))"
   ]
  },
  {
   "cell_type": "code",
   "execution_count": 114,
   "metadata": {},
   "outputs": [
    {
     "name": "stderr",
     "output_type": "stream",
     "text": [
      "\u001b[32m\u001b[1m   Resolving\u001b[22m\u001b[39m package versions...\n"
     ]
    },
    {
     "name": "stderr",
     "output_type": "stream",
     "text": [
      "\u001b[32m\u001b[1m  No Changes\u001b[22m\u001b[39m to `~/anaconda3/envs/julia_env/share/julia/environments/julia_env/Project.toml`\n",
      "\u001b[32m\u001b[1m  No Changes\u001b[22m\u001b[39m to `~/anaconda3/envs/julia_env/share/julia/environments/julia_env/Manifest.toml`\n"
     ]
    }
   ],
   "source": [
    "# Now we plot the results\n",
    "Pkg.add(\"Plots\")"
   ]
  },
  {
   "cell_type": "code",
   "execution_count": 115,
   "metadata": {},
   "outputs": [],
   "source": [
    "using(Plots)"
   ]
  },
  {
   "cell_type": "code",
   "execution_count": 116,
   "metadata": {},
   "outputs": [
    {
     "data": {
      "image/png": "[encoded data removed]",
      "image/svg+xml": [
       "<?xml version=\"1.0\" encoding=\"utf-8\"?>\n",
       "<svg xmlns=\"http://www.w3.org/2000/svg\" xmlns:xlink=\"http://www.w3.org/1999/xlink\" width=\"400\" height=\"400\" viewBox=\"0 0 1600 1600\">\n",
       "<defs>\n",
       "  <clipPath id=\"clip330\">\n",
       "    <rect x=\"0\" y=\"0\" width=\"1600\" height=\"1600\"/>\n",
       "  </clipPath>\n",
       "</defs>\n",
       "<path clip-path=\"url(#clip330)\" d=\"M0 1600 L1600 1600 L1600 0 L0 0  Z\" fill=\"#ffffff\" fill-rule=\"evenodd\" fill-opacity=\"1\"/>\n",
       "<defs>\n",
       "  <clipPath id=\"clip331\">\n",
       "    <rect x=\"320\" y=\"160\" width=\"1121\" height=\"1121\"/>\n",
       "  </clipPath>\n",
       "</defs>\n",
       "<path clip-path=\"url(#clip330)\" d=\"M133.182 1385.31 L1329.76 1385.31 L1329.76 131.097 L133.182 131.097  Z\" fill=\"#ffffff\" fill-rule=\"evenodd\" fill-opacity=\"1\"/>\n",
       "<defs>\n",
       "  <clipPath id=\"clip332\">\n",
       "    <rect x=\"133\" y=\"131\" width=\"1198\" height=\"1255\"/>\n",
       "  </clipPath>\n",
       "</defs>\n",
       "<polyline clip-path=\"url(#clip332)\" style=\"stroke:#000000; stroke-linecap:round; stroke-linejoin:round; stroke-width:2; stroke-opacity:0.1; fill:none\" points=\"207.968,1385.31 207.968,131.097 \"/>\n",
       "<polyline clip-path=\"url(#clip332)\" style=\"stroke:#000000; stroke-linecap:round; stroke-linejoin:round; stroke-width:2; stroke-opacity:0.1; fill:none\" points=\"357.541,1385.31 357.541,131.097 \"/>\n",
       "<polyline clip-path=\"url(#clip332)\" style=\"stroke:#000000; stroke-linecap:round; stroke-linejoin:round; stroke-width:2; stroke-opacity:0.1; fill:none\" points=\"507.114,1385.31 507.114,131.097 \"/>\n",
       "<polyline clip-path=\"url(#clip332)\" style=\"stroke:#000000; stroke-linecap:round; stroke-linejoin:round; stroke-width:2; stroke-opacity:0.1; fill:none\" points=\"656.686,1385.31 656.686,131.097 \"/>\n",
       "<polyline clip-path=\"url(#clip332)\" style=\"stroke:#000000; stroke-linecap:round; stroke-linejoin:round; stroke-width:2; stroke-opacity:0.1; fill:none\" points=\"806.259,1385.31 806.259,131.097 \"/>\n",
       "<polyline clip-path=\"url(#clip332)\" style=\"stroke:#000000; stroke-linecap:round; stroke-linejoin:round; stroke-width:2; stroke-opacity:0.1; fill:none\" points=\"955.832,1385.31 955.832,131.097 \"/>\n",
       "<polyline clip-path=\"url(#clip332)\" style=\"stroke:#000000; stroke-linecap:round; stroke-linejoin:round; stroke-width:2; stroke-opacity:0.1; fill:none\" points=\"1105.4,1385.31 1105.4,131.097 \"/>\n",
       "<polyline clip-path=\"url(#clip332)\" style=\"stroke:#000000; stroke-linecap:round; stroke-linejoin:round; stroke-width:2; stroke-opacity:0.1; fill:none\" points=\"1254.98,1385.31 1254.98,131.097 \"/>\n",
       "<polyline clip-path=\"url(#clip330)\" style=\"stroke:#000000; stroke-linecap:round; stroke-linejoin:round; stroke-width:4; stroke-opacity:1; fill:none\" points=\"133.182,1385.31 1329.76,1385.31 \"/>\n",
       "<polyline clip-path=\"url(#clip330)\" style=\"stroke:#000000; stroke-linecap:round; stroke-linejoin:round; stroke-width:4; stroke-opacity:1; fill:none\" points=\"207.968,1385.31 207.968,1368.65 \"/>\n",
       "<polyline clip-path=\"url(#clip330)\" style=\"stroke:#000000; stroke-linecap:round; stroke-linejoin:round; stroke-width:4; stroke-opacity:1; fill:none\" points=\"357.541,1385.31 357.541,1368.65 \"/>\n",
       "<polyline clip-path=\"url(#clip330)\" style=\"stroke:#000000; stroke-linecap:round; stroke-linejoin:round; stroke-width:4; stroke-opacity:1; fill:none\" points=\"507.114,1385.31 507.114,1368.65 \"/>\n",
       "<polyline clip-path=\"url(#clip330)\" style=\"stroke:#000000; stroke-linecap:round; stroke-linejoin:round; stroke-width:4; stroke-opacity:1; fill:none\" points=\"656.686,1385.31 656.686,1368.65 \"/>\n",
       "<polyline clip-path=\"url(#clip330)\" style=\"stroke:#000000; stroke-linecap:round; stroke-linejoin:round; stroke-width:4; stroke-opacity:1; fill:none\" points=\"806.259,1385.31 806.259,1368.65 \"/>\n",
       "<polyline clip-path=\"url(#clip330)\" style=\"stroke:#000000; stroke-linecap:round; stroke-linejoin:round; stroke-width:4; stroke-opacity:1; fill:none\" points=\"955.832,1385.31 955.832,1368.65 \"/>\n",
       "<polyline clip-path=\"url(#clip330)\" style=\"stroke:#000000; stroke-linecap:round; stroke-linejoin:round; stroke-width:4; stroke-opacity:1; fill:none\" points=\"1105.4,1385.31 1105.4,1368.65 \"/>\n",
       "<polyline clip-path=\"url(#clip330)\" style=\"stroke:#000000; stroke-linecap:round; stroke-linejoin:round; stroke-width:4; stroke-opacity:1; fill:none\" points=\"1254.98,1385.31 1254.98,1368.65 \"/>\n",
       "<path clip-path=\"url(#clip330)\" d=\"M206.382 1415.39 L197.007 1428 L206.869 1441.31 L201.845 1441.31 L194.299 1431.13 L186.753 1441.31 L181.73 1441.31 L191.799 1427.75 L182.586 1415.39 L187.609 1415.39 L194.484 1424.62 L201.359 1415.39 L206.382 1415.39 Z\" fill=\"#000000\" fill-rule=\"nonzero\" fill-opacity=\"1\" /><path clip-path=\"url(#clip330)\" d=\"M214.299 1437.38 L221.938 1437.38 L221.938 1411.01 L213.628 1412.68 L213.628 1408.42 L221.892 1406.75 L226.567 1406.75 L226.567 1437.38 L234.206 1437.38 L234.206 1441.31 L214.299 1441.31 L214.299 1437.38 Z\" fill=\"#000000\" fill-rule=\"nonzero\" fill-opacity=\"1\" /><path clip-path=\"url(#clip330)\" d=\"M356.14 1415.39 L346.765 1428 L356.626 1441.31 L351.603 1441.31 L344.057 1431.13 L336.511 1441.31 L331.488 1441.31 L341.557 1427.75 L332.344 1415.39 L337.367 1415.39 L344.242 1424.62 L351.117 1415.39 L356.14 1415.39 Z\" fill=\"#000000\" fill-rule=\"nonzero\" fill-opacity=\"1\" /><path clip-path=\"url(#clip330)\" d=\"M367.275 1437.38 L383.594 1437.38 L383.594 1441.31 L361.65 1441.31 L361.65 1437.38 Q364.312 1434.62 368.895 1430 Q373.501 1425.34 374.682 1424 Q376.927 1421.48 377.807 1419.74 Q378.71 1417.98 378.71 1416.29 Q378.71 1413.54 376.765 1411.8 Q374.844 1410.06 371.742 1410.06 Q369.543 1410.06 367.089 1410.83 Q364.659 1411.59 361.881 1413.14 L361.881 1408.42 Q364.705 1407.29 367.159 1406.71 Q369.612 1406.13 371.65 1406.13 Q377.02 1406.13 380.214 1408.81 Q383.409 1411.5 383.409 1415.99 Q383.409 1418.12 382.599 1420.04 Q381.812 1421.94 379.705 1424.53 Q379.126 1425.2 376.024 1428.42 Q372.923 1431.62 367.275 1437.38 Z\" fill=\"#000000\" fill-rule=\"nonzero\" fill-opacity=\"1\" /><path clip-path=\"url(#clip330)\" d=\"M505.239 1415.39 L495.864 1428 L505.725 1441.31 L500.702 1441.31 L493.155 1431.13 L485.609 1441.31 L480.586 1441.31 L490.655 1427.75 L481.442 1415.39 L486.466 1415.39 L493.34 1424.62 L500.215 1415.39 L505.239 1415.39 Z\" fill=\"#000000\" fill-rule=\"nonzero\" fill-opacity=\"1\" /><path clip-path=\"url(#clip330)\" d=\"M526.512 1422.68 Q529.868 1423.4 531.743 1425.67 Q533.641 1427.94 533.641 1431.27 Q533.641 1436.38 530.123 1439.18 Q526.604 1441.99 520.123 1441.99 Q517.947 1441.99 515.632 1441.55 Q513.34 1441.13 510.887 1440.27 L510.887 1435.76 Q512.831 1436.89 515.146 1437.47 Q517.461 1438.05 519.984 1438.05 Q524.382 1438.05 526.674 1436.31 Q528.988 1434.58 528.988 1431.27 Q528.988 1428.21 526.836 1426.5 Q524.706 1424.76 520.887 1424.76 L516.859 1424.76 L516.859 1420.92 L521.072 1420.92 Q524.521 1420.92 526.35 1419.56 Q528.178 1418.17 528.178 1415.57 Q528.178 1412.91 526.28 1411.5 Q524.405 1410.06 520.887 1410.06 Q518.965 1410.06 516.766 1410.48 Q514.567 1410.9 511.928 1411.78 L511.928 1407.61 Q514.59 1406.87 516.905 1406.5 Q519.243 1406.13 521.303 1406.13 Q526.627 1406.13 529.729 1408.56 Q532.831 1410.97 532.831 1415.09 Q532.831 1417.96 531.188 1419.95 Q529.544 1421.92 526.512 1422.68 Z\" fill=\"#000000\" fill-rule=\"nonzero\" fill-opacity=\"1\" /><path clip-path=\"url(#clip330)\" d=\"M654.244 1415.39 L644.869 1428 L654.73 1441.31 L649.707 1441.31 L642.161 1431.13 L634.615 1441.31 L629.592 1441.31 L639.661 1427.75 L630.448 1415.39 L635.471 1415.39 L642.346 1424.62 L649.221 1415.39 L654.244 1415.39 Z\" fill=\"#000000\" fill-rule=\"nonzero\" fill-opacity=\"1\" /><path clip-path=\"url(#clip330)\" d=\"M674.198 1410.83 L662.392 1429.28 L674.198 1429.28 L674.198 1410.83 M672.971 1406.75 L678.851 1406.75 L678.851 1429.28 L683.781 1429.28 L683.781 1433.17 L678.851 1433.17 L678.851 1441.31 L674.198 1441.31 L674.198 1433.17 L658.596 1433.17 L658.596 1428.65 L672.971 1406.75 Z\" fill=\"#000000\" fill-rule=\"nonzero\" fill-opacity=\"1\" /><path clip-path=\"url(#clip330)\" d=\"M804.558 1415.39 L795.183 1428 L805.044 1441.31 L800.021 1441.31 L792.474 1431.13 L784.928 1441.31 L779.905 1441.31 L789.974 1427.75 L780.762 1415.39 L785.785 1415.39 L792.66 1424.62 L799.535 1415.39 L804.558 1415.39 Z\" fill=\"#000000\" fill-rule=\"nonzero\" fill-opacity=\"1\" /><path clip-path=\"url(#clip330)\" d=\"M811.71 1406.75 L830.067 1406.75 L830.067 1410.69 L815.993 1410.69 L815.993 1419.16 Q817.011 1418.81 818.03 1418.65 Q819.048 1418.47 820.067 1418.47 Q825.854 1418.47 829.234 1421.64 Q832.613 1424.81 832.613 1430.23 Q832.613 1435.81 829.141 1438.91 Q825.669 1441.99 819.349 1441.99 Q817.173 1441.99 814.905 1441.62 Q812.66 1441.25 810.252 1440.5 L810.252 1435.81 Q812.335 1436.94 814.558 1437.5 Q816.78 1438.05 819.257 1438.05 Q823.261 1438.05 825.599 1435.94 Q827.937 1433.84 827.937 1430.23 Q827.937 1426.62 825.599 1424.51 Q823.261 1422.4 819.257 1422.4 Q817.382 1422.4 815.507 1422.82 Q813.655 1423.24 811.71 1424.12 L811.71 1406.75 Z\" fill=\"#000000\" fill-rule=\"nonzero\" fill-opacity=\"1\" /><path clip-path=\"url(#clip330)\" d=\"M953.552 1415.39 L944.177 1428 L954.038 1441.31 L949.015 1441.31 L941.469 1431.13 L933.922 1441.31 L928.899 1441.31 L938.969 1427.75 L929.756 1415.39 L934.779 1415.39 L941.654 1424.62 L948.529 1415.39 L953.552 1415.39 Z\" fill=\"#000000\" fill-rule=\"nonzero\" fill-opacity=\"1\" /><path clip-path=\"url(#clip330)\" d=\"M971.237 1422.17 Q968.089 1422.17 966.237 1424.32 Q964.408 1426.48 964.408 1430.23 Q964.408 1433.95 966.237 1436.13 Q968.089 1438.28 971.237 1438.28 Q974.385 1438.28 976.214 1436.13 Q978.066 1433.95 978.066 1430.23 Q978.066 1426.48 976.214 1424.32 Q974.385 1422.17 971.237 1422.17 M980.519 1407.52 L980.519 1411.78 Q978.76 1410.94 976.954 1410.5 Q975.172 1410.06 973.413 1410.06 Q968.783 1410.06 966.329 1413.19 Q963.899 1416.31 963.552 1422.63 Q964.917 1420.62 966.978 1419.56 Q969.038 1418.47 971.515 1418.47 Q976.723 1418.47 979.732 1421.64 Q982.765 1424.79 982.765 1430.23 Q982.765 1435.55 979.616 1438.77 Q976.468 1441.99 971.237 1441.99 Q965.242 1441.99 962.07 1437.4 Q958.899 1432.8 958.899 1424.07 Q958.899 1415.87 962.788 1411.01 Q966.677 1406.13 973.228 1406.13 Q974.987 1406.13 976.769 1406.48 Q978.575 1406.82 980.519 1407.52 Z\" fill=\"#000000\" fill-rule=\"nonzero\" fill-opacity=\"1\" /><path clip-path=\"url(#clip330)\" d=\"M1103.66 1415.39 L1094.28 1428 L1104.14 1441.31 L1099.12 1441.31 L1091.57 1431.13 L1084.03 1441.31 L1079 1441.31 L1089.07 1427.75 L1079.86 1415.39 L1084.88 1415.39 L1091.76 1424.62 L1098.63 1415.39 L1103.66 1415.39 Z\" fill=\"#000000\" fill-rule=\"nonzero\" fill-opacity=\"1\" /><path clip-path=\"url(#clip330)\" d=\"M1109.58 1406.75 L1131.8 1406.75 L1131.8 1408.75 L1119.26 1441.31 L1114.37 1441.31 L1126.18 1410.69 L1109.58 1410.69 L1109.58 1406.75 Z\" fill=\"#000000\" fill-rule=\"nonzero\" fill-opacity=\"1\" /><path clip-path=\"url(#clip330)\" d=\"M1252.82 1415.39 L1243.45 1428 L1253.31 1441.31 L1248.29 1441.31 L1240.74 1431.13 L1233.2 1441.31 L1228.17 1441.31 L1238.24 1427.75 L1229.03 1415.39 L1234.05 1415.39 L1240.93 1424.62 L1247.8 1415.39 L1252.82 1415.39 Z\" fill=\"#000000\" fill-rule=\"nonzero\" fill-opacity=\"1\" /><path clip-path=\"url(#clip330)\" d=\"M1269.93 1424.9 Q1266.6 1424.9 1264.68 1426.69 Q1262.78 1428.47 1262.78 1431.59 Q1262.78 1434.72 1264.68 1436.5 Q1266.6 1438.28 1269.93 1438.28 Q1273.26 1438.28 1275.19 1436.5 Q1277.11 1434.69 1277.11 1431.59 Q1277.11 1428.47 1275.19 1426.69 Q1273.29 1424.9 1269.93 1424.9 M1265.26 1422.91 Q1262.25 1422.17 1260.56 1420.11 Q1258.89 1418.05 1258.89 1415.09 Q1258.89 1410.94 1261.83 1408.54 Q1264.79 1406.13 1269.93 1406.13 Q1275.09 1406.13 1278.03 1408.54 Q1280.97 1410.94 1280.97 1415.09 Q1280.97 1418.05 1279.28 1420.11 Q1277.62 1422.17 1274.63 1422.91 Q1278.01 1423.7 1279.88 1425.99 Q1281.78 1428.28 1281.78 1431.59 Q1281.78 1436.62 1278.7 1439.3 Q1275.65 1441.99 1269.93 1441.99 Q1264.21 1441.99 1261.13 1439.3 Q1258.08 1436.62 1258.08 1431.59 Q1258.08 1428.28 1259.98 1425.99 Q1261.88 1423.7 1265.26 1422.91 M1263.54 1415.53 Q1263.54 1418.21 1265.21 1419.72 Q1266.9 1421.22 1269.93 1421.22 Q1272.94 1421.22 1274.63 1419.72 Q1276.34 1418.21 1276.34 1415.53 Q1276.34 1412.84 1274.63 1411.34 Q1272.94 1409.83 1269.93 1409.83 Q1266.9 1409.83 1265.21 1411.34 Q1263.54 1412.84 1263.54 1415.53 Z\" fill=\"#000000\" fill-rule=\"nonzero\" fill-opacity=\"1\" /><polyline clip-path=\"url(#clip332)\" style=\"stroke:#000000; stroke-linecap:round; stroke-linejoin:round; stroke-width:2; stroke-opacity:0.1; fill:none\" points=\"133.182,1281.71 1329.76,1281.71 \"/>\n",
       "<polyline clip-path=\"url(#clip332)\" style=\"stroke:#000000; stroke-linecap:round; stroke-linejoin:round; stroke-width:2; stroke-opacity:0.1; fill:none\" points=\"133.182,1132.14 1329.76,1132.14 \"/>\n",
       "<polyline clip-path=\"url(#clip332)\" style=\"stroke:#000000; stroke-linecap:round; stroke-linejoin:round; stroke-width:2; stroke-opacity:0.1; fill:none\" points=\"133.182,982.565 1329.76,982.565 \"/>\n",
       "<polyline clip-path=\"url(#clip332)\" style=\"stroke:#000000; stroke-linecap:round; stroke-linejoin:round; stroke-width:2; stroke-opacity:0.1; fill:none\" points=\"133.182,832.992 1329.76,832.992 \"/>\n",
       "<polyline clip-path=\"url(#clip332)\" style=\"stroke:#000000; stroke-linecap:round; stroke-linejoin:round; stroke-width:2; stroke-opacity:0.1; fill:none\" points=\"133.182,683.42 1329.76,683.42 \"/>\n",
       "<polyline clip-path=\"url(#clip332)\" style=\"stroke:#000000; stroke-linecap:round; stroke-linejoin:round; stroke-width:2; stroke-opacity:0.1; fill:none\" points=\"133.182,533.847 1329.76,533.847 \"/>\n",
       "<polyline clip-path=\"url(#clip332)\" style=\"stroke:#000000; stroke-linecap:round; stroke-linejoin:round; stroke-width:2; stroke-opacity:0.1; fill:none\" points=\"133.182,384.274 1329.76,384.274 \"/>\n",
       "<polyline clip-path=\"url(#clip332)\" style=\"stroke:#000000; stroke-linecap:round; stroke-linejoin:round; stroke-width:2; stroke-opacity:0.1; fill:none\" points=\"133.182,234.701 1329.76,234.701 \"/>\n",
       "<polyline clip-path=\"url(#clip330)\" style=\"stroke:#000000; stroke-linecap:round; stroke-linejoin:round; stroke-width:4; stroke-opacity:1; fill:none\" points=\"133.182,1385.31 133.182,131.097 \"/>\n",
       "<polyline clip-path=\"url(#clip330)\" style=\"stroke:#000000; stroke-linecap:round; stroke-linejoin:round; stroke-width:4; stroke-opacity:1; fill:none\" points=\"133.182,1281.71 149.85,1281.71 \"/>\n",
       "<polyline clip-path=\"url(#clip330)\" style=\"stroke:#000000; stroke-linecap:round; stroke-linejoin:round; stroke-width:4; stroke-opacity:1; fill:none\" points=\"133.182,1132.14 149.85,1132.14 \"/>\n",
       "<polyline clip-path=\"url(#clip330)\" style=\"stroke:#000000; stroke-linecap:round; stroke-linejoin:round; stroke-width:4; stroke-opacity:1; fill:none\" points=\"133.182,982.565 149.85,982.565 \"/>\n",
       "<polyline clip-path=\"url(#clip330)\" style=\"stroke:#000000; stroke-linecap:round; stroke-linejoin:round; stroke-width:4; stroke-opacity:1; fill:none\" points=\"133.182,832.992 149.85,832.992 \"/>\n",
       "<polyline clip-path=\"url(#clip330)\" style=\"stroke:#000000; stroke-linecap:round; stroke-linejoin:round; stroke-width:4; stroke-opacity:1; fill:none\" points=\"133.182,683.42 149.85,683.42 \"/>\n",
       "<polyline clip-path=\"url(#clip330)\" style=\"stroke:#000000; stroke-linecap:round; stroke-linejoin:round; stroke-width:4; stroke-opacity:1; fill:none\" points=\"133.182,533.847 149.85,533.847 \"/>\n",
       "<polyline clip-path=\"url(#clip330)\" style=\"stroke:#000000; stroke-linecap:round; stroke-linejoin:round; stroke-width:4; stroke-opacity:1; fill:none\" points=\"133.182,384.274 149.85,384.274 \"/>\n",
       "<polyline clip-path=\"url(#clip330)\" style=\"stroke:#000000; stroke-linecap:round; stroke-linejoin:round; stroke-width:4; stroke-opacity:1; fill:none\" points=\"133.182,234.701 149.85,234.701 \"/>\n",
       "<path clip-path=\"url(#clip330)\" d=\"M81.3577 1273.06 L71.9828 1285.68 L81.8438 1298.99 L76.8207 1298.99 L69.2745 1288.81 L61.7282 1298.99 L56.7051 1298.99 L66.7745 1285.43 L57.5616 1273.06 L62.5847 1273.06 L69.4596 1282.3 L76.3346 1273.06 L81.3577 1273.06 Z\" fill=\"#000000\" fill-rule=\"nonzero\" fill-opacity=\"1\" /><path clip-path=\"url(#clip330)\" d=\"M89.2743 1295.06 L96.9132 1295.06 L96.9132 1268.69 L88.6031 1270.36 L88.6031 1266.1 L96.8669 1264.43 L101.543 1264.43 L101.543 1295.06 L109.182 1295.06 L109.182 1298.99 L89.2743 1298.99 L89.2743 1295.06 Z\" fill=\"#000000\" fill-rule=\"nonzero\" fill-opacity=\"1\" /><path clip-path=\"url(#clip330)\" d=\"M81.7281 1123.49 L72.3531 1136.11 L82.2142 1149.42 L77.1911 1149.42 L69.6448 1139.23 L62.0986 1149.42 L57.0754 1149.42 L67.1448 1135.85 L57.9319 1123.49 L62.955 1123.49 L69.83 1132.73 L76.705 1123.49 L81.7281 1123.49 Z\" fill=\"#000000\" fill-rule=\"nonzero\" fill-opacity=\"1\" /><path clip-path=\"url(#clip330)\" d=\"M92.8623 1145.48 L109.182 1145.48 L109.182 1149.42 L87.2373 1149.42 L87.2373 1145.48 Q89.8993 1142.73 94.4827 1138.1 Q99.0891 1133.45 100.27 1132.1 Q102.515 1129.58 103.395 1127.84 Q104.297 1126.08 104.297 1124.39 Q104.297 1121.64 102.353 1119.9 Q100.432 1118.17 97.3299 1118.17 Q95.1308 1118.17 92.6771 1118.93 Q90.2466 1119.7 87.4688 1121.25 L87.4688 1116.52 Q90.2929 1115.39 92.7466 1114.81 Q95.2002 1114.23 97.2373 1114.23 Q102.608 1114.23 105.802 1116.92 Q108.996 1119.6 108.996 1124.09 Q108.996 1126.22 108.186 1128.14 Q107.399 1130.04 105.293 1132.64 Q104.714 1133.31 101.612 1136.52 Q98.5104 1139.72 92.8623 1145.48 Z\" fill=\"#000000\" fill-rule=\"nonzero\" fill-opacity=\"1\" /><path clip-path=\"url(#clip330)\" d=\"M80.779 973.919 L71.4041 986.535 L81.2651 999.845 L76.242 999.845 L68.6958 989.66 L61.1495 999.845 L56.1264 999.845 L66.1958 986.28 L56.9829 973.919 L62.006 973.919 L68.8809 983.155 L75.7559 973.919 L80.779 973.919 Z\" fill=\"#000000\" fill-rule=\"nonzero\" fill-opacity=\"1\" /><path clip-path=\"url(#clip330)\" d=\"M102.052 981.211 Q105.409 981.929 107.284 984.197 Q109.182 986.466 109.182 989.799 Q109.182 994.915 105.663 997.716 Q102.145 1000.52 95.6632 1000.52 Q93.4873 1000.52 91.1725 1000.08 Q88.8808 999.66 86.4271 998.803 L86.4271 994.29 Q88.3716 995.424 90.6864 996.003 Q93.0012 996.581 95.5243 996.581 Q99.9224 996.581 102.214 994.845 Q104.529 993.109 104.529 989.799 Q104.529 986.743 102.376 985.03 Q100.247 983.294 96.4271 983.294 L92.3993 983.294 L92.3993 979.452 L96.6123 979.452 Q100.061 979.452 101.89 978.086 Q103.719 976.697 103.719 974.105 Q103.719 971.443 101.821 970.03 Q99.9456 968.595 96.4271 968.595 Q94.5058 968.595 92.3067 969.012 Q90.1077 969.429 87.4688 970.308 L87.4688 966.142 Q90.1308 965.401 92.4456 965.031 Q94.7836 964.66 96.8438 964.66 Q102.168 964.66 105.27 967.091 Q108.371 969.498 108.371 973.618 Q108.371 976.489 106.728 978.48 Q105.084 980.447 102.052 981.211 Z\" fill=\"#000000\" fill-rule=\"nonzero\" fill-opacity=\"1\" /><path clip-path=\"url(#clip330)\" d=\"M79.6448 824.347 L70.2698 836.962 L80.1309 850.272 L75.1078 850.272 L67.5615 840.087 L60.0152 850.272 L54.9921 850.272 L65.0615 836.708 L55.8486 824.347 L60.8717 824.347 L67.7467 833.583 L74.6217 824.347 L79.6448 824.347 Z\" fill=\"#000000\" fill-rule=\"nonzero\" fill-opacity=\"1\" /><path clip-path=\"url(#clip330)\" d=\"M99.5984 819.786 L87.7929 838.235 L99.5984 838.235 L99.5984 819.786 M98.3715 815.712 L104.251 815.712 L104.251 838.235 L109.182 838.235 L109.182 842.124 L104.251 842.124 L104.251 850.272 L99.5984 850.272 L99.5984 842.124 L83.9966 842.124 L83.9966 837.61 L98.3715 815.712 Z\" fill=\"#000000\" fill-rule=\"nonzero\" fill-opacity=\"1\" /><path clip-path=\"url(#clip330)\" d=\"M81.1262 674.774 L71.7513 687.389 L81.6124 700.7 L76.5892 700.7 L69.043 690.514 L61.4967 700.7 L56.4736 700.7 L66.543 687.135 L57.3301 674.774 L62.3532 674.774 L69.2282 684.01 L76.1031 674.774 L81.1262 674.774 Z\" fill=\"#000000\" fill-rule=\"nonzero\" fill-opacity=\"1\" /><path clip-path=\"url(#clip330)\" d=\"M88.279 666.14 L106.635 666.14 L106.635 670.075 L92.5614 670.075 L92.5614 678.547 Q93.5799 678.2 94.5984 678.038 Q95.6169 677.853 96.6354 677.853 Q102.422 677.853 105.802 681.024 Q109.182 684.195 109.182 689.612 Q109.182 695.19 105.709 698.292 Q102.237 701.371 95.9178 701.371 Q93.7419 701.371 91.4734 701.001 Q89.2281 700.63 86.8207 699.889 L86.8207 695.19 Q88.904 696.325 91.1262 696.88 Q93.3484 697.436 95.8252 697.436 Q99.8298 697.436 102.168 695.329 Q104.506 693.223 104.506 689.612 Q104.506 686.001 102.168 683.894 Q99.8298 681.788 95.8252 681.788 Q93.9503 681.788 92.0753 682.204 Q90.2234 682.621 88.279 683.501 L88.279 666.14 Z\" fill=\"#000000\" fill-rule=\"nonzero\" fill-opacity=\"1\" /><path clip-path=\"url(#clip330)\" d=\"M79.9688 525.201 L70.5939 537.817 L80.455 551.127 L75.4318 551.127 L67.8856 540.942 L60.3393 551.127 L55.3162 551.127 L65.3856 537.562 L56.1727 525.201 L61.1958 525.201 L68.0708 534.437 L74.9457 525.201 L79.9688 525.201 Z\" fill=\"#000000\" fill-rule=\"nonzero\" fill-opacity=\"1\" /><path clip-path=\"url(#clip330)\" d=\"M97.6539 531.983 Q94.5058 531.983 92.654 534.136 Q90.8253 536.289 90.8253 540.039 Q90.8253 543.766 92.654 545.942 Q94.5058 548.094 97.6539 548.094 Q100.802 548.094 102.631 545.942 Q104.483 543.766 104.483 540.039 Q104.483 536.289 102.631 534.136 Q100.802 531.983 97.6539 531.983 M106.936 517.331 L106.936 521.59 Q105.177 520.757 103.371 520.317 Q101.589 519.877 99.8298 519.877 Q95.2002 519.877 92.7466 523.002 Q90.316 526.127 89.9688 532.446 Q91.3345 530.433 93.3947 529.368 Q95.4549 528.28 97.9317 528.28 Q103.14 528.28 106.149 531.451 Q109.182 534.599 109.182 540.039 Q109.182 545.363 106.034 548.581 Q102.885 551.798 97.6539 551.798 Q91.6586 551.798 88.4873 547.215 Q85.316 542.608 85.316 533.882 Q85.316 525.687 89.2049 520.826 Q93.0938 515.942 99.6447 515.942 Q101.404 515.942 103.186 516.289 Q104.992 516.636 106.936 517.331 Z\" fill=\"#000000\" fill-rule=\"nonzero\" fill-opacity=\"1\" /><path clip-path=\"url(#clip330)\" d=\"M81.0337 375.628 L71.6587 388.244 L81.5198 401.554 L76.4966 401.554 L68.9504 391.369 L61.4041 401.554 L56.381 401.554 L66.4504 387.989 L57.2375 375.628 L62.2606 375.628 L69.1356 384.864 L76.0105 375.628 L81.0337 375.628 Z\" fill=\"#000000\" fill-rule=\"nonzero\" fill-opacity=\"1\" /><path clip-path=\"url(#clip330)\" d=\"M86.9595 366.994 L109.182 366.994 L109.182 368.985 L96.6354 401.554 L91.7512 401.554 L103.557 370.929 L86.9595 370.929 L86.9595 366.994 Z\" fill=\"#000000\" fill-rule=\"nonzero\" fill-opacity=\"1\" /><path clip-path=\"url(#clip330)\" d=\"M80.2235 226.056 L70.8485 238.671 L80.7096 251.981 L75.6865 251.981 L68.1402 241.796 L60.5939 251.981 L55.5708 251.981 L65.6402 238.417 L56.4273 226.056 L61.4504 226.056 L68.3254 235.292 L75.2004 226.056 L80.2235 226.056 Z\" fill=\"#000000\" fill-rule=\"nonzero\" fill-opacity=\"1\" /><path clip-path=\"url(#clip330)\" d=\"M97.3299 235.569 Q93.9965 235.569 92.0753 237.352 Q90.1771 239.134 90.1771 242.259 Q90.1771 245.384 92.0753 247.167 Q93.9965 248.949 97.3299 248.949 Q100.663 248.949 102.584 247.167 Q104.506 245.361 104.506 242.259 Q104.506 239.134 102.584 237.352 Q100.686 235.569 97.3299 235.569 M92.654 233.579 Q89.6447 232.838 87.9549 230.778 Q86.2883 228.718 86.2883 225.755 Q86.2883 221.611 89.2281 219.204 Q92.191 216.796 97.3299 216.796 Q102.492 216.796 105.432 219.204 Q108.371 221.611 108.371 225.755 Q108.371 228.718 106.682 230.778 Q105.015 232.838 102.029 233.579 Q105.409 234.366 107.284 236.657 Q109.182 238.949 109.182 242.259 Q109.182 247.282 106.103 249.967 Q103.047 252.653 97.3299 252.653 Q91.6123 252.653 88.5336 249.967 Q85.4781 247.282 85.4781 242.259 Q85.4781 238.949 87.3762 236.657 Q89.2743 234.366 92.654 233.579 M90.941 226.194 Q90.941 228.88 92.6077 230.384 Q94.2975 231.889 97.3299 231.889 Q100.339 231.889 102.029 230.384 Q103.742 228.88 103.742 226.194 Q103.742 223.509 102.029 222.005 Q100.339 220.5 97.3299 220.5 Q94.2975 220.5 92.6077 222.005 Q90.941 223.509 90.941 226.194 Z\" fill=\"#000000\" fill-rule=\"nonzero\" fill-opacity=\"1\" /><g clip-path=\"url(#clip332)\">\n",
       "<image width=\"1197\" height=\"1197\" xlink:href=\"data:image/png;base64,\n",
       "iVBORw0KGgoAAAANSUhEUgAABK0AAAStCAYAAACGOajSAAAgAElEQVR4nOzav4qcZRiH4ezOjggZ\n",
       "xcJqQcRAEMIEexuxslLwDNJMJ56Dx7GNh5FU6dQ2ZBVsYiGkshD8z7CJJzHLc/NyXUfwq57v4+Y9\n",
       "+/Ltr17fgRN7/urX6Qks6OH5e9MTWMxPNy+nJ7CgB5vL6Qks6P5b59MTWMw3j59NT2BB2/1hegKL\n",
       "8fUDAAAAIEe0AgAAACBHtAIAAAAgR7QCAAAAIEe0AgAAACBHtAIAAAAgR7QCAAAAIEe0AgAAACBH\n",
       "tAIAAAAgR7QCAAAAIEe0AgAAACBHtAIAAAAgR7QCAAAAIEe0AgAAACBHtAIAAAAgR7QCAAAAIEe0\n",
       "AgAAACBHtAIAAAAgR7QCAAAAIEe0AgAAACBHtAIAAAAgR7QCAAAAIEe0AgAAACBHtAIAAAAgR7QC\n",
       "AAAAIEe0AgAAACBHtAIAAAAgR7QCAAAAIEe0AgAAACBHtAIAAAAgR7QCAAAAIEe0AgAAACBHtAIA\n",
       "AAAgR7QCAAAAIEe0AgAAACBHtAIAAAAgR7QCAAAAIEe0AgAAACBHtAIAAAAgR7QCAAAAIEe0AgAA\n",
       "ACBHtAIAAAAgR7QCAAAAIEe0AgAAACBHtAIAAAAgR7QCAAAAIEe0AgAAACBHtAIAAAAgR7QCAAAA\n",
       "IEe0AgAAACBHtAIAAAAgR7QCAAAAIEe0AgAAACBHtAIAAAAgR7QCAAAAIEe0AgAAACBHtAIAAAAg\n",
       "R7QCAAAAIEe0AgAAACBHtAIAAAAgR7QCAAAAIEe0AgAAACBHtAIAAAAgR7QCAAAAIEe0AgAAACBH\n",
       "tAIAAAAgR7QCAAAAIEe0AgAAACBHtAIAAAAgR7QCAAAAIEe0AgAAACBHtAIAAAAgR7QCAAAAIEe0\n",
       "AgAAACBHtAIAAAAgR7QCAAAAIEe0AgAAACBHtAIAAAAgR7QCAAAAIEe0AgAAACBHtAIAAAAgR7QC\n",
       "AAAAIEe0AgAAACBHtAIAAAAgR7QCAAAAIEe0AgAAACBHtAIAAAAgR7QCAAAAIEe0AgAAACBHtAIA\n",
       "AAAgR7QCAAAAIEe0AgAAACBHtAIAAAAgR7QCAAAAIEe0AgAAACBHtAIAAAAgR7QCAAAAIEe0AgAA\n",
       "ACBHtAIAAAAgR7QCAAAAIEe0AgAAACBHtAIAAAAgR7QCAAAAIEe0AgAAACBHtAIAAAAgR7QCAAAA\n",
       "IEe0AgAAACBHtAIAAAAgR7QCAAAAIEe0AgAAACBHtAIAAAAgR7QCAAAAIEe0AgAAACBHtAIAAAAg\n",
       "R7QCAAAAIEe0AgAAACBHtAIAAAAgR7QCAAAAIEe0AgAAACBHtAIAAAAgR7QCAAAAIEe0AgAAACBH\n",
       "tAIAAAAgR7QCAAAAIEe0AgAAACBHtAIAAAAgR7QCAAAAIEe0AgAAACBHtAIAAAAgR7QCAAAAIEe0\n",
       "AgAAACBHtAIAAAAgR7QCAAAAIEe0AgAAACBHtAIAAAAgR7QCAAAAIEe0AgAAACBHtAIAAAAgR7QC\n",
       "AAAAIEe0AgAAACBHtAIAAAAgR7QCAAAAIEe0AgAAACBHtAIAAAAgR7QCAAAAIEe0AgAAACBHtAIA\n",
       "AAAgR7QCAAAAIEe0AgAAACDn4tmrX6Y3sKD/7vw9PYEFuVec2ou/nkxPYEHH3WfTE1jQv7+/Pz2B\n",
       "xWz3h+kJLOh4fTU9gcV4aQUAAABAjmgFAAAAQI5oBQAAAECOaAUAAABAjmgFAAAAQI5oBQAAAECO\n",
       "aAUAAABAjmgFAAAAQI5oBQAAAECOaAUAAABAjmgFAAAAQI5oBQAAAECOaAUAAABAjmgFAAAAQI5o\n",
       "BQAAAECOaAUAAABAjmgFAAAAQI5oBQAAAECOaAUAAABAjmgFAAAAQI5oBQAAAECOaAUAAABAjmgF\n",
       "AAAAQI5oBQAAAECOaAUAAABAjmgFAAAAQI5oBQAAAECOaAUAAABAjmgFAAAAQI5oBQAAAECOaAUA\n",
       "AABAjmgFAAAAQI5oBQAAAECOaAUAAABAjmgFAAAAQI5oBQAAAECOaAUAAABAjmgFAAAAQI5oBQAA\n",
       "AECOaAUAAABAjmgFAAAAQI5oBQAAAECOaAUAAABAjmgFAAAAQI5oBQAAAECOaAUAAABAjmgFAAAA\n",
       "QI5oBQAAAECOaAUAAABAjmgFAAAAQI5oBQAAAECOaAUAAABAjmgFAAAAQI5oBQAAAECOaAUAAABA\n",
       "jmgFAAAAQI5oBQAAAECOaAUAAABAjmgFAAAAQI5oBQAAAECOaAUAAABAjmgFAAAAQI5oBQAAAECO\n",
       "aAUAAABAjmgFAAAAQI5oBQAAAECOaAUAAABAjmgFAAAAQI5oBQAAAECOaAUAAABAjmgFAAAAQI5o\n",
       "BQAAAECOaAUAAABAjmgFAAAAQI5oBQAAAECOaAUAAABAjmgFAAAAQI5oBQAAAECOaAUAAABAjmgF\n",
       "AAAAQI5oBQAAAECOaAUAAABAjmgFAAAAQI5oBQAAAECOaAUAAABAjmgFAAAAQI5oBQAAAECOaAUA\n",
       "AABAjmgFAAAAQI5oBQAAAECOaAUAAABAjmgFAAAAQI5oBQAAAECOaAUAAABAjmgFAAAAQI5oBQAA\n",
       "AECOaAUAAABAjmgFAAAAQI5oBQAAAECOaAUAAABAjmgFAAAAQI5oBQAAAECOaAUAAABAjmgFAAAA\n",
       "QI5oBQAAAECOaAUAAABAjmgFAAAAQI5oBQAAAECOaAUAAABAjmgFAAAAQI5oBQAAAECOaAUAAABA\n",
       "jmgFAAAAQI5oBQAAAECOaAUAAABAjmgFAAAAQI5oBQAAAECOaAUAAABAjmgFAAAAQI5oBQAAAECO\n",
       "aAUAAABAjmgFAAAAQI5oBQAAAECOaAUAAABAjmgFAAAAQI5oBQAAAECOaAUAAABAjmgFAAAAQI5o\n",
       "BQAAAECOaAUAAABAjmgFAAAAQI5oBQAAAECOaAUAAABAjmgFAAAAQI5oBQAAAECOaAUAAABAjmgF\n",
       "AAAAQI5oBQAAAECOaAUAAABAjmgFAAAAQI5oBQAAAECOaAUAAABAjmgFAAAAQI5oBQAAAECOaAUA\n",
       "AABAjmgFAAAAQI5oBQAAAECOaAUAAABAjmgFAAAAQM7Fj9//Ob2BBR2/fTE9gQVtH92bnsBiNk83\n",
       "0xNY0M2n/q04ve3+4+kJLObz3XfTE1jQw3c+mp7AYry0AgAAACBHtAIAAAAgR7QCAAAAIEe0AgAA\n",
       "ACBHtAIAAAAgR7QCAAAAIEe0AgAAACBHtAIAAAAgR7QCAAAAIEe0AgAAACBHtAIAAAAgR7QCAAAA\n",
       "IEe0AgAAACBHtAIAAAAgR7QCAAAAIEe0AgAAACBHtAIAAAAgR7QCAAAAIEe0AgAAACBHtAIAAAAg\n",
       "R7QCAAAAIEe0AgAAACBHtAIAAAAgR7QCAAAAIEe0AgAAACBHtAIAAAAgR7QCAAAAIEe0AgAAACBH\n",
       "tAIAAAAgR7QCAAAAIEe0AgAAACBHtAIAAAAgR7QCAAAAIEe0AgAAACBHtAIAAAAgR7QCAAAAIEe0\n",
       "AgAAACBHtAIAAAAgR7QCAAAAIEe0AgAAACBHtAIAAAAgR7QCAAAAIEe0AgAAACBHtAIAAAAgR7QC\n",
       "AAAAIEe0AgAAACBHtAIAAAAgR7QCAAAAIEe0AgAAACBHtAIAAAAgR7QCAAAAIEe0AgAAACBHtAIA\n",
       "AAAgR7QCAAAAIEe0AgAAACBHtAIAAAAgR7QCAAAAIEe0AgAAACBHtAIAAAAgR7QCAAAAIEe0AgAA\n",
       "ACBHtAIAAAAgR7QCAAAAIEe0AgAAACBHtAIAAAAgR7QCAAAAIEe0AgAAACBHtAIAAAAgR7QCAAAA\n",
       "IEe0AgAAACBHtAIAAAAgR7QCAAAAIEe0AgAAACBHtAIAAAAgR7QCAAAAIEe0AgAAACBHtAIAAAAg\n",
       "R7QCAAAAIEe0AgAAACBHtAIAAAAgR7QCAAAAIEe0AgAAACBHtAIAAAAgR7QCAAAAIEe0AgAAACBH\n",
       "tAIAAAAgR7QCAAAAIEe0AgAAACBHtAIAAAAgR7QCAAAAIEe0AgAAACBHtAIAAAAgR7QCAAAAIEe0\n",
       "AgAAACBHtAIAAAAgR7QCAAAAIEe0AgAAACBHtAIAAAAgR7QCAAAAIEe0AgAAACBHtAIAAAAgR7QC\n",
       "AAAAIEe0AgAAACBHtAIAAAAgR7QCAAAAIEe0AgAAACBHtAIAAAAgR7QCAAAAIEe0AgAAACBHtAIA\n",
       "AAAgR7QCAAAAIEe0AgAAACBHtAIAAAAgR7QCAAAAIEe0AgAAACBHtAIAAAAgR7QCAAAAIEe0AgAA\n",
       "ACBHtAIAAAAgR7QCAAAAIEe0AgAAACBHtAIAAAAgR7QCAAAAIEe0AgAAACBHtAIAAAAgR7QCAAAA\n",
       "IEe0AgAAACBHtAIAAAAgR7QCAAAAIEe0AgAAACBHtAIAAAAgR7QCAAAAIEe0AgAAACBHtAIAAAAg\n",
       "R7QCAAAAIEe0AgAAACBHtAIAAAAgR7QCAAAAIEe0AgAAACBHtAIAAAAgR7QCAAAAIEe0AgAAACBH\n",
       "tAIAAAAgR7QCAAAAIEe0AgAAACBHtAIAAAAgR7QCAAAAIEe0AgAAACDnYrs/TG9gRY+uphewIPeK\n",
       "UztOD2BJbhW34Xjt34rT+vlsNz2BBb35xwfTE1iMl1YAAAAA5IhWAAAAAOSIVgAAAADkiFYAAAAA\n",
       "5IhWAAAAAOSIVgAAAADkiFYAAAAA5IhWAAAAAOSIVgAAAADkiFYAAAAA5IhWAAAAAOSIVgAAAADk\n",
       "iFYAAAAA5IhWAAAAAOSIVgAAAADkiFYAAAAA5IhWAAAAAOSIVgAAAADkiFYAAAAA5IhWAAAAAOSI\n",
       "VgAAAADkiFYAAAAA5IhWAAAAAOSIVgAAAADkiFYAAAAA5IhWAAAAAOSIVgAAAADkiFYAAAAA5IhW\n",
       "AAAAAOSIVgAAAADkiFYAAAAA5IhWAAAAAOSIVgAAAADkiFYAAAAA5IhWAAAAAOSIVgAAAADkiFYA\n",
       "AAAA5IhWAAAAAOSIVgAAAADkiFYAAAAA5IhWAAAAAOSIVgAAAADkiFYAAAAA5IhWAAAAAOSIVgAA\n",
       "AADkiFYAAAAA5IhWAAAAAOSIVgAAAADkiFYAAAAA5IhWAAAAAOSIVgAAAADkiFYAAAAA5IhWAAAA\n",
       "AOSIVgAAAADkiFYAAAAA5IhWAAAAAOSIVgAAAADkiFYAAAAA5IhWAAAAAOSIVgAAAADkiFYAAAAA\n",
       "5IhWAAAAAOSIVgAAAADkiFYAAAAA5IhWAAAAAOSIVgAAAADkiFYAAAAA5IhWAAAAAOSIVgAAAADk\n",
       "iFYAAAAA5IhWAAAAAOSIVgAAAADkiFYAAAAA5IhWAAAAAOSIVgAAAADkiFYAAAAA5IhWAAAAAOSI\n",
       "VgAAAADkiFYAAAAA5IhWAAAAAOSIVgAAAADkiFYAAAAA5IhWAAAAAOSIVgAAAADkiFYAAAAA5IhW\n",
       "AAAAAOSIVgAAAADkiFYAAAAA5IhWAAAAAOSIVgAAAADkiFYAAAAA5IhWAAAAAOSIVgAAAADkiFYA\n",
       "AAAA5IhWAAAAAOSIVgAAAADkiFYAAAAA5IhWAAAAAOSIVgAAAADkiFYAAAAA5IhWAAAAAOSIVgAA\n",
       "AADkiFYAAAAA5IhWAAAAAOSIVgAAAADkiFYAAAAA5IhWAAAAAOSIVgAAAADkiFYAAAAA5IhWAAAA\n",
       "AOSIVgAAAADkiFYAAAAA5IhWAAAAAOSIVgAAAADkiFYAAAAA5IhWAAAAAOSIVgAAAADkiFYAAAAA\n",
       "5IhWAAAAAOSIVgAAAADkiFYAAAAA5IhWAAAAAOSIVgAAAADkiFYAAAAA5IhWAAAAAOSIVgAAAADk\n",
       "iFYAAAAA5IhWAAAAAOSIVgAAAADkiFYAAAAA5IhWAAAAAOSIVgAAAADkiFYAAAAA5IhWAAAAAOSI\n",
       "VgAAAADkiFYAAAAA5IhWAAAAAOSIVgAAAADkiFYAAAAA5IhWAAAAAOSIVgAAAADkiFYAAAAA5IhW\n",
       "AAAAAOSIVgAAAADkiFYAAAAA5IhWAAAAAOSIVgAAAADkiFYAAAAA5IhWAAAAAOSc/fP8k9fTI1jP\n",
       "5reX0xNY0M27l9MTWMx2f5iewIKO11fTE1jQ5ukP0xNYzBtf30xPYEEf3v1iegKL8dIKAAAAgBzR\n",
       "CgAAAIAc0QoAAACAHNEKAAAAgBzRCgAAAIAc0QoAAACAHNEKAAAAgBzRCgAAAIAc0QoAAACAHNEK\n",
       "AAAAgBzRCgAAAIAc0QoAAACAHNEKAAAAgBzRCgAAAIAc0QoAAACAHNEKAAAAgBzRCgAAAIAc0QoA\n",
       "AACAHNEKAAAAgBzRCgAAAIAc0QoAAACAHNEKAAAAgBzRCgAAAIAc0QoAAACAHNEKAAAAgBzRCgAA\n",
       "AIAc0QoAAACAHNEKAAAAgBzRCgAAAIAc0QoAAACAHNEKAAAAgBzRCgAAAIAc0QoAAACAHNEKAAAA\n",
       "gBzRCgAAAIAc0QoAAACAHNEKAAAAgBzRCgAAAIAc0QoAAACAHNEKAAAAgBzRCgAAAIAc0QoAAACA\n",
       "HNEKAAAAgBzRCgAAAIAc0QoAAACAHNEKAAAAgBzRCgAAAIAc0QoAAACAHNEKAAAAgBzRCgAAAIAc\n",
       "0QoAAACAHNEKAAAAgBzRCgAAAIAc0QoAAACAHNEKAAAAgBzRCgAAAIAc0QoAAACAHNEKAAAAgBzR\n",
       "CgAAAIAc0QoAAACAHNEKAAAAgBzRCgAAAIAc0QoAAACAHNEKAAAAgBzRCgAAAIAc0QoAAACAHNEK\n",
       "AAAAgBzRCgAAAIAc0QoAAACAHNEKAAAAgBzRCgAAAIAc0QoAAACAHNEKAAAAgBzRCgAAAIAc0QoA\n",
       "AACAHNEKAAAAgBzRCgAAAIAc0QoAAACAHNEKAAAAgBzRCgAAAIAc0QoAAACAHNEKAAAAgBzRCgAA\n",
       "AIAc0QoAAACAHNEKAAAAgBzRCgAAAIAc0QoAAACAHNEKAAAAgBzRCgAAAIAc0QoAAACAHNEKAAAA\n",
       "gBzRCgAAAIAc0QoAAACAHNEKAAAAgBzRCgAAAIAc0QoAAACAHNEKAAAAgBzRCgAAAIAc0QoAAACA\n",
       "HNEKAAAAgBzRCgAAAIAc0QoAAACAHNEKAAAAgBzRCgAAAIAc0QoAAACAHNEKAAAAgBzRCgAAAIAc\n",
       "0QoAAACAHNEKAAAAgBzRCgAAAIAc0QoAAACAHNEKAAAAgBzRCgAAAIAc0QoAAACAHNEKAAAAgBzR\n",
       "CgAAAIAc0QoAAACAHNEKAAAAgBzRCgAAAIAc0QoAAACAHNEKAAAAgBzRCgAAAIAc0QoAAACAHNEK\n",
       "AAAAgBzRCgAAAIAc0QoAAACAHNEKAAAAgBzRCgAAAIAc0QoAAACAHNEKAAAAgBzRCgAAAIAc0QoA\n",
       "AACAHNEKAAAAgBzRCgAAAIAc0QoAAACAHNEKAAAAgBzRCgAAAIAc0QoAAACAHNEKAAAAgBzRCgAA\n",
       "AIAc0QoAAACAHNEKAAAAgBzRCgAAAIAc0QoAAACAHNEKAAAAgBzRCgAAAIAc0QoAAACAHNEKAAAA\n",
       "gBzRCgAAAICci+3+ML2BBR2vr6YnsCD3ilNzq7gNbhW34Tg9gOXc2+2mJ7CgB+eX0xNYjJdWAAAA\n",
       "AOSIVgAAAADkiFYAAAAA5IhWAAAAAOSIVgAAAADkiFYAAAAA5IhWAAAAAOSIVgAAAADkiFYAAAAA\n",
       "5IhWAAAAAOSIVgAAAADkiFYAAAAA5IhWAAAAAOSIVgAAAADkiFYAAAAA5IhWAAAAAOSIVgAAAADk\n",
       "iFYAAAAA5IhWAAAAAOSIVgAAAADkiFYAAAAA5IhWAAAAAOSIVgAAAADkiFYAAAAA5IhWAAAAAOSI\n",
       "VgAAAADkiFYAAAAA5IhWAAAAAOSIVgAAAADkiFYAAAAA5IhWAAAAAOSIVgAAAADkiFYAAAAA5IhW\n",
       "AAAAAOSIVgAAAADkiFYAAAAA5IhWAAAAAOSIVgAAAADkiFYAAAAA5IhWAAAAAOSIVgAAAADkiFYA\n",
       "AAAA5IhWAAAAAOSIVgAAAADkiFYAAAAA5IhWAAAAAOSIVgAAAADkiFYAAAAA5IhWAAAAAOSIVgAA\n",
       "AADkiFYAAAAA5IhWAAAAAOSIVgAAAADkiFYAAAAA5IhWAAAAAOSIVgAAAADkiFYAAAAA5IhWAAAA\n",
       "AOSIVgAAAADkiFYAAAAA5IhWAAAAAOSIVgAAAADkiFYAAAAA5IhWAAAAAOSIVgAAAADkiFYAAAAA\n",
       "5IhWAAAAAOSIVgAAAADkiFYAAAAA5IhWAAAAAOSIVgAAAADkiFYAAAAA5IhWAAAAAOSIVgAAAADk\n",
       "iFYAAAAA5IhWAAAAAOSIVgAAAADkiFYAAAAA5IhWAAAAAOSIVgAAAADkiFYAAAAA5IhWAAAAAOSI\n",
       "VgAAAADkiFYAAAAA5IhWAAAAAOSIVgAAAADkiFYAAAAA5IhWAAAAAOSIVgAAAADkiFYAAAAA5IhW\n",
       "AAAAAOSIVgAAAADkiFYAAAAA5IhWAAAAAOSIVgAAAADkiFYAAAAA5IhWAAAAAOSIVgAAAADkiFYA\n",
       "AAAA5IhWAAAAAOSIVgAAAADkiFYAAAAA5IhWAAAAAOSIVgAAAAD8364d4jQURVEUpZAKEoJC4Ugw\n",
       "hCbVKEbTQZEaBDOiGonCIwr5TILm7bysNYKjrti5OaIVAAAAADmiFQAAAAA5ohUAAAAAOaIVAAAA\n",
       "ADmiFQAAAAA5ohUAAAAAOaIVAAAAADmiFQAAAAA5ohUAAAAAOaIVAAAAADmiFQAAAAA5ohUAAAAA\n",
       "OaIVAAAAADmiFQAAAAA5ohUAAAAAOaIVAAAAADmiFQAAAAA5ohUAAAAAOaIVAAAAADmiFQAAAAA5\n",
       "ohUAAAAAOaIVAAAAADmiFQAAAAA5ohUAAAAAOaIVAAAAADmiFQAAAAA5ohUAAAAAOaIVAAAAADmi\n",
       "FQAAAAA5ohUAAAAAOaIVAAAAADmiFQAAAAA5ohUAAAAAOaIVAAAAADmiFQAAAAA5ohUAAAAAOaIV\n",
       "AAAAADmiFQAAAAA5ohUAAAAAOaIVAAAAADmiFQAAAAA5ohUAAAAAOaIVAAAAADmiFQAAAAA5q+/3\n",
       "52X0COaz3uxGT2BCx8N+9AQmc/H1OXoCE/q9uR09gQkdXz9GT2AyDy/3oycwocuz69ETmIxPKwAA\n",
       "AAByRCsAAAAAckQrAAAAAHJEKwAAAAByRCsAAAAAckQrAAAAAHJEKwAAAAByRCsAAAAAckQrAAAA\n",
       "AHJEKwAAAAByRCsAAAAAckQrAAAAAHJEKwAAAAByRCsAAAAAckQrAAAAAHJEKwAAAAByRCsAAAAA\n",
       "ckQrAAAAAHJEKwAAAAByRCsAAAAAckQrAAAAAHJEKwAAAAByRCsAAAAAckQrAAAAAHJEKwAAAABy\n",
       "RCsAAAAAckQrAAAAAHJEKwAAAAByRCsAAAAAckQrAAAAAHJEKwAAAAByRCsAAAAAckQrAAAAAHJE\n",
       "KwAAAAByRCsAAAAAckQrAAAAAHJEKwAAAAByRCsAAAAAckQrAAAAAHJEKwAAAAByRCsAAAAAckQr\n",
       "AAAAAHJEKwAAAAByRCsAAAAAckQrAAAAAHJEKwAAAAByRCsAAAAAckQrAAAAAHJEKwAAAAByRCsA\n",
       "AAAAckQrAAAAAHJEKwAAAAByRCsAAAAAckQrAAAAAHJEKwAAAAByRCsAAAAAckQrAAAAAHJEKwAA\n",
       "AAByRCsAAAAAckQrAAAAAHJEKwAAAAByRCsAAAAAckQrAAAAAHJEKwAAAAByRCsAAAAAckQrAAAA\n",
       "AHJEKwAAAAByRCsAAAAAckQrAAAAAHJEKwAAAAByRCsAAAAAckQrAAAAAHJEKwAAAAByRCsAAAAA\n",
       "ckQrAAAAAHJEKwAAAAByRCsAAAAAckQrAAAAAHJEKwAAAAByRCsAAAAAckQrAAAAAHJEKwAAAABy\n",
       "RCsAAAAAckQrAAAAAHJEKwAAAAByRCsAAAAAckQrAAAAAHJEKwAAAAByRCsAAAAAckQrAAAAAHJE\n",
       "KwAAAAByRCsAAAAAckQrAAAAAHJEKwAAAAByRCsAAAAAckQrAAAAAHJEKwAAAAByRCsAAAAAckQr\n",
       "AAAAAHJEKwAAAAByRCsAAAAAckQrAAAAAHJEKwAAAAByRCsAAAAAckQrAAAAAHJEKwAAAAByRCsA\n",
       "AAAAckQrAAAAAHJEKwAAAAByRCsAAAAAckQrAAAAAHJEKwAAAAByRCsAAAAAckQrAAAAAHJEKwAA\n",
       "AAByRCsAAAAAckQrAAAAAHJEKwAAAAByRCsAAAAAckQrAAAAAHJEKwAAAAByRCsAAAAAckQrAAAA\n",
       "AHJEKwAAAAByRCsAAAAAckQrAAAAAHJEKwAAAAByRCsAAAAAckQrAAAAAHJEKwAAAAByRCsAAAAA\n",
       "ckQrAAAAAHJEKwAAAAByRCsAAAAAckQrAAAAAHJEKwAAAAByRCsAAAAAckQrAAAAAHJEKwAAAABy\n",
       "RCsAAAAAckQrAAAAAHJEKwAAAAByRCsAAAAAckQrAAAAAHJEKwAAAAByRCsAAAAAckQrAAAAAHJE\n",
       "KwAAAAByRCsAAAAAclY/y9syegTzOR72oycwofVmN3oCk3GrOAW3ilNwr/hvj09Xoycwoe353egJ\n",
       "TManFQAAAAA5ohUAAAAAOaIVAAAAADmiFQAAAAA5ohUAAAAAOaIVAAAAADmiFQAAAAA5ohUAAAAA\n",
       "OaIVAAAAADmiFQAAAAA5ohUAAAAAOaIVAAAAADmiFQAAAAA5ohUAAAAAOaIVAAAAADmiFQAAAAA5\n",
       "ohUAAAAAOaIVAAAAADmiFQAAAAA5ohUAAAAAOaIVAAAAADmiFQAAAAA5ohUAAAAAOaIVAAAAADmi\n",
       "FQAAAAA5ohUAAAAAOaIVAAAAADmiFQAAAAA5ohUAAAAAOaIVAAAAADmiFQAAAAA5ohUAAAAAOaIV\n",
       "AAAAADmiFQAAAAA5ohUAAAAAOaIVAAAAADmiFQAAAAA5ohUAAAAAOaIVAAAAADmiFQAAAAA5ohUA\n",
       "AAAAOaIVAAAAADmiFQAAAAA5ohUAAAAAOaIVAAAAADmiFQAAAAA5ohUAAAAAOaIVAAAAADmiFQAA\n",
       "AAA5ohUAAAAAOaIVAAAAADmiFQAAAAA5ojq+yAIAAAKkSURBVBUAAAAAOaIVAAAAADmiFQAAAAA5\n",
       "ohUAAAAAOaIVAAAAADmiFQAAAAA5ohUAAAAAOaIVAAAAADmiFQAAAAA5ohUAAAAAOaIVAAAAADmi\n",
       "FQAAAAA5ohUAAAAAOaIVAAAAADmiFQAAAAA5ohUAAAAAOaIVAAAAADmiFQAAAAA5ohUAAAAAOaIV\n",
       "AAAAADmiFQAAAAA5ohUAAAAAOaIVAAAAADmiFQAAAAA5ohUAAAAAOaIVAAAAADmiFQAAAAA5ohUA\n",
       "AAAAOaIVAAAAADmiFQAAAAA5ohUAAAAAOaIVAAAAADmiFQAAAAA5ohUAAAAAOaIVAAAAADmiFQAA\n",
       "AAA5ohUAAAAAOaIVAAAAADmiFQAAAAA5ohUAAAAAOaIVAAAAADmiFQAAAAA5ohUAAAAAOaIVAAAA\n",
       "ADmiFQAAAAA5ohUAAAAAOaIVAAAAADmiFQAAAAA5ohUAAAAAOaIVAAAAADmiFQAAAAA5ohUAAAAA\n",
       "OaIVAAAAADmiFQAAAAA5ohUAAAAAOaIVAAAAADmiFQAAAAA5ohUAAAAAOaIVAAAAADmiFQAAAAA5\n",
       "ohUAAAAAOaIVAAAAADmiFQAAAAA5ohUAAAAAOaIVAAAAADmiFQAAAAA5ohUAAAAAOaIVAAAAADmi\n",
       "FQAAAAA5ohUAAAAAOaIVAAAAADmiFQAAAAA5ohUAAAAAOaIVAAAAADmiFQAAAAA5ohUAAAAAOaIV\n",
       "AAAAADmiFQAAAAA5ohUAAAAAOaIVAAAAADmiFQAAAAA5ohUAAAAAOaIVAAAAADmiFQAAAAA5ohUA\n",
       "AAAAOaIVAAAAADmiFQAAAAA5ohUAAAAAOaIVAAAAADmiFQAAAAA5ohUAAAAAOaIVAAAAADmiFQAA\n",
       "AAA5ohUAAAAAOaIVAAAAADmiFQAAAAA5f01CZKY3q1aBAAAAAElFTkSuQmCC\n",
       "\" transform=\"translate(133, 160)\"/>\n",
       "</g>\n",
       "<defs>\n",
       "  <clipPath id=\"clip333\">\n",
       "    <rect x=\"1361\" y=\"131\" width=\"49\" height=\"1255\"/>\n",
       "  </clipPath>\n",
       "</defs>\n",
       "<g clip-path=\"url(#clip333)\">\n",
       "<image width=\"48\" height=\"1254\" xlink:href=\"data:image/png;base64,\n",
       "iVBORw0KGgoAAAANSUhEUgAAADAAAATmCAYAAABnKiKmAAAHZ0lEQVR4nO3c0Q2kOBRFQXrl/KPY\n",
       "LHcGbxB8lK50KgKOkPWMofv35/33PsP+0RfwVQHafMB57x99DZ/M34ECtPmAc+9ffQ2fzN+BArT5\n",
       "gCaxVoA2H3Bui9gqQJsPOPdtEVMFaPMBTWKtAG0+oEWsFaDNB7Sd1grQ5gPO0yS2CtDajWoFaPMB\n",
       "52k3ahWgzQec5/1PX8Mn83egAG0+oEdKrQBtPqDttFaANh/QItYK0OYD2k5rBWjzAefXJLYK0OYD\n",
       "zvP2c1yqAG0+oEmsFaA1yLQCtPmADne1ArT5gPNrElsFaPMBvaHRCtDmA5rEWgHafEAHW1oB2nxA\n",
       "k1grQJsPaBJrBWjzAU1irQBtPuA876uv4ZP5O1CA1iDTCtDmA3qk1ArQ5gNaxFoB2nzA+fVIaRWg\n",
       "zQc0ibUCtPmADne1ArT5gLbTWgHafEDbaa0AbT6g7bRWgDYf0CLWCtD64EkrQJsPaJBpBWjzAS1i\n",
       "rQBtPqBFrBWgzQe0iLUCtPmA89wWMVWANh/QJNYK0OYDWsRaAdp8QItYK0CbDzjPe/U1fDJ/BwrQ\n",
       "GmRaAdp8QINMK0CbD2gSawVo8wFNYq0AbT7gPNuDeP8OFKDNB5znNompArT5gCaxVoA2H9Ai1grQ\n",
       "5gPO+M8H9u9AAdp8QJNYK0BrDWgFaPMB53l/+ho+mb8DBWjzAefeFjFVgDYf0HZaK0CbD2g7rRWg\n",
       "zQec+243bF/9U4A3H9Ak1grQ5gPO08GWVYA2H3Buk9gqQDtPj5RWAdp8QINMK0CbD+iRUitAmw/o\n",
       "DY1WgDYf0BsarQBtPqBnYq0AbT7g3LvdsH31TwHefEDbaa0AbT6g7bRWgDYfcJ6201YBWoNMK0Cb\n",
       "D2gRawVo8wF98KQVoM0H9MGTVoA2H9DftGkFaPMBPRNrBWjzAf0cVytAmw9oO60VoM0HtJ3WCtDm\n",
       "A5rEWgFab2i0ArT5gAaZVoA2H9AjpVaANh/QJNYK0OYD+km6VoA2H9Cfw2gFaPMBbae1ArT5gA62\n",
       "tAK0+YAmsVaANh9w3haxVYDWB09aAdp8QLtRrQBtPqBFrBWgzQd0uKsVoM0HNIm1ArT5gBaxVoA2\n",
       "H9BXi1oB2nzAeXsmtgrQ5gPaTmsFaPMBLWKtAK01oBWgzQf05a5WgDYf0CTWCtDmA1rEWgHafECv\n",
       "WbUCtPmAXrNqBWjzAW2ntQK0+YAWsVaANh/QKyatAG0+oEmsFaCd+7QGqAK0+YB2o1oB2nxAu1Gt\n",
       "AG0+oEmsFaDNBzSJtQK0+YAmsVaANh/QJNYK0OYDWsRaAdp8wHl7T2wVoDXItAK0+YDOhbQCtPmA\n",
       "c6++hG/m70AB2nxAk1grQJsP6PcDWgHafECTWCtAmw/odForQJsP6DWrVoA2H9DptFaANh/QM7FW\n",
       "gNYjpVaANh/QI6VWgDYf0G5UK0CbD+hcSCtAmw9oO60VoM0HdLClFaDNB5xXX8FH83egAG0+oEms\n",
       "FaDNB3Q6rRWgzQe0ndYK0NqNagVo8wENMq0AbT6gSawVoM0HdC6kFaDNB5zxjxb370AB2nxAk1gr\n",
       "QJsP6GBLK0CbD+hgSytAmw9oEmsFaPMBTWKtAO2846e783egAG0+oN2oVoA2H9BuVCtAmw9oEmsF\n",
       "aPMB/U2bVoA2H9DftGkFaPMBnU5rBWjzAf1+QCtAmw/o9wNaAdp8QAdbWgFab2i0ArT5gL6V0ArQ\n",
       "5gOaxFoB2nxAb2i0ArT5gN7QaAVo8wFNYq0AbT6gNzRaAdp8QJ8eawVo8wFtp7UCtPmADra0ArQG\n",
       "mVaANh/QINMK0OYDmsRaAdp8QItYK0CbD2g7rRWgzQc0ibUCtPmAJrFWgDYf0CTWCtDmA/r0WCtA\n",
       "mw/oN/VaAVq7Ua0AbT7g3Gd7Fc/fgQK0+YAmsVaANh/QuZBWgDYf0LmQVoA2H9B2WitAmw/oYEsr\n",
       "QJsPaBJrBWjzAX16rBWgnXf8dHf+DhSgzQd0uKsVoM0HnNsktgrQ5gOaxFoB2nxAz8RaAdp8QIe7\n",
       "WgHafMB5+1bCKkCbD2g7rRWgzQf01aJWgDYf0Om0VoDWI6VWgDYf0G5UK0CbDzjvs70fnb8DBWjz\n",
       "AW2ntQK0+YAWsVaANh/QM7FWgDYf0DOxVoA2H3DeX5OYKkCbD2gSawVo8wHntoitArQGmVaANh9w\n",
       "3l+LmCpAmw9oEmsFaPMBPVJqBWjzAU1irQBtPqBFrBWgzQd0sKUVoM0HnPv81dfwyfwdKECbD2g7\n",
       "rRWgzQd0Oq0VoJ33thulCtDmAxpkWgHafMB5OxeyCtDmA5rEWgHafECTWCtAmw849zaJqQK0+YC2\n",
       "01oB2nxAr5i0ArT5gCaxVoA2H3Buk9gqQGuQaQVo8wHn7XDXKkCbD+iHcFoB2nxAr1m1ArT5gJ6J\n",
       "tQK0+YAmsVaANh/QItYK0OYDOtjSCtDmA5rEWgHafMB5OtiyCtAaZFoB2nxAb2i0ArT5gPM0ia0C\n",
       "tPmADne1ArT5gM6FtAK0+YC201oB2nzAuc/V1/DJ/B0oQJsPaDutFaDNB5ynSWwVoP0P0fns22pN\n",
       "wR8AAAAASUVORK5CYII=\n",
       "\" transform=\"translate(1362, 131)\"/>\n",
       "</g>\n",
       "<path clip-path=\"url(#clip330)\" d=\"M1433.76 1222.71 L1463.44 1222.71 L1463.44 1226.64 L1433.76 1226.64 L1433.76 1222.71 Z\" fill=\"#000000\" fill-rule=\"nonzero\" fill-opacity=\"1\" /><path clip-path=\"url(#clip330)\" d=\"M1483.53 1208.06 Q1479.92 1208.06 1478.09 1211.62 Q1476.29 1215.16 1476.29 1222.29 Q1476.29 1229.4 1478.09 1232.96 Q1479.92 1236.51 1483.53 1236.51 Q1487.17 1236.51 1488.97 1232.96 Q1490.8 1229.4 1490.8 1222.29 Q1490.8 1215.16 1488.97 1211.62 Q1487.17 1208.06 1483.53 1208.06 M1483.53 1204.35 Q1489.34 1204.35 1492.4 1208.96 Q1495.48 1213.54 1495.48 1222.29 Q1495.48 1231.02 1492.4 1235.63 Q1489.34 1240.21 1483.53 1240.21 Q1477.72 1240.21 1474.64 1235.63 Q1471.59 1231.02 1471.59 1222.29 Q1471.59 1213.54 1474.64 1208.96 Q1477.72 1204.35 1483.53 1204.35 Z\" fill=\"#000000\" fill-rule=\"nonzero\" fill-opacity=\"1\" /><path clip-path=\"url(#clip330)\" d=\"M1503.69 1233.66 L1508.58 1233.66 L1508.58 1239.54 L1503.69 1239.54 L1503.69 1233.66 Z\" fill=\"#000000\" fill-rule=\"nonzero\" fill-opacity=\"1\" /><path clip-path=\"url(#clip330)\" d=\"M1518.81 1204.98 L1537.17 1204.98 L1537.17 1208.91 L1523.09 1208.91 L1523.09 1217.39 Q1524.11 1217.04 1525.13 1216.88 Q1526.15 1216.69 1527.17 1216.69 Q1532.95 1216.69 1536.33 1219.86 Q1539.71 1223.03 1539.71 1228.45 Q1539.71 1234.03 1536.24 1237.13 Q1532.77 1240.21 1526.45 1240.21 Q1524.27 1240.21 1522 1239.84 Q1519.76 1239.47 1517.35 1238.73 L1517.35 1234.03 Q1519.43 1235.16 1521.66 1235.72 Q1523.88 1236.27 1526.36 1236.27 Q1530.36 1236.27 1532.7 1234.17 Q1535.04 1232.06 1535.04 1228.45 Q1535.04 1224.84 1532.7 1222.73 Q1530.36 1220.63 1526.36 1220.63 Q1524.48 1220.63 1522.61 1221.04 Q1520.75 1221.46 1518.81 1222.34 L1518.81 1204.98 Z\" fill=\"#000000\" fill-rule=\"nonzero\" fill-opacity=\"1\" /><path clip-path=\"url(#clip330)\" d=\"M1558.93 1208.06 Q1555.31 1208.06 1553.49 1211.62 Q1551.68 1215.16 1551.68 1222.29 Q1551.68 1229.4 1553.49 1232.96 Q1555.31 1236.51 1558.93 1236.51 Q1562.56 1236.51 1564.36 1232.96 Q1566.19 1229.4 1566.19 1222.29 Q1566.19 1215.16 1564.36 1211.62 Q1562.56 1208.06 1558.93 1208.06 M1558.93 1204.35 Q1564.74 1204.35 1567.79 1208.96 Q1570.87 1213.54 1570.87 1222.29 Q1570.87 1231.02 1567.79 1235.63 Q1564.74 1240.21 1558.93 1240.21 Q1553.11 1240.21 1550.04 1235.63 Q1546.98 1231.02 1546.98 1222.29 Q1546.98 1213.54 1550.04 1208.96 Q1553.11 1204.35 1558.93 1204.35 Z\" fill=\"#000000\" fill-rule=\"nonzero\" fill-opacity=\"1\" /><path clip-path=\"url(#clip330)\" d=\"M1433.76 1040.24 L1463.44 1040.24 L1463.44 1044.18 L1433.76 1044.18 L1433.76 1040.24 Z\" fill=\"#000000\" fill-rule=\"nonzero\" fill-opacity=\"1\" /><path clip-path=\"url(#clip330)\" d=\"M1483.53 1025.59 Q1479.92 1025.59 1478.09 1029.16 Q1476.29 1032.7 1476.29 1039.83 Q1476.29 1046.93 1478.09 1050.5 Q1479.92 1054.04 1483.53 1054.04 Q1487.17 1054.04 1488.97 1050.5 Q1490.8 1046.93 1490.8 1039.83 Q1490.8 1032.7 1488.97 1029.16 Q1487.17 1025.59 1483.53 1025.59 M1483.53 1021.89 Q1489.34 1021.89 1492.4 1026.49 Q1495.48 1031.08 1495.48 1039.83 Q1495.48 1048.55 1492.4 1053.16 Q1489.34 1057.74 1483.53 1057.74 Q1477.72 1057.74 1474.64 1053.16 Q1471.59 1048.55 1471.59 1039.83 Q1471.59 1031.08 1474.64 1026.49 Q1477.72 1021.89 1483.53 1021.89 Z\" fill=\"#000000\" fill-rule=\"nonzero\" fill-opacity=\"1\" /><path clip-path=\"url(#clip330)\" d=\"M1503.69 1051.19 L1508.58 1051.19 L1508.58 1057.07 L1503.69 1057.07 L1503.69 1051.19 Z\" fill=\"#000000\" fill-rule=\"nonzero\" fill-opacity=\"1\" /><path clip-path=\"url(#clip330)\" d=\"M1522.79 1053.14 L1539.11 1053.14 L1539.11 1057.07 L1517.17 1057.07 L1517.17 1053.14 Q1519.83 1050.38 1524.41 1045.75 Q1529.02 1041.1 1530.2 1039.76 Q1532.44 1037.24 1533.32 1035.5 Q1534.23 1033.74 1534.23 1032.05 Q1534.23 1029.3 1532.28 1027.56 Q1530.36 1025.82 1527.26 1025.82 Q1525.06 1025.82 1522.61 1026.59 Q1520.18 1027.35 1517.4 1028.9 L1517.4 1024.18 Q1520.22 1023.05 1522.68 1022.47 Q1525.13 1021.89 1527.17 1021.89 Q1532.54 1021.89 1535.73 1024.57 Q1538.93 1027.26 1538.93 1031.75 Q1538.93 1033.88 1538.12 1035.8 Q1537.33 1037.7 1535.22 1040.29 Q1534.64 1040.96 1531.54 1044.18 Q1528.44 1047.37 1522.79 1053.14 Z\" fill=\"#000000\" fill-rule=\"nonzero\" fill-opacity=\"1\" /><path clip-path=\"url(#clip330)\" d=\"M1548.97 1022.51 L1567.33 1022.51 L1567.33 1026.45 L1553.25 1026.45 L1553.25 1034.92 Q1554.27 1034.57 1555.29 1034.41 Q1556.31 1034.23 1557.33 1034.23 Q1563.11 1034.23 1566.49 1037.4 Q1569.87 1040.57 1569.87 1045.99 Q1569.87 1051.56 1566.4 1054.67 Q1562.93 1057.74 1556.61 1057.74 Q1554.43 1057.74 1552.17 1057.37 Q1549.92 1057 1547.51 1056.26 L1547.51 1051.56 Q1549.6 1052.7 1551.82 1053.25 Q1554.04 1053.81 1556.52 1053.81 Q1560.52 1053.81 1562.86 1051.7 Q1565.2 1049.6 1565.2 1045.99 Q1565.2 1042.37 1562.86 1040.27 Q1560.52 1038.16 1556.52 1038.16 Q1554.64 1038.16 1552.77 1038.58 Q1550.92 1038.99 1548.97 1039.87 L1548.97 1022.51 Z\" fill=\"#000000\" fill-rule=\"nonzero\" fill-opacity=\"1\" /><path clip-path=\"url(#clip330)\" d=\"M1445.71 843.127 Q1442.1 843.127 1440.27 846.692 Q1438.46 850.233 1438.46 857.363 Q1438.46 864.469 1440.27 868.034 Q1442.1 871.576 1445.71 871.576 Q1449.34 871.576 1451.15 868.034 Q1452.98 864.469 1452.98 857.363 Q1452.98 850.233 1451.15 846.692 Q1449.34 843.127 1445.71 843.127 M1445.71 839.423 Q1451.52 839.423 1454.57 844.03 Q1457.65 848.613 1457.65 857.363 Q1457.65 866.09 1454.57 870.696 Q1451.52 875.279 1445.71 875.279 Q1439.9 875.279 1436.82 870.696 Q1433.76 866.09 1433.76 857.363 Q1433.76 848.613 1436.82 844.03 Q1439.9 839.423 1445.71 839.423 Z\" fill=\"#000000\" fill-rule=\"nonzero\" fill-opacity=\"1\" /><path clip-path=\"url(#clip330)\" d=\"M1445.71 660.662 Q1442.1 660.662 1440.27 664.227 Q1438.46 667.768 1438.46 674.898 Q1438.46 682.004 1440.27 685.569 Q1442.1 689.111 1445.71 689.111 Q1449.34 689.111 1451.15 685.569 Q1452.98 682.004 1452.98 674.898 Q1452.98 667.768 1451.15 664.227 Q1449.34 660.662 1445.71 660.662 M1445.71 656.958 Q1451.52 656.958 1454.57 661.565 Q1457.65 666.148 1457.65 674.898 Q1457.65 683.625 1454.57 688.231 Q1451.52 692.814 1445.71 692.814 Q1439.9 692.814 1436.82 688.231 Q1433.76 683.625 1433.76 674.898 Q1433.76 666.148 1436.82 661.565 Q1439.9 656.958 1445.71 656.958 Z\" fill=\"#000000\" fill-rule=\"nonzero\" fill-opacity=\"1\" /><path clip-path=\"url(#clip330)\" d=\"M1465.87 686.264 L1470.75 686.264 L1470.75 692.143 L1465.87 692.143 L1465.87 686.264 Z\" fill=\"#000000\" fill-rule=\"nonzero\" fill-opacity=\"1\" /><path clip-path=\"url(#clip330)\" d=\"M1484.97 688.208 L1501.29 688.208 L1501.29 692.143 L1479.34 692.143 L1479.34 688.208 Q1482 685.453 1486.59 680.824 Q1491.19 676.171 1492.37 674.828 Q1494.62 672.305 1495.5 670.569 Q1496.4 668.81 1496.4 667.12 Q1496.4 664.366 1494.46 662.629 Q1492.54 660.893 1489.43 660.893 Q1487.24 660.893 1484.78 661.657 Q1482.35 662.421 1479.57 663.972 L1479.57 659.25 Q1482.4 658.116 1484.85 657.537 Q1487.31 656.958 1489.34 656.958 Q1494.71 656.958 1497.91 659.643 Q1501.1 662.329 1501.1 666.819 Q1501.1 668.949 1500.29 670.87 Q1499.5 672.768 1497.4 675.361 Q1496.82 676.032 1493.72 679.25 Q1490.62 682.444 1484.97 688.208 Z\" fill=\"#000000\" fill-rule=\"nonzero\" fill-opacity=\"1\" /><path clip-path=\"url(#clip330)\" d=\"M1511.15 657.583 L1529.5 657.583 L1529.5 661.518 L1515.43 661.518 L1515.43 669.991 Q1516.45 669.643 1517.47 669.481 Q1518.49 669.296 1519.5 669.296 Q1525.29 669.296 1528.67 672.467 Q1532.05 675.639 1532.05 681.055 Q1532.05 686.634 1528.58 689.736 Q1525.11 692.814 1518.79 692.814 Q1516.61 692.814 1514.34 692.444 Q1512.1 692.074 1509.69 691.333 L1509.69 686.634 Q1511.77 687.768 1513.99 688.324 Q1516.22 688.879 1518.69 688.879 Q1522.7 688.879 1525.04 686.773 Q1527.37 684.666 1527.37 681.055 Q1527.37 677.444 1525.04 675.338 Q1522.7 673.231 1518.69 673.231 Q1516.82 673.231 1514.94 673.648 Q1513.09 674.065 1511.15 674.944 L1511.15 657.583 Z\" fill=\"#000000\" fill-rule=\"nonzero\" fill-opacity=\"1\" /><path clip-path=\"url(#clip330)\" d=\"M1445.71 478.197 Q1442.1 478.197 1440.27 481.762 Q1438.46 485.303 1438.46 492.433 Q1438.46 499.54 1440.27 503.104 Q1442.1 506.646 1445.71 506.646 Q1449.34 506.646 1451.15 503.104 Q1452.98 499.54 1452.98 492.433 Q1452.98 485.303 1451.15 481.762 Q1449.34 478.197 1445.71 478.197 M1445.71 474.493 Q1451.52 474.493 1454.57 479.1 Q1457.65 483.683 1457.65 492.433 Q1457.65 501.16 1454.57 505.766 Q1451.52 510.35 1445.71 510.35 Q1439.9 510.35 1436.82 505.766 Q1433.76 501.16 1433.76 492.433 Q1433.76 483.683 1436.82 479.1 Q1439.9 474.493 1445.71 474.493 Z\" fill=\"#000000\" fill-rule=\"nonzero\" fill-opacity=\"1\" /><path clip-path=\"url(#clip330)\" d=\"M1465.87 503.799 L1470.75 503.799 L1470.75 509.678 L1465.87 509.678 L1465.87 503.799 Z\" fill=\"#000000\" fill-rule=\"nonzero\" fill-opacity=\"1\" /><path clip-path=\"url(#clip330)\" d=\"M1480.99 475.118 L1499.34 475.118 L1499.34 479.053 L1485.27 479.053 L1485.27 487.526 Q1486.29 487.178 1487.31 487.016 Q1488.32 486.831 1489.34 486.831 Q1495.13 486.831 1498.51 490.003 Q1501.89 493.174 1501.89 498.59 Q1501.89 504.169 1498.42 507.271 Q1494.94 510.35 1488.62 510.35 Q1486.45 510.35 1484.18 509.979 Q1481.93 509.609 1479.53 508.868 L1479.53 504.169 Q1481.61 505.303 1483.83 505.859 Q1486.06 506.414 1488.53 506.414 Q1492.54 506.414 1494.87 504.308 Q1497.21 502.202 1497.21 498.59 Q1497.21 494.979 1494.87 492.873 Q1492.54 490.766 1488.53 490.766 Q1486.66 490.766 1484.78 491.183 Q1482.93 491.6 1480.99 492.479 L1480.99 475.118 Z\" fill=\"#000000\" fill-rule=\"nonzero\" fill-opacity=\"1\" /><path clip-path=\"url(#clip330)\" d=\"M1521.1 478.197 Q1517.49 478.197 1515.66 481.762 Q1513.86 485.303 1513.86 492.433 Q1513.86 499.54 1515.66 503.104 Q1517.49 506.646 1521.1 506.646 Q1524.74 506.646 1526.54 503.104 Q1528.37 499.54 1528.37 492.433 Q1528.37 485.303 1526.54 481.762 Q1524.74 478.197 1521.1 478.197 M1521.1 474.493 Q1526.91 474.493 1529.97 479.1 Q1533.05 483.683 1533.05 492.433 Q1533.05 501.16 1529.97 505.766 Q1526.91 510.35 1521.1 510.35 Q1515.29 510.35 1512.21 505.766 Q1509.16 501.16 1509.16 492.433 Q1509.16 483.683 1512.21 479.1 Q1515.29 474.493 1521.1 474.493 Z\" fill=\"#000000\" fill-rule=\"nonzero\" fill-opacity=\"1\" /><path clip-path=\"url(#clip330)\" d=\"M1445.71 295.732 Q1442.1 295.732 1440.27 299.297 Q1438.46 302.839 1438.46 309.968 Q1438.46 317.075 1440.27 320.639 Q1442.1 324.181 1445.71 324.181 Q1449.34 324.181 1451.15 320.639 Q1452.98 317.075 1452.98 309.968 Q1452.98 302.839 1451.15 299.297 Q1449.34 295.732 1445.71 295.732 M1445.71 292.028 Q1451.52 292.028 1454.57 296.635 Q1457.65 301.218 1457.65 309.968 Q1457.65 318.695 1454.57 323.301 Q1451.52 327.885 1445.71 327.885 Q1439.9 327.885 1436.82 323.301 Q1433.76 318.695 1433.76 309.968 Q1433.76 301.218 1436.82 296.635 Q1439.9 292.028 1445.71 292.028 Z\" fill=\"#000000\" fill-rule=\"nonzero\" fill-opacity=\"1\" /><path clip-path=\"url(#clip330)\" d=\"M1465.87 321.334 L1470.75 321.334 L1470.75 327.213 L1465.87 327.213 L1465.87 321.334 Z\" fill=\"#000000\" fill-rule=\"nonzero\" fill-opacity=\"1\" /><path clip-path=\"url(#clip330)\" d=\"M1479.76 292.653 L1501.98 292.653 L1501.98 294.644 L1489.43 327.213 L1484.55 327.213 L1496.36 296.589 L1479.76 296.589 L1479.76 292.653 Z\" fill=\"#000000\" fill-rule=\"nonzero\" fill-opacity=\"1\" /><path clip-path=\"url(#clip330)\" d=\"M1511.15 292.653 L1529.5 292.653 L1529.5 296.589 L1515.43 296.589 L1515.43 305.061 Q1516.45 304.714 1517.47 304.552 Q1518.49 304.366 1519.5 304.366 Q1525.29 304.366 1528.67 307.538 Q1532.05 310.709 1532.05 316.126 Q1532.05 321.704 1528.58 324.806 Q1525.11 327.885 1518.79 327.885 Q1516.61 327.885 1514.34 327.514 Q1512.1 327.144 1509.69 326.403 L1509.69 321.704 Q1511.77 322.838 1513.99 323.394 Q1516.22 323.95 1518.69 323.95 Q1522.7 323.95 1525.04 321.843 Q1527.37 319.737 1527.37 316.126 Q1527.37 312.514 1525.04 310.408 Q1522.7 308.302 1518.69 308.302 Q1516.82 308.302 1514.94 308.718 Q1513.09 309.135 1511.15 310.014 L1511.15 292.653 Z\" fill=\"#000000\" fill-rule=\"nonzero\" fill-opacity=\"1\" /><path clip-path=\"url(#clip330)\" d=\"M1434.44 140.813 L1442.07 140.813 L1442.07 114.448 L1433.76 116.114 L1433.76 111.855 L1442.03 110.189 L1446.7 110.189 L1446.7 140.813 L1454.34 140.813 L1454.34 144.749 L1434.44 144.749 L1434.44 140.813 Z\" fill=\"#000000\" fill-rule=\"nonzero\" fill-opacity=\"1\" /><path clip-path=\"url(#clip330)\" d=\"M1463.79 138.869 L1468.67 138.869 L1468.67 144.749 L1463.79 144.749 L1463.79 138.869 Z\" fill=\"#000000\" fill-rule=\"nonzero\" fill-opacity=\"1\" /><path clip-path=\"url(#clip330)\" d=\"M1488.86 113.267 Q1485.24 113.267 1483.42 116.832 Q1481.61 120.374 1481.61 127.503 Q1481.61 134.61 1483.42 138.175 Q1485.24 141.716 1488.86 141.716 Q1492.49 141.716 1494.3 138.175 Q1496.12 134.61 1496.12 127.503 Q1496.12 120.374 1494.3 116.832 Q1492.49 113.267 1488.86 113.267 M1488.86 109.564 Q1494.67 109.564 1497.72 114.17 Q1500.8 118.753 1500.8 127.503 Q1500.8 136.23 1497.72 140.837 Q1494.67 145.42 1488.86 145.42 Q1483.05 145.42 1479.97 140.837 Q1476.91 136.23 1476.91 127.503 Q1476.91 118.753 1479.97 114.17 Q1483.05 109.564 1488.86 109.564 Z\" fill=\"#000000\" fill-rule=\"nonzero\" fill-opacity=\"1\" /><path clip-path=\"url(#clip330)\" d=\"M1519.02 113.267 Q1515.41 113.267 1513.58 116.832 Q1511.77 120.374 1511.77 127.503 Q1511.77 134.61 1513.58 138.175 Q1515.41 141.716 1519.02 141.716 Q1522.65 141.716 1524.46 138.175 Q1526.29 134.61 1526.29 127.503 Q1526.29 120.374 1524.46 116.832 Q1522.65 113.267 1519.02 113.267 M1519.02 109.564 Q1524.83 109.564 1527.88 114.17 Q1530.96 118.753 1530.96 127.503 Q1530.96 136.23 1527.88 140.837 Q1524.83 145.42 1519.02 145.42 Q1513.21 145.42 1510.13 140.837 Q1507.07 136.23 1507.07 127.503 Q1507.07 118.753 1510.13 114.17 Q1513.21 109.564 1519.02 109.564 Z\" fill=\"#000000\" fill-rule=\"nonzero\" fill-opacity=\"1\" /><polyline clip-path=\"url(#clip330)\" style=\"stroke:#000000; stroke-linecap:round; stroke-linejoin:round; stroke-width:4; stroke-opacity:1; fill:none\" points=\"1409.76,1385.31 1409.76,1225.89 1425.76,1225.89 1409.76,1225.89 1409.76,1043.42 1425.76,1043.42 1409.76,1043.42 1409.76,860.957 1425.76,860.957 1409.76,860.957 1409.76,678.492 1425.76,678.492 1409.76,678.492 1409.76,496.027 1425.76,496.027 1409.76,496.027 1409.76,313.562 1425.76,313.562 1409.76,313.562 1409.76,131.097 1425.76,131.097 1409.76,131.097 \"/>\n",
       "</svg>\n"
      ],
      "text/html": [
       "<?xml version=\"1.0\" encoding=\"utf-8\"?>\n",
       "<svg xmlns=\"http://www.w3.org/2000/svg\" xmlns:xlink=\"http://www.w3.org/1999/xlink\" width=\"400\" height=\"400\" viewBox=\"0 0 1600 1600\">\n",
       "<defs>\n",
       "  <clipPath id=\"clip380\">\n",
       "    <rect x=\"0\" y=\"0\" width=\"1600\" height=\"1600\"/>\n",
       "  </clipPath>\n",
       "</defs>\n",
       "<path clip-path=\"url(#clip380)\" d=\"M0 1600 L1600 1600 L1600 0 L0 0  Z\" fill=\"#ffffff\" fill-rule=\"evenodd\" fill-opacity=\"1\"/>\n",
       "<defs>\n",
       "  <clipPath id=\"clip381\">\n",
       "    <rect x=\"320\" y=\"160\" width=\"1121\" height=\"1121\"/>\n",
       "  </clipPath>\n",
       "</defs>\n",
       "<path clip-path=\"url(#clip380)\" d=\"M133.182 1385.31 L1329.76 1385.31 L1329.76 131.097 L133.182 131.097  Z\" fill=\"#ffffff\" fill-rule=\"evenodd\" fill-opacity=\"1\"/>\n",
       "<defs>\n",
       "  <clipPath id=\"clip382\">\n",
       "    <rect x=\"133\" y=\"131\" width=\"1198\" height=\"1255\"/>\n",
       "  </clipPath>\n",
       "</defs>\n",
       "<polyline clip-path=\"url(#clip382)\" style=\"stroke:#000000; stroke-linecap:round; stroke-linejoin:round; stroke-width:2; stroke-opacity:0.1; fill:none\" points=\"207.968,1385.31 207.968,131.097 \"/>\n",
       "<polyline clip-path=\"url(#clip382)\" style=\"stroke:#000000; stroke-linecap:round; stroke-linejoin:round; stroke-width:2; stroke-opacity:0.1; fill:none\" points=\"357.541,1385.31 357.541,131.097 \"/>\n",
       "<polyline clip-path=\"url(#clip382)\" style=\"stroke:#000000; stroke-linecap:round; stroke-linejoin:round; stroke-width:2; stroke-opacity:0.1; fill:none\" points=\"507.114,1385.31 507.114,131.097 \"/>\n",
       "<polyline clip-path=\"url(#clip382)\" style=\"stroke:#000000; stroke-linecap:round; stroke-linejoin:round; stroke-width:2; stroke-opacity:0.1; fill:none\" points=\"656.686,1385.31 656.686,131.097 \"/>\n",
       "<polyline clip-path=\"url(#clip382)\" style=\"stroke:#000000; stroke-linecap:round; stroke-linejoin:round; stroke-width:2; stroke-opacity:0.1; fill:none\" points=\"806.259,1385.31 806.259,131.097 \"/>\n",
       "<polyline clip-path=\"url(#clip382)\" style=\"stroke:#000000; stroke-linecap:round; stroke-linejoin:round; stroke-width:2; stroke-opacity:0.1; fill:none\" points=\"955.832,1385.31 955.832,131.097 \"/>\n",
       "<polyline clip-path=\"url(#clip382)\" style=\"stroke:#000000; stroke-linecap:round; stroke-linejoin:round; stroke-width:2; stroke-opacity:0.1; fill:none\" points=\"1105.4,1385.31 1105.4,131.097 \"/>\n",
       "<polyline clip-path=\"url(#clip382)\" style=\"stroke:#000000; stroke-linecap:round; stroke-linejoin:round; stroke-width:2; stroke-opacity:0.1; fill:none\" points=\"1254.98,1385.31 1254.98,131.097 \"/>\n",
       "<polyline clip-path=\"url(#clip380)\" style=\"stroke:#000000; stroke-linecap:round; stroke-linejoin:round; stroke-width:4; stroke-opacity:1; fill:none\" points=\"133.182,1385.31 1329.76,1385.31 \"/>\n",
       "<polyline clip-path=\"url(#clip380)\" style=\"stroke:#000000; stroke-linecap:round; stroke-linejoin:round; stroke-width:4; stroke-opacity:1; fill:none\" points=\"207.968,1385.31 207.968,1368.65 \"/>\n",
       "<polyline clip-path=\"url(#clip380)\" style=\"stroke:#000000; stroke-linecap:round; stroke-linejoin:round; stroke-width:4; stroke-opacity:1; fill:none\" points=\"357.541,1385.31 357.541,1368.65 \"/>\n",
       "<polyline clip-path=\"url(#clip380)\" style=\"stroke:#000000; stroke-linecap:round; stroke-linejoin:round; stroke-width:4; stroke-opacity:1; fill:none\" points=\"507.114,1385.31 507.114,1368.65 \"/>\n",
       "<polyline clip-path=\"url(#clip380)\" style=\"stroke:#000000; stroke-linecap:round; stroke-linejoin:round; stroke-width:4; stroke-opacity:1; fill:none\" points=\"656.686,1385.31 656.686,1368.65 \"/>\n",
       "<polyline clip-path=\"url(#clip380)\" style=\"stroke:#000000; stroke-linecap:round; stroke-linejoin:round; stroke-width:4; stroke-opacity:1; fill:none\" points=\"806.259,1385.31 806.259,1368.65 \"/>\n",
       "<polyline clip-path=\"url(#clip380)\" style=\"stroke:#000000; stroke-linecap:round; stroke-linejoin:round; stroke-width:4; stroke-opacity:1; fill:none\" points=\"955.832,1385.31 955.832,1368.65 \"/>\n",
       "<polyline clip-path=\"url(#clip380)\" style=\"stroke:#000000; stroke-linecap:round; stroke-linejoin:round; stroke-width:4; stroke-opacity:1; fill:none\" points=\"1105.4,1385.31 1105.4,1368.65 \"/>\n",
       "<polyline clip-path=\"url(#clip380)\" style=\"stroke:#000000; stroke-linecap:round; stroke-linejoin:round; stroke-width:4; stroke-opacity:1; fill:none\" points=\"1254.98,1385.31 1254.98,1368.65 \"/>\n",
       "<path clip-path=\"url(#clip380)\" d=\"M206.382 1415.39 L197.007 1428 L206.869 1441.31 L201.845 1441.31 L194.299 1431.13 L186.753 1441.31 L181.73 1441.31 L191.799 1427.75 L182.586 1415.39 L187.609 1415.39 L194.484 1424.62 L201.359 1415.39 L206.382 1415.39 Z\" fill=\"#000000\" fill-rule=\"nonzero\" fill-opacity=\"1\" /><path clip-path=\"url(#clip380)\" d=\"M214.299 1437.38 L221.938 1437.38 L221.938 1411.01 L213.628 1412.68 L213.628 1408.42 L221.892 1406.75 L226.567 1406.75 L226.567 1437.38 L234.206 1437.38 L234.206 1441.31 L214.299 1441.31 L214.299 1437.38 Z\" fill=\"#000000\" fill-rule=\"nonzero\" fill-opacity=\"1\" /><path clip-path=\"url(#clip380)\" d=\"M356.14 1415.39 L346.765 1428 L356.626 1441.31 L351.603 1441.31 L344.057 1431.13 L336.511 1441.31 L331.488 1441.31 L341.557 1427.75 L332.344 1415.39 L337.367 1415.39 L344.242 1424.62 L351.117 1415.39 L356.14 1415.39 Z\" fill=\"#000000\" fill-rule=\"nonzero\" fill-opacity=\"1\" /><path clip-path=\"url(#clip380)\" d=\"M367.275 1437.38 L383.594 1437.38 L383.594 1441.31 L361.65 1441.31 L361.65 1437.38 Q364.312 1434.62 368.895 1430 Q373.501 1425.34 374.682 1424 Q376.927 1421.48 377.807 1419.74 Q378.71 1417.98 378.71 1416.29 Q378.71 1413.54 376.765 1411.8 Q374.844 1410.06 371.742 1410.06 Q369.543 1410.06 367.089 1410.83 Q364.659 1411.59 361.881 1413.14 L361.881 1408.42 Q364.705 1407.29 367.159 1406.71 Q369.612 1406.13 371.65 1406.13 Q377.02 1406.13 380.214 1408.81 Q383.409 1411.5 383.409 1415.99 Q383.409 1418.12 382.599 1420.04 Q381.812 1421.94 379.705 1424.53 Q379.126 1425.2 376.024 1428.42 Q372.923 1431.62 367.275 1437.38 Z\" fill=\"#000000\" fill-rule=\"nonzero\" fill-opacity=\"1\" /><path clip-path=\"url(#clip380)\" d=\"M505.239 1415.39 L495.864 1428 L505.725 1441.31 L500.702 1441.31 L493.155 1431.13 L485.609 1441.31 L480.586 1441.31 L490.655 1427.75 L481.442 1415.39 L486.466 1415.39 L493.34 1424.62 L500.215 1415.39 L505.239 1415.39 Z\" fill=\"#000000\" fill-rule=\"nonzero\" fill-opacity=\"1\" /><path clip-path=\"url(#clip380)\" d=\"M526.512 1422.68 Q529.868 1423.4 531.743 1425.67 Q533.641 1427.94 533.641 1431.27 Q533.641 1436.38 530.123 1439.18 Q526.604 1441.99 520.123 1441.99 Q517.947 1441.99 515.632 1441.55 Q513.34 1441.13 510.887 1440.27 L510.887 1435.76 Q512.831 1436.89 515.146 1437.47 Q517.461 1438.05 519.984 1438.05 Q524.382 1438.05 526.674 1436.31 Q528.988 1434.58 528.988 1431.27 Q528.988 1428.21 526.836 1426.5 Q524.706 1424.76 520.887 1424.76 L516.859 1424.76 L516.859 1420.92 L521.072 1420.92 Q524.521 1420.92 526.35 1419.56 Q528.178 1418.17 528.178 1415.57 Q528.178 1412.91 526.28 1411.5 Q524.405 1410.06 520.887 1410.06 Q518.965 1410.06 516.766 1410.48 Q514.567 1410.9 511.928 1411.78 L511.928 1407.61 Q514.59 1406.87 516.905 1406.5 Q519.243 1406.13 521.303 1406.13 Q526.627 1406.13 529.729 1408.56 Q532.831 1410.97 532.831 1415.09 Q532.831 1417.96 531.188 1419.95 Q529.544 1421.92 526.512 1422.68 Z\" fill=\"#000000\" fill-rule=\"nonzero\" fill-opacity=\"1\" /><path clip-path=\"url(#clip380)\" d=\"M654.244 1415.39 L644.869 1428 L654.73 1441.31 L649.707 1441.31 L642.161 1431.13 L634.615 1441.31 L629.592 1441.31 L639.661 1427.75 L630.448 1415.39 L635.471 1415.39 L642.346 1424.62 L649.221 1415.39 L654.244 1415.39 Z\" fill=\"#000000\" fill-rule=\"nonzero\" fill-opacity=\"1\" /><path clip-path=\"url(#clip380)\" d=\"M674.198 1410.83 L662.392 1429.28 L674.198 1429.28 L674.198 1410.83 M672.971 1406.75 L678.851 1406.75 L678.851 1429.28 L683.781 1429.28 L683.781 1433.17 L678.851 1433.17 L678.851 1441.31 L674.198 1441.31 L674.198 1433.17 L658.596 1433.17 L658.596 1428.65 L672.971 1406.75 Z\" fill=\"#000000\" fill-rule=\"nonzero\" fill-opacity=\"1\" /><path clip-path=\"url(#clip380)\" d=\"M804.558 1415.39 L795.183 1428 L805.044 1441.31 L800.021 1441.31 L792.474 1431.13 L784.928 1441.31 L779.905 1441.31 L789.974 1427.75 L780.762 1415.39 L785.785 1415.39 L792.66 1424.62 L799.535 1415.39 L804.558 1415.39 Z\" fill=\"#000000\" fill-rule=\"nonzero\" fill-opacity=\"1\" /><path clip-path=\"url(#clip380)\" d=\"M811.71 1406.75 L830.067 1406.75 L830.067 1410.69 L815.993 1410.69 L815.993 1419.16 Q817.011 1418.81 818.03 1418.65 Q819.048 1418.47 820.067 1418.47 Q825.854 1418.47 829.234 1421.64 Q832.613 1424.81 832.613 1430.23 Q832.613 1435.81 829.141 1438.91 Q825.669 1441.99 819.349 1441.99 Q817.173 1441.99 814.905 1441.62 Q812.66 1441.25 810.252 1440.5 L810.252 1435.81 Q812.335 1436.94 814.558 1437.5 Q816.78 1438.05 819.257 1438.05 Q823.261 1438.05 825.599 1435.94 Q827.937 1433.84 827.937 1430.23 Q827.937 1426.62 825.599 1424.51 Q823.261 1422.4 819.257 1422.4 Q817.382 1422.4 815.507 1422.82 Q813.655 1423.24 811.71 1424.12 L811.71 1406.75 Z\" fill=\"#000000\" fill-rule=\"nonzero\" fill-opacity=\"1\" /><path clip-path=\"url(#clip380)\" d=\"M953.552 1415.39 L944.177 1428 L954.038 1441.31 L949.015 1441.31 L941.469 1431.13 L933.922 1441.31 L928.899 1441.31 L938.969 1427.75 L929.756 1415.39 L934.779 1415.39 L941.654 1424.62 L948.529 1415.39 L953.552 1415.39 Z\" fill=\"#000000\" fill-rule=\"nonzero\" fill-opacity=\"1\" /><path clip-path=\"url(#clip380)\" d=\"M971.237 1422.17 Q968.089 1422.17 966.237 1424.32 Q964.408 1426.48 964.408 1430.23 Q964.408 1433.95 966.237 1436.13 Q968.089 1438.28 971.237 1438.28 Q974.385 1438.28 976.214 1436.13 Q978.066 1433.95 978.066 1430.23 Q978.066 1426.48 976.214 1424.32 Q974.385 1422.17 971.237 1422.17 M980.519 1407.52 L980.519 1411.78 Q978.76 1410.94 976.954 1410.5 Q975.172 1410.06 973.413 1410.06 Q968.783 1410.06 966.329 1413.19 Q963.899 1416.31 963.552 1422.63 Q964.917 1420.62 966.978 1419.56 Q969.038 1418.47 971.515 1418.47 Q976.723 1418.47 979.732 1421.64 Q982.765 1424.79 982.765 1430.23 Q982.765 1435.55 979.616 1438.77 Q976.468 1441.99 971.237 1441.99 Q965.242 1441.99 962.07 1437.4 Q958.899 1432.8 958.899 1424.07 Q958.899 1415.87 962.788 1411.01 Q966.677 1406.13 973.228 1406.13 Q974.987 1406.13 976.769 1406.48 Q978.575 1406.82 980.519 1407.52 Z\" fill=\"#000000\" fill-rule=\"nonzero\" fill-opacity=\"1\" /><path clip-path=\"url(#clip380)\" d=\"M1103.66 1415.39 L1094.28 1428 L1104.14 1441.31 L1099.12 1441.31 L1091.57 1431.13 L1084.03 1441.31 L1079 1441.31 L1089.07 1427.75 L1079.86 1415.39 L1084.88 1415.39 L1091.76 1424.62 L1098.63 1415.39 L1103.66 1415.39 Z\" fill=\"#000000\" fill-rule=\"nonzero\" fill-opacity=\"1\" /><path clip-path=\"url(#clip380)\" d=\"M1109.58 1406.75 L1131.8 1406.75 L1131.8 1408.75 L1119.26 1441.31 L1114.37 1441.31 L1126.18 1410.69 L1109.58 1410.69 L1109.58 1406.75 Z\" fill=\"#000000\" fill-rule=\"nonzero\" fill-opacity=\"1\" /><path clip-path=\"url(#clip380)\" d=\"M1252.82 1415.39 L1243.45 1428 L1253.31 1441.31 L1248.29 1441.31 L1240.74 1431.13 L1233.2 1441.31 L1228.17 1441.31 L1238.24 1427.75 L1229.03 1415.39 L1234.05 1415.39 L1240.93 1424.62 L1247.8 1415.39 L1252.82 1415.39 Z\" fill=\"#000000\" fill-rule=\"nonzero\" fill-opacity=\"1\" /><path clip-path=\"url(#clip380)\" d=\"M1269.93 1424.9 Q1266.6 1424.9 1264.68 1426.69 Q1262.78 1428.47 1262.78 1431.59 Q1262.78 1434.72 1264.68 1436.5 Q1266.6 1438.28 1269.93 1438.28 Q1273.26 1438.28 1275.19 1436.5 Q1277.11 1434.69 1277.11 1431.59 Q1277.11 1428.47 1275.19 1426.69 Q1273.29 1424.9 1269.93 1424.9 M1265.26 1422.91 Q1262.25 1422.17 1260.56 1420.11 Q1258.89 1418.05 1258.89 1415.09 Q1258.89 1410.94 1261.83 1408.54 Q1264.79 1406.13 1269.93 1406.13 Q1275.09 1406.13 1278.03 1408.54 Q1280.97 1410.94 1280.97 1415.09 Q1280.97 1418.05 1279.28 1420.11 Q1277.62 1422.17 1274.63 1422.91 Q1278.01 1423.7 1279.88 1425.99 Q1281.78 1428.28 1281.78 1431.59 Q1281.78 1436.62 1278.7 1439.3 Q1275.65 1441.99 1269.93 1441.99 Q1264.21 1441.99 1261.13 1439.3 Q1258.08 1436.62 1258.08 1431.59 Q1258.08 1428.28 1259.98 1425.99 Q1261.88 1423.7 1265.26 1422.91 M1263.54 1415.53 Q1263.54 1418.21 1265.21 1419.72 Q1266.9 1421.22 1269.93 1421.22 Q1272.94 1421.22 1274.63 1419.72 Q1276.34 1418.21 1276.34 1415.53 Q1276.34 1412.84 1274.63 1411.34 Q1272.94 1409.83 1269.93 1409.83 Q1266.9 1409.83 1265.21 1411.34 Q1263.54 1412.84 1263.54 1415.53 Z\" fill=\"#000000\" fill-rule=\"nonzero\" fill-opacity=\"1\" /><polyline clip-path=\"url(#clip382)\" style=\"stroke:#000000; stroke-linecap:round; stroke-linejoin:round; stroke-width:2; stroke-opacity:0.1; fill:none\" points=\"133.182,1281.71 1329.76,1281.71 \"/>\n",
       "<polyline clip-path=\"url(#clip382)\" style=\"stroke:#000000; stroke-linecap:round; stroke-linejoin:round; stroke-width:2; stroke-opacity:0.1; fill:none\" points=\"133.182,1132.14 1329.76,1132.14 \"/>\n",
       "<polyline clip-path=\"url(#clip382)\" style=\"stroke:#000000; stroke-linecap:round; stroke-linejoin:round; stroke-width:2; stroke-opacity:0.1; fill:none\" points=\"133.182,982.565 1329.76,982.565 \"/>\n",
       "<polyline clip-path=\"url(#clip382)\" style=\"stroke:#000000; stroke-linecap:round; stroke-linejoin:round; stroke-width:2; stroke-opacity:0.1; fill:none\" points=\"133.182,832.992 1329.76,832.992 \"/>\n",
       "<polyline clip-path=\"url(#clip382)\" style=\"stroke:#000000; stroke-linecap:round; stroke-linejoin:round; stroke-width:2; stroke-opacity:0.1; fill:none\" points=\"133.182,683.42 1329.76,683.42 \"/>\n",
       "<polyline clip-path=\"url(#clip382)\" style=\"stroke:#000000; stroke-linecap:round; stroke-linejoin:round; stroke-width:2; stroke-opacity:0.1; fill:none\" points=\"133.182,533.847 1329.76,533.847 \"/>\n",
       "<polyline clip-path=\"url(#clip382)\" style=\"stroke:#000000; stroke-linecap:round; stroke-linejoin:round; stroke-width:2; stroke-opacity:0.1; fill:none\" points=\"133.182,384.274 1329.76,384.274 \"/>\n",
       "<polyline clip-path=\"url(#clip382)\" style=\"stroke:#000000; stroke-linecap:round; stroke-linejoin:round; stroke-width:2; stroke-opacity:0.1; fill:none\" points=\"133.182,234.701 1329.76,234.701 \"/>\n",
       "<polyline clip-path=\"url(#clip380)\" style=\"stroke:#000000; stroke-linecap:round; stroke-linejoin:round; stroke-width:4; stroke-opacity:1; fill:none\" points=\"133.182,1385.31 133.182,131.097 \"/>\n",
       "<polyline clip-path=\"url(#clip380)\" style=\"stroke:#000000; stroke-linecap:round; stroke-linejoin:round; stroke-width:4; stroke-opacity:1; fill:none\" points=\"133.182,1281.71 149.85,1281.71 \"/>\n",
       "<polyline clip-path=\"url(#clip380)\" style=\"stroke:#000000; stroke-linecap:round; stroke-linejoin:round; stroke-width:4; stroke-opacity:1; fill:none\" points=\"133.182,1132.14 149.85,1132.14 \"/>\n",
       "<polyline clip-path=\"url(#clip380)\" style=\"stroke:#000000; stroke-linecap:round; stroke-linejoin:round; stroke-width:4; stroke-opacity:1; fill:none\" points=\"133.182,982.565 149.85,982.565 \"/>\n",
       "<polyline clip-path=\"url(#clip380)\" style=\"stroke:#000000; stroke-linecap:round; stroke-linejoin:round; stroke-width:4; stroke-opacity:1; fill:none\" points=\"133.182,832.992 149.85,832.992 \"/>\n",
       "<polyline clip-path=\"url(#clip380)\" style=\"stroke:#000000; stroke-linecap:round; stroke-linejoin:round; stroke-width:4; stroke-opacity:1; fill:none\" points=\"133.182,683.42 149.85,683.42 \"/>\n",
       "<polyline clip-path=\"url(#clip380)\" style=\"stroke:#000000; stroke-linecap:round; stroke-linejoin:round; stroke-width:4; stroke-opacity:1; fill:none\" points=\"133.182,533.847 149.85,533.847 \"/>\n",
       "<polyline clip-path=\"url(#clip380)\" style=\"stroke:#000000; stroke-linecap:round; stroke-linejoin:round; stroke-width:4; stroke-opacity:1; fill:none\" points=\"133.182,384.274 149.85,384.274 \"/>\n",
       "<polyline clip-path=\"url(#clip380)\" style=\"stroke:#000000; stroke-linecap:round; stroke-linejoin:round; stroke-width:4; stroke-opacity:1; fill:none\" points=\"133.182,234.701 149.85,234.701 \"/>\n",
       "<path clip-path=\"url(#clip380)\" d=\"M81.3577 1273.06 L71.9828 1285.68 L81.8438 1298.99 L76.8207 1298.99 L69.2745 1288.81 L61.7282 1298.99 L56.7051 1298.99 L66.7745 1285.43 L57.5616 1273.06 L62.5847 1273.06 L69.4596 1282.3 L76.3346 1273.06 L81.3577 1273.06 Z\" fill=\"#000000\" fill-rule=\"nonzero\" fill-opacity=\"1\" /><path clip-path=\"url(#clip380)\" d=\"M89.2743 1295.06 L96.9132 1295.06 L96.9132 1268.69 L88.6031 1270.36 L88.6031 1266.1 L96.8669 1264.43 L101.543 1264.43 L101.543 1295.06 L109.182 1295.06 L109.182 1298.99 L89.2743 1298.99 L89.2743 1295.06 Z\" fill=\"#000000\" fill-rule=\"nonzero\" fill-opacity=\"1\" /><path clip-path=\"url(#clip380)\" d=\"M81.7281 1123.49 L72.3531 1136.11 L82.2142 1149.42 L77.1911 1149.42 L69.6448 1139.23 L62.0986 1149.42 L57.0754 1149.42 L67.1448 1135.85 L57.9319 1123.49 L62.955 1123.49 L69.83 1132.73 L76.705 1123.49 L81.7281 1123.49 Z\" fill=\"#000000\" fill-rule=\"nonzero\" fill-opacity=\"1\" /><path clip-path=\"url(#clip380)\" d=\"M92.8623 1145.48 L109.182 1145.48 L109.182 1149.42 L87.2373 1149.42 L87.2373 1145.48 Q89.8993 1142.73 94.4827 1138.1 Q99.0891 1133.45 100.27 1132.1 Q102.515 1129.58 103.395 1127.84 Q104.297 1126.08 104.297 1124.39 Q104.297 1121.64 102.353 1119.9 Q100.432 1118.17 97.3299 1118.17 Q95.1308 1118.17 92.6771 1118.93 Q90.2466 1119.7 87.4688 1121.25 L87.4688 1116.52 Q90.2929 1115.39 92.7466 1114.81 Q95.2002 1114.23 97.2373 1114.23 Q102.608 1114.23 105.802 1116.92 Q108.996 1119.6 108.996 1124.09 Q108.996 1126.22 108.186 1128.14 Q107.399 1130.04 105.293 1132.64 Q104.714 1133.31 101.612 1136.52 Q98.5104 1139.72 92.8623 1145.48 Z\" fill=\"#000000\" fill-rule=\"nonzero\" fill-opacity=\"1\" /><path clip-path=\"url(#clip380)\" d=\"M80.779 973.919 L71.4041 986.535 L81.2651 999.845 L76.242 999.845 L68.6958 989.66 L61.1495 999.845 L56.1264 999.845 L66.1958 986.28 L56.9829 973.919 L62.006 973.919 L68.8809 983.155 L75.7559 973.919 L80.779 973.919 Z\" fill=\"#000000\" fill-rule=\"nonzero\" fill-opacity=\"1\" /><path clip-path=\"url(#clip380)\" d=\"M102.052 981.211 Q105.409 981.929 107.284 984.197 Q109.182 986.466 109.182 989.799 Q109.182 994.915 105.663 997.716 Q102.145 1000.52 95.6632 1000.52 Q93.4873 1000.52 91.1725 1000.08 Q88.8808 999.66 86.4271 998.803 L86.4271 994.29 Q88.3716 995.424 90.6864 996.003 Q93.0012 996.581 95.5243 996.581 Q99.9224 996.581 102.214 994.845 Q104.529 993.109 104.529 989.799 Q104.529 986.743 102.376 985.03 Q100.247 983.294 96.4271 983.294 L92.3993 983.294 L92.3993 979.452 L96.6123 979.452 Q100.061 979.452 101.89 978.086 Q103.719 976.697 103.719 974.105 Q103.719 971.443 101.821 970.03 Q99.9456 968.595 96.4271 968.595 Q94.5058 968.595 92.3067 969.012 Q90.1077 969.429 87.4688 970.308 L87.4688 966.142 Q90.1308 965.401 92.4456 965.031 Q94.7836 964.66 96.8438 964.66 Q102.168 964.66 105.27 967.091 Q108.371 969.498 108.371 973.618 Q108.371 976.489 106.728 978.48 Q105.084 980.447 102.052 981.211 Z\" fill=\"#000000\" fill-rule=\"nonzero\" fill-opacity=\"1\" /><path clip-path=\"url(#clip380)\" d=\"M79.6448 824.347 L70.2698 836.962 L80.1309 850.272 L75.1078 850.272 L67.5615 840.087 L60.0152 850.272 L54.9921 850.272 L65.0615 836.708 L55.8486 824.347 L60.8717 824.347 L67.7467 833.583 L74.6217 824.347 L79.6448 824.347 Z\" fill=\"#000000\" fill-rule=\"nonzero\" fill-opacity=\"1\" /><path clip-path=\"url(#clip380)\" d=\"M99.5984 819.786 L87.7929 838.235 L99.5984 838.235 L99.5984 819.786 M98.3715 815.712 L104.251 815.712 L104.251 838.235 L109.182 838.235 L109.182 842.124 L104.251 842.124 L104.251 850.272 L99.5984 850.272 L99.5984 842.124 L83.9966 842.124 L83.9966 837.61 L98.3715 815.712 Z\" fill=\"#000000\" fill-rule=\"nonzero\" fill-opacity=\"1\" /><path clip-path=\"url(#clip380)\" d=\"M81.1262 674.774 L71.7513 687.389 L81.6124 700.7 L76.5892 700.7 L69.043 690.514 L61.4967 700.7 L56.4736 700.7 L66.543 687.135 L57.3301 674.774 L62.3532 674.774 L69.2282 684.01 L76.1031 674.774 L81.1262 674.774 Z\" fill=\"#000000\" fill-rule=\"nonzero\" fill-opacity=\"1\" /><path clip-path=\"url(#clip380)\" d=\"M88.279 666.14 L106.635 666.14 L106.635 670.075 L92.5614 670.075 L92.5614 678.547 Q93.5799 678.2 94.5984 678.038 Q95.6169 677.853 96.6354 677.853 Q102.422 677.853 105.802 681.024 Q109.182 684.195 109.182 689.612 Q109.182 695.19 105.709 698.292 Q102.237 701.371 95.9178 701.371 Q93.7419 701.371 91.4734 701.001 Q89.2281 700.63 86.8207 699.889 L86.8207 695.19 Q88.904 696.325 91.1262 696.88 Q93.3484 697.436 95.8252 697.436 Q99.8298 697.436 102.168 695.329 Q104.506 693.223 104.506 689.612 Q104.506 686.001 102.168 683.894 Q99.8298 681.788 95.8252 681.788 Q93.9503 681.788 92.0753 682.204 Q90.2234 682.621 88.279 683.501 L88.279 666.14 Z\" fill=\"#000000\" fill-rule=\"nonzero\" fill-opacity=\"1\" /><path clip-path=\"url(#clip380)\" d=\"M79.9688 525.201 L70.5939 537.817 L80.455 551.127 L75.4318 551.127 L67.8856 540.942 L60.3393 551.127 L55.3162 551.127 L65.3856 537.562 L56.1727 525.201 L61.1958 525.201 L68.0708 534.437 L74.9457 525.201 L79.9688 525.201 Z\" fill=\"#000000\" fill-rule=\"nonzero\" fill-opacity=\"1\" /><path clip-path=\"url(#clip380)\" d=\"M97.6539 531.983 Q94.5058 531.983 92.654 534.136 Q90.8253 536.289 90.8253 540.039 Q90.8253 543.766 92.654 545.942 Q94.5058 548.094 97.6539 548.094 Q100.802 548.094 102.631 545.942 Q104.483 543.766 104.483 540.039 Q104.483 536.289 102.631 534.136 Q100.802 531.983 97.6539 531.983 M106.936 517.331 L106.936 521.59 Q105.177 520.757 103.371 520.317 Q101.589 519.877 99.8298 519.877 Q95.2002 519.877 92.7466 523.002 Q90.316 526.127 89.9688 532.446 Q91.3345 530.433 93.3947 529.368 Q95.4549 528.28 97.9317 528.28 Q103.14 528.28 106.149 531.451 Q109.182 534.599 109.182 540.039 Q109.182 545.363 106.034 548.581 Q102.885 551.798 97.6539 551.798 Q91.6586 551.798 88.4873 547.215 Q85.316 542.608 85.316 533.882 Q85.316 525.687 89.2049 520.826 Q93.0938 515.942 99.6447 515.942 Q101.404 515.942 103.186 516.289 Q104.992 516.636 106.936 517.331 Z\" fill=\"#000000\" fill-rule=\"nonzero\" fill-opacity=\"1\" /><path clip-path=\"url(#clip380)\" d=\"M81.0337 375.628 L71.6587 388.244 L81.5198 401.554 L76.4966 401.554 L68.9504 391.369 L61.4041 401.554 L56.381 401.554 L66.4504 387.989 L57.2375 375.628 L62.2606 375.628 L69.1356 384.864 L76.0105 375.628 L81.0337 375.628 Z\" fill=\"#000000\" fill-rule=\"nonzero\" fill-opacity=\"1\" /><path clip-path=\"url(#clip380)\" d=\"M86.9595 366.994 L109.182 366.994 L109.182 368.985 L96.6354 401.554 L91.7512 401.554 L103.557 370.929 L86.9595 370.929 L86.9595 366.994 Z\" fill=\"#000000\" fill-rule=\"nonzero\" fill-opacity=\"1\" /><path clip-path=\"url(#clip380)\" d=\"M80.2235 226.056 L70.8485 238.671 L80.7096 251.981 L75.6865 251.981 L68.1402 241.796 L60.5939 251.981 L55.5708 251.981 L65.6402 238.417 L56.4273 226.056 L61.4504 226.056 L68.3254 235.292 L75.2004 226.056 L80.2235 226.056 Z\" fill=\"#000000\" fill-rule=\"nonzero\" fill-opacity=\"1\" /><path clip-path=\"url(#clip380)\" d=\"M97.3299 235.569 Q93.9965 235.569 92.0753 237.352 Q90.1771 239.134 90.1771 242.259 Q90.1771 245.384 92.0753 247.167 Q93.9965 248.949 97.3299 248.949 Q100.663 248.949 102.584 247.167 Q104.506 245.361 104.506 242.259 Q104.506 239.134 102.584 237.352 Q100.686 235.569 97.3299 235.569 M92.654 233.579 Q89.6447 232.838 87.9549 230.778 Q86.2883 228.718 86.2883 225.755 Q86.2883 221.611 89.2281 219.204 Q92.191 216.796 97.3299 216.796 Q102.492 216.796 105.432 219.204 Q108.371 221.611 108.371 225.755 Q108.371 228.718 106.682 230.778 Q105.015 232.838 102.029 233.579 Q105.409 234.366 107.284 236.657 Q109.182 238.949 109.182 242.259 Q109.182 247.282 106.103 249.967 Q103.047 252.653 97.3299 252.653 Q91.6123 252.653 88.5336 249.967 Q85.4781 247.282 85.4781 242.259 Q85.4781 238.949 87.3762 236.657 Q89.2743 234.366 92.654 233.579 M90.941 226.194 Q90.941 228.88 92.6077 230.384 Q94.2975 231.889 97.3299 231.889 Q100.339 231.889 102.029 230.384 Q103.742 228.88 103.742 226.194 Q103.742 223.509 102.029 222.005 Q100.339 220.5 97.3299 220.5 Q94.2975 220.5 92.6077 222.005 Q90.941 223.509 90.941 226.194 Z\" fill=\"#000000\" fill-rule=\"nonzero\" fill-opacity=\"1\" /><g clip-path=\"url(#clip382)\">\n",
       "<image width=\"1197\" height=\"1197\" xlink:href=\"data:image/png;base64,\n",
       "iVBORw0KGgoAAAANSUhEUgAABK0AAAStCAYAAACGOajSAAAgAElEQVR4nOzav4qcZRiH4ezOjggZ\n",
       "xcJqQcRAEMIEexuxslLwDNJMJ56Dx7GNh5FU6dQ2ZBVsYiGkshD8z7CJJzHLc/NyXUfwq57v4+Y9\n",
       "+/Ltr17fgRN7/urX6Qks6OH5e9MTWMxPNy+nJ7CgB5vL6Qks6P5b59MTWMw3j59NT2BB2/1hegKL\n",
       "8fUDAAAAIEe0AgAAACBHtAIAAAAgR7QCAAAAIEe0AgAAACBHtAIAAAAgR7QCAAAAIEe0AgAAACBH\n",
       "tAIAAAAgR7QCAAAAIEe0AgAAACBHtAIAAAAgR7QCAAAAIEe0AgAAACBHtAIAAAAgR7QCAAAAIEe0\n",
       "AgAAACBHtAIAAAAgR7QCAAAAIEe0AgAAACBHtAIAAAAgR7QCAAAAIEe0AgAAACBHtAIAAAAgR7QC\n",
       "AAAAIEe0AgAAACBHtAIAAAAgR7QCAAAAIEe0AgAAACBHtAIAAAAgR7QCAAAAIEe0AgAAACBHtAIA\n",
       "AAAgR7QCAAAAIEe0AgAAACBHtAIAAAAgR7QCAAAAIEe0AgAAACBHtAIAAAAgR7QCAAAAIEe0AgAA\n",
       "ACBHtAIAAAAgR7QCAAAAIEe0AgAAACBHtAIAAAAgR7QCAAAAIEe0AgAAACBHtAIAAAAgR7QCAAAA\n",
       "IEe0AgAAACBHtAIAAAAgR7QCAAAAIEe0AgAAACBHtAIAAAAgR7QCAAAAIEe0AgAAACBHtAIAAAAg\n",
       "R7QCAAAAIEe0AgAAACBHtAIAAAAgR7QCAAAAIEe0AgAAACBHtAIAAAAgR7QCAAAAIEe0AgAAACBH\n",
       "tAIAAAAgR7QCAAAAIEe0AgAAACBHtAIAAAAgR7QCAAAAIEe0AgAAACBHtAIAAAAgR7QCAAAAIEe0\n",
       "AgAAACBHtAIAAAAgR7QCAAAAIEe0AgAAACBHtAIAAAAgR7QCAAAAIEe0AgAAACBHtAIAAAAgR7QC\n",
       "AAAAIEe0AgAAACBHtAIAAAAgR7QCAAAAIEe0AgAAACBHtAIAAAAgR7QCAAAAIEe0AgAAACBHtAIA\n",
       "AAAgR7QCAAAAIEe0AgAAACBHtAIAAAAgR7QCAAAAIEe0AgAAACBHtAIAAAAgR7QCAAAAIEe0AgAA\n",
       "ACBHtAIAAAAgR7QCAAAAIEe0AgAAACBHtAIAAAAgR7QCAAAAIEe0AgAAACBHtAIAAAAgR7QCAAAA\n",
       "IEe0AgAAACBHtAIAAAAgR7QCAAAAIEe0AgAAACBHtAIAAAAgR7QCAAAAIEe0AgAAACBHtAIAAAAg\n",
       "R7QCAAAAIEe0AgAAACBHtAIAAAAgR7QCAAAAIEe0AgAAACBHtAIAAAAgR7QCAAAAIEe0AgAAACBH\n",
       "tAIAAAAgR7QCAAAAIEe0AgAAACBHtAIAAAAgR7QCAAAAIEe0AgAAACBHtAIAAAAgR7QCAAAAIEe0\n",
       "AgAAACBHtAIAAAAgR7QCAAAAIEe0AgAAACBHtAIAAAAgR7QCAAAAIEe0AgAAACBHtAIAAAAgR7QC\n",
       "AAAAIEe0AgAAACBHtAIAAAAgR7QCAAAAIEe0AgAAACBHtAIAAAAgR7QCAAAAIEe0AgAAACBHtAIA\n",
       "AAAgR7QCAAAAIEe0AgAAACDn4tmrX6Y3sKD/7vw9PYEFuVec2ou/nkxPYEHH3WfTE1jQv7+/Pz2B\n",
       "xWz3h+kJLOh4fTU9gcV4aQUAAABAjmgFAAAAQI5oBQAAAECOaAUAAABAjmgFAAAAQI5oBQAAAECO\n",
       "aAUAAABAjmgFAAAAQI5oBQAAAECOaAUAAABAjmgFAAAAQI5oBQAAAECOaAUAAABAjmgFAAAAQI5o\n",
       "BQAAAECOaAUAAABAjmgFAAAAQI5oBQAAAECOaAUAAABAjmgFAAAAQI5oBQAAAECOaAUAAABAjmgF\n",
       "AAAAQI5oBQAAAECOaAUAAABAjmgFAAAAQI5oBQAAAECOaAUAAABAjmgFAAAAQI5oBQAAAECOaAUA\n",
       "AABAjmgFAAAAQI5oBQAAAECOaAUAAABAjmgFAAAAQI5oBQAAAECOaAUAAABAjmgFAAAAQI5oBQAA\n",
       "AECOaAUAAABAjmgFAAAAQI5oBQAAAECOaAUAAABAjmgFAAAAQI5oBQAAAECOaAUAAABAjmgFAAAA\n",
       "QI5oBQAAAECOaAUAAABAjmgFAAAAQI5oBQAAAECOaAUAAABAjmgFAAAAQI5oBQAAAECOaAUAAABA\n",
       "jmgFAAAAQI5oBQAAAECOaAUAAABAjmgFAAAAQI5oBQAAAECOaAUAAABAjmgFAAAAQI5oBQAAAECO\n",
       "aAUAAABAjmgFAAAAQI5oBQAAAECOaAUAAABAjmgFAAAAQI5oBQAAAECOaAUAAABAjmgFAAAAQI5o\n",
       "BQAAAECOaAUAAABAjmgFAAAAQI5oBQAAAECOaAUAAABAjmgFAAAAQI5oBQAAAECOaAUAAABAjmgF\n",
       "AAAAQI5oBQAAAECOaAUAAABAjmgFAAAAQI5oBQAAAECOaAUAAABAjmgFAAAAQI5oBQAAAECOaAUA\n",
       "AABAjmgFAAAAQI5oBQAAAECOaAUAAABAjmgFAAAAQI5oBQAAAECOaAUAAABAjmgFAAAAQI5oBQAA\n",
       "AECOaAUAAABAjmgFAAAAQI5oBQAAAECOaAUAAABAjmgFAAAAQI5oBQAAAECOaAUAAABAjmgFAAAA\n",
       "QI5oBQAAAECOaAUAAABAjmgFAAAAQI5oBQAAAECOaAUAAABAjmgFAAAAQI5oBQAAAECOaAUAAABA\n",
       "jmgFAAAAQI5oBQAAAECOaAUAAABAjmgFAAAAQI5oBQAAAECOaAUAAABAjmgFAAAAQI5oBQAAAECO\n",
       "aAUAAABAjmgFAAAAQI5oBQAAAECOaAUAAABAjmgFAAAAQI5oBQAAAECOaAUAAABAjmgFAAAAQI5o\n",
       "BQAAAECOaAUAAABAjmgFAAAAQI5oBQAAAECOaAUAAABAjmgFAAAAQI5oBQAAAECOaAUAAABAjmgF\n",
       "AAAAQI5oBQAAAECOaAUAAABAjmgFAAAAQI5oBQAAAECOaAUAAABAjmgFAAAAQI5oBQAAAECOaAUA\n",
       "AABAjmgFAAAAQI5oBQAAAECOaAUAAABAjmgFAAAAQM7Fj9//Ob2BBR2/fTE9gQVtH92bnsBiNk83\n",
       "0xNY0M2n/q04ve3+4+kJLObz3XfTE1jQw3c+mp7AYry0AgAAACBHtAIAAAAgR7QCAAAAIEe0AgAA\n",
       "ACBHtAIAAAAgR7QCAAAAIEe0AgAAACBHtAIAAAAgR7QCAAAAIEe0AgAAACBHtAIAAAAgR7QCAAAA\n",
       "IEe0AgAAACBHtAIAAAAgR7QCAAAAIEe0AgAAACBHtAIAAAAgR7QCAAAAIEe0AgAAACBHtAIAAAAg\n",
       "R7QCAAAAIEe0AgAAACBHtAIAAAAgR7QCAAAAIEe0AgAAACBHtAIAAAAgR7QCAAAAIEe0AgAAACBH\n",
       "tAIAAAAgR7QCAAAAIEe0AgAAACBHtAIAAAAgR7QCAAAAIEe0AgAAACBHtAIAAAAgR7QCAAAAIEe0\n",
       "AgAAACBHtAIAAAAgR7QCAAAAIEe0AgAAACBHtAIAAAAgR7QCAAAAIEe0AgAAACBHtAIAAAAgR7QC\n",
       "AAAAIEe0AgAAACBHtAIAAAAgR7QCAAAAIEe0AgAAACBHtAIAAAAgR7QCAAAAIEe0AgAAACBHtAIA\n",
       "AAAgR7QCAAAAIEe0AgAAACBHtAIAAAAgR7QCAAAAIEe0AgAAACBHtAIAAAAgR7QCAAAAIEe0AgAA\n",
       "ACBHtAIAAAAgR7QCAAAAIEe0AgAAACBHtAIAAAAgR7QCAAAAIEe0AgAAACBHtAIAAAAgR7QCAAAA\n",
       "IEe0AgAAACBHtAIAAAAgR7QCAAAAIEe0AgAAACBHtAIAAAAgR7QCAAAAIEe0AgAAACBHtAIAAAAg\n",
       "R7QCAAAAIEe0AgAAACBHtAIAAAAgR7QCAAAAIEe0AgAAACBHtAIAAAAgR7QCAAAAIEe0AgAAACBH\n",
       "tAIAAAAgR7QCAAAAIEe0AgAAACBHtAIAAAAgR7QCAAAAIEe0AgAAACBHtAIAAAAgR7QCAAAAIEe0\n",
       "AgAAACBHtAIAAAAgR7QCAAAAIEe0AgAAACBHtAIAAAAgR7QCAAAAIEe0AgAAACBHtAIAAAAgR7QC\n",
       "AAAAIEe0AgAAACBHtAIAAAAgR7QCAAAAIEe0AgAAACBHtAIAAAAgR7QCAAAAIEe0AgAAACBHtAIA\n",
       "AAAgR7QCAAAAIEe0AgAAACBHtAIAAAAgR7QCAAAAIEe0AgAAACBHtAIAAAAgR7QCAAAAIEe0AgAA\n",
       "ACBHtAIAAAAgR7QCAAAAIEe0AgAAACBHtAIAAAAgR7QCAAAAIEe0AgAAACBHtAIAAAAgR7QCAAAA\n",
       "IEe0AgAAACBHtAIAAAAgR7QCAAAAIEe0AgAAACBHtAIAAAAgR7QCAAAAIEe0AgAAACBHtAIAAAAg\n",
       "R7QCAAAAIEe0AgAAACBHtAIAAAAgR7QCAAAAIEe0AgAAACBHtAIAAAAgR7QCAAAAIEe0AgAAACBH\n",
       "tAIAAAAgR7QCAAAAIEe0AgAAACBHtAIAAAAgR7QCAAAAIEe0AgAAACDnYrs/TG9gRY+uphewIPeK\n",
       "UztOD2BJbhW34Xjt34rT+vlsNz2BBb35xwfTE1iMl1YAAAAA5IhWAAAAAOSIVgAAAADkiFYAAAAA\n",
       "5IhWAAAAAOSIVgAAAADkiFYAAAAA5IhWAAAAAOSIVgAAAADkiFYAAAAA5IhWAAAAAOSIVgAAAADk\n",
       "iFYAAAAA5IhWAAAAAOSIVgAAAADkiFYAAAAA5IhWAAAAAOSIVgAAAADkiFYAAAAA5IhWAAAAAOSI\n",
       "VgAAAADkiFYAAAAA5IhWAAAAAOSIVgAAAADkiFYAAAAA5IhWAAAAAOSIVgAAAADkiFYAAAAA5IhW\n",
       "AAAAAOSIVgAAAADkiFYAAAAA5IhWAAAAAOSIVgAAAADkiFYAAAAA5IhWAAAAAOSIVgAAAADkiFYA\n",
       "AAAA5IhWAAAAAOSIVgAAAADkiFYAAAAA5IhWAAAAAOSIVgAAAADkiFYAAAAA5IhWAAAAAOSIVgAA\n",
       "AADkiFYAAAAA5IhWAAAAAOSIVgAAAADkiFYAAAAA5IhWAAAAAOSIVgAAAADkiFYAAAAA5IhWAAAA\n",
       "AOSIVgAAAADkiFYAAAAA5IhWAAAAAOSIVgAAAADkiFYAAAAA5IhWAAAAAOSIVgAAAADkiFYAAAAA\n",
       "5IhWAAAAAOSIVgAAAADkiFYAAAAA5IhWAAAAAOSIVgAAAADkiFYAAAAA5IhWAAAAAOSIVgAAAADk\n",
       "iFYAAAAA5IhWAAAAAOSIVgAAAADkiFYAAAAA5IhWAAAAAOSIVgAAAADkiFYAAAAA5IhWAAAAAOSI\n",
       "VgAAAADkiFYAAAAA5IhWAAAAAOSIVgAAAADkiFYAAAAA5IhWAAAAAOSIVgAAAADkiFYAAAAA5IhW\n",
       "AAAAAOSIVgAAAADkiFYAAAAA5IhWAAAAAOSIVgAAAADkiFYAAAAA5IhWAAAAAOSIVgAAAADkiFYA\n",
       "AAAA5IhWAAAAAOSIVgAAAADkiFYAAAAA5IhWAAAAAOSIVgAAAADkiFYAAAAA5IhWAAAAAOSIVgAA\n",
       "AADkiFYAAAAA5IhWAAAAAOSIVgAAAADkiFYAAAAA5IhWAAAAAOSIVgAAAADkiFYAAAAA5IhWAAAA\n",
       "AOSIVgAAAADkiFYAAAAA5IhWAAAAAOSIVgAAAADkiFYAAAAA5IhWAAAAAOSIVgAAAADkiFYAAAAA\n",
       "5IhWAAAAAOSIVgAAAADkiFYAAAAA5IhWAAAAAOSIVgAAAADkiFYAAAAA5IhWAAAAAOSIVgAAAADk\n",
       "iFYAAAAA5IhWAAAAAOSIVgAAAADkiFYAAAAA5IhWAAAAAOSIVgAAAADkiFYAAAAA5IhWAAAAAOSI\n",
       "VgAAAADkiFYAAAAA5IhWAAAAAOSIVgAAAADkiFYAAAAA5IhWAAAAAOSIVgAAAADkiFYAAAAA5IhW\n",
       "AAAAAOSIVgAAAADkiFYAAAAA5IhWAAAAAOSIVgAAAADkiFYAAAAA5IhWAAAAAOSc/fP8k9fTI1jP\n",
       "5reX0xNY0M27l9MTWMx2f5iewIKO11fTE1jQ5ukP0xNYzBtf30xPYEEf3v1iegKL8dIKAAAAgBzR\n",
       "CgAAAIAc0QoAAACAHNEKAAAAgBzRCgAAAIAc0QoAAACAHNEKAAAAgBzRCgAAAIAc0QoAAACAHNEK\n",
       "AAAAgBzRCgAAAIAc0QoAAACAHNEKAAAAgBzRCgAAAIAc0QoAAACAHNEKAAAAgBzRCgAAAIAc0QoA\n",
       "AACAHNEKAAAAgBzRCgAAAIAc0QoAAACAHNEKAAAAgBzRCgAAAIAc0QoAAACAHNEKAAAAgBzRCgAA\n",
       "AIAc0QoAAACAHNEKAAAAgBzRCgAAAIAc0QoAAACAHNEKAAAAgBzRCgAAAIAc0QoAAACAHNEKAAAA\n",
       "gBzRCgAAAIAc0QoAAACAHNEKAAAAgBzRCgAAAIAc0QoAAACAHNEKAAAAgBzRCgAAAIAc0QoAAACA\n",
       "HNEKAAAAgBzRCgAAAIAc0QoAAACAHNEKAAAAgBzRCgAAAIAc0QoAAACAHNEKAAAAgBzRCgAAAIAc\n",
       "0QoAAACAHNEKAAAAgBzRCgAAAIAc0QoAAACAHNEKAAAAgBzRCgAAAIAc0QoAAACAHNEKAAAAgBzR\n",
       "CgAAAIAc0QoAAACAHNEKAAAAgBzRCgAAAIAc0QoAAACAHNEKAAAAgBzRCgAAAIAc0QoAAACAHNEK\n",
       "AAAAgBzRCgAAAIAc0QoAAACAHNEKAAAAgBzRCgAAAIAc0QoAAACAHNEKAAAAgBzRCgAAAIAc0QoA\n",
       "AACAHNEKAAAAgBzRCgAAAIAc0QoAAACAHNEKAAAAgBzRCgAAAIAc0QoAAACAHNEKAAAAgBzRCgAA\n",
       "AIAc0QoAAACAHNEKAAAAgBzRCgAAAIAc0QoAAACAHNEKAAAAgBzRCgAAAIAc0QoAAACAHNEKAAAA\n",
       "gBzRCgAAAIAc0QoAAACAHNEKAAAAgBzRCgAAAIAc0QoAAACAHNEKAAAAgBzRCgAAAIAc0QoAAACA\n",
       "HNEKAAAAgBzRCgAAAIAc0QoAAACAHNEKAAAAgBzRCgAAAIAc0QoAAACAHNEKAAAAgBzRCgAAAIAc\n",
       "0QoAAACAHNEKAAAAgBzRCgAAAIAc0QoAAACAHNEKAAAAgBzRCgAAAIAc0QoAAACAHNEKAAAAgBzR\n",
       "CgAAAIAc0QoAAACAHNEKAAAAgBzRCgAAAIAc0QoAAACAHNEKAAAAgBzRCgAAAIAc0QoAAACAHNEK\n",
       "AAAAgBzRCgAAAIAc0QoAAACAHNEKAAAAgBzRCgAAAIAc0QoAAACAHNEKAAAAgBzRCgAAAIAc0QoA\n",
       "AACAHNEKAAAAgBzRCgAAAIAc0QoAAACAHNEKAAAAgBzRCgAAAIAc0QoAAACAHNEKAAAAgBzRCgAA\n",
       "AIAc0QoAAACAHNEKAAAAgBzRCgAAAIAc0QoAAACAHNEKAAAAgBzRCgAAAIAc0QoAAACAHNEKAAAA\n",
       "gBzRCgAAAICci+3+ML2BBR2vr6YnsCD3ilNzq7gNbhW34Tg9gOXc2+2mJ7CgB+eX0xNYjJdWAAAA\n",
       "AOSIVgAAAADkiFYAAAAA5IhWAAAAAOSIVgAAAADkiFYAAAAA5IhWAAAAAOSIVgAAAADkiFYAAAAA\n",
       "5IhWAAAAAOSIVgAAAADkiFYAAAAA5IhWAAAAAOSIVgAAAADkiFYAAAAA5IhWAAAAAOSIVgAAAADk\n",
       "iFYAAAAA5IhWAAAAAOSIVgAAAADkiFYAAAAA5IhWAAAAAOSIVgAAAADkiFYAAAAA5IhWAAAAAOSI\n",
       "VgAAAADkiFYAAAAA5IhWAAAAAOSIVgAAAADkiFYAAAAA5IhWAAAAAOSIVgAAAADkiFYAAAAA5IhW\n",
       "AAAAAOSIVgAAAADkiFYAAAAA5IhWAAAAAOSIVgAAAADkiFYAAAAA5IhWAAAAAOSIVgAAAADkiFYA\n",
       "AAAA5IhWAAAAAOSIVgAAAADkiFYAAAAA5IhWAAAAAOSIVgAAAADkiFYAAAAA5IhWAAAAAOSIVgAA\n",
       "AADkiFYAAAAA5IhWAAAAAOSIVgAAAADkiFYAAAAA5IhWAAAAAOSIVgAAAADkiFYAAAAA5IhWAAAA\n",
       "AOSIVgAAAADkiFYAAAAA5IhWAAAAAOSIVgAAAADkiFYAAAAA5IhWAAAAAOSIVgAAAADkiFYAAAAA\n",
       "5IhWAAAAAOSIVgAAAADkiFYAAAAA5IhWAAAAAOSIVgAAAADkiFYAAAAA5IhWAAAAAOSIVgAAAADk\n",
       "iFYAAAAA5IhWAAAAAOSIVgAAAADkiFYAAAAA5IhWAAAAAOSIVgAAAADkiFYAAAAA5IhWAAAAAOSI\n",
       "VgAAAADkiFYAAAAA5IhWAAAAAOSIVgAAAADkiFYAAAAA5IhWAAAAAOSIVgAAAADkiFYAAAAA5IhW\n",
       "AAAAAOSIVgAAAADkiFYAAAAA5IhWAAAAAOSIVgAAAADkiFYAAAAA5IhWAAAAAOSIVgAAAADkiFYA\n",
       "AAAA5IhWAAAAAOSIVgAAAADkiFYAAAAA5IhWAAAAAOSIVgAAAAD8364d4jQURVEUpZAKEoJC4Ugw\n",
       "hCbVKEbTQZEaBDOiGonCIwr5TILm7bysNYKjrti5OaIVAAAAADmiFQAAAAA5ohUAAAAAOaIVAAAA\n",
       "ADmiFQAAAAA5ohUAAAAAOaIVAAAAADmiFQAAAAA5ohUAAAAAOaIVAAAAADmiFQAAAAA5ohUAAAAA\n",
       "OaIVAAAAADmiFQAAAAA5ohUAAAAAOaIVAAAAADmiFQAAAAA5ohUAAAAAOaIVAAAAADmiFQAAAAA5\n",
       "ohUAAAAAOaIVAAAAADmiFQAAAAA5ohUAAAAAOaIVAAAAADmiFQAAAAA5ohUAAAAAOaIVAAAAADmi\n",
       "FQAAAAA5ohUAAAAAOaIVAAAAADmiFQAAAAA5ohUAAAAAOaIVAAAAADmiFQAAAAA5ohUAAAAAOaIV\n",
       "AAAAADmiFQAAAAA5ohUAAAAAOaIVAAAAADmiFQAAAAA5ohUAAAAAOaIVAAAAADmiFQAAAAA5q+/3\n",
       "52X0COaz3uxGT2BCx8N+9AQmc/H1OXoCE/q9uR09gQkdXz9GT2AyDy/3oycwocuz69ETmIxPKwAA\n",
       "AAByRCsAAAAAckQrAAAAAHJEKwAAAAByRCsAAAAAckQrAAAAAHJEKwAAAAByRCsAAAAAckQrAAAA\n",
       "AHJEKwAAAAByRCsAAAAAckQrAAAAAHJEKwAAAAByRCsAAAAAckQrAAAAAHJEKwAAAAByRCsAAAAA\n",
       "ckQrAAAAAHJEKwAAAAByRCsAAAAAckQrAAAAAHJEKwAAAAByRCsAAAAAckQrAAAAAHJEKwAAAABy\n",
       "RCsAAAAAckQrAAAAAHJEKwAAAAByRCsAAAAAckQrAAAAAHJEKwAAAAByRCsAAAAAckQrAAAAAHJE\n",
       "KwAAAAByRCsAAAAAckQrAAAAAHJEKwAAAAByRCsAAAAAckQrAAAAAHJEKwAAAAByRCsAAAAAckQr\n",
       "AAAAAHJEKwAAAAByRCsAAAAAckQrAAAAAHJEKwAAAAByRCsAAAAAckQrAAAAAHJEKwAAAAByRCsA\n",
       "AAAAckQrAAAAAHJEKwAAAAByRCsAAAAAckQrAAAAAHJEKwAAAAByRCsAAAAAckQrAAAAAHJEKwAA\n",
       "AAByRCsAAAAAckQrAAAAAHJEKwAAAAByRCsAAAAAckQrAAAAAHJEKwAAAAByRCsAAAAAckQrAAAA\n",
       "AHJEKwAAAAByRCsAAAAAckQrAAAAAHJEKwAAAAByRCsAAAAAckQrAAAAAHJEKwAAAAByRCsAAAAA\n",
       "ckQrAAAAAHJEKwAAAAByRCsAAAAAckQrAAAAAHJEKwAAAAByRCsAAAAAckQrAAAAAHJEKwAAAABy\n",
       "RCsAAAAAckQrAAAAAHJEKwAAAAByRCsAAAAAckQrAAAAAHJEKwAAAAByRCsAAAAAckQrAAAAAHJE\n",
       "KwAAAAByRCsAAAAAckQrAAAAAHJEKwAAAAByRCsAAAAAckQrAAAAAHJEKwAAAAByRCsAAAAAckQr\n",
       "AAAAAHJEKwAAAAByRCsAAAAAckQrAAAAAHJEKwAAAAByRCsAAAAAckQrAAAAAHJEKwAAAAByRCsA\n",
       "AAAAckQrAAAAAHJEKwAAAAByRCsAAAAAckQrAAAAAHJEKwAAAAByRCsAAAAAckQrAAAAAHJEKwAA\n",
       "AAByRCsAAAAAckQrAAAAAHJEKwAAAAByRCsAAAAAckQrAAAAAHJEKwAAAAByRCsAAAAAckQrAAAA\n",
       "AHJEKwAAAAByRCsAAAAAckQrAAAAAHJEKwAAAAByRCsAAAAAckQrAAAAAHJEKwAAAAByRCsAAAAA\n",
       "ckQrAAAAAHJEKwAAAAByRCsAAAAAckQrAAAAAHJEKwAAAAByRCsAAAAAckQrAAAAAHJEKwAAAABy\n",
       "RCsAAAAAckQrAAAAAHJEKwAAAAByRCsAAAAAckQrAAAAAHJEKwAAAAByRCsAAAAAckQrAAAAAHJE\n",
       "KwAAAAByRCsAAAAAclY/y9syegTzOR72oycwofVmN3oCk3GrOAW3ilNwr/hvj09Xoycwoe353egJ\n",
       "TManFQAAAAA5ohUAAAAAOaIVAAAAADmiFQAAAAA5ohUAAAAAOaIVAAAAADmiFQAAAAA5ohUAAAAA\n",
       "OaIVAAAAADmiFQAAAAA5ohUAAAAAOaIVAAAAADmiFQAAAAA5ohUAAAAAOaIVAAAAADmiFQAAAAA5\n",
       "ohUAAAAAOaIVAAAAADmiFQAAAAA5ohUAAAAAOaIVAAAAADmiFQAAAAA5ohUAAAAAOaIVAAAAADmi\n",
       "FQAAAAA5ohUAAAAAOaIVAAAAADmiFQAAAAA5ohUAAAAAOaIVAAAAADmiFQAAAAA5ohUAAAAAOaIV\n",
       "AAAAADmiFQAAAAA5ohUAAAAAOaIVAAAAADmiFQAAAAA5ohUAAAAAOaIVAAAAADmiFQAAAAA5ohUA\n",
       "AAAAOaIVAAAAADmiFQAAAAA5ohUAAAAAOaIVAAAAADmiFQAAAAA5ohUAAAAAOaIVAAAAADmiFQAA\n",
       "AAA5ohUAAAAAOaIVAAAAADmiFQAAAAA5ojq+yAIAAAKkSURBVBUAAAAAOaIVAAAAADmiFQAAAAA5\n",
       "ohUAAAAAOaIVAAAAADmiFQAAAAA5ohUAAAAAOaIVAAAAADmiFQAAAAA5ohUAAAAAOaIVAAAAADmi\n",
       "FQAAAAA5ohUAAAAAOaIVAAAAADmiFQAAAAA5ohUAAAAAOaIVAAAAADmiFQAAAAA5ohUAAAAAOaIV\n",
       "AAAAADmiFQAAAAA5ohUAAAAAOaIVAAAAADmiFQAAAAA5ohUAAAAAOaIVAAAAADmiFQAAAAA5ohUA\n",
       "AAAAOaIVAAAAADmiFQAAAAA5ohUAAAAAOaIVAAAAADmiFQAAAAA5ohUAAAAAOaIVAAAAADmiFQAA\n",
       "AAA5ohUAAAAAOaIVAAAAADmiFQAAAAA5ohUAAAAAOaIVAAAAADmiFQAAAAA5ohUAAAAAOaIVAAAA\n",
       "ADmiFQAAAAA5ohUAAAAAOaIVAAAAADmiFQAAAAA5ohUAAAAAOaIVAAAAADmiFQAAAAA5ohUAAAAA\n",
       "OaIVAAAAADmiFQAAAAA5ohUAAAAAOaIVAAAAADmiFQAAAAA5ohUAAAAAOaIVAAAAADmiFQAAAAA5\n",
       "ohUAAAAAOaIVAAAAADmiFQAAAAA5ohUAAAAAOaIVAAAAADmiFQAAAAA5ohUAAAAAOaIVAAAAADmi\n",
       "FQAAAAA5ohUAAAAAOaIVAAAAADmiFQAAAAA5ohUAAAAAOaIVAAAAADmiFQAAAAA5ohUAAAAAOaIV\n",
       "AAAAADmiFQAAAAA5ohUAAAAAOaIVAAAAADmiFQAAAAA5ohUAAAAAOaIVAAAAADmiFQAAAAA5ohUA\n",
       "AAAAOaIVAAAAADmiFQAAAAA5ohUAAAAAOaIVAAAAADmiFQAAAAA5ohUAAAAAOaIVAAAAADmiFQAA\n",
       "AAA5ohUAAAAAOaIVAAAAADmiFQAAAAA5f01CZKY3q1aBAAAAAElFTkSuQmCC\n",
       "\" transform=\"translate(133, 160)\"/>\n",
       "</g>\n",
       "<defs>\n",
       "  <clipPath id=\"clip383\">\n",
       "    <rect x=\"1361\" y=\"131\" width=\"49\" height=\"1255\"/>\n",
       "  </clipPath>\n",
       "</defs>\n",
       "<g clip-path=\"url(#clip383)\">\n",
       "<image width=\"48\" height=\"1254\" xlink:href=\"data:image/png;base64,\n",
       "iVBORw0KGgoAAAANSUhEUgAAADAAAATmCAYAAABnKiKmAAAHZ0lEQVR4nO3c0Q2kOBRFQXrl/KPY\n",
       "LHcGbxB8lK50KgKOkPWMofv35/33PsP+0RfwVQHafMB57x99DZ/M34ECtPmAc+9ffQ2fzN+BArT5\n",
       "gCaxVoA2H3Bui9gqQJsPOPdtEVMFaPMBTWKtAG0+oEWsFaDNB7Sd1grQ5gPO0yS2CtDajWoFaPMB\n",
       "52k3ahWgzQec5/1PX8Mn83egAG0+oEdKrQBtPqDttFaANh/QItYK0OYD2k5rBWjzAefXJLYK0OYD\n",
       "zvP2c1yqAG0+oEmsFaA1yLQCtPmADne1ArT5gPNrElsFaPMBvaHRCtDmA5rEWgHafEAHW1oB2nxA\n",
       "k1grQJsPaBJrBWjzAU1irQBtPuA876uv4ZP5O1CA1iDTCtDmA3qk1ArQ5gNaxFoB2nzA+fVIaRWg\n",
       "zQc0ibUCtPmADne1ArT5gLbTWgHafEDbaa0AbT6g7bRWgDYf0CLWCtD64EkrQJsPaJBpBWjzAS1i\n",
       "rQBtPqBFrBWgzQe0iLUCtPmA89wWMVWANh/QJNYK0OYDWsRaAdp8QItYK0CbDzjPe/U1fDJ/BwrQ\n",
       "GmRaAdp8QINMK0CbD2gSawVo8wFNYq0AbT7gPNuDeP8OFKDNB5znNompArT5gCaxVoA2H9Ai1grQ\n",
       "5gPO+M8H9u9AAdp8QJNYK0BrDWgFaPMB53l/+ho+mb8DBWjzAefeFjFVgDYf0HZaK0CbD2g7rRWg\n",
       "zQec+243bF/9U4A3H9Ak1grQ5gPO08GWVYA2H3Buk9gqQDtPj5RWAdp8QINMK0CbD+iRUitAmw/o\n",
       "DY1WgDYf0BsarQBtPqBnYq0AbT7g3LvdsH31TwHefEDbaa0AbT6g7bRWgDYfcJ6201YBWoNMK0Cb\n",
       "D2gRawVo8wF98KQVoM0H9MGTVoA2H9DftGkFaPMBPRNrBWjzAf0cVytAmw9oO60VoM0HtJ3WCtDm\n",
       "A5rEWgFab2i0ArT5gAaZVoA2H9AjpVaANh/QJNYK0OYD+km6VoA2H9Cfw2gFaPMBbae1ArT5gA62\n",
       "tAK0+YAmsVaANh9w3haxVYDWB09aAdp8QLtRrQBtPqBFrBWgzQd0uKsVoM0HNIm1ArT5gBaxVoA2\n",
       "H9BXi1oB2nzAeXsmtgrQ5gPaTmsFaPMBLWKtAK01oBWgzQf05a5WgDYf0CTWCtDmA1rEWgHafECv\n",
       "WbUCtPmAXrNqBWjzAW2ntQK0+YAWsVaANh/QKyatAG0+oEmsFaCd+7QGqAK0+YB2o1oB2nxAu1Gt\n",
       "AG0+oEmsFaDNBzSJtQK0+YAmsVaANh/QJNYK0OYDWsRaAdp8wHl7T2wVoDXItAK0+YDOhbQCtPmA\n",
       "c6++hG/m70AB2nxAk1grQJsP6PcDWgHafECTWCtAmw/odForQJsP6DWrVoA2H9DptFaANh/QM7FW\n",
       "gNYjpVaANh/QI6VWgDYf0G5UK0CbD+hcSCtAmw9oO60VoM0HdLClFaDNB5xXX8FH83egAG0+oEms\n",
       "FaDNB3Q6rRWgzQe0ndYK0NqNagVo8wENMq0AbT6gSawVoM0HdC6kFaDNB5zxjxb370AB2nxAk1gr\n",
       "QJsP6GBLK0CbD+hgSytAmw9oEmsFaPMBTWKtAO2846e783egAG0+oN2oVoA2H9BuVCtAmw9oEmsF\n",
       "aPMB/U2bVoA2H9DftGkFaPMBnU5rBWjzAf1+QCtAmw/o9wNaAdp8QAdbWgFab2i0ArT5gL6V0ArQ\n",
       "5gOaxFoB2nxAb2i0ArT5gN7QaAVo8wFNYq0AbT6gNzRaAdp8QJ8eawVo8wFtp7UCtPmADra0ArQG\n",
       "mVaANh/QINMK0OYDmsRaAdp8QItYK0CbD2g7rRWgzQc0ibUCtPmAJrFWgDYf0CTWCtDmA/r0WCtA\n",
       "mw/oN/VaAVq7Ua0AbT7g3Gd7Fc/fgQK0+YAmsVaANh/QuZBWgDYf0LmQVoA2H9B2WitAmw/oYEsr\n",
       "QJsPaBJrBWjzAX16rBWgnXf8dHf+DhSgzQd0uKsVoM0HnNsktgrQ5gOaxFoB2nxAz8RaAdp8QIe7\n",
       "WgHafMB5+1bCKkCbD2g7rRWgzQf01aJWgDYf0Om0VoDWI6VWgDYf0G5UK0CbDzjvs70fnb8DBWjz\n",
       "AW2ntQK0+YAWsVaANh/QM7FWgDYf0DOxVoA2H3DeX5OYKkCbD2gSawVo8wHntoitArQGmVaANh9w\n",
       "3l+LmCpAmw9oEmsFaPMBPVJqBWjzAU1irQBtPqBFrBWgzQd0sKUVoM0HnPv81dfwyfwdKECbD2g7\n",
       "rRWgzQd0Oq0VoJ33thulCtDmAxpkWgHafMB5OxeyCtDmA5rEWgHafECTWCtAmw849zaJqQK0+YC2\n",
       "01oB2nxAr5i0ArT5gCaxVoA2H3Buk9gqQGuQaQVo8wHn7XDXKkCbD+iHcFoB2nxAr1m1ArT5gJ6J\n",
       "tQK0+YAmsVaANh/QItYK0OYDOtjSCtDmA5rEWgHafMB5OtiyCtAaZFoB2nxAb2i0ArT5gPM0ia0C\n",
       "tPmADne1ArT5gM6FtAK0+YC201oB2nzAuc/V1/DJ/B0oQJsPaDutFaDNB5ynSWwVoP0P0fns22pN\n",
       "wR8AAAAASUVORK5CYII=\n",
       "\" transform=\"translate(1362, 131)\"/>\n",
       "</g>\n",
       "<path clip-path=\"url(#clip380)\" d=\"M1433.76 1222.71 L1463.44 1222.71 L1463.44 1226.64 L1433.76 1226.64 L1433.76 1222.71 Z\" fill=\"#000000\" fill-rule=\"nonzero\" fill-opacity=\"1\" /><path clip-path=\"url(#clip380)\" d=\"M1483.53 1208.06 Q1479.92 1208.06 1478.09 1211.62 Q1476.29 1215.16 1476.29 1222.29 Q1476.29 1229.4 1478.09 1232.96 Q1479.92 1236.51 1483.53 1236.51 Q1487.17 1236.51 1488.97 1232.96 Q1490.8 1229.4 1490.8 1222.29 Q1490.8 1215.16 1488.97 1211.62 Q1487.17 1208.06 1483.53 1208.06 M1483.53 1204.35 Q1489.34 1204.35 1492.4 1208.96 Q1495.48 1213.54 1495.48 1222.29 Q1495.48 1231.02 1492.4 1235.63 Q1489.34 1240.21 1483.53 1240.21 Q1477.72 1240.21 1474.64 1235.63 Q1471.59 1231.02 1471.59 1222.29 Q1471.59 1213.54 1474.64 1208.96 Q1477.72 1204.35 1483.53 1204.35 Z\" fill=\"#000000\" fill-rule=\"nonzero\" fill-opacity=\"1\" /><path clip-path=\"url(#clip380)\" d=\"M1503.69 1233.66 L1508.58 1233.66 L1508.58 1239.54 L1503.69 1239.54 L1503.69 1233.66 Z\" fill=\"#000000\" fill-rule=\"nonzero\" fill-opacity=\"1\" /><path clip-path=\"url(#clip380)\" d=\"M1518.81 1204.98 L1537.17 1204.98 L1537.17 1208.91 L1523.09 1208.91 L1523.09 1217.39 Q1524.11 1217.04 1525.13 1216.88 Q1526.15 1216.69 1527.17 1216.69 Q1532.95 1216.69 1536.33 1219.86 Q1539.71 1223.03 1539.71 1228.45 Q1539.71 1234.03 1536.24 1237.13 Q1532.77 1240.21 1526.45 1240.21 Q1524.27 1240.21 1522 1239.84 Q1519.76 1239.47 1517.35 1238.73 L1517.35 1234.03 Q1519.43 1235.16 1521.66 1235.72 Q1523.88 1236.27 1526.36 1236.27 Q1530.36 1236.27 1532.7 1234.17 Q1535.04 1232.06 1535.04 1228.45 Q1535.04 1224.84 1532.7 1222.73 Q1530.36 1220.63 1526.36 1220.63 Q1524.48 1220.63 1522.61 1221.04 Q1520.75 1221.46 1518.81 1222.34 L1518.81 1204.98 Z\" fill=\"#000000\" fill-rule=\"nonzero\" fill-opacity=\"1\" /><path clip-path=\"url(#clip380)\" d=\"M1558.93 1208.06 Q1555.31 1208.06 1553.49 1211.62 Q1551.68 1215.16 1551.68 1222.29 Q1551.68 1229.4 1553.49 1232.96 Q1555.31 1236.51 1558.93 1236.51 Q1562.56 1236.51 1564.36 1232.96 Q1566.19 1229.4 1566.19 1222.29 Q1566.19 1215.16 1564.36 1211.62 Q1562.56 1208.06 1558.93 1208.06 M1558.93 1204.35 Q1564.74 1204.35 1567.79 1208.96 Q1570.87 1213.54 1570.87 1222.29 Q1570.87 1231.02 1567.79 1235.63 Q1564.74 1240.21 1558.93 1240.21 Q1553.11 1240.21 1550.04 1235.63 Q1546.98 1231.02 1546.98 1222.29 Q1546.98 1213.54 1550.04 1208.96 Q1553.11 1204.35 1558.93 1204.35 Z\" fill=\"#000000\" fill-rule=\"nonzero\" fill-opacity=\"1\" /><path clip-path=\"url(#clip380)\" d=\"M1433.76 1040.24 L1463.44 1040.24 L1463.44 1044.18 L1433.76 1044.18 L1433.76 1040.24 Z\" fill=\"#000000\" fill-rule=\"nonzero\" fill-opacity=\"1\" /><path clip-path=\"url(#clip380)\" d=\"M1483.53 1025.59 Q1479.92 1025.59 1478.09 1029.16 Q1476.29 1032.7 1476.29 1039.83 Q1476.29 1046.93 1478.09 1050.5 Q1479.92 1054.04 1483.53 1054.04 Q1487.17 1054.04 1488.97 1050.5 Q1490.8 1046.93 1490.8 1039.83 Q1490.8 1032.7 1488.97 1029.16 Q1487.17 1025.59 1483.53 1025.59 M1483.53 1021.89 Q1489.34 1021.89 1492.4 1026.49 Q1495.48 1031.08 1495.48 1039.83 Q1495.48 1048.55 1492.4 1053.16 Q1489.34 1057.74 1483.53 1057.74 Q1477.72 1057.74 1474.64 1053.16 Q1471.59 1048.55 1471.59 1039.83 Q1471.59 1031.08 1474.64 1026.49 Q1477.72 1021.89 1483.53 1021.89 Z\" fill=\"#000000\" fill-rule=\"nonzero\" fill-opacity=\"1\" /><path clip-path=\"url(#clip380)\" d=\"M1503.69 1051.19 L1508.58 1051.19 L1508.58 1057.07 L1503.69 1057.07 L1503.69 1051.19 Z\" fill=\"#000000\" fill-rule=\"nonzero\" fill-opacity=\"1\" /><path clip-path=\"url(#clip380)\" d=\"M1522.79 1053.14 L1539.11 1053.14 L1539.11 1057.07 L1517.17 1057.07 L1517.17 1053.14 Q1519.83 1050.38 1524.41 1045.75 Q1529.02 1041.1 1530.2 1039.76 Q1532.44 1037.24 1533.32 1035.5 Q1534.23 1033.74 1534.23 1032.05 Q1534.23 1029.3 1532.28 1027.56 Q1530.36 1025.82 1527.26 1025.82 Q1525.06 1025.82 1522.61 1026.59 Q1520.18 1027.35 1517.4 1028.9 L1517.4 1024.18 Q1520.22 1023.05 1522.68 1022.47 Q1525.13 1021.89 1527.17 1021.89 Q1532.54 1021.89 1535.73 1024.57 Q1538.93 1027.26 1538.93 1031.75 Q1538.93 1033.88 1538.12 1035.8 Q1537.33 1037.7 1535.22 1040.29 Q1534.64 1040.96 1531.54 1044.18 Q1528.44 1047.37 1522.79 1053.14 Z\" fill=\"#000000\" fill-rule=\"nonzero\" fill-opacity=\"1\" /><path clip-path=\"url(#clip380)\" d=\"M1548.97 1022.51 L1567.33 1022.51 L1567.33 1026.45 L1553.25 1026.45 L1553.25 1034.92 Q1554.27 1034.57 1555.29 1034.41 Q1556.31 1034.23 1557.33 1034.23 Q1563.11 1034.23 1566.49 1037.4 Q1569.87 1040.57 1569.87 1045.99 Q1569.87 1051.56 1566.4 1054.67 Q1562.93 1057.74 1556.61 1057.74 Q1554.43 1057.74 1552.17 1057.37 Q1549.92 1057 1547.51 1056.26 L1547.51 1051.56 Q1549.6 1052.7 1551.82 1053.25 Q1554.04 1053.81 1556.52 1053.81 Q1560.52 1053.81 1562.86 1051.7 Q1565.2 1049.6 1565.2 1045.99 Q1565.2 1042.37 1562.86 1040.27 Q1560.52 1038.16 1556.52 1038.16 Q1554.64 1038.16 1552.77 1038.58 Q1550.92 1038.99 1548.97 1039.87 L1548.97 1022.51 Z\" fill=\"#000000\" fill-rule=\"nonzero\" fill-opacity=\"1\" /><path clip-path=\"url(#clip380)\" d=\"M1445.71 843.127 Q1442.1 843.127 1440.27 846.692 Q1438.46 850.233 1438.46 857.363 Q1438.46 864.469 1440.27 868.034 Q1442.1 871.576 1445.71 871.576 Q1449.34 871.576 1451.15 868.034 Q1452.98 864.469 1452.98 857.363 Q1452.98 850.233 1451.15 846.692 Q1449.34 843.127 1445.71 843.127 M1445.71 839.423 Q1451.52 839.423 1454.57 844.03 Q1457.65 848.613 1457.65 857.363 Q1457.65 866.09 1454.57 870.696 Q1451.52 875.279 1445.71 875.279 Q1439.9 875.279 1436.82 870.696 Q1433.76 866.09 1433.76 857.363 Q1433.76 848.613 1436.82 844.03 Q1439.9 839.423 1445.71 839.423 Z\" fill=\"#000000\" fill-rule=\"nonzero\" fill-opacity=\"1\" /><path clip-path=\"url(#clip380)\" d=\"M1445.71 660.662 Q1442.1 660.662 1440.27 664.227 Q1438.46 667.768 1438.46 674.898 Q1438.46 682.004 1440.27 685.569 Q1442.1 689.111 1445.71 689.111 Q1449.34 689.111 1451.15 685.569 Q1452.98 682.004 1452.98 674.898 Q1452.98 667.768 1451.15 664.227 Q1449.34 660.662 1445.71 660.662 M1445.71 656.958 Q1451.52 656.958 1454.57 661.565 Q1457.65 666.148 1457.65 674.898 Q1457.65 683.625 1454.57 688.231 Q1451.52 692.814 1445.71 692.814 Q1439.9 692.814 1436.82 688.231 Q1433.76 683.625 1433.76 674.898 Q1433.76 666.148 1436.82 661.565 Q1439.9 656.958 1445.71 656.958 Z\" fill=\"#000000\" fill-rule=\"nonzero\" fill-opacity=\"1\" /><path clip-path=\"url(#clip380)\" d=\"M1465.87 686.264 L1470.75 686.264 L1470.75 692.143 L1465.87 692.143 L1465.87 686.264 Z\" fill=\"#000000\" fill-rule=\"nonzero\" fill-opacity=\"1\" /><path clip-path=\"url(#clip380)\" d=\"M1484.97 688.208 L1501.29 688.208 L1501.29 692.143 L1479.34 692.143 L1479.34 688.208 Q1482 685.453 1486.59 680.824 Q1491.19 676.171 1492.37 674.828 Q1494.62 672.305 1495.5 670.569 Q1496.4 668.81 1496.4 667.12 Q1496.4 664.366 1494.46 662.629 Q1492.54 660.893 1489.43 660.893 Q1487.24 660.893 1484.78 661.657 Q1482.35 662.421 1479.57 663.972 L1479.57 659.25 Q1482.4 658.116 1484.85 657.537 Q1487.31 656.958 1489.34 656.958 Q1494.71 656.958 1497.91 659.643 Q1501.1 662.329 1501.1 666.819 Q1501.1 668.949 1500.29 670.87 Q1499.5 672.768 1497.4 675.361 Q1496.82 676.032 1493.72 679.25 Q1490.62 682.444 1484.97 688.208 Z\" fill=\"#000000\" fill-rule=\"nonzero\" fill-opacity=\"1\" /><path clip-path=\"url(#clip380)\" d=\"M1511.15 657.583 L1529.5 657.583 L1529.5 661.518 L1515.43 661.518 L1515.43 669.991 Q1516.45 669.643 1517.47 669.481 Q1518.49 669.296 1519.5 669.296 Q1525.29 669.296 1528.67 672.467 Q1532.05 675.639 1532.05 681.055 Q1532.05 686.634 1528.58 689.736 Q1525.11 692.814 1518.79 692.814 Q1516.61 692.814 1514.34 692.444 Q1512.1 692.074 1509.69 691.333 L1509.69 686.634 Q1511.77 687.768 1513.99 688.324 Q1516.22 688.879 1518.69 688.879 Q1522.7 688.879 1525.04 686.773 Q1527.37 684.666 1527.37 681.055 Q1527.37 677.444 1525.04 675.338 Q1522.7 673.231 1518.69 673.231 Q1516.82 673.231 1514.94 673.648 Q1513.09 674.065 1511.15 674.944 L1511.15 657.583 Z\" fill=\"#000000\" fill-rule=\"nonzero\" fill-opacity=\"1\" /><path clip-path=\"url(#clip380)\" d=\"M1445.71 478.197 Q1442.1 478.197 1440.27 481.762 Q1438.46 485.303 1438.46 492.433 Q1438.46 499.54 1440.27 503.104 Q1442.1 506.646 1445.71 506.646 Q1449.34 506.646 1451.15 503.104 Q1452.98 499.54 1452.98 492.433 Q1452.98 485.303 1451.15 481.762 Q1449.34 478.197 1445.71 478.197 M1445.71 474.493 Q1451.52 474.493 1454.57 479.1 Q1457.65 483.683 1457.65 492.433 Q1457.65 501.16 1454.57 505.766 Q1451.52 510.35 1445.71 510.35 Q1439.9 510.35 1436.82 505.766 Q1433.76 501.16 1433.76 492.433 Q1433.76 483.683 1436.82 479.1 Q1439.9 474.493 1445.71 474.493 Z\" fill=\"#000000\" fill-rule=\"nonzero\" fill-opacity=\"1\" /><path clip-path=\"url(#clip380)\" d=\"M1465.87 503.799 L1470.75 503.799 L1470.75 509.678 L1465.87 509.678 L1465.87 503.799 Z\" fill=\"#000000\" fill-rule=\"nonzero\" fill-opacity=\"1\" /><path clip-path=\"url(#clip380)\" d=\"M1480.99 475.118 L1499.34 475.118 L1499.34 479.053 L1485.27 479.053 L1485.27 487.526 Q1486.29 487.178 1487.31 487.016 Q1488.32 486.831 1489.34 486.831 Q1495.13 486.831 1498.51 490.003 Q1501.89 493.174 1501.89 498.59 Q1501.89 504.169 1498.42 507.271 Q1494.94 510.35 1488.62 510.35 Q1486.45 510.35 1484.18 509.979 Q1481.93 509.609 1479.53 508.868 L1479.53 504.169 Q1481.61 505.303 1483.83 505.859 Q1486.06 506.414 1488.53 506.414 Q1492.54 506.414 1494.87 504.308 Q1497.21 502.202 1497.21 498.59 Q1497.21 494.979 1494.87 492.873 Q1492.54 490.766 1488.53 490.766 Q1486.66 490.766 1484.78 491.183 Q1482.93 491.6 1480.99 492.479 L1480.99 475.118 Z\" fill=\"#000000\" fill-rule=\"nonzero\" fill-opacity=\"1\" /><path clip-path=\"url(#clip380)\" d=\"M1521.1 478.197 Q1517.49 478.197 1515.66 481.762 Q1513.86 485.303 1513.86 492.433 Q1513.86 499.54 1515.66 503.104 Q1517.49 506.646 1521.1 506.646 Q1524.74 506.646 1526.54 503.104 Q1528.37 499.54 1528.37 492.433 Q1528.37 485.303 1526.54 481.762 Q1524.74 478.197 1521.1 478.197 M1521.1 474.493 Q1526.91 474.493 1529.97 479.1 Q1533.05 483.683 1533.05 492.433 Q1533.05 501.16 1529.97 505.766 Q1526.91 510.35 1521.1 510.35 Q1515.29 510.35 1512.21 505.766 Q1509.16 501.16 1509.16 492.433 Q1509.16 483.683 1512.21 479.1 Q1515.29 474.493 1521.1 474.493 Z\" fill=\"#000000\" fill-rule=\"nonzero\" fill-opacity=\"1\" /><path clip-path=\"url(#clip380)\" d=\"M1445.71 295.732 Q1442.1 295.732 1440.27 299.297 Q1438.46 302.839 1438.46 309.968 Q1438.46 317.075 1440.27 320.639 Q1442.1 324.181 1445.71 324.181 Q1449.34 324.181 1451.15 320.639 Q1452.98 317.075 1452.98 309.968 Q1452.98 302.839 1451.15 299.297 Q1449.34 295.732 1445.71 295.732 M1445.71 292.028 Q1451.52 292.028 1454.57 296.635 Q1457.65 301.218 1457.65 309.968 Q1457.65 318.695 1454.57 323.301 Q1451.52 327.885 1445.71 327.885 Q1439.9 327.885 1436.82 323.301 Q1433.76 318.695 1433.76 309.968 Q1433.76 301.218 1436.82 296.635 Q1439.9 292.028 1445.71 292.028 Z\" fill=\"#000000\" fill-rule=\"nonzero\" fill-opacity=\"1\" /><path clip-path=\"url(#clip380)\" d=\"M1465.87 321.334 L1470.75 321.334 L1470.75 327.213 L1465.87 327.213 L1465.87 321.334 Z\" fill=\"#000000\" fill-rule=\"nonzero\" fill-opacity=\"1\" /><path clip-path=\"url(#clip380)\" d=\"M1479.76 292.653 L1501.98 292.653 L1501.98 294.644 L1489.43 327.213 L1484.55 327.213 L1496.36 296.589 L1479.76 296.589 L1479.76 292.653 Z\" fill=\"#000000\" fill-rule=\"nonzero\" fill-opacity=\"1\" /><path clip-path=\"url(#clip380)\" d=\"M1511.15 292.653 L1529.5 292.653 L1529.5 296.589 L1515.43 296.589 L1515.43 305.061 Q1516.45 304.714 1517.47 304.552 Q1518.49 304.366 1519.5 304.366 Q1525.29 304.366 1528.67 307.538 Q1532.05 310.709 1532.05 316.126 Q1532.05 321.704 1528.58 324.806 Q1525.11 327.885 1518.79 327.885 Q1516.61 327.885 1514.34 327.514 Q1512.1 327.144 1509.69 326.403 L1509.69 321.704 Q1511.77 322.838 1513.99 323.394 Q1516.22 323.95 1518.69 323.95 Q1522.7 323.95 1525.04 321.843 Q1527.37 319.737 1527.37 316.126 Q1527.37 312.514 1525.04 310.408 Q1522.7 308.302 1518.69 308.302 Q1516.82 308.302 1514.94 308.718 Q1513.09 309.135 1511.15 310.014 L1511.15 292.653 Z\" fill=\"#000000\" fill-rule=\"nonzero\" fill-opacity=\"1\" /><path clip-path=\"url(#clip380)\" d=\"M1434.44 140.813 L1442.07 140.813 L1442.07 114.448 L1433.76 116.114 L1433.76 111.855 L1442.03 110.189 L1446.7 110.189 L1446.7 140.813 L1454.34 140.813 L1454.34 144.749 L1434.44 144.749 L1434.44 140.813 Z\" fill=\"#000000\" fill-rule=\"nonzero\" fill-opacity=\"1\" /><path clip-path=\"url(#clip380)\" d=\"M1463.79 138.869 L1468.67 138.869 L1468.67 144.749 L1463.79 144.749 L1463.79 138.869 Z\" fill=\"#000000\" fill-rule=\"nonzero\" fill-opacity=\"1\" /><path clip-path=\"url(#clip380)\" d=\"M1488.86 113.267 Q1485.24 113.267 1483.42 116.832 Q1481.61 120.374 1481.61 127.503 Q1481.61 134.61 1483.42 138.175 Q1485.24 141.716 1488.86 141.716 Q1492.49 141.716 1494.3 138.175 Q1496.12 134.61 1496.12 127.503 Q1496.12 120.374 1494.3 116.832 Q1492.49 113.267 1488.86 113.267 M1488.86 109.564 Q1494.67 109.564 1497.72 114.17 Q1500.8 118.753 1500.8 127.503 Q1500.8 136.23 1497.72 140.837 Q1494.67 145.42 1488.86 145.42 Q1483.05 145.42 1479.97 140.837 Q1476.91 136.23 1476.91 127.503 Q1476.91 118.753 1479.97 114.17 Q1483.05 109.564 1488.86 109.564 Z\" fill=\"#000000\" fill-rule=\"nonzero\" fill-opacity=\"1\" /><path clip-path=\"url(#clip380)\" d=\"M1519.02 113.267 Q1515.41 113.267 1513.58 116.832 Q1511.77 120.374 1511.77 127.503 Q1511.77 134.61 1513.58 138.175 Q1515.41 141.716 1519.02 141.716 Q1522.65 141.716 1524.46 138.175 Q1526.29 134.61 1526.29 127.503 Q1526.29 120.374 1524.46 116.832 Q1522.65 113.267 1519.02 113.267 M1519.02 109.564 Q1524.83 109.564 1527.88 114.17 Q1530.96 118.753 1530.96 127.503 Q1530.96 136.23 1527.88 140.837 Q1524.83 145.42 1519.02 145.42 Q1513.21 145.42 1510.13 140.837 Q1507.07 136.23 1507.07 127.503 Q1507.07 118.753 1510.13 114.17 Q1513.21 109.564 1519.02 109.564 Z\" fill=\"#000000\" fill-rule=\"nonzero\" fill-opacity=\"1\" /><polyline clip-path=\"url(#clip380)\" style=\"stroke:#000000; stroke-linecap:round; stroke-linejoin:round; stroke-width:4; stroke-opacity:1; fill:none\" points=\"1409.76,1385.31 1409.76,1225.89 1425.76,1225.89 1409.76,1225.89 1409.76,1043.42 1425.76,1043.42 1409.76,1043.42 1409.76,860.957 1425.76,860.957 1409.76,860.957 1409.76,678.492 1425.76,678.492 1409.76,678.492 1409.76,496.027 1425.76,496.027 1409.76,496.027 1409.76,313.562 1425.76,313.562 1409.76,313.562 1409.76,131.097 1425.76,131.097 1409.76,131.097 \"/>\n",
       "</svg>\n"
      ]
     },
     "metadata": {},
     "output_type": "display_data"
    }
   ],
   "source": [
    "heatmap(names(aq_df), names(aq_df), cor_matrix,\n",
    "aspect_ratio=:equal, size=(400,400),\n",
    "rightmargin=5Plots.mm)"
   ]
  },
  {
   "attachments": {},
   "cell_type": "markdown",
   "metadata": {},
   "source": [
    "## Create dataframes step-by-step"
   ]
  },
  {
   "cell_type": "code",
   "execution_count": 117,
   "metadata": {},
   "outputs": [
    {
     "data": {
      "text/plain": [
       "10-element Vector{Int64}:\n",
       "  2\n",
       "  3\n",
       "  4\n",
       "  5\n",
       "  6\n",
       "  7\n",
       "  8\n",
       "  9\n",
       " 10\n",
       " 11"
      ]
     },
     "metadata": {},
     "output_type": "display_data"
    }
   ],
   "source": [
    "v = collect(1:10)\n",
    "y = collect(2:11)"
   ]
  },
  {
   "cell_type": "code",
   "execution_count": 118,
   "metadata": {},
   "outputs": [
    {
     "data": {
      "text/html": [
       "<div><div style = \"float: left;\"><span>10×2 DataFrame</span></div><div style = \"clear: both;\"></div></div><div class = \"data-frame\" style = \"overflow-x: scroll;\"><table class = \"data-frame\" style = \"margin-bottom: 6px;\"><thead><tr class = \"header\"><th class = \"rowNumber\" style = \"font-weight: bold; text-align: right;\">Row</th><th style = \"text-align: left;\">x1</th><th style = \"text-align: left;\">x2</th></tr><tr class = \"subheader headerLastRow\"><th class = \"rowNumber\" style = \"font-weight: bold; text-align: right;\"></th><th title = \"Int64\" style = \"text-align: left;\">Int64</th><th title = \"Int64\" style = \"text-align: left;\">Int64</th></tr></thead><tbody><tr><td class = \"rowNumber\" style = \"font-weight: bold; text-align: right;\">1</td><td style = \"text-align: right;\">1</td><td style = \"text-align: right;\">2</td></tr><tr><td class = \"rowNumber\" style = \"font-weight: bold; text-align: right;\">2</td><td style = \"text-align: right;\">2</td><td style = \"text-align: right;\">3</td></tr><tr><td class = \"rowNumber\" style = \"font-weight: bold; text-align: right;\">3</td><td style = \"text-align: right;\">3</td><td style = \"text-align: right;\">4</td></tr><tr><td class = \"rowNumber\" style = \"font-weight: bold; text-align: right;\">4</td><td style = \"text-align: right;\">4</td><td style = \"text-align: right;\">5</td></tr><tr><td class = \"rowNumber\" style = \"font-weight: bold; text-align: right;\">5</td><td style = \"text-align: right;\">5</td><td style = \"text-align: right;\">6</td></tr><tr><td class = \"rowNumber\" style = \"font-weight: bold; text-align: right;\">6</td><td style = \"text-align: right;\">6</td><td style = \"text-align: right;\">7</td></tr><tr><td class = \"rowNumber\" style = \"font-weight: bold; text-align: right;\">7</td><td style = \"text-align: right;\">7</td><td style = \"text-align: right;\">8</td></tr><tr><td class = \"rowNumber\" style = \"font-weight: bold; text-align: right;\">8</td><td style = \"text-align: right;\">8</td><td style = \"text-align: right;\">9</td></tr><tr><td class = \"rowNumber\" style = \"font-weight: bold; text-align: right;\">9</td><td style = \"text-align: right;\">9</td><td style = \"text-align: right;\">10</td></tr><tr><td class = \"rowNumber\" style = \"font-weight: bold; text-align: right;\">10</td><td style = \"text-align: right;\">10</td><td style = \"text-align: right;\">11</td></tr></tbody></table></div>"
      ],
      "text/latex": [
       "\\begin{tabular}{r|cc}\n",
       "\t& x1 & x2\\\\\n",
       "\t\\hline\n",
       "\t& Int64 & Int64\\\\\n",
       "\t\\hline\n",
       "\t1 & 1 & 2 \\\\\n",
       "\t2 & 2 & 3 \\\\\n",
       "\t3 & 3 & 4 \\\\\n",
       "\t4 & 4 & 5 \\\\\n",
       "\t5 & 5 & 6 \\\\\n",
       "\t6 & 6 & 7 \\\\\n",
       "\t7 & 7 & 8 \\\\\n",
       "\t8 & 8 & 9 \\\\\n",
       "\t9 & 9 & 10 \\\\\n",
       "\t10 & 10 & 11 \\\\\n",
       "\\end{tabular}\n"
      ],
      "text/plain": [
       "\u001b[1m10×2 DataFrame\u001b[0m\n",
       "\u001b[1m Row \u001b[0m│\u001b[1m x1    \u001b[0m\u001b[1m x2    \u001b[0m\n",
       "     │\u001b[90m Int64 \u001b[0m\u001b[90m Int64 \u001b[0m\n",
       "─────┼──────────────\n",
       "   1 │     1      2\n",
       "   2 │     2      3\n",
       "   3 │     3      4\n",
       "   4 │     4      5\n",
       "   5 │     5      6\n",
       "   6 │     6      7\n",
       "   7 │     7      8\n",
       "   8 │     8      9\n",
       "   9 │     9     10\n",
       "  10 │    10     11"
      ]
     },
     "metadata": {},
     "output_type": "display_data"
    }
   ],
   "source": [
    "DataFrame(x1 = v, x2 = y)"
   ]
  },
  {
   "cell_type": "code",
   "execution_count": 119,
   "metadata": {},
   "outputs": [
    {
     "data": {
      "text/plain": [
       "3628800"
      ]
     },
     "metadata": {},
     "output_type": "display_data"
    }
   ],
   "source": [
    "reduce(*, collect(1:10))"
   ]
  },
  {
   "cell_type": "code",
   "execution_count": 120,
   "metadata": {},
   "outputs": [
    {
     "data": {
      "text/plain": [
       "3628800"
      ]
     },
     "metadata": {},
     "output_type": "display_data"
    }
   ],
   "source": [
    "1 * 2 * 3 * 4 * 5 * 6 * 7 * 8 * 9 * 10"
   ]
  },
  {
   "cell_type": "code",
   "execution_count": 121,
   "metadata": {},
   "outputs": [
    {
     "data": {
      "text/plain": [
       "5050"
      ]
     },
     "metadata": {},
     "output_type": "display_data"
    }
   ],
   "source": [
    "reduce(+, collect(1:100))"
   ]
  },
  {
   "cell_type": "code",
   "execution_count": 122,
   "metadata": {},
   "outputs": [
    {
     "name": "stdout",
     "output_type": "stream",
     "text": [
      "5050\n"
     ]
    }
   ],
   "source": [
    "sum = 0\n",
    "\n",
    "for number in 1:100\n",
    "    sum = sum + number\n",
    "end\n",
    "\n",
    "println(sum)"
   ]
  },
  {
   "cell_type": "code",
   "execution_count": 123,
   "metadata": {},
   "outputs": [
    {
     "data": {
      "text/html": [
       "<div><div style = \"float: left;\"><span>10×2 DataFrame</span></div><div style = \"clear: both;\"></div></div><div class = \"data-frame\" style = \"overflow-x: scroll;\"><table class = \"data-frame\" style = \"margin-bottom: 6px;\"><thead><tr class = \"header\"><th class = \"rowNumber\" style = \"font-weight: bold; text-align: right;\">Row</th><th style = \"text-align: left;\">a</th><th style = \"text-align: left;\">b</th></tr><tr class = \"subheader headerLastRow\"><th class = \"rowNumber\" style = \"font-weight: bold; text-align: right;\"></th><th title = \"Int64\" style = \"text-align: left;\">Int64</th><th title = \"Int64\" style = \"text-align: left;\">Int64</th></tr></thead><tbody><tr><td class = \"rowNumber\" style = \"font-weight: bold; text-align: right;\">1</td><td style = \"text-align: right;\">1</td><td style = \"text-align: right;\">11</td></tr><tr><td class = \"rowNumber\" style = \"font-weight: bold; text-align: right;\">2</td><td style = \"text-align: right;\">2</td><td style = \"text-align: right;\">12</td></tr><tr><td class = \"rowNumber\" style = \"font-weight: bold; text-align: right;\">3</td><td style = \"text-align: right;\">3</td><td style = \"text-align: right;\">13</td></tr><tr><td class = \"rowNumber\" style = \"font-weight: bold; text-align: right;\">4</td><td style = \"text-align: right;\">4</td><td style = \"text-align: right;\">14</td></tr><tr><td class = \"rowNumber\" style = \"font-weight: bold; text-align: right;\">5</td><td style = \"text-align: right;\">5</td><td style = \"text-align: right;\">15</td></tr><tr><td class = \"rowNumber\" style = \"font-weight: bold; text-align: right;\">6</td><td style = \"text-align: right;\">6</td><td style = \"text-align: right;\">16</td></tr><tr><td class = \"rowNumber\" style = \"font-weight: bold; text-align: right;\">7</td><td style = \"text-align: right;\">7</td><td style = \"text-align: right;\">17</td></tr><tr><td class = \"rowNumber\" style = \"font-weight: bold; text-align: right;\">8</td><td style = \"text-align: right;\">8</td><td style = \"text-align: right;\">18</td></tr><tr><td class = \"rowNumber\" style = \"font-weight: bold; text-align: right;\">9</td><td style = \"text-align: right;\">9</td><td style = \"text-align: right;\">19</td></tr><tr><td class = \"rowNumber\" style = \"font-weight: bold; text-align: right;\">10</td><td style = \"text-align: right;\">10</td><td style = \"text-align: right;\">20</td></tr></tbody></table></div>"
      ],
      "text/latex": [
       "\\begin{tabular}{r|cc}\n",
       "\t& a & b\\\\\n",
       "\t\\hline\n",
       "\t& Int64 & Int64\\\\\n",
       "\t\\hline\n",
       "\t1 & 1 & 11 \\\\\n",
       "\t2 & 2 & 12 \\\\\n",
       "\t3 & 3 & 13 \\\\\n",
       "\t4 & 4 & 14 \\\\\n",
       "\t5 & 5 & 15 \\\\\n",
       "\t6 & 6 & 16 \\\\\n",
       "\t7 & 7 & 17 \\\\\n",
       "\t8 & 8 & 18 \\\\\n",
       "\t9 & 9 & 19 \\\\\n",
       "\t10 & 10 & 20 \\\\\n",
       "\\end{tabular}\n"
      ],
      "text/plain": [
       "\u001b[1m10×2 DataFrame\u001b[0m\n",
       "\u001b[1m Row \u001b[0m│\u001b[1m a     \u001b[0m\u001b[1m b     \u001b[0m\n",
       "     │\u001b[90m Int64 \u001b[0m\u001b[90m Int64 \u001b[0m\n",
       "─────┼──────────────\n",
       "   1 │     1     11\n",
       "   2 │     2     12\n",
       "   3 │     3     13\n",
       "   4 │     4     14\n",
       "   5 │     5     15\n",
       "   6 │     6     16\n",
       "   7 │     7     17\n",
       "   8 │     8     18\n",
       "   9 │     9     19\n",
       "  10 │    10     20"
      ]
     },
     "metadata": {},
     "output_type": "display_data"
    }
   ],
   "source": [
    "df1 = DataFrame(a = 1:10, b = 11:20)"
   ]
  },
  {
   "cell_type": "code",
   "execution_count": 124,
   "metadata": {},
   "outputs": [
    {
     "data": {
      "text/html": [
       "<div><div style = \"float: left;\"><span>40×2 DataFrame</span></div><div style = \"float: right;\"><span style = \"font-style: italic;\">15 rows omitted</span></div><div style = \"clear: both;\"></div></div><div class = \"data-frame\" style = \"overflow-x: scroll;\"><table class = \"data-frame\" style = \"margin-bottom: 6px;\"><thead><tr class = \"header\"><th class = \"rowNumber\" style = \"font-weight: bold; text-align: right;\">Row</th><th style = \"text-align: left;\">c</th><th style = \"text-align: left;\">d</th></tr><tr class = \"subheader headerLastRow\"><th class = \"rowNumber\" style = \"font-weight: bold; text-align: right;\"></th><th title = \"Int64\" style = \"text-align: left;\">Int64</th><th title = \"Int64\" style = \"text-align: left;\">Int64</th></tr></thead><tbody><tr><td class = \"rowNumber\" style = \"font-weight: bold; text-align: right;\">1</td><td style = \"text-align: right;\">1</td><td style = \"text-align: right;\">2</td></tr><tr><td class = \"rowNumber\" style = \"font-weight: bold; text-align: right;\">2</td><td style = \"text-align: right;\">2</td><td style = \"text-align: right;\">3</td></tr><tr><td class = \"rowNumber\" style = \"font-weight: bold; text-align: right;\">3</td><td style = \"text-align: right;\">3</td><td style = \"text-align: right;\">4</td></tr><tr><td class = \"rowNumber\" style = \"font-weight: bold; text-align: right;\">4</td><td style = \"text-align: right;\">4</td><td style = \"text-align: right;\">5</td></tr><tr><td class = \"rowNumber\" style = \"font-weight: bold; text-align: right;\">5</td><td style = \"text-align: right;\">5</td><td style = \"text-align: right;\">6</td></tr><tr><td class = \"rowNumber\" style = \"font-weight: bold; text-align: right;\">6</td><td style = \"text-align: right;\">6</td><td style = \"text-align: right;\">7</td></tr><tr><td class = \"rowNumber\" style = \"font-weight: bold; text-align: right;\">7</td><td style = \"text-align: right;\">7</td><td style = \"text-align: right;\">8</td></tr><tr><td class = \"rowNumber\" style = \"font-weight: bold; text-align: right;\">8</td><td style = \"text-align: right;\">8</td><td style = \"text-align: right;\">9</td></tr><tr><td class = \"rowNumber\" style = \"font-weight: bold; text-align: right;\">9</td><td style = \"text-align: right;\">9</td><td style = \"text-align: right;\">10</td></tr><tr><td class = \"rowNumber\" style = \"font-weight: bold; text-align: right;\">10</td><td style = \"text-align: right;\">10</td><td style = \"text-align: right;\">11</td></tr><tr><td class = \"rowNumber\" style = \"font-weight: bold; text-align: right;\">11</td><td style = \"text-align: right;\">11</td><td style = \"text-align: right;\">12</td></tr><tr><td class = \"rowNumber\" style = \"font-weight: bold; text-align: right;\">12</td><td style = \"text-align: right;\">12</td><td style = \"text-align: right;\">13</td></tr><tr><td class = \"rowNumber\" style = \"font-weight: bold; text-align: right;\">13</td><td style = \"text-align: right;\">13</td><td style = \"text-align: right;\">14</td></tr><tr><td style = \"text-align: right;\">&vellip;</td><td style = \"text-align: right;\">&vellip;</td><td style = \"text-align: right;\">&vellip;</td></tr><tr><td class = \"rowNumber\" style = \"font-weight: bold; text-align: right;\">29</td><td style = \"text-align: right;\">29</td><td style = \"text-align: right;\">30</td></tr><tr><td class = \"rowNumber\" style = \"font-weight: bold; text-align: right;\">30</td><td style = \"text-align: right;\">30</td><td style = \"text-align: right;\">31</td></tr><tr><td class = \"rowNumber\" style = \"font-weight: bold; text-align: right;\">31</td><td style = \"text-align: right;\">31</td><td style = \"text-align: right;\">32</td></tr><tr><td class = \"rowNumber\" style = \"font-weight: bold; text-align: right;\">32</td><td style = \"text-align: right;\">32</td><td style = \"text-align: right;\">33</td></tr><tr><td class = \"rowNumber\" style = \"font-weight: bold; text-align: right;\">33</td><td style = \"text-align: right;\">33</td><td style = \"text-align: right;\">34</td></tr><tr><td class = \"rowNumber\" style = \"font-weight: bold; text-align: right;\">34</td><td style = \"text-align: right;\">34</td><td style = \"text-align: right;\">35</td></tr><tr><td class = \"rowNumber\" style = \"font-weight: bold; text-align: right;\">35</td><td style = \"text-align: right;\">35</td><td style = \"text-align: right;\">36</td></tr><tr><td class = \"rowNumber\" style = \"font-weight: bold; text-align: right;\">36</td><td style = \"text-align: right;\">36</td><td style = \"text-align: right;\">37</td></tr><tr><td class = \"rowNumber\" style = \"font-weight: bold; text-align: right;\">37</td><td style = \"text-align: right;\">37</td><td style = \"text-align: right;\">38</td></tr><tr><td class = \"rowNumber\" style = \"font-weight: bold; text-align: right;\">38</td><td style = \"text-align: right;\">38</td><td style = \"text-align: right;\">39</td></tr><tr><td class = \"rowNumber\" style = \"font-weight: bold; text-align: right;\">39</td><td style = \"text-align: right;\">39</td><td style = \"text-align: right;\">40</td></tr><tr><td class = \"rowNumber\" style = \"font-weight: bold; text-align: right;\">40</td><td style = \"text-align: right;\">40</td><td style = \"text-align: right;\">41</td></tr></tbody></table></div>"
      ],
      "text/latex": [
       "\\begin{tabular}{r|cc}\n",
       "\t& c & d\\\\\n",
       "\t\\hline\n",
       "\t& Int64 & Int64\\\\\n",
       "\t\\hline\n",
       "\t1 & 1 & 2 \\\\\n",
       "\t2 & 2 & 3 \\\\\n",
       "\t3 & 3 & 4 \\\\\n",
       "\t4 & 4 & 5 \\\\\n",
       "\t5 & 5 & 6 \\\\\n",
       "\t6 & 6 & 7 \\\\\n",
       "\t7 & 7 & 8 \\\\\n",
       "\t8 & 8 & 9 \\\\\n",
       "\t9 & 9 & 10 \\\\\n",
       "\t10 & 10 & 11 \\\\\n",
       "\t11 & 11 & 12 \\\\\n",
       "\t12 & 12 & 13 \\\\\n",
       "\t13 & 13 & 14 \\\\\n",
       "\t14 & 14 & 15 \\\\\n",
       "\t15 & 15 & 16 \\\\\n",
       "\t16 & 16 & 17 \\\\\n",
       "\t17 & 17 & 18 \\\\\n",
       "\t18 & 18 & 19 \\\\\n",
       "\t19 & 19 & 20 \\\\\n",
       "\t20 & 20 & 21 \\\\\n",
       "\t21 & 21 & 22 \\\\\n",
       "\t22 & 22 & 23 \\\\\n",
       "\t23 & 23 & 24 \\\\\n",
       "\t24 & 24 & 25 \\\\\n",
       "\t$\\dots$ & $\\dots$ & $\\dots$ \\\\\n",
       "\\end{tabular}\n"
      ],
      "text/plain": [
       "\u001b[1m40×2 DataFrame\u001b[0m\n",
       "\u001b[1m Row \u001b[0m│\u001b[1m c     \u001b[0m\u001b[1m d     \u001b[0m\n",
       "     │\u001b[90m Int64 \u001b[0m\u001b[90m Int64 \u001b[0m\n",
       "─────┼──────────────\n",
       "   1 │     1      2\n",
       "   2 │     2      3\n",
       "   3 │     3      4\n",
       "   4 │     4      5\n",
       "   5 │     5      6\n",
       "   6 │     6      7\n",
       "   7 │     7      8\n",
       "   8 │     8      9\n",
       "  ⋮  │   ⋮      ⋮\n",
       "  34 │    34     35\n",
       "  35 │    35     36\n",
       "  36 │    36     37\n",
       "  37 │    37     38\n",
       "  38 │    38     39\n",
       "  39 │    39     40\n",
       "  40 │    40     41\n",
       "\u001b[36m     25 rows omitted\u001b[0m"
      ]
     },
     "metadata": {},
     "output_type": "display_data"
    }
   ],
   "source": [
    "df2 = DataFrame(c = 1:40, d = 2:41)"
   ]
  },
  {
   "attachments": {},
   "cell_type": "markdown",
   "metadata": {},
   "source": [
    "Now in order to combine the two dataframes"
   ]
  },
  {
   "cell_type": "code",
   "execution_count": 125,
   "metadata": {},
   "outputs": [
    {
     "data": {
      "text/html": [
       "<div><div style = \"float: left;\"><span>50×4 DataFrame</span></div><div style = \"float: right;\"><span style = \"font-style: italic;\">25 rows omitted</span></div><div style = \"clear: both;\"></div></div><div class = \"data-frame\" style = \"overflow-x: scroll;\"><table class = \"data-frame\" style = \"margin-bottom: 6px;\"><thead><tr class = \"header\"><th class = \"rowNumber\" style = \"font-weight: bold; text-align: right;\">Row</th><th style = \"text-align: left;\">a</th><th style = \"text-align: left;\">b</th><th style = \"text-align: left;\">c</th><th style = \"text-align: left;\">d</th></tr><tr class = \"subheader headerLastRow\"><th class = \"rowNumber\" style = \"font-weight: bold; text-align: right;\"></th><th title = \"Union{Missing, Int64}\" style = \"text-align: left;\">Int64?</th><th title = \"Union{Missing, Int64}\" style = \"text-align: left;\">Int64?</th><th title = \"Union{Missing, Int64}\" style = \"text-align: left;\">Int64?</th><th title = \"Union{Missing, Int64}\" style = \"text-align: left;\">Int64?</th></tr></thead><tbody><tr><td class = \"rowNumber\" style = \"font-weight: bold; text-align: right;\">1</td><td style = \"text-align: right;\">1</td><td style = \"text-align: right;\">11</td><td style = \"font-style: italic; text-align: right;\">missing</td><td style = \"font-style: italic; text-align: right;\">missing</td></tr><tr><td class = \"rowNumber\" style = \"font-weight: bold; text-align: right;\">2</td><td style = \"text-align: right;\">2</td><td style = \"text-align: right;\">12</td><td style = \"font-style: italic; text-align: right;\">missing</td><td style = \"font-style: italic; text-align: right;\">missing</td></tr><tr><td class = \"rowNumber\" style = \"font-weight: bold; text-align: right;\">3</td><td style = \"text-align: right;\">3</td><td style = \"text-align: right;\">13</td><td style = \"font-style: italic; text-align: right;\">missing</td><td style = \"font-style: italic; text-align: right;\">missing</td></tr><tr><td class = \"rowNumber\" style = \"font-weight: bold; text-align: right;\">4</td><td style = \"text-align: right;\">4</td><td style = \"text-align: right;\">14</td><td style = \"font-style: italic; text-align: right;\">missing</td><td style = \"font-style: italic; text-align: right;\">missing</td></tr><tr><td class = \"rowNumber\" style = \"font-weight: bold; text-align: right;\">5</td><td style = \"text-align: right;\">5</td><td style = \"text-align: right;\">15</td><td style = \"font-style: italic; text-align: right;\">missing</td><td style = \"font-style: italic; text-align: right;\">missing</td></tr><tr><td class = \"rowNumber\" style = \"font-weight: bold; text-align: right;\">6</td><td style = \"text-align: right;\">6</td><td style = \"text-align: right;\">16</td><td style = \"font-style: italic; text-align: right;\">missing</td><td style = \"font-style: italic; text-align: right;\">missing</td></tr><tr><td class = \"rowNumber\" style = \"font-weight: bold; text-align: right;\">7</td><td style = \"text-align: right;\">7</td><td style = \"text-align: right;\">17</td><td style = \"font-style: italic; text-align: right;\">missing</td><td style = \"font-style: italic; text-align: right;\">missing</td></tr><tr><td class = \"rowNumber\" style = \"font-weight: bold; text-align: right;\">8</td><td style = \"text-align: right;\">8</td><td style = \"text-align: right;\">18</td><td style = \"font-style: italic; text-align: right;\">missing</td><td style = \"font-style: italic; text-align: right;\">missing</td></tr><tr><td class = \"rowNumber\" style = \"font-weight: bold; text-align: right;\">9</td><td style = \"text-align: right;\">9</td><td style = \"text-align: right;\">19</td><td style = \"font-style: italic; text-align: right;\">missing</td><td style = \"font-style: italic; text-align: right;\">missing</td></tr><tr><td class = \"rowNumber\" style = \"font-weight: bold; text-align: right;\">10</td><td style = \"text-align: right;\">10</td><td style = \"text-align: right;\">20</td><td style = \"font-style: italic; text-align: right;\">missing</td><td style = \"font-style: italic; text-align: right;\">missing</td></tr><tr><td class = \"rowNumber\" style = \"font-weight: bold; text-align: right;\">11</td><td style = \"font-style: italic; text-align: right;\">missing</td><td style = \"font-style: italic; text-align: right;\">missing</td><td style = \"text-align: right;\">1</td><td style = \"text-align: right;\">2</td></tr><tr><td class = \"rowNumber\" style = \"font-weight: bold; text-align: right;\">12</td><td style = \"font-style: italic; text-align: right;\">missing</td><td style = \"font-style: italic; text-align: right;\">missing</td><td style = \"text-align: right;\">2</td><td style = \"text-align: right;\">3</td></tr><tr><td class = \"rowNumber\" style = \"font-weight: bold; text-align: right;\">13</td><td style = \"font-style: italic; text-align: right;\">missing</td><td style = \"font-style: italic; text-align: right;\">missing</td><td style = \"text-align: right;\">3</td><td style = \"text-align: right;\">4</td></tr><tr><td style = \"text-align: right;\">&vellip;</td><td style = \"text-align: right;\">&vellip;</td><td style = \"text-align: right;\">&vellip;</td><td style = \"text-align: right;\">&vellip;</td><td style = \"text-align: right;\">&vellip;</td></tr><tr><td class = \"rowNumber\" style = \"font-weight: bold; text-align: right;\">39</td><td style = \"font-style: italic; text-align: right;\">missing</td><td style = \"font-style: italic; text-align: right;\">missing</td><td style = \"text-align: right;\">29</td><td style = \"text-align: right;\">30</td></tr><tr><td class = \"rowNumber\" style = \"font-weight: bold; text-align: right;\">40</td><td style = \"font-style: italic; text-align: right;\">missing</td><td style = \"font-style: italic; text-align: right;\">missing</td><td style = \"text-align: right;\">30</td><td style = \"text-align: right;\">31</td></tr><tr><td class = \"rowNumber\" style = \"font-weight: bold; text-align: right;\">41</td><td style = \"font-style: italic; text-align: right;\">missing</td><td style = \"font-style: italic; text-align: right;\">missing</td><td style = \"text-align: right;\">31</td><td style = \"text-align: right;\">32</td></tr><tr><td class = \"rowNumber\" style = \"font-weight: bold; text-align: right;\">42</td><td style = \"font-style: italic; text-align: right;\">missing</td><td style = \"font-style: italic; text-align: right;\">missing</td><td style = \"text-align: right;\">32</td><td style = \"text-align: right;\">33</td></tr><tr><td class = \"rowNumber\" style = \"font-weight: bold; text-align: right;\">43</td><td style = \"font-style: italic; text-align: right;\">missing</td><td style = \"font-style: italic; text-align: right;\">missing</td><td style = \"text-align: right;\">33</td><td style = \"text-align: right;\">34</td></tr><tr><td class = \"rowNumber\" style = \"font-weight: bold; text-align: right;\">44</td><td style = \"font-style: italic; text-align: right;\">missing</td><td style = \"font-style: italic; text-align: right;\">missing</td><td style = \"text-align: right;\">34</td><td style = \"text-align: right;\">35</td></tr><tr><td class = \"rowNumber\" style = \"font-weight: bold; text-align: right;\">45</td><td style = \"font-style: italic; text-align: right;\">missing</td><td style = \"font-style: italic; text-align: right;\">missing</td><td style = \"text-align: right;\">35</td><td style = \"text-align: right;\">36</td></tr><tr><td class = \"rowNumber\" style = \"font-weight: bold; text-align: right;\">46</td><td style = \"font-style: italic; text-align: right;\">missing</td><td style = \"font-style: italic; text-align: right;\">missing</td><td style = \"text-align: right;\">36</td><td style = \"text-align: right;\">37</td></tr><tr><td class = \"rowNumber\" style = \"font-weight: bold; text-align: right;\">47</td><td style = \"font-style: italic; text-align: right;\">missing</td><td style = \"font-style: italic; text-align: right;\">missing</td><td style = \"text-align: right;\">37</td><td style = \"text-align: right;\">38</td></tr><tr><td class = \"rowNumber\" style = \"font-weight: bold; text-align: right;\">48</td><td style = \"font-style: italic; text-align: right;\">missing</td><td style = \"font-style: italic; text-align: right;\">missing</td><td style = \"text-align: right;\">38</td><td style = \"text-align: right;\">39</td></tr><tr><td class = \"rowNumber\" style = \"font-weight: bold; text-align: right;\">49</td><td style = \"font-style: italic; text-align: right;\">missing</td><td style = \"font-style: italic; text-align: right;\">missing</td><td style = \"text-align: right;\">39</td><td style = \"text-align: right;\">40</td></tr><tr><td class = \"rowNumber\" style = \"font-weight: bold; text-align: right;\">50</td><td style = \"font-style: italic; text-align: right;\">missing</td><td style = \"font-style: italic; text-align: right;\">missing</td><td style = \"text-align: right;\">40</td><td style = \"text-align: right;\">41</td></tr></tbody></table></div>"
      ],
      "text/latex": [
       "\\begin{tabular}{r|cccc}\n",
       "\t& a & b & c & d\\\\\n",
       "\t\\hline\n",
       "\t& Int64? & Int64? & Int64? & Int64?\\\\\n",
       "\t\\hline\n",
       "\t1 & 1 & 11 & \\emph{missing} & \\emph{missing} \\\\\n",
       "\t2 & 2 & 12 & \\emph{missing} & \\emph{missing} \\\\\n",
       "\t3 & 3 & 13 & \\emph{missing} & \\emph{missing} \\\\\n",
       "\t4 & 4 & 14 & \\emph{missing} & \\emph{missing} \\\\\n",
       "\t5 & 5 & 15 & \\emph{missing} & \\emph{missing} \\\\\n",
       "\t6 & 6 & 16 & \\emph{missing} & \\emph{missing} \\\\\n",
       "\t7 & 7 & 17 & \\emph{missing} & \\emph{missing} \\\\\n",
       "\t8 & 8 & 18 & \\emph{missing} & \\emph{missing} \\\\\n",
       "\t9 & 9 & 19 & \\emph{missing} & \\emph{missing} \\\\\n",
       "\t10 & 10 & 20 & \\emph{missing} & \\emph{missing} \\\\\n",
       "\t11 & \\emph{missing} & \\emph{missing} & 1 & 2 \\\\\n",
       "\t12 & \\emph{missing} & \\emph{missing} & 2 & 3 \\\\\n",
       "\t13 & \\emph{missing} & \\emph{missing} & 3 & 4 \\\\\n",
       "\t14 & \\emph{missing} & \\emph{missing} & 4 & 5 \\\\\n",
       "\t15 & \\emph{missing} & \\emph{missing} & 5 & 6 \\\\\n",
       "\t16 & \\emph{missing} & \\emph{missing} & 6 & 7 \\\\\n",
       "\t17 & \\emph{missing} & \\emph{missing} & 7 & 8 \\\\\n",
       "\t18 & \\emph{missing} & \\emph{missing} & 8 & 9 \\\\\n",
       "\t19 & \\emph{missing} & \\emph{missing} & 9 & 10 \\\\\n",
       "\t20 & \\emph{missing} & \\emph{missing} & 10 & 11 \\\\\n",
       "\t21 & \\emph{missing} & \\emph{missing} & 11 & 12 \\\\\n",
       "\t22 & \\emph{missing} & \\emph{missing} & 12 & 13 \\\\\n",
       "\t23 & \\emph{missing} & \\emph{missing} & 13 & 14 \\\\\n",
       "\t24 & \\emph{missing} & \\emph{missing} & 14 & 15 \\\\\n",
       "\t$\\dots$ & $\\dots$ & $\\dots$ & $\\dots$ & $\\dots$ \\\\\n",
       "\\end{tabular}\n"
      ],
      "text/plain": [
       "\u001b[1m50×4 DataFrame\u001b[0m\n",
       "\u001b[1m Row \u001b[0m│\u001b[1m a       \u001b[0m\u001b[1m b       \u001b[0m\u001b[1m c       \u001b[0m\u001b[1m d       \u001b[0m\n",
       "     │\u001b[90m Int64?  \u001b[0m\u001b[90m Int64?  \u001b[0m\u001b[90m Int64?  \u001b[0m\u001b[90m Int64?  \u001b[0m\n",
       "─────┼────────────────────────────────────\n",
       "   1 │       1       11 \u001b[90m missing \u001b[0m\u001b[90m missing \u001b[0m\n",
       "   2 │       2       12 \u001b[90m missing \u001b[0m\u001b[90m missing \u001b[0m\n",
       "   3 │       3       13 \u001b[90m missing \u001b[0m\u001b[90m missing \u001b[0m\n",
       "   4 │       4       14 \u001b[90m missing \u001b[0m\u001b[90m missing \u001b[0m\n",
       "   5 │       5       15 \u001b[90m missing \u001b[0m\u001b[90m missing \u001b[0m\n",
       "   6 │       6       16 \u001b[90m missing \u001b[0m\u001b[90m missing \u001b[0m\n",
       "   7 │       7       17 \u001b[90m missing \u001b[0m\u001b[90m missing \u001b[0m\n",
       "   8 │       8       18 \u001b[90m missing \u001b[0m\u001b[90m missing \u001b[0m\n",
       "  ⋮  │    ⋮        ⋮        ⋮        ⋮\n",
       "  44 │\u001b[90m missing \u001b[0m\u001b[90m missing \u001b[0m      34       35\n",
       "  45 │\u001b[90m missing \u001b[0m\u001b[90m missing \u001b[0m      35       36\n",
       "  46 │\u001b[90m missing \u001b[0m\u001b[90m missing \u001b[0m      36       37\n",
       "  47 │\u001b[90m missing \u001b[0m\u001b[90m missing \u001b[0m      37       38\n",
       "  48 │\u001b[90m missing \u001b[0m\u001b[90m missing \u001b[0m      38       39\n",
       "  49 │\u001b[90m missing \u001b[0m\u001b[90m missing \u001b[0m      39       40\n",
       "  50 │\u001b[90m missing \u001b[0m\u001b[90m missing \u001b[0m      40       41\n",
       "\u001b[36m                           35 rows omitted\u001b[0m"
      ]
     },
     "metadata": {},
     "output_type": "display_data"
    }
   ],
   "source": [
    "df3 = vcat(df1, df2, cols=:union)"
   ]
  },
  {
   "attachments": {},
   "cell_type": "markdown",
   "metadata": {},
   "source": [
    "To append horizontally (rbind in R):"
   ]
  },
  {
   "cell_type": "code",
   "execution_count": 126,
   "metadata": {},
   "outputs": [
    {
     "data": {
      "text/html": [
       "<div><div style = \"float: left;\"><span>10×2 DataFrame</span></div><div style = \"clear: both;\"></div></div><div class = \"data-frame\" style = \"overflow-x: scroll;\"><table class = \"data-frame\" style = \"margin-bottom: 6px;\"><thead><tr class = \"header\"><th class = \"rowNumber\" style = \"font-weight: bold; text-align: right;\">Row</th><th style = \"text-align: left;\">x</th><th style = \"text-align: left;\">y</th></tr><tr class = \"subheader headerLastRow\"><th class = \"rowNumber\" style = \"font-weight: bold; text-align: right;\"></th><th title = \"Int64\" style = \"text-align: left;\">Int64</th><th title = \"Int64\" style = \"text-align: left;\">Int64</th></tr></thead><tbody><tr><td class = \"rowNumber\" style = \"font-weight: bold; text-align: right;\">1</td><td style = \"text-align: right;\">1</td><td style = \"text-align: right;\">2</td></tr><tr><td class = \"rowNumber\" style = \"font-weight: bold; text-align: right;\">2</td><td style = \"text-align: right;\">2</td><td style = \"text-align: right;\">3</td></tr><tr><td class = \"rowNumber\" style = \"font-weight: bold; text-align: right;\">3</td><td style = \"text-align: right;\">3</td><td style = \"text-align: right;\">4</td></tr><tr><td class = \"rowNumber\" style = \"font-weight: bold; text-align: right;\">4</td><td style = \"text-align: right;\">4</td><td style = \"text-align: right;\">5</td></tr><tr><td class = \"rowNumber\" style = \"font-weight: bold; text-align: right;\">5</td><td style = \"text-align: right;\">5</td><td style = \"text-align: right;\">6</td></tr><tr><td class = \"rowNumber\" style = \"font-weight: bold; text-align: right;\">6</td><td style = \"text-align: right;\">6</td><td style = \"text-align: right;\">7</td></tr><tr><td class = \"rowNumber\" style = \"font-weight: bold; text-align: right;\">7</td><td style = \"text-align: right;\">7</td><td style = \"text-align: right;\">8</td></tr><tr><td class = \"rowNumber\" style = \"font-weight: bold; text-align: right;\">8</td><td style = \"text-align: right;\">8</td><td style = \"text-align: right;\">9</td></tr><tr><td class = \"rowNumber\" style = \"font-weight: bold; text-align: right;\">9</td><td style = \"text-align: right;\">9</td><td style = \"text-align: right;\">10</td></tr><tr><td class = \"rowNumber\" style = \"font-weight: bold; text-align: right;\">10</td><td style = \"text-align: right;\">10</td><td style = \"text-align: right;\">11</td></tr></tbody></table></div>"
      ],
      "text/latex": [
       "\\begin{tabular}{r|cc}\n",
       "\t& x & y\\\\\n",
       "\t\\hline\n",
       "\t& Int64 & Int64\\\\\n",
       "\t\\hline\n",
       "\t1 & 1 & 2 \\\\\n",
       "\t2 & 2 & 3 \\\\\n",
       "\t3 & 3 & 4 \\\\\n",
       "\t4 & 4 & 5 \\\\\n",
       "\t5 & 5 & 6 \\\\\n",
       "\t6 & 6 & 7 \\\\\n",
       "\t7 & 7 & 8 \\\\\n",
       "\t8 & 8 & 9 \\\\\n",
       "\t9 & 9 & 10 \\\\\n",
       "\t10 & 10 & 11 \\\\\n",
       "\\end{tabular}\n"
      ],
      "text/plain": [
       "\u001b[1m10×2 DataFrame\u001b[0m\n",
       "\u001b[1m Row \u001b[0m│\u001b[1m x     \u001b[0m\u001b[1m y     \u001b[0m\n",
       "     │\u001b[90m Int64 \u001b[0m\u001b[90m Int64 \u001b[0m\n",
       "─────┼──────────────\n",
       "   1 │     1      2\n",
       "   2 │     2      3\n",
       "   3 │     3      4\n",
       "   4 │     4      5\n",
       "   5 │     5      6\n",
       "   6 │     6      7\n",
       "   7 │     7      8\n",
       "   8 │     8      9\n",
       "   9 │     9     10\n",
       "  10 │    10     11"
      ]
     },
     "metadata": {},
     "output_type": "display_data"
    }
   ],
   "source": [
    "df1 = DataFrame(x = 1:10, y = 2:11)"
   ]
  },
  {
   "cell_type": "code",
   "execution_count": 127,
   "metadata": {},
   "outputs": [
    {
     "data": {
      "text/html": [
       "<div><div style = \"float: left;\"><span>6×2 DataFrame</span></div><div style = \"clear: both;\"></div></div><div class = \"data-frame\" style = \"overflow-x: scroll;\"><table class = \"data-frame\" style = \"margin-bottom: 6px;\"><thead><tr class = \"header\"><th class = \"rowNumber\" style = \"font-weight: bold; text-align: right;\">Row</th><th style = \"text-align: left;\">x</th><th style = \"text-align: left;\">y</th></tr><tr class = \"subheader headerLastRow\"><th class = \"rowNumber\" style = \"font-weight: bold; text-align: right;\"></th><th title = \"Int64\" style = \"text-align: left;\">Int64</th><th title = \"Int64\" style = \"text-align: left;\">Int64</th></tr></thead><tbody><tr><td class = \"rowNumber\" style = \"font-weight: bold; text-align: right;\">1</td><td style = \"text-align: right;\">5</td><td style = \"text-align: right;\">6</td></tr><tr><td class = \"rowNumber\" style = \"font-weight: bold; text-align: right;\">2</td><td style = \"text-align: right;\">6</td><td style = \"text-align: right;\">7</td></tr><tr><td class = \"rowNumber\" style = \"font-weight: bold; text-align: right;\">3</td><td style = \"text-align: right;\">7</td><td style = \"text-align: right;\">8</td></tr><tr><td class = \"rowNumber\" style = \"font-weight: bold; text-align: right;\">4</td><td style = \"text-align: right;\">8</td><td style = \"text-align: right;\">9</td></tr><tr><td class = \"rowNumber\" style = \"font-weight: bold; text-align: right;\">5</td><td style = \"text-align: right;\">9</td><td style = \"text-align: right;\">10</td></tr><tr><td class = \"rowNumber\" style = \"font-weight: bold; text-align: right;\">6</td><td style = \"text-align: right;\">10</td><td style = \"text-align: right;\">11</td></tr></tbody></table></div>"
      ],
      "text/latex": [
       "\\begin{tabular}{r|cc}\n",
       "\t& x & y\\\\\n",
       "\t\\hline\n",
       "\t& Int64 & Int64\\\\\n",
       "\t\\hline\n",
       "\t1 & 5 & 6 \\\\\n",
       "\t2 & 6 & 7 \\\\\n",
       "\t3 & 7 & 8 \\\\\n",
       "\t4 & 8 & 9 \\\\\n",
       "\t5 & 9 & 10 \\\\\n",
       "\t6 & 10 & 11 \\\\\n",
       "\\end{tabular}\n"
      ],
      "text/plain": [
       "\u001b[1m6×2 DataFrame\u001b[0m\n",
       "\u001b[1m Row \u001b[0m│\u001b[1m x     \u001b[0m\u001b[1m y     \u001b[0m\n",
       "     │\u001b[90m Int64 \u001b[0m\u001b[90m Int64 \u001b[0m\n",
       "─────┼──────────────\n",
       "   1 │     5      6\n",
       "   2 │     6      7\n",
       "   3 │     7      8\n",
       "   4 │     8      9\n",
       "   5 │     9     10\n",
       "   6 │    10     11"
      ]
     },
     "metadata": {},
     "output_type": "display_data"
    }
   ],
   "source": [
    "df2 = DataFrame(x = 5:10, y = 6:11)"
   ]
  },
  {
   "cell_type": "code",
   "execution_count": 128,
   "metadata": {},
   "outputs": [
    {
     "data": {
      "text/html": [
       "<div><div style = \"float: left;\"><span>16×2 DataFrame</span></div><div style = \"clear: both;\"></div></div><div class = \"data-frame\" style = \"overflow-x: scroll;\"><table class = \"data-frame\" style = \"margin-bottom: 6px;\"><thead><tr class = \"header\"><th class = \"rowNumber\" style = \"font-weight: bold; text-align: right;\">Row</th><th style = \"text-align: left;\">x</th><th style = \"text-align: left;\">y</th></tr><tr class = \"subheader headerLastRow\"><th class = \"rowNumber\" style = \"font-weight: bold; text-align: right;\"></th><th title = \"Int64\" style = \"text-align: left;\">Int64</th><th title = \"Int64\" style = \"text-align: left;\">Int64</th></tr></thead><tbody><tr><td class = \"rowNumber\" style = \"font-weight: bold; text-align: right;\">1</td><td style = \"text-align: right;\">1</td><td style = \"text-align: right;\">2</td></tr><tr><td class = \"rowNumber\" style = \"font-weight: bold; text-align: right;\">2</td><td style = \"text-align: right;\">2</td><td style = \"text-align: right;\">3</td></tr><tr><td class = \"rowNumber\" style = \"font-weight: bold; text-align: right;\">3</td><td style = \"text-align: right;\">3</td><td style = \"text-align: right;\">4</td></tr><tr><td class = \"rowNumber\" style = \"font-weight: bold; text-align: right;\">4</td><td style = \"text-align: right;\">4</td><td style = \"text-align: right;\">5</td></tr><tr><td class = \"rowNumber\" style = \"font-weight: bold; text-align: right;\">5</td><td style = \"text-align: right;\">5</td><td style = \"text-align: right;\">6</td></tr><tr><td class = \"rowNumber\" style = \"font-weight: bold; text-align: right;\">6</td><td style = \"text-align: right;\">6</td><td style = \"text-align: right;\">7</td></tr><tr><td class = \"rowNumber\" style = \"font-weight: bold; text-align: right;\">7</td><td style = \"text-align: right;\">7</td><td style = \"text-align: right;\">8</td></tr><tr><td class = \"rowNumber\" style = \"font-weight: bold; text-align: right;\">8</td><td style = \"text-align: right;\">8</td><td style = \"text-align: right;\">9</td></tr><tr><td class = \"rowNumber\" style = \"font-weight: bold; text-align: right;\">9</td><td style = \"text-align: right;\">9</td><td style = \"text-align: right;\">10</td></tr><tr><td class = \"rowNumber\" style = \"font-weight: bold; text-align: right;\">10</td><td style = \"text-align: right;\">10</td><td style = \"text-align: right;\">11</td></tr><tr><td class = \"rowNumber\" style = \"font-weight: bold; text-align: right;\">11</td><td style = \"text-align: right;\">5</td><td style = \"text-align: right;\">6</td></tr><tr><td class = \"rowNumber\" style = \"font-weight: bold; text-align: right;\">12</td><td style = \"text-align: right;\">6</td><td style = \"text-align: right;\">7</td></tr><tr><td class = \"rowNumber\" style = \"font-weight: bold; text-align: right;\">13</td><td style = \"text-align: right;\">7</td><td style = \"text-align: right;\">8</td></tr><tr><td class = \"rowNumber\" style = \"font-weight: bold; text-align: right;\">14</td><td style = \"text-align: right;\">8</td><td style = \"text-align: right;\">9</td></tr><tr><td class = \"rowNumber\" style = \"font-weight: bold; text-align: right;\">15</td><td style = \"text-align: right;\">9</td><td style = \"text-align: right;\">10</td></tr><tr><td class = \"rowNumber\" style = \"font-weight: bold; text-align: right;\">16</td><td style = \"text-align: right;\">10</td><td style = \"text-align: right;\">11</td></tr></tbody></table></div>"
      ],
      "text/latex": [
       "\\begin{tabular}{r|cc}\n",
       "\t& x & y\\\\\n",
       "\t\\hline\n",
       "\t& Int64 & Int64\\\\\n",
       "\t\\hline\n",
       "\t1 & 1 & 2 \\\\\n",
       "\t2 & 2 & 3 \\\\\n",
       "\t3 & 3 & 4 \\\\\n",
       "\t4 & 4 & 5 \\\\\n",
       "\t5 & 5 & 6 \\\\\n",
       "\t6 & 6 & 7 \\\\\n",
       "\t7 & 7 & 8 \\\\\n",
       "\t8 & 8 & 9 \\\\\n",
       "\t9 & 9 & 10 \\\\\n",
       "\t10 & 10 & 11 \\\\\n",
       "\t11 & 5 & 6 \\\\\n",
       "\t12 & 6 & 7 \\\\\n",
       "\t13 & 7 & 8 \\\\\n",
       "\t14 & 8 & 9 \\\\\n",
       "\t15 & 9 & 10 \\\\\n",
       "\t16 & 10 & 11 \\\\\n",
       "\\end{tabular}\n"
      ],
      "text/plain": [
       "\u001b[1m16×2 DataFrame\u001b[0m\n",
       "\u001b[1m Row \u001b[0m│\u001b[1m x     \u001b[0m\u001b[1m y     \u001b[0m\n",
       "     │\u001b[90m Int64 \u001b[0m\u001b[90m Int64 \u001b[0m\n",
       "─────┼──────────────\n",
       "   1 │     1      2\n",
       "   2 │     2      3\n",
       "   3 │     3      4\n",
       "   4 │     4      5\n",
       "   5 │     5      6\n",
       "   6 │     6      7\n",
       "   7 │     7      8\n",
       "   8 │     8      9\n",
       "   9 │     9     10\n",
       "  10 │    10     11\n",
       "  11 │     5      6\n",
       "  12 │     6      7\n",
       "  13 │     7      8\n",
       "  14 │     8      9\n",
       "  15 │     9     10\n",
       "  16 │    10     11"
      ]
     },
     "metadata": {},
     "output_type": "display_data"
    }
   ],
   "source": [
    "df3 = append!(df1, df2)"
   ]
  },
  {
   "attachments": {},
   "cell_type": "markdown",
   "metadata": {},
   "source": [
    "Adding a new row to dataframe with `push`"
   ]
  },
  {
   "cell_type": "code",
   "execution_count": 129,
   "metadata": {},
   "outputs": [
    {
     "data": {
      "text/html": [
       "<div><div style = \"float: left;\"><span>17×2 DataFrame</span></div><div style = \"clear: both;\"></div></div><div class = \"data-frame\" style = \"overflow-x: scroll;\"><table class = \"data-frame\" style = \"margin-bottom: 6px;\"><thead><tr class = \"header\"><th class = \"rowNumber\" style = \"font-weight: bold; text-align: right;\">Row</th><th style = \"text-align: left;\">x</th><th style = \"text-align: left;\">y</th></tr><tr class = \"subheader headerLastRow\"><th class = \"rowNumber\" style = \"font-weight: bold; text-align: right;\"></th><th title = \"Int64\" style = \"text-align: left;\">Int64</th><th title = \"Int64\" style = \"text-align: left;\">Int64</th></tr></thead><tbody><tr><td class = \"rowNumber\" style = \"font-weight: bold; text-align: right;\">1</td><td style = \"text-align: right;\">1</td><td style = \"text-align: right;\">2</td></tr><tr><td class = \"rowNumber\" style = \"font-weight: bold; text-align: right;\">2</td><td style = \"text-align: right;\">2</td><td style = \"text-align: right;\">3</td></tr><tr><td class = \"rowNumber\" style = \"font-weight: bold; text-align: right;\">3</td><td style = \"text-align: right;\">3</td><td style = \"text-align: right;\">4</td></tr><tr><td class = \"rowNumber\" style = \"font-weight: bold; text-align: right;\">4</td><td style = \"text-align: right;\">4</td><td style = \"text-align: right;\">5</td></tr><tr><td class = \"rowNumber\" style = \"font-weight: bold; text-align: right;\">5</td><td style = \"text-align: right;\">5</td><td style = \"text-align: right;\">6</td></tr><tr><td class = \"rowNumber\" style = \"font-weight: bold; text-align: right;\">6</td><td style = \"text-align: right;\">6</td><td style = \"text-align: right;\">7</td></tr><tr><td class = \"rowNumber\" style = \"font-weight: bold; text-align: right;\">7</td><td style = \"text-align: right;\">7</td><td style = \"text-align: right;\">8</td></tr><tr><td class = \"rowNumber\" style = \"font-weight: bold; text-align: right;\">8</td><td style = \"text-align: right;\">8</td><td style = \"text-align: right;\">9</td></tr><tr><td class = \"rowNumber\" style = \"font-weight: bold; text-align: right;\">9</td><td style = \"text-align: right;\">9</td><td style = \"text-align: right;\">10</td></tr><tr><td class = \"rowNumber\" style = \"font-weight: bold; text-align: right;\">10</td><td style = \"text-align: right;\">10</td><td style = \"text-align: right;\">11</td></tr><tr><td class = \"rowNumber\" style = \"font-weight: bold; text-align: right;\">11</td><td style = \"text-align: right;\">5</td><td style = \"text-align: right;\">6</td></tr><tr><td class = \"rowNumber\" style = \"font-weight: bold; text-align: right;\">12</td><td style = \"text-align: right;\">6</td><td style = \"text-align: right;\">7</td></tr><tr><td class = \"rowNumber\" style = \"font-weight: bold; text-align: right;\">13</td><td style = \"text-align: right;\">7</td><td style = \"text-align: right;\">8</td></tr><tr><td class = \"rowNumber\" style = \"font-weight: bold; text-align: right;\">14</td><td style = \"text-align: right;\">8</td><td style = \"text-align: right;\">9</td></tr><tr><td class = \"rowNumber\" style = \"font-weight: bold; text-align: right;\">15</td><td style = \"text-align: right;\">9</td><td style = \"text-align: right;\">10</td></tr><tr><td class = \"rowNumber\" style = \"font-weight: bold; text-align: right;\">16</td><td style = \"text-align: right;\">10</td><td style = \"text-align: right;\">11</td></tr><tr><td class = \"rowNumber\" style = \"font-weight: bold; text-align: right;\">17</td><td style = \"text-align: right;\">100</td><td style = \"text-align: right;\">200</td></tr></tbody></table></div>"
      ],
      "text/latex": [
       "\\begin{tabular}{r|cc}\n",
       "\t& x & y\\\\\n",
       "\t\\hline\n",
       "\t& Int64 & Int64\\\\\n",
       "\t\\hline\n",
       "\t1 & 1 & 2 \\\\\n",
       "\t2 & 2 & 3 \\\\\n",
       "\t3 & 3 & 4 \\\\\n",
       "\t4 & 4 & 5 \\\\\n",
       "\t5 & 5 & 6 \\\\\n",
       "\t6 & 6 & 7 \\\\\n",
       "\t7 & 7 & 8 \\\\\n",
       "\t8 & 8 & 9 \\\\\n",
       "\t9 & 9 & 10 \\\\\n",
       "\t10 & 10 & 11 \\\\\n",
       "\t11 & 5 & 6 \\\\\n",
       "\t12 & 6 & 7 \\\\\n",
       "\t13 & 7 & 8 \\\\\n",
       "\t14 & 8 & 9 \\\\\n",
       "\t15 & 9 & 10 \\\\\n",
       "\t16 & 10 & 11 \\\\\n",
       "\t17 & 100 & 200 \\\\\n",
       "\\end{tabular}\n"
      ],
      "text/plain": [
       "\u001b[1m17×2 DataFrame\u001b[0m\n",
       "\u001b[1m Row \u001b[0m│\u001b[1m x     \u001b[0m\u001b[1m y     \u001b[0m\n",
       "     │\u001b[90m Int64 \u001b[0m\u001b[90m Int64 \u001b[0m\n",
       "─────┼──────────────\n",
       "   1 │     1      2\n",
       "   2 │     2      3\n",
       "   3 │     3      4\n",
       "   4 │     4      5\n",
       "   5 │     5      6\n",
       "   6 │     6      7\n",
       "   7 │     7      8\n",
       "   8 │     8      9\n",
       "   9 │     9     10\n",
       "  10 │    10     11\n",
       "  11 │     5      6\n",
       "  12 │     6      7\n",
       "  13 │     7      8\n",
       "  14 │     8      9\n",
       "  15 │     9     10\n",
       "  16 │    10     11\n",
       "  17 │   100    200"
      ]
     },
     "metadata": {},
     "output_type": "display_data"
    }
   ],
   "source": [
    "push!(df3, (x = 100, y = 200))"
   ]
  },
  {
   "attachments": {},
   "cell_type": "markdown",
   "metadata": {},
   "source": [
    "## Other dataframe transformations"
   ]
  },
  {
   "cell_type": "code",
   "execution_count": 130,
   "metadata": {},
   "outputs": [
    {
     "data": {
      "text/html": [
       "<div><div style = \"float: left;\"><span>6921×18 DataFrame</span></div><div style = \"float: right;\"><span style = \"font-style: italic;\">6896 rows omitted</span></div><div style = \"clear: both;\"></div></div><div class = \"data-frame\" style = \"overflow-x: scroll;\"><table class = \"data-frame\" style = \"margin-bottom: 6px;\"><thead><tr class = \"header\"><th class = \"rowNumber\" style = \"font-weight: bold; text-align: right;\">Row</th><th style = \"text-align: left;\">raw_row_number</th><th style = \"text-align: left;\">date</th><th style = \"text-align: left;\">time</th><th style = \"text-align: left;\">location</th><th style = \"text-align: left;\">lat</th><th style = \"text-align: left;\">lng</th><th style = \"text-align: left;\">sector</th><th style = \"text-align: left;\">subject_age</th><th style = \"text-align: left;\">subject_race</th><th style = \"text-align: left;\">subject_sex</th><th style = \"text-align: left;\">officer_id_hash</th><th style = \"text-align: left;\">type</th><th style = \"text-align: left;\">violation</th><th style = \"text-align: left;\">arrest_made</th><th style = \"text-align: left;\">citation_issued</th><th style = \"text-align: left;\">outcome</th><th style = \"text-align: left;\">vehicle_registration_state</th><th style = \"text-align: left;\">raw_race</th></tr><tr class = \"subheader headerLastRow\"><th class = \"rowNumber\" style = \"font-weight: bold; text-align: right;\"></th><th title = \"Int64\" style = \"text-align: left;\">Int64</th><th title = \"Dates.Date\" style = \"text-align: left;\">Date</th><th title = \"Dates.Time\" style = \"text-align: left;\">Time</th><th title = \"String\" style = \"text-align: left;\">String</th><th title = \"Float64\" style = \"text-align: left;\">Float64</th><th title = \"Union{Missing, Float64}\" style = \"text-align: left;\">Float64?</th><th title = \"Union{Missing, String15}\" style = \"text-align: left;\">String15?</th><th title = \"Union{Missing, Int64}\" style = \"text-align: left;\">Int64?</th><th title = \"Union{Missing, String31}\" style = \"text-align: left;\">String31?</th><th title = \"String7\" style = \"text-align: left;\">String7</th><th title = \"String15\" style = \"text-align: left;\">String15</th><th title = \"Union{Missing, String15}\" style = \"text-align: left;\">String15?</th><th title = \"String\" style = \"text-align: left;\">String</th><th title = \"Bool\" style = \"text-align: left;\">Bool</th><th title = \"Bool\" style = \"text-align: left;\">Bool</th><th title = \"String15\" style = \"text-align: left;\">String15</th><th title = \"Union{Missing, String3}\" style = \"text-align: left;\">String3?</th><th title = \"Union{Missing, String31}\" style = \"text-align: left;\">String31?</th></tr></thead><tbody><tr><td class = \"rowNumber\" style = \"font-weight: bold; text-align: right;\">1</td><td style = \"text-align: right;\">1</td><td style = \"text-align: left;\">2016-08-04</td><td style = \"text-align: left;\">13:52:00</td><td style = \"text-align: left;\">1016 HALL ST, OWENSBORO, KY, 42301</td><td style = \"text-align: right;\">37.7673</td><td style = \"text-align: right;\">-87.0977</td><td style = \"text-align: left;\">BRAVO</td><td style = \"text-align: right;\">30</td><td style = \"text-align: left;\">white</td><td style = \"text-align: left;\">male</td><td style = \"text-align: left;\">0b087b613e</td><td style = \"text-align: left;\">pedestrian</td><td style = \"text-align: left;\">POSS CONT SUB 1ST DEG, 1ST OFF (METHAMPHETAMINE); DRUG PARAPHERLIA - BUY/POSSESS</td><td style = \"text-align: right;\">true</td><td style = \"text-align: right;\">true</td><td style = \"text-align: left;\">arrest</td><td style = \"text-align: left;\">KY</td><td style = \"text-align: left;\">WHITE</td></tr><tr><td class = \"rowNumber\" style = \"font-weight: bold; text-align: right;\">2</td><td style = \"text-align: right;\">2</td><td style = \"text-align: left;\">2016-04-03</td><td style = \"text-align: left;\">01:48:00</td><td style = \"text-align: left;\">W PARRISH AVE/BYPASS, OWENSBORO, KY, 42301</td><td style = \"text-align: right;\">37.7557</td><td style = \"text-align: right;\">-87.1561</td><td style = \"text-align: left;\">WEST</td><td style = \"text-align: right;\">17</td><td style = \"text-align: left;\">white</td><td style = \"text-align: left;\">male</td><td style = \"text-align: left;\">cccb830893</td><td style = \"text-align: left;\">vehicular</td><td style = \"text-align: left;\">FAILURE TO ILLUMITE HEAD LAMPS; NO OPERATORS-MOPED LICENSE; NO REGISTRATION PLATES</td><td style = \"text-align: right;\">false</td><td style = \"text-align: right;\">true</td><td style = \"text-align: left;\">citation</td><td style = \"text-align: left;\">KY</td><td style = \"text-align: left;\">WHITE</td></tr><tr><td class = \"rowNumber\" style = \"font-weight: bold; text-align: right;\">3</td><td style = \"text-align: right;\">3</td><td style = \"text-align: left;\">2015-09-13</td><td style = \"text-align: left;\">04:57:00</td><td style = \"text-align: left;\">2511 HWY 144 ST, OWENSBORO, KY, 42303</td><td style = \"text-align: right;\">37.7777</td><td style = \"text-align: right;\">-87.0871</td><td style = \"text-align: left;\">BRAVO</td><td style = \"text-align: right;\">33</td><td style = \"text-align: left;\">white</td><td style = \"text-align: left;\">male</td><td style = \"text-align: left;\">5ad1b66604</td><td style = \"text-align: left;\">vehicular</td><td style = \"text-align: left;\">NO TAIL LAMPS; OPER MTR VEHICLE U/INFLUENCE ALC/DRUGS/ETC. .08 - 1ST OFF; POSS CONT SUB 1ST DEG, 1ST OFF (METHAMPHETAMINE); FAILURE OF OWNER TO MAINTAIN REQUIRED INS/SEC, 1ST OFF; VIOLATION UNKNOWN</td><td style = \"text-align: right;\">true</td><td style = \"text-align: right;\">true</td><td style = \"text-align: left;\">arrest</td><td style = \"text-align: left;\">KY</td><td style = \"text-align: left;\">WHITE</td></tr><tr><td class = \"rowNumber\" style = \"font-weight: bold; text-align: right;\">4</td><td style = \"text-align: right;\">4</td><td style = \"text-align: left;\">2016-01-05</td><td style = \"text-align: left;\">13:16:00</td><td style = \"text-align: left;\">CARTER RD &amp; BITTEL RD, OWENSBORO, KY, 42301</td><td style = \"text-align: right;\">37.7514</td><td style = \"text-align: right;\">-87.1468</td><td style = \"text-align: left;\">CHARLIE</td><td style = \"text-align: right;\">52</td><td style = \"text-align: left;\">white</td><td style = \"text-align: left;\">female</td><td style = \"text-align: left;\">78fbcbf614</td><td style = \"text-align: left;\">vehicular</td><td style = \"text-align: left;\">OPER MTR VEH U/INFLU ALC/DRUGS/ETC. .08 (AGG CIRCUM), 2ND; DRIVING DUI SUSPENDED LICENSE - 1ST OFF (AGG CIRCUM)</td><td style = \"text-align: right;\">true</td><td style = \"text-align: right;\">true</td><td style = \"text-align: left;\">arrest</td><td style = \"text-align: left;\">KY</td><td style = \"text-align: left;\">WHITE</td></tr><tr><td class = \"rowNumber\" style = \"font-weight: bold; text-align: right;\">5</td><td style = \"text-align: right;\">5</td><td style = \"text-align: left;\">2016-04-06</td><td style = \"text-align: left;\">02:15:00</td><td style = \"text-align: left;\">FREDERICA ST &amp; FAIRFAX DR, OWENSBORO, KY, 42301</td><td style = \"text-align: right;\">37.734</td><td style = \"text-align: right;\">-87.1202</td><td style = \"text-align: left;\">FOX</td><td style = \"text-align: right;\">33</td><td style = \"text-align: left;\">white</td><td style = \"text-align: left;\">male</td><td style = \"text-align: left;\">78fbcbf614</td><td style = \"text-align: left;\">vehicular</td><td style = \"text-align: left;\">OPERATING ON SUS OR REV OPER LICENSE</td><td style = \"text-align: right;\">false</td><td style = \"text-align: right;\">true</td><td style = \"text-align: left;\">citation</td><td style = \"text-align: left;\">KY</td><td style = \"text-align: left;\">WHITE</td></tr><tr><td class = \"rowNumber\" style = \"font-weight: bold; text-align: right;\">6</td><td style = \"text-align: right;\">6</td><td style = \"text-align: left;\">2015-11-05</td><td style = \"text-align: left;\">23:15:00</td><td style = \"text-align: left;\">FREDERICA ST AND WASHINGTON AVE, OWENSBORO, KY, 42303</td><td style = \"text-align: right;\">37.7513</td><td style = \"text-align: right;\">-87.1116</td><td style = \"text-align: left;\">DELTA</td><td style = \"text-align: right;\">32</td><td style = \"text-align: left;\">white</td><td style = \"text-align: left;\">male</td><td style = \"text-align: left;\">60dc0a01bb</td><td style = \"text-align: left;\">vehicular</td><td style = \"text-align: left;\">FAILURE TO WEAR SEAT BELTS</td><td style = \"text-align: right;\">false</td><td style = \"text-align: right;\">true</td><td style = \"text-align: left;\">citation</td><td style = \"text-align: left;\">KY</td><td style = \"text-align: left;\">WHITE</td></tr><tr><td class = \"rowNumber\" style = \"font-weight: bold; text-align: right;\">7</td><td style = \"text-align: right;\">7</td><td style = \"text-align: left;\">2016-02-14</td><td style = \"text-align: left;\">02:40:00</td><td style = \"text-align: left;\">1301 FREDERICA ST, OWENSBORO, KY, 42301</td><td style = \"text-align: right;\">37.7635</td><td style = \"text-align: right;\">-87.1125</td><td style = \"text-align: left;\">DELTA</td><td style = \"text-align: right;\">28</td><td style = \"text-align: left;\">white</td><td style = \"text-align: left;\">male</td><td style = \"text-align: left;\">60dc0a01bb</td><td style = \"text-align: left;\">vehicular</td><td style = \"text-align: left;\">OPER MTR VEHICLE U/INFLUENCE ALC/DRUGS/ETC. .08 - 1ST OFF</td><td style = \"text-align: right;\">true</td><td style = \"text-align: right;\">true</td><td style = \"text-align: left;\">arrest</td><td style = \"text-align: left;\">KY</td><td style = \"text-align: left;\">WHITE</td></tr><tr><td class = \"rowNumber\" style = \"font-weight: bold; text-align: right;\">8</td><td style = \"text-align: right;\">8</td><td style = \"text-align: left;\">2016-02-09</td><td style = \"text-align: left;\">16:59:00</td><td style = \"text-align: left;\">1300 MCFARLAND AVE, OWENSBORO, KY, 42301</td><td style = \"text-align: right;\">37.759</td><td style = \"text-align: right;\">-87.146</td><td style = \"text-align: left;\">CHARLIE</td><td style = \"text-align: right;\">24</td><td style = \"text-align: left;\">white</td><td style = \"text-align: left;\">male</td><td style = \"text-align: left;\">fbd3670efb</td><td style = \"text-align: left;\">vehicular</td><td style = \"text-align: left;\">DISREGARDING TRAFFIC CONT DEV-TRAFFIC LIGHT; LICENSE TO BE IN POSSESSION</td><td style = \"text-align: right;\">false</td><td style = \"text-align: right;\">true</td><td style = \"text-align: left;\">citation</td><td style = \"text-align: left;\">KY</td><td style = \"text-align: left;\">WHITE</td></tr><tr><td class = \"rowNumber\" style = \"font-weight: bold; text-align: right;\">9</td><td style = \"text-align: right;\">9</td><td style = \"text-align: left;\">2016-04-16</td><td style = \"text-align: left;\">23:14:00</td><td style = \"text-align: left;\">700 CRABTREE AVE, OWENSBORO, KY, 42301</td><td style = \"text-align: right;\">37.7677</td><td style = \"text-align: right;\">-87.1342</td><td style = \"text-align: left;\">ALPHA</td><td style = \"text-align: right;\">23</td><td style = \"text-align: left;\">white</td><td style = \"text-align: left;\">female</td><td style = \"text-align: left;\">fbd3670efb</td><td style = \"text-align: left;\">vehicular</td><td style = \"text-align: left;\">OPER MTR VEH U/INFLU ALC/DRUGS/ETC. .08 (AGG CIRCUM), 2ND; DRIVING ON DUI SUSPENDED LICENSE -1ST OFFENSE; POSS OF OPEN ALC BEVERAGE CONT IN MOTOR VEH PROHIBITED; FAILURE OF OWNER TO MAINTAIN REQUIRED INS/SEC, 1ST OFF; FAILURE TO WEAR SEAT BELTS</td><td style = \"text-align: right;\">true</td><td style = \"text-align: right;\">true</td><td style = \"text-align: left;\">arrest</td><td style = \"text-align: left;\">KY</td><td style = \"text-align: left;\">WHITE</td></tr><tr><td class = \"rowNumber\" style = \"font-weight: bold; text-align: right;\">10</td><td style = \"text-align: right;\">10</td><td style = \"text-align: left;\">2016-06-22</td><td style = \"text-align: left;\">01:20:00</td><td style = \"text-align: left;\">700 CRITTENDEN ST, OLATON, KY, 42361</td><td style = \"text-align: right;\">37.7695</td><td style = \"text-align: right;\">-87.1073</td><td style = \"text-align: left;\">BRAVO</td><td style = \"text-align: right;\">36</td><td style = \"text-align: left;\">white</td><td style = \"text-align: left;\">male</td><td style = \"text-align: left;\">fbd3670efb</td><td style = \"text-align: left;\">vehicular</td><td style = \"text-align: left;\">OPER MTR VEHICLE U/INFLUENCE ALC/DRUGS/ETC. .08 - 1ST OFF; OPERATING VEHICLE WITH EXPIRED OPERATORS LICENSE; DRUG PARAPHERLIA - BUY/POSSESS</td><td style = \"text-align: right;\">true</td><td style = \"text-align: right;\">true</td><td style = \"text-align: left;\">arrest</td><td style = \"text-align: left;\">KY</td><td style = \"text-align: left;\">WHITE</td></tr><tr><td class = \"rowNumber\" style = \"font-weight: bold; text-align: right;\">11</td><td style = \"text-align: right;\">11</td><td style = \"text-align: left;\">2016-06-29</td><td style = \"text-align: left;\">19:24:00</td><td style = \"text-align: left;\">1201 HUTCH LN, OWENSBORO, KY, 42301</td><td style = \"text-align: right;\">37.7622</td><td style = \"text-align: right;\">-87.1407</td><td style = \"text-align: left;\">ALPHA</td><td style = \"text-align: right;\">19</td><td style = \"text-align: left;\">white</td><td style = \"text-align: left;\">male</td><td style = \"text-align: left;\">fbd3670efb</td><td style = \"text-align: left;\">vehicular</td><td style = \"text-align: left;\">OPER MTR VEHICLE U/INFLUENCE ALC/DRUGS/ETC. .08 - 1ST OFF; LEAVING SCENE OF ACCIDENT-FAILURE TO RENDER AID OR ASSISTANCE; NO OPERATORS-MOPED LICENSE</td><td style = \"text-align: right;\">true</td><td style = \"text-align: right;\">true</td><td style = \"text-align: left;\">arrest</td><td style = \"text-align: left;\">KY</td><td style = \"text-align: left;\">WHITE</td></tr><tr><td class = \"rowNumber\" style = \"font-weight: bold; text-align: right;\">12</td><td style = \"text-align: right;\">12</td><td style = \"text-align: left;\">2015-11-21</td><td style = \"text-align: left;\">15:58:00</td><td style = \"text-align: left;\">900 BOOTH AVE, OWENSBORO, KY, 42301</td><td style = \"text-align: right;\">37.751</td><td style = \"text-align: right;\">-87.1195</td><td style = \"text-align: left;\">CHARLIE</td><td style = \"text-align: right;\">27</td><td style = \"text-align: left;\">black</td><td style = \"text-align: left;\">male</td><td style = \"text-align: left;\">d8167f8260</td><td style = \"text-align: left;\">vehicular</td><td style = \"text-align: left;\">NO REGISTRATION PLATES; FAILURE TO PRODUCE INSURANCE CARD; NO OPERATORS-MOPED LICENSE</td><td style = \"text-align: right;\">false</td><td style = \"text-align: right;\">true</td><td style = \"text-align: left;\">citation</td><td style = \"text-align: left;\">KY</td><td style = \"text-align: left;\">BLACK</td></tr><tr><td class = \"rowNumber\" style = \"font-weight: bold; text-align: right;\">13</td><td style = \"text-align: right;\">13</td><td style = \"text-align: left;\">2015-10-25</td><td style = \"text-align: left;\">04:20:00</td><td style = \"text-align: left;\">E BYERS AVE / FRIENDSHIP DRIVE, OWENSBORO, KY, 42303</td><td style = \"text-align: right;\">37.7566</td><td style = \"text-align: right;\">-87.0772</td><td style = \"text-align: left;\">DELTA</td><td style = \"text-align: right;\">30</td><td style = \"text-align: left;\">white</td><td style = \"text-align: left;\">male</td><td style = \"text-align: left;\">222e142740</td><td style = \"text-align: left;\">vehicular</td><td style = \"text-align: left;\">OPER MTR VEHICLE U/INFLUENCE ALC/DRUGS/ETC. .08 - 1ST OFF</td><td style = \"text-align: right;\">true</td><td style = \"text-align: right;\">true</td><td style = \"text-align: left;\">arrest</td><td style = \"text-align: left;\">KY</td><td style = \"text-align: left;\">WHITE</td></tr><tr><td style = \"text-align: right;\">&vellip;</td><td style = \"text-align: right;\">&vellip;</td><td style = \"text-align: right;\">&vellip;</td><td style = \"text-align: right;\">&vellip;</td><td style = \"text-align: right;\">&vellip;</td><td style = \"text-align: right;\">&vellip;</td><td style = \"text-align: right;\">&vellip;</td><td style = \"text-align: right;\">&vellip;</td><td style = \"text-align: right;\">&vellip;</td><td style = \"text-align: right;\">&vellip;</td><td style = \"text-align: right;\">&vellip;</td><td style = \"text-align: right;\">&vellip;</td><td style = \"text-align: right;\">&vellip;</td><td style = \"text-align: right;\">&vellip;</td><td style = \"text-align: right;\">&vellip;</td><td style = \"text-align: right;\">&vellip;</td><td style = \"text-align: right;\">&vellip;</td><td style = \"text-align: right;\">&vellip;</td><td style = \"text-align: right;\">&vellip;</td></tr><tr><td class = \"rowNumber\" style = \"font-weight: bold; text-align: right;\">6910</td><td style = \"text-align: right;\">6910</td><td style = \"text-align: left;\">2017-08-24</td><td style = \"text-align: left;\">23:51:00</td><td style = \"text-align: left;\">MCFARLAND AVE AND CARTER RD, OWENSBORO, KY, 42301</td><td style = \"text-align: right;\">37.7593</td><td style = \"text-align: right;\">-87.1462</td><td style = \"text-align: left;\">ALPHA</td><td style = \"text-align: right;\">65</td><td style = \"text-align: left;\">black</td><td style = \"text-align: left;\">male</td><td style = \"text-align: left;\">decf9509bb</td><td style = \"text-align: left;\">vehicular</td><td style = \"text-align: left;\">NO REGISTRATION PLATES; FAILURE TO PRODUCE INSURANCE CARD</td><td style = \"text-align: right;\">false</td><td style = \"text-align: right;\">true</td><td style = \"text-align: left;\">citation</td><td style = \"text-align: left;\">KY</td><td style = \"text-align: left;\">BLACK</td></tr><tr><td class = \"rowNumber\" style = \"font-weight: bold; text-align: right;\">6911</td><td style = \"text-align: right;\">6911</td><td style = \"text-align: left;\">2017-08-25</td><td style = \"text-align: left;\">00:00:00</td><td style = \"text-align: left;\">W 1ST ST / RIVER RD, OWENSBORO, KY, 42301</td><td style = \"text-align: right;\">37.7745</td><td style = \"text-align: right;\">-87.1368</td><td style = \"text-align: left;\">ALPHA</td><td style = \"text-align: right;\">16</td><td style = \"text-align: left;\">white</td><td style = \"text-align: left;\">male</td><td style = \"text-align: left;\">ec464c9b5b</td><td style = \"text-align: left;\">vehicular</td><td style = \"text-align: left;\">FAILURE TO OR IMPROPER SIGL; FAILURE TO PRODUCE INSURANCE CARD; NO OPERATORS-MOPED LICENSE</td><td style = \"text-align: right;\">false</td><td style = \"text-align: right;\">true</td><td style = \"text-align: left;\">citation</td><td style = \"text-align: left;\">KY</td><td style = \"text-align: left;\">WHITE</td></tr><tr><td class = \"rowNumber\" style = \"font-weight: bold; text-align: right;\">6912</td><td style = \"text-align: right;\">6912</td><td style = \"text-align: left;\">2017-08-26</td><td style = \"text-align: left;\">23:37:00</td><td style = \"text-align: left;\">2630 W PARRISH AVE, OWENSBORO, KY, 42301</td><td style = \"text-align: right;\">37.7577</td><td style = \"text-align: right;\">-87.1458</td><td style = \"text-align: left;\">CHARLIE</td><td style = \"text-align: right;\">65</td><td style = \"text-align: left;\">black</td><td style = \"text-align: left;\">male</td><td style = \"text-align: left;\">ec464c9b5b</td><td style = \"text-align: left;\">vehicular</td><td style = \"text-align: left;\">NO TAIL LAMPS; FAILURE TO PRODUCE INSURANCE CARD; NO REGISTRATION PLATES</td><td style = \"text-align: right;\">false</td><td style = \"text-align: right;\">true</td><td style = \"text-align: left;\">citation</td><td style = \"text-align: left;\">KY</td><td style = \"text-align: left;\">BLACK</td></tr><tr><td class = \"rowNumber\" style = \"font-weight: bold; text-align: right;\">6913</td><td style = \"text-align: right;\">6913</td><td style = \"text-align: left;\">2017-08-27</td><td style = \"text-align: left;\">00:39:00</td><td style = \"text-align: left;\">W 12TH ST / MORELAND AVE, OWENSBORO, KY, 42303</td><td style = \"text-align: right;\">37.7641</td><td style = \"text-align: right;\">-87.1222</td><td style = \"text-align: left;\">CHARLIE</td><td style = \"text-align: right;\">44</td><td style = \"text-align: left;\">white</td><td style = \"text-align: left;\">male</td><td style = \"text-align: left;\">ec464c9b5b</td><td style = \"text-align: left;\">vehicular</td><td style = \"text-align: left;\">ONE HEADLIGHT; FAILURE TO PRODUCE INSURANCE CARD; LICENSE TO BE IN POSSESSION; NO REGISTRATION PLATES</td><td style = \"text-align: right;\">false</td><td style = \"text-align: right;\">true</td><td style = \"text-align: left;\">citation</td><td style = \"text-align: left;\">IN</td><td style = \"text-align: left;\">WHITE</td></tr><tr><td class = \"rowNumber\" style = \"font-weight: bold; text-align: right;\">6914</td><td style = \"text-align: right;\">6914</td><td style = \"text-align: left;\">2017-08-27</td><td style = \"text-align: left;\">02:05:00</td><td style = \"text-align: left;\">W 4TH ST / CASTLEN ST, MORGANTOWN, KY, 42261</td><td style = \"text-align: right;\">37.7716</td><td style = \"text-align: right;\">-87.1293</td><td style = \"text-align: left;\">ALPHA</td><td style = \"text-align: right;\">34</td><td style = \"text-align: left;\">white</td><td style = \"text-align: left;\">male</td><td style = \"text-align: left;\">ec464c9b5b</td><td style = \"text-align: left;\">vehicular</td><td style = \"text-align: left;\">ONE HEADLIGHT; NO REGISTRATION RECEIPT; NO OPERATORS-MOPED LICENSE; OPER MTR VEHICLE U/INFLUENCE ALC/DRUGS/ETC. .08 - 1ST OFF</td><td style = \"text-align: right;\">true</td><td style = \"text-align: right;\">true</td><td style = \"text-align: left;\">arrest</td><td style = \"text-align: left;\">KY</td><td style = \"text-align: left;\">WHITE</td></tr><tr><td class = \"rowNumber\" style = \"font-weight: bold; text-align: right;\">6915</td><td style = \"text-align: right;\">6915</td><td style = \"text-align: left;\">2017-08-30</td><td style = \"text-align: left;\">10:50:00</td><td style = \"text-align: left;\">3000 BLOCK BURLEW BLVD, OWENSBORO, KY, 42301</td><td style = \"text-align: right;\">37.7398</td><td style = \"text-align: right;\">-87.0961</td><td style = \"text-align: left;\">FOX</td><td style = \"text-align: right;\">18</td><td style = \"text-align: left;\">white</td><td style = \"text-align: left;\">female</td><td style = \"text-align: left;\">db35a291c6</td><td style = \"text-align: left;\">vehicular</td><td style = \"text-align: left;\">SPEEDING 10 MPH OVER LIMIT</td><td style = \"text-align: right;\">false</td><td style = \"text-align: right;\">true</td><td style = \"text-align: left;\">citation</td><td style = \"text-align: left;\">KY</td><td style = \"text-align: left;\">WHITE</td></tr><tr><td class = \"rowNumber\" style = \"font-weight: bold; text-align: right;\">6916</td><td style = \"text-align: right;\">6916</td><td style = \"text-align: left;\">2017-08-30</td><td style = \"text-align: left;\">10:58:00</td><td style = \"text-align: left;\">3000 BLOCK BURLEW BLVD, PHILPOT, KY, 42366</td><td style = \"text-align: right;\">37.7398</td><td style = \"text-align: right;\">-87.0961</td><td style = \"text-align: left;\">FOX</td><td style = \"text-align: right;\">69</td><td style = \"text-align: left;\">white</td><td style = \"text-align: left;\">male</td><td style = \"text-align: left;\">db35a291c6</td><td style = \"text-align: left;\">vehicular</td><td style = \"text-align: left;\">SPEEDING 08 MPH OVER LIMIT; FAILURE TO OR IMPROPER SIGL</td><td style = \"text-align: right;\">false</td><td style = \"text-align: right;\">true</td><td style = \"text-align: left;\">citation</td><td style = \"text-align: left;\">KY</td><td style = \"text-align: left;\">WHITE</td></tr><tr><td class = \"rowNumber\" style = \"font-weight: bold; text-align: right;\">6917</td><td style = \"text-align: right;\">6917</td><td style = \"text-align: left;\">2017-08-30</td><td style = \"text-align: left;\">11:12:00</td><td style = \"text-align: left;\">3000 BLOCK BURLEW BLVD, OWENSBORO, KY, 42303</td><td style = \"text-align: right;\">37.7398</td><td style = \"text-align: right;\">-87.0961</td><td style = \"text-align: left;\">FOX</td><td style = \"text-align: right;\">21</td><td style = \"text-align: left;\">white</td><td style = \"text-align: left;\">female</td><td style = \"text-align: left;\">db35a291c6</td><td style = \"text-align: left;\">vehicular</td><td style = \"text-align: left;\">SPEEDING 10 MPH OVER LIMIT; FAILURE TO WEAR SEAT BELTS</td><td style = \"text-align: right;\">false</td><td style = \"text-align: right;\">true</td><td style = \"text-align: left;\">citation</td><td style = \"text-align: left;\">KY</td><td style = \"text-align: left;\">WHITE</td></tr><tr><td class = \"rowNumber\" style = \"font-weight: bold; text-align: right;\">6918</td><td style = \"text-align: right;\">6918</td><td style = \"text-align: left;\">2017-08-30</td><td style = \"text-align: left;\">11:23:00</td><td style = \"text-align: left;\">3000 BLOCK BURLEW BLVD, OWENSBORO, KY, 42303</td><td style = \"text-align: right;\">37.7398</td><td style = \"text-align: right;\">-87.0961</td><td style = \"text-align: left;\">FOX</td><td style = \"text-align: right;\">31</td><td style = \"text-align: left;\">white</td><td style = \"text-align: left;\">female</td><td style = \"text-align: left;\">db35a291c6</td><td style = \"text-align: left;\">vehicular</td><td style = \"text-align: left;\">SPEEDING 11 MPH OVER LIMIT; NO REGISTRATION RECEIPT</td><td style = \"text-align: right;\">false</td><td style = \"text-align: right;\">true</td><td style = \"text-align: left;\">citation</td><td style = \"text-align: left;\">KY</td><td style = \"text-align: left;\">WHITE</td></tr><tr><td class = \"rowNumber\" style = \"font-weight: bold; text-align: right;\">6919</td><td style = \"text-align: right;\">6919</td><td style = \"text-align: left;\">2017-08-30</td><td style = \"text-align: left;\">11:44:00</td><td style = \"text-align: left;\">3000 BLOCK BURLEW BLVD, OWENSBORO, KY, 42303</td><td style = \"text-align: right;\">37.7398</td><td style = \"text-align: right;\">-87.0961</td><td style = \"text-align: left;\">FOX</td><td style = \"text-align: right;\">28</td><td style = \"text-align: left;\">white</td><td style = \"text-align: left;\">female</td><td style = \"text-align: left;\">db35a291c6</td><td style = \"text-align: left;\">vehicular</td><td style = \"text-align: left;\">SPEEDING 17 MPH OVER LIMIT; FAILURE TO WEAR SEAT BELTS; LICENSE TO BE IN POSSESSION; FAILURE OF OWNER TO MAINTAIN REQUIRED INS/SEC, 1ST OFF; NO REGISTRATION PLATES; NO REGISTRATION RECEIPT</td><td style = \"text-align: right;\">false</td><td style = \"text-align: right;\">true</td><td style = \"text-align: left;\">citation</td><td style = \"text-align: left;\">KY</td><td style = \"text-align: left;\">WHITE</td></tr><tr><td class = \"rowNumber\" style = \"font-weight: bold; text-align: right;\">6920</td><td style = \"text-align: right;\">6920</td><td style = \"text-align: left;\">2017-08-30</td><td style = \"text-align: left;\">12:06:00</td><td style = \"text-align: left;\">3000 BLOCK BURLEW BLVD, OWENSBORO, KY, 42303</td><td style = \"text-align: right;\">37.7398</td><td style = \"text-align: right;\">-87.0961</td><td style = \"text-align: left;\">FOX</td><td style = \"text-align: right;\">70</td><td style = \"text-align: left;\">white</td><td style = \"text-align: left;\">male</td><td style = \"text-align: left;\">db35a291c6</td><td style = \"text-align: left;\">vehicular</td><td style = \"text-align: left;\">SPEEDING 13 MPH OVER LIMIT</td><td style = \"text-align: right;\">false</td><td style = \"text-align: right;\">true</td><td style = \"text-align: left;\">citation</td><td style = \"text-align: left;\">KY</td><td style = \"text-align: left;\">WHITE</td></tr><tr><td class = \"rowNumber\" style = \"font-weight: bold; text-align: right;\">6921</td><td style = \"text-align: right;\">6921</td><td style = \"text-align: left;\">2017-03-01</td><td style = \"text-align: left;\">17:28:00</td><td style = \"text-align: left;\"></td><td style = \"text-align: right;\">0.0</td><td style = \"text-align: right;\">missing</td><td style = \"text-align: left;\">missing</td><td style = \"text-align: right;\">22</td><td style = \"text-align: left;\">white</td><td style = \"text-align: left;\">male</td><td style = \"text-align: left;\">9555d0ba18</td><td style = \"text-align: left;\">vehicular</td><td style = \"text-align: left;\">FAILURE OF NON-OWNER OPERATOR TO MAINTAIN REQ INS/SEC, 1ST OFF; NO OTHER STATE REGISTRATION RECEIPT</td><td style = \"text-align: right;\">false</td><td style = \"text-align: right;\">true</td><td style = \"text-align: left;\">citation</td><td style = \"text-align: left;\">missing</td><td style = \"text-align: left;\">WHITE</td></tr></tbody></table></div>"
      ],
      "text/latex": [
       "\\begin{tabular}{r|ccccc}\n",
       "\t& raw\\_row\\_number & date & time & location & \\\\\n",
       "\t\\hline\n",
       "\t& Int64 & Date & Time & String & \\\\\n",
       "\t\\hline\n",
       "\t1 & 1 & 2016-08-04 & 13:52:00 & 1016 HALL ST, OWENSBORO, KY, 42301 & $\\dots$ \\\\\n",
       "\t2 & 2 & 2016-04-03 & 01:48:00 & W PARRISH AVE/BYPASS, OWENSBORO, KY, 42301 & $\\dots$ \\\\\n",
       "\t3 & 3 & 2015-09-13 & 04:57:00 & 2511 HWY 144 ST, OWENSBORO, KY, 42303 & $\\dots$ \\\\\n",
       "\t4 & 4 & 2016-01-05 & 13:16:00 & CARTER RD \\& BITTEL RD, OWENSBORO, KY, 42301 & $\\dots$ \\\\\n",
       "\t5 & 5 & 2016-04-06 & 02:15:00 & FREDERICA ST \\& FAIRFAX DR, OWENSBORO, KY, 42301 & $\\dots$ \\\\\n",
       "\t6 & 6 & 2015-11-05 & 23:15:00 & FREDERICA ST AND WASHINGTON AVE, OWENSBORO, KY, 42303 & $\\dots$ \\\\\n",
       "\t7 & 7 & 2016-02-14 & 02:40:00 & 1301 FREDERICA ST, OWENSBORO, KY, 42301 & $\\dots$ \\\\\n",
       "\t8 & 8 & 2016-02-09 & 16:59:00 & 1300 MCFARLAND AVE, OWENSBORO, KY, 42301 & $\\dots$ \\\\\n",
       "\t9 & 9 & 2016-04-16 & 23:14:00 & 700 CRABTREE AVE, OWENSBORO, KY, 42301 & $\\dots$ \\\\\n",
       "\t10 & 10 & 2016-06-22 & 01:20:00 & 700 CRITTENDEN ST, OLATON, KY, 42361 & $\\dots$ \\\\\n",
       "\t11 & 11 & 2016-06-29 & 19:24:00 & 1201 HUTCH LN, OWENSBORO, KY, 42301 & $\\dots$ \\\\\n",
       "\t12 & 12 & 2015-11-21 & 15:58:00 & 900 BOOTH AVE, OWENSBORO, KY, 42301 & $\\dots$ \\\\\n",
       "\t13 & 13 & 2015-10-25 & 04:20:00 & E BYERS AVE / FRIENDSHIP DRIVE, OWENSBORO, KY, 42303 & $\\dots$ \\\\\n",
       "\t14 & 14 & 2015-12-03 & 17:24:00 & 2805 W PARRISH AVE, OWENSBORO, KY, 42301 & $\\dots$ \\\\\n",
       "\t15 & 15 & 2015-12-12 & 12:46:00 & 2245 RAGU DR, OWENSBORO, KY, 42301 & $\\dots$ \\\\\n",
       "\t16 & 16 & 2015-12-15 & 19:24:00 & W 8TH ST \\& MAPLE ST, OWENSBORO, KY, 42301 & $\\dots$ \\\\\n",
       "\t17 & 17 & 2016-01-30 & 16:24:00 & 1670 STARLITE DR, OWENSBORO, KY, 42303 & $\\dots$ \\\\\n",
       "\t18 & 18 & 2016-01-24 & 01:50:00 & 1700 W 4TH ST, OWENSBORO, KY, 42301 & $\\dots$ \\\\\n",
       "\t19 & 19 & 2016-03-21 & 09:05:00 & E 4TH ST  JR MILLER BLV, OWENSBORO, KY, 42301 & $\\dots$ \\\\\n",
       "\t20 & 20 & 2016-05-05 & 12:53:00 & 1800 W 9TH ST, OWENSBORO, KY, 42301 & $\\dots$ \\\\\n",
       "\t21 & 21 & 2015-11-05 & 13:17:00 & W PARRISH AVE/FREDERICA, PHILPOT, KY, 42366 & $\\dots$ \\\\\n",
       "\t22 & 22 & 2016-04-18 & 09:30:00 & 1400 W 9TH ST, OWENSBORO, KY, 42301 & $\\dots$ \\\\\n",
       "\t23 & 23 & 2015-10-22 & 16:36:00 & 510 JED PL, OWENSBORO, KY, 42301 & $\\dots$ \\\\\n",
       "\t24 & 24 & 2016-06-07 & 18:57:00 & J R MILLER BLVD \\& E 9TH STREET, DALLAS, TX, 75211 & $\\dots$ \\\\\n",
       "\t$\\dots$ & $\\dots$ & $\\dots$ & $\\dots$ & $\\dots$ &  \\\\\n",
       "\\end{tabular}\n"
      ],
      "text/plain": [
       "\u001b[1m6921×18 DataFrame\u001b[0m\n",
       "\u001b[1m  Row \u001b[0m│\u001b[1m raw_row_number \u001b[0m\u001b[1m date       \u001b[0m\u001b[1m time     \u001b[0m\u001b[1m location                        \u001b[0m ⋯\n",
       "      │\u001b[90m Int64          \u001b[0m\u001b[90m Date       \u001b[0m\u001b[90m Time     \u001b[0m\u001b[90m String                          \u001b[0m ⋯\n",
       "──────┼─────────────────────────────────────────────────────────────────────────\n",
       "    1 │              1  2016-08-04  13:52:00  1016 HALL ST, OWENSBORO, KY, 423 ⋯\n",
       "    2 │              2  2016-04-03  01:48:00  W PARRISH AVE/BYPASS, OWENSBORO,\n",
       "    3 │              3  2015-09-13  04:57:00  2511 HWY 144 ST, OWENSBORO, KY,\n",
       "    4 │              4  2016-01-05  13:16:00  CARTER RD & BITTEL RD, OWENSBORO\n",
       "    5 │              5  2016-04-06  02:15:00  FREDERICA ST & FAIRFAX DR, OWENS ⋯\n",
       "    6 │              6  2015-11-05  23:15:00  FREDERICA ST AND WASHINGTON AVE,\n",
       "    7 │              7  2016-02-14  02:40:00  1301 FREDERICA ST, OWENSBORO, KY\n",
       "    8 │              8  2016-02-09  16:59:00  1300 MCFARLAND AVE, OWENSBORO, K\n",
       "  ⋮   │       ⋮             ⋮          ⋮                      ⋮                ⋱\n",
       " 6915 │           6915  2017-08-30  10:50:00  3000 BLOCK BURLEW BLVD, OWENSBOR ⋯\n",
       " 6916 │           6916  2017-08-30  10:58:00  3000 BLOCK BURLEW BLVD, PHILPOT,\n",
       " 6917 │           6917  2017-08-30  11:12:00  3000 BLOCK BURLEW BLVD, OWENSBOR\n",
       " 6918 │           6918  2017-08-30  11:23:00  3000 BLOCK BURLEW BLVD, OWENSBOR\n",
       " 6919 │           6919  2017-08-30  11:44:00  3000 BLOCK BURLEW BLVD, OWENSBOR ⋯\n",
       " 6920 │           6920  2017-08-30  12:06:00  3000 BLOCK BURLEW BLVD, OWENSBOR\n",
       " 6921 │           6921  2017-03-01  17:28:00\n",
       "\u001b[36m                                                15 columns and 6906 rows omitted\u001b[0m"
      ]
     },
     "metadata": {},
     "output_type": "display_data"
    }
   ],
   "source": [
    "df = DataFrame(CSV.File(\"ky_owensboro_2020_04_01.csv\", missingstring=\"NA\"))"
   ]
  },
  {
   "cell_type": "code",
   "execution_count": 131,
   "metadata": {},
   "outputs": [
    {
     "data": {
      "text/html": [
       "<div><div style = \"float: left;\"><span>6921×18 DataFrame</span></div><div style = \"float: right;\"><span style = \"font-style: italic;\">6896 rows omitted</span></div><div style = \"clear: both;\"></div></div><div class = \"data-frame\" style = \"overflow-x: scroll;\"><table class = \"data-frame\" style = \"margin-bottom: 6px;\"><thead><tr class = \"header\"><th class = \"rowNumber\" style = \"font-weight: bold; text-align: right;\">Row</th><th style = \"text-align: left;\">raw_row_number</th><th style = \"text-align: left;\">date</th><th style = \"text-align: left;\">time</th><th style = \"text-align: left;\">location</th><th style = \"text-align: left;\">lat</th><th style = \"text-align: left;\">lng</th><th style = \"text-align: left;\">sector</th><th style = \"text-align: left;\">subject_age</th><th style = \"text-align: left;\">subject_race</th><th style = \"text-align: left;\">subject_sex</th><th style = \"text-align: left;\">officer_id_hash</th><th style = \"text-align: left;\">type</th><th style = \"text-align: left;\">violation</th><th style = \"text-align: left;\">arrest_made</th><th style = \"text-align: left;\">citation_issued</th><th style = \"text-align: left;\">outcome</th><th style = \"text-align: left;\">vehicle_registration_state</th><th style = \"text-align: left;\">raw_race</th></tr><tr class = \"subheader headerLastRow\"><th class = \"rowNumber\" style = \"font-weight: bold; text-align: right;\"></th><th title = \"Int64\" style = \"text-align: left;\">Int64</th><th title = \"Dates.Date\" style = \"text-align: left;\">Date</th><th title = \"Dates.Time\" style = \"text-align: left;\">Time</th><th title = \"String\" style = \"text-align: left;\">String</th><th title = \"Float64\" style = \"text-align: left;\">Float64</th><th title = \"Union{Missing, Float64}\" style = \"text-align: left;\">Float64?</th><th title = \"Union{Missing, String15}\" style = \"text-align: left;\">String15?</th><th title = \"Union{Missing, Int64}\" style = \"text-align: left;\">Int64?</th><th title = \"Union{Missing, String31}\" style = \"text-align: left;\">String31?</th><th title = \"String7\" style = \"text-align: left;\">String7</th><th title = \"String15\" style = \"text-align: left;\">String15</th><th title = \"Union{Missing, String15}\" style = \"text-align: left;\">String15?</th><th title = \"String\" style = \"text-align: left;\">String</th><th title = \"Bool\" style = \"text-align: left;\">Bool</th><th title = \"Bool\" style = \"text-align: left;\">Bool</th><th title = \"String15\" style = \"text-align: left;\">String15</th><th title = \"Union{Missing, String3}\" style = \"text-align: left;\">String3?</th><th title = \"Union{Missing, String31}\" style = \"text-align: left;\">String31?</th></tr></thead><tbody><tr><td class = \"rowNumber\" style = \"font-weight: bold; text-align: right;\">1</td><td style = \"text-align: right;\">1</td><td style = \"text-align: left;\">2016-08-04</td><td style = \"text-align: left;\">13:52:00</td><td style = \"text-align: left;\">1016 HALL ST, OWENSBORO, KY, 42301</td><td style = \"text-align: right;\">37.7673</td><td style = \"text-align: right;\">-87.0977</td><td style = \"text-align: left;\">BRAVO</td><td style = \"text-align: right;\">30</td><td style = \"text-align: left;\">white</td><td style = \"text-align: left;\">male</td><td style = \"text-align: left;\">0b087b613e</td><td style = \"text-align: left;\">pedestrian</td><td style = \"text-align: left;\">POSS CONT SUB 1ST DEG, 1ST OFF (METHAMPHETAMINE); DRUG PARAPHERLIA - BUY/POSSESS</td><td style = \"text-align: right;\">true</td><td style = \"text-align: right;\">true</td><td style = \"text-align: left;\">arrest</td><td style = \"text-align: left;\">KY</td><td style = \"text-align: left;\">WHITE</td></tr><tr><td class = \"rowNumber\" style = \"font-weight: bold; text-align: right;\">2</td><td style = \"text-align: right;\">2</td><td style = \"text-align: left;\">2016-04-03</td><td style = \"text-align: left;\">01:48:00</td><td style = \"text-align: left;\">W PARRISH AVE/BYPASS, OWENSBORO, KY, 42301</td><td style = \"text-align: right;\">37.7557</td><td style = \"text-align: right;\">-87.1561</td><td style = \"text-align: left;\">WEST</td><td style = \"text-align: right;\">17</td><td style = \"text-align: left;\">white</td><td style = \"text-align: left;\">male</td><td style = \"text-align: left;\">cccb830893</td><td style = \"text-align: left;\">vehicular</td><td style = \"text-align: left;\">FAILURE TO ILLUMITE HEAD LAMPS; NO OPERATORS-MOPED LICENSE; NO REGISTRATION PLATES</td><td style = \"text-align: right;\">false</td><td style = \"text-align: right;\">true</td><td style = \"text-align: left;\">citation</td><td style = \"text-align: left;\">KY</td><td style = \"text-align: left;\">WHITE</td></tr><tr><td class = \"rowNumber\" style = \"font-weight: bold; text-align: right;\">3</td><td style = \"text-align: right;\">3</td><td style = \"text-align: left;\">2015-09-13</td><td style = \"text-align: left;\">04:57:00</td><td style = \"text-align: left;\">2511 HWY 144 ST, OWENSBORO, KY, 42303</td><td style = \"text-align: right;\">37.7777</td><td style = \"text-align: right;\">-87.0871</td><td style = \"text-align: left;\">BRAVO</td><td style = \"text-align: right;\">33</td><td style = \"text-align: left;\">white</td><td style = \"text-align: left;\">male</td><td style = \"text-align: left;\">5ad1b66604</td><td style = \"text-align: left;\">vehicular</td><td style = \"text-align: left;\">NO TAIL LAMPS; OPER MTR VEHICLE U/INFLUENCE ALC/DRUGS/ETC. .08 - 1ST OFF; POSS CONT SUB 1ST DEG, 1ST OFF (METHAMPHETAMINE); FAILURE OF OWNER TO MAINTAIN REQUIRED INS/SEC, 1ST OFF; VIOLATION UNKNOWN</td><td style = \"text-align: right;\">true</td><td style = \"text-align: right;\">true</td><td style = \"text-align: left;\">arrest</td><td style = \"text-align: left;\">KY</td><td style = \"text-align: left;\">WHITE</td></tr><tr><td class = \"rowNumber\" style = \"font-weight: bold; text-align: right;\">4</td><td style = \"text-align: right;\">4</td><td style = \"text-align: left;\">2016-01-05</td><td style = \"text-align: left;\">13:16:00</td><td style = \"text-align: left;\">CARTER RD &amp; BITTEL RD, OWENSBORO, KY, 42301</td><td style = \"text-align: right;\">37.7514</td><td style = \"text-align: right;\">-87.1468</td><td style = \"text-align: left;\">CHARLIE</td><td style = \"text-align: right;\">52</td><td style = \"text-align: left;\">white</td><td style = \"text-align: left;\">female</td><td style = \"text-align: left;\">78fbcbf614</td><td style = \"text-align: left;\">vehicular</td><td style = \"text-align: left;\">OPER MTR VEH U/INFLU ALC/DRUGS/ETC. .08 (AGG CIRCUM), 2ND; DRIVING DUI SUSPENDED LICENSE - 1ST OFF (AGG CIRCUM)</td><td style = \"text-align: right;\">true</td><td style = \"text-align: right;\">true</td><td style = \"text-align: left;\">arrest</td><td style = \"text-align: left;\">KY</td><td style = \"text-align: left;\">WHITE</td></tr><tr><td class = \"rowNumber\" style = \"font-weight: bold; text-align: right;\">5</td><td style = \"text-align: right;\">5</td><td style = \"text-align: left;\">2016-04-06</td><td style = \"text-align: left;\">02:15:00</td><td style = \"text-align: left;\">FREDERICA ST &amp; FAIRFAX DR, OWENSBORO, KY, 42301</td><td style = \"text-align: right;\">37.734</td><td style = \"text-align: right;\">-87.1202</td><td style = \"text-align: left;\">FOX</td><td style = \"text-align: right;\">33</td><td style = \"text-align: left;\">white</td><td style = \"text-align: left;\">male</td><td style = \"text-align: left;\">78fbcbf614</td><td style = \"text-align: left;\">vehicular</td><td style = \"text-align: left;\">OPERATING ON SUS OR REV OPER LICENSE</td><td style = \"text-align: right;\">false</td><td style = \"text-align: right;\">true</td><td style = \"text-align: left;\">citation</td><td style = \"text-align: left;\">KY</td><td style = \"text-align: left;\">WHITE</td></tr><tr><td class = \"rowNumber\" style = \"font-weight: bold; text-align: right;\">6</td><td style = \"text-align: right;\">6</td><td style = \"text-align: left;\">2015-11-05</td><td style = \"text-align: left;\">23:15:00</td><td style = \"text-align: left;\">FREDERICA ST AND WASHINGTON AVE, OWENSBORO, KY, 42303</td><td style = \"text-align: right;\">37.7513</td><td style = \"text-align: right;\">-87.1116</td><td style = \"text-align: left;\">DELTA</td><td style = \"text-align: right;\">32</td><td style = \"text-align: left;\">white</td><td style = \"text-align: left;\">male</td><td style = \"text-align: left;\">60dc0a01bb</td><td style = \"text-align: left;\">vehicular</td><td style = \"text-align: left;\">FAILURE TO WEAR SEAT BELTS</td><td style = \"text-align: right;\">false</td><td style = \"text-align: right;\">true</td><td style = \"text-align: left;\">citation</td><td style = \"text-align: left;\">KY</td><td style = \"text-align: left;\">WHITE</td></tr><tr><td class = \"rowNumber\" style = \"font-weight: bold; text-align: right;\">7</td><td style = \"text-align: right;\">7</td><td style = \"text-align: left;\">2016-02-14</td><td style = \"text-align: left;\">02:40:00</td><td style = \"text-align: left;\">1301 FREDERICA ST, OWENSBORO, KY, 42301</td><td style = \"text-align: right;\">37.7635</td><td style = \"text-align: right;\">-87.1125</td><td style = \"text-align: left;\">DELTA</td><td style = \"text-align: right;\">28</td><td style = \"text-align: left;\">white</td><td style = \"text-align: left;\">male</td><td style = \"text-align: left;\">60dc0a01bb</td><td style = \"text-align: left;\">vehicular</td><td style = \"text-align: left;\">OPER MTR VEHICLE U/INFLUENCE ALC/DRUGS/ETC. .08 - 1ST OFF</td><td style = \"text-align: right;\">true</td><td style = \"text-align: right;\">true</td><td style = \"text-align: left;\">arrest</td><td style = \"text-align: left;\">KY</td><td style = \"text-align: left;\">WHITE</td></tr><tr><td class = \"rowNumber\" style = \"font-weight: bold; text-align: right;\">8</td><td style = \"text-align: right;\">8</td><td style = \"text-align: left;\">2016-02-09</td><td style = \"text-align: left;\">16:59:00</td><td style = \"text-align: left;\">1300 MCFARLAND AVE, OWENSBORO, KY, 42301</td><td style = \"text-align: right;\">37.759</td><td style = \"text-align: right;\">-87.146</td><td style = \"text-align: left;\">CHARLIE</td><td style = \"text-align: right;\">24</td><td style = \"text-align: left;\">white</td><td style = \"text-align: left;\">male</td><td style = \"text-align: left;\">fbd3670efb</td><td style = \"text-align: left;\">vehicular</td><td style = \"text-align: left;\">DISREGARDING TRAFFIC CONT DEV-TRAFFIC LIGHT; LICENSE TO BE IN POSSESSION</td><td style = \"text-align: right;\">false</td><td style = \"text-align: right;\">true</td><td style = \"text-align: left;\">citation</td><td style = \"text-align: left;\">KY</td><td style = \"text-align: left;\">WHITE</td></tr><tr><td class = \"rowNumber\" style = \"font-weight: bold; text-align: right;\">9</td><td style = \"text-align: right;\">9</td><td style = \"text-align: left;\">2016-04-16</td><td style = \"text-align: left;\">23:14:00</td><td style = \"text-align: left;\">700 CRABTREE AVE, OWENSBORO, KY, 42301</td><td style = \"text-align: right;\">37.7677</td><td style = \"text-align: right;\">-87.1342</td><td style = \"text-align: left;\">ALPHA</td><td style = \"text-align: right;\">23</td><td style = \"text-align: left;\">white</td><td style = \"text-align: left;\">female</td><td style = \"text-align: left;\">fbd3670efb</td><td style = \"text-align: left;\">vehicular</td><td style = \"text-align: left;\">OPER MTR VEH U/INFLU ALC/DRUGS/ETC. .08 (AGG CIRCUM), 2ND; DRIVING ON DUI SUSPENDED LICENSE -1ST OFFENSE; POSS OF OPEN ALC BEVERAGE CONT IN MOTOR VEH PROHIBITED; FAILURE OF OWNER TO MAINTAIN REQUIRED INS/SEC, 1ST OFF; FAILURE TO WEAR SEAT BELTS</td><td style = \"text-align: right;\">true</td><td style = \"text-align: right;\">true</td><td style = \"text-align: left;\">arrest</td><td style = \"text-align: left;\">KY</td><td style = \"text-align: left;\">WHITE</td></tr><tr><td class = \"rowNumber\" style = \"font-weight: bold; text-align: right;\">10</td><td style = \"text-align: right;\">10</td><td style = \"text-align: left;\">2016-06-22</td><td style = \"text-align: left;\">01:20:00</td><td style = \"text-align: left;\">700 CRITTENDEN ST, OLATON, KY, 42361</td><td style = \"text-align: right;\">37.7695</td><td style = \"text-align: right;\">-87.1073</td><td style = \"text-align: left;\">BRAVO</td><td style = \"text-align: right;\">36</td><td style = \"text-align: left;\">white</td><td style = \"text-align: left;\">male</td><td style = \"text-align: left;\">fbd3670efb</td><td style = \"text-align: left;\">vehicular</td><td style = \"text-align: left;\">OPER MTR VEHICLE U/INFLUENCE ALC/DRUGS/ETC. .08 - 1ST OFF; OPERATING VEHICLE WITH EXPIRED OPERATORS LICENSE; DRUG PARAPHERLIA - BUY/POSSESS</td><td style = \"text-align: right;\">true</td><td style = \"text-align: right;\">true</td><td style = \"text-align: left;\">arrest</td><td style = \"text-align: left;\">KY</td><td style = \"text-align: left;\">WHITE</td></tr><tr><td class = \"rowNumber\" style = \"font-weight: bold; text-align: right;\">11</td><td style = \"text-align: right;\">11</td><td style = \"text-align: left;\">2016-06-29</td><td style = \"text-align: left;\">19:24:00</td><td style = \"text-align: left;\">1201 HUTCH LN, OWENSBORO, KY, 42301</td><td style = \"text-align: right;\">37.7622</td><td style = \"text-align: right;\">-87.1407</td><td style = \"text-align: left;\">ALPHA</td><td style = \"text-align: right;\">19</td><td style = \"text-align: left;\">white</td><td style = \"text-align: left;\">male</td><td style = \"text-align: left;\">fbd3670efb</td><td style = \"text-align: left;\">vehicular</td><td style = \"text-align: left;\">OPER MTR VEHICLE U/INFLUENCE ALC/DRUGS/ETC. .08 - 1ST OFF; LEAVING SCENE OF ACCIDENT-FAILURE TO RENDER AID OR ASSISTANCE; NO OPERATORS-MOPED LICENSE</td><td style = \"text-align: right;\">true</td><td style = \"text-align: right;\">true</td><td style = \"text-align: left;\">arrest</td><td style = \"text-align: left;\">KY</td><td style = \"text-align: left;\">WHITE</td></tr><tr><td class = \"rowNumber\" style = \"font-weight: bold; text-align: right;\">12</td><td style = \"text-align: right;\">12</td><td style = \"text-align: left;\">2015-11-21</td><td style = \"text-align: left;\">15:58:00</td><td style = \"text-align: left;\">900 BOOTH AVE, OWENSBORO, KY, 42301</td><td style = \"text-align: right;\">37.751</td><td style = \"text-align: right;\">-87.1195</td><td style = \"text-align: left;\">CHARLIE</td><td style = \"text-align: right;\">27</td><td style = \"text-align: left;\">black</td><td style = \"text-align: left;\">male</td><td style = \"text-align: left;\">d8167f8260</td><td style = \"text-align: left;\">vehicular</td><td style = \"text-align: left;\">NO REGISTRATION PLATES; FAILURE TO PRODUCE INSURANCE CARD; NO OPERATORS-MOPED LICENSE</td><td style = \"text-align: right;\">false</td><td style = \"text-align: right;\">true</td><td style = \"text-align: left;\">citation</td><td style = \"text-align: left;\">KY</td><td style = \"text-align: left;\">BLACK</td></tr><tr><td class = \"rowNumber\" style = \"font-weight: bold; text-align: right;\">13</td><td style = \"text-align: right;\">13</td><td style = \"text-align: left;\">2015-10-25</td><td style = \"text-align: left;\">04:20:00</td><td style = \"text-align: left;\">E BYERS AVE / FRIENDSHIP DRIVE, OWENSBORO, KY, 42303</td><td style = \"text-align: right;\">37.7566</td><td style = \"text-align: right;\">-87.0772</td><td style = \"text-align: left;\">DELTA</td><td style = \"text-align: right;\">30</td><td style = \"text-align: left;\">white</td><td style = \"text-align: left;\">male</td><td style = \"text-align: left;\">222e142740</td><td style = \"text-align: left;\">vehicular</td><td style = \"text-align: left;\">OPER MTR VEHICLE U/INFLUENCE ALC/DRUGS/ETC. .08 - 1ST OFF</td><td style = \"text-align: right;\">true</td><td style = \"text-align: right;\">true</td><td style = \"text-align: left;\">arrest</td><td style = \"text-align: left;\">KY</td><td style = \"text-align: left;\">WHITE</td></tr><tr><td style = \"text-align: right;\">&vellip;</td><td style = \"text-align: right;\">&vellip;</td><td style = \"text-align: right;\">&vellip;</td><td style = \"text-align: right;\">&vellip;</td><td style = \"text-align: right;\">&vellip;</td><td style = \"text-align: right;\">&vellip;</td><td style = \"text-align: right;\">&vellip;</td><td style = \"text-align: right;\">&vellip;</td><td style = \"text-align: right;\">&vellip;</td><td style = \"text-align: right;\">&vellip;</td><td style = \"text-align: right;\">&vellip;</td><td style = \"text-align: right;\">&vellip;</td><td style = \"text-align: right;\">&vellip;</td><td style = \"text-align: right;\">&vellip;</td><td style = \"text-align: right;\">&vellip;</td><td style = \"text-align: right;\">&vellip;</td><td style = \"text-align: right;\">&vellip;</td><td style = \"text-align: right;\">&vellip;</td><td style = \"text-align: right;\">&vellip;</td></tr><tr><td class = \"rowNumber\" style = \"font-weight: bold; text-align: right;\">6910</td><td style = \"text-align: right;\">6910</td><td style = \"text-align: left;\">2017-08-24</td><td style = \"text-align: left;\">23:51:00</td><td style = \"text-align: left;\">MCFARLAND AVE AND CARTER RD, OWENSBORO, KY, 42301</td><td style = \"text-align: right;\">37.7593</td><td style = \"text-align: right;\">-87.1462</td><td style = \"text-align: left;\">ALPHA</td><td style = \"text-align: right;\">65</td><td style = \"text-align: left;\">black</td><td style = \"text-align: left;\">male</td><td style = \"text-align: left;\">decf9509bb</td><td style = \"text-align: left;\">vehicular</td><td style = \"text-align: left;\">NO REGISTRATION PLATES; FAILURE TO PRODUCE INSURANCE CARD</td><td style = \"text-align: right;\">false</td><td style = \"text-align: right;\">true</td><td style = \"text-align: left;\">citation</td><td style = \"text-align: left;\">KY</td><td style = \"text-align: left;\">BLACK</td></tr><tr><td class = \"rowNumber\" style = \"font-weight: bold; text-align: right;\">6911</td><td style = \"text-align: right;\">6911</td><td style = \"text-align: left;\">2017-08-25</td><td style = \"text-align: left;\">00:00:00</td><td style = \"text-align: left;\">W 1ST ST / RIVER RD, OWENSBORO, KY, 42301</td><td style = \"text-align: right;\">37.7745</td><td style = \"text-align: right;\">-87.1368</td><td style = \"text-align: left;\">ALPHA</td><td style = \"text-align: right;\">16</td><td style = \"text-align: left;\">white</td><td style = \"text-align: left;\">male</td><td style = \"text-align: left;\">ec464c9b5b</td><td style = \"text-align: left;\">vehicular</td><td style = \"text-align: left;\">FAILURE TO OR IMPROPER SIGL; FAILURE TO PRODUCE INSURANCE CARD; NO OPERATORS-MOPED LICENSE</td><td style = \"text-align: right;\">false</td><td style = \"text-align: right;\">true</td><td style = \"text-align: left;\">citation</td><td style = \"text-align: left;\">KY</td><td style = \"text-align: left;\">WHITE</td></tr><tr><td class = \"rowNumber\" style = \"font-weight: bold; text-align: right;\">6912</td><td style = \"text-align: right;\">6912</td><td style = \"text-align: left;\">2017-08-26</td><td style = \"text-align: left;\">23:37:00</td><td style = \"text-align: left;\">2630 W PARRISH AVE, OWENSBORO, KY, 42301</td><td style = \"text-align: right;\">37.7577</td><td style = \"text-align: right;\">-87.1458</td><td style = \"text-align: left;\">CHARLIE</td><td style = \"text-align: right;\">65</td><td style = \"text-align: left;\">black</td><td style = \"text-align: left;\">male</td><td style = \"text-align: left;\">ec464c9b5b</td><td style = \"text-align: left;\">vehicular</td><td style = \"text-align: left;\">NO TAIL LAMPS; FAILURE TO PRODUCE INSURANCE CARD; NO REGISTRATION PLATES</td><td style = \"text-align: right;\">false</td><td style = \"text-align: right;\">true</td><td style = \"text-align: left;\">citation</td><td style = \"text-align: left;\">KY</td><td style = \"text-align: left;\">BLACK</td></tr><tr><td class = \"rowNumber\" style = \"font-weight: bold; text-align: right;\">6913</td><td style = \"text-align: right;\">6913</td><td style = \"text-align: left;\">2017-08-27</td><td style = \"text-align: left;\">00:39:00</td><td style = \"text-align: left;\">W 12TH ST / MORELAND AVE, OWENSBORO, KY, 42303</td><td style = \"text-align: right;\">37.7641</td><td style = \"text-align: right;\">-87.1222</td><td style = \"text-align: left;\">CHARLIE</td><td style = \"text-align: right;\">44</td><td style = \"text-align: left;\">white</td><td style = \"text-align: left;\">male</td><td style = \"text-align: left;\">ec464c9b5b</td><td style = \"text-align: left;\">vehicular</td><td style = \"text-align: left;\">ONE HEADLIGHT; FAILURE TO PRODUCE INSURANCE CARD; LICENSE TO BE IN POSSESSION; NO REGISTRATION PLATES</td><td style = \"text-align: right;\">false</td><td style = \"text-align: right;\">true</td><td style = \"text-align: left;\">citation</td><td style = \"text-align: left;\">IN</td><td style = \"text-align: left;\">WHITE</td></tr><tr><td class = \"rowNumber\" style = \"font-weight: bold; text-align: right;\">6914</td><td style = \"text-align: right;\">6914</td><td style = \"text-align: left;\">2017-08-27</td><td style = \"text-align: left;\">02:05:00</td><td style = \"text-align: left;\">W 4TH ST / CASTLEN ST, MORGANTOWN, KY, 42261</td><td style = \"text-align: right;\">37.7716</td><td style = \"text-align: right;\">-87.1293</td><td style = \"text-align: left;\">ALPHA</td><td style = \"text-align: right;\">34</td><td style = \"text-align: left;\">white</td><td style = \"text-align: left;\">male</td><td style = \"text-align: left;\">ec464c9b5b</td><td style = \"text-align: left;\">vehicular</td><td style = \"text-align: left;\">ONE HEADLIGHT; NO REGISTRATION RECEIPT; NO OPERATORS-MOPED LICENSE; OPER MTR VEHICLE U/INFLUENCE ALC/DRUGS/ETC. .08 - 1ST OFF</td><td style = \"text-align: right;\">true</td><td style = \"text-align: right;\">true</td><td style = \"text-align: left;\">arrest</td><td style = \"text-align: left;\">KY</td><td style = \"text-align: left;\">WHITE</td></tr><tr><td class = \"rowNumber\" style = \"font-weight: bold; text-align: right;\">6915</td><td style = \"text-align: right;\">6915</td><td style = \"text-align: left;\">2017-08-30</td><td style = \"text-align: left;\">10:50:00</td><td style = \"text-align: left;\">3000 BLOCK BURLEW BLVD, OWENSBORO, KY, 42301</td><td style = \"text-align: right;\">37.7398</td><td style = \"text-align: right;\">-87.0961</td><td style = \"text-align: left;\">FOX</td><td style = \"text-align: right;\">18</td><td style = \"text-align: left;\">white</td><td style = \"text-align: left;\">female</td><td style = \"text-align: left;\">db35a291c6</td><td style = \"text-align: left;\">vehicular</td><td style = \"text-align: left;\">SPEEDING 10 MPH OVER LIMIT</td><td style = \"text-align: right;\">false</td><td style = \"text-align: right;\">true</td><td style = \"text-align: left;\">citation</td><td style = \"text-align: left;\">KY</td><td style = \"text-align: left;\">WHITE</td></tr><tr><td class = \"rowNumber\" style = \"font-weight: bold; text-align: right;\">6916</td><td style = \"text-align: right;\">6916</td><td style = \"text-align: left;\">2017-08-30</td><td style = \"text-align: left;\">10:58:00</td><td style = \"text-align: left;\">3000 BLOCK BURLEW BLVD, PHILPOT, KY, 42366</td><td style = \"text-align: right;\">37.7398</td><td style = \"text-align: right;\">-87.0961</td><td style = \"text-align: left;\">FOX</td><td style = \"text-align: right;\">69</td><td style = \"text-align: left;\">white</td><td style = \"text-align: left;\">male</td><td style = \"text-align: left;\">db35a291c6</td><td style = \"text-align: left;\">vehicular</td><td style = \"text-align: left;\">SPEEDING 08 MPH OVER LIMIT; FAILURE TO OR IMPROPER SIGL</td><td style = \"text-align: right;\">false</td><td style = \"text-align: right;\">true</td><td style = \"text-align: left;\">citation</td><td style = \"text-align: left;\">KY</td><td style = \"text-align: left;\">WHITE</td></tr><tr><td class = \"rowNumber\" style = \"font-weight: bold; text-align: right;\">6917</td><td style = \"text-align: right;\">6917</td><td style = \"text-align: left;\">2017-08-30</td><td style = \"text-align: left;\">11:12:00</td><td style = \"text-align: left;\">3000 BLOCK BURLEW BLVD, OWENSBORO, KY, 42303</td><td style = \"text-align: right;\">37.7398</td><td style = \"text-align: right;\">-87.0961</td><td style = \"text-align: left;\">FOX</td><td style = \"text-align: right;\">21</td><td style = \"text-align: left;\">white</td><td style = \"text-align: left;\">female</td><td style = \"text-align: left;\">db35a291c6</td><td style = \"text-align: left;\">vehicular</td><td style = \"text-align: left;\">SPEEDING 10 MPH OVER LIMIT; FAILURE TO WEAR SEAT BELTS</td><td style = \"text-align: right;\">false</td><td style = \"text-align: right;\">true</td><td style = \"text-align: left;\">citation</td><td style = \"text-align: left;\">KY</td><td style = \"text-align: left;\">WHITE</td></tr><tr><td class = \"rowNumber\" style = \"font-weight: bold; text-align: right;\">6918</td><td style = \"text-align: right;\">6918</td><td style = \"text-align: left;\">2017-08-30</td><td style = \"text-align: left;\">11:23:00</td><td style = \"text-align: left;\">3000 BLOCK BURLEW BLVD, OWENSBORO, KY, 42303</td><td style = \"text-align: right;\">37.7398</td><td style = \"text-align: right;\">-87.0961</td><td style = \"text-align: left;\">FOX</td><td style = \"text-align: right;\">31</td><td style = \"text-align: left;\">white</td><td style = \"text-align: left;\">female</td><td style = \"text-align: left;\">db35a291c6</td><td style = \"text-align: left;\">vehicular</td><td style = \"text-align: left;\">SPEEDING 11 MPH OVER LIMIT; NO REGISTRATION RECEIPT</td><td style = \"text-align: right;\">false</td><td style = \"text-align: right;\">true</td><td style = \"text-align: left;\">citation</td><td style = \"text-align: left;\">KY</td><td style = \"text-align: left;\">WHITE</td></tr><tr><td class = \"rowNumber\" style = \"font-weight: bold; text-align: right;\">6919</td><td style = \"text-align: right;\">6919</td><td style = \"text-align: left;\">2017-08-30</td><td style = \"text-align: left;\">11:44:00</td><td style = \"text-align: left;\">3000 BLOCK BURLEW BLVD, OWENSBORO, KY, 42303</td><td style = \"text-align: right;\">37.7398</td><td style = \"text-align: right;\">-87.0961</td><td style = \"text-align: left;\">FOX</td><td style = \"text-align: right;\">28</td><td style = \"text-align: left;\">white</td><td style = \"text-align: left;\">female</td><td style = \"text-align: left;\">db35a291c6</td><td style = \"text-align: left;\">vehicular</td><td style = \"text-align: left;\">SPEEDING 17 MPH OVER LIMIT; FAILURE TO WEAR SEAT BELTS; LICENSE TO BE IN POSSESSION; FAILURE OF OWNER TO MAINTAIN REQUIRED INS/SEC, 1ST OFF; NO REGISTRATION PLATES; NO REGISTRATION RECEIPT</td><td style = \"text-align: right;\">false</td><td style = \"text-align: right;\">true</td><td style = \"text-align: left;\">citation</td><td style = \"text-align: left;\">KY</td><td style = \"text-align: left;\">WHITE</td></tr><tr><td class = \"rowNumber\" style = \"font-weight: bold; text-align: right;\">6920</td><td style = \"text-align: right;\">6920</td><td style = \"text-align: left;\">2017-08-30</td><td style = \"text-align: left;\">12:06:00</td><td style = \"text-align: left;\">3000 BLOCK BURLEW BLVD, OWENSBORO, KY, 42303</td><td style = \"text-align: right;\">37.7398</td><td style = \"text-align: right;\">-87.0961</td><td style = \"text-align: left;\">FOX</td><td style = \"text-align: right;\">70</td><td style = \"text-align: left;\">white</td><td style = \"text-align: left;\">male</td><td style = \"text-align: left;\">db35a291c6</td><td style = \"text-align: left;\">vehicular</td><td style = \"text-align: left;\">SPEEDING 13 MPH OVER LIMIT</td><td style = \"text-align: right;\">false</td><td style = \"text-align: right;\">true</td><td style = \"text-align: left;\">citation</td><td style = \"text-align: left;\">KY</td><td style = \"text-align: left;\">WHITE</td></tr><tr><td class = \"rowNumber\" style = \"font-weight: bold; text-align: right;\">6921</td><td style = \"text-align: right;\">6921</td><td style = \"text-align: left;\">2017-03-01</td><td style = \"text-align: left;\">17:28:00</td><td style = \"text-align: left;\"></td><td style = \"text-align: right;\">0.0</td><td style = \"text-align: right;\">missing</td><td style = \"text-align: left;\">missing</td><td style = \"text-align: right;\">22</td><td style = \"text-align: left;\">white</td><td style = \"text-align: left;\">male</td><td style = \"text-align: left;\">9555d0ba18</td><td style = \"text-align: left;\">vehicular</td><td style = \"text-align: left;\">FAILURE OF NON-OWNER OPERATOR TO MAINTAIN REQ INS/SEC, 1ST OFF; NO OTHER STATE REGISTRATION RECEIPT</td><td style = \"text-align: right;\">false</td><td style = \"text-align: right;\">true</td><td style = \"text-align: left;\">citation</td><td style = \"text-align: left;\">missing</td><td style = \"text-align: left;\">WHITE</td></tr></tbody></table></div>"
      ],
      "text/latex": [
       "\\begin{tabular}{r|ccccc}\n",
       "\t& raw\\_row\\_number & date & time & location & \\\\\n",
       "\t\\hline\n",
       "\t& Int64 & Date & Time & String & \\\\\n",
       "\t\\hline\n",
       "\t1 & 1 & 2016-08-04 & 13:52:00 & 1016 HALL ST, OWENSBORO, KY, 42301 & $\\dots$ \\\\\n",
       "\t2 & 2 & 2016-04-03 & 01:48:00 & W PARRISH AVE/BYPASS, OWENSBORO, KY, 42301 & $\\dots$ \\\\\n",
       "\t3 & 3 & 2015-09-13 & 04:57:00 & 2511 HWY 144 ST, OWENSBORO, KY, 42303 & $\\dots$ \\\\\n",
       "\t4 & 4 & 2016-01-05 & 13:16:00 & CARTER RD \\& BITTEL RD, OWENSBORO, KY, 42301 & $\\dots$ \\\\\n",
       "\t5 & 5 & 2016-04-06 & 02:15:00 & FREDERICA ST \\& FAIRFAX DR, OWENSBORO, KY, 42301 & $\\dots$ \\\\\n",
       "\t6 & 6 & 2015-11-05 & 23:15:00 & FREDERICA ST AND WASHINGTON AVE, OWENSBORO, KY, 42303 & $\\dots$ \\\\\n",
       "\t7 & 7 & 2016-02-14 & 02:40:00 & 1301 FREDERICA ST, OWENSBORO, KY, 42301 & $\\dots$ \\\\\n",
       "\t8 & 8 & 2016-02-09 & 16:59:00 & 1300 MCFARLAND AVE, OWENSBORO, KY, 42301 & $\\dots$ \\\\\n",
       "\t9 & 9 & 2016-04-16 & 23:14:00 & 700 CRABTREE AVE, OWENSBORO, KY, 42301 & $\\dots$ \\\\\n",
       "\t10 & 10 & 2016-06-22 & 01:20:00 & 700 CRITTENDEN ST, OLATON, KY, 42361 & $\\dots$ \\\\\n",
       "\t11 & 11 & 2016-06-29 & 19:24:00 & 1201 HUTCH LN, OWENSBORO, KY, 42301 & $\\dots$ \\\\\n",
       "\t12 & 12 & 2015-11-21 & 15:58:00 & 900 BOOTH AVE, OWENSBORO, KY, 42301 & $\\dots$ \\\\\n",
       "\t13 & 13 & 2015-10-25 & 04:20:00 & E BYERS AVE / FRIENDSHIP DRIVE, OWENSBORO, KY, 42303 & $\\dots$ \\\\\n",
       "\t14 & 14 & 2015-12-03 & 17:24:00 & 2805 W PARRISH AVE, OWENSBORO, KY, 42301 & $\\dots$ \\\\\n",
       "\t15 & 15 & 2015-12-12 & 12:46:00 & 2245 RAGU DR, OWENSBORO, KY, 42301 & $\\dots$ \\\\\n",
       "\t16 & 16 & 2015-12-15 & 19:24:00 & W 8TH ST \\& MAPLE ST, OWENSBORO, KY, 42301 & $\\dots$ \\\\\n",
       "\t17 & 17 & 2016-01-30 & 16:24:00 & 1670 STARLITE DR, OWENSBORO, KY, 42303 & $\\dots$ \\\\\n",
       "\t18 & 18 & 2016-01-24 & 01:50:00 & 1700 W 4TH ST, OWENSBORO, KY, 42301 & $\\dots$ \\\\\n",
       "\t19 & 19 & 2016-03-21 & 09:05:00 & E 4TH ST  JR MILLER BLV, OWENSBORO, KY, 42301 & $\\dots$ \\\\\n",
       "\t20 & 20 & 2016-05-05 & 12:53:00 & 1800 W 9TH ST, OWENSBORO, KY, 42301 & $\\dots$ \\\\\n",
       "\t21 & 21 & 2015-11-05 & 13:17:00 & W PARRISH AVE/FREDERICA, PHILPOT, KY, 42366 & $\\dots$ \\\\\n",
       "\t22 & 22 & 2016-04-18 & 09:30:00 & 1400 W 9TH ST, OWENSBORO, KY, 42301 & $\\dots$ \\\\\n",
       "\t23 & 23 & 2015-10-22 & 16:36:00 & 510 JED PL, OWENSBORO, KY, 42301 & $\\dots$ \\\\\n",
       "\t24 & 24 & 2016-06-07 & 18:57:00 & J R MILLER BLVD \\& E 9TH STREET, DALLAS, TX, 75211 & $\\dots$ \\\\\n",
       "\t$\\dots$ & $\\dots$ & $\\dots$ & $\\dots$ & $\\dots$ &  \\\\\n",
       "\\end{tabular}\n"
      ],
      "text/plain": [
       "\u001b[1m6921×18 DataFrame\u001b[0m\n",
       "\u001b[1m  Row \u001b[0m│\u001b[1m raw_row_number \u001b[0m\u001b[1m date       \u001b[0m\u001b[1m time     \u001b[0m\u001b[1m location                        \u001b[0m ⋯\n",
       "      │\u001b[90m Int64          \u001b[0m\u001b[90m Date       \u001b[0m\u001b[90m Time     \u001b[0m\u001b[90m String                          \u001b[0m ⋯\n",
       "──────┼─────────────────────────────────────────────────────────────────────────\n",
       "    1 │              1  2016-08-04  13:52:00  1016 HALL ST, OWENSBORO, KY, 423 ⋯\n",
       "    2 │              2  2016-04-03  01:48:00  W PARRISH AVE/BYPASS, OWENSBORO,\n",
       "    3 │              3  2015-09-13  04:57:00  2511 HWY 144 ST, OWENSBORO, KY,\n",
       "    4 │              4  2016-01-05  13:16:00  CARTER RD & BITTEL RD, OWENSBORO\n",
       "    5 │              5  2016-04-06  02:15:00  FREDERICA ST & FAIRFAX DR, OWENS ⋯\n",
       "    6 │              6  2015-11-05  23:15:00  FREDERICA ST AND WASHINGTON AVE,\n",
       "    7 │              7  2016-02-14  02:40:00  1301 FREDERICA ST, OWENSBORO, KY\n",
       "    8 │              8  2016-02-09  16:59:00  1300 MCFARLAND AVE, OWENSBORO, K\n",
       "  ⋮   │       ⋮             ⋮          ⋮                      ⋮                ⋱\n",
       " 6915 │           6915  2017-08-30  10:50:00  3000 BLOCK BURLEW BLVD, OWENSBOR ⋯\n",
       " 6916 │           6916  2017-08-30  10:58:00  3000 BLOCK BURLEW BLVD, PHILPOT,\n",
       " 6917 │           6917  2017-08-30  11:12:00  3000 BLOCK BURLEW BLVD, OWENSBOR\n",
       " 6918 │           6918  2017-08-30  11:23:00  3000 BLOCK BURLEW BLVD, OWENSBOR\n",
       " 6919 │           6919  2017-08-30  11:44:00  3000 BLOCK BURLEW BLVD, OWENSBOR ⋯\n",
       " 6920 │           6920  2017-08-30  12:06:00  3000 BLOCK BURLEW BLVD, OWENSBOR\n",
       " 6921 │           6921  2017-03-01  17:28:00\n",
       "\u001b[36m                                                15 columns and 6906 rows omitted\u001b[0m"
      ]
     },
     "metadata": {},
     "output_type": "display_data"
    }
   ],
   "source": [
    "owensboro = df"
   ]
  },
  {
   "attachments": {},
   "cell_type": "markdown",
   "metadata": {},
   "source": [
    "Now, we will get some information about the dataframe"
   ]
  },
  {
   "cell_type": "code",
   "execution_count": 132,
   "metadata": {},
   "outputs": [
    {
     "data": {
      "text/plain": [
       "\"6921×18 DataFrame\""
      ]
     },
     "metadata": {},
     "output_type": "display_data"
    }
   ],
   "source": [
    "summary(owensboro)"
   ]
  },
  {
   "cell_type": "code",
   "execution_count": 133,
   "metadata": {},
   "outputs": [
    {
     "data": {
      "text/html": [
       "<div><div style = \"float: left;\"><span>18×4 DataFrame</span></div><div style = \"clear: both;\"></div></div><div class = \"data-frame\" style = \"overflow-x: scroll;\"><table class = \"data-frame\" style = \"margin-bottom: 6px;\"><thead><tr class = \"header\"><th class = \"rowNumber\" style = \"font-weight: bold; text-align: right;\">Row</th><th style = \"text-align: left;\">variable</th><th style = \"text-align: left;\">nunique</th><th style = \"text-align: left;\">nmissing</th><th style = \"text-align: left;\">eltype</th></tr><tr class = \"subheader headerLastRow\"><th class = \"rowNumber\" style = \"font-weight: bold; text-align: right;\"></th><th title = \"Symbol\" style = \"text-align: left;\">Symbol</th><th title = \"Union{Nothing, Int64}\" style = \"text-align: left;\">Union…</th><th title = \"Int64\" style = \"text-align: left;\">Int64</th><th title = \"Type\" style = \"text-align: left;\">Type</th></tr></thead><tbody><tr><td class = \"rowNumber\" style = \"font-weight: bold; text-align: right;\">1</td><td style = \"text-align: left;\">raw_row_number</td><td style = \"font-style: italic; text-align: left;\"></td><td style = \"text-align: right;\">0</td><td style = \"text-align: left;\">Int64</td></tr><tr><td class = \"rowNumber\" style = \"font-weight: bold; text-align: right;\">2</td><td style = \"text-align: left;\">date</td><td style = \"text-align: left;\">726</td><td style = \"text-align: right;\">0</td><td style = \"text-align: left;\">Date</td></tr><tr><td class = \"rowNumber\" style = \"font-weight: bold; text-align: right;\">3</td><td style = \"text-align: left;\">time</td><td style = \"text-align: left;\">1352</td><td style = \"text-align: right;\">0</td><td style = \"text-align: left;\">Time</td></tr><tr><td class = \"rowNumber\" style = \"font-weight: bold; text-align: right;\">4</td><td style = \"text-align: left;\">location</td><td style = \"text-align: left;\">4481</td><td style = \"text-align: right;\">0</td><td style = \"text-align: left;\">String</td></tr><tr><td class = \"rowNumber\" style = \"font-weight: bold; text-align: right;\">5</td><td style = \"text-align: left;\">lat</td><td style = \"font-style: italic; text-align: left;\"></td><td style = \"text-align: right;\">0</td><td style = \"text-align: left;\">Float64</td></tr><tr><td class = \"rowNumber\" style = \"font-weight: bold; text-align: right;\">6</td><td style = \"text-align: left;\">lng</td><td style = \"font-style: italic; text-align: left;\"></td><td style = \"text-align: right;\">9</td><td style = \"text-align: left;\">Union{Missing, Float64}</td></tr><tr><td class = \"rowNumber\" style = \"font-weight: bold; text-align: right;\">7</td><td style = \"text-align: left;\">sector</td><td style = \"text-align: left;\">10</td><td style = \"text-align: right;\">10</td><td style = \"text-align: left;\">Union{Missing, String15}</td></tr><tr><td class = \"rowNumber\" style = \"font-weight: bold; text-align: right;\">8</td><td style = \"text-align: left;\">subject_age</td><td style = \"font-style: italic; text-align: left;\"></td><td style = \"text-align: right;\">3</td><td style = \"text-align: left;\">Union{Missing, Int64}</td></tr><tr><td class = \"rowNumber\" style = \"font-weight: bold; text-align: right;\">9</td><td style = \"text-align: left;\">subject_race</td><td style = \"text-align: left;\">4</td><td style = \"text-align: right;\">18</td><td style = \"text-align: left;\">Union{Missing, String31}</td></tr><tr><td class = \"rowNumber\" style = \"font-weight: bold; text-align: right;\">10</td><td style = \"text-align: left;\">subject_sex</td><td style = \"text-align: left;\">2</td><td style = \"text-align: right;\">0</td><td style = \"text-align: left;\">String7</td></tr><tr><td class = \"rowNumber\" style = \"font-weight: bold; text-align: right;\">11</td><td style = \"text-align: left;\">officer_id_hash</td><td style = \"text-align: left;\">87</td><td style = \"text-align: right;\">0</td><td style = \"text-align: left;\">String15</td></tr><tr><td class = \"rowNumber\" style = \"font-weight: bold; text-align: right;\">12</td><td style = \"text-align: left;\">type</td><td style = \"text-align: left;\">2</td><td style = \"text-align: right;\">42</td><td style = \"text-align: left;\">Union{Missing, String15}</td></tr><tr><td class = \"rowNumber\" style = \"font-weight: bold; text-align: right;\">13</td><td style = \"text-align: left;\">violation</td><td style = \"text-align: left;\">1979</td><td style = \"text-align: right;\">0</td><td style = \"text-align: left;\">String</td></tr><tr><td class = \"rowNumber\" style = \"font-weight: bold; text-align: right;\">14</td><td style = \"text-align: left;\">arrest_made</td><td style = \"font-style: italic; text-align: left;\"></td><td style = \"text-align: right;\">0</td><td style = \"text-align: left;\">Bool</td></tr><tr><td class = \"rowNumber\" style = \"font-weight: bold; text-align: right;\">15</td><td style = \"text-align: left;\">citation_issued</td><td style = \"font-style: italic; text-align: left;\"></td><td style = \"text-align: right;\">0</td><td style = \"text-align: left;\">Bool</td></tr><tr><td class = \"rowNumber\" style = \"font-weight: bold; text-align: right;\">16</td><td style = \"text-align: left;\">outcome</td><td style = \"text-align: left;\">2</td><td style = \"text-align: right;\">0</td><td style = \"text-align: left;\">String15</td></tr><tr><td class = \"rowNumber\" style = \"font-weight: bold; text-align: right;\">17</td><td style = \"text-align: left;\">vehicle_registration_state</td><td style = \"text-align: left;\">35</td><td style = \"text-align: right;\">55</td><td style = \"text-align: left;\">Union{Missing, String3}</td></tr><tr><td class = \"rowNumber\" style = \"font-weight: bold; text-align: right;\">18</td><td style = \"text-align: left;\">raw_race</td><td style = \"text-align: left;\">4</td><td style = \"text-align: right;\">18</td><td style = \"text-align: left;\">Union{Missing, String31}</td></tr></tbody></table></div>"
      ],
      "text/latex": [
       "\\begin{tabular}{r|cccc}\n",
       "\t& variable & nunique & nmissing & eltype\\\\\n",
       "\t\\hline\n",
       "\t& Symbol & Union… & Int64 & Type\\\\\n",
       "\t\\hline\n",
       "\t1 & raw\\_row\\_number &  & 0 & Int64 \\\\\n",
       "\t2 & date & 726 & 0 & Date \\\\\n",
       "\t3 & time & 1352 & 0 & Time \\\\\n",
       "\t4 & location & 4481 & 0 & String \\\\\n",
       "\t5 & lat &  & 0 & Float64 \\\\\n",
       "\t6 & lng &  & 9 & Union\\{Missing, Float64\\} \\\\\n",
       "\t7 & sector & 10 & 10 & Union\\{Missing, String15\\} \\\\\n",
       "\t8 & subject\\_age &  & 3 & Union\\{Missing, Int64\\} \\\\\n",
       "\t9 & subject\\_race & 4 & 18 & Union\\{Missing, String31\\} \\\\\n",
       "\t10 & subject\\_sex & 2 & 0 & String7 \\\\\n",
       "\t11 & officer\\_id\\_hash & 87 & 0 & String15 \\\\\n",
       "\t12 & type & 2 & 42 & Union\\{Missing, String15\\} \\\\\n",
       "\t13 & violation & 1979 & 0 & String \\\\\n",
       "\t14 & arrest\\_made &  & 0 & Bool \\\\\n",
       "\t15 & citation\\_issued &  & 0 & Bool \\\\\n",
       "\t16 & outcome & 2 & 0 & String15 \\\\\n",
       "\t17 & vehicle\\_registration\\_state & 35 & 55 & Union\\{Missing, String3\\} \\\\\n",
       "\t18 & raw\\_race & 4 & 18 & Union\\{Missing, String31\\} \\\\\n",
       "\\end{tabular}\n"
      ],
      "text/plain": [
       "\u001b[1m18×4 DataFrame\u001b[0m\n",
       "\u001b[1m Row \u001b[0m│\u001b[1m variable                   \u001b[0m\u001b[1m nunique \u001b[0m\u001b[1m nmissing \u001b[0m\u001b[1m eltype                  \u001b[0m ⋯\n",
       "     │\u001b[90m Symbol                     \u001b[0m\u001b[90m Union…  \u001b[0m\u001b[90m Int64    \u001b[0m\u001b[90m Type                    \u001b[0m ⋯\n",
       "─────┼──────────────────────────────────────────────────────────────────────────\n",
       "   1 │ raw_row_number             \u001b[90m         \u001b[0m        0  Int64                    ⋯\n",
       "   2 │ date                        726             0  Date\n",
       "   3 │ time                        1352            0  Time\n",
       "   4 │ location                    4481            0  String\n",
       "   5 │ lat                        \u001b[90m         \u001b[0m        0  Float64                  ⋯\n",
       "   6 │ lng                        \u001b[90m         \u001b[0m        9  Union{Missing, Float64}\n",
       "   7 │ sector                      10             10  Union{Missing, String15}\n",
       "   8 │ subject_age                \u001b[90m         \u001b[0m        3  Union{Missing, Int64}\n",
       "  ⋮  │             ⋮                  ⋮        ⋮                 ⋮             ⋱\n",
       "  12 │ type                        2              42  Union{Missing, String15} ⋯\n",
       "  13 │ violation                   1979            0  String\n",
       "  14 │ arrest_made                \u001b[90m         \u001b[0m        0  Bool\n",
       "  15 │ citation_issued            \u001b[90m         \u001b[0m        0  Bool\n",
       "  16 │ outcome                     2               0  String15                 ⋯\n",
       "  17 │ vehicle_registration_state  35             55  Union{Missing, String3}\n",
       "  18 │ raw_race                    4              18  Union{Missing, String31}\n",
       "\u001b[36m                                                                 3 rows omitted\u001b[0m"
      ]
     },
     "metadata": {},
     "output_type": "display_data"
    }
   ],
   "source": [
    "describe(owensboro, :nunique, :nmissing, :eltype) # Give the number of unique values, the number of missing ones, and the element type"
   ]
  },
  {
   "cell_type": "code",
   "execution_count": 134,
   "metadata": {},
   "outputs": [
    {
     "data": {
      "text/html": [
       "<div><div style = \"float: left;\"><span>6921×4 DataFrame</span></div><div style = \"float: right;\"><span style = \"font-style: italic;\">6896 rows omitted</span></div><div style = \"clear: both;\"></div></div><div class = \"data-frame\" style = \"overflow-x: scroll;\"><table class = \"data-frame\" style = \"margin-bottom: 6px;\"><thead><tr class = \"header\"><th class = \"rowNumber\" style = \"font-weight: bold; text-align: right;\">Row</th><th style = \"text-align: left;\">date</th><th style = \"text-align: left;\">type</th><th style = \"text-align: left;\">arrest_made</th><th style = \"text-align: left;\">violation</th></tr><tr class = \"subheader headerLastRow\"><th class = \"rowNumber\" style = \"font-weight: bold; text-align: right;\"></th><th title = \"Dates.Date\" style = \"text-align: left;\">Date</th><th title = \"Union{Missing, String15}\" style = \"text-align: left;\">String15?</th><th title = \"Bool\" style = \"text-align: left;\">Bool</th><th title = \"String\" style = \"text-align: left;\">String</th></tr></thead><tbody><tr><td class = \"rowNumber\" style = \"font-weight: bold; text-align: right;\">1</td><td style = \"text-align: left;\">2016-08-04</td><td style = \"text-align: left;\">pedestrian</td><td style = \"text-align: right;\">true</td><td style = \"text-align: left;\">POSS CONT SUB 1ST DEG, 1ST OFF (METHAMPHETAMINE); DRUG PARAPHERLIA - BUY/POSSESS</td></tr><tr><td class = \"rowNumber\" style = \"font-weight: bold; text-align: right;\">2</td><td style = \"text-align: left;\">2016-04-03</td><td style = \"text-align: left;\">vehicular</td><td style = \"text-align: right;\">false</td><td style = \"text-align: left;\">FAILURE TO ILLUMITE HEAD LAMPS; NO OPERATORS-MOPED LICENSE; NO REGISTRATION PLATES</td></tr><tr><td class = \"rowNumber\" style = \"font-weight: bold; text-align: right;\">3</td><td style = \"text-align: left;\">2015-09-13</td><td style = \"text-align: left;\">vehicular</td><td style = \"text-align: right;\">true</td><td style = \"text-align: left;\">NO TAIL LAMPS; OPER MTR VEHICLE U/INFLUENCE ALC/DRUGS/ETC. .08 - 1ST OFF; POSS CONT SUB 1ST DEG, 1ST OFF (METHAMPHETAMINE); FAILURE OF OWNER TO MAINTAIN REQUIRED INS/SEC, 1ST OFF; VIOLATION UNKNOWN</td></tr><tr><td class = \"rowNumber\" style = \"font-weight: bold; text-align: right;\">4</td><td style = \"text-align: left;\">2016-01-05</td><td style = \"text-align: left;\">vehicular</td><td style = \"text-align: right;\">true</td><td style = \"text-align: left;\">OPER MTR VEH U/INFLU ALC/DRUGS/ETC. .08 (AGG CIRCUM), 2ND; DRIVING DUI SUSPENDED LICENSE - 1ST OFF (AGG CIRCUM)</td></tr><tr><td class = \"rowNumber\" style = \"font-weight: bold; text-align: right;\">5</td><td style = \"text-align: left;\">2016-04-06</td><td style = \"text-align: left;\">vehicular</td><td style = \"text-align: right;\">false</td><td style = \"text-align: left;\">OPERATING ON SUS OR REV OPER LICENSE</td></tr><tr><td class = \"rowNumber\" style = \"font-weight: bold; text-align: right;\">6</td><td style = \"text-align: left;\">2015-11-05</td><td style = \"text-align: left;\">vehicular</td><td style = \"text-align: right;\">false</td><td style = \"text-align: left;\">FAILURE TO WEAR SEAT BELTS</td></tr><tr><td class = \"rowNumber\" style = \"font-weight: bold; text-align: right;\">7</td><td style = \"text-align: left;\">2016-02-14</td><td style = \"text-align: left;\">vehicular</td><td style = \"text-align: right;\">true</td><td style = \"text-align: left;\">OPER MTR VEHICLE U/INFLUENCE ALC/DRUGS/ETC. .08 - 1ST OFF</td></tr><tr><td class = \"rowNumber\" style = \"font-weight: bold; text-align: right;\">8</td><td style = \"text-align: left;\">2016-02-09</td><td style = \"text-align: left;\">vehicular</td><td style = \"text-align: right;\">false</td><td style = \"text-align: left;\">DISREGARDING TRAFFIC CONT DEV-TRAFFIC LIGHT; LICENSE TO BE IN POSSESSION</td></tr><tr><td class = \"rowNumber\" style = \"font-weight: bold; text-align: right;\">9</td><td style = \"text-align: left;\">2016-04-16</td><td style = \"text-align: left;\">vehicular</td><td style = \"text-align: right;\">true</td><td style = \"text-align: left;\">OPER MTR VEH U/INFLU ALC/DRUGS/ETC. .08 (AGG CIRCUM), 2ND; DRIVING ON DUI SUSPENDED LICENSE -1ST OFFENSE; POSS OF OPEN ALC BEVERAGE CONT IN MOTOR VEH PROHIBITED; FAILURE OF OWNER TO MAINTAIN REQUIRED INS/SEC, 1ST OFF; FAILURE TO WEAR SEAT BELTS</td></tr><tr><td class = \"rowNumber\" style = \"font-weight: bold; text-align: right;\">10</td><td style = \"text-align: left;\">2016-06-22</td><td style = \"text-align: left;\">vehicular</td><td style = \"text-align: right;\">true</td><td style = \"text-align: left;\">OPER MTR VEHICLE U/INFLUENCE ALC/DRUGS/ETC. .08 - 1ST OFF; OPERATING VEHICLE WITH EXPIRED OPERATORS LICENSE; DRUG PARAPHERLIA - BUY/POSSESS</td></tr><tr><td class = \"rowNumber\" style = \"font-weight: bold; text-align: right;\">11</td><td style = \"text-align: left;\">2016-06-29</td><td style = \"text-align: left;\">vehicular</td><td style = \"text-align: right;\">true</td><td style = \"text-align: left;\">OPER MTR VEHICLE U/INFLUENCE ALC/DRUGS/ETC. .08 - 1ST OFF; LEAVING SCENE OF ACCIDENT-FAILURE TO RENDER AID OR ASSISTANCE; NO OPERATORS-MOPED LICENSE</td></tr><tr><td class = \"rowNumber\" style = \"font-weight: bold; text-align: right;\">12</td><td style = \"text-align: left;\">2015-11-21</td><td style = \"text-align: left;\">vehicular</td><td style = \"text-align: right;\">false</td><td style = \"text-align: left;\">NO REGISTRATION PLATES; FAILURE TO PRODUCE INSURANCE CARD; NO OPERATORS-MOPED LICENSE</td></tr><tr><td class = \"rowNumber\" style = \"font-weight: bold; text-align: right;\">13</td><td style = \"text-align: left;\">2015-10-25</td><td style = \"text-align: left;\">vehicular</td><td style = \"text-align: right;\">true</td><td style = \"text-align: left;\">OPER MTR VEHICLE U/INFLUENCE ALC/DRUGS/ETC. .08 - 1ST OFF</td></tr><tr><td style = \"text-align: right;\">&vellip;</td><td style = \"text-align: right;\">&vellip;</td><td style = \"text-align: right;\">&vellip;</td><td style = \"text-align: right;\">&vellip;</td><td style = \"text-align: right;\">&vellip;</td></tr><tr><td class = \"rowNumber\" style = \"font-weight: bold; text-align: right;\">6910</td><td style = \"text-align: left;\">2017-08-24</td><td style = \"text-align: left;\">vehicular</td><td style = \"text-align: right;\">false</td><td style = \"text-align: left;\">NO REGISTRATION PLATES; FAILURE TO PRODUCE INSURANCE CARD</td></tr><tr><td class = \"rowNumber\" style = \"font-weight: bold; text-align: right;\">6911</td><td style = \"text-align: left;\">2017-08-25</td><td style = \"text-align: left;\">vehicular</td><td style = \"text-align: right;\">false</td><td style = \"text-align: left;\">FAILURE TO OR IMPROPER SIGL; FAILURE TO PRODUCE INSURANCE CARD; NO OPERATORS-MOPED LICENSE</td></tr><tr><td class = \"rowNumber\" style = \"font-weight: bold; text-align: right;\">6912</td><td style = \"text-align: left;\">2017-08-26</td><td style = \"text-align: left;\">vehicular</td><td style = \"text-align: right;\">false</td><td style = \"text-align: left;\">NO TAIL LAMPS; FAILURE TO PRODUCE INSURANCE CARD; NO REGISTRATION PLATES</td></tr><tr><td class = \"rowNumber\" style = \"font-weight: bold; text-align: right;\">6913</td><td style = \"text-align: left;\">2017-08-27</td><td style = \"text-align: left;\">vehicular</td><td style = \"text-align: right;\">false</td><td style = \"text-align: left;\">ONE HEADLIGHT; FAILURE TO PRODUCE INSURANCE CARD; LICENSE TO BE IN POSSESSION; NO REGISTRATION PLATES</td></tr><tr><td class = \"rowNumber\" style = \"font-weight: bold; text-align: right;\">6914</td><td style = \"text-align: left;\">2017-08-27</td><td style = \"text-align: left;\">vehicular</td><td style = \"text-align: right;\">true</td><td style = \"text-align: left;\">ONE HEADLIGHT; NO REGISTRATION RECEIPT; NO OPERATORS-MOPED LICENSE; OPER MTR VEHICLE U/INFLUENCE ALC/DRUGS/ETC. .08 - 1ST OFF</td></tr><tr><td class = \"rowNumber\" style = \"font-weight: bold; text-align: right;\">6915</td><td style = \"text-align: left;\">2017-08-30</td><td style = \"text-align: left;\">vehicular</td><td style = \"text-align: right;\">false</td><td style = \"text-align: left;\">SPEEDING 10 MPH OVER LIMIT</td></tr><tr><td class = \"rowNumber\" style = \"font-weight: bold; text-align: right;\">6916</td><td style = \"text-align: left;\">2017-08-30</td><td style = \"text-align: left;\">vehicular</td><td style = \"text-align: right;\">false</td><td style = \"text-align: left;\">SPEEDING 08 MPH OVER LIMIT; FAILURE TO OR IMPROPER SIGL</td></tr><tr><td class = \"rowNumber\" style = \"font-weight: bold; text-align: right;\">6917</td><td style = \"text-align: left;\">2017-08-30</td><td style = \"text-align: left;\">vehicular</td><td style = \"text-align: right;\">false</td><td style = \"text-align: left;\">SPEEDING 10 MPH OVER LIMIT; FAILURE TO WEAR SEAT BELTS</td></tr><tr><td class = \"rowNumber\" style = \"font-weight: bold; text-align: right;\">6918</td><td style = \"text-align: left;\">2017-08-30</td><td style = \"text-align: left;\">vehicular</td><td style = \"text-align: right;\">false</td><td style = \"text-align: left;\">SPEEDING 11 MPH OVER LIMIT; NO REGISTRATION RECEIPT</td></tr><tr><td class = \"rowNumber\" style = \"font-weight: bold; text-align: right;\">6919</td><td style = \"text-align: left;\">2017-08-30</td><td style = \"text-align: left;\">vehicular</td><td style = \"text-align: right;\">false</td><td style = \"text-align: left;\">SPEEDING 17 MPH OVER LIMIT; FAILURE TO WEAR SEAT BELTS; LICENSE TO BE IN POSSESSION; FAILURE OF OWNER TO MAINTAIN REQUIRED INS/SEC, 1ST OFF; NO REGISTRATION PLATES; NO REGISTRATION RECEIPT</td></tr><tr><td class = \"rowNumber\" style = \"font-weight: bold; text-align: right;\">6920</td><td style = \"text-align: left;\">2017-08-30</td><td style = \"text-align: left;\">vehicular</td><td style = \"text-align: right;\">false</td><td style = \"text-align: left;\">SPEEDING 13 MPH OVER LIMIT</td></tr><tr><td class = \"rowNumber\" style = \"font-weight: bold; text-align: right;\">6921</td><td style = \"text-align: left;\">2017-03-01</td><td style = \"text-align: left;\">vehicular</td><td style = \"text-align: right;\">false</td><td style = \"text-align: left;\">FAILURE OF NON-OWNER OPERATOR TO MAINTAIN REQ INS/SEC, 1ST OFF; NO OTHER STATE REGISTRATION RECEIPT</td></tr></tbody></table></div>"
      ],
      "text/latex": [
       "\\begin{tabular}{r|cccc}\n",
       "\t& date & type & arrest\\_made & violation\\\\\n",
       "\t\\hline\n",
       "\t& Date & String15? & Bool & String\\\\\n",
       "\t\\hline\n",
       "\t1 & 2016-08-04 & pedestrian & 1 & POSS CONT SUB 1ST DEG, 1ST OFF (METHAMPHETAMINE); DRUG PARAPHERLIA - BUY/POSSESS \\\\\n",
       "\t2 & 2016-04-03 & vehicular & 0 & FAILURE TO ILLUMITE HEAD LAMPS; NO OPERATORS-MOPED LICENSE; NO REGISTRATION PLATES \\\\\n",
       "\t3 & 2015-09-13 & vehicular & 1 & NO TAIL LAMPS; OPER MTR VEHICLE U/INFLUENCE ALC/DRUGS/ETC. .08 - 1ST OFF; POSS CONT SUB 1ST DEG, 1ST OFF (METHAMPHETAMINE); FAILURE OF OWNER TO MAINTAIN REQUIRED INS/SEC, 1ST OFF; VIOLATION UNKNOWN \\\\\n",
       "\t4 & 2016-01-05 & vehicular & 1 & OPER MTR VEH U/INFLU ALC/DRUGS/ETC. .08 (AGG CIRCUM), 2ND; DRIVING DUI SUSPENDED LICENSE - 1ST OFF (AGG CIRCUM) \\\\\n",
       "\t5 & 2016-04-06 & vehicular & 0 & OPERATING ON SUS OR REV OPER LICENSE \\\\\n",
       "\t6 & 2015-11-05 & vehicular & 0 & FAILURE TO WEAR SEAT BELTS \\\\\n",
       "\t7 & 2016-02-14 & vehicular & 1 & OPER MTR VEHICLE U/INFLUENCE ALC/DRUGS/ETC. .08 - 1ST OFF \\\\\n",
       "\t8 & 2016-02-09 & vehicular & 0 & DISREGARDING TRAFFIC CONT DEV-TRAFFIC LIGHT; LICENSE TO BE IN POSSESSION \\\\\n",
       "\t9 & 2016-04-16 & vehicular & 1 & OPER MTR VEH U/INFLU ALC/DRUGS/ETC. .08 (AGG CIRCUM), 2ND; DRIVING ON DUI SUSPENDED LICENSE -1ST OFFENSE; POSS OF OPEN ALC BEVERAGE CONT IN MOTOR VEH PROHIBITED; FAILURE OF OWNER TO MAINTAIN REQUIRED INS/SEC, 1ST OFF; FAILURE TO WEAR SEAT BELTS \\\\\n",
       "\t10 & 2016-06-22 & vehicular & 1 & OPER MTR VEHICLE U/INFLUENCE ALC/DRUGS/ETC. .08 - 1ST OFF; OPERATING VEHICLE WITH EXPIRED OPERATORS LICENSE; DRUG PARAPHERLIA - BUY/POSSESS \\\\\n",
       "\t11 & 2016-06-29 & vehicular & 1 & OPER MTR VEHICLE U/INFLUENCE ALC/DRUGS/ETC. .08 - 1ST OFF; LEAVING SCENE OF ACCIDENT-FAILURE TO RENDER AID OR ASSISTANCE; NO OPERATORS-MOPED LICENSE \\\\\n",
       "\t12 & 2015-11-21 & vehicular & 0 & NO REGISTRATION PLATES; FAILURE TO PRODUCE INSURANCE CARD; NO OPERATORS-MOPED LICENSE \\\\\n",
       "\t13 & 2015-10-25 & vehicular & 1 & OPER MTR VEHICLE U/INFLUENCE ALC/DRUGS/ETC. .08 - 1ST OFF \\\\\n",
       "\t14 & 2015-12-03 & vehicular & 1 & OPER MTR VEHICLE U/INFLUENCE ALC/DRUGS/ETC. .08 - 2ND OFF; OPERATING ON SUS OR REV OPER LICENSE; POSS OF OPEN ALC BEVERAGE CONT IN MOTOR VEH PROHIBITED \\\\\n",
       "\t15 & 2015-12-12 & vehicular & 1 & OPER MTR VEHICLE U/INFLUENCE ALC/DRUGS/ETC. .08 - 2ND OFF; OPERATING ON SUS OR REV OPER LICENSE \\\\\n",
       "\t16 & 2015-12-15 & pedestrian & 1 & POSS CONT SUB 1ST DEG 1ST OFF (COCAINE); DRUG PARAPHERLIA - BUY/POSSESS \\\\\n",
       "\t17 & 2016-01-30 & pedestrian & 1 & TRAFF IN CONT SUB, 1ST DEGREE, 1ST OFF - (> OR = 2 GMS METHAMPHETAMINE); TRAF IN MARIJUA ( LESS THAN 8 OZ.) 1ST OFF \\\\\n",
       "\t18 & 2016-01-24 & vehicular & 1 & OPER MTR VEHICLE U/INFLU ALC/DRUGS/ETC. .08 (AGG CIRCUM) 1ST OFF; OPERATING ON SUS OR REV OPER LICENSE \\\\\n",
       "\t19 & 2016-03-21 & vehicular & 1 & OPER MTR VEHICLE U/INFLUENCE ALC/DRUGS/ETC. .08 - 1ST OFF; OPERATING ON SUS OR REV OPER LICENSE \\\\\n",
       "\t20 & 2016-05-05 & vehicular & 0 & NO REGISTRATION PLATES; OPERATING ON SUS OR REV OPER LICENSE \\\\\n",
       "\t21 & 2015-11-05 & vehicular & 1 & FAILURE TO WEAR SEAT BELTS; DRIVING DUI SUSPENDED LICENSE - 2ND OFFENSE \\\\\n",
       "\t22 & 2016-04-18 & pedestrian & 1 & POSS CONT SUB 1ST DEG 1ST OFF (OPIATES); POSS CONT SUB, 3RD DEGREE - DRUG UNSPECIFIED; FAILURE TO WEAR SEAT BELTS \\\\\n",
       "\t23 & 2015-10-22 & pedestrian & 1 & TRAF IN MARIJUA ( > 5 LBS.) 1ST OFF; DRUG PARAPHERLIA - BUY/POSSESS \\\\\n",
       "\t24 & 2016-06-07 & pedestrian & 1 & TRAFF IN CONT SUB, 1ST DEGREE, 1ST OFF - (< 2 GMS HEROIN); TRAFF IN CONT SUB, 3RD DEGREE, 1ST OFF - (< 20 D.U. DRUG UNSPECIFIED); RECKLESS DRIVING; NO OPERATORS-MOPED LICENSE \\\\\n",
       "\t$\\dots$ & $\\dots$ & $\\dots$ & $\\dots$ & $\\dots$ \\\\\n",
       "\\end{tabular}\n"
      ],
      "text/plain": [
       "\u001b[1m6921×4 DataFrame\u001b[0m\n",
       "\u001b[1m  Row \u001b[0m│\u001b[1m date       \u001b[0m\u001b[1m type       \u001b[0m\u001b[1m arrest_made \u001b[0m\u001b[1m violation                        \u001b[0m ⋯\n",
       "      │\u001b[90m Date       \u001b[0m\u001b[90m String15?  \u001b[0m\u001b[90m Bool        \u001b[0m\u001b[90m String                           \u001b[0m ⋯\n",
       "──────┼─────────────────────────────────────────────────────────────────────────\n",
       "    1 │ 2016-08-04  pedestrian         true  POSS CONT SUB 1ST DEG, 1ST OFF (… ⋯\n",
       "    2 │ 2016-04-03  vehicular         false  FAILURE TO ILLUMITE HEAD LAMPS; …\n",
       "    3 │ 2015-09-13  vehicular          true  NO TAIL LAMPS; OPER MTR VEHICLE …\n",
       "    4 │ 2016-01-05  vehicular          true  OPER MTR VEH U/INFLU ALC/DRUGS/E…\n",
       "    5 │ 2016-04-06  vehicular         false  OPERATING ON SUS OR REV OPER LIC… ⋯\n",
       "    6 │ 2015-11-05  vehicular         false  FAILURE TO WEAR SEAT BELTS\n",
       "    7 │ 2016-02-14  vehicular          true  OPER MTR VEHICLE U/INFLUENCE ALC…\n",
       "    8 │ 2016-02-09  vehicular         false  DISREGARDING TRAFFIC CONT DEV-TR…\n",
       "  ⋮   │     ⋮           ⋮            ⋮                       ⋮                 ⋱\n",
       " 6915 │ 2017-08-30  vehicular         false  SPEEDING 10 MPH OVER LIMIT        ⋯\n",
       " 6916 │ 2017-08-30  vehicular         false  SPEEDING 08 MPH OVER LIMIT; FAIL…\n",
       " 6917 │ 2017-08-30  vehicular         false  SPEEDING 10 MPH OVER LIMIT; FAIL…\n",
       " 6918 │ 2017-08-30  vehicular         false  SPEEDING 11 MPH OVER LIMIT; NO R…\n",
       " 6919 │ 2017-08-30  vehicular         false  SPEEDING 17 MPH OVER LIMIT; FAIL… ⋯\n",
       " 6920 │ 2017-08-30  vehicular         false  SPEEDING 13 MPH OVER LIMIT\n",
       " 6921 │ 2017-03-01  vehicular         false  FAILURE OF NON-OWNER OPERATOR TO…\n",
       "\u001b[36m                                                              6906 rows omitted\u001b[0m"
      ]
     },
     "metadata": {},
     "output_type": "display_data"
    }
   ],
   "source": [
    "df_part = select!(owensboro, :date, :type, :arrest_made, :violation) # We select inplace the columns we will use for downstream analysis"
   ]
  },
  {
   "cell_type": "code",
   "execution_count": 135,
   "metadata": {},
   "outputs": [
    {
     "data": {
      "text/html": [
       "<div><div style = \"float: left;\"><span>6921×4 DataFrame</span></div><div style = \"float: right;\"><span style = \"font-style: italic;\">6896 rows omitted</span></div><div style = \"clear: both;\"></div></div><div class = \"data-frame\" style = \"overflow-x: scroll;\"><table class = \"data-frame\" style = \"margin-bottom: 6px;\"><thead><tr class = \"header\"><th class = \"rowNumber\" style = \"font-weight: bold; text-align: right;\">Row</th><th style = \"text-align: left;\">date</th><th style = \"text-align: left;\">type</th><th style = \"text-align: left;\">arrest_made</th><th style = \"text-align: left;\">violation</th></tr><tr class = \"subheader headerLastRow\"><th class = \"rowNumber\" style = \"font-weight: bold; text-align: right;\"></th><th title = \"Dates.Date\" style = \"text-align: left;\">Date</th><th title = \"Union{Missing, String15}\" style = \"text-align: left;\">String15?</th><th title = \"Bool\" style = \"text-align: left;\">Bool</th><th title = \"String\" style = \"text-align: left;\">String</th></tr></thead><tbody><tr><td class = \"rowNumber\" style = \"font-weight: bold; text-align: right;\">1</td><td style = \"text-align: left;\">2017-09-01</td><td style = \"text-align: left;\">vehicular</td><td style = \"text-align: right;\">false</td><td style = \"text-align: left;\">NO REGISTRATION PLATES</td></tr><tr><td class = \"rowNumber\" style = \"font-weight: bold; text-align: right;\">2</td><td style = \"text-align: left;\">2017-09-01</td><td style = \"text-align: left;\">vehicular</td><td style = \"text-align: right;\">false</td><td style = \"text-align: left;\">SPEEDING 15 MPH OVER LIMIT</td></tr><tr><td class = \"rowNumber\" style = \"font-weight: bold; text-align: right;\">3</td><td style = \"text-align: left;\">2017-09-01</td><td style = \"text-align: left;\">vehicular</td><td style = \"text-align: right;\">false</td><td style = \"text-align: left;\">SPEEDING 15 MPH OVER LIMIT</td></tr><tr><td class = \"rowNumber\" style = \"font-weight: bold; text-align: right;\">4</td><td style = \"text-align: left;\">2017-09-01</td><td style = \"text-align: left;\">vehicular</td><td style = \"text-align: right;\">false</td><td style = \"text-align: left;\">DISREGARDING TRAFFIC CONT DEV-TRAFFIC LIGHT; OPERATING ON SUS OR REV OPER LICENSE</td></tr><tr><td class = \"rowNumber\" style = \"font-weight: bold; text-align: right;\">5</td><td style = \"text-align: left;\">2017-09-01</td><td style = \"text-align: left;\">vehicular</td><td style = \"text-align: right;\">false</td><td style = \"text-align: left;\">NO REGISTRATION PLATES; FAILURE TO PRODUCE INSURANCE CARD; OPERATING ON SUS OR REV OPER LICENSE</td></tr><tr><td class = \"rowNumber\" style = \"font-weight: bold; text-align: right;\">6</td><td style = \"text-align: left;\">2017-09-01</td><td style = \"text-align: left;\">vehicular</td><td style = \"text-align: right;\">false</td><td style = \"text-align: left;\">NO REGISTRATION PLATES; FAILURE OF OWNER TO MAINTAIN REQUIRED INS/SEC, 1ST OFF</td></tr><tr><td class = \"rowNumber\" style = \"font-weight: bold; text-align: right;\">7</td><td style = \"text-align: left;\">2017-09-01</td><td style = \"text-align: left;\">vehicular</td><td style = \"text-align: right;\">false</td><td style = \"text-align: left;\">DISREGARDING TRAFFIC CONT DEV-TRAFFIC LIGHT</td></tr><tr><td class = \"rowNumber\" style = \"font-weight: bold; text-align: right;\">8</td><td style = \"text-align: left;\">2017-08-31</td><td style = \"text-align: left;\">vehicular</td><td style = \"text-align: right;\">false</td><td style = \"text-align: left;\">DISREGARDING STOP SIGN</td></tr><tr><td class = \"rowNumber\" style = \"font-weight: bold; text-align: right;\">9</td><td style = \"text-align: left;\">2017-08-30</td><td style = \"text-align: left;\">vehicular</td><td style = \"text-align: right;\">false</td><td style = \"text-align: left;\">SPEEDING 10 MPH OVER LIMIT</td></tr><tr><td class = \"rowNumber\" style = \"font-weight: bold; text-align: right;\">10</td><td style = \"text-align: left;\">2017-08-30</td><td style = \"text-align: left;\">vehicular</td><td style = \"text-align: right;\">false</td><td style = \"text-align: left;\">SPEEDING 08 MPH OVER LIMIT; FAILURE TO OR IMPROPER SIGL</td></tr><tr><td class = \"rowNumber\" style = \"font-weight: bold; text-align: right;\">11</td><td style = \"text-align: left;\">2017-08-30</td><td style = \"text-align: left;\">vehicular</td><td style = \"text-align: right;\">false</td><td style = \"text-align: left;\">SPEEDING 10 MPH OVER LIMIT; FAILURE TO WEAR SEAT BELTS</td></tr><tr><td class = \"rowNumber\" style = \"font-weight: bold; text-align: right;\">12</td><td style = \"text-align: left;\">2017-08-30</td><td style = \"text-align: left;\">vehicular</td><td style = \"text-align: right;\">false</td><td style = \"text-align: left;\">SPEEDING 11 MPH OVER LIMIT; NO REGISTRATION RECEIPT</td></tr><tr><td class = \"rowNumber\" style = \"font-weight: bold; text-align: right;\">13</td><td style = \"text-align: left;\">2017-08-30</td><td style = \"text-align: left;\">vehicular</td><td style = \"text-align: right;\">false</td><td style = \"text-align: left;\">SPEEDING 17 MPH OVER LIMIT; FAILURE TO WEAR SEAT BELTS; LICENSE TO BE IN POSSESSION; FAILURE OF OWNER TO MAINTAIN REQUIRED INS/SEC, 1ST OFF; NO REGISTRATION PLATES; NO REGISTRATION RECEIPT</td></tr><tr><td style = \"text-align: right;\">&vellip;</td><td style = \"text-align: right;\">&vellip;</td><td style = \"text-align: right;\">&vellip;</td><td style = \"text-align: right;\">&vellip;</td><td style = \"text-align: right;\">&vellip;</td></tr><tr><td class = \"rowNumber\" style = \"font-weight: bold; text-align: right;\">6910</td><td style = \"text-align: left;\">2015-09-03</td><td style = \"text-align: left;\">vehicular</td><td style = \"text-align: right;\">false</td><td style = \"text-align: left;\">RECKLESS DRIVING; IMPROPER START FROM PARKED POSITION; DISREGARD-FAIL TO YEILD RIGHT OF WAY</td></tr><tr><td class = \"rowNumber\" style = \"font-weight: bold; text-align: right;\">6911</td><td style = \"text-align: left;\">2015-09-02</td><td style = \"text-align: left;\">vehicular</td><td style = \"text-align: right;\">true</td><td style = \"text-align: left;\">OPER MTR VEH U/INFLU ALC/DRUGS/ETC. .08 (AGG CIRCUM), 2ND; FAILURE OF OWNER TO MAINTAIN REQUIRED INS/SEC, 1ST OFF; POSS OF OPEN ALC BEVERAGE CONT IN MOTOR VEH PROHIBITED</td></tr><tr><td class = \"rowNumber\" style = \"font-weight: bold; text-align: right;\">6912</td><td style = \"text-align: left;\">2015-09-02</td><td style = \"text-align: left;\">vehicular</td><td style = \"text-align: right;\">false</td><td style = \"text-align: left;\">OPERATING ON SUS OR REV OPER LICENSE</td></tr><tr><td class = \"rowNumber\" style = \"font-weight: bold; text-align: right;\">6913</td><td style = \"text-align: left;\">2015-09-02</td><td style = \"text-align: left;\">vehicular</td><td style = \"text-align: right;\">false</td><td style = \"text-align: left;\">FAILURE TO WEAR SEAT BELTS; FAILURE TO PRODUCE INSURANCE CARD; LICENSE TO BE IN POSSESSION</td></tr><tr><td class = \"rowNumber\" style = \"font-weight: bold; text-align: right;\">6914</td><td style = \"text-align: left;\">2015-09-01</td><td style = \"text-align: left;\">vehicular</td><td style = \"text-align: right;\">false</td><td style = \"text-align: left;\">OPERATING ON SUS OR REV OPER LICENSE</td></tr><tr><td class = \"rowNumber\" style = \"font-weight: bold; text-align: right;\">6915</td><td style = \"text-align: left;\">2015-09-01</td><td style = \"text-align: left;\">vehicular</td><td style = \"text-align: right;\">false</td><td style = \"text-align: left;\">ONE HEADLIGHT; FAILURE TO PRODUCE INSURANCE CARD</td></tr><tr><td class = \"rowNumber\" style = \"font-weight: bold; text-align: right;\">6916</td><td style = \"text-align: left;\">2015-09-01</td><td style = \"text-align: left;\">vehicular</td><td style = \"text-align: right;\">true</td><td style = \"text-align: left;\">ONE HEADLIGHT; REAR LICENSE NOT ILLUMITED; FAILURE TO PRODUCE INSURANCE CARD; OPER MTR VEHICLE U/INFLUENCE ALC/DRUGS/ETC. .08 - 1ST OFF; NO OPERATORS-MOPED LICENSE; POSSESSION OF SYNTHETIC DRUGS - CLASS B MISDEMEANOR; DRUG PARAPHERLIA - BUY/POSSESS</td></tr><tr><td class = \"rowNumber\" style = \"font-weight: bold; text-align: right;\">6917</td><td style = \"text-align: left;\">2015-09-01</td><td style = \"text-align: left;\">vehicular</td><td style = \"text-align: right;\">false</td><td style = \"text-align: left;\">SPEEDING 14 MPH OVER LIMIT; FAILURE TO OR IMPROPER SIGL</td></tr><tr><td class = \"rowNumber\" style = \"font-weight: bold; text-align: right;\">6918</td><td style = \"text-align: left;\">2015-09-01</td><td style = \"text-align: left;\">vehicular</td><td style = \"text-align: right;\">false</td><td style = \"text-align: left;\">SPEEDING 15 MPH OVER LIMIT</td></tr><tr><td class = \"rowNumber\" style = \"font-weight: bold; text-align: right;\">6919</td><td style = \"text-align: left;\">2015-09-01</td><td style = \"text-align: left;\">vehicular</td><td style = \"text-align: right;\">false</td><td style = \"text-align: left;\">SPEEDING 19 MPH OVER LIMIT; FAILURE TO OR IMPROPER SIGL; FAILURE TO PRODUCE INSURANCE CARD</td></tr><tr><td class = \"rowNumber\" style = \"font-weight: bold; text-align: right;\">6920</td><td style = \"text-align: left;\">2015-09-01</td><td style = \"text-align: left;\">vehicular</td><td style = \"text-align: right;\">false</td><td style = \"text-align: left;\">DISREGARDING STOP SIGN</td></tr><tr><td class = \"rowNumber\" style = \"font-weight: bold; text-align: right;\">6921</td><td style = \"text-align: left;\">2015-09-01</td><td style = \"text-align: left;\">vehicular</td><td style = \"text-align: right;\">false</td><td style = \"text-align: left;\">POSSESSION OF SYNTHETIC DRUGS - CLASS B MISDEMEANOR; DRUG PARAPHERLIA - BUY/POSSESS</td></tr></tbody></table></div>"
      ],
      "text/latex": [
       "\\begin{tabular}{r|cccc}\n",
       "\t& date & type & arrest\\_made & violation\\\\\n",
       "\t\\hline\n",
       "\t& Date & String15? & Bool & String\\\\\n",
       "\t\\hline\n",
       "\t1 & 2017-09-01 & vehicular & 0 & NO REGISTRATION PLATES \\\\\n",
       "\t2 & 2017-09-01 & vehicular & 0 & SPEEDING 15 MPH OVER LIMIT \\\\\n",
       "\t3 & 2017-09-01 & vehicular & 0 & SPEEDING 15 MPH OVER LIMIT \\\\\n",
       "\t4 & 2017-09-01 & vehicular & 0 & DISREGARDING TRAFFIC CONT DEV-TRAFFIC LIGHT; OPERATING ON SUS OR REV OPER LICENSE \\\\\n",
       "\t5 & 2017-09-01 & vehicular & 0 & NO REGISTRATION PLATES; FAILURE TO PRODUCE INSURANCE CARD; OPERATING ON SUS OR REV OPER LICENSE \\\\\n",
       "\t6 & 2017-09-01 & vehicular & 0 & NO REGISTRATION PLATES; FAILURE OF OWNER TO MAINTAIN REQUIRED INS/SEC, 1ST OFF \\\\\n",
       "\t7 & 2017-09-01 & vehicular & 0 & DISREGARDING TRAFFIC CONT DEV-TRAFFIC LIGHT \\\\\n",
       "\t8 & 2017-08-31 & vehicular & 0 & DISREGARDING STOP SIGN \\\\\n",
       "\t9 & 2017-08-30 & vehicular & 0 & SPEEDING 10 MPH OVER LIMIT \\\\\n",
       "\t10 & 2017-08-30 & vehicular & 0 & SPEEDING 08 MPH OVER LIMIT; FAILURE TO OR IMPROPER SIGL \\\\\n",
       "\t11 & 2017-08-30 & vehicular & 0 & SPEEDING 10 MPH OVER LIMIT; FAILURE TO WEAR SEAT BELTS \\\\\n",
       "\t12 & 2017-08-30 & vehicular & 0 & SPEEDING 11 MPH OVER LIMIT; NO REGISTRATION RECEIPT \\\\\n",
       "\t13 & 2017-08-30 & vehicular & 0 & SPEEDING 17 MPH OVER LIMIT; FAILURE TO WEAR SEAT BELTS; LICENSE TO BE IN POSSESSION; FAILURE OF OWNER TO MAINTAIN REQUIRED INS/SEC, 1ST OFF; NO REGISTRATION PLATES; NO REGISTRATION RECEIPT \\\\\n",
       "\t14 & 2017-08-30 & vehicular & 0 & SPEEDING 13 MPH OVER LIMIT \\\\\n",
       "\t15 & 2017-08-29 & vehicular & 0 & FAILURE OF OWNER TO MAINTAIN REQUIRED INS/SEC, 1ST OFF \\\\\n",
       "\t16 & 2017-08-29 & vehicular & 0 & SPEEDING 12 MPH OVER LIMIT; NO REGISTRATION RECEIPT \\\\\n",
       "\t17 & 2017-08-29 & vehicular & 0 & SPEEDING 10 MPH OVER LIMIT; FAILURE TO OR IMPROPER SIGL \\\\\n",
       "\t18 & 2017-08-29 & vehicular & 0 & SPEEDING 10 MPH OVER LIMIT; FAILURE TO PRODUCE INSURANCE CARD \\\\\n",
       "\t19 & 2017-08-29 & vehicular & 0 & SPEEDING 09 MPH OVER LIMIT \\\\\n",
       "\t20 & 2017-08-29 & vehicular & 0 & SPEEDING 10 MPH OVER LIMIT \\\\\n",
       "\t21 & 2017-08-29 & vehicular & 0 & SPEEDING 08 MPH OVER LIMIT \\\\\n",
       "\t22 & 2017-08-29 & vehicular & 0 & SPEEDING 10 MPH OVER LIMIT \\\\\n",
       "\t23 & 2017-08-29 & vehicular & 0 & SPEEDING 18 MPH OVER LIMIT; FAILURE TO NOTIFY ADRS CHANGE TO DEPT OF TRANS \\\\\n",
       "\t24 & 2017-08-29 & vehicular & 0 & SPEEDING 13 MPH OVER LIMIT \\\\\n",
       "\t$\\dots$ & $\\dots$ & $\\dots$ & $\\dots$ & $\\dots$ \\\\\n",
       "\\end{tabular}\n"
      ],
      "text/plain": [
       "\u001b[1m6921×4 DataFrame\u001b[0m\n",
       "\u001b[1m  Row \u001b[0m│\u001b[1m date       \u001b[0m\u001b[1m type      \u001b[0m\u001b[1m arrest_made \u001b[0m\u001b[1m violation                         \u001b[0m\n",
       "      │\u001b[90m Date       \u001b[0m\u001b[90m String15? \u001b[0m\u001b[90m Bool        \u001b[0m\u001b[90m String                            \u001b[0m\n",
       "──────┼───────────────────────────────────────────────────────────────────────\n",
       "    1 │ 2017-09-01  vehicular        false  NO REGISTRATION PLATES\n",
       "    2 │ 2017-09-01  vehicular        false  SPEEDING 15 MPH OVER LIMIT\n",
       "    3 │ 2017-09-01  vehicular        false  SPEEDING 15 MPH OVER LIMIT\n",
       "    4 │ 2017-09-01  vehicular        false  DISREGARDING TRAFFIC CONT DEV-TR…\n",
       "    5 │ 2017-09-01  vehicular        false  NO REGISTRATION PLATES; FAILURE …\n",
       "    6 │ 2017-09-01  vehicular        false  NO REGISTRATION PLATES; FAILURE …\n",
       "    7 │ 2017-09-01  vehicular        false  DISREGARDING TRAFFIC CONT DEV-TR…\n",
       "    8 │ 2017-08-31  vehicular        false  DISREGARDING STOP SIGN\n",
       "  ⋮   │     ⋮           ⋮           ⋮                       ⋮\n",
       " 6915 │ 2015-09-01  vehicular        false  ONE HEADLIGHT; FAILURE TO PRODUC…\n",
       " 6916 │ 2015-09-01  vehicular         true  ONE HEADLIGHT; REAR LICENSE NOT …\n",
       " 6917 │ 2015-09-01  vehicular        false  SPEEDING 14 MPH OVER LIMIT; FAIL…\n",
       " 6918 │ 2015-09-01  vehicular        false  SPEEDING 15 MPH OVER LIMIT\n",
       " 6919 │ 2015-09-01  vehicular        false  SPEEDING 19 MPH OVER LIMIT; FAIL…\n",
       " 6920 │ 2015-09-01  vehicular        false  DISREGARDING STOP SIGN\n",
       " 6921 │ 2015-09-01  vehicular        false  POSSESSION OF SYNTHETIC DRUGS - …\n",
       "\u001b[36m                                                             6906 rows omitted\u001b[0m"
      ]
     },
     "metadata": {},
     "output_type": "display_data"
    }
   ],
   "source": [
    "sort(df_part, :date, rev=true) # Sort based on the most recent incident"
   ]
  },
  {
   "cell_type": "code",
   "execution_count": 136,
   "metadata": {},
   "outputs": [
    {
     "data": {
      "text/html": [
       "<div><div style = \"float: left;\"><span>6921×4 DataFrame</span></div><div style = \"float: right;\"><span style = \"font-style: italic;\">6896 rows omitted</span></div><div style = \"clear: both;\"></div></div><div class = \"data-frame\" style = \"overflow-x: scroll;\"><table class = \"data-frame\" style = \"margin-bottom: 6px;\"><thead><tr class = \"header\"><th class = \"rowNumber\" style = \"font-weight: bold; text-align: right;\">Row</th><th style = \"text-align: left;\">date</th><th style = \"text-align: left;\">type</th><th style = \"text-align: left;\">arrest_made</th><th style = \"text-align: left;\">violation</th></tr><tr class = \"subheader headerLastRow\"><th class = \"rowNumber\" style = \"font-weight: bold; text-align: right;\"></th><th title = \"Dates.Date\" style = \"text-align: left;\">Date</th><th title = \"Union{Missing, String15}\" style = \"text-align: left;\">String15?</th><th title = \"Bool\" style = \"text-align: left;\">Bool</th><th title = \"String\" style = \"text-align: left;\">String</th></tr></thead><tbody><tr><td class = \"rowNumber\" style = \"font-weight: bold; text-align: right;\">1</td><td style = \"text-align: left;\">2017-09-01</td><td style = \"text-align: left;\">vehicular</td><td style = \"text-align: right;\">false</td><td style = \"text-align: left;\">SPEEDING 15 MPH OVER LIMIT</td></tr><tr><td class = \"rowNumber\" style = \"font-weight: bold; text-align: right;\">2</td><td style = \"text-align: left;\">2017-09-01</td><td style = \"text-align: left;\">vehicular</td><td style = \"text-align: right;\">false</td><td style = \"text-align: left;\">SPEEDING 15 MPH OVER LIMIT</td></tr><tr><td class = \"rowNumber\" style = \"font-weight: bold; text-align: right;\">3</td><td style = \"text-align: left;\">2017-09-01</td><td style = \"text-align: left;\">vehicular</td><td style = \"text-align: right;\">false</td><td style = \"text-align: left;\">NO REGISTRATION PLATES; FAILURE TO PRODUCE INSURANCE CARD; OPERATING ON SUS OR REV OPER LICENSE</td></tr><tr><td class = \"rowNumber\" style = \"font-weight: bold; text-align: right;\">4</td><td style = \"text-align: left;\">2017-09-01</td><td style = \"text-align: left;\">vehicular</td><td style = \"text-align: right;\">false</td><td style = \"text-align: left;\">NO REGISTRATION PLATES; FAILURE OF OWNER TO MAINTAIN REQUIRED INS/SEC, 1ST OFF</td></tr><tr><td class = \"rowNumber\" style = \"font-weight: bold; text-align: right;\">5</td><td style = \"text-align: left;\">2017-09-01</td><td style = \"text-align: left;\">vehicular</td><td style = \"text-align: right;\">false</td><td style = \"text-align: left;\">NO REGISTRATION PLATES</td></tr><tr><td class = \"rowNumber\" style = \"font-weight: bold; text-align: right;\">6</td><td style = \"text-align: left;\">2017-09-01</td><td style = \"text-align: left;\">vehicular</td><td style = \"text-align: right;\">false</td><td style = \"text-align: left;\">DISREGARDING TRAFFIC CONT DEV-TRAFFIC LIGHT; OPERATING ON SUS OR REV OPER LICENSE</td></tr><tr><td class = \"rowNumber\" style = \"font-weight: bold; text-align: right;\">7</td><td style = \"text-align: left;\">2017-09-01</td><td style = \"text-align: left;\">vehicular</td><td style = \"text-align: right;\">false</td><td style = \"text-align: left;\">DISREGARDING TRAFFIC CONT DEV-TRAFFIC LIGHT</td></tr><tr><td class = \"rowNumber\" style = \"font-weight: bold; text-align: right;\">8</td><td style = \"text-align: left;\">2017-08-31</td><td style = \"text-align: left;\">vehicular</td><td style = \"text-align: right;\">false</td><td style = \"text-align: left;\">DISREGARDING STOP SIGN</td></tr><tr><td class = \"rowNumber\" style = \"font-weight: bold; text-align: right;\">9</td><td style = \"text-align: left;\">2017-08-30</td><td style = \"text-align: left;\">vehicular</td><td style = \"text-align: right;\">false</td><td style = \"text-align: left;\">SPEEDING 17 MPH OVER LIMIT; FAILURE TO WEAR SEAT BELTS; LICENSE TO BE IN POSSESSION; FAILURE OF OWNER TO MAINTAIN REQUIRED INS/SEC, 1ST OFF; NO REGISTRATION PLATES; NO REGISTRATION RECEIPT</td></tr><tr><td class = \"rowNumber\" style = \"font-weight: bold; text-align: right;\">10</td><td style = \"text-align: left;\">2017-08-30</td><td style = \"text-align: left;\">vehicular</td><td style = \"text-align: right;\">false</td><td style = \"text-align: left;\">SPEEDING 13 MPH OVER LIMIT</td></tr><tr><td class = \"rowNumber\" style = \"font-weight: bold; text-align: right;\">11</td><td style = \"text-align: left;\">2017-08-30</td><td style = \"text-align: left;\">vehicular</td><td style = \"text-align: right;\">false</td><td style = \"text-align: left;\">SPEEDING 11 MPH OVER LIMIT; NO REGISTRATION RECEIPT</td></tr><tr><td class = \"rowNumber\" style = \"font-weight: bold; text-align: right;\">12</td><td style = \"text-align: left;\">2017-08-30</td><td style = \"text-align: left;\">vehicular</td><td style = \"text-align: right;\">false</td><td style = \"text-align: left;\">SPEEDING 10 MPH OVER LIMIT; FAILURE TO WEAR SEAT BELTS</td></tr><tr><td class = \"rowNumber\" style = \"font-weight: bold; text-align: right;\">13</td><td style = \"text-align: left;\">2017-08-30</td><td style = \"text-align: left;\">vehicular</td><td style = \"text-align: right;\">false</td><td style = \"text-align: left;\">SPEEDING 10 MPH OVER LIMIT</td></tr><tr><td style = \"text-align: right;\">&vellip;</td><td style = \"text-align: right;\">&vellip;</td><td style = \"text-align: right;\">&vellip;</td><td style = \"text-align: right;\">&vellip;</td><td style = \"text-align: right;\">&vellip;</td></tr><tr><td class = \"rowNumber\" style = \"font-weight: bold; text-align: right;\">6910</td><td style = \"text-align: left;\">2015-09-03</td><td style = \"text-align: left;\">vehicular</td><td style = \"text-align: right;\">false</td><td style = \"text-align: left;\">CARELESS DRIVING</td></tr><tr><td class = \"rowNumber\" style = \"font-weight: bold; text-align: right;\">6911</td><td style = \"text-align: left;\">2015-09-02</td><td style = \"text-align: left;\">vehicular</td><td style = \"text-align: right;\">false</td><td style = \"text-align: left;\">OPERATING ON SUS OR REV OPER LICENSE</td></tr><tr><td class = \"rowNumber\" style = \"font-weight: bold; text-align: right;\">6912</td><td style = \"text-align: left;\">2015-09-02</td><td style = \"text-align: left;\">vehicular</td><td style = \"text-align: right;\">true</td><td style = \"text-align: left;\">OPER MTR VEH U/INFLU ALC/DRUGS/ETC. .08 (AGG CIRCUM), 2ND; FAILURE OF OWNER TO MAINTAIN REQUIRED INS/SEC, 1ST OFF; POSS OF OPEN ALC BEVERAGE CONT IN MOTOR VEH PROHIBITED</td></tr><tr><td class = \"rowNumber\" style = \"font-weight: bold; text-align: right;\">6913</td><td style = \"text-align: left;\">2015-09-02</td><td style = \"text-align: left;\">vehicular</td><td style = \"text-align: right;\">false</td><td style = \"text-align: left;\">FAILURE TO WEAR SEAT BELTS; FAILURE TO PRODUCE INSURANCE CARD; LICENSE TO BE IN POSSESSION</td></tr><tr><td class = \"rowNumber\" style = \"font-weight: bold; text-align: right;\">6914</td><td style = \"text-align: left;\">2015-09-01</td><td style = \"text-align: left;\">vehicular</td><td style = \"text-align: right;\">false</td><td style = \"text-align: left;\">SPEEDING 19 MPH OVER LIMIT; FAILURE TO OR IMPROPER SIGL; FAILURE TO PRODUCE INSURANCE CARD</td></tr><tr><td class = \"rowNumber\" style = \"font-weight: bold; text-align: right;\">6915</td><td style = \"text-align: left;\">2015-09-01</td><td style = \"text-align: left;\">vehicular</td><td style = \"text-align: right;\">false</td><td style = \"text-align: left;\">SPEEDING 15 MPH OVER LIMIT</td></tr><tr><td class = \"rowNumber\" style = \"font-weight: bold; text-align: right;\">6916</td><td style = \"text-align: left;\">2015-09-01</td><td style = \"text-align: left;\">vehicular</td><td style = \"text-align: right;\">false</td><td style = \"text-align: left;\">SPEEDING 14 MPH OVER LIMIT; FAILURE TO OR IMPROPER SIGL</td></tr><tr><td class = \"rowNumber\" style = \"font-weight: bold; text-align: right;\">6917</td><td style = \"text-align: left;\">2015-09-01</td><td style = \"text-align: left;\">vehicular</td><td style = \"text-align: right;\">false</td><td style = \"text-align: left;\">POSSESSION OF SYNTHETIC DRUGS - CLASS B MISDEMEANOR; DRUG PARAPHERLIA - BUY/POSSESS</td></tr><tr><td class = \"rowNumber\" style = \"font-weight: bold; text-align: right;\">6918</td><td style = \"text-align: left;\">2015-09-01</td><td style = \"text-align: left;\">vehicular</td><td style = \"text-align: right;\">false</td><td style = \"text-align: left;\">OPERATING ON SUS OR REV OPER LICENSE</td></tr><tr><td class = \"rowNumber\" style = \"font-weight: bold; text-align: right;\">6919</td><td style = \"text-align: left;\">2015-09-01</td><td style = \"text-align: left;\">vehicular</td><td style = \"text-align: right;\">true</td><td style = \"text-align: left;\">ONE HEADLIGHT; REAR LICENSE NOT ILLUMITED; FAILURE TO PRODUCE INSURANCE CARD; OPER MTR VEHICLE U/INFLUENCE ALC/DRUGS/ETC. .08 - 1ST OFF; NO OPERATORS-MOPED LICENSE; POSSESSION OF SYNTHETIC DRUGS - CLASS B MISDEMEANOR; DRUG PARAPHERLIA - BUY/POSSESS</td></tr><tr><td class = \"rowNumber\" style = \"font-weight: bold; text-align: right;\">6920</td><td style = \"text-align: left;\">2015-09-01</td><td style = \"text-align: left;\">vehicular</td><td style = \"text-align: right;\">false</td><td style = \"text-align: left;\">ONE HEADLIGHT; FAILURE TO PRODUCE INSURANCE CARD</td></tr><tr><td class = \"rowNumber\" style = \"font-weight: bold; text-align: right;\">6921</td><td style = \"text-align: left;\">2015-09-01</td><td style = \"text-align: left;\">vehicular</td><td style = \"text-align: right;\">false</td><td style = \"text-align: left;\">DISREGARDING STOP SIGN</td></tr></tbody></table></div>"
      ],
      "text/latex": [
       "\\begin{tabular}{r|cccc}\n",
       "\t& date & type & arrest\\_made & violation\\\\\n",
       "\t\\hline\n",
       "\t& Date & String15? & Bool & String\\\\\n",
       "\t\\hline\n",
       "\t1 & 2017-09-01 & vehicular & 0 & SPEEDING 15 MPH OVER LIMIT \\\\\n",
       "\t2 & 2017-09-01 & vehicular & 0 & SPEEDING 15 MPH OVER LIMIT \\\\\n",
       "\t3 & 2017-09-01 & vehicular & 0 & NO REGISTRATION PLATES; FAILURE TO PRODUCE INSURANCE CARD; OPERATING ON SUS OR REV OPER LICENSE \\\\\n",
       "\t4 & 2017-09-01 & vehicular & 0 & NO REGISTRATION PLATES; FAILURE OF OWNER TO MAINTAIN REQUIRED INS/SEC, 1ST OFF \\\\\n",
       "\t5 & 2017-09-01 & vehicular & 0 & NO REGISTRATION PLATES \\\\\n",
       "\t6 & 2017-09-01 & vehicular & 0 & DISREGARDING TRAFFIC CONT DEV-TRAFFIC LIGHT; OPERATING ON SUS OR REV OPER LICENSE \\\\\n",
       "\t7 & 2017-09-01 & vehicular & 0 & DISREGARDING TRAFFIC CONT DEV-TRAFFIC LIGHT \\\\\n",
       "\t8 & 2017-08-31 & vehicular & 0 & DISREGARDING STOP SIGN \\\\\n",
       "\t9 & 2017-08-30 & vehicular & 0 & SPEEDING 17 MPH OVER LIMIT; FAILURE TO WEAR SEAT BELTS; LICENSE TO BE IN POSSESSION; FAILURE OF OWNER TO MAINTAIN REQUIRED INS/SEC, 1ST OFF; NO REGISTRATION PLATES; NO REGISTRATION RECEIPT \\\\\n",
       "\t10 & 2017-08-30 & vehicular & 0 & SPEEDING 13 MPH OVER LIMIT \\\\\n",
       "\t11 & 2017-08-30 & vehicular & 0 & SPEEDING 11 MPH OVER LIMIT; NO REGISTRATION RECEIPT \\\\\n",
       "\t12 & 2017-08-30 & vehicular & 0 & SPEEDING 10 MPH OVER LIMIT; FAILURE TO WEAR SEAT BELTS \\\\\n",
       "\t13 & 2017-08-30 & vehicular & 0 & SPEEDING 10 MPH OVER LIMIT \\\\\n",
       "\t14 & 2017-08-30 & vehicular & 0 & SPEEDING 08 MPH OVER LIMIT; FAILURE TO OR IMPROPER SIGL \\\\\n",
       "\t15 & 2017-08-29 & vehicular & 0 & SPEEDING 18 MPH OVER LIMIT; FAILURE TO NOTIFY ADRS CHANGE TO DEPT OF TRANS \\\\\n",
       "\t16 & 2017-08-29 & vehicular & 0 & SPEEDING 13 MPH OVER LIMIT \\\\\n",
       "\t17 & 2017-08-29 & vehicular & 0 & SPEEDING 12 MPH OVER LIMIT; NO REGISTRATION RECEIPT \\\\\n",
       "\t18 & 2017-08-29 & vehicular & 0 & SPEEDING 12 MPH OVER LIMIT \\\\\n",
       "\t19 & 2017-08-29 & vehicular & 0 & SPEEDING 10 MPH OVER LIMIT; FAILURE TO WEAR SEAT BELTS \\\\\n",
       "\t20 & 2017-08-29 & vehicular & 0 & SPEEDING 10 MPH OVER LIMIT; FAILURE TO PRODUCE INSURANCE CARD; NO REGISTRATION RECEIPT \\\\\n",
       "\t21 & 2017-08-29 & vehicular & 0 & SPEEDING 10 MPH OVER LIMIT; FAILURE TO PRODUCE INSURANCE CARD \\\\\n",
       "\t22 & 2017-08-29 & vehicular & 0 & SPEEDING 10 MPH OVER LIMIT; FAILURE TO OR IMPROPER SIGL \\\\\n",
       "\t23 & 2017-08-29 & vehicular & 0 & SPEEDING 10 MPH OVER LIMIT \\\\\n",
       "\t24 & 2017-08-29 & vehicular & 0 & SPEEDING 10 MPH OVER LIMIT \\\\\n",
       "\t$\\dots$ & $\\dots$ & $\\dots$ & $\\dots$ & $\\dots$ \\\\\n",
       "\\end{tabular}\n"
      ],
      "text/plain": [
       "\u001b[1m6921×4 DataFrame\u001b[0m\n",
       "\u001b[1m  Row \u001b[0m│\u001b[1m date       \u001b[0m\u001b[1m type      \u001b[0m\u001b[1m arrest_made \u001b[0m\u001b[1m violation                         \u001b[0m\n",
       "      │\u001b[90m Date       \u001b[0m\u001b[90m String15? \u001b[0m\u001b[90m Bool        \u001b[0m\u001b[90m String                            \u001b[0m\n",
       "──────┼───────────────────────────────────────────────────────────────────────\n",
       "    1 │ 2017-09-01  vehicular        false  SPEEDING 15 MPH OVER LIMIT\n",
       "    2 │ 2017-09-01  vehicular        false  SPEEDING 15 MPH OVER LIMIT\n",
       "    3 │ 2017-09-01  vehicular        false  NO REGISTRATION PLATES; FAILURE …\n",
       "    4 │ 2017-09-01  vehicular        false  NO REGISTRATION PLATES; FAILURE …\n",
       "    5 │ 2017-09-01  vehicular        false  NO REGISTRATION PLATES\n",
       "    6 │ 2017-09-01  vehicular        false  DISREGARDING TRAFFIC CONT DEV-TR…\n",
       "    7 │ 2017-09-01  vehicular        false  DISREGARDING TRAFFIC CONT DEV-TR…\n",
       "    8 │ 2017-08-31  vehicular        false  DISREGARDING STOP SIGN\n",
       "  ⋮   │     ⋮           ⋮           ⋮                       ⋮\n",
       " 6915 │ 2015-09-01  vehicular        false  SPEEDING 15 MPH OVER LIMIT\n",
       " 6916 │ 2015-09-01  vehicular        false  SPEEDING 14 MPH OVER LIMIT; FAIL…\n",
       " 6917 │ 2015-09-01  vehicular        false  POSSESSION OF SYNTHETIC DRUGS - …\n",
       " 6918 │ 2015-09-01  vehicular        false  OPERATING ON SUS OR REV OPER LIC…\n",
       " 6919 │ 2015-09-01  vehicular         true  ONE HEADLIGHT; REAR LICENSE NOT …\n",
       " 6920 │ 2015-09-01  vehicular        false  ONE HEADLIGHT; FAILURE TO PRODUC…\n",
       " 6921 │ 2015-09-01  vehicular        false  DISREGARDING STOP SIGN\n",
       "\u001b[36m                                                             6906 rows omitted\u001b[0m"
      ]
     },
     "metadata": {},
     "output_type": "display_data"
    }
   ],
   "source": [
    "sort(df_part, [:date, :violation], rev=true) # Now we sort based on date and violation in reverse order"
   ]
  },
  {
   "cell_type": "code",
   "execution_count": 137,
   "metadata": {},
   "outputs": [
    {
     "data": {
      "text/html": [
       "<div><div style = \"float: left;\"><span>4×1 DataFrame</span></div><div style = \"clear: both;\"></div></div><div class = \"data-frame\" style = \"overflow-x: scroll;\"><table class = \"data-frame\" style = \"margin-bottom: 6px;\"><thead><tr class = \"header\"><th class = \"rowNumber\" style = \"font-weight: bold; text-align: right;\">Row</th><th style = \"text-align: left;\">x</th></tr><tr class = \"subheader headerLastRow\"><th class = \"rowNumber\" style = \"font-weight: bold; text-align: right;\"></th><th title = \"Int64\" style = \"text-align: left;\">Int64</th></tr></thead><tbody><tr><td class = \"rowNumber\" style = \"font-weight: bold; text-align: right;\">1</td><td style = \"text-align: right;\">1</td></tr><tr><td class = \"rowNumber\" style = \"font-weight: bold; text-align: right;\">2</td><td style = \"text-align: right;\">2</td></tr><tr><td class = \"rowNumber\" style = \"font-weight: bold; text-align: right;\">3</td><td style = \"text-align: right;\">3</td></tr><tr><td class = \"rowNumber\" style = \"font-weight: bold; text-align: right;\">4</td><td style = \"text-align: right;\">4</td></tr></tbody></table></div>"
      ],
      "text/latex": [
       "\\begin{tabular}{r|c}\n",
       "\t& x\\\\\n",
       "\t\\hline\n",
       "\t& Int64\\\\\n",
       "\t\\hline\n",
       "\t1 & 1 \\\\\n",
       "\t2 & 2 \\\\\n",
       "\t3 & 3 \\\\\n",
       "\t4 & 4 \\\\\n",
       "\\end{tabular}\n"
      ],
      "text/plain": [
       "\u001b[1m4×1 DataFrame\u001b[0m\n",
       "\u001b[1m Row \u001b[0m│\u001b[1m x     \u001b[0m\n",
       "     │\u001b[90m Int64 \u001b[0m\n",
       "─────┼───────\n",
       "   1 │     1\n",
       "   2 │     2\n",
       "   3 │     3\n",
       "   4 │     4"
      ]
     },
     "metadata": {},
     "output_type": "display_data"
    }
   ],
   "source": [
    "df1 = DataFrame(x = [1,2,3,4])"
   ]
  },
  {
   "cell_type": "code",
   "execution_count": 138,
   "metadata": {},
   "outputs": [
    {
     "name": "stderr",
     "output_type": "stream",
     "text": [
      "\u001b[32m\u001b[1m   Resolving\u001b[22m\u001b[39m package versions...\n"
     ]
    },
    {
     "name": "stderr",
     "output_type": "stream",
     "text": [
      "\u001b[32m\u001b[1m  No Changes\u001b[22m\u001b[39m to `~/anaconda3/envs/julia_env/share/julia/environments/julia_env/Project.toml`\n",
      "\u001b[32m\u001b[1m  No Changes\u001b[22m\u001b[39m to `~/anaconda3/envs/julia_env/share/julia/environments/julia_env/Manifest.toml`\n"
     ]
    }
   ],
   "source": [
    "Pkg.add(\"DataFramesMeta\")"
   ]
  },
  {
   "cell_type": "code",
   "execution_count": 139,
   "metadata": {},
   "outputs": [
    {
     "name": "stderr",
     "output_type": "stream",
     "text": [
      "WARNING: using DataFramesMeta.@orderby in module Main conflicts with an existing identifier.\n",
      "WARNING: using DataFramesMeta.@select in module Main conflicts with an existing identifier.\n"
     ]
    }
   ],
   "source": [
    "using DataFramesMeta"
   ]
  },
  {
   "cell_type": "code",
   "execution_count": 140,
   "metadata": {},
   "outputs": [
    {
     "data": {
      "text/html": [
       "<div><div style = \"float: left;\"><span>4×1 DataFrame</span></div><div style = \"clear: both;\"></div></div><div class = \"data-frame\" style = \"overflow-x: scroll;\"><table class = \"data-frame\" style = \"margin-bottom: 6px;\"><thead><tr class = \"header\"><th class = \"rowNumber\" style = \"font-weight: bold; text-align: right;\">Row</th><th style = \"text-align: left;\">sqrt_x</th></tr><tr class = \"subheader headerLastRow\"><th class = \"rowNumber\" style = \"font-weight: bold; text-align: right;\"></th><th title = \"Float64\" style = \"text-align: left;\">Float64</th></tr></thead><tbody><tr><td class = \"rowNumber\" style = \"font-weight: bold; text-align: right;\">1</td><td style = \"text-align: right;\">1.0</td></tr><tr><td class = \"rowNumber\" style = \"font-weight: bold; text-align: right;\">2</td><td style = \"text-align: right;\">1.41421</td></tr><tr><td class = \"rowNumber\" style = \"font-weight: bold; text-align: right;\">3</td><td style = \"text-align: right;\">1.73205</td></tr><tr><td class = \"rowNumber\" style = \"font-weight: bold; text-align: right;\">4</td><td style = \"text-align: right;\">2.0</td></tr></tbody></table></div>"
      ],
      "text/latex": [
       "\\begin{tabular}{r|c}\n",
       "\t& sqrt\\_x\\\\\n",
       "\t\\hline\n",
       "\t& Float64\\\\\n",
       "\t\\hline\n",
       "\t1 & 1.0 \\\\\n",
       "\t2 & 1.41421 \\\\\n",
       "\t3 & 1.73205 \\\\\n",
       "\t4 & 2.0 \\\\\n",
       "\\end{tabular}\n"
      ],
      "text/plain": [
       "\u001b[1m4×1 DataFrame\u001b[0m\n",
       "\u001b[1m Row \u001b[0m│\u001b[1m sqrt_x  \u001b[0m\n",
       "     │\u001b[90m Float64 \u001b[0m\n",
       "─────┼─────────\n",
       "   1 │ 1.0\n",
       "   2 │ 1.41421\n",
       "   3 │ 1.73205\n",
       "   4 │ 2.0"
      ]
     },
     "metadata": {},
     "output_type": "display_data"
    }
   ],
   "source": [
    "@rselect(df1, :sqrt_x = sqrt(:x))"
   ]
  },
  {
   "cell_type": "code",
   "execution_count": 141,
   "metadata": {},
   "outputs": [
    {
     "data": {
      "text/html": [
       "<div><div style = \"float: left;\"><span>4×1 DataFrame</span></div><div style = \"clear: both;\"></div></div><div class = \"data-frame\" style = \"overflow-x: scroll;\"><table class = \"data-frame\" style = \"margin-bottom: 6px;\"><thead><tr class = \"header\"><th class = \"rowNumber\" style = \"font-weight: bold; text-align: right;\">Row</th><th style = \"text-align: left;\">sqrt_x</th></tr><tr class = \"subheader headerLastRow\"><th class = \"rowNumber\" style = \"font-weight: bold; text-align: right;\"></th><th title = \"Float64\" style = \"text-align: left;\">Float64</th></tr></thead><tbody><tr><td class = \"rowNumber\" style = \"font-weight: bold; text-align: right;\">1</td><td style = \"text-align: right;\">1.0</td></tr><tr><td class = \"rowNumber\" style = \"font-weight: bold; text-align: right;\">2</td><td style = \"text-align: right;\">1.41421</td></tr><tr><td class = \"rowNumber\" style = \"font-weight: bold; text-align: right;\">3</td><td style = \"text-align: right;\">1.73205</td></tr><tr><td class = \"rowNumber\" style = \"font-weight: bold; text-align: right;\">4</td><td style = \"text-align: right;\">2.0</td></tr></tbody></table></div>"
      ],
      "text/latex": [
       "\\begin{tabular}{r|c}\n",
       "\t& sqrt\\_x\\\\\n",
       "\t\\hline\n",
       "\t& Float64\\\\\n",
       "\t\\hline\n",
       "\t1 & 1.0 \\\\\n",
       "\t2 & 1.41421 \\\\\n",
       "\t3 & 1.73205 \\\\\n",
       "\t4 & 2.0 \\\\\n",
       "\\end{tabular}\n"
      ],
      "text/plain": [
       "\u001b[1m4×1 DataFrame\u001b[0m\n",
       "\u001b[1m Row \u001b[0m│\u001b[1m sqrt_x  \u001b[0m\n",
       "     │\u001b[90m Float64 \u001b[0m\n",
       "─────┼─────────\n",
       "   1 │ 1.0\n",
       "   2 │ 1.41421\n",
       "   3 │ 1.73205\n",
       "   4 │ 2.0"
      ]
     },
     "metadata": {},
     "output_type": "display_data"
    }
   ],
   "source": [
    "select(df1, :x => ByRow(sqrt) => :sqrt_x)"
   ]
  },
  {
   "cell_type": "code",
   "execution_count": 142,
   "metadata": {},
   "outputs": [
    {
     "data": {
      "text/html": [
       "<div><div style = \"float: left;\"><span>4×2 DataFrame</span></div><div style = \"clear: both;\"></div></div><div class = \"data-frame\" style = \"overflow-x: scroll;\"><table class = \"data-frame\" style = \"margin-bottom: 6px;\"><thead><tr class = \"header\"><th class = \"rowNumber\" style = \"font-weight: bold; text-align: right;\">Row</th><th style = \"text-align: left;\">x</th><th style = \"text-align: left;\">sqrt_x</th></tr><tr class = \"subheader headerLastRow\"><th class = \"rowNumber\" style = \"font-weight: bold; text-align: right;\"></th><th title = \"Int64\" style = \"text-align: left;\">Int64</th><th title = \"Float64\" style = \"text-align: left;\">Float64</th></tr></thead><tbody><tr><td class = \"rowNumber\" style = \"font-weight: bold; text-align: right;\">1</td><td style = \"text-align: right;\">1</td><td style = \"text-align: right;\">1.0</td></tr><tr><td class = \"rowNumber\" style = \"font-weight: bold; text-align: right;\">2</td><td style = \"text-align: right;\">2</td><td style = \"text-align: right;\">1.41421</td></tr><tr><td class = \"rowNumber\" style = \"font-weight: bold; text-align: right;\">3</td><td style = \"text-align: right;\">3</td><td style = \"text-align: right;\">1.73205</td></tr><tr><td class = \"rowNumber\" style = \"font-weight: bold; text-align: right;\">4</td><td style = \"text-align: right;\">4</td><td style = \"text-align: right;\">2.0</td></tr></tbody></table></div>"
      ],
      "text/latex": [
       "\\begin{tabular}{r|cc}\n",
       "\t& x & sqrt\\_x\\\\\n",
       "\t\\hline\n",
       "\t& Int64 & Float64\\\\\n",
       "\t\\hline\n",
       "\t1 & 1 & 1.0 \\\\\n",
       "\t2 & 2 & 1.41421 \\\\\n",
       "\t3 & 3 & 1.73205 \\\\\n",
       "\t4 & 4 & 2.0 \\\\\n",
       "\\end{tabular}\n"
      ],
      "text/plain": [
       "\u001b[1m4×2 DataFrame\u001b[0m\n",
       "\u001b[1m Row \u001b[0m│\u001b[1m x     \u001b[0m\u001b[1m sqrt_x  \u001b[0m\n",
       "     │\u001b[90m Int64 \u001b[0m\u001b[90m Float64 \u001b[0m\n",
       "─────┼────────────────\n",
       "   1 │     1  1.0\n",
       "   2 │     2  1.41421\n",
       "   3 │     3  1.73205\n",
       "   4 │     4  2.0"
      ]
     },
     "metadata": {},
     "output_type": "display_data"
    }
   ],
   "source": [
    "df1 |> \n",
    "    @mutate(sqrt_x = sqrt(_.x)) |>\n",
    "    DataFrame"
   ]
  },
  {
   "attachments": {},
   "cell_type": "markdown",
   "metadata": {},
   "source": [
    "## Calculating mean, median and std (using the Statistics module)"
   ]
  },
  {
   "attachments": {},
   "cell_type": "markdown",
   "metadata": {},
   "source": [
    "We create the pizza table from \"Julia as second language\" from Manning"
   ]
  },
  {
   "cell_type": "code",
   "execution_count": 143,
   "metadata": {},
   "outputs": [
    {
     "data": {
      "text/plain": [
       "5-element Vector{String}:\n",
       " \"Pepperoni\"\n",
       " \"Margherita\"\n",
       " \"BBQ Chicken\"\n",
       " \"Hawaiian\"\n",
       " \"Prosciutto\""
      ]
     },
     "metadata": {},
     "output_type": "display_data"
    }
   ],
   "source": [
    "pizza = [\"Pepperoni\", \"Margherita\", \"BBQ Chicken\", \"Hawaiian\", \"Prosciutto\"]"
   ]
  },
  {
   "cell_type": "code",
   "execution_count": 144,
   "metadata": {},
   "outputs": [
    {
     "data": {
      "text/plain": [
       "5-element Vector{Int64}:\n",
       " 4\n",
       " 1\n",
       " 5\n",
       " 3\n",
       " 2"
      ]
     },
     "metadata": {},
     "output_type": "display_data"
    }
   ],
   "source": [
    "amounts = [4, 1, 5, 3, 2]"
   ]
  },
  {
   "cell_type": "code",
   "execution_count": 145,
   "metadata": {},
   "outputs": [
    {
     "data": {
      "text/plain": [
       "5-element Vector{Float64}:\n",
       " 15.0\n",
       " 11.5\n",
       " 13.0\n",
       " 12.75\n",
       " 14.25"
      ]
     },
     "metadata": {},
     "output_type": "display_data"
    }
   ],
   "source": [
    "prices = [15.0, 11.5, 13.0, 12.75, 14.25]"
   ]
  },
  {
   "cell_type": "code",
   "execution_count": 146,
   "metadata": {},
   "outputs": [
    {
     "data": {
      "text/html": [
       "<div><div style = \"float: left;\"><span>5×3 DataFrame</span></div><div style = \"clear: both;\"></div></div><div class = \"data-frame\" style = \"overflow-x: scroll;\"><table class = \"data-frame\" style = \"margin-bottom: 6px;\"><thead><tr class = \"header\"><th class = \"rowNumber\" style = \"font-weight: bold; text-align: right;\">Row</th><th style = \"text-align: left;\">Pizza</th><th style = \"text-align: left;\">Amount</th><th style = \"text-align: left;\">Price</th></tr><tr class = \"subheader headerLastRow\"><th class = \"rowNumber\" style = \"font-weight: bold; text-align: right;\"></th><th title = \"String\" style = \"text-align: left;\">String</th><th title = \"Int64\" style = \"text-align: left;\">Int64</th><th title = \"Float64\" style = \"text-align: left;\">Float64</th></tr></thead><tbody><tr><td class = \"rowNumber\" style = \"font-weight: bold; text-align: right;\">1</td><td style = \"text-align: left;\">Pepperoni</td><td style = \"text-align: right;\">4</td><td style = \"text-align: right;\">15.0</td></tr><tr><td class = \"rowNumber\" style = \"font-weight: bold; text-align: right;\">2</td><td style = \"text-align: left;\">Margherita</td><td style = \"text-align: right;\">1</td><td style = \"text-align: right;\">11.5</td></tr><tr><td class = \"rowNumber\" style = \"font-weight: bold; text-align: right;\">3</td><td style = \"text-align: left;\">BBQ Chicken</td><td style = \"text-align: right;\">5</td><td style = \"text-align: right;\">13.0</td></tr><tr><td class = \"rowNumber\" style = \"font-weight: bold; text-align: right;\">4</td><td style = \"text-align: left;\">Hawaiian</td><td style = \"text-align: right;\">3</td><td style = \"text-align: right;\">12.75</td></tr><tr><td class = \"rowNumber\" style = \"font-weight: bold; text-align: right;\">5</td><td style = \"text-align: left;\">Prosciutto</td><td style = \"text-align: right;\">2</td><td style = \"text-align: right;\">14.25</td></tr></tbody></table></div>"
      ],
      "text/latex": [
       "\\begin{tabular}{r|ccc}\n",
       "\t& Pizza & Amount & Price\\\\\n",
       "\t\\hline\n",
       "\t& String & Int64 & Float64\\\\\n",
       "\t\\hline\n",
       "\t1 & Pepperoni & 4 & 15.0 \\\\\n",
       "\t2 & Margherita & 1 & 11.5 \\\\\n",
       "\t3 & BBQ Chicken & 5 & 13.0 \\\\\n",
       "\t4 & Hawaiian & 3 & 12.75 \\\\\n",
       "\t5 & Prosciutto & 2 & 14.25 \\\\\n",
       "\\end{tabular}\n"
      ],
      "text/plain": [
       "\u001b[1m5×3 DataFrame\u001b[0m\n",
       "\u001b[1m Row \u001b[0m│\u001b[1m Pizza       \u001b[0m\u001b[1m Amount \u001b[0m\u001b[1m Price   \u001b[0m\n",
       "     │\u001b[90m String      \u001b[0m\u001b[90m Int64  \u001b[0m\u001b[90m Float64 \u001b[0m\n",
       "─────┼──────────────────────────────\n",
       "   1 │ Pepperoni         4    15.0\n",
       "   2 │ Margherita        1    11.5\n",
       "   3 │ BBQ Chicken       5    13.0\n",
       "   4 │ Hawaiian          3    12.75\n",
       "   5 │ Prosciutto        2    14.25"
      ]
     },
     "metadata": {},
     "output_type": "display_data"
    }
   ],
   "source": [
    "pizza_df = DataFrame(Pizza = pizza, Amount = amounts, Price = prices)"
   ]
  },
  {
   "cell_type": "code",
   "execution_count": 147,
   "metadata": {},
   "outputs": [
    {
     "data": {
      "text/plain": [
       "5-element Vector{Int64}:\n",
       " 4\n",
       " 1\n",
       " 4\n",
       " 3\n",
       " 2"
      ]
     },
     "metadata": {},
     "output_type": "display_data"
    }
   ],
   "source": [
    "column_vector = [4, 1, 4, 3, 2]"
   ]
  },
  {
   "cell_type": "code",
   "execution_count": 148,
   "metadata": {},
   "outputs": [
    {
     "data": {
      "text/plain": [
       "1×5 Matrix{Int64}:\n",
       " 4  1  4  3  2"
      ]
     },
     "metadata": {},
     "output_type": "display_data"
    }
   ],
   "source": [
    "row_vector = [4 1 4 3 2]"
   ]
  },
  {
   "cell_type": "code",
   "execution_count": 155,
   "metadata": {},
   "outputs": [
    {
     "data": {
      "text/plain": [
       "5-element Vector{Int64}:\n",
       " 4\n",
       " 1\n",
       " 5\n",
       " 3\n",
       " 2"
      ]
     },
     "metadata": {},
     "output_type": "display_data"
    }
   ],
   "source": [
    "amounts = [4, 1, 5, 3, 2]"
   ]
  },
  {
   "cell_type": "code",
   "execution_count": 158,
   "metadata": {},
   "outputs": [],
   "source": [
    "# Import the Statistics module\n",
    "import Statistics as stats"
   ]
  },
  {
   "cell_type": "code",
   "execution_count": 163,
   "metadata": {},
   "outputs": [
    {
     "data": {
      "text/plain": [
       "15"
      ]
     },
     "metadata": {},
     "output_type": "display_data"
    }
   ],
   "source": [
    "stats.sum(amounts)"
   ]
  },
  {
   "cell_type": "code",
   "execution_count": 164,
   "metadata": {},
   "outputs": [
    {
     "data": {
      "text/plain": [
       "15"
      ]
     },
     "metadata": {},
     "output_type": "display_data"
    }
   ],
   "source": [
    "no_pizzas_sold = stats.sum(amounts)"
   ]
  },
  {
   "cell_type": "code",
   "execution_count": 165,
   "metadata": {},
   "outputs": [
    {
     "data": {
      "text/plain": [
       "15"
      ]
     },
     "metadata": {},
     "output_type": "display_data"
    }
   ],
   "source": [
    "no_pizzas_sold = stats.sum(pizza_df.Amount)"
   ]
  },
  {
   "cell_type": "code",
   "execution_count": null,
   "metadata": {},
   "outputs": [],
   "source": []
  },
  {
   "cell_type": "code",
   "execution_count": 166,
   "metadata": {},
   "outputs": [
    {
     "data": {
      "text/plain": [
       "3.0"
      ]
     },
     "metadata": {},
     "output_type": "display_data"
    }
   ],
   "source": [
    "avg_pizzas_sold = no_pizzas_sold / length(amounts)"
   ]
  },
  {
   "cell_type": "code",
   "execution_count": 167,
   "metadata": {},
   "outputs": [
    {
     "data": {
      "text/plain": [
       "3.0"
      ]
     },
     "metadata": {},
     "output_type": "display_data"
    }
   ],
   "source": [
    "avg_pizzas_sold = stats.mean(pizza_df.Amount)"
   ]
  },
  {
   "cell_type": "code",
   "execution_count": 169,
   "metadata": {},
   "outputs": [
    {
     "data": {
      "text/plain": [
       "203.25"
      ]
     },
     "metadata": {},
     "output_type": "display_data"
    }
   ],
   "source": [
    "money_made = stats.sum(amounts .* prices)"
   ]
  },
  {
   "cell_type": "code",
   "execution_count": 172,
   "metadata": {},
   "outputs": [],
   "source": [
    "using Statistics # This loads all the functions in the module and makes them available to use"
   ]
  },
  {
   "cell_type": "code",
   "execution_count": 173,
   "metadata": {},
   "outputs": [
    {
     "data": {
      "text/plain": [
       "3.0"
      ]
     },
     "metadata": {},
     "output_type": "display_data"
    }
   ],
   "source": [
    "mean(amounts)"
   ]
  },
  {
   "cell_type": "code",
   "execution_count": 174,
   "metadata": {},
   "outputs": [
    {
     "data": {
      "text/plain": [
       "3.0"
      ]
     },
     "metadata": {},
     "output_type": "display_data"
    }
   ],
   "source": [
    "median(amounts)"
   ]
  },
  {
   "cell_type": "code",
   "execution_count": 175,
   "metadata": {},
   "outputs": [
    {
     "data": {
      "text/plain": [
       "1.5811388300841898"
      ]
     },
     "metadata": {},
     "output_type": "display_data"
    }
   ],
   "source": [
    "std(amounts)"
   ]
  },
  {
   "attachments": {},
   "cell_type": "markdown",
   "metadata": {},
   "source": [
    "How do we find the type of elements?"
   ]
  },
  {
   "cell_type": "code",
   "execution_count": 176,
   "metadata": {},
   "outputs": [
    {
     "data": {
      "text/plain": [
       "Int64"
      ]
     },
     "metadata": {},
     "output_type": "display_data"
    }
   ],
   "source": [
    "eltype(amounts)"
   ]
  },
  {
   "attachments": {},
   "cell_type": "markdown",
   "metadata": {},
   "source": [
    "How do we find the type of the data structure?"
   ]
  },
  {
   "cell_type": "code",
   "execution_count": 177,
   "metadata": {},
   "outputs": [
    {
     "data": {
      "text/plain": [
       "Vector{Int64}\u001b[90m (alias for \u001b[39m\u001b[90mArray{Int64, 1}\u001b[39m\u001b[90m)\u001b[39m"
      ]
     },
     "metadata": {},
     "output_type": "display_data"
    }
   ],
   "source": [
    "typeof(amounts)"
   ]
  },
  {
   "attachments": {},
   "cell_type": "markdown",
   "metadata": {},
   "source": [
    "## Create arrays"
   ]
  },
  {
   "cell_type": "code",
   "execution_count": 200,
   "metadata": {},
   "outputs": [
    {
     "data": {
      "text/plain": [
       "100-element Vector{Float64}:\n",
       " 0.0\n",
       " 0.0\n",
       " 0.0\n",
       " 0.0\n",
       " 0.0\n",
       " 0.0\n",
       " 0.0\n",
       " 0.0\n",
       " 0.0\n",
       " 0.0\n",
       " ⋮\n",
       " 0.0\n",
       " 0.0\n",
       " 0.0\n",
       " 0.0\n",
       " 0.0\n",
       " 0.0\n",
       " 0.0\n",
       " 0.0\n",
       " 0.0"
      ]
     },
     "metadata": {},
     "output_type": "display_data"
    }
   ],
   "source": [
    "zeros_array = zeros(100)"
   ]
  },
  {
   "cell_type": "code",
   "execution_count": 201,
   "metadata": {},
   "outputs": [
    {
     "data": {
      "text/plain": [
       "100-element Vector{Float64}:\n",
       " 1.0\n",
       " 1.0\n",
       " 1.0\n",
       " 1.0\n",
       " 1.0\n",
       " 1.0\n",
       " 1.0\n",
       " 1.0\n",
       " 1.0\n",
       " 1.0\n",
       " ⋮\n",
       " 1.0\n",
       " 1.0\n",
       " 1.0\n",
       " 1.0\n",
       " 1.0\n",
       " 1.0\n",
       " 1.0\n",
       " 1.0\n",
       " 1.0"
      ]
     },
     "metadata": {},
     "output_type": "display_data"
    }
   ],
   "source": [
    "ones_array = ones(100)"
   ]
  },
  {
   "cell_type": "code",
   "execution_count": 202,
   "metadata": {},
   "outputs": [
    {
     "data": {
      "text/plain": [
       "100-element Vector{Int64}:\n",
       " 1\n",
       " 1\n",
       " 1\n",
       " 1\n",
       " 1\n",
       " 1\n",
       " 1\n",
       " 1\n",
       " 1\n",
       " 1\n",
       " ⋮\n",
       " 1\n",
       " 1\n",
       " 1\n",
       " 1\n",
       " 1\n",
       " 1\n",
       " 1\n",
       " 1\n",
       " 1"
      ]
     },
     "metadata": {},
     "output_type": "display_data"
    }
   ],
   "source": [
    "ones_int_array = ones(Int64, 100)"
   ]
  },
  {
   "cell_type": "code",
   "execution_count": 203,
   "metadata": {},
   "outputs": [
    {
     "data": {
      "text/plain": [
       "100-element Vector{Int64}:\n",
       " 42\n",
       " 42\n",
       " 42\n",
       " 42\n",
       " 42\n",
       " 42\n",
       " 42\n",
       " 42\n",
       " 42\n",
       " 42\n",
       "  ⋮\n",
       " 42\n",
       " 42\n",
       " 42\n",
       " 42\n",
       " 42\n",
       " 42\n",
       " 42\n",
       " 42\n",
       " 42"
      ]
     },
     "metadata": {},
     "output_type": "display_data"
    }
   ],
   "source": [
    "fortytwo_array = fill(42, 100)"
   ]
  },
  {
   "cell_type": "code",
   "execution_count": 208,
   "metadata": {},
   "outputs": [
    {
     "data": {
      "text/plain": [
       "100-element Vector{Int64}:\n",
       " 24\n",
       " 82\n",
       " 30\n",
       " 96\n",
       " 27\n",
       " 11\n",
       " 25\n",
       " 28\n",
       " 68\n",
       " 26\n",
       "  ⋮\n",
       " 90\n",
       " 84\n",
       " 44\n",
       " 77\n",
       " 46\n",
       " 70\n",
       " 18\n",
       " 26\n",
       " 14"
      ]
     },
     "metadata": {},
     "output_type": "display_data"
    }
   ],
   "source": [
    "random_array = rand(1:100, 100)"
   ]
  },
  {
   "attachments": {},
   "cell_type": "markdown",
   "metadata": {},
   "source": [
    "## Working with text"
   ]
  },
  {
   "attachments": {},
   "cell_type": "markdown",
   "metadata": {},
   "source": [
    "The `Char` type in Julia"
   ]
  },
  {
   "cell_type": "code",
   "execution_count": 178,
   "metadata": {},
   "outputs": [
    {
     "data": {
      "text/plain": [
       "'A': ASCII/Unicode U+0041 (category Lu: Letter, uppercase)"
      ]
     },
     "metadata": {},
     "output_type": "display_data"
    }
   ],
   "source": [
    "a = 'A'"
   ]
  },
  {
   "cell_type": "code",
   "execution_count": 179,
   "metadata": {},
   "outputs": [
    {
     "data": {
      "text/plain": [
       "Char"
      ]
     },
     "metadata": {},
     "output_type": "display_data"
    }
   ],
   "source": [
    "eltype(a)"
   ]
  },
  {
   "attachments": {},
   "cell_type": "markdown",
   "metadata": {},
   "source": [
    "### Join vs. collect"
   ]
  },
  {
   "cell_type": "code",
   "execution_count": 181,
   "metadata": {},
   "outputs": [
    {
     "data": {
      "text/plain": [
       "\"ABC\""
      ]
     },
     "metadata": {},
     "output_type": "display_data"
    }
   ],
   "source": [
    "join('A':'C')"
   ]
  },
  {
   "cell_type": "code",
   "execution_count": 183,
   "metadata": {},
   "outputs": [
    {
     "data": {
      "text/plain": [
       "\"ACEGIKMOQSUWY\""
      ]
     },
     "metadata": {},
     "output_type": "display_data"
    }
   ],
   "source": [
    "letters = join('A':2:'Z') # Join every other letter from A to Z"
   ]
  },
  {
   "cell_type": "code",
   "execution_count": 185,
   "metadata": {},
   "outputs": [
    {
     "data": {
      "text/plain": [
       "13-element Vector{Char}:\n",
       " 'A': ASCII/Unicode U+0041 (category Lu: Letter, uppercase)\n",
       " 'C': ASCII/Unicode U+0043 (category Lu: Letter, uppercase)\n",
       " 'E': ASCII/Unicode U+0045 (category Lu: Letter, uppercase)\n",
       " 'G': ASCII/Unicode U+0047 (category Lu: Letter, uppercase)\n",
       " 'I': ASCII/Unicode U+0049 (category Lu: Letter, uppercase)\n",
       " 'K': ASCII/Unicode U+004B (category Lu: Letter, uppercase)\n",
       " 'M': ASCII/Unicode U+004D (category Lu: Letter, uppercase)\n",
       " 'O': ASCII/Unicode U+004F (category Lu: Letter, uppercase)\n",
       " 'Q': ASCII/Unicode U+0051 (category Lu: Letter, uppercase)\n",
       " 'S': ASCII/Unicode U+0053 (category Lu: Letter, uppercase)\n",
       " 'U': ASCII/Unicode U+0055 (category Lu: Letter, uppercase)\n",
       " 'W': ASCII/Unicode U+0057 (category Lu: Letter, uppercase)\n",
       " 'Y': ASCII/Unicode U+0059 (category Lu: Letter, uppercase)"
      ]
     },
     "metadata": {},
     "output_type": "display_data"
    }
   ],
   "source": [
    "letter_vector = collect(letters)"
   ]
  },
  {
   "cell_type": "code",
   "execution_count": 187,
   "metadata": {},
   "outputs": [
    {
     "data": {
      "text/plain": [
       "'A': ASCII/Unicode U+0041 (category Lu: Letter, uppercase)"
      ]
     },
     "metadata": {},
     "output_type": "display_data"
    }
   ],
   "source": [
    "letter_vector[begin]"
   ]
  },
  {
   "cell_type": "code",
   "execution_count": 188,
   "metadata": {},
   "outputs": [
    {
     "data": {
      "text/plain": [
       "'Y': ASCII/Unicode U+0059 (category Lu: Letter, uppercase)"
      ]
     },
     "metadata": {},
     "output_type": "display_data"
    }
   ],
   "source": [
    "letter_vector[end]"
   ]
  },
  {
   "attachments": {},
   "cell_type": "markdown",
   "metadata": {},
   "source": [
    "## Using reduce"
   ]
  },
  {
   "cell_type": "code",
   "execution_count": 192,
   "metadata": {},
   "outputs": [
    {
     "data": {
      "text/plain": [
       "3628800"
      ]
     },
     "metadata": {},
     "output_type": "display_data"
    }
   ],
   "source": [
    "factorial(10)"
   ]
  },
  {
   "cell_type": "code",
   "execution_count": 190,
   "metadata": {},
   "outputs": [
    {
     "data": {
      "text/plain": [
       "3628800"
      ]
     },
     "metadata": {},
     "output_type": "display_data"
    }
   ],
   "source": [
    "reduce(*, 1:10)"
   ]
  },
  {
   "cell_type": "code",
   "execution_count": 198,
   "metadata": {},
   "outputs": [
    {
     "data": {
      "text/plain": [
       "5050"
      ]
     },
     "metadata": {},
     "output_type": "display_data"
    }
   ],
   "source": [
    "stats.sum(collect(1:100))"
   ]
  },
  {
   "cell_type": "code",
   "execution_count": 199,
   "metadata": {},
   "outputs": [
    {
     "data": {
      "text/plain": [
       "5050"
      ]
     },
     "metadata": {},
     "output_type": "display_data"
    }
   ],
   "source": [
    "reduce(+, 1:100)"
   ]
  }
 ],
 "metadata": {
  "kernelspec": {
   "display_name": "Julia 1.8.5",
   "language": "julia",
   "name": "julia-1.8"
  },
  "language_info": {
   "file_extension": ".jl",
   "mimetype": "application/julia",
   "name": "julia",
   "version": "1.8.5"
  },
  "orig_nbformat": 4
 },
 "nbformat": 4,
 "nbformat_minor": 2
}
