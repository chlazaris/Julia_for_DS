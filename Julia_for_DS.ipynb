{
 "cells": [
  {
   "cell_type": "code",
   "execution_count": 1,
   "metadata": {},
   "outputs": [],
   "source": [
    "#= This is a multi-line comment in Julia.\n",
    "Isn't it? =#"
   ]
  },
  {
   "attachments": {},
   "cell_type": "markdown",
   "metadata": {},
   "source": [
    "We install the required packages"
   ]
  },
  {
   "cell_type": "code",
   "execution_count": 2,
   "metadata": {},
   "outputs": [
    {
     "name": "stderr",
     "output_type": "stream",
     "text": [
      "\u001b[32m\u001b[1m    Updating\u001b[22m\u001b[39m registry at `~/.julia/registries/General.toml`\n"
     ]
    },
    {
     "name": "stderr",
     "output_type": "stream",
     "text": [
      "\u001b[32m\u001b[1m   Resolving\u001b[22m\u001b[39m package versions...\n"
     ]
    },
    {
     "name": "stderr",
     "output_type": "stream",
     "text": [
      "\u001b[32m\u001b[1m   Installed\u001b[22m\u001b[39m Preferences ──────── v1.4.0\n"
     ]
    },
    {
     "name": "stderr",
     "output_type": "stream",
     "text": [
      "\u001b[32m\u001b[1m   Installed\u001b[22m\u001b[39m DataAPI ──────────── v1.15.0\n"
     ]
    },
    {
     "name": "stderr",
     "output_type": "stream",
     "text": [
      "\u001b[32m\u001b[1m   Installed\u001b[22m\u001b[39m SentinelArrays ───── v1.3.18\n",
      "\u001b[32m\u001b[1m   Installed\u001b[22m\u001b[39m InlineStrings ────── v1.4.0\n",
      "\u001b[32m\u001b[1m   Installed\u001b[22m\u001b[39m Tables ───────────── v1.10.1\n",
      "\u001b[32m\u001b[1m   Installed\u001b[22m\u001b[39m Parsers ──────────── v2.5.9\n",
      "\u001b[32m\u001b[1m   Installed\u001b[22m\u001b[39m PrecompileTools ──── v1.1.1\n"
     ]
    },
    {
     "name": "stderr",
     "output_type": "stream",
     "text": [
      "\u001b[32m\u001b[1m   Installed\u001b[22m\u001b[39m OrderedCollections ─ v1.6.0\n",
      "\u001b[32m\u001b[1m   Installed\u001b[22m\u001b[39m InvertedIndices ──── v1.3.0\n",
      "\u001b[32m\u001b[1m   Installed\u001b[22m\u001b[39m SnoopPrecompile ──── v1.0.3\n",
      "\u001b[32m\u001b[1m   Installed\u001b[22m\u001b[39m SortingAlgorithms ── v1.1.0\n",
      "\u001b[32m\u001b[1m   Installed\u001b[22m\u001b[39m Compat ───────────── v4.6.1\n",
      "\u001b[32m\u001b[1m   Installed\u001b[22m\u001b[39m StringManipulation ─ v0.3.0\n"
     ]
    },
    {
     "name": "stderr",
     "output_type": "stream",
     "text": [
      "\u001b[32m\u001b[1m   Installed\u001b[22m\u001b[39m Missings ─────────── v1.1.0\n"
     ]
    },
    {
     "name": "stderr",
     "output_type": "stream",
     "text": [
      "\u001b[32m\u001b[1m   Installed\u001b[22m\u001b[39m DataFrames ───────── v1.5.0\n"
     ]
    },
    {
     "name": "stderr",
     "output_type": "stream",
     "text": [
      "\u001b[32m\u001b[1m   Installed\u001b[22m\u001b[39m PrettyTables ─────── v2.2.4\n"
     ]
    },
    {
     "name": "stderr",
     "output_type": "stream",
     "text": [
      "\u001b[32m\u001b[1m    Updating\u001b[22m\u001b[39m `~/.julia/environments/v1.8/Project.toml`\n",
      " \u001b[90m [a93c6f00] \u001b[39m\u001b[92m+ DataFrames v1.5.0\u001b[39m\n",
      "\u001b[32m\u001b[1m    Updating\u001b[22m\u001b[39m `~/.julia/environments/v1.8/Manifest.toml`\n",
      " \u001b[90m [34da2185] \u001b[39m\u001b[92m+ Compat v4.6.1\u001b[39m\n",
      " \u001b[90m [a8cc5b0e] \u001b[39m\u001b[92m+ Crayons v4.1.1\u001b[39m\n",
      " \u001b[90m [9a962f9c] \u001b[39m\u001b[92m+ DataAPI v1.15.0\u001b[39m\n",
      " \u001b[90m [a93c6f00] \u001b[39m\u001b[92m+ DataFrames v1.5.0\u001b[39m\n",
      " \u001b[90m [864edb3b] \u001b[39m\u001b[92m+ DataStructures v0.18.13\u001b[39m\n",
      " \u001b[90m [e2d170a0] \u001b[39m\u001b[92m+ DataValueInterfaces v1.0.0\u001b[39m\n",
      " \u001b[90m [59287772] \u001b[39m\u001b[92m+ Formatting v0.4.2\u001b[39m\n",
      " \u001b[90m [842dd82b] \u001b[39m\u001b[92m+ InlineStrings v1.4.0\u001b[39m\n",
      " \u001b[90m [41ab1584] \u001b[39m\u001b[92m+ InvertedIndices v1.3.0\u001b[39m\n",
      " \u001b[90m [82899510] \u001b[39m\u001b[92m+ IteratorInterfaceExtensions v1.0.0\u001b[39m\n",
      " \u001b[90m [b964fa9f] \u001b[39m\u001b[92m+ LaTeXStrings v1.3.0\u001b[39m\n",
      " \u001b[90m [e1d29d7a] \u001b[39m\u001b[92m+ Missings v1.1.0\u001b[39m\n",
      " \u001b[90m [bac558e1] \u001b[39m\u001b[92m+ OrderedCollections v1.6.0\u001b[39m\n",
      " \u001b[90m [69de0a69] \u001b[39m\u001b[92m+ Parsers v2.5.9\u001b[39m\n",
      " \u001b[90m [2dfb63ee] \u001b[39m\u001b[92m+ PooledArrays v1.4.2\u001b[39m\n",
      " \u001b[90m [aea7be01] \u001b[39m\u001b[92m+ PrecompileTools v1.1.1\u001b[39m\n",
      " \u001b[90m [21216c6a] \u001b[39m\u001b[92m+ Preferences v1.4.0\u001b[39m\n",
      " \u001b[90m [08abe8d2] \u001b[39m\u001b[92m+ PrettyTables v2.2.4\u001b[39m\n",
      " \u001b[90m [189a3867] \u001b[39m\u001b[92m+ Reexport v1.2.2\u001b[39m\n",
      " \u001b[90m [91c51154] \u001b[39m\u001b[92m+ SentinelArrays v1.3.18\u001b[39m\n",
      " \u001b[90m [66db9d55] \u001b[39m\u001b[92m+ SnoopPrecompile v1.0.3\u001b[39m\n",
      " \u001b[90m [a2af1166] \u001b[39m\u001b[92m+ SortingAlgorithms v1.1.0\u001b[39m\n",
      " \u001b[90m [892a3eda] \u001b[39m\u001b[92m+ StringManipulation v0.3.0\u001b[39m\n",
      " \u001b[90m [3783bdb8] \u001b[39m\u001b[92m+ TableTraits v1.0.1\u001b[39m\n",
      " \u001b[90m [bd369af6] \u001b[39m\u001b[92m+ Tables v1.10.1\u001b[39m\n",
      " \u001b[90m [56f22d72] \u001b[39m\u001b[92m+ Artifacts\u001b[39m\n",
      " \u001b[90m [2a0f44e3] \u001b[39m\u001b[92m+ Base64\u001b[39m\n",
      " \u001b[90m [ade2ca70] \u001b[39m\u001b[92m+ Dates\u001b[39m\n",
      " \u001b[90m [9fa8497b] \u001b[39m\u001b[92m+ Future\u001b[39m\n",
      " \u001b[90m [b77e0a4c] \u001b[39m\u001b[92m+ InteractiveUtils\u001b[39m\n",
      " \u001b[90m [8f399da3] \u001b[39m\u001b[92m+ Libdl\u001b[39m\n",
      " \u001b[90m [37e2e46d] \u001b[39m\u001b[92m+ LinearAlgebra\u001b[39m\n",
      " \u001b[90m [56ddb016] \u001b[39m\u001b[92m+ Logging\u001b[39m\n",
      " \u001b[90m [d6f4376e] \u001b[39m\u001b[92m+ Markdown\u001b[39m\n",
      " \u001b[90m [de0858da] \u001b[39m\u001b[92m+ Printf\u001b[39m\n",
      " \u001b[90m [3fa0cd96] \u001b[39m\u001b[92m+ REPL\u001b[39m\n",
      " \u001b[90m [9a3f8284] \u001b[39m\u001b[92m+ Random\u001b[39m\n",
      " \u001b[90m [ea8e919c] \u001b[39m\u001b[92m+ SHA v0.7.0\u001b[39m\n",
      " \u001b[90m [9e88b42a] \u001b[39m\u001b[92m+ Serialization\u001b[39m\n",
      " \u001b[90m [6462fe0b] \u001b[39m\u001b[92m+ Sockets\u001b[39m\n",
      " \u001b[90m [2f01184e] \u001b[39m\u001b[92m+ SparseArrays\u001b[39m\n",
      " \u001b[90m [10745b16] \u001b[39m\u001b[92m+ Statistics\u001b[39m\n",
      " \u001b[90m [fa267f1f] \u001b[39m\u001b[92m+ TOML v1.0.0\u001b[39m\n",
      " \u001b[90m [8dfed614] \u001b[39m\u001b[92m+ Test\u001b[39m\n",
      " \u001b[90m [cf7118a7] \u001b[39m\u001b[92m+ UUIDs\u001b[39m\n",
      " \u001b[90m [4ec0a83e] \u001b[39m\u001b[92m+ Unicode\u001b[39m\n",
      " \u001b[90m [e66e0078] \u001b[39m\u001b[92m+ CompilerSupportLibraries_jll v1.0.1+0\u001b[39m\n",
      " \u001b[90m [4536629a] \u001b[39m\u001b[92m+ OpenBLAS_jll v0.3.20+0\u001b[39m\n",
      " \u001b[90m [8e850b90] \u001b[39m\u001b[92m+ libblastrampoline_jll v5.1.1+0\u001b[39m\n"
     ]
    },
    {
     "name": "stderr",
     "output_type": "stream",
     "text": [
      "\u001b[32m\u001b[1mPrecompiling\u001b[22m\u001b[39m project...\n"
     ]
    },
    {
     "name": "stderr",
     "output_type": "stream",
     "text": [
      "\u001b[32m  ✓ \u001b[39m\u001b[90mDataValueInterfaces\u001b[39m\n",
      "\u001b[32m  ✓ \u001b[39m\u001b[90mIteratorInterfaceExtensions\u001b[39m\n"
     ]
    },
    {
     "name": "stderr",
     "output_type": "stream",
     "text": [
      "\u001b[32m  ✓ \u001b[39m\u001b[90mFormatting\u001b[39m\n"
     ]
    },
    {
     "name": "stderr",
     "output_type": "stream",
     "text": [
      "\u001b[32m  ✓ \u001b[39m\u001b[90mLaTeXStrings\u001b[39m\n"
     ]
    },
    {
     "name": "stderr",
     "output_type": "stream",
     "text": [
      "\u001b[32m  ✓ \u001b[39m\u001b[90mCompat\u001b[39m\n"
     ]
    },
    {
     "name": "stderr",
     "output_type": "stream",
     "text": [
      "\u001b[32m  ✓ \u001b[39m\u001b[90mDataAPI\u001b[39m\n"
     ]
    },
    {
     "name": "stderr",
     "output_type": "stream",
     "text": [
      "\u001b[32m  ✓ \u001b[39m\u001b[90mInvertedIndices\u001b[39m\n"
     ]
    },
    {
     "name": "stderr",
     "output_type": "stream",
     "text": [
      "\u001b[32m  ✓ \u001b[39m\u001b[90mSentinelArrays\u001b[39m\n"
     ]
    },
    {
     "name": "stderr",
     "output_type": "stream",
     "text": [
      "\u001b[32m  ✓ \u001b[39m\u001b[90mCompilerSupportLibraries_jll\u001b[39m\n"
     ]
    },
    {
     "name": "stderr",
     "output_type": "stream",
     "text": [
      "\u001b[32m  ✓ \u001b[39m\u001b[90mStringManipulation\u001b[39m\n"
     ]
    },
    {
     "name": "stderr",
     "output_type": "stream",
     "text": [
      "\u001b[32m  ✓ \u001b[39m\u001b[90mReexport\u001b[39m\n"
     ]
    },
    {
     "name": "stderr",
     "output_type": "stream",
     "text": [
      "\u001b[32m  ✓ \u001b[39m\u001b[90mOrderedCollections\u001b[39m\n"
     ]
    },
    {
     "name": "stderr",
     "output_type": "stream",
     "text": [
      "\u001b[32m  ✓ \u001b[39m\u001b[90mPreferences\u001b[39m\n",
      "\u001b[32m  ✓ \u001b[39m\u001b[90mTableTraits\u001b[39m\n"
     ]
    },
    {
     "name": "stderr",
     "output_type": "stream",
     "text": [
      "\u001b[32m  ✓ \u001b[39m\u001b[90mCrayons\u001b[39m\n"
     ]
    },
    {
     "name": "stderr",
     "output_type": "stream",
     "text": [
      "\u001b[32m  ✓ \u001b[39m\u001b[90mPooledArrays\u001b[39m\n"
     ]
    },
    {
     "name": "stderr",
     "output_type": "stream",
     "text": [
      "\u001b[32m  ✓ \u001b[39m\u001b[90mMissings\u001b[39m\n"
     ]
    },
    {
     "name": "stderr",
     "output_type": "stream",
     "text": [
      "\u001b[32m  ✓ \u001b[39m\u001b[90mOpenBLAS_jll\u001b[39m\n"
     ]
    },
    {
     "name": "stderr",
     "output_type": "stream",
     "text": [
      "\u001b[32m  ✓ \u001b[39m\u001b[90mPrecompileTools\u001b[39m\n"
     ]
    },
    {
     "name": "stderr",
     "output_type": "stream",
     "text": [
      "\u001b[32m  ✓ \u001b[39m\u001b[90mlibblastrampoline_jll\u001b[39m\n",
      "\u001b[32m  ✓ \u001b[39m\u001b[90mSnoopPrecompile\u001b[39m\n"
     ]
    },
    {
     "name": "stderr",
     "output_type": "stream",
     "text": [
      "\u001b[32m  ✓ \u001b[39m\u001b[90mTables\u001b[39m\n"
     ]
    },
    {
     "name": "stderr",
     "output_type": "stream",
     "text": [
      "\u001b[32m  ✓ \u001b[39m\u001b[90mDataStructures\u001b[39m\n"
     ]
    },
    {
     "name": "stderr",
     "output_type": "stream",
     "text": [
      "\u001b[32m  ✓ \u001b[39m\u001b[90mSortingAlgorithms\u001b[39m\n"
     ]
    },
    {
     "name": "stderr",
     "output_type": "stream",
     "text": [
      "\u001b[32m  ✓ \u001b[39m\u001b[90mPrettyTables\u001b[39m\n"
     ]
    },
    {
     "name": "stderr",
     "output_type": "stream",
     "text": [
      "\u001b[32m  ✓ \u001b[39m\u001b[90mParsers\u001b[39m\n"
     ]
    },
    {
     "name": "stderr",
     "output_type": "stream",
     "text": [
      "\u001b[32m  ✓ \u001b[39m\u001b[90mInlineStrings\u001b[39m\n"
     ]
    },
    {
     "name": "stderr",
     "output_type": "stream",
     "text": [
      "\u001b[32m  ✓ \u001b[39mDataFrames\n",
      "  28 dependencies successfully precompiled in 71 seconds\n"
     ]
    }
   ],
   "source": [
    "using Pkg\n",
    "Pkg.add(\"DataFrames\")"
   ]
  },
  {
   "cell_type": "code",
   "execution_count": 3,
   "metadata": {},
   "outputs": [
    {
     "name": "stderr",
     "output_type": "stream",
     "text": [
      "\u001b[32m\u001b[1m   Resolving\u001b[22m\u001b[39m package versions...\n"
     ]
    },
    {
     "name": "stderr",
     "output_type": "stream",
     "text": [
      "\u001b[32m\u001b[1m   Installed\u001b[22m\u001b[39m CodecZlib ────────── v0.7.1\n",
      "\u001b[32m\u001b[1m   Installed\u001b[22m\u001b[39m WorkerUtilities ──── v1.6.1\n"
     ]
    },
    {
     "name": "stderr",
     "output_type": "stream",
     "text": [
      "\u001b[32m\u001b[1m   Installed\u001b[22m\u001b[39m TranscodingStreams ─ v0.9.13\n"
     ]
    },
    {
     "name": "stderr",
     "output_type": "stream",
     "text": [
      "\u001b[32m\u001b[1m   Installed\u001b[22m\u001b[39m CSV ──────────────── v0.10.10\n",
      "\u001b[32m\u001b[1m    Updating\u001b[22m\u001b[39m `~/.julia/environments/v1.8/Project.toml`\n",
      " \u001b[90m [336ed68f] \u001b[39m\u001b[92m+ CSV v0.10.10\u001b[39m\n",
      "\u001b[32m\u001b[1m    Updating\u001b[22m\u001b[39m `~/.julia/environments/v1.8/Manifest.toml`\n"
     ]
    },
    {
     "name": "stderr",
     "output_type": "stream",
     "text": [
      " \u001b[90m [336ed68f] \u001b[39m\u001b[92m+ CSV v0.10.10\u001b[39m\n",
      " \u001b[90m [944b1d66] \u001b[39m\u001b[92m+ CodecZlib v0.7.1\u001b[39m\n",
      " \u001b[90m [48062228] \u001b[39m\u001b[92m+ FilePathsBase v0.9.20\u001b[39m\n",
      " \u001b[90m [3bb67fe8] \u001b[39m\u001b[92m+ TranscodingStreams v0.9.13\u001b[39m\n",
      " \u001b[90m [ea10d353] \u001b[39m\u001b[92m+ WeakRefStrings v1.4.2\u001b[39m\n",
      " \u001b[90m [76eceee3] \u001b[39m\u001b[92m+ WorkerUtilities v1.6.1\u001b[39m\n",
      " \u001b[90m [a63ad114] \u001b[39m\u001b[92m+ Mmap\u001b[39m\n",
      " \u001b[90m [83775a58] \u001b[39m\u001b[92m+ Zlib_jll v1.2.12+3\u001b[39m\n",
      "\u001b[32m\u001b[1mPrecompiling\u001b[22m\u001b[39m "
     ]
    },
    {
     "name": "stderr",
     "output_type": "stream",
     "text": [
      "project...\n"
     ]
    },
    {
     "name": "stderr",
     "output_type": "stream",
     "text": [
      "\u001b[32m  ✓ \u001b[39m\u001b[90mZlib_jll\u001b[39m\n"
     ]
    },
    {
     "name": "stderr",
     "output_type": "stream",
     "text": [
      "\u001b[32m  ✓ \u001b[39m\u001b[90mWorkerUtilities\u001b[39m\n"
     ]
    },
    {
     "name": "stderr",
     "output_type": "stream",
     "text": [
      "\u001b[32m  ✓ \u001b[39m\u001b[90mTranscodingStreams\u001b[39m\n"
     ]
    },
    {
     "name": "stderr",
     "output_type": "stream",
     "text": [
      "\u001b[32m  ✓ \u001b[39m\u001b[90mWeakRefStrings\u001b[39m\n"
     ]
    },
    {
     "name": "stderr",
     "output_type": "stream",
     "text": [
      "\u001b[32m  ✓ \u001b[39m\u001b[90mCodecZlib\u001b[39m\n"
     ]
    },
    {
     "name": "stderr",
     "output_type": "stream",
     "text": [
      "\u001b[32m  ✓ \u001b[39m\u001b[90mFilePathsBase\u001b[39m\n"
     ]
    },
    {
     "name": "stderr",
     "output_type": "stream",
     "text": [
      "\u001b[32m  ✓ \u001b[39mCSV\n",
      "  7 dependencies successfully precompiled in 17 seconds. 28 already precompiled.\n"
     ]
    },
    {
     "name": "stderr",
     "output_type": "stream",
     "text": [
      "\u001b[32m\u001b[1m   Resolving\u001b[22m\u001b[39m package versions...\n"
     ]
    },
    {
     "name": "stderr",
     "output_type": "stream",
     "text": [
      "\u001b[32m\u001b[1m   Installed\u001b[22m\u001b[39m NodeJS_18_jll ──────── v18.16.0+0\n"
     ]
    },
    {
     "name": "stderr",
     "output_type": "stream",
     "text": [
      "\u001b[32m\u001b[1m   Installed\u001b[22m\u001b[39m JSON ───────────────── v0.21.4\n"
     ]
    },
    {
     "name": "stderr",
     "output_type": "stream",
     "text": [
      "\u001b[32m\u001b[1m   Installed\u001b[22m\u001b[39m XML2_jll ───────────── v2.10.3+0\n",
      "\u001b[32m\u001b[1m   Installed\u001b[22m\u001b[39m ReadStat_jll ───────── v1.1.9+0\n",
      "\u001b[32m\u001b[1m   Installed\u001b[22m\u001b[39m Conda ──────────────── v1.8.0\n",
      "\u001b[32m\u001b[1m   Installed\u001b[22m\u001b[39m Zstd_jll ───────────── v1.5.5+0\n",
      "\u001b[32m\u001b[1m   Installed\u001b[22m\u001b[39m MutableArithmetics ─── v1.3.0\n"
     ]
    },
    {
     "name": "stderr",
     "output_type": "stream",
     "text": [
      "\u001b[32m\u001b[1m   Installed\u001b[22m\u001b[39m DoubleFloats ───────── v1.2.4\n",
      "\u001b[32m\u001b[1m   Installed\u001b[22m\u001b[39m OpenSSL_jll ────────── v3.0.8+0\n"
     ]
    },
    {
     "name": "stderr",
     "output_type": "stream",
     "text": [
      "\u001b[32m\u001b[1m   Installed\u001b[22m\u001b[39m BitFlags ───────────── v0.1.7\n",
      "\u001b[32m\u001b[1m   Installed\u001b[22m\u001b[39m LoggingExtras ──────── v1.0.0\n",
      "\u001b[32m\u001b[1m   Installed\u001b[22m\u001b[39m MakieCore ──────────── v0.6.3\n",
      "\u001b[32m\u001b[1m   Installed\u001b[22m\u001b[39m PyCall ─────────────── v1.95.1\n"
     ]
    },
    {
     "name": "stderr",
     "output_type": "stream",
     "text": [
      "\u001b[32m\u001b[1m   Installed\u001b[22m\u001b[39m JSONSchema ─────────── v1.1.0\n",
      "\u001b[32m\u001b[1m   Installed\u001b[22m\u001b[39m SpecialFunctions ───── v2.2.0\n",
      "\u001b[32m\u001b[1m   Installed\u001b[22m\u001b[39m RecipesBase ────────── v1.3.4\n"
     ]
    },
    {
     "name": "stderr",
     "output_type": "stream",
     "text": [
      "\u001b[32m\u001b[1m   Installed\u001b[22m\u001b[39m ConcurrentUtilities ── v2.2.0\n",
      "\u001b[32m\u001b[1m   Installed\u001b[22m\u001b[39m ConstructionBase ───── v1.5.2\n"
     ]
    },
    {
     "name": "stderr",
     "output_type": "stream",
     "text": [
      "\u001b[32m\u001b[1m   Installed\u001b[22m\u001b[39m Vega ───────────────── v2.6.1\n",
      "\u001b[32m\u001b[1m   Installed\u001b[22m\u001b[39m URIs ───────────────── v1.4.2\n"
     ]
    },
    {
     "name": "stderr",
     "output_type": "stream",
     "text": [
      "\u001b[32m\u001b[1m   Installed\u001b[22m\u001b[39m IrrationalConstants ── v0.2.2\n",
      "\u001b[32m\u001b[1m   Installed\u001b[22m\u001b[39m OpenSSL ────────────── v1.4.1\n",
      "\u001b[32m\u001b[1m   Installed\u001b[22m\u001b[39m ChainRulesCore ─────── v1.16.0\n"
     ]
    },
    {
     "name": "stderr",
     "output_type": "stream",
     "text": [
      "\u001b[32m\u001b[1m   Installed\u001b[22m\u001b[39m HTTP ───────────────── v1.9.3\n"
     ]
    },
    {
     "name": "stderr",
     "output_type": "stream",
     "text": [
      "\u001b[32m\u001b[1m   Installed\u001b[22m\u001b[39m FileIO ─────────────── v1.16.1\n"
     ]
    },
    {
     "name": "stderr",
     "output_type": "stream",
     "text": [
      "\u001b[32m\u001b[1m   Installed\u001b[22m\u001b[39m Observables ────────── v0.5.4\n",
      "\u001b[32m\u001b[1m   Installed\u001b[22m\u001b[39m Quadmath ───────────── v0.5.8\n",
      "\u001b[32m\u001b[1m   Installed\u001b[22m\u001b[39m BufferedStreams ────── v1.1.0\n",
      "\u001b[32m\u001b[1m   Installed\u001b[22m\u001b[39m LogExpFunctions ────── v0.3.23\n",
      "\u001b[32m\u001b[1m   Installed\u001b[22m\u001b[39m Polynomials ────────── v3.2.11\n",
      "\u001b[32m\u001b[1m   Installed\u001b[22m\u001b[39m GenericLinearAlgebra ─ v0.3.10\n"
     ]
    },
    {
     "name": "stderr",
     "output_type": "stream",
     "text": [
      "\u001b[32m\u001b[1m   Installed\u001b[22m\u001b[39m InverseFunctions ───── v0.1.9\n",
      "\u001b[32m\u001b[1m   Installed\u001b[22m\u001b[39m ChangesOfVariables ─── v0.1.7\n",
      "\u001b[32m\u001b[1m   Installed\u001b[22m\u001b[39m DocStringExtensions ── v0.9.3\n"
     ]
    },
    {
     "name": "stderr",
     "output_type": "stream",
     "text": [
      "\u001b[32m\u001b[1m   Installed\u001b[22m\u001b[39m SimpleBufferStream ─── v1.1.0\n"
     ]
    },
    {
     "name": "stderr",
     "output_type": "stream",
     "text": [
      "\u001b[32m\u001b[1m    Updating\u001b[22m\u001b[39m `~/.julia/environments/v1.8/Project.toml`\n",
      " \u001b[90m [612083be] \u001b[39m\u001b[92m+ Queryverse v0.7.0\u001b[39m\n",
      "\u001b[32m\u001b[1m    Updating\u001b[22m\u001b[39m `~/.julia/environments/v1.8/Manifest.toml`\n",
      "\u001b[33m⌅\u001b[39m\u001b[90m [69666777] \u001b[39m\u001b[92m+ Arrow v0.2.4\u001b[39m\n",
      " \u001b[90m [b99e7846] \u001b[39m\u001b[92m+ BinaryProvider v0.5.10\u001b[39m\n",
      " \u001b[90m [d1d4a3ce] \u001b[39m\u001b[92m+ BitFlags v0.1.7\u001b[39m\n",
      " \u001b[90m [e1450e63] \u001b[39m\u001b[92m+ BufferedStreams v1.1.0\u001b[39m\n",
      " \u001b[90m [fa961155] \u001b[39m\u001b[92m+ CEnum v0.4.2\u001b[39m\n",
      " \u001b[90m [5d742f6a] \u001b[39m\u001b[92m+ CSVFiles v1.0.2\u001b[39m\n",
      "\u001b[33m⌅\u001b[39m\u001b[90m [324d7699] \u001b[39m\u001b[92m+ CategoricalArrays v0.8.3\u001b[39m\n",
      " \u001b[90m [d360d2e6] \u001b[39m\u001b[92m+ ChainRulesCore v1.16.0\u001b[39m\n",
      " \u001b[90m [9e997f8a] \u001b[39m\u001b[92m+ ChangesOfVariables v0.1.7\u001b[39m\n",
      " \u001b[90m [6b39b394] \u001b[39m\u001b[92m+ CodecZstd v0.7.2\u001b[39m\n",
      " \u001b[90m [f0e56b4a] \u001b[39m\u001b[92m+ ConcurrentUtilities v2.2.0\u001b[39m\n",
      " \u001b[90m [8f4d0f93] \u001b[39m\u001b[92m+ Conda v1.8.0\u001b[39m\n",
      " \u001b[90m [187b0558] \u001b[39m\u001b[92m+ ConstructionBase v1.5.2\u001b[39m\n",
      " \u001b[90m [743a1d0a] \u001b[39m\u001b[92m+ DataTables v0.1.0\u001b[39m\n",
      " \u001b[90m [e7dc6d0d] \u001b[39m\u001b[92m+ DataValues v0.4.13\u001b[39m\n",
      " \u001b[90m [5721bf48] \u001b[39m\u001b[92m+ DataVoyager v1.0.2\u001b[39m\n",
      " \u001b[90m [ffbed154] \u001b[39m\u001b[92m+ DocStringExtensions v0.9.3\u001b[39m\n",
      " \u001b[90m [497a8b3b] \u001b[39m\u001b[92m+ DoubleFloats v1.2.4\u001b[39m\n",
      "\u001b[33m⌅\u001b[39m\u001b[90m [a1bb12fb] \u001b[39m\u001b[92m+ Electron v3.1.2\u001b[39m\n",
      " \u001b[90m [89b67f3b] \u001b[39m\u001b[92m+ ExcelFiles v1.0.0\u001b[39m\n",
      " \u001b[90m [c04bee98] \u001b[39m\u001b[92m+ ExcelReaders v0.11.0\u001b[39m\n",
      " \u001b[90m [8f5d6c58] \u001b[39m\u001b[92m+ EzXML v1.1.0\u001b[39m\n",
      " \u001b[90m [b675d258] \u001b[39m\u001b[92m+ FeatherFiles v0.8.1\u001b[39m\n",
      " \u001b[90m [409f5150] \u001b[39m\u001b[92m+ FeatherLib v0.2.0\u001b[39m\n",
      " \u001b[90m [5789e2e9] \u001b[39m\u001b[92m+ FileIO v1.16.1\u001b[39m\n"
     ]
    },
    {
     "name": "stderr",
     "output_type": "stream",
     "text": [
      " \u001b[90m [8fc22ac5] \u001b[39m\u001b[92m+ FilePaths v0.8.3\u001b[39m\n",
      "\u001b[33m⌅\u001b[39m\u001b[90m [53afe959] \u001b[39m\u001b[92m+ FlatBuffers v0.5.4\u001b[39m\n",
      " \u001b[90m [14197337] \u001b[39m\u001b[92m+ GenericLinearAlgebra v0.3.10\u001b[39m\n",
      " \u001b[90m [cd3eb016] \u001b[39m\u001b[92m+ HTTP v1.9.3\u001b[39m\n",
      " \u001b[90m [3587e190] \u001b[39m\u001b[92m+ InverseFunctions v0.1.9\u001b[39m\n",
      " \u001b[90m [92d709cd] \u001b[39m\u001b[92m+ IrrationalConstants v0.2.2\u001b[39m\n",
      " \u001b[90m [1c8ee90f] \u001b[39m\u001b[92m+ IterableTables v1.0.0\u001b[39m\n",
      " \u001b[90m [692b3bcd] \u001b[39m\u001b[92m+ JLLWrappers v1.4.1\u001b[39m\n",
      " \u001b[90m [682c06a0] \u001b[39m\u001b[92m+ JSON v0.21.4\u001b[39m\n",
      " \u001b[90m [7d188eb4] \u001b[39m\u001b[92m+ JSONSchema v1.1.0\u001b[39m\n",
      " \u001b[90m [2ab3a3ac] \u001b[39m\u001b[92m+ LogExpFunctions v0.3.23\u001b[39m\n",
      " \u001b[90m [e6f89c97] \u001b[39m\u001b[92m+ LoggingExtras v1.0.0\u001b[39m\n",
      " \u001b[90m [1914dd2f] \u001b[39m\u001b[92m+ MacroTools v0.5.10\u001b[39m\n",
      " \u001b[90m [20f20a25] \u001b[39m\u001b[92m+ MakieCore v0.6.3\u001b[39m\n",
      " \u001b[90m [739be429] \u001b[39m\u001b[92m+ MbedTLS v1.1.7\u001b[39m\n",
      "\u001b[33m⌅\u001b[39m\u001b[90m [f9f48841] \u001b[39m\u001b[92m+ MemPool v0.2.0\u001b[39m\n",
      "\u001b[33m⌅\u001b[39m\u001b[90m [e1d29d7a] \u001b[39m\u001b[95m↓ Missings v1.1.0 ⇒ v0.4.5\u001b[39m\n",
      " \u001b[90m [d8a4904e] \u001b[39m\u001b[92m+ MutableArithmetics v1.3.0\u001b[39m\n",
      " \u001b[90m [2bd173c7] \u001b[39m\u001b[92m+ NodeJS v1.3.0\u001b[39m\n",
      " \u001b[90m [4d1e1d77] \u001b[39m\u001b[92m+ Nullables v1.0.0\u001b[39m\n",
      " \u001b[90m [510215fc] \u001b[39m\u001b[92m+ Observables v0.5.4\u001b[39m\n",
      " \u001b[90m [4d8831e6] \u001b[39m\u001b[92m+ OpenSSL v1.4.1\u001b[39m\n",
      " \u001b[90m [d96e819e] \u001b[39m\u001b[92m+ Parameters v0.12.3\u001b[39m\n",
      "\u001b[33m⌅\u001b[39m\u001b[90m [626c502c] \u001b[39m\u001b[92m+ Parquet v0.4.0\u001b[39m\n",
      " \u001b[90m [46a55296] \u001b[39m\u001b[92m+ ParquetFiles v0.2.0\u001b[39m\n",
      " \u001b[90m [f27b6e38] \u001b[39m\u001b[92m+ Polynomials v3.2.11\u001b[39m\n",
      "\u001b[33m⌅\u001b[39m\u001b[90m [3349acd9] \u001b[39m\u001b[92m+ ProtoBuf v0.8.0\u001b[39m\n",
      " \u001b[90m [438e738f] \u001b[39m\u001b[92m+ PyCall v1.95.1\u001b[39m\n",
      " \u001b[90m [be4d8f0f] \u001b[39m\u001b[92m+ Quadmath v0.5.8\u001b[39m\n",
      " \u001b[90m [1a8c2f83] \u001b[39m\u001b[92m+ Query v1.0.0\u001b[39m\n",
      " \u001b[90m [2aef5ad7] \u001b[39m\u001b[92m+ QueryOperators v0.9.3\u001b[39m\n",
      " \u001b[90m [612083be] \u001b[39m\u001b[92m+ Queryverse v0.7.0\u001b[39m\n",
      " \u001b[90m [988b38a3] \u001b[39m\u001b[92m+ ReadOnlyArrays v0.1.1\u001b[39m\n",
      " \u001b[90m [d71aba96] \u001b[39m\u001b[92m+ ReadStat v1.1.1\u001b[39m\n",
      " \u001b[90m [3cdcf5f2] \u001b[39m\u001b[92m+ RecipesBase v1.3.4\u001b[39m\n",
      " \u001b[90m [ae029012] \u001b[39m\u001b[92m+ Requires v1.3.0\u001b[39m\n",
      " \u001b[90m [efcf1570] \u001b[39m\u001b[92m+ Setfield v1.1.1\u001b[39m\n",
      " \u001b[90m [777ac1f9] \u001b[39m\u001b[92m+ SimpleBufferStream v1.1.0\u001b[39m\n",
      "\u001b[33m⌅\u001b[39m\u001b[90m [59d4ed8c] \u001b[39m\u001b[92m+ Snappy v0.3.0\u001b[39m\n",
      " \u001b[90m [276daf66] \u001b[39m\u001b[92m+ SpecialFunctions v2.2.0\u001b[39m\n",
      " \u001b[90m [1463e38c] \u001b[39m\u001b[92m+ StatFiles v0.8.0\u001b[39m\n",
      " \u001b[90m [1e83bf80] \u001b[39m\u001b[92m+ StaticArraysCore v1.4.0\u001b[39m\n",
      " \u001b[90m [856f2bd8] \u001b[39m\u001b[92m+ StructTypes v1.10.0\u001b[39m\n",
      " \u001b[90m [5e66a065] \u001b[39m\u001b[92m+ TableShowUtils v0.2.5\u001b[39m\n",
      " \u001b[90m [382cd787] \u001b[39m\u001b[92m+ TableTraitsUtils v1.0.2\u001b[39m\n",
      " \u001b[90m [e0df1984] \u001b[39m\u001b[92m+ TextParse v1.0.2\u001b[39m\n",
      "\u001b[33m⌅\u001b[39m\u001b[90m [8d9c9c80] \u001b[39m\u001b[92m+ Thrift v0.6.2\u001b[39m\n",
      " \u001b[90m [30578b45] \u001b[39m\u001b[92m+ URIParser v0.4.1\u001b[39m\n",
      " \u001b[90m [5c2747f8] \u001b[39m\u001b[92m+ URIs v1.4.2\u001b[39m\n",
      " \u001b[90m [3a884ed6] \u001b[39m\u001b[92m+ UnPack v1.0.2\u001b[39m\n",
      " \u001b[90m [239c3e63] \u001b[39m\u001b[92m+ Vega v2.6.1\u001b[39m\n",
      "\u001b[33m⌅\u001b[39m\u001b[90m [112f6efa] \u001b[39m\u001b[92m+ VegaLite v2.6.0\u001b[39m\n",
      " \u001b[90m [81def892] \u001b[39m\u001b[92m+ VersionParsing v1.3.0\u001b[39m\n",
      "\u001b[33m⌅\u001b[39m\u001b[90m [fdbf4ff8] \u001b[39m\u001b[92m+ XLSX v0.7.10\u001b[39m\n",
      "\u001b[33m⌅\u001b[39m\u001b[90m [a5390f91] \u001b[39m\u001b[92m+ ZipFile v0.9.4\u001b[39m\n",
      " \u001b[90m [94ce4f54] \u001b[39m\u001b[92m+ Libiconv_jll v1.16.1+2\u001b[39m\n",
      " \u001b[90m [c1e1d063] \u001b[39m\u001b[92m+ NodeJS_18_jll v18.16.0+0\u001b[39m\n",
      " \u001b[90m [458c3c95] \u001b[39m\u001b[92m+ OpenSSL_jll v3.0.8+0\u001b[39m\n",
      " \u001b[90m [efe28fd5] \u001b[39m\u001b[92m+ OpenSpecFun_jll v0.5.5+0\u001b[39m\n",
      " \u001b[90m [a4dc8951] \u001b[39m\u001b[92m+ ReadStat_jll v1.1.9+0\u001b[39m\n",
      " \u001b[90m [02c8fc9c] \u001b[39m\u001b[92m+ XML2_jll v2.10.3+0\u001b[39m\n",
      " \u001b[90m [3161d3a3] \u001b[39m\u001b[92m+ Zstd_jll v1.5.5+0\u001b[39m\n",
      " \u001b[90m [0dad84c5] \u001b[39m\u001b[92m+ ArgTools v1.1.1\u001b[39m\n",
      " \u001b[90m [8ba89e20] \u001b[39m\u001b[92m+ Distributed\u001b[39m\n",
      " \u001b[90m [f43a241f] \u001b[39m\u001b[92m+ Downloads v1.6.0\u001b[39m\n",
      " \u001b[90m [7b1f6079] \u001b[39m\u001b[92m+ FileWatching\u001b[39m\n",
      " \u001b[90m [b27032c2] \u001b[39m\u001b[92m+ LibCURL v0.6.3\u001b[39m\n",
      " \u001b[90m [76f85450] \u001b[39m\u001b[92m+ LibGit2\u001b[39m\n",
      " \u001b[90m [ca575930] \u001b[39m\u001b[92m+ NetworkOptions v1.2.0\u001b[39m\n",
      " \u001b[90m [44cfe95a] \u001b[39m\u001b[92m+ Pkg v1.8.0\u001b[39m\n",
      " \u001b[90m [a4e569a6] \u001b[39m\u001b[92m+ Tar v1.10.1\u001b[39m\n",
      " \u001b[90m [deac9b47] \u001b[39m\u001b[92m+ LibCURL_jll v7.84.0+0\u001b[39m\n",
      " \u001b[90m [29816b5a] \u001b[39m\u001b[92m+ LibSSH2_jll v1.10.2+0\u001b[39m\n",
      " \u001b[90m [c8ffd9c3] \u001b[39m\u001b[92m+ MbedTLS_jll v2.28.0+0\u001b[39m\n",
      " \u001b[90m [14a3606d] \u001b[39m\u001b[92m+ MozillaCACerts_jll v2022.2.1\u001b[39m\n",
      " \u001b[90m [05823500] \u001b[39m\u001b[92m+ OpenLibm_jll v0.8.1+0\u001b[39m\n",
      " \u001b[90m [8e850ede] \u001b[39m\u001b[92m+ nghttp2_jll v1.48.0+0\u001b[39m\n",
      " \u001b[90m [3f19e933] \u001b[39m\u001b[92m+ p7zip_jll v17.4.0+0\u001b[39m\n",
      "\u001b[36m\u001b[1m        Info\u001b[22m\u001b[39m Packages marked with \u001b[33m⌅\u001b[39m have new versions available but compatibility constraints restrict them from upgrading. To see why use `status --outdated -m`\n",
      "\u001b[32m\u001b[1m    Building\u001b[22m\u001b[39m Conda ─→ `~/.julia/scratchspaces/44cfe95a-1eb2-52ea-b672-e2afdf69b78f/e32a90da027ca45d84678b826fffd3110bb3fc90/build.log`\n"
     ]
    },
    {
     "name": "stderr",
     "output_type": "stream",
     "text": [
      "\u001b[32m\u001b[1m    Building\u001b[22m\u001b[39m PyCall → `~/.julia/scratchspaces/44cfe95a-1eb2-52ea-b672-e2afdf69b78f/62f417f6ad727987c755549e9cd88c46578da562/build.log`\n"
     ]
    },
    {
     "name": "stderr",
     "output_type": "stream",
     "text": [
      "\u001b[32m\u001b[1mPrecompiling\u001b[22m\u001b[39m project...\n"
     ]
    },
    {
     "name": "stderr",
     "output_type": "stream",
     "text": [
      "\u001b[32m  ✓ \u001b[39m\u001b[90mNodeJS\u001b[39m\n",
      "\u001b[32m  ✓ \u001b[39m\u001b[90mRequires\u001b[39m\n"
     ]
    },
    {
     "name": "stderr",
     "output_type": "stream",
     "text": [
      "\u001b[32m  ✓ \u001b[39m\u001b[90mObservables\u001b[39m\n"
     ]
    },
    {
     "name": "stderr",
     "output_type": "stream",
     "text": [
      "\u001b[32m  ✓ \u001b[39m\u001b[90mUnPack\u001b[39m\n"
     ]
    },
    {
     "name": "stderr",
     "output_type": "stream",
     "text": [
      "\u001b[32m  ✓ \u001b[39m\u001b[90mStructTypes\u001b[39m\n"
     ]
    },
    {
     "name": "stderr",
     "output_type": "stream",
     "text": [
      "\u001b[32m  ✓ \u001b[39m\u001b[90mOpenLibm_jll\u001b[39m\n"
     ]
    },
    {
     "name": "stderr",
     "output_type": "stream",
     "text": [
      "\u001b[32m  ✓ \u001b[39m\u001b[90mChangesOfVariables\u001b[39m\n"
     ]
    },
    {
     "name": "stderr",
     "output_type": "stream",
     "text": [
      "\u001b[32m  ✓ \u001b[39m\u001b[90mMbedTLS_jll\u001b[39m\n"
     ]
    },
    {
     "name": "stderr",
     "output_type": "stream",
     "text": [
      "\u001b[32m  ✓ \u001b[39m\u001b[90mInverseFunctions\u001b[39m\n"
     ]
    },
    {
     "name": "stderr",
     "output_type": "stream",
     "text": [
      "\u001b[32m  ✓ \u001b[39m\u001b[90mURIParser\u001b[39m\n"
     ]
    },
    {
     "name": "stderr",
     "output_type": "stream",
     "text": [
      "\u001b[32m  ✓ \u001b[39m\u001b[90mDocStringExtensions\u001b[39m\n"
     ]
    },
    {
     "name": "stderr",
     "output_type": "stream",
     "text": [
      "\u001b[32m  ✓ \u001b[39m\u001b[90mReadOnlyArrays\u001b[39m\n"
     ]
    },
    {
     "name": "stderr",
     "output_type": "stream",
     "text": [
      "\u001b[32m  ✓ \u001b[39m\u001b[90mProtoBuf\u001b[39m\n",
      "\u001b[32m  ✓ \u001b[39m\u001b[90mBufferedStreams\u001b[39m\n"
     ]
    },
    {
     "name": "stderr",
     "output_type": "stream",
     "text": [
      "\u001b[32m  ✓ \u001b[39m\u001b[90mConstructionBase\u001b[39m\n"
     ]
    },
    {
     "name": "stderr",
     "output_type": "stream",
     "text": [
      "\u001b[32m  ✓ \u001b[39m\u001b[90mSimpleBufferStream\u001b[39m\n",
      "\u001b[32m  ✓ \u001b[39m\u001b[90mBitFlags\u001b[39m\n"
     ]
    },
    {
     "name": "stderr",
     "output_type": "stream",
     "text": [
      "\u001b[32m  ✓ \u001b[39m\u001b[90mURIs\u001b[39m\n"
     ]
    },
    {
     "name": "stderr",
     "output_type": "stream",
     "text": [
      "\u001b[32m  ✓ \u001b[39m\u001b[90mIrrationalConstants\u001b[39m\n"
     ]
    },
    {
     "name": "stderr",
     "output_type": "stream",
     "text": [
      "\u001b[32m  ✓ \u001b[39m\u001b[90mNullables\u001b[39m\n"
     ]
    },
    {
     "name": "stderr",
     "output_type": "stream",
     "text": [
      "\u001b[32m  ✓ \u001b[39m\u001b[90mLoggingExtras\u001b[39m\n"
     ]
    },
    {
     "name": "stderr",
     "output_type": "stream",
     "text": [
      "\u001b[32m  ✓ \u001b[39m\u001b[90mCEnum\u001b[39m\n"
     ]
    },
    {
     "name": "stderr",
     "output_type": "stream",
     "text": [
      "\u001b[32m  ✓ \u001b[39m\u001b[90mConcurrentUtilities\u001b[39m\n"
     ]
    },
    {
     "name": "stderr",
     "output_type": "stream",
     "text": [
      "\u001b[32m  ✓ \u001b[39m\u001b[90mChainRulesCore\u001b[39m\n",
      "\u001b[32m  ✓ \u001b[39m\u001b[90mStaticArraysCore\u001b[39m\n"
     ]
    },
    {
     "name": "stderr",
     "output_type": "stream",
     "text": [
      "\u001b[32m  ✓ \u001b[39m\u001b[90mMacroTools\u001b[39m\n"
     ]
    },
    {
     "name": "stderr",
     "output_type": "stream",
     "text": [
      "\u001b[32m  ✓ \u001b[39m\u001b[90mDataValues\u001b[39m\n"
     ]
    },
    {
     "name": "stderr",
     "output_type": "stream",
     "text": [
      "\u001b[32m  ✓ \u001b[39m\u001b[90mZipFile\u001b[39m\n"
     ]
    },
    {
     "name": "stderr",
     "output_type": "stream",
     "text": [
      "\u001b[32m  ✓ \u001b[39m\u001b[90mMissings\u001b[39m\n"
     ]
    },
    {
     "name": "stderr",
     "output_type": "stream",
     "text": [
      "\u001b[32m  ✓ \u001b[39m\u001b[90mJLLWrappers\u001b[39m\n"
     ]
    },
    {
     "name": "stderr",
     "output_type": "stream",
     "text": [
      "\u001b[32m  ✓ \u001b[39m\u001b[90mMemPool\u001b[39m\n"
     ]
    },
    {
     "name": "stderr",
     "output_type": "stream",
     "text": [
      "\u001b[32m  ✓ \u001b[39m\u001b[90mBinaryProvider\u001b[39m\n"
     ]
    },
    {
     "name": "stderr",
     "output_type": "stream",
     "text": [
      "\u001b[32m  ✓ \u001b[39m\u001b[90mQuadmath\u001b[39m\n"
     ]
    },
    {
     "name": "stderr",
     "output_type": "stream",
     "text": [
      "\u001b[32m  ✓ \u001b[39m\u001b[90mRecipesBase\u001b[39m\n"
     ]
    },
    {
     "name": "stderr",
     "output_type": "stream",
     "text": [
      "\u001b[32m  ✓ \u001b[39m\u001b[90mGenericLinearAlgebra\u001b[39m\n"
     ]
    },
    {
     "name": "stderr",
     "output_type": "stream",
     "text": [
      "\u001b[32m  ✓ \u001b[39m\u001b[90mParameters\u001b[39m\n"
     ]
    },
    {
     "name": "stderr",
     "output_type": "stream",
     "text": [
      "\u001b[32m  ✓ \u001b[39m\u001b[90mMakieCore\u001b[39m\n"
     ]
    },
    {
     "name": "stderr",
     "output_type": "stream",
     "text": [
      "\u001b[32m  ✓ \u001b[39m\u001b[90mLibSSH2_jll\u001b[39m\n"
     ]
    },
    {
     "name": "stderr",
     "output_type": "stream",
     "text": [
      "\u001b[32m  ✓ \u001b[39m\u001b[90mMbedTLS\u001b[39m\n"
     ]
    },
    {
     "name": "stderr",
     "output_type": "stream",
     "text": [
      "\u001b[32m  ✓ \u001b[39m\u001b[90mFileIO\u001b[39m\n"
     ]
    },
    {
     "name": "stderr",
     "output_type": "stream",
     "text": [
      "\u001b[32m  ✓ \u001b[39m\u001b[90mFilePaths\u001b[39m\n"
     ]
    },
    {
     "name": "stderr",
     "output_type": "stream",
     "text": [
      "\u001b[32m  ✓ \u001b[39m\u001b[90mLogExpFunctions\u001b[39m\n"
     ]
    },
    {
     "name": "stderr",
     "output_type": "stream",
     "text": [
      "\u001b[32m  ✓ \u001b[39m\u001b[90mMutableArithmetics\u001b[39m\n"
     ]
    },
    {
     "name": "stderr",
     "output_type": "stream",
     "text": [
      "\u001b[32m  ✓ \u001b[39m\u001b[90mSetfield\u001b[39m\n"
     ]
    },
    {
     "name": "stderr",
     "output_type": "stream",
     "text": [
      "\u001b[32m  ✓ \u001b[39m\u001b[90mTableShowUtils\u001b[39m\n"
     ]
    },
    {
     "name": "stderr",
     "output_type": "stream",
     "text": [
      "\u001b[32m  ✓ \u001b[39m\u001b[90mTableTraitsUtils\u001b[39m\n"
     ]
    },
    {
     "name": "stderr",
     "output_type": "stream",
     "text": [
      "\u001b[32m  ✓ \u001b[39m\u001b[90mOpenSSL_jll\u001b[39m\n"
     ]
    },
    {
     "name": "stderr",
     "output_type": "stream",
     "text": [
      "\u001b[32m  ✓ \u001b[39m\u001b[90mZstd_jll\u001b[39m\n"
     ]
    },
    {
     "name": "stderr",
     "output_type": "stream",
     "text": [
      "\u001b[32m  ✓ \u001b[39m\u001b[90mLibiconv_jll\u001b[39m\n"
     ]
    },
    {
     "name": "stderr",
     "output_type": "stream",
     "text": [
      "\u001b[32m  ✓ \u001b[39m\u001b[90mNodeJS_18_jll\u001b[39m\n"
     ]
    },
    {
     "name": "stderr",
     "output_type": "stream",
     "text": [
      "\u001b[32m  ✓ \u001b[39m\u001b[90mOpenSpecFun_jll\u001b[39m\n"
     ]
    },
    {
     "name": "stderr",
     "output_type": "stream",
     "text": [
      "\u001b[32m  ✓ \u001b[39m\u001b[90mSnappy\u001b[39m\n"
     ]
    },
    {
     "name": "stderr",
     "output_type": "stream",
     "text": [
      "\u001b[32m  ✓ \u001b[39m\u001b[90mCategoricalArrays\u001b[39m\n"
     ]
    },
    {
     "name": "stderr",
     "output_type": "stream",
     "text": [
      "\u001b[32m  ✓ \u001b[39m\u001b[90mThrift\u001b[39m\n"
     ]
    },
    {
     "name": "stderr",
     "output_type": "stream",
     "text": [
      "\u001b[32m  ✓ \u001b[39m\u001b[90mFlatBuffers\u001b[39m\n"
     ]
    },
    {
     "name": "stderr",
     "output_type": "stream",
     "text": [
      "\u001b[32m  ✓ \u001b[39m\u001b[90mElectron\u001b[39m\n"
     ]
    },
    {
     "name": "stderr",
     "output_type": "stream",
     "text": [
      "\u001b[32m  ✓ \u001b[39m\u001b[90mDataTables\u001b[39m\n"
     ]
    },
    {
     "name": "stderr",
     "output_type": "stream",
     "text": [
      "\u001b[32m  ✓ \u001b[39m\u001b[90mQueryOperators\u001b[39m\n"
     ]
    },
    {
     "name": "stderr",
     "output_type": "stream",
     "text": [
      "\u001b[32m  ✓ \u001b[39m\u001b[90mIterableTables\u001b[39m\n"
     ]
    },
    {
     "name": "stderr",
     "output_type": "stream",
     "text": [
      "\u001b[32m  ✓ \u001b[39m\u001b[90mCodecZstd\u001b[39m\n"
     ]
    },
    {
     "name": "stderr",
     "output_type": "stream",
     "text": [
      "\u001b[32m  ✓ \u001b[39m\u001b[90mOpenSSL\u001b[39m\n"
     ]
    },
    {
     "name": "stderr",
     "output_type": "stream",
     "text": [
      "\u001b[32m  ✓ \u001b[39m\u001b[90mReadStat_jll\u001b[39m\n"
     ]
    },
    {
     "name": "stderr",
     "output_type": "stream",
     "text": [
      "\u001b[32m  ✓ \u001b[39m\u001b[90mXML2_jll\u001b[39m\n"
     ]
    },
    {
     "name": "stderr",
     "output_type": "stream",
     "text": [
      "\u001b[32m  ✓ \u001b[39m\u001b[90mArrow\u001b[39m\n"
     ]
    },
    {
     "name": "stderr",
     "output_type": "stream",
     "text": [
      "\u001b[32m  ✓ \u001b[39m\u001b[90mPyCall\u001b[39m\n"
     ]
    },
    {
     "name": "stderr",
     "output_type": "stream",
     "text": [
      "\u001b[32m  ✓ \u001b[39m\u001b[90mParquet\u001b[39m\n"
     ]
    },
    {
     "name": "stderr",
     "output_type": "stream",
     "text": [
      "\u001b[32m  ✓ \u001b[39m\u001b[90mQuery\u001b[39m\n"
     ]
    },
    {
     "name": "stderr",
     "output_type": "stream",
     "text": [
      "\u001b[32m  ✓ \u001b[39m\u001b[90mSpecialFunctions\u001b[39m\n"
     ]
    },
    {
     "name": "stderr",
     "output_type": "stream",
     "text": [
      "\u001b[32m  ✓ \u001b[39m\u001b[90mReadStat\u001b[39m\n"
     ]
    },
    {
     "name": "stderr",
     "output_type": "stream",
     "text": [
      "\u001b[32m  ✓ \u001b[39m\u001b[90mEzXML\u001b[39m\n"
     ]
    },
    {
     "name": "stderr",
     "output_type": "stream",
     "text": [
      "\u001b[32m  ✓ \u001b[39m\u001b[90mHTTP\u001b[39m\n"
     ]
    },
    {
     "name": "stderr",
     "output_type": "stream",
     "text": [
      "\u001b[32m  ✓ \u001b[39m\u001b[90mFeatherLib\u001b[39m\n"
     ]
    },
    {
     "name": "stderr",
     "output_type": "stream",
     "text": [
      "\u001b[32m  ✓ \u001b[39m\u001b[90mExcelReaders\u001b[39m\n"
     ]
    },
    {
     "name": "stderr",
     "output_type": "stream",
     "text": [
      "\u001b[32m  ✓ \u001b[39m\u001b[90mParquetFiles\u001b[39m\n"
     ]
    },
    {
     "name": "stderr",
     "output_type": "stream",
     "text": [
      "\u001b[32m  ✓ \u001b[39m\u001b[90mXLSX\u001b[39m\n"
     ]
    },
    {
     "name": "stderr",
     "output_type": "stream",
     "text": [
      "\u001b[32m  ✓ \u001b[39m\u001b[90mStatFiles\u001b[39m\n"
     ]
    },
    {
     "name": "stderr",
     "output_type": "stream",
     "text": [
      "\u001b[32m  ✓ \u001b[39m\u001b[90mJSONSchema\u001b[39m\n"
     ]
    },
    {
     "name": "stderr",
     "output_type": "stream",
     "text": [
      "\u001b[32m  ✓ \u001b[39m\u001b[90mFeatherFiles\u001b[39m\n"
     ]
    },
    {
     "name": "stderr",
     "output_type": "stream",
     "text": [
      "\u001b[32m  ✓ \u001b[39m\u001b[90mExcelFiles\u001b[39m\n"
     ]
    },
    {
     "name": "stderr",
     "output_type": "stream",
     "text": [
      "\u001b[32m  ✓ \u001b[39m\u001b[90mVega\u001b[39m\n"
     ]
    },
    {
     "name": "stderr",
     "output_type": "stream",
     "text": [
      "\u001b[32m  ✓ \u001b[39m\u001b[90mPolynomials\u001b[39m\n"
     ]
    },
    {
     "name": "stderr",
     "output_type": "stream",
     "text": [
      "\u001b[32m  ✓ \u001b[39m\u001b[90mVegaLite\u001b[39m\n"
     ]
    },
    {
     "name": "stderr",
     "output_type": "stream",
     "text": [
      "\u001b[32m  ✓ \u001b[39m\u001b[90mDoubleFloats\u001b[39m\n"
     ]
    },
    {
     "name": "stderr",
     "output_type": "stream",
     "text": [
      "\u001b[32m  ✓ \u001b[39m\u001b[90mDataVoyager\u001b[39m\n"
     ]
    },
    {
     "name": "stderr",
     "output_type": "stream",
     "text": [
      "\u001b[32m  ✓ \u001b[39m\u001b[90mTextParse\u001b[39m\n"
     ]
    },
    {
     "name": "stderr",
     "output_type": "stream",
     "text": [
      "\u001b[32m  ✓ \u001b[39mDataFrames\n"
     ]
    },
    {
     "name": "stderr",
     "output_type": "stream",
     "text": [
      "\u001b[32m  ✓ \u001b[39m\u001b[90mCSVFiles\u001b[39m\n"
     ]
    },
    {
     "name": "stderr",
     "output_type": "stream",
     "text": [
      "\u001b[32m  ✓ \u001b[39mQueryverse\n",
      "  88 dependencies successfully precompiled in 124 seconds. 36 already precompiled.\n"
     ]
    }
   ],
   "source": [
    "Pkg.add(\"CSV\")\n",
    "Pkg.add(\"Queryverse\")"
   ]
  },
  {
   "cell_type": "code",
   "execution_count": 4,
   "metadata": {},
   "outputs": [
    {
     "name": "stderr",
     "output_type": "stream",
     "text": [
      "\u001b[32m\u001b[1m   Resolving\u001b[22m\u001b[39m package versions...\n"
     ]
    },
    {
     "name": "stderr",
     "output_type": "stream",
     "text": [
      "\u001b[32m\u001b[1m    Updating\u001b[22m\u001b[39m `~/.julia/environments/v1.8/Project.toml`\n",
      " \u001b[90m [f43a241f] \u001b[39m\u001b[92m+ Downloads v1.6.0\u001b[39m\n",
      "\u001b[32m\u001b[1m  No Changes\u001b[22m\u001b[39m to `~/.julia/environments/v1.8/Manifest.toml`\n"
     ]
    }
   ],
   "source": [
    "Pkg.add(\"Downloads\")"
   ]
  },
  {
   "cell_type": "code",
   "execution_count": 5,
   "metadata": {},
   "outputs": [],
   "source": [
    "# Load the required packages\n",
    "using DataFrames\n",
    "using CSV\n",
    "using Pkg\n",
    "using Queryverse"
   ]
  },
  {
   "cell_type": "code",
   "execution_count": 6,
   "metadata": {},
   "outputs": [
    {
     "name": "stderr",
     "output_type": "stream",
     "text": [
      "\u001b[32m\u001b[1m   Resolving\u001b[22m\u001b[39m package versions...\n"
     ]
    },
    {
     "name": "stderr",
     "output_type": "stream",
     "text": [
      "\u001b[32m\u001b[1m   Installed\u001b[22m\u001b[39m FreqTables ── v0.4.5\n",
      "\u001b[32m\u001b[1m   Installed\u001b[22m\u001b[39m NamedArrays ─ v0.9.8\n"
     ]
    },
    {
     "name": "stderr",
     "output_type": "stream",
     "text": [
      "\u001b[32m\u001b[1m    Updating\u001b[22m\u001b[39m `~/.julia/environments/v1.8/Project.toml`\n",
      " \u001b[90m [da1fdf0e] \u001b[39m\u001b[92m+ FreqTables v0.4.5\u001b[39m\n",
      "\u001b[32m\u001b[1m    Updating\u001b[22m\u001b[39m `~/.julia/environments/v1.8/Manifest.toml`\n"
     ]
    },
    {
     "name": "stderr",
     "output_type": "stream",
     "text": [
      " \u001b[90m [861a8166] \u001b[39m\u001b[92m+ Combinatorics v1.0.2\u001b[39m\n",
      " \u001b[90m [da1fdf0e] \u001b[39m\u001b[92m+ FreqTables v0.4.5\u001b[39m\n",
      " \u001b[90m [86f7a689] \u001b[39m\u001b[92m+ NamedArrays v0.9.8\u001b[39m\n",
      " \u001b[90m [8bb1440f] \u001b[39m\u001b[92m+ DelimitedFiles\u001b[39m\n"
     ]
    },
    {
     "name": "stderr",
     "output_type": "stream",
     "text": [
      "\u001b[32m\u001b[1mPrecompiling\u001b[22m\u001b[39m project...\n"
     ]
    },
    {
     "name": "stderr",
     "output_type": "stream",
     "text": [
      "\u001b[32m  ✓ \u001b[39m\u001b[90mCombinatorics\u001b[39m\n"
     ]
    },
    {
     "name": "stderr",
     "output_type": "stream",
     "text": [
      "\u001b[32m  ✓ \u001b[39m\u001b[90mNamedArrays\u001b[39m\n"
     ]
    },
    {
     "name": "stderr",
     "output_type": "stream",
     "text": [
      "\u001b[32m  ✓ \u001b[39mFreqTables\n",
      "  3 dependencies successfully precompiled in 5 seconds. 124 already precompiled.\n"
     ]
    }
   ],
   "source": [
    "Pkg.add(\"FreqTables\")"
   ]
  },
  {
   "cell_type": "code",
   "execution_count": 7,
   "metadata": {},
   "outputs": [],
   "source": [
    "using FreqTables # To calculate frequencies"
   ]
  },
  {
   "cell_type": "code",
   "execution_count": 8,
   "metadata": {},
   "outputs": [
    {
     "name": "stderr",
     "output_type": "stream",
     "text": [
      "\u001b[32m\u001b[1m   Resolving\u001b[22m\u001b[39m package versions...\n"
     ]
    },
    {
     "name": "stderr",
     "output_type": "stream",
     "text": [
      "\u001b[32m\u001b[1m    Updating\u001b[22m\u001b[39m `~/.julia/environments/v1.8/Project.toml`\n",
      " \u001b[90m [9a3f8284] \u001b[39m\u001b[92m+ Random\u001b[39m\n",
      "\u001b[32m\u001b[1m  No Changes\u001b[22m\u001b[39m to `~/.julia/environments/v1.8/Manifest.toml`\n"
     ]
    }
   ],
   "source": [
    "Pkg.add(\"Random\")"
   ]
  },
  {
   "cell_type": "code",
   "execution_count": 9,
   "metadata": {},
   "outputs": [],
   "source": [
    "using Random"
   ]
  },
  {
   "cell_type": "code",
   "execution_count": 10,
   "metadata": {},
   "outputs": [
    {
     "name": "stderr",
     "output_type": "stream",
     "text": [
      "\u001b[32m\u001b[1m   Resolving\u001b[22m\u001b[39m package versions...\n",
      "\u001b[32m\u001b[1m    Updating\u001b[22m\u001b[39m `~/.julia/environments/v1.8/Project.toml`\n"
     ]
    },
    {
     "name": "stderr",
     "output_type": "stream",
     "text": [
      " \u001b[90m [842dd82b] \u001b[39m\u001b[92m+ InlineStrings v1.4.0\u001b[39m\n",
      "\u001b[32m\u001b[1m  No Changes\u001b[22m\u001b[39m to `~/.julia/environments/v1.8/Manifest.toml`\n"
     ]
    }
   ],
   "source": [
    "Pkg.add(\"InlineStrings\") # To generate memory-efficient large collections of strings"
   ]
  },
  {
   "cell_type": "code",
   "execution_count": 11,
   "metadata": {},
   "outputs": [],
   "source": [
    "using InlineStrings"
   ]
  },
  {
   "cell_type": "code",
   "execution_count": 12,
   "metadata": {},
   "outputs": [
    {
     "name": "stderr",
     "output_type": "stream",
     "text": [
      "\u001b[32m\u001b[1m   Resolving\u001b[22m\u001b[39m package versions...\n"
     ]
    },
    {
     "name": "stderr",
     "output_type": "stream",
     "text": [
      "\u001b[32m\u001b[1m    Updating\u001b[22m\u001b[39m `~/.julia/environments/v1.8/Project.toml`\n",
      " \u001b[90m [10745b16] \u001b[39m\u001b[92m+ Statistics\u001b[39m\n",
      "\u001b[32m\u001b[1m  No Changes\u001b[22m\u001b[39m to `~/.julia/environments/v1.8/Manifest.toml`\n"
     ]
    }
   ],
   "source": [
    "Pkg.add(\"Statistics\")"
   ]
  },
  {
   "cell_type": "code",
   "execution_count": 13,
   "metadata": {},
   "outputs": [],
   "source": [
    "using Statistics"
   ]
  },
  {
   "cell_type": "code",
   "execution_count": 14,
   "metadata": {},
   "outputs": [
    {
     "data": {
      "text/html": [
       "<div><div style = \"float: left;\"><span>2748×13 DataFrame</span></div><div style = \"float: right;\"><span style = \"font-style: italic;\">2723 rows omitted</span></div><div style = \"clear: both;\"></div></div><div class = \"data-frame\" style = \"overflow-x: scroll;\"><table class = \"data-frame\" style = \"margin-bottom: 6px;\"><thead><tr class = \"header\"><th class = \"rowNumber\" style = \"font-weight: bold; text-align: right;\">Row</th><th style = \"text-align: left;\">Series_reference</th><th style = \"text-align: left;\">Period</th><th style = \"text-align: left;\">Type</th><th style = \"text-align: left;\">Data_value</th><th style = \"text-align: left;\">Lower_CI</th><th style = \"text-align: left;\">Upper_CI</th><th style = \"text-align: left;\">Units</th><th style = \"text-align: left;\">Indicator</th><th style = \"text-align: left;\">Cause</th><th style = \"text-align: left;\">Validation</th><th style = \"text-align: left;\">Population</th><th style = \"text-align: left;\">Age</th><th style = \"text-align: left;\">Severity</th></tr><tr class = \"subheader headerLastRow\"><th class = \"rowNumber\" style = \"font-weight: bold; text-align: right;\"></th><th title = \"String7\" style = \"text-align: left;\">String7</th><th title = \"String7\" style = \"text-align: left;\">String7</th><th title = \"String15\" style = \"text-align: left;\">String15</th><th title = \"Float64\" style = \"text-align: left;\">Float64</th><th title = \"Float64\" style = \"text-align: left;\">Float64</th><th title = \"Float64\" style = \"text-align: left;\">Float64</th><th title = \"String\" style = \"text-align: left;\">String</th><th title = \"String\" style = \"text-align: left;\">String</th><th title = \"String31\" style = \"text-align: left;\">String31</th><th title = \"String15\" style = \"text-align: left;\">String15</th><th title = \"String15\" style = \"text-align: left;\">String15</th><th title = \"String15\" style = \"text-align: left;\">String15</th><th title = \"String31\" style = \"text-align: left;\">String31</th></tr></thead><tbody><tr><td class = \"rowNumber\" style = \"font-weight: bold; text-align: right;\">1</td><td style = \"text-align: left;\">W_A11</td><td style = \"text-align: left;\">2000-02</td><td style = \"text-align: left;\">Moving average</td><td style = \"text-align: right;\">59.6667</td><td style = \"text-align: right;\">50.9258</td><td style = \"text-align: right;\">68.4075</td><td style = \"text-align: left;\">Injuries</td><td style = \"text-align: left;\">Number</td><td style = \"text-align: left;\">Assault</td><td style = \"text-align: left;\">Validated</td><td style = \"text-align: left;\">Whole pop</td><td style = \"text-align: left;\">All ages</td><td style = \"text-align: left;\">Fatal</td></tr><tr><td class = \"rowNumber\" style = \"font-weight: bold; text-align: right;\">2</td><td style = \"text-align: left;\">W_A11</td><td style = \"text-align: left;\">2001-03</td><td style = \"text-align: left;\">Moving average</td><td style = \"text-align: right;\">60.0</td><td style = \"text-align: right;\">51.2348</td><td style = \"text-align: right;\">68.7652</td><td style = \"text-align: left;\">Injuries</td><td style = \"text-align: left;\">Number</td><td style = \"text-align: left;\">Assault</td><td style = \"text-align: left;\">Validated</td><td style = \"text-align: left;\">Whole pop</td><td style = \"text-align: left;\">All ages</td><td style = \"text-align: left;\">Fatal</td></tr><tr><td class = \"rowNumber\" style = \"font-weight: bold; text-align: right;\">3</td><td style = \"text-align: left;\">W_A11</td><td style = \"text-align: left;\">2002-04</td><td style = \"text-align: left;\">Moving average</td><td style = \"text-align: right;\">59.0</td><td style = \"text-align: right;\">50.3081</td><td style = \"text-align: right;\">67.6919</td><td style = \"text-align: left;\">Injuries</td><td style = \"text-align: left;\">Number</td><td style = \"text-align: left;\">Assault</td><td style = \"text-align: left;\">Validated</td><td style = \"text-align: left;\">Whole pop</td><td style = \"text-align: left;\">All ages</td><td style = \"text-align: left;\">Fatal</td></tr><tr><td class = \"rowNumber\" style = \"font-weight: bold; text-align: right;\">4</td><td style = \"text-align: left;\">W_A11</td><td style = \"text-align: left;\">2003-05</td><td style = \"text-align: left;\">Moving average</td><td style = \"text-align: right;\">59.0</td><td style = \"text-align: right;\">50.3081</td><td style = \"text-align: right;\">67.6919</td><td style = \"text-align: left;\">Injuries</td><td style = \"text-align: left;\">Number</td><td style = \"text-align: left;\">Assault</td><td style = \"text-align: left;\">Validated</td><td style = \"text-align: left;\">Whole pop</td><td style = \"text-align: left;\">All ages</td><td style = \"text-align: left;\">Fatal</td></tr><tr><td class = \"rowNumber\" style = \"font-weight: bold; text-align: right;\">5</td><td style = \"text-align: left;\">W_A11</td><td style = \"text-align: left;\">2004-06</td><td style = \"text-align: left;\">Moving average</td><td style = \"text-align: right;\">61.3333</td><td style = \"text-align: right;\">52.4713</td><td style = \"text-align: right;\">70.1954</td><td style = \"text-align: left;\">Injuries</td><td style = \"text-align: left;\">Number</td><td style = \"text-align: left;\">Assault</td><td style = \"text-align: left;\">Validated</td><td style = \"text-align: left;\">Whole pop</td><td style = \"text-align: left;\">All ages</td><td style = \"text-align: left;\">Fatal</td></tr><tr><td class = \"rowNumber\" style = \"font-weight: bold; text-align: right;\">6</td><td style = \"text-align: left;\">W_A11</td><td style = \"text-align: left;\">2005-07</td><td style = \"text-align: left;\">Moving average</td><td style = \"text-align: right;\">63.0</td><td style = \"text-align: right;\">54.0183</td><td style = \"text-align: right;\">71.9817</td><td style = \"text-align: left;\">Injuries</td><td style = \"text-align: left;\">Number</td><td style = \"text-align: left;\">Assault</td><td style = \"text-align: left;\">Validated</td><td style = \"text-align: left;\">Whole pop</td><td style = \"text-align: left;\">All ages</td><td style = \"text-align: left;\">Fatal</td></tr><tr><td class = \"rowNumber\" style = \"font-weight: bold; text-align: right;\">7</td><td style = \"text-align: left;\">W_A11</td><td style = \"text-align: left;\">2006-08</td><td style = \"text-align: left;\">Moving average</td><td style = \"text-align: right;\">57.3333</td><td style = \"text-align: right;\">48.7651</td><td style = \"text-align: right;\">65.9016</td><td style = \"text-align: left;\">Injuries</td><td style = \"text-align: left;\">Number</td><td style = \"text-align: left;\">Assault</td><td style = \"text-align: left;\">Validated</td><td style = \"text-align: left;\">Whole pop</td><td style = \"text-align: left;\">All ages</td><td style = \"text-align: left;\">Fatal</td></tr><tr><td class = \"rowNumber\" style = \"font-weight: bold; text-align: right;\">8</td><td style = \"text-align: left;\">W_A11</td><td style = \"text-align: left;\">2007-09</td><td style = \"text-align: left;\">Moving average</td><td style = \"text-align: right;\">63.6667</td><td style = \"text-align: right;\">54.6376</td><td style = \"text-align: right;\">72.6957</td><td style = \"text-align: left;\">Injuries</td><td style = \"text-align: left;\">Number</td><td style = \"text-align: left;\">Assault</td><td style = \"text-align: left;\">Validated</td><td style = \"text-align: left;\">Whole pop</td><td style = \"text-align: left;\">All ages</td><td style = \"text-align: left;\">Fatal</td></tr><tr><td class = \"rowNumber\" style = \"font-weight: bold; text-align: right;\">9</td><td style = \"text-align: left;\">W_A11</td><td style = \"text-align: left;\">2008-10</td><td style = \"text-align: left;\">Moving average</td><td style = \"text-align: right;\">64.0</td><td style = \"text-align: right;\">54.9473</td><td style = \"text-align: right;\">73.0527</td><td style = \"text-align: left;\">Injuries</td><td style = \"text-align: left;\">Number</td><td style = \"text-align: left;\">Assault</td><td style = \"text-align: left;\">Validated</td><td style = \"text-align: left;\">Whole pop</td><td style = \"text-align: left;\">All ages</td><td style = \"text-align: left;\">Fatal</td></tr><tr><td class = \"rowNumber\" style = \"font-weight: bold; text-align: right;\">10</td><td style = \"text-align: left;\">W_A11</td><td style = \"text-align: left;\">2009-11</td><td style = \"text-align: left;\">Moving average</td><td style = \"text-align: right;\">64.3333</td><td style = \"text-align: right;\">55.2571</td><td style = \"text-align: right;\">73.4096</td><td style = \"text-align: left;\">Injuries</td><td style = \"text-align: left;\">Number</td><td style = \"text-align: left;\">Assault</td><td style = \"text-align: left;\">Validated</td><td style = \"text-align: left;\">Whole pop</td><td style = \"text-align: left;\">All ages</td><td style = \"text-align: left;\">Fatal</td></tr><tr><td class = \"rowNumber\" style = \"font-weight: bold; text-align: right;\">11</td><td style = \"text-align: left;\">W_A11</td><td style = \"text-align: left;\">2010-12</td><td style = \"text-align: left;\">Moving average</td><td style = \"text-align: right;\">55.3333</td><td style = \"text-align: right;\">46.9159</td><td style = \"text-align: right;\">63.7508</td><td style = \"text-align: left;\">Injuries</td><td style = \"text-align: left;\">Number</td><td style = \"text-align: left;\">Assault</td><td style = \"text-align: left;\">Validated</td><td style = \"text-align: left;\">Whole pop</td><td style = \"text-align: left;\">All ages</td><td style = \"text-align: left;\">Fatal</td></tr><tr><td class = \"rowNumber\" style = \"font-weight: bold; text-align: right;\">12</td><td style = \"text-align: left;\">W_A11</td><td style = \"text-align: left;\">2011-13</td><td style = \"text-align: left;\">Moving average</td><td style = \"text-align: right;\">54.3333</td><td style = \"text-align: right;\">45.9923</td><td style = \"text-align: right;\">62.6744</td><td style = \"text-align: left;\">Injuries</td><td style = \"text-align: left;\">Number</td><td style = \"text-align: left;\">Assault</td><td style = \"text-align: left;\">Validated</td><td style = \"text-align: left;\">Whole pop</td><td style = \"text-align: left;\">All ages</td><td style = \"text-align: left;\">Fatal</td></tr><tr><td class = \"rowNumber\" style = \"font-weight: bold; text-align: right;\">13</td><td style = \"text-align: left;\">W_A11</td><td style = \"text-align: left;\">2012-14</td><td style = \"text-align: left;\">Moving average</td><td style = \"text-align: right;\">51.3333</td><td style = \"text-align: right;\">43.2258</td><td style = \"text-align: right;\">59.4408</td><td style = \"text-align: left;\">Injuries</td><td style = \"text-align: left;\">Number</td><td style = \"text-align: left;\">Assault</td><td style = \"text-align: left;\">Validated</td><td style = \"text-align: left;\">Whole pop</td><td style = \"text-align: left;\">All ages</td><td style = \"text-align: left;\">Fatal</td></tr><tr><td style = \"text-align: right;\">&vellip;</td><td style = \"text-align: right;\">&vellip;</td><td style = \"text-align: right;\">&vellip;</td><td style = \"text-align: right;\">&vellip;</td><td style = \"text-align: right;\">&vellip;</td><td style = \"text-align: right;\">&vellip;</td><td style = \"text-align: right;\">&vellip;</td><td style = \"text-align: right;\">&vellip;</td><td style = \"text-align: right;\">&vellip;</td><td style = \"text-align: right;\">&vellip;</td><td style = \"text-align: right;\">&vellip;</td><td style = \"text-align: right;\">&vellip;</td><td style = \"text-align: right;\">&vellip;</td><td style = \"text-align: right;\">&vellip;</td></tr><tr><td class = \"rowNumber\" style = \"font-weight: bold; text-align: right;\">2737</td><td style = \"text-align: left;\">p21</td><td style = \"text-align: left;\">2007</td><td style = \"text-align: left;\">Single year</td><td style = \"text-align: right;\">51.0</td><td style = \"text-align: right;\">37.0031</td><td style = \"text-align: right;\">64.9969</td><td style = \"text-align: left;\">Injuries</td><td style = \"text-align: left;\">Number</td><td style = \"text-align: left;\">Pedestrian</td><td style = \"text-align: left;\">Validated</td><td style = \"text-align: left;\">Children</td><td style = \"text-align: left;\">0-14 years</td><td style = \"text-align: left;\">Serious</td></tr><tr><td class = \"rowNumber\" style = \"font-weight: bold; text-align: right;\">2738</td><td style = \"text-align: left;\">p21</td><td style = \"text-align: left;\">2008</td><td style = \"text-align: left;\">Single year</td><td style = \"text-align: right;\">34.0</td><td style = \"text-align: right;\">22.5715</td><td style = \"text-align: right;\">45.4285</td><td style = \"text-align: left;\">Injuries</td><td style = \"text-align: left;\">Number</td><td style = \"text-align: left;\">Pedestrian</td><td style = \"text-align: left;\">Validated</td><td style = \"text-align: left;\">Children</td><td style = \"text-align: left;\">0-14 years</td><td style = \"text-align: left;\">Serious</td></tr><tr><td class = \"rowNumber\" style = \"font-weight: bold; text-align: right;\">2739</td><td style = \"text-align: left;\">p21</td><td style = \"text-align: left;\">2009</td><td style = \"text-align: left;\">Single year</td><td style = \"text-align: right;\">41.0</td><td style = \"text-align: right;\">28.4501</td><td style = \"text-align: right;\">53.5499</td><td style = \"text-align: left;\">Injuries</td><td style = \"text-align: left;\">Number</td><td style = \"text-align: left;\">Pedestrian</td><td style = \"text-align: left;\">Validated</td><td style = \"text-align: left;\">Children</td><td style = \"text-align: left;\">0-14 years</td><td style = \"text-align: left;\">Serious</td></tr><tr><td class = \"rowNumber\" style = \"font-weight: bold; text-align: right;\">2740</td><td style = \"text-align: left;\">p21</td><td style = \"text-align: left;\">2010</td><td style = \"text-align: left;\">Single year</td><td style = \"text-align: right;\">48.0</td><td style = \"text-align: right;\">34.421</td><td style = \"text-align: right;\">61.579</td><td style = \"text-align: left;\">Injuries</td><td style = \"text-align: left;\">Number</td><td style = \"text-align: left;\">Pedestrian</td><td style = \"text-align: left;\">Validated</td><td style = \"text-align: left;\">Children</td><td style = \"text-align: left;\">0-14 years</td><td style = \"text-align: left;\">Serious</td></tr><tr><td class = \"rowNumber\" style = \"font-weight: bold; text-align: right;\">2741</td><td style = \"text-align: left;\">p21</td><td style = \"text-align: left;\">2011</td><td style = \"text-align: left;\">Single year</td><td style = \"text-align: right;\">39.0</td><td style = \"text-align: right;\">26.76</td><td style = \"text-align: right;\">51.24</td><td style = \"text-align: left;\">Injuries</td><td style = \"text-align: left;\">Number</td><td style = \"text-align: left;\">Pedestrian</td><td style = \"text-align: left;\">Validated</td><td style = \"text-align: left;\">Children</td><td style = \"text-align: left;\">0-14 years</td><td style = \"text-align: left;\">Serious</td></tr><tr><td class = \"rowNumber\" style = \"font-weight: bold; text-align: right;\">2742</td><td style = \"text-align: left;\">p21</td><td style = \"text-align: left;\">2012</td><td style = \"text-align: left;\">Single year</td><td style = \"text-align: right;\">32.0</td><td style = \"text-align: right;\">20.9128</td><td style = \"text-align: right;\">43.0872</td><td style = \"text-align: left;\">Injuries</td><td style = \"text-align: left;\">Number</td><td style = \"text-align: left;\">Pedestrian</td><td style = \"text-align: left;\">Validated</td><td style = \"text-align: left;\">Children</td><td style = \"text-align: left;\">0-14 years</td><td style = \"text-align: left;\">Serious</td></tr><tr><td class = \"rowNumber\" style = \"font-weight: bold; text-align: right;\">2743</td><td style = \"text-align: left;\">p21</td><td style = \"text-align: left;\">2013</td><td style = \"text-align: left;\">Single year</td><td style = \"text-align: right;\">37.0</td><td style = \"text-align: right;\">25.078</td><td style = \"text-align: right;\">48.922</td><td style = \"text-align: left;\">Injuries</td><td style = \"text-align: left;\">Number</td><td style = \"text-align: left;\">Pedestrian</td><td style = \"text-align: left;\">Validated</td><td style = \"text-align: left;\">Children</td><td style = \"text-align: left;\">0-14 years</td><td style = \"text-align: left;\">Serious</td></tr><tr><td class = \"rowNumber\" style = \"font-weight: bold; text-align: right;\">2744</td><td style = \"text-align: left;\">p21</td><td style = \"text-align: left;\">2014</td><td style = \"text-align: left;\">Single year</td><td style = \"text-align: right;\">46.0</td><td style = \"text-align: right;\">32.7069</td><td style = \"text-align: right;\">59.2931</td><td style = \"text-align: left;\">Injuries</td><td style = \"text-align: left;\">Number</td><td style = \"text-align: left;\">Pedestrian</td><td style = \"text-align: left;\">Validated</td><td style = \"text-align: left;\">Children</td><td style = \"text-align: left;\">0-14 years</td><td style = \"text-align: left;\">Serious</td></tr><tr><td class = \"rowNumber\" style = \"font-weight: bold; text-align: right;\">2745</td><td style = \"text-align: left;\">p21</td><td style = \"text-align: left;\">2015</td><td style = \"text-align: left;\">Single year</td><td style = \"text-align: right;\">41.0</td><td style = \"text-align: right;\">28.4501</td><td style = \"text-align: right;\">53.5499</td><td style = \"text-align: left;\">Injuries</td><td style = \"text-align: left;\">Number</td><td style = \"text-align: left;\">Pedestrian</td><td style = \"text-align: left;\">Validated</td><td style = \"text-align: left;\">Children</td><td style = \"text-align: left;\">0-14 years</td><td style = \"text-align: left;\">Serious</td></tr><tr><td class = \"rowNumber\" style = \"font-weight: bold; text-align: right;\">2746</td><td style = \"text-align: left;\">p21</td><td style = \"text-align: left;\">2016</td><td style = \"text-align: left;\">Single year</td><td style = \"text-align: right;\">36.0</td><td style = \"text-align: right;\">24.2402</td><td style = \"text-align: right;\">47.7598</td><td style = \"text-align: left;\">Injuries</td><td style = \"text-align: left;\">Number</td><td style = \"text-align: left;\">Pedestrian</td><td style = \"text-align: left;\">Validated</td><td style = \"text-align: left;\">Children</td><td style = \"text-align: left;\">0-14 years</td><td style = \"text-align: left;\">Serious</td></tr><tr><td class = \"rowNumber\" style = \"font-weight: bold; text-align: right;\">2747</td><td style = \"text-align: left;\">p21</td><td style = \"text-align: left;\">2017</td><td style = \"text-align: left;\">Single year</td><td style = \"text-align: right;\">40.0</td><td style = \"text-align: right;\">27.6041</td><td style = \"text-align: right;\">52.3959</td><td style = \"text-align: left;\">Injuries</td><td style = \"text-align: left;\">Number</td><td style = \"text-align: left;\">Pedestrian</td><td style = \"text-align: left;\">Validated</td><td style = \"text-align: left;\">Children</td><td style = \"text-align: left;\">0-14 years</td><td style = \"text-align: left;\">Serious</td></tr><tr><td class = \"rowNumber\" style = \"font-weight: bold; text-align: right;\">2748</td><td style = \"text-align: left;\">p21</td><td style = \"text-align: left;\">2018</td><td style = \"text-align: left;\">Single year</td><td style = \"text-align: right;\">41.0</td><td style = \"text-align: right;\">28.4501</td><td style = \"text-align: right;\">53.5499</td><td style = \"text-align: left;\">Injuries</td><td style = \"text-align: left;\">Number</td><td style = \"text-align: left;\">Pedestrian</td><td style = \"text-align: left;\">Validated</td><td style = \"text-align: left;\">Children</td><td style = \"text-align: left;\">0-14 years</td><td style = \"text-align: left;\">Serious</td></tr></tbody></table></div>"
      ],
      "text/latex": [
       "\\begin{tabular}{r|cccccccc}\n",
       "\t& Series\\_reference & Period & Type & Data\\_value & Lower\\_CI & Upper\\_CI & Units & \\\\\n",
       "\t\\hline\n",
       "\t& String7 & String7 & String15 & Float64 & Float64 & Float64 & String & \\\\\n",
       "\t\\hline\n",
       "\t1 & W\\_A11 & 2000-02 & Moving average & 59.6667 & 50.9258 & 68.4075 & Injuries & $\\dots$ \\\\\n",
       "\t2 & W\\_A11 & 2001-03 & Moving average & 60.0 & 51.2348 & 68.7652 & Injuries & $\\dots$ \\\\\n",
       "\t3 & W\\_A11 & 2002-04 & Moving average & 59.0 & 50.3081 & 67.6919 & Injuries & $\\dots$ \\\\\n",
       "\t4 & W\\_A11 & 2003-05 & Moving average & 59.0 & 50.3081 & 67.6919 & Injuries & $\\dots$ \\\\\n",
       "\t5 & W\\_A11 & 2004-06 & Moving average & 61.3333 & 52.4713 & 70.1954 & Injuries & $\\dots$ \\\\\n",
       "\t6 & W\\_A11 & 2005-07 & Moving average & 63.0 & 54.0183 & 71.9817 & Injuries & $\\dots$ \\\\\n",
       "\t7 & W\\_A11 & 2006-08 & Moving average & 57.3333 & 48.7651 & 65.9016 & Injuries & $\\dots$ \\\\\n",
       "\t8 & W\\_A11 & 2007-09 & Moving average & 63.6667 & 54.6376 & 72.6957 & Injuries & $\\dots$ \\\\\n",
       "\t9 & W\\_A11 & 2008-10 & Moving average & 64.0 & 54.9473 & 73.0527 & Injuries & $\\dots$ \\\\\n",
       "\t10 & W\\_A11 & 2009-11 & Moving average & 64.3333 & 55.2571 & 73.4096 & Injuries & $\\dots$ \\\\\n",
       "\t11 & W\\_A11 & 2010-12 & Moving average & 55.3333 & 46.9159 & 63.7508 & Injuries & $\\dots$ \\\\\n",
       "\t12 & W\\_A11 & 2011-13 & Moving average & 54.3333 & 45.9923 & 62.6744 & Injuries & $\\dots$ \\\\\n",
       "\t13 & W\\_A11 & 2012-14 & Moving average & 51.3333 & 43.2258 & 59.4408 & Injuries & $\\dots$ \\\\\n",
       "\t14 & W\\_A11 & 2013-15 & Moving average & 52.0 & 43.84 & 60.16 & Injuries & $\\dots$ \\\\\n",
       "\t15 & W\\_A11 & 2014-16 & Moving average & 54.0 & 45.6846 & 62.3154 & Injuries & $\\dots$ \\\\\n",
       "\t16 & W\\_A11 & 2015-17 & Moving average & 52.3333 & 44.1472 & 60.5194 & Injuries & $\\dots$ \\\\\n",
       "\t17 & W\\_A11 & 2016-18 & Moving average & 53.3333 & 45.0694 & 61.5973 & Injuries & $\\dots$ \\\\\n",
       "\t18 & W\\_A12 & 2000-02 & Moving average & 1.54334 & 1.31706 & 1.76962 & Per 100,000 people & $\\dots$ \\\\\n",
       "\t19 & W\\_A12 & 2001-03 & Moving average & 1.52551 & 1.30261 & 1.74841 & Per 100,000 people & $\\dots$ \\\\\n",
       "\t20 & W\\_A12 & 2002-04 & Moving average & 1.46486 & 1.24905 & 1.68066 & Per 100,000 people & $\\dots$ \\\\\n",
       "\t21 & W\\_A12 & 2003-05 & Moving average & 1.44434 & 1.23154 & 1.65714 & Per 100,000 people & $\\dots$ \\\\\n",
       "\t22 & W\\_A12 & 2004-06 & Moving average & 1.48814 & 1.27303 & 1.70324 & Per 100,000 people & $\\dots$ \\\\\n",
       "\t23 & W\\_A12 & 2005-07 & Moving average & 1.50869 & 1.29341 & 1.72398 & Per 100,000 people & $\\dots$ \\\\\n",
       "\t24 & W\\_A12 & 2006-08 & Moving average & 1.35602 & 1.15307 & 1.55898 & Per 100,000 people & $\\dots$ \\\\\n",
       "\t$\\dots$ & $\\dots$ & $\\dots$ & $\\dots$ & $\\dots$ & $\\dots$ & $\\dots$ & $\\dots$ &  \\\\\n",
       "\\end{tabular}\n"
      ],
      "text/plain": [
       "\u001b[1m2748×13 DataFrame\u001b[0m\n",
       "\u001b[1m  Row \u001b[0m│\u001b[1m Series_reference \u001b[0m\u001b[1m Period  \u001b[0m\u001b[1m Type           \u001b[0m\u001b[1m Data_value \u001b[0m\u001b[1m Lower_CI \u001b[0m\u001b[1m Upper\u001b[0m ⋯\n",
       "      │\u001b[90m String7          \u001b[0m\u001b[90m String7 \u001b[0m\u001b[90m String15       \u001b[0m\u001b[90m Float64    \u001b[0m\u001b[90m Float64  \u001b[0m\u001b[90m Float\u001b[0m ⋯\n",
       "──────┼─────────────────────────────────────────────────────────────────────────\n",
       "    1 │ W_A11             2000-02  Moving average     59.6667   50.9258   68.4 ⋯\n",
       "    2 │ W_A11             2001-03  Moving average     60.0      51.2348   68.7\n",
       "    3 │ W_A11             2002-04  Moving average     59.0      50.3081   67.6\n",
       "    4 │ W_A11             2003-05  Moving average     59.0      50.3081   67.6\n",
       "    5 │ W_A11             2004-06  Moving average     61.3333   52.4713   70.1 ⋯\n",
       "    6 │ W_A11             2005-07  Moving average     63.0      54.0183   71.9\n",
       "    7 │ W_A11             2006-08  Moving average     57.3333   48.7651   65.9\n",
       "    8 │ W_A11             2007-09  Moving average     63.6667   54.6376   72.6\n",
       "  ⋮   │        ⋮             ⋮           ⋮             ⋮          ⋮         ⋮  ⋱\n",
       " 2742 │ p21               2012     Single year        32.0      20.9128   43.0 ⋯\n",
       " 2743 │ p21               2013     Single year        37.0      25.078    48.9\n",
       " 2744 │ p21               2014     Single year        46.0      32.7069   59.2\n",
       " 2745 │ p21               2015     Single year        41.0      28.4501   53.5\n",
       " 2746 │ p21               2016     Single year        36.0      24.2402   47.7 ⋯\n",
       " 2747 │ p21               2017     Single year        40.0      27.6041   52.3\n",
       " 2748 │ p21               2018     Single year        41.0      28.4501   53.5\n",
       "\u001b[36m                                                 8 columns and 2733 rows omitted\u001b[0m"
      ]
     },
     "metadata": {},
     "output_type": "display_data"
    }
   ],
   "source": [
    "# Load the dataset\n",
    "df = DataFrame(CSV.File(\"serious-injury-outcome-indicators-2000-2020-CSV.csv\"))"
   ]
  },
  {
   "cell_type": "code",
   "execution_count": 15,
   "metadata": {},
   "outputs": [
    {
     "data": {
      "text/html": [
       "<div><div style = \"float: left;\"><span>13×7 DataFrame</span></div><div style = \"clear: both;\"></div></div><div class = \"data-frame\" style = \"overflow-x: scroll;\"><table class = \"data-frame\" style = \"margin-bottom: 6px;\"><thead><tr class = \"header\"><th class = \"rowNumber\" style = \"font-weight: bold; text-align: right;\">Row</th><th style = \"text-align: left;\">variable</th><th style = \"text-align: left;\">mean</th><th style = \"text-align: left;\">min</th><th style = \"text-align: left;\">median</th><th style = \"text-align: left;\">max</th><th style = \"text-align: left;\">nmissing</th><th style = \"text-align: left;\">eltype</th></tr><tr class = \"subheader headerLastRow\"><th class = \"rowNumber\" style = \"font-weight: bold; text-align: right;\"></th><th title = \"Symbol\" style = \"text-align: left;\">Symbol</th><th title = \"Union{Nothing, Float64}\" style = \"text-align: left;\">Union…</th><th title = \"Any\" style = \"text-align: left;\">Any</th><th title = \"Union{Nothing, Float64}\" style = \"text-align: left;\">Union…</th><th title = \"Any\" style = \"text-align: left;\">Any</th><th title = \"Int64\" style = \"text-align: left;\">Int64</th><th title = \"DataType\" style = \"text-align: left;\">DataType</th></tr></thead><tbody><tr><td class = \"rowNumber\" style = \"font-weight: bold; text-align: right;\">1</td><td style = \"text-align: left;\">Series_reference</td><td style = \"font-style: italic; text-align: left;\"></td><td style = \"text-align: left;\">C_A21</td><td style = \"font-style: italic; text-align: left;\"></td><td style = \"text-align: left;\">wf02</td><td style = \"text-align: right;\">0</td><td style = \"text-align: left;\">String7</td></tr><tr><td class = \"rowNumber\" style = \"font-weight: bold; text-align: right;\">2</td><td style = \"text-align: left;\">Period</td><td style = \"font-style: italic; text-align: left;\"></td><td style = \"text-align: left;\">2000</td><td style = \"font-style: italic; text-align: left;\"></td><td style = \"text-align: left;\">2020</td><td style = \"text-align: right;\">0</td><td style = \"text-align: left;\">String7</td></tr><tr><td class = \"rowNumber\" style = \"font-weight: bold; text-align: right;\">3</td><td style = \"text-align: left;\">Type</td><td style = \"font-style: italic; text-align: left;\"></td><td style = \"text-align: left;\">Moving average</td><td style = \"font-style: italic; text-align: left;\"></td><td style = \"text-align: left;\">Single year</td><td style = \"text-align: right;\">0</td><td style = \"text-align: left;\">String15</td></tr><tr><td class = \"rowNumber\" style = \"font-weight: bold; text-align: right;\">4</td><td style = \"text-align: left;\">Data_value</td><td style = \"text-align: left;\">490.518</td><td style = \"text-align: left;\">0.713333</td><td style = \"text-align: left;\">63.0</td><td style = \"text-align: left;\">14141.0</td><td style = \"text-align: right;\">0</td><td style = \"text-align: left;\">Float64</td></tr><tr><td class = \"rowNumber\" style = \"font-weight: bold; text-align: right;\">5</td><td style = \"text-align: left;\">Lower_CI</td><td style = \"text-align: left;\">464.676</td><td style = \"text-align: left;\">0.191677</td><td style = \"text-align: left;\">50.9238</td><td style = \"text-align: left;\">13907.9</td><td style = \"text-align: right;\">0</td><td style = \"text-align: left;\">Float64</td></tr><tr><td class = \"rowNumber\" style = \"font-weight: bold; text-align: right;\">6</td><td style = \"text-align: left;\">Upper_CI</td><td style = \"text-align: left;\">516.36</td><td style = \"text-align: left;\">0.801232</td><td style = \"text-align: left;\">72.9266</td><td style = \"text-align: left;\">14374.1</td><td style = \"text-align: right;\">0</td><td style = \"text-align: left;\">Float64</td></tr><tr><td class = \"rowNumber\" style = \"font-weight: bold; text-align: right;\">7</td><td style = \"text-align: left;\">Units</td><td style = \"font-style: italic; text-align: left;\"></td><td style = \"text-align: left;\">Injuries</td><td style = \"font-style: italic; text-align: left;\"></td><td style = \"text-align: left;\">Per thousand registered vehicles</td><td style = \"text-align: right;\">0</td><td style = \"text-align: left;\">String</td></tr><tr><td class = \"rowNumber\" style = \"font-weight: bold; text-align: right;\">8</td><td style = \"text-align: left;\">Indicator</td><td style = \"font-style: italic; text-align: left;\"></td><td style = \"text-align: left;\">Age-standardised rate</td><td style = \"font-style: italic; text-align: left;\"></td><td style = \"text-align: left;\">Rate per thousand registered vehicles</td><td style = \"text-align: right;\">0</td><td style = \"text-align: left;\">String</td></tr><tr><td class = \"rowNumber\" style = \"font-weight: bold; text-align: right;\">9</td><td style = \"text-align: left;\">Cause</td><td style = \"font-style: italic; text-align: left;\"></td><td style = \"text-align: left;\">All</td><td style = \"font-style: italic; text-align: left;\"></td><td style = \"text-align: left;\">Work</td><td style = \"text-align: right;\">0</td><td style = \"text-align: left;\">String31</td></tr><tr><td class = \"rowNumber\" style = \"font-weight: bold; text-align: right;\">10</td><td style = \"text-align: left;\">Validation</td><td style = \"font-style: italic; text-align: left;\"></td><td style = \"text-align: left;\">Provisional</td><td style = \"font-style: italic; text-align: left;\"></td><td style = \"text-align: left;\">Validated</td><td style = \"text-align: right;\">0</td><td style = \"text-align: left;\">String15</td></tr><tr><td class = \"rowNumber\" style = \"font-weight: bold; text-align: right;\">11</td><td style = \"text-align: left;\">Population</td><td style = \"font-style: italic; text-align: left;\"></td><td style = \"text-align: left;\">Children</td><td style = \"font-style: italic; text-align: left;\"></td><td style = \"text-align: left;\">Whole pop</td><td style = \"text-align: right;\">0</td><td style = \"text-align: left;\">String15</td></tr><tr><td class = \"rowNumber\" style = \"font-weight: bold; text-align: right;\">12</td><td style = \"text-align: left;\">Age</td><td style = \"font-style: italic; text-align: left;\"></td><td style = \"text-align: left;\">0-14 years</td><td style = \"font-style: italic; text-align: left;\"></td><td style = \"text-align: left;\">All ages</td><td style = \"text-align: right;\">0</td><td style = \"text-align: left;\">String15</td></tr><tr><td class = \"rowNumber\" style = \"font-weight: bold; text-align: right;\">13</td><td style = \"text-align: left;\">Severity</td><td style = \"font-style: italic; text-align: left;\"></td><td style = \"text-align: left;\">Fatal</td><td style = \"font-style: italic; text-align: left;\"></td><td style = \"text-align: left;\">Serious non-fatal</td><td style = \"text-align: right;\">0</td><td style = \"text-align: left;\">String31</td></tr></tbody></table></div>"
      ],
      "text/latex": [
       "\\begin{tabular}{r|cccccc}\n",
       "\t& variable & mean & min & median & max & \\\\\n",
       "\t\\hline\n",
       "\t& Symbol & Union… & Any & Union… & Any & \\\\\n",
       "\t\\hline\n",
       "\t1 & Series\\_reference &  & C\\_A21 &  & wf02 & $\\dots$ \\\\\n",
       "\t2 & Period &  & 2000 &  & 2020 & $\\dots$ \\\\\n",
       "\t3 & Type &  & Moving average &  & Single year & $\\dots$ \\\\\n",
       "\t4 & Data\\_value & 490.518 & 0.713333 & 63.0 & 14141.0 & $\\dots$ \\\\\n",
       "\t5 & Lower\\_CI & 464.676 & 0.191677 & 50.9238 & 13907.9 & $\\dots$ \\\\\n",
       "\t6 & Upper\\_CI & 516.36 & 0.801232 & 72.9266 & 14374.1 & $\\dots$ \\\\\n",
       "\t7 & Units &  & Injuries &  & Per thousand registered vehicles & $\\dots$ \\\\\n",
       "\t8 & Indicator &  & Age-standardised rate &  & Rate per thousand registered vehicles & $\\dots$ \\\\\n",
       "\t9 & Cause &  & All &  & Work & $\\dots$ \\\\\n",
       "\t10 & Validation &  & Provisional &  & Validated & $\\dots$ \\\\\n",
       "\t11 & Population &  & Children &  & Whole pop & $\\dots$ \\\\\n",
       "\t12 & Age &  & 0-14 years &  & All ages & $\\dots$ \\\\\n",
       "\t13 & Severity &  & Fatal &  & Serious non-fatal & $\\dots$ \\\\\n",
       "\\end{tabular}\n"
      ],
      "text/plain": [
       "\u001b[1m13×7 DataFrame\u001b[0m\n",
       "\u001b[1m Row \u001b[0m│\u001b[1m variable         \u001b[0m\u001b[1m mean    \u001b[0m\u001b[1m min                   \u001b[0m\u001b[1m median  \u001b[0m\u001b[1m max         \u001b[0m ⋯\n",
       "     │\u001b[90m Symbol           \u001b[0m\u001b[90m Union…  \u001b[0m\u001b[90m Any                   \u001b[0m\u001b[90m Union…  \u001b[0m\u001b[90m Any         \u001b[0m ⋯\n",
       "─────┼──────────────────────────────────────────────────────────────────────────\n",
       "   1 │ Series_reference \u001b[90m         \u001b[0m C_A21                 \u001b[90m         \u001b[0m wf02         ⋯\n",
       "   2 │ Period           \u001b[90m         \u001b[0m 2000                  \u001b[90m         \u001b[0m 2020\n",
       "   3 │ Type             \u001b[90m         \u001b[0m Moving average        \u001b[90m         \u001b[0m Single year\n",
       "   4 │ Data_value        490.518  0.713333               63.0     14141.0\n",
       "   5 │ Lower_CI          464.676  0.191677               50.9238  13907.9      ⋯\n",
       "   6 │ Upper_CI          516.36   0.801232               72.9266  14374.1\n",
       "   7 │ Units            \u001b[90m         \u001b[0m Injuries              \u001b[90m         \u001b[0m Per thousand\n",
       "   8 │ Indicator        \u001b[90m         \u001b[0m Age-standardised rate \u001b[90m         \u001b[0m Rate per tho\n",
       "   9 │ Cause            \u001b[90m         \u001b[0m All                   \u001b[90m         \u001b[0m Work         ⋯\n",
       "  10 │ Validation       \u001b[90m         \u001b[0m Provisional           \u001b[90m         \u001b[0m Validated\n",
       "  11 │ Population       \u001b[90m         \u001b[0m Children              \u001b[90m         \u001b[0m Whole pop\n",
       "  12 │ Age              \u001b[90m         \u001b[0m 0-14 years            \u001b[90m         \u001b[0m All ages\n",
       "  13 │ Severity         \u001b[90m         \u001b[0m Fatal                 \u001b[90m         \u001b[0m Serious non- ⋯\n",
       "\u001b[36m                                                               3 columns omitted\u001b[0m"
      ]
     },
     "metadata": {},
     "output_type": "display_data"
    }
   ],
   "source": [
    "# Describe the dataframe\n",
    "describe(df)"
   ]
  },
  {
   "cell_type": "code",
   "execution_count": 16,
   "metadata": {},
   "outputs": [
    {
     "data": {
      "text/html": [
       "<div><div style = \"float: left;\"><span>DataFrameRow (13 columns)</span></div><div style = \"clear: both;\"></div></div><div class = \"data-frame\" style = \"overflow-x: scroll;\"><table class = \"data-frame\" style = \"margin-bottom: 6px;\"><thead><tr class = \"header\"><th class = \"rowLabel\" style = \"font-weight: bold; text-align: right;\">Row</th><th style = \"text-align: left;\">Series_reference</th><th style = \"text-align: left;\">Period</th><th style = \"text-align: left;\">Type</th><th style = \"text-align: left;\">Data_value</th><th style = \"text-align: left;\">Lower_CI</th><th style = \"text-align: left;\">Upper_CI</th><th style = \"text-align: left;\">Units</th><th style = \"text-align: left;\">Indicator</th><th style = \"text-align: left;\">Cause</th><th style = \"text-align: left;\">Validation</th><th style = \"text-align: left;\">Population</th><th style = \"text-align: left;\">Age</th><th style = \"text-align: left;\">Severity</th></tr><tr class = \"subheader headerLastRow\"><th class = \"rowLabel\" style = \"font-weight: bold; text-align: right;\"></th><th title = \"String7\" style = \"text-align: left;\">String7</th><th title = \"String7\" style = \"text-align: left;\">String7</th><th title = \"String15\" style = \"text-align: left;\">String15</th><th title = \"Float64\" style = \"text-align: left;\">Float64</th><th title = \"Float64\" style = \"text-align: left;\">Float64</th><th title = \"Float64\" style = \"text-align: left;\">Float64</th><th title = \"String\" style = \"text-align: left;\">String</th><th title = \"String\" style = \"text-align: left;\">String</th><th title = \"String31\" style = \"text-align: left;\">String31</th><th title = \"String15\" style = \"text-align: left;\">String15</th><th title = \"String15\" style = \"text-align: left;\">String15</th><th title = \"String15\" style = \"text-align: left;\">String15</th><th title = \"String31\" style = \"text-align: left;\">String31</th></tr></thead><tbody><tr><td class = \"rowLabel\" style = \"font-weight: bold; text-align: right;\">1</td><td style = \"text-align: left;\">W_A11</td><td style = \"text-align: left;\">2000-02</td><td style = \"text-align: left;\">Moving average</td><td style = \"text-align: right;\">59.6667</td><td style = \"text-align: right;\">50.9258</td><td style = \"text-align: right;\">68.4075</td><td style = \"text-align: left;\">Injuries</td><td style = \"text-align: left;\">Number</td><td style = \"text-align: left;\">Assault</td><td style = \"text-align: left;\">Validated</td><td style = \"text-align: left;\">Whole pop</td><td style = \"text-align: left;\">All ages</td><td style = \"text-align: left;\">Fatal</td></tr></tbody></table></div>"
      ],
      "text/latex": [
       "\\begin{tabular}{r|cccccccc}\n",
       "\t& Series\\_reference & Period & Type & Data\\_value & Lower\\_CI & Upper\\_CI & Units & \\\\\n",
       "\t\\hline\n",
       "\t& String7 & String7 & String15 & Float64 & Float64 & Float64 & String & \\\\\n",
       "\t\\hline\n",
       "\t1 & W\\_A11 & 2000-02 & Moving average & 59.6667 & 50.9258 & 68.4075 & Injuries & $\\dots$ \\\\\n",
       "\\end{tabular}\n"
      ],
      "text/plain": [
       "\u001b[1mDataFrameRow\u001b[0m\n",
       "\u001b[1m Row \u001b[0m│\u001b[1m Series_reference \u001b[0m\u001b[1m Period  \u001b[0m\u001b[1m Type           \u001b[0m\u001b[1m Data_value \u001b[0m\u001b[1m Lower_CI \u001b[0m\u001b[1m Upper_\u001b[0m ⋯\n",
       "     │\u001b[90m String7          \u001b[0m\u001b[90m String7 \u001b[0m\u001b[90m String15       \u001b[0m\u001b[90m Float64    \u001b[0m\u001b[90m Float64  \u001b[0m\u001b[90m Float6\u001b[0m ⋯\n",
       "─────┼──────────────────────────────────────────────────────────────────────────\n",
       "   1 │ W_A11             2000-02  Moving average     59.6667   50.9258   68.40 ⋯\n",
       "\u001b[36m                                                               8 columns omitted\u001b[0m"
      ]
     },
     "metadata": {},
     "output_type": "display_data"
    }
   ],
   "source": [
    "first(df)"
   ]
  },
  {
   "cell_type": "code",
   "execution_count": 17,
   "metadata": {},
   "outputs": [
    {
     "data": {
      "application/vnd.dataresource+json": {
       "data": [
        {
         "Age": "0-14 years",
         "Cause": "Intentional",
         "Data_value": 40,
         "Indicator": "Number",
         "Lower_CI": 32.8432234251313,
         "Period": "2004-06",
         "Population": "Children",
         "Series_reference": "C_IN01",
         "Severity": "Serious non-fatal",
         "Type": "Moving average",
         "Units": "Injuries",
         "Upper_CI": 47.1567765748686,
         "Validation": "Validated"
        },
        {
         "Age": "0-14 years",
         "Cause": "Assault",
         "Data_value": 40,
         "Indicator": "Number",
         "Lower_CI": 32.8432234251313,
         "Period": "2003-05",
         "Population": "Children",
         "Series_reference": "C_A21",
         "Severity": "Serious",
         "Type": "Moving average",
         "Units": "Injuries",
         "Upper_CI": 47.1567765748686,
         "Validation": "Validated"
        },
        {
         "Age": "All ages",
         "Cause": "Assault",
         "Data_value": 40,
         "Indicator": "Number",
         "Lower_CI": 27.6040993539087,
         "Period": "2017",
         "Population": "Whole pop",
         "Series_reference": "a11",
         "Severity": "Fatal",
         "Type": "Single year",
         "Units": "Injuries",
         "Upper_CI": 52.3959006460912,
         "Validation": "Validated"
        },
        {
         "Age": "0-14 years",
         "Cause": "Intentional",
         "Data_value": 40,
         "Indicator": "Number",
         "Lower_CI": 27.6040993539087,
         "Period": "2005",
         "Population": "Children",
         "Series_reference": "in01",
         "Severity": "Serious non-fatal",
         "Type": "Single year",
         "Units": "Injuries",
         "Upper_CI": 52.3959006460912,
         "Validation": "Validated"
        },
        {
         "Age": "0-14 years",
         "Cause": "Intentional",
         "Data_value": 40,
         "Indicator": "Number",
         "Lower_CI": 27.6040993539087,
         "Period": "2012",
         "Population": "Children",
         "Series_reference": "in01",
         "Severity": "Serious non-fatal",
         "Type": "Single year",
         "Units": "Injuries",
         "Upper_CI": 52.3959006460912,
         "Validation": "Validated"
        },
        {
         "Age": "0-14 years",
         "Cause": "Intentional",
         "Data_value": 40,
         "Indicator": "Number",
         "Lower_CI": 27.6040993539087,
         "Period": "2016",
         "Population": "Children",
         "Series_reference": "in01",
         "Severity": "Serious non-fatal",
         "Type": "Single year",
         "Units": "Injuries",
         "Upper_CI": 52.3959006460912,
         "Validation": "Validated"
        },
        {
         "Age": "0-14 years",
         "Cause": "Intentional",
         "Data_value": 40,
         "Indicator": "Number",
         "Lower_CI": 27.6040993539087,
         "Period": "2019",
         "Population": "Children",
         "Series_reference": "in01",
         "Severity": "Serious non-fatal",
         "Type": "Single year",
         "Units": "Injuries",
         "Upper_CI": 52.3959006460912,
         "Validation": "Validated"
        },
        {
         "Age": "0-14 years",
         "Cause": "Assault",
         "Data_value": 40,
         "Indicator": "Number",
         "Lower_CI": 27.6040993539087,
         "Period": "2017",
         "Population": "Children",
         "Series_reference": "a21",
         "Severity": "Serious",
         "Type": "Single year",
         "Units": "Injuries",
         "Upper_CI": 52.3959006460912,
         "Validation": "Validated"
        },
        {
         "Age": "0-14 years",
         "Cause": "Pedestrian",
         "Data_value": 40,
         "Indicator": "Number",
         "Lower_CI": 27.6040993539087,
         "Period": "2017",
         "Population": "Children",
         "Series_reference": "p21",
         "Severity": "Serious",
         "Type": "Single year",
         "Units": "Injuries",
         "Upper_CI": 52.3959006460912,
         "Validation": "Validated"
        },
        {
         "Age": "0-14 years",
         "Cause": "Intentional",
         "Data_value": 39.6666666666666,
         "Indicator": "Number",
         "Lower_CI": 32.5397723791994,
         "Period": "2011-13",
         "Population": "Children",
         "Series_reference": "C_IN01",
         "Severity": "Serious non-fatal",
         "Type": "Moving average",
         "Units": "Injuries",
         "Upper_CI": 46.7935609541339,
         "Validation": "Validated"
        },
        {
         "Age": "0-14 years",
         "Cause": "Pedestrian",
         "Data_value": 39.6666666666666,
         "Indicator": "Number",
         "Lower_CI": 32.5397723791994,
         "Period": "2010-12",
         "Population": "Children",
         "Series_reference": "C_P21",
         "Severity": "Serious",
         "Type": "Moving average",
         "Units": "Injuries",
         "Upper_CI": 46.7935609541339,
         "Validation": "Validated"
        },
        {
         "Age": "0-14 years",
         "Cause": "Pedestrian",
         "Data_value": 39,
         "Indicator": "Number",
         "Lower_CI": 31.9332493556781,
         "Period": "2015-17",
         "Population": "Children",
         "Series_reference": "C_P21",
         "Severity": "Serious",
         "Type": "Moving average",
         "Units": "Injuries",
         "Upper_CI": 46.0667506443218,
         "Validation": "Validated"
        },
        {
         "Age": "0-14 years",
         "Cause": "Pedestrian",
         "Data_value": 39,
         "Indicator": "Number",
         "Lower_CI": 31.9332493556781,
         "Period": "2016-18",
         "Population": "Children",
         "Series_reference": "C_P21",
         "Severity": "Serious",
         "Type": "Moving average",
         "Units": "Injuries",
         "Upper_CI": 46.0667506443218,
         "Validation": "Validated"
        },
        {
         "Age": "75+ years",
         "Cause": "Falls",
         "Data_value": 39,
         "Indicator": "Number",
         "Lower_CI": 26.7600288396144,
         "Period": "2004",
         "Population": "Maori",
         "Series_reference": "f01c",
         "Severity": "Serious non-fatal",
         "Type": "Single year",
         "Units": "Injuries",
         "Upper_CI": 51.2399711603856,
         "Validation": "Validated"
        },
        {
         "Age": "0-14 years",
         "Cause": "Intentional",
         "Data_value": 39,
         "Indicator": "Number",
         "Lower_CI": 26.7600288396144,
         "Period": "2013",
         "Population": "Children",
         "Series_reference": "in21",
         "Severity": "Serious",
         "Type": "Single year",
         "Units": "Injuries",
         "Upper_CI": 51.2399711603856,
         "Validation": "Validated"
        },
        {
         "Age": "0-14 years",
         "Cause": "Pedestrian",
         "Data_value": 39,
         "Indicator": "Number",
         "Lower_CI": 26.7600288396144,
         "Period": "2011",
         "Population": "Children",
         "Series_reference": "p21",
         "Severity": "Serious",
         "Type": "Single year",
         "Units": "Injuries",
         "Upper_CI": 51.2399711603856,
         "Validation": "Validated"
        },
        {
         "Age": "0-14 years",
         "Cause": "Intentional",
         "Data_value": 38.6666666666666,
         "Indicator": "Number",
         "Lower_CI": 31.6301806181358,
         "Period": "2002-04",
         "Population": "Children",
         "Series_reference": "C_IN01",
         "Severity": "Serious non-fatal",
         "Type": "Moving average",
         "Units": "Injuries",
         "Upper_CI": 45.7031527151974,
         "Validation": "Validated"
        },
        {
         "Age": "0-14 years",
         "Cause": "Pedestrian",
         "Data_value": 38.3333333333333,
         "Indicator": "Number",
         "Lower_CI": 31.3272426150144,
         "Period": "2012-14",
         "Population": "Children",
         "Series_reference": "C_P21",
         "Severity": "Serious",
         "Type": "Moving average",
         "Units": "Injuries",
         "Upper_CI": 45.3394240516522,
         "Validation": "Validated"
        },
        {
         "Age": "75+ years",
         "Cause": "Falls",
         "Data_value": 38,
         "Indicator": "Number",
         "Lower_CI": 31.0244370553009,
         "Period": "2003-05",
         "Population": "Maori",
         "Series_reference": "M_F01C",
         "Severity": "Serious non-fatal",
         "Type": "Moving average",
         "Units": "Injuries",
         "Upper_CI": 44.975562944699,
         "Validation": "Validated"
        },
        {
         "Age": "75+ years",
         "Cause": "Falls",
         "Data_value": 38,
         "Indicator": "Number",
         "Lower_CI": 31.0244370553009,
         "Period": "2002-04",
         "Population": "Maori",
         "Series_reference": "M_F21C",
         "Severity": "Serious",
         "Type": "Moving average",
         "Units": "Injuries",
         "Upper_CI": 44.975562944699,
         "Validation": "Validated"
        },
        {
         "Age": "0-14 years",
         "Cause": "Intentional",
         "Data_value": 38,
         "Indicator": "Number",
         "Lower_CI": 25.9179705683864,
         "Period": "2004",
         "Population": "Children",
         "Series_reference": "in01",
         "Severity": "Serious non-fatal",
         "Type": "Single year",
         "Units": "Injuries",
         "Upper_CI": 50.0820294316135,
         "Validation": "Validated"
        },
        {
         "Age": "0-14 years",
         "Cause": "Assault",
         "Data_value": 37.3333333333333,
         "Indicator": "Number",
         "Lower_CI": 30.4192302910183,
         "Period": "2011-13",
         "Population": "Children",
         "Series_reference": "C_A21",
         "Severity": "Serious",
         "Type": "Moving average",
         "Units": "Injuries",
         "Upper_CI": 44.2474363756483,
         "Validation": "Validated"
        },
        {
         "Age": "0-14 years",
         "Cause": "Intentional",
         "Data_value": 37,
         "Indicator": "Number",
         "Lower_CI": 25.0780045141057,
         "Period": "2008",
         "Population": "Children",
         "Series_reference": "in01",
         "Severity": "Serious non-fatal",
         "Type": "Single year",
         "Units": "Injuries",
         "Upper_CI": 48.9219954858942,
         "Validation": "Validated"
        },
        {
         "Age": "0-14 years",
         "Cause": "Intentional",
         "Data_value": 37,
         "Indicator": "Number",
         "Lower_CI": 25.0780045141057,
         "Period": "2013",
         "Population": "Children",
         "Series_reference": "in01",
         "Severity": "Serious non-fatal",
         "Type": "Single year",
         "Units": "Injuries",
         "Upper_CI": 48.9219954858942,
         "Validation": "Validated"
        },
        {
         "Age": "0-14 years",
         "Cause": "Assault",
         "Data_value": 37,
         "Indicator": "Number",
         "Lower_CI": 25.0780045141057,
         "Period": "2015",
         "Population": "Children",
         "Series_reference": "a21",
         "Severity": "Serious",
         "Type": "Single year",
         "Units": "Injuries",
         "Upper_CI": 48.9219954858942,
         "Validation": "Validated"
        },
        {
         "Age": "0-14 years",
         "Cause": "Pedestrian",
         "Data_value": 37,
         "Indicator": "Number",
         "Lower_CI": 25.0780045141057,
         "Period": "2013",
         "Population": "Children",
         "Series_reference": "p21",
         "Severity": "Serious",
         "Type": "Single year",
         "Units": "Injuries",
         "Upper_CI": 48.9219954858942,
         "Validation": "Validated"
        },
        {
         "Age": "0-14 years",
         "Cause": "Assault",
         "Data_value": 36,
         "Indicator": "Number",
         "Lower_CI": 29.2104855955429,
         "Period": "2015-17",
         "Population": "Children",
         "Series_reference": "C_A21",
         "Severity": "Serious",
         "Type": "Moving average",
         "Units": "Injuries",
         "Upper_CI": 42.789514404457,
         "Validation": "Validated"
        },
        {
         "Age": "0-14 years",
         "Cause": "Pedestrian",
         "Data_value": 36,
         "Indicator": "Number",
         "Lower_CI": 29.2104855955429,
         "Period": "2011-13",
         "Population": "Children",
         "Series_reference": "C_P21",
         "Severity": "Serious",
         "Type": "Moving average",
         "Units": "Injuries",
         "Upper_CI": 42.789514404457,
         "Validation": "Validated"
        },
        {
         "Age": "0-14 years",
         "Cause": "Motor vehicle traffic crashes",
         "Data_value": 36,
         "Indicator": "Number",
         "Lower_CI": 24.2402160927596,
         "Period": "2000",
         "Population": "Children",
         "Series_reference": "m11",
         "Severity": "Fatal",
         "Type": "Single year",
         "Units": "Injuries",
         "Upper_CI": 47.7597839072403,
         "Validation": "Validated"
        },
        {
         "Age": "0-14 years",
         "Cause": "Assault",
         "Data_value": 36,
         "Indicator": "Number",
         "Lower_CI": 24.2402160927596,
         "Period": "2000",
         "Population": "Children",
         "Series_reference": "a21",
         "Severity": "Serious",
         "Type": "Single year",
         "Units": "Injuries",
         "Upper_CI": 47.7597839072403,
         "Validation": "Validated"
        },
        {
         "Age": "0-14 years",
         "Cause": "Assault",
         "Data_value": 36,
         "Indicator": "Number",
         "Lower_CI": 24.2402160927596,
         "Period": "2008",
         "Population": "Children",
         "Series_reference": "a21",
         "Severity": "Serious",
         "Type": "Single year",
         "Units": "Injuries",
         "Upper_CI": 47.7597839072403,
         "Validation": "Validated"
        },
        {
         "Age": "0-14 years",
         "Cause": "Assault",
         "Data_value": 36,
         "Indicator": "Number",
         "Lower_CI": 24.2402160927596,
         "Period": "2012",
         "Population": "Children",
         "Series_reference": "a21",
         "Severity": "Serious",
         "Type": "Single year",
         "Units": "Injuries",
         "Upper_CI": 47.7597839072403,
         "Validation": "Validated"
        },
        {
         "Age": "0-14 years",
         "Cause": "Intentional",
         "Data_value": 36,
         "Indicator": "Number",
         "Lower_CI": 24.2402160927596,
         "Period": "2003",
         "Population": "Children",
         "Series_reference": "in21",
         "Severity": "Serious",
         "Type": "Single year",
         "Units": "Injuries",
         "Upper_CI": 47.7597839072403,
         "Validation": "Validated"
        },
        {
         "Age": "0-14 years",
         "Cause": "Pedestrian",
         "Data_value": 36,
         "Indicator": "Number",
         "Lower_CI": 24.2402160927596,
         "Period": "2016",
         "Population": "Children",
         "Series_reference": "p21",
         "Severity": "Serious",
         "Type": "Single year",
         "Units": "Injuries",
         "Upper_CI": 47.7597839072403,
         "Validation": "Validated"
        },
        {
         "Age": "0-14 years",
         "Cause": "Intentional",
         "Data_value": 35.6666666666666,
         "Indicator": "Number",
         "Lower_CI": 28.9086582995162,
         "Period": "2003-05",
         "Population": "Children",
         "Series_reference": "C_IN01",
         "Severity": "Serious non-fatal",
         "Type": "Moving average",
         "Units": "Injuries",
         "Upper_CI": 42.424675033817,
         "Validation": "Validated"
        },
        {
         "Age": "75+ years",
         "Cause": "Falls",
         "Data_value": 35,
         "Indicator": "Number",
         "Lower_CI": 23.4046966954592,
         "Period": "2003",
         "Population": "Maori",
         "Series_reference": "f21c",
         "Severity": "Serious",
         "Type": "Single year",
         "Units": "Injuries",
         "Upper_CI": 46.5953033045407,
         "Validation": "Validated"
        },
        {
         "Age": "0-14 years",
         "Cause": "Pedestrian",
         "Data_value": 34,
         "Indicator": "Number",
         "Lower_CI": 22.5715442905176,
         "Period": "2008",
         "Population": "Children",
         "Series_reference": "p21",
         "Severity": "Serious",
         "Type": "Single year",
         "Units": "Injuries",
         "Upper_CI": 45.4284557094823,
         "Validation": "Validated"
        },
        {
         "Age": "0-14 years",
         "Cause": "Assault",
         "Data_value": 33.3333333333333,
         "Indicator": "Number",
         "Lower_CI": 26.8001200515331,
         "Period": "2016-18",
         "Population": "Children",
         "Series_reference": "C_A21",
         "Severity": "Serious",
         "Type": "Moving average",
         "Units": "Injuries",
         "Upper_CI": 39.8665466151335,
         "Validation": "Validated"
        },
        {
         "Age": "0-14 years",
         "Cause": "Intentional",
         "Data_value": 33,
         "Indicator": "Number",
         "Lower_CI": 21.7408641058513,
         "Period": "2015",
         "Population": "Children",
         "Series_reference": "in01",
         "Severity": "Serious non-fatal",
         "Type": "Single year",
         "Units": "Injuries",
         "Upper_CI": 44.2591358941486,
         "Validation": "Validated"
        },
        {
         "Age": "75+ years",
         "Cause": "Falls",
         "Data_value": 33,
         "Indicator": "Number",
         "Lower_CI": 21.7408641058513,
         "Period": "2000",
         "Population": "Maori",
         "Series_reference": "f21c",
         "Severity": "Serious",
         "Type": "Single year",
         "Units": "Injuries",
         "Upper_CI": 44.2591358941486,
         "Validation": "Validated"
        },
        {
         "Age": "75+ years",
         "Cause": "Falls",
         "Data_value": 33,
         "Indicator": "Number",
         "Lower_CI": 21.7408641058513,
         "Period": "2002",
         "Population": "Maori",
         "Series_reference": "f21c",
         "Severity": "Serious",
         "Type": "Single year",
         "Units": "Injuries",
         "Upper_CI": 44.2591358941486,
         "Validation": "Validated"
        },
        {
         "Age": "75+ years",
         "Cause": "Falls",
         "Data_value": 32.3333333333333,
         "Indicator": "Number",
         "Lower_CI": 25.8988644732077,
         "Period": "2002-04",
         "Population": "Maori",
         "Series_reference": "M_F01C",
         "Severity": "Serious non-fatal",
         "Type": "Moving average",
         "Units": "Injuries",
         "Upper_CI": 38.7678021934588,
         "Validation": "Validated"
        },
        {
         "Age": "0-14 years",
         "Cause": "Motor vehicle traffic crashes",
         "Data_value": 32.3333333333333,
         "Indicator": "Number",
         "Lower_CI": 25.8988644732077,
         "Period": "2000-02",
         "Population": "Children",
         "Series_reference": "C_M11",
         "Severity": "Fatal",
         "Type": "Moving average",
         "Units": "Injuries",
         "Upper_CI": 38.7678021934588,
         "Validation": "Validated"
        },
        {
         "Age": "0-14 years",
         "Cause": "Motor vehicle traffic crashes",
         "Data_value": 32,
         "Indicator": "Number",
         "Lower_CI": 20.9127694052025,
         "Period": "2002",
         "Population": "Children",
         "Series_reference": "m11",
         "Severity": "Fatal",
         "Type": "Single year",
         "Units": "Injuries",
         "Upper_CI": 43.0872305947974,
         "Validation": "Validated"
        },
        {
         "Age": "0-14 years",
         "Cause": "Pedestrian",
         "Data_value": 32,
         "Indicator": "Number",
         "Lower_CI": 20.9127694052025,
         "Period": "2012",
         "Population": "Children",
         "Series_reference": "p21",
         "Severity": "Serious",
         "Type": "Single year",
         "Units": "Injuries",
         "Upper_CI": 43.0872305947974,
         "Validation": "Validated"
        },
        {
         "Age": "75+ years",
         "Cause": "Falls",
         "Data_value": 31.6666666666666,
         "Indicator": "Number",
         "Lower_CI": 25.2988780398185,
         "Period": "2001-03",
         "Population": "Maori",
         "Series_reference": "M_F21C",
         "Severity": "Serious",
         "Type": "Moving average",
         "Units": "Injuries",
         "Upper_CI": 38.0344552935147,
         "Validation": "Validated"
        },
        {
         "Age": "75+ years",
         "Cause": "Falls",
         "Data_value": 31,
         "Indicator": "Number",
         "Lower_CI": 24.6995972763238,
         "Period": "2000-02",
         "Population": "Maori",
         "Series_reference": "M_F21C",
         "Severity": "Serious",
         "Type": "Moving average",
         "Units": "Injuries",
         "Upper_CI": 37.3004027236761,
         "Validation": "Validated"
        },
        {
         "Age": "0-14 years",
         "Cause": "Intentional",
         "Data_value": 31,
         "Indicator": "Number",
         "Lower_CI": 20.0873823744475,
         "Period": "2018",
         "Population": "Children",
         "Series_reference": "in01",
         "Severity": "Serious non-fatal",
         "Type": "Single year",
         "Units": "Injuries",
         "Upper_CI": 41.9126176255524,
         "Validation": "Validated"
        },
        {
         "Age": "0-14 years",
         "Cause": "Assault",
         "Data_value": 31,
         "Indicator": "Number",
         "Lower_CI": 20.0873823744475,
         "Period": "2013",
         "Population": "Children",
         "Series_reference": "a21",
         "Severity": "Serious",
         "Type": "Single year",
         "Units": "Injuries",
         "Upper_CI": 41.9126176255524,
         "Validation": "Validated"
        },
        {
         "Age": "0-14 years",
         "Cause": "Assault",
         "Data_value": 31,
         "Indicator": "Number",
         "Lower_CI": 20.0873823744475,
         "Period": "2016",
         "Population": "Children",
         "Series_reference": "a21",
         "Severity": "Serious",
         "Type": "Single year",
         "Units": "Injuries",
         "Upper_CI": 41.9126176255524,
         "Validation": "Validated"
        },
        {
         "Age": "0-14 years",
         "Cause": "Motor vehicle traffic crashes",
         "Data_value": 30,
         "Indicator": "Number",
         "Lower_CI": 19.264835137697,
         "Period": "2007",
         "Population": "Children",
         "Series_reference": "m11",
         "Severity": "Fatal",
         "Type": "Single year",
         "Units": "Injuries",
         "Upper_CI": 40.7351648623029,
         "Validation": "Validated"
        },
        {
         "Age": "75+ years",
         "Cause": "Falls",
         "Data_value": 30,
         "Indicator": "Number",
         "Lower_CI": 19.264835137697,
         "Period": "2000",
         "Population": "Maori",
         "Series_reference": "f01c",
         "Severity": "Serious non-fatal",
         "Type": "Single year",
         "Units": "Injuries",
         "Upper_CI": 40.7351648623029,
         "Validation": "Validated"
        },
        {
         "Age": "75+ years",
         "Cause": "Falls",
         "Data_value": 30,
         "Indicator": "Number",
         "Lower_CI": 19.264835137697,
         "Period": "2002",
         "Population": "Maori",
         "Series_reference": "f01c",
         "Severity": "Serious non-fatal",
         "Type": "Single year",
         "Units": "Injuries",
         "Upper_CI": 40.7351648623029,
         "Validation": "Validated"
        },
        {
         "Age": "0-14 years",
         "Cause": "Motor vehicle traffic crashes",
         "Data_value": 29.3333333333333,
         "Indicator": "Number",
         "Lower_CI": 23.2046360254846,
         "Period": "2001-03",
         "Population": "Children",
         "Series_reference": "C_M11",
         "Severity": "Fatal",
         "Type": "Moving average",
         "Units": "Injuries",
         "Upper_CI": 35.4620306411819,
         "Validation": "Validated"
        },
        {
         "Age": "0-14 years",
         "Cause": "Motor vehicle traffic crashes",
         "Data_value": 29,
         "Indicator": "Number",
         "Lower_CI": 18.4452709272037,
         "Period": "2001",
         "Population": "Children",
         "Series_reference": "m11",
         "Severity": "Fatal",
         "Type": "Single year",
         "Units": "Injuries",
         "Upper_CI": 39.5547290727962,
         "Validation": "Validated"
        },
        {
         "Age": "0-14 years",
         "Cause": "Motor vehicle traffic crashes",
         "Data_value": 29,
         "Indicator": "Number",
         "Lower_CI": 18.4452709272037,
         "Period": "2005",
         "Population": "Children",
         "Series_reference": "m11",
         "Severity": "Fatal",
         "Type": "Single year",
         "Units": "Injuries",
         "Upper_CI": 39.5547290727962,
         "Validation": "Validated"
        },
        {
         "Age": "0-14 years",
         "Cause": "Intentional",
         "Data_value": 29,
         "Indicator": "Number",
         "Lower_CI": 18.4452709272037,
         "Period": "2000",
         "Population": "Children",
         "Series_reference": "in01",
         "Severity": "Serious non-fatal",
         "Type": "Single year",
         "Units": "Injuries",
         "Upper_CI": 39.5547290727962,
         "Validation": "Validated"
        },
        {
         "Age": "0-14 years",
         "Cause": "Intentional",
         "Data_value": 29,
         "Indicator": "Number",
         "Lower_CI": 18.4452709272037,
         "Period": "2003",
         "Population": "Children",
         "Series_reference": "in01",
         "Severity": "Serious non-fatal",
         "Type": "Single year",
         "Units": "Injuries",
         "Upper_CI": 39.5547290727962,
         "Validation": "Validated"
        },
        {
         "Age": "0-14 years",
         "Cause": "Assault",
         "Data_value": 29,
         "Indicator": "Number",
         "Lower_CI": 18.4452709272037,
         "Period": "2003",
         "Population": "Children",
         "Series_reference": "a21",
         "Severity": "Serious",
         "Type": "Single year",
         "Units": "Injuries",
         "Upper_CI": 39.5547290727962,
         "Validation": "Validated"
        },
        {
         "Age": "0-14 years",
         "Cause": "Assault",
         "Data_value": 29,
         "Indicator": "Number",
         "Lower_CI": 18.4452709272037,
         "Period": "2018",
         "Population": "Children",
         "Series_reference": "a21",
         "Severity": "Serious",
         "Type": "Single year",
         "Units": "Injuries",
         "Upper_CI": 39.5547290727962,
         "Validation": "Validated"
        },
        {
         "Age": "75+ years",
         "Cause": "Falls",
         "Data_value": 28.6666666666666,
         "Indicator": "Number",
         "Lower_CI": 22.6080139141546,
         "Period": "2000-02",
         "Population": "Maori",
         "Series_reference": "M_F01C",
         "Severity": "Serious non-fatal",
         "Type": "Moving average",
         "Units": "Injuries",
         "Upper_CI": 34.7253194191787,
         "Validation": "Validated"
        },
        {
         "Age": "75+ years",
         "Cause": "Falls",
         "Data_value": 28,
         "Indicator": "Number",
         "Lower_CI": 22.0122111209719,
         "Period": "2001-03",
         "Population": "Maori",
         "Series_reference": "M_F01C",
         "Severity": "Serious non-fatal",
         "Type": "Moving average",
         "Units": "Injuries",
         "Upper_CI": 33.987788879028,
         "Validation": "Validated"
        },
        {
         "Age": "75+ years",
         "Cause": "Falls",
         "Data_value": 28,
         "Indicator": "Number",
         "Lower_CI": 17.6288454365275,
         "Period": "2003",
         "Population": "Maori",
         "Series_reference": "f01c",
         "Severity": "Serious non-fatal",
         "Type": "Single year",
         "Units": "Injuries",
         "Upper_CI": 38.3711545634724,
         "Validation": "Validated"
        },
        {
         "Age": "0-14 years",
         "Cause": "Motor vehicle traffic crashes",
         "Data_value": 27.6666666666666,
         "Indicator": "Number",
         "Lower_CI": 21.7146261004442,
         "Period": "2005-07",
         "Population": "Children",
         "Series_reference": "C_M11",
         "Severity": "Fatal",
         "Type": "Moving average",
         "Units": "Injuries",
         "Upper_CI": 33.618707232889,
         "Validation": "Validated"
        },
        {
         "Age": "0-14 years",
         "Cause": "Motor vehicle traffic crashes",
         "Data_value": 27,
         "Indicator": "Number",
         "Lower_CI": 16.8157283933144,
         "Period": "2003",
         "Population": "Children",
         "Series_reference": "m11",
         "Severity": "Fatal",
         "Type": "Single year",
         "Units": "Injuries",
         "Upper_CI": 37.1842716066855,
         "Validation": "Validated"
        },
        {
         "Age": "75+ years",
         "Cause": "Falls",
         "Data_value": 27,
         "Indicator": "Number",
         "Lower_CI": 16.8157283933144,
         "Period": "2001",
         "Population": "Maori",
         "Series_reference": "f21c",
         "Severity": "Serious",
         "Type": "Single year",
         "Units": "Injuries",
         "Upper_CI": 37.1842716066855,
         "Validation": "Validated"
        },
        {
         "Age": "75+ years",
         "Cause": "Falls",
         "Data_value": 26,
         "Indicator": "Number",
         "Lower_CI": 16.0061053968912,
         "Period": "2001",
         "Population": "Maori",
         "Series_reference": "f01c",
         "Severity": "Serious non-fatal",
         "Type": "Single year",
         "Units": "Injuries",
         "Upper_CI": 35.9938946031088,
         "Validation": "Validated"
        },
        {
         "Age": "0-14 years",
         "Cause": "Motor vehicle traffic crashes",
         "Data_value": 25.6666666666666,
         "Indicator": "Number",
         "Lower_CI": 19.9337952783632,
         "Period": "2002-04",
         "Population": "Children",
         "Series_reference": "C_M11",
         "Severity": "Fatal",
         "Type": "Moving average",
         "Units": "Injuries",
         "Upper_CI": 31.39953805497,
         "Validation": "Validated"
        },
        {
         "Age": "0-14 years",
         "Cause": "Motor vehicle traffic crashes",
         "Data_value": 25,
         "Indicator": "Number",
         "Lower_CI": 19.3420713296191,
         "Period": "2006-08",
         "Population": "Children",
         "Series_reference": "C_M11",
         "Severity": "Fatal",
         "Type": "Moving average",
         "Units": "Injuries",
         "Upper_CI": 30.6579286703808,
         "Validation": "Validated"
        },
        {
         "Age": "0-14 years",
         "Cause": "Motor vehicle traffic crashes",
         "Data_value": 24.6666666666666,
         "Indicator": "Number",
         "Lower_CI": 19.0465840977658,
         "Period": "2003-05",
         "Population": "Children",
         "Series_reference": "C_M11",
         "Severity": "Fatal",
         "Type": "Moving average",
         "Units": "Injuries",
         "Upper_CI": 30.2867492355674,
         "Validation": "Validated"
        },
        {
         "Age": "0-14 years",
         "Cause": "Motor vehicle traffic crashes",
         "Data_value": 24.3333333333333,
         "Indicator": "Number",
         "Lower_CI": 18.7513534584674,
         "Period": "2007-09",
         "Population": "Children",
         "Series_reference": "C_M11",
         "Severity": "Fatal",
         "Type": "Moving average",
         "Units": "Injuries",
         "Upper_CI": 29.9153132081992,
         "Validation": "Validated"
        },
        {
         "Age": "0-14 years",
         "Cause": "Motor vehicle traffic crashes",
         "Data_value": 24,
         "Indicator": "Number",
         "Lower_CI": 14.3981766472893,
         "Period": "2006",
         "Population": "Children",
         "Series_reference": "m11",
         "Severity": "Fatal",
         "Type": "Single year",
         "Units": "Injuries",
         "Upper_CI": 33.6018233527106,
         "Validation": "Validated"
        },
        {
         "Age": "0-14 years",
         "Cause": "Motor vehicle traffic crashes",
         "Data_value": 23.6666666666666,
         "Indicator": "Number",
         "Lower_CI": 18.1616833054113,
         "Period": "2004-06",
         "Population": "Children",
         "Series_reference": "C_M11",
         "Severity": "Fatal",
         "Type": "Moving average",
         "Units": "Injuries",
         "Upper_CI": 29.171650027922,
         "Validation": "Validated"
        },
        {
         "Age": "0-14 years",
         "Cause": "Motor vehicle traffic crashes",
         "Data_value": 22,
         "Indicator": "Number",
         "Lower_CI": 12.806954038227,
         "Period": "2009",
         "Population": "Children",
         "Series_reference": "m11",
         "Severity": "Fatal",
         "Type": "Single year",
         "Units": "Injuries",
         "Upper_CI": 31.193045961773,
         "Validation": "Validated"
        },
        {
         "Age": "0-14 years",
         "Cause": "Motor vehicle traffic crashes",
         "Data_value": 21,
         "Indicator": "Number",
         "Lower_CI": 12.0183166814579,
         "Period": "2008",
         "Population": "Children",
         "Series_reference": "m11",
         "Severity": "Fatal",
         "Type": "Single year",
         "Units": "Injuries",
         "Upper_CI": 29.981683318542,
         "Validation": "Validated"
        },
        {
         "Age": "0-14 years",
         "Cause": "Motor vehicle traffic crashes",
         "Data_value": 19.3333333333333,
         "Indicator": "Number",
         "Lower_CI": 14.3577863326926,
         "Period": "2008-10",
         "Population": "Children",
         "Series_reference": "C_M11",
         "Severity": "Fatal",
         "Type": "Moving average",
         "Units": "Injuries",
         "Upper_CI": 24.308880333974,
         "Validation": "Validated"
        },
        {
         "Age": "0-14 years",
         "Cause": "Motor vehicle traffic crashes",
         "Data_value": 18,
         "Indicator": "Number",
         "Lower_CI": 9.68457705390193,
         "Period": "2004",
         "Population": "Children",
         "Series_reference": "m11",
         "Severity": "Fatal",
         "Type": "Single year",
         "Units": "Injuries",
         "Upper_CI": 26.315422946098,
         "Validation": "Validated"
        },
        {
         "Age": "0-14 years",
         "Cause": "Motor vehicle traffic crashes",
         "Data_value": 15.6666666666666,
         "Indicator": "Number",
         "Lower_CI": 11.1877212975892,
         "Period": "2009-11",
         "Population": "Children",
         "Series_reference": "C_M11",
         "Severity": "Fatal",
         "Type": "Moving average",
         "Units": "Injuries",
         "Upper_CI": 20.1456120357441,
         "Validation": "Validated"
        },
        {
         "Age": "0-14 years",
         "Cause": "Motor vehicle traffic crashes",
         "Data_value": 15,
         "Indicator": "Number",
         "Lower_CI": 7.40909212871004,
         "Period": "2010",
         "Population": "Children",
         "Series_reference": "m11",
         "Severity": "Fatal",
         "Type": "Single year",
         "Units": "Injuries",
         "Upper_CI": 22.5909078712899,
         "Validation": "Validated"
        },
        {
         "Age": "0-14 years",
         "Cause": "Motor vehicle traffic crashes",
         "Data_value": 15,
         "Indicator": "Number",
         "Lower_CI": 7.40909212871004,
         "Period": "2016",
         "Population": "Children",
         "Series_reference": "m11",
         "Severity": "Fatal",
         "Type": "Single year",
         "Units": "Injuries",
         "Upper_CI": 22.5909078712899,
         "Validation": "Validated"
        },
        {
         "Age": "0-14 years",
         "Cause": "Motor vehicle traffic crashes",
         "Data_value": 15,
         "Indicator": "Number",
         "Lower_CI": 7.40909212871004,
         "Period": "2018",
         "Population": "Children",
         "Series_reference": "m11",
         "Severity": "Fatal",
         "Type": "Single year",
         "Units": "Injuries",
         "Upper_CI": 22.5909078712899,
         "Validation": "Validated"
        },
        {
         "Age": "0-14 years",
         "Cause": "Motor vehicle traffic crashes",
         "Data_value": 14.3333333333333,
         "Indicator": "Number",
         "Lower_CI": 10.0492188871775,
         "Period": "2016-18",
         "Population": "Children",
         "Series_reference": "C_M11",
         "Severity": "Fatal",
         "Type": "Moving average",
         "Units": "Injuries",
         "Upper_CI": 18.6174477794891,
         "Validation": "Validated"
        },
        {
         "Age": "0-14 years",
         "Cause": "Motor vehicle traffic crashes",
         "Data_value": 14,
         "Indicator": "Number",
         "Lower_CI": 6.66648627943482,
         "Period": "2012",
         "Population": "Children",
         "Series_reference": "m11",
         "Severity": "Fatal",
         "Type": "Single year",
         "Units": "Injuries",
         "Upper_CI": 21.3335137205651,
         "Validation": "Validated"
        },
        {
         "Age": "0-14 years",
         "Cause": "Motor vehicle traffic crashes",
         "Data_value": 13,
         "Indicator": "Number",
         "Lower_CI": 8.9200096132048,
         "Period": "2010-12",
         "Population": "Children",
         "Series_reference": "C_M11",
         "Severity": "Fatal",
         "Type": "Moving average",
         "Units": "Injuries",
         "Upper_CI": 17.0799903867951,
         "Validation": "Validated"
        },
        {
         "Age": "0-14 years",
         "Cause": "Motor vehicle traffic crashes",
         "Data_value": 13,
         "Indicator": "Number",
         "Lower_CI": 5.93324935567812,
         "Period": "2014",
         "Population": "Children",
         "Series_reference": "m11",
         "Severity": "Fatal",
         "Type": "Single year",
         "Units": "Injuries",
         "Upper_CI": 20.0667506443218,
         "Validation": "Validated"
        },
        {
         "Age": "0-14 years",
         "Cause": "Motor vehicle traffic crashes",
         "Data_value": 13,
         "Indicator": "Number",
         "Lower_CI": 5.93324935567812,
         "Period": "2017",
         "Population": "Children",
         "Series_reference": "m11",
         "Severity": "Fatal",
         "Type": "Single year",
         "Units": "Injuries",
         "Upper_CI": 20.0667506443218,
         "Validation": "Validated"
        },
        {
         "Age": "0-14 years",
         "Cause": "Motor vehicle traffic crashes",
         "Data_value": 12.6666666666666,
         "Indicator": "Number",
         "Lower_CI": 8.63932352279547,
         "Period": "2014-16",
         "Population": "Children",
         "Series_reference": "C_M11",
         "Severity": "Fatal",
         "Type": "Moving average",
         "Units": "Injuries",
         "Upper_CI": 16.6940098105378,
         "Validation": "Validated"
        },
        {
         "Age": "0-14 years",
         "Cause": "Motor vehicle traffic crashes",
         "Data_value": 12.6666666666666,
         "Indicator": "Number",
         "Lower_CI": 8.63932352279547,
         "Period": "2015-17",
         "Population": "Children",
         "Series_reference": "C_M11",
         "Severity": "Fatal",
         "Type": "Moving average",
         "Units": "Injuries",
         "Upper_CI": 16.6940098105378,
         "Validation": "Validated"
        },
        {
         "Age": "0-14 years",
         "Cause": "Motor vehicle traffic crashes",
         "Data_value": 11.3333333333333,
         "Indicator": "Number",
         "Lower_CI": 7.52384809683921,
         "Period": "2012-14",
         "Population": "Children",
         "Series_reference": "C_M11",
         "Severity": "Fatal",
         "Type": "Moving average",
         "Units": "Injuries",
         "Upper_CI": 15.1428185698274,
         "Validation": "Validated"
        },
        {
         "Age": "0-14 years",
         "Cause": "Motor vehicle traffic crashes",
         "Data_value": 10.3333333333333,
         "Indicator": "Number",
         "Lower_CI": 6.69579412481585,
         "Period": "2011-13",
         "Population": "Children",
         "Series_reference": "C_M11",
         "Severity": "Fatal",
         "Type": "Moving average",
         "Units": "Injuries",
         "Upper_CI": 13.9708725418508,
         "Validation": "Validated"
        },
        {
         "Age": "0-14 years",
         "Cause": "Motor vehicle traffic crashes",
         "Data_value": 10,
         "Indicator": "Number",
         "Lower_CI": 6.42161171256568,
         "Period": "2013-15",
         "Population": "Children",
         "Series_reference": "C_M11",
         "Severity": "Fatal",
         "Type": "Moving average",
         "Units": "Injuries",
         "Upper_CI": 13.5783882874343,
         "Validation": "Validated"
        },
        {
         "Age": "0-14 years",
         "Cause": "Motor vehicle traffic crashes",
         "Data_value": 10,
         "Indicator": "Number",
         "Lower_CI": 3.80204967695438,
         "Period": "2011",
         "Population": "Children",
         "Series_reference": "m11",
         "Severity": "Fatal",
         "Type": "Single year",
         "Units": "Injuries",
         "Upper_CI": 16.1979503230456,
         "Validation": "Validated"
        },
        {
         "Age": "0-14 years",
         "Cause": "Motor vehicle traffic crashes",
         "Data_value": 10,
         "Indicator": "Number",
         "Lower_CI": 3.80204967695438,
         "Period": "2015",
         "Population": "Children",
         "Series_reference": "m11",
         "Severity": "Fatal",
         "Type": "Single year",
         "Units": "Injuries",
         "Upper_CI": 16.1979503230456,
         "Validation": "Validated"
        },
        {
         "Age": "0-14 years",
         "Cause": "Motor vehicle traffic crashes",
         "Data_value": 7,
         "Indicator": "Number",
         "Lower_CI": 1.81442271826377,
         "Period": "2013",
         "Population": "Children",
         "Series_reference": "m11",
         "Severity": "Fatal",
         "Type": "Single year",
         "Units": "Injuries",
         "Upper_CI": 12.1855772817362,
         "Validation": "Validated"
        }
       ],
       "schema": {
        "fields": [
         {
          "name": "Series_reference",
          "type": "string"
         },
         {
          "name": "Period",
          "type": "string"
         },
         {
          "name": "Type",
          "type": "string"
         },
         {
          "name": "Data_value",
          "type": "number"
         },
         {
          "name": "Lower_CI",
          "type": "number"
         },
         {
          "name": "Upper_CI",
          "type": "number"
         },
         {
          "name": "Units",
          "type": "string"
         },
         {
          "name": "Indicator",
          "type": "string"
         },
         {
          "name": "Cause",
          "type": "string"
         },
         {
          "name": "Validation",
          "type": "string"
         },
         {
          "name": "Population",
          "type": "string"
         },
         {
          "name": "Age",
          "type": "string"
         },
         {
          "name": "Severity",
          "type": "string"
         }
        ]
       }
      },
      "text/html": [
       "<table><thead><tr><th>Series_reference</th><th>Period</th><th>Type</th><th>Data_value</th><th>Lower_CI</th><th>Upper_CI</th><th>Units</th><th>Indicator</th><th>Cause</th><th>Validation</th><th>Population</th><th>Age</th><th>Severity</th></tr></thead><tbody><tr><td>String7&#40;&quot;C_IN01&quot;&#41;</td><td>String7&#40;&quot;2004-06&quot;&#41;</td><td>String15&#40;&quot;Moving average&quot;&#41;</td><td>40.0</td><td>32.8432</td><td>47.1568</td><td>&quot;Injuries&quot;</td><td>&quot;Number&quot;</td><td>String31&#40;&quot;Intentional&quot;&#41;</td><td>String15&#40;&quot;Validated&quot;&#41;</td><td>String15&#40;&quot;Children&quot;&#41;</td><td>String15&#40;&quot;0-14 years&quot;&#41;</td><td>String31&#40;&quot;Serious non-fatal&quot;&#41;</td></tr><tr><td>String7&#40;&quot;C_A21&quot;&#41;</td><td>String7&#40;&quot;2003-05&quot;&#41;</td><td>String15&#40;&quot;Moving average&quot;&#41;</td><td>40.0</td><td>32.8432</td><td>47.1568</td><td>&quot;Injuries&quot;</td><td>&quot;Number&quot;</td><td>String31&#40;&quot;Assault&quot;&#41;</td><td>String15&#40;&quot;Validated&quot;&#41;</td><td>String15&#40;&quot;Children&quot;&#41;</td><td>String15&#40;&quot;0-14 years&quot;&#41;</td><td>String31&#40;&quot;Serious&quot;&#41;</td></tr><tr><td>String7&#40;&quot;a11&quot;&#41;</td><td>String7&#40;&quot;2017&quot;&#41;</td><td>String15&#40;&quot;Single year&quot;&#41;</td><td>40.0</td><td>27.6041</td><td>52.3959</td><td>&quot;Injuries&quot;</td><td>&quot;Number&quot;</td><td>String31&#40;&quot;Assault&quot;&#41;</td><td>String15&#40;&quot;Validated&quot;&#41;</td><td>String15&#40;&quot;Whole pop&quot;&#41;</td><td>String15&#40;&quot;All ages&quot;&#41;</td><td>String31&#40;&quot;Fatal&quot;&#41;</td></tr><tr><td>String7&#40;&quot;in01&quot;&#41;</td><td>String7&#40;&quot;2005&quot;&#41;</td><td>String15&#40;&quot;Single year&quot;&#41;</td><td>40.0</td><td>27.6041</td><td>52.3959</td><td>&quot;Injuries&quot;</td><td>&quot;Number&quot;</td><td>String31&#40;&quot;Intentional&quot;&#41;</td><td>String15&#40;&quot;Validated&quot;&#41;</td><td>String15&#40;&quot;Children&quot;&#41;</td><td>String15&#40;&quot;0-14 years&quot;&#41;</td><td>String31&#40;&quot;Serious non-fatal&quot;&#41;</td></tr><tr><td>String7&#40;&quot;in01&quot;&#41;</td><td>String7&#40;&quot;2012&quot;&#41;</td><td>String15&#40;&quot;Single year&quot;&#41;</td><td>40.0</td><td>27.6041</td><td>52.3959</td><td>&quot;Injuries&quot;</td><td>&quot;Number&quot;</td><td>String31&#40;&quot;Intentional&quot;&#41;</td><td>String15&#40;&quot;Validated&quot;&#41;</td><td>String15&#40;&quot;Children&quot;&#41;</td><td>String15&#40;&quot;0-14 years&quot;&#41;</td><td>String31&#40;&quot;Serious non-fatal&quot;&#41;</td></tr><tr><td>String7&#40;&quot;in01&quot;&#41;</td><td>String7&#40;&quot;2016&quot;&#41;</td><td>String15&#40;&quot;Single year&quot;&#41;</td><td>40.0</td><td>27.6041</td><td>52.3959</td><td>&quot;Injuries&quot;</td><td>&quot;Number&quot;</td><td>String31&#40;&quot;Intentional&quot;&#41;</td><td>String15&#40;&quot;Validated&quot;&#41;</td><td>String15&#40;&quot;Children&quot;&#41;</td><td>String15&#40;&quot;0-14 years&quot;&#41;</td><td>String31&#40;&quot;Serious non-fatal&quot;&#41;</td></tr><tr><td>String7&#40;&quot;in01&quot;&#41;</td><td>String7&#40;&quot;2019&quot;&#41;</td><td>String15&#40;&quot;Single year&quot;&#41;</td><td>40.0</td><td>27.6041</td><td>52.3959</td><td>&quot;Injuries&quot;</td><td>&quot;Number&quot;</td><td>String31&#40;&quot;Intentional&quot;&#41;</td><td>String15&#40;&quot;Validated&quot;&#41;</td><td>String15&#40;&quot;Children&quot;&#41;</td><td>String15&#40;&quot;0-14 years&quot;&#41;</td><td>String31&#40;&quot;Serious non-fatal&quot;&#41;</td></tr><tr><td>String7&#40;&quot;a21&quot;&#41;</td><td>String7&#40;&quot;2017&quot;&#41;</td><td>String15&#40;&quot;Single year&quot;&#41;</td><td>40.0</td><td>27.6041</td><td>52.3959</td><td>&quot;Injuries&quot;</td><td>&quot;Number&quot;</td><td>String31&#40;&quot;Assault&quot;&#41;</td><td>String15&#40;&quot;Validated&quot;&#41;</td><td>String15&#40;&quot;Children&quot;&#41;</td><td>String15&#40;&quot;0-14 years&quot;&#41;</td><td>String31&#40;&quot;Serious&quot;&#41;</td></tr><tr><td>String7&#40;&quot;p21&quot;&#41;</td><td>String7&#40;&quot;2017&quot;&#41;</td><td>String15&#40;&quot;Single year&quot;&#41;</td><td>40.0</td><td>27.6041</td><td>52.3959</td><td>&quot;Injuries&quot;</td><td>&quot;Number&quot;</td><td>String31&#40;&quot;Pedestrian&quot;&#41;</td><td>String15&#40;&quot;Validated&quot;&#41;</td><td>String15&#40;&quot;Children&quot;&#41;</td><td>String15&#40;&quot;0-14 years&quot;&#41;</td><td>String31&#40;&quot;Serious&quot;&#41;</td></tr><tr><td>String7&#40;&quot;C_IN01&quot;&#41;</td><td>String7&#40;&quot;2011-13&quot;&#41;</td><td>String15&#40;&quot;Moving average&quot;&#41;</td><td>39.6667</td><td>32.5398</td><td>46.7936</td><td>&quot;Injuries&quot;</td><td>&quot;Number&quot;</td><td>String31&#40;&quot;Intentional&quot;&#41;</td><td>String15&#40;&quot;Validated&quot;&#41;</td><td>String15&#40;&quot;Children&quot;&#41;</td><td>String15&#40;&quot;0-14 years&quot;&#41;</td><td>String31&#40;&quot;Serious non-fatal&quot;&#41;</td></tr><tr><td>&vellip;</td><td>&vellip;</td><td>&vellip;</td><td>&vellip;</td><td>&vellip;</td><td>&vellip;</td><td>&vellip;</td><td>&vellip;</td><td>&vellip;</td><td>&vellip;</td><td>&vellip;</td><td>&vellip;</td><td>&vellip;</td></tr></tbody></table><p>... with more rows.</p>"
      ],
      "text/plain": [
       "?x13 query result\n",
       "Series_reference │ Period  │ Type           │ Data_value │ Lower_CI │ Upper_CI\n",
       "─────────────────┼─────────┼────────────────┼────────────┼──────────┼─────────\n",
       "C_IN01           │ 2004-06 │ Moving average │ 40.0       │ 32.8432  │ 47.1568 \n",
       "C_A21            │ 2003-05 │ Moving average │ 40.0       │ 32.8432  │ 47.1568 \n",
       "a11              │ 2017    │ Single year    │ 40.0       │ 27.6041  │ 52.3959 \n",
       "in01             │ 2005    │ Single year    │ 40.0       │ 27.6041  │ 52.3959 \n",
       "in01             │ 2012    │ Single year    │ 40.0       │ 27.6041  │ 52.3959 \n",
       "in01             │ 2016    │ Single year    │ 40.0       │ 27.6041  │ 52.3959 \n",
       "in01             │ 2019    │ Single year    │ 40.0       │ 27.6041  │ 52.3959 \n",
       "a21              │ 2017    │ Single year    │ 40.0       │ 27.6041  │ 52.3959 \n",
       "p21              │ 2017    │ Single year    │ 40.0       │ 27.6041  │ 52.3959 \n",
       "C_IN01           │ 2011-13 │ Moving average │ 39.6667    │ 32.5398  │ 46.7936 \n",
       "... with more rows, and 7 more columns: Units, Indicator, Cause, Validation, Population, Age, Severity"
      ]
     },
     "metadata": {},
     "output_type": "display_data"
    }
   ],
   "source": [
    "# Select only the ones that correspond to injuries\n",
    "q1 = df |>\n",
    "    @filter(_.Units == \"Injuries\" && _.Data_value <= 40.0) |>\n",
    "    @orderby_descending(_.Data_value)"
   ]
  },
  {
   "cell_type": "code",
   "execution_count": 18,
   "metadata": {},
   "outputs": [
    {
     "data": {
      "text/html": [
       "<div><div style = \"float: left;\"><span>94×13 DataFrame</span></div><div style = \"float: right;\"><span style = \"font-style: italic;\">69 rows omitted</span></div><div style = \"clear: both;\"></div></div><div class = \"data-frame\" style = \"overflow-x: scroll;\"><table class = \"data-frame\" style = \"margin-bottom: 6px;\"><thead><tr class = \"header\"><th class = \"rowNumber\" style = \"font-weight: bold; text-align: right;\">Row</th><th style = \"text-align: left;\">Series_reference</th><th style = \"text-align: left;\">Period</th><th style = \"text-align: left;\">Type</th><th style = \"text-align: left;\">Data_value</th><th style = \"text-align: left;\">Lower_CI</th><th style = \"text-align: left;\">Upper_CI</th><th style = \"text-align: left;\">Units</th><th style = \"text-align: left;\">Indicator</th><th style = \"text-align: left;\">Cause</th><th style = \"text-align: left;\">Validation</th><th style = \"text-align: left;\">Population</th><th style = \"text-align: left;\">Age</th><th style = \"text-align: left;\">Severity</th></tr><tr class = \"subheader headerLastRow\"><th class = \"rowNumber\" style = \"font-weight: bold; text-align: right;\"></th><th title = \"String7\" style = \"text-align: left;\">String7</th><th title = \"String7\" style = \"text-align: left;\">String7</th><th title = \"String15\" style = \"text-align: left;\">String15</th><th title = \"Float64\" style = \"text-align: left;\">Float64</th><th title = \"Float64\" style = \"text-align: left;\">Float64</th><th title = \"Float64\" style = \"text-align: left;\">Float64</th><th title = \"String\" style = \"text-align: left;\">String</th><th title = \"String\" style = \"text-align: left;\">String</th><th title = \"String31\" style = \"text-align: left;\">String31</th><th title = \"String15\" style = \"text-align: left;\">String15</th><th title = \"String15\" style = \"text-align: left;\">String15</th><th title = \"String15\" style = \"text-align: left;\">String15</th><th title = \"String31\" style = \"text-align: left;\">String31</th></tr></thead><tbody><tr><td class = \"rowNumber\" style = \"font-weight: bold; text-align: right;\">1</td><td style = \"text-align: left;\">C_IN01</td><td style = \"text-align: left;\">2004-06</td><td style = \"text-align: left;\">Moving average</td><td style = \"text-align: right;\">40.0</td><td style = \"text-align: right;\">32.8432</td><td style = \"text-align: right;\">47.1568</td><td style = \"text-align: left;\">Injuries</td><td style = \"text-align: left;\">Number</td><td style = \"text-align: left;\">Intentional</td><td style = \"text-align: left;\">Validated</td><td style = \"text-align: left;\">Children</td><td style = \"text-align: left;\">0-14 years</td><td style = \"text-align: left;\">Serious non-fatal</td></tr><tr><td class = \"rowNumber\" style = \"font-weight: bold; text-align: right;\">2</td><td style = \"text-align: left;\">C_A21</td><td style = \"text-align: left;\">2003-05</td><td style = \"text-align: left;\">Moving average</td><td style = \"text-align: right;\">40.0</td><td style = \"text-align: right;\">32.8432</td><td style = \"text-align: right;\">47.1568</td><td style = \"text-align: left;\">Injuries</td><td style = \"text-align: left;\">Number</td><td style = \"text-align: left;\">Assault</td><td style = \"text-align: left;\">Validated</td><td style = \"text-align: left;\">Children</td><td style = \"text-align: left;\">0-14 years</td><td style = \"text-align: left;\">Serious</td></tr><tr><td class = \"rowNumber\" style = \"font-weight: bold; text-align: right;\">3</td><td style = \"text-align: left;\">a11</td><td style = \"text-align: left;\">2017</td><td style = \"text-align: left;\">Single year</td><td style = \"text-align: right;\">40.0</td><td style = \"text-align: right;\">27.6041</td><td style = \"text-align: right;\">52.3959</td><td style = \"text-align: left;\">Injuries</td><td style = \"text-align: left;\">Number</td><td style = \"text-align: left;\">Assault</td><td style = \"text-align: left;\">Validated</td><td style = \"text-align: left;\">Whole pop</td><td style = \"text-align: left;\">All ages</td><td style = \"text-align: left;\">Fatal</td></tr><tr><td class = \"rowNumber\" style = \"font-weight: bold; text-align: right;\">4</td><td style = \"text-align: left;\">in01</td><td style = \"text-align: left;\">2005</td><td style = \"text-align: left;\">Single year</td><td style = \"text-align: right;\">40.0</td><td style = \"text-align: right;\">27.6041</td><td style = \"text-align: right;\">52.3959</td><td style = \"text-align: left;\">Injuries</td><td style = \"text-align: left;\">Number</td><td style = \"text-align: left;\">Intentional</td><td style = \"text-align: left;\">Validated</td><td style = \"text-align: left;\">Children</td><td style = \"text-align: left;\">0-14 years</td><td style = \"text-align: left;\">Serious non-fatal</td></tr><tr><td class = \"rowNumber\" style = \"font-weight: bold; text-align: right;\">5</td><td style = \"text-align: left;\">in01</td><td style = \"text-align: left;\">2012</td><td style = \"text-align: left;\">Single year</td><td style = \"text-align: right;\">40.0</td><td style = \"text-align: right;\">27.6041</td><td style = \"text-align: right;\">52.3959</td><td style = \"text-align: left;\">Injuries</td><td style = \"text-align: left;\">Number</td><td style = \"text-align: left;\">Intentional</td><td style = \"text-align: left;\">Validated</td><td style = \"text-align: left;\">Children</td><td style = \"text-align: left;\">0-14 years</td><td style = \"text-align: left;\">Serious non-fatal</td></tr><tr><td class = \"rowNumber\" style = \"font-weight: bold; text-align: right;\">6</td><td style = \"text-align: left;\">in01</td><td style = \"text-align: left;\">2016</td><td style = \"text-align: left;\">Single year</td><td style = \"text-align: right;\">40.0</td><td style = \"text-align: right;\">27.6041</td><td style = \"text-align: right;\">52.3959</td><td style = \"text-align: left;\">Injuries</td><td style = \"text-align: left;\">Number</td><td style = \"text-align: left;\">Intentional</td><td style = \"text-align: left;\">Validated</td><td style = \"text-align: left;\">Children</td><td style = \"text-align: left;\">0-14 years</td><td style = \"text-align: left;\">Serious non-fatal</td></tr><tr><td class = \"rowNumber\" style = \"font-weight: bold; text-align: right;\">7</td><td style = \"text-align: left;\">in01</td><td style = \"text-align: left;\">2019</td><td style = \"text-align: left;\">Single year</td><td style = \"text-align: right;\">40.0</td><td style = \"text-align: right;\">27.6041</td><td style = \"text-align: right;\">52.3959</td><td style = \"text-align: left;\">Injuries</td><td style = \"text-align: left;\">Number</td><td style = \"text-align: left;\">Intentional</td><td style = \"text-align: left;\">Validated</td><td style = \"text-align: left;\">Children</td><td style = \"text-align: left;\">0-14 years</td><td style = \"text-align: left;\">Serious non-fatal</td></tr><tr><td class = \"rowNumber\" style = \"font-weight: bold; text-align: right;\">8</td><td style = \"text-align: left;\">a21</td><td style = \"text-align: left;\">2017</td><td style = \"text-align: left;\">Single year</td><td style = \"text-align: right;\">40.0</td><td style = \"text-align: right;\">27.6041</td><td style = \"text-align: right;\">52.3959</td><td style = \"text-align: left;\">Injuries</td><td style = \"text-align: left;\">Number</td><td style = \"text-align: left;\">Assault</td><td style = \"text-align: left;\">Validated</td><td style = \"text-align: left;\">Children</td><td style = \"text-align: left;\">0-14 years</td><td style = \"text-align: left;\">Serious</td></tr><tr><td class = \"rowNumber\" style = \"font-weight: bold; text-align: right;\">9</td><td style = \"text-align: left;\">p21</td><td style = \"text-align: left;\">2017</td><td style = \"text-align: left;\">Single year</td><td style = \"text-align: right;\">40.0</td><td style = \"text-align: right;\">27.6041</td><td style = \"text-align: right;\">52.3959</td><td style = \"text-align: left;\">Injuries</td><td style = \"text-align: left;\">Number</td><td style = \"text-align: left;\">Pedestrian</td><td style = \"text-align: left;\">Validated</td><td style = \"text-align: left;\">Children</td><td style = \"text-align: left;\">0-14 years</td><td style = \"text-align: left;\">Serious</td></tr><tr><td class = \"rowNumber\" style = \"font-weight: bold; text-align: right;\">10</td><td style = \"text-align: left;\">C_IN01</td><td style = \"text-align: left;\">2011-13</td><td style = \"text-align: left;\">Moving average</td><td style = \"text-align: right;\">39.6667</td><td style = \"text-align: right;\">32.5398</td><td style = \"text-align: right;\">46.7936</td><td style = \"text-align: left;\">Injuries</td><td style = \"text-align: left;\">Number</td><td style = \"text-align: left;\">Intentional</td><td style = \"text-align: left;\">Validated</td><td style = \"text-align: left;\">Children</td><td style = \"text-align: left;\">0-14 years</td><td style = \"text-align: left;\">Serious non-fatal</td></tr><tr><td class = \"rowNumber\" style = \"font-weight: bold; text-align: right;\">11</td><td style = \"text-align: left;\">C_P21</td><td style = \"text-align: left;\">2010-12</td><td style = \"text-align: left;\">Moving average</td><td style = \"text-align: right;\">39.6667</td><td style = \"text-align: right;\">32.5398</td><td style = \"text-align: right;\">46.7936</td><td style = \"text-align: left;\">Injuries</td><td style = \"text-align: left;\">Number</td><td style = \"text-align: left;\">Pedestrian</td><td style = \"text-align: left;\">Validated</td><td style = \"text-align: left;\">Children</td><td style = \"text-align: left;\">0-14 years</td><td style = \"text-align: left;\">Serious</td></tr><tr><td class = \"rowNumber\" style = \"font-weight: bold; text-align: right;\">12</td><td style = \"text-align: left;\">C_P21</td><td style = \"text-align: left;\">2015-17</td><td style = \"text-align: left;\">Moving average</td><td style = \"text-align: right;\">39.0</td><td style = \"text-align: right;\">31.9332</td><td style = \"text-align: right;\">46.0668</td><td style = \"text-align: left;\">Injuries</td><td style = \"text-align: left;\">Number</td><td style = \"text-align: left;\">Pedestrian</td><td style = \"text-align: left;\">Validated</td><td style = \"text-align: left;\">Children</td><td style = \"text-align: left;\">0-14 years</td><td style = \"text-align: left;\">Serious</td></tr><tr><td class = \"rowNumber\" style = \"font-weight: bold; text-align: right;\">13</td><td style = \"text-align: left;\">C_P21</td><td style = \"text-align: left;\">2016-18</td><td style = \"text-align: left;\">Moving average</td><td style = \"text-align: right;\">39.0</td><td style = \"text-align: right;\">31.9332</td><td style = \"text-align: right;\">46.0668</td><td style = \"text-align: left;\">Injuries</td><td style = \"text-align: left;\">Number</td><td style = \"text-align: left;\">Pedestrian</td><td style = \"text-align: left;\">Validated</td><td style = \"text-align: left;\">Children</td><td style = \"text-align: left;\">0-14 years</td><td style = \"text-align: left;\">Serious</td></tr><tr><td style = \"text-align: right;\">&vellip;</td><td style = \"text-align: right;\">&vellip;</td><td style = \"text-align: right;\">&vellip;</td><td style = \"text-align: right;\">&vellip;</td><td style = \"text-align: right;\">&vellip;</td><td style = \"text-align: right;\">&vellip;</td><td style = \"text-align: right;\">&vellip;</td><td style = \"text-align: right;\">&vellip;</td><td style = \"text-align: right;\">&vellip;</td><td style = \"text-align: right;\">&vellip;</td><td style = \"text-align: right;\">&vellip;</td><td style = \"text-align: right;\">&vellip;</td><td style = \"text-align: right;\">&vellip;</td><td style = \"text-align: right;\">&vellip;</td></tr><tr><td class = \"rowNumber\" style = \"font-weight: bold; text-align: right;\">83</td><td style = \"text-align: left;\">m11</td><td style = \"text-align: left;\">2012</td><td style = \"text-align: left;\">Single year</td><td style = \"text-align: right;\">14.0</td><td style = \"text-align: right;\">6.66649</td><td style = \"text-align: right;\">21.3335</td><td style = \"text-align: left;\">Injuries</td><td style = \"text-align: left;\">Number</td><td style = \"text-align: left;\">Motor vehicle traffic crashes</td><td style = \"text-align: left;\">Validated</td><td style = \"text-align: left;\">Children</td><td style = \"text-align: left;\">0-14 years</td><td style = \"text-align: left;\">Fatal</td></tr><tr><td class = \"rowNumber\" style = \"font-weight: bold; text-align: right;\">84</td><td style = \"text-align: left;\">C_M11</td><td style = \"text-align: left;\">2010-12</td><td style = \"text-align: left;\">Moving average</td><td style = \"text-align: right;\">13.0</td><td style = \"text-align: right;\">8.92001</td><td style = \"text-align: right;\">17.08</td><td style = \"text-align: left;\">Injuries</td><td style = \"text-align: left;\">Number</td><td style = \"text-align: left;\">Motor vehicle traffic crashes</td><td style = \"text-align: left;\">Validated</td><td style = \"text-align: left;\">Children</td><td style = \"text-align: left;\">0-14 years</td><td style = \"text-align: left;\">Fatal</td></tr><tr><td class = \"rowNumber\" style = \"font-weight: bold; text-align: right;\">85</td><td style = \"text-align: left;\">m11</td><td style = \"text-align: left;\">2014</td><td style = \"text-align: left;\">Single year</td><td style = \"text-align: right;\">13.0</td><td style = \"text-align: right;\">5.93325</td><td style = \"text-align: right;\">20.0668</td><td style = \"text-align: left;\">Injuries</td><td style = \"text-align: left;\">Number</td><td style = \"text-align: left;\">Motor vehicle traffic crashes</td><td style = \"text-align: left;\">Validated</td><td style = \"text-align: left;\">Children</td><td style = \"text-align: left;\">0-14 years</td><td style = \"text-align: left;\">Fatal</td></tr><tr><td class = \"rowNumber\" style = \"font-weight: bold; text-align: right;\">86</td><td style = \"text-align: left;\">m11</td><td style = \"text-align: left;\">2017</td><td style = \"text-align: left;\">Single year</td><td style = \"text-align: right;\">13.0</td><td style = \"text-align: right;\">5.93325</td><td style = \"text-align: right;\">20.0668</td><td style = \"text-align: left;\">Injuries</td><td style = \"text-align: left;\">Number</td><td style = \"text-align: left;\">Motor vehicle traffic crashes</td><td style = \"text-align: left;\">Validated</td><td style = \"text-align: left;\">Children</td><td style = \"text-align: left;\">0-14 years</td><td style = \"text-align: left;\">Fatal</td></tr><tr><td class = \"rowNumber\" style = \"font-weight: bold; text-align: right;\">87</td><td style = \"text-align: left;\">C_M11</td><td style = \"text-align: left;\">2014-16</td><td style = \"text-align: left;\">Moving average</td><td style = \"text-align: right;\">12.6667</td><td style = \"text-align: right;\">8.63932</td><td style = \"text-align: right;\">16.694</td><td style = \"text-align: left;\">Injuries</td><td style = \"text-align: left;\">Number</td><td style = \"text-align: left;\">Motor vehicle traffic crashes</td><td style = \"text-align: left;\">Validated</td><td style = \"text-align: left;\">Children</td><td style = \"text-align: left;\">0-14 years</td><td style = \"text-align: left;\">Fatal</td></tr><tr><td class = \"rowNumber\" style = \"font-weight: bold; text-align: right;\">88</td><td style = \"text-align: left;\">C_M11</td><td style = \"text-align: left;\">2015-17</td><td style = \"text-align: left;\">Moving average</td><td style = \"text-align: right;\">12.6667</td><td style = \"text-align: right;\">8.63932</td><td style = \"text-align: right;\">16.694</td><td style = \"text-align: left;\">Injuries</td><td style = \"text-align: left;\">Number</td><td style = \"text-align: left;\">Motor vehicle traffic crashes</td><td style = \"text-align: left;\">Validated</td><td style = \"text-align: left;\">Children</td><td style = \"text-align: left;\">0-14 years</td><td style = \"text-align: left;\">Fatal</td></tr><tr><td class = \"rowNumber\" style = \"font-weight: bold; text-align: right;\">89</td><td style = \"text-align: left;\">C_M11</td><td style = \"text-align: left;\">2012-14</td><td style = \"text-align: left;\">Moving average</td><td style = \"text-align: right;\">11.3333</td><td style = \"text-align: right;\">7.52385</td><td style = \"text-align: right;\">15.1428</td><td style = \"text-align: left;\">Injuries</td><td style = \"text-align: left;\">Number</td><td style = \"text-align: left;\">Motor vehicle traffic crashes</td><td style = \"text-align: left;\">Validated</td><td style = \"text-align: left;\">Children</td><td style = \"text-align: left;\">0-14 years</td><td style = \"text-align: left;\">Fatal</td></tr><tr><td class = \"rowNumber\" style = \"font-weight: bold; text-align: right;\">90</td><td style = \"text-align: left;\">C_M11</td><td style = \"text-align: left;\">2011-13</td><td style = \"text-align: left;\">Moving average</td><td style = \"text-align: right;\">10.3333</td><td style = \"text-align: right;\">6.69579</td><td style = \"text-align: right;\">13.9709</td><td style = \"text-align: left;\">Injuries</td><td style = \"text-align: left;\">Number</td><td style = \"text-align: left;\">Motor vehicle traffic crashes</td><td style = \"text-align: left;\">Validated</td><td style = \"text-align: left;\">Children</td><td style = \"text-align: left;\">0-14 years</td><td style = \"text-align: left;\">Fatal</td></tr><tr><td class = \"rowNumber\" style = \"font-weight: bold; text-align: right;\">91</td><td style = \"text-align: left;\">C_M11</td><td style = \"text-align: left;\">2013-15</td><td style = \"text-align: left;\">Moving average</td><td style = \"text-align: right;\">10.0</td><td style = \"text-align: right;\">6.42161</td><td style = \"text-align: right;\">13.5784</td><td style = \"text-align: left;\">Injuries</td><td style = \"text-align: left;\">Number</td><td style = \"text-align: left;\">Motor vehicle traffic crashes</td><td style = \"text-align: left;\">Validated</td><td style = \"text-align: left;\">Children</td><td style = \"text-align: left;\">0-14 years</td><td style = \"text-align: left;\">Fatal</td></tr><tr><td class = \"rowNumber\" style = \"font-weight: bold; text-align: right;\">92</td><td style = \"text-align: left;\">m11</td><td style = \"text-align: left;\">2011</td><td style = \"text-align: left;\">Single year</td><td style = \"text-align: right;\">10.0</td><td style = \"text-align: right;\">3.80205</td><td style = \"text-align: right;\">16.198</td><td style = \"text-align: left;\">Injuries</td><td style = \"text-align: left;\">Number</td><td style = \"text-align: left;\">Motor vehicle traffic crashes</td><td style = \"text-align: left;\">Validated</td><td style = \"text-align: left;\">Children</td><td style = \"text-align: left;\">0-14 years</td><td style = \"text-align: left;\">Fatal</td></tr><tr><td class = \"rowNumber\" style = \"font-weight: bold; text-align: right;\">93</td><td style = \"text-align: left;\">m11</td><td style = \"text-align: left;\">2015</td><td style = \"text-align: left;\">Single year</td><td style = \"text-align: right;\">10.0</td><td style = \"text-align: right;\">3.80205</td><td style = \"text-align: right;\">16.198</td><td style = \"text-align: left;\">Injuries</td><td style = \"text-align: left;\">Number</td><td style = \"text-align: left;\">Motor vehicle traffic crashes</td><td style = \"text-align: left;\">Validated</td><td style = \"text-align: left;\">Children</td><td style = \"text-align: left;\">0-14 years</td><td style = \"text-align: left;\">Fatal</td></tr><tr><td class = \"rowNumber\" style = \"font-weight: bold; text-align: right;\">94</td><td style = \"text-align: left;\">m11</td><td style = \"text-align: left;\">2013</td><td style = \"text-align: left;\">Single year</td><td style = \"text-align: right;\">7.0</td><td style = \"text-align: right;\">1.81442</td><td style = \"text-align: right;\">12.1856</td><td style = \"text-align: left;\">Injuries</td><td style = \"text-align: left;\">Number</td><td style = \"text-align: left;\">Motor vehicle traffic crashes</td><td style = \"text-align: left;\">Validated</td><td style = \"text-align: left;\">Children</td><td style = \"text-align: left;\">0-14 years</td><td style = \"text-align: left;\">Fatal</td></tr></tbody></table></div>"
      ],
      "text/latex": [
       "\\begin{tabular}{r|cccccccc}\n",
       "\t& Series\\_reference & Period & Type & Data\\_value & Lower\\_CI & Upper\\_CI & Units & \\\\\n",
       "\t\\hline\n",
       "\t& String7 & String7 & String15 & Float64 & Float64 & Float64 & String & \\\\\n",
       "\t\\hline\n",
       "\t1 & C\\_IN01 & 2004-06 & Moving average & 40.0 & 32.8432 & 47.1568 & Injuries & $\\dots$ \\\\\n",
       "\t2 & C\\_A21 & 2003-05 & Moving average & 40.0 & 32.8432 & 47.1568 & Injuries & $\\dots$ \\\\\n",
       "\t3 & a11 & 2017 & Single year & 40.0 & 27.6041 & 52.3959 & Injuries & $\\dots$ \\\\\n",
       "\t4 & in01 & 2005 & Single year & 40.0 & 27.6041 & 52.3959 & Injuries & $\\dots$ \\\\\n",
       "\t5 & in01 & 2012 & Single year & 40.0 & 27.6041 & 52.3959 & Injuries & $\\dots$ \\\\\n",
       "\t6 & in01 & 2016 & Single year & 40.0 & 27.6041 & 52.3959 & Injuries & $\\dots$ \\\\\n",
       "\t7 & in01 & 2019 & Single year & 40.0 & 27.6041 & 52.3959 & Injuries & $\\dots$ \\\\\n",
       "\t8 & a21 & 2017 & Single year & 40.0 & 27.6041 & 52.3959 & Injuries & $\\dots$ \\\\\n",
       "\t9 & p21 & 2017 & Single year & 40.0 & 27.6041 & 52.3959 & Injuries & $\\dots$ \\\\\n",
       "\t10 & C\\_IN01 & 2011-13 & Moving average & 39.6667 & 32.5398 & 46.7936 & Injuries & $\\dots$ \\\\\n",
       "\t11 & C\\_P21 & 2010-12 & Moving average & 39.6667 & 32.5398 & 46.7936 & Injuries & $\\dots$ \\\\\n",
       "\t12 & C\\_P21 & 2015-17 & Moving average & 39.0 & 31.9332 & 46.0668 & Injuries & $\\dots$ \\\\\n",
       "\t13 & C\\_P21 & 2016-18 & Moving average & 39.0 & 31.9332 & 46.0668 & Injuries & $\\dots$ \\\\\n",
       "\t14 & f01c & 2004 & Single year & 39.0 & 26.76 & 51.24 & Injuries & $\\dots$ \\\\\n",
       "\t15 & in21 & 2013 & Single year & 39.0 & 26.76 & 51.24 & Injuries & $\\dots$ \\\\\n",
       "\t16 & p21 & 2011 & Single year & 39.0 & 26.76 & 51.24 & Injuries & $\\dots$ \\\\\n",
       "\t17 & C\\_IN01 & 2002-04 & Moving average & 38.6667 & 31.6302 & 45.7032 & Injuries & $\\dots$ \\\\\n",
       "\t18 & C\\_P21 & 2012-14 & Moving average & 38.3333 & 31.3272 & 45.3394 & Injuries & $\\dots$ \\\\\n",
       "\t19 & M\\_F01C & 2003-05 & Moving average & 38.0 & 31.0244 & 44.9756 & Injuries & $\\dots$ \\\\\n",
       "\t20 & M\\_F21C & 2002-04 & Moving average & 38.0 & 31.0244 & 44.9756 & Injuries & $\\dots$ \\\\\n",
       "\t21 & in01 & 2004 & Single year & 38.0 & 25.918 & 50.082 & Injuries & $\\dots$ \\\\\n",
       "\t22 & C\\_A21 & 2011-13 & Moving average & 37.3333 & 30.4192 & 44.2474 & Injuries & $\\dots$ \\\\\n",
       "\t23 & in01 & 2008 & Single year & 37.0 & 25.078 & 48.922 & Injuries & $\\dots$ \\\\\n",
       "\t24 & in01 & 2013 & Single year & 37.0 & 25.078 & 48.922 & Injuries & $\\dots$ \\\\\n",
       "\t$\\dots$ & $\\dots$ & $\\dots$ & $\\dots$ & $\\dots$ & $\\dots$ & $\\dots$ & $\\dots$ &  \\\\\n",
       "\\end{tabular}\n"
      ],
      "text/plain": [
       "\u001b[1m94×13 DataFrame\u001b[0m\n",
       "\u001b[1m Row \u001b[0m│\u001b[1m Series_reference \u001b[0m\u001b[1m Period  \u001b[0m\u001b[1m Type           \u001b[0m\u001b[1m Data_value \u001b[0m\u001b[1m Lower_CI \u001b[0m\u001b[1m Upper_\u001b[0m ⋯\n",
       "     │\u001b[90m String7          \u001b[0m\u001b[90m String7 \u001b[0m\u001b[90m String15       \u001b[0m\u001b[90m Float64    \u001b[0m\u001b[90m Float64  \u001b[0m\u001b[90m Float6\u001b[0m ⋯\n",
       "─────┼──────────────────────────────────────────────────────────────────────────\n",
       "   1 │ C_IN01            2004-06  Moving average     40.0     32.8432    47.15 ⋯\n",
       "   2 │ C_A21             2003-05  Moving average     40.0     32.8432    47.15\n",
       "   3 │ a11               2017     Single year        40.0     27.6041    52.39\n",
       "   4 │ in01              2005     Single year        40.0     27.6041    52.39\n",
       "   5 │ in01              2012     Single year        40.0     27.6041    52.39 ⋯\n",
       "   6 │ in01              2016     Single year        40.0     27.6041    52.39\n",
       "   7 │ in01              2019     Single year        40.0     27.6041    52.39\n",
       "   8 │ a21               2017     Single year        40.0     27.6041    52.39\n",
       "  ⋮  │        ⋮             ⋮           ⋮             ⋮          ⋮         ⋮   ⋱\n",
       "  88 │ C_M11             2015-17  Moving average     12.6667   8.63932   16.69 ⋯\n",
       "  89 │ C_M11             2012-14  Moving average     11.3333   7.52385   15.14\n",
       "  90 │ C_M11             2011-13  Moving average     10.3333   6.69579   13.97\n",
       "  91 │ C_M11             2013-15  Moving average     10.0      6.42161   13.57\n",
       "  92 │ m11               2011     Single year        10.0      3.80205   16.19 ⋯\n",
       "  93 │ m11               2015     Single year        10.0      3.80205   16.19\n",
       "  94 │ m11               2013     Single year         7.0      1.81442   12.18\n",
       "\u001b[36m                                                   8 columns and 79 rows omitted\u001b[0m"
      ]
     },
     "metadata": {},
     "output_type": "display_data"
    }
   ],
   "source": [
    "q1 |> DataFrame"
   ]
  },
  {
   "cell_type": "code",
   "execution_count": 19,
   "metadata": {},
   "outputs": [
    {
     "data": {
      "application/vnd.dataresource+json": {
       "data": [
        {
         "Age": "0-14 years",
         "Cause": "Intentional",
         "Data_value": 40,
         "Indicator": "Number",
         "Lower_CI": 32.8432234251313,
         "Period": "2004-06",
         "Population": "Children",
         "Series_reference": "C_IN01",
         "Severity": "Serious non-fatal",
         "Type": "Moving average",
         "Units": "Injuries",
         "Upper_CI": 47.1567765748686,
         "Validation": "Validated"
        },
        {
         "Age": "0-14 years",
         "Cause": "Assault",
         "Data_value": 40,
         "Indicator": "Number",
         "Lower_CI": 32.8432234251313,
         "Period": "2003-05",
         "Population": "Children",
         "Series_reference": "C_A21",
         "Severity": "Serious",
         "Type": "Moving average",
         "Units": "Injuries",
         "Upper_CI": 47.1567765748686,
         "Validation": "Validated"
        },
        {
         "Age": "All ages",
         "Cause": "Assault",
         "Data_value": 40,
         "Indicator": "Number",
         "Lower_CI": 27.6040993539087,
         "Period": "2017",
         "Population": "Whole pop",
         "Series_reference": "a11",
         "Severity": "Fatal",
         "Type": "Single year",
         "Units": "Injuries",
         "Upper_CI": 52.3959006460912,
         "Validation": "Validated"
        },
        {
         "Age": "0-14 years",
         "Cause": "Intentional",
         "Data_value": 40,
         "Indicator": "Number",
         "Lower_CI": 27.6040993539087,
         "Period": "2005",
         "Population": "Children",
         "Series_reference": "in01",
         "Severity": "Serious non-fatal",
         "Type": "Single year",
         "Units": "Injuries",
         "Upper_CI": 52.3959006460912,
         "Validation": "Validated"
        },
        {
         "Age": "0-14 years",
         "Cause": "Intentional",
         "Data_value": 40,
         "Indicator": "Number",
         "Lower_CI": 27.6040993539087,
         "Period": "2012",
         "Population": "Children",
         "Series_reference": "in01",
         "Severity": "Serious non-fatal",
         "Type": "Single year",
         "Units": "Injuries",
         "Upper_CI": 52.3959006460912,
         "Validation": "Validated"
        }
       ],
       "schema": {
        "fields": [
         {
          "name": "Series_reference",
          "type": "string"
         },
         {
          "name": "Period",
          "type": "string"
         },
         {
          "name": "Type",
          "type": "string"
         },
         {
          "name": "Data_value",
          "type": "number"
         },
         {
          "name": "Lower_CI",
          "type": "number"
         },
         {
          "name": "Upper_CI",
          "type": "number"
         },
         {
          "name": "Units",
          "type": "string"
         },
         {
          "name": "Indicator",
          "type": "string"
         },
         {
          "name": "Cause",
          "type": "string"
         },
         {
          "name": "Validation",
          "type": "string"
         },
         {
          "name": "Population",
          "type": "string"
         },
         {
          "name": "Age",
          "type": "string"
         },
         {
          "name": "Severity",
          "type": "string"
         }
        ]
       }
      },
      "text/html": [
       "<table><thead><tr><th>Series_reference</th><th>Period</th><th>Type</th><th>Data_value</th><th>Lower_CI</th><th>Upper_CI</th><th>Units</th><th>Indicator</th><th>Cause</th><th>Validation</th><th>Population</th><th>Age</th><th>Severity</th></tr></thead><tbody><tr><td>String7&#40;&quot;C_IN01&quot;&#41;</td><td>String7&#40;&quot;2004-06&quot;&#41;</td><td>String15&#40;&quot;Moving average&quot;&#41;</td><td>40.0</td><td>32.8432</td><td>47.1568</td><td>&quot;Injuries&quot;</td><td>&quot;Number&quot;</td><td>String31&#40;&quot;Intentional&quot;&#41;</td><td>String15&#40;&quot;Validated&quot;&#41;</td><td>String15&#40;&quot;Children&quot;&#41;</td><td>String15&#40;&quot;0-14 years&quot;&#41;</td><td>String31&#40;&quot;Serious non-fatal&quot;&#41;</td></tr><tr><td>String7&#40;&quot;C_A21&quot;&#41;</td><td>String7&#40;&quot;2003-05&quot;&#41;</td><td>String15&#40;&quot;Moving average&quot;&#41;</td><td>40.0</td><td>32.8432</td><td>47.1568</td><td>&quot;Injuries&quot;</td><td>&quot;Number&quot;</td><td>String31&#40;&quot;Assault&quot;&#41;</td><td>String15&#40;&quot;Validated&quot;&#41;</td><td>String15&#40;&quot;Children&quot;&#41;</td><td>String15&#40;&quot;0-14 years&quot;&#41;</td><td>String31&#40;&quot;Serious&quot;&#41;</td></tr><tr><td>String7&#40;&quot;a11&quot;&#41;</td><td>String7&#40;&quot;2017&quot;&#41;</td><td>String15&#40;&quot;Single year&quot;&#41;</td><td>40.0</td><td>27.6041</td><td>52.3959</td><td>&quot;Injuries&quot;</td><td>&quot;Number&quot;</td><td>String31&#40;&quot;Assault&quot;&#41;</td><td>String15&#40;&quot;Validated&quot;&#41;</td><td>String15&#40;&quot;Whole pop&quot;&#41;</td><td>String15&#40;&quot;All ages&quot;&#41;</td><td>String31&#40;&quot;Fatal&quot;&#41;</td></tr><tr><td>String7&#40;&quot;in01&quot;&#41;</td><td>String7&#40;&quot;2005&quot;&#41;</td><td>String15&#40;&quot;Single year&quot;&#41;</td><td>40.0</td><td>27.6041</td><td>52.3959</td><td>&quot;Injuries&quot;</td><td>&quot;Number&quot;</td><td>String31&#40;&quot;Intentional&quot;&#41;</td><td>String15&#40;&quot;Validated&quot;&#41;</td><td>String15&#40;&quot;Children&quot;&#41;</td><td>String15&#40;&quot;0-14 years&quot;&#41;</td><td>String31&#40;&quot;Serious non-fatal&quot;&#41;</td></tr><tr><td>String7&#40;&quot;in01&quot;&#41;</td><td>String7&#40;&quot;2012&quot;&#41;</td><td>String15&#40;&quot;Single year&quot;&#41;</td><td>40.0</td><td>27.6041</td><td>52.3959</td><td>&quot;Injuries&quot;</td><td>&quot;Number&quot;</td><td>String31&#40;&quot;Intentional&quot;&#41;</td><td>String15&#40;&quot;Validated&quot;&#41;</td><td>String15&#40;&quot;Children&quot;&#41;</td><td>String15&#40;&quot;0-14 years&quot;&#41;</td><td>String31&#40;&quot;Serious non-fatal&quot;&#41;</td></tr></tbody></table>"
      ],
      "text/plain": [
       "5x13 query result\n",
       "Series_reference │ Period  │ Type           │ Data_value │ Lower_CI │ Upper_CI\n",
       "─────────────────┼─────────┼────────────────┼────────────┼──────────┼─────────\n",
       "C_IN01           │ 2004-06 │ Moving average │ 40.0       │ 32.8432  │ 47.1568 \n",
       "C_A21            │ 2003-05 │ Moving average │ 40.0       │ 32.8432  │ 47.1568 \n",
       "a11              │ 2017    │ Single year    │ 40.0       │ 27.6041  │ 52.3959 \n",
       "in01             │ 2005    │ Single year    │ 40.0       │ 27.6041  │ 52.3959 \n",
       "in01             │ 2012    │ Single year    │ 40.0       │ 27.6041  │ 52.3959 \n",
       "... with 7 more columns: Units, Indicator, Cause, Validation, Population, Age, Severity"
      ]
     },
     "metadata": {},
     "output_type": "display_data"
    }
   ],
   "source": [
    "q1 |>\n",
    "    @take(5)"
   ]
  },
  {
   "cell_type": "code",
   "execution_count": 20,
   "metadata": {},
   "outputs": [
    {
     "data": {
      "text/plain": [
       "1000-element Vector{Int64}:\n",
       "       1\n",
       "       4\n",
       "       9\n",
       "      16\n",
       "      25\n",
       "      36\n",
       "      49\n",
       "      64\n",
       "      81\n",
       "     100\n",
       "       ⋮\n",
       "  984064\n",
       "  986049\n",
       "  988036\n",
       "  990025\n",
       "  992016\n",
       "  994009\n",
       "  996004\n",
       "  998001\n",
       " 1000000"
      ]
     },
     "metadata": {},
     "output_type": "display_data"
    }
   ],
   "source": [
    "squares = (1:1000).^2"
   ]
  },
  {
   "cell_type": "code",
   "execution_count": 21,
   "metadata": {},
   "outputs": [
    {
     "data": {
      "text/plain": [
       "5-element Vector{Int64}:\n",
       " 1000000\n",
       "  998001\n",
       "  996004\n",
       "  994009\n",
       "  992016"
      ]
     },
     "metadata": {},
     "output_type": "display_data"
    }
   ],
   "source": [
    "reverse(squares[end-4:end])"
   ]
  },
  {
   "cell_type": "code",
   "execution_count": 22,
   "metadata": {},
   "outputs": [
    {
     "data": {
      "text/plain": [
       "Vector{Int64}\u001b[90m (alias for \u001b[39m\u001b[90mArray{Int64, 1}\u001b[39m\u001b[90m)\u001b[39m"
      ]
     },
     "metadata": {},
     "output_type": "display_data"
    }
   ],
   "source": [
    "typeof(squares)"
   ]
  },
  {
   "cell_type": "code",
   "execution_count": 23,
   "metadata": {},
   "outputs": [
    {
     "data": {
      "text/plain": [
       "Dict{Int64, Int64} with 10 entries:\n",
       "  5  => 25\n",
       "  4  => 16\n",
       "  6  => 36\n",
       "  7  => 49\n",
       "  2  => 4\n",
       "  10 => 100\n",
       "  9  => 81\n",
       "  8  => 64\n",
       "  3  => 9\n",
       "  1  => 1"
      ]
     },
     "metadata": {},
     "output_type": "display_data"
    }
   ],
   "source": [
    "squares = 1:10 |>\n",
    "    @map(_=>_^2) |>\n",
    "    Dict"
   ]
  },
  {
   "cell_type": "code",
   "execution_count": 24,
   "metadata": {},
   "outputs": [
    {
     "data": {
      "application/vnd.dataresource+json": {
       "data": [
        {
         "num_squared": 1,
         "number": 1
        },
        {
         "num_squared": 4,
         "number": 2
        },
        {
         "num_squared": 9,
         "number": 3
        },
        {
         "num_squared": 16,
         "number": 4
        },
        {
         "num_squared": 25,
         "number": 5
        },
        {
         "num_squared": 36,
         "number": 6
        },
        {
         "num_squared": 49,
         "number": 7
        },
        {
         "num_squared": 64,
         "number": 8
        },
        {
         "num_squared": 81,
         "number": 9
        },
        {
         "num_squared": 100,
         "number": 10
        }
       ],
       "schema": {
        "fields": [
         {
          "name": "number",
          "type": "integer"
         },
         {
          "name": "num_squared",
          "type": "integer"
         }
        ]
       }
      },
      "text/html": [
       "<table><thead><tr><th>number</th><th>num_squared</th></tr></thead><tbody><tr><td>1</td><td>1</td></tr><tr><td>2</td><td>4</td></tr><tr><td>3</td><td>9</td></tr><tr><td>4</td><td>16</td></tr><tr><td>5</td><td>25</td></tr><tr><td>6</td><td>36</td></tr><tr><td>7</td><td>49</td></tr><tr><td>8</td><td>64</td></tr><tr><td>9</td><td>81</td></tr><tr><td>10</td><td>100</td></tr></tbody></table>"
      ],
      "text/plain": [
       "10x2 query result\n",
       "number │ num_squared\n",
       "───────┼────────────\n",
       "1      │ 1          \n",
       "2      │ 4          \n",
       "3      │ 9          \n",
       "4      │ 16         \n",
       "5      │ 25         \n",
       "6      │ 36         \n",
       "7      │ 49         \n",
       "8      │ 64         \n",
       "9      │ 81         \n",
       "10     │ 100        "
      ]
     },
     "metadata": {},
     "output_type": "display_data"
    }
   ],
   "source": [
    "# Named tuples\n",
    "1:10 |> @map({number=_, num_squared=_^2})"
   ]
  },
  {
   "cell_type": "code",
   "execution_count": 25,
   "metadata": {},
   "outputs": [
    {
     "data": {
      "text/plain": [
       "Dict{Int64, Int64}"
      ]
     },
     "metadata": {},
     "output_type": "display_data"
    }
   ],
   "source": [
    "typeof(squares)"
   ]
  },
  {
   "cell_type": "code",
   "execution_count": 26,
   "metadata": {},
   "outputs": [
    {
     "data": {
      "text/plain": [
       "25"
      ]
     },
     "metadata": {},
     "output_type": "display_data"
    }
   ],
   "source": [
    "squares[5]"
   ]
  },
  {
   "cell_type": "code",
   "execution_count": 27,
   "metadata": {},
   "outputs": [
    {
     "data": {
      "text/plain": [
       "Dict{Int64, Int64}()"
      ]
     },
     "metadata": {},
     "output_type": "display_data"
    }
   ],
   "source": [
    "x = Dict{Int64, Int64}()"
   ]
  },
  {
   "cell_type": "code",
   "execution_count": 28,
   "metadata": {},
   "outputs": [
    {
     "data": {
      "text/plain": [
       "Dict{Int64, Int64}()"
      ]
     },
     "metadata": {},
     "output_type": "display_data"
    }
   ],
   "source": [
    "x"
   ]
  },
  {
   "cell_type": "code",
   "execution_count": 29,
   "metadata": {},
   "outputs": [
    {
     "data": {
      "text/plain": [
       "5-element Vector{Int64}:\n",
       "  2\n",
       "  4\n",
       "  6\n",
       "  8\n",
       " 10"
      ]
     },
     "metadata": {},
     "output_type": "display_data"
    }
   ],
   "source": [
    "x = [1,2,3,4,5]\n",
    "y = [2,4,6,8,10]"
   ]
  },
  {
   "cell_type": "code",
   "execution_count": 30,
   "metadata": {},
   "outputs": [
    {
     "data": {
      "text/plain": [
       "Dict{Int64, Int64} with 5 entries:\n",
       "  5 => 10\n",
       "  4 => 8\n",
       "  2 => 4\n",
       "  3 => 6\n",
       "  1 => 2"
      ]
     },
     "metadata": {},
     "output_type": "display_data"
    }
   ],
   "source": [
    "z = Dict(zip(x,y))"
   ]
  },
  {
   "cell_type": "code",
   "execution_count": 31,
   "metadata": {},
   "outputs": [
    {
     "data": {
      "text/plain": [
       "Dict{Int64, Int64} with 5 entries:\n",
       "  5 => 10\n",
       "  4 => 8\n",
       "  2 => 4\n",
       "  3 => 6\n",
       "  1 => 2"
      ]
     },
     "metadata": {},
     "output_type": "display_data"
    }
   ],
   "source": [
    "z = Dict(x .=> y)"
   ]
  },
  {
   "cell_type": "code",
   "execution_count": 32,
   "metadata": {},
   "outputs": [
    {
     "name": "stdout",
     "output_type": "stream",
     "text": [
      "5\n",
      "4\n",
      "2\n",
      "3\n",
      "1\n"
     ]
    }
   ],
   "source": [
    "for k in keys(z)\n",
    "    println(k)\n",
    "end"
   ]
  },
  {
   "cell_type": "code",
   "execution_count": 33,
   "metadata": {},
   "outputs": [
    {
     "data": {
      "text/plain": [
       "KeySet for a Dict{Int64, Int64} with 5 entries. Keys:\n",
       "  5\n",
       "  4\n",
       "  2\n",
       "  3\n",
       "  1"
      ]
     },
     "metadata": {},
     "output_type": "display_data"
    }
   ],
   "source": [
    "# This will print the keyset but it is not a vector\n",
    "keys(z)"
   ]
  },
  {
   "cell_type": "code",
   "execution_count": 34,
   "metadata": {},
   "outputs": [
    {
     "data": {
      "text/plain": [
       "5-element Vector{Int64}:\n",
       " 5\n",
       " 4\n",
       " 2\n",
       " 3\n",
       " 1"
      ]
     },
     "metadata": {},
     "output_type": "display_data"
    }
   ],
   "source": [
    "# We use collect to create a vector\n",
    "k = collect(keys(z))\n",
    "k"
   ]
  },
  {
   "attachments": {},
   "cell_type": "markdown",
   "metadata": {},
   "source": [
    "Now we extract the corresponding values from the dictionary:"
   ]
  },
  {
   "cell_type": "code",
   "execution_count": 35,
   "metadata": {},
   "outputs": [
    {
     "data": {
      "text/plain": [
       "5-element Vector{Int64}:\n",
       " 10\n",
       "  8\n",
       "  4\n",
       "  6\n",
       "  2"
      ]
     },
     "metadata": {},
     "output_type": "display_data"
    }
   ],
   "source": [
    "v = collect(values(z))\n",
    "v"
   ]
  },
  {
   "cell_type": "code",
   "execution_count": 36,
   "metadata": {},
   "outputs": [
    {
     "data": {
      "text/plain": [
       "1000-element Vector{Int64}:\n",
       "       1\n",
       "       4\n",
       "       9\n",
       "      16\n",
       "      25\n",
       "      36\n",
       "      49\n",
       "      64\n",
       "      81\n",
       "     100\n",
       "       ⋮\n",
       "  984064\n",
       "  986049\n",
       "  988036\n",
       "  990025\n",
       "  992016\n",
       "  994009\n",
       "  996004\n",
       "  998001\n",
       " 1000000"
      ]
     },
     "metadata": {},
     "output_type": "display_data"
    }
   ],
   "source": [
    "# List comprehension\n",
    "i = [x^2 for x in 1:1000]"
   ]
  },
  {
   "cell_type": "code",
   "execution_count": 37,
   "metadata": {},
   "outputs": [
    {
     "name": "stdout",
     "output_type": "stream",
     "text": [
      "120\n"
     ]
    }
   ],
   "source": [
    "x = 1\n",
    "product = 1\n",
    "\n",
    "for x in 1:5\n",
    "    product = product * x\n",
    "end\n",
    "\n",
    "println(product)"
   ]
  },
  {
   "attachments": {},
   "cell_type": "markdown",
   "metadata": {},
   "source": [
    "Calculate the sum"
   ]
  },
  {
   "cell_type": "code",
   "execution_count": 38,
   "metadata": {},
   "outputs": [
    {
     "name": "stdout",
     "output_type": "stream",
     "text": [
      "15"
     ]
    }
   ],
   "source": [
    "x = 1\n",
    "sum = 0\n",
    "\n",
    "for x in 1:5\n",
    "    sum = sum + x\n",
    "end\n",
    "\n",
    "print(sum)"
   ]
  },
  {
   "attachments": {},
   "cell_type": "markdown",
   "metadata": {},
   "source": [
    "Now, we are going to do some work using examples from \"Julia for Data Analysis\" "
   ]
  },
  {
   "cell_type": "code",
   "execution_count": 39,
   "metadata": {},
   "outputs": [
    {
     "data": {
      "text/plain": [
       "\"movies.dat\""
      ]
     },
     "metadata": {},
     "output_type": "display_data"
    }
   ],
   "source": [
    "using Downloads\n",
    "\n",
    "data = Downloads.download(\"https://raw.githubusercontent.com/\\\n",
    "sidooms/MovieTweetings/\\\n",
    "44c525d0c766944910686c60697203cda39305d6/\\\n",
    "snapshots/10K/movies.dat\",\n",
    "\"movies.dat\")"
   ]
  },
  {
   "cell_type": "code",
   "execution_count": 40,
   "metadata": {},
   "outputs": [
    {
     "data": {
      "text/plain": [
       "3096-element Vector{String}:\n",
       " \"0002844::Fantômas - À l'ombre de la guillotine (1913)::Crime|Drama\"\n",
       " \"0007264::The Rink (1916)::Comedy|Short\"\n",
       " \"0008133::The Immigrant (1917)::Short|Comedy|Drama|Romance\"\n",
       " \"0012349::The Kid (1921)::Comedy|Drama|Family\"\n",
       " \"0013427::Nanook of the North (1922)::Documentary\"\n",
       " \"0014142::The Hunchback of Notre Dame (1923)::Drama|Romance\"\n",
       " \"0014538::Three Ages (1923)::Comedy\"\n",
       " \"0014872::Entr'acte (1924)::Short\"\n",
       " \"0015163::The Navigator (1924)::Action|Comedy\"\n",
       " \"0015324::Sherlock Jr. (1924)::Comedy|Fantasy\"\n",
       " ⋮\n",
       " \"2646378::The Frankenstein Theory (2013)::Horror|Sci-Fi\"\n",
       " \"2649128::Metro (2013)::Thriller\"\n",
       " \"2670226::Jîn (2013)::Drama\"\n",
       " \"2700330::The Two Escobars (2010)::Documentary\"\n",
       " \"2735466::Pickett's Charge (2012)::Short|Comedy|Drama|Family\"\n",
       " \"2748368::Neil (2013)::Short|Comedy\"\n",
       " \"2750600::A Different Tree (2013)::Short|Drama|Family\"\n",
       " \"2763252::Broken Night (2013)::Short|Drama\"\n",
       " \"2769592::Kiss Shot Truth or Dare (2013)::Short\""
      ]
     },
     "metadata": {},
     "output_type": "display_data"
    }
   ],
   "source": [
    "movie_data = readlines(data)"
   ]
  },
  {
   "attachments": {},
   "cell_type": "markdown",
   "metadata": {},
   "source": [
    "## String manipulation"
   ]
  },
  {
   "attachments": {},
   "cell_type": "markdown",
   "metadata": {},
   "source": [
    "This is a string vector. So, to get the first element:"
   ]
  },
  {
   "cell_type": "code",
   "execution_count": 41,
   "metadata": {},
   "outputs": [
    {
     "data": {
      "text/plain": [
       "\"[\\\"0002844::Fantômas - À l'ombre de la guillotine (1913)::Crime|Drama\\\"]\""
      ]
     },
     "metadata": {},
     "output_type": "display_data"
    }
   ],
   "source": [
    "first_line = string(first(movie_data, 1))"
   ]
  },
  {
   "cell_type": "code",
   "execution_count": 42,
   "metadata": {},
   "outputs": [
    {
     "data": {
      "text/plain": [
       "\"Crime|Drama\""
      ]
     },
     "metadata": {},
     "output_type": "display_data"
    }
   ],
   "source": [
    "genre = split(first_line, \"::\")[3]\n",
    "genre = split(genre, \"\\\"\")[1]"
   ]
  },
  {
   "cell_type": "code",
   "execution_count": 43,
   "metadata": {},
   "outputs": [
    {
     "data": {
      "text/plain": [
       "true"
      ]
     },
     "metadata": {},
     "output_type": "display_data"
    }
   ],
   "source": [
    "contains(genre,\"Drama\")"
   ]
  },
  {
   "cell_type": "code",
   "execution_count": 44,
   "metadata": {},
   "outputs": [
    {
     "data": {
      "text/plain": [
       "true"
      ]
     },
     "metadata": {},
     "output_type": "display_data"
    }
   ],
   "source": [
    "startswith(genre, \"Crime\")"
   ]
  },
  {
   "cell_type": "code",
   "execution_count": 45,
   "metadata": {},
   "outputs": [
    {
     "data": {
      "text/plain": [
       "true"
      ]
     },
     "metadata": {},
     "output_type": "display_data"
    }
   ],
   "source": [
    "endswith(genre, \"ma\")"
   ]
  },
  {
   "cell_type": "code",
   "execution_count": 46,
   "metadata": {},
   "outputs": [
    {
     "data": {
      "text/plain": [
       "\"C_r_i_m_e_|_D_r_a_m_a\""
      ]
     },
     "metadata": {},
     "output_type": "display_data"
    }
   ],
   "source": [
    "join(genre, \"_\")"
   ]
  },
  {
   "cell_type": "code",
   "execution_count": 47,
   "metadata": {},
   "outputs": [
    {
     "data": {
      "text/plain": [
       "\"CRIME|DRAMA\""
      ]
     },
     "metadata": {},
     "output_type": "display_data"
    }
   ],
   "source": [
    "uppercase(genre)"
   ]
  },
  {
   "cell_type": "code",
   "execution_count": 48,
   "metadata": {},
   "outputs": [
    {
     "data": {
      "text/plain": [
       "\"crime|Drama\""
      ]
     },
     "metadata": {},
     "output_type": "display_data"
    }
   ],
   "source": [
    "lowercasefirst(genre)"
   ]
  },
  {
   "cell_type": "code",
   "execution_count": 49,
   "metadata": {},
   "outputs": [
    {
     "data": {
      "text/plain": [
       "\"Crime|Comedy\""
      ]
     },
     "metadata": {},
     "output_type": "display_data"
    }
   ],
   "source": [
    "replace(genre, \"Drama\" => \"Comedy\")"
   ]
  },
  {
   "cell_type": "code",
   "execution_count": 50,
   "metadata": {},
   "outputs": [
    {
     "data": {
      "text/plain": [
       "\"Crime\""
      ]
     },
     "metadata": {},
     "output_type": "display_data"
    }
   ],
   "source": [
    "# To get part of the string, we use first. For example to extract Crime for genre:\n",
    "first(genre, 5)"
   ]
  },
  {
   "cell_type": "code",
   "execution_count": 51,
   "metadata": {},
   "outputs": [
    {
     "name": "stdout",
     "output_type": "stream",
     "text": [
      "true\n",
      "false\n"
     ]
    }
   ],
   "source": [
    "# To check for ASCII strings\n",
    "println(isascii(\"hello\"))\n",
    "println(isascii(\"∀ x: x≥0\"))"
   ]
  },
  {
   "cell_type": "code",
   "execution_count": 52,
   "metadata": {},
   "outputs": [
    {
     "data": {
      "text/plain": [
       "parseline (generic function with 1 method)"
      ]
     },
     "metadata": {},
     "output_type": "display_data"
    }
   ],
   "source": [
    "# Define a function to parse the lines of the file\n",
    "function parseline(line::AbstractString)\n",
    "    parts = split(line, \"::\")\n",
    "    m = match(r\"(.+) \\((\\d{4})\\)\", parts[2])\n",
    "    return (id=parts[1],\n",
    "            name=m[1],\n",
    "            year=parse(Int, m[2]),\n",
    "            genres=split(parts[3], \"|\"))\n",
    "end"
   ]
  },
  {
   "cell_type": "code",
   "execution_count": 53,
   "metadata": {},
   "outputs": [
    {
     "data": {
      "text/plain": [
       "3096-element Vector{NamedTuple{(:id, :name, :year, :genres), Tuple{SubString{String}, SubString{String}, Int64, Vector{SubString{String}}}}}:\n",
       " (id = \"0002844\", name = \"Fantômas - À l'ombre de la guillotine\", year = 1913, genres = [\"Crime\", \"Drama\"])\n",
       " (id = \"0007264\", name = \"The Rink\", year = 1916, genres = [\"Comedy\", \"Short\"])\n",
       " (id = \"0008133\", name = \"The Immigrant\", year = 1917, genres = [\"Short\", \"Comedy\", \"Drama\", \"Romance\"])\n",
       " (id = \"0012349\", name = \"The Kid\", year = 1921, genres = [\"Comedy\", \"Drama\", \"Family\"])\n",
       " (id = \"0013427\", name = \"Nanook of the North\", year = 1922, genres = [\"Documentary\"])\n",
       " (id = \"0014142\", name = \"The Hunchback of Notre Dame\", year = 1923, genres = [\"Drama\", \"Romance\"])\n",
       " (id = \"0014538\", name = \"Three Ages\", year = 1923, genres = [\"Comedy\"])\n",
       " (id = \"0014872\", name = \"Entr'acte\", year = 1924, genres = [\"Short\"])\n",
       " (id = \"0015163\", name = \"The Navigator\", year = 1924, genres = [\"Action\", \"Comedy\"])\n",
       " (id = \"0015324\", name = \"Sherlock Jr.\", year = 1924, genres = [\"Comedy\", \"Fantasy\"])\n",
       " ⋮\n",
       " (id = \"2646378\", name = \"The Frankenstein Theory\", year = 2013, genres = [\"Horror\", \"Sci-Fi\"])\n",
       " (id = \"2649128\", name = \"Metro\", year = 2013, genres = [\"Thriller\"])\n",
       " (id = \"2670226\", name = \"Jîn\", year = 2013, genres = [\"Drama\"])\n",
       " (id = \"2700330\", name = \"The Two Escobars\", year = 2010, genres = [\"Documentary\"])\n",
       " (id = \"2735466\", name = \"Pickett's Charge\", year = 2012, genres = [\"Short\", \"Comedy\", \"Drama\", \"Family\"])\n",
       " (id = \"2748368\", name = \"Neil\", year = 2013, genres = [\"Short\", \"Comedy\"])\n",
       " (id = \"2750600\", name = \"A Different Tree\", year = 2013, genres = [\"Short\", \"Drama\", \"Family\"])\n",
       " (id = \"2763252\", name = \"Broken Night\", year = 2013, genres = [\"Short\", \"Drama\"])\n",
       " (id = \"2769592\", name = \"Kiss Shot Truth or Dare\", year = 2013, genres = [\"Short\"])"
      ]
     },
     "metadata": {},
     "output_type": "display_data"
    }
   ],
   "source": [
    "records = parseline.(movie_data)"
   ]
  },
  {
   "cell_type": "code",
   "execution_count": 54,
   "metadata": {},
   "outputs": [
    {
     "data": {
      "text/plain": [
       "\"Fantômas - À l'ombre de la guillotine\""
      ]
     },
     "metadata": {},
     "output_type": "display_data"
    }
   ],
   "source": [
    "# To get the name of the first movie\n",
    "records[1].name"
   ]
  },
  {
   "cell_type": "code",
   "execution_count": 55,
   "metadata": {},
   "outputs": [
    {
     "data": {
      "text/plain": [
       "1913"
      ]
     },
     "metadata": {},
     "output_type": "display_data"
    }
   ],
   "source": [
    "# To get the year of the first movie\n",
    "records[1].year"
   ]
  },
  {
   "attachments": {},
   "cell_type": "markdown",
   "metadata": {},
   "source": [
    "Now, we create an array to store all the genres"
   ]
  },
  {
   "cell_type": "code",
   "execution_count": 56,
   "metadata": {},
   "outputs": [
    {
     "data": {
      "text/plain": [
       "String[]"
      ]
     },
     "metadata": {},
     "output_type": "display_data"
    }
   ],
   "source": [
    "genres = String[]"
   ]
  },
  {
   "cell_type": "code",
   "execution_count": 57,
   "metadata": {},
   "outputs": [],
   "source": [
    "for record in records\n",
    "    append!(genres, record.genres)\n",
    "end"
   ]
  },
  {
   "cell_type": "code",
   "execution_count": 58,
   "metadata": {},
   "outputs": [
    {
     "data": {
      "text/plain": [
       "8121-element Vector{String}:\n",
       " \"Crime\"\n",
       " \"Drama\"\n",
       " \"Comedy\"\n",
       " \"Short\"\n",
       " \"Short\"\n",
       " \"Comedy\"\n",
       " \"Drama\"\n",
       " \"Romance\"\n",
       " \"Comedy\"\n",
       " \"Drama\"\n",
       " ⋮\n",
       " \"Family\"\n",
       " \"Short\"\n",
       " \"Comedy\"\n",
       " \"Short\"\n",
       " \"Drama\"\n",
       " \"Family\"\n",
       " \"Short\"\n",
       " \"Drama\"\n",
       " \"Short\""
      ]
     },
     "metadata": {},
     "output_type": "display_data"
    }
   ],
   "source": [
    "genres"
   ]
  },
  {
   "cell_type": "code",
   "execution_count": 59,
   "metadata": {},
   "outputs": [
    {
     "data": {
      "text/plain": [
       "25-element Named Vector{Int64}\n",
       "Dim1        │ \n",
       "────────────┼─────\n",
       "            │   14\n",
       "Action      │  635\n",
       "Adventure   │  443\n",
       "Animation   │  137\n",
       "Biography   │  166\n",
       "Comedy      │ 1001\n",
       "Crime       │  550\n",
       "Documentary │  126\n",
       "⋮                ⋮\n",
       "News        │    4\n",
       "Romance     │  558\n",
       "Sci-Fi      │  305\n",
       "Short       │   46\n",
       "Sport       │   84\n",
       "Thriller    │  910\n",
       "War         │  126\n",
       "Western     │   35"
      ]
     },
     "metadata": {},
     "output_type": "display_data"
    }
   ],
   "source": [
    "genre_frequencies = freqtable(genres)"
   ]
  },
  {
   "cell_type": "code",
   "execution_count": 60,
   "metadata": {},
   "outputs": [
    {
     "data": {
      "text/plain": [
       "25-element Named Vector{Int64}\n",
       "Dim1        │ \n",
       "────────────┼─────\n",
       "Drama       │ 1583\n",
       "Comedy      │ 1001\n",
       "Thriller    │  910\n",
       "Action      │  635\n",
       "Romance     │  558\n",
       "Crime       │  550\n",
       "Adventure   │  443\n",
       "Horror      │  325\n",
       "⋮                ⋮\n",
       "Sport       │   84\n",
       "Music       │   83\n",
       "Musical     │   58\n",
       "Short       │   46\n",
       "Western     │   35\n",
       "            │   14\n",
       "Film-Noir   │   13\n",
       "News        │    4"
      ]
     },
     "metadata": {},
     "output_type": "display_data"
    }
   ],
   "source": [
    "sort(genre_frequencies, rev=true)"
   ]
  },
  {
   "cell_type": "code",
   "execution_count": 61,
   "metadata": {},
   "outputs": [
    {
     "data": {
      "text/plain": [
       "25-element Named Vector{Int64}\n",
       "Dim1        │ \n",
       "────────────┼─────\n",
       "            │   14\n",
       "Action      │  635\n",
       "Adventure   │  443\n",
       "Animation   │  137\n",
       "Biography   │  166\n",
       "Comedy      │ 1001\n",
       "Crime       │  550\n",
       "Documentary │  126\n",
       "⋮                ⋮\n",
       "News        │    4\n",
       "Romance     │  558\n",
       "Sci-Fi      │  305\n",
       "Short       │   46\n",
       "Sport       │   84\n",
       "Thriller    │  910\n",
       "War         │  126\n",
       "Western     │   35"
      ]
     },
     "metadata": {},
     "output_type": "display_data"
    }
   ],
   "source": [
    "genre_frequencies"
   ]
  },
  {
   "attachments": {},
   "cell_type": "markdown",
   "metadata": {},
   "source": [
    "We "
   ]
  },
  {
   "cell_type": "code",
   "execution_count": 62,
   "metadata": {},
   "outputs": [
    {
     "data": {
      "text/plain": [
       "1000000-element Vector{String}:\n",
       " \"rJ2\"\n",
       " \"261\"\n",
       " \"DX0\"\n",
       " \"L3e\"\n",
       " \"K7X\"\n",
       " \"THn\"\n",
       " \"5Ho\"\n",
       " \"EZe\"\n",
       " \"wP8\"\n",
       " \"qKH\"\n",
       " ⋮\n",
       " \"0ds\"\n",
       " \"XM1\"\n",
       " \"oEL\"\n",
       " \"O6i\"\n",
       " \"RIt\"\n",
       " \"tBa\"\n",
       " \"DDJ\"\n",
       " \"tlq\"\n",
       " \"wX8\""
      ]
     },
     "metadata": {},
     "output_type": "display_data"
    }
   ],
   "source": [
    "strings_size_3 = [randstring(3) for i in 1:10^6]"
   ]
  },
  {
   "cell_type": "code",
   "execution_count": 63,
   "metadata": {},
   "outputs": [
    {
     "data": {
      "text/plain": [
       "1000000-element Vector{String3}:\n",
       " \"rJ2\"\n",
       " \"261\"\n",
       " \"DX0\"\n",
       " \"L3e\"\n",
       " \"K7X\"\n",
       " \"THn\"\n",
       " \"5Ho\"\n",
       " \"EZe\"\n",
       " \"wP8\"\n",
       " \"qKH\"\n",
       " ⋮\n",
       " \"0ds\"\n",
       " \"XM1\"\n",
       " \"oEL\"\n",
       " \"O6i\"\n",
       " \"RIt\"\n",
       " \"tBa\"\n",
       " \"DDJ\"\n",
       " \"tlq\"\n",
       " \"wX8\""
      ]
     },
     "metadata": {},
     "output_type": "display_data"
    }
   ],
   "source": [
    "inline_strings_size_3 = inlinestrings(strings_size_3)"
   ]
  },
  {
   "cell_type": "code",
   "execution_count": 64,
   "metadata": {},
   "outputs": [
    {
     "name": "stdout",
     "output_type": "stream",
     "text": [
      "19000040\n",
      "4000040\n"
     ]
    }
   ],
   "source": [
    "println(Base.summarysize(strings_size_3)) \n",
    "println(Base.summarysize(inline_strings_size_3))"
   ]
  },
  {
   "attachments": {},
   "cell_type": "markdown",
   "metadata": {},
   "source": [
    "## Data Science"
   ]
  },
  {
   "attachments": {},
   "cell_type": "markdown",
   "metadata": {},
   "source": [
    "We read in a file (checking if it exists)"
   ]
  },
  {
   "cell_type": "code",
   "execution_count": 65,
   "metadata": {},
   "outputs": [],
   "source": [
    "using Queryverse"
   ]
  },
  {
   "cell_type": "code",
   "execution_count": 66,
   "metadata": {},
   "outputs": [
    {
     "data": {
      "text/html": [
       "<div><div style = \"float: left;\"><span>14758×6 DataFrame</span></div><div style = \"float: right;\"><span style = \"font-style: italic;\">14733 rows omitted</span></div><div style = \"clear: both;\"></div></div><div class = \"data-frame\" style = \"overflow-x: scroll;\"><table class = \"data-frame\" style = \"margin-bottom: 6px;\"><thead><tr class = \"header\"><th class = \"rowNumber\" style = \"font-weight: bold; text-align: right;\">Row</th><th style = \"text-align: left;\">description</th><th style = \"text-align: left;\">industry</th><th style = \"text-align: left;\">level</th><th style = \"text-align: left;\">size</th><th style = \"text-align: left;\">line_code</th><th style = \"text-align: left;\">value</th></tr><tr class = \"subheader headerLastRow\"><th class = \"rowNumber\" style = \"font-weight: bold; text-align: right;\"></th><th title = \"String\" style = \"text-align: left;\">String</th><th title = \"String\" style = \"text-align: left;\">String</th><th title = \"Int64\" style = \"text-align: left;\">Int64</th><th title = \"String\" style = \"text-align: left;\">String</th><th title = \"String\" style = \"text-align: left;\">String</th><th title = \"Int64\" style = \"text-align: left;\">Int64</th></tr></thead><tbody><tr><td class = \"rowNumber\" style = \"font-weight: bold; text-align: right;\">1</td><td style = \"text-align: left;\">Business main customer: individuals or households</td><td style = \"text-align: left;\">total</td><td style = \"text-align: right;\">0</td><td style = \"text-align: left;\">6\\x9619 employees</td><td style = \"text-align: left;\">C0300.01</td><td style = \"text-align: right;\">15639</td></tr><tr><td class = \"rowNumber\" style = \"font-weight: bold; text-align: right;\">2</td><td style = \"text-align: left;\">Business main customer: individuals or households</td><td style = \"text-align: left;\">total</td><td style = \"text-align: right;\">0</td><td style = \"text-align: left;\">20\\x9649 employees</td><td style = \"text-align: left;\">C0300.01</td><td style = \"text-align: right;\">2943</td></tr><tr><td class = \"rowNumber\" style = \"font-weight: bold; text-align: right;\">3</td><td style = \"text-align: left;\">Business main customer: individuals or households</td><td style = \"text-align: left;\">total</td><td style = \"text-align: right;\">0</td><td style = \"text-align: left;\">50\\x9699 employees</td><td style = \"text-align: left;\">C0300.01</td><td style = \"text-align: right;\">639</td></tr><tr><td class = \"rowNumber\" style = \"font-weight: bold; text-align: right;\">4</td><td style = \"text-align: left;\">Business main customer: individuals or households</td><td style = \"text-align: left;\">total</td><td style = \"text-align: right;\">0</td><td style = \"text-align: left;\">100+ employees</td><td style = \"text-align: left;\">C0300.01</td><td style = \"text-align: right;\">555</td></tr><tr><td class = \"rowNumber\" style = \"font-weight: bold; text-align: right;\">5</td><td style = \"text-align: left;\">Business main customer: individuals or households</td><td style = \"text-align: left;\">Agriculture, forestry, &amp; fishing</td><td style = \"text-align: right;\">1</td><td style = \"text-align: left;\">total</td><td style = \"text-align: left;\">C0300.01</td><td style = \"text-align: right;\">348</td></tr><tr><td class = \"rowNumber\" style = \"font-weight: bold; text-align: right;\">6</td><td style = \"text-align: left;\">Business main customer: individuals or households</td><td style = \"text-align: left;\">Agriculture</td><td style = \"text-align: right;\">2</td><td style = \"text-align: left;\">total</td><td style = \"text-align: left;\">C0300.01</td><td style = \"text-align: right;\">177</td></tr><tr><td class = \"rowNumber\" style = \"font-weight: bold; text-align: right;\">7</td><td style = \"text-align: left;\">Business main customer: individuals or households</td><td style = \"text-align: left;\">Commercial fishing</td><td style = \"text-align: right;\">2</td><td style = \"text-align: left;\">total</td><td style = \"text-align: left;\">C0300.01</td><td style = \"text-align: right;\">3</td></tr><tr><td class = \"rowNumber\" style = \"font-weight: bold; text-align: right;\">8</td><td style = \"text-align: left;\">Business main customer: individuals or households</td><td style = \"text-align: left;\">Forestry &amp; logging</td><td style = \"text-align: right;\">2</td><td style = \"text-align: left;\">total</td><td style = \"text-align: left;\">C0300.01</td><td style = \"text-align: right;\">12</td></tr><tr><td class = \"rowNumber\" style = \"font-weight: bold; text-align: right;\">9</td><td style = \"text-align: left;\">Business main customer: individuals or households</td><td style = \"text-align: left;\">Agriculture, forestry, &amp; fishing support services</td><td style = \"text-align: right;\">2</td><td style = \"text-align: left;\">total</td><td style = \"text-align: left;\">C0300.01</td><td style = \"text-align: right;\">159</td></tr><tr><td class = \"rowNumber\" style = \"font-weight: bold; text-align: right;\">10</td><td style = \"text-align: left;\">Business main customer: individuals or households</td><td style = \"text-align: left;\">Mining</td><td style = \"text-align: right;\">1</td><td style = \"text-align: left;\">total</td><td style = \"text-align: left;\">C0300.01</td><td style = \"text-align: right;\">12</td></tr><tr><td class = \"rowNumber\" style = \"font-weight: bold; text-align: right;\">11</td><td style = \"text-align: left;\">Business main customer: individuals or households</td><td style = \"text-align: left;\">Manufacturing</td><td style = \"text-align: right;\">1</td><td style = \"text-align: left;\">total</td><td style = \"text-align: left;\">C0300.01</td><td style = \"text-align: right;\">1230</td></tr><tr><td class = \"rowNumber\" style = \"font-weight: bold; text-align: right;\">12</td><td style = \"text-align: left;\">Business main customer: individuals or households</td><td style = \"text-align: left;\">Food, beverage, &amp; tobacco</td><td style = \"text-align: right;\">2</td><td style = \"text-align: left;\">total</td><td style = \"text-align: left;\">C0300.01</td><td style = \"text-align: right;\">462</td></tr><tr><td class = \"rowNumber\" style = \"font-weight: bold; text-align: right;\">13</td><td style = \"text-align: left;\">Business main customer: individuals or households</td><td style = \"text-align: left;\">Textile, clothing, footwear, &amp; leather</td><td style = \"text-align: right;\">2</td><td style = \"text-align: left;\">total</td><td style = \"text-align: left;\">C0300.01</td><td style = \"text-align: right;\">66</td></tr><tr><td style = \"text-align: right;\">&vellip;</td><td style = \"text-align: right;\">&vellip;</td><td style = \"text-align: right;\">&vellip;</td><td style = \"text-align: right;\">&vellip;</td><td style = \"text-align: right;\">&vellip;</td><td style = \"text-align: right;\">&vellip;</td><td style = \"text-align: right;\">&vellip;</td></tr><tr><td class = \"rowNumber\" style = \"font-weight: bold; text-align: right;\">14747</td><td style = \"text-align: left;\">How union representation of employees has affected the level of flexibility/availability to make changes to employment conditions: don&apos;t know</td><td style = \"text-align: left;\">Insurance</td><td style = \"text-align: right;\">2</td><td style = \"text-align: left;\">total</td><td style = \"text-align: left;\">C3307.04</td><td style = \"text-align: right;\">0</td></tr><tr><td class = \"rowNumber\" style = \"font-weight: bold; text-align: right;\">14748</td><td style = \"text-align: left;\">How union representation of employees has affected the level of flexibility/availability to make changes to employment conditions: don&apos;t know</td><td style = \"text-align: left;\">Auxiliary</td><td style = \"text-align: right;\">2</td><td style = \"text-align: left;\">total</td><td style = \"text-align: left;\">C3307.04</td><td style = \"text-align: right;\">0</td></tr><tr><td class = \"rowNumber\" style = \"font-weight: bold; text-align: right;\">14749</td><td style = \"text-align: left;\">How union representation of employees has affected the level of flexibility/availability to make changes to employment conditions: don&apos;t know</td><td style = \"text-align: left;\">Rental, hiring, &amp; real estate services</td><td style = \"text-align: right;\">1</td><td style = \"text-align: left;\">total</td><td style = \"text-align: left;\">C3307.04</td><td style = \"text-align: right;\">0</td></tr><tr><td class = \"rowNumber\" style = \"font-weight: bold; text-align: right;\">14750</td><td style = \"text-align: left;\">How union representation of employees has affected the level of flexibility/availability to make changes to employment conditions: don&apos;t know</td><td style = \"text-align: left;\">Professional, scientific, &amp; technical services</td><td style = \"text-align: right;\">1</td><td style = \"text-align: left;\">total</td><td style = \"text-align: left;\">C3307.04</td><td style = \"text-align: right;\">0</td></tr><tr><td class = \"rowNumber\" style = \"font-weight: bold; text-align: right;\">14751</td><td style = \"text-align: left;\">How union representation of employees has affected the level of flexibility/availability to make changes to employment conditions: don&apos;t know</td><td style = \"text-align: left;\">Computer systems design</td><td style = \"text-align: right;\">2</td><td style = \"text-align: left;\">total</td><td style = \"text-align: left;\">C3307.04</td><td style = \"text-align: right;\">0</td></tr><tr><td class = \"rowNumber\" style = \"font-weight: bold; text-align: right;\">14752</td><td style = \"text-align: left;\">How union representation of employees has affected the level of flexibility/availability to make changes to employment conditions: don&apos;t know</td><td style = \"text-align: left;\">Other professional scientific</td><td style = \"text-align: right;\">2</td><td style = \"text-align: left;\">total</td><td style = \"text-align: left;\">C3307.04</td><td style = \"text-align: right;\">3</td></tr><tr><td class = \"rowNumber\" style = \"font-weight: bold; text-align: right;\">14753</td><td style = \"text-align: left;\">How union representation of employees has affected the level of flexibility/availability to make changes to employment conditions: don&apos;t know</td><td style = \"text-align: left;\">Administrative &amp; support services</td><td style = \"text-align: right;\">1</td><td style = \"text-align: left;\">total</td><td style = \"text-align: left;\">C3307.04</td><td style = \"text-align: right;\">3</td></tr><tr><td class = \"rowNumber\" style = \"font-weight: bold; text-align: right;\">14754</td><td style = \"text-align: left;\">How union representation of employees has affected the level of flexibility/availability to make changes to employment conditions: don&apos;t know</td><td style = \"text-align: left;\">Education &amp; training</td><td style = \"text-align: right;\">1</td><td style = \"text-align: left;\">total</td><td style = \"text-align: left;\">C3307.04</td><td style = \"text-align: right;\">3</td></tr><tr><td class = \"rowNumber\" style = \"font-weight: bold; text-align: right;\">14755</td><td style = \"text-align: left;\">How union representation of employees has affected the level of flexibility/availability to make changes to employment conditions: don&apos;t know</td><td style = \"text-align: left;\">Health care &amp; social assistance</td><td style = \"text-align: right;\">1</td><td style = \"text-align: left;\">total</td><td style = \"text-align: left;\">C3307.04</td><td style = \"text-align: right;\">36</td></tr><tr><td class = \"rowNumber\" style = \"font-weight: bold; text-align: right;\">14756</td><td style = \"text-align: left;\">How union representation of employees has affected the level of flexibility/availability to make changes to employment conditions: don&apos;t know</td><td style = \"text-align: left;\">Arts &amp; recreation services</td><td style = \"text-align: right;\">1</td><td style = \"text-align: left;\">total</td><td style = \"text-align: left;\">C3307.04</td><td style = \"text-align: right;\">0</td></tr><tr><td class = \"rowNumber\" style = \"font-weight: bold; text-align: right;\">14757</td><td style = \"text-align: left;\">How union representation of employees has affected the level of flexibility/availability to make changes to employment conditions: don&apos;t know</td><td style = \"text-align: left;\">Other services</td><td style = \"text-align: right;\">1</td><td style = \"text-align: left;\">total</td><td style = \"text-align: left;\">C3307.04</td><td style = \"text-align: right;\">0</td></tr><tr><td class = \"rowNumber\" style = \"font-weight: bold; text-align: right;\">14758</td><td style = \"text-align: left;\">How union representation of employees has affected the level of flexibility/availability to make changes to employment conditions: don&apos;t know</td><td style = \"text-align: left;\">total</td><td style = \"text-align: right;\">0</td><td style = \"text-align: left;\">total</td><td style = \"text-align: left;\">C3307.04</td><td style = \"text-align: right;\">174</td></tr></tbody></table></div>"
      ],
      "text/latex": [
       "\\begin{tabular}{r|ccc}\n",
       "\t& description & industry & \\\\\n",
       "\t\\hline\n",
       "\t& String & String & \\\\\n",
       "\t\\hline\n",
       "\t1 & Business main customer: individuals or households & total & $\\dots$ \\\\\n",
       "\t2 & Business main customer: individuals or households & total & $\\dots$ \\\\\n",
       "\t3 & Business main customer: individuals or households & total & $\\dots$ \\\\\n",
       "\t4 & Business main customer: individuals or households & total & $\\dots$ \\\\\n",
       "\t5 & Business main customer: individuals or households & Agriculture, forestry, \\& fishing & $\\dots$ \\\\\n",
       "\t6 & Business main customer: individuals or households & Agriculture & $\\dots$ \\\\\n",
       "\t7 & Business main customer: individuals or households & Commercial fishing & $\\dots$ \\\\\n",
       "\t8 & Business main customer: individuals or households & Forestry \\& logging & $\\dots$ \\\\\n",
       "\t9 & Business main customer: individuals or households & Agriculture, forestry, \\& fishing support services & $\\dots$ \\\\\n",
       "\t10 & Business main customer: individuals or households & Mining & $\\dots$ \\\\\n",
       "\t11 & Business main customer: individuals or households & Manufacturing & $\\dots$ \\\\\n",
       "\t12 & Business main customer: individuals or households & Food, beverage, \\& tobacco & $\\dots$ \\\\\n",
       "\t13 & Business main customer: individuals or households & Textile, clothing, footwear, \\& leather & $\\dots$ \\\\\n",
       "\t14 & Business main customer: individuals or households & Wood \\& paper product & $\\dots$ \\\\\n",
       "\t15 & Business main customer: individuals or households & Printing, publishing, \\& recorded media & $\\dots$ \\\\\n",
       "\t16 & Business main customer: individuals or households & Petroleum, coal, chemical, \\& associated product & $\\dots$ \\\\\n",
       "\t17 & Business main customer: individuals or households & Non-metallic mineral product & $\\dots$ \\\\\n",
       "\t18 & Business main customer: individuals or households & Metal product & $\\dots$ \\\\\n",
       "\t19 & Business main customer: individuals or households & Transport and industrial machinery \\& equipment & $\\dots$ \\\\\n",
       "\t20 & Business main customer: individuals or households & Other machinery \\& equipment & $\\dots$ \\\\\n",
       "\t21 & Business main customer: individuals or households & Other manufacturing & $\\dots$ \\\\\n",
       "\t22 & Business main customer: individuals or households & Electricity, gas, water, \\& waste services & $\\dots$ \\\\\n",
       "\t23 & Business main customer: individuals or households & Construction & $\\dots$ \\\\\n",
       "\t24 & Business main customer: individuals or households & Wholesale trade & $\\dots$ \\\\\n",
       "\t$\\dots$ & $\\dots$ & $\\dots$ &  \\\\\n",
       "\\end{tabular}\n"
      ],
      "text/plain": [
       "\u001b[1m14758×6 DataFrame\u001b[0m\n",
       "\u001b[1m   Row \u001b[0m│\u001b[1m description                       \u001b[0m\u001b[1m industry                          \u001b[0m\u001b[1m\u001b[0m ⋯\n",
       "       │\u001b[90m String                            \u001b[0m\u001b[90m String                            \u001b[0m\u001b[90m\u001b[0m ⋯\n",
       "───────┼────────────────────────────────────────────────────────────────────────\n",
       "     1 │ Business main customer: individu…  total                              ⋯\n",
       "     2 │ Business main customer: individu…  total\n",
       "     3 │ Business main customer: individu…  total\n",
       "     4 │ Business main customer: individu…  total\n",
       "     5 │ Business main customer: individu…  Agriculture, forestry, & fishing   ⋯\n",
       "     6 │ Business main customer: individu…  Agriculture\n",
       "     7 │ Business main customer: individu…  Commercial fishing\n",
       "     8 │ Business main customer: individu…  Forestry & logging\n",
       "   ⋮   │                 ⋮                                  ⋮                  ⋱\n",
       " 14752 │ How union representation of empl…  Other professional scientific      ⋯\n",
       " 14753 │ How union representation of empl…  Administrative & support services\n",
       " 14754 │ How union representation of empl…  Education & training\n",
       " 14755 │ How union representation of empl…  Health care & social assistance\n",
       " 14756 │ How union representation of empl…  Arts & recreation services         ⋯\n",
       " 14757 │ How union representation of empl…  Other services\n",
       " 14758 │ How union representation of empl…  total\n",
       "\u001b[36m                                                4 columns and 14743 rows omitted\u001b[0m"
      ]
     },
     "metadata": {},
     "output_type": "display_data"
    }
   ],
   "source": [
    "df = load(\"https://www.stats.govt.nz/assets/Uploads/Business-operations-survey/Business-operations-survey-2022/Download-data/business-operations-survey-2022-price-and-wage-setting.csv\") |> \n",
    "    DataFrame"
   ]
  },
  {
   "cell_type": "code",
   "execution_count": 67,
   "metadata": {},
   "outputs": [
    {
     "data": {
      "text/html": [
       "<div><div style = \"float: left;\"><span>6×7 DataFrame</span></div><div style = \"clear: both;\"></div></div><div class = \"data-frame\" style = \"overflow-x: scroll;\"><table class = \"data-frame\" style = \"margin-bottom: 6px;\"><thead><tr class = \"header\"><th class = \"rowNumber\" style = \"font-weight: bold; text-align: right;\">Row</th><th style = \"text-align: left;\">variable</th><th style = \"text-align: left;\">mean</th><th style = \"text-align: left;\">min</th><th style = \"text-align: left;\">median</th><th style = \"text-align: left;\">max</th><th style = \"text-align: left;\">nmissing</th><th style = \"text-align: left;\">eltype</th></tr><tr class = \"subheader headerLastRow\"><th class = \"rowNumber\" style = \"font-weight: bold; text-align: right;\"></th><th title = \"Symbol\" style = \"text-align: left;\">Symbol</th><th title = \"Union{Nothing, Float64}\" style = \"text-align: left;\">Union…</th><th title = \"Any\" style = \"text-align: left;\">Any</th><th title = \"Union{Nothing, Float64}\" style = \"text-align: left;\">Union…</th><th title = \"Any\" style = \"text-align: left;\">Any</th><th title = \"Int64\" style = \"text-align: left;\">Int64</th><th title = \"DataType\" style = \"text-align: left;\">DataType</th></tr></thead><tbody><tr><td class = \"rowNumber\" style = \"font-weight: bold; text-align: right;\">1</td><td style = \"text-align: left;\">description</td><td style = \"font-style: italic; text-align: left;\"></td><td style = \"text-align: left;\">Are answers applicable to pricing processes used for business&apos;s other products: no</td><td style = \"font-style: italic; text-align: left;\"></td><td style = \"text-align: left;\">Who reviews and sets the price: other</td><td style = \"text-align: right;\">0</td><td style = \"text-align: left;\">String</td></tr><tr><td class = \"rowNumber\" style = \"font-weight: bold; text-align: right;\">2</td><td style = \"text-align: left;\">industry</td><td style = \"font-style: italic; text-align: left;\"></td><td style = \"text-align: left;\">Accommodation &amp; food services</td><td style = \"font-style: italic; text-align: left;\"></td><td style = \"text-align: left;\">total</td><td style = \"text-align: right;\">0</td><td style = \"text-align: left;\">String</td></tr><tr><td class = \"rowNumber\" style = \"font-weight: bold; text-align: right;\">3</td><td style = \"text-align: left;\">level</td><td style = \"text-align: left;\">1.40426</td><td style = \"text-align: left;\">0</td><td style = \"text-align: left;\">2.0</td><td style = \"text-align: left;\">2</td><td style = \"text-align: right;\">0</td><td style = \"text-align: left;\">Int64</td></tr><tr><td class = \"rowNumber\" style = \"font-weight: bold; text-align: right;\">4</td><td style = \"text-align: left;\">size</td><td style = \"font-style: italic; text-align: left;\"></td><td style = \"text-align: left;\">100+ employees</td><td style = \"font-style: italic; text-align: left;\"></td><td style = \"text-align: left;\">total</td><td style = \"text-align: right;\">0</td><td style = \"text-align: left;\">String</td></tr><tr><td class = \"rowNumber\" style = \"font-weight: bold; text-align: right;\">5</td><td style = \"text-align: left;\">line_code</td><td style = \"font-style: italic; text-align: left;\"></td><td style = \"text-align: left;\">C0300.01</td><td style = \"font-style: italic; text-align: left;\"></td><td style = \"text-align: left;\">C3307.04</td><td style = \"text-align: right;\">0</td><td style = \"text-align: left;\">String</td></tr><tr><td class = \"rowNumber\" style = \"font-weight: bold; text-align: right;\">6</td><td style = \"text-align: left;\">value</td><td style = \"text-align: left;\">669.344</td><td style = \"text-align: left;\">0</td><td style = \"text-align: left;\">90.0</td><td style = \"text-align: left;\">44877</td><td style = \"text-align: right;\">0</td><td style = \"text-align: left;\">Int64</td></tr></tbody></table></div>"
      ],
      "text/latex": [
       "\\begin{tabular}{r|cccc}\n",
       "\t& variable & mean & min & \\\\\n",
       "\t\\hline\n",
       "\t& Symbol & Union… & Any & \\\\\n",
       "\t\\hline\n",
       "\t1 & description &  & Are answers applicable to pricing processes used for business's other products: no & $\\dots$ \\\\\n",
       "\t2 & industry &  & Accommodation \\& food services & $\\dots$ \\\\\n",
       "\t3 & level & 1.40426 & 0 & $\\dots$ \\\\\n",
       "\t4 & size &  & 100+ employees & $\\dots$ \\\\\n",
       "\t5 & line\\_code &  & C0300.01 & $\\dots$ \\\\\n",
       "\t6 & value & 669.344 & 0 & $\\dots$ \\\\\n",
       "\\end{tabular}\n"
      ],
      "text/plain": [
       "\u001b[1m6×7 DataFrame\u001b[0m\n",
       "\u001b[1m Row \u001b[0m│\u001b[1m variable    \u001b[0m\u001b[1m mean    \u001b[0m\u001b[1m min                               \u001b[0m\u001b[1m median \u001b[0m\u001b[1m max   \u001b[0m ⋯\n",
       "     │\u001b[90m Symbol      \u001b[0m\u001b[90m Union…  \u001b[0m\u001b[90m Any                               \u001b[0m\u001b[90m Union… \u001b[0m\u001b[90m Any   \u001b[0m ⋯\n",
       "─────┼──────────────────────────────────────────────────────────────────────────\n",
       "   1 │ description \u001b[90m         \u001b[0m Are answers applicable to pricin… \u001b[90m        \u001b[0m Who re ⋯\n",
       "   2 │ industry    \u001b[90m         \u001b[0m Accommodation & food services     \u001b[90m        \u001b[0m total\n",
       "   3 │ level        1.40426  0                                  2.0     2\n",
       "   4 │ size        \u001b[90m         \u001b[0m 100+ employees                    \u001b[90m        \u001b[0m total\n",
       "   5 │ line_code   \u001b[90m         \u001b[0m C0300.01                          \u001b[90m        \u001b[0m C3307. ⋯\n",
       "   6 │ value        669.344  0                                  90.0    44877\n",
       "\u001b[36m                                                               3 columns omitted\u001b[0m"
      ]
     },
     "metadata": {},
     "output_type": "display_data"
    }
   ],
   "source": [
    "describe(df)"
   ]
  },
  {
   "cell_type": "code",
   "execution_count": 68,
   "metadata": {},
   "outputs": [
    {
     "data": {
      "text/plain": [
       "14758"
      ]
     },
     "metadata": {},
     "output_type": "display_data"
    }
   ],
   "source": [
    "# Find the number of rows\n",
    "nrow(df)"
   ]
  },
  {
   "cell_type": "code",
   "execution_count": 69,
   "metadata": {},
   "outputs": [
    {
     "data": {
      "text/plain": [
       "6"
      ]
     },
     "metadata": {},
     "output_type": "display_data"
    }
   ],
   "source": [
    "# Find the number of columns\n",
    "ncol(df)"
   ]
  },
  {
   "cell_type": "code",
   "execution_count": 70,
   "metadata": {},
   "outputs": [
    {
     "data": {
      "text/plain": [
       "6-element Vector{String}:\n",
       " \"description\"\n",
       " \"industry\"\n",
       " \"level\"\n",
       " \"size\"\n",
       " \"line_code\"\n",
       " \"value\""
      ]
     },
     "metadata": {},
     "output_type": "display_data"
    }
   ],
   "source": [
    "names(df)"
   ]
  },
  {
   "cell_type": "code",
   "execution_count": 71,
   "metadata": {},
   "outputs": [
    {
     "data": {
      "text/plain": [
       "5-element Vector{String}:\n",
       " \"total\"\n",
       " \"total\"\n",
       " \"total\"\n",
       " \"total\"\n",
       " \"Agriculture, forestry, & fishing\""
      ]
     },
     "metadata": {},
     "output_type": "display_data"
    }
   ],
   "source": [
    "# Get the first five entries in the second column\n",
    "first(df[:,2], 5)"
   ]
  },
  {
   "cell_type": "code",
   "execution_count": 72,
   "metadata": {},
   "outputs": [
    {
     "data": {
      "text/plain": [
       "5-element Vector{Int64}:\n",
       " 15639\n",
       "  2943\n",
       "   639\n",
       "   555\n",
       "   348"
      ]
     },
     "metadata": {},
     "output_type": "display_data"
    }
   ],
   "source": [
    "# Get the first 5 entries in the last column\n",
    "first(df[:,end], 5)"
   ]
  },
  {
   "cell_type": "code",
   "execution_count": 73,
   "metadata": {},
   "outputs": [
    {
     "data": {
      "text/plain": [
       "43-element Vector{String}:\n",
       " \"total\"\n",
       " \"Agriculture, forestry, & fishing\"\n",
       " \"Agriculture\"\n",
       " \"Commercial fishing\"\n",
       " \"Forestry & logging\"\n",
       " \"Agriculture, forestry, & fishing support services\"\n",
       " \"Mining\"\n",
       " \"Manufacturing\"\n",
       " \"Food, beverage, & tobacco\"\n",
       " \"Textile, clothing, footwear, & leather\"\n",
       " ⋮\n",
       " \"Rental, hiring, & real estate services\"\n",
       " \"Professional, scientific, & technical services\"\n",
       " \"Computer systems design\"\n",
       " \"Other professional scientific\"\n",
       " \"Administrative & support services\"\n",
       " \"Education & training\"\n",
       " \"Health care & social assistance\"\n",
       " \"Arts & recreation services\"\n",
       " \"Other services\""
      ]
     },
     "metadata": {},
     "output_type": "display_data"
    }
   ],
   "source": [
    "# Find the unique entries in the industry column\n",
    "unique(df.industry)"
   ]
  },
  {
   "cell_type": "code",
   "execution_count": 74,
   "metadata": {},
   "outputs": [
    {
     "data": {
      "text/plain": [
       "14758-element Vector{String}:\n",
       " \"total\"\n",
       " \"total\"\n",
       " \"total\"\n",
       " \"total\"\n",
       " \"Agriculture, forestry, & fishing\"\n",
       " \"Agriculture\"\n",
       " \"Commercial fishing\"\n",
       " \"Forestry & logging\"\n",
       " \"Agriculture, forestry, & fishing support services\"\n",
       " \"Mining\"\n",
       " ⋮\n",
       " \"Professional, scientific, & technical services\"\n",
       " \"Computer systems design\"\n",
       " \"Other professional scientific\"\n",
       " \"Administrative & support services\"\n",
       " \"Education & training\"\n",
       " \"Health care & social assistance\"\n",
       " \"Arts & recreation services\"\n",
       " \"Other services\"\n",
       " \"total\""
      ]
     },
     "metadata": {},
     "output_type": "display_data"
    }
   ],
   "source": [
    "# Another way to get the industry column is\n",
    "industry = df[:, \"industry\"]"
   ]
  },
  {
   "cell_type": "code",
   "execution_count": 75,
   "metadata": {},
   "outputs": [
    {
     "data": {
      "text/plain": [
       "14758-element Vector{String}:\n",
       " \"total\"\n",
       " \"total\"\n",
       " \"total\"\n",
       " \"total\"\n",
       " \"Agriculture, forestry, & fishing\"\n",
       " \"Agriculture\"\n",
       " \"Commercial fishing\"\n",
       " \"Forestry & logging\"\n",
       " \"Agriculture, forestry, & fishing support services\"\n",
       " \"Mining\"\n",
       " ⋮\n",
       " \"Professional, scientific, & technical services\"\n",
       " \"Computer systems design\"\n",
       " \"Other professional scientific\"\n",
       " \"Administrative & support services\"\n",
       " \"Education & training\"\n",
       " \"Health care & social assistance\"\n",
       " \"Arts & recreation services\"\n",
       " \"Other services\"\n",
       " \"total\""
      ]
     },
     "metadata": {},
     "output_type": "display_data"
    }
   ],
   "source": [
    "industry = df[:, :industry]"
   ]
  },
  {
   "cell_type": "code",
   "execution_count": 76,
   "metadata": {},
   "outputs": [
    {
     "data": {
      "text/plain": [
       "true"
      ]
     },
     "metadata": {},
     "output_type": "display_data"
    }
   ],
   "source": [
    "# To find if a column is present\n",
    "hasproperty(df, \"industry\")"
   ]
  },
  {
   "cell_type": "code",
   "execution_count": 77,
   "metadata": {},
   "outputs": [
    {
     "data": {
      "text/plain": [
       "2"
      ]
     },
     "metadata": {},
     "output_type": "display_data"
    }
   ],
   "source": [
    "# To find the index of the column\n",
    "columnindex(df, \"industry\")"
   ]
  },
  {
   "attachments": {},
   "cell_type": "markdown",
   "metadata": {},
   "source": [
    "## Column selection and row subsetting"
   ]
  },
  {
   "cell_type": "code",
   "execution_count": 78,
   "metadata": {},
   "outputs": [
    {
     "data": {
      "text/html": [
       "<div><div style = \"float: left;\"><span>6×7 DataFrame</span></div><div style = \"clear: both;\"></div></div><div class = \"data-frame\" style = \"overflow-x: scroll;\"><table class = \"data-frame\" style = \"margin-bottom: 6px;\"><thead><tr class = \"header\"><th class = \"rowNumber\" style = \"font-weight: bold; text-align: right;\">Row</th><th style = \"text-align: left;\">variable</th><th style = \"text-align: left;\">mean</th><th style = \"text-align: left;\">min</th><th style = \"text-align: left;\">median</th><th style = \"text-align: left;\">max</th><th style = \"text-align: left;\">nmissing</th><th style = \"text-align: left;\">eltype</th></tr><tr class = \"subheader headerLastRow\"><th class = \"rowNumber\" style = \"font-weight: bold; text-align: right;\"></th><th title = \"Symbol\" style = \"text-align: left;\">Symbol</th><th title = \"Union{Nothing, Float64}\" style = \"text-align: left;\">Union…</th><th title = \"Any\" style = \"text-align: left;\">Any</th><th title = \"Union{Nothing, Float64}\" style = \"text-align: left;\">Union…</th><th title = \"Any\" style = \"text-align: left;\">Any</th><th title = \"Int64\" style = \"text-align: left;\">Int64</th><th title = \"DataType\" style = \"text-align: left;\">DataType</th></tr></thead><tbody><tr><td class = \"rowNumber\" style = \"font-weight: bold; text-align: right;\">1</td><td style = \"text-align: left;\">description</td><td style = \"font-style: italic; text-align: left;\"></td><td style = \"text-align: left;\">Are answers applicable to pricing processes used for business&apos;s other products: no</td><td style = \"font-style: italic; text-align: left;\"></td><td style = \"text-align: left;\">Who reviews and sets the price: other</td><td style = \"text-align: right;\">0</td><td style = \"text-align: left;\">String</td></tr><tr><td class = \"rowNumber\" style = \"font-weight: bold; text-align: right;\">2</td><td style = \"text-align: left;\">industry</td><td style = \"font-style: italic; text-align: left;\"></td><td style = \"text-align: left;\">Accommodation &amp; food services</td><td style = \"font-style: italic; text-align: left;\"></td><td style = \"text-align: left;\">total</td><td style = \"text-align: right;\">0</td><td style = \"text-align: left;\">String</td></tr><tr><td class = \"rowNumber\" style = \"font-weight: bold; text-align: right;\">3</td><td style = \"text-align: left;\">level</td><td style = \"text-align: left;\">1.40426</td><td style = \"text-align: left;\">0</td><td style = \"text-align: left;\">2.0</td><td style = \"text-align: left;\">2</td><td style = \"text-align: right;\">0</td><td style = \"text-align: left;\">Int64</td></tr><tr><td class = \"rowNumber\" style = \"font-weight: bold; text-align: right;\">4</td><td style = \"text-align: left;\">size</td><td style = \"font-style: italic; text-align: left;\"></td><td style = \"text-align: left;\">100+ employees</td><td style = \"font-style: italic; text-align: left;\"></td><td style = \"text-align: left;\">total</td><td style = \"text-align: right;\">0</td><td style = \"text-align: left;\">String</td></tr><tr><td class = \"rowNumber\" style = \"font-weight: bold; text-align: right;\">5</td><td style = \"text-align: left;\">line_code</td><td style = \"font-style: italic; text-align: left;\"></td><td style = \"text-align: left;\">C0300.01</td><td style = \"font-style: italic; text-align: left;\"></td><td style = \"text-align: left;\">C3307.04</td><td style = \"text-align: right;\">0</td><td style = \"text-align: left;\">String</td></tr><tr><td class = \"rowNumber\" style = \"font-weight: bold; text-align: right;\">6</td><td style = \"text-align: left;\">value</td><td style = \"text-align: left;\">669.344</td><td style = \"text-align: left;\">0</td><td style = \"text-align: left;\">90.0</td><td style = \"text-align: left;\">44877</td><td style = \"text-align: right;\">0</td><td style = \"text-align: left;\">Int64</td></tr></tbody></table></div>"
      ],
      "text/latex": [
       "\\begin{tabular}{r|cccc}\n",
       "\t& variable & mean & min & \\\\\n",
       "\t\\hline\n",
       "\t& Symbol & Union… & Any & \\\\\n",
       "\t\\hline\n",
       "\t1 & description &  & Are answers applicable to pricing processes used for business's other products: no & $\\dots$ \\\\\n",
       "\t2 & industry &  & Accommodation \\& food services & $\\dots$ \\\\\n",
       "\t3 & level & 1.40426 & 0 & $\\dots$ \\\\\n",
       "\t4 & size &  & 100+ employees & $\\dots$ \\\\\n",
       "\t5 & line\\_code &  & C0300.01 & $\\dots$ \\\\\n",
       "\t6 & value & 669.344 & 0 & $\\dots$ \\\\\n",
       "\\end{tabular}\n"
      ],
      "text/plain": [
       "\u001b[1m6×7 DataFrame\u001b[0m\n",
       "\u001b[1m Row \u001b[0m│\u001b[1m variable    \u001b[0m\u001b[1m mean    \u001b[0m\u001b[1m min                               \u001b[0m\u001b[1m median \u001b[0m\u001b[1m max   \u001b[0m ⋯\n",
       "     │\u001b[90m Symbol      \u001b[0m\u001b[90m Union…  \u001b[0m\u001b[90m Any                               \u001b[0m\u001b[90m Union… \u001b[0m\u001b[90m Any   \u001b[0m ⋯\n",
       "─────┼──────────────────────────────────────────────────────────────────────────\n",
       "   1 │ description \u001b[90m         \u001b[0m Are answers applicable to pricin… \u001b[90m        \u001b[0m Who re ⋯\n",
       "   2 │ industry    \u001b[90m         \u001b[0m Accommodation & food services     \u001b[90m        \u001b[0m total\n",
       "   3 │ level        1.40426  0                                  2.0     2\n",
       "   4 │ size        \u001b[90m         \u001b[0m 100+ employees                    \u001b[90m        \u001b[0m total\n",
       "   5 │ line_code   \u001b[90m         \u001b[0m C0300.01                          \u001b[90m        \u001b[0m C3307. ⋯\n",
       "   6 │ value        669.344  0                                  90.0    44877\n",
       "\u001b[36m                                                               3 columns omitted\u001b[0m"
      ]
     },
     "metadata": {},
     "output_type": "display_data"
    }
   ],
   "source": [
    "describe(df)"
   ]
  },
  {
   "cell_type": "code",
   "execution_count": 79,
   "metadata": {},
   "outputs": [
    {
     "data": {
      "text/html": [
       "<div><div style = \"float: left;\"><span>212×6 DataFrame</span></div><div style = \"float: right;\"><span style = \"font-style: italic;\">187 rows omitted</span></div><div style = \"clear: both;\"></div></div><div class = \"data-frame\" style = \"overflow-x: scroll;\"><table class = \"data-frame\" style = \"margin-bottom: 6px;\"><thead><tr class = \"header\"><th class = \"rowNumber\" style = \"font-weight: bold; text-align: right;\">Row</th><th style = \"text-align: left;\">description</th><th style = \"text-align: left;\">industry</th><th style = \"text-align: left;\">level</th><th style = \"text-align: left;\">size</th><th style = \"text-align: left;\">line_code</th><th style = \"text-align: left;\">value</th></tr><tr class = \"subheader headerLastRow\"><th class = \"rowNumber\" style = \"font-weight: bold; text-align: right;\"></th><th title = \"String\" style = \"text-align: left;\">String</th><th title = \"String\" style = \"text-align: left;\">String</th><th title = \"Int64\" style = \"text-align: left;\">Int64</th><th title = \"String\" style = \"text-align: left;\">String</th><th title = \"String\" style = \"text-align: left;\">String</th><th title = \"Int64\" style = \"text-align: left;\">Int64</th></tr></thead><tbody><tr><td class = \"rowNumber\" style = \"font-weight: bold; text-align: right;\">1</td><td style = \"text-align: left;\">Business sales of goods or services from export: no</td><td style = \"text-align: left;\">Accommodation &amp; food services</td><td style = \"text-align: right;\">1</td><td style = \"text-align: left;\">total</td><td style = \"text-align: left;\">C1800.02</td><td style = \"text-align: right;\">6393</td></tr><tr><td class = \"rowNumber\" style = \"font-weight: bold; text-align: right;\">2</td><td style = \"text-align: left;\">Over the last 2 financial years, the majority of employees have had an increase in their base salary or hourly wage</td><td style = \"text-align: left;\">Accommodation &amp; food services</td><td style = \"text-align: right;\">1</td><td style = \"text-align: left;\">total</td><td style = \"text-align: left;\">C2400.01</td><td style = \"text-align: right;\">6384</td></tr><tr><td class = \"rowNumber\" style = \"font-weight: bold; text-align: right;\">3</td><td style = \"text-align: left;\">The business negotiates collective agreements with unions: no</td><td style = \"text-align: left;\">Accommodation &amp; food services</td><td style = \"text-align: right;\">1</td><td style = \"text-align: left;\">total</td><td style = \"text-align: left;\">C3100.02</td><td style = \"text-align: right;\">5997</td></tr><tr><td class = \"rowNumber\" style = \"font-weight: bold; text-align: right;\">4</td><td style = \"text-align: left;\">Who reviews and sets price: this business</td><td style = \"text-align: left;\">Accommodation &amp; food services</td><td style = \"text-align: right;\">1</td><td style = \"text-align: left;\">total</td><td style = \"text-align: left;\">C0700.01</td><td style = \"text-align: right;\">5970</td></tr><tr><td class = \"rowNumber\" style = \"font-weight: bold; text-align: right;\">5</td><td style = \"text-align: left;\">Business main customer: individuals or households</td><td style = \"text-align: left;\">Accommodation &amp; food services</td><td style = \"text-align: right;\">1</td><td style = \"text-align: left;\">total</td><td style = \"text-align: left;\">C0300.01</td><td style = \"text-align: right;\">5598</td></tr><tr><td class = \"rowNumber\" style = \"font-weight: bold; text-align: right;\">6</td><td style = \"text-align: left;\">Proportion of customers on long term price contract: zero</td><td style = \"text-align: left;\">Accommodation &amp; food services</td><td style = \"text-align: right;\">1</td><td style = \"text-align: left;\">total</td><td style = \"text-align: left;\">C0400.01</td><td style = \"text-align: right;\">5433</td></tr><tr><td class = \"rowNumber\" style = \"font-weight: bold; text-align: right;\">7</td><td style = \"text-align: left;\">When considering price changes, importance of change in other costs: very important</td><td style = \"text-align: left;\">Accommodation &amp; food services</td><td style = \"text-align: right;\">1</td><td style = \"text-align: left;\">total</td><td style = \"text-align: left;\">C1503.03</td><td style = \"text-align: right;\">5235</td></tr><tr><td class = \"rowNumber\" style = \"font-weight: bold; text-align: right;\">8</td><td style = \"text-align: left;\">When considering price changes, importance of change in labour cost: very important</td><td style = \"text-align: left;\">Accommodation &amp; food services</td><td style = \"text-align: right;\">1</td><td style = \"text-align: left;\">total</td><td style = \"text-align: left;\">C1501.03</td><td style = \"text-align: right;\">5127</td></tr><tr><td class = \"rowNumber\" style = \"font-weight: bold; text-align: right;\">9</td><td style = \"text-align: left;\">During 2 last financial years, employees had wages increased because of increase in minimum wage: yes, for employees paid the minimum wage</td><td style = \"text-align: left;\">Accommodation &amp; food services</td><td style = \"text-align: right;\">1</td><td style = \"text-align: left;\">total</td><td style = \"text-align: left;\">C2801</td><td style = \"text-align: right;\">5121</td></tr><tr><td class = \"rowNumber\" style = \"font-weight: bold; text-align: right;\">10</td><td style = \"text-align: left;\">In preventing the business from reducing wages or salaries, importance of legislated minimum wages: very important</td><td style = \"text-align: left;\">Accommodation &amp; food services</td><td style = \"text-align: right;\">1</td><td style = \"text-align: left;\">total</td><td style = \"text-align: left;\">C2602.03</td><td style = \"text-align: right;\">4815</td></tr><tr><td class = \"rowNumber\" style = \"font-weight: bold; text-align: right;\">11</td><td style = \"text-align: left;\">Over the last 2 financial years, in setting wages and salaries, importance of retaining hard-to-replace workers: very important</td><td style = \"text-align: left;\">Accommodation &amp; food services</td><td style = \"text-align: right;\">1</td><td style = \"text-align: left;\">total</td><td style = \"text-align: left;\">C2502.03</td><td style = \"text-align: right;\">4767</td></tr><tr><td class = \"rowNumber\" style = \"font-weight: bold; text-align: right;\">12</td><td style = \"text-align: left;\">In determining entry wage of the business&apos;s newly hired employees, importance of minimum wages rates: very important</td><td style = \"text-align: left;\">Accommodation &amp; food services</td><td style = \"text-align: right;\">1</td><td style = \"text-align: left;\">total</td><td style = \"text-align: left;\">C2901.03</td><td style = \"text-align: right;\">4653</td></tr><tr><td class = \"rowNumber\" style = \"font-weight: bold; text-align: right;\">13</td><td style = \"text-align: left;\">Are answers applicable to pricing processes used for business&apos;s other products: yes</td><td style = \"text-align: left;\">Accommodation &amp; food services</td><td style = \"text-align: right;\">1</td><td style = \"text-align: left;\">total</td><td style = \"text-align: left;\">C1700.01</td><td style = \"text-align: right;\">4485</td></tr><tr><td style = \"text-align: right;\">&vellip;</td><td style = \"text-align: right;\">&vellip;</td><td style = \"text-align: right;\">&vellip;</td><td style = \"text-align: right;\">&vellip;</td><td style = \"text-align: right;\">&vellip;</td><td style = \"text-align: right;\">&vellip;</td><td style = \"text-align: right;\">&vellip;</td></tr><tr><td class = \"rowNumber\" style = \"font-weight: bold; text-align: right;\">201</td><td style = \"text-align: left;\">Business main customer: retailers or wholesalers outside business group</td><td style = \"text-align: left;\">Accommodation &amp; food services</td><td style = \"text-align: right;\">1</td><td style = \"text-align: left;\">total</td><td style = \"text-align: left;\">C0300.03</td><td style = \"text-align: right;\">384</td></tr><tr><td class = \"rowNumber\" style = \"font-weight: bold; text-align: right;\">202</td><td style = \"text-align: left;\">Over the last 2 financial years, in setting wages and salaries, importance of changes in productivity: don&apos;t know</td><td style = \"text-align: left;\">Accommodation &amp; food services</td><td style = \"text-align: right;\">1</td><td style = \"text-align: left;\">total</td><td style = \"text-align: left;\">C2507.04</td><td style = \"text-align: right;\">378</td></tr><tr><td class = \"rowNumber\" style = \"font-weight: bold; text-align: right;\">203</td><td style = \"text-align: left;\">In preventing the business from reducing wages or salaries, importance of legislated minimum wages: not important</td><td style = \"text-align: left;\">Accommodation &amp; food services</td><td style = \"text-align: right;\">1</td><td style = \"text-align: left;\">total</td><td style = \"text-align: left;\">C2602.01</td><td style = \"text-align: right;\">372</td></tr><tr><td class = \"rowNumber\" style = \"font-weight: bold; text-align: right;\">204</td><td style = \"text-align: left;\">Over the last 2 financial years, in setting wages and salaries, importance of competing with other firms for staff: don&apos;t know</td><td style = \"text-align: left;\">Accommodation &amp; food services</td><td style = \"text-align: right;\">1</td><td style = \"text-align: left;\">total</td><td style = \"text-align: left;\">C2503.04</td><td style = \"text-align: right;\">363</td></tr><tr><td class = \"rowNumber\" style = \"font-weight: bold; text-align: right;\">205</td><td style = \"text-align: left;\">In preventing the business from reducing wages or salaries, importance of hard-to-replace knowledge is lost because employees would leave: don&apos;t know</td><td style = \"text-align: left;\">Accommodation &amp; food services</td><td style = \"text-align: right;\">1</td><td style = \"text-align: left;\">total</td><td style = \"text-align: left;\">C2608.04</td><td style = \"text-align: right;\">351</td></tr><tr><td class = \"rowNumber\" style = \"font-weight: bold; text-align: right;\">206</td><td style = \"text-align: left;\">Business&apos;s pricing decision rely on: don&apos;t know</td><td style = \"text-align: left;\">Accommodation &amp; food services</td><td style = \"text-align: right;\">1</td><td style = \"text-align: left;\">total</td><td style = \"text-align: left;\">C1400.04</td><td style = \"text-align: right;\">348</td></tr><tr><td class = \"rowNumber\" style = \"font-weight: bold; text-align: right;\">207</td><td style = \"text-align: left;\">In preventing the business from reducing wages or salaries, importance of the best employees would leave: not important</td><td style = \"text-align: left;\">Accommodation &amp; food services</td><td style = \"text-align: right;\">1</td><td style = \"text-align: left;\">total</td><td style = \"text-align: left;\">C2607.01</td><td style = \"text-align: right;\">345</td></tr><tr><td class = \"rowNumber\" style = \"font-weight: bold; text-align: right;\">208</td><td style = \"text-align: left;\">Business sales of goods or services from export: yes</td><td style = \"text-align: left;\">Accommodation &amp; food services</td><td style = \"text-align: right;\">1</td><td style = \"text-align: left;\">total</td><td style = \"text-align: left;\">C1800.01</td><td style = \"text-align: right;\">342</td></tr><tr><td class = \"rowNumber\" style = \"font-weight: bold; text-align: right;\">209</td><td style = \"text-align: left;\">Predominant currency of invoice for the business&apos;s export market contracts: NZ dollar</td><td style = \"text-align: left;\">Accommodation &amp; food services</td><td style = \"text-align: right;\">1</td><td style = \"text-align: left;\">total</td><td style = \"text-align: left;\">C2200.02</td><td style = \"text-align: right;\">330</td></tr><tr><td class = \"rowNumber\" style = \"font-weight: bold; text-align: right;\">210</td><td style = \"text-align: left;\">Frequency of price review: weekly</td><td style = \"text-align: left;\">Accommodation &amp; food services</td><td style = \"text-align: right;\">1</td><td style = \"text-align: left;\">total</td><td style = \"text-align: left;\">C0900.02</td><td style = \"text-align: right;\">312</td></tr><tr><td class = \"rowNumber\" style = \"font-weight: bold; text-align: right;\">211</td><td style = \"text-align: left;\">During last 2 financial years, for the majority of employees, how training opportunities have changed: decreased</td><td style = \"text-align: left;\">Accommodation &amp; food services</td><td style = \"text-align: right;\">1</td><td style = \"text-align: left;\">total</td><td style = \"text-align: left;\">C3003.01</td><td style = \"text-align: right;\">312</td></tr><tr><td class = \"rowNumber\" style = \"font-weight: bold; text-align: right;\">212</td><td style = \"text-align: left;\">Over the last 2 financial years, in setting wages and salaries, importance of government regulations: don&apos;t know</td><td style = \"text-align: left;\">Accommodation &amp; food services</td><td style = \"text-align: right;\">1</td><td style = \"text-align: left;\">total</td><td style = \"text-align: left;\">C2508.04</td><td style = \"text-align: right;\">309</td></tr></tbody></table></div>"
      ],
      "text/latex": [
       "\\begin{tabular}{r|cc}\n",
       "\t& description & \\\\\n",
       "\t\\hline\n",
       "\t& String & \\\\\n",
       "\t\\hline\n",
       "\t1 & Business sales of goods or services from export: no & $\\dots$ \\\\\n",
       "\t2 & Over the last 2 financial years, the majority of employees have had an increase in their base salary or hourly wage & $\\dots$ \\\\\n",
       "\t3 & The business negotiates collective agreements with unions: no & $\\dots$ \\\\\n",
       "\t4 & Who reviews and sets price: this business & $\\dots$ \\\\\n",
       "\t5 & Business main customer: individuals or households & $\\dots$ \\\\\n",
       "\t6 & Proportion of customers on long term price contract: zero & $\\dots$ \\\\\n",
       "\t7 & When considering price changes, importance of change in other costs: very important & $\\dots$ \\\\\n",
       "\t8 & When considering price changes, importance of change in labour cost: very important & $\\dots$ \\\\\n",
       "\t9 & During 2 last financial years, employees had wages increased because of increase in minimum wage: yes, for employees paid the minimum wage & $\\dots$ \\\\\n",
       "\t10 & In preventing the business from reducing wages or salaries, importance of legislated minimum wages: very important & $\\dots$ \\\\\n",
       "\t11 & Over the last 2 financial years, in setting wages and salaries, importance of retaining hard-to-replace workers: very important & $\\dots$ \\\\\n",
       "\t12 & In determining entry wage of the business's newly hired employees, importance of minimum wages rates: very important & $\\dots$ \\\\\n",
       "\t13 & Are answers applicable to pricing processes used for business's other products: yes & $\\dots$ \\\\\n",
       "\t14 & In preventing the business from reducing wages or salaries, importance of the best employees would leave: very important & $\\dots$ \\\\\n",
       "\t15 & When considering price changes, importance of change in exchange rates: not important & $\\dots$ \\\\\n",
       "\t16 & Over the last 2 financial years, in setting wages and salaries, importance of agreements with unions: not important & $\\dots$ \\\\\n",
       "\t17 & During last 2 financial years, for the majority of employees, how training opportunities have changed: stayed the same & $\\dots$ \\\\\n",
       "\t18 & In determining entry wage of the business's newly hired employees, importance of wages and salaries of similar employees within this business: very important & $\\dots$ \\\\\n",
       "\t19 & Comparing current pricing practices with 2019 (pre-COVID), profit margin: decreased & $\\dots$ \\\\\n",
       "\t20 & During last 2 financial years, for the majority of employees, how sick leave entitlements have changed: increased & $\\dots$ \\\\\n",
       "\t21 & Over the last 2 financial years, in setting wages and salaries, importance of government regulations: very important & $\\dots$ \\\\\n",
       "\t22 & During last 2 financial years, for the majority of employees, how employee choice over location of work has changed: stayed the same & $\\dots$ \\\\\n",
       "\t23 & When does business typically review price: regular intervals and in response to specific events & $\\dots$ \\\\\n",
       "\t24 & In determining entry wage of the business's newly hired employees, importance of availability of similar workers in the labour market: very important & $\\dots$ \\\\\n",
       "\t$\\dots$ & $\\dots$ &  \\\\\n",
       "\\end{tabular}\n"
      ],
      "text/plain": [
       "\u001b[1m212×6 DataFrame\u001b[0m\n",
       "\u001b[1m Row \u001b[0m│\u001b[1m description                       \u001b[0m\u001b[1m industry                      \u001b[0m\u001b[1m level\u001b[0m ⋯\n",
       "     │\u001b[90m String                            \u001b[0m\u001b[90m String                        \u001b[0m\u001b[90m Int64\u001b[0m ⋯\n",
       "─────┼──────────────────────────────────────────────────────────────────────────\n",
       "   1 │ Business sales of goods or servi…  Accommodation & food services      1 ⋯\n",
       "   2 │ Over the last 2 financial years,…  Accommodation & food services      1\n",
       "   3 │ The business negotiates collecti…  Accommodation & food services      1\n",
       "   4 │ Who reviews and sets price: this…  Accommodation & food services      1\n",
       "   5 │ Business main customer: individu…  Accommodation & food services      1 ⋯\n",
       "   6 │ Proportion of customers on long …  Accommodation & food services      1\n",
       "   7 │ When considering price changes, …  Accommodation & food services      1\n",
       "   8 │ When considering price changes, …  Accommodation & food services      1\n",
       "  ⋮  │                 ⋮                                ⋮                  ⋮   ⋱\n",
       " 206 │ Business's pricing decision rely…  Accommodation & food services      1 ⋯\n",
       " 207 │ In preventing the business from …  Accommodation & food services      1\n",
       " 208 │ Business sales of goods or servi…  Accommodation & food services      1\n",
       " 209 │ Predominant currency of invoice …  Accommodation & food services      1\n",
       " 210 │ Frequency of price review: weekly  Accommodation & food services      1 ⋯\n",
       " 211 │ During last 2 financial years, f…  Accommodation & food services      1\n",
       " 212 │ Over the last 2 financial years,…  Accommodation & food services      1\n",
       "\u001b[36m                                                  3 columns and 197 rows omitted\u001b[0m"
      ]
     },
     "metadata": {},
     "output_type": "display_data"
    }
   ],
   "source": [
    "subset = df |>\n",
    "    @filter(_.value > 300 && _.industry == \"Accommodation & food services\") |>\n",
    "    @orderby_descending(_.value) |>\n",
    "    DataFrame"
   ]
  },
  {
   "cell_type": "code",
   "execution_count": 80,
   "metadata": {},
   "outputs": [
    {
     "data": {
      "text/html": [
       "<div><div style = \"float: left;\"><span>212×6 DataFrame</span></div><div style = \"float: right;\"><span style = \"font-style: italic;\">187 rows omitted</span></div><div style = \"clear: both;\"></div></div><div class = \"data-frame\" style = \"overflow-x: scroll;\"><table class = \"data-frame\" style = \"margin-bottom: 6px;\"><thead><tr class = \"header\"><th class = \"rowNumber\" style = \"font-weight: bold; text-align: right;\">Row</th><th style = \"text-align: left;\">description</th><th style = \"text-align: left;\">industry</th><th style = \"text-align: left;\">level</th><th style = \"text-align: left;\">size</th><th style = \"text-align: left;\">line_code</th><th style = \"text-align: left;\">value</th></tr><tr class = \"subheader headerLastRow\"><th class = \"rowNumber\" style = \"font-weight: bold; text-align: right;\"></th><th title = \"String\" style = \"text-align: left;\">String</th><th title = \"String\" style = \"text-align: left;\">String</th><th title = \"Int64\" style = \"text-align: left;\">Int64</th><th title = \"String\" style = \"text-align: left;\">String</th><th title = \"String\" style = \"text-align: left;\">String</th><th title = \"Int64\" style = \"text-align: left;\">Int64</th></tr></thead><tbody><tr><td class = \"rowNumber\" style = \"font-weight: bold; text-align: right;\">1</td><td style = \"text-align: left;\">Over the last 2 financial years, in setting wages and salaries, importance of government regulations: don&apos;t know</td><td style = \"text-align: left;\">Accommodation &amp; food services</td><td style = \"text-align: right;\">1</td><td style = \"text-align: left;\">total</td><td style = \"text-align: left;\">C2508.04</td><td style = \"text-align: right;\">309</td></tr><tr><td class = \"rowNumber\" style = \"font-weight: bold; text-align: right;\">2</td><td style = \"text-align: left;\">Frequency of price review: weekly</td><td style = \"text-align: left;\">Accommodation &amp; food services</td><td style = \"text-align: right;\">1</td><td style = \"text-align: left;\">total</td><td style = \"text-align: left;\">C0900.02</td><td style = \"text-align: right;\">312</td></tr><tr><td class = \"rowNumber\" style = \"font-weight: bold; text-align: right;\">3</td><td style = \"text-align: left;\">During last 2 financial years, for the majority of employees, how training opportunities have changed: decreased</td><td style = \"text-align: left;\">Accommodation &amp; food services</td><td style = \"text-align: right;\">1</td><td style = \"text-align: left;\">total</td><td style = \"text-align: left;\">C3003.01</td><td style = \"text-align: right;\">312</td></tr><tr><td class = \"rowNumber\" style = \"font-weight: bold; text-align: right;\">4</td><td style = \"text-align: left;\">Predominant currency of invoice for the business&apos;s export market contracts: NZ dollar</td><td style = \"text-align: left;\">Accommodation &amp; food services</td><td style = \"text-align: right;\">1</td><td style = \"text-align: left;\">total</td><td style = \"text-align: left;\">C2200.02</td><td style = \"text-align: right;\">330</td></tr><tr><td class = \"rowNumber\" style = \"font-weight: bold; text-align: right;\">5</td><td style = \"text-align: left;\">Business sales of goods or services from export: yes</td><td style = \"text-align: left;\">Accommodation &amp; food services</td><td style = \"text-align: right;\">1</td><td style = \"text-align: left;\">total</td><td style = \"text-align: left;\">C1800.01</td><td style = \"text-align: right;\">342</td></tr><tr><td class = \"rowNumber\" style = \"font-weight: bold; text-align: right;\">6</td><td style = \"text-align: left;\">In preventing the business from reducing wages or salaries, importance of the best employees would leave: not important</td><td style = \"text-align: left;\">Accommodation &amp; food services</td><td style = \"text-align: right;\">1</td><td style = \"text-align: left;\">total</td><td style = \"text-align: left;\">C2607.01</td><td style = \"text-align: right;\">345</td></tr><tr><td class = \"rowNumber\" style = \"font-weight: bold; text-align: right;\">7</td><td style = \"text-align: left;\">Business&apos;s pricing decision rely on: don&apos;t know</td><td style = \"text-align: left;\">Accommodation &amp; food services</td><td style = \"text-align: right;\">1</td><td style = \"text-align: left;\">total</td><td style = \"text-align: left;\">C1400.04</td><td style = \"text-align: right;\">348</td></tr><tr><td class = \"rowNumber\" style = \"font-weight: bold; text-align: right;\">8</td><td style = \"text-align: left;\">In preventing the business from reducing wages or salaries, importance of hard-to-replace knowledge is lost because employees would leave: don&apos;t know</td><td style = \"text-align: left;\">Accommodation &amp; food services</td><td style = \"text-align: right;\">1</td><td style = \"text-align: left;\">total</td><td style = \"text-align: left;\">C2608.04</td><td style = \"text-align: right;\">351</td></tr><tr><td class = \"rowNumber\" style = \"font-weight: bold; text-align: right;\">9</td><td style = \"text-align: left;\">Over the last 2 financial years, in setting wages and salaries, importance of competing with other firms for staff: don&apos;t know</td><td style = \"text-align: left;\">Accommodation &amp; food services</td><td style = \"text-align: right;\">1</td><td style = \"text-align: left;\">total</td><td style = \"text-align: left;\">C2503.04</td><td style = \"text-align: right;\">363</td></tr><tr><td class = \"rowNumber\" style = \"font-weight: bold; text-align: right;\">10</td><td style = \"text-align: left;\">In preventing the business from reducing wages or salaries, importance of legislated minimum wages: not important</td><td style = \"text-align: left;\">Accommodation &amp; food services</td><td style = \"text-align: right;\">1</td><td style = \"text-align: left;\">total</td><td style = \"text-align: left;\">C2602.01</td><td style = \"text-align: right;\">372</td></tr><tr><td class = \"rowNumber\" style = \"font-weight: bold; text-align: right;\">11</td><td style = \"text-align: left;\">Over the last 2 financial years, in setting wages and salaries, importance of changes in productivity: don&apos;t know</td><td style = \"text-align: left;\">Accommodation &amp; food services</td><td style = \"text-align: right;\">1</td><td style = \"text-align: left;\">total</td><td style = \"text-align: left;\">C2507.04</td><td style = \"text-align: right;\">378</td></tr><tr><td class = \"rowNumber\" style = \"font-weight: bold; text-align: right;\">12</td><td style = \"text-align: left;\">Business main customer: retailers or wholesalers outside business group</td><td style = \"text-align: left;\">Accommodation &amp; food services</td><td style = \"text-align: right;\">1</td><td style = \"text-align: left;\">total</td><td style = \"text-align: left;\">C0300.03</td><td style = \"text-align: right;\">384</td></tr><tr><td class = \"rowNumber\" style = \"font-weight: bold; text-align: right;\">13</td><td style = \"text-align: left;\">Business main customer: other businesses outside business group</td><td style = \"text-align: left;\">Accommodation &amp; food services</td><td style = \"text-align: right;\">1</td><td style = \"text-align: left;\">total</td><td style = \"text-align: left;\">C0300.04</td><td style = \"text-align: right;\">396</td></tr><tr><td style = \"text-align: right;\">&vellip;</td><td style = \"text-align: right;\">&vellip;</td><td style = \"text-align: right;\">&vellip;</td><td style = \"text-align: right;\">&vellip;</td><td style = \"text-align: right;\">&vellip;</td><td style = \"text-align: right;\">&vellip;</td><td style = \"text-align: right;\">&vellip;</td></tr><tr><td class = \"rowNumber\" style = \"font-weight: bold; text-align: right;\">201</td><td style = \"text-align: left;\">In determining entry wage of the business&apos;s newly hired employees, importance of minimum wages rates: very important</td><td style = \"text-align: left;\">Accommodation &amp; food services</td><td style = \"text-align: right;\">1</td><td style = \"text-align: left;\">total</td><td style = \"text-align: left;\">C2901.03</td><td style = \"text-align: right;\">4653</td></tr><tr><td class = \"rowNumber\" style = \"font-weight: bold; text-align: right;\">202</td><td style = \"text-align: left;\">Over the last 2 financial years, in setting wages and salaries, importance of retaining hard-to-replace workers: very important</td><td style = \"text-align: left;\">Accommodation &amp; food services</td><td style = \"text-align: right;\">1</td><td style = \"text-align: left;\">total</td><td style = \"text-align: left;\">C2502.03</td><td style = \"text-align: right;\">4767</td></tr><tr><td class = \"rowNumber\" style = \"font-weight: bold; text-align: right;\">203</td><td style = \"text-align: left;\">In preventing the business from reducing wages or salaries, importance of legislated minimum wages: very important</td><td style = \"text-align: left;\">Accommodation &amp; food services</td><td style = \"text-align: right;\">1</td><td style = \"text-align: left;\">total</td><td style = \"text-align: left;\">C2602.03</td><td style = \"text-align: right;\">4815</td></tr><tr><td class = \"rowNumber\" style = \"font-weight: bold; text-align: right;\">204</td><td style = \"text-align: left;\">During 2 last financial years, employees had wages increased because of increase in minimum wage: yes, for employees paid the minimum wage</td><td style = \"text-align: left;\">Accommodation &amp; food services</td><td style = \"text-align: right;\">1</td><td style = \"text-align: left;\">total</td><td style = \"text-align: left;\">C2801</td><td style = \"text-align: right;\">5121</td></tr><tr><td class = \"rowNumber\" style = \"font-weight: bold; text-align: right;\">205</td><td style = \"text-align: left;\">When considering price changes, importance of change in labour cost: very important</td><td style = \"text-align: left;\">Accommodation &amp; food services</td><td style = \"text-align: right;\">1</td><td style = \"text-align: left;\">total</td><td style = \"text-align: left;\">C1501.03</td><td style = \"text-align: right;\">5127</td></tr><tr><td class = \"rowNumber\" style = \"font-weight: bold; text-align: right;\">206</td><td style = \"text-align: left;\">When considering price changes, importance of change in other costs: very important</td><td style = \"text-align: left;\">Accommodation &amp; food services</td><td style = \"text-align: right;\">1</td><td style = \"text-align: left;\">total</td><td style = \"text-align: left;\">C1503.03</td><td style = \"text-align: right;\">5235</td></tr><tr><td class = \"rowNumber\" style = \"font-weight: bold; text-align: right;\">207</td><td style = \"text-align: left;\">Proportion of customers on long term price contract: zero</td><td style = \"text-align: left;\">Accommodation &amp; food services</td><td style = \"text-align: right;\">1</td><td style = \"text-align: left;\">total</td><td style = \"text-align: left;\">C0400.01</td><td style = \"text-align: right;\">5433</td></tr><tr><td class = \"rowNumber\" style = \"font-weight: bold; text-align: right;\">208</td><td style = \"text-align: left;\">Business main customer: individuals or households</td><td style = \"text-align: left;\">Accommodation &amp; food services</td><td style = \"text-align: right;\">1</td><td style = \"text-align: left;\">total</td><td style = \"text-align: left;\">C0300.01</td><td style = \"text-align: right;\">5598</td></tr><tr><td class = \"rowNumber\" style = \"font-weight: bold; text-align: right;\">209</td><td style = \"text-align: left;\">Who reviews and sets price: this business</td><td style = \"text-align: left;\">Accommodation &amp; food services</td><td style = \"text-align: right;\">1</td><td style = \"text-align: left;\">total</td><td style = \"text-align: left;\">C0700.01</td><td style = \"text-align: right;\">5970</td></tr><tr><td class = \"rowNumber\" style = \"font-weight: bold; text-align: right;\">210</td><td style = \"text-align: left;\">The business negotiates collective agreements with unions: no</td><td style = \"text-align: left;\">Accommodation &amp; food services</td><td style = \"text-align: right;\">1</td><td style = \"text-align: left;\">total</td><td style = \"text-align: left;\">C3100.02</td><td style = \"text-align: right;\">5997</td></tr><tr><td class = \"rowNumber\" style = \"font-weight: bold; text-align: right;\">211</td><td style = \"text-align: left;\">Over the last 2 financial years, the majority of employees have had an increase in their base salary or hourly wage</td><td style = \"text-align: left;\">Accommodation &amp; food services</td><td style = \"text-align: right;\">1</td><td style = \"text-align: left;\">total</td><td style = \"text-align: left;\">C2400.01</td><td style = \"text-align: right;\">6384</td></tr><tr><td class = \"rowNumber\" style = \"font-weight: bold; text-align: right;\">212</td><td style = \"text-align: left;\">Business sales of goods or services from export: no</td><td style = \"text-align: left;\">Accommodation &amp; food services</td><td style = \"text-align: right;\">1</td><td style = \"text-align: left;\">total</td><td style = \"text-align: left;\">C1800.02</td><td style = \"text-align: right;\">6393</td></tr></tbody></table></div>"
      ],
      "text/latex": [
       "\\begin{tabular}{r|cc}\n",
       "\t& description & \\\\\n",
       "\t\\hline\n",
       "\t& String & \\\\\n",
       "\t\\hline\n",
       "\t1 & Over the last 2 financial years, in setting wages and salaries, importance of government regulations: don't know & $\\dots$ \\\\\n",
       "\t2 & Frequency of price review: weekly & $\\dots$ \\\\\n",
       "\t3 & During last 2 financial years, for the majority of employees, how training opportunities have changed: decreased & $\\dots$ \\\\\n",
       "\t4 & Predominant currency of invoice for the business's export market contracts: NZ dollar & $\\dots$ \\\\\n",
       "\t5 & Business sales of goods or services from export: yes & $\\dots$ \\\\\n",
       "\t6 & In preventing the business from reducing wages or salaries, importance of the best employees would leave: not important & $\\dots$ \\\\\n",
       "\t7 & Business's pricing decision rely on: don't know & $\\dots$ \\\\\n",
       "\t8 & In preventing the business from reducing wages or salaries, importance of hard-to-replace knowledge is lost because employees would leave: don't know & $\\dots$ \\\\\n",
       "\t9 & Over the last 2 financial years, in setting wages and salaries, importance of competing with other firms for staff: don't know & $\\dots$ \\\\\n",
       "\t10 & In preventing the business from reducing wages or salaries, importance of legislated minimum wages: not important & $\\dots$ \\\\\n",
       "\t11 & Over the last 2 financial years, in setting wages and salaries, importance of changes in productivity: don't know & $\\dots$ \\\\\n",
       "\t12 & Business main customer: retailers or wholesalers outside business group & $\\dots$ \\\\\n",
       "\t13 & Business main customer: other businesses outside business group & $\\dots$ \\\\\n",
       "\t14 & Business's pricing decision rely on: expected future economic conditions & $\\dots$ \\\\\n",
       "\t15 & In preventing the business from reducing wages or salaries, importance of legislated minimum wages: don't know & $\\dots$ \\\\\n",
       "\t16 & During last 2 financial years, for the majority of employees, how employee choice over hours of work has changed: decreased & $\\dots$ \\\\\n",
       "\t17 & Proportion of customers on long term price contract: 76-100\\% & $\\dots$ \\\\\n",
       "\t18 & When considering price changes, importance of change in exchange rates: very important & $\\dots$ \\\\\n",
       "\t19 & Proportion of customers on long term price contract: 1-25\\% & $\\dots$ \\\\\n",
       "\t20 & Over the last 2 financial years, in setting wages and salaries, importance of changes in product demand: don't know & $\\dots$ \\\\\n",
       "\t21 & In preventing the business from reducing wages or salaries, importance of hard-to-replace knowledge is lost because employees would leave: not important & $\\dots$ \\\\\n",
       "\t22 & In determining entry wage of the business's newly hired employees, importance of minimum wages rates: not important & $\\dots$ \\\\\n",
       "\t23 & Proportion of customers returning for repeat business: 1-25\\% & $\\dots$ \\\\\n",
       "\t24 & Comparing current pricing practices with 2019 (pre-COVID), frequency of price reviews: decreased & $\\dots$ \\\\\n",
       "\t$\\dots$ & $\\dots$ &  \\\\\n",
       "\\end{tabular}\n"
      ],
      "text/plain": [
       "\u001b[1m212×6 DataFrame\u001b[0m\n",
       "\u001b[1m Row \u001b[0m│\u001b[1m description                       \u001b[0m\u001b[1m industry                      \u001b[0m\u001b[1m level\u001b[0m ⋯\n",
       "     │\u001b[90m String                            \u001b[0m\u001b[90m String                        \u001b[0m\u001b[90m Int64\u001b[0m ⋯\n",
       "─────┼──────────────────────────────────────────────────────────────────────────\n",
       "   1 │ Over the last 2 financial years,…  Accommodation & food services      1 ⋯\n",
       "   2 │ Frequency of price review: weekly  Accommodation & food services      1\n",
       "   3 │ During last 2 financial years, f…  Accommodation & food services      1\n",
       "   4 │ Predominant currency of invoice …  Accommodation & food services      1\n",
       "   5 │ Business sales of goods or servi…  Accommodation & food services      1 ⋯\n",
       "   6 │ In preventing the business from …  Accommodation & food services      1\n",
       "   7 │ Business's pricing decision rely…  Accommodation & food services      1\n",
       "   8 │ In preventing the business from …  Accommodation & food services      1\n",
       "  ⋮  │                 ⋮                                ⋮                  ⋮   ⋱\n",
       " 206 │ When considering price changes, …  Accommodation & food services      1 ⋯\n",
       " 207 │ Proportion of customers on long …  Accommodation & food services      1\n",
       " 208 │ Business main customer: individu…  Accommodation & food services      1\n",
       " 209 │ Who reviews and sets price: this…  Accommodation & food services      1\n",
       " 210 │ The business negotiates collecti…  Accommodation & food services      1 ⋯\n",
       " 211 │ Over the last 2 financial years,…  Accommodation & food services      1\n",
       " 212 │ Business sales of goods or servi…  Accommodation & food services      1\n",
       "\u001b[36m                                                  3 columns and 197 rows omitted\u001b[0m"
      ]
     },
     "metadata": {},
     "output_type": "display_data"
    }
   ],
   "source": [
    "subset = df |>\n",
    "    @filter(_.value > 300 && _.industry == \"Accommodation & food services\") |>\n",
    "    @orderby(_.value) |>\n",
    "    DataFrame"
   ]
  },
  {
   "cell_type": "code",
   "execution_count": 81,
   "metadata": {},
   "outputs": [
    {
     "data": {
      "text/plain": [
       "(212, 6)"
      ]
     },
     "metadata": {},
     "output_type": "display_data"
    }
   ],
   "source": [
    "# Get the dimensions of the dataframe\n",
    "size(subset)"
   ]
  },
  {
   "cell_type": "code",
   "execution_count": 82,
   "metadata": {},
   "outputs": [
    {
     "data": {
      "text/plain": [
       "(212, 6)"
      ]
     },
     "metadata": {},
     "output_type": "display_data"
    }
   ],
   "source": [
    "row_no, col_no = size(subset)"
   ]
  },
  {
   "cell_type": "code",
   "execution_count": 83,
   "metadata": {},
   "outputs": [
    {
     "data": {
      "text/plain": [
       "212"
      ]
     },
     "metadata": {},
     "output_type": "display_data"
    }
   ],
   "source": [
    "row_no"
   ]
  },
  {
   "cell_type": "code",
   "execution_count": 84,
   "metadata": {},
   "outputs": [
    {
     "data": {
      "text/html": [
       "<div><div style = \"float: left;\"><span>212×2 DataFrame</span></div><div style = \"float: right;\"><span style = \"font-style: italic;\">187 rows omitted</span></div><div style = \"clear: both;\"></div></div><div class = \"data-frame\" style = \"overflow-x: scroll;\"><table class = \"data-frame\" style = \"margin-bottom: 6px;\"><thead><tr class = \"header\"><th class = \"rowNumber\" style = \"font-weight: bold; text-align: right;\">Row</th><th style = \"text-align: left;\">description</th><th style = \"text-align: left;\">industry</th></tr><tr class = \"subheader headerLastRow\"><th class = \"rowNumber\" style = \"font-weight: bold; text-align: right;\"></th><th title = \"String\" style = \"text-align: left;\">String</th><th title = \"String\" style = \"text-align: left;\">String</th></tr></thead><tbody><tr><td class = \"rowNumber\" style = \"font-weight: bold; text-align: right;\">1</td><td style = \"text-align: left;\">Over the last 2 financial years, in setting wages and salaries, importance of government regulations: don&apos;t know</td><td style = \"text-align: left;\">Accommodation &amp; food services</td></tr><tr><td class = \"rowNumber\" style = \"font-weight: bold; text-align: right;\">2</td><td style = \"text-align: left;\">Frequency of price review: weekly</td><td style = \"text-align: left;\">Accommodation &amp; food services</td></tr><tr><td class = \"rowNumber\" style = \"font-weight: bold; text-align: right;\">3</td><td style = \"text-align: left;\">During last 2 financial years, for the majority of employees, how training opportunities have changed: decreased</td><td style = \"text-align: left;\">Accommodation &amp; food services</td></tr><tr><td class = \"rowNumber\" style = \"font-weight: bold; text-align: right;\">4</td><td style = \"text-align: left;\">Predominant currency of invoice for the business&apos;s export market contracts: NZ dollar</td><td style = \"text-align: left;\">Accommodation &amp; food services</td></tr><tr><td class = \"rowNumber\" style = \"font-weight: bold; text-align: right;\">5</td><td style = \"text-align: left;\">Business sales of goods or services from export: yes</td><td style = \"text-align: left;\">Accommodation &amp; food services</td></tr><tr><td class = \"rowNumber\" style = \"font-weight: bold; text-align: right;\">6</td><td style = \"text-align: left;\">In preventing the business from reducing wages or salaries, importance of the best employees would leave: not important</td><td style = \"text-align: left;\">Accommodation &amp; food services</td></tr><tr><td class = \"rowNumber\" style = \"font-weight: bold; text-align: right;\">7</td><td style = \"text-align: left;\">Business&apos;s pricing decision rely on: don&apos;t know</td><td style = \"text-align: left;\">Accommodation &amp; food services</td></tr><tr><td class = \"rowNumber\" style = \"font-weight: bold; text-align: right;\">8</td><td style = \"text-align: left;\">In preventing the business from reducing wages or salaries, importance of hard-to-replace knowledge is lost because employees would leave: don&apos;t know</td><td style = \"text-align: left;\">Accommodation &amp; food services</td></tr><tr><td class = \"rowNumber\" style = \"font-weight: bold; text-align: right;\">9</td><td style = \"text-align: left;\">Over the last 2 financial years, in setting wages and salaries, importance of competing with other firms for staff: don&apos;t know</td><td style = \"text-align: left;\">Accommodation &amp; food services</td></tr><tr><td class = \"rowNumber\" style = \"font-weight: bold; text-align: right;\">10</td><td style = \"text-align: left;\">In preventing the business from reducing wages or salaries, importance of legislated minimum wages: not important</td><td style = \"text-align: left;\">Accommodation &amp; food services</td></tr><tr><td class = \"rowNumber\" style = \"font-weight: bold; text-align: right;\">11</td><td style = \"text-align: left;\">Over the last 2 financial years, in setting wages and salaries, importance of changes in productivity: don&apos;t know</td><td style = \"text-align: left;\">Accommodation &amp; food services</td></tr><tr><td class = \"rowNumber\" style = \"font-weight: bold; text-align: right;\">12</td><td style = \"text-align: left;\">Business main customer: retailers or wholesalers outside business group</td><td style = \"text-align: left;\">Accommodation &amp; food services</td></tr><tr><td class = \"rowNumber\" style = \"font-weight: bold; text-align: right;\">13</td><td style = \"text-align: left;\">Business main customer: other businesses outside business group</td><td style = \"text-align: left;\">Accommodation &amp; food services</td></tr><tr><td style = \"text-align: right;\">&vellip;</td><td style = \"text-align: right;\">&vellip;</td><td style = \"text-align: right;\">&vellip;</td></tr><tr><td class = \"rowNumber\" style = \"font-weight: bold; text-align: right;\">201</td><td style = \"text-align: left;\">In determining entry wage of the business&apos;s newly hired employees, importance of minimum wages rates: very important</td><td style = \"text-align: left;\">Accommodation &amp; food services</td></tr><tr><td class = \"rowNumber\" style = \"font-weight: bold; text-align: right;\">202</td><td style = \"text-align: left;\">Over the last 2 financial years, in setting wages and salaries, importance of retaining hard-to-replace workers: very important</td><td style = \"text-align: left;\">Accommodation &amp; food services</td></tr><tr><td class = \"rowNumber\" style = \"font-weight: bold; text-align: right;\">203</td><td style = \"text-align: left;\">In preventing the business from reducing wages or salaries, importance of legislated minimum wages: very important</td><td style = \"text-align: left;\">Accommodation &amp; food services</td></tr><tr><td class = \"rowNumber\" style = \"font-weight: bold; text-align: right;\">204</td><td style = \"text-align: left;\">During 2 last financial years, employees had wages increased because of increase in minimum wage: yes, for employees paid the minimum wage</td><td style = \"text-align: left;\">Accommodation &amp; food services</td></tr><tr><td class = \"rowNumber\" style = \"font-weight: bold; text-align: right;\">205</td><td style = \"text-align: left;\">When considering price changes, importance of change in labour cost: very important</td><td style = \"text-align: left;\">Accommodation &amp; food services</td></tr><tr><td class = \"rowNumber\" style = \"font-weight: bold; text-align: right;\">206</td><td style = \"text-align: left;\">When considering price changes, importance of change in other costs: very important</td><td style = \"text-align: left;\">Accommodation &amp; food services</td></tr><tr><td class = \"rowNumber\" style = \"font-weight: bold; text-align: right;\">207</td><td style = \"text-align: left;\">Proportion of customers on long term price contract: zero</td><td style = \"text-align: left;\">Accommodation &amp; food services</td></tr><tr><td class = \"rowNumber\" style = \"font-weight: bold; text-align: right;\">208</td><td style = \"text-align: left;\">Business main customer: individuals or households</td><td style = \"text-align: left;\">Accommodation &amp; food services</td></tr><tr><td class = \"rowNumber\" style = \"font-weight: bold; text-align: right;\">209</td><td style = \"text-align: left;\">Who reviews and sets price: this business</td><td style = \"text-align: left;\">Accommodation &amp; food services</td></tr><tr><td class = \"rowNumber\" style = \"font-weight: bold; text-align: right;\">210</td><td style = \"text-align: left;\">The business negotiates collective agreements with unions: no</td><td style = \"text-align: left;\">Accommodation &amp; food services</td></tr><tr><td class = \"rowNumber\" style = \"font-weight: bold; text-align: right;\">211</td><td style = \"text-align: left;\">Over the last 2 financial years, the majority of employees have had an increase in their base salary or hourly wage</td><td style = \"text-align: left;\">Accommodation &amp; food services</td></tr><tr><td class = \"rowNumber\" style = \"font-weight: bold; text-align: right;\">212</td><td style = \"text-align: left;\">Business sales of goods or services from export: no</td><td style = \"text-align: left;\">Accommodation &amp; food services</td></tr></tbody></table></div>"
      ],
      "text/latex": [
       "\\begin{tabular}{r|cc}\n",
       "\t& description & \\\\\n",
       "\t\\hline\n",
       "\t& String & \\\\\n",
       "\t\\hline\n",
       "\t1 & Over the last 2 financial years, in setting wages and salaries, importance of government regulations: don't know & $\\dots$ \\\\\n",
       "\t2 & Frequency of price review: weekly & $\\dots$ \\\\\n",
       "\t3 & During last 2 financial years, for the majority of employees, how training opportunities have changed: decreased & $\\dots$ \\\\\n",
       "\t4 & Predominant currency of invoice for the business's export market contracts: NZ dollar & $\\dots$ \\\\\n",
       "\t5 & Business sales of goods or services from export: yes & $\\dots$ \\\\\n",
       "\t6 & In preventing the business from reducing wages or salaries, importance of the best employees would leave: not important & $\\dots$ \\\\\n",
       "\t7 & Business's pricing decision rely on: don't know & $\\dots$ \\\\\n",
       "\t8 & In preventing the business from reducing wages or salaries, importance of hard-to-replace knowledge is lost because employees would leave: don't know & $\\dots$ \\\\\n",
       "\t9 & Over the last 2 financial years, in setting wages and salaries, importance of competing with other firms for staff: don't know & $\\dots$ \\\\\n",
       "\t10 & In preventing the business from reducing wages or salaries, importance of legislated minimum wages: not important & $\\dots$ \\\\\n",
       "\t11 & Over the last 2 financial years, in setting wages and salaries, importance of changes in productivity: don't know & $\\dots$ \\\\\n",
       "\t12 & Business main customer: retailers or wholesalers outside business group & $\\dots$ \\\\\n",
       "\t13 & Business main customer: other businesses outside business group & $\\dots$ \\\\\n",
       "\t14 & Business's pricing decision rely on: expected future economic conditions & $\\dots$ \\\\\n",
       "\t15 & In preventing the business from reducing wages or salaries, importance of legislated minimum wages: don't know & $\\dots$ \\\\\n",
       "\t16 & During last 2 financial years, for the majority of employees, how employee choice over hours of work has changed: decreased & $\\dots$ \\\\\n",
       "\t17 & Proportion of customers on long term price contract: 76-100\\% & $\\dots$ \\\\\n",
       "\t18 & When considering price changes, importance of change in exchange rates: very important & $\\dots$ \\\\\n",
       "\t19 & Proportion of customers on long term price contract: 1-25\\% & $\\dots$ \\\\\n",
       "\t20 & Over the last 2 financial years, in setting wages and salaries, importance of changes in product demand: don't know & $\\dots$ \\\\\n",
       "\t21 & In preventing the business from reducing wages or salaries, importance of hard-to-replace knowledge is lost because employees would leave: not important & $\\dots$ \\\\\n",
       "\t22 & In determining entry wage of the business's newly hired employees, importance of minimum wages rates: not important & $\\dots$ \\\\\n",
       "\t23 & Proportion of customers returning for repeat business: 1-25\\% & $\\dots$ \\\\\n",
       "\t24 & Comparing current pricing practices with 2019 (pre-COVID), frequency of price reviews: decreased & $\\dots$ \\\\\n",
       "\t$\\dots$ & $\\dots$ &  \\\\\n",
       "\\end{tabular}\n"
      ],
      "text/plain": [
       "\u001b[1m212×2 DataFrame\u001b[0m\n",
       "\u001b[1m Row \u001b[0m│\u001b[1m description                       \u001b[0m\u001b[1m industry                      \u001b[0m\n",
       "     │\u001b[90m String                            \u001b[0m\u001b[90m String                        \u001b[0m\n",
       "─────┼──────────────────────────────────────────────────────────────────\n",
       "   1 │ Over the last 2 financial years,…  Accommodation & food services\n",
       "   2 │ Frequency of price review: weekly  Accommodation & food services\n",
       "   3 │ During last 2 financial years, f…  Accommodation & food services\n",
       "   4 │ Predominant currency of invoice …  Accommodation & food services\n",
       "   5 │ Business sales of goods or servi…  Accommodation & food services\n",
       "   6 │ In preventing the business from …  Accommodation & food services\n",
       "   7 │ Business's pricing decision rely…  Accommodation & food services\n",
       "   8 │ In preventing the business from …  Accommodation & food services\n",
       "  ⋮  │                 ⋮                                ⋮\n",
       " 206 │ When considering price changes, …  Accommodation & food services\n",
       " 207 │ Proportion of customers on long …  Accommodation & food services\n",
       " 208 │ Business main customer: individu…  Accommodation & food services\n",
       " 209 │ Who reviews and sets price: this…  Accommodation & food services\n",
       " 210 │ The business negotiates collecti…  Accommodation & food services\n",
       " 211 │ Over the last 2 financial years,…  Accommodation & food services\n",
       " 212 │ Business sales of goods or servi…  Accommodation & food services\n",
       "\u001b[36m                                                        197 rows omitted\u001b[0m"
      ]
     },
     "metadata": {},
     "output_type": "display_data"
    }
   ],
   "source": [
    "subset = df |>\n",
    "    @filter(_.value > 300 && _.industry == \"Accommodation & food services\") |>\n",
    "    @orderby(_.value) |>\n",
    "    @select(1:2) |>\n",
    "    DataFrame"
   ]
  },
  {
   "cell_type": "code",
   "execution_count": 85,
   "metadata": {},
   "outputs": [
    {
     "data": {
      "text/plain": [
       "5-element Vector{String}:\n",
       " \"description\"\n",
       " \"industry\"\n",
       " \"level\"\n",
       " \"size\"\n",
       " \"line_code\""
      ]
     },
     "metadata": {},
     "output_type": "display_data"
    }
   ],
   "source": [
    "names(df, Between(\"description\", \"line_code\"))"
   ]
  },
  {
   "cell_type": "code",
   "execution_count": 86,
   "metadata": {},
   "outputs": [
    {
     "data": {
      "text/html": [
       "<div><div style = \"float: left;\"><span>14758×5 DataFrame</span></div><div style = \"float: right;\"><span style = \"font-style: italic;\">14733 rows omitted</span></div><div style = \"clear: both;\"></div></div><div class = \"data-frame\" style = \"overflow-x: scroll;\"><table class = \"data-frame\" style = \"margin-bottom: 6px;\"><thead><tr class = \"header\"><th class = \"rowNumber\" style = \"font-weight: bold; text-align: right;\">Row</th><th style = \"text-align: left;\">description</th><th style = \"text-align: left;\">industry</th><th style = \"text-align: left;\">level</th><th style = \"text-align: left;\">size</th><th style = \"text-align: left;\">line_code</th></tr><tr class = \"subheader headerLastRow\"><th class = \"rowNumber\" style = \"font-weight: bold; text-align: right;\"></th><th title = \"String\" style = \"text-align: left;\">String</th><th title = \"String\" style = \"text-align: left;\">String</th><th title = \"Int64\" style = \"text-align: left;\">Int64</th><th title = \"String\" style = \"text-align: left;\">String</th><th title = \"String\" style = \"text-align: left;\">String</th></tr></thead><tbody><tr><td class = \"rowNumber\" style = \"font-weight: bold; text-align: right;\">1</td><td style = \"text-align: left;\">Business main customer: individuals or households</td><td style = \"text-align: left;\">total</td><td style = \"text-align: right;\">0</td><td style = \"text-align: left;\">6\\x9619 employees</td><td style = \"text-align: left;\">C0300.01</td></tr><tr><td class = \"rowNumber\" style = \"font-weight: bold; text-align: right;\">2</td><td style = \"text-align: left;\">Business main customer: individuals or households</td><td style = \"text-align: left;\">total</td><td style = \"text-align: right;\">0</td><td style = \"text-align: left;\">20\\x9649 employees</td><td style = \"text-align: left;\">C0300.01</td></tr><tr><td class = \"rowNumber\" style = \"font-weight: bold; text-align: right;\">3</td><td style = \"text-align: left;\">Business main customer: individuals or households</td><td style = \"text-align: left;\">total</td><td style = \"text-align: right;\">0</td><td style = \"text-align: left;\">50\\x9699 employees</td><td style = \"text-align: left;\">C0300.01</td></tr><tr><td class = \"rowNumber\" style = \"font-weight: bold; text-align: right;\">4</td><td style = \"text-align: left;\">Business main customer: individuals or households</td><td style = \"text-align: left;\">total</td><td style = \"text-align: right;\">0</td><td style = \"text-align: left;\">100+ employees</td><td style = \"text-align: left;\">C0300.01</td></tr><tr><td class = \"rowNumber\" style = \"font-weight: bold; text-align: right;\">5</td><td style = \"text-align: left;\">Business main customer: individuals or households</td><td style = \"text-align: left;\">Agriculture, forestry, &amp; fishing</td><td style = \"text-align: right;\">1</td><td style = \"text-align: left;\">total</td><td style = \"text-align: left;\">C0300.01</td></tr><tr><td class = \"rowNumber\" style = \"font-weight: bold; text-align: right;\">6</td><td style = \"text-align: left;\">Business main customer: individuals or households</td><td style = \"text-align: left;\">Agriculture</td><td style = \"text-align: right;\">2</td><td style = \"text-align: left;\">total</td><td style = \"text-align: left;\">C0300.01</td></tr><tr><td class = \"rowNumber\" style = \"font-weight: bold; text-align: right;\">7</td><td style = \"text-align: left;\">Business main customer: individuals or households</td><td style = \"text-align: left;\">Commercial fishing</td><td style = \"text-align: right;\">2</td><td style = \"text-align: left;\">total</td><td style = \"text-align: left;\">C0300.01</td></tr><tr><td class = \"rowNumber\" style = \"font-weight: bold; text-align: right;\">8</td><td style = \"text-align: left;\">Business main customer: individuals or households</td><td style = \"text-align: left;\">Forestry &amp; logging</td><td style = \"text-align: right;\">2</td><td style = \"text-align: left;\">total</td><td style = \"text-align: left;\">C0300.01</td></tr><tr><td class = \"rowNumber\" style = \"font-weight: bold; text-align: right;\">9</td><td style = \"text-align: left;\">Business main customer: individuals or households</td><td style = \"text-align: left;\">Agriculture, forestry, &amp; fishing support services</td><td style = \"text-align: right;\">2</td><td style = \"text-align: left;\">total</td><td style = \"text-align: left;\">C0300.01</td></tr><tr><td class = \"rowNumber\" style = \"font-weight: bold; text-align: right;\">10</td><td style = \"text-align: left;\">Business main customer: individuals or households</td><td style = \"text-align: left;\">Mining</td><td style = \"text-align: right;\">1</td><td style = \"text-align: left;\">total</td><td style = \"text-align: left;\">C0300.01</td></tr><tr><td class = \"rowNumber\" style = \"font-weight: bold; text-align: right;\">11</td><td style = \"text-align: left;\">Business main customer: individuals or households</td><td style = \"text-align: left;\">Manufacturing</td><td style = \"text-align: right;\">1</td><td style = \"text-align: left;\">total</td><td style = \"text-align: left;\">C0300.01</td></tr><tr><td class = \"rowNumber\" style = \"font-weight: bold; text-align: right;\">12</td><td style = \"text-align: left;\">Business main customer: individuals or households</td><td style = \"text-align: left;\">Food, beverage, &amp; tobacco</td><td style = \"text-align: right;\">2</td><td style = \"text-align: left;\">total</td><td style = \"text-align: left;\">C0300.01</td></tr><tr><td class = \"rowNumber\" style = \"font-weight: bold; text-align: right;\">13</td><td style = \"text-align: left;\">Business main customer: individuals or households</td><td style = \"text-align: left;\">Textile, clothing, footwear, &amp; leather</td><td style = \"text-align: right;\">2</td><td style = \"text-align: left;\">total</td><td style = \"text-align: left;\">C0300.01</td></tr><tr><td style = \"text-align: right;\">&vellip;</td><td style = \"text-align: right;\">&vellip;</td><td style = \"text-align: right;\">&vellip;</td><td style = \"text-align: right;\">&vellip;</td><td style = \"text-align: right;\">&vellip;</td><td style = \"text-align: right;\">&vellip;</td></tr><tr><td class = \"rowNumber\" style = \"font-weight: bold; text-align: right;\">14747</td><td style = \"text-align: left;\">How union representation of employees has affected the level of flexibility/availability to make changes to employment conditions: don&apos;t know</td><td style = \"text-align: left;\">Insurance</td><td style = \"text-align: right;\">2</td><td style = \"text-align: left;\">total</td><td style = \"text-align: left;\">C3307.04</td></tr><tr><td class = \"rowNumber\" style = \"font-weight: bold; text-align: right;\">14748</td><td style = \"text-align: left;\">How union representation of employees has affected the level of flexibility/availability to make changes to employment conditions: don&apos;t know</td><td style = \"text-align: left;\">Auxiliary</td><td style = \"text-align: right;\">2</td><td style = \"text-align: left;\">total</td><td style = \"text-align: left;\">C3307.04</td></tr><tr><td class = \"rowNumber\" style = \"font-weight: bold; text-align: right;\">14749</td><td style = \"text-align: left;\">How union representation of employees has affected the level of flexibility/availability to make changes to employment conditions: don&apos;t know</td><td style = \"text-align: left;\">Rental, hiring, &amp; real estate services</td><td style = \"text-align: right;\">1</td><td style = \"text-align: left;\">total</td><td style = \"text-align: left;\">C3307.04</td></tr><tr><td class = \"rowNumber\" style = \"font-weight: bold; text-align: right;\">14750</td><td style = \"text-align: left;\">How union representation of employees has affected the level of flexibility/availability to make changes to employment conditions: don&apos;t know</td><td style = \"text-align: left;\">Professional, scientific, &amp; technical services</td><td style = \"text-align: right;\">1</td><td style = \"text-align: left;\">total</td><td style = \"text-align: left;\">C3307.04</td></tr><tr><td class = \"rowNumber\" style = \"font-weight: bold; text-align: right;\">14751</td><td style = \"text-align: left;\">How union representation of employees has affected the level of flexibility/availability to make changes to employment conditions: don&apos;t know</td><td style = \"text-align: left;\">Computer systems design</td><td style = \"text-align: right;\">2</td><td style = \"text-align: left;\">total</td><td style = \"text-align: left;\">C3307.04</td></tr><tr><td class = \"rowNumber\" style = \"font-weight: bold; text-align: right;\">14752</td><td style = \"text-align: left;\">How union representation of employees has affected the level of flexibility/availability to make changes to employment conditions: don&apos;t know</td><td style = \"text-align: left;\">Other professional scientific</td><td style = \"text-align: right;\">2</td><td style = \"text-align: left;\">total</td><td style = \"text-align: left;\">C3307.04</td></tr><tr><td class = \"rowNumber\" style = \"font-weight: bold; text-align: right;\">14753</td><td style = \"text-align: left;\">How union representation of employees has affected the level of flexibility/availability to make changes to employment conditions: don&apos;t know</td><td style = \"text-align: left;\">Administrative &amp; support services</td><td style = \"text-align: right;\">1</td><td style = \"text-align: left;\">total</td><td style = \"text-align: left;\">C3307.04</td></tr><tr><td class = \"rowNumber\" style = \"font-weight: bold; text-align: right;\">14754</td><td style = \"text-align: left;\">How union representation of employees has affected the level of flexibility/availability to make changes to employment conditions: don&apos;t know</td><td style = \"text-align: left;\">Education &amp; training</td><td style = \"text-align: right;\">1</td><td style = \"text-align: left;\">total</td><td style = \"text-align: left;\">C3307.04</td></tr><tr><td class = \"rowNumber\" style = \"font-weight: bold; text-align: right;\">14755</td><td style = \"text-align: left;\">How union representation of employees has affected the level of flexibility/availability to make changes to employment conditions: don&apos;t know</td><td style = \"text-align: left;\">Health care &amp; social assistance</td><td style = \"text-align: right;\">1</td><td style = \"text-align: left;\">total</td><td style = \"text-align: left;\">C3307.04</td></tr><tr><td class = \"rowNumber\" style = \"font-weight: bold; text-align: right;\">14756</td><td style = \"text-align: left;\">How union representation of employees has affected the level of flexibility/availability to make changes to employment conditions: don&apos;t know</td><td style = \"text-align: left;\">Arts &amp; recreation services</td><td style = \"text-align: right;\">1</td><td style = \"text-align: left;\">total</td><td style = \"text-align: left;\">C3307.04</td></tr><tr><td class = \"rowNumber\" style = \"font-weight: bold; text-align: right;\">14757</td><td style = \"text-align: left;\">How union representation of employees has affected the level of flexibility/availability to make changes to employment conditions: don&apos;t know</td><td style = \"text-align: left;\">Other services</td><td style = \"text-align: right;\">1</td><td style = \"text-align: left;\">total</td><td style = \"text-align: left;\">C3307.04</td></tr><tr><td class = \"rowNumber\" style = \"font-weight: bold; text-align: right;\">14758</td><td style = \"text-align: left;\">How union representation of employees has affected the level of flexibility/availability to make changes to employment conditions: don&apos;t know</td><td style = \"text-align: left;\">total</td><td style = \"text-align: right;\">0</td><td style = \"text-align: left;\">total</td><td style = \"text-align: left;\">C3307.04</td></tr></tbody></table></div>"
      ],
      "text/latex": [
       "\\begin{tabular}{r|ccc}\n",
       "\t& description & industry & \\\\\n",
       "\t\\hline\n",
       "\t& String & String & \\\\\n",
       "\t\\hline\n",
       "\t1 & Business main customer: individuals or households & total & $\\dots$ \\\\\n",
       "\t2 & Business main customer: individuals or households & total & $\\dots$ \\\\\n",
       "\t3 & Business main customer: individuals or households & total & $\\dots$ \\\\\n",
       "\t4 & Business main customer: individuals or households & total & $\\dots$ \\\\\n",
       "\t5 & Business main customer: individuals or households & Agriculture, forestry, \\& fishing & $\\dots$ \\\\\n",
       "\t6 & Business main customer: individuals or households & Agriculture & $\\dots$ \\\\\n",
       "\t7 & Business main customer: individuals or households & Commercial fishing & $\\dots$ \\\\\n",
       "\t8 & Business main customer: individuals or households & Forestry \\& logging & $\\dots$ \\\\\n",
       "\t9 & Business main customer: individuals or households & Agriculture, forestry, \\& fishing support services & $\\dots$ \\\\\n",
       "\t10 & Business main customer: individuals or households & Mining & $\\dots$ \\\\\n",
       "\t11 & Business main customer: individuals or households & Manufacturing & $\\dots$ \\\\\n",
       "\t12 & Business main customer: individuals or households & Food, beverage, \\& tobacco & $\\dots$ \\\\\n",
       "\t13 & Business main customer: individuals or households & Textile, clothing, footwear, \\& leather & $\\dots$ \\\\\n",
       "\t14 & Business main customer: individuals or households & Wood \\& paper product & $\\dots$ \\\\\n",
       "\t15 & Business main customer: individuals or households & Printing, publishing, \\& recorded media & $\\dots$ \\\\\n",
       "\t16 & Business main customer: individuals or households & Petroleum, coal, chemical, \\& associated product & $\\dots$ \\\\\n",
       "\t17 & Business main customer: individuals or households & Non-metallic mineral product & $\\dots$ \\\\\n",
       "\t18 & Business main customer: individuals or households & Metal product & $\\dots$ \\\\\n",
       "\t19 & Business main customer: individuals or households & Transport and industrial machinery \\& equipment & $\\dots$ \\\\\n",
       "\t20 & Business main customer: individuals or households & Other machinery \\& equipment & $\\dots$ \\\\\n",
       "\t21 & Business main customer: individuals or households & Other manufacturing & $\\dots$ \\\\\n",
       "\t22 & Business main customer: individuals or households & Electricity, gas, water, \\& waste services & $\\dots$ \\\\\n",
       "\t23 & Business main customer: individuals or households & Construction & $\\dots$ \\\\\n",
       "\t24 & Business main customer: individuals or households & Wholesale trade & $\\dots$ \\\\\n",
       "\t$\\dots$ & $\\dots$ & $\\dots$ &  \\\\\n",
       "\\end{tabular}\n"
      ],
      "text/plain": [
       "\u001b[1m14758×5 DataFrame\u001b[0m\n",
       "\u001b[1m   Row \u001b[0m│\u001b[1m description                       \u001b[0m\u001b[1m industry                          \u001b[0m\u001b[1m\u001b[0m ⋯\n",
       "       │\u001b[90m String                            \u001b[0m\u001b[90m String                            \u001b[0m\u001b[90m\u001b[0m ⋯\n",
       "───────┼────────────────────────────────────────────────────────────────────────\n",
       "     1 │ Business main customer: individu…  total                              ⋯\n",
       "     2 │ Business main customer: individu…  total\n",
       "     3 │ Business main customer: individu…  total\n",
       "     4 │ Business main customer: individu…  total\n",
       "     5 │ Business main customer: individu…  Agriculture, forestry, & fishing   ⋯\n",
       "     6 │ Business main customer: individu…  Agriculture\n",
       "     7 │ Business main customer: individu…  Commercial fishing\n",
       "     8 │ Business main customer: individu…  Forestry & logging\n",
       "   ⋮   │                 ⋮                                  ⋮                  ⋱\n",
       " 14752 │ How union representation of empl…  Other professional scientific      ⋯\n",
       " 14753 │ How union representation of empl…  Administrative & support services\n",
       " 14754 │ How union representation of empl…  Education & training\n",
       " 14755 │ How union representation of empl…  Health care & social assistance\n",
       " 14756 │ How union representation of empl…  Arts & recreation services         ⋯\n",
       " 14757 │ How union representation of empl…  Other services\n",
       " 14758 │ How union representation of empl…  total\n",
       "\u001b[36m                                                3 columns and 14743 rows omitted\u001b[0m"
      ]
     },
     "metadata": {},
     "output_type": "display_data"
    }
   ],
   "source": [
    "df[:,Between(\"description\", \"line_code\")]"
   ]
  },
  {
   "cell_type": "code",
   "execution_count": 87,
   "metadata": {},
   "outputs": [
    {
     "data": {
      "text/html": [
       "<div><div style = \"float: left;\"><span>14758×1 DataFrame</span></div><div style = \"float: right;\"><span style = \"font-style: italic;\">14733 rows omitted</span></div><div style = \"clear: both;\"></div></div><div class = \"data-frame\" style = \"overflow-x: scroll;\"><table class = \"data-frame\" style = \"margin-bottom: 6px;\"><thead><tr class = \"header\"><th class = \"rowNumber\" style = \"font-weight: bold; text-align: right;\">Row</th><th style = \"text-align: left;\">value</th></tr><tr class = \"subheader headerLastRow\"><th class = \"rowNumber\" style = \"font-weight: bold; text-align: right;\"></th><th title = \"Int64\" style = \"text-align: left;\">Int64</th></tr></thead><tbody><tr><td class = \"rowNumber\" style = \"font-weight: bold; text-align: right;\">1</td><td style = \"text-align: right;\">15639</td></tr><tr><td class = \"rowNumber\" style = \"font-weight: bold; text-align: right;\">2</td><td style = \"text-align: right;\">2943</td></tr><tr><td class = \"rowNumber\" style = \"font-weight: bold; text-align: right;\">3</td><td style = \"text-align: right;\">639</td></tr><tr><td class = \"rowNumber\" style = \"font-weight: bold; text-align: right;\">4</td><td style = \"text-align: right;\">555</td></tr><tr><td class = \"rowNumber\" style = \"font-weight: bold; text-align: right;\">5</td><td style = \"text-align: right;\">348</td></tr><tr><td class = \"rowNumber\" style = \"font-weight: bold; text-align: right;\">6</td><td style = \"text-align: right;\">177</td></tr><tr><td class = \"rowNumber\" style = \"font-weight: bold; text-align: right;\">7</td><td style = \"text-align: right;\">3</td></tr><tr><td class = \"rowNumber\" style = \"font-weight: bold; text-align: right;\">8</td><td style = \"text-align: right;\">12</td></tr><tr><td class = \"rowNumber\" style = \"font-weight: bold; text-align: right;\">9</td><td style = \"text-align: right;\">159</td></tr><tr><td class = \"rowNumber\" style = \"font-weight: bold; text-align: right;\">10</td><td style = \"text-align: right;\">12</td></tr><tr><td class = \"rowNumber\" style = \"font-weight: bold; text-align: right;\">11</td><td style = \"text-align: right;\">1230</td></tr><tr><td class = \"rowNumber\" style = \"font-weight: bold; text-align: right;\">12</td><td style = \"text-align: right;\">462</td></tr><tr><td class = \"rowNumber\" style = \"font-weight: bold; text-align: right;\">13</td><td style = \"text-align: right;\">66</td></tr><tr><td style = \"text-align: right;\">&vellip;</td><td style = \"text-align: right;\">&vellip;</td></tr><tr><td class = \"rowNumber\" style = \"font-weight: bold; text-align: right;\">14747</td><td style = \"text-align: right;\">0</td></tr><tr><td class = \"rowNumber\" style = \"font-weight: bold; text-align: right;\">14748</td><td style = \"text-align: right;\">0</td></tr><tr><td class = \"rowNumber\" style = \"font-weight: bold; text-align: right;\">14749</td><td style = \"text-align: right;\">0</td></tr><tr><td class = \"rowNumber\" style = \"font-weight: bold; text-align: right;\">14750</td><td style = \"text-align: right;\">0</td></tr><tr><td class = \"rowNumber\" style = \"font-weight: bold; text-align: right;\">14751</td><td style = \"text-align: right;\">0</td></tr><tr><td class = \"rowNumber\" style = \"font-weight: bold; text-align: right;\">14752</td><td style = \"text-align: right;\">3</td></tr><tr><td class = \"rowNumber\" style = \"font-weight: bold; text-align: right;\">14753</td><td style = \"text-align: right;\">3</td></tr><tr><td class = \"rowNumber\" style = \"font-weight: bold; text-align: right;\">14754</td><td style = \"text-align: right;\">3</td></tr><tr><td class = \"rowNumber\" style = \"font-weight: bold; text-align: right;\">14755</td><td style = \"text-align: right;\">36</td></tr><tr><td class = \"rowNumber\" style = \"font-weight: bold; text-align: right;\">14756</td><td style = \"text-align: right;\">0</td></tr><tr><td class = \"rowNumber\" style = \"font-weight: bold; text-align: right;\">14757</td><td style = \"text-align: right;\">0</td></tr><tr><td class = \"rowNumber\" style = \"font-weight: bold; text-align: right;\">14758</td><td style = \"text-align: right;\">174</td></tr></tbody></table></div>"
      ],
      "text/latex": [
       "\\begin{tabular}{r|c}\n",
       "\t& value\\\\\n",
       "\t\\hline\n",
       "\t& Int64\\\\\n",
       "\t\\hline\n",
       "\t1 & 15639 \\\\\n",
       "\t2 & 2943 \\\\\n",
       "\t3 & 639 \\\\\n",
       "\t4 & 555 \\\\\n",
       "\t5 & 348 \\\\\n",
       "\t6 & 177 \\\\\n",
       "\t7 & 3 \\\\\n",
       "\t8 & 12 \\\\\n",
       "\t9 & 159 \\\\\n",
       "\t10 & 12 \\\\\n",
       "\t11 & 1230 \\\\\n",
       "\t12 & 462 \\\\\n",
       "\t13 & 66 \\\\\n",
       "\t14 & 117 \\\\\n",
       "\t15 & 3 \\\\\n",
       "\t16 & 54 \\\\\n",
       "\t17 & 54 \\\\\n",
       "\t18 & 153 \\\\\n",
       "\t19 & 189 \\\\\n",
       "\t20 & 12 \\\\\n",
       "\t21 & 120 \\\\\n",
       "\t22 & 51 \\\\\n",
       "\t23 & 2544 \\\\\n",
       "\t24 & 387 \\\\\n",
       "\t$\\dots$ & $\\dots$ \\\\\n",
       "\\end{tabular}\n"
      ],
      "text/plain": [
       "\u001b[1m14758×1 DataFrame\u001b[0m\n",
       "\u001b[1m   Row \u001b[0m│\u001b[1m value \u001b[0m\n",
       "       │\u001b[90m Int64 \u001b[0m\n",
       "───────┼───────\n",
       "     1 │ 15639\n",
       "     2 │  2943\n",
       "     3 │   639\n",
       "     4 │   555\n",
       "     5 │   348\n",
       "     6 │   177\n",
       "     7 │     3\n",
       "     8 │    12\n",
       "   ⋮   │   ⋮\n",
       " 14752 │     3\n",
       " 14753 │     3\n",
       " 14754 │     3\n",
       " 14755 │    36\n",
       " 14756 │     0\n",
       " 14757 │     0\n",
       " 14758 │   174\n",
       "\u001b[36m14743 rows omitted\u001b[0m"
      ]
     },
     "metadata": {},
     "output_type": "display_data"
    }
   ],
   "source": [
    "df[:,Not(Between(\"description\", \"line_code\"))]"
   ]
  },
  {
   "cell_type": "code",
   "execution_count": 88,
   "metadata": {},
   "outputs": [
    {
     "data": {
      "text/html": [
       "<div><div style = \"float: left;\"><span>14758×5 DataFrame</span></div><div style = \"float: right;\"><span style = \"font-style: italic;\">14733 rows omitted</span></div><div style = \"clear: both;\"></div></div><div class = \"data-frame\" style = \"overflow-x: scroll;\"><table class = \"data-frame\" style = \"margin-bottom: 6px;\"><thead><tr class = \"header\"><th class = \"rowNumber\" style = \"font-weight: bold; text-align: right;\">Row</th><th style = \"text-align: left;\">description</th><th style = \"text-align: left;\">level</th><th style = \"text-align: left;\">size</th><th style = \"text-align: left;\">line_code</th><th style = \"text-align: left;\">value</th></tr><tr class = \"subheader headerLastRow\"><th class = \"rowNumber\" style = \"font-weight: bold; text-align: right;\"></th><th title = \"String\" style = \"text-align: left;\">String</th><th title = \"Int64\" style = \"text-align: left;\">Int64</th><th title = \"String\" style = \"text-align: left;\">String</th><th title = \"String\" style = \"text-align: left;\">String</th><th title = \"Int64\" style = \"text-align: left;\">Int64</th></tr></thead><tbody><tr><td class = \"rowNumber\" style = \"font-weight: bold; text-align: right;\">1</td><td style = \"text-align: left;\">Business main customer: individuals or households</td><td style = \"text-align: right;\">0</td><td style = \"text-align: left;\">6\\x9619 employees</td><td style = \"text-align: left;\">C0300.01</td><td style = \"text-align: right;\">15639</td></tr><tr><td class = \"rowNumber\" style = \"font-weight: bold; text-align: right;\">2</td><td style = \"text-align: left;\">Business main customer: individuals or households</td><td style = \"text-align: right;\">0</td><td style = \"text-align: left;\">20\\x9649 employees</td><td style = \"text-align: left;\">C0300.01</td><td style = \"text-align: right;\">2943</td></tr><tr><td class = \"rowNumber\" style = \"font-weight: bold; text-align: right;\">3</td><td style = \"text-align: left;\">Business main customer: individuals or households</td><td style = \"text-align: right;\">0</td><td style = \"text-align: left;\">50\\x9699 employees</td><td style = \"text-align: left;\">C0300.01</td><td style = \"text-align: right;\">639</td></tr><tr><td class = \"rowNumber\" style = \"font-weight: bold; text-align: right;\">4</td><td style = \"text-align: left;\">Business main customer: individuals or households</td><td style = \"text-align: right;\">0</td><td style = \"text-align: left;\">100+ employees</td><td style = \"text-align: left;\">C0300.01</td><td style = \"text-align: right;\">555</td></tr><tr><td class = \"rowNumber\" style = \"font-weight: bold; text-align: right;\">5</td><td style = \"text-align: left;\">Business main customer: individuals or households</td><td style = \"text-align: right;\">1</td><td style = \"text-align: left;\">total</td><td style = \"text-align: left;\">C0300.01</td><td style = \"text-align: right;\">348</td></tr><tr><td class = \"rowNumber\" style = \"font-weight: bold; text-align: right;\">6</td><td style = \"text-align: left;\">Business main customer: individuals or households</td><td style = \"text-align: right;\">2</td><td style = \"text-align: left;\">total</td><td style = \"text-align: left;\">C0300.01</td><td style = \"text-align: right;\">177</td></tr><tr><td class = \"rowNumber\" style = \"font-weight: bold; text-align: right;\">7</td><td style = \"text-align: left;\">Business main customer: individuals or households</td><td style = \"text-align: right;\">2</td><td style = \"text-align: left;\">total</td><td style = \"text-align: left;\">C0300.01</td><td style = \"text-align: right;\">3</td></tr><tr><td class = \"rowNumber\" style = \"font-weight: bold; text-align: right;\">8</td><td style = \"text-align: left;\">Business main customer: individuals or households</td><td style = \"text-align: right;\">2</td><td style = \"text-align: left;\">total</td><td style = \"text-align: left;\">C0300.01</td><td style = \"text-align: right;\">12</td></tr><tr><td class = \"rowNumber\" style = \"font-weight: bold; text-align: right;\">9</td><td style = \"text-align: left;\">Business main customer: individuals or households</td><td style = \"text-align: right;\">2</td><td style = \"text-align: left;\">total</td><td style = \"text-align: left;\">C0300.01</td><td style = \"text-align: right;\">159</td></tr><tr><td class = \"rowNumber\" style = \"font-weight: bold; text-align: right;\">10</td><td style = \"text-align: left;\">Business main customer: individuals or households</td><td style = \"text-align: right;\">1</td><td style = \"text-align: left;\">total</td><td style = \"text-align: left;\">C0300.01</td><td style = \"text-align: right;\">12</td></tr><tr><td class = \"rowNumber\" style = \"font-weight: bold; text-align: right;\">11</td><td style = \"text-align: left;\">Business main customer: individuals or households</td><td style = \"text-align: right;\">1</td><td style = \"text-align: left;\">total</td><td style = \"text-align: left;\">C0300.01</td><td style = \"text-align: right;\">1230</td></tr><tr><td class = \"rowNumber\" style = \"font-weight: bold; text-align: right;\">12</td><td style = \"text-align: left;\">Business main customer: individuals or households</td><td style = \"text-align: right;\">2</td><td style = \"text-align: left;\">total</td><td style = \"text-align: left;\">C0300.01</td><td style = \"text-align: right;\">462</td></tr><tr><td class = \"rowNumber\" style = \"font-weight: bold; text-align: right;\">13</td><td style = \"text-align: left;\">Business main customer: individuals or households</td><td style = \"text-align: right;\">2</td><td style = \"text-align: left;\">total</td><td style = \"text-align: left;\">C0300.01</td><td style = \"text-align: right;\">66</td></tr><tr><td style = \"text-align: right;\">&vellip;</td><td style = \"text-align: right;\">&vellip;</td><td style = \"text-align: right;\">&vellip;</td><td style = \"text-align: right;\">&vellip;</td><td style = \"text-align: right;\">&vellip;</td><td style = \"text-align: right;\">&vellip;</td></tr><tr><td class = \"rowNumber\" style = \"font-weight: bold; text-align: right;\">14747</td><td style = \"text-align: left;\">How union representation of employees has affected the level of flexibility/availability to make changes to employment conditions: don&apos;t know</td><td style = \"text-align: right;\">2</td><td style = \"text-align: left;\">total</td><td style = \"text-align: left;\">C3307.04</td><td style = \"text-align: right;\">0</td></tr><tr><td class = \"rowNumber\" style = \"font-weight: bold; text-align: right;\">14748</td><td style = \"text-align: left;\">How union representation of employees has affected the level of flexibility/availability to make changes to employment conditions: don&apos;t know</td><td style = \"text-align: right;\">2</td><td style = \"text-align: left;\">total</td><td style = \"text-align: left;\">C3307.04</td><td style = \"text-align: right;\">0</td></tr><tr><td class = \"rowNumber\" style = \"font-weight: bold; text-align: right;\">14749</td><td style = \"text-align: left;\">How union representation of employees has affected the level of flexibility/availability to make changes to employment conditions: don&apos;t know</td><td style = \"text-align: right;\">1</td><td style = \"text-align: left;\">total</td><td style = \"text-align: left;\">C3307.04</td><td style = \"text-align: right;\">0</td></tr><tr><td class = \"rowNumber\" style = \"font-weight: bold; text-align: right;\">14750</td><td style = \"text-align: left;\">How union representation of employees has affected the level of flexibility/availability to make changes to employment conditions: don&apos;t know</td><td style = \"text-align: right;\">1</td><td style = \"text-align: left;\">total</td><td style = \"text-align: left;\">C3307.04</td><td style = \"text-align: right;\">0</td></tr><tr><td class = \"rowNumber\" style = \"font-weight: bold; text-align: right;\">14751</td><td style = \"text-align: left;\">How union representation of employees has affected the level of flexibility/availability to make changes to employment conditions: don&apos;t know</td><td style = \"text-align: right;\">2</td><td style = \"text-align: left;\">total</td><td style = \"text-align: left;\">C3307.04</td><td style = \"text-align: right;\">0</td></tr><tr><td class = \"rowNumber\" style = \"font-weight: bold; text-align: right;\">14752</td><td style = \"text-align: left;\">How union representation of employees has affected the level of flexibility/availability to make changes to employment conditions: don&apos;t know</td><td style = \"text-align: right;\">2</td><td style = \"text-align: left;\">total</td><td style = \"text-align: left;\">C3307.04</td><td style = \"text-align: right;\">3</td></tr><tr><td class = \"rowNumber\" style = \"font-weight: bold; text-align: right;\">14753</td><td style = \"text-align: left;\">How union representation of employees has affected the level of flexibility/availability to make changes to employment conditions: don&apos;t know</td><td style = \"text-align: right;\">1</td><td style = \"text-align: left;\">total</td><td style = \"text-align: left;\">C3307.04</td><td style = \"text-align: right;\">3</td></tr><tr><td class = \"rowNumber\" style = \"font-weight: bold; text-align: right;\">14754</td><td style = \"text-align: left;\">How union representation of employees has affected the level of flexibility/availability to make changes to employment conditions: don&apos;t know</td><td style = \"text-align: right;\">1</td><td style = \"text-align: left;\">total</td><td style = \"text-align: left;\">C3307.04</td><td style = \"text-align: right;\">3</td></tr><tr><td class = \"rowNumber\" style = \"font-weight: bold; text-align: right;\">14755</td><td style = \"text-align: left;\">How union representation of employees has affected the level of flexibility/availability to make changes to employment conditions: don&apos;t know</td><td style = \"text-align: right;\">1</td><td style = \"text-align: left;\">total</td><td style = \"text-align: left;\">C3307.04</td><td style = \"text-align: right;\">36</td></tr><tr><td class = \"rowNumber\" style = \"font-weight: bold; text-align: right;\">14756</td><td style = \"text-align: left;\">How union representation of employees has affected the level of flexibility/availability to make changes to employment conditions: don&apos;t know</td><td style = \"text-align: right;\">1</td><td style = \"text-align: left;\">total</td><td style = \"text-align: left;\">C3307.04</td><td style = \"text-align: right;\">0</td></tr><tr><td class = \"rowNumber\" style = \"font-weight: bold; text-align: right;\">14757</td><td style = \"text-align: left;\">How union representation of employees has affected the level of flexibility/availability to make changes to employment conditions: don&apos;t know</td><td style = \"text-align: right;\">1</td><td style = \"text-align: left;\">total</td><td style = \"text-align: left;\">C3307.04</td><td style = \"text-align: right;\">0</td></tr><tr><td class = \"rowNumber\" style = \"font-weight: bold; text-align: right;\">14758</td><td style = \"text-align: left;\">How union representation of employees has affected the level of flexibility/availability to make changes to employment conditions: don&apos;t know</td><td style = \"text-align: right;\">0</td><td style = \"text-align: left;\">total</td><td style = \"text-align: left;\">C3307.04</td><td style = \"text-align: right;\">174</td></tr></tbody></table></div>"
      ],
      "text/latex": [
       "\\begin{tabular}{r|ccccc}\n",
       "\t& description & level & size & line\\_code & \\\\\n",
       "\t\\hline\n",
       "\t& String & Int64 & String & String & \\\\\n",
       "\t\\hline\n",
       "\t1 & Business main customer: individuals or households & 0 & 6\\textbackslash{}x9619 employees & C0300.01 & $\\dots$ \\\\\n",
       "\t2 & Business main customer: individuals or households & 0 & 20\\textbackslash{}x9649 employees & C0300.01 & $\\dots$ \\\\\n",
       "\t3 & Business main customer: individuals or households & 0 & 50\\textbackslash{}x9699 employees & C0300.01 & $\\dots$ \\\\\n",
       "\t4 & Business main customer: individuals or households & 0 & 100+ employees & C0300.01 & $\\dots$ \\\\\n",
       "\t5 & Business main customer: individuals or households & 1 & total & C0300.01 & $\\dots$ \\\\\n",
       "\t6 & Business main customer: individuals or households & 2 & total & C0300.01 & $\\dots$ \\\\\n",
       "\t7 & Business main customer: individuals or households & 2 & total & C0300.01 & $\\dots$ \\\\\n",
       "\t8 & Business main customer: individuals or households & 2 & total & C0300.01 & $\\dots$ \\\\\n",
       "\t9 & Business main customer: individuals or households & 2 & total & C0300.01 & $\\dots$ \\\\\n",
       "\t10 & Business main customer: individuals or households & 1 & total & C0300.01 & $\\dots$ \\\\\n",
       "\t11 & Business main customer: individuals or households & 1 & total & C0300.01 & $\\dots$ \\\\\n",
       "\t12 & Business main customer: individuals or households & 2 & total & C0300.01 & $\\dots$ \\\\\n",
       "\t13 & Business main customer: individuals or households & 2 & total & C0300.01 & $\\dots$ \\\\\n",
       "\t14 & Business main customer: individuals or households & 2 & total & C0300.01 & $\\dots$ \\\\\n",
       "\t15 & Business main customer: individuals or households & 2 & total & C0300.01 & $\\dots$ \\\\\n",
       "\t16 & Business main customer: individuals or households & 2 & total & C0300.01 & $\\dots$ \\\\\n",
       "\t17 & Business main customer: individuals or households & 2 & total & C0300.01 & $\\dots$ \\\\\n",
       "\t18 & Business main customer: individuals or households & 2 & total & C0300.01 & $\\dots$ \\\\\n",
       "\t19 & Business main customer: individuals or households & 2 & total & C0300.01 & $\\dots$ \\\\\n",
       "\t20 & Business main customer: individuals or households & 2 & total & C0300.01 & $\\dots$ \\\\\n",
       "\t21 & Business main customer: individuals or households & 2 & total & C0300.01 & $\\dots$ \\\\\n",
       "\t22 & Business main customer: individuals or households & 1 & total & C0300.01 & $\\dots$ \\\\\n",
       "\t23 & Business main customer: individuals or households & 1 & total & C0300.01 & $\\dots$ \\\\\n",
       "\t24 & Business main customer: individuals or households & 1 & total & C0300.01 & $\\dots$ \\\\\n",
       "\t$\\dots$ & $\\dots$ & $\\dots$ & $\\dots$ & $\\dots$ &  \\\\\n",
       "\\end{tabular}\n"
      ],
      "text/plain": [
       "\u001b[1m14758×5 DataFrame\u001b[0m\n",
       "\u001b[1m   Row \u001b[0m│\u001b[1m description                       \u001b[0m\u001b[1m level \u001b[0m\u001b[1m size               \u001b[0m\u001b[1m line_co\u001b[0m ⋯\n",
       "       │\u001b[90m String                            \u001b[0m\u001b[90m Int64 \u001b[0m\u001b[90m String             \u001b[0m\u001b[90m String \u001b[0m ⋯\n",
       "───────┼────────────────────────────────────────────────────────────────────────\n",
       "     1 │ Business main customer: individu…      0  6\\x9619 employees   C0300.0 ⋯\n",
       "     2 │ Business main customer: individu…      0  20\\x9649 employees  C0300.0\n",
       "     3 │ Business main customer: individu…      0  50\\x9699 employees  C0300.0\n",
       "     4 │ Business main customer: individu…      0  100+ employees      C0300.0\n",
       "     5 │ Business main customer: individu…      1  total               C0300.0 ⋯\n",
       "     6 │ Business main customer: individu…      2  total               C0300.0\n",
       "     7 │ Business main customer: individu…      2  total               C0300.0\n",
       "     8 │ Business main customer: individu…      2  total               C0300.0\n",
       "   ⋮   │                 ⋮                    ⋮            ⋮               ⋮   ⋱\n",
       " 14752 │ How union representation of empl…      2  total               C3307.0 ⋯\n",
       " 14753 │ How union representation of empl…      1  total               C3307.0\n",
       " 14754 │ How union representation of empl…      1  total               C3307.0\n",
       " 14755 │ How union representation of empl…      1  total               C3307.0\n",
       " 14756 │ How union representation of empl…      1  total               C3307.0 ⋯\n",
       " 14757 │ How union representation of empl…      1  total               C3307.0\n",
       " 14758 │ How union representation of empl…      0  total               C3307.0\n",
       "\u001b[36m                                                2 columns and 14743 rows omitted\u001b[0m"
      ]
     },
     "metadata": {},
     "output_type": "display_data"
    }
   ],
   "source": [
    "df[:,Cols(!startswith(\"i\"))]"
   ]
  },
  {
   "cell_type": "code",
   "execution_count": 89,
   "metadata": {},
   "outputs": [
    {
     "data": {
      "text/html": [
       "<div><div style = \"float: left;\"><span>14758×4 DataFrame</span></div><div style = \"float: right;\"><span style = \"font-style: italic;\">14733 rows omitted</span></div><div style = \"clear: both;\"></div></div><div class = \"data-frame\" style = \"overflow-x: scroll;\"><table class = \"data-frame\" style = \"margin-bottom: 6px;\"><thead><tr class = \"header\"><th class = \"rowNumber\" style = \"font-weight: bold; text-align: right;\">Row</th><th style = \"text-align: left;\">description</th><th style = \"text-align: left;\">industry</th><th style = \"text-align: left;\">size</th><th style = \"text-align: left;\">line_code</th></tr><tr class = \"subheader headerLastRow\"><th class = \"rowNumber\" style = \"font-weight: bold; text-align: right;\"></th><th title = \"String\" style = \"text-align: left;\">String</th><th title = \"String\" style = \"text-align: left;\">String</th><th title = \"String\" style = \"text-align: left;\">String</th><th title = \"String\" style = \"text-align: left;\">String</th></tr></thead><tbody><tr><td class = \"rowNumber\" style = \"font-weight: bold; text-align: right;\">1</td><td style = \"text-align: left;\">Business main customer: individuals or households</td><td style = \"text-align: left;\">total</td><td style = \"text-align: left;\">6\\x9619 employees</td><td style = \"text-align: left;\">C0300.01</td></tr><tr><td class = \"rowNumber\" style = \"font-weight: bold; text-align: right;\">2</td><td style = \"text-align: left;\">Business main customer: individuals or households</td><td style = \"text-align: left;\">total</td><td style = \"text-align: left;\">20\\x9649 employees</td><td style = \"text-align: left;\">C0300.01</td></tr><tr><td class = \"rowNumber\" style = \"font-weight: bold; text-align: right;\">3</td><td style = \"text-align: left;\">Business main customer: individuals or households</td><td style = \"text-align: left;\">total</td><td style = \"text-align: left;\">50\\x9699 employees</td><td style = \"text-align: left;\">C0300.01</td></tr><tr><td class = \"rowNumber\" style = \"font-weight: bold; text-align: right;\">4</td><td style = \"text-align: left;\">Business main customer: individuals or households</td><td style = \"text-align: left;\">total</td><td style = \"text-align: left;\">100+ employees</td><td style = \"text-align: left;\">C0300.01</td></tr><tr><td class = \"rowNumber\" style = \"font-weight: bold; text-align: right;\">5</td><td style = \"text-align: left;\">Business main customer: individuals or households</td><td style = \"text-align: left;\">Agriculture, forestry, &amp; fishing</td><td style = \"text-align: left;\">total</td><td style = \"text-align: left;\">C0300.01</td></tr><tr><td class = \"rowNumber\" style = \"font-weight: bold; text-align: right;\">6</td><td style = \"text-align: left;\">Business main customer: individuals or households</td><td style = \"text-align: left;\">Agriculture</td><td style = \"text-align: left;\">total</td><td style = \"text-align: left;\">C0300.01</td></tr><tr><td class = \"rowNumber\" style = \"font-weight: bold; text-align: right;\">7</td><td style = \"text-align: left;\">Business main customer: individuals or households</td><td style = \"text-align: left;\">Commercial fishing</td><td style = \"text-align: left;\">total</td><td style = \"text-align: left;\">C0300.01</td></tr><tr><td class = \"rowNumber\" style = \"font-weight: bold; text-align: right;\">8</td><td style = \"text-align: left;\">Business main customer: individuals or households</td><td style = \"text-align: left;\">Forestry &amp; logging</td><td style = \"text-align: left;\">total</td><td style = \"text-align: left;\">C0300.01</td></tr><tr><td class = \"rowNumber\" style = \"font-weight: bold; text-align: right;\">9</td><td style = \"text-align: left;\">Business main customer: individuals or households</td><td style = \"text-align: left;\">Agriculture, forestry, &amp; fishing support services</td><td style = \"text-align: left;\">total</td><td style = \"text-align: left;\">C0300.01</td></tr><tr><td class = \"rowNumber\" style = \"font-weight: bold; text-align: right;\">10</td><td style = \"text-align: left;\">Business main customer: individuals or households</td><td style = \"text-align: left;\">Mining</td><td style = \"text-align: left;\">total</td><td style = \"text-align: left;\">C0300.01</td></tr><tr><td class = \"rowNumber\" style = \"font-weight: bold; text-align: right;\">11</td><td style = \"text-align: left;\">Business main customer: individuals or households</td><td style = \"text-align: left;\">Manufacturing</td><td style = \"text-align: left;\">total</td><td style = \"text-align: left;\">C0300.01</td></tr><tr><td class = \"rowNumber\" style = \"font-weight: bold; text-align: right;\">12</td><td style = \"text-align: left;\">Business main customer: individuals or households</td><td style = \"text-align: left;\">Food, beverage, &amp; tobacco</td><td style = \"text-align: left;\">total</td><td style = \"text-align: left;\">C0300.01</td></tr><tr><td class = \"rowNumber\" style = \"font-weight: bold; text-align: right;\">13</td><td style = \"text-align: left;\">Business main customer: individuals or households</td><td style = \"text-align: left;\">Textile, clothing, footwear, &amp; leather</td><td style = \"text-align: left;\">total</td><td style = \"text-align: left;\">C0300.01</td></tr><tr><td style = \"text-align: right;\">&vellip;</td><td style = \"text-align: right;\">&vellip;</td><td style = \"text-align: right;\">&vellip;</td><td style = \"text-align: right;\">&vellip;</td><td style = \"text-align: right;\">&vellip;</td></tr><tr><td class = \"rowNumber\" style = \"font-weight: bold; text-align: right;\">14747</td><td style = \"text-align: left;\">How union representation of employees has affected the level of flexibility/availability to make changes to employment conditions: don&apos;t know</td><td style = \"text-align: left;\">Insurance</td><td style = \"text-align: left;\">total</td><td style = \"text-align: left;\">C3307.04</td></tr><tr><td class = \"rowNumber\" style = \"font-weight: bold; text-align: right;\">14748</td><td style = \"text-align: left;\">How union representation of employees has affected the level of flexibility/availability to make changes to employment conditions: don&apos;t know</td><td style = \"text-align: left;\">Auxiliary</td><td style = \"text-align: left;\">total</td><td style = \"text-align: left;\">C3307.04</td></tr><tr><td class = \"rowNumber\" style = \"font-weight: bold; text-align: right;\">14749</td><td style = \"text-align: left;\">How union representation of employees has affected the level of flexibility/availability to make changes to employment conditions: don&apos;t know</td><td style = \"text-align: left;\">Rental, hiring, &amp; real estate services</td><td style = \"text-align: left;\">total</td><td style = \"text-align: left;\">C3307.04</td></tr><tr><td class = \"rowNumber\" style = \"font-weight: bold; text-align: right;\">14750</td><td style = \"text-align: left;\">How union representation of employees has affected the level of flexibility/availability to make changes to employment conditions: don&apos;t know</td><td style = \"text-align: left;\">Professional, scientific, &amp; technical services</td><td style = \"text-align: left;\">total</td><td style = \"text-align: left;\">C3307.04</td></tr><tr><td class = \"rowNumber\" style = \"font-weight: bold; text-align: right;\">14751</td><td style = \"text-align: left;\">How union representation of employees has affected the level of flexibility/availability to make changes to employment conditions: don&apos;t know</td><td style = \"text-align: left;\">Computer systems design</td><td style = \"text-align: left;\">total</td><td style = \"text-align: left;\">C3307.04</td></tr><tr><td class = \"rowNumber\" style = \"font-weight: bold; text-align: right;\">14752</td><td style = \"text-align: left;\">How union representation of employees has affected the level of flexibility/availability to make changes to employment conditions: don&apos;t know</td><td style = \"text-align: left;\">Other professional scientific</td><td style = \"text-align: left;\">total</td><td style = \"text-align: left;\">C3307.04</td></tr><tr><td class = \"rowNumber\" style = \"font-weight: bold; text-align: right;\">14753</td><td style = \"text-align: left;\">How union representation of employees has affected the level of flexibility/availability to make changes to employment conditions: don&apos;t know</td><td style = \"text-align: left;\">Administrative &amp; support services</td><td style = \"text-align: left;\">total</td><td style = \"text-align: left;\">C3307.04</td></tr><tr><td class = \"rowNumber\" style = \"font-weight: bold; text-align: right;\">14754</td><td style = \"text-align: left;\">How union representation of employees has affected the level of flexibility/availability to make changes to employment conditions: don&apos;t know</td><td style = \"text-align: left;\">Education &amp; training</td><td style = \"text-align: left;\">total</td><td style = \"text-align: left;\">C3307.04</td></tr><tr><td class = \"rowNumber\" style = \"font-weight: bold; text-align: right;\">14755</td><td style = \"text-align: left;\">How union representation of employees has affected the level of flexibility/availability to make changes to employment conditions: don&apos;t know</td><td style = \"text-align: left;\">Health care &amp; social assistance</td><td style = \"text-align: left;\">total</td><td style = \"text-align: left;\">C3307.04</td></tr><tr><td class = \"rowNumber\" style = \"font-weight: bold; text-align: right;\">14756</td><td style = \"text-align: left;\">How union representation of employees has affected the level of flexibility/availability to make changes to employment conditions: don&apos;t know</td><td style = \"text-align: left;\">Arts &amp; recreation services</td><td style = \"text-align: left;\">total</td><td style = \"text-align: left;\">C3307.04</td></tr><tr><td class = \"rowNumber\" style = \"font-weight: bold; text-align: right;\">14757</td><td style = \"text-align: left;\">How union representation of employees has affected the level of flexibility/availability to make changes to employment conditions: don&apos;t know</td><td style = \"text-align: left;\">Other services</td><td style = \"text-align: left;\">total</td><td style = \"text-align: left;\">C3307.04</td></tr><tr><td class = \"rowNumber\" style = \"font-weight: bold; text-align: right;\">14758</td><td style = \"text-align: left;\">How union representation of employees has affected the level of flexibility/availability to make changes to employment conditions: don&apos;t know</td><td style = \"text-align: left;\">total</td><td style = \"text-align: left;\">total</td><td style = \"text-align: left;\">C3307.04</td></tr></tbody></table></div>"
      ],
      "text/latex": [
       "\\begin{tabular}{r|ccc}\n",
       "\t& description & industry & \\\\\n",
       "\t\\hline\n",
       "\t& String & String & \\\\\n",
       "\t\\hline\n",
       "\t1 & Business main customer: individuals or households & total & $\\dots$ \\\\\n",
       "\t2 & Business main customer: individuals or households & total & $\\dots$ \\\\\n",
       "\t3 & Business main customer: individuals or households & total & $\\dots$ \\\\\n",
       "\t4 & Business main customer: individuals or households & total & $\\dots$ \\\\\n",
       "\t5 & Business main customer: individuals or households & Agriculture, forestry, \\& fishing & $\\dots$ \\\\\n",
       "\t6 & Business main customer: individuals or households & Agriculture & $\\dots$ \\\\\n",
       "\t7 & Business main customer: individuals or households & Commercial fishing & $\\dots$ \\\\\n",
       "\t8 & Business main customer: individuals or households & Forestry \\& logging & $\\dots$ \\\\\n",
       "\t9 & Business main customer: individuals or households & Agriculture, forestry, \\& fishing support services & $\\dots$ \\\\\n",
       "\t10 & Business main customer: individuals or households & Mining & $\\dots$ \\\\\n",
       "\t11 & Business main customer: individuals or households & Manufacturing & $\\dots$ \\\\\n",
       "\t12 & Business main customer: individuals or households & Food, beverage, \\& tobacco & $\\dots$ \\\\\n",
       "\t13 & Business main customer: individuals or households & Textile, clothing, footwear, \\& leather & $\\dots$ \\\\\n",
       "\t14 & Business main customer: individuals or households & Wood \\& paper product & $\\dots$ \\\\\n",
       "\t15 & Business main customer: individuals or households & Printing, publishing, \\& recorded media & $\\dots$ \\\\\n",
       "\t16 & Business main customer: individuals or households & Petroleum, coal, chemical, \\& associated product & $\\dots$ \\\\\n",
       "\t17 & Business main customer: individuals or households & Non-metallic mineral product & $\\dots$ \\\\\n",
       "\t18 & Business main customer: individuals or households & Metal product & $\\dots$ \\\\\n",
       "\t19 & Business main customer: individuals or households & Transport and industrial machinery \\& equipment & $\\dots$ \\\\\n",
       "\t20 & Business main customer: individuals or households & Other machinery \\& equipment & $\\dots$ \\\\\n",
       "\t21 & Business main customer: individuals or households & Other manufacturing & $\\dots$ \\\\\n",
       "\t22 & Business main customer: individuals or households & Electricity, gas, water, \\& waste services & $\\dots$ \\\\\n",
       "\t23 & Business main customer: individuals or households & Construction & $\\dots$ \\\\\n",
       "\t24 & Business main customer: individuals or households & Wholesale trade & $\\dots$ \\\\\n",
       "\t$\\dots$ & $\\dots$ & $\\dots$ &  \\\\\n",
       "\\end{tabular}\n"
      ],
      "text/plain": [
       "\u001b[1m14758×4 DataFrame\u001b[0m\n",
       "\u001b[1m   Row \u001b[0m│\u001b[1m description                       \u001b[0m\u001b[1m industry                          \u001b[0m\u001b[1m\u001b[0m ⋯\n",
       "       │\u001b[90m String                            \u001b[0m\u001b[90m String                            \u001b[0m\u001b[90m\u001b[0m ⋯\n",
       "───────┼────────────────────────────────────────────────────────────────────────\n",
       "     1 │ Business main customer: individu…  total                              ⋯\n",
       "     2 │ Business main customer: individu…  total\n",
       "     3 │ Business main customer: individu…  total\n",
       "     4 │ Business main customer: individu…  total\n",
       "     5 │ Business main customer: individu…  Agriculture, forestry, & fishing   ⋯\n",
       "     6 │ Business main customer: individu…  Agriculture\n",
       "     7 │ Business main customer: individu…  Commercial fishing\n",
       "     8 │ Business main customer: individu…  Forestry & logging\n",
       "   ⋮   │                 ⋮                                  ⋮                  ⋱\n",
       " 14752 │ How union representation of empl…  Other professional scientific      ⋯\n",
       " 14753 │ How union representation of empl…  Administrative & support services\n",
       " 14754 │ How union representation of empl…  Education & training\n",
       " 14755 │ How union representation of empl…  Health care & social assistance\n",
       " 14756 │ How union representation of empl…  Arts & recreation services         ⋯\n",
       " 14757 │ How union representation of empl…  Other services\n",
       " 14758 │ How union representation of empl…  total\n",
       "\u001b[36m                                                2 columns and 14743 rows omitted\u001b[0m"
      ]
     },
     "metadata": {},
     "output_type": "display_data"
    }
   ],
   "source": [
    "df[:,names(df,String)]"
   ]
  },
  {
   "cell_type": "code",
   "execution_count": 90,
   "metadata": {},
   "outputs": [
    {
     "data": {
      "text/html": [
       "<div><div style = \"float: left;\"><span>14753×6 DataFrame</span></div><div style = \"float: right;\"><span style = \"font-style: italic;\">14728 rows omitted</span></div><div style = \"clear: both;\"></div></div><div class = \"data-frame\" style = \"overflow-x: scroll;\"><table class = \"data-frame\" style = \"margin-bottom: 6px;\"><thead><tr class = \"header\"><th class = \"rowNumber\" style = \"font-weight: bold; text-align: right;\">Row</th><th style = \"text-align: left;\">description</th><th style = \"text-align: left;\">industry</th><th style = \"text-align: left;\">level</th><th style = \"text-align: left;\">size</th><th style = \"text-align: left;\">line_code</th><th style = \"text-align: left;\">value</th></tr><tr class = \"subheader headerLastRow\"><th class = \"rowNumber\" style = \"font-weight: bold; text-align: right;\"></th><th title = \"String\" style = \"text-align: left;\">String</th><th title = \"String\" style = \"text-align: left;\">String</th><th title = \"Int64\" style = \"text-align: left;\">Int64</th><th title = \"String\" style = \"text-align: left;\">String</th><th title = \"String\" style = \"text-align: left;\">String</th><th title = \"Int64\" style = \"text-align: left;\">Int64</th></tr></thead><tbody><tr><td class = \"rowNumber\" style = \"font-weight: bold; text-align: right;\">1</td><td style = \"text-align: left;\">Business main customer: individuals or households</td><td style = \"text-align: left;\">Agriculture</td><td style = \"text-align: right;\">2</td><td style = \"text-align: left;\">total</td><td style = \"text-align: left;\">C0300.01</td><td style = \"text-align: right;\">177</td></tr><tr><td class = \"rowNumber\" style = \"font-weight: bold; text-align: right;\">2</td><td style = \"text-align: left;\">Business main customer: individuals or households</td><td style = \"text-align: left;\">Commercial fishing</td><td style = \"text-align: right;\">2</td><td style = \"text-align: left;\">total</td><td style = \"text-align: left;\">C0300.01</td><td style = \"text-align: right;\">3</td></tr><tr><td class = \"rowNumber\" style = \"font-weight: bold; text-align: right;\">3</td><td style = \"text-align: left;\">Business main customer: individuals or households</td><td style = \"text-align: left;\">Forestry &amp; logging</td><td style = \"text-align: right;\">2</td><td style = \"text-align: left;\">total</td><td style = \"text-align: left;\">C0300.01</td><td style = \"text-align: right;\">12</td></tr><tr><td class = \"rowNumber\" style = \"font-weight: bold; text-align: right;\">4</td><td style = \"text-align: left;\">Business main customer: individuals or households</td><td style = \"text-align: left;\">Agriculture, forestry, &amp; fishing support services</td><td style = \"text-align: right;\">2</td><td style = \"text-align: left;\">total</td><td style = \"text-align: left;\">C0300.01</td><td style = \"text-align: right;\">159</td></tr><tr><td class = \"rowNumber\" style = \"font-weight: bold; text-align: right;\">5</td><td style = \"text-align: left;\">Business main customer: individuals or households</td><td style = \"text-align: left;\">Mining</td><td style = \"text-align: right;\">1</td><td style = \"text-align: left;\">total</td><td style = \"text-align: left;\">C0300.01</td><td style = \"text-align: right;\">12</td></tr><tr><td class = \"rowNumber\" style = \"font-weight: bold; text-align: right;\">6</td><td style = \"text-align: left;\">Business main customer: individuals or households</td><td style = \"text-align: left;\">Manufacturing</td><td style = \"text-align: right;\">1</td><td style = \"text-align: left;\">total</td><td style = \"text-align: left;\">C0300.01</td><td style = \"text-align: right;\">1230</td></tr><tr><td class = \"rowNumber\" style = \"font-weight: bold; text-align: right;\">7</td><td style = \"text-align: left;\">Business main customer: individuals or households</td><td style = \"text-align: left;\">Food, beverage, &amp; tobacco</td><td style = \"text-align: right;\">2</td><td style = \"text-align: left;\">total</td><td style = \"text-align: left;\">C0300.01</td><td style = \"text-align: right;\">462</td></tr><tr><td class = \"rowNumber\" style = \"font-weight: bold; text-align: right;\">8</td><td style = \"text-align: left;\">Business main customer: individuals or households</td><td style = \"text-align: left;\">Textile, clothing, footwear, &amp; leather</td><td style = \"text-align: right;\">2</td><td style = \"text-align: left;\">total</td><td style = \"text-align: left;\">C0300.01</td><td style = \"text-align: right;\">66</td></tr><tr><td class = \"rowNumber\" style = \"font-weight: bold; text-align: right;\">9</td><td style = \"text-align: left;\">Business main customer: individuals or households</td><td style = \"text-align: left;\">Wood &amp; paper product</td><td style = \"text-align: right;\">2</td><td style = \"text-align: left;\">total</td><td style = \"text-align: left;\">C0300.01</td><td style = \"text-align: right;\">117</td></tr><tr><td class = \"rowNumber\" style = \"font-weight: bold; text-align: right;\">10</td><td style = \"text-align: left;\">Business main customer: individuals or households</td><td style = \"text-align: left;\">Printing, publishing, &amp; recorded media</td><td style = \"text-align: right;\">2</td><td style = \"text-align: left;\">total</td><td style = \"text-align: left;\">C0300.01</td><td style = \"text-align: right;\">3</td></tr><tr><td class = \"rowNumber\" style = \"font-weight: bold; text-align: right;\">11</td><td style = \"text-align: left;\">Business main customer: individuals or households</td><td style = \"text-align: left;\">Petroleum, coal, chemical, &amp; associated product</td><td style = \"text-align: right;\">2</td><td style = \"text-align: left;\">total</td><td style = \"text-align: left;\">C0300.01</td><td style = \"text-align: right;\">54</td></tr><tr><td class = \"rowNumber\" style = \"font-weight: bold; text-align: right;\">12</td><td style = \"text-align: left;\">Business main customer: individuals or households</td><td style = \"text-align: left;\">Non-metallic mineral product</td><td style = \"text-align: right;\">2</td><td style = \"text-align: left;\">total</td><td style = \"text-align: left;\">C0300.01</td><td style = \"text-align: right;\">54</td></tr><tr><td class = \"rowNumber\" style = \"font-weight: bold; text-align: right;\">13</td><td style = \"text-align: left;\">Business main customer: individuals or households</td><td style = \"text-align: left;\">Metal product</td><td style = \"text-align: right;\">2</td><td style = \"text-align: left;\">total</td><td style = \"text-align: left;\">C0300.01</td><td style = \"text-align: right;\">153</td></tr><tr><td style = \"text-align: right;\">&vellip;</td><td style = \"text-align: right;\">&vellip;</td><td style = \"text-align: right;\">&vellip;</td><td style = \"text-align: right;\">&vellip;</td><td style = \"text-align: right;\">&vellip;</td><td style = \"text-align: right;\">&vellip;</td><td style = \"text-align: right;\">&vellip;</td></tr><tr><td class = \"rowNumber\" style = \"font-weight: bold; text-align: right;\">14742</td><td style = \"text-align: left;\">How union representation of employees has affected the level of flexibility/availability to make changes to employment conditions: don&apos;t know</td><td style = \"text-align: left;\">Insurance</td><td style = \"text-align: right;\">2</td><td style = \"text-align: left;\">total</td><td style = \"text-align: left;\">C3307.04</td><td style = \"text-align: right;\">0</td></tr><tr><td class = \"rowNumber\" style = \"font-weight: bold; text-align: right;\">14743</td><td style = \"text-align: left;\">How union representation of employees has affected the level of flexibility/availability to make changes to employment conditions: don&apos;t know</td><td style = \"text-align: left;\">Auxiliary</td><td style = \"text-align: right;\">2</td><td style = \"text-align: left;\">total</td><td style = \"text-align: left;\">C3307.04</td><td style = \"text-align: right;\">0</td></tr><tr><td class = \"rowNumber\" style = \"font-weight: bold; text-align: right;\">14744</td><td style = \"text-align: left;\">How union representation of employees has affected the level of flexibility/availability to make changes to employment conditions: don&apos;t know</td><td style = \"text-align: left;\">Rental, hiring, &amp; real estate services</td><td style = \"text-align: right;\">1</td><td style = \"text-align: left;\">total</td><td style = \"text-align: left;\">C3307.04</td><td style = \"text-align: right;\">0</td></tr><tr><td class = \"rowNumber\" style = \"font-weight: bold; text-align: right;\">14745</td><td style = \"text-align: left;\">How union representation of employees has affected the level of flexibility/availability to make changes to employment conditions: don&apos;t know</td><td style = \"text-align: left;\">Professional, scientific, &amp; technical services</td><td style = \"text-align: right;\">1</td><td style = \"text-align: left;\">total</td><td style = \"text-align: left;\">C3307.04</td><td style = \"text-align: right;\">0</td></tr><tr><td class = \"rowNumber\" style = \"font-weight: bold; text-align: right;\">14746</td><td style = \"text-align: left;\">How union representation of employees has affected the level of flexibility/availability to make changes to employment conditions: don&apos;t know</td><td style = \"text-align: left;\">Computer systems design</td><td style = \"text-align: right;\">2</td><td style = \"text-align: left;\">total</td><td style = \"text-align: left;\">C3307.04</td><td style = \"text-align: right;\">0</td></tr><tr><td class = \"rowNumber\" style = \"font-weight: bold; text-align: right;\">14747</td><td style = \"text-align: left;\">How union representation of employees has affected the level of flexibility/availability to make changes to employment conditions: don&apos;t know</td><td style = \"text-align: left;\">Other professional scientific</td><td style = \"text-align: right;\">2</td><td style = \"text-align: left;\">total</td><td style = \"text-align: left;\">C3307.04</td><td style = \"text-align: right;\">3</td></tr><tr><td class = \"rowNumber\" style = \"font-weight: bold; text-align: right;\">14748</td><td style = \"text-align: left;\">How union representation of employees has affected the level of flexibility/availability to make changes to employment conditions: don&apos;t know</td><td style = \"text-align: left;\">Administrative &amp; support services</td><td style = \"text-align: right;\">1</td><td style = \"text-align: left;\">total</td><td style = \"text-align: left;\">C3307.04</td><td style = \"text-align: right;\">3</td></tr><tr><td class = \"rowNumber\" style = \"font-weight: bold; text-align: right;\">14749</td><td style = \"text-align: left;\">How union representation of employees has affected the level of flexibility/availability to make changes to employment conditions: don&apos;t know</td><td style = \"text-align: left;\">Education &amp; training</td><td style = \"text-align: right;\">1</td><td style = \"text-align: left;\">total</td><td style = \"text-align: left;\">C3307.04</td><td style = \"text-align: right;\">3</td></tr><tr><td class = \"rowNumber\" style = \"font-weight: bold; text-align: right;\">14750</td><td style = \"text-align: left;\">How union representation of employees has affected the level of flexibility/availability to make changes to employment conditions: don&apos;t know</td><td style = \"text-align: left;\">Health care &amp; social assistance</td><td style = \"text-align: right;\">1</td><td style = \"text-align: left;\">total</td><td style = \"text-align: left;\">C3307.04</td><td style = \"text-align: right;\">36</td></tr><tr><td class = \"rowNumber\" style = \"font-weight: bold; text-align: right;\">14751</td><td style = \"text-align: left;\">How union representation of employees has affected the level of flexibility/availability to make changes to employment conditions: don&apos;t know</td><td style = \"text-align: left;\">Arts &amp; recreation services</td><td style = \"text-align: right;\">1</td><td style = \"text-align: left;\">total</td><td style = \"text-align: left;\">C3307.04</td><td style = \"text-align: right;\">0</td></tr><tr><td class = \"rowNumber\" style = \"font-weight: bold; text-align: right;\">14752</td><td style = \"text-align: left;\">How union representation of employees has affected the level of flexibility/availability to make changes to employment conditions: don&apos;t know</td><td style = \"text-align: left;\">Other services</td><td style = \"text-align: right;\">1</td><td style = \"text-align: left;\">total</td><td style = \"text-align: left;\">C3307.04</td><td style = \"text-align: right;\">0</td></tr><tr><td class = \"rowNumber\" style = \"font-weight: bold; text-align: right;\">14753</td><td style = \"text-align: left;\">How union representation of employees has affected the level of flexibility/availability to make changes to employment conditions: don&apos;t know</td><td style = \"text-align: left;\">total</td><td style = \"text-align: right;\">0</td><td style = \"text-align: left;\">total</td><td style = \"text-align: left;\">C3307.04</td><td style = \"text-align: right;\">174</td></tr></tbody></table></div>"
      ],
      "text/latex": [
       "\\begin{tabular}{r|ccc}\n",
       "\t& description & industry & \\\\\n",
       "\t\\hline\n",
       "\t& String & String & \\\\\n",
       "\t\\hline\n",
       "\t1 & Business main customer: individuals or households & Agriculture & $\\dots$ \\\\\n",
       "\t2 & Business main customer: individuals or households & Commercial fishing & $\\dots$ \\\\\n",
       "\t3 & Business main customer: individuals or households & Forestry \\& logging & $\\dots$ \\\\\n",
       "\t4 & Business main customer: individuals or households & Agriculture, forestry, \\& fishing support services & $\\dots$ \\\\\n",
       "\t5 & Business main customer: individuals or households & Mining & $\\dots$ \\\\\n",
       "\t6 & Business main customer: individuals or households & Manufacturing & $\\dots$ \\\\\n",
       "\t7 & Business main customer: individuals or households & Food, beverage, \\& tobacco & $\\dots$ \\\\\n",
       "\t8 & Business main customer: individuals or households & Textile, clothing, footwear, \\& leather & $\\dots$ \\\\\n",
       "\t9 & Business main customer: individuals or households & Wood \\& paper product & $\\dots$ \\\\\n",
       "\t10 & Business main customer: individuals or households & Printing, publishing, \\& recorded media & $\\dots$ \\\\\n",
       "\t11 & Business main customer: individuals or households & Petroleum, coal, chemical, \\& associated product & $\\dots$ \\\\\n",
       "\t12 & Business main customer: individuals or households & Non-metallic mineral product & $\\dots$ \\\\\n",
       "\t13 & Business main customer: individuals or households & Metal product & $\\dots$ \\\\\n",
       "\t14 & Business main customer: individuals or households & Transport and industrial machinery \\& equipment & $\\dots$ \\\\\n",
       "\t15 & Business main customer: individuals or households & Other machinery \\& equipment & $\\dots$ \\\\\n",
       "\t16 & Business main customer: individuals or households & Other manufacturing & $\\dots$ \\\\\n",
       "\t17 & Business main customer: individuals or households & Electricity, gas, water, \\& waste services & $\\dots$ \\\\\n",
       "\t18 & Business main customer: individuals or households & Construction & $\\dots$ \\\\\n",
       "\t19 & Business main customer: individuals or households & Wholesale trade & $\\dots$ \\\\\n",
       "\t20 & Business main customer: individuals or households & Machinery \\& equipment wholesaling & $\\dots$ \\\\\n",
       "\t21 & Business main customer: individuals or households & Other wholesale trade & $\\dots$ \\\\\n",
       "\t22 & Business main customer: individuals or households & Retail trade & $\\dots$ \\\\\n",
       "\t23 & Business main customer: individuals or households & Accommodation \\& food services & $\\dots$ \\\\\n",
       "\t24 & Business main customer: individuals or households & Transport, postal, \\& warehousing & $\\dots$ \\\\\n",
       "\t$\\dots$ & $\\dots$ & $\\dots$ &  \\\\\n",
       "\\end{tabular}\n"
      ],
      "text/plain": [
       "\u001b[1m14753×6 DataFrame\u001b[0m\n",
       "\u001b[1m   Row \u001b[0m│\u001b[1m description                       \u001b[0m\u001b[1m industry                          \u001b[0m\u001b[1m\u001b[0m ⋯\n",
       "       │\u001b[90m String                            \u001b[0m\u001b[90m String                            \u001b[0m\u001b[90m\u001b[0m ⋯\n",
       "───────┼────────────────────────────────────────────────────────────────────────\n",
       "     1 │ Business main customer: individu…  Agriculture                        ⋯\n",
       "     2 │ Business main customer: individu…  Commercial fishing\n",
       "     3 │ Business main customer: individu…  Forestry & logging\n",
       "     4 │ Business main customer: individu…  Agriculture, forestry, & fishing…\n",
       "     5 │ Business main customer: individu…  Mining                             ⋯\n",
       "     6 │ Business main customer: individu…  Manufacturing\n",
       "     7 │ Business main customer: individu…  Food, beverage, & tobacco\n",
       "     8 │ Business main customer: individu…  Textile, clothing, footwear, & l…\n",
       "   ⋮   │                 ⋮                                  ⋮                  ⋱\n",
       " 14747 │ How union representation of empl…  Other professional scientific      ⋯\n",
       " 14748 │ How union representation of empl…  Administrative & support services\n",
       " 14749 │ How union representation of empl…  Education & training\n",
       " 14750 │ How union representation of empl…  Health care & social assistance\n",
       " 14751 │ How union representation of empl…  Arts & recreation services         ⋯\n",
       " 14752 │ How union representation of empl…  Other services\n",
       " 14753 │ How union representation of empl…  total\n",
       "\u001b[36m                                                4 columns and 14738 rows omitted\u001b[0m"
      ]
     },
     "metadata": {},
     "output_type": "display_data"
    }
   ],
   "source": [
    "# Exclude the first five rows\n",
    "df[Not(1:5), :]"
   ]
  },
  {
   "cell_type": "code",
   "execution_count": 91,
   "metadata": {},
   "outputs": [],
   "source": [
    "using Statistics"
   ]
  },
  {
   "cell_type": "code",
   "execution_count": 92,
   "metadata": {},
   "outputs": [
    {
     "data": {
      "text/plain": [
       "669.34"
      ]
     },
     "metadata": {},
     "output_type": "display_data"
    }
   ],
   "source": [
    "round(mean(df[:,\"value\"]), digits = 2)"
   ]
  },
  {
   "attachments": {},
   "cell_type": "markdown",
   "metadata": {},
   "source": [
    "## Create a dataframe from a matrix"
   ]
  },
  {
   "cell_type": "code",
   "execution_count": 93,
   "metadata": {},
   "outputs": [],
   "source": [
    "aq = [10.0   8.04  10.0  9.14  10.0   7.46   8.0   6.58\n",
    "8.0   6.95   8.0  8.14   8.0   6.77   8.0   5.76\n",
    "13.0   7.58  13.0  8.74  13.0  12.74   8.0   7.71\n",
    "9.0   8.81   9.0  8.77   9.0   7.11   8.0   8.84\n",
    "11.0   8.33  11.0  9.26  11.0   7.81   8.0   8.47\n",
    "14.0   9.96  14.0  8.1   14.0   8.84   8.0   7.04\n",
    "6.0   7.24   6.0  6.13   6.0   6.08   8.0   5.25\n",
    "4.0   4.26   4.0  3.1    4.0   5.39  19.0  12.50\n",
    "12.0  10.84  12.0  9.13  12.0   8.15   8.0   5.56\n",
    "7.0   4.82   7.0  7.26   7.0   6.42   8.0   7.91\n",
    "5.0   5.68   5.0  4.74   5.0   5.73   8.0   6.89];"
   ]
  },
  {
   "cell_type": "code",
   "execution_count": 94,
   "metadata": {},
   "outputs": [],
   "source": [
    "using DataFrames"
   ]
  },
  {
   "cell_type": "code",
   "execution_count": 95,
   "metadata": {},
   "outputs": [
    {
     "data": {
      "text/html": [
       "<div><div style = \"float: left;\"><span>11×8 DataFrame</span></div><div style = \"clear: both;\"></div></div><div class = \"data-frame\" style = \"overflow-x: scroll;\"><table class = \"data-frame\" style = \"margin-bottom: 6px;\"><thead><tr class = \"header\"><th class = \"rowNumber\" style = \"font-weight: bold; text-align: right;\">Row</th><th style = \"text-align: left;\">x1</th><th style = \"text-align: left;\">x2</th><th style = \"text-align: left;\">x3</th><th style = \"text-align: left;\">x4</th><th style = \"text-align: left;\">x5</th><th style = \"text-align: left;\">x6</th><th style = \"text-align: left;\">x7</th><th style = \"text-align: left;\">x8</th></tr><tr class = \"subheader headerLastRow\"><th class = \"rowNumber\" style = \"font-weight: bold; text-align: right;\"></th><th title = \"Float64\" style = \"text-align: left;\">Float64</th><th title = \"Float64\" style = \"text-align: left;\">Float64</th><th title = \"Float64\" style = \"text-align: left;\">Float64</th><th title = \"Float64\" style = \"text-align: left;\">Float64</th><th title = \"Float64\" style = \"text-align: left;\">Float64</th><th title = \"Float64\" style = \"text-align: left;\">Float64</th><th title = \"Float64\" style = \"text-align: left;\">Float64</th><th title = \"Float64\" style = \"text-align: left;\">Float64</th></tr></thead><tbody><tr><td class = \"rowNumber\" style = \"font-weight: bold; text-align: right;\">1</td><td style = \"text-align: right;\">10.0</td><td style = \"text-align: right;\">8.04</td><td style = \"text-align: right;\">10.0</td><td style = \"text-align: right;\">9.14</td><td style = \"text-align: right;\">10.0</td><td style = \"text-align: right;\">7.46</td><td style = \"text-align: right;\">8.0</td><td style = \"text-align: right;\">6.58</td></tr><tr><td class = \"rowNumber\" style = \"font-weight: bold; text-align: right;\">2</td><td style = \"text-align: right;\">8.0</td><td style = \"text-align: right;\">6.95</td><td style = \"text-align: right;\">8.0</td><td style = \"text-align: right;\">8.14</td><td style = \"text-align: right;\">8.0</td><td style = \"text-align: right;\">6.77</td><td style = \"text-align: right;\">8.0</td><td style = \"text-align: right;\">5.76</td></tr><tr><td class = \"rowNumber\" style = \"font-weight: bold; text-align: right;\">3</td><td style = \"text-align: right;\">13.0</td><td style = \"text-align: right;\">7.58</td><td style = \"text-align: right;\">13.0</td><td style = \"text-align: right;\">8.74</td><td style = \"text-align: right;\">13.0</td><td style = \"text-align: right;\">12.74</td><td style = \"text-align: right;\">8.0</td><td style = \"text-align: right;\">7.71</td></tr><tr><td class = \"rowNumber\" style = \"font-weight: bold; text-align: right;\">4</td><td style = \"text-align: right;\">9.0</td><td style = \"text-align: right;\">8.81</td><td style = \"text-align: right;\">9.0</td><td style = \"text-align: right;\">8.77</td><td style = \"text-align: right;\">9.0</td><td style = \"text-align: right;\">7.11</td><td style = \"text-align: right;\">8.0</td><td style = \"text-align: right;\">8.84</td></tr><tr><td class = \"rowNumber\" style = \"font-weight: bold; text-align: right;\">5</td><td style = \"text-align: right;\">11.0</td><td style = \"text-align: right;\">8.33</td><td style = \"text-align: right;\">11.0</td><td style = \"text-align: right;\">9.26</td><td style = \"text-align: right;\">11.0</td><td style = \"text-align: right;\">7.81</td><td style = \"text-align: right;\">8.0</td><td style = \"text-align: right;\">8.47</td></tr><tr><td class = \"rowNumber\" style = \"font-weight: bold; text-align: right;\">6</td><td style = \"text-align: right;\">14.0</td><td style = \"text-align: right;\">9.96</td><td style = \"text-align: right;\">14.0</td><td style = \"text-align: right;\">8.1</td><td style = \"text-align: right;\">14.0</td><td style = \"text-align: right;\">8.84</td><td style = \"text-align: right;\">8.0</td><td style = \"text-align: right;\">7.04</td></tr><tr><td class = \"rowNumber\" style = \"font-weight: bold; text-align: right;\">7</td><td style = \"text-align: right;\">6.0</td><td style = \"text-align: right;\">7.24</td><td style = \"text-align: right;\">6.0</td><td style = \"text-align: right;\">6.13</td><td style = \"text-align: right;\">6.0</td><td style = \"text-align: right;\">6.08</td><td style = \"text-align: right;\">8.0</td><td style = \"text-align: right;\">5.25</td></tr><tr><td class = \"rowNumber\" style = \"font-weight: bold; text-align: right;\">8</td><td style = \"text-align: right;\">4.0</td><td style = \"text-align: right;\">4.26</td><td style = \"text-align: right;\">4.0</td><td style = \"text-align: right;\">3.1</td><td style = \"text-align: right;\">4.0</td><td style = \"text-align: right;\">5.39</td><td style = \"text-align: right;\">19.0</td><td style = \"text-align: right;\">12.5</td></tr><tr><td class = \"rowNumber\" style = \"font-weight: bold; text-align: right;\">9</td><td style = \"text-align: right;\">12.0</td><td style = \"text-align: right;\">10.84</td><td style = \"text-align: right;\">12.0</td><td style = \"text-align: right;\">9.13</td><td style = \"text-align: right;\">12.0</td><td style = \"text-align: right;\">8.15</td><td style = \"text-align: right;\">8.0</td><td style = \"text-align: right;\">5.56</td></tr><tr><td class = \"rowNumber\" style = \"font-weight: bold; text-align: right;\">10</td><td style = \"text-align: right;\">7.0</td><td style = \"text-align: right;\">4.82</td><td style = \"text-align: right;\">7.0</td><td style = \"text-align: right;\">7.26</td><td style = \"text-align: right;\">7.0</td><td style = \"text-align: right;\">6.42</td><td style = \"text-align: right;\">8.0</td><td style = \"text-align: right;\">7.91</td></tr><tr><td class = \"rowNumber\" style = \"font-weight: bold; text-align: right;\">11</td><td style = \"text-align: right;\">5.0</td><td style = \"text-align: right;\">5.68</td><td style = \"text-align: right;\">5.0</td><td style = \"text-align: right;\">4.74</td><td style = \"text-align: right;\">5.0</td><td style = \"text-align: right;\">5.73</td><td style = \"text-align: right;\">8.0</td><td style = \"text-align: right;\">6.89</td></tr></tbody></table></div>"
      ],
      "text/latex": [
       "\\begin{tabular}{r|cccccccc}\n",
       "\t& x1 & x2 & x3 & x4 & x5 & x6 & x7 & x8\\\\\n",
       "\t\\hline\n",
       "\t& Float64 & Float64 & Float64 & Float64 & Float64 & Float64 & Float64 & Float64\\\\\n",
       "\t\\hline\n",
       "\t1 & 10.0 & 8.04 & 10.0 & 9.14 & 10.0 & 7.46 & 8.0 & 6.58 \\\\\n",
       "\t2 & 8.0 & 6.95 & 8.0 & 8.14 & 8.0 & 6.77 & 8.0 & 5.76 \\\\\n",
       "\t3 & 13.0 & 7.58 & 13.0 & 8.74 & 13.0 & 12.74 & 8.0 & 7.71 \\\\\n",
       "\t4 & 9.0 & 8.81 & 9.0 & 8.77 & 9.0 & 7.11 & 8.0 & 8.84 \\\\\n",
       "\t5 & 11.0 & 8.33 & 11.0 & 9.26 & 11.0 & 7.81 & 8.0 & 8.47 \\\\\n",
       "\t6 & 14.0 & 9.96 & 14.0 & 8.1 & 14.0 & 8.84 & 8.0 & 7.04 \\\\\n",
       "\t7 & 6.0 & 7.24 & 6.0 & 6.13 & 6.0 & 6.08 & 8.0 & 5.25 \\\\\n",
       "\t8 & 4.0 & 4.26 & 4.0 & 3.1 & 4.0 & 5.39 & 19.0 & 12.5 \\\\\n",
       "\t9 & 12.0 & 10.84 & 12.0 & 9.13 & 12.0 & 8.15 & 8.0 & 5.56 \\\\\n",
       "\t10 & 7.0 & 4.82 & 7.0 & 7.26 & 7.0 & 6.42 & 8.0 & 7.91 \\\\\n",
       "\t11 & 5.0 & 5.68 & 5.0 & 4.74 & 5.0 & 5.73 & 8.0 & 6.89 \\\\\n",
       "\\end{tabular}\n"
      ],
      "text/plain": [
       "\u001b[1m11×8 DataFrame\u001b[0m\n",
       "\u001b[1m Row \u001b[0m│\u001b[1m x1      \u001b[0m\u001b[1m x2      \u001b[0m\u001b[1m x3      \u001b[0m\u001b[1m x4      \u001b[0m\u001b[1m x5      \u001b[0m\u001b[1m x6      \u001b[0m\u001b[1m x7      \u001b[0m\u001b[1m x8      \u001b[0m\n",
       "     │\u001b[90m Float64 \u001b[0m\u001b[90m Float64 \u001b[0m\u001b[90m Float64 \u001b[0m\u001b[90m Float64 \u001b[0m\u001b[90m Float64 \u001b[0m\u001b[90m Float64 \u001b[0m\u001b[90m Float64 \u001b[0m\u001b[90m Float64 \u001b[0m\n",
       "─────┼────────────────────────────────────────────────────────────────────────\n",
       "   1 │    10.0     8.04     10.0     9.14     10.0     7.46      8.0     6.58\n",
       "   2 │     8.0     6.95      8.0     8.14      8.0     6.77      8.0     5.76\n",
       "   3 │    13.0     7.58     13.0     8.74     13.0    12.74      8.0     7.71\n",
       "   4 │     9.0     8.81      9.0     8.77      9.0     7.11      8.0     8.84\n",
       "   5 │    11.0     8.33     11.0     9.26     11.0     7.81      8.0     8.47\n",
       "   6 │    14.0     9.96     14.0     8.1      14.0     8.84      8.0     7.04\n",
       "   7 │     6.0     7.24      6.0     6.13      6.0     6.08      8.0     5.25\n",
       "   8 │     4.0     4.26      4.0     3.1       4.0     5.39     19.0    12.5\n",
       "   9 │    12.0    10.84     12.0     9.13     12.0     8.15      8.0     5.56\n",
       "  10 │     7.0     4.82      7.0     7.26      7.0     6.42      8.0     7.91\n",
       "  11 │     5.0     5.68      5.0     4.74      5.0     5.73      8.0     6.89"
      ]
     },
     "metadata": {},
     "output_type": "display_data"
    }
   ],
   "source": [
    "aq_df = DataFrame(aq, :auto)"
   ]
  },
  {
   "cell_type": "code",
   "execution_count": 96,
   "metadata": {},
   "outputs": [
    {
     "data": {
      "text/html": [
       "<div><div style = \"float: left;\"><span>DataFrameRow (8 columns)</span></div><div style = \"clear: both;\"></div></div><div class = \"data-frame\" style = \"overflow-x: scroll;\"><table class = \"data-frame\" style = \"margin-bottom: 6px;\"><thead><tr class = \"header\"><th class = \"rowLabel\" style = \"font-weight: bold; text-align: right;\">Row</th><th style = \"text-align: left;\">x1</th><th style = \"text-align: left;\">x2</th><th style = \"text-align: left;\">x3</th><th style = \"text-align: left;\">x4</th><th style = \"text-align: left;\">x5</th><th style = \"text-align: left;\">x6</th><th style = \"text-align: left;\">x7</th><th style = \"text-align: left;\">x8</th></tr><tr class = \"subheader headerLastRow\"><th class = \"rowLabel\" style = \"font-weight: bold; text-align: right;\"></th><th title = \"Float64\" style = \"text-align: left;\">Float64</th><th title = \"Float64\" style = \"text-align: left;\">Float64</th><th title = \"Float64\" style = \"text-align: left;\">Float64</th><th title = \"Float64\" style = \"text-align: left;\">Float64</th><th title = \"Float64\" style = \"text-align: left;\">Float64</th><th title = \"Float64\" style = \"text-align: left;\">Float64</th><th title = \"Float64\" style = \"text-align: left;\">Float64</th><th title = \"Float64\" style = \"text-align: left;\">Float64</th></tr></thead><tbody><tr><td class = \"rowLabel\" style = \"font-weight: bold; text-align: right;\">2</td><td style = \"text-align: right;\">8.0</td><td style = \"text-align: right;\">6.95</td><td style = \"text-align: right;\">8.0</td><td style = \"text-align: right;\">8.14</td><td style = \"text-align: right;\">8.0</td><td style = \"text-align: right;\">6.77</td><td style = \"text-align: right;\">8.0</td><td style = \"text-align: right;\">5.76</td></tr></tbody></table></div>"
      ],
      "text/latex": [
       "\\begin{tabular}{r|cccccccc}\n",
       "\t& x1 & x2 & x3 & x4 & x5 & x6 & x7 & x8\\\\\n",
       "\t\\hline\n",
       "\t& Float64 & Float64 & Float64 & Float64 & Float64 & Float64 & Float64 & Float64\\\\\n",
       "\t\\hline\n",
       "\t2 & 8.0 & 6.95 & 8.0 & 8.14 & 8.0 & 6.77 & 8.0 & 5.76 \\\\\n",
       "\\end{tabular}\n"
      ],
      "text/plain": [
       "\u001b[1mDataFrameRow\u001b[0m\n",
       "\u001b[1m Row \u001b[0m│\u001b[1m x1      \u001b[0m\u001b[1m x2      \u001b[0m\u001b[1m x3      \u001b[0m\u001b[1m x4      \u001b[0m\u001b[1m x5      \u001b[0m\u001b[1m x6      \u001b[0m\u001b[1m x7      \u001b[0m\u001b[1m x8      \u001b[0m\n",
       "     │\u001b[90m Float64 \u001b[0m\u001b[90m Float64 \u001b[0m\u001b[90m Float64 \u001b[0m\u001b[90m Float64 \u001b[0m\u001b[90m Float64 \u001b[0m\u001b[90m Float64 \u001b[0m\u001b[90m Float64 \u001b[0m\u001b[90m Float64 \u001b[0m\n",
       "─────┼────────────────────────────────────────────────────────────────────────\n",
       "   2 │     8.0     6.95      8.0     8.14      8.0     6.77      8.0     5.76"
      ]
     },
     "metadata": {},
     "output_type": "display_data"
    }
   ],
   "source": [
    "aq_df[2,:]"
   ]
  },
  {
   "cell_type": "code",
   "execution_count": 97,
   "metadata": {},
   "outputs": [
    {
     "data": {
      "text/plain": [
       "8.0"
      ]
     },
     "metadata": {},
     "output_type": "display_data"
    }
   ],
   "source": [
    "aq_df[2,1]"
   ]
  },
  {
   "attachments": {},
   "cell_type": "markdown",
   "metadata": {},
   "source": [
    "## Create a dataframe from a vector"
   ]
  },
  {
   "cell_type": "code",
   "execution_count": 98,
   "metadata": {},
   "outputs": [
    {
     "data": {
      "text/plain": [
       "10-element Vector{Int64}:\n",
       "  2\n",
       "  3\n",
       "  4\n",
       "  5\n",
       "  6\n",
       "  7\n",
       "  8\n",
       "  9\n",
       " 10\n",
       " 11"
      ]
     },
     "metadata": {},
     "output_type": "display_data"
    }
   ],
   "source": [
    "x = collect(1:10)\n",
    "y = collect(2:11)"
   ]
  },
  {
   "attachments": {},
   "cell_type": "markdown",
   "metadata": {},
   "source": []
  },
  {
   "cell_type": "code",
   "execution_count": 99,
   "metadata": {},
   "outputs": [
    {
     "data": {
      "text/html": [
       "<div><div style = \"float: left;\"><span>10×2 DataFrame</span></div><div style = \"clear: both;\"></div></div><div class = \"data-frame\" style = \"overflow-x: scroll;\"><table class = \"data-frame\" style = \"margin-bottom: 6px;\"><thead><tr class = \"header\"><th class = \"rowNumber\" style = \"font-weight: bold; text-align: right;\">Row</th><th style = \"text-align: left;\">x1</th><th style = \"text-align: left;\">y1</th></tr><tr class = \"subheader headerLastRow\"><th class = \"rowNumber\" style = \"font-weight: bold; text-align: right;\"></th><th title = \"Int64\" style = \"text-align: left;\">Int64</th><th title = \"Int64\" style = \"text-align: left;\">Int64</th></tr></thead><tbody><tr><td class = \"rowNumber\" style = \"font-weight: bold; text-align: right;\">1</td><td style = \"text-align: right;\">1</td><td style = \"text-align: right;\">2</td></tr><tr><td class = \"rowNumber\" style = \"font-weight: bold; text-align: right;\">2</td><td style = \"text-align: right;\">2</td><td style = \"text-align: right;\">3</td></tr><tr><td class = \"rowNumber\" style = \"font-weight: bold; text-align: right;\">3</td><td style = \"text-align: right;\">3</td><td style = \"text-align: right;\">4</td></tr><tr><td class = \"rowNumber\" style = \"font-weight: bold; text-align: right;\">4</td><td style = \"text-align: right;\">4</td><td style = \"text-align: right;\">5</td></tr><tr><td class = \"rowNumber\" style = \"font-weight: bold; text-align: right;\">5</td><td style = \"text-align: right;\">5</td><td style = \"text-align: right;\">6</td></tr><tr><td class = \"rowNumber\" style = \"font-weight: bold; text-align: right;\">6</td><td style = \"text-align: right;\">6</td><td style = \"text-align: right;\">7</td></tr><tr><td class = \"rowNumber\" style = \"font-weight: bold; text-align: right;\">7</td><td style = \"text-align: right;\">7</td><td style = \"text-align: right;\">8</td></tr><tr><td class = \"rowNumber\" style = \"font-weight: bold; text-align: right;\">8</td><td style = \"text-align: right;\">8</td><td style = \"text-align: right;\">9</td></tr><tr><td class = \"rowNumber\" style = \"font-weight: bold; text-align: right;\">9</td><td style = \"text-align: right;\">9</td><td style = \"text-align: right;\">10</td></tr><tr><td class = \"rowNumber\" style = \"font-weight: bold; text-align: right;\">10</td><td style = \"text-align: right;\">10</td><td style = \"text-align: right;\">11</td></tr></tbody></table></div>"
      ],
      "text/latex": [
       "\\begin{tabular}{r|cc}\n",
       "\t& x1 & y1\\\\\n",
       "\t\\hline\n",
       "\t& Int64 & Int64\\\\\n",
       "\t\\hline\n",
       "\t1 & 1 & 2 \\\\\n",
       "\t2 & 2 & 3 \\\\\n",
       "\t3 & 3 & 4 \\\\\n",
       "\t4 & 4 & 5 \\\\\n",
       "\t5 & 5 & 6 \\\\\n",
       "\t6 & 6 & 7 \\\\\n",
       "\t7 & 7 & 8 \\\\\n",
       "\t8 & 8 & 9 \\\\\n",
       "\t9 & 9 & 10 \\\\\n",
       "\t10 & 10 & 11 \\\\\n",
       "\\end{tabular}\n"
      ],
      "text/plain": [
       "\u001b[1m10×2 DataFrame\u001b[0m\n",
       "\u001b[1m Row \u001b[0m│\u001b[1m x1    \u001b[0m\u001b[1m y1    \u001b[0m\n",
       "     │\u001b[90m Int64 \u001b[0m\u001b[90m Int64 \u001b[0m\n",
       "─────┼──────────────\n",
       "   1 │     1      2\n",
       "   2 │     2      3\n",
       "   3 │     3      4\n",
       "   4 │     4      5\n",
       "   5 │     5      6\n",
       "   6 │     6      7\n",
       "   7 │     7      8\n",
       "   8 │     8      9\n",
       "   9 │     9     10\n",
       "  10 │    10     11"
      ]
     },
     "metadata": {},
     "output_type": "display_data"
    }
   ],
   "source": [
    "df_v = DataFrame(x1 = x, y1 = y)"
   ]
  },
  {
   "attachments": {},
   "cell_type": "markdown",
   "metadata": {},
   "source": [
    "## Create a dataframe from a data dictionary"
   ]
  },
  {
   "cell_type": "code",
   "execution_count": 100,
   "metadata": {},
   "outputs": [
    {
     "data": {
      "text/plain": [
       "8-element Vector{String}:\n",
       " \"x1\"\n",
       " \"y1\"\n",
       " \"x2\"\n",
       " \"y2\"\n",
       " \"x3\"\n",
       " \"y3\"\n",
       " \"x4\"\n",
       " \"y4\""
      ]
     },
     "metadata": {},
     "output_type": "display_data"
    }
   ],
   "source": [
    "[string(v, i) for i in 1:4 for v in [:x, :y]]"
   ]
  },
  {
   "cell_type": "code",
   "execution_count": 101,
   "metadata": {},
   "outputs": [],
   "source": [
    "data = (set1=(x=aq[:, 1], y=aq[:, 2]),\n",
    "        set2=(x=aq[:, 3], y=aq[:, 4]),\n",
    "        set3=(x=aq[:, 5], y=aq[:, 6]),\n",
    "        set4=(x=aq[:, 7], y=aq[:, 8]));"
   ]
  },
  {
   "cell_type": "code",
   "execution_count": 102,
   "metadata": {},
   "outputs": [
    {
     "data": {
      "text/html": [
       "<div><div style = \"float: left;\"><span>11×8 DataFrame</span></div><div style = \"clear: both;\"></div></div><div class = \"data-frame\" style = \"overflow-x: scroll;\"><table class = \"data-frame\" style = \"margin-bottom: 6px;\"><thead><tr class = \"header\"><th class = \"rowNumber\" style = \"font-weight: bold; text-align: right;\">Row</th><th style = \"text-align: left;\">x1</th><th style = \"text-align: left;\">y1</th><th style = \"text-align: left;\">x2</th><th style = \"text-align: left;\">y2</th><th style = \"text-align: left;\">x3</th><th style = \"text-align: left;\">y3</th><th style = \"text-align: left;\">x4</th><th style = \"text-align: left;\">y4</th></tr><tr class = \"subheader headerLastRow\"><th class = \"rowNumber\" style = \"font-weight: bold; text-align: right;\"></th><th title = \"Float64\" style = \"text-align: left;\">Float64</th><th title = \"Float64\" style = \"text-align: left;\">Float64</th><th title = \"Float64\" style = \"text-align: left;\">Float64</th><th title = \"Float64\" style = \"text-align: left;\">Float64</th><th title = \"Float64\" style = \"text-align: left;\">Float64</th><th title = \"Float64\" style = \"text-align: left;\">Float64</th><th title = \"Float64\" style = \"text-align: left;\">Float64</th><th title = \"Float64\" style = \"text-align: left;\">Float64</th></tr></thead><tbody><tr><td class = \"rowNumber\" style = \"font-weight: bold; text-align: right;\">1</td><td style = \"text-align: right;\">10.0</td><td style = \"text-align: right;\">8.04</td><td style = \"text-align: right;\">10.0</td><td style = \"text-align: right;\">9.14</td><td style = \"text-align: right;\">10.0</td><td style = \"text-align: right;\">7.46</td><td style = \"text-align: right;\">8.0</td><td style = \"text-align: right;\">6.58</td></tr><tr><td class = \"rowNumber\" style = \"font-weight: bold; text-align: right;\">2</td><td style = \"text-align: right;\">8.0</td><td style = \"text-align: right;\">6.95</td><td style = \"text-align: right;\">8.0</td><td style = \"text-align: right;\">8.14</td><td style = \"text-align: right;\">8.0</td><td style = \"text-align: right;\">6.77</td><td style = \"text-align: right;\">8.0</td><td style = \"text-align: right;\">5.76</td></tr><tr><td class = \"rowNumber\" style = \"font-weight: bold; text-align: right;\">3</td><td style = \"text-align: right;\">13.0</td><td style = \"text-align: right;\">7.58</td><td style = \"text-align: right;\">13.0</td><td style = \"text-align: right;\">8.74</td><td style = \"text-align: right;\">13.0</td><td style = \"text-align: right;\">12.74</td><td style = \"text-align: right;\">8.0</td><td style = \"text-align: right;\">7.71</td></tr><tr><td class = \"rowNumber\" style = \"font-weight: bold; text-align: right;\">4</td><td style = \"text-align: right;\">9.0</td><td style = \"text-align: right;\">8.81</td><td style = \"text-align: right;\">9.0</td><td style = \"text-align: right;\">8.77</td><td style = \"text-align: right;\">9.0</td><td style = \"text-align: right;\">7.11</td><td style = \"text-align: right;\">8.0</td><td style = \"text-align: right;\">8.84</td></tr><tr><td class = \"rowNumber\" style = \"font-weight: bold; text-align: right;\">5</td><td style = \"text-align: right;\">11.0</td><td style = \"text-align: right;\">8.33</td><td style = \"text-align: right;\">11.0</td><td style = \"text-align: right;\">9.26</td><td style = \"text-align: right;\">11.0</td><td style = \"text-align: right;\">7.81</td><td style = \"text-align: right;\">8.0</td><td style = \"text-align: right;\">8.47</td></tr><tr><td class = \"rowNumber\" style = \"font-weight: bold; text-align: right;\">6</td><td style = \"text-align: right;\">14.0</td><td style = \"text-align: right;\">9.96</td><td style = \"text-align: right;\">14.0</td><td style = \"text-align: right;\">8.1</td><td style = \"text-align: right;\">14.0</td><td style = \"text-align: right;\">8.84</td><td style = \"text-align: right;\">8.0</td><td style = \"text-align: right;\">7.04</td></tr><tr><td class = \"rowNumber\" style = \"font-weight: bold; text-align: right;\">7</td><td style = \"text-align: right;\">6.0</td><td style = \"text-align: right;\">7.24</td><td style = \"text-align: right;\">6.0</td><td style = \"text-align: right;\">6.13</td><td style = \"text-align: right;\">6.0</td><td style = \"text-align: right;\">6.08</td><td style = \"text-align: right;\">8.0</td><td style = \"text-align: right;\">5.25</td></tr><tr><td class = \"rowNumber\" style = \"font-weight: bold; text-align: right;\">8</td><td style = \"text-align: right;\">4.0</td><td style = \"text-align: right;\">4.26</td><td style = \"text-align: right;\">4.0</td><td style = \"text-align: right;\">3.1</td><td style = \"text-align: right;\">4.0</td><td style = \"text-align: right;\">5.39</td><td style = \"text-align: right;\">19.0</td><td style = \"text-align: right;\">12.5</td></tr><tr><td class = \"rowNumber\" style = \"font-weight: bold; text-align: right;\">9</td><td style = \"text-align: right;\">12.0</td><td style = \"text-align: right;\">10.84</td><td style = \"text-align: right;\">12.0</td><td style = \"text-align: right;\">9.13</td><td style = \"text-align: right;\">12.0</td><td style = \"text-align: right;\">8.15</td><td style = \"text-align: right;\">8.0</td><td style = \"text-align: right;\">5.56</td></tr><tr><td class = \"rowNumber\" style = \"font-weight: bold; text-align: right;\">10</td><td style = \"text-align: right;\">7.0</td><td style = \"text-align: right;\">4.82</td><td style = \"text-align: right;\">7.0</td><td style = \"text-align: right;\">7.26</td><td style = \"text-align: right;\">7.0</td><td style = \"text-align: right;\">6.42</td><td style = \"text-align: right;\">8.0</td><td style = \"text-align: right;\">7.91</td></tr><tr><td class = \"rowNumber\" style = \"font-weight: bold; text-align: right;\">11</td><td style = \"text-align: right;\">5.0</td><td style = \"text-align: right;\">5.68</td><td style = \"text-align: right;\">5.0</td><td style = \"text-align: right;\">4.74</td><td style = \"text-align: right;\">5.0</td><td style = \"text-align: right;\">5.73</td><td style = \"text-align: right;\">8.0</td><td style = \"text-align: right;\">6.89</td></tr></tbody></table></div>"
      ],
      "text/latex": [
       "\\begin{tabular}{r|cccccccc}\n",
       "\t& x1 & y1 & x2 & y2 & x3 & y3 & x4 & y4\\\\\n",
       "\t\\hline\n",
       "\t& Float64 & Float64 & Float64 & Float64 & Float64 & Float64 & Float64 & Float64\\\\\n",
       "\t\\hline\n",
       "\t1 & 10.0 & 8.04 & 10.0 & 9.14 & 10.0 & 7.46 & 8.0 & 6.58 \\\\\n",
       "\t2 & 8.0 & 6.95 & 8.0 & 8.14 & 8.0 & 6.77 & 8.0 & 5.76 \\\\\n",
       "\t3 & 13.0 & 7.58 & 13.0 & 8.74 & 13.0 & 12.74 & 8.0 & 7.71 \\\\\n",
       "\t4 & 9.0 & 8.81 & 9.0 & 8.77 & 9.0 & 7.11 & 8.0 & 8.84 \\\\\n",
       "\t5 & 11.0 & 8.33 & 11.0 & 9.26 & 11.0 & 7.81 & 8.0 & 8.47 \\\\\n",
       "\t6 & 14.0 & 9.96 & 14.0 & 8.1 & 14.0 & 8.84 & 8.0 & 7.04 \\\\\n",
       "\t7 & 6.0 & 7.24 & 6.0 & 6.13 & 6.0 & 6.08 & 8.0 & 5.25 \\\\\n",
       "\t8 & 4.0 & 4.26 & 4.0 & 3.1 & 4.0 & 5.39 & 19.0 & 12.5 \\\\\n",
       "\t9 & 12.0 & 10.84 & 12.0 & 9.13 & 12.0 & 8.15 & 8.0 & 5.56 \\\\\n",
       "\t10 & 7.0 & 4.82 & 7.0 & 7.26 & 7.0 & 6.42 & 8.0 & 7.91 \\\\\n",
       "\t11 & 5.0 & 5.68 & 5.0 & 4.74 & 5.0 & 5.73 & 8.0 & 6.89 \\\\\n",
       "\\end{tabular}\n"
      ],
      "text/plain": [
       "\u001b[1m11×8 DataFrame\u001b[0m\n",
       "\u001b[1m Row \u001b[0m│\u001b[1m x1      \u001b[0m\u001b[1m y1      \u001b[0m\u001b[1m x2      \u001b[0m\u001b[1m y2      \u001b[0m\u001b[1m x3      \u001b[0m\u001b[1m y3      \u001b[0m\u001b[1m x4      \u001b[0m\u001b[1m y4      \u001b[0m\n",
       "     │\u001b[90m Float64 \u001b[0m\u001b[90m Float64 \u001b[0m\u001b[90m Float64 \u001b[0m\u001b[90m Float64 \u001b[0m\u001b[90m Float64 \u001b[0m\u001b[90m Float64 \u001b[0m\u001b[90m Float64 \u001b[0m\u001b[90m Float64 \u001b[0m\n",
       "─────┼────────────────────────────────────────────────────────────────────────\n",
       "   1 │    10.0     8.04     10.0     9.14     10.0     7.46      8.0     6.58\n",
       "   2 │     8.0     6.95      8.0     8.14      8.0     6.77      8.0     5.76\n",
       "   3 │    13.0     7.58     13.0     8.74     13.0    12.74      8.0     7.71\n",
       "   4 │     9.0     8.81      9.0     8.77      9.0     7.11      8.0     8.84\n",
       "   5 │    11.0     8.33     11.0     9.26     11.0     7.81      8.0     8.47\n",
       "   6 │    14.0     9.96     14.0     8.1      14.0     8.84      8.0     7.04\n",
       "   7 │     6.0     7.24      6.0     6.13      6.0     6.08      8.0     5.25\n",
       "   8 │     4.0     4.26      4.0     3.1       4.0     5.39     19.0    12.5\n",
       "   9 │    12.0    10.84     12.0     9.13     12.0     8.15      8.0     5.56\n",
       "  10 │     7.0     4.82      7.0     7.26      7.0     6.42      8.0     7.91\n",
       "  11 │     5.0     5.68      5.0     4.74      5.0     5.73      8.0     6.89"
      ]
     },
     "metadata": {},
     "output_type": "display_data"
    }
   ],
   "source": [
    "DataFrame([string(v, i) => getproperty(data[i], v) for i in 1:4 for v in [:x, :y]])"
   ]
  },
  {
   "cell_type": "code",
   "execution_count": 103,
   "metadata": {},
   "outputs": [
    {
     "data": {
      "text/plain": [
       "Dict{String, Vector{Float64}} with 8 entries:\n",
       "  \"y3\" => [7.46, 6.77, 12.74, 7.11, 7.81, 8.84, 6.08, 5.39, 8.15, 6.42, 5.73]\n",
       "  \"x1\" => [10.0, 8.0, 13.0, 9.0, 11.0, 14.0, 6.0, 4.0, 12.0, 7.0, 5.0]\n",
       "  \"y1\" => [8.04, 6.95, 7.58, 8.81, 8.33, 9.96, 7.24, 4.26, 10.84, 4.82, 5.68]\n",
       "  \"y4\" => [6.58, 5.76, 7.71, 8.84, 8.47, 7.04, 5.25, 12.5, 5.56, 7.91, 6.89]\n",
       "  \"x4\" => [8.0, 8.0, 8.0, 8.0, 8.0, 8.0, 8.0, 19.0, 8.0, 8.0, 8.0]\n",
       "  \"x2\" => [10.0, 8.0, 13.0, 9.0, 11.0, 14.0, 6.0, 4.0, 12.0, 7.0, 5.0]\n",
       "  \"y2\" => [9.14, 8.14, 8.74, 8.77, 9.26, 8.1, 6.13, 3.1, 9.13, 7.26, 4.74]\n",
       "  \"x3\" => [10.0, 8.0, 13.0, 9.0, 11.0, 14.0, 6.0, 4.0, 12.0, 7.0, 5.0]"
      ]
     },
     "metadata": {},
     "output_type": "display_data"
    }
   ],
   "source": [
    "data_dict = Dict([string(v, i) => getproperty(data[i], v) for i in 1:4 for v in [:x, :y]])"
   ]
  },
  {
   "cell_type": "code",
   "execution_count": 104,
   "metadata": {},
   "outputs": [
    {
     "data": {
      "text/html": [
       "<div><div style = \"float: left;\"><span>11×8 DataFrame</span></div><div style = \"clear: both;\"></div></div><div class = \"data-frame\" style = \"overflow-x: scroll;\"><table class = \"data-frame\" style = \"margin-bottom: 6px;\"><thead><tr class = \"header\"><th class = \"rowNumber\" style = \"font-weight: bold; text-align: right;\">Row</th><th style = \"text-align: left;\">x1</th><th style = \"text-align: left;\">x2</th><th style = \"text-align: left;\">x3</th><th style = \"text-align: left;\">x4</th><th style = \"text-align: left;\">y1</th><th style = \"text-align: left;\">y2</th><th style = \"text-align: left;\">y3</th><th style = \"text-align: left;\">y4</th></tr><tr class = \"subheader headerLastRow\"><th class = \"rowNumber\" style = \"font-weight: bold; text-align: right;\"></th><th title = \"Float64\" style = \"text-align: left;\">Float64</th><th title = \"Float64\" style = \"text-align: left;\">Float64</th><th title = \"Float64\" style = \"text-align: left;\">Float64</th><th title = \"Float64\" style = \"text-align: left;\">Float64</th><th title = \"Float64\" style = \"text-align: left;\">Float64</th><th title = \"Float64\" style = \"text-align: left;\">Float64</th><th title = \"Float64\" style = \"text-align: left;\">Float64</th><th title = \"Float64\" style = \"text-align: left;\">Float64</th></tr></thead><tbody><tr><td class = \"rowNumber\" style = \"font-weight: bold; text-align: right;\">1</td><td style = \"text-align: right;\">10.0</td><td style = \"text-align: right;\">10.0</td><td style = \"text-align: right;\">10.0</td><td style = \"text-align: right;\">8.0</td><td style = \"text-align: right;\">8.04</td><td style = \"text-align: right;\">9.14</td><td style = \"text-align: right;\">7.46</td><td style = \"text-align: right;\">6.58</td></tr><tr><td class = \"rowNumber\" style = \"font-weight: bold; text-align: right;\">2</td><td style = \"text-align: right;\">8.0</td><td style = \"text-align: right;\">8.0</td><td style = \"text-align: right;\">8.0</td><td style = \"text-align: right;\">8.0</td><td style = \"text-align: right;\">6.95</td><td style = \"text-align: right;\">8.14</td><td style = \"text-align: right;\">6.77</td><td style = \"text-align: right;\">5.76</td></tr><tr><td class = \"rowNumber\" style = \"font-weight: bold; text-align: right;\">3</td><td style = \"text-align: right;\">13.0</td><td style = \"text-align: right;\">13.0</td><td style = \"text-align: right;\">13.0</td><td style = \"text-align: right;\">8.0</td><td style = \"text-align: right;\">7.58</td><td style = \"text-align: right;\">8.74</td><td style = \"text-align: right;\">12.74</td><td style = \"text-align: right;\">7.71</td></tr><tr><td class = \"rowNumber\" style = \"font-weight: bold; text-align: right;\">4</td><td style = \"text-align: right;\">9.0</td><td style = \"text-align: right;\">9.0</td><td style = \"text-align: right;\">9.0</td><td style = \"text-align: right;\">8.0</td><td style = \"text-align: right;\">8.81</td><td style = \"text-align: right;\">8.77</td><td style = \"text-align: right;\">7.11</td><td style = \"text-align: right;\">8.84</td></tr><tr><td class = \"rowNumber\" style = \"font-weight: bold; text-align: right;\">5</td><td style = \"text-align: right;\">11.0</td><td style = \"text-align: right;\">11.0</td><td style = \"text-align: right;\">11.0</td><td style = \"text-align: right;\">8.0</td><td style = \"text-align: right;\">8.33</td><td style = \"text-align: right;\">9.26</td><td style = \"text-align: right;\">7.81</td><td style = \"text-align: right;\">8.47</td></tr><tr><td class = \"rowNumber\" style = \"font-weight: bold; text-align: right;\">6</td><td style = \"text-align: right;\">14.0</td><td style = \"text-align: right;\">14.0</td><td style = \"text-align: right;\">14.0</td><td style = \"text-align: right;\">8.0</td><td style = \"text-align: right;\">9.96</td><td style = \"text-align: right;\">8.1</td><td style = \"text-align: right;\">8.84</td><td style = \"text-align: right;\">7.04</td></tr><tr><td class = \"rowNumber\" style = \"font-weight: bold; text-align: right;\">7</td><td style = \"text-align: right;\">6.0</td><td style = \"text-align: right;\">6.0</td><td style = \"text-align: right;\">6.0</td><td style = \"text-align: right;\">8.0</td><td style = \"text-align: right;\">7.24</td><td style = \"text-align: right;\">6.13</td><td style = \"text-align: right;\">6.08</td><td style = \"text-align: right;\">5.25</td></tr><tr><td class = \"rowNumber\" style = \"font-weight: bold; text-align: right;\">8</td><td style = \"text-align: right;\">4.0</td><td style = \"text-align: right;\">4.0</td><td style = \"text-align: right;\">4.0</td><td style = \"text-align: right;\">19.0</td><td style = \"text-align: right;\">4.26</td><td style = \"text-align: right;\">3.1</td><td style = \"text-align: right;\">5.39</td><td style = \"text-align: right;\">12.5</td></tr><tr><td class = \"rowNumber\" style = \"font-weight: bold; text-align: right;\">9</td><td style = \"text-align: right;\">12.0</td><td style = \"text-align: right;\">12.0</td><td style = \"text-align: right;\">12.0</td><td style = \"text-align: right;\">8.0</td><td style = \"text-align: right;\">10.84</td><td style = \"text-align: right;\">9.13</td><td style = \"text-align: right;\">8.15</td><td style = \"text-align: right;\">5.56</td></tr><tr><td class = \"rowNumber\" style = \"font-weight: bold; text-align: right;\">10</td><td style = \"text-align: right;\">7.0</td><td style = \"text-align: right;\">7.0</td><td style = \"text-align: right;\">7.0</td><td style = \"text-align: right;\">8.0</td><td style = \"text-align: right;\">4.82</td><td style = \"text-align: right;\">7.26</td><td style = \"text-align: right;\">6.42</td><td style = \"text-align: right;\">7.91</td></tr><tr><td class = \"rowNumber\" style = \"font-weight: bold; text-align: right;\">11</td><td style = \"text-align: right;\">5.0</td><td style = \"text-align: right;\">5.0</td><td style = \"text-align: right;\">5.0</td><td style = \"text-align: right;\">8.0</td><td style = \"text-align: right;\">5.68</td><td style = \"text-align: right;\">4.74</td><td style = \"text-align: right;\">5.73</td><td style = \"text-align: right;\">6.89</td></tr></tbody></table></div>"
      ],
      "text/latex": [
       "\\begin{tabular}{r|cccccccc}\n",
       "\t& x1 & x2 & x3 & x4 & y1 & y2 & y3 & y4\\\\\n",
       "\t\\hline\n",
       "\t& Float64 & Float64 & Float64 & Float64 & Float64 & Float64 & Float64 & Float64\\\\\n",
       "\t\\hline\n",
       "\t1 & 10.0 & 10.0 & 10.0 & 8.0 & 8.04 & 9.14 & 7.46 & 6.58 \\\\\n",
       "\t2 & 8.0 & 8.0 & 8.0 & 8.0 & 6.95 & 8.14 & 6.77 & 5.76 \\\\\n",
       "\t3 & 13.0 & 13.0 & 13.0 & 8.0 & 7.58 & 8.74 & 12.74 & 7.71 \\\\\n",
       "\t4 & 9.0 & 9.0 & 9.0 & 8.0 & 8.81 & 8.77 & 7.11 & 8.84 \\\\\n",
       "\t5 & 11.0 & 11.0 & 11.0 & 8.0 & 8.33 & 9.26 & 7.81 & 8.47 \\\\\n",
       "\t6 & 14.0 & 14.0 & 14.0 & 8.0 & 9.96 & 8.1 & 8.84 & 7.04 \\\\\n",
       "\t7 & 6.0 & 6.0 & 6.0 & 8.0 & 7.24 & 6.13 & 6.08 & 5.25 \\\\\n",
       "\t8 & 4.0 & 4.0 & 4.0 & 19.0 & 4.26 & 3.1 & 5.39 & 12.5 \\\\\n",
       "\t9 & 12.0 & 12.0 & 12.0 & 8.0 & 10.84 & 9.13 & 8.15 & 5.56 \\\\\n",
       "\t10 & 7.0 & 7.0 & 7.0 & 8.0 & 4.82 & 7.26 & 6.42 & 7.91 \\\\\n",
       "\t11 & 5.0 & 5.0 & 5.0 & 8.0 & 5.68 & 4.74 & 5.73 & 6.89 \\\\\n",
       "\\end{tabular}\n"
      ],
      "text/plain": [
       "\u001b[1m11×8 DataFrame\u001b[0m\n",
       "\u001b[1m Row \u001b[0m│\u001b[1m x1      \u001b[0m\u001b[1m x2      \u001b[0m\u001b[1m x3      \u001b[0m\u001b[1m x4      \u001b[0m\u001b[1m y1      \u001b[0m\u001b[1m y2      \u001b[0m\u001b[1m y3      \u001b[0m\u001b[1m y4      \u001b[0m\n",
       "     │\u001b[90m Float64 \u001b[0m\u001b[90m Float64 \u001b[0m\u001b[90m Float64 \u001b[0m\u001b[90m Float64 \u001b[0m\u001b[90m Float64 \u001b[0m\u001b[90m Float64 \u001b[0m\u001b[90m Float64 \u001b[0m\u001b[90m Float64 \u001b[0m\n",
       "─────┼────────────────────────────────────────────────────────────────────────\n",
       "   1 │    10.0     10.0     10.0      8.0     8.04     9.14     7.46     6.58\n",
       "   2 │     8.0      8.0      8.0      8.0     6.95     8.14     6.77     5.76\n",
       "   3 │    13.0     13.0     13.0      8.0     7.58     8.74    12.74     7.71\n",
       "   4 │     9.0      9.0      9.0      8.0     8.81     8.77     7.11     8.84\n",
       "   5 │    11.0     11.0     11.0      8.0     8.33     9.26     7.81     8.47\n",
       "   6 │    14.0     14.0     14.0      8.0     9.96     8.1      8.84     7.04\n",
       "   7 │     6.0      6.0      6.0      8.0     7.24     6.13     6.08     5.25\n",
       "   8 │     4.0      4.0      4.0     19.0     4.26     3.1      5.39    12.5\n",
       "   9 │    12.0     12.0     12.0      8.0    10.84     9.13     8.15     5.56\n",
       "  10 │     7.0      7.0      7.0      8.0     4.82     7.26     6.42     7.91\n",
       "  11 │     5.0      5.0      5.0      8.0     5.68     4.74     5.73     6.89"
      ]
     },
     "metadata": {},
     "output_type": "display_data"
    }
   ],
   "source": [
    "DataFrame(data_dict)"
   ]
  },
  {
   "attachments": {},
   "cell_type": "markdown",
   "metadata": {},
   "source": [
    "## Integrate with R using the RCall package"
   ]
  },
  {
   "cell_type": "code",
   "execution_count": 105,
   "metadata": {},
   "outputs": [
    {
     "name": "stderr",
     "output_type": "stream",
     "text": [
      "\u001b[32m\u001b[1m   Resolving\u001b[22m\u001b[39m package versions...\n"
     ]
    },
    {
     "name": "stderr",
     "output_type": "stream",
     "text": [
      "\u001b[32m\u001b[1m   Installed\u001b[22m\u001b[39m HypergeometricFunctions ─ v0.3.16\n",
      "\u001b[32m\u001b[1m   Installed\u001b[22m\u001b[39m Rmath_jll ─────────────── v0.4.0+0\n"
     ]
    },
    {
     "name": "stderr",
     "output_type": "stream",
     "text": [
      "\u001b[32m\u001b[1m   Installed\u001b[22m\u001b[39m StatsAPI ──────────────── v1.6.0\n",
      "\u001b[32m\u001b[1m   Installed\u001b[22m\u001b[39m NaNMath ───────────────── v1.0.2\n"
     ]
    },
    {
     "name": "stderr",
     "output_type": "stream",
     "text": [
      "\u001b[32m\u001b[1m   Installed\u001b[22m\u001b[39m StatsFuns ─────────────── v1.3.0\n",
      "\u001b[32m\u001b[1m   Installed\u001b[22m\u001b[39m WinReg ────────────────── v1.0.0\n",
      "\u001b[32m\u001b[1m   Installed\u001b[22m\u001b[39m StatsModels ───────────── v0.7.2\n",
      "\u001b[32m\u001b[1m   Installed\u001b[22m\u001b[39m RCall ─────────────────── v0.13.15\n"
     ]
    },
    {
     "name": "stderr",
     "output_type": "stream",
     "text": [
      "\u001b[32m\u001b[1m   Installed\u001b[22m\u001b[39m DualNumbers ───────────── v0.6.8\n",
      "\u001b[32m\u001b[1m   Installed\u001b[22m\u001b[39m Rmath ─────────────────── v0.7.1\n"
     ]
    },
    {
     "name": "stderr",
     "output_type": "stream",
     "text": [
      "\u001b[32m\u001b[1m   Installed\u001b[22m\u001b[39m StatsBase ─────────────── v0.34.0\n"
     ]
    },
    {
     "name": "stderr",
     "output_type": "stream",
     "text": [
      "\u001b[32m\u001b[1m    Updating\u001b[22m\u001b[39m `~/.julia/environments/v1.8/Project.toml`\n",
      " \u001b[90m [6f49c342] \u001b[39m\u001b[92m+ RCall v0.13.15\u001b[39m\n",
      "\u001b[32m\u001b[1m    Updating\u001b[22m\u001b[39m `~/.julia/environments/v1.8/Manifest.toml`\n"
     ]
    },
    {
     "name": "stderr",
     "output_type": "stream",
     "text": [
      " \u001b[90m [49dc2e85] \u001b[39m\u001b[92m+ Calculus v0.5.1\u001b[39m\n",
      " \u001b[90m [fa6b7ba4] \u001b[39m\u001b[92m+ DualNumbers v0.6.8\u001b[39m\n",
      " \u001b[90m [34004b35] \u001b[39m\u001b[92m+ HypergeometricFunctions v0.3.16\u001b[39m\n",
      " \u001b[90m [77ba4419] \u001b[39m\u001b[92m+ NaNMath v1.0.2\u001b[39m\n",
      " \u001b[90m [6f49c342] \u001b[39m\u001b[92m+ RCall v0.13.15\u001b[39m\n",
      " \u001b[90m [79098fc4] \u001b[39m\u001b[92m+ Rmath v0.7.1\u001b[39m\n",
      " \u001b[90m [1277b4bf] \u001b[39m\u001b[92m+ ShiftedArrays v2.0.0\u001b[39m\n",
      " \u001b[90m [82ae8749] \u001b[39m\u001b[92m+ StatsAPI v1.6.0\u001b[39m\n",
      " \u001b[90m [2913bbd2] \u001b[39m\u001b[92m+ StatsBase v0.34.0\u001b[39m\n",
      " \u001b[90m [4c63d2b9] \u001b[39m\u001b[92m+ StatsFuns v1.3.0\u001b[39m\n",
      " \u001b[90m [3eaba693] \u001b[39m\u001b[92m+ StatsModels v0.7.2\u001b[39m\n",
      " \u001b[90m [1b915085] \u001b[39m\u001b[92m+ WinReg v1.0.0\u001b[39m\n",
      " \u001b[90m [f50d1b31] \u001b[39m\u001b[92m+ Rmath_jll v0.4.0+0\u001b[39m\n"
     ]
    },
    {
     "name": "stderr",
     "output_type": "stream",
     "text": [
      "\u001b[32m\u001b[1m    Building\u001b[22m\u001b[39m RCall → `~/.julia/scratchspaces/44cfe95a-1eb2-52ea-b672-e2afdf69b78f/d441bdeea943f8e8f293e0e3a78fe2d7c3aa24e6/build.log`\n"
     ]
    },
    {
     "name": "stderr",
     "output_type": "stream",
     "text": [
      "\u001b[32m\u001b[1mPrecompiling\u001b[22m\u001b[39m "
     ]
    },
    {
     "name": "stderr",
     "output_type": "stream",
     "text": [
      "project...\n"
     ]
    },
    {
     "name": "stderr",
     "output_type": "stream",
     "text": [
      "\u001b[32m  ✓ \u001b[39m\u001b[90mStatsAPI\u001b[39m\n",
      "\u001b[32m  ✓ \u001b[39m\u001b[90mShiftedArrays\u001b[39m\n"
     ]
    },
    {
     "name": "stderr",
     "output_type": "stream",
     "text": [
      "\u001b[32m  ✓ \u001b[39m\u001b[90mWinReg\u001b[39m\n",
      "\u001b[32m  ✓ \u001b[39m\u001b[90mNaNMath\u001b[39m\n"
     ]
    },
    {
     "name": "stderr",
     "output_type": "stream",
     "text": [
      "\u001b[32m  ✓ \u001b[39m\u001b[90mCalculus\u001b[39m\n"
     ]
    },
    {
     "name": "stderr",
     "output_type": "stream",
     "text": [
      "\u001b[32m  ✓ \u001b[39m\u001b[90mRmath_jll\u001b[39m\n"
     ]
    },
    {
     "name": "stderr",
     "output_type": "stream",
     "text": [
      "\u001b[32m  ✓ \u001b[39m\u001b[90mDualNumbers\u001b[39m\n",
      "\u001b[32m  ✓ \u001b[39m\u001b[90mRmath\u001b[39m\n"
     ]
    },
    {
     "name": "stderr",
     "output_type": "stream",
     "text": [
      "\u001b[32m  ✓ \u001b[39m\u001b[90mStatsBase\u001b[39m\n"
     ]
    },
    {
     "name": "stderr",
     "output_type": "stream",
     "text": [
      "\u001b[32m  ✓ \u001b[39m\u001b[90mHypergeometricFunctions\u001b[39m\n"
     ]
    },
    {
     "name": "stderr",
     "output_type": "stream",
     "text": [
      "\u001b[32m  ✓ \u001b[39m\u001b[90mStatsFuns\u001b[39m\n"
     ]
    },
    {
     "name": "stderr",
     "output_type": "stream",
     "text": [
      "\u001b[32m  ✓ \u001b[39m\u001b[90mStatsModels\u001b[39m\n"
     ]
    },
    {
     "name": "stderr",
     "output_type": "stream",
     "text": [
      "\u001b[32m  ✓ \u001b[39mRCall\n",
      "  13 dependencies successfully precompiled in 25 seconds. 127 already precompiled.\n"
     ]
    }
   ],
   "source": [
    "Pkg.add(\"RCall\")"
   ]
  },
  {
   "cell_type": "code",
   "execution_count": 106,
   "metadata": {},
   "outputs": [],
   "source": [
    "using RCall"
   ]
  },
  {
   "cell_type": "code",
   "execution_count": 107,
   "metadata": {},
   "outputs": [
    {
     "data": {
      "text/plain": [
       "RObject{VecSxp}\n",
       "  x y z\n",
       "1 1 2 3\n",
       "2 2 3 4\n",
       "3 3 4 5\n"
      ]
     },
     "metadata": {},
     "output_type": "display_data"
    }
   ],
   "source": [
    "r_df = R\"data.frame(x=1:3, y=2:4, z=3:5)\""
   ]
  },
  {
   "attachments": {},
   "cell_type": "markdown",
   "metadata": {},
   "source": [
    "Now, we convert this R object to a Julia DataFrame"
   ]
  },
  {
   "cell_type": "code",
   "execution_count": 108,
   "metadata": {},
   "outputs": [
    {
     "data": {
      "text/html": [
       "<div><div style = \"float: left;\"><span>3×3 DataFrame</span></div><div style = \"clear: both;\"></div></div><div class = \"data-frame\" style = \"overflow-x: scroll;\"><table class = \"data-frame\" style = \"margin-bottom: 6px;\"><thead><tr class = \"header\"><th class = \"rowNumber\" style = \"font-weight: bold; text-align: right;\">Row</th><th style = \"text-align: left;\">x</th><th style = \"text-align: left;\">y</th><th style = \"text-align: left;\">z</th></tr><tr class = \"subheader headerLastRow\"><th class = \"rowNumber\" style = \"font-weight: bold; text-align: right;\"></th><th title = \"Int64\" style = \"text-align: left;\">Int64</th><th title = \"Int64\" style = \"text-align: left;\">Int64</th><th title = \"Int64\" style = \"text-align: left;\">Int64</th></tr></thead><tbody><tr><td class = \"rowNumber\" style = \"font-weight: bold; text-align: right;\">1</td><td style = \"text-align: right;\">1</td><td style = \"text-align: right;\">2</td><td style = \"text-align: right;\">3</td></tr><tr><td class = \"rowNumber\" style = \"font-weight: bold; text-align: right;\">2</td><td style = \"text-align: right;\">2</td><td style = \"text-align: right;\">3</td><td style = \"text-align: right;\">4</td></tr><tr><td class = \"rowNumber\" style = \"font-weight: bold; text-align: right;\">3</td><td style = \"text-align: right;\">3</td><td style = \"text-align: right;\">4</td><td style = \"text-align: right;\">5</td></tr></tbody></table></div>"
      ],
      "text/latex": [
       "\\begin{tabular}{r|ccc}\n",
       "\t& x & y & z\\\\\n",
       "\t\\hline\n",
       "\t& Int64 & Int64 & Int64\\\\\n",
       "\t\\hline\n",
       "\t1 & 1 & 2 & 3 \\\\\n",
       "\t2 & 2 & 3 & 4 \\\\\n",
       "\t3 & 3 & 4 & 5 \\\\\n",
       "\\end{tabular}\n"
      ],
      "text/plain": [
       "\u001b[1m3×3 DataFrame\u001b[0m\n",
       "\u001b[1m Row \u001b[0m│\u001b[1m x     \u001b[0m\u001b[1m y     \u001b[0m\u001b[1m z     \u001b[0m\n",
       "     │\u001b[90m Int64 \u001b[0m\u001b[90m Int64 \u001b[0m\u001b[90m Int64 \u001b[0m\n",
       "─────┼─────────────────────\n",
       "   1 │     1      2      3\n",
       "   2 │     2      3      4\n",
       "   3 │     3      4      5"
      ]
     },
     "metadata": {},
     "output_type": "display_data"
    }
   ],
   "source": [
    "julia_df = rcopy(r_df)"
   ]
  },
  {
   "attachments": {},
   "cell_type": "markdown",
   "metadata": {},
   "source": [
    "## Plotting a correlation matrix after calculating correlation from a dataframe"
   ]
  },
  {
   "cell_type": "code",
   "execution_count": 109,
   "metadata": {},
   "outputs": [
    {
     "data": {
      "text/html": [
       "<div><div style = \"float: left;\"><span>11×8 DataFrame</span></div><div style = \"clear: both;\"></div></div><div class = \"data-frame\" style = \"overflow-x: scroll;\"><table class = \"data-frame\" style = \"margin-bottom: 6px;\"><thead><tr class = \"header\"><th class = \"rowNumber\" style = \"font-weight: bold; text-align: right;\">Row</th><th style = \"text-align: left;\">x1</th><th style = \"text-align: left;\">x2</th><th style = \"text-align: left;\">x3</th><th style = \"text-align: left;\">x4</th><th style = \"text-align: left;\">x5</th><th style = \"text-align: left;\">x6</th><th style = \"text-align: left;\">x7</th><th style = \"text-align: left;\">x8</th></tr><tr class = \"subheader headerLastRow\"><th class = \"rowNumber\" style = \"font-weight: bold; text-align: right;\"></th><th title = \"Float64\" style = \"text-align: left;\">Float64</th><th title = \"Float64\" style = \"text-align: left;\">Float64</th><th title = \"Float64\" style = \"text-align: left;\">Float64</th><th title = \"Float64\" style = \"text-align: left;\">Float64</th><th title = \"Float64\" style = \"text-align: left;\">Float64</th><th title = \"Float64\" style = \"text-align: left;\">Float64</th><th title = \"Float64\" style = \"text-align: left;\">Float64</th><th title = \"Float64\" style = \"text-align: left;\">Float64</th></tr></thead><tbody><tr><td class = \"rowNumber\" style = \"font-weight: bold; text-align: right;\">1</td><td style = \"text-align: right;\">10.0</td><td style = \"text-align: right;\">8.04</td><td style = \"text-align: right;\">10.0</td><td style = \"text-align: right;\">9.14</td><td style = \"text-align: right;\">10.0</td><td style = \"text-align: right;\">7.46</td><td style = \"text-align: right;\">8.0</td><td style = \"text-align: right;\">6.58</td></tr><tr><td class = \"rowNumber\" style = \"font-weight: bold; text-align: right;\">2</td><td style = \"text-align: right;\">8.0</td><td style = \"text-align: right;\">6.95</td><td style = \"text-align: right;\">8.0</td><td style = \"text-align: right;\">8.14</td><td style = \"text-align: right;\">8.0</td><td style = \"text-align: right;\">6.77</td><td style = \"text-align: right;\">8.0</td><td style = \"text-align: right;\">5.76</td></tr><tr><td class = \"rowNumber\" style = \"font-weight: bold; text-align: right;\">3</td><td style = \"text-align: right;\">13.0</td><td style = \"text-align: right;\">7.58</td><td style = \"text-align: right;\">13.0</td><td style = \"text-align: right;\">8.74</td><td style = \"text-align: right;\">13.0</td><td style = \"text-align: right;\">12.74</td><td style = \"text-align: right;\">8.0</td><td style = \"text-align: right;\">7.71</td></tr><tr><td class = \"rowNumber\" style = \"font-weight: bold; text-align: right;\">4</td><td style = \"text-align: right;\">9.0</td><td style = \"text-align: right;\">8.81</td><td style = \"text-align: right;\">9.0</td><td style = \"text-align: right;\">8.77</td><td style = \"text-align: right;\">9.0</td><td style = \"text-align: right;\">7.11</td><td style = \"text-align: right;\">8.0</td><td style = \"text-align: right;\">8.84</td></tr><tr><td class = \"rowNumber\" style = \"font-weight: bold; text-align: right;\">5</td><td style = \"text-align: right;\">11.0</td><td style = \"text-align: right;\">8.33</td><td style = \"text-align: right;\">11.0</td><td style = \"text-align: right;\">9.26</td><td style = \"text-align: right;\">11.0</td><td style = \"text-align: right;\">7.81</td><td style = \"text-align: right;\">8.0</td><td style = \"text-align: right;\">8.47</td></tr><tr><td class = \"rowNumber\" style = \"font-weight: bold; text-align: right;\">6</td><td style = \"text-align: right;\">14.0</td><td style = \"text-align: right;\">9.96</td><td style = \"text-align: right;\">14.0</td><td style = \"text-align: right;\">8.1</td><td style = \"text-align: right;\">14.0</td><td style = \"text-align: right;\">8.84</td><td style = \"text-align: right;\">8.0</td><td style = \"text-align: right;\">7.04</td></tr><tr><td class = \"rowNumber\" style = \"font-weight: bold; text-align: right;\">7</td><td style = \"text-align: right;\">6.0</td><td style = \"text-align: right;\">7.24</td><td style = \"text-align: right;\">6.0</td><td style = \"text-align: right;\">6.13</td><td style = \"text-align: right;\">6.0</td><td style = \"text-align: right;\">6.08</td><td style = \"text-align: right;\">8.0</td><td style = \"text-align: right;\">5.25</td></tr><tr><td class = \"rowNumber\" style = \"font-weight: bold; text-align: right;\">8</td><td style = \"text-align: right;\">4.0</td><td style = \"text-align: right;\">4.26</td><td style = \"text-align: right;\">4.0</td><td style = \"text-align: right;\">3.1</td><td style = \"text-align: right;\">4.0</td><td style = \"text-align: right;\">5.39</td><td style = \"text-align: right;\">19.0</td><td style = \"text-align: right;\">12.5</td></tr><tr><td class = \"rowNumber\" style = \"font-weight: bold; text-align: right;\">9</td><td style = \"text-align: right;\">12.0</td><td style = \"text-align: right;\">10.84</td><td style = \"text-align: right;\">12.0</td><td style = \"text-align: right;\">9.13</td><td style = \"text-align: right;\">12.0</td><td style = \"text-align: right;\">8.15</td><td style = \"text-align: right;\">8.0</td><td style = \"text-align: right;\">5.56</td></tr><tr><td class = \"rowNumber\" style = \"font-weight: bold; text-align: right;\">10</td><td style = \"text-align: right;\">7.0</td><td style = \"text-align: right;\">4.82</td><td style = \"text-align: right;\">7.0</td><td style = \"text-align: right;\">7.26</td><td style = \"text-align: right;\">7.0</td><td style = \"text-align: right;\">6.42</td><td style = \"text-align: right;\">8.0</td><td style = \"text-align: right;\">7.91</td></tr><tr><td class = \"rowNumber\" style = \"font-weight: bold; text-align: right;\">11</td><td style = \"text-align: right;\">5.0</td><td style = \"text-align: right;\">5.68</td><td style = \"text-align: right;\">5.0</td><td style = \"text-align: right;\">4.74</td><td style = \"text-align: right;\">5.0</td><td style = \"text-align: right;\">5.73</td><td style = \"text-align: right;\">8.0</td><td style = \"text-align: right;\">6.89</td></tr></tbody></table></div>"
      ],
      "text/latex": [
       "\\begin{tabular}{r|cccccccc}\n",
       "\t& x1 & x2 & x3 & x4 & x5 & x6 & x7 & x8\\\\\n",
       "\t\\hline\n",
       "\t& Float64 & Float64 & Float64 & Float64 & Float64 & Float64 & Float64 & Float64\\\\\n",
       "\t\\hline\n",
       "\t1 & 10.0 & 8.04 & 10.0 & 9.14 & 10.0 & 7.46 & 8.0 & 6.58 \\\\\n",
       "\t2 & 8.0 & 6.95 & 8.0 & 8.14 & 8.0 & 6.77 & 8.0 & 5.76 \\\\\n",
       "\t3 & 13.0 & 7.58 & 13.0 & 8.74 & 13.0 & 12.74 & 8.0 & 7.71 \\\\\n",
       "\t4 & 9.0 & 8.81 & 9.0 & 8.77 & 9.0 & 7.11 & 8.0 & 8.84 \\\\\n",
       "\t5 & 11.0 & 8.33 & 11.0 & 9.26 & 11.0 & 7.81 & 8.0 & 8.47 \\\\\n",
       "\t6 & 14.0 & 9.96 & 14.0 & 8.1 & 14.0 & 8.84 & 8.0 & 7.04 \\\\\n",
       "\t7 & 6.0 & 7.24 & 6.0 & 6.13 & 6.0 & 6.08 & 8.0 & 5.25 \\\\\n",
       "\t8 & 4.0 & 4.26 & 4.0 & 3.1 & 4.0 & 5.39 & 19.0 & 12.5 \\\\\n",
       "\t9 & 12.0 & 10.84 & 12.0 & 9.13 & 12.0 & 8.15 & 8.0 & 5.56 \\\\\n",
       "\t10 & 7.0 & 4.82 & 7.0 & 7.26 & 7.0 & 6.42 & 8.0 & 7.91 \\\\\n",
       "\t11 & 5.0 & 5.68 & 5.0 & 4.74 & 5.0 & 5.73 & 8.0 & 6.89 \\\\\n",
       "\\end{tabular}\n"
      ],
      "text/plain": [
       "\u001b[1m11×8 DataFrame\u001b[0m\n",
       "\u001b[1m Row \u001b[0m│\u001b[1m x1      \u001b[0m\u001b[1m x2      \u001b[0m\u001b[1m x3      \u001b[0m\u001b[1m x4      \u001b[0m\u001b[1m x5      \u001b[0m\u001b[1m x6      \u001b[0m\u001b[1m x7      \u001b[0m\u001b[1m x8      \u001b[0m\n",
       "     │\u001b[90m Float64 \u001b[0m\u001b[90m Float64 \u001b[0m\u001b[90m Float64 \u001b[0m\u001b[90m Float64 \u001b[0m\u001b[90m Float64 \u001b[0m\u001b[90m Float64 \u001b[0m\u001b[90m Float64 \u001b[0m\u001b[90m Float64 \u001b[0m\n",
       "─────┼────────────────────────────────────────────────────────────────────────\n",
       "   1 │    10.0     8.04     10.0     9.14     10.0     7.46      8.0     6.58\n",
       "   2 │     8.0     6.95      8.0     8.14      8.0     6.77      8.0     5.76\n",
       "   3 │    13.0     7.58     13.0     8.74     13.0    12.74      8.0     7.71\n",
       "   4 │     9.0     8.81      9.0     8.77      9.0     7.11      8.0     8.84\n",
       "   5 │    11.0     8.33     11.0     9.26     11.0     7.81      8.0     8.47\n",
       "   6 │    14.0     9.96     14.0     8.1      14.0     8.84      8.0     7.04\n",
       "   7 │     6.0     7.24      6.0     6.13      6.0     6.08      8.0     5.25\n",
       "   8 │     4.0     4.26      4.0     3.1       4.0     5.39     19.0    12.5\n",
       "   9 │    12.0    10.84     12.0     9.13     12.0     8.15      8.0     5.56\n",
       "  10 │     7.0     4.82      7.0     7.26      7.0     6.42      8.0     7.91\n",
       "  11 │     5.0     5.68      5.0     4.74      5.0     5.73      8.0     6.89"
      ]
     },
     "metadata": {},
     "output_type": "display_data"
    }
   ],
   "source": [
    "aq_df"
   ]
  },
  {
   "cell_type": "code",
   "execution_count": 110,
   "metadata": {},
   "outputs": [],
   "source": [
    "using Statistics"
   ]
  },
  {
   "cell_type": "code",
   "execution_count": 111,
   "metadata": {},
   "outputs": [
    {
     "name": "stderr",
     "output_type": "stream",
     "text": [
      "\u001b[32m\u001b[1m   Resolving\u001b[22m\u001b[39m package versions...\n"
     ]
    },
    {
     "name": "stderr",
     "output_type": "stream",
     "text": [
      "\u001b[32m\u001b[1m    Updating\u001b[22m\u001b[39m `~/.julia/environments/v1.8/Project.toml`\n",
      " \u001b[90m [2913bbd2] \u001b[39m\u001b[92m+ StatsBase v0.34.0\u001b[39m\n",
      "\u001b[32m\u001b[1m  No Changes\u001b[22m\u001b[39m to `~/.julia/environments/v1.8/Manifest.toml`\n"
     ]
    }
   ],
   "source": [
    "Pkg.add(\"StatsBase\")\n"
   ]
  },
  {
   "cell_type": "code",
   "execution_count": 112,
   "metadata": {},
   "outputs": [
    {
     "name": "stderr",
     "output_type": "stream",
     "text": [
      "WARNING: using StatsBase.sum in module Main conflicts with an existing identifier.\n"
     ]
    }
   ],
   "source": [
    "using StatsBase # This is required for pairwise"
   ]
  },
  {
   "cell_type": "code",
   "execution_count": 113,
   "metadata": {},
   "outputs": [
    {
     "data": {
      "text/plain": [
       "8×8 Matrix{Float64}:\n",
       "  1.0        0.816421   1.0       …   0.816287  -0.5       -0.314047\n",
       "  0.816421   1.0        0.816421      0.468717  -0.529093  -0.489116\n",
       "  1.0        0.816421   1.0           0.816287  -0.5       -0.314047\n",
       "  0.816237   0.750005   0.816237      0.587919  -0.718437  -0.478095\n",
       "  1.0        0.816421   1.0           0.816287  -0.5       -0.314047\n",
       "  0.816287   0.468717   0.816287  …   1.0       -0.344661  -0.155472\n",
       " -0.5       -0.529093  -0.5          -0.344661   1.0        0.816521\n",
       " -0.314047  -0.489116  -0.314047     -0.155472   0.816521   1.0"
      ]
     },
     "metadata": {},
     "output_type": "display_data"
    }
   ],
   "source": [
    "cor_matrix = pairwise(cor, eachcol(aq_df))"
   ]
  },
  {
   "cell_type": "code",
   "execution_count": 114,
   "metadata": {},
   "outputs": [
    {
     "name": "stderr",
     "output_type": "stream",
     "text": [
      "\u001b[32m\u001b[1m   Resolving\u001b[22m\u001b[39m package versions...\n"
     ]
    },
    {
     "name": "stderr",
     "output_type": "stream",
     "text": [
      "\u001b[32m\u001b[1m   Installed\u001b[22m\u001b[39m JpegTurbo_jll ────── v2.1.91+0\n",
      "\u001b[32m\u001b[1m   Installed\u001b[22m\u001b[39m GR_jll ───────────── v0.72.4+0\n",
      "\u001b[32m\u001b[1m   Installed\u001b[22m\u001b[39m RecipesPipeline ──── v0.6.12\n",
      "\u001b[32m\u001b[1m   Installed\u001b[22m\u001b[39m PlotUtils ────────── v1.3.5\n",
      "\u001b[32m\u001b[1m   Installed\u001b[22m\u001b[39m Measures ─────────── v0.3.2\n",
      "\u001b[32m\u001b[1m   Installed\u001b[22m\u001b[39m RelocatableFolders ─ v1.0.0\n"
     ]
    },
    {
     "name": "stderr",
     "output_type": "stream",
     "text": [
      "\u001b[32m\u001b[1m   Installed\u001b[22m\u001b[39m Pipe ─────────────── v1.3.0\n"
     ]
    },
    {
     "name": "stderr",
     "output_type": "stream",
     "text": [
      "\u001b[32m\u001b[1m   Installed\u001b[22m\u001b[39m fzf_jll ──────────── v0.29.0+0\n",
      "\u001b[32m\u001b[1m   Installed\u001b[22m\u001b[39m Scratch ──────────── v1.2.0\n",
      "\u001b[32m\u001b[1m   Installed\u001b[22m\u001b[39m JLFzf ────────────── v0.1.5\n"
     ]
    },
    {
     "name": "stderr",
     "output_type": "stream",
     "text": [
      "\u001b[32m\u001b[1m   Installed\u001b[22m\u001b[39m StatsBase ────────── v0.33.21\n",
      "\u001b[32m\u001b[1m   Installed\u001b[22m\u001b[39m ColorVectorSpace ─── v0.9.10\n"
     ]
    },
    {
     "name": "stderr",
     "output_type": "stream",
     "text": [
      "\u001b[32m\u001b[1m   Installed\u001b[22m\u001b[39m Colors ───────────── v0.12.10\n"
     ]
    },
    {
     "name": "stderr",
     "output_type": "stream",
     "text": [
      "\u001b[32m\u001b[1m   Installed\u001b[22m\u001b[39m OpenSSL_jll ──────── v1.1.20+0\n",
      "\u001b[32m\u001b[1m   Installed\u001b[22m\u001b[39m Libglvnd_jll ─────── v1.6.0+0\n",
      "\u001b[32m\u001b[1m   Installed\u001b[22m\u001b[39m Latexify ─────────── v0.16.0\n",
      "\u001b[32m\u001b[1m   Installed\u001b[22m\u001b[39m Plots ────────────── v1.38.11\n"
     ]
    },
    {
     "name": "stderr",
     "output_type": "stream",
     "text": [
      "\u001b[32m\u001b[1m   Installed\u001b[22m\u001b[39m ColorSchemes ─────── v3.21.0\n"
     ]
    },
    {
     "name": "stderr",
     "output_type": "stream",
     "text": [
      "\u001b[32m\u001b[1m   Installed\u001b[22m\u001b[39m GR ───────────────── v0.72.4\n"
     ]
    },
    {
     "name": "stderr",
     "output_type": "stream",
     "text": [
      "\u001b[32m\u001b[1m   Installed\u001b[22m\u001b[39m Wayland_jll ──────── v1.21.0+0\n"
     ]
    },
    {
     "name": "stderr",
     "output_type": "stream",
     "text": [
      "\u001b[32m\u001b[1m    Updating\u001b[22m\u001b[39m `~/.julia/environments/v1.8/Project.toml`\n",
      " \u001b[90m [91a5bcdd] \u001b[39m\u001b[92m+ Plots v1.38.11\u001b[39m\n",
      "\u001b[33m⌅\u001b[39m\u001b[90m [2913bbd2] \u001b[39m\u001b[95m↓ StatsBase v0.34.0 ⇒ v0.33.21\u001b[39m\n",
      "\u001b[32m\u001b[1m    Updating\u001b[22m\u001b[39m `~/.julia/environments/v1.8/Manifest.toml`\n"
     ]
    },
    {
     "name": "stderr",
     "output_type": "stream",
     "text": [
      " \u001b[90m [35d6a980] \u001b[39m\u001b[92m+ ColorSchemes v3.21.0\u001b[39m\n",
      " \u001b[90m [3da002f7] \u001b[39m\u001b[92m+ ColorTypes v0.11.4\u001b[39m\n",
      " \u001b[90m [c3611d14] \u001b[39m\u001b[92m+ ColorVectorSpace v0.9.10\u001b[39m\n",
      " \u001b[90m [5ae59095] \u001b[39m\u001b[92m+ Colors v0.12.10\u001b[39m\n",
      " \u001b[90m [d38c429a] \u001b[39m\u001b[92m+ Contour v0.6.2\u001b[39m\n",
      " \u001b[90m [c87230d0] \u001b[39m\u001b[92m+ FFMPEG v0.4.1\u001b[39m\n",
      " \u001b[90m [53c48c17] \u001b[39m\u001b[92m+ FixedPointNumbers v0.8.4\u001b[39m\n",
      " \u001b[90m [28b8d3ca] \u001b[39m\u001b[92m+ GR v0.72.4\u001b[39m\n",
      " \u001b[90m [42e2da0e] \u001b[39m\u001b[92m+ Grisu v1.0.2\u001b[39m\n",
      " \u001b[90m [1019f520] \u001b[39m\u001b[92m+ JLFzf v0.1.5\u001b[39m\n",
      " \u001b[90m [23fbe1c1] \u001b[39m\u001b[92m+ Latexify v0.16.0\u001b[39m\n",
      " \u001b[90m [442fdcdd] \u001b[39m\u001b[92m+ Measures v0.3.2\u001b[39m\n",
      " \u001b[90m [b98c9c47] \u001b[39m\u001b[92m+ Pipe v1.3.0\u001b[39m\n",
      " \u001b[90m [ccf2f8ad] \u001b[39m\u001b[92m+ PlotThemes v3.1.0\u001b[39m\n",
      " \u001b[90m [995b91a9] \u001b[39m\u001b[92m+ PlotUtils v1.3.5\u001b[39m\n",
      " \u001b[90m [91a5bcdd] \u001b[39m\u001b[92m+ Plots v1.38.11\u001b[39m\n",
      " \u001b[90m [01d81517] \u001b[39m\u001b[92m+ RecipesPipeline v0.6.12\u001b[39m\n",
      " \u001b[90m [05181044] \u001b[39m\u001b[92m+ RelocatableFolders v1.0.0\u001b[39m\n",
      " \u001b[90m [6c6a2e73] \u001b[39m\u001b[92m+ Scratch v1.2.0\u001b[39m\n",
      " \u001b[90m [992d4aef] \u001b[39m\u001b[92m+ Showoff v1.0.3\u001b[39m\n",
      "\u001b[33m⌅\u001b[39m\u001b[90m [2913bbd2] \u001b[39m\u001b[95m↓ StatsBase v0.34.0 ⇒ v0.33.21\u001b[39m\n",
      " \u001b[90m [62fd8b95] \u001b[39m\u001b[92m+ TensorCore v0.1.1\u001b[39m\n",
      " \u001b[90m [1cfade01] \u001b[39m\u001b[92m+ UnicodeFun v0.4.1\u001b[39m\n",
      " \u001b[90m [41fe7b60] \u001b[39m\u001b[92m+ Unzip v0.2.0\u001b[39m\n",
      " \u001b[90m [6e34b625] \u001b[39m\u001b[92m+ Bzip2_jll v1.0.8+0\u001b[39m\n",
      " \u001b[90m [83423d85] \u001b[39m\u001b[92m+ Cairo_jll v1.16.1+1\u001b[39m\n",
      " \u001b[90m [2e619515] \u001b[39m\u001b[92m+ Expat_jll v2.4.8+0\u001b[39m\n",
      " \u001b[90m [b22a6f82] \u001b[39m\u001b[92m+ FFMPEG_jll v4.4.2+2\u001b[39m\n",
      " \u001b[90m [a3f928ae] \u001b[39m\u001b[92m+ Fontconfig_jll v2.13.93+0\u001b[39m\n",
      " \u001b[90m [d7e528f0] \u001b[39m\u001b[92m+ FreeType2_jll v2.10.4+0\u001b[39m\n",
      " \u001b[90m [559328eb] \u001b[39m\u001b[92m+ FriBidi_jll v1.0.10+0\u001b[39m\n",
      " \u001b[90m [0656b61e] \u001b[39m\u001b[92m+ GLFW_jll v3.3.8+0\u001b[39m\n",
      " \u001b[90m [d2c73de3] \u001b[39m\u001b[92m+ GR_jll v0.72.4+0\u001b[39m\n",
      " \u001b[90m [78b55507] \u001b[39m\u001b[92m+ Gettext_jll v0.21.0+0\u001b[39m\n",
      " \u001b[90m [7746bdde] \u001b[39m\u001b[92m+ Glib_jll v2.74.0+2\u001b[39m\n",
      " \u001b[90m [3b182d85] \u001b[39m\u001b[92m+ Graphite2_jll v1.3.14+0\u001b[39m\n",
      " \u001b[90m [2e76f6c2] \u001b[39m\u001b[92m+ HarfBuzz_jll v2.8.1+1\u001b[39m\n",
      " \u001b[90m [aacddb02] \u001b[39m\u001b[92m+ JpegTurbo_jll v2.1.91+0\u001b[39m\n",
      " \u001b[90m [c1c5ebd0] \u001b[39m\u001b[92m+ LAME_jll v3.100.1+0\u001b[39m\n",
      " \u001b[90m [88015f11] \u001b[39m\u001b[92m+ LERC_jll v3.0.0+1\u001b[39m\n",
      " \u001b[90m [dd4b983a] \u001b[39m\u001b[92m+ LZO_jll v2.10.1+0\u001b[39m\n",
      "\u001b[33m⌅\u001b[39m\u001b[90m [e9f186c6] \u001b[39m\u001b[92m+ Libffi_jll v3.2.2+1\u001b[39m\n",
      " \u001b[90m [d4300ac3] \u001b[39m\u001b[92m+ Libgcrypt_jll v1.8.7+0\u001b[39m\n",
      " \u001b[90m [7e76a0d4] \u001b[39m\u001b[92m+ Libglvnd_jll v1.6.0+0\u001b[39m\n",
      " \u001b[90m [7add5ba3] \u001b[39m\u001b[92m+ Libgpg_error_jll v1.42.0+0\u001b[39m\n",
      " \u001b[90m [4b2f31a3] \u001b[39m\u001b[92m+ Libmount_jll v2.35.0+0\u001b[39m\n",
      " \u001b[90m [89763e89] \u001b[39m\u001b[92m+ Libtiff_jll v4.4.0+0\u001b[39m\n",
      " \u001b[90m [38a345b3] \u001b[39m\u001b[92m+ Libuuid_jll v2.36.0+0\u001b[39m\n",
      " \u001b[90m [e7412a2a] \u001b[39m\u001b[92m+ Ogg_jll v1.3.5+1\u001b[39m\n",
      "\u001b[33m⌅\u001b[39m\u001b[90m [458c3c95] \u001b[39m\u001b[95m↓ OpenSSL_jll v3.0.8+0 ⇒ v1.1.20+0\u001b[39m\n",
      " \u001b[90m [91d4177d] \u001b[39m\u001b[92m+ Opus_jll v1.3.2+0\u001b[39m\n",
      " \u001b[90m [30392449] \u001b[39m\u001b[92m+ Pixman_jll v0.40.1+0\u001b[39m\n",
      " \u001b[90m [ea2cea3b] \u001b[39m\u001b[92m+ Qt5Base_jll v5.15.3+2\u001b[39m\n",
      " \u001b[90m [a2964d1f] \u001b[39m\u001b[92m+ Wayland_jll v1.21.0+0\u001b[39m\n",
      " \u001b[90m [2381bf8a] \u001b[39m\u001b[92m+ Wayland_protocols_jll v1.25.0+0\u001b[39m\n",
      " \u001b[90m [aed1982a] \u001b[39m\u001b[92m+ XSLT_jll v1.1.34+0\u001b[39m\n",
      " \u001b[90m [4f6342f7] \u001b[39m\u001b[92m+ Xorg_libX11_jll v1.6.9+4\u001b[39m\n",
      " \u001b[90m [0c0b7dd1] \u001b[39m\u001b[92m+ Xorg_libXau_jll v1.0.9+4\u001b[39m\n",
      " \u001b[90m [935fb764] \u001b[39m\u001b[92m+ Xorg_libXcursor_jll v1.2.0+4\u001b[39m\n",
      " \u001b[90m [a3789734] \u001b[39m\u001b[92m+ Xorg_libXdmcp_jll v1.1.3+4\u001b[39m\n",
      " \u001b[90m [1082639a] \u001b[39m\u001b[92m+ Xorg_libXext_jll v1.3.4+4\u001b[39m\n",
      " \u001b[90m [d091e8ba] \u001b[39m\u001b[92m+ Xorg_libXfixes_jll v5.0.3+4\u001b[39m\n",
      " \u001b[90m [a51aa0fd] \u001b[39m\u001b[92m+ Xorg_libXi_jll v1.7.10+4\u001b[39m\n",
      " \u001b[90m [d1454406] \u001b[39m\u001b[92m+ Xorg_libXinerama_jll v1.1.4+4\u001b[39m\n",
      " \u001b[90m [ec84b674] \u001b[39m\u001b[92m+ Xorg_libXrandr_jll v1.5.2+4\u001b[39m\n",
      " \u001b[90m [ea2f1a96] \u001b[39m\u001b[92m+ Xorg_libXrender_jll v0.9.10+4\u001b[39m\n",
      " \u001b[90m [14d82f49] \u001b[39m\u001b[92m+ Xorg_libpthread_stubs_jll v0.1.0+3\u001b[39m\n",
      " \u001b[90m [c7cfdc94] \u001b[39m\u001b[92m+ Xorg_libxcb_jll v1.13.0+3\u001b[39m\n",
      " \u001b[90m [cc61e674] \u001b[39m\u001b[92m+ Xorg_libxkbfile_jll v1.1.0+4\u001b[39m\n",
      " \u001b[90m [12413925] \u001b[39m\u001b[92m+ Xorg_xcb_util_image_jll v0.4.0+1\u001b[39m\n",
      " \u001b[90m [2def613f] \u001b[39m\u001b[92m+ Xorg_xcb_util_jll v0.4.0+1\u001b[39m\n",
      " \u001b[90m [975044d2] \u001b[39m\u001b[92m+ Xorg_xcb_util_keysyms_jll v0.4.0+1\u001b[39m\n",
      " \u001b[90m [0d47668e] \u001b[39m\u001b[92m+ Xorg_xcb_util_renderutil_jll v0.3.9+1\u001b[39m\n",
      " \u001b[90m [c22f9ab0] \u001b[39m\u001b[92m+ Xorg_xcb_util_wm_jll v0.4.1+1\u001b[39m\n",
      " \u001b[90m [35661453] \u001b[39m\u001b[92m+ Xorg_xkbcomp_jll v1.4.2+4\u001b[39m\n",
      " \u001b[90m [33bec58e] \u001b[39m\u001b[92m+ Xorg_xkeyboard_config_jll v2.27.0+4\u001b[39m\n",
      " \u001b[90m [c5fb5394] \u001b[39m\u001b[92m+ Xorg_xtrans_jll v1.4.0+3\u001b[39m\n",
      "\u001b[33m⌅\u001b[39m\u001b[90m [214eeab7] \u001b[39m\u001b[92m+ fzf_jll v0.29.0+0\u001b[39m\n",
      " \u001b[90m [a4ae2306] \u001b[39m\u001b[92m+ libaom_jll v3.4.0+0\u001b[39m\n",
      " \u001b[90m [0ac62f75] \u001b[39m\u001b[92m+ libass_jll v0.15.1+0\u001b[39m\n",
      " \u001b[90m [f638f0a6] \u001b[39m\u001b[92m+ libfdk_aac_jll v2.0.2+0\u001b[39m\n",
      " \u001b[90m [b53b4c65] \u001b[39m\u001b[92m+ libpng_jll v1.6.38+0\u001b[39m\n",
      " \u001b[90m [f27f6e37] \u001b[39m\u001b[92m+ libvorbis_jll v1.3.7+1\u001b[39m\n",
      " \u001b[90m [1270edf5] \u001b[39m\u001b[92m+ x264_jll v2021.5.5+0\u001b[39m\n",
      " \u001b[90m [dfaa095f] \u001b[39m\u001b[92m+ x265_jll v3.5.0+0\u001b[39m\n",
      " \u001b[90m [d8fb68d0] \u001b[39m"
     ]
    },
    {
     "name": "stderr",
     "output_type": "stream",
     "text": [
      "\u001b[92m+ xkbcommon_jll v1.4.1+0\u001b[39m\n",
      " \u001b[90m [efcefdf7] \u001b[39m\u001b[92m+ PCRE2_jll v10.40.0+0\u001b[39m\n",
      "\u001b[36m\u001b[1m        Info\u001b[22m\u001b[39m Packages marked with \u001b[33m⌅\u001b[39m have new versions available but compatibility constraints restrict them from upgrading. To see why use `status --outdated -m`\n"
     ]
    },
    {
     "name": "stderr",
     "output_type": "stream",
     "text": [
      "\u001b[32m\u001b[1mPrecompiling\u001b[22m\u001b[39m project...\n"
     ]
    },
    {
     "name": "stderr",
     "output_type": "stream",
     "text": [
      "\u001b[32m  ✓ \u001b[39m\u001b[90mPipe\u001b[39m\n"
     ]
    },
    {
     "name": "stderr",
     "output_type": "stream",
     "text": [
      "\u001b[32m  ✓ \u001b[39m\u001b[90mTensorCore\u001b[39m\n"
     ]
    },
    {
     "name": "stderr",
     "output_type": "stream",
     "text": [
      "\u001b[32m  ✓ \u001b[39m\u001b[90mContour\u001b[39m\n"
     ]
    },
    {
     "name": "stderr",
     "output_type": "stream",
     "text": [
      "\u001b[32m  ✓ \u001b[39m\u001b[90mMeasures\u001b[39m\n"
     ]
    },
    {
     "name": "stderr",
     "output_type": "stream",
     "text": [
      "\u001b[32m  ✓ \u001b[39m\u001b[90mPCRE2_jll\u001b[39m\n"
     ]
    },
    {
     "name": "stderr",
     "output_type": "stream",
     "text": [
      "\u001b[32m  ✓ \u001b[39m\u001b[90mUnzip\u001b[39m\n"
     ]
    },
    {
     "name": "stderr",
     "output_type": "stream",
     "text": [
      "\u001b[32m  ✓ \u001b[39m\u001b[90mUnicodeFun\u001b[39m\n",
      "\u001b[32m  ✓ \u001b[39m\u001b[90mGrisu\u001b[39m\n"
     ]
    },
    {
     "name": "stderr",
     "output_type": "stream",
     "text": [
      "\u001b[32m  ✓ \u001b[39m\u001b[90mScratch\u001b[39m\n"
     ]
    },
    {
     "name": "stderr",
     "output_type": "stream",
     "text": [
      "\u001b[33m  ✓ \u001b[39m\u001b[90mOpenSSL_jll\u001b[39m\n",
      "\u001b[32m  ✓ \u001b[39m\u001b[90mGraphite2_jll\u001b[39m\n"
     ]
    },
    {
     "name": "stderr",
     "output_type": "stream",
     "text": [
      "\u001b[32m  ✓ \u001b[39m\u001b[90mLibmount_jll\u001b[39m\n"
     ]
    },
    {
     "name": "stderr",
     "output_type": "stream",
     "text": [
      "\u001b[32m  ✓ \u001b[39m\u001b[90mFixedPointNumbers\u001b[39m\n"
     ]
    },
    {
     "name": "stderr",
     "output_type": "stream",
     "text": [
      "\u001b[32m  ✓ \u001b[39m\u001b[90mXorg_libXau_jll\u001b[39m\n"
     ]
    },
    {
     "name": "stderr",
     "output_type": "stream",
     "text": [
      "\u001b[32m  ✓ \u001b[39m\u001b[90mBzip2_jll\u001b[39m\n"
     ]
    },
    {
     "name": "stderr",
     "output_type": "stream",
     "text": [
      "\u001b[32m  ✓ \u001b[39m\u001b[90mlibpng_jll\u001b[39m\n"
     ]
    },
    {
     "name": "stderr",
     "output_type": "stream",
     "text": [
      "\u001b[32m  ✓ \u001b[39m\u001b[90mlibfdk_aac_jll\u001b[39m\n"
     ]
    },
    {
     "name": "stderr",
     "output_type": "stream",
     "text": [
      "\u001b[32m  ✓ \u001b[39m\u001b[90mLAME_jll\u001b[39m\n"
     ]
    },
    {
     "name": "stderr",
     "output_type": "stream",
     "text": [
      "\u001b[32m  ✓ \u001b[39m\u001b[90mPixman_jll\u001b[39m\n"
     ]
    },
    {
     "name": "stderr",
     "output_type": "stream",
     "text": [
      "\u001b[32m  ✓ \u001b[39m\u001b[90mLERC_jll\u001b[39m\n"
     ]
    },
    {
     "name": "stderr",
     "output_type": "stream",
     "text": [
      "\u001b[32m  ✓ \u001b[39m\u001b[90mfzf_jll\u001b[39m\n"
     ]
    },
    {
     "name": "stderr",
     "output_type": "stream",
     "text": [
      "\u001b[32m  ✓ \u001b[39m\u001b[90mJpegTurbo_jll\u001b[39m\n"
     ]
    },
    {
     "name": "stderr",
     "output_type": "stream",
     "text": [
      "\u001b[32m  ✓ \u001b[39m\u001b[90mXorg_libXdmcp_jll\u001b[39m\n"
     ]
    },
    {
     "name": "stderr",
     "output_type": "stream",
     "text": [
      "\u001b[32m  ✓ \u001b[39m\u001b[90mOgg_jll\u001b[39m\n"
     ]
    },
    {
     "name": "stderr",
     "output_type": "stream",
     "text": [
      "\u001b[32m  ✓ \u001b[39m\u001b[90mLatexify\u001b[39m\n"
     ]
    },
    {
     "name": "stderr",
     "output_type": "stream",
     "text": [
      "\u001b[32m  ✓ \u001b[39m\u001b[90mx265_jll\u001b[39m\n"
     ]
    },
    {
     "name": "stderr",
     "output_type": "stream",
     "text": [
      "\u001b[32m  ✓ \u001b[39m\u001b[90mx264_jll\u001b[39m\n"
     ]
    },
    {
     "name": "stderr",
     "output_type": "stream",
     "text": [
      "\u001b[32m  ✓ \u001b[39m\u001b[90mExpat_jll\u001b[39m\n"
     ]
    },
    {
     "name": "stderr",
     "output_type": "stream",
     "text": [
      "\u001b[32m  ✓ \u001b[39m\u001b[90mlibaom_jll\u001b[39m\n"
     ]
    },
    {
     "name": "stderr",
     "output_type": "stream",
     "text": [
      "\u001b[32m  ✓ \u001b[39m\u001b[90mLZO_jll\u001b[39m\n"
     ]
    },
    {
     "name": "stderr",
     "output_type": "stream",
     "text": [
      "\u001b[32m  ✓ \u001b[39m\u001b[90mXorg_xtrans_jll\u001b[39m\n",
      "\u001b[32m  ✓ \u001b[39m\u001b[90mOpus_jll\u001b[39m\n"
     ]
    },
    {
     "name": "stderr",
     "output_type": "stream",
     "text": [
      "\u001b[32m  ✓ \u001b[39m\u001b[90mLibffi_jll\u001b[39m\n"
     ]
    },
    {
     "name": "stderr",
     "output_type": "stream",
     "text": [
      "\u001b[32m  ✓ \u001b[39m\u001b[90mLibgpg_error_jll\u001b[39m\n"
     ]
    },
    {
     "name": "stderr",
     "output_type": "stream",
     "text": [
      "\u001b[32m  ✓ \u001b[39m\u001b[90mWayland_protocols_jll\u001b[39m\n"
     ]
    },
    {
     "name": "stderr",
     "output_type": "stream",
     "text": [
      "\u001b[32m  ✓ \u001b[39m\u001b[90mXorg_libpthread_stubs_jll\u001b[39m\n"
     ]
    },
    {
     "name": "stderr",
     "output_type": "stream",
     "text": [
      "\u001b[32m  ✓ \u001b[39m\u001b[90mFriBidi_jll\u001b[39m\n"
     ]
    },
    {
     "name": "stderr",
     "output_type": "stream",
     "text": [
      "\u001b[32m  ✓ \u001b[39m\u001b[90mLibuuid_jll\u001b[39m\n"
     ]
    },
    {
     "name": "stderr",
     "output_type": "stream",
     "text": [
      "\u001b[32m  ✓ \u001b[39m\u001b[90mShowoff\u001b[39m\n"
     ]
    },
    {
     "name": "stderr",
     "output_type": "stream",
     "text": [
      "\u001b[32m  ✓ \u001b[39m\u001b[90mGettext_jll\u001b[39m\n"
     ]
    },
    {
     "name": "stderr",
     "output_type": "stream",
     "text": [
      "\u001b[32m  ✓ \u001b[39m\u001b[90mRelocatableFolders\u001b[39m\n"
     ]
    },
    {
     "name": "stderr",
     "output_type": "stream",
     "text": [
      "\u001b[32m  ✓ \u001b[39m\u001b[90mFreeType2_jll\u001b[39m\n"
     ]
    },
    {
     "name": "stderr",
     "output_type": "stream",
     "text": [
      "\u001b[32m  ✓ \u001b[39m\u001b[90mJLFzf\u001b[39m\n"
     ]
    },
    {
     "name": "stderr",
     "output_type": "stream",
     "text": [
      "\u001b[32m  ✓ \u001b[39m\u001b[90mLibtiff_jll\u001b[39m\n"
     ]
    },
    {
     "name": "stderr",
     "output_type": "stream",
     "text": [
      "\u001b[32m  ✓ \u001b[39m\u001b[90mlibvorbis_jll\u001b[39m\n"
     ]
    },
    {
     "name": "stderr",
     "output_type": "stream",
     "text": [
      "\u001b[32m  ✓ \u001b[39m\u001b[90mWayland_jll\u001b[39m\n"
     ]
    },
    {
     "name": "stderr",
     "output_type": "stream",
     "text": [
      "\u001b[33m  ✓ \u001b[39m\u001b[90mOpenSSL\u001b[39m\n"
     ]
    },
    {
     "name": "stderr",
     "output_type": "stream",
     "text": [
      "\u001b[32m  ✓ \u001b[39m\u001b[90mLibgcrypt_jll\u001b[39m\n"
     ]
    },
    {
     "name": "stderr",
     "output_type": "stream",
     "text": [
      "\u001b[33m  ✓ \u001b[39mStatsBase\n"
     ]
    },
    {
     "name": "stderr",
     "output_type": "stream",
     "text": [
      "\u001b[32m  ✓ \u001b[39m\u001b[90mGlib_jll\u001b[39m\n"
     ]
    },
    {
     "name": "stderr",
     "output_type": "stream",
     "text": [
      "\u001b[32m  ✓ \u001b[39m\u001b[90mFontconfig_jll\u001b[39m\n"
     ]
    },
    {
     "name": "stderr",
     "output_type": "stream",
     "text": [
      "\u001b[32m  ✓ \u001b[39m\u001b[90mXSLT_jll\u001b[39m\n"
     ]
    },
    {
     "name": "stderr",
     "output_type": "stream",
     "text": [
      "\u001b[32m  ✓ \u001b[39m\u001b[90mColorTypes\u001b[39m\n"
     ]
    },
    {
     "name": "stderr",
     "output_type": "stream",
     "text": [
      "\u001b[32m  ✓ \u001b[39m\u001b[90mXorg_libxcb_jll\u001b[39m\n"
     ]
    },
    {
     "name": "stderr",
     "output_type": "stream",
     "text": [
      "\u001b[32m  ✓ \u001b[39m\u001b[90mXorg_xcb_util_jll\u001b[39m\n"
     ]
    },
    {
     "name": "stderr",
     "output_type": "stream",
     "text": [
      "\u001b[32m  ✓ \u001b[39m\u001b[90mXorg_libX11_jll\u001b[39m\n"
     ]
    },
    {
     "name": "stderr",
     "output_type": "stream",
     "text": [
      "\u001b[33m  ✓ \u001b[39m\u001b[90mStatsModels\u001b[39m\n"
     ]
    },
    {
     "name": "stderr",
     "output_type": "stream",
     "text": [
      "\u001b[32m  ✓ \u001b[39m\u001b[90mXorg_xcb_util_image_jll\u001b[39m\n"
     ]
    },
    {
     "name": "stderr",
     "output_type": "stream",
     "text": [
      "\u001b[32m  ✓ \u001b[39m\u001b[90mXorg_xcb_util_keysyms_jll\u001b[39m\n"
     ]
    },
    {
     "name": "stderr",
     "output_type": "stream",
     "text": [
      "\u001b[32m  ✓ \u001b[39m\u001b[90mXorg_xcb_util_renderutil_jll\u001b[39m\n"
     ]
    },
    {
     "name": "stderr",
     "output_type": "stream",
     "text": [
      "\u001b[32m  ✓ \u001b[39m\u001b[90mXorg_xcb_util_wm_jll\u001b[39m\n"
     ]
    },
    {
     "name": "stderr",
     "output_type": "stream",
     "text": [
      "\u001b[32m  ✓ \u001b[39m\u001b[90mXorg_libXrender_jll\u001b[39m\n"
     ]
    },
    {
     "name": "stderr",
     "output_type": "stream",
     "text": [
      "\u001b[32m  ✓ \u001b[39m\u001b[90mXorg_libXext_jll\u001b[39m\n"
     ]
    },
    {
     "name": "stderr",
     "output_type": "stream",
     "text": [
      "\u001b[33m  ✓ \u001b[39m\u001b[90mHTTP\u001b[39m\n",
      "\u001b[32m  ✓ \u001b[39m\u001b[90mXorg_libXfixes_jll\u001b[39m\n"
     ]
    },
    {
     "name": "stderr",
     "output_type": "stream",
     "text": [
      "\u001b[32m  ✓ \u001b[39m\u001b[90mXorg_libxkbfile_jll\u001b[39m\n"
     ]
    },
    {
     "name": "stderr",
     "output_type": "stream",
     "text": [
      "\u001b[32m  ✓ \u001b[39m\u001b[90mLibglvnd_jll\u001b[39m\n"
     ]
    },
    {
     "name": "stderr",
     "output_type": "stream",
     "text": [
      "\u001b[32m  ✓ \u001b[39m\u001b[90mColorVectorSpace\u001b[39m\n"
     ]
    },
    {
     "name": "stderr",
     "output_type": "stream",
     "text": [
      "\u001b[32m  ✓ \u001b[39m\u001b[90mXorg_libXinerama_jll\u001b[39m\n"
     ]
    },
    {
     "name": "stderr",
     "output_type": "stream",
     "text": [
      "\u001b[32m  ✓ \u001b[39m\u001b[90mXorg_libXrandr_jll\u001b[39m\n"
     ]
    },
    {
     "name": "stderr",
     "output_type": "stream",
     "text": [
      "\u001b[32m  ✓ \u001b[39m\u001b[90mCairo_jll\u001b[39m\n"
     ]
    },
    {
     "name": "stderr",
     "output_type": "stream",
     "text": [
      "\u001b[32m  ✓ \u001b[39m\u001b[90mXorg_libXcursor_jll\u001b[39m\n"
     ]
    },
    {
     "name": "stderr",
     "output_type": "stream",
     "text": [
      "\u001b[33m  ✓ \u001b[39m\u001b[90mJSONSchema\u001b[39m\n"
     ]
    },
    {
     "name": "stderr",
     "output_type": "stream",
     "text": [
      "\u001b[32m  ✓ \u001b[39m\u001b[90mXorg_libXi_jll\u001b[39m\n"
     ]
    },
    {
     "name": "stderr",
     "output_type": "stream",
     "text": [
      "\u001b[32m  ✓ \u001b[39m\u001b[90mColors\u001b[39m\n"
     ]
    },
    {
     "name": "stderr",
     "output_type": "stream",
     "text": [
      "\u001b[32m  ✓ \u001b[39m\u001b[90mXorg_xkbcomp_jll\u001b[39m\n"
     ]
    },
    {
     "name": "stderr",
     "output_type": "stream",
     "text": [
      "\u001b[32m  ✓ \u001b[39m\u001b[90mHarfBuzz_jll\u001b[39m\n"
     ]
    },
    {
     "name": "stderr",
     "output_type": "stream",
     "text": [
      "\u001b[32m  ✓ \u001b[39m\u001b[90mGLFW_jll\u001b[39m\n"
     ]
    },
    {
     "name": "stderr",
     "output_type": "stream",
     "text": [
      "\u001b[32m  ✓ \u001b[39m\u001b[90mXorg_xkeyboard_config_jll\u001b[39m\n"
     ]
    },
    {
     "name": "stderr",
     "output_type": "stream",
     "text": [
      "\u001b[32m  ✓ \u001b[39m\u001b[90mlibass_jll\u001b[39m\n"
     ]
    },
    {
     "name": "stderr",
     "output_type": "stream",
     "text": [
      "\u001b[32m  ✓ \u001b[39m\u001b[90mxkbcommon_jll\u001b[39m\n"
     ]
    },
    {
     "name": "stderr",
     "output_type": "stream",
     "text": [
      "\u001b[32m  ✓ \u001b[39m\u001b[90mFFMPEG_jll\u001b[39m\n"
     ]
    },
    {
     "name": "stderr",
     "output_type": "stream",
     "text": [
      "\u001b[32m  ✓ \u001b[39m\u001b[90mQt5Base_jll\u001b[39m\n"
     ]
    },
    {
     "name": "stderr",
     "output_type": "stream",
     "text": [
      "\u001b[32m  ✓ \u001b[39m\u001b[90mFFMPEG\u001b[39m\n"
     ]
    },
    {
     "name": "stderr",
     "output_type": "stream",
     "text": [
      "\u001b[33m  ✓ \u001b[39m\u001b[90mVega\u001b[39m\n"
     ]
    },
    {
     "name": "stderr",
     "output_type": "stream",
     "text": [
      "\u001b[32m  ✓ \u001b[39m\u001b[90mGR_jll\u001b[39m\n"
     ]
    },
    {
     "name": "stderr",
     "output_type": "stream",
     "text": [
      "\u001b[33m  ✓ \u001b[39m\u001b[90mCSVFiles\u001b[39m\n"
     ]
    },
    {
     "name": "stderr",
     "output_type": "stream",
     "text": [
      "\u001b[32m  ✓ \u001b[39m\u001b[90mGR\u001b[39m\n"
     ]
    },
    {
     "name": "stderr",
     "output_type": "stream",
     "text": [
      "\u001b[33m  ✓ \u001b[39mRCall\n"
     ]
    },
    {
     "name": "stderr",
     "output_type": "stream",
     "text": [
      "\u001b[32m  ✓ \u001b[39m\u001b[90mColorSchemes\u001b[39m\n"
     ]
    },
    {
     "name": "stderr",
     "output_type": "stream",
     "text": [
      "\u001b[33m  ✓ \u001b[39m\u001b[90mVegaLite\u001b[39m\n"
     ]
    },
    {
     "name": "stderr",
     "output_type": "stream",
     "text": [
      "\u001b[33m  ✓ \u001b[39m\u001b[90mDataVoyager\u001b[39m\n"
     ]
    },
    {
     "name": "stderr",
     "output_type": "stream",
     "text": [
      "\u001b[32m  ✓ \u001b[39m\u001b[90mPlotUtils\u001b[39m\n"
     ]
    },
    {
     "name": "stderr",
     "output_type": "stream",
     "text": [
      "\u001b[32m  ✓ \u001b[39m\u001b[90mPlotThemes\u001b[39m\n"
     ]
    },
    {
     "name": "stderr",
     "output_type": "stream",
     "text": [
      "\u001b[32m  ✓ \u001b[39m\u001b[90mRecipesPipeline\u001b[39m\n"
     ]
    },
    {
     "name": "stderr",
     "output_type": "stream",
     "text": [
      "\u001b[33m  ✓ \u001b[39mQueryverse\n"
     ]
    },
    {
     "name": "stderr",
     "output_type": "stream",
     "text": [
      "\u001b[32m  ✓ \u001b[39mPlots\n",
      "  97 dependencies successfully precompiled in 116 seconds. 128 already precompiled.\n",
      "  \u001b[33m12\u001b[39m dependencies precompiled but different versions are currently loaded. Restart julia to access the new versions\n"
     ]
    }
   ],
   "source": [
    "# Now we plot the results\n",
    "Pkg.add(\"Plots\")"
   ]
  },
  {
   "cell_type": "code",
   "execution_count": 115,
   "metadata": {},
   "outputs": [
    {
     "name": "stderr",
     "output_type": "stream",
     "text": [
      "\u001b[33m\u001b[1m┌ \u001b[22m\u001b[39m\u001b[33m\u001b[1mWarning: \u001b[22m\u001b[39mModule StatsBase with build ID 12886970930218 is missing from the cache.\n",
      "\u001b[33m\u001b[1m│ \u001b[22m\u001b[39mThis may mean StatsBase [2913bbd2-ae8a-5f71-8c99-4fb6c76f3a91] does not support precompilation but is imported by a module that does.\n",
      "\u001b[33m\u001b[1m└ \u001b[22m\u001b[39m\u001b[90m@ Base loading.jl:1325\u001b[39m\n"
     ]
    },
    {
     "name": "stderr",
     "output_type": "stream",
     "text": [
      "\u001b[33m\u001b[1m┌ \u001b[22m\u001b[39m\u001b[33m\u001b[1mWarning: \u001b[22m\u001b[39mModule OpenSSL_jll with build ID 12601449072786 is missing from the cache.\n",
      "\u001b[33m\u001b[1m│ \u001b[22m\u001b[39mThis may mean OpenSSL_jll [458c3c95-2e84-50aa-8efc-19380b2a3a95] does not support precompilation but is imported by a module that does.\n",
      "\u001b[33m\u001b[1m└ \u001b[22m\u001b[39m\u001b[90m@ Base loading.jl:1325\u001b[39m\n"
     ]
    },
    {
     "name": "stderr",
     "output_type": "stream",
     "text": [
      "\u001b[33m\u001b[1m┌ \u001b[22m\u001b[39m\u001b[33m\u001b[1mWarning: \u001b[22m\u001b[39mModule OpenSSL_jll with build ID 12601449072786 is missing from the cache.\n",
      "\u001b[33m\u001b[1m│ \u001b[22m\u001b[39mThis may mean OpenSSL_jll [458c3c95-2e84-50aa-8efc-19380b2a3a95] does not support precompilation but is imported by a module that does.\n",
      "\u001b[33m\u001b[1m└ \u001b[22m\u001b[39m\u001b[90m@ Base loading.jl:1325\u001b[39m\n"
     ]
    },
    {
     "name": "stderr",
     "output_type": "stream",
     "text": [
      "\u001b[33m\u001b[1m┌ \u001b[22m\u001b[39m\u001b[33m\u001b[1mWarning: \u001b[22m\u001b[39mModule OpenSSL_jll with build ID 12601449072786 is missing from the cache.\n",
      "\u001b[33m\u001b[1m│ \u001b[22m\u001b[39mThis may mean OpenSSL_jll [458c3c95-2e84-50aa-8efc-19380b2a3a95] does not support precompilation but is imported by a module that does.\n",
      "\u001b[33m\u001b[1m└ \u001b[22m\u001b[39m\u001b[90m@ Base loading.jl:1325\u001b[39m\n"
     ]
    },
    {
     "ename": "LoadError",
     "evalue": "LoadError: InitError: could not load library \"/Users/chlazaris/.julia/artifacts/1e28bb4254c27b51008f9e1839edee3406036044/lib/libavdevice.58.13.100.dylib\"\ndlopen(/Users/chlazaris/.julia/artifacts/1e28bb4254c27b51008f9e1839edee3406036044/lib/libavdevice.58.13.100.dylib, 0x0001): Library not loaded: '@rpath/libssl.1.1.dylib'\n  Referenced from: '/Users/chlazaris/.julia/artifacts/1e28bb4254c27b51008f9e1839edee3406036044/lib/libavdevice.58.13.100.dylib'\n  Reason: tried: '/Users/chlazaris/.julia/artifacts/1e28bb4254c27b51008f9e1839edee3406036044/lib/./libssl.1.1.dylib' (no such file), '/Users/chlazaris/.julia/artifacts/1e28bb4254c27b51008f9e1839edee3406036044/lib/./libssl.1.1.dylib' (no such file), '/Applications/Julia-1.8.app/Contents/Resources/julia/lib/julia/libssl.1.1.dylib' (no such file), '/Applications/Julia-1.8.app/Contents/Resources/julia/bin/../lib/libssl.1.1.dylib' (no such file), '/usr/local/lib/libssl.1.1.dylib' (no such file), '/usr/lib/libssl.1.1.dylib' (no such file)\nduring initialization of module FFMPEG_jll\nin expression starting at /Users/chlazaris/.julia/packages/FFMPEG_jll/OCtN5/src/FFMPEG_jll.jl:2\nin expression starting at /Users/chlazaris/.julia/packages/FFMPEG/OUpap/src/FFMPEG.jl:1\nin expression starting at /Users/chlazaris/.julia/packages/Plots/esM5q/src/animation.jl:1\nin expression starting at /Users/chlazaris/.julia/packages/Plots/esM5q/src/Plots.jl:1",
     "output_type": "error",
     "traceback": [
      "LoadError: InitError: could not load library \"/Users/chlazaris/.julia/artifacts/1e28bb4254c27b51008f9e1839edee3406036044/lib/libavdevice.58.13.100.dylib\"\n",
      "dlopen(/Users/chlazaris/.julia/artifacts/1e28bb4254c27b51008f9e1839edee3406036044/lib/libavdevice.58.13.100.dylib, 0x0001): Library not loaded: '@rpath/libssl.1.1.dylib'\n",
      "  Referenced from: '/Users/chlazaris/.julia/artifacts/1e28bb4254c27b51008f9e1839edee3406036044/lib/libavdevice.58.13.100.dylib'\n",
      "  Reason: tried: '/Users/chlazaris/.julia/artifacts/1e28bb4254c27b51008f9e1839edee3406036044/lib/./libssl.1.1.dylib' (no such file), '/Users/chlazaris/.julia/artifacts/1e28bb4254c27b51008f9e1839edee3406036044/lib/./libssl.1.1.dylib' (no such file), '/Applications/Julia-1.8.app/Contents/Resources/julia/lib/julia/libssl.1.1.dylib' (no such file), '/Applications/Julia-1.8.app/Contents/Resources/julia/bin/../lib/libssl.1.1.dylib' (no such file), '/usr/local/lib/libssl.1.1.dylib' (no such file), '/usr/lib/libssl.1.1.dylib' (no such file)\n",
      "during initialization of module FFMPEG_jll\n",
      "in expression starting at /Users/chlazaris/.julia/packages/FFMPEG_jll/OCtN5/src/FFMPEG_jll.jl:2\n",
      "in expression starting at /Users/chlazaris/.julia/packages/FFMPEG/OUpap/src/FFMPEG.jl:1\n",
      "in expression starting at /Users/chlazaris/.julia/packages/Plots/esM5q/src/animation.jl:1\n",
      "in expression starting at /Users/chlazaris/.julia/packages/Plots/esM5q/src/Plots.jl:1\n",
      "\n",
      "Stacktrace:\n",
      "  [1] dlopen(s::String, flags::UInt32; throw_error::Bool)\n",
      "    @ Base.Libc.Libdl ./libdl.jl:117\n",
      "  [2] dlopen(s::String, flags::UInt32)\n",
      "    @ Base.Libc.Libdl ./libdl.jl:116\n",
      "  [3] macro expansion\n",
      "    @ ~/.julia/packages/JLLWrappers/QpMQW/src/products/library_generators.jl:54 [inlined]\n",
      "  [4] __init__()\n",
      "    @ FFMPEG_jll ~/.julia/packages/FFMPEG_jll/OCtN5/src/wrappers/x86_64-apple-darwin.jl:39\n",
      "  [5] include\n",
      "    @ ./Base.jl:419 [inlined]\n",
      "  [6] _require(pkg::Base.PkgId)\n",
      "    @ Base ./loading.jl:1367\n",
      "  [7] _require_prelocked(uuidkey::Base.PkgId)\n",
      "    @ Base ./loading.jl:1200\n",
      "  [8] macro expansion\n",
      "    @ ./loading.jl:1180 [inlined]\n",
      "  [9] macro expansion\n",
      "    @ ./lock.jl:223 [inlined]\n",
      " [10] require(into::Module, mod::Symbol)\n",
      "    @ Base ./loading.jl:1144\n",
      " [11] include\n",
      "    @ ./Base.jl:419 [inlined]\n",
      " [12] _require(pkg::Base.PkgId)\n",
      "    @ Base ./loading.jl:1367\n",
      " [13] _require_prelocked(uuidkey::Base.PkgId)\n",
      "    @ Base ./loading.jl:1200\n",
      " [14] macro expansion\n",
      "    @ ./loading.jl:1180 [inlined]\n",
      " [15] macro expansion\n",
      "    @ ./lock.jl:223 [inlined]\n",
      " [16] require(into::Module, mod::Symbol)\n",
      "    @ Base ./loading.jl:1144\n",
      " [17] include(mod::Module, _path::String)\n",
      "    @ Base ./Base.jl:419\n",
      " [18] include(x::String)\n",
      "    @ Plots ~/.julia/packages/Plots/esM5q/src/Plots.jl:1\n",
      " [19] top-level scope\n",
      "    @ ~/.julia/packages/Plots/esM5q/src/Plots.jl:168"
     ]
    }
   ],
   "source": [
    "using(Plots)"
   ]
  },
  {
   "cell_type": "code",
   "execution_count": 116,
   "metadata": {},
   "outputs": [
    {
     "ename": "UndefVarError",
     "evalue": "UndefVarError: Plots not defined",
     "output_type": "error",
     "traceback": [
      "UndefVarError: Plots not defined\n",
      "\n",
      "Stacktrace:\n",
      " [1] top-level scope\n",
      "   @ ~/Documents/Julia_training/Julia_for_DS.ipynb:1"
     ]
    }
   ],
   "source": [
    "heatmap(names(aq_df), names(aq_df), cor_matrix,\n",
    "aspect_ratio=:equal, size=(400,400),\n",
    "rightmargin=5Plots.mm)"
   ]
  },
  {
   "attachments": {},
   "cell_type": "markdown",
   "metadata": {},
   "source": [
    "## Create dataframes step-by-step"
   ]
  },
  {
   "cell_type": "code",
   "execution_count": 117,
   "metadata": {},
   "outputs": [
    {
     "data": {
      "text/plain": [
       "10-element Vector{Int64}:\n",
       "  2\n",
       "  3\n",
       "  4\n",
       "  5\n",
       "  6\n",
       "  7\n",
       "  8\n",
       "  9\n",
       " 10\n",
       " 11"
      ]
     },
     "metadata": {},
     "output_type": "display_data"
    }
   ],
   "source": [
    "v = collect(1:10)\n",
    "y = collect(2:11)"
   ]
  },
  {
   "cell_type": "code",
   "execution_count": 118,
   "metadata": {},
   "outputs": [
    {
     "data": {
      "text/html": [
       "<div><div style = \"float: left;\"><span>10×2 DataFrame</span></div><div style = \"clear: both;\"></div></div><div class = \"data-frame\" style = \"overflow-x: scroll;\"><table class = \"data-frame\" style = \"margin-bottom: 6px;\"><thead><tr class = \"header\"><th class = \"rowNumber\" style = \"font-weight: bold; text-align: right;\">Row</th><th style = \"text-align: left;\">x1</th><th style = \"text-align: left;\">x2</th></tr><tr class = \"subheader headerLastRow\"><th class = \"rowNumber\" style = \"font-weight: bold; text-align: right;\"></th><th title = \"Int64\" style = \"text-align: left;\">Int64</th><th title = \"Int64\" style = \"text-align: left;\">Int64</th></tr></thead><tbody><tr><td class = \"rowNumber\" style = \"font-weight: bold; text-align: right;\">1</td><td style = \"text-align: right;\">1</td><td style = \"text-align: right;\">2</td></tr><tr><td class = \"rowNumber\" style = \"font-weight: bold; text-align: right;\">2</td><td style = \"text-align: right;\">2</td><td style = \"text-align: right;\">3</td></tr><tr><td class = \"rowNumber\" style = \"font-weight: bold; text-align: right;\">3</td><td style = \"text-align: right;\">3</td><td style = \"text-align: right;\">4</td></tr><tr><td class = \"rowNumber\" style = \"font-weight: bold; text-align: right;\">4</td><td style = \"text-align: right;\">4</td><td style = \"text-align: right;\">5</td></tr><tr><td class = \"rowNumber\" style = \"font-weight: bold; text-align: right;\">5</td><td style = \"text-align: right;\">5</td><td style = \"text-align: right;\">6</td></tr><tr><td class = \"rowNumber\" style = \"font-weight: bold; text-align: right;\">6</td><td style = \"text-align: right;\">6</td><td style = \"text-align: right;\">7</td></tr><tr><td class = \"rowNumber\" style = \"font-weight: bold; text-align: right;\">7</td><td style = \"text-align: right;\">7</td><td style = \"text-align: right;\">8</td></tr><tr><td class = \"rowNumber\" style = \"font-weight: bold; text-align: right;\">8</td><td style = \"text-align: right;\">8</td><td style = \"text-align: right;\">9</td></tr><tr><td class = \"rowNumber\" style = \"font-weight: bold; text-align: right;\">9</td><td style = \"text-align: right;\">9</td><td style = \"text-align: right;\">10</td></tr><tr><td class = \"rowNumber\" style = \"font-weight: bold; text-align: right;\">10</td><td style = \"text-align: right;\">10</td><td style = \"text-align: right;\">11</td></tr></tbody></table></div>"
      ],
      "text/latex": [
       "\\begin{tabular}{r|cc}\n",
       "\t& x1 & x2\\\\\n",
       "\t\\hline\n",
       "\t& Int64 & Int64\\\\\n",
       "\t\\hline\n",
       "\t1 & 1 & 2 \\\\\n",
       "\t2 & 2 & 3 \\\\\n",
       "\t3 & 3 & 4 \\\\\n",
       "\t4 & 4 & 5 \\\\\n",
       "\t5 & 5 & 6 \\\\\n",
       "\t6 & 6 & 7 \\\\\n",
       "\t7 & 7 & 8 \\\\\n",
       "\t8 & 8 & 9 \\\\\n",
       "\t9 & 9 & 10 \\\\\n",
       "\t10 & 10 & 11 \\\\\n",
       "\\end{tabular}\n"
      ],
      "text/plain": [
       "\u001b[1m10×2 DataFrame\u001b[0m\n",
       "\u001b[1m Row \u001b[0m│\u001b[1m x1    \u001b[0m\u001b[1m x2    \u001b[0m\n",
       "     │\u001b[90m Int64 \u001b[0m\u001b[90m Int64 \u001b[0m\n",
       "─────┼──────────────\n",
       "   1 │     1      2\n",
       "   2 │     2      3\n",
       "   3 │     3      4\n",
       "   4 │     4      5\n",
       "   5 │     5      6\n",
       "   6 │     6      7\n",
       "   7 │     7      8\n",
       "   8 │     8      9\n",
       "   9 │     9     10\n",
       "  10 │    10     11"
      ]
     },
     "metadata": {},
     "output_type": "display_data"
    }
   ],
   "source": [
    "DataFrame(x1 = v, x2 = y)"
   ]
  },
  {
   "cell_type": "code",
   "execution_count": 119,
   "metadata": {},
   "outputs": [
    {
     "data": {
      "text/plain": [
       "3628800"
      ]
     },
     "metadata": {},
     "output_type": "display_data"
    }
   ],
   "source": [
    "reduce(*, collect(1:10))"
   ]
  },
  {
   "cell_type": "code",
   "execution_count": 120,
   "metadata": {},
   "outputs": [
    {
     "data": {
      "text/plain": [
       "3628800"
      ]
     },
     "metadata": {},
     "output_type": "display_data"
    }
   ],
   "source": [
    "1 * 2 * 3 * 4 * 5 * 6 * 7 * 8 * 9 * 10"
   ]
  },
  {
   "cell_type": "code",
   "execution_count": 121,
   "metadata": {},
   "outputs": [
    {
     "data": {
      "text/plain": [
       "5050"
      ]
     },
     "metadata": {},
     "output_type": "display_data"
    }
   ],
   "source": [
    "reduce(+, collect(1:100))"
   ]
  },
  {
   "cell_type": "code",
   "execution_count": 122,
   "metadata": {},
   "outputs": [
    {
     "name": "stdout",
     "output_type": "stream",
     "text": [
      "5050\n"
     ]
    }
   ],
   "source": [
    "sum = 0\n",
    "\n",
    "for number in 1:100\n",
    "    sum = sum + number\n",
    "end\n",
    "\n",
    "println(sum)"
   ]
  },
  {
   "cell_type": "code",
   "execution_count": 123,
   "metadata": {},
   "outputs": [
    {
     "data": {
      "text/html": [
       "<div><div style = \"float: left;\"><span>10×2 DataFrame</span></div><div style = \"clear: both;\"></div></div><div class = \"data-frame\" style = \"overflow-x: scroll;\"><table class = \"data-frame\" style = \"margin-bottom: 6px;\"><thead><tr class = \"header\"><th class = \"rowNumber\" style = \"font-weight: bold; text-align: right;\">Row</th><th style = \"text-align: left;\">a</th><th style = \"text-align: left;\">b</th></tr><tr class = \"subheader headerLastRow\"><th class = \"rowNumber\" style = \"font-weight: bold; text-align: right;\"></th><th title = \"Int64\" style = \"text-align: left;\">Int64</th><th title = \"Int64\" style = \"text-align: left;\">Int64</th></tr></thead><tbody><tr><td class = \"rowNumber\" style = \"font-weight: bold; text-align: right;\">1</td><td style = \"text-align: right;\">1</td><td style = \"text-align: right;\">11</td></tr><tr><td class = \"rowNumber\" style = \"font-weight: bold; text-align: right;\">2</td><td style = \"text-align: right;\">2</td><td style = \"text-align: right;\">12</td></tr><tr><td class = \"rowNumber\" style = \"font-weight: bold; text-align: right;\">3</td><td style = \"text-align: right;\">3</td><td style = \"text-align: right;\">13</td></tr><tr><td class = \"rowNumber\" style = \"font-weight: bold; text-align: right;\">4</td><td style = \"text-align: right;\">4</td><td style = \"text-align: right;\">14</td></tr><tr><td class = \"rowNumber\" style = \"font-weight: bold; text-align: right;\">5</td><td style = \"text-align: right;\">5</td><td style = \"text-align: right;\">15</td></tr><tr><td class = \"rowNumber\" style = \"font-weight: bold; text-align: right;\">6</td><td style = \"text-align: right;\">6</td><td style = \"text-align: right;\">16</td></tr><tr><td class = \"rowNumber\" style = \"font-weight: bold; text-align: right;\">7</td><td style = \"text-align: right;\">7</td><td style = \"text-align: right;\">17</td></tr><tr><td class = \"rowNumber\" style = \"font-weight: bold; text-align: right;\">8</td><td style = \"text-align: right;\">8</td><td style = \"text-align: right;\">18</td></tr><tr><td class = \"rowNumber\" style = \"font-weight: bold; text-align: right;\">9</td><td style = \"text-align: right;\">9</td><td style = \"text-align: right;\">19</td></tr><tr><td class = \"rowNumber\" style = \"font-weight: bold; text-align: right;\">10</td><td style = \"text-align: right;\">10</td><td style = \"text-align: right;\">20</td></tr></tbody></table></div>"
      ],
      "text/latex": [
       "\\begin{tabular}{r|cc}\n",
       "\t& a & b\\\\\n",
       "\t\\hline\n",
       "\t& Int64 & Int64\\\\\n",
       "\t\\hline\n",
       "\t1 & 1 & 11 \\\\\n",
       "\t2 & 2 & 12 \\\\\n",
       "\t3 & 3 & 13 \\\\\n",
       "\t4 & 4 & 14 \\\\\n",
       "\t5 & 5 & 15 \\\\\n",
       "\t6 & 6 & 16 \\\\\n",
       "\t7 & 7 & 17 \\\\\n",
       "\t8 & 8 & 18 \\\\\n",
       "\t9 & 9 & 19 \\\\\n",
       "\t10 & 10 & 20 \\\\\n",
       "\\end{tabular}\n"
      ],
      "text/plain": [
       "\u001b[1m10×2 DataFrame\u001b[0m\n",
       "\u001b[1m Row \u001b[0m│\u001b[1m a     \u001b[0m\u001b[1m b     \u001b[0m\n",
       "     │\u001b[90m Int64 \u001b[0m\u001b[90m Int64 \u001b[0m\n",
       "─────┼──────────────\n",
       "   1 │     1     11\n",
       "   2 │     2     12\n",
       "   3 │     3     13\n",
       "   4 │     4     14\n",
       "   5 │     5     15\n",
       "   6 │     6     16\n",
       "   7 │     7     17\n",
       "   8 │     8     18\n",
       "   9 │     9     19\n",
       "  10 │    10     20"
      ]
     },
     "metadata": {},
     "output_type": "display_data"
    }
   ],
   "source": [
    "df1 = DataFrame(a = 1:10, b = 11:20)"
   ]
  },
  {
   "cell_type": "code",
   "execution_count": 124,
   "metadata": {},
   "outputs": [
    {
     "data": {
      "text/html": [
       "<div><div style = \"float: left;\"><span>40×2 DataFrame</span></div><div style = \"float: right;\"><span style = \"font-style: italic;\">15 rows omitted</span></div><div style = \"clear: both;\"></div></div><div class = \"data-frame\" style = \"overflow-x: scroll;\"><table class = \"data-frame\" style = \"margin-bottom: 6px;\"><thead><tr class = \"header\"><th class = \"rowNumber\" style = \"font-weight: bold; text-align: right;\">Row</th><th style = \"text-align: left;\">c</th><th style = \"text-align: left;\">d</th></tr><tr class = \"subheader headerLastRow\"><th class = \"rowNumber\" style = \"font-weight: bold; text-align: right;\"></th><th title = \"Int64\" style = \"text-align: left;\">Int64</th><th title = \"Int64\" style = \"text-align: left;\">Int64</th></tr></thead><tbody><tr><td class = \"rowNumber\" style = \"font-weight: bold; text-align: right;\">1</td><td style = \"text-align: right;\">1</td><td style = \"text-align: right;\">2</td></tr><tr><td class = \"rowNumber\" style = \"font-weight: bold; text-align: right;\">2</td><td style = \"text-align: right;\">2</td><td style = \"text-align: right;\">3</td></tr><tr><td class = \"rowNumber\" style = \"font-weight: bold; text-align: right;\">3</td><td style = \"text-align: right;\">3</td><td style = \"text-align: right;\">4</td></tr><tr><td class = \"rowNumber\" style = \"font-weight: bold; text-align: right;\">4</td><td style = \"text-align: right;\">4</td><td style = \"text-align: right;\">5</td></tr><tr><td class = \"rowNumber\" style = \"font-weight: bold; text-align: right;\">5</td><td style = \"text-align: right;\">5</td><td style = \"text-align: right;\">6</td></tr><tr><td class = \"rowNumber\" style = \"font-weight: bold; text-align: right;\">6</td><td style = \"text-align: right;\">6</td><td style = \"text-align: right;\">7</td></tr><tr><td class = \"rowNumber\" style = \"font-weight: bold; text-align: right;\">7</td><td style = \"text-align: right;\">7</td><td style = \"text-align: right;\">8</td></tr><tr><td class = \"rowNumber\" style = \"font-weight: bold; text-align: right;\">8</td><td style = \"text-align: right;\">8</td><td style = \"text-align: right;\">9</td></tr><tr><td class = \"rowNumber\" style = \"font-weight: bold; text-align: right;\">9</td><td style = \"text-align: right;\">9</td><td style = \"text-align: right;\">10</td></tr><tr><td class = \"rowNumber\" style = \"font-weight: bold; text-align: right;\">10</td><td style = \"text-align: right;\">10</td><td style = \"text-align: right;\">11</td></tr><tr><td class = \"rowNumber\" style = \"font-weight: bold; text-align: right;\">11</td><td style = \"text-align: right;\">11</td><td style = \"text-align: right;\">12</td></tr><tr><td class = \"rowNumber\" style = \"font-weight: bold; text-align: right;\">12</td><td style = \"text-align: right;\">12</td><td style = \"text-align: right;\">13</td></tr><tr><td class = \"rowNumber\" style = \"font-weight: bold; text-align: right;\">13</td><td style = \"text-align: right;\">13</td><td style = \"text-align: right;\">14</td></tr><tr><td style = \"text-align: right;\">&vellip;</td><td style = \"text-align: right;\">&vellip;</td><td style = \"text-align: right;\">&vellip;</td></tr><tr><td class = \"rowNumber\" style = \"font-weight: bold; text-align: right;\">29</td><td style = \"text-align: right;\">29</td><td style = \"text-align: right;\">30</td></tr><tr><td class = \"rowNumber\" style = \"font-weight: bold; text-align: right;\">30</td><td style = \"text-align: right;\">30</td><td style = \"text-align: right;\">31</td></tr><tr><td class = \"rowNumber\" style = \"font-weight: bold; text-align: right;\">31</td><td style = \"text-align: right;\">31</td><td style = \"text-align: right;\">32</td></tr><tr><td class = \"rowNumber\" style = \"font-weight: bold; text-align: right;\">32</td><td style = \"text-align: right;\">32</td><td style = \"text-align: right;\">33</td></tr><tr><td class = \"rowNumber\" style = \"font-weight: bold; text-align: right;\">33</td><td style = \"text-align: right;\">33</td><td style = \"text-align: right;\">34</td></tr><tr><td class = \"rowNumber\" style = \"font-weight: bold; text-align: right;\">34</td><td style = \"text-align: right;\">34</td><td style = \"text-align: right;\">35</td></tr><tr><td class = \"rowNumber\" style = \"font-weight: bold; text-align: right;\">35</td><td style = \"text-align: right;\">35</td><td style = \"text-align: right;\">36</td></tr><tr><td class = \"rowNumber\" style = \"font-weight: bold; text-align: right;\">36</td><td style = \"text-align: right;\">36</td><td style = \"text-align: right;\">37</td></tr><tr><td class = \"rowNumber\" style = \"font-weight: bold; text-align: right;\">37</td><td style = \"text-align: right;\">37</td><td style = \"text-align: right;\">38</td></tr><tr><td class = \"rowNumber\" style = \"font-weight: bold; text-align: right;\">38</td><td style = \"text-align: right;\">38</td><td style = \"text-align: right;\">39</td></tr><tr><td class = \"rowNumber\" style = \"font-weight: bold; text-align: right;\">39</td><td style = \"text-align: right;\">39</td><td style = \"text-align: right;\">40</td></tr><tr><td class = \"rowNumber\" style = \"font-weight: bold; text-align: right;\">40</td><td style = \"text-align: right;\">40</td><td style = \"text-align: right;\">41</td></tr></tbody></table></div>"
      ],
      "text/latex": [
       "\\begin{tabular}{r|cc}\n",
       "\t& c & d\\\\\n",
       "\t\\hline\n",
       "\t& Int64 & Int64\\\\\n",
       "\t\\hline\n",
       "\t1 & 1 & 2 \\\\\n",
       "\t2 & 2 & 3 \\\\\n",
       "\t3 & 3 & 4 \\\\\n",
       "\t4 & 4 & 5 \\\\\n",
       "\t5 & 5 & 6 \\\\\n",
       "\t6 & 6 & 7 \\\\\n",
       "\t7 & 7 & 8 \\\\\n",
       "\t8 & 8 & 9 \\\\\n",
       "\t9 & 9 & 10 \\\\\n",
       "\t10 & 10 & 11 \\\\\n",
       "\t11 & 11 & 12 \\\\\n",
       "\t12 & 12 & 13 \\\\\n",
       "\t13 & 13 & 14 \\\\\n",
       "\t14 & 14 & 15 \\\\\n",
       "\t15 & 15 & 16 \\\\\n",
       "\t16 & 16 & 17 \\\\\n",
       "\t17 & 17 & 18 \\\\\n",
       "\t18 & 18 & 19 \\\\\n",
       "\t19 & 19 & 20 \\\\\n",
       "\t20 & 20 & 21 \\\\\n",
       "\t21 & 21 & 22 \\\\\n",
       "\t22 & 22 & 23 \\\\\n",
       "\t23 & 23 & 24 \\\\\n",
       "\t24 & 24 & 25 \\\\\n",
       "\t$\\dots$ & $\\dots$ & $\\dots$ \\\\\n",
       "\\end{tabular}\n"
      ],
      "text/plain": [
       "\u001b[1m40×2 DataFrame\u001b[0m\n",
       "\u001b[1m Row \u001b[0m│\u001b[1m c     \u001b[0m\u001b[1m d     \u001b[0m\n",
       "     │\u001b[90m Int64 \u001b[0m\u001b[90m Int64 \u001b[0m\n",
       "─────┼──────────────\n",
       "   1 │     1      2\n",
       "   2 │     2      3\n",
       "   3 │     3      4\n",
       "   4 │     4      5\n",
       "   5 │     5      6\n",
       "   6 │     6      7\n",
       "   7 │     7      8\n",
       "   8 │     8      9\n",
       "  ⋮  │   ⋮      ⋮\n",
       "  34 │    34     35\n",
       "  35 │    35     36\n",
       "  36 │    36     37\n",
       "  37 │    37     38\n",
       "  38 │    38     39\n",
       "  39 │    39     40\n",
       "  40 │    40     41\n",
       "\u001b[36m     25 rows omitted\u001b[0m"
      ]
     },
     "metadata": {},
     "output_type": "display_data"
    }
   ],
   "source": [
    "df2 = DataFrame(c = 1:40, d = 2:41)"
   ]
  },
  {
   "attachments": {},
   "cell_type": "markdown",
   "metadata": {},
   "source": [
    "Now in order to combine the two dataframes"
   ]
  },
  {
   "cell_type": "code",
   "execution_count": 125,
   "metadata": {},
   "outputs": [
    {
     "data": {
      "text/html": [
       "<div><div style = \"float: left;\"><span>50×4 DataFrame</span></div><div style = \"float: right;\"><span style = \"font-style: italic;\">25 rows omitted</span></div><div style = \"clear: both;\"></div></div><div class = \"data-frame\" style = \"overflow-x: scroll;\"><table class = \"data-frame\" style = \"margin-bottom: 6px;\"><thead><tr class = \"header\"><th class = \"rowNumber\" style = \"font-weight: bold; text-align: right;\">Row</th><th style = \"text-align: left;\">a</th><th style = \"text-align: left;\">b</th><th style = \"text-align: left;\">c</th><th style = \"text-align: left;\">d</th></tr><tr class = \"subheader headerLastRow\"><th class = \"rowNumber\" style = \"font-weight: bold; text-align: right;\"></th><th title = \"Union{Missing, Int64}\" style = \"text-align: left;\">Int64?</th><th title = \"Union{Missing, Int64}\" style = \"text-align: left;\">Int64?</th><th title = \"Union{Missing, Int64}\" style = \"text-align: left;\">Int64?</th><th title = \"Union{Missing, Int64}\" style = \"text-align: left;\">Int64?</th></tr></thead><tbody><tr><td class = \"rowNumber\" style = \"font-weight: bold; text-align: right;\">1</td><td style = \"text-align: right;\">1</td><td style = \"text-align: right;\">11</td><td style = \"font-style: italic; text-align: right;\">missing</td><td style = \"font-style: italic; text-align: right;\">missing</td></tr><tr><td class = \"rowNumber\" style = \"font-weight: bold; text-align: right;\">2</td><td style = \"text-align: right;\">2</td><td style = \"text-align: right;\">12</td><td style = \"font-style: italic; text-align: right;\">missing</td><td style = \"font-style: italic; text-align: right;\">missing</td></tr><tr><td class = \"rowNumber\" style = \"font-weight: bold; text-align: right;\">3</td><td style = \"text-align: right;\">3</td><td style = \"text-align: right;\">13</td><td style = \"font-style: italic; text-align: right;\">missing</td><td style = \"font-style: italic; text-align: right;\">missing</td></tr><tr><td class = \"rowNumber\" style = \"font-weight: bold; text-align: right;\">4</td><td style = \"text-align: right;\">4</td><td style = \"text-align: right;\">14</td><td style = \"font-style: italic; text-align: right;\">missing</td><td style = \"font-style: italic; text-align: right;\">missing</td></tr><tr><td class = \"rowNumber\" style = \"font-weight: bold; text-align: right;\">5</td><td style = \"text-align: right;\">5</td><td style = \"text-align: right;\">15</td><td style = \"font-style: italic; text-align: right;\">missing</td><td style = \"font-style: italic; text-align: right;\">missing</td></tr><tr><td class = \"rowNumber\" style = \"font-weight: bold; text-align: right;\">6</td><td style = \"text-align: right;\">6</td><td style = \"text-align: right;\">16</td><td style = \"font-style: italic; text-align: right;\">missing</td><td style = \"font-style: italic; text-align: right;\">missing</td></tr><tr><td class = \"rowNumber\" style = \"font-weight: bold; text-align: right;\">7</td><td style = \"text-align: right;\">7</td><td style = \"text-align: right;\">17</td><td style = \"font-style: italic; text-align: right;\">missing</td><td style = \"font-style: italic; text-align: right;\">missing</td></tr><tr><td class = \"rowNumber\" style = \"font-weight: bold; text-align: right;\">8</td><td style = \"text-align: right;\">8</td><td style = \"text-align: right;\">18</td><td style = \"font-style: italic; text-align: right;\">missing</td><td style = \"font-style: italic; text-align: right;\">missing</td></tr><tr><td class = \"rowNumber\" style = \"font-weight: bold; text-align: right;\">9</td><td style = \"text-align: right;\">9</td><td style = \"text-align: right;\">19</td><td style = \"font-style: italic; text-align: right;\">missing</td><td style = \"font-style: italic; text-align: right;\">missing</td></tr><tr><td class = \"rowNumber\" style = \"font-weight: bold; text-align: right;\">10</td><td style = \"text-align: right;\">10</td><td style = \"text-align: right;\">20</td><td style = \"font-style: italic; text-align: right;\">missing</td><td style = \"font-style: italic; text-align: right;\">missing</td></tr><tr><td class = \"rowNumber\" style = \"font-weight: bold; text-align: right;\">11</td><td style = \"font-style: italic; text-align: right;\">missing</td><td style = \"font-style: italic; text-align: right;\">missing</td><td style = \"text-align: right;\">1</td><td style = \"text-align: right;\">2</td></tr><tr><td class = \"rowNumber\" style = \"font-weight: bold; text-align: right;\">12</td><td style = \"font-style: italic; text-align: right;\">missing</td><td style = \"font-style: italic; text-align: right;\">missing</td><td style = \"text-align: right;\">2</td><td style = \"text-align: right;\">3</td></tr><tr><td class = \"rowNumber\" style = \"font-weight: bold; text-align: right;\">13</td><td style = \"font-style: italic; text-align: right;\">missing</td><td style = \"font-style: italic; text-align: right;\">missing</td><td style = \"text-align: right;\">3</td><td style = \"text-align: right;\">4</td></tr><tr><td style = \"text-align: right;\">&vellip;</td><td style = \"text-align: right;\">&vellip;</td><td style = \"text-align: right;\">&vellip;</td><td style = \"text-align: right;\">&vellip;</td><td style = \"text-align: right;\">&vellip;</td></tr><tr><td class = \"rowNumber\" style = \"font-weight: bold; text-align: right;\">39</td><td style = \"font-style: italic; text-align: right;\">missing</td><td style = \"font-style: italic; text-align: right;\">missing</td><td style = \"text-align: right;\">29</td><td style = \"text-align: right;\">30</td></tr><tr><td class = \"rowNumber\" style = \"font-weight: bold; text-align: right;\">40</td><td style = \"font-style: italic; text-align: right;\">missing</td><td style = \"font-style: italic; text-align: right;\">missing</td><td style = \"text-align: right;\">30</td><td style = \"text-align: right;\">31</td></tr><tr><td class = \"rowNumber\" style = \"font-weight: bold; text-align: right;\">41</td><td style = \"font-style: italic; text-align: right;\">missing</td><td style = \"font-style: italic; text-align: right;\">missing</td><td style = \"text-align: right;\">31</td><td style = \"text-align: right;\">32</td></tr><tr><td class = \"rowNumber\" style = \"font-weight: bold; text-align: right;\">42</td><td style = \"font-style: italic; text-align: right;\">missing</td><td style = \"font-style: italic; text-align: right;\">missing</td><td style = \"text-align: right;\">32</td><td style = \"text-align: right;\">33</td></tr><tr><td class = \"rowNumber\" style = \"font-weight: bold; text-align: right;\">43</td><td style = \"font-style: italic; text-align: right;\">missing</td><td style = \"font-style: italic; text-align: right;\">missing</td><td style = \"text-align: right;\">33</td><td style = \"text-align: right;\">34</td></tr><tr><td class = \"rowNumber\" style = \"font-weight: bold; text-align: right;\">44</td><td style = \"font-style: italic; text-align: right;\">missing</td><td style = \"font-style: italic; text-align: right;\">missing</td><td style = \"text-align: right;\">34</td><td style = \"text-align: right;\">35</td></tr><tr><td class = \"rowNumber\" style = \"font-weight: bold; text-align: right;\">45</td><td style = \"font-style: italic; text-align: right;\">missing</td><td style = \"font-style: italic; text-align: right;\">missing</td><td style = \"text-align: right;\">35</td><td style = \"text-align: right;\">36</td></tr><tr><td class = \"rowNumber\" style = \"font-weight: bold; text-align: right;\">46</td><td style = \"font-style: italic; text-align: right;\">missing</td><td style = \"font-style: italic; text-align: right;\">missing</td><td style = \"text-align: right;\">36</td><td style = \"text-align: right;\">37</td></tr><tr><td class = \"rowNumber\" style = \"font-weight: bold; text-align: right;\">47</td><td style = \"font-style: italic; text-align: right;\">missing</td><td style = \"font-style: italic; text-align: right;\">missing</td><td style = \"text-align: right;\">37</td><td style = \"text-align: right;\">38</td></tr><tr><td class = \"rowNumber\" style = \"font-weight: bold; text-align: right;\">48</td><td style = \"font-style: italic; text-align: right;\">missing</td><td style = \"font-style: italic; text-align: right;\">missing</td><td style = \"text-align: right;\">38</td><td style = \"text-align: right;\">39</td></tr><tr><td class = \"rowNumber\" style = \"font-weight: bold; text-align: right;\">49</td><td style = \"font-style: italic; text-align: right;\">missing</td><td style = \"font-style: italic; text-align: right;\">missing</td><td style = \"text-align: right;\">39</td><td style = \"text-align: right;\">40</td></tr><tr><td class = \"rowNumber\" style = \"font-weight: bold; text-align: right;\">50</td><td style = \"font-style: italic; text-align: right;\">missing</td><td style = \"font-style: italic; text-align: right;\">missing</td><td style = \"text-align: right;\">40</td><td style = \"text-align: right;\">41</td></tr></tbody></table></div>"
      ],
      "text/latex": [
       "\\begin{tabular}{r|cccc}\n",
       "\t& a & b & c & d\\\\\n",
       "\t\\hline\n",
       "\t& Int64? & Int64? & Int64? & Int64?\\\\\n",
       "\t\\hline\n",
       "\t1 & 1 & 11 & \\emph{missing} & \\emph{missing} \\\\\n",
       "\t2 & 2 & 12 & \\emph{missing} & \\emph{missing} \\\\\n",
       "\t3 & 3 & 13 & \\emph{missing} & \\emph{missing} \\\\\n",
       "\t4 & 4 & 14 & \\emph{missing} & \\emph{missing} \\\\\n",
       "\t5 & 5 & 15 & \\emph{missing} & \\emph{missing} \\\\\n",
       "\t6 & 6 & 16 & \\emph{missing} & \\emph{missing} \\\\\n",
       "\t7 & 7 & 17 & \\emph{missing} & \\emph{missing} \\\\\n",
       "\t8 & 8 & 18 & \\emph{missing} & \\emph{missing} \\\\\n",
       "\t9 & 9 & 19 & \\emph{missing} & \\emph{missing} \\\\\n",
       "\t10 & 10 & 20 & \\emph{missing} & \\emph{missing} \\\\\n",
       "\t11 & \\emph{missing} & \\emph{missing} & 1 & 2 \\\\\n",
       "\t12 & \\emph{missing} & \\emph{missing} & 2 & 3 \\\\\n",
       "\t13 & \\emph{missing} & \\emph{missing} & 3 & 4 \\\\\n",
       "\t14 & \\emph{missing} & \\emph{missing} & 4 & 5 \\\\\n",
       "\t15 & \\emph{missing} & \\emph{missing} & 5 & 6 \\\\\n",
       "\t16 & \\emph{missing} & \\emph{missing} & 6 & 7 \\\\\n",
       "\t17 & \\emph{missing} & \\emph{missing} & 7 & 8 \\\\\n",
       "\t18 & \\emph{missing} & \\emph{missing} & 8 & 9 \\\\\n",
       "\t19 & \\emph{missing} & \\emph{missing} & 9 & 10 \\\\\n",
       "\t20 & \\emph{missing} & \\emph{missing} & 10 & 11 \\\\\n",
       "\t21 & \\emph{missing} & \\emph{missing} & 11 & 12 \\\\\n",
       "\t22 & \\emph{missing} & \\emph{missing} & 12 & 13 \\\\\n",
       "\t23 & \\emph{missing} & \\emph{missing} & 13 & 14 \\\\\n",
       "\t24 & \\emph{missing} & \\emph{missing} & 14 & 15 \\\\\n",
       "\t$\\dots$ & $\\dots$ & $\\dots$ & $\\dots$ & $\\dots$ \\\\\n",
       "\\end{tabular}\n"
      ],
      "text/plain": [
       "\u001b[1m50×4 DataFrame\u001b[0m\n",
       "\u001b[1m Row \u001b[0m│\u001b[1m a       \u001b[0m\u001b[1m b       \u001b[0m\u001b[1m c       \u001b[0m\u001b[1m d       \u001b[0m\n",
       "     │\u001b[90m Int64?  \u001b[0m\u001b[90m Int64?  \u001b[0m\u001b[90m Int64?  \u001b[0m\u001b[90m Int64?  \u001b[0m\n",
       "─────┼────────────────────────────────────\n",
       "   1 │       1       11 \u001b[90m missing \u001b[0m\u001b[90m missing \u001b[0m\n",
       "   2 │       2       12 \u001b[90m missing \u001b[0m\u001b[90m missing \u001b[0m\n",
       "   3 │       3       13 \u001b[90m missing \u001b[0m\u001b[90m missing \u001b[0m\n",
       "   4 │       4       14 \u001b[90m missing \u001b[0m\u001b[90m missing \u001b[0m\n",
       "   5 │       5       15 \u001b[90m missing \u001b[0m\u001b[90m missing \u001b[0m\n",
       "   6 │       6       16 \u001b[90m missing \u001b[0m\u001b[90m missing \u001b[0m\n",
       "   7 │       7       17 \u001b[90m missing \u001b[0m\u001b[90m missing \u001b[0m\n",
       "   8 │       8       18 \u001b[90m missing \u001b[0m\u001b[90m missing \u001b[0m\n",
       "  ⋮  │    ⋮        ⋮        ⋮        ⋮\n",
       "  44 │\u001b[90m missing \u001b[0m\u001b[90m missing \u001b[0m      34       35\n",
       "  45 │\u001b[90m missing \u001b[0m\u001b[90m missing \u001b[0m      35       36\n",
       "  46 │\u001b[90m missing \u001b[0m\u001b[90m missing \u001b[0m      36       37\n",
       "  47 │\u001b[90m missing \u001b[0m\u001b[90m missing \u001b[0m      37       38\n",
       "  48 │\u001b[90m missing \u001b[0m\u001b[90m missing \u001b[0m      38       39\n",
       "  49 │\u001b[90m missing \u001b[0m\u001b[90m missing \u001b[0m      39       40\n",
       "  50 │\u001b[90m missing \u001b[0m\u001b[90m missing \u001b[0m      40       41\n",
       "\u001b[36m                           35 rows omitted\u001b[0m"
      ]
     },
     "metadata": {},
     "output_type": "display_data"
    }
   ],
   "source": [
    "df3 = vcat(df1, df2, cols=:union)"
   ]
  },
  {
   "attachments": {},
   "cell_type": "markdown",
   "metadata": {},
   "source": [
    "To append horizontally (rbind in R):"
   ]
  },
  {
   "cell_type": "code",
   "execution_count": 126,
   "metadata": {},
   "outputs": [
    {
     "data": {
      "text/html": [
       "<div><div style = \"float: left;\"><span>10×2 DataFrame</span></div><div style = \"clear: both;\"></div></div><div class = \"data-frame\" style = \"overflow-x: scroll;\"><table class = \"data-frame\" style = \"margin-bottom: 6px;\"><thead><tr class = \"header\"><th class = \"rowNumber\" style = \"font-weight: bold; text-align: right;\">Row</th><th style = \"text-align: left;\">x</th><th style = \"text-align: left;\">y</th></tr><tr class = \"subheader headerLastRow\"><th class = \"rowNumber\" style = \"font-weight: bold; text-align: right;\"></th><th title = \"Int64\" style = \"text-align: left;\">Int64</th><th title = \"Int64\" style = \"text-align: left;\">Int64</th></tr></thead><tbody><tr><td class = \"rowNumber\" style = \"font-weight: bold; text-align: right;\">1</td><td style = \"text-align: right;\">1</td><td style = \"text-align: right;\">2</td></tr><tr><td class = \"rowNumber\" style = \"font-weight: bold; text-align: right;\">2</td><td style = \"text-align: right;\">2</td><td style = \"text-align: right;\">3</td></tr><tr><td class = \"rowNumber\" style = \"font-weight: bold; text-align: right;\">3</td><td style = \"text-align: right;\">3</td><td style = \"text-align: right;\">4</td></tr><tr><td class = \"rowNumber\" style = \"font-weight: bold; text-align: right;\">4</td><td style = \"text-align: right;\">4</td><td style = \"text-align: right;\">5</td></tr><tr><td class = \"rowNumber\" style = \"font-weight: bold; text-align: right;\">5</td><td style = \"text-align: right;\">5</td><td style = \"text-align: right;\">6</td></tr><tr><td class = \"rowNumber\" style = \"font-weight: bold; text-align: right;\">6</td><td style = \"text-align: right;\">6</td><td style = \"text-align: right;\">7</td></tr><tr><td class = \"rowNumber\" style = \"font-weight: bold; text-align: right;\">7</td><td style = \"text-align: right;\">7</td><td style = \"text-align: right;\">8</td></tr><tr><td class = \"rowNumber\" style = \"font-weight: bold; text-align: right;\">8</td><td style = \"text-align: right;\">8</td><td style = \"text-align: right;\">9</td></tr><tr><td class = \"rowNumber\" style = \"font-weight: bold; text-align: right;\">9</td><td style = \"text-align: right;\">9</td><td style = \"text-align: right;\">10</td></tr><tr><td class = \"rowNumber\" style = \"font-weight: bold; text-align: right;\">10</td><td style = \"text-align: right;\">10</td><td style = \"text-align: right;\">11</td></tr></tbody></table></div>"
      ],
      "text/latex": [
       "\\begin{tabular}{r|cc}\n",
       "\t& x & y\\\\\n",
       "\t\\hline\n",
       "\t& Int64 & Int64\\\\\n",
       "\t\\hline\n",
       "\t1 & 1 & 2 \\\\\n",
       "\t2 & 2 & 3 \\\\\n",
       "\t3 & 3 & 4 \\\\\n",
       "\t4 & 4 & 5 \\\\\n",
       "\t5 & 5 & 6 \\\\\n",
       "\t6 & 6 & 7 \\\\\n",
       "\t7 & 7 & 8 \\\\\n",
       "\t8 & 8 & 9 \\\\\n",
       "\t9 & 9 & 10 \\\\\n",
       "\t10 & 10 & 11 \\\\\n",
       "\\end{tabular}\n"
      ],
      "text/plain": [
       "\u001b[1m10×2 DataFrame\u001b[0m\n",
       "\u001b[1m Row \u001b[0m│\u001b[1m x     \u001b[0m\u001b[1m y     \u001b[0m\n",
       "     │\u001b[90m Int64 \u001b[0m\u001b[90m Int64 \u001b[0m\n",
       "─────┼──────────────\n",
       "   1 │     1      2\n",
       "   2 │     2      3\n",
       "   3 │     3      4\n",
       "   4 │     4      5\n",
       "   5 │     5      6\n",
       "   6 │     6      7\n",
       "   7 │     7      8\n",
       "   8 │     8      9\n",
       "   9 │     9     10\n",
       "  10 │    10     11"
      ]
     },
     "metadata": {},
     "output_type": "display_data"
    }
   ],
   "source": [
    "df1 = DataFrame(x = 1:10, y = 2:11)"
   ]
  },
  {
   "cell_type": "code",
   "execution_count": 127,
   "metadata": {},
   "outputs": [
    {
     "data": {
      "text/html": [
       "<div><div style = \"float: left;\"><span>6×2 DataFrame</span></div><div style = \"clear: both;\"></div></div><div class = \"data-frame\" style = \"overflow-x: scroll;\"><table class = \"data-frame\" style = \"margin-bottom: 6px;\"><thead><tr class = \"header\"><th class = \"rowNumber\" style = \"font-weight: bold; text-align: right;\">Row</th><th style = \"text-align: left;\">x</th><th style = \"text-align: left;\">y</th></tr><tr class = \"subheader headerLastRow\"><th class = \"rowNumber\" style = \"font-weight: bold; text-align: right;\"></th><th title = \"Int64\" style = \"text-align: left;\">Int64</th><th title = \"Int64\" style = \"text-align: left;\">Int64</th></tr></thead><tbody><tr><td class = \"rowNumber\" style = \"font-weight: bold; text-align: right;\">1</td><td style = \"text-align: right;\">5</td><td style = \"text-align: right;\">6</td></tr><tr><td class = \"rowNumber\" style = \"font-weight: bold; text-align: right;\">2</td><td style = \"text-align: right;\">6</td><td style = \"text-align: right;\">7</td></tr><tr><td class = \"rowNumber\" style = \"font-weight: bold; text-align: right;\">3</td><td style = \"text-align: right;\">7</td><td style = \"text-align: right;\">8</td></tr><tr><td class = \"rowNumber\" style = \"font-weight: bold; text-align: right;\">4</td><td style = \"text-align: right;\">8</td><td style = \"text-align: right;\">9</td></tr><tr><td class = \"rowNumber\" style = \"font-weight: bold; text-align: right;\">5</td><td style = \"text-align: right;\">9</td><td style = \"text-align: right;\">10</td></tr><tr><td class = \"rowNumber\" style = \"font-weight: bold; text-align: right;\">6</td><td style = \"text-align: right;\">10</td><td style = \"text-align: right;\">11</td></tr></tbody></table></div>"
      ],
      "text/latex": [
       "\\begin{tabular}{r|cc}\n",
       "\t& x & y\\\\\n",
       "\t\\hline\n",
       "\t& Int64 & Int64\\\\\n",
       "\t\\hline\n",
       "\t1 & 5 & 6 \\\\\n",
       "\t2 & 6 & 7 \\\\\n",
       "\t3 & 7 & 8 \\\\\n",
       "\t4 & 8 & 9 \\\\\n",
       "\t5 & 9 & 10 \\\\\n",
       "\t6 & 10 & 11 \\\\\n",
       "\\end{tabular}\n"
      ],
      "text/plain": [
       "\u001b[1m6×2 DataFrame\u001b[0m\n",
       "\u001b[1m Row \u001b[0m│\u001b[1m x     \u001b[0m\u001b[1m y     \u001b[0m\n",
       "     │\u001b[90m Int64 \u001b[0m\u001b[90m Int64 \u001b[0m\n",
       "─────┼──────────────\n",
       "   1 │     5      6\n",
       "   2 │     6      7\n",
       "   3 │     7      8\n",
       "   4 │     8      9\n",
       "   5 │     9     10\n",
       "   6 │    10     11"
      ]
     },
     "metadata": {},
     "output_type": "display_data"
    }
   ],
   "source": [
    "df2 = DataFrame(x = 5:10, y = 6:11)"
   ]
  },
  {
   "cell_type": "code",
   "execution_count": 128,
   "metadata": {},
   "outputs": [
    {
     "data": {
      "text/html": [
       "<div><div style = \"float: left;\"><span>16×2 DataFrame</span></div><div style = \"clear: both;\"></div></div><div class = \"data-frame\" style = \"overflow-x: scroll;\"><table class = \"data-frame\" style = \"margin-bottom: 6px;\"><thead><tr class = \"header\"><th class = \"rowNumber\" style = \"font-weight: bold; text-align: right;\">Row</th><th style = \"text-align: left;\">x</th><th style = \"text-align: left;\">y</th></tr><tr class = \"subheader headerLastRow\"><th class = \"rowNumber\" style = \"font-weight: bold; text-align: right;\"></th><th title = \"Int64\" style = \"text-align: left;\">Int64</th><th title = \"Int64\" style = \"text-align: left;\">Int64</th></tr></thead><tbody><tr><td class = \"rowNumber\" style = \"font-weight: bold; text-align: right;\">1</td><td style = \"text-align: right;\">1</td><td style = \"text-align: right;\">2</td></tr><tr><td class = \"rowNumber\" style = \"font-weight: bold; text-align: right;\">2</td><td style = \"text-align: right;\">2</td><td style = \"text-align: right;\">3</td></tr><tr><td class = \"rowNumber\" style = \"font-weight: bold; text-align: right;\">3</td><td style = \"text-align: right;\">3</td><td style = \"text-align: right;\">4</td></tr><tr><td class = \"rowNumber\" style = \"font-weight: bold; text-align: right;\">4</td><td style = \"text-align: right;\">4</td><td style = \"text-align: right;\">5</td></tr><tr><td class = \"rowNumber\" style = \"font-weight: bold; text-align: right;\">5</td><td style = \"text-align: right;\">5</td><td style = \"text-align: right;\">6</td></tr><tr><td class = \"rowNumber\" style = \"font-weight: bold; text-align: right;\">6</td><td style = \"text-align: right;\">6</td><td style = \"text-align: right;\">7</td></tr><tr><td class = \"rowNumber\" style = \"font-weight: bold; text-align: right;\">7</td><td style = \"text-align: right;\">7</td><td style = \"text-align: right;\">8</td></tr><tr><td class = \"rowNumber\" style = \"font-weight: bold; text-align: right;\">8</td><td style = \"text-align: right;\">8</td><td style = \"text-align: right;\">9</td></tr><tr><td class = \"rowNumber\" style = \"font-weight: bold; text-align: right;\">9</td><td style = \"text-align: right;\">9</td><td style = \"text-align: right;\">10</td></tr><tr><td class = \"rowNumber\" style = \"font-weight: bold; text-align: right;\">10</td><td style = \"text-align: right;\">10</td><td style = \"text-align: right;\">11</td></tr><tr><td class = \"rowNumber\" style = \"font-weight: bold; text-align: right;\">11</td><td style = \"text-align: right;\">5</td><td style = \"text-align: right;\">6</td></tr><tr><td class = \"rowNumber\" style = \"font-weight: bold; text-align: right;\">12</td><td style = \"text-align: right;\">6</td><td style = \"text-align: right;\">7</td></tr><tr><td class = \"rowNumber\" style = \"font-weight: bold; text-align: right;\">13</td><td style = \"text-align: right;\">7</td><td style = \"text-align: right;\">8</td></tr><tr><td class = \"rowNumber\" style = \"font-weight: bold; text-align: right;\">14</td><td style = \"text-align: right;\">8</td><td style = \"text-align: right;\">9</td></tr><tr><td class = \"rowNumber\" style = \"font-weight: bold; text-align: right;\">15</td><td style = \"text-align: right;\">9</td><td style = \"text-align: right;\">10</td></tr><tr><td class = \"rowNumber\" style = \"font-weight: bold; text-align: right;\">16</td><td style = \"text-align: right;\">10</td><td style = \"text-align: right;\">11</td></tr></tbody></table></div>"
      ],
      "text/latex": [
       "\\begin{tabular}{r|cc}\n",
       "\t& x & y\\\\\n",
       "\t\\hline\n",
       "\t& Int64 & Int64\\\\\n",
       "\t\\hline\n",
       "\t1 & 1 & 2 \\\\\n",
       "\t2 & 2 & 3 \\\\\n",
       "\t3 & 3 & 4 \\\\\n",
       "\t4 & 4 & 5 \\\\\n",
       "\t5 & 5 & 6 \\\\\n",
       "\t6 & 6 & 7 \\\\\n",
       "\t7 & 7 & 8 \\\\\n",
       "\t8 & 8 & 9 \\\\\n",
       "\t9 & 9 & 10 \\\\\n",
       "\t10 & 10 & 11 \\\\\n",
       "\t11 & 5 & 6 \\\\\n",
       "\t12 & 6 & 7 \\\\\n",
       "\t13 & 7 & 8 \\\\\n",
       "\t14 & 8 & 9 \\\\\n",
       "\t15 & 9 & 10 \\\\\n",
       "\t16 & 10 & 11 \\\\\n",
       "\\end{tabular}\n"
      ],
      "text/plain": [
       "\u001b[1m16×2 DataFrame\u001b[0m\n",
       "\u001b[1m Row \u001b[0m│\u001b[1m x     \u001b[0m\u001b[1m y     \u001b[0m\n",
       "     │\u001b[90m Int64 \u001b[0m\u001b[90m Int64 \u001b[0m\n",
       "─────┼──────────────\n",
       "   1 │     1      2\n",
       "   2 │     2      3\n",
       "   3 │     3      4\n",
       "   4 │     4      5\n",
       "   5 │     5      6\n",
       "   6 │     6      7\n",
       "   7 │     7      8\n",
       "   8 │     8      9\n",
       "   9 │     9     10\n",
       "  10 │    10     11\n",
       "  11 │     5      6\n",
       "  12 │     6      7\n",
       "  13 │     7      8\n",
       "  14 │     8      9\n",
       "  15 │     9     10\n",
       "  16 │    10     11"
      ]
     },
     "metadata": {},
     "output_type": "display_data"
    }
   ],
   "source": [
    "df3 = append!(df1, df2)"
   ]
  },
  {
   "attachments": {},
   "cell_type": "markdown",
   "metadata": {},
   "source": [
    "Adding a new row to dataframe with `push`"
   ]
  },
  {
   "cell_type": "code",
   "execution_count": 129,
   "metadata": {},
   "outputs": [
    {
     "data": {
      "text/html": [
       "<div><div style = \"float: left;\"><span>17×2 DataFrame</span></div><div style = \"clear: both;\"></div></div><div class = \"data-frame\" style = \"overflow-x: scroll;\"><table class = \"data-frame\" style = \"margin-bottom: 6px;\"><thead><tr class = \"header\"><th class = \"rowNumber\" style = \"font-weight: bold; text-align: right;\">Row</th><th style = \"text-align: left;\">x</th><th style = \"text-align: left;\">y</th></tr><tr class = \"subheader headerLastRow\"><th class = \"rowNumber\" style = \"font-weight: bold; text-align: right;\"></th><th title = \"Int64\" style = \"text-align: left;\">Int64</th><th title = \"Int64\" style = \"text-align: left;\">Int64</th></tr></thead><tbody><tr><td class = \"rowNumber\" style = \"font-weight: bold; text-align: right;\">1</td><td style = \"text-align: right;\">1</td><td style = \"text-align: right;\">2</td></tr><tr><td class = \"rowNumber\" style = \"font-weight: bold; text-align: right;\">2</td><td style = \"text-align: right;\">2</td><td style = \"text-align: right;\">3</td></tr><tr><td class = \"rowNumber\" style = \"font-weight: bold; text-align: right;\">3</td><td style = \"text-align: right;\">3</td><td style = \"text-align: right;\">4</td></tr><tr><td class = \"rowNumber\" style = \"font-weight: bold; text-align: right;\">4</td><td style = \"text-align: right;\">4</td><td style = \"text-align: right;\">5</td></tr><tr><td class = \"rowNumber\" style = \"font-weight: bold; text-align: right;\">5</td><td style = \"text-align: right;\">5</td><td style = \"text-align: right;\">6</td></tr><tr><td class = \"rowNumber\" style = \"font-weight: bold; text-align: right;\">6</td><td style = \"text-align: right;\">6</td><td style = \"text-align: right;\">7</td></tr><tr><td class = \"rowNumber\" style = \"font-weight: bold; text-align: right;\">7</td><td style = \"text-align: right;\">7</td><td style = \"text-align: right;\">8</td></tr><tr><td class = \"rowNumber\" style = \"font-weight: bold; text-align: right;\">8</td><td style = \"text-align: right;\">8</td><td style = \"text-align: right;\">9</td></tr><tr><td class = \"rowNumber\" style = \"font-weight: bold; text-align: right;\">9</td><td style = \"text-align: right;\">9</td><td style = \"text-align: right;\">10</td></tr><tr><td class = \"rowNumber\" style = \"font-weight: bold; text-align: right;\">10</td><td style = \"text-align: right;\">10</td><td style = \"text-align: right;\">11</td></tr><tr><td class = \"rowNumber\" style = \"font-weight: bold; text-align: right;\">11</td><td style = \"text-align: right;\">5</td><td style = \"text-align: right;\">6</td></tr><tr><td class = \"rowNumber\" style = \"font-weight: bold; text-align: right;\">12</td><td style = \"text-align: right;\">6</td><td style = \"text-align: right;\">7</td></tr><tr><td class = \"rowNumber\" style = \"font-weight: bold; text-align: right;\">13</td><td style = \"text-align: right;\">7</td><td style = \"text-align: right;\">8</td></tr><tr><td class = \"rowNumber\" style = \"font-weight: bold; text-align: right;\">14</td><td style = \"text-align: right;\">8</td><td style = \"text-align: right;\">9</td></tr><tr><td class = \"rowNumber\" style = \"font-weight: bold; text-align: right;\">15</td><td style = \"text-align: right;\">9</td><td style = \"text-align: right;\">10</td></tr><tr><td class = \"rowNumber\" style = \"font-weight: bold; text-align: right;\">16</td><td style = \"text-align: right;\">10</td><td style = \"text-align: right;\">11</td></tr><tr><td class = \"rowNumber\" style = \"font-weight: bold; text-align: right;\">17</td><td style = \"text-align: right;\">100</td><td style = \"text-align: right;\">200</td></tr></tbody></table></div>"
      ],
      "text/latex": [
       "\\begin{tabular}{r|cc}\n",
       "\t& x & y\\\\\n",
       "\t\\hline\n",
       "\t& Int64 & Int64\\\\\n",
       "\t\\hline\n",
       "\t1 & 1 & 2 \\\\\n",
       "\t2 & 2 & 3 \\\\\n",
       "\t3 & 3 & 4 \\\\\n",
       "\t4 & 4 & 5 \\\\\n",
       "\t5 & 5 & 6 \\\\\n",
       "\t6 & 6 & 7 \\\\\n",
       "\t7 & 7 & 8 \\\\\n",
       "\t8 & 8 & 9 \\\\\n",
       "\t9 & 9 & 10 \\\\\n",
       "\t10 & 10 & 11 \\\\\n",
       "\t11 & 5 & 6 \\\\\n",
       "\t12 & 6 & 7 \\\\\n",
       "\t13 & 7 & 8 \\\\\n",
       "\t14 & 8 & 9 \\\\\n",
       "\t15 & 9 & 10 \\\\\n",
       "\t16 & 10 & 11 \\\\\n",
       "\t17 & 100 & 200 \\\\\n",
       "\\end{tabular}\n"
      ],
      "text/plain": [
       "\u001b[1m17×2 DataFrame\u001b[0m\n",
       "\u001b[1m Row \u001b[0m│\u001b[1m x     \u001b[0m\u001b[1m y     \u001b[0m\n",
       "     │\u001b[90m Int64 \u001b[0m\u001b[90m Int64 \u001b[0m\n",
       "─────┼──────────────\n",
       "   1 │     1      2\n",
       "   2 │     2      3\n",
       "   3 │     3      4\n",
       "   4 │     4      5\n",
       "   5 │     5      6\n",
       "   6 │     6      7\n",
       "   7 │     7      8\n",
       "   8 │     8      9\n",
       "   9 │     9     10\n",
       "  10 │    10     11\n",
       "  11 │     5      6\n",
       "  12 │     6      7\n",
       "  13 │     7      8\n",
       "  14 │     8      9\n",
       "  15 │     9     10\n",
       "  16 │    10     11\n",
       "  17 │   100    200"
      ]
     },
     "metadata": {},
     "output_type": "display_data"
    }
   ],
   "source": [
    "push!(df3, (x = 100, y = 200))"
   ]
  },
  {
   "attachments": {},
   "cell_type": "markdown",
   "metadata": {},
   "source": [
    "## Other dataframe transformations"
   ]
  },
  {
   "cell_type": "code",
   "execution_count": 130,
   "metadata": {},
   "outputs": [
    {
     "data": {
      "text/html": [
       "<div><div style = \"float: left;\"><span>6921×18 DataFrame</span></div><div style = \"float: right;\"><span style = \"font-style: italic;\">6896 rows omitted</span></div><div style = \"clear: both;\"></div></div><div class = \"data-frame\" style = \"overflow-x: scroll;\"><table class = \"data-frame\" style = \"margin-bottom: 6px;\"><thead><tr class = \"header\"><th class = \"rowNumber\" style = \"font-weight: bold; text-align: right;\">Row</th><th style = \"text-align: left;\">raw_row_number</th><th style = \"text-align: left;\">date</th><th style = \"text-align: left;\">time</th><th style = \"text-align: left;\">location</th><th style = \"text-align: left;\">lat</th><th style = \"text-align: left;\">lng</th><th style = \"text-align: left;\">sector</th><th style = \"text-align: left;\">subject_age</th><th style = \"text-align: left;\">subject_race</th><th style = \"text-align: left;\">subject_sex</th><th style = \"text-align: left;\">officer_id_hash</th><th style = \"text-align: left;\">type</th><th style = \"text-align: left;\">violation</th><th style = \"text-align: left;\">arrest_made</th><th style = \"text-align: left;\">citation_issued</th><th style = \"text-align: left;\">outcome</th><th style = \"text-align: left;\">vehicle_registration_state</th><th style = \"text-align: left;\">raw_race</th></tr><tr class = \"subheader headerLastRow\"><th class = \"rowNumber\" style = \"font-weight: bold; text-align: right;\"></th><th title = \"Int64\" style = \"text-align: left;\">Int64</th><th title = \"Dates.Date\" style = \"text-align: left;\">Date</th><th title = \"Dates.Time\" style = \"text-align: left;\">Time</th><th title = \"String\" style = \"text-align: left;\">String</th><th title = \"Float64\" style = \"text-align: left;\">Float64</th><th title = \"Union{Missing, Float64}\" style = \"text-align: left;\">Float64?</th><th title = \"Union{Missing, String15}\" style = \"text-align: left;\">String15?</th><th title = \"Union{Missing, Int64}\" style = \"text-align: left;\">Int64?</th><th title = \"Union{Missing, String31}\" style = \"text-align: left;\">String31?</th><th title = \"String7\" style = \"text-align: left;\">String7</th><th title = \"String15\" style = \"text-align: left;\">String15</th><th title = \"Union{Missing, String15}\" style = \"text-align: left;\">String15?</th><th title = \"String\" style = \"text-align: left;\">String</th><th title = \"Bool\" style = \"text-align: left;\">Bool</th><th title = \"Bool\" style = \"text-align: left;\">Bool</th><th title = \"String15\" style = \"text-align: left;\">String15</th><th title = \"Union{Missing, String3}\" style = \"text-align: left;\">String3?</th><th title = \"Union{Missing, String31}\" style = \"text-align: left;\">String31?</th></tr></thead><tbody><tr><td class = \"rowNumber\" style = \"font-weight: bold; text-align: right;\">1</td><td style = \"text-align: right;\">1</td><td style = \"text-align: left;\">2016-08-04</td><td style = \"text-align: left;\">13:52:00</td><td style = \"text-align: left;\">1016 HALL ST, OWENSBORO, KY, 42301</td><td style = \"text-align: right;\">37.7673</td><td style = \"text-align: right;\">-87.0977</td><td style = \"text-align: left;\">BRAVO</td><td style = \"text-align: right;\">30</td><td style = \"text-align: left;\">white</td><td style = \"text-align: left;\">male</td><td style = \"text-align: left;\">0b087b613e</td><td style = \"text-align: left;\">pedestrian</td><td style = \"text-align: left;\">POSS CONT SUB 1ST DEG, 1ST OFF (METHAMPHETAMINE); DRUG PARAPHERLIA - BUY/POSSESS</td><td style = \"text-align: right;\">true</td><td style = \"text-align: right;\">true</td><td style = \"text-align: left;\">arrest</td><td style = \"text-align: left;\">KY</td><td style = \"text-align: left;\">WHITE</td></tr><tr><td class = \"rowNumber\" style = \"font-weight: bold; text-align: right;\">2</td><td style = \"text-align: right;\">2</td><td style = \"text-align: left;\">2016-04-03</td><td style = \"text-align: left;\">01:48:00</td><td style = \"text-align: left;\">W PARRISH AVE/BYPASS, OWENSBORO, KY, 42301</td><td style = \"text-align: right;\">37.7557</td><td style = \"text-align: right;\">-87.1561</td><td style = \"text-align: left;\">WEST</td><td style = \"text-align: right;\">17</td><td style = \"text-align: left;\">white</td><td style = \"text-align: left;\">male</td><td style = \"text-align: left;\">cccb830893</td><td style = \"text-align: left;\">vehicular</td><td style = \"text-align: left;\">FAILURE TO ILLUMITE HEAD LAMPS; NO OPERATORS-MOPED LICENSE; NO REGISTRATION PLATES</td><td style = \"text-align: right;\">false</td><td style = \"text-align: right;\">true</td><td style = \"text-align: left;\">citation</td><td style = \"text-align: left;\">KY</td><td style = \"text-align: left;\">WHITE</td></tr><tr><td class = \"rowNumber\" style = \"font-weight: bold; text-align: right;\">3</td><td style = \"text-align: right;\">3</td><td style = \"text-align: left;\">2015-09-13</td><td style = \"text-align: left;\">04:57:00</td><td style = \"text-align: left;\">2511 HWY 144 ST, OWENSBORO, KY, 42303</td><td style = \"text-align: right;\">37.7777</td><td style = \"text-align: right;\">-87.0871</td><td style = \"text-align: left;\">BRAVO</td><td style = \"text-align: right;\">33</td><td style = \"text-align: left;\">white</td><td style = \"text-align: left;\">male</td><td style = \"text-align: left;\">5ad1b66604</td><td style = \"text-align: left;\">vehicular</td><td style = \"text-align: left;\">NO TAIL LAMPS; OPER MTR VEHICLE U/INFLUENCE ALC/DRUGS/ETC. .08 - 1ST OFF; POSS CONT SUB 1ST DEG, 1ST OFF (METHAMPHETAMINE); FAILURE OF OWNER TO MAINTAIN REQUIRED INS/SEC, 1ST OFF; VIOLATION UNKNOWN</td><td style = \"text-align: right;\">true</td><td style = \"text-align: right;\">true</td><td style = \"text-align: left;\">arrest</td><td style = \"text-align: left;\">KY</td><td style = \"text-align: left;\">WHITE</td></tr><tr><td class = \"rowNumber\" style = \"font-weight: bold; text-align: right;\">4</td><td style = \"text-align: right;\">4</td><td style = \"text-align: left;\">2016-01-05</td><td style = \"text-align: left;\">13:16:00</td><td style = \"text-align: left;\">CARTER RD &amp; BITTEL RD, OWENSBORO, KY, 42301</td><td style = \"text-align: right;\">37.7514</td><td style = \"text-align: right;\">-87.1468</td><td style = \"text-align: left;\">CHARLIE</td><td style = \"text-align: right;\">52</td><td style = \"text-align: left;\">white</td><td style = \"text-align: left;\">female</td><td style = \"text-align: left;\">78fbcbf614</td><td style = \"text-align: left;\">vehicular</td><td style = \"text-align: left;\">OPER MTR VEH U/INFLU ALC/DRUGS/ETC. .08 (AGG CIRCUM), 2ND; DRIVING DUI SUSPENDED LICENSE - 1ST OFF (AGG CIRCUM)</td><td style = \"text-align: right;\">true</td><td style = \"text-align: right;\">true</td><td style = \"text-align: left;\">arrest</td><td style = \"text-align: left;\">KY</td><td style = \"text-align: left;\">WHITE</td></tr><tr><td class = \"rowNumber\" style = \"font-weight: bold; text-align: right;\">5</td><td style = \"text-align: right;\">5</td><td style = \"text-align: left;\">2016-04-06</td><td style = \"text-align: left;\">02:15:00</td><td style = \"text-align: left;\">FREDERICA ST &amp; FAIRFAX DR, OWENSBORO, KY, 42301</td><td style = \"text-align: right;\">37.734</td><td style = \"text-align: right;\">-87.1202</td><td style = \"text-align: left;\">FOX</td><td style = \"text-align: right;\">33</td><td style = \"text-align: left;\">white</td><td style = \"text-align: left;\">male</td><td style = \"text-align: left;\">78fbcbf614</td><td style = \"text-align: left;\">vehicular</td><td style = \"text-align: left;\">OPERATING ON SUS OR REV OPER LICENSE</td><td style = \"text-align: right;\">false</td><td style = \"text-align: right;\">true</td><td style = \"text-align: left;\">citation</td><td style = \"text-align: left;\">KY</td><td style = \"text-align: left;\">WHITE</td></tr><tr><td class = \"rowNumber\" style = \"font-weight: bold; text-align: right;\">6</td><td style = \"text-align: right;\">6</td><td style = \"text-align: left;\">2015-11-05</td><td style = \"text-align: left;\">23:15:00</td><td style = \"text-align: left;\">FREDERICA ST AND WASHINGTON AVE, OWENSBORO, KY, 42303</td><td style = \"text-align: right;\">37.7513</td><td style = \"text-align: right;\">-87.1116</td><td style = \"text-align: left;\">DELTA</td><td style = \"text-align: right;\">32</td><td style = \"text-align: left;\">white</td><td style = \"text-align: left;\">male</td><td style = \"text-align: left;\">60dc0a01bb</td><td style = \"text-align: left;\">vehicular</td><td style = \"text-align: left;\">FAILURE TO WEAR SEAT BELTS</td><td style = \"text-align: right;\">false</td><td style = \"text-align: right;\">true</td><td style = \"text-align: left;\">citation</td><td style = \"text-align: left;\">KY</td><td style = \"text-align: left;\">WHITE</td></tr><tr><td class = \"rowNumber\" style = \"font-weight: bold; text-align: right;\">7</td><td style = \"text-align: right;\">7</td><td style = \"text-align: left;\">2016-02-14</td><td style = \"text-align: left;\">02:40:00</td><td style = \"text-align: left;\">1301 FREDERICA ST, OWENSBORO, KY, 42301</td><td style = \"text-align: right;\">37.7635</td><td style = \"text-align: right;\">-87.1125</td><td style = \"text-align: left;\">DELTA</td><td style = \"text-align: right;\">28</td><td style = \"text-align: left;\">white</td><td style = \"text-align: left;\">male</td><td style = \"text-align: left;\">60dc0a01bb</td><td style = \"text-align: left;\">vehicular</td><td style = \"text-align: left;\">OPER MTR VEHICLE U/INFLUENCE ALC/DRUGS/ETC. .08 - 1ST OFF</td><td style = \"text-align: right;\">true</td><td style = \"text-align: right;\">true</td><td style = \"text-align: left;\">arrest</td><td style = \"text-align: left;\">KY</td><td style = \"text-align: left;\">WHITE</td></tr><tr><td class = \"rowNumber\" style = \"font-weight: bold; text-align: right;\">8</td><td style = \"text-align: right;\">8</td><td style = \"text-align: left;\">2016-02-09</td><td style = \"text-align: left;\">16:59:00</td><td style = \"text-align: left;\">1300 MCFARLAND AVE, OWENSBORO, KY, 42301</td><td style = \"text-align: right;\">37.759</td><td style = \"text-align: right;\">-87.146</td><td style = \"text-align: left;\">CHARLIE</td><td style = \"text-align: right;\">24</td><td style = \"text-align: left;\">white</td><td style = \"text-align: left;\">male</td><td style = \"text-align: left;\">fbd3670efb</td><td style = \"text-align: left;\">vehicular</td><td style = \"text-align: left;\">DISREGARDING TRAFFIC CONT DEV-TRAFFIC LIGHT; LICENSE TO BE IN POSSESSION</td><td style = \"text-align: right;\">false</td><td style = \"text-align: right;\">true</td><td style = \"text-align: left;\">citation</td><td style = \"text-align: left;\">KY</td><td style = \"text-align: left;\">WHITE</td></tr><tr><td class = \"rowNumber\" style = \"font-weight: bold; text-align: right;\">9</td><td style = \"text-align: right;\">9</td><td style = \"text-align: left;\">2016-04-16</td><td style = \"text-align: left;\">23:14:00</td><td style = \"text-align: left;\">700 CRABTREE AVE, OWENSBORO, KY, 42301</td><td style = \"text-align: right;\">37.7677</td><td style = \"text-align: right;\">-87.1342</td><td style = \"text-align: left;\">ALPHA</td><td style = \"text-align: right;\">23</td><td style = \"text-align: left;\">white</td><td style = \"text-align: left;\">female</td><td style = \"text-align: left;\">fbd3670efb</td><td style = \"text-align: left;\">vehicular</td><td style = \"text-align: left;\">OPER MTR VEH U/INFLU ALC/DRUGS/ETC. .08 (AGG CIRCUM), 2ND; DRIVING ON DUI SUSPENDED LICENSE -1ST OFFENSE; POSS OF OPEN ALC BEVERAGE CONT IN MOTOR VEH PROHIBITED; FAILURE OF OWNER TO MAINTAIN REQUIRED INS/SEC, 1ST OFF; FAILURE TO WEAR SEAT BELTS</td><td style = \"text-align: right;\">true</td><td style = \"text-align: right;\">true</td><td style = \"text-align: left;\">arrest</td><td style = \"text-align: left;\">KY</td><td style = \"text-align: left;\">WHITE</td></tr><tr><td class = \"rowNumber\" style = \"font-weight: bold; text-align: right;\">10</td><td style = \"text-align: right;\">10</td><td style = \"text-align: left;\">2016-06-22</td><td style = \"text-align: left;\">01:20:00</td><td style = \"text-align: left;\">700 CRITTENDEN ST, OLATON, KY, 42361</td><td style = \"text-align: right;\">37.7695</td><td style = \"text-align: right;\">-87.1073</td><td style = \"text-align: left;\">BRAVO</td><td style = \"text-align: right;\">36</td><td style = \"text-align: left;\">white</td><td style = \"text-align: left;\">male</td><td style = \"text-align: left;\">fbd3670efb</td><td style = \"text-align: left;\">vehicular</td><td style = \"text-align: left;\">OPER MTR VEHICLE U/INFLUENCE ALC/DRUGS/ETC. .08 - 1ST OFF; OPERATING VEHICLE WITH EXPIRED OPERATORS LICENSE; DRUG PARAPHERLIA - BUY/POSSESS</td><td style = \"text-align: right;\">true</td><td style = \"text-align: right;\">true</td><td style = \"text-align: left;\">arrest</td><td style = \"text-align: left;\">KY</td><td style = \"text-align: left;\">WHITE</td></tr><tr><td class = \"rowNumber\" style = \"font-weight: bold; text-align: right;\">11</td><td style = \"text-align: right;\">11</td><td style = \"text-align: left;\">2016-06-29</td><td style = \"text-align: left;\">19:24:00</td><td style = \"text-align: left;\">1201 HUTCH LN, OWENSBORO, KY, 42301</td><td style = \"text-align: right;\">37.7622</td><td style = \"text-align: right;\">-87.1407</td><td style = \"text-align: left;\">ALPHA</td><td style = \"text-align: right;\">19</td><td style = \"text-align: left;\">white</td><td style = \"text-align: left;\">male</td><td style = \"text-align: left;\">fbd3670efb</td><td style = \"text-align: left;\">vehicular</td><td style = \"text-align: left;\">OPER MTR VEHICLE U/INFLUENCE ALC/DRUGS/ETC. .08 - 1ST OFF; LEAVING SCENE OF ACCIDENT-FAILURE TO RENDER AID OR ASSISTANCE; NO OPERATORS-MOPED LICENSE</td><td style = \"text-align: right;\">true</td><td style = \"text-align: right;\">true</td><td style = \"text-align: left;\">arrest</td><td style = \"text-align: left;\">KY</td><td style = \"text-align: left;\">WHITE</td></tr><tr><td class = \"rowNumber\" style = \"font-weight: bold; text-align: right;\">12</td><td style = \"text-align: right;\">12</td><td style = \"text-align: left;\">2015-11-21</td><td style = \"text-align: left;\">15:58:00</td><td style = \"text-align: left;\">900 BOOTH AVE, OWENSBORO, KY, 42301</td><td style = \"text-align: right;\">37.751</td><td style = \"text-align: right;\">-87.1195</td><td style = \"text-align: left;\">CHARLIE</td><td style = \"text-align: right;\">27</td><td style = \"text-align: left;\">black</td><td style = \"text-align: left;\">male</td><td style = \"text-align: left;\">d8167f8260</td><td style = \"text-align: left;\">vehicular</td><td style = \"text-align: left;\">NO REGISTRATION PLATES; FAILURE TO PRODUCE INSURANCE CARD; NO OPERATORS-MOPED LICENSE</td><td style = \"text-align: right;\">false</td><td style = \"text-align: right;\">true</td><td style = \"text-align: left;\">citation</td><td style = \"text-align: left;\">KY</td><td style = \"text-align: left;\">BLACK</td></tr><tr><td class = \"rowNumber\" style = \"font-weight: bold; text-align: right;\">13</td><td style = \"text-align: right;\">13</td><td style = \"text-align: left;\">2015-10-25</td><td style = \"text-align: left;\">04:20:00</td><td style = \"text-align: left;\">E BYERS AVE / FRIENDSHIP DRIVE, OWENSBORO, KY, 42303</td><td style = \"text-align: right;\">37.7566</td><td style = \"text-align: right;\">-87.0772</td><td style = \"text-align: left;\">DELTA</td><td style = \"text-align: right;\">30</td><td style = \"text-align: left;\">white</td><td style = \"text-align: left;\">male</td><td style = \"text-align: left;\">222e142740</td><td style = \"text-align: left;\">vehicular</td><td style = \"text-align: left;\">OPER MTR VEHICLE U/INFLUENCE ALC/DRUGS/ETC. .08 - 1ST OFF</td><td style = \"text-align: right;\">true</td><td style = \"text-align: right;\">true</td><td style = \"text-align: left;\">arrest</td><td style = \"text-align: left;\">KY</td><td style = \"text-align: left;\">WHITE</td></tr><tr><td style = \"text-align: right;\">&vellip;</td><td style = \"text-align: right;\">&vellip;</td><td style = \"text-align: right;\">&vellip;</td><td style = \"text-align: right;\">&vellip;</td><td style = \"text-align: right;\">&vellip;</td><td style = \"text-align: right;\">&vellip;</td><td style = \"text-align: right;\">&vellip;</td><td style = \"text-align: right;\">&vellip;</td><td style = \"text-align: right;\">&vellip;</td><td style = \"text-align: right;\">&vellip;</td><td style = \"text-align: right;\">&vellip;</td><td style = \"text-align: right;\">&vellip;</td><td style = \"text-align: right;\">&vellip;</td><td style = \"text-align: right;\">&vellip;</td><td style = \"text-align: right;\">&vellip;</td><td style = \"text-align: right;\">&vellip;</td><td style = \"text-align: right;\">&vellip;</td><td style = \"text-align: right;\">&vellip;</td><td style = \"text-align: right;\">&vellip;</td></tr><tr><td class = \"rowNumber\" style = \"font-weight: bold; text-align: right;\">6910</td><td style = \"text-align: right;\">6910</td><td style = \"text-align: left;\">2017-08-24</td><td style = \"text-align: left;\">23:51:00</td><td style = \"text-align: left;\">MCFARLAND AVE AND CARTER RD, OWENSBORO, KY, 42301</td><td style = \"text-align: right;\">37.7593</td><td style = \"text-align: right;\">-87.1462</td><td style = \"text-align: left;\">ALPHA</td><td style = \"text-align: right;\">65</td><td style = \"text-align: left;\">black</td><td style = \"text-align: left;\">male</td><td style = \"text-align: left;\">decf9509bb</td><td style = \"text-align: left;\">vehicular</td><td style = \"text-align: left;\">NO REGISTRATION PLATES; FAILURE TO PRODUCE INSURANCE CARD</td><td style = \"text-align: right;\">false</td><td style = \"text-align: right;\">true</td><td style = \"text-align: left;\">citation</td><td style = \"text-align: left;\">KY</td><td style = \"text-align: left;\">BLACK</td></tr><tr><td class = \"rowNumber\" style = \"font-weight: bold; text-align: right;\">6911</td><td style = \"text-align: right;\">6911</td><td style = \"text-align: left;\">2017-08-25</td><td style = \"text-align: left;\">00:00:00</td><td style = \"text-align: left;\">W 1ST ST / RIVER RD, OWENSBORO, KY, 42301</td><td style = \"text-align: right;\">37.7745</td><td style = \"text-align: right;\">-87.1368</td><td style = \"text-align: left;\">ALPHA</td><td style = \"text-align: right;\">16</td><td style = \"text-align: left;\">white</td><td style = \"text-align: left;\">male</td><td style = \"text-align: left;\">ec464c9b5b</td><td style = \"text-align: left;\">vehicular</td><td style = \"text-align: left;\">FAILURE TO OR IMPROPER SIGL; FAILURE TO PRODUCE INSURANCE CARD; NO OPERATORS-MOPED LICENSE</td><td style = \"text-align: right;\">false</td><td style = \"text-align: right;\">true</td><td style = \"text-align: left;\">citation</td><td style = \"text-align: left;\">KY</td><td style = \"text-align: left;\">WHITE</td></tr><tr><td class = \"rowNumber\" style = \"font-weight: bold; text-align: right;\">6912</td><td style = \"text-align: right;\">6912</td><td style = \"text-align: left;\">2017-08-26</td><td style = \"text-align: left;\">23:37:00</td><td style = \"text-align: left;\">2630 W PARRISH AVE, OWENSBORO, KY, 42301</td><td style = \"text-align: right;\">37.7577</td><td style = \"text-align: right;\">-87.1458</td><td style = \"text-align: left;\">CHARLIE</td><td style = \"text-align: right;\">65</td><td style = \"text-align: left;\">black</td><td style = \"text-align: left;\">male</td><td style = \"text-align: left;\">ec464c9b5b</td><td style = \"text-align: left;\">vehicular</td><td style = \"text-align: left;\">NO TAIL LAMPS; FAILURE TO PRODUCE INSURANCE CARD; NO REGISTRATION PLATES</td><td style = \"text-align: right;\">false</td><td style = \"text-align: right;\">true</td><td style = \"text-align: left;\">citation</td><td style = \"text-align: left;\">KY</td><td style = \"text-align: left;\">BLACK</td></tr><tr><td class = \"rowNumber\" style = \"font-weight: bold; text-align: right;\">6913</td><td style = \"text-align: right;\">6913</td><td style = \"text-align: left;\">2017-08-27</td><td style = \"text-align: left;\">00:39:00</td><td style = \"text-align: left;\">W 12TH ST / MORELAND AVE, OWENSBORO, KY, 42303</td><td style = \"text-align: right;\">37.7641</td><td style = \"text-align: right;\">-87.1222</td><td style = \"text-align: left;\">CHARLIE</td><td style = \"text-align: right;\">44</td><td style = \"text-align: left;\">white</td><td style = \"text-align: left;\">male</td><td style = \"text-align: left;\">ec464c9b5b</td><td style = \"text-align: left;\">vehicular</td><td style = \"text-align: left;\">ONE HEADLIGHT; FAILURE TO PRODUCE INSURANCE CARD; LICENSE TO BE IN POSSESSION; NO REGISTRATION PLATES</td><td style = \"text-align: right;\">false</td><td style = \"text-align: right;\">true</td><td style = \"text-align: left;\">citation</td><td style = \"text-align: left;\">IN</td><td style = \"text-align: left;\">WHITE</td></tr><tr><td class = \"rowNumber\" style = \"font-weight: bold; text-align: right;\">6914</td><td style = \"text-align: right;\">6914</td><td style = \"text-align: left;\">2017-08-27</td><td style = \"text-align: left;\">02:05:00</td><td style = \"text-align: left;\">W 4TH ST / CASTLEN ST, MORGANTOWN, KY, 42261</td><td style = \"text-align: right;\">37.7716</td><td style = \"text-align: right;\">-87.1293</td><td style = \"text-align: left;\">ALPHA</td><td style = \"text-align: right;\">34</td><td style = \"text-align: left;\">white</td><td style = \"text-align: left;\">male</td><td style = \"text-align: left;\">ec464c9b5b</td><td style = \"text-align: left;\">vehicular</td><td style = \"text-align: left;\">ONE HEADLIGHT; NO REGISTRATION RECEIPT; NO OPERATORS-MOPED LICENSE; OPER MTR VEHICLE U/INFLUENCE ALC/DRUGS/ETC. .08 - 1ST OFF</td><td style = \"text-align: right;\">true</td><td style = \"text-align: right;\">true</td><td style = \"text-align: left;\">arrest</td><td style = \"text-align: left;\">KY</td><td style = \"text-align: left;\">WHITE</td></tr><tr><td class = \"rowNumber\" style = \"font-weight: bold; text-align: right;\">6915</td><td style = \"text-align: right;\">6915</td><td style = \"text-align: left;\">2017-08-30</td><td style = \"text-align: left;\">10:50:00</td><td style = \"text-align: left;\">3000 BLOCK BURLEW BLVD, OWENSBORO, KY, 42301</td><td style = \"text-align: right;\">37.7398</td><td style = \"text-align: right;\">-87.0961</td><td style = \"text-align: left;\">FOX</td><td style = \"text-align: right;\">18</td><td style = \"text-align: left;\">white</td><td style = \"text-align: left;\">female</td><td style = \"text-align: left;\">db35a291c6</td><td style = \"text-align: left;\">vehicular</td><td style = \"text-align: left;\">SPEEDING 10 MPH OVER LIMIT</td><td style = \"text-align: right;\">false</td><td style = \"text-align: right;\">true</td><td style = \"text-align: left;\">citation</td><td style = \"text-align: left;\">KY</td><td style = \"text-align: left;\">WHITE</td></tr><tr><td class = \"rowNumber\" style = \"font-weight: bold; text-align: right;\">6916</td><td style = \"text-align: right;\">6916</td><td style = \"text-align: left;\">2017-08-30</td><td style = \"text-align: left;\">10:58:00</td><td style = \"text-align: left;\">3000 BLOCK BURLEW BLVD, PHILPOT, KY, 42366</td><td style = \"text-align: right;\">37.7398</td><td style = \"text-align: right;\">-87.0961</td><td style = \"text-align: left;\">FOX</td><td style = \"text-align: right;\">69</td><td style = \"text-align: left;\">white</td><td style = \"text-align: left;\">male</td><td style = \"text-align: left;\">db35a291c6</td><td style = \"text-align: left;\">vehicular</td><td style = \"text-align: left;\">SPEEDING 08 MPH OVER LIMIT; FAILURE TO OR IMPROPER SIGL</td><td style = \"text-align: right;\">false</td><td style = \"text-align: right;\">true</td><td style = \"text-align: left;\">citation</td><td style = \"text-align: left;\">KY</td><td style = \"text-align: left;\">WHITE</td></tr><tr><td class = \"rowNumber\" style = \"font-weight: bold; text-align: right;\">6917</td><td style = \"text-align: right;\">6917</td><td style = \"text-align: left;\">2017-08-30</td><td style = \"text-align: left;\">11:12:00</td><td style = \"text-align: left;\">3000 BLOCK BURLEW BLVD, OWENSBORO, KY, 42303</td><td style = \"text-align: right;\">37.7398</td><td style = \"text-align: right;\">-87.0961</td><td style = \"text-align: left;\">FOX</td><td style = \"text-align: right;\">21</td><td style = \"text-align: left;\">white</td><td style = \"text-align: left;\">female</td><td style = \"text-align: left;\">db35a291c6</td><td style = \"text-align: left;\">vehicular</td><td style = \"text-align: left;\">SPEEDING 10 MPH OVER LIMIT; FAILURE TO WEAR SEAT BELTS</td><td style = \"text-align: right;\">false</td><td style = \"text-align: right;\">true</td><td style = \"text-align: left;\">citation</td><td style = \"text-align: left;\">KY</td><td style = \"text-align: left;\">WHITE</td></tr><tr><td class = \"rowNumber\" style = \"font-weight: bold; text-align: right;\">6918</td><td style = \"text-align: right;\">6918</td><td style = \"text-align: left;\">2017-08-30</td><td style = \"text-align: left;\">11:23:00</td><td style = \"text-align: left;\">3000 BLOCK BURLEW BLVD, OWENSBORO, KY, 42303</td><td style = \"text-align: right;\">37.7398</td><td style = \"text-align: right;\">-87.0961</td><td style = \"text-align: left;\">FOX</td><td style = \"text-align: right;\">31</td><td style = \"text-align: left;\">white</td><td style = \"text-align: left;\">female</td><td style = \"text-align: left;\">db35a291c6</td><td style = \"text-align: left;\">vehicular</td><td style = \"text-align: left;\">SPEEDING 11 MPH OVER LIMIT; NO REGISTRATION RECEIPT</td><td style = \"text-align: right;\">false</td><td style = \"text-align: right;\">true</td><td style = \"text-align: left;\">citation</td><td style = \"text-align: left;\">KY</td><td style = \"text-align: left;\">WHITE</td></tr><tr><td class = \"rowNumber\" style = \"font-weight: bold; text-align: right;\">6919</td><td style = \"text-align: right;\">6919</td><td style = \"text-align: left;\">2017-08-30</td><td style = \"text-align: left;\">11:44:00</td><td style = \"text-align: left;\">3000 BLOCK BURLEW BLVD, OWENSBORO, KY, 42303</td><td style = \"text-align: right;\">37.7398</td><td style = \"text-align: right;\">-87.0961</td><td style = \"text-align: left;\">FOX</td><td style = \"text-align: right;\">28</td><td style = \"text-align: left;\">white</td><td style = \"text-align: left;\">female</td><td style = \"text-align: left;\">db35a291c6</td><td style = \"text-align: left;\">vehicular</td><td style = \"text-align: left;\">SPEEDING 17 MPH OVER LIMIT; FAILURE TO WEAR SEAT BELTS; LICENSE TO BE IN POSSESSION; FAILURE OF OWNER TO MAINTAIN REQUIRED INS/SEC, 1ST OFF; NO REGISTRATION PLATES; NO REGISTRATION RECEIPT</td><td style = \"text-align: right;\">false</td><td style = \"text-align: right;\">true</td><td style = \"text-align: left;\">citation</td><td style = \"text-align: left;\">KY</td><td style = \"text-align: left;\">WHITE</td></tr><tr><td class = \"rowNumber\" style = \"font-weight: bold; text-align: right;\">6920</td><td style = \"text-align: right;\">6920</td><td style = \"text-align: left;\">2017-08-30</td><td style = \"text-align: left;\">12:06:00</td><td style = \"text-align: left;\">3000 BLOCK BURLEW BLVD, OWENSBORO, KY, 42303</td><td style = \"text-align: right;\">37.7398</td><td style = \"text-align: right;\">-87.0961</td><td style = \"text-align: left;\">FOX</td><td style = \"text-align: right;\">70</td><td style = \"text-align: left;\">white</td><td style = \"text-align: left;\">male</td><td style = \"text-align: left;\">db35a291c6</td><td style = \"text-align: left;\">vehicular</td><td style = \"text-align: left;\">SPEEDING 13 MPH OVER LIMIT</td><td style = \"text-align: right;\">false</td><td style = \"text-align: right;\">true</td><td style = \"text-align: left;\">citation</td><td style = \"text-align: left;\">KY</td><td style = \"text-align: left;\">WHITE</td></tr><tr><td class = \"rowNumber\" style = \"font-weight: bold; text-align: right;\">6921</td><td style = \"text-align: right;\">6921</td><td style = \"text-align: left;\">2017-03-01</td><td style = \"text-align: left;\">17:28:00</td><td style = \"text-align: left;\"></td><td style = \"text-align: right;\">0.0</td><td style = \"text-align: right;\">missing</td><td style = \"text-align: left;\">missing</td><td style = \"text-align: right;\">22</td><td style = \"text-align: left;\">white</td><td style = \"text-align: left;\">male</td><td style = \"text-align: left;\">9555d0ba18</td><td style = \"text-align: left;\">vehicular</td><td style = \"text-align: left;\">FAILURE OF NON-OWNER OPERATOR TO MAINTAIN REQ INS/SEC, 1ST OFF; NO OTHER STATE REGISTRATION RECEIPT</td><td style = \"text-align: right;\">false</td><td style = \"text-align: right;\">true</td><td style = \"text-align: left;\">citation</td><td style = \"text-align: left;\">missing</td><td style = \"text-align: left;\">WHITE</td></tr></tbody></table></div>"
      ],
      "text/latex": [
       "\\begin{tabular}{r|ccccc}\n",
       "\t& raw\\_row\\_number & date & time & location & \\\\\n",
       "\t\\hline\n",
       "\t& Int64 & Date & Time & String & \\\\\n",
       "\t\\hline\n",
       "\t1 & 1 & 2016-08-04 & 13:52:00 & 1016 HALL ST, OWENSBORO, KY, 42301 & $\\dots$ \\\\\n",
       "\t2 & 2 & 2016-04-03 & 01:48:00 & W PARRISH AVE/BYPASS, OWENSBORO, KY, 42301 & $\\dots$ \\\\\n",
       "\t3 & 3 & 2015-09-13 & 04:57:00 & 2511 HWY 144 ST, OWENSBORO, KY, 42303 & $\\dots$ \\\\\n",
       "\t4 & 4 & 2016-01-05 & 13:16:00 & CARTER RD \\& BITTEL RD, OWENSBORO, KY, 42301 & $\\dots$ \\\\\n",
       "\t5 & 5 & 2016-04-06 & 02:15:00 & FREDERICA ST \\& FAIRFAX DR, OWENSBORO, KY, 42301 & $\\dots$ \\\\\n",
       "\t6 & 6 & 2015-11-05 & 23:15:00 & FREDERICA ST AND WASHINGTON AVE, OWENSBORO, KY, 42303 & $\\dots$ \\\\\n",
       "\t7 & 7 & 2016-02-14 & 02:40:00 & 1301 FREDERICA ST, OWENSBORO, KY, 42301 & $\\dots$ \\\\\n",
       "\t8 & 8 & 2016-02-09 & 16:59:00 & 1300 MCFARLAND AVE, OWENSBORO, KY, 42301 & $\\dots$ \\\\\n",
       "\t9 & 9 & 2016-04-16 & 23:14:00 & 700 CRABTREE AVE, OWENSBORO, KY, 42301 & $\\dots$ \\\\\n",
       "\t10 & 10 & 2016-06-22 & 01:20:00 & 700 CRITTENDEN ST, OLATON, KY, 42361 & $\\dots$ \\\\\n",
       "\t11 & 11 & 2016-06-29 & 19:24:00 & 1201 HUTCH LN, OWENSBORO, KY, 42301 & $\\dots$ \\\\\n",
       "\t12 & 12 & 2015-11-21 & 15:58:00 & 900 BOOTH AVE, OWENSBORO, KY, 42301 & $\\dots$ \\\\\n",
       "\t13 & 13 & 2015-10-25 & 04:20:00 & E BYERS AVE / FRIENDSHIP DRIVE, OWENSBORO, KY, 42303 & $\\dots$ \\\\\n",
       "\t14 & 14 & 2015-12-03 & 17:24:00 & 2805 W PARRISH AVE, OWENSBORO, KY, 42301 & $\\dots$ \\\\\n",
       "\t15 & 15 & 2015-12-12 & 12:46:00 & 2245 RAGU DR, OWENSBORO, KY, 42301 & $\\dots$ \\\\\n",
       "\t16 & 16 & 2015-12-15 & 19:24:00 & W 8TH ST \\& MAPLE ST, OWENSBORO, KY, 42301 & $\\dots$ \\\\\n",
       "\t17 & 17 & 2016-01-30 & 16:24:00 & 1670 STARLITE DR, OWENSBORO, KY, 42303 & $\\dots$ \\\\\n",
       "\t18 & 18 & 2016-01-24 & 01:50:00 & 1700 W 4TH ST, OWENSBORO, KY, 42301 & $\\dots$ \\\\\n",
       "\t19 & 19 & 2016-03-21 & 09:05:00 & E 4TH ST  JR MILLER BLV, OWENSBORO, KY, 42301 & $\\dots$ \\\\\n",
       "\t20 & 20 & 2016-05-05 & 12:53:00 & 1800 W 9TH ST, OWENSBORO, KY, 42301 & $\\dots$ \\\\\n",
       "\t21 & 21 & 2015-11-05 & 13:17:00 & W PARRISH AVE/FREDERICA, PHILPOT, KY, 42366 & $\\dots$ \\\\\n",
       "\t22 & 22 & 2016-04-18 & 09:30:00 & 1400 W 9TH ST, OWENSBORO, KY, 42301 & $\\dots$ \\\\\n",
       "\t23 & 23 & 2015-10-22 & 16:36:00 & 510 JED PL, OWENSBORO, KY, 42301 & $\\dots$ \\\\\n",
       "\t24 & 24 & 2016-06-07 & 18:57:00 & J R MILLER BLVD \\& E 9TH STREET, DALLAS, TX, 75211 & $\\dots$ \\\\\n",
       "\t$\\dots$ & $\\dots$ & $\\dots$ & $\\dots$ & $\\dots$ &  \\\\\n",
       "\\end{tabular}\n"
      ],
      "text/plain": [
       "\u001b[1m6921×18 DataFrame\u001b[0m\n",
       "\u001b[1m  Row \u001b[0m│\u001b[1m raw_row_number \u001b[0m\u001b[1m date       \u001b[0m\u001b[1m time     \u001b[0m\u001b[1m location                        \u001b[0m ⋯\n",
       "      │\u001b[90m Int64          \u001b[0m\u001b[90m Date       \u001b[0m\u001b[90m Time     \u001b[0m\u001b[90m String                          \u001b[0m ⋯\n",
       "──────┼─────────────────────────────────────────────────────────────────────────\n",
       "    1 │              1  2016-08-04  13:52:00  1016 HALL ST, OWENSBORO, KY, 423 ⋯\n",
       "    2 │              2  2016-04-03  01:48:00  W PARRISH AVE/BYPASS, OWENSBORO,\n",
       "    3 │              3  2015-09-13  04:57:00  2511 HWY 144 ST, OWENSBORO, KY,\n",
       "    4 │              4  2016-01-05  13:16:00  CARTER RD & BITTEL RD, OWENSBORO\n",
       "    5 │              5  2016-04-06  02:15:00  FREDERICA ST & FAIRFAX DR, OWENS ⋯\n",
       "    6 │              6  2015-11-05  23:15:00  FREDERICA ST AND WASHINGTON AVE,\n",
       "    7 │              7  2016-02-14  02:40:00  1301 FREDERICA ST, OWENSBORO, KY\n",
       "    8 │              8  2016-02-09  16:59:00  1300 MCFARLAND AVE, OWENSBORO, K\n",
       "  ⋮   │       ⋮             ⋮          ⋮                      ⋮                ⋱\n",
       " 6915 │           6915  2017-08-30  10:50:00  3000 BLOCK BURLEW BLVD, OWENSBOR ⋯\n",
       " 6916 │           6916  2017-08-30  10:58:00  3000 BLOCK BURLEW BLVD, PHILPOT,\n",
       " 6917 │           6917  2017-08-30  11:12:00  3000 BLOCK BURLEW BLVD, OWENSBOR\n",
       " 6918 │           6918  2017-08-30  11:23:00  3000 BLOCK BURLEW BLVD, OWENSBOR\n",
       " 6919 │           6919  2017-08-30  11:44:00  3000 BLOCK BURLEW BLVD, OWENSBOR ⋯\n",
       " 6920 │           6920  2017-08-30  12:06:00  3000 BLOCK BURLEW BLVD, OWENSBOR\n",
       " 6921 │           6921  2017-03-01  17:28:00\n",
       "\u001b[36m                                                15 columns and 6906 rows omitted\u001b[0m"
      ]
     },
     "metadata": {},
     "output_type": "display_data"
    }
   ],
   "source": [
    "df = DataFrame(CSV.File(\"ky_owensboro_2020_04_01.csv\", missingstring=\"NA\"))"
   ]
  },
  {
   "cell_type": "code",
   "execution_count": 131,
   "metadata": {},
   "outputs": [
    {
     "data": {
      "text/html": [
       "<div><div style = \"float: left;\"><span>6921×18 DataFrame</span></div><div style = \"float: right;\"><span style = \"font-style: italic;\">6896 rows omitted</span></div><div style = \"clear: both;\"></div></div><div class = \"data-frame\" style = \"overflow-x: scroll;\"><table class = \"data-frame\" style = \"margin-bottom: 6px;\"><thead><tr class = \"header\"><th class = \"rowNumber\" style = \"font-weight: bold; text-align: right;\">Row</th><th style = \"text-align: left;\">raw_row_number</th><th style = \"text-align: left;\">date</th><th style = \"text-align: left;\">time</th><th style = \"text-align: left;\">location</th><th style = \"text-align: left;\">lat</th><th style = \"text-align: left;\">lng</th><th style = \"text-align: left;\">sector</th><th style = \"text-align: left;\">subject_age</th><th style = \"text-align: left;\">subject_race</th><th style = \"text-align: left;\">subject_sex</th><th style = \"text-align: left;\">officer_id_hash</th><th style = \"text-align: left;\">type</th><th style = \"text-align: left;\">violation</th><th style = \"text-align: left;\">arrest_made</th><th style = \"text-align: left;\">citation_issued</th><th style = \"text-align: left;\">outcome</th><th style = \"text-align: left;\">vehicle_registration_state</th><th style = \"text-align: left;\">raw_race</th></tr><tr class = \"subheader headerLastRow\"><th class = \"rowNumber\" style = \"font-weight: bold; text-align: right;\"></th><th title = \"Int64\" style = \"text-align: left;\">Int64</th><th title = \"Dates.Date\" style = \"text-align: left;\">Date</th><th title = \"Dates.Time\" style = \"text-align: left;\">Time</th><th title = \"String\" style = \"text-align: left;\">String</th><th title = \"Float64\" style = \"text-align: left;\">Float64</th><th title = \"Union{Missing, Float64}\" style = \"text-align: left;\">Float64?</th><th title = \"Union{Missing, String15}\" style = \"text-align: left;\">String15?</th><th title = \"Union{Missing, Int64}\" style = \"text-align: left;\">Int64?</th><th title = \"Union{Missing, String31}\" style = \"text-align: left;\">String31?</th><th title = \"String7\" style = \"text-align: left;\">String7</th><th title = \"String15\" style = \"text-align: left;\">String15</th><th title = \"Union{Missing, String15}\" style = \"text-align: left;\">String15?</th><th title = \"String\" style = \"text-align: left;\">String</th><th title = \"Bool\" style = \"text-align: left;\">Bool</th><th title = \"Bool\" style = \"text-align: left;\">Bool</th><th title = \"String15\" style = \"text-align: left;\">String15</th><th title = \"Union{Missing, String3}\" style = \"text-align: left;\">String3?</th><th title = \"Union{Missing, String31}\" style = \"text-align: left;\">String31?</th></tr></thead><tbody><tr><td class = \"rowNumber\" style = \"font-weight: bold; text-align: right;\">1</td><td style = \"text-align: right;\">1</td><td style = \"text-align: left;\">2016-08-04</td><td style = \"text-align: left;\">13:52:00</td><td style = \"text-align: left;\">1016 HALL ST, OWENSBORO, KY, 42301</td><td style = \"text-align: right;\">37.7673</td><td style = \"text-align: right;\">-87.0977</td><td style = \"text-align: left;\">BRAVO</td><td style = \"text-align: right;\">30</td><td style = \"text-align: left;\">white</td><td style = \"text-align: left;\">male</td><td style = \"text-align: left;\">0b087b613e</td><td style = \"text-align: left;\">pedestrian</td><td style = \"text-align: left;\">POSS CONT SUB 1ST DEG, 1ST OFF (METHAMPHETAMINE); DRUG PARAPHERLIA - BUY/POSSESS</td><td style = \"text-align: right;\">true</td><td style = \"text-align: right;\">true</td><td style = \"text-align: left;\">arrest</td><td style = \"text-align: left;\">KY</td><td style = \"text-align: left;\">WHITE</td></tr><tr><td class = \"rowNumber\" style = \"font-weight: bold; text-align: right;\">2</td><td style = \"text-align: right;\">2</td><td style = \"text-align: left;\">2016-04-03</td><td style = \"text-align: left;\">01:48:00</td><td style = \"text-align: left;\">W PARRISH AVE/BYPASS, OWENSBORO, KY, 42301</td><td style = \"text-align: right;\">37.7557</td><td style = \"text-align: right;\">-87.1561</td><td style = \"text-align: left;\">WEST</td><td style = \"text-align: right;\">17</td><td style = \"text-align: left;\">white</td><td style = \"text-align: left;\">male</td><td style = \"text-align: left;\">cccb830893</td><td style = \"text-align: left;\">vehicular</td><td style = \"text-align: left;\">FAILURE TO ILLUMITE HEAD LAMPS; NO OPERATORS-MOPED LICENSE; NO REGISTRATION PLATES</td><td style = \"text-align: right;\">false</td><td style = \"text-align: right;\">true</td><td style = \"text-align: left;\">citation</td><td style = \"text-align: left;\">KY</td><td style = \"text-align: left;\">WHITE</td></tr><tr><td class = \"rowNumber\" style = \"font-weight: bold; text-align: right;\">3</td><td style = \"text-align: right;\">3</td><td style = \"text-align: left;\">2015-09-13</td><td style = \"text-align: left;\">04:57:00</td><td style = \"text-align: left;\">2511 HWY 144 ST, OWENSBORO, KY, 42303</td><td style = \"text-align: right;\">37.7777</td><td style = \"text-align: right;\">-87.0871</td><td style = \"text-align: left;\">BRAVO</td><td style = \"text-align: right;\">33</td><td style = \"text-align: left;\">white</td><td style = \"text-align: left;\">male</td><td style = \"text-align: left;\">5ad1b66604</td><td style = \"text-align: left;\">vehicular</td><td style = \"text-align: left;\">NO TAIL LAMPS; OPER MTR VEHICLE U/INFLUENCE ALC/DRUGS/ETC. .08 - 1ST OFF; POSS CONT SUB 1ST DEG, 1ST OFF (METHAMPHETAMINE); FAILURE OF OWNER TO MAINTAIN REQUIRED INS/SEC, 1ST OFF; VIOLATION UNKNOWN</td><td style = \"text-align: right;\">true</td><td style = \"text-align: right;\">true</td><td style = \"text-align: left;\">arrest</td><td style = \"text-align: left;\">KY</td><td style = \"text-align: left;\">WHITE</td></tr><tr><td class = \"rowNumber\" style = \"font-weight: bold; text-align: right;\">4</td><td style = \"text-align: right;\">4</td><td style = \"text-align: left;\">2016-01-05</td><td style = \"text-align: left;\">13:16:00</td><td style = \"text-align: left;\">CARTER RD &amp; BITTEL RD, OWENSBORO, KY, 42301</td><td style = \"text-align: right;\">37.7514</td><td style = \"text-align: right;\">-87.1468</td><td style = \"text-align: left;\">CHARLIE</td><td style = \"text-align: right;\">52</td><td style = \"text-align: left;\">white</td><td style = \"text-align: left;\">female</td><td style = \"text-align: left;\">78fbcbf614</td><td style = \"text-align: left;\">vehicular</td><td style = \"text-align: left;\">OPER MTR VEH U/INFLU ALC/DRUGS/ETC. .08 (AGG CIRCUM), 2ND; DRIVING DUI SUSPENDED LICENSE - 1ST OFF (AGG CIRCUM)</td><td style = \"text-align: right;\">true</td><td style = \"text-align: right;\">true</td><td style = \"text-align: left;\">arrest</td><td style = \"text-align: left;\">KY</td><td style = \"text-align: left;\">WHITE</td></tr><tr><td class = \"rowNumber\" style = \"font-weight: bold; text-align: right;\">5</td><td style = \"text-align: right;\">5</td><td style = \"text-align: left;\">2016-04-06</td><td style = \"text-align: left;\">02:15:00</td><td style = \"text-align: left;\">FREDERICA ST &amp; FAIRFAX DR, OWENSBORO, KY, 42301</td><td style = \"text-align: right;\">37.734</td><td style = \"text-align: right;\">-87.1202</td><td style = \"text-align: left;\">FOX</td><td style = \"text-align: right;\">33</td><td style = \"text-align: left;\">white</td><td style = \"text-align: left;\">male</td><td style = \"text-align: left;\">78fbcbf614</td><td style = \"text-align: left;\">vehicular</td><td style = \"text-align: left;\">OPERATING ON SUS OR REV OPER LICENSE</td><td style = \"text-align: right;\">false</td><td style = \"text-align: right;\">true</td><td style = \"text-align: left;\">citation</td><td style = \"text-align: left;\">KY</td><td style = \"text-align: left;\">WHITE</td></tr><tr><td class = \"rowNumber\" style = \"font-weight: bold; text-align: right;\">6</td><td style = \"text-align: right;\">6</td><td style = \"text-align: left;\">2015-11-05</td><td style = \"text-align: left;\">23:15:00</td><td style = \"text-align: left;\">FREDERICA ST AND WASHINGTON AVE, OWENSBORO, KY, 42303</td><td style = \"text-align: right;\">37.7513</td><td style = \"text-align: right;\">-87.1116</td><td style = \"text-align: left;\">DELTA</td><td style = \"text-align: right;\">32</td><td style = \"text-align: left;\">white</td><td style = \"text-align: left;\">male</td><td style = \"text-align: left;\">60dc0a01bb</td><td style = \"text-align: left;\">vehicular</td><td style = \"text-align: left;\">FAILURE TO WEAR SEAT BELTS</td><td style = \"text-align: right;\">false</td><td style = \"text-align: right;\">true</td><td style = \"text-align: left;\">citation</td><td style = \"text-align: left;\">KY</td><td style = \"text-align: left;\">WHITE</td></tr><tr><td class = \"rowNumber\" style = \"font-weight: bold; text-align: right;\">7</td><td style = \"text-align: right;\">7</td><td style = \"text-align: left;\">2016-02-14</td><td style = \"text-align: left;\">02:40:00</td><td style = \"text-align: left;\">1301 FREDERICA ST, OWENSBORO, KY, 42301</td><td style = \"text-align: right;\">37.7635</td><td style = \"text-align: right;\">-87.1125</td><td style = \"text-align: left;\">DELTA</td><td style = \"text-align: right;\">28</td><td style = \"text-align: left;\">white</td><td style = \"text-align: left;\">male</td><td style = \"text-align: left;\">60dc0a01bb</td><td style = \"text-align: left;\">vehicular</td><td style = \"text-align: left;\">OPER MTR VEHICLE U/INFLUENCE ALC/DRUGS/ETC. .08 - 1ST OFF</td><td style = \"text-align: right;\">true</td><td style = \"text-align: right;\">true</td><td style = \"text-align: left;\">arrest</td><td style = \"text-align: left;\">KY</td><td style = \"text-align: left;\">WHITE</td></tr><tr><td class = \"rowNumber\" style = \"font-weight: bold; text-align: right;\">8</td><td style = \"text-align: right;\">8</td><td style = \"text-align: left;\">2016-02-09</td><td style = \"text-align: left;\">16:59:00</td><td style = \"text-align: left;\">1300 MCFARLAND AVE, OWENSBORO, KY, 42301</td><td style = \"text-align: right;\">37.759</td><td style = \"text-align: right;\">-87.146</td><td style = \"text-align: left;\">CHARLIE</td><td style = \"text-align: right;\">24</td><td style = \"text-align: left;\">white</td><td style = \"text-align: left;\">male</td><td style = \"text-align: left;\">fbd3670efb</td><td style = \"text-align: left;\">vehicular</td><td style = \"text-align: left;\">DISREGARDING TRAFFIC CONT DEV-TRAFFIC LIGHT; LICENSE TO BE IN POSSESSION</td><td style = \"text-align: right;\">false</td><td style = \"text-align: right;\">true</td><td style = \"text-align: left;\">citation</td><td style = \"text-align: left;\">KY</td><td style = \"text-align: left;\">WHITE</td></tr><tr><td class = \"rowNumber\" style = \"font-weight: bold; text-align: right;\">9</td><td style = \"text-align: right;\">9</td><td style = \"text-align: left;\">2016-04-16</td><td style = \"text-align: left;\">23:14:00</td><td style = \"text-align: left;\">700 CRABTREE AVE, OWENSBORO, KY, 42301</td><td style = \"text-align: right;\">37.7677</td><td style = \"text-align: right;\">-87.1342</td><td style = \"text-align: left;\">ALPHA</td><td style = \"text-align: right;\">23</td><td style = \"text-align: left;\">white</td><td style = \"text-align: left;\">female</td><td style = \"text-align: left;\">fbd3670efb</td><td style = \"text-align: left;\">vehicular</td><td style = \"text-align: left;\">OPER MTR VEH U/INFLU ALC/DRUGS/ETC. .08 (AGG CIRCUM), 2ND; DRIVING ON DUI SUSPENDED LICENSE -1ST OFFENSE; POSS OF OPEN ALC BEVERAGE CONT IN MOTOR VEH PROHIBITED; FAILURE OF OWNER TO MAINTAIN REQUIRED INS/SEC, 1ST OFF; FAILURE TO WEAR SEAT BELTS</td><td style = \"text-align: right;\">true</td><td style = \"text-align: right;\">true</td><td style = \"text-align: left;\">arrest</td><td style = \"text-align: left;\">KY</td><td style = \"text-align: left;\">WHITE</td></tr><tr><td class = \"rowNumber\" style = \"font-weight: bold; text-align: right;\">10</td><td style = \"text-align: right;\">10</td><td style = \"text-align: left;\">2016-06-22</td><td style = \"text-align: left;\">01:20:00</td><td style = \"text-align: left;\">700 CRITTENDEN ST, OLATON, KY, 42361</td><td style = \"text-align: right;\">37.7695</td><td style = \"text-align: right;\">-87.1073</td><td style = \"text-align: left;\">BRAVO</td><td style = \"text-align: right;\">36</td><td style = \"text-align: left;\">white</td><td style = \"text-align: left;\">male</td><td style = \"text-align: left;\">fbd3670efb</td><td style = \"text-align: left;\">vehicular</td><td style = \"text-align: left;\">OPER MTR VEHICLE U/INFLUENCE ALC/DRUGS/ETC. .08 - 1ST OFF; OPERATING VEHICLE WITH EXPIRED OPERATORS LICENSE; DRUG PARAPHERLIA - BUY/POSSESS</td><td style = \"text-align: right;\">true</td><td style = \"text-align: right;\">true</td><td style = \"text-align: left;\">arrest</td><td style = \"text-align: left;\">KY</td><td style = \"text-align: left;\">WHITE</td></tr><tr><td class = \"rowNumber\" style = \"font-weight: bold; text-align: right;\">11</td><td style = \"text-align: right;\">11</td><td style = \"text-align: left;\">2016-06-29</td><td style = \"text-align: left;\">19:24:00</td><td style = \"text-align: left;\">1201 HUTCH LN, OWENSBORO, KY, 42301</td><td style = \"text-align: right;\">37.7622</td><td style = \"text-align: right;\">-87.1407</td><td style = \"text-align: left;\">ALPHA</td><td style = \"text-align: right;\">19</td><td style = \"text-align: left;\">white</td><td style = \"text-align: left;\">male</td><td style = \"text-align: left;\">fbd3670efb</td><td style = \"text-align: left;\">vehicular</td><td style = \"text-align: left;\">OPER MTR VEHICLE U/INFLUENCE ALC/DRUGS/ETC. .08 - 1ST OFF; LEAVING SCENE OF ACCIDENT-FAILURE TO RENDER AID OR ASSISTANCE; NO OPERATORS-MOPED LICENSE</td><td style = \"text-align: right;\">true</td><td style = \"text-align: right;\">true</td><td style = \"text-align: left;\">arrest</td><td style = \"text-align: left;\">KY</td><td style = \"text-align: left;\">WHITE</td></tr><tr><td class = \"rowNumber\" style = \"font-weight: bold; text-align: right;\">12</td><td style = \"text-align: right;\">12</td><td style = \"text-align: left;\">2015-11-21</td><td style = \"text-align: left;\">15:58:00</td><td style = \"text-align: left;\">900 BOOTH AVE, OWENSBORO, KY, 42301</td><td style = \"text-align: right;\">37.751</td><td style = \"text-align: right;\">-87.1195</td><td style = \"text-align: left;\">CHARLIE</td><td style = \"text-align: right;\">27</td><td style = \"text-align: left;\">black</td><td style = \"text-align: left;\">male</td><td style = \"text-align: left;\">d8167f8260</td><td style = \"text-align: left;\">vehicular</td><td style = \"text-align: left;\">NO REGISTRATION PLATES; FAILURE TO PRODUCE INSURANCE CARD; NO OPERATORS-MOPED LICENSE</td><td style = \"text-align: right;\">false</td><td style = \"text-align: right;\">true</td><td style = \"text-align: left;\">citation</td><td style = \"text-align: left;\">KY</td><td style = \"text-align: left;\">BLACK</td></tr><tr><td class = \"rowNumber\" style = \"font-weight: bold; text-align: right;\">13</td><td style = \"text-align: right;\">13</td><td style = \"text-align: left;\">2015-10-25</td><td style = \"text-align: left;\">04:20:00</td><td style = \"text-align: left;\">E BYERS AVE / FRIENDSHIP DRIVE, OWENSBORO, KY, 42303</td><td style = \"text-align: right;\">37.7566</td><td style = \"text-align: right;\">-87.0772</td><td style = \"text-align: left;\">DELTA</td><td style = \"text-align: right;\">30</td><td style = \"text-align: left;\">white</td><td style = \"text-align: left;\">male</td><td style = \"text-align: left;\">222e142740</td><td style = \"text-align: left;\">vehicular</td><td style = \"text-align: left;\">OPER MTR VEHICLE U/INFLUENCE ALC/DRUGS/ETC. .08 - 1ST OFF</td><td style = \"text-align: right;\">true</td><td style = \"text-align: right;\">true</td><td style = \"text-align: left;\">arrest</td><td style = \"text-align: left;\">KY</td><td style = \"text-align: left;\">WHITE</td></tr><tr><td style = \"text-align: right;\">&vellip;</td><td style = \"text-align: right;\">&vellip;</td><td style = \"text-align: right;\">&vellip;</td><td style = \"text-align: right;\">&vellip;</td><td style = \"text-align: right;\">&vellip;</td><td style = \"text-align: right;\">&vellip;</td><td style = \"text-align: right;\">&vellip;</td><td style = \"text-align: right;\">&vellip;</td><td style = \"text-align: right;\">&vellip;</td><td style = \"text-align: right;\">&vellip;</td><td style = \"text-align: right;\">&vellip;</td><td style = \"text-align: right;\">&vellip;</td><td style = \"text-align: right;\">&vellip;</td><td style = \"text-align: right;\">&vellip;</td><td style = \"text-align: right;\">&vellip;</td><td style = \"text-align: right;\">&vellip;</td><td style = \"text-align: right;\">&vellip;</td><td style = \"text-align: right;\">&vellip;</td><td style = \"text-align: right;\">&vellip;</td></tr><tr><td class = \"rowNumber\" style = \"font-weight: bold; text-align: right;\">6910</td><td style = \"text-align: right;\">6910</td><td style = \"text-align: left;\">2017-08-24</td><td style = \"text-align: left;\">23:51:00</td><td style = \"text-align: left;\">MCFARLAND AVE AND CARTER RD, OWENSBORO, KY, 42301</td><td style = \"text-align: right;\">37.7593</td><td style = \"text-align: right;\">-87.1462</td><td style = \"text-align: left;\">ALPHA</td><td style = \"text-align: right;\">65</td><td style = \"text-align: left;\">black</td><td style = \"text-align: left;\">male</td><td style = \"text-align: left;\">decf9509bb</td><td style = \"text-align: left;\">vehicular</td><td style = \"text-align: left;\">NO REGISTRATION PLATES; FAILURE TO PRODUCE INSURANCE CARD</td><td style = \"text-align: right;\">false</td><td style = \"text-align: right;\">true</td><td style = \"text-align: left;\">citation</td><td style = \"text-align: left;\">KY</td><td style = \"text-align: left;\">BLACK</td></tr><tr><td class = \"rowNumber\" style = \"font-weight: bold; text-align: right;\">6911</td><td style = \"text-align: right;\">6911</td><td style = \"text-align: left;\">2017-08-25</td><td style = \"text-align: left;\">00:00:00</td><td style = \"text-align: left;\">W 1ST ST / RIVER RD, OWENSBORO, KY, 42301</td><td style = \"text-align: right;\">37.7745</td><td style = \"text-align: right;\">-87.1368</td><td style = \"text-align: left;\">ALPHA</td><td style = \"text-align: right;\">16</td><td style = \"text-align: left;\">white</td><td style = \"text-align: left;\">male</td><td style = \"text-align: left;\">ec464c9b5b</td><td style = \"text-align: left;\">vehicular</td><td style = \"text-align: left;\">FAILURE TO OR IMPROPER SIGL; FAILURE TO PRODUCE INSURANCE CARD; NO OPERATORS-MOPED LICENSE</td><td style = \"text-align: right;\">false</td><td style = \"text-align: right;\">true</td><td style = \"text-align: left;\">citation</td><td style = \"text-align: left;\">KY</td><td style = \"text-align: left;\">WHITE</td></tr><tr><td class = \"rowNumber\" style = \"font-weight: bold; text-align: right;\">6912</td><td style = \"text-align: right;\">6912</td><td style = \"text-align: left;\">2017-08-26</td><td style = \"text-align: left;\">23:37:00</td><td style = \"text-align: left;\">2630 W PARRISH AVE, OWENSBORO, KY, 42301</td><td style = \"text-align: right;\">37.7577</td><td style = \"text-align: right;\">-87.1458</td><td style = \"text-align: left;\">CHARLIE</td><td style = \"text-align: right;\">65</td><td style = \"text-align: left;\">black</td><td style = \"text-align: left;\">male</td><td style = \"text-align: left;\">ec464c9b5b</td><td style = \"text-align: left;\">vehicular</td><td style = \"text-align: left;\">NO TAIL LAMPS; FAILURE TO PRODUCE INSURANCE CARD; NO REGISTRATION PLATES</td><td style = \"text-align: right;\">false</td><td style = \"text-align: right;\">true</td><td style = \"text-align: left;\">citation</td><td style = \"text-align: left;\">KY</td><td style = \"text-align: left;\">BLACK</td></tr><tr><td class = \"rowNumber\" style = \"font-weight: bold; text-align: right;\">6913</td><td style = \"text-align: right;\">6913</td><td style = \"text-align: left;\">2017-08-27</td><td style = \"text-align: left;\">00:39:00</td><td style = \"text-align: left;\">W 12TH ST / MORELAND AVE, OWENSBORO, KY, 42303</td><td style = \"text-align: right;\">37.7641</td><td style = \"text-align: right;\">-87.1222</td><td style = \"text-align: left;\">CHARLIE</td><td style = \"text-align: right;\">44</td><td style = \"text-align: left;\">white</td><td style = \"text-align: left;\">male</td><td style = \"text-align: left;\">ec464c9b5b</td><td style = \"text-align: left;\">vehicular</td><td style = \"text-align: left;\">ONE HEADLIGHT; FAILURE TO PRODUCE INSURANCE CARD; LICENSE TO BE IN POSSESSION; NO REGISTRATION PLATES</td><td style = \"text-align: right;\">false</td><td style = \"text-align: right;\">true</td><td style = \"text-align: left;\">citation</td><td style = \"text-align: left;\">IN</td><td style = \"text-align: left;\">WHITE</td></tr><tr><td class = \"rowNumber\" style = \"font-weight: bold; text-align: right;\">6914</td><td style = \"text-align: right;\">6914</td><td style = \"text-align: left;\">2017-08-27</td><td style = \"text-align: left;\">02:05:00</td><td style = \"text-align: left;\">W 4TH ST / CASTLEN ST, MORGANTOWN, KY, 42261</td><td style = \"text-align: right;\">37.7716</td><td style = \"text-align: right;\">-87.1293</td><td style = \"text-align: left;\">ALPHA</td><td style = \"text-align: right;\">34</td><td style = \"text-align: left;\">white</td><td style = \"text-align: left;\">male</td><td style = \"text-align: left;\">ec464c9b5b</td><td style = \"text-align: left;\">vehicular</td><td style = \"text-align: left;\">ONE HEADLIGHT; NO REGISTRATION RECEIPT; NO OPERATORS-MOPED LICENSE; OPER MTR VEHICLE U/INFLUENCE ALC/DRUGS/ETC. .08 - 1ST OFF</td><td style = \"text-align: right;\">true</td><td style = \"text-align: right;\">true</td><td style = \"text-align: left;\">arrest</td><td style = \"text-align: left;\">KY</td><td style = \"text-align: left;\">WHITE</td></tr><tr><td class = \"rowNumber\" style = \"font-weight: bold; text-align: right;\">6915</td><td style = \"text-align: right;\">6915</td><td style = \"text-align: left;\">2017-08-30</td><td style = \"text-align: left;\">10:50:00</td><td style = \"text-align: left;\">3000 BLOCK BURLEW BLVD, OWENSBORO, KY, 42301</td><td style = \"text-align: right;\">37.7398</td><td style = \"text-align: right;\">-87.0961</td><td style = \"text-align: left;\">FOX</td><td style = \"text-align: right;\">18</td><td style = \"text-align: left;\">white</td><td style = \"text-align: left;\">female</td><td style = \"text-align: left;\">db35a291c6</td><td style = \"text-align: left;\">vehicular</td><td style = \"text-align: left;\">SPEEDING 10 MPH OVER LIMIT</td><td style = \"text-align: right;\">false</td><td style = \"text-align: right;\">true</td><td style = \"text-align: left;\">citation</td><td style = \"text-align: left;\">KY</td><td style = \"text-align: left;\">WHITE</td></tr><tr><td class = \"rowNumber\" style = \"font-weight: bold; text-align: right;\">6916</td><td style = \"text-align: right;\">6916</td><td style = \"text-align: left;\">2017-08-30</td><td style = \"text-align: left;\">10:58:00</td><td style = \"text-align: left;\">3000 BLOCK BURLEW BLVD, PHILPOT, KY, 42366</td><td style = \"text-align: right;\">37.7398</td><td style = \"text-align: right;\">-87.0961</td><td style = \"text-align: left;\">FOX</td><td style = \"text-align: right;\">69</td><td style = \"text-align: left;\">white</td><td style = \"text-align: left;\">male</td><td style = \"text-align: left;\">db35a291c6</td><td style = \"text-align: left;\">vehicular</td><td style = \"text-align: left;\">SPEEDING 08 MPH OVER LIMIT; FAILURE TO OR IMPROPER SIGL</td><td style = \"text-align: right;\">false</td><td style = \"text-align: right;\">true</td><td style = \"text-align: left;\">citation</td><td style = \"text-align: left;\">KY</td><td style = \"text-align: left;\">WHITE</td></tr><tr><td class = \"rowNumber\" style = \"font-weight: bold; text-align: right;\">6917</td><td style = \"text-align: right;\">6917</td><td style = \"text-align: left;\">2017-08-30</td><td style = \"text-align: left;\">11:12:00</td><td style = \"text-align: left;\">3000 BLOCK BURLEW BLVD, OWENSBORO, KY, 42303</td><td style = \"text-align: right;\">37.7398</td><td style = \"text-align: right;\">-87.0961</td><td style = \"text-align: left;\">FOX</td><td style = \"text-align: right;\">21</td><td style = \"text-align: left;\">white</td><td style = \"text-align: left;\">female</td><td style = \"text-align: left;\">db35a291c6</td><td style = \"text-align: left;\">vehicular</td><td style = \"text-align: left;\">SPEEDING 10 MPH OVER LIMIT; FAILURE TO WEAR SEAT BELTS</td><td style = \"text-align: right;\">false</td><td style = \"text-align: right;\">true</td><td style = \"text-align: left;\">citation</td><td style = \"text-align: left;\">KY</td><td style = \"text-align: left;\">WHITE</td></tr><tr><td class = \"rowNumber\" style = \"font-weight: bold; text-align: right;\">6918</td><td style = \"text-align: right;\">6918</td><td style = \"text-align: left;\">2017-08-30</td><td style = \"text-align: left;\">11:23:00</td><td style = \"text-align: left;\">3000 BLOCK BURLEW BLVD, OWENSBORO, KY, 42303</td><td style = \"text-align: right;\">37.7398</td><td style = \"text-align: right;\">-87.0961</td><td style = \"text-align: left;\">FOX</td><td style = \"text-align: right;\">31</td><td style = \"text-align: left;\">white</td><td style = \"text-align: left;\">female</td><td style = \"text-align: left;\">db35a291c6</td><td style = \"text-align: left;\">vehicular</td><td style = \"text-align: left;\">SPEEDING 11 MPH OVER LIMIT; NO REGISTRATION RECEIPT</td><td style = \"text-align: right;\">false</td><td style = \"text-align: right;\">true</td><td style = \"text-align: left;\">citation</td><td style = \"text-align: left;\">KY</td><td style = \"text-align: left;\">WHITE</td></tr><tr><td class = \"rowNumber\" style = \"font-weight: bold; text-align: right;\">6919</td><td style = \"text-align: right;\">6919</td><td style = \"text-align: left;\">2017-08-30</td><td style = \"text-align: left;\">11:44:00</td><td style = \"text-align: left;\">3000 BLOCK BURLEW BLVD, OWENSBORO, KY, 42303</td><td style = \"text-align: right;\">37.7398</td><td style = \"text-align: right;\">-87.0961</td><td style = \"text-align: left;\">FOX</td><td style = \"text-align: right;\">28</td><td style = \"text-align: left;\">white</td><td style = \"text-align: left;\">female</td><td style = \"text-align: left;\">db35a291c6</td><td style = \"text-align: left;\">vehicular</td><td style = \"text-align: left;\">SPEEDING 17 MPH OVER LIMIT; FAILURE TO WEAR SEAT BELTS; LICENSE TO BE IN POSSESSION; FAILURE OF OWNER TO MAINTAIN REQUIRED INS/SEC, 1ST OFF; NO REGISTRATION PLATES; NO REGISTRATION RECEIPT</td><td style = \"text-align: right;\">false</td><td style = \"text-align: right;\">true</td><td style = \"text-align: left;\">citation</td><td style = \"text-align: left;\">KY</td><td style = \"text-align: left;\">WHITE</td></tr><tr><td class = \"rowNumber\" style = \"font-weight: bold; text-align: right;\">6920</td><td style = \"text-align: right;\">6920</td><td style = \"text-align: left;\">2017-08-30</td><td style = \"text-align: left;\">12:06:00</td><td style = \"text-align: left;\">3000 BLOCK BURLEW BLVD, OWENSBORO, KY, 42303</td><td style = \"text-align: right;\">37.7398</td><td style = \"text-align: right;\">-87.0961</td><td style = \"text-align: left;\">FOX</td><td style = \"text-align: right;\">70</td><td style = \"text-align: left;\">white</td><td style = \"text-align: left;\">male</td><td style = \"text-align: left;\">db35a291c6</td><td style = \"text-align: left;\">vehicular</td><td style = \"text-align: left;\">SPEEDING 13 MPH OVER LIMIT</td><td style = \"text-align: right;\">false</td><td style = \"text-align: right;\">true</td><td style = \"text-align: left;\">citation</td><td style = \"text-align: left;\">KY</td><td style = \"text-align: left;\">WHITE</td></tr><tr><td class = \"rowNumber\" style = \"font-weight: bold; text-align: right;\">6921</td><td style = \"text-align: right;\">6921</td><td style = \"text-align: left;\">2017-03-01</td><td style = \"text-align: left;\">17:28:00</td><td style = \"text-align: left;\"></td><td style = \"text-align: right;\">0.0</td><td style = \"text-align: right;\">missing</td><td style = \"text-align: left;\">missing</td><td style = \"text-align: right;\">22</td><td style = \"text-align: left;\">white</td><td style = \"text-align: left;\">male</td><td style = \"text-align: left;\">9555d0ba18</td><td style = \"text-align: left;\">vehicular</td><td style = \"text-align: left;\">FAILURE OF NON-OWNER OPERATOR TO MAINTAIN REQ INS/SEC, 1ST OFF; NO OTHER STATE REGISTRATION RECEIPT</td><td style = \"text-align: right;\">false</td><td style = \"text-align: right;\">true</td><td style = \"text-align: left;\">citation</td><td style = \"text-align: left;\">missing</td><td style = \"text-align: left;\">WHITE</td></tr></tbody></table></div>"
      ],
      "text/latex": [
       "\\begin{tabular}{r|ccccc}\n",
       "\t& raw\\_row\\_number & date & time & location & \\\\\n",
       "\t\\hline\n",
       "\t& Int64 & Date & Time & String & \\\\\n",
       "\t\\hline\n",
       "\t1 & 1 & 2016-08-04 & 13:52:00 & 1016 HALL ST, OWENSBORO, KY, 42301 & $\\dots$ \\\\\n",
       "\t2 & 2 & 2016-04-03 & 01:48:00 & W PARRISH AVE/BYPASS, OWENSBORO, KY, 42301 & $\\dots$ \\\\\n",
       "\t3 & 3 & 2015-09-13 & 04:57:00 & 2511 HWY 144 ST, OWENSBORO, KY, 42303 & $\\dots$ \\\\\n",
       "\t4 & 4 & 2016-01-05 & 13:16:00 & CARTER RD \\& BITTEL RD, OWENSBORO, KY, 42301 & $\\dots$ \\\\\n",
       "\t5 & 5 & 2016-04-06 & 02:15:00 & FREDERICA ST \\& FAIRFAX DR, OWENSBORO, KY, 42301 & $\\dots$ \\\\\n",
       "\t6 & 6 & 2015-11-05 & 23:15:00 & FREDERICA ST AND WASHINGTON AVE, OWENSBORO, KY, 42303 & $\\dots$ \\\\\n",
       "\t7 & 7 & 2016-02-14 & 02:40:00 & 1301 FREDERICA ST, OWENSBORO, KY, 42301 & $\\dots$ \\\\\n",
       "\t8 & 8 & 2016-02-09 & 16:59:00 & 1300 MCFARLAND AVE, OWENSBORO, KY, 42301 & $\\dots$ \\\\\n",
       "\t9 & 9 & 2016-04-16 & 23:14:00 & 700 CRABTREE AVE, OWENSBORO, KY, 42301 & $\\dots$ \\\\\n",
       "\t10 & 10 & 2016-06-22 & 01:20:00 & 700 CRITTENDEN ST, OLATON, KY, 42361 & $\\dots$ \\\\\n",
       "\t11 & 11 & 2016-06-29 & 19:24:00 & 1201 HUTCH LN, OWENSBORO, KY, 42301 & $\\dots$ \\\\\n",
       "\t12 & 12 & 2015-11-21 & 15:58:00 & 900 BOOTH AVE, OWENSBORO, KY, 42301 & $\\dots$ \\\\\n",
       "\t13 & 13 & 2015-10-25 & 04:20:00 & E BYERS AVE / FRIENDSHIP DRIVE, OWENSBORO, KY, 42303 & $\\dots$ \\\\\n",
       "\t14 & 14 & 2015-12-03 & 17:24:00 & 2805 W PARRISH AVE, OWENSBORO, KY, 42301 & $\\dots$ \\\\\n",
       "\t15 & 15 & 2015-12-12 & 12:46:00 & 2245 RAGU DR, OWENSBORO, KY, 42301 & $\\dots$ \\\\\n",
       "\t16 & 16 & 2015-12-15 & 19:24:00 & W 8TH ST \\& MAPLE ST, OWENSBORO, KY, 42301 & $\\dots$ \\\\\n",
       "\t17 & 17 & 2016-01-30 & 16:24:00 & 1670 STARLITE DR, OWENSBORO, KY, 42303 & $\\dots$ \\\\\n",
       "\t18 & 18 & 2016-01-24 & 01:50:00 & 1700 W 4TH ST, OWENSBORO, KY, 42301 & $\\dots$ \\\\\n",
       "\t19 & 19 & 2016-03-21 & 09:05:00 & E 4TH ST  JR MILLER BLV, OWENSBORO, KY, 42301 & $\\dots$ \\\\\n",
       "\t20 & 20 & 2016-05-05 & 12:53:00 & 1800 W 9TH ST, OWENSBORO, KY, 42301 & $\\dots$ \\\\\n",
       "\t21 & 21 & 2015-11-05 & 13:17:00 & W PARRISH AVE/FREDERICA, PHILPOT, KY, 42366 & $\\dots$ \\\\\n",
       "\t22 & 22 & 2016-04-18 & 09:30:00 & 1400 W 9TH ST, OWENSBORO, KY, 42301 & $\\dots$ \\\\\n",
       "\t23 & 23 & 2015-10-22 & 16:36:00 & 510 JED PL, OWENSBORO, KY, 42301 & $\\dots$ \\\\\n",
       "\t24 & 24 & 2016-06-07 & 18:57:00 & J R MILLER BLVD \\& E 9TH STREET, DALLAS, TX, 75211 & $\\dots$ \\\\\n",
       "\t$\\dots$ & $\\dots$ & $\\dots$ & $\\dots$ & $\\dots$ &  \\\\\n",
       "\\end{tabular}\n"
      ],
      "text/plain": [
       "\u001b[1m6921×18 DataFrame\u001b[0m\n",
       "\u001b[1m  Row \u001b[0m│\u001b[1m raw_row_number \u001b[0m\u001b[1m date       \u001b[0m\u001b[1m time     \u001b[0m\u001b[1m location                        \u001b[0m ⋯\n",
       "      │\u001b[90m Int64          \u001b[0m\u001b[90m Date       \u001b[0m\u001b[90m Time     \u001b[0m\u001b[90m String                          \u001b[0m ⋯\n",
       "──────┼─────────────────────────────────────────────────────────────────────────\n",
       "    1 │              1  2016-08-04  13:52:00  1016 HALL ST, OWENSBORO, KY, 423 ⋯\n",
       "    2 │              2  2016-04-03  01:48:00  W PARRISH AVE/BYPASS, OWENSBORO,\n",
       "    3 │              3  2015-09-13  04:57:00  2511 HWY 144 ST, OWENSBORO, KY,\n",
       "    4 │              4  2016-01-05  13:16:00  CARTER RD & BITTEL RD, OWENSBORO\n",
       "    5 │              5  2016-04-06  02:15:00  FREDERICA ST & FAIRFAX DR, OWENS ⋯\n",
       "    6 │              6  2015-11-05  23:15:00  FREDERICA ST AND WASHINGTON AVE,\n",
       "    7 │              7  2016-02-14  02:40:00  1301 FREDERICA ST, OWENSBORO, KY\n",
       "    8 │              8  2016-02-09  16:59:00  1300 MCFARLAND AVE, OWENSBORO, K\n",
       "  ⋮   │       ⋮             ⋮          ⋮                      ⋮                ⋱\n",
       " 6915 │           6915  2017-08-30  10:50:00  3000 BLOCK BURLEW BLVD, OWENSBOR ⋯\n",
       " 6916 │           6916  2017-08-30  10:58:00  3000 BLOCK BURLEW BLVD, PHILPOT,\n",
       " 6917 │           6917  2017-08-30  11:12:00  3000 BLOCK BURLEW BLVD, OWENSBOR\n",
       " 6918 │           6918  2017-08-30  11:23:00  3000 BLOCK BURLEW BLVD, OWENSBOR\n",
       " 6919 │           6919  2017-08-30  11:44:00  3000 BLOCK BURLEW BLVD, OWENSBOR ⋯\n",
       " 6920 │           6920  2017-08-30  12:06:00  3000 BLOCK BURLEW BLVD, OWENSBOR\n",
       " 6921 │           6921  2017-03-01  17:28:00\n",
       "\u001b[36m                                                15 columns and 6906 rows omitted\u001b[0m"
      ]
     },
     "metadata": {},
     "output_type": "display_data"
    }
   ],
   "source": [
    "owensboro = df"
   ]
  },
  {
   "attachments": {},
   "cell_type": "markdown",
   "metadata": {},
   "source": [
    "Now, we will get some information about the dataframe"
   ]
  },
  {
   "cell_type": "code",
   "execution_count": 132,
   "metadata": {},
   "outputs": [
    {
     "data": {
      "text/plain": [
       "\"6921×18 DataFrame\""
      ]
     },
     "metadata": {},
     "output_type": "display_data"
    }
   ],
   "source": [
    "summary(owensboro)"
   ]
  },
  {
   "cell_type": "code",
   "execution_count": 133,
   "metadata": {},
   "outputs": [
    {
     "data": {
      "text/html": [
       "<div><div style = \"float: left;\"><span>18×4 DataFrame</span></div><div style = \"clear: both;\"></div></div><div class = \"data-frame\" style = \"overflow-x: scroll;\"><table class = \"data-frame\" style = \"margin-bottom: 6px;\"><thead><tr class = \"header\"><th class = \"rowNumber\" style = \"font-weight: bold; text-align: right;\">Row</th><th style = \"text-align: left;\">variable</th><th style = \"text-align: left;\">nunique</th><th style = \"text-align: left;\">nmissing</th><th style = \"text-align: left;\">eltype</th></tr><tr class = \"subheader headerLastRow\"><th class = \"rowNumber\" style = \"font-weight: bold; text-align: right;\"></th><th title = \"Symbol\" style = \"text-align: left;\">Symbol</th><th title = \"Union{Nothing, Int64}\" style = \"text-align: left;\">Union…</th><th title = \"Int64\" style = \"text-align: left;\">Int64</th><th title = \"Type\" style = \"text-align: left;\">Type</th></tr></thead><tbody><tr><td class = \"rowNumber\" style = \"font-weight: bold; text-align: right;\">1</td><td style = \"text-align: left;\">raw_row_number</td><td style = \"font-style: italic; text-align: left;\"></td><td style = \"text-align: right;\">0</td><td style = \"text-align: left;\">Int64</td></tr><tr><td class = \"rowNumber\" style = \"font-weight: bold; text-align: right;\">2</td><td style = \"text-align: left;\">date</td><td style = \"text-align: left;\">726</td><td style = \"text-align: right;\">0</td><td style = \"text-align: left;\">Date</td></tr><tr><td class = \"rowNumber\" style = \"font-weight: bold; text-align: right;\">3</td><td style = \"text-align: left;\">time</td><td style = \"text-align: left;\">1352</td><td style = \"text-align: right;\">0</td><td style = \"text-align: left;\">Time</td></tr><tr><td class = \"rowNumber\" style = \"font-weight: bold; text-align: right;\">4</td><td style = \"text-align: left;\">location</td><td style = \"text-align: left;\">4481</td><td style = \"text-align: right;\">0</td><td style = \"text-align: left;\">String</td></tr><tr><td class = \"rowNumber\" style = \"font-weight: bold; text-align: right;\">5</td><td style = \"text-align: left;\">lat</td><td style = \"font-style: italic; text-align: left;\"></td><td style = \"text-align: right;\">0</td><td style = \"text-align: left;\">Float64</td></tr><tr><td class = \"rowNumber\" style = \"font-weight: bold; text-align: right;\">6</td><td style = \"text-align: left;\">lng</td><td style = \"font-style: italic; text-align: left;\"></td><td style = \"text-align: right;\">9</td><td style = \"text-align: left;\">Union{Missing, Float64}</td></tr><tr><td class = \"rowNumber\" style = \"font-weight: bold; text-align: right;\">7</td><td style = \"text-align: left;\">sector</td><td style = \"text-align: left;\">10</td><td style = \"text-align: right;\">10</td><td style = \"text-align: left;\">Union{Missing, String15}</td></tr><tr><td class = \"rowNumber\" style = \"font-weight: bold; text-align: right;\">8</td><td style = \"text-align: left;\">subject_age</td><td style = \"font-style: italic; text-align: left;\"></td><td style = \"text-align: right;\">3</td><td style = \"text-align: left;\">Union{Missing, Int64}</td></tr><tr><td class = \"rowNumber\" style = \"font-weight: bold; text-align: right;\">9</td><td style = \"text-align: left;\">subject_race</td><td style = \"text-align: left;\">4</td><td style = \"text-align: right;\">18</td><td style = \"text-align: left;\">Union{Missing, String31}</td></tr><tr><td class = \"rowNumber\" style = \"font-weight: bold; text-align: right;\">10</td><td style = \"text-align: left;\">subject_sex</td><td style = \"text-align: left;\">2</td><td style = \"text-align: right;\">0</td><td style = \"text-align: left;\">String7</td></tr><tr><td class = \"rowNumber\" style = \"font-weight: bold; text-align: right;\">11</td><td style = \"text-align: left;\">officer_id_hash</td><td style = \"text-align: left;\">87</td><td style = \"text-align: right;\">0</td><td style = \"text-align: left;\">String15</td></tr><tr><td class = \"rowNumber\" style = \"font-weight: bold; text-align: right;\">12</td><td style = \"text-align: left;\">type</td><td style = \"text-align: left;\">2</td><td style = \"text-align: right;\">42</td><td style = \"text-align: left;\">Union{Missing, String15}</td></tr><tr><td class = \"rowNumber\" style = \"font-weight: bold; text-align: right;\">13</td><td style = \"text-align: left;\">violation</td><td style = \"text-align: left;\">1979</td><td style = \"text-align: right;\">0</td><td style = \"text-align: left;\">String</td></tr><tr><td class = \"rowNumber\" style = \"font-weight: bold; text-align: right;\">14</td><td style = \"text-align: left;\">arrest_made</td><td style = \"font-style: italic; text-align: left;\"></td><td style = \"text-align: right;\">0</td><td style = \"text-align: left;\">Bool</td></tr><tr><td class = \"rowNumber\" style = \"font-weight: bold; text-align: right;\">15</td><td style = \"text-align: left;\">citation_issued</td><td style = \"font-style: italic; text-align: left;\"></td><td style = \"text-align: right;\">0</td><td style = \"text-align: left;\">Bool</td></tr><tr><td class = \"rowNumber\" style = \"font-weight: bold; text-align: right;\">16</td><td style = \"text-align: left;\">outcome</td><td style = \"text-align: left;\">2</td><td style = \"text-align: right;\">0</td><td style = \"text-align: left;\">String15</td></tr><tr><td class = \"rowNumber\" style = \"font-weight: bold; text-align: right;\">17</td><td style = \"text-align: left;\">vehicle_registration_state</td><td style = \"text-align: left;\">35</td><td style = \"text-align: right;\">55</td><td style = \"text-align: left;\">Union{Missing, String3}</td></tr><tr><td class = \"rowNumber\" style = \"font-weight: bold; text-align: right;\">18</td><td style = \"text-align: left;\">raw_race</td><td style = \"text-align: left;\">4</td><td style = \"text-align: right;\">18</td><td style = \"text-align: left;\">Union{Missing, String31}</td></tr></tbody></table></div>"
      ],
      "text/latex": [
       "\\begin{tabular}{r|cccc}\n",
       "\t& variable & nunique & nmissing & eltype\\\\\n",
       "\t\\hline\n",
       "\t& Symbol & Union… & Int64 & Type\\\\\n",
       "\t\\hline\n",
       "\t1 & raw\\_row\\_number &  & 0 & Int64 \\\\\n",
       "\t2 & date & 726 & 0 & Date \\\\\n",
       "\t3 & time & 1352 & 0 & Time \\\\\n",
       "\t4 & location & 4481 & 0 & String \\\\\n",
       "\t5 & lat &  & 0 & Float64 \\\\\n",
       "\t6 & lng &  & 9 & Union\\{Missing, Float64\\} \\\\\n",
       "\t7 & sector & 10 & 10 & Union\\{Missing, String15\\} \\\\\n",
       "\t8 & subject\\_age &  & 3 & Union\\{Missing, Int64\\} \\\\\n",
       "\t9 & subject\\_race & 4 & 18 & Union\\{Missing, String31\\} \\\\\n",
       "\t10 & subject\\_sex & 2 & 0 & String7 \\\\\n",
       "\t11 & officer\\_id\\_hash & 87 & 0 & String15 \\\\\n",
       "\t12 & type & 2 & 42 & Union\\{Missing, String15\\} \\\\\n",
       "\t13 & violation & 1979 & 0 & String \\\\\n",
       "\t14 & arrest\\_made &  & 0 & Bool \\\\\n",
       "\t15 & citation\\_issued &  & 0 & Bool \\\\\n",
       "\t16 & outcome & 2 & 0 & String15 \\\\\n",
       "\t17 & vehicle\\_registration\\_state & 35 & 55 & Union\\{Missing, String3\\} \\\\\n",
       "\t18 & raw\\_race & 4 & 18 & Union\\{Missing, String31\\} \\\\\n",
       "\\end{tabular}\n"
      ],
      "text/plain": [
       "\u001b[1m18×4 DataFrame\u001b[0m\n",
       "\u001b[1m Row \u001b[0m│\u001b[1m variable                   \u001b[0m\u001b[1m nunique \u001b[0m\u001b[1m nmissing \u001b[0m\u001b[1m eltype                  \u001b[0m ⋯\n",
       "     │\u001b[90m Symbol                     \u001b[0m\u001b[90m Union…  \u001b[0m\u001b[90m Int64    \u001b[0m\u001b[90m Type                    \u001b[0m ⋯\n",
       "─────┼──────────────────────────────────────────────────────────────────────────\n",
       "   1 │ raw_row_number             \u001b[90m         \u001b[0m        0  Int64                    ⋯\n",
       "   2 │ date                        726             0  Date\n",
       "   3 │ time                        1352            0  Time\n",
       "   4 │ location                    4481            0  String\n",
       "   5 │ lat                        \u001b[90m         \u001b[0m        0  Float64                  ⋯\n",
       "   6 │ lng                        \u001b[90m         \u001b[0m        9  Union{Missing, Float64}\n",
       "   7 │ sector                      10             10  Union{Missing, String15}\n",
       "   8 │ subject_age                \u001b[90m         \u001b[0m        3  Union{Missing, Int64}\n",
       "  ⋮  │             ⋮                  ⋮        ⋮                 ⋮             ⋱\n",
       "  12 │ type                        2              42  Union{Missing, String15} ⋯\n",
       "  13 │ violation                   1979            0  String\n",
       "  14 │ arrest_made                \u001b[90m         \u001b[0m        0  Bool\n",
       "  15 │ citation_issued            \u001b[90m         \u001b[0m        0  Bool\n",
       "  16 │ outcome                     2               0  String15                 ⋯\n",
       "  17 │ vehicle_registration_state  35             55  Union{Missing, String3}\n",
       "  18 │ raw_race                    4              18  Union{Missing, String31}\n",
       "\u001b[36m                                                                 3 rows omitted\u001b[0m"
      ]
     },
     "metadata": {},
     "output_type": "display_data"
    }
   ],
   "source": [
    "describe(owensboro, :nunique, :nmissing, :eltype) # Give the number of unique values, the number of missing ones, and the element type"
   ]
  },
  {
   "cell_type": "code",
   "execution_count": 134,
   "metadata": {},
   "outputs": [
    {
     "data": {
      "text/html": [
       "<div><div style = \"float: left;\"><span>6921×4 DataFrame</span></div><div style = \"float: right;\"><span style = \"font-style: italic;\">6896 rows omitted</span></div><div style = \"clear: both;\"></div></div><div class = \"data-frame\" style = \"overflow-x: scroll;\"><table class = \"data-frame\" style = \"margin-bottom: 6px;\"><thead><tr class = \"header\"><th class = \"rowNumber\" style = \"font-weight: bold; text-align: right;\">Row</th><th style = \"text-align: left;\">date</th><th style = \"text-align: left;\">type</th><th style = \"text-align: left;\">arrest_made</th><th style = \"text-align: left;\">violation</th></tr><tr class = \"subheader headerLastRow\"><th class = \"rowNumber\" style = \"font-weight: bold; text-align: right;\"></th><th title = \"Dates.Date\" style = \"text-align: left;\">Date</th><th title = \"Union{Missing, String15}\" style = \"text-align: left;\">String15?</th><th title = \"Bool\" style = \"text-align: left;\">Bool</th><th title = \"String\" style = \"text-align: left;\">String</th></tr></thead><tbody><tr><td class = \"rowNumber\" style = \"font-weight: bold; text-align: right;\">1</td><td style = \"text-align: left;\">2016-08-04</td><td style = \"text-align: left;\">pedestrian</td><td style = \"text-align: right;\">true</td><td style = \"text-align: left;\">POSS CONT SUB 1ST DEG, 1ST OFF (METHAMPHETAMINE); DRUG PARAPHERLIA - BUY/POSSESS</td></tr><tr><td class = \"rowNumber\" style = \"font-weight: bold; text-align: right;\">2</td><td style = \"text-align: left;\">2016-04-03</td><td style = \"text-align: left;\">vehicular</td><td style = \"text-align: right;\">false</td><td style = \"text-align: left;\">FAILURE TO ILLUMITE HEAD LAMPS; NO OPERATORS-MOPED LICENSE; NO REGISTRATION PLATES</td></tr><tr><td class = \"rowNumber\" style = \"font-weight: bold; text-align: right;\">3</td><td style = \"text-align: left;\">2015-09-13</td><td style = \"text-align: left;\">vehicular</td><td style = \"text-align: right;\">true</td><td style = \"text-align: left;\">NO TAIL LAMPS; OPER MTR VEHICLE U/INFLUENCE ALC/DRUGS/ETC. .08 - 1ST OFF; POSS CONT SUB 1ST DEG, 1ST OFF (METHAMPHETAMINE); FAILURE OF OWNER TO MAINTAIN REQUIRED INS/SEC, 1ST OFF; VIOLATION UNKNOWN</td></tr><tr><td class = \"rowNumber\" style = \"font-weight: bold; text-align: right;\">4</td><td style = \"text-align: left;\">2016-01-05</td><td style = \"text-align: left;\">vehicular</td><td style = \"text-align: right;\">true</td><td style = \"text-align: left;\">OPER MTR VEH U/INFLU ALC/DRUGS/ETC. .08 (AGG CIRCUM), 2ND; DRIVING DUI SUSPENDED LICENSE - 1ST OFF (AGG CIRCUM)</td></tr><tr><td class = \"rowNumber\" style = \"font-weight: bold; text-align: right;\">5</td><td style = \"text-align: left;\">2016-04-06</td><td style = \"text-align: left;\">vehicular</td><td style = \"text-align: right;\">false</td><td style = \"text-align: left;\">OPERATING ON SUS OR REV OPER LICENSE</td></tr><tr><td class = \"rowNumber\" style = \"font-weight: bold; text-align: right;\">6</td><td style = \"text-align: left;\">2015-11-05</td><td style = \"text-align: left;\">vehicular</td><td style = \"text-align: right;\">false</td><td style = \"text-align: left;\">FAILURE TO WEAR SEAT BELTS</td></tr><tr><td class = \"rowNumber\" style = \"font-weight: bold; text-align: right;\">7</td><td style = \"text-align: left;\">2016-02-14</td><td style = \"text-align: left;\">vehicular</td><td style = \"text-align: right;\">true</td><td style = \"text-align: left;\">OPER MTR VEHICLE U/INFLUENCE ALC/DRUGS/ETC. .08 - 1ST OFF</td></tr><tr><td class = \"rowNumber\" style = \"font-weight: bold; text-align: right;\">8</td><td style = \"text-align: left;\">2016-02-09</td><td style = \"text-align: left;\">vehicular</td><td style = \"text-align: right;\">false</td><td style = \"text-align: left;\">DISREGARDING TRAFFIC CONT DEV-TRAFFIC LIGHT; LICENSE TO BE IN POSSESSION</td></tr><tr><td class = \"rowNumber\" style = \"font-weight: bold; text-align: right;\">9</td><td style = \"text-align: left;\">2016-04-16</td><td style = \"text-align: left;\">vehicular</td><td style = \"text-align: right;\">true</td><td style = \"text-align: left;\">OPER MTR VEH U/INFLU ALC/DRUGS/ETC. .08 (AGG CIRCUM), 2ND; DRIVING ON DUI SUSPENDED LICENSE -1ST OFFENSE; POSS OF OPEN ALC BEVERAGE CONT IN MOTOR VEH PROHIBITED; FAILURE OF OWNER TO MAINTAIN REQUIRED INS/SEC, 1ST OFF; FAILURE TO WEAR SEAT BELTS</td></tr><tr><td class = \"rowNumber\" style = \"font-weight: bold; text-align: right;\">10</td><td style = \"text-align: left;\">2016-06-22</td><td style = \"text-align: left;\">vehicular</td><td style = \"text-align: right;\">true</td><td style = \"text-align: left;\">OPER MTR VEHICLE U/INFLUENCE ALC/DRUGS/ETC. .08 - 1ST OFF; OPERATING VEHICLE WITH EXPIRED OPERATORS LICENSE; DRUG PARAPHERLIA - BUY/POSSESS</td></tr><tr><td class = \"rowNumber\" style = \"font-weight: bold; text-align: right;\">11</td><td style = \"text-align: left;\">2016-06-29</td><td style = \"text-align: left;\">vehicular</td><td style = \"text-align: right;\">true</td><td style = \"text-align: left;\">OPER MTR VEHICLE U/INFLUENCE ALC/DRUGS/ETC. .08 - 1ST OFF; LEAVING SCENE OF ACCIDENT-FAILURE TO RENDER AID OR ASSISTANCE; NO OPERATORS-MOPED LICENSE</td></tr><tr><td class = \"rowNumber\" style = \"font-weight: bold; text-align: right;\">12</td><td style = \"text-align: left;\">2015-11-21</td><td style = \"text-align: left;\">vehicular</td><td style = \"text-align: right;\">false</td><td style = \"text-align: left;\">NO REGISTRATION PLATES; FAILURE TO PRODUCE INSURANCE CARD; NO OPERATORS-MOPED LICENSE</td></tr><tr><td class = \"rowNumber\" style = \"font-weight: bold; text-align: right;\">13</td><td style = \"text-align: left;\">2015-10-25</td><td style = \"text-align: left;\">vehicular</td><td style = \"text-align: right;\">true</td><td style = \"text-align: left;\">OPER MTR VEHICLE U/INFLUENCE ALC/DRUGS/ETC. .08 - 1ST OFF</td></tr><tr><td style = \"text-align: right;\">&vellip;</td><td style = \"text-align: right;\">&vellip;</td><td style = \"text-align: right;\">&vellip;</td><td style = \"text-align: right;\">&vellip;</td><td style = \"text-align: right;\">&vellip;</td></tr><tr><td class = \"rowNumber\" style = \"font-weight: bold; text-align: right;\">6910</td><td style = \"text-align: left;\">2017-08-24</td><td style = \"text-align: left;\">vehicular</td><td style = \"text-align: right;\">false</td><td style = \"text-align: left;\">NO REGISTRATION PLATES; FAILURE TO PRODUCE INSURANCE CARD</td></tr><tr><td class = \"rowNumber\" style = \"font-weight: bold; text-align: right;\">6911</td><td style = \"text-align: left;\">2017-08-25</td><td style = \"text-align: left;\">vehicular</td><td style = \"text-align: right;\">false</td><td style = \"text-align: left;\">FAILURE TO OR IMPROPER SIGL; FAILURE TO PRODUCE INSURANCE CARD; NO OPERATORS-MOPED LICENSE</td></tr><tr><td class = \"rowNumber\" style = \"font-weight: bold; text-align: right;\">6912</td><td style = \"text-align: left;\">2017-08-26</td><td style = \"text-align: left;\">vehicular</td><td style = \"text-align: right;\">false</td><td style = \"text-align: left;\">NO TAIL LAMPS; FAILURE TO PRODUCE INSURANCE CARD; NO REGISTRATION PLATES</td></tr><tr><td class = \"rowNumber\" style = \"font-weight: bold; text-align: right;\">6913</td><td style = \"text-align: left;\">2017-08-27</td><td style = \"text-align: left;\">vehicular</td><td style = \"text-align: right;\">false</td><td style = \"text-align: left;\">ONE HEADLIGHT; FAILURE TO PRODUCE INSURANCE CARD; LICENSE TO BE IN POSSESSION; NO REGISTRATION PLATES</td></tr><tr><td class = \"rowNumber\" style = \"font-weight: bold; text-align: right;\">6914</td><td style = \"text-align: left;\">2017-08-27</td><td style = \"text-align: left;\">vehicular</td><td style = \"text-align: right;\">true</td><td style = \"text-align: left;\">ONE HEADLIGHT; NO REGISTRATION RECEIPT; NO OPERATORS-MOPED LICENSE; OPER MTR VEHICLE U/INFLUENCE ALC/DRUGS/ETC. .08 - 1ST OFF</td></tr><tr><td class = \"rowNumber\" style = \"font-weight: bold; text-align: right;\">6915</td><td style = \"text-align: left;\">2017-08-30</td><td style = \"text-align: left;\">vehicular</td><td style = \"text-align: right;\">false</td><td style = \"text-align: left;\">SPEEDING 10 MPH OVER LIMIT</td></tr><tr><td class = \"rowNumber\" style = \"font-weight: bold; text-align: right;\">6916</td><td style = \"text-align: left;\">2017-08-30</td><td style = \"text-align: left;\">vehicular</td><td style = \"text-align: right;\">false</td><td style = \"text-align: left;\">SPEEDING 08 MPH OVER LIMIT; FAILURE TO OR IMPROPER SIGL</td></tr><tr><td class = \"rowNumber\" style = \"font-weight: bold; text-align: right;\">6917</td><td style = \"text-align: left;\">2017-08-30</td><td style = \"text-align: left;\">vehicular</td><td style = \"text-align: right;\">false</td><td style = \"text-align: left;\">SPEEDING 10 MPH OVER LIMIT; FAILURE TO WEAR SEAT BELTS</td></tr><tr><td class = \"rowNumber\" style = \"font-weight: bold; text-align: right;\">6918</td><td style = \"text-align: left;\">2017-08-30</td><td style = \"text-align: left;\">vehicular</td><td style = \"text-align: right;\">false</td><td style = \"text-align: left;\">SPEEDING 11 MPH OVER LIMIT; NO REGISTRATION RECEIPT</td></tr><tr><td class = \"rowNumber\" style = \"font-weight: bold; text-align: right;\">6919</td><td style = \"text-align: left;\">2017-08-30</td><td style = \"text-align: left;\">vehicular</td><td style = \"text-align: right;\">false</td><td style = \"text-align: left;\">SPEEDING 17 MPH OVER LIMIT; FAILURE TO WEAR SEAT BELTS; LICENSE TO BE IN POSSESSION; FAILURE OF OWNER TO MAINTAIN REQUIRED INS/SEC, 1ST OFF; NO REGISTRATION PLATES; NO REGISTRATION RECEIPT</td></tr><tr><td class = \"rowNumber\" style = \"font-weight: bold; text-align: right;\">6920</td><td style = \"text-align: left;\">2017-08-30</td><td style = \"text-align: left;\">vehicular</td><td style = \"text-align: right;\">false</td><td style = \"text-align: left;\">SPEEDING 13 MPH OVER LIMIT</td></tr><tr><td class = \"rowNumber\" style = \"font-weight: bold; text-align: right;\">6921</td><td style = \"text-align: left;\">2017-03-01</td><td style = \"text-align: left;\">vehicular</td><td style = \"text-align: right;\">false</td><td style = \"text-align: left;\">FAILURE OF NON-OWNER OPERATOR TO MAINTAIN REQ INS/SEC, 1ST OFF; NO OTHER STATE REGISTRATION RECEIPT</td></tr></tbody></table></div>"
      ],
      "text/latex": [
       "\\begin{tabular}{r|cccc}\n",
       "\t& date & type & arrest\\_made & violation\\\\\n",
       "\t\\hline\n",
       "\t& Date & String15? & Bool & String\\\\\n",
       "\t\\hline\n",
       "\t1 & 2016-08-04 & pedestrian & 1 & POSS CONT SUB 1ST DEG, 1ST OFF (METHAMPHETAMINE); DRUG PARAPHERLIA - BUY/POSSESS \\\\\n",
       "\t2 & 2016-04-03 & vehicular & 0 & FAILURE TO ILLUMITE HEAD LAMPS; NO OPERATORS-MOPED LICENSE; NO REGISTRATION PLATES \\\\\n",
       "\t3 & 2015-09-13 & vehicular & 1 & NO TAIL LAMPS; OPER MTR VEHICLE U/INFLUENCE ALC/DRUGS/ETC. .08 - 1ST OFF; POSS CONT SUB 1ST DEG, 1ST OFF (METHAMPHETAMINE); FAILURE OF OWNER TO MAINTAIN REQUIRED INS/SEC, 1ST OFF; VIOLATION UNKNOWN \\\\\n",
       "\t4 & 2016-01-05 & vehicular & 1 & OPER MTR VEH U/INFLU ALC/DRUGS/ETC. .08 (AGG CIRCUM), 2ND; DRIVING DUI SUSPENDED LICENSE - 1ST OFF (AGG CIRCUM) \\\\\n",
       "\t5 & 2016-04-06 & vehicular & 0 & OPERATING ON SUS OR REV OPER LICENSE \\\\\n",
       "\t6 & 2015-11-05 & vehicular & 0 & FAILURE TO WEAR SEAT BELTS \\\\\n",
       "\t7 & 2016-02-14 & vehicular & 1 & OPER MTR VEHICLE U/INFLUENCE ALC/DRUGS/ETC. .08 - 1ST OFF \\\\\n",
       "\t8 & 2016-02-09 & vehicular & 0 & DISREGARDING TRAFFIC CONT DEV-TRAFFIC LIGHT; LICENSE TO BE IN POSSESSION \\\\\n",
       "\t9 & 2016-04-16 & vehicular & 1 & OPER MTR VEH U/INFLU ALC/DRUGS/ETC. .08 (AGG CIRCUM), 2ND; DRIVING ON DUI SUSPENDED LICENSE -1ST OFFENSE; POSS OF OPEN ALC BEVERAGE CONT IN MOTOR VEH PROHIBITED; FAILURE OF OWNER TO MAINTAIN REQUIRED INS/SEC, 1ST OFF; FAILURE TO WEAR SEAT BELTS \\\\\n",
       "\t10 & 2016-06-22 & vehicular & 1 & OPER MTR VEHICLE U/INFLUENCE ALC/DRUGS/ETC. .08 - 1ST OFF; OPERATING VEHICLE WITH EXPIRED OPERATORS LICENSE; DRUG PARAPHERLIA - BUY/POSSESS \\\\\n",
       "\t11 & 2016-06-29 & vehicular & 1 & OPER MTR VEHICLE U/INFLUENCE ALC/DRUGS/ETC. .08 - 1ST OFF; LEAVING SCENE OF ACCIDENT-FAILURE TO RENDER AID OR ASSISTANCE; NO OPERATORS-MOPED LICENSE \\\\\n",
       "\t12 & 2015-11-21 & vehicular & 0 & NO REGISTRATION PLATES; FAILURE TO PRODUCE INSURANCE CARD; NO OPERATORS-MOPED LICENSE \\\\\n",
       "\t13 & 2015-10-25 & vehicular & 1 & OPER MTR VEHICLE U/INFLUENCE ALC/DRUGS/ETC. .08 - 1ST OFF \\\\\n",
       "\t14 & 2015-12-03 & vehicular & 1 & OPER MTR VEHICLE U/INFLUENCE ALC/DRUGS/ETC. .08 - 2ND OFF; OPERATING ON SUS OR REV OPER LICENSE; POSS OF OPEN ALC BEVERAGE CONT IN MOTOR VEH PROHIBITED \\\\\n",
       "\t15 & 2015-12-12 & vehicular & 1 & OPER MTR VEHICLE U/INFLUENCE ALC/DRUGS/ETC. .08 - 2ND OFF; OPERATING ON SUS OR REV OPER LICENSE \\\\\n",
       "\t16 & 2015-12-15 & pedestrian & 1 & POSS CONT SUB 1ST DEG 1ST OFF (COCAINE); DRUG PARAPHERLIA - BUY/POSSESS \\\\\n",
       "\t17 & 2016-01-30 & pedestrian & 1 & TRAFF IN CONT SUB, 1ST DEGREE, 1ST OFF - (> OR = 2 GMS METHAMPHETAMINE); TRAF IN MARIJUA ( LESS THAN 8 OZ.) 1ST OFF \\\\\n",
       "\t18 & 2016-01-24 & vehicular & 1 & OPER MTR VEHICLE U/INFLU ALC/DRUGS/ETC. .08 (AGG CIRCUM) 1ST OFF; OPERATING ON SUS OR REV OPER LICENSE \\\\\n",
       "\t19 & 2016-03-21 & vehicular & 1 & OPER MTR VEHICLE U/INFLUENCE ALC/DRUGS/ETC. .08 - 1ST OFF; OPERATING ON SUS OR REV OPER LICENSE \\\\\n",
       "\t20 & 2016-05-05 & vehicular & 0 & NO REGISTRATION PLATES; OPERATING ON SUS OR REV OPER LICENSE \\\\\n",
       "\t21 & 2015-11-05 & vehicular & 1 & FAILURE TO WEAR SEAT BELTS; DRIVING DUI SUSPENDED LICENSE - 2ND OFFENSE \\\\\n",
       "\t22 & 2016-04-18 & pedestrian & 1 & POSS CONT SUB 1ST DEG 1ST OFF (OPIATES); POSS CONT SUB, 3RD DEGREE - DRUG UNSPECIFIED; FAILURE TO WEAR SEAT BELTS \\\\\n",
       "\t23 & 2015-10-22 & pedestrian & 1 & TRAF IN MARIJUA ( > 5 LBS.) 1ST OFF; DRUG PARAPHERLIA - BUY/POSSESS \\\\\n",
       "\t24 & 2016-06-07 & pedestrian & 1 & TRAFF IN CONT SUB, 1ST DEGREE, 1ST OFF - (< 2 GMS HEROIN); TRAFF IN CONT SUB, 3RD DEGREE, 1ST OFF - (< 20 D.U. DRUG UNSPECIFIED); RECKLESS DRIVING; NO OPERATORS-MOPED LICENSE \\\\\n",
       "\t$\\dots$ & $\\dots$ & $\\dots$ & $\\dots$ & $\\dots$ \\\\\n",
       "\\end{tabular}\n"
      ],
      "text/plain": [
       "\u001b[1m6921×4 DataFrame\u001b[0m\n",
       "\u001b[1m  Row \u001b[0m│\u001b[1m date       \u001b[0m\u001b[1m type       \u001b[0m\u001b[1m arrest_made \u001b[0m\u001b[1m violation                        \u001b[0m ⋯\n",
       "      │\u001b[90m Date       \u001b[0m\u001b[90m String15?  \u001b[0m\u001b[90m Bool        \u001b[0m\u001b[90m String                           \u001b[0m ⋯\n",
       "──────┼─────────────────────────────────────────────────────────────────────────\n",
       "    1 │ 2016-08-04  pedestrian         true  POSS CONT SUB 1ST DEG, 1ST OFF (… ⋯\n",
       "    2 │ 2016-04-03  vehicular         false  FAILURE TO ILLUMITE HEAD LAMPS; …\n",
       "    3 │ 2015-09-13  vehicular          true  NO TAIL LAMPS; OPER MTR VEHICLE …\n",
       "    4 │ 2016-01-05  vehicular          true  OPER MTR VEH U/INFLU ALC/DRUGS/E…\n",
       "    5 │ 2016-04-06  vehicular         false  OPERATING ON SUS OR REV OPER LIC… ⋯\n",
       "    6 │ 2015-11-05  vehicular         false  FAILURE TO WEAR SEAT BELTS\n",
       "    7 │ 2016-02-14  vehicular          true  OPER MTR VEHICLE U/INFLUENCE ALC…\n",
       "    8 │ 2016-02-09  vehicular         false  DISREGARDING TRAFFIC CONT DEV-TR…\n",
       "  ⋮   │     ⋮           ⋮            ⋮                       ⋮                 ⋱\n",
       " 6915 │ 2017-08-30  vehicular         false  SPEEDING 10 MPH OVER LIMIT        ⋯\n",
       " 6916 │ 2017-08-30  vehicular         false  SPEEDING 08 MPH OVER LIMIT; FAIL…\n",
       " 6917 │ 2017-08-30  vehicular         false  SPEEDING 10 MPH OVER LIMIT; FAIL…\n",
       " 6918 │ 2017-08-30  vehicular         false  SPEEDING 11 MPH OVER LIMIT; NO R…\n",
       " 6919 │ 2017-08-30  vehicular         false  SPEEDING 17 MPH OVER LIMIT; FAIL… ⋯\n",
       " 6920 │ 2017-08-30  vehicular         false  SPEEDING 13 MPH OVER LIMIT\n",
       " 6921 │ 2017-03-01  vehicular         false  FAILURE OF NON-OWNER OPERATOR TO…\n",
       "\u001b[36m                                                              6906 rows omitted\u001b[0m"
      ]
     },
     "metadata": {},
     "output_type": "display_data"
    }
   ],
   "source": [
    "df_part = select!(owensboro, :date, :type, :arrest_made, :violation) # We select inplace the columns we will use for downstream analysis"
   ]
  },
  {
   "cell_type": "code",
   "execution_count": 135,
   "metadata": {},
   "outputs": [
    {
     "data": {
      "text/html": [
       "<div><div style = \"float: left;\"><span>6921×4 DataFrame</span></div><div style = \"float: right;\"><span style = \"font-style: italic;\">6896 rows omitted</span></div><div style = \"clear: both;\"></div></div><div class = \"data-frame\" style = \"overflow-x: scroll;\"><table class = \"data-frame\" style = \"margin-bottom: 6px;\"><thead><tr class = \"header\"><th class = \"rowNumber\" style = \"font-weight: bold; text-align: right;\">Row</th><th style = \"text-align: left;\">date</th><th style = \"text-align: left;\">type</th><th style = \"text-align: left;\">arrest_made</th><th style = \"text-align: left;\">violation</th></tr><tr class = \"subheader headerLastRow\"><th class = \"rowNumber\" style = \"font-weight: bold; text-align: right;\"></th><th title = \"Dates.Date\" style = \"text-align: left;\">Date</th><th title = \"Union{Missing, String15}\" style = \"text-align: left;\">String15?</th><th title = \"Bool\" style = \"text-align: left;\">Bool</th><th title = \"String\" style = \"text-align: left;\">String</th></tr></thead><tbody><tr><td class = \"rowNumber\" style = \"font-weight: bold; text-align: right;\">1</td><td style = \"text-align: left;\">2017-09-01</td><td style = \"text-align: left;\">vehicular</td><td style = \"text-align: right;\">false</td><td style = \"text-align: left;\">NO REGISTRATION PLATES</td></tr><tr><td class = \"rowNumber\" style = \"font-weight: bold; text-align: right;\">2</td><td style = \"text-align: left;\">2017-09-01</td><td style = \"text-align: left;\">vehicular</td><td style = \"text-align: right;\">false</td><td style = \"text-align: left;\">SPEEDING 15 MPH OVER LIMIT</td></tr><tr><td class = \"rowNumber\" style = \"font-weight: bold; text-align: right;\">3</td><td style = \"text-align: left;\">2017-09-01</td><td style = \"text-align: left;\">vehicular</td><td style = \"text-align: right;\">false</td><td style = \"text-align: left;\">SPEEDING 15 MPH OVER LIMIT</td></tr><tr><td class = \"rowNumber\" style = \"font-weight: bold; text-align: right;\">4</td><td style = \"text-align: left;\">2017-09-01</td><td style = \"text-align: left;\">vehicular</td><td style = \"text-align: right;\">false</td><td style = \"text-align: left;\">DISREGARDING TRAFFIC CONT DEV-TRAFFIC LIGHT; OPERATING ON SUS OR REV OPER LICENSE</td></tr><tr><td class = \"rowNumber\" style = \"font-weight: bold; text-align: right;\">5</td><td style = \"text-align: left;\">2017-09-01</td><td style = \"text-align: left;\">vehicular</td><td style = \"text-align: right;\">false</td><td style = \"text-align: left;\">NO REGISTRATION PLATES; FAILURE TO PRODUCE INSURANCE CARD; OPERATING ON SUS OR REV OPER LICENSE</td></tr><tr><td class = \"rowNumber\" style = \"font-weight: bold; text-align: right;\">6</td><td style = \"text-align: left;\">2017-09-01</td><td style = \"text-align: left;\">vehicular</td><td style = \"text-align: right;\">false</td><td style = \"text-align: left;\">NO REGISTRATION PLATES; FAILURE OF OWNER TO MAINTAIN REQUIRED INS/SEC, 1ST OFF</td></tr><tr><td class = \"rowNumber\" style = \"font-weight: bold; text-align: right;\">7</td><td style = \"text-align: left;\">2017-09-01</td><td style = \"text-align: left;\">vehicular</td><td style = \"text-align: right;\">false</td><td style = \"text-align: left;\">DISREGARDING TRAFFIC CONT DEV-TRAFFIC LIGHT</td></tr><tr><td class = \"rowNumber\" style = \"font-weight: bold; text-align: right;\">8</td><td style = \"text-align: left;\">2017-08-31</td><td style = \"text-align: left;\">vehicular</td><td style = \"text-align: right;\">false</td><td style = \"text-align: left;\">DISREGARDING STOP SIGN</td></tr><tr><td class = \"rowNumber\" style = \"font-weight: bold; text-align: right;\">9</td><td style = \"text-align: left;\">2017-08-30</td><td style = \"text-align: left;\">vehicular</td><td style = \"text-align: right;\">false</td><td style = \"text-align: left;\">SPEEDING 10 MPH OVER LIMIT</td></tr><tr><td class = \"rowNumber\" style = \"font-weight: bold; text-align: right;\">10</td><td style = \"text-align: left;\">2017-08-30</td><td style = \"text-align: left;\">vehicular</td><td style = \"text-align: right;\">false</td><td style = \"text-align: left;\">SPEEDING 08 MPH OVER LIMIT; FAILURE TO OR IMPROPER SIGL</td></tr><tr><td class = \"rowNumber\" style = \"font-weight: bold; text-align: right;\">11</td><td style = \"text-align: left;\">2017-08-30</td><td style = \"text-align: left;\">vehicular</td><td style = \"text-align: right;\">false</td><td style = \"text-align: left;\">SPEEDING 10 MPH OVER LIMIT; FAILURE TO WEAR SEAT BELTS</td></tr><tr><td class = \"rowNumber\" style = \"font-weight: bold; text-align: right;\">12</td><td style = \"text-align: left;\">2017-08-30</td><td style = \"text-align: left;\">vehicular</td><td style = \"text-align: right;\">false</td><td style = \"text-align: left;\">SPEEDING 11 MPH OVER LIMIT; NO REGISTRATION RECEIPT</td></tr><tr><td class = \"rowNumber\" style = \"font-weight: bold; text-align: right;\">13</td><td style = \"text-align: left;\">2017-08-30</td><td style = \"text-align: left;\">vehicular</td><td style = \"text-align: right;\">false</td><td style = \"text-align: left;\">SPEEDING 17 MPH OVER LIMIT; FAILURE TO WEAR SEAT BELTS; LICENSE TO BE IN POSSESSION; FAILURE OF OWNER TO MAINTAIN REQUIRED INS/SEC, 1ST OFF; NO REGISTRATION PLATES; NO REGISTRATION RECEIPT</td></tr><tr><td style = \"text-align: right;\">&vellip;</td><td style = \"text-align: right;\">&vellip;</td><td style = \"text-align: right;\">&vellip;</td><td style = \"text-align: right;\">&vellip;</td><td style = \"text-align: right;\">&vellip;</td></tr><tr><td class = \"rowNumber\" style = \"font-weight: bold; text-align: right;\">6910</td><td style = \"text-align: left;\">2015-09-03</td><td style = \"text-align: left;\">vehicular</td><td style = \"text-align: right;\">false</td><td style = \"text-align: left;\">RECKLESS DRIVING; IMPROPER START FROM PARKED POSITION; DISREGARD-FAIL TO YEILD RIGHT OF WAY</td></tr><tr><td class = \"rowNumber\" style = \"font-weight: bold; text-align: right;\">6911</td><td style = \"text-align: left;\">2015-09-02</td><td style = \"text-align: left;\">vehicular</td><td style = \"text-align: right;\">true</td><td style = \"text-align: left;\">OPER MTR VEH U/INFLU ALC/DRUGS/ETC. .08 (AGG CIRCUM), 2ND; FAILURE OF OWNER TO MAINTAIN REQUIRED INS/SEC, 1ST OFF; POSS OF OPEN ALC BEVERAGE CONT IN MOTOR VEH PROHIBITED</td></tr><tr><td class = \"rowNumber\" style = \"font-weight: bold; text-align: right;\">6912</td><td style = \"text-align: left;\">2015-09-02</td><td style = \"text-align: left;\">vehicular</td><td style = \"text-align: right;\">false</td><td style = \"text-align: left;\">OPERATING ON SUS OR REV OPER LICENSE</td></tr><tr><td class = \"rowNumber\" style = \"font-weight: bold; text-align: right;\">6913</td><td style = \"text-align: left;\">2015-09-02</td><td style = \"text-align: left;\">vehicular</td><td style = \"text-align: right;\">false</td><td style = \"text-align: left;\">FAILURE TO WEAR SEAT BELTS; FAILURE TO PRODUCE INSURANCE CARD; LICENSE TO BE IN POSSESSION</td></tr><tr><td class = \"rowNumber\" style = \"font-weight: bold; text-align: right;\">6914</td><td style = \"text-align: left;\">2015-09-01</td><td style = \"text-align: left;\">vehicular</td><td style = \"text-align: right;\">false</td><td style = \"text-align: left;\">OPERATING ON SUS OR REV OPER LICENSE</td></tr><tr><td class = \"rowNumber\" style = \"font-weight: bold; text-align: right;\">6915</td><td style = \"text-align: left;\">2015-09-01</td><td style = \"text-align: left;\">vehicular</td><td style = \"text-align: right;\">false</td><td style = \"text-align: left;\">ONE HEADLIGHT; FAILURE TO PRODUCE INSURANCE CARD</td></tr><tr><td class = \"rowNumber\" style = \"font-weight: bold; text-align: right;\">6916</td><td style = \"text-align: left;\">2015-09-01</td><td style = \"text-align: left;\">vehicular</td><td style = \"text-align: right;\">true</td><td style = \"text-align: left;\">ONE HEADLIGHT; REAR LICENSE NOT ILLUMITED; FAILURE TO PRODUCE INSURANCE CARD; OPER MTR VEHICLE U/INFLUENCE ALC/DRUGS/ETC. .08 - 1ST OFF; NO OPERATORS-MOPED LICENSE; POSSESSION OF SYNTHETIC DRUGS - CLASS B MISDEMEANOR; DRUG PARAPHERLIA - BUY/POSSESS</td></tr><tr><td class = \"rowNumber\" style = \"font-weight: bold; text-align: right;\">6917</td><td style = \"text-align: left;\">2015-09-01</td><td style = \"text-align: left;\">vehicular</td><td style = \"text-align: right;\">false</td><td style = \"text-align: left;\">SPEEDING 14 MPH OVER LIMIT; FAILURE TO OR IMPROPER SIGL</td></tr><tr><td class = \"rowNumber\" style = \"font-weight: bold; text-align: right;\">6918</td><td style = \"text-align: left;\">2015-09-01</td><td style = \"text-align: left;\">vehicular</td><td style = \"text-align: right;\">false</td><td style = \"text-align: left;\">SPEEDING 15 MPH OVER LIMIT</td></tr><tr><td class = \"rowNumber\" style = \"font-weight: bold; text-align: right;\">6919</td><td style = \"text-align: left;\">2015-09-01</td><td style = \"text-align: left;\">vehicular</td><td style = \"text-align: right;\">false</td><td style = \"text-align: left;\">SPEEDING 19 MPH OVER LIMIT; FAILURE TO OR IMPROPER SIGL; FAILURE TO PRODUCE INSURANCE CARD</td></tr><tr><td class = \"rowNumber\" style = \"font-weight: bold; text-align: right;\">6920</td><td style = \"text-align: left;\">2015-09-01</td><td style = \"text-align: left;\">vehicular</td><td style = \"text-align: right;\">false</td><td style = \"text-align: left;\">DISREGARDING STOP SIGN</td></tr><tr><td class = \"rowNumber\" style = \"font-weight: bold; text-align: right;\">6921</td><td style = \"text-align: left;\">2015-09-01</td><td style = \"text-align: left;\">vehicular</td><td style = \"text-align: right;\">false</td><td style = \"text-align: left;\">POSSESSION OF SYNTHETIC DRUGS - CLASS B MISDEMEANOR; DRUG PARAPHERLIA - BUY/POSSESS</td></tr></tbody></table></div>"
      ],
      "text/latex": [
       "\\begin{tabular}{r|cccc}\n",
       "\t& date & type & arrest\\_made & violation\\\\\n",
       "\t\\hline\n",
       "\t& Date & String15? & Bool & String\\\\\n",
       "\t\\hline\n",
       "\t1 & 2017-09-01 & vehicular & 0 & NO REGISTRATION PLATES \\\\\n",
       "\t2 & 2017-09-01 & vehicular & 0 & SPEEDING 15 MPH OVER LIMIT \\\\\n",
       "\t3 & 2017-09-01 & vehicular & 0 & SPEEDING 15 MPH OVER LIMIT \\\\\n",
       "\t4 & 2017-09-01 & vehicular & 0 & DISREGARDING TRAFFIC CONT DEV-TRAFFIC LIGHT; OPERATING ON SUS OR REV OPER LICENSE \\\\\n",
       "\t5 & 2017-09-01 & vehicular & 0 & NO REGISTRATION PLATES; FAILURE TO PRODUCE INSURANCE CARD; OPERATING ON SUS OR REV OPER LICENSE \\\\\n",
       "\t6 & 2017-09-01 & vehicular & 0 & NO REGISTRATION PLATES; FAILURE OF OWNER TO MAINTAIN REQUIRED INS/SEC, 1ST OFF \\\\\n",
       "\t7 & 2017-09-01 & vehicular & 0 & DISREGARDING TRAFFIC CONT DEV-TRAFFIC LIGHT \\\\\n",
       "\t8 & 2017-08-31 & vehicular & 0 & DISREGARDING STOP SIGN \\\\\n",
       "\t9 & 2017-08-30 & vehicular & 0 & SPEEDING 10 MPH OVER LIMIT \\\\\n",
       "\t10 & 2017-08-30 & vehicular & 0 & SPEEDING 08 MPH OVER LIMIT; FAILURE TO OR IMPROPER SIGL \\\\\n",
       "\t11 & 2017-08-30 & vehicular & 0 & SPEEDING 10 MPH OVER LIMIT; FAILURE TO WEAR SEAT BELTS \\\\\n",
       "\t12 & 2017-08-30 & vehicular & 0 & SPEEDING 11 MPH OVER LIMIT; NO REGISTRATION RECEIPT \\\\\n",
       "\t13 & 2017-08-30 & vehicular & 0 & SPEEDING 17 MPH OVER LIMIT; FAILURE TO WEAR SEAT BELTS; LICENSE TO BE IN POSSESSION; FAILURE OF OWNER TO MAINTAIN REQUIRED INS/SEC, 1ST OFF; NO REGISTRATION PLATES; NO REGISTRATION RECEIPT \\\\\n",
       "\t14 & 2017-08-30 & vehicular & 0 & SPEEDING 13 MPH OVER LIMIT \\\\\n",
       "\t15 & 2017-08-29 & vehicular & 0 & FAILURE OF OWNER TO MAINTAIN REQUIRED INS/SEC, 1ST OFF \\\\\n",
       "\t16 & 2017-08-29 & vehicular & 0 & SPEEDING 12 MPH OVER LIMIT; NO REGISTRATION RECEIPT \\\\\n",
       "\t17 & 2017-08-29 & vehicular & 0 & SPEEDING 10 MPH OVER LIMIT; FAILURE TO OR IMPROPER SIGL \\\\\n",
       "\t18 & 2017-08-29 & vehicular & 0 & SPEEDING 10 MPH OVER LIMIT; FAILURE TO PRODUCE INSURANCE CARD \\\\\n",
       "\t19 & 2017-08-29 & vehicular & 0 & SPEEDING 09 MPH OVER LIMIT \\\\\n",
       "\t20 & 2017-08-29 & vehicular & 0 & SPEEDING 10 MPH OVER LIMIT \\\\\n",
       "\t21 & 2017-08-29 & vehicular & 0 & SPEEDING 08 MPH OVER LIMIT \\\\\n",
       "\t22 & 2017-08-29 & vehicular & 0 & SPEEDING 10 MPH OVER LIMIT \\\\\n",
       "\t23 & 2017-08-29 & vehicular & 0 & SPEEDING 18 MPH OVER LIMIT; FAILURE TO NOTIFY ADRS CHANGE TO DEPT OF TRANS \\\\\n",
       "\t24 & 2017-08-29 & vehicular & 0 & SPEEDING 13 MPH OVER LIMIT \\\\\n",
       "\t$\\dots$ & $\\dots$ & $\\dots$ & $\\dots$ & $\\dots$ \\\\\n",
       "\\end{tabular}\n"
      ],
      "text/plain": [
       "\u001b[1m6921×4 DataFrame\u001b[0m\n",
       "\u001b[1m  Row \u001b[0m│\u001b[1m date       \u001b[0m\u001b[1m type      \u001b[0m\u001b[1m arrest_made \u001b[0m\u001b[1m violation                         \u001b[0m\n",
       "      │\u001b[90m Date       \u001b[0m\u001b[90m String15? \u001b[0m\u001b[90m Bool        \u001b[0m\u001b[90m String                            \u001b[0m\n",
       "──────┼───────────────────────────────────────────────────────────────────────\n",
       "    1 │ 2017-09-01  vehicular        false  NO REGISTRATION PLATES\n",
       "    2 │ 2017-09-01  vehicular        false  SPEEDING 15 MPH OVER LIMIT\n",
       "    3 │ 2017-09-01  vehicular        false  SPEEDING 15 MPH OVER LIMIT\n",
       "    4 │ 2017-09-01  vehicular        false  DISREGARDING TRAFFIC CONT DEV-TR…\n",
       "    5 │ 2017-09-01  vehicular        false  NO REGISTRATION PLATES; FAILURE …\n",
       "    6 │ 2017-09-01  vehicular        false  NO REGISTRATION PLATES; FAILURE …\n",
       "    7 │ 2017-09-01  vehicular        false  DISREGARDING TRAFFIC CONT DEV-TR…\n",
       "    8 │ 2017-08-31  vehicular        false  DISREGARDING STOP SIGN\n",
       "  ⋮   │     ⋮           ⋮           ⋮                       ⋮\n",
       " 6915 │ 2015-09-01  vehicular        false  ONE HEADLIGHT; FAILURE TO PRODUC…\n",
       " 6916 │ 2015-09-01  vehicular         true  ONE HEADLIGHT; REAR LICENSE NOT …\n",
       " 6917 │ 2015-09-01  vehicular        false  SPEEDING 14 MPH OVER LIMIT; FAIL…\n",
       " 6918 │ 2015-09-01  vehicular        false  SPEEDING 15 MPH OVER LIMIT\n",
       " 6919 │ 2015-09-01  vehicular        false  SPEEDING 19 MPH OVER LIMIT; FAIL…\n",
       " 6920 │ 2015-09-01  vehicular        false  DISREGARDING STOP SIGN\n",
       " 6921 │ 2015-09-01  vehicular        false  POSSESSION OF SYNTHETIC DRUGS - …\n",
       "\u001b[36m                                                             6906 rows omitted\u001b[0m"
      ]
     },
     "metadata": {},
     "output_type": "display_data"
    }
   ],
   "source": [
    "sort(df_part, :date, rev=true) # Sort based on the most recent incident"
   ]
  },
  {
   "cell_type": "code",
   "execution_count": 136,
   "metadata": {},
   "outputs": [
    {
     "data": {
      "text/html": [
       "<div><div style = \"float: left;\"><span>6921×4 DataFrame</span></div><div style = \"float: right;\"><span style = \"font-style: italic;\">6896 rows omitted</span></div><div style = \"clear: both;\"></div></div><div class = \"data-frame\" style = \"overflow-x: scroll;\"><table class = \"data-frame\" style = \"margin-bottom: 6px;\"><thead><tr class = \"header\"><th class = \"rowNumber\" style = \"font-weight: bold; text-align: right;\">Row</th><th style = \"text-align: left;\">date</th><th style = \"text-align: left;\">type</th><th style = \"text-align: left;\">arrest_made</th><th style = \"text-align: left;\">violation</th></tr><tr class = \"subheader headerLastRow\"><th class = \"rowNumber\" style = \"font-weight: bold; text-align: right;\"></th><th title = \"Dates.Date\" style = \"text-align: left;\">Date</th><th title = \"Union{Missing, String15}\" style = \"text-align: left;\">String15?</th><th title = \"Bool\" style = \"text-align: left;\">Bool</th><th title = \"String\" style = \"text-align: left;\">String</th></tr></thead><tbody><tr><td class = \"rowNumber\" style = \"font-weight: bold; text-align: right;\">1</td><td style = \"text-align: left;\">2017-09-01</td><td style = \"text-align: left;\">vehicular</td><td style = \"text-align: right;\">false</td><td style = \"text-align: left;\">SPEEDING 15 MPH OVER LIMIT</td></tr><tr><td class = \"rowNumber\" style = \"font-weight: bold; text-align: right;\">2</td><td style = \"text-align: left;\">2017-09-01</td><td style = \"text-align: left;\">vehicular</td><td style = \"text-align: right;\">false</td><td style = \"text-align: left;\">SPEEDING 15 MPH OVER LIMIT</td></tr><tr><td class = \"rowNumber\" style = \"font-weight: bold; text-align: right;\">3</td><td style = \"text-align: left;\">2017-09-01</td><td style = \"text-align: left;\">vehicular</td><td style = \"text-align: right;\">false</td><td style = \"text-align: left;\">NO REGISTRATION PLATES; FAILURE TO PRODUCE INSURANCE CARD; OPERATING ON SUS OR REV OPER LICENSE</td></tr><tr><td class = \"rowNumber\" style = \"font-weight: bold; text-align: right;\">4</td><td style = \"text-align: left;\">2017-09-01</td><td style = \"text-align: left;\">vehicular</td><td style = \"text-align: right;\">false</td><td style = \"text-align: left;\">NO REGISTRATION PLATES; FAILURE OF OWNER TO MAINTAIN REQUIRED INS/SEC, 1ST OFF</td></tr><tr><td class = \"rowNumber\" style = \"font-weight: bold; text-align: right;\">5</td><td style = \"text-align: left;\">2017-09-01</td><td style = \"text-align: left;\">vehicular</td><td style = \"text-align: right;\">false</td><td style = \"text-align: left;\">NO REGISTRATION PLATES</td></tr><tr><td class = \"rowNumber\" style = \"font-weight: bold; text-align: right;\">6</td><td style = \"text-align: left;\">2017-09-01</td><td style = \"text-align: left;\">vehicular</td><td style = \"text-align: right;\">false</td><td style = \"text-align: left;\">DISREGARDING TRAFFIC CONT DEV-TRAFFIC LIGHT; OPERATING ON SUS OR REV OPER LICENSE</td></tr><tr><td class = \"rowNumber\" style = \"font-weight: bold; text-align: right;\">7</td><td style = \"text-align: left;\">2017-09-01</td><td style = \"text-align: left;\">vehicular</td><td style = \"text-align: right;\">false</td><td style = \"text-align: left;\">DISREGARDING TRAFFIC CONT DEV-TRAFFIC LIGHT</td></tr><tr><td class = \"rowNumber\" style = \"font-weight: bold; text-align: right;\">8</td><td style = \"text-align: left;\">2017-08-31</td><td style = \"text-align: left;\">vehicular</td><td style = \"text-align: right;\">false</td><td style = \"text-align: left;\">DISREGARDING STOP SIGN</td></tr><tr><td class = \"rowNumber\" style = \"font-weight: bold; text-align: right;\">9</td><td style = \"text-align: left;\">2017-08-30</td><td style = \"text-align: left;\">vehicular</td><td style = \"text-align: right;\">false</td><td style = \"text-align: left;\">SPEEDING 17 MPH OVER LIMIT; FAILURE TO WEAR SEAT BELTS; LICENSE TO BE IN POSSESSION; FAILURE OF OWNER TO MAINTAIN REQUIRED INS/SEC, 1ST OFF; NO REGISTRATION PLATES; NO REGISTRATION RECEIPT</td></tr><tr><td class = \"rowNumber\" style = \"font-weight: bold; text-align: right;\">10</td><td style = \"text-align: left;\">2017-08-30</td><td style = \"text-align: left;\">vehicular</td><td style = \"text-align: right;\">false</td><td style = \"text-align: left;\">SPEEDING 13 MPH OVER LIMIT</td></tr><tr><td class = \"rowNumber\" style = \"font-weight: bold; text-align: right;\">11</td><td style = \"text-align: left;\">2017-08-30</td><td style = \"text-align: left;\">vehicular</td><td style = \"text-align: right;\">false</td><td style = \"text-align: left;\">SPEEDING 11 MPH OVER LIMIT; NO REGISTRATION RECEIPT</td></tr><tr><td class = \"rowNumber\" style = \"font-weight: bold; text-align: right;\">12</td><td style = \"text-align: left;\">2017-08-30</td><td style = \"text-align: left;\">vehicular</td><td style = \"text-align: right;\">false</td><td style = \"text-align: left;\">SPEEDING 10 MPH OVER LIMIT; FAILURE TO WEAR SEAT BELTS</td></tr><tr><td class = \"rowNumber\" style = \"font-weight: bold; text-align: right;\">13</td><td style = \"text-align: left;\">2017-08-30</td><td style = \"text-align: left;\">vehicular</td><td style = \"text-align: right;\">false</td><td style = \"text-align: left;\">SPEEDING 10 MPH OVER LIMIT</td></tr><tr><td style = \"text-align: right;\">&vellip;</td><td style = \"text-align: right;\">&vellip;</td><td style = \"text-align: right;\">&vellip;</td><td style = \"text-align: right;\">&vellip;</td><td style = \"text-align: right;\">&vellip;</td></tr><tr><td class = \"rowNumber\" style = \"font-weight: bold; text-align: right;\">6910</td><td style = \"text-align: left;\">2015-09-03</td><td style = \"text-align: left;\">vehicular</td><td style = \"text-align: right;\">false</td><td style = \"text-align: left;\">CARELESS DRIVING</td></tr><tr><td class = \"rowNumber\" style = \"font-weight: bold; text-align: right;\">6911</td><td style = \"text-align: left;\">2015-09-02</td><td style = \"text-align: left;\">vehicular</td><td style = \"text-align: right;\">false</td><td style = \"text-align: left;\">OPERATING ON SUS OR REV OPER LICENSE</td></tr><tr><td class = \"rowNumber\" style = \"font-weight: bold; text-align: right;\">6912</td><td style = \"text-align: left;\">2015-09-02</td><td style = \"text-align: left;\">vehicular</td><td style = \"text-align: right;\">true</td><td style = \"text-align: left;\">OPER MTR VEH U/INFLU ALC/DRUGS/ETC. .08 (AGG CIRCUM), 2ND; FAILURE OF OWNER TO MAINTAIN REQUIRED INS/SEC, 1ST OFF; POSS OF OPEN ALC BEVERAGE CONT IN MOTOR VEH PROHIBITED</td></tr><tr><td class = \"rowNumber\" style = \"font-weight: bold; text-align: right;\">6913</td><td style = \"text-align: left;\">2015-09-02</td><td style = \"text-align: left;\">vehicular</td><td style = \"text-align: right;\">false</td><td style = \"text-align: left;\">FAILURE TO WEAR SEAT BELTS; FAILURE TO PRODUCE INSURANCE CARD; LICENSE TO BE IN POSSESSION</td></tr><tr><td class = \"rowNumber\" style = \"font-weight: bold; text-align: right;\">6914</td><td style = \"text-align: left;\">2015-09-01</td><td style = \"text-align: left;\">vehicular</td><td style = \"text-align: right;\">false</td><td style = \"text-align: left;\">SPEEDING 19 MPH OVER LIMIT; FAILURE TO OR IMPROPER SIGL; FAILURE TO PRODUCE INSURANCE CARD</td></tr><tr><td class = \"rowNumber\" style = \"font-weight: bold; text-align: right;\">6915</td><td style = \"text-align: left;\">2015-09-01</td><td style = \"text-align: left;\">vehicular</td><td style = \"text-align: right;\">false</td><td style = \"text-align: left;\">SPEEDING 15 MPH OVER LIMIT</td></tr><tr><td class = \"rowNumber\" style = \"font-weight: bold; text-align: right;\">6916</td><td style = \"text-align: left;\">2015-09-01</td><td style = \"text-align: left;\">vehicular</td><td style = \"text-align: right;\">false</td><td style = \"text-align: left;\">SPEEDING 14 MPH OVER LIMIT; FAILURE TO OR IMPROPER SIGL</td></tr><tr><td class = \"rowNumber\" style = \"font-weight: bold; text-align: right;\">6917</td><td style = \"text-align: left;\">2015-09-01</td><td style = \"text-align: left;\">vehicular</td><td style = \"text-align: right;\">false</td><td style = \"text-align: left;\">POSSESSION OF SYNTHETIC DRUGS - CLASS B MISDEMEANOR; DRUG PARAPHERLIA - BUY/POSSESS</td></tr><tr><td class = \"rowNumber\" style = \"font-weight: bold; text-align: right;\">6918</td><td style = \"text-align: left;\">2015-09-01</td><td style = \"text-align: left;\">vehicular</td><td style = \"text-align: right;\">false</td><td style = \"text-align: left;\">OPERATING ON SUS OR REV OPER LICENSE</td></tr><tr><td class = \"rowNumber\" style = \"font-weight: bold; text-align: right;\">6919</td><td style = \"text-align: left;\">2015-09-01</td><td style = \"text-align: left;\">vehicular</td><td style = \"text-align: right;\">true</td><td style = \"text-align: left;\">ONE HEADLIGHT; REAR LICENSE NOT ILLUMITED; FAILURE TO PRODUCE INSURANCE CARD; OPER MTR VEHICLE U/INFLUENCE ALC/DRUGS/ETC. .08 - 1ST OFF; NO OPERATORS-MOPED LICENSE; POSSESSION OF SYNTHETIC DRUGS - CLASS B MISDEMEANOR; DRUG PARAPHERLIA - BUY/POSSESS</td></tr><tr><td class = \"rowNumber\" style = \"font-weight: bold; text-align: right;\">6920</td><td style = \"text-align: left;\">2015-09-01</td><td style = \"text-align: left;\">vehicular</td><td style = \"text-align: right;\">false</td><td style = \"text-align: left;\">ONE HEADLIGHT; FAILURE TO PRODUCE INSURANCE CARD</td></tr><tr><td class = \"rowNumber\" style = \"font-weight: bold; text-align: right;\">6921</td><td style = \"text-align: left;\">2015-09-01</td><td style = \"text-align: left;\">vehicular</td><td style = \"text-align: right;\">false</td><td style = \"text-align: left;\">DISREGARDING STOP SIGN</td></tr></tbody></table></div>"
      ],
      "text/latex": [
       "\\begin{tabular}{r|cccc}\n",
       "\t& date & type & arrest\\_made & violation\\\\\n",
       "\t\\hline\n",
       "\t& Date & String15? & Bool & String\\\\\n",
       "\t\\hline\n",
       "\t1 & 2017-09-01 & vehicular & 0 & SPEEDING 15 MPH OVER LIMIT \\\\\n",
       "\t2 & 2017-09-01 & vehicular & 0 & SPEEDING 15 MPH OVER LIMIT \\\\\n",
       "\t3 & 2017-09-01 & vehicular & 0 & NO REGISTRATION PLATES; FAILURE TO PRODUCE INSURANCE CARD; OPERATING ON SUS OR REV OPER LICENSE \\\\\n",
       "\t4 & 2017-09-01 & vehicular & 0 & NO REGISTRATION PLATES; FAILURE OF OWNER TO MAINTAIN REQUIRED INS/SEC, 1ST OFF \\\\\n",
       "\t5 & 2017-09-01 & vehicular & 0 & NO REGISTRATION PLATES \\\\\n",
       "\t6 & 2017-09-01 & vehicular & 0 & DISREGARDING TRAFFIC CONT DEV-TRAFFIC LIGHT; OPERATING ON SUS OR REV OPER LICENSE \\\\\n",
       "\t7 & 2017-09-01 & vehicular & 0 & DISREGARDING TRAFFIC CONT DEV-TRAFFIC LIGHT \\\\\n",
       "\t8 & 2017-08-31 & vehicular & 0 & DISREGARDING STOP SIGN \\\\\n",
       "\t9 & 2017-08-30 & vehicular & 0 & SPEEDING 17 MPH OVER LIMIT; FAILURE TO WEAR SEAT BELTS; LICENSE TO BE IN POSSESSION; FAILURE OF OWNER TO MAINTAIN REQUIRED INS/SEC, 1ST OFF; NO REGISTRATION PLATES; NO REGISTRATION RECEIPT \\\\\n",
       "\t10 & 2017-08-30 & vehicular & 0 & SPEEDING 13 MPH OVER LIMIT \\\\\n",
       "\t11 & 2017-08-30 & vehicular & 0 & SPEEDING 11 MPH OVER LIMIT; NO REGISTRATION RECEIPT \\\\\n",
       "\t12 & 2017-08-30 & vehicular & 0 & SPEEDING 10 MPH OVER LIMIT; FAILURE TO WEAR SEAT BELTS \\\\\n",
       "\t13 & 2017-08-30 & vehicular & 0 & SPEEDING 10 MPH OVER LIMIT \\\\\n",
       "\t14 & 2017-08-30 & vehicular & 0 & SPEEDING 08 MPH OVER LIMIT; FAILURE TO OR IMPROPER SIGL \\\\\n",
       "\t15 & 2017-08-29 & vehicular & 0 & SPEEDING 18 MPH OVER LIMIT; FAILURE TO NOTIFY ADRS CHANGE TO DEPT OF TRANS \\\\\n",
       "\t16 & 2017-08-29 & vehicular & 0 & SPEEDING 13 MPH OVER LIMIT \\\\\n",
       "\t17 & 2017-08-29 & vehicular & 0 & SPEEDING 12 MPH OVER LIMIT; NO REGISTRATION RECEIPT \\\\\n",
       "\t18 & 2017-08-29 & vehicular & 0 & SPEEDING 12 MPH OVER LIMIT \\\\\n",
       "\t19 & 2017-08-29 & vehicular & 0 & SPEEDING 10 MPH OVER LIMIT; FAILURE TO WEAR SEAT BELTS \\\\\n",
       "\t20 & 2017-08-29 & vehicular & 0 & SPEEDING 10 MPH OVER LIMIT; FAILURE TO PRODUCE INSURANCE CARD; NO REGISTRATION RECEIPT \\\\\n",
       "\t21 & 2017-08-29 & vehicular & 0 & SPEEDING 10 MPH OVER LIMIT; FAILURE TO PRODUCE INSURANCE CARD \\\\\n",
       "\t22 & 2017-08-29 & vehicular & 0 & SPEEDING 10 MPH OVER LIMIT; FAILURE TO OR IMPROPER SIGL \\\\\n",
       "\t23 & 2017-08-29 & vehicular & 0 & SPEEDING 10 MPH OVER LIMIT \\\\\n",
       "\t24 & 2017-08-29 & vehicular & 0 & SPEEDING 10 MPH OVER LIMIT \\\\\n",
       "\t$\\dots$ & $\\dots$ & $\\dots$ & $\\dots$ & $\\dots$ \\\\\n",
       "\\end{tabular}\n"
      ],
      "text/plain": [
       "\u001b[1m6921×4 DataFrame\u001b[0m\n",
       "\u001b[1m  Row \u001b[0m│\u001b[1m date       \u001b[0m\u001b[1m type      \u001b[0m\u001b[1m arrest_made \u001b[0m\u001b[1m violation                         \u001b[0m\n",
       "      │\u001b[90m Date       \u001b[0m\u001b[90m String15? \u001b[0m\u001b[90m Bool        \u001b[0m\u001b[90m String                            \u001b[0m\n",
       "──────┼───────────────────────────────────────────────────────────────────────\n",
       "    1 │ 2017-09-01  vehicular        false  SPEEDING 15 MPH OVER LIMIT\n",
       "    2 │ 2017-09-01  vehicular        false  SPEEDING 15 MPH OVER LIMIT\n",
       "    3 │ 2017-09-01  vehicular        false  NO REGISTRATION PLATES; FAILURE …\n",
       "    4 │ 2017-09-01  vehicular        false  NO REGISTRATION PLATES; FAILURE …\n",
       "    5 │ 2017-09-01  vehicular        false  NO REGISTRATION PLATES\n",
       "    6 │ 2017-09-01  vehicular        false  DISREGARDING TRAFFIC CONT DEV-TR…\n",
       "    7 │ 2017-09-01  vehicular        false  DISREGARDING TRAFFIC CONT DEV-TR…\n",
       "    8 │ 2017-08-31  vehicular        false  DISREGARDING STOP SIGN\n",
       "  ⋮   │     ⋮           ⋮           ⋮                       ⋮\n",
       " 6915 │ 2015-09-01  vehicular        false  SPEEDING 15 MPH OVER LIMIT\n",
       " 6916 │ 2015-09-01  vehicular        false  SPEEDING 14 MPH OVER LIMIT; FAIL…\n",
       " 6917 │ 2015-09-01  vehicular        false  POSSESSION OF SYNTHETIC DRUGS - …\n",
       " 6918 │ 2015-09-01  vehicular        false  OPERATING ON SUS OR REV OPER LIC…\n",
       " 6919 │ 2015-09-01  vehicular         true  ONE HEADLIGHT; REAR LICENSE NOT …\n",
       " 6920 │ 2015-09-01  vehicular        false  ONE HEADLIGHT; FAILURE TO PRODUC…\n",
       " 6921 │ 2015-09-01  vehicular        false  DISREGARDING STOP SIGN\n",
       "\u001b[36m                                                             6906 rows omitted\u001b[0m"
      ]
     },
     "metadata": {},
     "output_type": "display_data"
    }
   ],
   "source": [
    "sort(df_part, [:date, :violation], rev=true) # Now we sort based on date and violation in reverse order"
   ]
  },
  {
   "cell_type": "code",
   "execution_count": 137,
   "metadata": {},
   "outputs": [
    {
     "data": {
      "text/html": [
       "<div><div style = \"float: left;\"><span>4×1 DataFrame</span></div><div style = \"clear: both;\"></div></div><div class = \"data-frame\" style = \"overflow-x: scroll;\"><table class = \"data-frame\" style = \"margin-bottom: 6px;\"><thead><tr class = \"header\"><th class = \"rowNumber\" style = \"font-weight: bold; text-align: right;\">Row</th><th style = \"text-align: left;\">x</th></tr><tr class = \"subheader headerLastRow\"><th class = \"rowNumber\" style = \"font-weight: bold; text-align: right;\"></th><th title = \"Int64\" style = \"text-align: left;\">Int64</th></tr></thead><tbody><tr><td class = \"rowNumber\" style = \"font-weight: bold; text-align: right;\">1</td><td style = \"text-align: right;\">1</td></tr><tr><td class = \"rowNumber\" style = \"font-weight: bold; text-align: right;\">2</td><td style = \"text-align: right;\">2</td></tr><tr><td class = \"rowNumber\" style = \"font-weight: bold; text-align: right;\">3</td><td style = \"text-align: right;\">3</td></tr><tr><td class = \"rowNumber\" style = \"font-weight: bold; text-align: right;\">4</td><td style = \"text-align: right;\">4</td></tr></tbody></table></div>"
      ],
      "text/latex": [
       "\\begin{tabular}{r|c}\n",
       "\t& x\\\\\n",
       "\t\\hline\n",
       "\t& Int64\\\\\n",
       "\t\\hline\n",
       "\t1 & 1 \\\\\n",
       "\t2 & 2 \\\\\n",
       "\t3 & 3 \\\\\n",
       "\t4 & 4 \\\\\n",
       "\\end{tabular}\n"
      ],
      "text/plain": [
       "\u001b[1m4×1 DataFrame\u001b[0m\n",
       "\u001b[1m Row \u001b[0m│\u001b[1m x     \u001b[0m\n",
       "     │\u001b[90m Int64 \u001b[0m\n",
       "─────┼───────\n",
       "   1 │     1\n",
       "   2 │     2\n",
       "   3 │     3\n",
       "   4 │     4"
      ]
     },
     "metadata": {},
     "output_type": "display_data"
    }
   ],
   "source": [
    "df1 = DataFrame(x = [1,2,3,4])"
   ]
  },
  {
   "cell_type": "code",
   "execution_count": 138,
   "metadata": {},
   "outputs": [
    {
     "name": "stderr",
     "output_type": "stream",
     "text": [
      "\u001b[32m\u001b[1m   Resolving\u001b[22m\u001b[39m package versions...\n"
     ]
    },
    {
     "name": "stderr",
     "output_type": "stream",
     "text": [
      "\u001b[32m\u001b[1m   Installed\u001b[22m\u001b[39m DataFramesMeta ─ v0.14.0\n"
     ]
    },
    {
     "name": "stderr",
     "output_type": "stream",
     "text": [
      "\u001b[32m\u001b[1m    Updating\u001b[22m\u001b[39m `~/.julia/environments/v1.8/Project.toml`\n",
      " \u001b[90m [1313f7d8] \u001b[39m\u001b[92m+ DataFramesMeta v0.14.0\u001b[39m\n",
      "\u001b[32m\u001b[1m    Updating\u001b[22m\u001b[39m `~/.julia/environments/v1.8/Manifest.toml`\n"
     ]
    },
    {
     "name": "stderr",
     "output_type": "stream",
     "text": [
      " \u001b[90m [8be319e6] \u001b[39m\u001b[92m+ Chain v0.5.0\u001b[39m\n",
      " \u001b[90m [1313f7d8] \u001b[39m\u001b[92m+ DataFramesMeta v0.14.0\u001b[39m\n"
     ]
    },
    {
     "name": "stderr",
     "output_type": "stream",
     "text": [
      "\u001b[32m\u001b[1mPrecompiling\u001b[22m\u001b[39m project...\n"
     ]
    },
    {
     "name": "stderr",
     "output_type": "stream",
     "text": [
      "\u001b[32m  ✓ \u001b[39m\u001b[90mChain\u001b[39m\n"
     ]
    },
    {
     "name": "stderr",
     "output_type": "stream",
     "text": [
      "\u001b[32m  ✓ \u001b[39mDataFramesMeta\n",
      "  2 dependencies successfully precompiled in 5 seconds. 225 already precompiled.\n"
     ]
    }
   ],
   "source": [
    "Pkg.add(\"DataFramesMeta\")"
   ]
  },
  {
   "cell_type": "code",
   "execution_count": 139,
   "metadata": {},
   "outputs": [
    {
     "name": "stderr",
     "output_type": "stream",
     "text": [
      "WARNING: using DataFramesMeta.@orderby in module Main conflicts with an existing identifier.\n",
      "WARNING: using DataFramesMeta.@select in module Main conflicts with an existing identifier.\n"
     ]
    }
   ],
   "source": [
    "using DataFramesMeta"
   ]
  },
  {
   "cell_type": "code",
   "execution_count": 140,
   "metadata": {},
   "outputs": [
    {
     "data": {
      "text/html": [
       "<div><div style = \"float: left;\"><span>4×1 DataFrame</span></div><div style = \"clear: both;\"></div></div><div class = \"data-frame\" style = \"overflow-x: scroll;\"><table class = \"data-frame\" style = \"margin-bottom: 6px;\"><thead><tr class = \"header\"><th class = \"rowNumber\" style = \"font-weight: bold; text-align: right;\">Row</th><th style = \"text-align: left;\">sqrt_x</th></tr><tr class = \"subheader headerLastRow\"><th class = \"rowNumber\" style = \"font-weight: bold; text-align: right;\"></th><th title = \"Float64\" style = \"text-align: left;\">Float64</th></tr></thead><tbody><tr><td class = \"rowNumber\" style = \"font-weight: bold; text-align: right;\">1</td><td style = \"text-align: right;\">1.0</td></tr><tr><td class = \"rowNumber\" style = \"font-weight: bold; text-align: right;\">2</td><td style = \"text-align: right;\">1.41421</td></tr><tr><td class = \"rowNumber\" style = \"font-weight: bold; text-align: right;\">3</td><td style = \"text-align: right;\">1.73205</td></tr><tr><td class = \"rowNumber\" style = \"font-weight: bold; text-align: right;\">4</td><td style = \"text-align: right;\">2.0</td></tr></tbody></table></div>"
      ],
      "text/latex": [
       "\\begin{tabular}{r|c}\n",
       "\t& sqrt\\_x\\\\\n",
       "\t\\hline\n",
       "\t& Float64\\\\\n",
       "\t\\hline\n",
       "\t1 & 1.0 \\\\\n",
       "\t2 & 1.41421 \\\\\n",
       "\t3 & 1.73205 \\\\\n",
       "\t4 & 2.0 \\\\\n",
       "\\end{tabular}\n"
      ],
      "text/plain": [
       "\u001b[1m4×1 DataFrame\u001b[0m\n",
       "\u001b[1m Row \u001b[0m│\u001b[1m sqrt_x  \u001b[0m\n",
       "     │\u001b[90m Float64 \u001b[0m\n",
       "─────┼─────────\n",
       "   1 │ 1.0\n",
       "   2 │ 1.41421\n",
       "   3 │ 1.73205\n",
       "   4 │ 2.0"
      ]
     },
     "metadata": {},
     "output_type": "display_data"
    }
   ],
   "source": [
    "@rselect(df1, :sqrt_x = sqrt(:x))"
   ]
  },
  {
   "cell_type": "code",
   "execution_count": 141,
   "metadata": {},
   "outputs": [
    {
     "data": {
      "text/html": [
       "<div><div style = \"float: left;\"><span>4×1 DataFrame</span></div><div style = \"clear: both;\"></div></div><div class = \"data-frame\" style = \"overflow-x: scroll;\"><table class = \"data-frame\" style = \"margin-bottom: 6px;\"><thead><tr class = \"header\"><th class = \"rowNumber\" style = \"font-weight: bold; text-align: right;\">Row</th><th style = \"text-align: left;\">sqrt_x</th></tr><tr class = \"subheader headerLastRow\"><th class = \"rowNumber\" style = \"font-weight: bold; text-align: right;\"></th><th title = \"Float64\" style = \"text-align: left;\">Float64</th></tr></thead><tbody><tr><td class = \"rowNumber\" style = \"font-weight: bold; text-align: right;\">1</td><td style = \"text-align: right;\">1.0</td></tr><tr><td class = \"rowNumber\" style = \"font-weight: bold; text-align: right;\">2</td><td style = \"text-align: right;\">1.41421</td></tr><tr><td class = \"rowNumber\" style = \"font-weight: bold; text-align: right;\">3</td><td style = \"text-align: right;\">1.73205</td></tr><tr><td class = \"rowNumber\" style = \"font-weight: bold; text-align: right;\">4</td><td style = \"text-align: right;\">2.0</td></tr></tbody></table></div>"
      ],
      "text/latex": [
       "\\begin{tabular}{r|c}\n",
       "\t& sqrt\\_x\\\\\n",
       "\t\\hline\n",
       "\t& Float64\\\\\n",
       "\t\\hline\n",
       "\t1 & 1.0 \\\\\n",
       "\t2 & 1.41421 \\\\\n",
       "\t3 & 1.73205 \\\\\n",
       "\t4 & 2.0 \\\\\n",
       "\\end{tabular}\n"
      ],
      "text/plain": [
       "\u001b[1m4×1 DataFrame\u001b[0m\n",
       "\u001b[1m Row \u001b[0m│\u001b[1m sqrt_x  \u001b[0m\n",
       "     │\u001b[90m Float64 \u001b[0m\n",
       "─────┼─────────\n",
       "   1 │ 1.0\n",
       "   2 │ 1.41421\n",
       "   3 │ 1.73205\n",
       "   4 │ 2.0"
      ]
     },
     "metadata": {},
     "output_type": "display_data"
    }
   ],
   "source": [
    "select(df1, :x => ByRow(sqrt) => :sqrt_x)"
   ]
  },
  {
   "cell_type": "code",
   "execution_count": 142,
   "metadata": {},
   "outputs": [
    {
     "data": {
      "text/html": [
       "<div><div style = \"float: left;\"><span>4×2 DataFrame</span></div><div style = \"clear: both;\"></div></div><div class = \"data-frame\" style = \"overflow-x: scroll;\"><table class = \"data-frame\" style = \"margin-bottom: 6px;\"><thead><tr class = \"header\"><th class = \"rowNumber\" style = \"font-weight: bold; text-align: right;\">Row</th><th style = \"text-align: left;\">x</th><th style = \"text-align: left;\">sqrt_x</th></tr><tr class = \"subheader headerLastRow\"><th class = \"rowNumber\" style = \"font-weight: bold; text-align: right;\"></th><th title = \"Int64\" style = \"text-align: left;\">Int64</th><th title = \"Float64\" style = \"text-align: left;\">Float64</th></tr></thead><tbody><tr><td class = \"rowNumber\" style = \"font-weight: bold; text-align: right;\">1</td><td style = \"text-align: right;\">1</td><td style = \"text-align: right;\">1.0</td></tr><tr><td class = \"rowNumber\" style = \"font-weight: bold; text-align: right;\">2</td><td style = \"text-align: right;\">2</td><td style = \"text-align: right;\">1.41421</td></tr><tr><td class = \"rowNumber\" style = \"font-weight: bold; text-align: right;\">3</td><td style = \"text-align: right;\">3</td><td style = \"text-align: right;\">1.73205</td></tr><tr><td class = \"rowNumber\" style = \"font-weight: bold; text-align: right;\">4</td><td style = \"text-align: right;\">4</td><td style = \"text-align: right;\">2.0</td></tr></tbody></table></div>"
      ],
      "text/latex": [
       "\\begin{tabular}{r|cc}\n",
       "\t& x & sqrt\\_x\\\\\n",
       "\t\\hline\n",
       "\t& Int64 & Float64\\\\\n",
       "\t\\hline\n",
       "\t1 & 1 & 1.0 \\\\\n",
       "\t2 & 2 & 1.41421 \\\\\n",
       "\t3 & 3 & 1.73205 \\\\\n",
       "\t4 & 4 & 2.0 \\\\\n",
       "\\end{tabular}\n"
      ],
      "text/plain": [
       "\u001b[1m4×2 DataFrame\u001b[0m\n",
       "\u001b[1m Row \u001b[0m│\u001b[1m x     \u001b[0m\u001b[1m sqrt_x  \u001b[0m\n",
       "     │\u001b[90m Int64 \u001b[0m\u001b[90m Float64 \u001b[0m\n",
       "─────┼────────────────\n",
       "   1 │     1  1.0\n",
       "   2 │     2  1.41421\n",
       "   3 │     3  1.73205\n",
       "   4 │     4  2.0"
      ]
     },
     "metadata": {},
     "output_type": "display_data"
    }
   ],
   "source": [
    "df1 |> \n",
    "    @mutate(sqrt_x = sqrt(_.x)) |>\n",
    "    DataFrame"
   ]
  },
  {
   "attachments": {},
   "cell_type": "markdown",
   "metadata": {},
   "source": [
    "## Calculating mean, median and std (using the Statistics module)"
   ]
  },
  {
   "attachments": {},
   "cell_type": "markdown",
   "metadata": {},
   "source": [
    "We create the pizza table from \"Julia as second language\" from Manning"
   ]
  },
  {
   "cell_type": "code",
   "execution_count": 143,
   "metadata": {},
   "outputs": [
    {
     "data": {
      "text/plain": [
       "5-element Vector{String}:\n",
       " \"Pepperoni\"\n",
       " \"Margherita\"\n",
       " \"BBQ Chicken\"\n",
       " \"Hawaiian\"\n",
       " \"Prosciutto\""
      ]
     },
     "metadata": {},
     "output_type": "display_data"
    }
   ],
   "source": [
    "pizza = [\"Pepperoni\", \"Margherita\", \"BBQ Chicken\", \"Hawaiian\", \"Prosciutto\"]"
   ]
  },
  {
   "cell_type": "code",
   "execution_count": 144,
   "metadata": {},
   "outputs": [
    {
     "data": {
      "text/plain": [
       "5-element Vector{Int64}:\n",
       " 4\n",
       " 1\n",
       " 5\n",
       " 3\n",
       " 2"
      ]
     },
     "metadata": {},
     "output_type": "display_data"
    }
   ],
   "source": [
    "amounts = [4, 1, 5, 3, 2]"
   ]
  },
  {
   "cell_type": "code",
   "execution_count": 145,
   "metadata": {},
   "outputs": [
    {
     "data": {
      "text/plain": [
       "5-element Vector{Float64}:\n",
       " 15.0\n",
       " 11.5\n",
       " 13.0\n",
       " 12.75\n",
       " 14.25"
      ]
     },
     "metadata": {},
     "output_type": "display_data"
    }
   ],
   "source": [
    "prices = [15.0, 11.5, 13.0, 12.75, 14.25]"
   ]
  },
  {
   "cell_type": "code",
   "execution_count": 146,
   "metadata": {},
   "outputs": [
    {
     "data": {
      "text/html": [
       "<div><div style = \"float: left;\"><span>5×3 DataFrame</span></div><div style = \"clear: both;\"></div></div><div class = \"data-frame\" style = \"overflow-x: scroll;\"><table class = \"data-frame\" style = \"margin-bottom: 6px;\"><thead><tr class = \"header\"><th class = \"rowNumber\" style = \"font-weight: bold; text-align: right;\">Row</th><th style = \"text-align: left;\">Pizza</th><th style = \"text-align: left;\">Amount</th><th style = \"text-align: left;\">Price</th></tr><tr class = \"subheader headerLastRow\"><th class = \"rowNumber\" style = \"font-weight: bold; text-align: right;\"></th><th title = \"String\" style = \"text-align: left;\">String</th><th title = \"Int64\" style = \"text-align: left;\">Int64</th><th title = \"Float64\" style = \"text-align: left;\">Float64</th></tr></thead><tbody><tr><td class = \"rowNumber\" style = \"font-weight: bold; text-align: right;\">1</td><td style = \"text-align: left;\">Pepperoni</td><td style = \"text-align: right;\">4</td><td style = \"text-align: right;\">15.0</td></tr><tr><td class = \"rowNumber\" style = \"font-weight: bold; text-align: right;\">2</td><td style = \"text-align: left;\">Margherita</td><td style = \"text-align: right;\">1</td><td style = \"text-align: right;\">11.5</td></tr><tr><td class = \"rowNumber\" style = \"font-weight: bold; text-align: right;\">3</td><td style = \"text-align: left;\">BBQ Chicken</td><td style = \"text-align: right;\">5</td><td style = \"text-align: right;\">13.0</td></tr><tr><td class = \"rowNumber\" style = \"font-weight: bold; text-align: right;\">4</td><td style = \"text-align: left;\">Hawaiian</td><td style = \"text-align: right;\">3</td><td style = \"text-align: right;\">12.75</td></tr><tr><td class = \"rowNumber\" style = \"font-weight: bold; text-align: right;\">5</td><td style = \"text-align: left;\">Prosciutto</td><td style = \"text-align: right;\">2</td><td style = \"text-align: right;\">14.25</td></tr></tbody></table></div>"
      ],
      "text/latex": [
       "\\begin{tabular}{r|ccc}\n",
       "\t& Pizza & Amount & Price\\\\\n",
       "\t\\hline\n",
       "\t& String & Int64 & Float64\\\\\n",
       "\t\\hline\n",
       "\t1 & Pepperoni & 4 & 15.0 \\\\\n",
       "\t2 & Margherita & 1 & 11.5 \\\\\n",
       "\t3 & BBQ Chicken & 5 & 13.0 \\\\\n",
       "\t4 & Hawaiian & 3 & 12.75 \\\\\n",
       "\t5 & Prosciutto & 2 & 14.25 \\\\\n",
       "\\end{tabular}\n"
      ],
      "text/plain": [
       "\u001b[1m5×3 DataFrame\u001b[0m\n",
       "\u001b[1m Row \u001b[0m│\u001b[1m Pizza       \u001b[0m\u001b[1m Amount \u001b[0m\u001b[1m Price   \u001b[0m\n",
       "     │\u001b[90m String      \u001b[0m\u001b[90m Int64  \u001b[0m\u001b[90m Float64 \u001b[0m\n",
       "─────┼──────────────────────────────\n",
       "   1 │ Pepperoni         4    15.0\n",
       "   2 │ Margherita        1    11.5\n",
       "   3 │ BBQ Chicken       5    13.0\n",
       "   4 │ Hawaiian          3    12.75\n",
       "   5 │ Prosciutto        2    14.25"
      ]
     },
     "metadata": {},
     "output_type": "display_data"
    }
   ],
   "source": [
    "pizza_df = DataFrame(Pizza = pizza, Amount = amounts, Price = prices)"
   ]
  },
  {
   "cell_type": "code",
   "execution_count": 147,
   "metadata": {},
   "outputs": [
    {
     "data": {
      "text/plain": [
       "5-element Vector{Int64}:\n",
       " 4\n",
       " 1\n",
       " 4\n",
       " 3\n",
       " 2"
      ]
     },
     "metadata": {},
     "output_type": "display_data"
    }
   ],
   "source": [
    "column_vector = [4, 1, 4, 3, 2]"
   ]
  },
  {
   "cell_type": "code",
   "execution_count": 148,
   "metadata": {},
   "outputs": [
    {
     "data": {
      "text/plain": [
       "1×5 Matrix{Int64}:\n",
       " 4  1  4  3  2"
      ]
     },
     "metadata": {},
     "output_type": "display_data"
    }
   ],
   "source": [
    "row_vector = [4 1 4 3 2]"
   ]
  },
  {
   "cell_type": "code",
   "execution_count": 149,
   "metadata": {},
   "outputs": [
    {
     "data": {
      "text/plain": [
       "5-element Vector{Int64}:\n",
       " 4\n",
       " 1\n",
       " 5\n",
       " 3\n",
       " 2"
      ]
     },
     "metadata": {},
     "output_type": "display_data"
    }
   ],
   "source": [
    "amounts = [4, 1, 5, 3, 2]"
   ]
  },
  {
   "cell_type": "code",
   "execution_count": 150,
   "metadata": {},
   "outputs": [],
   "source": [
    "# Import the Statistics module\n",
    "import Statistics as stats"
   ]
  },
  {
   "cell_type": "code",
   "execution_count": 151,
   "metadata": {},
   "outputs": [
    {
     "data": {
      "text/plain": [
       "15"
      ]
     },
     "metadata": {},
     "output_type": "display_data"
    }
   ],
   "source": [
    "stats.sum(amounts)"
   ]
  },
  {
   "cell_type": "code",
   "execution_count": 152,
   "metadata": {},
   "outputs": [
    {
     "data": {
      "text/plain": [
       "15"
      ]
     },
     "metadata": {},
     "output_type": "display_data"
    }
   ],
   "source": [
    "no_pizzas_sold = stats.sum(amounts)"
   ]
  },
  {
   "cell_type": "code",
   "execution_count": 153,
   "metadata": {},
   "outputs": [
    {
     "data": {
      "text/plain": [
       "15"
      ]
     },
     "metadata": {},
     "output_type": "display_data"
    }
   ],
   "source": [
    "no_pizzas_sold = stats.sum(pizza_df.Amount)"
   ]
  },
  {
   "cell_type": "code",
   "execution_count": 154,
   "metadata": {},
   "outputs": [],
   "source": []
  },
  {
   "cell_type": "code",
   "execution_count": 155,
   "metadata": {},
   "outputs": [
    {
     "data": {
      "text/plain": [
       "3.0"
      ]
     },
     "metadata": {},
     "output_type": "display_data"
    }
   ],
   "source": [
    "avg_pizzas_sold = no_pizzas_sold / length(amounts)"
   ]
  },
  {
   "cell_type": "code",
   "execution_count": 156,
   "metadata": {},
   "outputs": [
    {
     "data": {
      "text/plain": [
       "3.0"
      ]
     },
     "metadata": {},
     "output_type": "display_data"
    }
   ],
   "source": [
    "avg_pizzas_sold = stats.mean(pizza_df.Amount)"
   ]
  },
  {
   "cell_type": "code",
   "execution_count": 157,
   "metadata": {},
   "outputs": [
    {
     "data": {
      "text/plain": [
       "203.25"
      ]
     },
     "metadata": {},
     "output_type": "display_data"
    }
   ],
   "source": [
    "money_made = stats.sum(amounts .* prices)"
   ]
  },
  {
   "cell_type": "code",
   "execution_count": 158,
   "metadata": {},
   "outputs": [],
   "source": [
    "using Statistics # This loads all the functions in the module and makes them available to use"
   ]
  },
  {
   "cell_type": "code",
   "execution_count": 159,
   "metadata": {},
   "outputs": [
    {
     "data": {
      "text/plain": [
       "3.0"
      ]
     },
     "metadata": {},
     "output_type": "display_data"
    }
   ],
   "source": [
    "mean(amounts)"
   ]
  },
  {
   "cell_type": "code",
   "execution_count": 160,
   "metadata": {},
   "outputs": [
    {
     "data": {
      "text/plain": [
       "3.0"
      ]
     },
     "metadata": {},
     "output_type": "display_data"
    }
   ],
   "source": [
    "median(amounts)"
   ]
  },
  {
   "cell_type": "code",
   "execution_count": 161,
   "metadata": {},
   "outputs": [
    {
     "data": {
      "text/plain": [
       "1.5811388300841898"
      ]
     },
     "metadata": {},
     "output_type": "display_data"
    }
   ],
   "source": [
    "std(amounts)"
   ]
  },
  {
   "attachments": {},
   "cell_type": "markdown",
   "metadata": {},
   "source": [
    "How do we find the type of elements?"
   ]
  },
  {
   "cell_type": "code",
   "execution_count": 162,
   "metadata": {},
   "outputs": [
    {
     "data": {
      "text/plain": [
       "Int64"
      ]
     },
     "metadata": {},
     "output_type": "display_data"
    }
   ],
   "source": [
    "eltype(amounts)"
   ]
  },
  {
   "attachments": {},
   "cell_type": "markdown",
   "metadata": {},
   "source": [
    "How do we find the type of the data structure?"
   ]
  },
  {
   "cell_type": "code",
   "execution_count": 163,
   "metadata": {},
   "outputs": [
    {
     "data": {
      "text/plain": [
       "Vector{Int64}\u001b[90m (alias for \u001b[39m\u001b[90mArray{Int64, 1}\u001b[39m\u001b[90m)\u001b[39m"
      ]
     },
     "metadata": {},
     "output_type": "display_data"
    }
   ],
   "source": [
    "typeof(amounts)"
   ]
  },
  {
   "attachments": {},
   "cell_type": "markdown",
   "metadata": {},
   "source": [
    "## Create arrays"
   ]
  },
  {
   "cell_type": "code",
   "execution_count": 164,
   "metadata": {},
   "outputs": [
    {
     "data": {
      "text/plain": [
       "100-element Vector{Float64}:\n",
       " 0.0\n",
       " 0.0\n",
       " 0.0\n",
       " 0.0\n",
       " 0.0\n",
       " 0.0\n",
       " 0.0\n",
       " 0.0\n",
       " 0.0\n",
       " 0.0\n",
       " ⋮\n",
       " 0.0\n",
       " 0.0\n",
       " 0.0\n",
       " 0.0\n",
       " 0.0\n",
       " 0.0\n",
       " 0.0\n",
       " 0.0\n",
       " 0.0"
      ]
     },
     "metadata": {},
     "output_type": "display_data"
    }
   ],
   "source": [
    "zeros_array = zeros(100)"
   ]
  },
  {
   "cell_type": "code",
   "execution_count": 165,
   "metadata": {},
   "outputs": [
    {
     "data": {
      "text/plain": [
       "100-element Vector{Float64}:\n",
       " 1.0\n",
       " 1.0\n",
       " 1.0\n",
       " 1.0\n",
       " 1.0\n",
       " 1.0\n",
       " 1.0\n",
       " 1.0\n",
       " 1.0\n",
       " 1.0\n",
       " ⋮\n",
       " 1.0\n",
       " 1.0\n",
       " 1.0\n",
       " 1.0\n",
       " 1.0\n",
       " 1.0\n",
       " 1.0\n",
       " 1.0\n",
       " 1.0"
      ]
     },
     "metadata": {},
     "output_type": "display_data"
    }
   ],
   "source": [
    "ones_array = ones(100)"
   ]
  },
  {
   "cell_type": "code",
   "execution_count": 166,
   "metadata": {},
   "outputs": [
    {
     "data": {
      "text/plain": [
       "100-element Vector{Int64}:\n",
       " 1\n",
       " 1\n",
       " 1\n",
       " 1\n",
       " 1\n",
       " 1\n",
       " 1\n",
       " 1\n",
       " 1\n",
       " 1\n",
       " ⋮\n",
       " 1\n",
       " 1\n",
       " 1\n",
       " 1\n",
       " 1\n",
       " 1\n",
       " 1\n",
       " 1\n",
       " 1"
      ]
     },
     "metadata": {},
     "output_type": "display_data"
    }
   ],
   "source": [
    "ones_int_array = ones(Int64, 100)"
   ]
  },
  {
   "cell_type": "code",
   "execution_count": 167,
   "metadata": {},
   "outputs": [
    {
     "data": {
      "text/plain": [
       "100-element Vector{Int64}:\n",
       " 42\n",
       " 42\n",
       " 42\n",
       " 42\n",
       " 42\n",
       " 42\n",
       " 42\n",
       " 42\n",
       " 42\n",
       " 42\n",
       "  ⋮\n",
       " 42\n",
       " 42\n",
       " 42\n",
       " 42\n",
       " 42\n",
       " 42\n",
       " 42\n",
       " 42\n",
       " 42"
      ]
     },
     "metadata": {},
     "output_type": "display_data"
    }
   ],
   "source": [
    "fortytwo_array = fill(42, 100)"
   ]
  },
  {
   "cell_type": "code",
   "execution_count": 168,
   "metadata": {},
   "outputs": [
    {
     "data": {
      "text/plain": [
       "100-element Vector{Int64}:\n",
       " 95\n",
       " 66\n",
       " 94\n",
       " 17\n",
       " 59\n",
       " 69\n",
       " 96\n",
       " 22\n",
       " 23\n",
       " 15\n",
       "  ⋮\n",
       " 34\n",
       " 27\n",
       " 45\n",
       " 51\n",
       " 50\n",
       "  2\n",
       " 29\n",
       " 76\n",
       " 39"
      ]
     },
     "metadata": {},
     "output_type": "display_data"
    }
   ],
   "source": [
    "random_array = rand(1:100, 100)"
   ]
  },
  {
   "attachments": {},
   "cell_type": "markdown",
   "metadata": {},
   "source": [
    "## Working with text"
   ]
  },
  {
   "attachments": {},
   "cell_type": "markdown",
   "metadata": {},
   "source": [
    "The `Char` type in Julia"
   ]
  },
  {
   "cell_type": "code",
   "execution_count": 169,
   "metadata": {},
   "outputs": [
    {
     "data": {
      "text/plain": [
       "'A': ASCII/Unicode U+0041 (category Lu: Letter, uppercase)"
      ]
     },
     "metadata": {},
     "output_type": "display_data"
    }
   ],
   "source": [
    "a = 'A'"
   ]
  },
  {
   "cell_type": "code",
   "execution_count": 170,
   "metadata": {},
   "outputs": [
    {
     "data": {
      "text/plain": [
       "Char"
      ]
     },
     "metadata": {},
     "output_type": "display_data"
    }
   ],
   "source": [
    "eltype(a)"
   ]
  },
  {
   "attachments": {},
   "cell_type": "markdown",
   "metadata": {},
   "source": [
    "### Join vs. collect"
   ]
  },
  {
   "cell_type": "code",
   "execution_count": 171,
   "metadata": {},
   "outputs": [
    {
     "data": {
      "text/plain": [
       "\"ABC\""
      ]
     },
     "metadata": {},
     "output_type": "display_data"
    }
   ],
   "source": [
    "join('A':'C')"
   ]
  },
  {
   "cell_type": "code",
   "execution_count": 172,
   "metadata": {},
   "outputs": [
    {
     "data": {
      "text/plain": [
       "\"ACEGIKMOQSUWY\""
      ]
     },
     "metadata": {},
     "output_type": "display_data"
    }
   ],
   "source": [
    "letters = join('A':2:'Z') # Join every other letter from A to Z"
   ]
  },
  {
   "cell_type": "code",
   "execution_count": 173,
   "metadata": {},
   "outputs": [
    {
     "data": {
      "text/plain": [
       "13-element Vector{Char}:\n",
       " 'A': ASCII/Unicode U+0041 (category Lu: Letter, uppercase)\n",
       " 'C': ASCII/Unicode U+0043 (category Lu: Letter, uppercase)\n",
       " 'E': ASCII/Unicode U+0045 (category Lu: Letter, uppercase)\n",
       " 'G': ASCII/Unicode U+0047 (category Lu: Letter, uppercase)\n",
       " 'I': ASCII/Unicode U+0049 (category Lu: Letter, uppercase)\n",
       " 'K': ASCII/Unicode U+004B (category Lu: Letter, uppercase)\n",
       " 'M': ASCII/Unicode U+004D (category Lu: Letter, uppercase)\n",
       " 'O': ASCII/Unicode U+004F (category Lu: Letter, uppercase)\n",
       " 'Q': ASCII/Unicode U+0051 (category Lu: Letter, uppercase)\n",
       " 'S': ASCII/Unicode U+0053 (category Lu: Letter, uppercase)\n",
       " 'U': ASCII/Unicode U+0055 (category Lu: Letter, uppercase)\n",
       " 'W': ASCII/Unicode U+0057 (category Lu: Letter, uppercase)\n",
       " 'Y': ASCII/Unicode U+0059 (category Lu: Letter, uppercase)"
      ]
     },
     "metadata": {},
     "output_type": "display_data"
    }
   ],
   "source": [
    "letter_vector = collect(letters)"
   ]
  },
  {
   "cell_type": "code",
   "execution_count": 174,
   "metadata": {},
   "outputs": [
    {
     "data": {
      "text/plain": [
       "'A': ASCII/Unicode U+0041 (category Lu: Letter, uppercase)"
      ]
     },
     "metadata": {},
     "output_type": "display_data"
    }
   ],
   "source": [
    "letter_vector[begin]"
   ]
  },
  {
   "cell_type": "code",
   "execution_count": 175,
   "metadata": {},
   "outputs": [
    {
     "data": {
      "text/plain": [
       "'Y': ASCII/Unicode U+0059 (category Lu: Letter, uppercase)"
      ]
     },
     "metadata": {},
     "output_type": "display_data"
    }
   ],
   "source": [
    "letter_vector[end]"
   ]
  },
  {
   "attachments": {},
   "cell_type": "markdown",
   "metadata": {},
   "source": [
    "## Using reduce"
   ]
  },
  {
   "cell_type": "code",
   "execution_count": 176,
   "metadata": {},
   "outputs": [
    {
     "data": {
      "text/plain": [
       "3628800"
      ]
     },
     "metadata": {},
     "output_type": "display_data"
    }
   ],
   "source": [
    "factorial(10)"
   ]
  },
  {
   "cell_type": "code",
   "execution_count": 177,
   "metadata": {},
   "outputs": [
    {
     "data": {
      "text/plain": [
       "3628800"
      ]
     },
     "metadata": {},
     "output_type": "display_data"
    }
   ],
   "source": [
    "reduce(*, 1:10)"
   ]
  },
  {
   "cell_type": "code",
   "execution_count": 178,
   "metadata": {},
   "outputs": [
    {
     "data": {
      "text/plain": [
       "5050"
      ]
     },
     "metadata": {},
     "output_type": "display_data"
    }
   ],
   "source": [
    "stats.sum(collect(1:100))"
   ]
  },
  {
   "cell_type": "code",
   "execution_count": 179,
   "metadata": {},
   "outputs": [
    {
     "data": {
      "text/plain": [
       "5050"
      ]
     },
     "metadata": {},
     "output_type": "display_data"
    }
   ],
   "source": [
    "reduce(+, 1:100)"
   ]
  },
  {
   "attachments": {},
   "cell_type": "markdown",
   "metadata": {},
   "source": [
    "## Dictionaries"
   ]
  },
  {
   "attachments": {},
   "cell_type": "markdown",
   "metadata": {},
   "source": [
    "We create a dictionary with Roman literals following the book \"Julia as a second language\""
   ]
  },
  {
   "cell_type": "code",
   "execution_count": 180,
   "metadata": {},
   "outputs": [
    {
     "data": {
      "text/plain": [
       "Dict{Char, Int64} with 7 entries:\n",
       "  'M' => 1000\n",
       "  'D' => 500\n",
       "  'I' => 1\n",
       "  'L' => 50\n",
       "  'V' => 5\n",
       "  'X' => 10\n",
       "  'C' => 100"
      ]
     },
     "metadata": {},
     "output_type": "display_data"
    }
   ],
   "source": [
    "roman_numerals = Dict('M' => 1000,\n",
    "                      'D' => 500,\n",
    "                      'I' => 1,\n",
    "                      'L' => 50,\n",
    "                      'V' => 5,\n",
    "                      'X' => 10,\n",
    "                      'C' => 100)"
   ]
  },
  {
   "cell_type": "code",
   "execution_count": 181,
   "metadata": {},
   "outputs": [
    {
     "data": {
      "text/plain": [
       "KeySet for a Dict{Char, Int64} with 7 entries. Keys:\n",
       "  'M'\n",
       "  'D'\n",
       "  'I'\n",
       "  'L'\n",
       "  'V'\n",
       "  'X'\n",
       "  'C'"
      ]
     },
     "metadata": {},
     "output_type": "display_data"
    }
   ],
   "source": [
    "keys(roman_numerals)"
   ]
  },
  {
   "cell_type": "code",
   "execution_count": 182,
   "metadata": {},
   "outputs": [
    {
     "data": {
      "text/plain": [
       "ValueIterator for a Dict{Char, Int64} with 7 entries. Values:\n",
       "  1000\n",
       "  500\n",
       "  1\n",
       "  50\n",
       "  5\n",
       "  10\n",
       "  100"
      ]
     },
     "metadata": {},
     "output_type": "display_data"
    }
   ],
   "source": [
    "values(roman_numerals)"
   ]
  },
  {
   "cell_type": "code",
   "execution_count": 183,
   "metadata": {},
   "outputs": [
    {
     "name": "stdout",
     "output_type": "stream",
     "text": [
      "M 1000\n",
      "D 500\n",
      "I 1\n",
      "L 50\n",
      "V 5\n",
      "X 10\n",
      "C 100\n"
     ]
    }
   ],
   "source": [
    "for (key, value) in roman_numerals\n",
    "    println(key, \" \", value)\n",
    "end"
   ]
  },
  {
   "attachments": {},
   "cell_type": "markdown",
   "metadata": {},
   "source": [
    "### Other ways to create dictionaries"
   ]
  },
  {
   "attachments": {},
   "cell_type": "markdown",
   "metadata": {},
   "source": [
    "#### From list of tuples"
   ]
  },
  {
   "cell_type": "code",
   "execution_count": 184,
   "metadata": {},
   "outputs": [
    {
     "data": {
      "text/plain": [
       "3-element Vector{Tuple{String, Int64}}:\n",
       " (\"pizza1\", 10)\n",
       " (\"pizza2\", 15)\n",
       " (\"pizza3\", 18)"
      ]
     },
     "metadata": {},
     "output_type": "display_data"
    }
   ],
   "source": [
    "tuple_list = [(\"pizza1\", 10), (\"pizza2\", 15), (\"pizza3\", 18)]"
   ]
  },
  {
   "cell_type": "code",
   "execution_count": 186,
   "metadata": {},
   "outputs": [
    {
     "data": {
      "text/plain": [
       "Dict{String, Int64} with 3 entries:\n",
       "  \"pizza1\" => 10\n",
       "  \"pizza2\" => 15\n",
       "  \"pizza3\" => 18"
      ]
     },
     "metadata": {},
     "output_type": "display_data"
    }
   ],
   "source": [
    "pizza_dict = Dict(tuple_list)"
   ]
  },
  {
   "cell_type": "code",
   "execution_count": 188,
   "metadata": {},
   "outputs": [
    {
     "data": {
      "text/plain": [
       "10"
      ]
     },
     "metadata": {},
     "output_type": "display_data"
    }
   ],
   "source": [
    "pizza_dict[\"pizza1\"]"
   ]
  },
  {
   "cell_type": "code",
   "execution_count": 197,
   "metadata": {},
   "outputs": [
    {
     "data": {
      "text/plain": [
       "10-element Vector{String}:\n",
       " \"value1\"\n",
       " \"value2\"\n",
       " \"value3\"\n",
       " \"value4\"\n",
       " \"value5\"\n",
       " \"value6\"\n",
       " \"value7\"\n",
       " \"value8\"\n",
       " \"value9\"\n",
       " \"value10\""
      ]
     },
     "metadata": {},
     "output_type": "display_data"
    }
   ],
   "source": [
    "dict_keys = [string(\"value\", i) for i in 1:10]"
   ]
  },
  {
   "cell_type": "code",
   "execution_count": 198,
   "metadata": {},
   "outputs": [
    {
     "data": {
      "text/plain": [
       "10-element Vector{Int64}:\n",
       "  1\n",
       "  2\n",
       "  3\n",
       "  4\n",
       "  5\n",
       "  6\n",
       "  7\n",
       "  8\n",
       "  9\n",
       " 10"
      ]
     },
     "metadata": {},
     "output_type": "display_data"
    }
   ],
   "source": [
    "dict_values = [i for i in 1:10]"
   ]
  },
  {
   "cell_type": "code",
   "execution_count": 199,
   "metadata": {},
   "outputs": [
    {
     "data": {
      "text/plain": [
       "Dict{String, Int64} with 10 entries:\n",
       "  \"value1\"  => 1\n",
       "  \"value5\"  => 5\n",
       "  \"value2\"  => 2\n",
       "  \"value7\"  => 7\n",
       "  \"value10\" => 10\n",
       "  \"value9\"  => 9\n",
       "  \"value8\"  => 8\n",
       "  \"value4\"  => 4\n",
       "  \"value3\"  => 3\n",
       "  \"value6\"  => 6"
      ]
     },
     "metadata": {},
     "output_type": "display_data"
    }
   ],
   "source": [
    "value_dict = Dict(zip(dict_keys, dict_values))"
   ]
  },
  {
   "attachments": {},
   "cell_type": "markdown",
   "metadata": {},
   "source": [
    "### Access a certain value using the corresponding key"
   ]
  },
  {
   "cell_type": "code",
   "execution_count": 200,
   "metadata": {},
   "outputs": [
    {
     "data": {
      "text/plain": [
       "1"
      ]
     },
     "metadata": {},
     "output_type": "display_data"
    }
   ],
   "source": [
    "value_dict[\"value1\"]"
   ]
  },
  {
   "attachments": {},
   "cell_type": "markdown",
   "metadata": {},
   "source": [
    "### Add a value that does not exist at the moment"
   ]
  },
  {
   "cell_type": "code",
   "execution_count": 201,
   "metadata": {},
   "outputs": [
    {
     "data": {
      "text/plain": [
       "11"
      ]
     },
     "metadata": {},
     "output_type": "display_data"
    }
   ],
   "source": [
    "value_dict[\"value11\"] = 11"
   ]
  },
  {
   "cell_type": "code",
   "execution_count": 204,
   "metadata": {},
   "outputs": [
    {
     "data": {
      "text/plain": [
       "true"
      ]
     },
     "metadata": {},
     "output_type": "display_data"
    }
   ],
   "source": [
    "haskey(value_dict, \"value11\")"
   ]
  },
  {
   "cell_type": "code",
   "execution_count": 205,
   "metadata": {},
   "outputs": [
    {
     "data": {
      "text/plain": [
       "false"
      ]
     },
     "metadata": {},
     "output_type": "display_data"
    }
   ],
   "source": [
    "haskey(value_dict, \"value12\")"
   ]
  },
  {
   "attachments": {},
   "cell_type": "markdown",
   "metadata": {},
   "source": [
    "# Sets"
   ]
  },
  {
   "attachments": {},
   "cell_type": "markdown",
   "metadata": {},
   "source": [
    "Sets are collections of unique elements. They make addition of elements, removal of elements, and searching very fast"
   ]
  },
  {
   "cell_type": "code",
   "execution_count": 1,
   "metadata": {},
   "outputs": [
    {
     "data": {
      "text/plain": [
       "Set{Int64} with 4 elements:\n",
       "  4\n",
       "  2\n",
       "  3\n",
       "  1"
      ]
     },
     "metadata": {},
     "output_type": "display_data"
    }
   ],
   "source": [
    "set1 = Set([1, 2, 3, 4, 2])"
   ]
  },
  {
   "cell_type": "code",
   "execution_count": 2,
   "metadata": {},
   "outputs": [
    {
     "data": {
      "text/plain": [
       "Set{Int64} with 4 elements:\n",
       "  4\n",
       "  2\n",
       "  3\n",
       "  1"
      ]
     },
     "metadata": {},
     "output_type": "display_data"
    }
   ],
   "source": [
    "set1"
   ]
  },
  {
   "cell_type": "code",
   "execution_count": 7,
   "metadata": {},
   "outputs": [
    {
     "data": {
      "text/plain": [
       "true"
      ]
     },
     "metadata": {},
     "output_type": "display_data"
    }
   ],
   "source": [
    "2 in set1"
   ]
  },
  {
   "cell_type": "code",
   "execution_count": 8,
   "metadata": {},
   "outputs": [
    {
     "data": {
      "text/plain": [
       "true"
      ]
     },
     "metadata": {},
     "output_type": "display_data"
    }
   ],
   "source": [
    "issubset([2,3], set1)"
   ]
  },
  {
   "attachments": {},
   "cell_type": "markdown",
   "metadata": {},
   "source": [
    "Array vs. Set"
   ]
  },
  {
   "cell_type": "code",
   "execution_count": 9,
   "metadata": {},
   "outputs": [
    {
     "data": {
      "text/plain": [
       "Set{Int64} with 10 elements:\n",
       "  5\n",
       "  4\n",
       "  6\n",
       "  7\n",
       "  2\n",
       "  10\n",
       "  9\n",
       "  8\n",
       "  3\n",
       "  1"
      ]
     },
     "metadata": {},
     "output_type": "display_data"
    }
   ],
   "source": [
    "S = Set(collect(1:10))"
   ]
  },
  {
   "cell_type": "code",
   "execution_count": 12,
   "metadata": {},
   "outputs": [
    {
     "data": {
      "text/plain": [
       "Set{Int64} with 11 elements:\n",
       "  5\n",
       "  8\n",
       "  1\n",
       "  6\n",
       "  11\n",
       "  9\n",
       "  3\n",
       "  7\n",
       "  4\n",
       "  2\n",
       "  10"
      ]
     },
     "metadata": {},
     "output_type": "display_data"
    }
   ],
   "source": [
    "push!(S, 11)"
   ]
  },
  {
   "cell_type": "code",
   "execution_count": 10,
   "metadata": {},
   "outputs": [
    {
     "data": {
      "text/plain": [
       "10-element Vector{Int64}:\n",
       "  1\n",
       "  2\n",
       "  3\n",
       "  4\n",
       "  5\n",
       "  6\n",
       "  7\n",
       "  8\n",
       "  9\n",
       " 10"
      ]
     },
     "metadata": {},
     "output_type": "display_data"
    }
   ],
   "source": [
    "A = [1:10...]"
   ]
  },
  {
   "cell_type": "code",
   "execution_count": 13,
   "metadata": {},
   "outputs": [
    {
     "data": {
      "text/plain": [
       "11-element Vector{Int64}:\n",
       "  1\n",
       "  2\n",
       "  3\n",
       "  4\n",
       "  5\n",
       "  6\n",
       "  7\n",
       "  8\n",
       "  9\n",
       " 10\n",
       " 11"
      ]
     },
     "metadata": {},
     "output_type": "display_data"
    }
   ],
   "source": [
    "push!(A, 11)"
   ]
  },
  {
   "attachments": {},
   "cell_type": "markdown",
   "metadata": {},
   "source": [
    "## Intersection and union in sets"
   ]
  },
  {
   "cell_type": "code",
   "execution_count": 16,
   "metadata": {},
   "outputs": [
    {
     "data": {
      "text/plain": [
       "Set{Int64} with 5 elements:\n",
       "  5\n",
       "  7\n",
       "  9\n",
       "  3\n",
       "  1"
      ]
     },
     "metadata": {},
     "output_type": "display_data"
    }
   ],
   "source": [
    "A = Set(1:2:10)"
   ]
  },
  {
   "cell_type": "code",
   "execution_count": 17,
   "metadata": {},
   "outputs": [
    {
     "data": {
      "text/plain": [
       "Set{Int64} with 10 elements:\n",
       "  5\n",
       "  13\n",
       "  15\n",
       "  7\n",
       "  11\n",
       "  9\n",
       "  17\n",
       "  3\n",
       "  1\n",
       "  19"
      ]
     },
     "metadata": {},
     "output_type": "display_data"
    }
   ],
   "source": [
    "B = Set(1:2:20)"
   ]
  },
  {
   "cell_type": "code",
   "execution_count": 18,
   "metadata": {},
   "outputs": [
    {
     "data": {
      "text/plain": [
       "Set{Int64} with 5 elements:\n",
       "  5\n",
       "  7\n",
       "  9\n",
       "  3\n",
       "  1"
      ]
     },
     "metadata": {},
     "output_type": "display_data"
    }
   ],
   "source": [
    "intersect(A,B)"
   ]
  },
  {
   "cell_type": "code",
   "execution_count": 19,
   "metadata": {},
   "outputs": [
    {
     "data": {
      "text/plain": [
       "Set{Int64} with 10 elements:\n",
       "  5\n",
       "  7\n",
       "  17\n",
       "  1\n",
       "  19\n",
       "  13\n",
       "  15\n",
       "  11\n",
       "  9\n",
       "  3"
      ]
     },
     "metadata": {},
     "output_type": "display_data"
    }
   ],
   "source": [
    "union(A,B)"
   ]
  },
  {
   "cell_type": "code",
   "execution_count": 21,
   "metadata": {},
   "outputs": [
    {
     "data": {
      "text/plain": [
       "Set{Int64}()"
      ]
     },
     "metadata": {},
     "output_type": "display_data"
    }
   ],
   "source": [
    "setdiff(A,B) # To find the difference between the two, order matters with this"
   ]
  }
 ],
 "metadata": {
  "kernelspec": {
   "display_name": "Julia 1.8.5",
   "language": "julia",
   "name": "julia-1.8"
  },
  "language_info": {
   "file_extension": ".jl",
   "mimetype": "application/julia",
   "name": "julia",
   "version": "1.8.5"
  },
  "orig_nbformat": 4
 },
 "nbformat": 4,
 "nbformat_minor": 2
}
